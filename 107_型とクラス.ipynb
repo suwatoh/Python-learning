{
  "nbformat": 4,
  "nbformat_minor": 0,
  "metadata": {
    "colab": {
      "provenance": [],
      "toc_visible": true,
      "authorship_tag": "ABX9TyPRX7NfqRcVqMcDCsDOLVkG",
      "include_colab_link": true
    },
    "kernelspec": {
      "name": "python3",
      "display_name": "Python 3"
    },
    "language_info": {
      "name": "python"
    }
  },
  "cells": [
    {
      "cell_type": "markdown",
      "metadata": {
        "id": "view-in-github",
        "colab_type": "text"
      },
      "source": [
        "<a href=\"https://colab.research.google.com/github/suwatoh/Python-learning/blob/main/107_%E5%9E%8B%E3%81%A8%E3%82%AF%E3%83%A9%E3%82%B9.ipynb\" target=\"_parent\"><img src=\"https://colab.research.google.com/assets/colab-badge.svg\" alt=\"Open In Colab\"/></a>"
      ]
    },
    {
      "cell_type": "markdown",
      "source": [
        "型とクラス\n",
        "=========="
      ],
      "metadata": {
        "id": "OQoHhW92PXio"
      }
    },
    {
      "cell_type": "markdown",
      "source": [
        "インスタンス化と継承\n",
        "--------------------"
      ],
      "metadata": {
        "id": "ad78ZFkJar6R"
      }
    },
    {
      "cell_type": "markdown",
      "source": [
        "**クラス**（class）は、型を定義する。クラスが型であるオブジェクトのことを、そのクラスの**インスタンス**（instance）と呼ぶ。インスタンスを生成することを**インスタンス化**（instantiation）という。\n",
        "\n",
        "クラスごとに新たな名前空間が作成され、ローカルな名前空間として使われる。また、クラス定義のブロックは独自のスコープを持ち、クラスのローカルな名前空間にアクセスできる。\n",
        "\n",
        "Python のクラス機構については、[公式チュートリアル](https://docs.python.org/ja/3/tutorial/classes.html#a-first-look-at-classes) でほぼ十分。\n",
        "\n",
        "他の言語とクラス機構を比較すると、次のようになる。\n",
        "\n",
        "| 言語 | 多重継承 | カプセル化 | オーバーライド | 抽象クラス | インターフェース |\n",
        "|:-:|:-:|:-:|:-:|:-:|:-:|\n",
        "| C++ | 〇 | 〇 | virtualのみ | 〇 | ×(多重継承と純粋仮想関数で対応) |\n",
        "| Java | × | 〇 | 任意のメソッド | 〇 | 〇 |\n",
        "| C# | × | 〇 | virtualのみ | 〇 | 〇 |\n",
        "| JavaScript | × | 〇(ECMAScript 2022) | 任意のメソッド | × | × |\n",
        "| Python | 〇 | ×(難読化は可能) | 任意のメソッド | ×(標準ライブラリで対応) | × |\n",
        "\n",
        "組み込み関数 `issubclass(class, classinfo)` は、`class` に指定したクラスが、`classinfo` に指定したクラスの（直接または間接の）サブクラスであるかどうかチェックする。`classinfo` にクラスのタプルを渡すことができ、その中のどれか 1 つから継承しているかどうかをチェックする。\n",
        "\n",
        "Python のクラスはすべて `object` クラスから継承している。"
      ],
      "metadata": {
        "id": "YSCYa3pZI8Ku"
      }
    },
    {
      "cell_type": "code",
      "source": [
        "class MyClass:\n",
        "    pass\n",
        "\n",
        "assert issubclass(MyClass, object)"
      ],
      "metadata": {
        "id": "admbFGMgI-SL"
      },
      "execution_count": null,
      "outputs": []
    },
    {
      "cell_type": "markdown",
      "source": [
        "Python において、クラスもオブジェクトであり、`type` のインスタンスである。つまり、組み込みのクラスもユーザー定義のクラスも型を持ち、それは `type` である。`object` クラスの型も `type` である。"
      ],
      "metadata": {
        "id": "anMbNziiiRle"
      }
    },
    {
      "cell_type": "code",
      "source": [
        "assert isinstance(int, type)\n",
        "assert isinstance(MyClass, type)\n",
        "assert isinstance(object, type)"
      ],
      "metadata": {
        "id": "rR8b_cmaiSlx"
      },
      "execution_count": null,
      "outputs": []
    },
    {
      "cell_type": "markdown",
      "source": [
        "`MyClass` のサブクラスとして新しいクラス `MySubClass` を追加したとき、`MySubClass` は `MyClass` から継承しているが、`type` のインスタンスであることには変わらない。"
      ],
      "metadata": {
        "id": "j0y-dbep3thg"
      }
    },
    {
      "cell_type": "code",
      "source": [
        "class MySubClass(MyClass):\n",
        "    pass\n",
        "\n",
        "assert issubclass(MySubClass, MyClass)\n",
        "assert isinstance(MySubClass, type)"
      ],
      "metadata": {
        "id": "RlH7QgqT3wpo"
      },
      "execution_count": null,
      "outputs": []
    },
    {
      "cell_type": "markdown",
      "source": [
        "クラスは `type` のインスタンスであるから、`type` そのものはクラスである。`type` クラスの型は `type` である。また、`type` クラスは、他のクラスと同様に `object` クラスから継承している。"
      ],
      "metadata": {
        "id": "QlJo5ypEy9Qg"
      }
    },
    {
      "cell_type": "code",
      "source": [
        "assert isinstance(type, type)\n",
        "assert issubclass(type, object)"
      ],
      "metadata": {
        "id": "DDtCFqYgUxsY"
      },
      "execution_count": null,
      "outputs": []
    },
    {
      "cell_type": "markdown",
      "source": [
        "以上をまとめると、次の図のようになる（[POSTD の記事](https://postd.cc/pythons-objects-and-classes-a-visual-guide/)から引用）。`m` はクラス `MyClass` のインスタンス、`s` はクラス `MySubClass` のインスタンスとし、型と継承元を示すポインタを描いている。\n",
        "\n",
        "![](https://postd.cc/wp/wp-content/uploads/2015/11/Python-objects-81.png)"
      ],
      "metadata": {
        "id": "8PNCOA8pWirl"
      }
    },
    {
      "cell_type": "markdown",
      "source": [
        "メタクラス\n",
        "----------"
      ],
      "metadata": {
        "id": "rvR5u0vla1FO"
      }
    },
    {
      "cell_type": "markdown",
      "source": [
        "`type` のように、クラスの型となるものを**メタクラス**（meta class）という。\n",
        "\n",
        "クラスのインスタンスがコンストラクタで生成されるように、クラスはメタクラスのインスタンス（クラスオブジェクトとも呼ばれる）としてコンストラクタで生成される。クラス定義は実行可能な文であり、クラス定義の実行はメタクラスのコンストラクタを呼び出すのとほとんど同じである。デフォルトで `type` がメタクラスに使用されるため、クラスは `type` のインスタンスとなっているのである。たとえば\n",
        "\n",
        "``` python\n",
        "class X:\n",
        "    a = 1\n",
        "```\n",
        "\n",
        "は\n",
        "\n",
        "``` python\n",
        "X = type(\"X\", (), dict(a=1))\n",
        "```\n",
        "\n",
        "とほとんど同じである。このように、`type()` 関数は、3 個の引数が渡される場合、新しいクラスオブジェクトを返す。3 個の引数は、左から順に、クラスオブジェクトが持つ次の 3 つの属性を設定する。\n",
        "\n",
        "| 特殊属性 | 意味 |\n",
        "|:--|:----|\n",
        "| `__name__` | 名前 |\n",
        "| `__bases__` | 基底クラスのタプル |\n",
        "| `__dict__` | 属性辞書（クラスの名前空間の実装）。組み込み関数 `vars()` はこの値を返す |\n",
        "\n",
        "`type()` 関数を使うことでクラスを動的に定義することができる。\n",
        "\n",
        "次のコードでは、`list` を継承し、要素の文字列を空白区切りで連結するメソッド `concat()` を持つ `StrList` クラス（クラスオブジェクト）を `type()` で生成している。"
      ],
      "metadata": {
        "id": "n-HnBQLf80H1"
      }
    },
    {
      "cell_type": "code",
      "source": [
        "def concat(self):\n",
        "    ret = \"\"\n",
        "    for s in self:\n",
        "        if ret:\n",
        "            ret += \" \" + s\n",
        "        else:\n",
        "            ret = s\n",
        "    return ret\n",
        "\n",
        "StrList = type(\"StrList\", (list,), {\"concat\": concat})\n",
        "\n",
        "# インスタンス化\n",
        "sl = StrList((\"peek\", \"a\"))\n",
        "sl.append(\"boo\")\n",
        "slang = sl.concat()\n",
        "print(slang)"
      ],
      "metadata": {
        "colab": {
          "base_uri": "https://localhost:8080/"
        },
        "id": "mfz4SyKHrxTZ",
        "outputId": "273d794c-59db-486d-b245-29429829c16e"
      },
      "execution_count": null,
      "outputs": [
        {
          "output_type": "stream",
          "name": "stdout",
          "text": [
            "peek a boo\n"
          ]
        }
      ]
    },
    {
      "cell_type": "markdown",
      "source": [
        "クラス定義において `metaclass` キーワード引数で別のメタクラスを指定することにより、そのインスタンスが生成されるようにできる。つまり\n",
        "\n",
        "``` python\n",
        "class MyClass(metaclass=Meta):\n",
        "    pass\n",
        "```\n",
        "\n",
        "は\n",
        "\n",
        "``` python\n",
        "MyClass = Meta(\"MyClass\", (object,), {})\n",
        "```\n",
        "\n",
        "とほとんど等価である。次の例で `MyClass` と `MySubclass` は両方とも `Meta` のインスタンスである:"
      ],
      "metadata": {
        "id": "F1oRZujYkW7a"
      }
    },
    {
      "cell_type": "code",
      "source": [
        "class Meta(type):\n",
        "    pass\n",
        "\n",
        "class MyClass(metaclass=Meta):\n",
        "    pass\n",
        "\n",
        "class MySubclass(MyClass):\n",
        "    pass\n",
        "\n",
        "assert isinstance(MyClass, Meta)\n",
        "assert isinstance(MySubclass, Meta)"
      ],
      "metadata": {
        "id": "xIdGJjEj6FEE"
      },
      "execution_count": null,
      "outputs": []
    },
    {
      "cell_type": "markdown",
      "source": [
        "クラス定義が実行されると、`metaclass(name, bases, namespace, **kwds)` が呼び出されてクラスオブジェクトが生成されるわけだが、デフォルトのメタクラス `type` か `type` を継承するメタクラスを使っているときは、`type.__new__()` メソッドが呼び出され、オブジェクト生成の主な作業が行われる。このメソッドは特別扱いされ、自動的にスタティックメソッドとなる。\n",
        "\n",
        "``` python\n",
        "type.__new__(cls, name, bases, namespace, **kwargs)\n",
        "```\n",
        "\n",
        "第 1 引数の `cls` にはメタクラスが渡される。\n",
        "\n",
        "また、クラスオブジェクトの生成後、処理が戻される前に、`type.__init__()` メソッドが呼び出される。\n",
        "\n",
        "``` python\n",
        "type.__init__(self, name, bases, namespace, **kwargs)\n",
        "```\n",
        "\n",
        "`type.__new__()` や `type.__init__()` をオーバーライドすれば、クラス生成をカスタマイズできる。\n",
        "\n",
        "次のコードでは、`type` を継承するメタクラス `Meta` において、`__new__()` をオーバーライドして、追加する属性やメソッドの名前にアンダースコア `'_'` が付くようにしている。また、`__init__()` をオーバーライドして、デフォルトで `say()` メソッドが提供されるようにしている。"
      ],
      "metadata": {
        "id": "hQJsdG_d63xB"
      }
    },
    {
      "cell_type": "code",
      "source": [
        "def say(self):\n",
        "    print(\"Hello, world!\")\n",
        "\n",
        "\n",
        "class Meta(type):\n",
        "    def __new__(cls, name, bases, namespace, **kwargs):\n",
        "        concealment = dict((\"_\" + k, v) for k, v in namespace.items())\n",
        "        return super().__new__(cls, name, bases, concealment, **kwargs)\n",
        "\n",
        "    def __init__(self, name, bases, namespace, **kwargs):\n",
        "        super().__init__(name, bases, namespace, **kwargs)\n",
        "        self.say = say\n",
        "\n",
        "\n",
        "class MyClass(metaclass=Meta):\n",
        "    def test(self):\n",
        "        print(\"This is a test.\")\n",
        "\n",
        "\n",
        "m = MyClass()\n",
        "m.say()  # say() メソッドはクラス定義では定義されてなく、継承もしていないが、利用可能である\n",
        "m._test()  # test() メソッドの名前は _test に変更されている\n",
        "try:\n",
        "    m.test()  # test という名前でメソッドを呼び出すとエラーが発生する\n",
        "except AttributeError as err:\n",
        "    print(f\"{type(err).__name__}: {err}\")"
      ],
      "metadata": {
        "colab": {
          "base_uri": "https://localhost:8080/"
        },
        "id": "Xpj-FADWkZ2O",
        "outputId": "46360ab1-f1cf-4568-d86f-1fcd81f283ad"
      },
      "execution_count": null,
      "outputs": [
        {
          "output_type": "stream",
          "name": "stdout",
          "text": [
            "Hello, world!\n",
            "This is a test.\n",
            "AttributeError: 'MyClass' object has no attribute 'test'\n"
          ]
        }
      ]
    },
    {
      "cell_type": "markdown",
      "source": [
        "super()\n",
        "-------"
      ],
      "metadata": {
        "id": "wfp_qicFBkcT"
      }
    },
    {
      "cell_type": "markdown",
      "source": [
        "先のコード例で組み込み関数 `super()` が使用されていたが、メソッドのオーバーライドを行うに際しては、基本的な処理を基底クラスのメソッドに委譲するため、`super()` を呼び出すことが基本である。\n",
        "\n",
        "``` python\n",
        "super(type, object_or_type=None)\n",
        "```\n",
        "\n",
        "この関数は、ドット `.` 構文で使われると、後ろに続くメソッドをメソッド解決順序（method resolution order; MRO）で検索し、そうして見つかったメソッドを持つ基底クラスを返す。MRO は `object_or_type` の特殊属性 `__mro__` を参照すれば知ることができる。この属性は動的で、継承の階層構造が更新されれば変化する。`super()` をメソッドの中で使うとき、`super()` の引数は省略できる。"
      ],
      "metadata": {
        "id": "o7KfKp4wAFUS"
      }
    },
    {
      "cell_type": "code",
      "source": [
        "class A:\n",
        "    def echo(self):\n",
        "        print(\"A\")\n",
        "\n",
        "class B(A):\n",
        "    pass\n",
        "\n",
        "class C(B):\n",
        "    def echo(self):\n",
        "        print(\"C\", end=\", \")\n",
        "        super().echo()  # super(C, self).echo() と同じ\n",
        "\n",
        "c = C()\n",
        "super(C, c).echo()\n",
        "c.echo()\n",
        "print(f\"{C.__mro__=}\")"
      ],
      "metadata": {
        "colab": {
          "base_uri": "https://localhost:8080/"
        },
        "id": "hquvOh9hoqQN",
        "outputId": "84dbb2ed-56a9-49e2-91b3-c69d0b0b3349"
      },
      "execution_count": null,
      "outputs": [
        {
          "output_type": "stream",
          "name": "stdout",
          "text": [
            "A\n",
            "C, A\n",
            "C.__mro__=(<class '__main__.C'>, <class '__main__.B'>, <class '__main__.A'>, <class 'object'>)\n"
          ]
        }
      ]
    },
    {
      "cell_type": "markdown",
      "source": [
        "特殊メソッド\n",
        "------------"
      ],
      "metadata": {
        "id": "04EZZks9a6bx"
      }
    },
    {
      "cell_type": "markdown",
      "source": [
        "`type` の基底クラスである `object` クラスも、`__new__()` や `__init__()` メソッドを持つ。これらのように、オブジェクトの振る舞いを決める、特殊な名前のメソッドが定義されている。\n",
        "\n",
        "| メソッド | 機能 | 備考 |\n",
        "|:--|:----|:----|\n",
        "| `__new__(cls[, ...])` | スタティックメソッドであり、`cls` に指定したクラスの新しいイン<br />スタンスを返す。残りの引数はオブジェクトのコンストラクタの式<br />（クラスの呼び出し文）に渡される | クラスのコンストラクタ式を評価するときに呼び<br />出される |\n",
        "| `__init__(self[, ...])` | インスタンスが `__new__()` によって生成された後、それが呼び出<br />し元に返される前に呼び出される。`self` は新たに生成されたイ<br />ンスタンスで、残りの引数はクラスのコンストラクタ式に渡したも<br />のである。`__new__()` がインスタンスを生成しないとき、<br />`__init__()` は呼び出されない | イニシャライザと呼ばれる |\n",
        "| `__repr__(self)` | 同じ値のオブジェクトを再生成するのに使える、有効な Python 式<br />のような文字列を返す | 組み込み関数 `repr()` によって呼び出される |\n",
        "| `__str__(self)` | オブジェクトを表現する文字列を返す（`object` のデフォルト実装<br />は `__repr__()` を呼び出す） | 組み込み関数 `str()`、`format()`、`print()` に<br />よって呼び出される |\n",
        "| `__dir__(self)` | 属性のリストを返す | 組み込み関数 `dir()` によって呼び出される |\n",
        "| ` __hash__(self)` | ハッシュ値を返す | 組み込み関数 `hash()` によって呼び出される |\n",
        "| `__bool__(self)` | ブール値（`False` または `True`）を返す | 組み込み関数 `bool()` によって呼び出される |\n",
        "| `__eq__(self, other)` | 等しい | 演算子 `==` によって呼び出される |\n",
        "| `__ne__(self, other)` | 等しくない | 演算子 `!=` によって呼び出される |\n",
        "| `__lt__(self, other)` | 小なり | 演算子 `<` によって呼び出される |\n",
        "| `__le__(self, other)` | 小なりイコール | 演算子 `<=` によって呼び出される |\n",
        "| `__gt__(self, other)` | 大なり | 演算子 `>` によって呼び出される |\n",
        "| `__ge__(self, other)` | 大なりイコール | 演算子 `>=` によって呼び出される |\n",
        "| `__getattribute__(self, name)` | 属性参照 | 演算子 `.` などによって無条件に呼び出される |\n",
        "| `__setattr__(self, name, value)` | 属性参照 | 組み込み関数 `setattr()` によって呼び出される |\n",
        "| `__delattr__(self, name)` | 属性参照 | 組み込み関数 `delattr()` によって呼び出される |\n",
        "\n",
        "`object.__repr__()` は、オブジェクトのメモリ上のアドレスを示す `'<object object at 0x0000123456789ABC>'` 形式の文字列を出力する。しかし、クラスの `__repr__()` が返す文字列については、[公式ドキュメント](https://docs.python.org/ja/3/reference/datamodel.html#object.__repr__)によれば「同じ値のオブジェクトを再生成するのに使える、有効な Python 式のようなものであるべきです」とある。このため、定義したクラスのインスタンスに対して `repr()` の出力が必要なら、 `__repr__()` を定義しておく必要がある。"
      ],
      "metadata": {
        "id": "NKcD5cVywN51"
      }
    },
    {
      "cell_type": "code",
      "source": [
        "a = object()\n",
        "assert str(a) == repr(a) == a.__repr__()\n",
        "a  # repr(a) と同じ"
      ],
      "metadata": {
        "colab": {
          "base_uri": "https://localhost:8080/"
        },
        "id": "jWtwBY6Z0-yb",
        "outputId": "e7dfac22-4902-45fa-e858-84d25456b758"
      },
      "execution_count": null,
      "outputs": [
        {
          "output_type": "execute_result",
          "data": {
            "text/plain": [
              "<object at 0x7c904dc4bd90>"
            ]
          },
          "metadata": {},
          "execution_count": 9
        }
      ]
    },
    {
      "cell_type": "code",
      "source": [
        "class A:\n",
        "    def __init__(self, name):\n",
        "        self.name = name\n",
        "\n",
        "A(\"hoge\")"
      ],
      "metadata": {
        "colab": {
          "base_uri": "https://localhost:8080/"
        },
        "id": "6GuOw-wd1fLz",
        "outputId": "7e21d6a8-a340-4ac3-9424-06a9cd0796f7"
      },
      "execution_count": null,
      "outputs": [
        {
          "output_type": "execute_result",
          "data": {
            "text/plain": [
              "<__main__.A at 0x7c9034d91510>"
            ]
          },
          "metadata": {},
          "execution_count": 10
        }
      ]
    },
    {
      "cell_type": "code",
      "source": [
        "class A:\n",
        "    def __init__(self, name):\n",
        "        self.name = name\n",
        "\n",
        "    def __repr__(self):\n",
        "        return f\"A('{self.name}')\"\n",
        "\n",
        "A(\"hoge\")"
      ],
      "metadata": {
        "colab": {
          "base_uri": "https://localhost:8080/"
        },
        "id": "kKhzOBMI1uzJ",
        "outputId": "f4c362fd-31bd-42c9-f63d-75dfff415613"
      },
      "execution_count": null,
      "outputs": [
        {
          "output_type": "execute_result",
          "data": {
            "text/plain": [
              "A('hoge')"
            ]
          },
          "metadata": {},
          "execution_count": 11
        }
      ]
    },
    {
      "cell_type": "markdown",
      "source": [
        "式 `x == y` では、まず `x.__eq__(y)` の呼び出しが試みられ、`__eq__()` が実装されていない場合、または、`__eq__()` が `NotImplemented` を返す場合、`y.__eq__(x)` の呼び出しが試みられる。他の `other` を引数に持つ特殊メソッドでも同様の動作となる。"
      ],
      "metadata": {
        "id": "nh9tIJRx3h9u"
      }
    },
    {
      "cell_type": "code",
      "source": [
        "class X:\n",
        "    def __init__(self, val):\n",
        "        self.val = val\n",
        "\n",
        "class Y:\n",
        "    def __init__(self, val):\n",
        "        self.val = val\n",
        "\n",
        "    def __eq__(self, other):\n",
        "        return other.val != self.val  # あえて反対の評価を返す\n",
        "\n",
        "assert X(0) == Y(1)  # Y(1).__eq__(X(0)) が呼び出される"
      ],
      "metadata": {
        "id": "VHi8wVf63m-5"
      },
      "execution_count": null,
      "outputs": []
    },
    {
      "cell_type": "markdown",
      "source": [
        "`==` や `!=` 演算子によって呼び出される特殊メソッドがクラスで独自に定義される可能性があることから、PEP 8 は、`None` に対しては `==` や `!=` でなく、`is` や `is not` を使うことを推奨している。"
      ],
      "metadata": {
        "id": "RBqEhRY64xKf"
      }
    },
    {
      "cell_type": "code",
      "source": [
        "a = None\n",
        "assert a is None  # PEP 8 推奨\n",
        "assert a == None  # PEP 8 非推奨"
      ],
      "metadata": {
        "id": "u0QAHERLyWxY"
      },
      "execution_count": null,
      "outputs": []
    },
    {
      "cell_type": "markdown",
      "source": [
        "特定の型に属するオブジェクトが持つような特殊メソッドもある:\n",
        "\n",
        "| メソッド | 機能 | 備考 |\n",
        "|:--|:----|:----|\n",
        "| `__mul__(self, other)` | 乗算 | 演算子 `*` によって呼び出される |\n",
        "| `__matmul__(self, other)` | 行列積 | 演算子 `@` によって呼び出される |\n",
        "| `__truediv__(self, other)` | 除算 | 演算子 `/` によって呼び出される |\n",
        "| `__floordiv__(self, other)` | 整数除法 | 演算子 `//` によって呼び出される |\n",
        "| `__mod__(self, other)` | 剰余 | 演算子 `%` によって呼び出される |\n",
        "| `__add__(self, other)` | 加算 | 演算子 `+` によって呼び出される |\n",
        "| `__sub__(self, other)` | 減算 | 演算子 `-` によって呼び出される |\n",
        "| `__getitem__(self, key)` | インデックス参照 | 演算子 `[]` によって呼び出される |\n",
        "| `__setitem__(self, key, value)` | インデックス参照 | 演算子 `[]` によって呼び出される |\n",
        "| `__delitem__(self, key)` | インデックス参照 | 演算子 `[]` によって呼び出される |\n",
        "\n",
        "式 `x * y` の評価では、まず `x.__mul__(y)` の呼び出しが試みられ、`__mul__()` が実装されていない場合、または、`__mul__()` が `NotImplemented` を返す場合、`y.__mul__(x)` の呼び出しが試みられる。他の `other` を引数に持つ特殊メソッドでも同様の動作となる。\n",
        "\n",
        "式 `x[i]` の評価では `x.__getitem__(i)` の呼び出しが試みられ、 式 `x[i] = v` の評価では `x.__setitem__(i, v)` の呼び出しが試みられる。`x[i]` の削除では `__delitem__(i)` の呼び出しが試みられる。\n",
        "\n",
        "これらの特殊メソッドを独自に定義することによって、オブジェクトの振る舞いをカスタマイズすることができる。これは、Python で演算子オーバロードを実現する方法である。なお、`__matmul__()` をサポートする組み込み型や標準ライブラリーはなく、行列積演算子 `@` は初めからサードパーティーのライブラリーで実装されることが期待されている（実際、`Numpy` で実装された）。"
      ],
      "metadata": {
        "id": "0ZxedoCgooh9"
      }
    },
    {
      "cell_type": "code",
      "source": [
        "class MyClass:\n",
        "    def __init__(self, num):\n",
        "        self.val = num\n",
        "        self.even_num = 0\n",
        "        self.odd_num = 1\n",
        "\n",
        "    def __add__(self, other):\n",
        "        if isinstance(other, MyClass):\n",
        "            num = int(str(self.val) + str(other.val))\n",
        "            return MyClass(num)\n",
        "        else:\n",
        "            return NotImplemented\n",
        "\n",
        "    def __getitem__(self, key):\n",
        "        if not isinstance(key, int):\n",
        "            raise TypeError(\"key が整数でない\")\n",
        "        if key % 2 == 0:\n",
        "            return self.even_num\n",
        "        else:\n",
        "            return self.odd_num\n",
        "\n",
        "    def __setitem__(self, key, value):\n",
        "        if not isinstance(key, int):\n",
        "            raise TypeError(\"key が整数でない\")\n",
        "        if key % 2 == 0:\n",
        "            self.even_num = value\n",
        "        else:\n",
        "            self.odd_num = value\n",
        "\n",
        "\n",
        "m1 = MyClass(10)\n",
        "m2 = MyClass(24)\n",
        "assert (m1 + m2).val == 1024\n",
        "m1[31] = 3\n",
        "assert m1[1] == 3"
      ],
      "metadata": {
        "id": "Lj5lkjduLUJv"
      },
      "execution_count": null,
      "outputs": []
    },
    {
      "cell_type": "markdown",
      "source": [
        "ハッシュ可能\n",
        "------------"
      ],
      "metadata": {
        "id": "jg57msva-wTZ"
      }
    },
    {
      "cell_type": "markdown",
      "source": [
        "オブジェクトが**ハッシュ可能**（hashable）であるとは、オブジェクトが特殊メソッド `__eq__()` および `__hash__()` を持ち、かつ、`__hash__()` が次の条件をみたしていることをいう。\n",
        "\n",
        "  1. 生存期間中変わらない整数（ハッシュ値）を返す。\n",
        "  2. 値が等しいハッシュ可能オブジェクト同士では、同じハッシュ値を返す。\n",
        "\n",
        "ハッシュ可能なオブジェクトに対して組み込み関数 `hash()` を実行すると、その `__hash__()` メソッドが（存在すれば）呼び出されハッシュ値を返す。\n",
        "\n",
        "ハッシュ可能なオブジェクトは `dict` オブジェクト（辞書）のキーや、`set` オブジェクト（集合）および `frozenset` オブジェクト（集合）の要素として使える。辞書や集合のデータ構造は内部でハッシュ値を使っているからである。なお、`set` オブジェクトはミュータブルだが、`frozenset` オブジェクトはイミュータブルである。\n",
        "\n",
        "オブジェクトがイミュータブルであることと、ハッシュ可能であることは異なる概念であるが、Python のイミュータブルな組み込みオブジェクトは、ほとんどがハッシュ可能である。この例外は `tuple` と `frozenset` の 2 つであり、どちらもイミュータブルであるが、すべての要素がハッシュ可能であるときのみハッシュ可能となる。ミュータブルな組み込みオブジェクトはすべてハッシュ不可能である。\n",
        "\n",
        "`object` 型のインスタンスはハッシュ可能である。`object` 型のインスタンス `x` において、`x.__hash__()` は `x == y` が `x is y` と `hash(x) == hash(y)` の両方を意味するような適切な値を返す（`id()` の戻り値から計算している）。ユーザー定義クラスは、`__eq__()` と `__hash__()` メソッドを `object` クラスから継承する。つまり、ユーザー定義クラスでは基本的にインスタンスがハッシュ可能である。しかし、クラス定義に `__hash__ = None` とするオーバーライドを含めると、ハッシュ不能となる。また、`__eq__()` をオーバーライドしていて `__hash__()` を定義していないクラスでは、`__hash__()` は暗黙的に `None` に設定され、ハッシュ不能となる。"
      ],
      "metadata": {
        "id": "71dZFeXU-xMk"
      }
    },
    {
      "cell_type": "code",
      "source": [
        "class C1:\n",
        "    def __init__(self, val):\n",
        "        self.val = val\n",
        "\n",
        "    def __eq__(self, other):\n",
        "        if isinstance(other, C1):\n",
        "            return self.val == other.val\n",
        "        else:\n",
        "            return NotImplemented\n",
        "\n",
        "\n",
        "class C2:\n",
        "    def __init__(self, val):\n",
        "        self.val = val\n",
        "\n",
        "    def __eq__(self, other):\n",
        "        if isinstance(other, C2):\n",
        "            return self.val == other.val\n",
        "        else:\n",
        "            return NotImplemented\n",
        "\n",
        "    def __hash__(self):\n",
        "        return super().__hash__()\n",
        "\n",
        "\n",
        "c1 = C1(1)\n",
        "assert c1.__hash__ is None  # __hash__ 属性が自動的に None で定義される\n",
        "c2 = C2(2)\n",
        "d2 = {c2: 2}  # c2 はハッシュ可能なので辞書のキーに使用できる"
      ],
      "metadata": {
        "id": "QET8boAxQshv"
      },
      "execution_count": null,
      "outputs": []
    },
    {
      "cell_type": "markdown",
      "source": [
        "真理値判定\n",
        "----------"
      ],
      "metadata": {
        "id": "z_jgOsyoPbBF"
      }
    },
    {
      "cell_type": "markdown",
      "source": [
        "Python で式やオブジェクトに対して真理値を判定するために評価される場面を**真理値コンテキスト**（truth value context）という。代表的な真理値コンテキストは以下の通り。\n",
        "\n",
        "  * **if 文の条件**: 式を記述できる（セイウチ演算子を持つ代入式も可）。\n",
        "  * **while 文の条件**: 式を記述できる（セイウチ演算子を持つ代入式も可）。\n",
        "  * **if…else 演算の被演算子（オペランド）**: ブール式を記述できる。\n",
        "  * **ブール演算の被演算子（オペランド）**: ブール式を記述できる。\n",
        "  * **組み込み関数 bool() の引数**: ブール式を記述できる。\n",
        "\n",
        "どの真理値コンテキストでも、アトムとしてオブジェクトを記述できる。オブジェクトが真理値コンテキストで評価されるとき、Python は次のルール（**真理値判定のプロトコル**）に従う：\n",
        "\n",
        "  1. オブジェクトに `__bool__()` メソッドがあれば、それを呼び出す（戻り値は `True` か `False` のどちらかでなければならない）\n",
        "  2. `__bool__()` が定義されていなければ、`__len__()` メソッドを呼び出し、長さが 0 なら `False`、それ以外は `True`\n",
        "  3. どちらも定義されていなければ、常に `True`\n",
        "\n",
        "たとえば、次は全て `False` と判定され、値としてこれらを返す式は `False` と判定される。\n",
        "\n",
        "　`None`, `False`, `0`, `0.0`, `0j`, `''`, `()`, `[]`, `{}`, `set()`, `range(0)`\n",
        "\n",
        "これらのオブジェクトは、暗黙の型変換（いわゆる型キャスト）によって `bool` 型に変換されるのではなく、真理値判定のプロトコルによって動的に真理値が判定されることに注意する。\n",
        "\n",
        "以下は、PEP 8 による推奨事項。\n",
        "\n",
        "シーケンス（文字列、リスト、タプルなど）は `__len__()` メソッドを持つオブジェクトである。`__len__()` はシーケンスの長さを返し、組み込み関数 `len()` によって呼び出される。シーケンスをブール式として使う場合、空のシーケンスが `False` であることを利用できる。この場合に `len()` を実行して長さを調べるのは画蛇添足。\n",
        "\n",
        "``` python\n",
        "# 正しい:\n",
        "if not seq:\n",
        "if seq:\n",
        "\n",
        "# 間違い:\n",
        "if len(seq):\n",
        "if not len(seq):\n",
        "```\n",
        "\n",
        "ブール型の値と `True` や `False` を比較するのに `==` や `is` を使うべきではない。ブール型オブジェクト自体を式として使えば十分なのであって、`==` 演算子や `is` 演算子を加えるのは画蛇添足。\n",
        "\n",
        "``` python\n",
        "# 正しい:\n",
        "if is_file:\n",
        "\n",
        "# 間違い:\n",
        "if is_file == True:\n",
        "if is_file is True:\n",
        "```"
      ],
      "metadata": {
        "id": "GMw6PI2VPb85"
      }
    },
    {
      "cell_type": "markdown",
      "source": [
        "スライスオブジェクト\n",
        "--------------------"
      ],
      "metadata": {
        "id": "Odts8zXeHseC"
      }
    },
    {
      "cell_type": "markdown",
      "source": [
        "シーケンスのインデックス参照は、添字表記から組み込みの `slice` オブジェクトを作成して `__getitem__()` メソッドに渡すという処理をしている。添字表記の中に直接 `slice` オブジェクトを指定することもできる。\n",
        "\n",
        "`slice` のコンストラクタは、引数の数が異なるもので 2 つ存在する:\n",
        "\n",
        "``` python\n",
        "slice(stop)\n",
        "slice(start, stop, step=None)\n",
        "```\n",
        "\n",
        "これらは、`range(start, stop, step)` で指定されたインデックスのセットを表す `slice` オブジェクトを返す。\n",
        "\n",
        "`slice` オブジェクトは、読み出し専用の `start`, `stop`, `step` 属性を持つ。これらは単にコンストラクタ引数の値（またはそのデフォルト値）を返す。`start` と `step` のデフォルト値は `None`。\n",
        "\n",
        "添字表記に対応する `slice` オブジェクトの属性は、次のとおり。\n",
        "\n",
        "| 添字表記 | `start` | `stop` | `step` |\n",
        "|:---|:---|:---|:---|\n",
        "| `[i:j]` | `i` | `j` | `None` |\n",
        "| `[i:j:k]` | `i` | `j` | `k` |\n",
        "| `[i:]` | `i` | `None` | `None` |\n",
        "| `[:j]` |`None` | `j` | `None` |\n",
        "| `[::k]` |`None` | `None` | `k` |"
      ],
      "metadata": {
        "id": "uJSBYbupHtdp"
      }
    },
    {
      "cell_type": "code",
      "source": [
        "a = [x for x in range(10)]\n",
        "a[slice(2, 8)], a[slice(None, None, -1)]"
      ],
      "metadata": {
        "colab": {
          "base_uri": "https://localhost:8080/"
        },
        "id": "AQKEYnY5jQgV",
        "outputId": "d36c9e8d-a1cb-4023-98ae-6f07a5bc652b"
      },
      "execution_count": null,
      "outputs": [
        {
          "output_type": "execute_result",
          "data": {
            "text/plain": [
              "([2, 3, 4, 5, 6, 7], [9, 8, 7, 6, 5, 4, 3, 2, 1, 0])"
            ]
          },
          "metadata": {},
          "execution_count": 7
        }
      ]
    },
    {
      "cell_type": "markdown",
      "source": [
        "動的型付けとダックタイピング\n",
        "----------------------------"
      ],
      "metadata": {
        "id": "fizYan6qduiM"
      }
    },
    {
      "cell_type": "markdown",
      "source": [
        "型に関するエラーの検証を、コンパイル時に行う型システムを**静的型付け**（static typing）、実行時に行う型システムを**動的型付け**（dynamic typing）という。静的型付け言語では、変数や、関数の引数や戻り値が特定のデータ型にバインドされる――一般には宣言に型を記述するが、コンパイラの型推論を利用して型の記述が省略可能な言語もある。一方、動的型付け言語では、データ型はあるが、変数や、関数の引数や戻り値がどのデータ型にもバインドされない。\n",
        "\n",
        "Python は動的型付け言語である。実行時でないと、変数や引数などに束縛されるオブジェクトに型による制約がないため、「このオブジェクトは〇〇型であるから〇〇メソッドを呼び出せる」というようにコードを書けない。本当の型がわからないままにオブジェクトのメソッドや属性が使われる。こうしたプログラミングスタイルを**ダックタイピング**（duck typing）という。つまり、「アヒルのように歩き、アヒルのように鳴くのなら、それはアヒルである」というスタイルである。\n",
        "\n",
        "ダックタイピングでは、よく EAFP アプローチが取られる。EAFP はマーフィーの法則「事前に承認を得るより、あとで謝ったほうが簡単である（easier to ask for forgiveness than permission）」の略語である。Python のコードでは、if 文の条件式に `type()` や `isinstance()` の判定を使って例外が発生する要因を事前に取り除くことをせずに、例外が発生してから対処するという方針で try - except 文が使われる。\n",
        "\n",
        "組み込み関数 `hasattr()` も、EAFP アプローチを取っている。\n",
        "\n",
        "``` python\n",
        "hasattr(object, name)\n",
        "```\n",
        "\n",
        "この関数は、`object` が持つメソッドや属性の名前が `name` と一致する場合 `True` を返し、そうでない場合 `False` を返すのであるが、実のところ、組み込み関数 `getattr(object, name)` を呼び出して `AttributeError` を送出するかどうかを見ることで実装されている。条件式に `hasattr()` の判定を使った if 文\n",
        "\n",
        "``` python\n",
        "if hasattr(object, name):\n",
        "    object.name()\n",
        "    ...\n",
        "else:\n",
        "    ...\n",
        "```\n",
        "\n",
        "は、メソッドが存在するものと仮定し、その仮定が誤っていた場合に例外を捕捉する try - except 文\n",
        "\n",
        "``` python\n",
        "try:\n",
        "    object.name()\n",
        "except AttributeError:\n",
        "    ...\n",
        "except:\n",
        "    raise\n",
        "else:\n",
        "    ...\n",
        "```\n",
        "\n",
        "を if 文に見せかけているにすぎない。"
      ],
      "metadata": {
        "id": "dd9K_yTvdvlX"
      }
    },
    {
      "cell_type": "markdown",
      "source": [
        "遅延属性\n",
        "--------"
      ],
      "metadata": {
        "id": "se-EqJJb4fVy"
      }
    },
    {
      "cell_type": "markdown",
      "source": [
        "インスタンス作成時には属性が存在せず、実際に必要になった時に属性が属性辞書に追加されるような属性アクセスを**遅延アクセス**という。遅延アクセスされる属性を**遅延属性**（lazy attribute）と呼ぶ。\n",
        "\n",
        "遅延アクセスを実現するには、特殊メソッド `__getattr__(self, name)` を使う。ドット演算子 `.` や組み込み関数 `getattr()` などを使って属性の取得、設定、削除を行う際には、`__getattribute__()` が無条件に呼び出されるが、属性が見つからない場合に、もし `__getattr__()` が定義されているならこれが呼び出される。"
      ],
      "metadata": {
        "id": "T4Ez884z4gZs"
      }
    },
    {
      "cell_type": "code",
      "source": [
        "class LazyGetattr:\n",
        "    def __getattr__(self, name):\n",
        "        print(\"属性を追加しました\")\n",
        "        setattr(self, name, 0)  # インスタンス属性辞書に追加\n",
        "        return getattr(self, name)\n",
        "\n",
        "data = LazyGetattr()\n",
        "assert data.__dict__== {}\n",
        "# 遅延アクセス\n",
        "print(f\"{data.foo=}\")\n",
        "assert data.__dict__== {'foo': 0}\n",
        "# 属性が追加された後は __getattr__() は呼び出されない\n",
        "print(f\"{data.foo=}\")"
      ],
      "metadata": {
        "colab": {
          "base_uri": "https://localhost:8080/"
        },
        "id": "WjDPE2FvAlHx",
        "outputId": "3ac53ccd-537b-4969-f71a-895e762cd014"
      },
      "execution_count": null,
      "outputs": [
        {
          "output_type": "stream",
          "name": "stdout",
          "text": [
            "属性を追加しました\n",
            "data.foo=0\n",
            "data.foo=0\n"
          ]
        }
      ]
    },
    {
      "cell_type": "markdown",
      "source": [
        "遅延属性を使用することで、計算コストが高い属性の評価を必要な時まで遅延させることができる。これにより、プログラムのパフォーマンスが向上する場合がある。\n",
        "\n",
        "一方、動的に属性が追加されるので、エディタの入力支援が得られない、静的解析ができないというデメリットがある。コードの複雑さが増し、属性の依存関係の管理が難しくなることがある。"
      ],
      "metadata": {
        "id": "_NdqGFvq_cqq"
      }
    },
    {
      "cell_type": "markdown",
      "source": [
        "シングルトンパターン\n",
        "--------------------"
      ],
      "metadata": {
        "id": "X7tfhm8DG-M7"
      }
    },
    {
      "cell_type": "markdown",
      "source": [
        "クラス設計における定石集を**デザインパターン**（design pattern）と呼ぶ。GoF（Gang of Four; 4 人組）による書籍『オブジェクト指向における再利用のためのデザインパターン』の中で取り上げた 23 種類の設計パターンが有名である。ただし、これらの設計パターンは Python 向けのものではないため、Python ではあまり使われないものや、Python の言語仕様として組み込まれているものがある。\n",
        "\n",
        "**シングルトンパターン**（singleton pattern）は、デザインパターンの 1 つで、そのクラスのインスタンスが 1 つしか生成されないことを保証する設計パターンである。そのようにインスタンス化が制限されるクラスのことを**シングルトンクラス**と呼び、シングルトンクラスの唯一のインスタンスを**シングルトン**と呼ぶ。\n",
        "\n",
        "Python では、`None`、`NotImplemented`、`Ellipsis` が組み込みのシングルトンであるが、これらは値を変更できない特殊なシングルトンである。"
      ],
      "metadata": {
        "id": "hGtmJmfWHAch"
      }
    },
    {
      "cell_type": "code",
      "source": [
        "assert type(None)() is None\n",
        "assert type(NotImplemented)() is NotImplemented\n",
        "assert type(Ellipsis)() is Ellipsis"
      ],
      "metadata": {
        "id": "9WWLOELrhzZz"
      },
      "execution_count": null,
      "outputs": []
    },
    {
      "cell_type": "markdown",
      "source": [
        "次のコードは、ユーザー定義のシングルトンの例である。"
      ],
      "metadata": {
        "id": "4btaJWMaiUnw"
      }
    },
    {
      "cell_type": "code",
      "source": [
        "class Singleton:\n",
        "    def __new__(cls, *args, **kwargs):\n",
        "        if not hasattr(cls, \"_instance\"):\n",
        "            cls._instance = super().__new__(cls)\n",
        "        return cls._instance\n",
        "\n",
        "    def __init__(self, input=0):\n",
        "        self.input = input\n",
        "\n",
        "\n",
        "if __name__ == \"__main__\":\n",
        "    A = Singleton(1)\n",
        "    B = Singleton(2)\n",
        "    assert A is B\n",
        "    assert A.input == B.input == 2"
      ],
      "metadata": {
        "id": "2gCTg7upJv4S"
      },
      "execution_count": null,
      "outputs": []
    },
    {
      "cell_type": "markdown",
      "source": [
        "`Singleton` クラスは `__new__()` メソッドを定義しているが、これは `object.__new__()` メソッドをオーバーライドしていることに注意する。`__new__()` の中では、自身のインスタンスを保持する内部クラス変数 `_instance` がなければインスタンスを格納する。以後、`Singleton` のコンストラクタは `_instance` が保持するインスタンスのみを返す。インスタンス作成のために使う `super().__new__(cls)` メソッドは、今は多重継承していないので `object.__new__(cls)` と同一である。残りの可変長引数 `args` と `kwargs` はクラスのコンストラクタ式に渡され、さらに `__init__()` を呼び出す際にその引数に渡される。\n",
        "\n",
        "シングルトンクラスのインスタンスはアプリケーション全体で共有するので、シングルトンパターンはアプリケーションのグローバルな状態を管理するのに適する。このことは利点である反面、テストを困難にするという欠点にもなる。プログラムの各クラスに対して独立に行うべきテストまでがシングルトンの状態を共有することになるため、前のテストで変更したシングルトンの状態が、次のテストで引き継がれるということが起こってしまう。"
      ],
      "metadata": {
        "id": "A2SByDrHI9hn"
      }
    },
    {
      "cell_type": "markdown",
      "source": [
        "サブクラス定義の検証\n",
        "--------------------"
      ],
      "metadata": {
        "id": "J5W3IFn5ckMp"
      }
    },
    {
      "cell_type": "markdown",
      "source": [
        "Python のクラス定義は実行可能な文であるから、定義実行時に定義が適切であるかどうかを検証する仕組みを作ることができる。サブクラスの定義を検証する方法は 2 通りある。\n",
        "\n",
        "1 つ目の方法は、メタクラスを使用することである。次のコード例は、`Polygon` クラスのサブクラスに対して、クラス属性 `sides` が 3 以上の値で初期化されていることを検証するために、`ValidatePolygon` を `Polygon` クラスのメタクラスとしている。基底クラスは暗黙的に `object` クラスのサブクラスになるが、`__new__()` の `bases` 引数は空のタプル `()` が渡されることに注意する。"
      ],
      "metadata": {
        "id": "dsp-KfIDcptg"
      }
    },
    {
      "cell_type": "code",
      "source": [
        "class ValidatePolygon(type):\n",
        "    \"\"\"多角形を検証するメタクラス\"\"\"\n",
        "\n",
        "    def __new__(cls, name, bases, namespace, **kwargs):\n",
        "        if bases:  # 基底クラスは検証しない\n",
        "            if not (sides := namespace.get(\"sides\", 0)):\n",
        "                raise NotImplementedError(\"'sides' class attribute not set properly\")\n",
        "            if sides < 3:  # 3未満ならエラー\n",
        "                raise ValueError(\"Pylygon need 3 sides\")\n",
        "\n",
        "        return super().__new__(cls, name, bases, namespace, **kwargs)\n",
        "\n",
        "\n",
        "class Polygon(metaclass=ValidatePolygon):\n",
        "    pass\n",
        "\n",
        "\n",
        "class Triangle(Polygon):\n",
        "    sides = 3\n",
        "\n",
        "\n",
        "# 以下をコメントアウトすると ValueError が発生する\n",
        "# class Line(Polygon):\n",
        "#     sides = 2"
      ],
      "metadata": {
        "id": "N8isfu1wglfV"
      },
      "execution_count": null,
      "outputs": []
    },
    {
      "cell_type": "markdown",
      "source": [
        "2 つ目の方法は、特殊クラスメソッド `__init_subclass__(cls, **kwargs)` を使用することである。クラスが他のクラスを継承するときに必ず親クラスの `__init_subclass__()` が呼び出される。このメソッドは特別扱いされ、自動的にクラスメソッドとなる。第 1 引数 `cls` は新しいサブクラスである。このメソッドを利用すると、サブクラスを定義した際に必ず実行するべき付随操作を書くことができる。上記のコード例で書いた検証を `__init_subclass__()` の中に書いたコードは、次のようになる。"
      ],
      "metadata": {
        "id": "D-ISyAxvDSU4"
      }
    },
    {
      "cell_type": "code",
      "source": [
        "class Polygon:\n",
        "    def __init_subclass__(cls, **kwargs):\n",
        "        super().__init_subclass__(**kwargs)\n",
        "        if \"sides\" not in cls.__dict__:\n",
        "            raise NotImplementedError(\"'sides' class attribute not set properly\")\n",
        "        if getattr(cls, \"sides\") < 3:  # 3未満なら例外\n",
        "            raise ValueError(\"Pylygon need 3 sides\")\n",
        "\n",
        "\n",
        "class Triangle(Polygon):\n",
        "    sides = 3\n",
        "\n",
        "\n",
        "# 以下をコメントアウトすると ValueError が発生する\n",
        "# class Line(Polygon):\n",
        "#     sides = 2"
      ],
      "metadata": {
        "id": "kR1ouE3vDTYu"
      },
      "execution_count": null,
      "outputs": []
    },
    {
      "cell_type": "markdown",
      "source": [
        "class 文のヘッダー `class SubClass(BaseClass, foo=value)` に書いたキーワード引数 `foo` は、親クラスの `__init_subclass__()` のキーワード専用引数に引き継がれる。親クラスでは `def __init_subclass__(cls, /, foo, **kwargs):` と定義する。\n",
        "\n",
        "`object.__init_subclass__(cls)` は何も行わないが、何らかの引数とともに呼び出された場合は、エラーを送出するので注意する。"
      ],
      "metadata": {
        "id": "UXv8yAMiUQVp"
      }
    }
  ]
}