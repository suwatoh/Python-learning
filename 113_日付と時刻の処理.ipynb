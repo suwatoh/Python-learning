{
  "nbformat": 4,
  "nbformat_minor": 0,
  "metadata": {
    "colab": {
      "provenance": [],
      "authorship_tag": "ABX9TyOn/afQxSfv3cByINFghnhc",
      "include_colab_link": true
    },
    "kernelspec": {
      "name": "python3",
      "display_name": "Python 3"
    },
    "language_info": {
      "name": "python"
    }
  },
  "cells": [
    {
      "cell_type": "markdown",
      "metadata": {
        "id": "view-in-github",
        "colab_type": "text"
      },
      "source": [
        "<a href=\"https://colab.research.google.com/github/suwatoh/Python-learning/blob/main/113_%E6%97%A5%E4%BB%98%E3%81%A8%E6%99%82%E5%88%BB%E3%81%AE%E5%87%A6%E7%90%86.ipynb\" target=\"_parent\"><img src=\"https://colab.research.google.com/assets/colab-badge.svg\" alt=\"Open In Colab\"/></a>"
      ]
    },
    {
      "cell_type": "markdown",
      "source": [
        "日付と時刻の処理\n",
        "================"
      ],
      "metadata": {
        "id": "M2L_mfTdC_Iu"
      }
    },
    {
      "cell_type": "markdown",
      "source": [
        "time\n",
        "----"
      ],
      "metadata": {
        "id": "XFG6_D0aKswH"
      }
    },
    {
      "cell_type": "markdown",
      "source": [
        "コンピューターが時間を管理する仕組みを整理する。\n",
        "\n",
        "  * コンピューターが内蔵する時計を**リアルタイムクロック**（real-time clock; RTC）という。RTC は、「年」「月」「日」「時」「分」「秒」を保持し、システムの電源が切られていてもバックアップ用電池などにより時刻を刻み続ける。ただし、その精度はミリ秒単位と低い。\n",
        "  * OS は起動時に RTC から時刻情報を読み取ると、以降はナノ秒～マイクロ秒単位の短い周期で時間を積算していき、独自に高精度の時刻情報を提供している。これを**システム時刻**（system time）という。\n",
        "  * システム時刻は過去のある起点からの経過時間という形式で提供される。この起点となる日時を**エポック**（epoch）という。エポックは OS によって異なる。Unix では、エポックは協定世界時（UTC）の 1970 年 1 月 1 日 0 時 0 分 0 秒となっている。\n",
        "  * エポックからの総経過秒数を**エポック秒**（seconds since the epoch）という。\n",
        "  * Unix エポック秒を、マイクロ秒を小数点以下として浮動小数点数で表現したものを **POSIX タイムスタンプ**という。\n",
        "\n",
        "エポック秒は人間には扱いにくいので、エポック秒から人間が理解できる文字列に変換するための書式コードが 1989 C 標準で定められた（C89 規格）。以下の書式コードに対応する関数は、文字列に埋め込まれている書式コードを、エポック秒から算出される値に置き換える。\n",
        "\n",
        "| 書式 | 意味 | 使用例 |\n",
        "|:--|:--|:--|\n",
        "| `%y` | 0 埋めした西暦（10 進数）の下 2 桁 | 00, 01, ..., 99 |\n",
        "| `%Y` | 西暦（ 4 桁）の 10 進表記 | 0001, 0002, ..., 9999 |\n",
        "| `%m` | 0 埋めした 10 進数で表記した月 | 01, 02, ..., 12 |\n",
        "| `%d` | 0 埋めした 10 進数で表記した月中の日にち | 01, 02, ..., 31 |\n",
        "| `%w` | 曜日を 10 進表記した文字列（0 が日曜日で、6 が土曜日を表す） | 0, 1, ..., 6 |\n",
        "| `%u` | 曜日を 10 進表記した文字列（1 が月曜日で、7 が日曜日を表す） | 1, 2, ..., 7 |\n",
        "| `%H` | 0 埋めした 10 進数で表記した時（ 24 時間表記） | 00, 01, ..., 23 |\n",
        "| `%I` | 0 埋めした 10 進数で表記した時（ 12 時間表記） | 01, 02, ..., 12 |\n",
        "| `%M` | 0 埋めした 10 進数で表記した分 | 00, 01, ..., 59 |\n",
        "| `%S` | 0 埋めした 10 進数で表記した秒 | 00, 01, ..., 59 |\n",
        "| `%f` | 10 進数で表記したマイクロ秒（ 6 桁に 0 埋めされる） | 000000, 000001, ..., 999999 |\n",
        "| `%z` | UTC オフセットを ±HHMM[SS[.ffffff]] の形式で表示 | 空文字列, +0000, -0400, +1030, +063415, -030712.345216 |\n",
        "| `%Z` | タイムゾーンの名前 | 空文字列, UTC, GMT |\n",
        "| `%j` | 0 埋めした 10 進数で表記した年中の日にち | 001, 002, ..., 366 |\n",
        "| `%U` | 0 埋めした 10 進数で表記した年中の週番号（週の始まりは日曜日とする）。<br />新年の最初の日曜日に先立つ日は 0 週に属するとする | 00, 01, ..., 53 |\n",
        "| `%W` | 0 埋めした 10 進数で表記した年中の週番号（週の始まりは月曜日とする）。<br />新年の最初の月曜日に先立つ日は 0 週に属するとする | 00, 01, ..., 53 |\n",
        "| `%a` | ロケールの曜日名の短縮形 | Sun, Mon, ..., Sat (None, en_US)<br />日, 月, ..., 土 (ja_JP) |\n",
        "| `%A` | ロケールの曜日名 | Sunday, Monday, ..., Saturday (None, en_US)<br />日曜日, 月曜日, ..., 土曜日 (ja_JP) |\n",
        "| `%b` | ロケールの月名の短縮形 | Jan, Feb, ..., Dec (None, en_US)<br />1, 2, ..., 12 (ja_JP) |\n",
        "| `%B` | ロケールの月名 | January, February, ..., December (None, en_US)<br />1月, 2月, ..., 12月 (ja_JP) |\n",
        "| `%p` | ロケールの AM もしくは PM と等価な文字列 | AM, PM (None, en_US)<br />午前, 午後 (ja_JP) |\n",
        "| `%c` | ロケールの日時を適切な形式で表す | Tue Aug 16 00:00:00 1988 (None)<br />8/16/1988 12:00:00 AM (en_US)<br />1988/08/16 火 0:00:00 (ja_JP) |\n",
        "| `%x` | ロケールの日付を適切な形式で表す | 08/16/88 (None)<br />8/16/1988 (en_US)<br />1988/08/16 火 (ja_JP) |\n",
        "| `%X` | ロケールの時間を適切な形式で表す | 21:30:00 (None)<br />9:30:00 PM (en_US)<br />21:30:00 (ja_JP) |\n",
        "| `%%` | 文字 `'%'` を表す | % |\n",
        "\n",
        "標準ライブラリの `time` モジュールは、時刻に関するさまざまな関数を提供している。\n",
        "\n",
        "| 関数 | 機能 | 戻り値 |\n",
        "|:---|:---|:--:|\n",
        "| `time.time()` | POSIX タイムスタンプを返す | `float` |\n",
        "| `time.perf_counter()` | パフォーマンスカウンター、すなわち短い時間を計測するための可能な限り高い精度を持つクロックの値を返す。これはスリープ中の経過時間を含む | `float` |\n",
        "| `time.process_time()` | 現在のプロセスのシステムおよびユーザー CPU 時間の値を返す。これはスリープ中の経過時間を含まない | `float` |\n",
        "| `time.sleep(secs)` | 指定した秒数一時停止する。浮動小数点を指定できるが、精度はシステム時刻の精度に左右される | `None` |\n",
        "| `time.strftime(format[, t])` | 現在の時刻を文字列 `format` で指定した文字列形式に変換する。`format` には C89 規格で要求される書式コードが使える（`%f` を除く）。`t` が与えられ<br />ていない場合、ローカルな時間を現在の時刻として使用する | `str` |\n",
        "\n",
        "`time.perf_counter()` 関数や `time.process_time()` 関数が返す数値は、基準点がないので、呼び出した2点間の時間差にのみ意味がある。2 点間の差を取って処理時間を計測する場合、高い精度が必要なら `time.perf_counter()` 関数や `time.process_time()` 関数を使うことになる。"
      ],
      "metadata": {
        "id": "SU8-_EdtKtX8"
      }
    },
    {
      "cell_type": "code",
      "source": [
        "import time\n",
        "\n",
        "start_time = time.time()\n",
        "time.sleep(1)\n",
        "end_time = time.time()\n",
        "print(\"time:\\n\", end_time - start_time)\n",
        "\n",
        "start_time = time.process_time()\n",
        "time.sleep(1)\n",
        "end_time = time.process_time()\n",
        "print(\"process_time:\\n\", end_time - start_time)\n",
        "\n",
        "print(time.strftime(\"%a, %d %b %Y %H:%M:%S +0000\"))"
      ],
      "metadata": {
        "colab": {
          "base_uri": "https://localhost:8080/"
        },
        "id": "uI7qLmxnQrfo",
        "outputId": "82f7a528-dc98-4878-e093-573825a380bc"
      },
      "execution_count": null,
      "outputs": [
        {
          "output_type": "stream",
          "name": "stdout",
          "text": [
            "time:\n",
            " 1.0025720596313477\n",
            "process_time:\n",
            " 0.010621760000000258\n",
            "Tue, 22 Oct 2024 16:02:53 +0000\n"
          ]
        }
      ]
    },
    {
      "cell_type": "markdown",
      "source": [
        "`time` モジュールは、うるう秒に対応する。うるう秒では書式コード `%S` が 60 に変換される。"
      ],
      "metadata": {
        "id": "j6sPvmf7x7cv"
      }
    },
    {
      "cell_type": "markdown",
      "source": [
        "timeit\n",
        "------"
      ],
      "metadata": {
        "id": "Q_cAsFoNynMg"
      }
    },
    {
      "cell_type": "markdown",
      "source": [
        "標準ライブラリの `timeit` モジュールは、Python コードの実行時間を計測するのに便利な関数を提供する。\n",
        "\n",
        "``` python\n",
        "timeit.timeit(stmt='pass', setup='pass', timer=time.perf_counter, number=1000000, globals=None)\n",
        "```\n",
        "\n",
        "`timeit.timeit()` 関数は、Python 文 `stmt` を `number` 回実行したときの全実行時間を計測する。`setup` は各回で最初に実行する Python 文であり、その実行時間は全実行時間から除外される。\n",
        "\n",
        "`stmt` と `setup` には、`;` で区切られた複数の文を含む文字列を指定できる。三重引用符を使った複数行の文字列リテラルを指定することもできる。\n",
        "\n",
        "`stmt` と `setup` に指定した Python 文は、`timeit` モジュールの名前空間内で実行される。したがって、その中に `timeit` モジュールが知らない関数が含まれると、`NameError` 例外が発生する。現在のグローバル名前空間内で実行させるには、`globals=globals()` として現在のグローバル名前空間を渡す。\n",
        "\n",
        "`timeit.timeit()` 関数は、計測中、一時的にガベージコレクションを停止する。このため、ガベージコレクションというノイズを排除して関数そのものの実行時間を計測することができる。もしガベージコレクションも考慮した実際の処理時間を計測したい場合は、`setup` オプションに `gc.enable()` を指定する。"
      ],
      "metadata": {
        "id": "Ps7_ukA0yoMY"
      }
    },
    {
      "cell_type": "code",
      "source": [
        "import timeit\n",
        "t = timeit.timeit(\"li.append(0)\", setup=\"li=[]; gc.enable()\")\n",
        "print(t)"
      ],
      "metadata": {
        "colab": {
          "base_uri": "https://localhost:8080/"
        },
        "id": "beR2kseqVycY",
        "outputId": "d6c66caf-f263-4aa5-bb46-7bace4f83ee9"
      },
      "execution_count": null,
      "outputs": [
        {
          "output_type": "stream",
          "name": "stdout",
          "text": [
            "0.06701863099999628\n"
          ]
        }
      ]
    },
    {
      "cell_type": "markdown",
      "source": [
        "``` python\n",
        "timeit.repeat(stmt='pass', setup='pass', timer=time.perf_counter, repeat=5, number=1000000, globals=None)\n",
        "```\n",
        "\n",
        "`timeit.repeat()` 関数は、`timeit.timeit()` 関数を `repeat` 回（デフォルトでは 5 回）繰り返し、それぞれの回で計測された全実行時間を要素とするリストを返す。`repeat` 以外の引数の意味は、`timeit.timeit()` 関数の引数と同じである。"
      ],
      "metadata": {
        "id": "hArBOJJ17exU"
      }
    },
    {
      "cell_type": "code",
      "source": [
        "import timeit\n",
        "tl = timeit.repeat(\"li.append(0)\", setup=\"li=[]; gc.enable()\")\n",
        "print(f\"{tl=}\")\n",
        "print(f\"{min(tl)=}\")  # 最小時間を表示"
      ],
      "metadata": {
        "colab": {
          "base_uri": "https://localhost:8080/"
        },
        "id": "uz-ycflv6FPo",
        "outputId": "b72ff8b8-0939-4cfa-ab9b-36f9f5499904"
      },
      "execution_count": null,
      "outputs": [
        {
          "output_type": "stream",
          "name": "stdout",
          "text": [
            "tl=[0.06750587100000871, 0.057273436000002675, 0.062460448999999585, 0.06464371600000618, 0.05505699900000138]\n",
            "min(tl)=0.05505699900000138\n"
          ]
        }
      ]
    },
    {
      "cell_type": "markdown",
      "source": [
        "datetime\n",
        "--------"
      ],
      "metadata": {
        "id": "IE-4FAXsDFeX"
      }
    },
    {
      "cell_type": "markdown",
      "source": [
        "標準ライブラリの `datetime` モジュールは、日付や時刻を操作するためのデータ型である `date` 型、`time` 型、`datetime` 型、`timedelta` 型、`timezone` 型を提供している。これらの型には共通する特徴がある:\n",
        "\n",
        "  * これらの型のオブジェクトは変更不可能（immutable）である。インスタンス属性は、読み出し専用プロパティである。\n",
        "  * これらの型のオブジェクトはハッシュ可能であり、辞書のキーとして使える。"
      ],
      "metadata": {
        "id": "mjeZxTd_GF96"
      }
    },
    {
      "cell_type": "markdown",
      "source": [
        "### date オブジェクト ###"
      ],
      "metadata": {
        "id": "P4lbDc8IDMDX"
      }
    },
    {
      "cell_type": "markdown",
      "source": [
        "`date` 型は、日付（年・月・日）を表す。主な属性は次のとおり。\n",
        "\n",
        "| プロパティ | 意味 | 型 |\n",
        "|:--|:--|:-:|\n",
        "| `year` | 年 | `int` |\n",
        "| `month` | 月 | `int` |\n",
        "| `day` | 日 | `int` |\n",
        "\n",
        "`date` オブジェクトは、`datetime.date()` コンストラクタにより作成される。\n",
        "\n",
        "``` python\n",
        "datetime.date(year, month, day)\n",
        "```\n",
        "\n",
        "引数で指定した日付を表す `date` オブジェクトを返す。`year` は 1 以上 9999 以下の整数で指定する。範囲外の年を指定したり、存在しない月や日を指定すると `ValueError` 例外が発生する。\n",
        "\n",
        "``` python\n",
        "date.today()\n",
        "```\n",
        "\n",
        "これはクラスメソッドであり、現在のローカルな日付を表す `date` オブジェクトを返す。\n",
        "\n",
        "``` python\n",
        "date.fromtimestamp(timestamp)\n",
        "```\n",
        "\n",
        "これもクラスメソッドであり、POSIX タイムスタンプ形式の浮動小数点数 `timestamp` から `date` オブジェクトを作成する。`date.today()` と `date.fromtimestamp(time.time())` は等価である。\n",
        "\n",
        "``` python\n",
        "date.fromisoformat(date_string)\n",
        "```\n",
        "\n",
        "これもクラスメソッドであり、ISO 8601 形式の YYYY-MM-DD で表した文字列 `date_string` から `date` オブジェクトを作成する。\n",
        "\n",
        "`date` オブジェクトのインスタンスメソッド:\n",
        "\n",
        "| メソッド | 機能 | 戻り値 |\n",
        "|:--|:--|:-:|\n",
        "| `weekday()` | 月曜日を 0 、日曜日を 6 として、曜日を整数で返す | `int` |\n",
        "| `isoweekday()` | 月曜日を 1 、日曜日を 7 として、曜日を整数で返す | `int` |\n",
        "| `isoformat()` | 日付を ISO 8601 形式の YYYY-MM-DD で表した文字列を返す | `str` |\n",
        "| `strftime(format)` | 書式指定 `format` 通りに整形した日付を表現する文字列を返す | `str` |\n",
        "| `__str__()` | `isoformat()` の別名 | `str` |\n",
        "| `__format__(format)` | `format` が空でない文字列なら `strftime(format)` を呼び出し、そうでないなら `str()` を呼び出す | `str` |\n",
        "| `replace(year=None, month=None, day=None)` | キーワード引数で指定した属性の値を除き、同じ値を持つ `date` オブジェクトを返す | `date` |\n",
        "\n",
        "`date` 型は独自の `__format__()` メソッドを定義しているため、f-string や `str.format()` メソッドで `date` 型特有の書式指定が使える。引数 `format` は任意の文字列でよく、その中に埋め込まれた、C89 規格が要求する全ての書式コードが置換される。ただし、時間は 24 時間表記で `00:00:00:00` として処理され、`%z` と `%Z` が空文字列に変換される。"
      ],
      "metadata": {
        "id": "U1d1nvnzGCx4"
      }
    },
    {
      "cell_type": "code",
      "source": [
        "import datetime as dt\n",
        "\n",
        "d1 = dt.date(1988, 8, 16)\n",
        "d2 = dt.date.fromisoformat(\"1988-08-16\")\n",
        "assert str(d1) == d1.isoformat() == str(d2) == d2.isoformat() == \"1988-08-16\"\n",
        "assert d1.weekday() == 1  # 火曜日\n",
        "assert d1.isoweekday() == 2\n",
        "assert f\"{d1:%Y年%m月%d日（%a）}\" == \"1988年08月16日（Tue）\""
      ],
      "metadata": {
        "id": "I8Ux1Q-BuwjE"
      },
      "execution_count": null,
      "outputs": []
    },
    {
      "cell_type": "markdown",
      "source": [
        "### time オブジェクト ###"
      ],
      "metadata": {
        "id": "nxT9jUwp9uxm"
      }
    },
    {
      "cell_type": "markdown",
      "source": [
        "`time` 型は時刻を表現する。主な属性は次のとおり。\n",
        "\n",
        "| プロパティ | 意味 | 型 |\n",
        "|:--|:--|:-:|\n",
        "| `hour` | 時（`0 <= hour < 24`） | `int` |\n",
        "| `minute` | 分（`0 <= minute < 60`） | `int` |\n",
        "| `second` | 秒（`0 <= second < 60`） | `int` |\n",
        "| `microsecond` | マイクロ秒（`0 <= microsecond < 1000000`） | `int` |\n",
        "| `tzinfo` | タイムゾーン情報（なければ `None`） | `tzinfo`  &#124; `None` |\n",
        "| `fold` | 夏時間の終了などにより同じ時刻が 2 回繰り返されるとき、<br />1 回目を 0、2 回目を 1 として識別できるようにする | `int` |\n",
        "\n",
        "`time` オブジェクトは、`datetime.time()` コンストラクタにより作成される。\n",
        "\n",
        "``` python\n",
        "datetime.time(hour=0, minute=0, second=0, microsecond=0, tzinfo=None, *, fold=0)\n",
        "```\n",
        "\n",
        "引数で指定した時刻を表す `time` オブジェクトを返す。引数が上記の属性値の範囲外にある場合、`ValueError` 例外が発生する。`tzinfo` 引数のみデフォルト値が `None` で、それ以外の引数のデフォルト値は `0`。\n",
        "\n",
        "``` python\n",
        "time.fromisoformat(time_string)\n",
        "```\n",
        "\n",
        "これはクラスメソッドであり、ISO 8601 形式の HH:MM:SS.ffffff で表した文字列 `time_string` から `time` オブジェクトを作成する。\n",
        "\n",
        "`time` オブジェクトのインスタンスメソッド:\n",
        "\n",
        "| メソッド | 機能 | 戻り値 |\n",
        "|:--|:--|:-:|\n",
        "| `isoformat()` | 時刻を ISO 8601 形式の HH:MM:SS.ffffff、またはマイクロ秒が 0 の場合は HH:MM:SS で表した文字列を返す | `str` |\n",
        "| `strftime(format)` | 書式指定 `format` 通りに整形した時刻を表現する文字列を返す | `str` |\n",
        "| `__str__()` | `isoformat()` の別名 | `str` |\n",
        "| `__format__(format)` | `format` が空でない文字列なら `strftime(format)` を呼び出し、そうでないなら `str()` を呼び出す | `str` |\n",
        "| `tzname()` | `tzinfo` が `None` の場合 `None` を返し、そうでない場合にはタイムゾーンの名前を返す | `str` &#124; `None` |\n",
        "| `replace(hour=self.hour,`<br />` minute=self.minute,`<br />` second=self.second,`<br />` microsecond=self.microsecond,`<br />` tzinfo=self.tzinfo,`<br />` *, fold=0)` | キーワード引数で指定した属性の値を除き、同じ値を持つ `time` オブジェクトを返す | `time` |\n",
        "| `utcoffset()` | `tzinfo` 属性が `None` の場合は `None` を返し、そうでない場合にはローカル時間の UTC からのオフセットを返す | `timedelta` |\n",
        "\n",
        "`time` 型は独自の `__format__()` メソッドを定義しているため、f-string や `str.format()` メソッドで `time` 型特有の書式指定が使える。`format` の中では、C89 規格が要求する全ての書式コードが置換されるが、日付は 1900-01-01 として処理される。`time` モジュールと違い、 `datetime` モジュールはうるう秒をサポートしていない。"
      ],
      "metadata": {
        "id": "KBJ4F-XK94SQ"
      }
    },
    {
      "cell_type": "code",
      "source": [
        "import datetime as dt\n",
        "\n",
        "t1 = dt.time(21, 30, 0)\n",
        "t2 = dt.time.fromisoformat(\"21:30:00\")\n",
        "assert str(t1) == t1.isoformat() == str(t2) == t2.isoformat() == \"21:30:00\"\n",
        "assert f\"{t1:%I時%M分%S秒（%p）}\" == \"09時30分00秒（PM）\""
      ],
      "metadata": {
        "id": "Wz-8riH1eXNn"
      },
      "execution_count": null,
      "outputs": []
    },
    {
      "cell_type": "markdown",
      "source": [
        "### datetime オブジェクト ###"
      ],
      "metadata": {
        "id": "05iXTSswMI06"
      }
    },
    {
      "cell_type": "markdown",
      "source": [
        "`datetime` クラスは、 `date` クラスのサブクラスであり、 `date` 型および `time` 型の全ての情報を持っている。\n",
        "\n",
        "`datetime` オブジェクトは、`datetime.datetime()` コンストラクタにより作成される。\n",
        "\n",
        "``` python\n",
        "datetime.datetime(year, month, day, hour=0, minute=0, second=0, microsecond=0, tzinfo=None, *, fold=0)\n",
        "```\n",
        "\n",
        "引数で指定した日時を表す `datetime` オブジェクトを返す。引数の意味は、`datetime.date()` および `datetime.time()` と同じである。\n",
        "\n",
        "``` python\n",
        "datetime.today()\n",
        "```\n",
        "これはクラスメソッドであり（ドットの前の `datetime` はモジュールの名前空間ではなく `datetime` クラスを表す。以下同様）であり、現在のローカルな日時を表す `datetime` オブジェクトを返す。\n",
        "\n",
        "``` python\n",
        "datetime.now(tz=None)\n",
        "```\n",
        "\n",
        "これはクラスメソッドであり、現在のローカルな日時を表す `datetime` オブジェクトを作成する。オプションの引数 `tz` が `None` であるか指定されていない場合、このメソッドは `today()` と等価である。`tz` が `datetime.tzinfo` のサブクラスのインスタンスである場合、現在の日時は `tz` のタイムゾーンに変換される。\n",
        "\n",
        "[公式ドキュメント](https://docs.python.org/ja/3/library/datetime.html#datetime.datetime.now)によると、`datetime.now()` は可能な限り高い精度で時刻を提供するので、`today()` よりもこの関数を使うほうが好ましいとのこと。\n",
        "\n",
        "``` python\n",
        "datetime.fromtimestamp(timestamp, tz=None)\n",
        "```\n",
        "\n",
        "これはクラスメソッドであり、POSIX タイムスタンプ形式の浮動小数点数 `timestamp` から `datetime` オブジェクトを作成する。`datetime.today()` と `datetime.fromtimestamp(time.time())` は等価である。\n",
        "\n",
        "``` python\n",
        "datetime.fromisoformat(date_string)\n",
        "```\n",
        "\n",
        "これはクラスメソッドであり、ISO 8601 形式の YYYY-MM-DDTHH:MM:SS.ffffff （区切り文字 T は空白でもよい）で表した文字列 `date_string` から `datetime` オブジェクトを作成する。\n",
        "\n",
        "`datetime` オブジェクトのインスタンスメソッド:\n",
        "\n",
        "| メソッド | 機能 | 戻り値 |\n",
        "|:--|:--|:-:|\n",
        "| `date()` | 同じ年、月、日の `date` オブジェクトを返す | `date` |\n",
        "| `time()` | 同じ時、分、秒、マイクロ秒及び` fold` を持つ `time` オブジェクトを返す。`tzinfo` は `None` | `time` |\n",
        "| `weekday()` | 月曜日を 0 、日曜日を 6 として、曜日を整数で返す | `int` |\n",
        "| `isoweekday()` | 月曜日を 1 、日曜日を 7 として、曜日を整数で返す | `int` |\n",
        "| `isoformat(sep='T', timespec='auto')` | 日時を ISO 8601 形式の YYYY-MM-DDTHH:MM:SS.ffffff、またはマイクロ秒が 0 の場合は YYYY-MM-DDTHH:MM:SS で表した文字列を<br />返す | `str` |\n",
        "| `strftime(format)` | 書式指定 `format` 通りに整形した日時を表現する文字列を返す | `str` |\n",
        "| `__str__()` | `isoformat(sep=' ')` を呼び出す | `str` |\n",
        "| `__format__(format)` | `format` が空でない文字列なら `strftime(format)` を呼び出し、そうでないなら `str()` を呼び出す | `str` |\n",
        "| `tzname()` | `tzinfo` が `None` の場合 `None` を返し、そうでない場合にはタイムゾーンの名前を返す | `str` &#124; `None` |\n",
        "| `replace(year=self.year,`<br />` month=self.month,`<br />` day=self.day,`<br />` hour=self.hour,`<br />` minute=self.minute,`<br />` second=self.second,`<br />` microsecond=self.microsecond,`<br />` tzinfo=self.tzinfo,`<br />` *, fold=0)` | キーワード引数で指定した属性の値を除き、同じ属性を持つ `datetime` オブジェクトを返す | `datetime` |\n",
        "| `astimezone(tz=None)` | `tz` を新たに `tzinfo` 属性 として持つ `datetime` オブジェクトを返す | `datetime` |\n",
        "| `utcoffset()` | `tzinfo` 属性が `None` の場合は `None` を返し、そうでない場合にはローカル時間の UTC からのオフセットを返す | `timedelta` |\n",
        "\n",
        "`strftime()` メソッドと `__format__()` メソッドにより、f-string や `str.format()` メソッドで `datetime` 型特有の書式指定が使える。`format` 引数の中では、C89 規格が要求する全ての書式コードが置換される。うるう秒はサポートされない。\n",
        "\n",
        "なお、`datetime` クラスは、インスタンスの `strftime()` メソッドによる変換とは逆の変換を行うクラスメソッド `datetime.strptime()` を持つ。ちなみに、`date` オブジェクトと `time` オブジェクトはこのようなクラスメソッドを持たない。\n",
        "\n",
        "``` python\n",
        "datetime.strptime(date_string, format)\n",
        "```\n",
        "\n",
        "これはクラスメソッドであり、`date_string` に対応した `datetime` オブジェクトを作成する。書式指定 `format` にしたがって構文解析される。"
      ],
      "metadata": {
        "id": "D8ZE6GmbMJwn"
      }
    },
    {
      "cell_type": "code",
      "source": [
        "import datetime as dt\n",
        "\n",
        "c1 = dt.datetime(1988, 8, 16, 21, 30)\n",
        "c2 = dt.datetime.fromisoformat(\"1988-08-16 21:30:00\")\n",
        "c3 = dt.datetime.strptime(\"1988年08月16日（Tue）09時30分00秒（PM）\", \"%Y年%m月%d日（%a）%I時%M分%S秒（%p）\")\n",
        "assert str(c1) == str(c2) == str(c3) == \"1988-08-16 21:30:00\"\n",
        "assert c1.isoformat() == c2.isoformat() == c3.isoformat() == \"1988-08-16T21:30:00\"\n",
        "assert f\"{c1:%Y年%m月%d日（%a）%I時%M分%S秒（%p）}\" == \"1988年08月16日（Tue）09時30分00秒（PM）\"\n",
        "assert c1.weekday() == 1  # 火曜日\n",
        "assert c1.isoweekday() == 2\n",
        "assert isinstance(c1.date(), dt.date)\n",
        "assert isinstance(c1.time(), dt.time)"
      ],
      "metadata": {
        "id": "d1OGnta5WucA"
      },
      "execution_count": null,
      "outputs": []
    },
    {
      "cell_type": "markdown",
      "source": [
        "### timedelta オブジェクト ###"
      ],
      "metadata": {
        "id": "JKmhKvNrwg8s"
      }
    },
    {
      "cell_type": "markdown",
      "source": [
        "`timedelta` オブジェクトは経過時間、すなわち二つの日付や時刻間の差を表す。主な属性は次のとおり。\n",
        "\n",
        "| プロパティ | 意味 | 型 |\n",
        "|:--|:--|:-:|\n",
        "| `days` | 日数（`-999999999 <= days <= 999999999`） | `int` |\n",
        "| `seconds` | 秒数（`0 <= seconds < 3600*24`） | `int` |\n",
        "| `microseconds` | マイクロ秒数（`0 <= microseconds < 1000000`） | `int` |\n",
        "\n",
        "`timedelta` オブジェクトは、`datetime.timedelta()` コンストラクタにより作成される。\n",
        "\n",
        "``` python\n",
        "datetime.timedelta(days=0, seconds=0, microseconds=0, milliseconds=0, minutes=0, hours=0, weeks=0)\n",
        "```\n",
        "\n",
        "引数で指定した経過時間を表す `timedelta` オブジェクトを返す。各引数は整数、浮動小数点数でもよく、正でも負でもかまわない。`timedelta` のコンストラクタは、引数（複数の引数を指定したら合算）を日数、秒数、マイクロ秒数に換算にしてプロパティ値に保持する。換算の結果、`days` が指定された範囲の外側になった場合には、`OverflowError` 例外が送出される。\n",
        "\n",
        "`c1` と `c2` を `datetime` オブジェクトとし、`d1` と `d2` を `timedelta` オブジェクトとする。このとき\n",
        "\n",
        "  * `c1 - c2` は `timedelta` オブジェクトを生成する。\n",
        "  * `c1 + d1` や `c1 - d1` は `datetime` オブジェクトを生成する。\n",
        "  * `d1 + d2` や `d1 - d2` は `timedelta` オブジェクトを生成する。\n",
        "  * `d1 * k` や `k * d1`、`d1 / k`（`k` は整数や浮動小数点）は `timedelta` オブジェクトを生成する。\n",
        "\n",
        "上記は、 `datetime` オブジェクト を `date` オブジェクトに読み替えても成り立つ。なお、`time` オブジェクトには `-` 演算子も `+` 演算子も定義されていない。\n",
        "\n",
        "また、`timedelta` オブジェクト同士で `==`、`!=`、`<`、`>` などの比較が可能である。"
      ],
      "metadata": {
        "id": "tXdBKOUbwic1"
      }
    },
    {
      "cell_type": "code",
      "source": [
        "import datetime as dt\n",
        "\n",
        "c1 = dt.datetime(2021, 10, 4)\n",
        "c2 = dt.datetime(2020, 9, 16)\n",
        "d = c1 - c2\n",
        "assert f\"日数は{d.days}\" == \"日数は383\"\n",
        "week = dt.timedelta(days=7)\n",
        "c3 = c1 + week\n",
        "assert f\"{c1:%Y/%m/%d}の1週間後は{c3:%Y/%m/%d}\" == \"2021/10/04の1週間後は2021/10/11\"\n",
        "c4 = c1 - week * 2\n",
        "assert f\"{c1:%Y/%m/%d}の2週間前は{c4:%Y/%m/%d}\" == \"2021/10/04の2週間前は2021/09/20\"\n",
        "assert c1 > c2\n",
        "assert week <= week * 2 == dt.timedelta(days=7, weeks=1)  # コンストラクタの引数は合算される"
      ],
      "metadata": {
        "id": "q0OPZNltO6k-"
      },
      "execution_count": null,
      "outputs": []
    },
    {
      "cell_type": "markdown",
      "source": [
        "タイムゾーン情報\n",
        "----------------"
      ],
      "metadata": {
        "id": "arOpbha5bFtG"
      }
    },
    {
      "cell_type": "markdown",
      "source": [
        "### aware オブジェクトと naive オブジェクト ###"
      ],
      "metadata": {
        "id": "eYIiHxX7tsk_"
      }
    },
    {
      "cell_type": "markdown",
      "source": [
        "`time` や `datetime` のインスタンスで、 `tzinfo` 属性の値（これはインスタンス化の際にコンストラクタ引数 `tzinfo` で設定される）が `None` であるものを **naive オブジェクト**と呼ぶ。コンストラクタ引数 `tzinfo` のデフォルトは `None` である。 `strftime()` の書式化コードで `%z` と `%Z` はオブジェクトが naive であれば空文字列となる。\n",
        "\n",
        "naive でない `time` や `datetime` のインスタンスを **aware オブジェクト**と呼ぶ。ただし、 `tzinfo` 属性の値は、 `datetime.tzinfo` のサブクラスのインスタンスである必要がある。\n",
        "\n",
        "`datetime` オブジェクト同士の差分 `c1 - c2` は、`c1`, `c2` が両方とも naive であるか、両方とも aware である必要がある。片方が aware でもう一方が naive の場合、 `TypeError` 例外が送出される。\n",
        "\n",
        "  * 両方とも naive か、両方とも aware で同じ `tzinfo` 属性を持つ場合、 `tzinfo` 属性は無視され、結果は `c2 + t == c1` であるような `timedelta` オブジェクト `t` となる。この場合、タイムゾーン修正は全く行われない。\n",
        "  * 両方が aware で異なる `tzinfo` 属性を持つ場合、 `c1 - c2` は `c1` および `c2` をまず naive な UTC `datetime` オブジェクトに変換したかのようにして行う。 演算結果は、各属性が範囲外にならない限り、`(c1.replace(tzinfo=None) - c1.utcoffset()) - (c2.replace(tzinfo=None) - c2.utcoffset())` と同じになる。\n",
        "\n",
        "`date` オブジェクトおよび `time` オブジェクト、`datetime` オブジェクトは、同じ型のオブジェクト同士の比較（等価性の比較と順序の比較）をサポートしている。異なる型との比較は、比較演算子が `==` または `!=` でない限り、`TypeError` 例外を送出する（`date` オブジェクトと `datetime` オブジェクトの比較であっても同様）。加えて、`time` オブジェクト同士の比較、および、`datetime` オブジェクト同士の比較は、2 つのオブジェクトが両方とも naive であるか、両方とも aware である必要がある。片方が aware でもう一方が naive の場合、 `TypeError` 例外が送出される。\n",
        "\n",
        "  * 比較対象が両方とも aware であり、同じ `tzinfo` 属性を持つ場合、 `tzinfo` は無視され日時だけで比較が行われる。\n",
        "  *  比較対象が両方とも aware であり、異なる `tzinfo` 属性を持つ場合、まず最初に（`self.utcoffset()` で取得できる）それぞれの UTC オフセットを引いて調整する。"
      ],
      "metadata": {
        "id": "pMKxyfABbGyP"
      }
    },
    {
      "cell_type": "code",
      "source": [
        "import datetime as dt\n",
        "\n",
        "c1 = dt.datetime(1988, 8, 16, 21, 30)\n",
        "c2 = dt.datetime.fromisoformat(\"1988-08-16 21:30:00\")\n",
        "c3 = dt.datetime(1988, 8, 17, 6, 0)\n",
        "assert c1 == c2  # naive な datetime 同士は等価性の比較が可能\n",
        "assert c1 < c3  # naive な datetime 同士は順序の比較が可能"
      ],
      "metadata": {
        "id": "leaYkE-fp3yW"
      },
      "execution_count": null,
      "outputs": []
    },
    {
      "cell_type": "markdown",
      "source": [
        "### timezone ###"
      ],
      "metadata": {
        "id": "gyE4FDNMtwqR"
      }
    },
    {
      "cell_type": "markdown",
      "source": [
        "`datetime.tzinfo` クラスは、タイムゾーンに関する情報を提供する全てのクラスの基底クラスとなる抽象基底クラスである。したがって、`datetime.tzinfo` クラスを直接インスタンス化すべきではない。\n",
        "\n",
        "`datetime.timezone` クラスは `datetime.tzinfo` のサブクラスで、UTC からの固定されたオフセットで定義されたタイムゾーンを表す。ただし、`datetime` オブジェクトや `time` オブジェクトの `fold` 属性をサポートしていないので、夏時間によって同じ時間が 2 回発生する問題には対処できない。`timezone` オブジェクトは、次のコンストラクタにより作成される。\n",
        "\n",
        "``` python\n",
        "datetime.timezone(offset, name=None)\n",
        "```\n",
        "\n",
        "`offset` には、ローカル時刻と UTC の差分を表す `timedelta` オブジェクトを指定しなくてはならならい。`name` を指定した場合、その値は `datetime.tzname()` メソッドの返り値として使われる。"
      ],
      "metadata": {
        "id": "W2mNZPArt2tl"
      }
    },
    {
      "cell_type": "code",
      "source": [
        "import datetime as dt\n",
        "\n",
        "JST = dt.timezone(dt.timedelta(hours=9), \"日本標準時\")\n",
        "assert isinstance(JST, dt.tzinfo)\n",
        "tokyo = dt.datetime(2021, 7, 23, 20, tzinfo=JST)\n",
        "assert f\"{tokyo} -- {tokyo.tzname()}\" == \"2021-07-23 20:00:00+09:00 -- 日本標準時\"\n",
        "assert str(dt.datetime(2021, 7, 23, 23, 51, tzinfo=JST) - tokyo) == \"3:51:00\"\n",
        "sydney = dt.datetime(2021, 7, 23, 18, tzinfo=dt.timezone(dt.timedelta(hours=10)))\n",
        "sydney - tokyo == dt.timedelta(hours=-3)\n",
        "try:\n",
        "    print(dt.datetime(2021, 7, 23, 23, 51) - tokyo)  # naive オブジェクトと aware オブジェクトの差分はエラー\n",
        "except TypeError as err:\n",
        "    print(f\"{type(err).__name__}: {err}\")"
      ],
      "metadata": {
        "colab": {
          "base_uri": "https://localhost:8080/"
        },
        "id": "6DM2g_aHbJy9",
        "outputId": "3e513827-f1bd-4670-ca3c-aa9cbef00f0a"
      },
      "execution_count": null,
      "outputs": [
        {
          "output_type": "stream",
          "name": "stdout",
          "text": [
            "TypeError: can't subtract offset-naive and offset-aware datetimes\n"
          ]
        }
      ]
    },
    {
      "cell_type": "markdown",
      "source": [
        "`datetime.timezone` にはクラス属性 `utc` が定義され、値は UTC タイムゾーン `timezone(timedelta(0))` である。また、Python 3.11 からは、モジュール定数 `datetime.UTC` が `datetime.timezone.utc` の別名として定義されている。"
      ],
      "metadata": {
        "id": "7ILna8yfLNd6"
      }
    },
    {
      "cell_type": "code",
      "source": [
        "import datetime as dt\n",
        "\n",
        "JST = dt.timezone(dt.timedelta(hours=9), \"日本標準時\")\n",
        "tokyo = dt.datetime(2021, 7, 23, 20, tzinfo=JST)\n",
        "assert tokyo == dt.datetime(2021, 7, 23, 11, tzinfo=dt.timezone.utc)  # Python 3.11 からは datetime.UTC"
      ],
      "metadata": {
        "id": "iduOrky2LOYw"
      },
      "execution_count": null,
      "outputs": []
    },
    {
      "cell_type": "markdown",
      "source": [
        "### ZoneInfo ###"
      ],
      "metadata": {
        "id": "bBNwZFrsucm9"
      }
    },
    {
      "cell_type": "markdown",
      "source": [
        "Python 3.9 以降、標準ライブラリに `zoneinfo` モジュールが追加された。`zoneinfo` が提供する `zoneinfo.ZoneInfo` クラスは `datetime.tzinfo` クラスのサブクラスであり、Internet Assigned Numbers Authority（IANA）が管理しているタイムゾーンデータベースをサポートする。このデータベースは、ほとんどの OS に内蔵されている。また `zoneinfo.ZoneInfo` クラスは、 `datetime` オブジェクトや `time` オブジェクトの `fold` 属性をサポートしており、夏時間によって同じ時間が 2 回発生する問題に対処できる。\n",
        "\n",
        "Windows は IANA タイムゾーンデータベースを内蔵していないので、サードパーティ製の [tzdata](https://pypi.org/project/tzdata/) をインストールする必要がある。ライセンスは Apache License 2.0。サードパーティ製のライブラリの中には、Windows 環境にインストールする場合に `tzdata` を自動的にインストールものもある（Django など）。 `tzdata` を手動でインストールする方法は次のとおり:\n",
        "\n",
        "``` shell\n",
        "pip install tzdata\n",
        "```\n",
        "\n",
        "`ZoneInfo` オブジェクトは、次のコンストラクタにより作成される。\n",
        "\n",
        "``` python\n",
        "zoneinfo.ZoneInfo(key)\n",
        "```\n",
        "\n",
        "`key` には、タイムゾーン名を指定する。タイムゾーン名は、`zoneinfo.available_timezones()` 関数で調べられる。"
      ],
      "metadata": {
        "id": "ogu0gIFnw4jd"
      }
    },
    {
      "cell_type": "code",
      "source": [
        "import datetime as dt\n",
        "from zoneinfo import ZoneInfo\n",
        "\n",
        "assert isinstance(ZoneInfo(\"Asia/Tokyo\"), dt.tzinfo)\n",
        "tokyo = dt.datetime(2021, 7, 23, 20, tzinfo=ZoneInfo(\"Asia/Tokyo\"))\n",
        "assert f\"{tokyo} -- {tokyo.tzname()}\" == \"2021-07-23 20:00:00+09:00 -- JST\""
      ],
      "metadata": {
        "id": "_PyC1gKBw6MS"
      },
      "execution_count": null,
      "outputs": []
    },
    {
      "cell_type": "markdown",
      "source": [
        "`ZoneInfo` のコンストラクタは、デフォルトではメモ化が有効になっているので、同じキーによる呼び出しでは新しいオブジェクトを返すのではなくキャッシュされたオブジェクトを返す。"
      ],
      "metadata": {
        "id": "4DF8EZy4_b6T"
      }
    },
    {
      "cell_type": "markdown",
      "source": [
        "### タイムゾーンの変更 ###"
      ],
      "metadata": {
        "id": "jpvSRkxcvxLM"
      }
    },
    {
      "cell_type": "markdown",
      "source": [
        "`replace()` メソッドを使ってタイムゾーンだけを変更し、日時を変更しないオブジェクトを生成することができる。aware な `datetime` オブジェクトの `replace()` メソッドで `tzinfo=None` を指定すると、naive な `datetime` オブジェクトを生成することもできる。"
      ],
      "metadata": {
        "id": "irO93syHvwTv"
      }
    },
    {
      "cell_type": "code",
      "source": [
        "import datetime as dt\n",
        "from zoneinfo import ZoneInfo\n",
        "\n",
        "# naive な datetime オブジェクトから aware な datetime オブジェクトを生成する\n",
        "c0 = dt.datetime(2020, 11, 1, 1)\n",
        "c1 = c0.replace(tzinfo=ZoneInfo(\"Asia/Tokyo\"))\n",
        "print(f\"{c1=!s}\")\n",
        "\n",
        "# タイムゾーンを変更する\n",
        "c2 = c1.replace(tzinfo=ZoneInfo(\"America/New_York\"))\n",
        "print(f\"{c2=!s}\")\n",
        "\n",
        "# aware な datetime オブジェクトから naive な datetime オブジェクトを生成する\n",
        "c3 = c2.replace(tzinfo=None)\n",
        "print(f\"{c3=!s}\")\n",
        "\n",
        "# ZoneInfo は fold 属性に対応する\n",
        "print(\"(fold=1):\", c2.replace(fold=1))\n",
        "print(\"(fold=1):\", c2.replace(year=2023, month=11, day=1, fold=1))  # 2023年以降、アメリカは夏時間が標準時間となる"
      ],
      "metadata": {
        "colab": {
          "base_uri": "https://localhost:8080/"
        },
        "id": "RB7K6t5O0cr6",
        "outputId": "4d4e13bc-52c3-4c6c-be67-db10e2eaac2c"
      },
      "execution_count": null,
      "outputs": [
        {
          "output_type": "stream",
          "name": "stdout",
          "text": [
            "c1=2020-11-01 01:00:00+09:00\n",
            "c2=2020-11-01 01:00:00-04:00\n",
            "c3=2020-11-01 01:00:00\n",
            "(fold=1): 2020-11-01 01:00:00-05:00\n",
            "(fold=1): 2023-11-01 01:00:00-04:00\n"
          ]
        }
      ]
    },
    {
      "cell_type": "markdown",
      "source": [
        "`datetime` オブジェクトの `astimezone()` メソッドを使うと、タイムゾーンを変更するとともに日時もタイムゾーンのローカル日時に変更された `datetime` オブジェクトを生成する。aware な `datetime` オブジェクトの `astimezone()` に `None` を渡した場合は、システムのローカルなタイムゾーンが指定されたとみなされるのであって、naive な `datetime` オブジェクトが生成されるわけではないことに注意する。"
      ],
      "metadata": {
        "id": "yFzdDrI0YgMh"
      }
    },
    {
      "cell_type": "code",
      "source": [
        "import datetime as dt\n",
        "from zoneinfo import ZoneInfo\n",
        "\n",
        "# naive な datetime オブジェクトから aware な datetime オブジェクトを生成する\n",
        "c0 = dt.datetime(2030, 10, 31, 9)\n",
        "c1 = c0.astimezone(ZoneInfo(\"Asia/Tokyo\"))\n",
        "print(f\"{c1=!s}\")  # Colab のタイムゾーンはデフォルトで UTC なので 9:00 + 9:00 = 18:00\n",
        "\n",
        "# タイムゾーンを変更する\n",
        "c2 = c1.astimezone(ZoneInfo(\"America/New_York\"))\n",
        "print(f\"{c2=!s}\")\n",
        "\n",
        "# None を渡した場合はシステムのローカルなタイムゾーンに変更される\n",
        "c3 = c2.astimezone(None)\n",
        "print(f\"{c3=!s}\")"
      ],
      "metadata": {
        "colab": {
          "base_uri": "https://localhost:8080/"
        },
        "id": "yqb24tG-vzc2",
        "outputId": "443adce5-a3a7-4920-d208-cdf8bff6139e"
      },
      "execution_count": null,
      "outputs": [
        {
          "output_type": "stream",
          "name": "stdout",
          "text": [
            "c1=2030-10-31 18:00:00+09:00\n",
            "c2=2030-10-31 05:00:00-04:00\n",
            "c3=2030-10-31 09:00:00+00:00\n"
          ]
        }
      ]
    },
    {
      "cell_type": "markdown",
      "source": [
        "calendar\n",
        "--------"
      ],
      "metadata": {
        "id": "Nyzd1J704MHI"
      }
    },
    {
      "cell_type": "markdown",
      "source": [
        "標準ライブラリの `calendar` モジュールは、カレンダーに関する関数を提供する。\n",
        "\n",
        "| 関数 | 機能 | 戻り値 |\n",
        "|:---|:---|:--:|\n",
        "| `calendar.isleap(year)` | `year` が閏年なら `True` を、そうでなければ `False` を返す | `bool` |\n",
        "| `calendar.leapdays(y1, y2)` | `y1` を開始年、`y2` を終了年として、その期間（終了年は含まれない）の閏年の数を返す | `int` |\n",
        "| `calendar.monthrange(year, month)` | `year` と `month` で月を指定する。この関数は、指定された月の月初の曜日（ 0 は月曜日、6 は日曜日）と、その月の日数を<br />要素とするタプルを返す | `tuple` |\n",
        "| `calendar.monthcalendar(year, month)` | `year` と `month` で指定された月のカレンダーを行列で返す。各行が週を表し、月の範囲外の日は 0 になる。それぞれの週<br />は `setfirstweekday()` で設定をしていない限り月曜日から始まる | `list` |\n",
        "| `calendar.month(year, month, w=0, l=0)` | `year` と `month` で指定された月のカレンダーを複数行の文字列で返す。`w` により日の列幅を変えることができ、それらは<br />中央揃えされる。`l` により各週の表示される行数を変えることができる | `str` |\n",
        "| `calendar.setfirstweekday(weekday)` | 週の最初の曜日（ 0 は月曜日、6 は日曜日）を設定する。定数 `calendar.MONDAY`、`calendar.TUESDAY`、`calendar.WEDNESDAY`、<br />`calendar.THURSDAY`、`calendar.FRIDAY`、`calendar.SATURDAY`、`calendar.SUNDAY` が使える | `None` |\n",
        "| `calendar.firstweekday()` | 現在設定されている週の最初の曜日を返す | `int` |\n",
        "\n",
        "`calendar.monthrange()` 関数は月末の日付を知るのに便利である。"
      ],
      "metadata": {
        "id": "yPkmzu074Mug"
      }
    },
    {
      "cell_type": "code",
      "source": [
        "import calendar\n",
        "\n",
        "assert calendar.isleap(2020)\n",
        "_, days = calendar.monthrange(2020, 2)\n",
        "assert days == 29\n",
        "print(calendar.monthcalendar(2020, 2))"
      ],
      "metadata": {
        "id": "hXH_6zd6GswD",
        "colab": {
          "base_uri": "https://localhost:8080/"
        },
        "outputId": "8e1de934-15a3-409a-ec1a-b08e41fd6e0e"
      },
      "execution_count": null,
      "outputs": [
        {
          "output_type": "stream",
          "name": "stdout",
          "text": [
            "[[0, 0, 0, 0, 0, 1, 2], [3, 4, 5, 6, 7, 8, 9], [10, 11, 12, 13, 14, 15, 16], [17, 18, 19, 20, 21, 22, 23], [24, 25, 26, 27, 28, 29, 0]]\n"
          ]
        }
      ]
    },
    {
      "cell_type": "markdown",
      "source": [
        "月のカレンダーを出力するだけなら、`calendar.month()` 関数が使える。"
      ],
      "metadata": {
        "id": "zuHfYvAQw1I5"
      }
    },
    {
      "cell_type": "code",
      "source": [
        "import calendar\n",
        "calendar.setfirstweekday(calendar.SUNDAY)\n",
        "print(calendar.month(2020, 2))"
      ],
      "metadata": {
        "colab": {
          "base_uri": "https://localhost:8080/"
        },
        "id": "33OjOqibw2D-",
        "outputId": "381e503a-c315-477f-8b08-3639643efe50"
      },
      "execution_count": null,
      "outputs": [
        {
          "output_type": "stream",
          "name": "stdout",
          "text": [
            "   February 2020\n",
            "Su Mo Tu We Th Fr Sa\n",
            "                   1\n",
            " 2  3  4  5  6  7  8\n",
            " 9 10 11 12 13 14 15\n",
            "16 17 18 19 20 21 22\n",
            "23 24 25 26 27 28 29\n",
            "\n"
          ]
        }
      ]
    },
    {
      "cell_type": "markdown",
      "source": [
        "dateutil\n",
        "--------"
      ],
      "metadata": {
        "id": "royk-Xr8u9dE"
      }
    },
    {
      "cell_type": "markdown",
      "source": [
        "サードパーティ製パッケージ [dateutil](https://pypi.org/project/python-dateutil/) は、`datetime` モジュールを補強する機能を提供する。ライセンスは Apache License 2.0。インストール方法は次のとおり。\n",
        "\n",
        "``` shell\n",
        "pip install python-dateutil\n",
        "```"
      ],
      "metadata": {
        "id": "WyDBIPVI6Vb1"
      }
    },
    {
      "cell_type": "markdown",
      "source": [
        "### 日時計算の拡張 ###"
      ],
      "metadata": {
        "id": "6xFnIpdj6Wf_"
      }
    },
    {
      "cell_type": "markdown",
      "source": [
        "`timedelta` オブジェクトによる計算は日数・秒数によるものしかなく、よく出くわす以下のような日時関連の処理をそれだけで実装するのは面倒である。\n",
        "\n",
        "  * 〇ヶ月後の日付\n",
        "  * 次の〇曜日の日付\n",
        "  * 今月の最終金曜日の日付\n",
        "\n",
        "`dateutil` が提供する `dateutil.relativedelta.relativedelta` オブジェクトを使えば、このような処理を容易に実装できる。`relativedelta` は `timedelta` の拡張である。`relativedelta()` コンストラクタには、次の引数をキーワード付きで指定できる。\n",
        "\n",
        "| 引数 | 意味 | デフォルト |\n",
        "|:---|:---|:--:|\n",
        "| `years` | 年数 | `0` |\n",
        "| `months` | 月数 | `0` |\n",
        "| `days` | 日数 | `0` |\n",
        "| `weeks` | 週数 | `0` |\n",
        "| `hours` | 時間数 | `0` |\n",
        "| `minutes` | 分数 | `0` |\n",
        "| `seconds` | 秒数 | `0` |\n",
        "| `microseconds` | マイクロ秒数 | `0` |\n",
        "| `year` | 年 | `None` |\n",
        "| `month` | 月 | `None` |\n",
        "| `day` | 日 | `None` |\n",
        "| `hour` | 時 | `None` |\n",
        "| `minute` | 分 | `None` |\n",
        "| `second` | 秒 | `None` |\n",
        "| `microsecond` | マイクロ秒 | `None` |\n",
        "| `weekday` | 曜日オブジェクト `MO`, `TU`, `WE`, `TH`, `FR`, `SA`, `SU` を与える。`FR(1)` は次の金曜、`FR(2)` は<br />次の次の金曜、`FR(-1)` は直前の金曜の意味。`FR(1)` は `FR` と省略できる | `None` |\n",
        "| `yearday` | 1月1日からの経過日数 | `None` |\n",
        "\n",
        "これらのコンストラクタ引数に渡した値は、`yearday` を除き、インスタンスの同名の属性に格納される。\n",
        "\n",
        "`years` などの `s` が付く属性は、日時計算の単位を表す。`relativedelta` は閏年や各月の日数に対応しているので、年単位・月単位で足し算・引き算をした日付を簡単に求めることができる。\n",
        "\n",
        "`year` などの `s` が付かない属性は、日時計算に際し、その値で置き換えることを表す。`day` に 31 以上の整数を指定した場合、日時計算に際し、月末の日付（例えば 4 月なら 30 日）に自動的に補正される。"
      ],
      "metadata": {
        "id": "nxNcQOVbu-rg"
      }
    },
    {
      "cell_type": "code",
      "source": [
        "import dateutil.relativedelta as dr\n",
        "import datetime as dt\n",
        "\n",
        "TODAY = dt.date(2023, 10, 31)\n",
        "NOW = dt.datetime(2023, 10, 31)\n",
        "\n",
        "# 来月\n",
        "assert TODAY + dr.relativedelta(months=+1) == dt.date(2023, 11, 30)\n",
        "\n",
        "# 来月の翌週\n",
        "assert TODAY + dr.relativedelta(months=+1, weeks=+1) == dt.date(2023, 12, 7)\n",
        "\n",
        "# 来月の翌週の午前10時\n",
        "assert NOW + dr.relativedelta(months=+1, weeks=+1, hour=10) == dt.datetime(2023, 12, 7, 10, 0)\n",
        "\n",
        "# 去年の元日\n",
        "assert TODAY + dr.relativedelta(years=-1, month=1, day=1) == dt.date(2022, 1, 1)\n",
        "\n",
        "# 次の金曜日\n",
        "assert TODAY + dr.relativedelta(weekday=dr.FR) == dt.date(2023, 11, 3)\n",
        "\n",
        "# 今月の最後の金曜日\n",
        "assert TODAY + dr.relativedelta(day=31, weekday=dr.FR(-1)) == dt.date(2023, 10, 27)\n",
        "\n",
        "# 100 日目\n",
        "assert dt.date(2011, 1, 1) + dr.relativedelta(yearday=100) == dt.date(2011, 4, 10)"
      ],
      "metadata": {
        "id": "A9jQk1x5P4YR"
      },
      "execution_count": null,
      "outputs": []
    },
    {
      "cell_type": "markdown",
      "source": [
        "`relativedelta()` には、位置引数として、2 つの `date` オブジェクト、または、2 つの `datetime` オブジェクトを渡すと、日時の差分を表す `relativedelta` オブジェクトを取得できる。"
      ],
      "metadata": {
        "id": "-ACWnaTO80XO"
      }
    },
    {
      "cell_type": "code",
      "source": [
        "import dateutil.relativedelta as dr\n",
        "import datetime as dt\n",
        "\n",
        "NOW = dt.datetime(2023, 10, 31)\n",
        "john_birthday = dt.datetime(1978, 4, 5, 12, 0)\n",
        "rel = dr.relativedelta(NOW, john_birthday)\n",
        "assert rel.years == 45  # 年齢"
      ],
      "metadata": {
        "id": "queWrU9o81UP"
      },
      "execution_count": null,
      "outputs": []
    },
    {
      "cell_type": "markdown",
      "source": [
        "### 日時文字列の変換 ###"
      ],
      "metadata": {
        "id": "rARqN70N-PQJ"
      }
    },
    {
      "cell_type": "markdown",
      "source": [
        "`dateutil.parser.parse()` 関数は、日時を表現する文字列を解析し、`datetime.datetime` オブジェクトに変換する。\n",
        "\n",
        "``` python\n",
        "dateutil.parser.parse(timestr, **kwargs)\n",
        "```\n",
        "\n",
        "`timestr` 引数に解析の対象とする文字列を指定する。この関数は、ISO 8601 形式の文字列はもちろん、それ以外の形式でも英米で使われる日時表現ならだいたいは対応する。`'2009年5月1日'` のような日本の形式には対応しない。\n",
        "\n",
        "キーワード引数 `dayfirst` と `yearfirst` は、`'01/05/09'` のように、日付の解釈があいまいになる場合に解釈の優先度を指定する。両方とも、デフォルトでは `False`。\n",
        "\n",
        "| dayfirst | yearfirst | 形式の優先度 |\n",
        "|:---|:---|:---|\n",
        "| `Flase` | `Flase` | 月/日/年 ⇒ 日/月/年 ⇒ 年/月/日 |\n",
        "| `Flase` | `True` | 年/月/日 ⇒ 月/日/年 ⇒ 日/月/年 |\n",
        "| `True` | `Flase` | 日/月/年 ⇒ 月/日/年 ⇒ 年/月/日 |\n",
        "| `True` | `True` | 年/月/日 ⇒ 日/月/年 ⇒ 月/日/年 |\n",
        "\n",
        "また、`dateutil` はタイムゾーンに関する機能を独自に提供しているため、タイムゾーンに関する文字列も解析可能。"
      ],
      "metadata": {
        "id": "bg_Hc7YL-QPP"
      }
    },
    {
      "cell_type": "code",
      "source": [
        "import dateutil.parser\n",
        "import datetime\n",
        "\n",
        "c1 = datetime.datetime(2018, 12, 20, 0, 0)\n",
        "assert dateutil.parser.parse('2018/12/20') == c1\n",
        "assert dateutil.parser.parse('2018-12-20') == c1\n",
        "assert dateutil.parser.parse('18/12/20', yearfirst=True) == c1  # yearfirst=False では 2020/12/18\n",
        "\n",
        "c2 = c1.replace(hour=19, minute=20)\n",
        "assert dateutil.parser.parse('2018/12/20 19:20') == c2\n",
        "assert dateutil.parser.parse('Tuesday, 20th December, 2018 at 7:20pm') == c2\n",
        "\n",
        "c3 = dateutil.parser.parse('Thu, 20 Dec 2018 19:20 +0900 (JST)')\n",
        "print(f'{c3=}')"
      ],
      "metadata": {
        "colab": {
          "base_uri": "https://localhost:8080/"
        },
        "id": "54Dl0B-g-Xml",
        "outputId": "b2a211dd-4b8b-4655-96ce-a1fb48b7db74"
      },
      "execution_count": null,
      "outputs": [
        {
          "output_type": "stream",
          "name": "stdout",
          "text": [
            "c3=datetime.datetime(2018, 12, 20, 19, 20, tzinfo=tzoffset('JST', 32400))\n"
          ]
        }
      ]
    },
    {
      "cell_type": "markdown",
      "source": [
        "### 繰り返し規則 ###"
      ],
      "metadata": {
        "id": "FIZWm6cSgSX9"
      }
    },
    {
      "cell_type": "markdown",
      "source": [
        "`dateutil.rrule.rrule` オブジェクトは、「毎日」「毎週」「毎月第 2 火曜日」などの繰り返し規則に沿って`datetime.datetime` オブジェクトを返すイテレーターである。コンストラクタは、次のとおり:\n",
        "\n",
        "``` python\n",
        "dateutil.rrule.rrule(freq, dtstart=None, interval=1, wkst=None, count=None, until=None, bysetpos=None, bymonth=None, bymonthday=None, byyearday=None, byeaster=None, byweekno=None, byweekday=None, byhour=None, byminute=None, bysecond=None, cache=False)\n",
        "```\n",
        "\n",
        "| 引数 | 意味 |\n",
        "|:---|:---|\n",
        "| `freq` | 頻度の種類を、定数 `dateutil.rrule.YEARLY`, `dateutil.rrule.MONTHLY`, `dateutil.rrule.WEEKLY`, `dateutil.rrule.DAILY`, `dateutil.rrule.HOURLY`, `dateutil.rrule.MINUTELY`, <br />`dateutil.rrule.SECONDLY` のいずれかで指定する |\n",
        "| `dtstart` | 繰り返しを始める日時を `datetime.datetime` オブジェクトで指定する。指定しない場合、`datetime.datetime.now()` が使用される |\n",
        "| `interval` | 次の繰り返しまでの間隔を指定する。たとえば、`YEARLY` 頻度を使用する場合、`interval=2` は 2 年に 1 回を意味する。デフォルトは 1 |\n",
        "| `wkst` | 週の最初の曜日（ 0 は月曜日、6 は日曜日）を設定する。デフォルト値は、`calendar.firstweekday()` から取得される |\n",
        "| `count` | 繰り返しの回数を指定する。`count` を指定した場合、`until` を指定してはならない\n",
        "| `until` | 繰り返しを止める日時を `datetime.datetime` オブジェクトで指定する。`until` を指定した場合、`count` を指定してはならない\n",
        "| `bysetpos` | 何番目に出現するかを指定する。たとえば、毎月第 2 火曜日としたい場合、`bysetpos` の 2 と `MONTHLY` 頻度と `byweekday` の 1 を組み合わせる。負の整数も使える\n",
        "| `byxxx` | `dtstart` で決まる繰り返し日時を変更する |\n",
        "| `cache` | `True` を指定すると、キャッシュを有効にする。同じ `rrule` インスタンスを複数回使用する場合、キャッシュを有効にするとパフォーマンスが大幅に向上する |"
      ],
      "metadata": {
        "id": "6kgHW4YUgTRZ"
      }
    },
    {
      "cell_type": "code",
      "source": [
        "from dateutil.rrule import rrule, MONTHLY\n",
        "import datetime\n",
        "\n",
        "start_date = datetime.datetime(2020, 5, 24, 8, 20)\n",
        "list(rrule(freq=MONTHLY, dtstart=start_date, count=4))"
      ],
      "metadata": {
        "colab": {
          "base_uri": "https://localhost:8080/"
        },
        "id": "u-f26J66Ajwm",
        "outputId": "3c4d73e1-28c9-4173-e8fe-e8e416d1b86d"
      },
      "execution_count": null,
      "outputs": [
        {
          "output_type": "execute_result",
          "data": {
            "text/plain": [
              "[datetime.datetime(2020, 5, 24, 8, 20),\n",
              " datetime.datetime(2020, 6, 24, 8, 20),\n",
              " datetime.datetime(2020, 7, 24, 8, 20),\n",
              " datetime.datetime(2020, 8, 24, 8, 20)]"
            ]
          },
          "metadata": {},
          "execution_count": 19
        }
      ]
    }
  ]
}