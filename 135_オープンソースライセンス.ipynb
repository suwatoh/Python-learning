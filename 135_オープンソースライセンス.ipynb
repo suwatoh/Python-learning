{
  "nbformat": 4,
  "nbformat_minor": 0,
  "metadata": {
    "colab": {
      "provenance": [],
      "authorship_tag": "ABX9TyNbXfY/JyP5k4L6hjdAxlKk",
      "include_colab_link": true
    },
    "kernelspec": {
      "name": "python3",
      "display_name": "Python 3"
    },
    "language_info": {
      "name": "python"
    }
  },
  "cells": [
    {
      "cell_type": "markdown",
      "metadata": {
        "id": "view-in-github",
        "colab_type": "text"
      },
      "source": [
        "<a href=\"https://colab.research.google.com/github/suwatoh/Python-learning/blob/main/135_%E3%82%AA%E3%83%BC%E3%83%97%E3%83%B3%E3%82%BD%E3%83%BC%E3%82%B9%E3%83%A9%E3%82%A4%E3%82%BB%E3%83%B3%E3%82%B9.ipynb\" target=\"_parent\"><img src=\"https://colab.research.google.com/assets/colab-badge.svg\" alt=\"Open In Colab\"/></a>"
      ]
    },
    {
      "cell_type": "markdown",
      "source": [
        "オープンソースライセンス\n",
        "========================"
      ],
      "metadata": {
        "id": "zBHxfC9b1lTH"
      }
    },
    {
      "cell_type": "markdown",
      "source": [
        "オープンソースとパブリックドメイン\n",
        "----------------------------------"
      ],
      "metadata": {
        "id": "fjaTTU5u2JvZ"
      }
    },
    {
      "cell_type": "markdown",
      "source": [
        "### オープンソース ###"
      ],
      "metadata": {
        "id": "FArA2XSiH4Oj"
      }
    },
    {
      "cell_type": "markdown",
      "source": [
        "ベルヌ条約第 2 条は「文学的及び美術的著作物」が保護されることを規定し、WIPO 著作権条約第 4 条はコンピュータープログラムがそれに含まれることを明記している。\n",
        "\n",
        "両条約の締約国である日本の著作権法第 10 条第 1 項は「プログラムの著作物」を著作物と認め、同第 3 項はプログラミング言語、プロトコルやインターフェースなどの決まり事、また、アルゴリズムが法律による保護の対象外であると定める。\n",
        "\n",
        "プログラムが著作物として保護されることは明確である。誰が書いても同一になるといった創作的表現の要件を欠く作品でない限り、プログラムを作成した時点で著作権が自動的に発生する。プログラムの「利用」、すなわちソースコードを使用、調査、再利用、修正、拡張、再配布する行為は複製であって、無断なら著作権侵害である。**オープンソースソフトウェア**（Open Source Software; OSS）は、これらの行為を一定の条件付きで許諾するソフトウェアである。OSS ライセンスは、この著作権に基づく許諾である。その性質は一方的であり、双方の合意によって成立するものではない。全ての人は OSS の作者が定めたライセンスに従わなければならない。\n",
        "\n",
        "一方、**パッケージソフトウェア**（packaged software）を使用するに際して、ソフトウェア使用許諾契約（EULA）の承諾を求められることがあるが、これは著作権に基づく許諾とは異なる。パッケージソフトウェアの販売では、元のプログラムを媒体に複製するのは開発元であって、購入者が複製するわけではない。プログラムをコンピュータで「使用」する行為は著作権侵害とはいえないから、パッケージソフトウェアの使用に対して許諾は求められない。EULA は、購入者が承諾しなければ従う必要がないものである（ボタンのクリックや包装の開封は承諾とみなされる）。"
      ],
      "metadata": {
        "id": "vtjG6RH_c3kj"
      }
    },
    {
      "cell_type": "markdown",
      "source": [
        "### ライセンスの互換性 ###"
      ],
      "metadata": {
        "id": "vmUAD9yGg7I2"
      }
    },
    {
      "cell_type": "markdown",
      "source": [
        "異なるライセンスを付けられた OSS を組み合わせた場合に、2 つのライセンスが両立するなら**互換性**（compatibility）があるという。互換性のないライセンスを付けられた OSS を結合したソフトウェアを公開すると、いずれかのライセンスに違反し著作権侵害となる。"
      ],
      "metadata": {
        "id": "huQavX4zg76P"
      }
    },
    {
      "cell_type": "markdown",
      "source": [
        "### パブリックドメイン ###"
      ],
      "metadata": {
        "id": "Z1AV9X0PMqPh"
      }
    },
    {
      "cell_type": "markdown",
      "source": [
        "**パブリックドメイン**（public domain）とは、著作物に著作権が存在しない状態を指す。パブリックドメインソフトウェアは OSS と混同されることがあるが、OSS は発生した著作権に基づいて自由な利用を許諾するものであるから、著作権が存在するかしないかという根本的な部分で両者は全く異なる概念である。\n",
        "\n",
        "著作権の放棄を宣言した場合、日本では著作者人格権が留保されると解されるものの、事実上のパブリックドメインとして扱うことができる。Unlicense はそのような宣言に使われる形式である。\n",
        "\n",
        "  * Unlicense 原文（英語）: https://opensource.org/license/unlicense\n",
        "  * Unlicense 日本語訳: https://licenses.opensource.jp/Unlicense/Unlicense.html\n",
        "\n",
        "また、[クリエイティブ・コモンズ](https://creativecommons.org/)が提供するツール CC0 1.0 は、作者の著作権を含む極力多くの権利を手放し、パブリックドメインへの供与を宣言するために使われる。\n",
        "\n",
        "当然ながら、これらの宣言はあらゆる OSS ライセンスと両立する（つまり互換性の問題が生じない）。"
      ],
      "metadata": {
        "id": "vURepIKAMrvC"
      }
    },
    {
      "cell_type": "markdown",
      "source": [
        "コピーレフト\n",
        "------------"
      ],
      "metadata": {
        "id": "O_MReWVC2C9f"
      }
    },
    {
      "cell_type": "markdown",
      "source": [
        "**コピーレフト**（Copyleft）とは、オープンソースの権利に関する考え方の一つで、ソースコードの自由な利用・改変・再配布を認め、また、そこから派生した著作物（二次的著作物）についてこれらの行為を制限してはならないという考え方である。著作権（copyright）の反対で「left」という言葉遊び的な名称になっている。"
      ],
      "metadata": {
        "id": "QwMpuDCUNavS"
      }
    },
    {
      "cell_type": "markdown",
      "source": [
        "### GPL ###"
      ],
      "metadata": {
        "id": "LXDQGTxCNb45"
      }
    },
    {
      "cell_type": "markdown",
      "source": [
        "GNU General Public License の略。GNU プロジェクトが開発するフリーソフトウェア群や Linux カーネルで採用されている。他のライセンスと比較すると、制限が強く、厳格にコピーレフトの概念を具現化したライセンスとなっている。\n",
        "\n",
        "  * 利用者は著作物を無償で利用・改変・再配布できる\n",
        "  * 利用者は原著作物を改変したり組み込んだりした二次的、派生的な著作物を再配布できる\n",
        "  * 二次的著作物について、その作者は第三者による自由な使用、改変、再配布を制限してはならない\n",
        "  * コピー、再配布の際には、その後の利用に制限が無いよう、全ての情報を含める必要がある（ソフトウェアではソースコード含む）\n",
        "  * 二次的著作物にも同一のライセンスを適用し、これを明記しなければならない（原著作物の著作権表示や GPL ライセンスの全文を掲載する）\n",
        "  * 商用利用は可能である\n",
        "  * 著作物に関する保証はない\n",
        "\n",
        "「組み込み」には、GPL のモジュールをライブラリとして呼び出しているだけの場合も含まれる。このような場合にもプログラム全体のソースコードの公開義務が生じることから「GPL 感染」ともいわれている。一方、ライブラリではなくコマンドとして呼び出す場合は、バイナリを配布しないなら利用者にソースコードの公開義務はない。Web サーバに組み込んで Web サービスとして公開する場合は、バイナリを「再配布」していないから、開発コードを公開する必要はない。\n",
        "\n",
        "以上は version 2.0（GPL v2.0）の内容であるが、 version 3.0（GPL v3.0）では、特許権に関する条項（利用者への特許使用権付与と利用者による特許権行使の制限）が加わり、また、特定のハードウェアでの実行を制限したり、DRM（デジタル著作権管理）を追加することで自由な使用を制限する行為を禁じる条項が加えられた。\n",
        "\n",
        "  * GPL v2.0 原文（英語）: https://opensource.org/license/GPL-2.0\n",
        "  * GPL v2.0 日本語訳: https://licenses.opensource.jp/GPL-2.0/GPL-2.0.html\n",
        "  * GPL v3.0 原文（英語）: https://opensource.org/license/GPL-3.0\n",
        "  * GPL v3.0 日本語訳: https://licenses.opensource.jp/GPL-3.0/GPL-3.0.html"
      ],
      "metadata": {
        "id": "0m9wYgHqNk5a"
      }
    },
    {
      "cell_type": "markdown",
      "source": [
        "### AGPL ###"
      ],
      "metadata": {
        "id": "zewl8QIJU8G9"
      }
    },
    {
      "cell_type": "markdown",
      "source": [
        "GNU Affero General Public License の略。主なバージョンは 3.0（AGPL v3.0）。Web サービスとして公開する場合にもソースコードの公開義務が生じる条項が含まれる。その他の条項はほとんど GPL v3.0 と同一である。\n",
        "\n",
        "  * AGPL v3.0 原文（英語）: https://opensource.org/license/agpl-v3\n",
        "  * AGPL v3.0 日本語訳: https://licenses.opensource.jp/AGPL-3.0/AGPL-3.0.html"
      ],
      "metadata": {
        "id": "hiMSY9f4U8_4"
      }
    },
    {
      "cell_type": "markdown",
      "source": [
        "### LGPL ###"
      ],
      "metadata": {
        "id": "5nrmAIKNwZ3e"
      }
    },
    {
      "cell_type": "markdown",
      "source": [
        "GNU Lesser General Public License の略。GPL をベースとしているが、GPL モジュールをライブラリとして呼び出すだけであればソースコードの公開は不要としたものである。LGPL モジュールを改変した場合は、改変したソースコードを公開する義務がある。\n",
        "\n",
        "  * LGPL v2.1 原文（英語）: https://opensource.org/licenses/LGPL-2.1\n",
        "  * LGPL v2.1 日本語訳: https://licenses.opensource.jp/LGPL-2.1/LGPL-2.1.html\n",
        "  * LGPL v3.0 原文（英語）: https://opensource.org/licenses/LGPL-3.0\n",
        "  * LGPL v3.0 日本語訳: https://licenses.opensource.jp/LGPL-3.0/LGPL-3.0.html"
      ],
      "metadata": {
        "id": "5G7egGHEwbH8"
      }
    },
    {
      "cell_type": "markdown",
      "source": [
        "### MPL ###"
      ],
      "metadata": {
        "id": "oZkP41VB-_K4"
      }
    },
    {
      "cell_type": "markdown",
      "source": [
        "Mozilla Public License の略。Mozilla 財団が開発するソフトウェアで採用されている。LGPL v3.0 と同程度のライセンスであり、MPL モジュールと組み合わせたソフトウェアにまでは MPL と同じライセンスの適用を要求しない。\n",
        "\n",
        "  * MPL v 2.0 原文（英語）: https://opensource.org/license/mpl-2-0\n",
        "  * MPL v 2.0 日本語訳: https://licenses.opensource.jp/MPL-2.0/MPL-2.0.html"
      ],
      "metadata": {
        "id": "6GomqDpj-_-7"
      }
    },
    {
      "cell_type": "markdown",
      "source": [
        "非コピーレフト\n",
        "--------------"
      ],
      "metadata": {
        "id": "R229GLizVodr"
      }
    },
    {
      "cell_type": "markdown",
      "source": [
        "**非コピーレフト**とは、著作物の自由な利用・改変・再配布を認め、二次的著作物についてはソースコードを公開する義務はないとする考え方である。**パーミッシブ・ライセンス**（permissive license）とも呼ばれる。"
      ],
      "metadata": {
        "id": "gRA9PfFeVpMF"
      }
    },
    {
      "cell_type": "markdown",
      "source": [
        "### BSD License ###"
      ],
      "metadata": {
        "id": "IEkY9UbgXq7B"
      }
    },
    {
      "cell_type": "markdown",
      "source": [
        "Berkeley Software Distribution License の略。カリフォルニア大学バークレー校内の研究グループが開発した UNIX 系 OS などのソフトウェア群（BSD）で採用されている。完成したライセンスではなく、テンプレートとして存在する。厳密には、著作物の作者は BSD License のテンプレートに年号と著作者を入力することで、新しくライセンスを作成する形になる。\n",
        "\n",
        "BSD License のテンプレートには、4条項のもの、3条項のもの、2条項のものがある。\n",
        "\n",
        "**BSD 4-clause License**:\n",
        "\n",
        " ≪著作権表示≫`Copyright (c) <year> <owner>. All rights reserved.`  \n",
        " ≪4 条項≫  \n",
        " ≪免責条項≫   \n",
        "\n",
        "という構成。4 条項の内容は次のとおり。\n",
        "\n",
        "  1. ソースコードを再配布する際は、上記の著作権表示、この条項、および下記の免責条項を含めること\n",
        "  2. バイナリ形式で再配布する際は、上記の著作権表示、この条項、および下記の免責条項をドキュメントまたは共に配布される他の媒体に複製して含めること\n",
        "  3. このソフトウェアの機能や効用について述べるすべての宣伝媒体には、次の謝辞を表示する必要がある: 「この製品は、～によって開発されたソフトウェアを含んでいます。」\n",
        "  4. このソフトウェアのコントリビューター（貢献者）の名前を、事前の書面による許可無しに、このソフトウェアから派生した製品を推薦・宣伝する目的に使用してはならない\n",
        "\n",
        "**BSD 3-clause License**:\n",
        "\n",
        "4 条項 BSD License から第 3 条を削除し、宣伝媒体への謝辞掲載が不要とした。GPL と互換である。現代では BSD License のほとんどがこの 3 条項である。\n",
        "\n",
        "  * BSD 3-clause License 原文（英語）: https://opensource.org/licenses/BSD-3-Clause\n",
        "  * BSD 3-clause License 日本語訳: https://licenses.opensource.jp/BSD-3-Clause/BSD-3-Clause.html\n",
        "\n",
        "**BSD 2-clause License**:\n",
        "\n",
        "4 条項 BSD License から 第 3 条と第 4 条を削除し、コントリビューターの名前の使用制限が解除された。GPL と互換である。\n",
        "\n",
        "  * BSD 2-clause License 原文（英語）: https://opensource.org/licenses/BSD-2-Clause\n",
        "  * BSD 2-clause License 日本語訳: https://licenses.opensource.jp/BSD-2-Clause/BSD-2-Clause.html\n",
        "\n",
        "BSD License では、原著作物の著作権表示とライセンス条項をそのまま残しておけば再配布が可能で、商用利用も可能である。BSD License はテンプレートなので、年号と著作者以外にも手を入れて条項を変更したり追加したりして作成した派生ライセンスが多数存在する。"
      ],
      "metadata": {
        "id": "dFCypJtTmWAx"
      }
    },
    {
      "cell_type": "markdown",
      "source": [
        "### MIT License ###"
      ],
      "metadata": {
        "id": "wbKiOgT22zjF"
      }
    },
    {
      "cell_type": "markdown",
      "source": [
        "Massachusetts Institute of Technology License の略。マサチューセッツ工科大学で開発された X Window System（Unix 系 OS 用の GUI ツールキット）に採用されているライセンス。BSD 2-clause License の派生ライセンスになっていて、利用条件は「著作権表示」と「MIT License の全文掲載」だけである。GPL と互換。\n",
        "\n",
        "  * MIT License 原文（英語）: https://opensource.org/licenses/MIT\n",
        "  * MIT License 日本語訳: https://licenses.opensource.jp/MIT/MIT.html\n",
        "\n",
        "MIT License の文言は許可が明示されていて、BSD 2-clause License よりわかりやすい。\n",
        "\n",
        "MIT License の全文掲載は原文への URL でも可とされるので、次のように記載されていればよい:\n",
        "\n",
        "``` text\n",
        "Copyright (c) <year> <owner>. All rights reserved.\n",
        "Released under the MIT license\n",
        "https://opensource.org/licenses/MIT\n",
        "```"
      ],
      "metadata": {
        "id": "vB5uPRe620Tz"
      }
    },
    {
      "cell_type": "markdown",
      "source": [
        "### ISC License ###"
      ],
      "metadata": {
        "id": "tClOmSFBBxdk"
      }
    },
    {
      "cell_type": "markdown",
      "source": [
        "Internet Systems Consortium License の略。インターネットシステムズコンソーシアムによって作成されたライセンス。BSD 2-clause License の派生ライセンスになっていて、利用条件は「著作権表示」と「ISC License の全文掲載」だけである。GPL と互換。\n",
        "\n",
        "  * ISC License 原文（英語）: https://opensource.org/license/isc-license-txt\n",
        "  * ISC License 日本語訳: https://licenses.opensource.jp/ISC/ISC.html\n",
        "\n",
        "ISC License は MIT License と同等であり、MIT License より表現が簡潔である。"
      ],
      "metadata": {
        "id": "VE8yBOwZByTp"
      }
    },
    {
      "cell_type": "markdown",
      "source": [
        "### BSD Zero-Clause license ###"
      ],
      "metadata": {
        "id": "A3JokwXWGuT7"
      }
    },
    {
      "cell_type": "markdown",
      "source": [
        "0 条項 BSD License は、その名前に反して ISC License から派生したものであり、ISC License から「著作権表示」と「ISC License の全文掲載」の利用条件を削除することにより、実質的にパブリックドメインと同等のライセンスを実現している。\n",
        "\n",
        "  * BSD Zero-Clause license 原文（英語）: https://opensource.org/license/0bsd\n",
        "  * BSD Zero-Clause license 日本語訳: https://licenses.opensource.jp/0BSD/0BSD.html"
      ],
      "metadata": {
        "id": "jvnduRA0GvFF"
      }
    },
    {
      "cell_type": "markdown",
      "source": [
        "### zlib License ###"
      ],
      "metadata": {
        "id": "FWIz0mQ1I59S"
      }
    },
    {
      "cell_type": "markdown",
      "source": [
        "圧縮ライブラリ zlib に採用されているライセンス。BSD 2-clause License の派生ライセンスになっていて、ソースを変更したことの明示と虚偽のオリジナル主張を禁止する条項が含まれている。このライセンス通知を配布物から削除・変更してはならないとしている。GPL と互換。\n",
        "\n",
        "  * zlib License 原文（英語）: https://opensource.org/license/Zlib\n",
        "  * zlib License 日本語訳: https://licenses.opensource.jp/Zlib/Zlib.html"
      ],
      "metadata": {
        "id": "q4iiI8K4I8Dw"
      }
    },
    {
      "cell_type": "markdown",
      "source": [
        "### HPND License ###"
      ],
      "metadata": {
        "id": "v5BBd2NVS01Y"
      }
    },
    {
      "cell_type": "markdown",
      "source": [
        "Historical Permission Notice and Disclaimer（歴史的な許可告知と断り書き）の略。BSD 3-clause License とほとんど同等のライセンスになっており、GPL と互換である。\n",
        "\n",
        "  * HPND License 原文（英語）: https://opensource.org/license/historical-php\n",
        "  * HPND License 日本語訳: https://licenses.opensource.jp/HPND/HPND.html"
      ],
      "metadata": {
        "id": "QeOSC8QpS23D"
      }
    },
    {
      "cell_type": "markdown",
      "source": [
        "### PSF License ###"
      ],
      "metadata": {
        "id": "w3s_kJRTrdSy"
      }
    },
    {
      "cell_type": "markdown",
      "source": [
        "Python Software Foundation License の略。Pythonソフトウェア財団（PSF）が作成した Python のライセンス。BSD 3-clause License の派生ライセンス（GPL 互換）になっていて、改変箇所の要約を要求する条件を含むものになっている。\n",
        "\n",
        "  * 著作権は PSF に保留されるが、利用者は無償で自由に利用・複製・改変・再配布できる\n",
        "  * Python を組み込んだ二次的著作物を作成し再配布する場合、Python に加えられた変更の簡潔な要約を含めること\n",
        "  * 商用利用は可能である\n",
        "  * PSF はいかなる責任も負わない\n",
        "  * 利用者または第三者の製品またはサービスを推奨または宣伝するために PSF の商標を使用してはならない\n",
        "\n",
        "また、ドキュメント内のサンプルコードのライセンスは 0 条項 BSD License としている。\n",
        "\n",
        "詳しくは公式ドキュメントの[歴史とライセンス](https://docs.python.org/ja/3/license.html)を参照。"
      ],
      "metadata": {
        "id": "ZzFpLsngrd-o"
      }
    },
    {
      "cell_type": "markdown",
      "source": [
        "### Apache License ###"
      ],
      "metadata": {
        "id": "b9Bs6HTk2aGp"
      }
    },
    {
      "cell_type": "markdown",
      "source": [
        "Apache ソフトウェア財団で開発されたソフトウェア群に採用されているライセンス。\n",
        "\n",
        "バージョン 1.1 （ASL 1.1） は、BSD 4-clause License の派生ライセンスになっていて、派生した製品の名前に「Apache」の名称を含めることを制限する条項を加えている。\n",
        "\n",
        "現在主流のバージョン 2.0 （Apache license 2.0）は、バージョン 1.1 を大幅に改訂し、GPL v3.0 と互換のライセンスとしている。Apache License 2.0 では以下の行為が許可される。\n",
        "\n",
        "  * 利用者は著作物を無償で利用・複製・改変・再配布できる\n",
        "  * 利用者は原著作物を改変したり組み込んだりした二次的、派生的な著作物を再配布できる\n",
        "  * 利用者は無期限で特許使用権を付与される\n",
        "  * 商用利用が可能である\n",
        "  * 著作物の作者はいかなる責任も負わない\n",
        "\n",
        "二次的著作物を再配布する場合は、おおよそ以下の 4 条件を満たす必要がある。\n",
        "\n",
        "  1. 二次的著作物の受領者にこのライセンスのコピーも渡すこと\n",
        "  2. 変更を加えたファイルについては、二次的著作物の作者が変更したことを明示すること\n",
        "  3. ソース形式で配布する場合は著作権、特許、商標および帰属についての告知を含めること\n",
        "  4. 帰属告知が書かれた「NOTICE」というファイルがある場合は、そのファイルも含め、確認できるようにすること\n",
        "\n",
        "Apache license 2.0 は、MIT License より形式的な条件が多いが、無制限の特許使用権付与が明記されていて利用者の権利が強化されている。\n",
        "\n",
        "  * Apache license 2.0 原文（英語）: https://opensource.org/license/apache-2-0\n",
        "  * Apache license 2.0 日本語訳: https://licenses.opensource.jp/Apache-2.0/Apache-2.0.html"
      ],
      "metadata": {
        "id": "TUp2yE8d2aj0"
      }
    },
    {
      "cell_type": "markdown",
      "source": [
        "pip-licenses\n",
        "------------"
      ],
      "metadata": {
        "id": "dwBAZyHfmWmz"
      }
    },
    {
      "cell_type": "markdown",
      "source": [
        "サードパーティ製パッケージ `pip-licenses` は、インストール済みパッケージのライセンスを出力するコマンドラインインターフェースを提供する。ライセンスは MIT License。\n",
        "\n",
        "``` python\n",
        "pip install pip-licenses\n",
        "```\n",
        "\n",
        "コマンドラインインターフェースの構文は、次のとおり。\n",
        "\n",
        "``` shell\n",
        "pip-licenses [OPTIONS]\n",
        "```\n",
        "\n",
        "デフォルトでは、次のようなテーブルが出力される。\n",
        "\n",
        "``` shell\n",
        "$ pip-licenses\n",
        " Name                           Version          License\n",
        "\n",
        " Babel                          2.14.0           BSD License\n",
        "\n",
        " Cython                         3.0.9            Apache Software License\n",
        "\n",
        " Django                         5.0.3            BSD License\n",
        "```\n",
        "\n",
        "| オプション | 機能 |\n",
        "|:---|:---|\n",
        "| `--order` | 出力順をライセンス名の順番にするには `--order=license` を指定する。デフォルトの出力順は、パッケージ名の順番である |\n",
        "| `--format` | 出力の形式を指定する<br /><br />・`--format=markdown`: Markdown 表形式<br /><br />・`--format=rst`: reStructuredText 表形式<br /><br />・`--format=html`: HTML 表形式<br /><br />・`-format=csv`: CSV 形式<br /><br />・`--format=json-license-finder`: JSON 形式 |\n",
        "| `--with-system` | このオプションを指定した場合、`pip` や `setuptools` のライセンスも出力する |\n",
        "| `--packages` | このオプションで指定されたリストにあるパッケージを参照する。たとえば、`--packages django pytz` |\n",
        "| `--ignore-packages` | このオプションで指定されたリストにあるパッケージを無視する。たとえば `--ignore-packages django pytz` |\n",
        "| `--summary` | このオプションを指定した場合、ライセンスごとのパッケージ数の表を出力する |\n",
        "| `--output-file` | 出力先を指定したファイルに切り替える。たとえば、`--output-file=/tmp/output.txt` |\n",
        "| `--allow-only` | `;` 区切りでライセンス名リストを指定すると、パッケージのライセンスがそのリストにない場合に失敗したことを出力し（リターンコード 1）、そうでない場合は<br />何も出力しない。たとえば、`--allow-only=\"MIT License;BSD License\"`。ライセンス名のチェックは完全一致で大文字、小文字は区別されない |"
      ],
      "metadata": {
        "id": "X9TjnclMmXjy"
      }
    }
  ]
}