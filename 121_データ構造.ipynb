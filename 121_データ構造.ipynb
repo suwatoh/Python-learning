{
  "nbformat": 4,
  "nbformat_minor": 0,
  "metadata": {
    "colab": {
      "provenance": [],
      "toc_visible": true,
      "authorship_tag": "ABX9TyNtfGBO5AhA9TxqQc6S/dMo",
      "include_colab_link": true
    },
    "kernelspec": {
      "name": "python3",
      "display_name": "Python 3"
    },
    "language_info": {
      "name": "python"
    }
  },
  "cells": [
    {
      "cell_type": "markdown",
      "metadata": {
        "id": "view-in-github",
        "colab_type": "text"
      },
      "source": [
        "<a href=\"https://colab.research.google.com/github/suwatoh/Python-learning/blob/main/121_%E3%83%87%E3%83%BC%E3%82%BF%E6%A7%8B%E9%80%A0.ipynb\" target=\"_parent\"><img src=\"https://colab.research.google.com/assets/colab-badge.svg\" alt=\"Open In Colab\"/></a>"
      ]
    },
    {
      "cell_type": "markdown",
      "source": [
        "データ構造\n",
        "=========="
      ],
      "metadata": {
        "id": "GyNRz1z25rjD"
      }
    },
    {
      "cell_type": "markdown",
      "source": [
        "リストと配列\n",
        "------------"
      ],
      "metadata": {
        "id": "xQOo6u9Rv5gc"
      }
    },
    {
      "cell_type": "markdown",
      "source": [
        "### リストの基本 ###"
      ],
      "metadata": {
        "id": "fzYJBJwfR7TE"
      }
    },
    {
      "cell_type": "markdown",
      "source": [
        "リストについては、公式チュートリアルは 2 つのセクションに分けて解説していた。\n",
        "\n",
        "  * [リスト型 (list)](https://docs.python.org/ja/3/tutorial/introduction.html#lists)\n",
        "  * [リスト型についてもう少し](https://docs.python.org/ja/3/tutorial/datastructures.html#more-on-lists)\n",
        "\n",
        "また、シーケンスの比較については、公式チュートリアルは次のセクションで解説していた。\n",
        "\n",
        "  * [シーケンスとその他の型の比較](https://docs.python.org/ja/3/tutorial/datastructures.html#comparing-sequences-and-other-types)\n",
        "\n",
        "リストはいくつかの方法で生成できる:\n",
        "\n",
        "  * 角括弧の対を使い、空のリストを表す: `[]`\n",
        "  * 角括弧を使い、要素をカンマで区切る: `[a]`、`[a, b, c]`\n",
        "  * リスト内包表記を使う: `[x for x in iterable]`\n",
        "  * 型コンストラクタを使う: `list()` または `list(iterable)`\n",
        "\n",
        "指定したサイズの初期化されたリストは、`*` 演算子による反復で生成するのが最速である。"
      ],
      "metadata": {
        "id": "NquL51H0WhFr"
      }
    },
    {
      "cell_type": "code",
      "source": [
        "[0] * 5"
      ],
      "metadata": {
        "colab": {
          "base_uri": "https://localhost:8080/"
        },
        "id": "5z8gXp_NWiIG",
        "outputId": "5902eec0-98d3-46a7-9a02-156cc9339867"
      },
      "execution_count": null,
      "outputs": [
        {
          "output_type": "execute_result",
          "data": {
            "text/plain": [
              "[0, 0, 0, 0, 0]"
            ]
          },
          "metadata": {},
          "execution_count": 1
        }
      ]
    },
    {
      "cell_type": "markdown",
      "source": [
        "リストを空にするには、大きく 2 つの方法がある。\n",
        "\n",
        "  1. リストの `clear()` メソッドを呼び出す。 `del a[:]` と等価であるが、 `clear()` メソッドの方が効率的で、可読性が高い。\n",
        "  2. 新たな空リストを代入する。\n",
        "\n",
        "1 の方法では同じリストを参照している他の変数にも影響するのに対して、 2 の方法ではもとのリストを参照している他の変数には影響しない。また、 1 の方法では新たな空リストを作成するコストがかからない。他の変数が同じリストを参照している可能性がある場合や、パフォーマンスが重要な場合は 1 の方法を使用するとよい。"
      ],
      "metadata": {
        "id": "hxaF-p1qWpDV"
      }
    },
    {
      "cell_type": "code",
      "source": [
        "a = [x for x in range(5)]\n",
        "b = a\n",
        "a.clear()  # del a[:] と等価\n",
        "assert b == []  # 変数 b にも影響する\n",
        "\n",
        "a = [x for x in range(5)]\n",
        "b = a\n",
        "a = []\n",
        "assert b == [0, 1, 2, 3, 4]  # b はもとのリストを参照している"
      ],
      "metadata": {
        "id": "Z7_L6eChYhYW"
      },
      "execution_count": null,
      "outputs": []
    },
    {
      "cell_type": "markdown",
      "source": [
        "### array ###"
      ],
      "metadata": {
        "id": "pBFatHk6Wte_"
      }
    },
    {
      "cell_type": "markdown",
      "source": [
        "標準ライブラリの `array` モジュールは、要素の型に制限があるリスト `array.array` をサポートする。コンストラクタの引数は以下の通り。\n",
        "\n",
        "``` python\n",
        "array.array(typecode[, initializer])\n",
        "```\n",
        "`typecode` 引数には、Python の型ではなく、実装上の言語がサポートする型を直接指定する。 CPython では、以下の型を指定できる。\n",
        "\n",
        "| `typecode` | C の型 | バイト |\n",
        "|:--:|:---|:--:|\n",
        "| `'b'` | signed char | 1 |\n",
        "| `'B'` | unsigned char | 1 |\n",
        "| `'u'` | wchar_t | 2 |\n",
        "| `'i'` | signed int | 2 |\n",
        "| `'I'` | unsigned int | 2 |\n",
        "| `'l'` | signed long | 4 |\n",
        "| `'L'` | unsigned long | 4 |\n",
        "| `'q'` | signed long long | 8 |\n",
        "| `'Q'` | unsigned long long | 8 |\n",
        "| `'f'` | float | 4 |\n",
        "| `'d'` | double | 8 |\n",
        "\n",
        "Python のデータ型は種類が少なく、 CPython では `int` は多倍長整数、`float` は 64 ビットの倍精度浮動小数点数となる。 `array.array` クラスのインスタンスなら、メモリ節約のために小さなサイズのデータ型を扱うことができる。"
      ],
      "metadata": {
        "id": "eyj15v73CZ2A"
      }
    },
    {
      "cell_type": "code",
      "source": [
        "import array, sys\n",
        "assert bytes(array.array('B', [0x41])) == b'A'\n",
        "assert bytes(array.array('B', [0xe3, 0x81, 0x82])) == b'\\xe3\\x81\\x82' == bytes('あ', 'utf-8')\n",
        "lst = [i for i in range(10000)]\n",
        "arr = array.array('i', lst)\n",
        "print(\"List size:  \", sys.getsizeof(lst))\n",
        "print(\"Array size: \", sys.getsizeof(arr))"
      ],
      "metadata": {
        "colab": {
          "base_uri": "https://localhost:8080/"
        },
        "id": "hEFuv0iWDCSE",
        "outputId": "c8d39de5-ad77-4de2-965e-af9244b8c158"
      },
      "execution_count": null,
      "outputs": [
        {
          "output_type": "stream",
          "name": "stdout",
          "text": [
            "List size:   85176\n",
            "Array size:  40080\n"
          ]
        }
      ]
    },
    {
      "cell_type": "markdown",
      "source": [
        "`array.array` は、通常のリストとほとんど同じように使用することができるが、`clear()`, `copy()`, `sort()` の 3 つのメソッドが実装されていないことに注意する。よほどメモリ制約が厳しい環境でもない限り、`array.array` をあえて使用するメリットはないと思う。"
      ],
      "metadata": {
        "id": "QLuPQUYzIwCP"
      }
    },
    {
      "cell_type": "markdown",
      "source": [
        "### リスト操作の計算量 ###"
      ],
      "metadata": {
        "id": "jtwRNNVH2hGa"
      }
    },
    {
      "cell_type": "markdown",
      "source": [
        "誤解されやすいことであるが、CPython のリストの実装は、Lisp にみられる連結リストではなく、**動的配列**（＝要素の追加・削除が可能な配列）である。この実装は、他のオブジェクトへの参照を要素とする配列を使用していて、この配列への参照と配列長がリストの先頭の構造体に保存されるというものである。\n",
        "\n",
        "これにより、リストのインデックス参照 `a[i]` は、リストのサイズやインデクスの値に依存しない計算量、つまり $O(1)$ で計算される（公式 Wiki のページ [TimeComplexity](https://wiki.python.org/moin/TimeComplexity) 参照）。\n",
        "\n",
        "一方、`index()` メソッドである値の位置を探索する場合、愚直に先頭からしらみつぶしで調べる方法（線形探索）となり、目的の値が末尾にある場合が最悪で $O(n)$ と低速である（$n$ はリストのサイズ）。\n",
        "\n",
        "また、リストの実装が配列であることから、末尾での要素の挿入や削除（`append()` や `pop()` 操作）は計算量が $O(1)$ と高速だが、末尾以外の位置での要素の挿入や削除（`insert(i, x)` や `del a[i]` 操作）は $O(n)$ と低速である（公式 Wiki のページ [TimeComplexity](https://wiki.python.org/moin/TimeComplexity) 参照）。\n",
        "\n",
        "末尾以外の位置での要素の挿入や削除が低速となるのは、既存の要素の移動が必要となるからである。リスト `a` の `i` 番目の位置に要素 `x` を挿入する場合（`a.insert(i, x)`）、まずリストのサイズを増やして `i+1` 番目以降の要素を 1 つずつ右に移動させる必要がある。\n",
        "\n",
        "``` text\n",
        "    0     1             i     i+1   i+2           n-1   n\n",
        "   ┌──┬──┬      ┬──┬──┬──┬      ┬──┬──┐\n",
        "a  │    │    │  …  │    │    │    │  …  │    │    │\n",
        "   └──┴──┴      ┴──┴──┴──┴      ┴──┴──┘\n",
        "      ↓    ↓           移動   ↓    ↓            ↓    ↓\n",
        "     a[0]  a[1]           ⇒   a[i] a[i+1]        a[n-1] a[n]\n",
        "```\n",
        "\n",
        "とくに先頭位置での挿入（`a.insert(0, x)`）が最悪で、`n` 個の要素をそれぞれ右に移動させる必要がある（移動という処理が `n` 回必要となる）。\n",
        "\n",
        "リスト `a` の `i` 番目の位置にある要素を削除する場合（`del a[i]`）、`i+1` 番目以降の要素を 1 つずつ左に移動させ、リストのサイズを減らすことになる。とくに先頭位置での削除（`del a[0]`）が最悪で、`n-1` 回の移動が必要である。\n",
        "\n",
        "一方、末尾での要素の挿入や削除（`append()` や `pop()` 操作）では、既存の要素を移動する必要はない。`append()` メソッドでは末尾に要素を追加してリストのサイズを増やすだけで、既存の要素はそのままでよい。 `pop()` メソッドでは末尾の要素を取り出してリストのサイズを減らすだけで、既存の要素はそのままでよい。そのため、高速である。"
      ],
      "metadata": {
        "id": "M0sOsHkQ2huk"
      }
    },
    {
      "cell_type": "markdown",
      "source": [
        "二分探索・ヒープ・キュー・スタック\n",
        "----------------------------------"
      ],
      "metadata": {
        "id": "0Z5kM2snDaim"
      }
    },
    {
      "cell_type": "markdown",
      "source": [
        "要素の探索や、先頭での挿入・削除が低速であるというリストの弱点を補うためのアルゴリズムやデータ構造が考案されている。"
      ],
      "metadata": {
        "id": "oPOof5AcMxz4"
      }
    },
    {
      "cell_type": "markdown",
      "source": [
        "### 配列二分法 ###"
      ],
      "metadata": {
        "id": "ayWJ6h13Cp86"
      }
    },
    {
      "cell_type": "markdown",
      "source": [
        "**二分探索**（binary search）は、ソート済みリストに対する探索アルゴリズムの 1 つであり、リストの中間点を求めて値が中間点より小さければ左側半分の部分リストを取り、大きければ右側半分の部分リストを取るという操作を再帰的に行うものである。計算量は $O(\\log_{2}n)$ である。\n",
        "\n",
        "Python は、二分探索そのものを行う関数やモジュールを提供していない。その代わりに、標準ライブラリの `bisect` モジュールが、二分探索を使用して値の挿入位置を見つける関数を提供している。なお、モジュール名 `bisect` の由来は**二分法**（bisection algorithm）らしいが、一般には二分法は方程式を解く求根アルゴリズムを指すので注意。\n",
        "\n",
        "``` python\n",
        "bisect.bisect_left(a, x, lo=0, hi=len(a), *, key=None)\n",
        "bisect.bisect_right(a, x, lo=0, hi=len(a), *, key=None)\n",
        "bisect.bisect(a, x, lo=0, hi=len(a), *, key=None)\n",
        "```\n",
        "\n",
        "これらの関数は、ソート済みのリスト `a` に、ソートされた順序を保ったままオブジェクト `x` を挿入できる位置（インデックス値）を返す。`x` が `a` に含まれている場合は、`bisect.bisect_left()` は最初の `x` の位置を返すのに対して、`bisect.bisect_right()` は最後の `x` の後ろの位置を返す。`bisect.bisect()` は、`bisect.bisect_right()` の別名である。その他の共通する引数については、次のとおり。\n",
        "\n",
        "| 引数 | 意味 |\n",
        "|:---|:---|\n",
        "| `lo` | 検索開始位置を指定する。省略時は先頭から検索する |\n",
        "| `hi` | 検索終了位置を指定する。省略時は末尾まで検索する |\n",
        "| `key` | キーワード専用引数 `key` は、引数を 1 つ受け取る呼び出し可能オブジェクトであり、配列内の各要素に何らかの処理を行った結果をもとに大小比較を行う。<br />`None` の場合は、要素は直接<br />比較される |\n",
        "\n",
        "応用例:\n",
        "\n",
        "  * `a` の中の `x` を含む部分リストは `a[bisect.bisect_left(a, x) : bisect.bisect_right(a, x)]` で取得できる。\n",
        "  * `bisect.bisect_left(a, x) < len(a)` と `x in a` は等価である。\n",
        "  * `bisect.bisect_left(a, x) == len(a)` と `x not in a` は等価である。\n",
        "\n",
        "`in`, `not in` や リストの `index()` メソッドでは、要素をリストの前から順番に調べる線形探索を行うため、要素がリストの後ろのほうにある場合には処理時間が長くなる。以下のコードで `bisect` のパフォーマンスを検証する。"
      ],
      "metadata": {
        "id": "jUS5YbqRv9an"
      }
    },
    {
      "cell_type": "code",
      "source": [
        "import bisect\n",
        "a = list(range(100_000_000))\n",
        "x = 90_000_000\n",
        "%timeit bisect.bisect_left(a, x)\n",
        "%timeit x in a"
      ],
      "metadata": {
        "colab": {
          "base_uri": "https://localhost:8080/"
        },
        "id": "gHg1EGv_gCNe",
        "outputId": "a4b95858-f45d-4a71-80ba-28fe537ee5d3"
      },
      "execution_count": null,
      "outputs": [
        {
          "output_type": "stream",
          "name": "stdout",
          "text": [
            "1.12 µs ± 178 ns per loop (mean ± std. dev. of 7 runs, 1000000 loops each)\n",
            "1.17 s ± 189 ms per loop (mean ± std. dev. of 7 runs, 1 loop each)\n"
          ]
        }
      ]
    },
    {
      "cell_type": "markdown",
      "source": [
        "ソート済みリストに要素が含まれるなら最初のほうにあることがわかっている場合や、リストが十分にランダムな場合には、`in`, `not in` や `index()` メソッドを使ったほうが速い。\n",
        "\n",
        "`bisect` モジュールは、ソート済みのリストにソートされた順序を保ったままオブジェクトを挿入する関数も用意している。\n",
        "\n",
        "``` python\n",
        "bisect.insort_left(a, x, lo=0, hi=len(a), *, key=None)\n",
        "bisect.insort_right(a, x, lo=0, hi=len(a), *, key=None)\n",
        "bisect.insort(a, x, lo=0, hi=len(a), *, key=None)\n",
        "```\n",
        "\n",
        "`bisect.insort*(a, x)` は `i = bisect.bisect*(a, x); a.insert(i, x)` と等価である。"
      ],
      "metadata": {
        "id": "1WsNilDwVfg2"
      }
    },
    {
      "cell_type": "markdown",
      "source": [
        "### 優先度付きキュー ###"
      ],
      "metadata": {
        "id": "8snwrB3Xnzez"
      }
    },
    {
      "cell_type": "markdown",
      "source": [
        "二分探索は、対象とするリストがソート済みである必要がある。 CPython でのソートの実装は、計算量が $O(n \\log_{2} n)$ となるアルゴリズムが使用されている。\n",
        "\n",
        "常に最小値を探索するのであれば、リスト全体のソートを必要としないアルゴリズムがある。リスト内の要素の位置を、常に**ヒープ**（heap）と呼ばれる木構造に対応するようにしている場合\n",
        "\n",
        "  * 最小値を $O(\\log_{2} n)$ 時間で取り出す\n",
        "  * 要素を $O(\\log_{2} n)$ 時間で挿入する\n",
        "\n",
        "という計算量を実現する。ヒープは、「子要素は親要素より常に大きいか等しい」という制約を持つ二分木である。この制約を**ヒープ不変式**と呼ぶ。リストの要素がヒープに対応する順序で並んでいることを、「ヒープ不変式を保つ」と表現する。\n",
        "\n",
        "たとえば、下の図の木はヒープである（画像は [File:Binary heap indexing.png](https://commons.wikimedia.org/wiki/File:Binary_heap_indexing.png) より）。\n",
        "\n",
        "![](https://upload.wikimedia.org/wikipedia/commons/6/60/Binary_heap_indexing.png)\n",
        "\n",
        "この図の場合、ヒープ不変式を保つリストは、根の要素から始まり上から順に左から要素を並べた形\n",
        "\n",
        "$$\n",
        "1, 2, 3, 4, 5, 6, 7, 8, 9, 10, 11, 12\n",
        "$$\n",
        "\n",
        "である。\n",
        "\n",
        "ヒープ不変式を保つリストに対して要素の挿入・削除を行う場合、ヒープ不変式が保たれるように要素の並べ替えが行われる。空でないリストに対してヒープ不変式が保たれるように最初に行う要素の並べ替えを**ヒープ化**（heapify）という。ヒープ化のアルゴリズムは、計算量が $O(n)$ となる。一度ヒープ化すれば、それ以降、ヒープ不変式を保つ挿入・削除の計算量は、$O(\\log n)$ で済む。なぜなら、一からヒープを作り直すのではなく、ヒープ不変式を満たしていない親子関係だけ要素を入れ替えればよいからである。\n",
        "\n",
        "ヒープ不変式から、当然に根の要素が最小値である。これはリストの先頭の要素が最小値であることを意味する。最小値を取り出すとき、次の要素が残りの要素のうちの最小値であるとは限らないが、削除時の要素入れ替え作業により先頭が再び最小値になる。\n",
        "\n",
        "ヒープ不変式を保つリストは、値を小さい要素から順に取り出すことのできるデータ構造と見ることができる。このようなデータ構造は**優先度付きキュー**（priority queue）と呼ばれる。この場合の優先度は「値が小さい要素ほど優先度が高い」というものである。\n",
        "\n",
        "標準ライブラリの `heapq` モジュールは、リストを、ヒープ不変式を保つように操作するための関数を提供している。\n",
        "\n",
        "``` python\n",
        "heapq.heappush(heap, item)\n",
        "```\n",
        "\n",
        "この関数は、`item` を `heap` に挿入する。ヒープ不変式を保つ。`heap` は、ヒープ化されたリストまたは空リストでなければならない。\n",
        "\n",
        "``` python\n",
        "heapq.heappop(heap)\n",
        "```\n",
        "\n",
        "この関数は、`heap` から最小の要素を取り出す。ヒープ不変式を保つ。`heap` は、ヒープ化されたリストでなければならない。`heap` が空の場合、 `IndexError` 例外が送出される。\n",
        "\n",
        "``` python\n",
        "heapq.heapify(x)\n",
        "```\n",
        "\n",
        "この関数は、リスト `x` をヒープ化する。\n",
        "\n",
        "`heapq` モジュールを使用すると、 `heapq.heappop()` で最小値を取得できる。 `heapq` モジュールの関数を使わずに毎回組み込み関数 `min()` を使う場合、 `min()` は線形探索を行うので計算量が $O(n)$ となり、 `heapq` モジュールの関数を使う場合よりかなり効率が悪くなる。\n",
        "\n",
        "次のコードは、 `heapq` モジュールの使用例である。"
      ],
      "metadata": {
        "id": "uUhvddlsnz-d"
      }
    },
    {
      "cell_type": "code",
      "source": [
        "import heapq\n",
        "\n",
        "# 既存のリストをヒープ化\n",
        "data = [90, 34, 78, 65, 56]\n",
        "heapq.heapify(data)\n",
        "assert data[0] == min(data)\n",
        "print(f\"ヒープ化後: {data=}\")\n",
        "\n",
        "# 要素の追加\n",
        "heapq.heappush(data, 12)\n",
        "heapq.heappush(data, 28)\n",
        "assert data[0] == min(data)\n",
        "print(f\"heappush後: {data=}\")\n",
        "\n",
        "# 最小要素の取り出し\n",
        "assert min(data) == heapq.heappop(data)\n",
        "assert data[0] == min(data)\n",
        "print(f\"heappop後:  {data=}\")"
      ],
      "metadata": {
        "colab": {
          "base_uri": "https://localhost:8080/"
        },
        "id": "1HIQJVF4bTwA",
        "outputId": "122cde9f-7e01-4f4a-9ad1-d161a6804f07"
      },
      "execution_count": null,
      "outputs": [
        {
          "output_type": "stream",
          "name": "stdout",
          "text": [
            "ヒープ化後: data=[34, 56, 78, 65, 90]\n",
            "heappush後: data=[12, 56, 28, 65, 90, 78, 34]\n",
            "heappop後:  data=[28, 56, 34, 65, 90, 78]\n"
          ]
        }
      ]
    },
    {
      "cell_type": "markdown",
      "source": [
        "得られた出力から、`heapq` の関数によるリストの並べ替えは `list.sort()` とは異なること、および、先頭の要素が常に最小値であることがわかる。"
      ],
      "metadata": {
        "id": "P2SKdwWAJHGk"
      }
    },
    {
      "cell_type": "markdown",
      "source": [
        "### deque ###"
      ],
      "metadata": {
        "id": "zinXN3HqBN3C"
      }
    },
    {
      "cell_type": "markdown",
      "source": [
        "先頭位置での挿入や削除が苦手な Python のリストは、キュー、スタック、デック（両端キュー）のようなデータ構造には不向きである。\n",
        "\n",
        "**キュー**（queue）あるいは**待ち行列**は、先に入れられたデータから順に取り出される、いわゆる「先入れ先出し」（First In, First Out; FIFO）というデータ構造である。キューにデータを入れることを**エンキュー**（enqueue）、取り出すことを**デキュー**（dequeue）という。下図（[Wikipedia の記事](https://ja.wikipedia.org/wiki/キュー_(コンピュータ))から引用）はキューの単純な表現である。\n",
        "\n",
        "<a href=\"https://commons.wikimedia.org/wiki/File:Data_Queue.svg\"><img src=\"https://upload.wikimedia.org/wikipedia/commons/thumb/5/52/Data_Queue.svg/320px-Data_Queue.svg.png\" width=\"240\"></a>\n",
        "\n",
        "**スタック**（stack）は、キューとは逆に「後入れ先出し」（Last In, First Out; LIFO）というデータ構造である。スタックにデータを入れることを**プッシュ**（push）、取り出すことを**ポップ**（pop）という。下図（[Wikipedia の記事](https://ja.wikipedia.org/wiki/スタック)から引用）はキューの単純な表現である。\n",
        "\n",
        "<a href=\"https://commons.wikimedia.org/wiki/File:Data_Queue.svg\"><img src=\"https://upload.wikimedia.org/wikipedia/commons/thumb/9/93/Stack-sv.svg/320px-Stack-sv.svg.png\" width=\"240\"></a>\n",
        "\n",
        "**デック**（deque）あるいは**両端キュー**は、先頭または末尾で要素を追加・削除できるキューである。deque は double-ended queue の略で、英語の発音は \"deck\" である（デキューと読むのは誤り）。\n",
        "\n",
        "標準ライブラリの `collections` モジュールは、デックに特化したシーケンスの C 実装であるクラス `deque` を提供する。コンストラクタは次のとおり。\n",
        "\n",
        "``` python\n",
        "collections.deque([iterable[, maxlen]])\n",
        "```\n",
        "\n",
        "第 1 引数としてイテラブルが渡された場合、その要素が順番通りに `collections.deque` に入れられる形で初期化される。第 1 引数にイテラブルが与えられない場合、新しい `collections.deque` オブジェクトは空になる。\n",
        "\n",
        "第 1 引数または第 2 引数として整数が渡された場合、`collections.deque` オブジェクトのサイズは指定された最大長に制限され、サイズが制限いっぱいになると、新しい要素を追加するときに追加した要素数分だけ追加したのと反対側から要素が捨てられる。`collections.deque` オブジェクトのサイズの最大長は、読み出し専用プロパティ `maxlen` で参照できる。\n",
        "\n",
        "引数が無かったり、 `None` だった場合、`collections.deque` は任意のサイズまで大きくなる。この場合、`maxlen` プロパティの値は常に `None` である。\n",
        "\n",
        "`collections.deque` は、シーケンスなのでリストと同様に共通のシーケンス演算をサポートしている。すなわち、 `collections.deque` に対して `in`、`not in`、`+`、`*`、`[]`（スライスは使用できないことに注意）が使える。 `len()` でサイズを取得したり、 `min()` で最小値を取得したり、イテラブルとして使用することもできる。\n",
        "\n",
        "また、 `collections.deque` は、リストと同様のメソッドをサポートしており、さらにいくつかの追加メソッドもサポートする。\n",
        "\n",
        "| メソッド | 機能 | 戻り値 |\n",
        "|:---|:---|:---|\n",
        "| `append(x)` | `x` をオブジェクトの右側（末尾）に追加する | `None` |\n",
        "| `appendleft(x)` | `x` をオブジェクトの左側（先頭）に追加する | `None` |\n",
        "| `extend(iterable)` | イテラブルな引数 `iterable` から得られる要素をオブジェクトの右側（末尾）に追加する形で拡張する | `None` |\n",
        "| `extendleft(iterable)` | イテラブルな引数 `iterable` から得られる要素をオブジェクトの左側（先頭）に追加する形で拡張する | `None` |\n",
        "| `insert(i, x)` | `x` をオブジェクトの位置 `i` に挿入する。オブジェクトがサイズ制限付きの場合、挿入によってサイズが制限を超えるなら<br /> `IndexError` 例外を送出する | `None` |\n",
        "| `pop()` | オブジェクトの右側（末尾）から要素を 1 つ削除し、その要素を返す。要素が 1 つも存在しない場合は `IndexError` 例外<br />を送出する | 要素 |\n",
        "| `popleft()` | オブジェクトの左側（先頭）から要素を 1 つ削除し、その要素を返す。要素が 1 つも存在しない場合は `IndexError` 例外<br />を送出する | 要素 |\n",
        "| `remove(value)` | 値が `value` である要素で最初に現れるものを削除する。要素が見付からないない場合は `ValueError` 例外を送出する | `None` |\n",
        "| `clear()` | すべての要素を削除し、長さを 0 にする | `None` |\n",
        "| `rotate(n=1)` | 要素を全体で `n` ステップだけ右に循環させる。`n` が負の値の場合は、左に循環させる | `None` |\n",
        "| `reverse()` | オブジェクトの要素をインプレースに反転する | `None` |\n",
        "| `index(x[, start[, stop]])` | オブジェクト内の `x` の位置を返す（位置 `start` から位置 `stop` の両端を含む範囲で）。`x` が見つからない場合には<br /> `ValueError` 例外を送出する | `int` |\n",
        "| `count(x)` | オブジェクトの `x` に等しい要素を数え上げる | `int` |\n",
        "| `copy()` | オブジェクトの浅いコピーを作成する | `deque` |"
      ],
      "metadata": {
        "id": "LCTSEmDclkDS"
      }
    },
    {
      "cell_type": "code",
      "source": [
        "from collections import deque, abc\n",
        "assert issubclass(deque, abc.Sequence)  # deque はシーケンスである\n",
        "d = deque([i for i in range(1, 5)], 6)\n",
        "print(\"original:  \", d)\n",
        "d.append(5)\n",
        "print(\"append:    \", d)\n",
        "d.appendleft(0)\n",
        "print(\"appendleft:\", d)\n",
        "d.append(6)\n",
        "print(\"append:    \", d, \" ←制限超過のため先頭が捨てられる\")\n",
        "d.appendleft(0)\n",
        "print(\"appendleft:\", d, \" ←制限超過のため末尾が捨てられる\")\n",
        "assert d.pop() == 5\n",
        "print(\"pop:       \", d)\n",
        "assert d.popleft() == 0\n",
        "print(\"popleft:   \", d)\n",
        "d.reverse()\n",
        "print(\"reverse:   \", d)\n",
        "d.rotate()\n",
        "print(\"rotate:    \", d)\n",
        "assert len(d) == 4\n",
        "assert sorted(d) == [1, 2, 3, 4]\n",
        "assert d[0] == 1"
      ],
      "metadata": {
        "colab": {
          "base_uri": "https://localhost:8080/"
        },
        "id": "25kB61i9R5oQ",
        "outputId": "e609387f-f3c9-4fbd-c0e2-562cb3763e14"
      },
      "execution_count": null,
      "outputs": [
        {
          "output_type": "stream",
          "name": "stdout",
          "text": [
            "original:   deque([1, 2, 3, 4], maxlen=6)\n",
            "append:     deque([1, 2, 3, 4, 5], maxlen=6)\n",
            "appendleft: deque([0, 1, 2, 3, 4, 5], maxlen=6)\n",
            "append:     deque([1, 2, 3, 4, 5, 6], maxlen=6)  ←制限超過のため先頭が捨てられる\n",
            "appendleft: deque([0, 1, 2, 3, 4, 5], maxlen=6)  ←制限超過のため末尾が捨てられる\n",
            "pop:        deque([0, 1, 2, 3, 4], maxlen=6)\n",
            "popleft:    deque([1, 2, 3, 4], maxlen=6)\n",
            "reverse:    deque([4, 3, 2, 1], maxlen=6)\n",
            "rotate:     deque([1, 4, 3, 2], maxlen=6)\n"
          ]
        }
      ]
    },
    {
      "cell_type": "markdown",
      "source": [
        "`collections.deque` の場合、要素の追加と取り出しが両側ともに高速である。すなわち、 `append()`、`appendleft()`、`pop()`、`popleft()` メソッドは計算量が $O(1)$ であり、計算時間がオブジェクトのサイズ $n$ に影響されない。一方、インデックス参照が両端では $O(1)$ であるが、中央ではサイズ $n$ に線形 $O(n)$ と遅くなる（公式 Wiki のページ [TimeComplexity](https://wiki.python.org/moin/TimeComplexity) 参照）。\n",
        "\n",
        "リストのインデックス参照は要素の位置に関係なく計算量が $O(1)$ と安定して高速であるから、高速ランダムアクセスが必要な場合は、 `collections.deque` よりリストが適している。\n",
        "\n",
        "数十万件のような大規模なデータをキューやスタック、デックとして扱うことが目的ならば、`collections.deque` が適している。\n",
        "\n",
        "`collections.deque` をキューとして使うには、エンキューとして `append()`、デキューとして `popleft()` を使えばよい。\n",
        "\n",
        "`collections.deque` をスタックとして使うには、プッシュとして `append()`、ポップとして `pop()` を使えばよい。"
      ],
      "metadata": {
        "id": "HOe-U8kOR6PB"
      }
    },
    {
      "cell_type": "code",
      "source": [
        "items = [i for i in range(500000)]\n",
        "d = deque(items)\n",
        "%timeit d.appendleft(0)\n",
        "%timeit items.insert(0, 0)\n",
        "%timeit d[250000]\n",
        "%timeit items[250000]"
      ],
      "metadata": {
        "colab": {
          "base_uri": "https://localhost:8080/"
        },
        "id": "MOWVVFx8NO1a",
        "outputId": "30fe6b61-4a61-4890-d489-4e9349840b0f"
      },
      "execution_count": null,
      "outputs": [
        {
          "output_type": "stream",
          "name": "stdout",
          "text": [
            "86.3 ns ± 16.7 ns per loop (mean ± std. dev. of 7 runs, 10000000 loops each)\n",
            "271 µs ± 8.03 µs per loop (mean ± std. dev. of 7 runs, 1000 loops each)\n",
            "20.9 µs ± 388 ns per loop (mean ± std. dev. of 7 runs, 10000 loops each)\n",
            "69.1 ns ± 20.7 ns per loop (mean ± std. dev. of 7 runs, 10000000 loops each)\n"
          ]
        }
      ]
    },
    {
      "cell_type": "markdown",
      "source": [
        "`collections.deque` 型の型アノテーションは、`list` と同様に、添字表記（`[]`）を使って要素の型を指定しなければならない。"
      ],
      "metadata": {
        "id": "amu09GRoYbRR"
      }
    },
    {
      "cell_type": "code",
      "source": [
        "d: deque[int | None] = deque()\n",
        "d.append(\"hoge\")  # 静的型チェッカーがエラーを表示する"
      ],
      "metadata": {
        "id": "jE1r8xaBYcPf"
      },
      "execution_count": null,
      "outputs": []
    },
    {
      "cell_type": "markdown",
      "source": [
        "集合\n",
        "----"
      ],
      "metadata": {
        "id": "3TyF0SJhw40h"
      }
    },
    {
      "cell_type": "markdown",
      "source": [
        "数学では、「集合」は「ものの集まり」であって、以下の性質を持つとされる。\n",
        "\n",
        "  1. 要素の並び順には意味はない──要素の順序に意味を持つ場合は「列」と呼ばれる\n",
        "  2. 要素は重複してはいけない──重複を許す集まりは「多重集合」と呼ばれる\n",
        "\n",
        "組み込み型 `set` と `frozenset` は、このような集合を Python に実装したものであり、ハッシュ値を使って要素を管理するコレクションである。集合の要素は、ハッシュ可能なオブジェクトに限られる。同一の要素は、 `__hash__()` が同じハッシュ値を返すため排除される。\n",
        "\n",
        "集合は、他のコレクションと同様、 `x in set`、 `len(set)`、 `for x in set` をサポートする。コレクションには順序がないので、集合は挿入の順序や要素の位置を記録しない。したがって、集合はインデックス参照などのシーケンス的な振舞いをサポートしない。\n",
        "\n",
        "`set` オブジェクトはいくつかの方法で生成できる:\n",
        "\n",
        "  * 波括弧内にカンマ区切りで要素を列挙する: `{'jack', 'sjoerd'}`\n",
        "  * 集合内包表記を使う: `{c for c in 'abracadabra' if c not in 'abc'}`\n",
        "  * 型コンストラクタを使う: `set([iterable])`\n",
        "\n",
        "`frozenset` には専用のリテラル構文はないので、コンストラクタ `frozenset([iterable])` を使ってオブジェクトを生成する。\n",
        "\n",
        "`{}` は空の集合ではなく空の辞書を生成することに注意する。空の集合は、引数を渡さない `set()` と `frozenset()` 呼び出しで作成できる。\n",
        "\n",
        "`set` はミュータブルな集合で、以下のメソッドを呼び出して内容を変更できる。\n",
        "\n",
        "| メソッド | 機能 | 戻り値 |\n",
        "|:---|:---|:---|\n",
        "| `add(elem)` | 要素 `elem` を `set` に追加する | `None` |\n",
        "| `remove(elem)` | 要素 `elem` を `set` から取り除く。`elem` が `set` に含まれていなければ `KeyError` 例外を送出する | `None` |\n",
        "| `pop()` | `set` から何らかの要素を取り除き、それを返す。集合が空の場合、`KeyError` 例外を送出する | `None` |\n",
        "\n",
        "`set` オブジェクト自身はハッシュ値を持たず、辞書のキーや他の集合の要素として用いることができない。\n",
        "\n",
        "一方、`frozenset` はイミュータブルな集合で、作成後に内容を変更できない。また、`frozenset` オブジェクト自身もハッシュ可能であり、辞書のキーや他の集合の要素として用いることができる。\n",
        "\n",
        "`copy()` メソッドで集合の浅いコピーを返す。\n",
        "\n",
        "集合同士の比較（`<`, `<=`, `>`, `>=`）が可能で、包含関係で評価される。たとえば、`seta < setb` は `seta` が `setb` の真部分集合である場合に真となる。\n",
        "\n",
        "集合演算は、リストにはない機能である。 `|` で和集合、 `&` で積集合、 `-` で差集合を表す。集合演算は、常に新しい集合を返す。 `set` オブジェクトと `frozenset` オブジェクトを取り混ぜての二項演算は、左側の型を返す。\n",
        "\n",
        "これら集合演算の結果で左側の `set` オブジェクトの内容を更新するには、短縮形式 `|=`、 `&=`、 `-=` を使うことができる。"
      ],
      "metadata": {
        "id": "6Gh_cWb_w5p3"
      }
    },
    {
      "cell_type": "code",
      "source": [
        "# set と frozenset の比較が可能\n",
        "assert set([\"foo\", \"baa\"]) == frozenset([\"foo\", \"baa\"])\n",
        "assert set([\"foo\", \"baa\"]) < frozenset([\"foo\", \"baa\", \"boo\"])\n",
        "\n",
        "hoge = set(\"hoge\")\n",
        "fuga = frozenset(\"fuga\")\n",
        "print(f\"{hoge = }\")\n",
        "print(f\"{fuga = }\")\n",
        "print(f\"{hoge | fuga = }\")\n",
        "print(f\"{fuga & hoge = }\")\n",
        "print(f\"{hoge - fuga = }\")\n",
        "hoge2 = hoge\n",
        "hoge -= fuga  # hoge = hoge - fuga と同等\n",
        "print(f\"{hoge = }\")\n",
        "print(f\"{hoge2 = }\")  # hoge2 が参照するミュータブルなオブジェクト自体が変更されている"
      ],
      "metadata": {
        "colab": {
          "base_uri": "https://localhost:8080/"
        },
        "id": "tcwEp6Ba4ZuY",
        "outputId": "61e1f0b0-b571-4471-cc4a-c643aab94e97"
      },
      "execution_count": null,
      "outputs": [
        {
          "output_type": "stream",
          "name": "stdout",
          "text": [
            "hoge = {'h', 'e', 'o', 'g'}\n",
            "fuga = frozenset({'f', 'u', 'a', 'g'})\n",
            "hoge | fuga = {'h', 'g', 'o', 'f', 'u', 'a', 'e'}\n",
            "fuga & hoge = frozenset({'g'})\n",
            "hoge - fuga = {'h', 'e', 'o'}\n",
            "hoge = {'h', 'e', 'o'}\n",
            "hoge2 = {'h', 'e', 'o'}\n"
          ]
        }
      ]
    },
    {
      "cell_type": "markdown",
      "source": [
        "辞書\n",
        "----"
      ],
      "metadata": {
        "id": "Cx6YFo3m6KpR"
      }
    },
    {
      "cell_type": "markdown",
      "source": [
        "### 辞書の生成 ###"
      ],
      "metadata": {
        "id": "zA2S2wjFVrOT"
      }
    },
    {
      "cell_type": "markdown",
      "source": [
        "辞書はいくつかの方法で生成できる:\n",
        "\n",
        "  * 波括弧内にカンマ区切りで `key: value` 対を列挙する: `{'jack': 4098, 'sjoerd': 4127}`\n",
        "  * 辞書内包表記を使う: `{}`, `{x: x ** 2 for x in range(10)}`\n",
        "  * 型コンストラクタを使う: `dict(**kwargs)`, `dict(mapping, **kwargs)`, `dict(iterable, **kwargs)`\n",
        "  * クラスメソッドを使う: `dict.fromkeys(iterable[, value])`\n",
        "\n",
        "`dict.fromkeys()` はクラスメソッドであり、`iterable` からキーを取り、値を `value` で初期化された新しい辞書を作成する。`value` はデフォルトで `None` となる。"
      ],
      "metadata": {
        "id": "FfRRwze3aM1e"
      }
    },
    {
      "cell_type": "code",
      "source": [
        "assert dict() == {}  # 空の辞書\n",
        "a = dict(one=1, two=2, three=3)\n",
        "b = dict({'one': 1, 'two': 2, 'three': 3})\n",
        "c = dict({'one': 1, 'two': 2}, three=3)\n",
        "d = dict([('one', 1), ('two', 2), ('three', 3)])\n",
        "e = dict(zip(['one', 'two', 'three'], [1, 2, 3]))\n",
        "f = {'one': 1, 'two': 2, 'three': 3}\n",
        "assert a == b == c == d == e == f\n",
        "assert dict.fromkeys(range(3)) == {x: None for x in range(3)} == {0: None, 1: None, 2: None}\n",
        "assert dict.fromkeys('ABC', 0) == {x: 0 for x in 'ABC'} == {'A': 0, 'B': 0, 'C': 0}"
      ],
      "metadata": {
        "id": "l2CKX-qKaPwz"
      },
      "execution_count": null,
      "outputs": []
    },
    {
      "cell_type": "markdown",
      "source": [
        "`dict.fromkeys()` で作られる辞書では、すべての値が同一のインスタンスを指すことになるため、`value` にミュータブルなオブジェクト（たとえば空のリスト）を指定しても通常意味はない。別々の値を指すようにしたい場合は、代わりに辞書内包表記を使用すべきである。"
      ],
      "metadata": {
        "id": "ymBMDg46VsJx"
      }
    },
    {
      "cell_type": "code",
      "source": [
        "d1 = dict.fromkeys('ABC', [])\n",
        "assert d1 == {'A': [], 'B': [], 'C': []}  # 各値は同一の空リストを参照している\n",
        "d1[\"A\"].append(0)\n",
        "assert d1 == {'A': [0], 'B': [0], 'C': [0]}\n",
        "d2 = {x: [] for x in 'ABC'}\n",
        "assert d2 == {'A': [], 'B': [], 'C': []}  # 各値は別の空リストを参照している\n",
        "d2[\"A\"].append(0)\n",
        "assert d2 == {'A': [0], 'B': [], 'C': []}"
      ],
      "metadata": {
        "id": "SvA8SHVqaPAx"
      },
      "execution_count": null,
      "outputs": []
    },
    {
      "cell_type": "markdown",
      "source": [
        "辞書にキーを追加した順序は記憶される。キーに対する値を更新しても、この順序は変更されない。また、辞書は組み込み関数 `reversed()` による逆順の反復もサポートしている。\n",
        "\n",
        "二つの辞書について比較 `==` は、同じ `(key, value)` の対を持つ場合に、そしてその場合にのみ真と評価され、挿入順序には影響されない。"
      ],
      "metadata": {
        "id": "NBeGDqMFDFBO"
      }
    },
    {
      "cell_type": "code",
      "source": [
        "d1 = {k: v for k, v in enumerate(\"AbC\")}\n",
        "print(f\"{d1=}\")\n",
        "d1[1] = \"B\"  # 値を更新しても順序は変化しない\n",
        "print(f\"{d1=}\")\n",
        "d2 = {k: d1[k] for k in reversed(d1)}  # キーを逆順で取得\n",
        "print(f\"{d2=}\")\n",
        "assert d1 == d2  # 辞書の等価判定は、順序に影響されない"
      ],
      "metadata": {
        "colab": {
          "base_uri": "https://localhost:8080/"
        },
        "id": "1pUgG281DGX6",
        "outputId": "c176dd89-3af0-4702-b6e2-051d5d9e3912"
      },
      "execution_count": null,
      "outputs": [
        {
          "output_type": "stream",
          "name": "stdout",
          "text": [
            "d1={0: 'A', 1: 'b', 2: 'C'}\n",
            "d1={0: 'A', 1: 'B', 2: 'C'}\n",
            "d2={2: 'C', 1: 'B', 0: 'A'}\n"
          ]
        }
      ]
    },
    {
      "cell_type": "markdown",
      "source": [
        "リストの重複する要素を削除するには、集合型に変換してからリストに戻すという方法があるが、この方法では要素の出現順が保持されない。リストの要素をキーとする辞書に変換してからリストに戻すという方法を使うと、要素の出現順を保持したまま、重複する要素を削除することができる。"
      ],
      "metadata": {
        "id": "qhg6psgebbp6"
      }
    },
    {
      "cell_type": "code",
      "source": [
        "li1 = list(\"ABCABC\")\n",
        "li2 = list(set(li1))  # いったん集合型に変換することで重複要素を削除する\n",
        "print(f\"{li2=}\")  # 要素の出現順は保持されない\n",
        "li3 = list(dict.fromkeys(li1))\n",
        "print(f\"{li3=}\")  # 要素の出現順は保持される"
      ],
      "metadata": {
        "colab": {
          "base_uri": "https://localhost:8080/"
        },
        "id": "orJxFHXjbcma",
        "outputId": "59261145-fab7-4abd-fe93-d99ee8096792"
      },
      "execution_count": null,
      "outputs": [
        {
          "output_type": "stream",
          "name": "stdout",
          "text": [
            "li2=['C', 'A', 'B']\n",
            "li3=['A', 'B', 'C']\n"
          ]
        }
      ]
    },
    {
      "cell_type": "markdown",
      "source": [
        "### 辞書の操作 ###"
      ],
      "metadata": {
        "id": "C33gVnWb5ELS"
      }
    },
    {
      "cell_type": "markdown",
      "source": [
        "キーの探索:\n",
        "\n",
        "| 演算子 | 機能 | 戻り値 |\n",
        "|:---|:---|:---|\n",
        "| `key in d` | `d` がキー `key` を持っていれば `True` を、そうでなければ、 `False` を返す | `bool` |\n",
        "| `key not in d` | `not key in d` と等価 | `bool` |\n",
        "\n",
        "値の取得:\n",
        "\n",
        "| メソッド | 機能 | 戻り値 |\n",
        "|:---|:---|:---|\n",
        "| `get(key[, default])` | `key` が辞書にあれば `key` に対する値を、そうでなければ `default` を返す。`default` が与えられなかった場合、デフォ<br />ルトでは `None` を返す。このメソッドは `KeyError` 例外を送出することはない | 値 |\n",
        "| `setdefault(key[, default])` | `key` が辞書にあれば `key` に対する値を返し、そうでなければ値を `default` として `key` を挿入し、`default` を返す。<br />`default` のデフォルトは `None` | 値 |\n",
        "| `pop(key[, default])` | `key` があればその値を辞書から消去して返し、そうでなければ `default` を返す。`default` が与えられず、かつ `key` が<br />辞書に存在しなければ `KeyError` 例外を送出する | 値 |\n",
        "| `popitem()` | 後入れ先出し（LIFO）の順序で `(key, value)` 対を辞書から消去して返す。辞書が空であれば、`popitem()` の呼び出し<br />は `KeyError` 例外を送出する | `tuple` |\n",
        "\n",
        "辞書の変更その他:\n",
        "\n",
        "| メソッド | 機能 | 戻り値 |\n",
        "|:---|:---|:---|\n",
        "| `update([other])` | 辞書の内容を `other` のキーと値で更新する。既存のキーは上書きされる。`update()` は、他の辞書オブジェクトでもキー/値の<br />対のイテラブル（タプル、もしくは、長さが2のイテラブル）でも、どちらでも受け付ける。キーワード引数が指定されれば、その<br />キー/値の対で辞書を更新する: `d.update(red=1, blue=2)` | `None` |\n",
        "| `clear()` | 辞書を空にする | `None` |\n",
        "| `copy()` | 辞書の浅いコピーを返す | `dict` |\n",
        "| `keys()` | 辞書のキーの新しいビューを返す | 辞書ビュー |\n",
        "| `values()` | 辞書の値の新しいビューを返す | 辞書ビュー |\n",
        "| `items()` | 辞書の項目（`(key, value)` 対）の新しいビューを返す | 辞書ビュー |"
      ],
      "metadata": {
        "id": "ym2OEfVh5FJ1"
      }
    },
    {
      "cell_type": "code",
      "source": [
        "people = {'John': 1, 'Emma': 2, 'Sophia': 3, 'James': 4}\n",
        "assert 'Sophia' in people\n",
        "assert 'Eric' not in people\n",
        "assert people.get('Eric') is None  # people['Eric'] では KeyError が発生する\n",
        "assert people.setdefault('Eric', 0) == 0\n",
        "print(people)\n",
        "assert people.popitem() == ('Eric', 0)\n",
        "print(people)\n",
        "assert people.pop('John') == 1\n",
        "print(people)\n",
        "people.update({'John':10, 'Emma': 20})\n",
        "people.update([('Sophia', 30), ('Eric', 50)])\n",
        "people.update(James=40, Oliver=60)\n",
        "print(people)"
      ],
      "metadata": {
        "id": "1sotYLLAijit",
        "colab": {
          "base_uri": "https://localhost:8080/"
        },
        "outputId": "262c3c7c-b9fb-4658-fa7d-51c892675298"
      },
      "execution_count": null,
      "outputs": [
        {
          "output_type": "stream",
          "name": "stdout",
          "text": [
            "{'John': 1, 'Emma': 2, 'Sophia': 3, 'James': 4, 'Eric': 0}\n",
            "{'John': 1, 'Emma': 2, 'Sophia': 3, 'James': 4}\n",
            "{'Emma': 2, 'Sophia': 3, 'James': 4}\n",
            "{'Emma': 20, 'Sophia': 30, 'James': 40, 'John': 10, 'Eric': 50, 'Oliver': 60}\n"
          ]
        }
      ]
    },
    {
      "cell_type": "markdown",
      "source": [
        "特殊メソッド:\n",
        "\n",
        "| メソッド | 機能 |\n",
        "|:---|:---|\n",
        "| `__missing__(key)` | `self[key]` の実装において辞書内にキーが存在しなかった場合に、`dict` のサブクラスのために `dict.__getitem__()` によって呼び<br />出される |"
      ],
      "metadata": {
        "id": "1Sdwq2rpjGwM"
      }
    },
    {
      "cell_type": "code",
      "source": [
        "class CustomDict(dict):\n",
        "    def __missing__(self, key):\n",
        "        return str(key)\n",
        "\n",
        "d = CustomDict()\n",
        "assert d['a'] == 'a'  # 'a' キーは存在しないが、__missing__('a') の戻り値が返され、KeyError は発生しない\n",
        "d"
      ],
      "metadata": {
        "id": "VIhE67kHjpvs",
        "colab": {
          "base_uri": "https://localhost:8080/"
        },
        "outputId": "f7f5efcc-36eb-487e-8749-301ae600d0f4"
      },
      "execution_count": null,
      "outputs": [
        {
          "output_type": "execute_result",
          "data": {
            "text/plain": [
              "{}"
            ]
          },
          "metadata": {},
          "execution_count": 15
        }
      ]
    },
    {
      "cell_type": "markdown",
      "source": [
        "文 `del d[key]` で辞書 `d` から `d[key]` を削除する。辞書に `key` が存在しなければ、`KeyError` 例外が発生する。\n",
        "\n",
        "`d | other` は、辞書 `d` と `other` のキーと値を統合した新しい辞書を作成する。`d` と `other` のキーに重複がある場合は、`other` の方の値が優先される（Python 3.9 で追加）。\n",
        "\n",
        "`d |= other` は、辞書 `d` のキーと値を `other` で更新する。`other` はマッピングか、またはキーと値のペアのイテラブルである。`d` と `other` のキーに重複がある場合は、`other` の方の値が優先される（Python 3.9 で追加）。"
      ],
      "metadata": {
        "id": "-iwAGACcjZGk"
      }
    },
    {
      "cell_type": "code",
      "source": [
        "assert {1:'あ', 2: 'い'} | {2:'う'} == {1: 'あ', 2: 'う'}\n",
        "d1 = {1: 'A'}\n",
        "d1 |= [(2, 'B'), (3, 'C')]\n",
        "assert d1 == {1: 'A', 2: 'B', 3: 'C'}  # d1.update([(2, 'B'), (3, 'C')]) と等価"
      ],
      "metadata": {
        "id": "KV-BH2FXoiIs"
      },
      "execution_count": null,
      "outputs": []
    },
    {
      "cell_type": "markdown",
      "source": [
        "浅いコピーと深いコピー\n",
        "----------------------"
      ],
      "metadata": {
        "id": "tKxR8ZaeUeXb"
      }
    },
    {
      "cell_type": "markdown",
      "source": [
        "### 浅いコピー ###"
      ],
      "metadata": {
        "id": "yQt5KI3BRNXT"
      }
    },
    {
      "cell_type": "markdown",
      "source": [
        "Python では、変数の代入はオブジェクトのコピーではなくオブジェクトの参照、つまりメモリ上のアドレスが格納される。これは、オブジェクトがイミュータブル（変更不可）でもミュータブル（変更可能）でも同じであるが、とくにミュータブルの場合、その値の変更が、オブジェクトを参照する全ての変数に影響する結果をもたらす。"
      ],
      "metadata": {
        "id": "vlMDhJ3pUfHT"
      }
    },
    {
      "cell_type": "code",
      "source": [
        "vals = [\"a\", \"b\", \"c\", \"d\"]\n",
        "v_ref = vals  # オブジェクトの値ではなく参照が代入される\n",
        "assert v_ref == [\"a\", \"b\", \"c\", \"d\"]\n",
        "v_ref[1] = \"e\"\n",
        "assert vals == v_ref == [\"a\", \"e\", \"c\", \"d\"]  # 変更が vals にも及んでいる"
      ],
      "metadata": {
        "id": "kNly2wv0jC-p"
      },
      "execution_count": null,
      "outputs": []
    },
    {
      "cell_type": "markdown",
      "source": [
        "この結果を回避するには、オブジェクトのコピーを変数に代入する。\n",
        "\n",
        "以下のオブジェクトの `copy()` メソッドは、コピーを返す。\n",
        "\n",
        "  * リストオブジェクト\n",
        "  * `collections.deque` オブジェクト\n",
        "  * 集合オブジェクト\n",
        "  * 辞書オブジェクト\n",
        "\n",
        "また、組み込み関数を以下のように呼び出す方法でもコピーが得られる。\n",
        "\n",
        "  * `list(リストオブジェクト)`\n",
        "  * `set(集合オブジェクト)`\n",
        "  * `dict(辞書オブジェクト)`\n",
        "\n",
        "リストオブジェクトについてはスライスを使用してもコピーが得られる（位置を省略して `x[:]` とすれば全体のコピーが得られる）。\n",
        "\n",
        "以上の方法によるコピーは、単に同じ要素の参照を持つ新しいオブジェクトである。このようなコピーを**浅いコピー**と呼ぶ。"
      ],
      "metadata": {
        "id": "2QJWBKzgnJF8"
      }
    },
    {
      "cell_type": "code",
      "source": [
        "vals = [\"a\", \"b\", \"c\", \"d\"]\n",
        "v_ref = vals.copy()  # オブジェクトのコピーが代入される\n",
        "assert v_ref == vals\n",
        "v_ref[1] = \"e\"\n",
        "assert vals != v_ref == [\"a\", \"e\", \"c\", \"d\"]  # 変更が vals に及ばない"
      ],
      "metadata": {
        "id": "TiFalv5dawWd"
      },
      "execution_count": null,
      "outputs": []
    },
    {
      "cell_type": "markdown",
      "source": [
        "標準ライブラリの `copy` モジュールが提供する `copy()` 関数は、任意の型のインスタンスにも適用できる、浅いコピーを返す関数である。もし `__copy__()` メソッドが定義されていれば、`copy.copy()` 関数はそれを呼び出し、得られた結果を返す。"
      ],
      "metadata": {
        "id": "oVOaVdBZbyDZ"
      }
    },
    {
      "cell_type": "code",
      "source": [
        "import copy\n",
        "\n",
        "class MyClass:\n",
        "    def __init__(self, x):\n",
        "        self.x = x\n",
        "\n",
        "    def __copy__(self):\n",
        "        print(\"Calling __copy__\")\n",
        "        return MyClass(self.x)\n",
        "\n",
        "obj1 = MyClass(10)\n",
        "obj2 = copy.copy(obj1)  # copy.copy を使ってコピー（__copy__が呼ばれる）\n",
        "assert obj1.x == obj2.x == 10\n",
        "obj2.x = 20\n",
        "assert obj1.x != obj2.x  # 変更が obj1 に及ばない"
      ],
      "metadata": {
        "colab": {
          "base_uri": "https://localhost:8080/"
        },
        "id": "4ai7MQaAcxb_",
        "outputId": "7bf54f48-3e99-44c5-8b6a-17f0641ab2a5"
      },
      "execution_count": null,
      "outputs": [
        {
          "output_type": "stream",
          "name": "stdout",
          "text": [
            "Calling __copy__\n"
          ]
        }
      ]
    },
    {
      "cell_type": "markdown",
      "source": [
        "### 深いコピー ###"
      ],
      "metadata": {
        "id": "l_kwMH25gFbQ"
      }
    },
    {
      "cell_type": "markdown",
      "source": [
        "浅いコピーでも、要素としてミュータブルなオブジェクトが含まれる場合、そのオブジェクトの変更が、オブジェクトを参照する全ての変数に影響する。"
      ],
      "metadata": {
        "id": "J_AK4Ay9gF8Y"
      }
    },
    {
      "cell_type": "code",
      "source": [
        "vals = [\"a\", \"b\", [\"c\", \"d\"]]\n",
        "v_ref = vals.copy()  # オブジェクトのコピーが代入される\n",
        "v_ref[2][0] = \"f\"\n",
        "print(f\"{vals=},  {v_ref=}\")  # 入れ子のリストの変更は vals にも及ぶ"
      ],
      "metadata": {
        "colab": {
          "base_uri": "https://localhost:8080/"
        },
        "id": "QpSWl0otobBn",
        "outputId": "dc37ae90-6900-4be3-8b0e-890b38e5bcfd"
      },
      "execution_count": null,
      "outputs": [
        {
          "output_type": "stream",
          "name": "stdout",
          "text": [
            "vals=['a', 'b', ['f', 'd']],  v_ref=['a', 'b', ['f', 'd']]\n"
          ]
        }
      ]
    },
    {
      "cell_type": "markdown",
      "source": [
        "`copy.deepcopy()` 関数は、新しいオブジェクトを作成し、その中の要素である子オブジェクトを再帰的にコピーする。つまり、ミュータブルな子オブジェクトについては、同じ値を持つ新しいオブジェクトを作成する。このようなコピーを**深いコピー**と呼ぶ。深いコピーでは、元のオブジェクトの変更による影響を受けない。"
      ],
      "metadata": {
        "id": "HSPc9jP4sWPf"
      }
    },
    {
      "cell_type": "code",
      "source": [
        "import copy\n",
        "vals = [\"a\", \"b\", [\"c\", \"d\"]]\n",
        "v_ref = copy.deepcopy(vals)  # オブジェクトの深いコピーが代入される\n",
        "assert v_ref == vals\n",
        "v_ref[2][0] = \"f\"\n",
        "print(f\"{vals=},  {v_ref=}\")  # 入れ子のリストの変更も vals に及ばない"
      ],
      "metadata": {
        "colab": {
          "base_uri": "https://localhost:8080/"
        },
        "id": "RN-tq4lrs_zL",
        "outputId": "bbd3dc18-f260-4150-9dab-1fba5f057f0e"
      },
      "execution_count": null,
      "outputs": [
        {
          "output_type": "stream",
          "name": "stdout",
          "text": [
            "vals=['a', 'b', ['c', 'd']],  v_ref=['a', 'b', ['f', 'd']]\n"
          ]
        }
      ]
    },
    {
      "cell_type": "markdown",
      "source": [
        "深いコピーのデメリットは、オブジェクトの階層が深くなるほど再帰的なコピーに時間がかかることである。また、ミュータブルな子オブジェクトについて、すべて新たなオブジェクトが作成されるため、メモリ消費量が大きくなる。浅いコピーを選ぶか深いコピーを選ぶかは、用途を考慮して決める必要がある。\n",
        "\n",
        "`copy.deepcopy()` 関数は、任意の型のインスタンスにも適用できる。もし `__deepcopy__()` メソッドが定義されていれば、`copy.deepcopy()` 関数はそれを呼び出し、得られた結果を返す。\n",
        "\n",
        "`copy.copy()` と `copy.deepcopy()` 関数は、モジュール、メソッド、スタックトレース、スタックフレーム、ファイル、ソケット、ウィンドウ、その他これらに類似の型をコピーしない。\n"
      ],
      "metadata": {
        "id": "t1hlO9Xot1fb"
      }
    },
    {
      "cell_type": "markdown",
      "source": [
        "### copy.replace ###"
      ],
      "metadata": {
        "id": "bTcR3if0h4bm"
      }
    },
    {
      "cell_type": "markdown",
      "source": [
        "Python 3.13 からは、`copy` モジュールに次の関数が追加された。\n",
        "\n",
        "``` python\n",
        "copy.replace(obj, /, **changes)\n",
        "```\n",
        "\n",
        "この関数は、第 1 引数 `obj` が持つ `__replace__()` メソッドを呼び出し、その結果を返す。第 2 引数以降のキーワード引数は `__replace__()` メソッドに渡される。\n",
        "\n",
        "`__replace__()` は、オブジェクトの属性（の一部）を書き換えて、同じ型の新しいオブジェクトを作成するメソッドである。`replace()` メソッドによって呼び出される。\n",
        "\n",
        "たとえば、`datetime.date`、`datetime.time`、`datetime.datetime` オブジェクトについては、`replace()` メソッドを使っても、`copy.replace()` 関数を使っても同じことができる。\n",
        "\n",
        "``` python\n",
        "import copy\n",
        "import datetime\n",
        "\n",
        "d1 = datetime.date(2024, 6, 30)\n",
        "d2 = d1.replace(year=2025)\n",
        "d3 = copy.replace(d1, year=2025)\n",
        "assert d2 == d3\n",
        "```"
      ],
      "metadata": {
        "id": "hHN3vU76h5DP"
      }
    },
    {
      "cell_type": "markdown",
      "source": [
        "弱参照（weakref）\n",
        "-----------------"
      ],
      "metadata": {
        "id": "txFlwX3I-MNq"
      }
    },
    {
      "cell_type": "markdown",
      "source": [
        "参照カウントの働きに気づかないと、不要になったオブジェクトがプログラムのプロセス中ずっとメモリ上に存在し続けるということがある。たとえば、次のコードでは、`Player` クラスのインスタンスがリスト `players` や `card` によって参照されている。`name` 属性が `'武田'` のオブジェクトは両方に登録されるが、次の行で `players` から削除されている。これによりオブジェクト自体が削除されるわけではなく、依然として `card` から参照できることがわかる:"
      ],
      "metadata": {
        "id": "_XGzTJnGbio0"
      }
    },
    {
      "cell_type": "code",
      "source": [
        "class Player:\n",
        "    def __init__(self, id, name):\n",
        "        self.id = id\n",
        "        self.name = name\n",
        "\n",
        "    def __repr__(self):\n",
        "        return f\"Player({self.id}, {self.name})\"\n",
        "\n",
        "players = [Player(32, \"武田\"), Player(51, \"上杉\"), Player(66, \"織田\")]\n",
        "card = [players[0], players[1]]\n",
        "del players[0]\n",
        "players, card  # players からは武田が除去されるが、card では依然として武田を参照できている"
      ],
      "metadata": {
        "id": "h2iHgHy0bjIm",
        "colab": {
          "base_uri": "https://localhost:8080/"
        },
        "outputId": "ccfc0644-feeb-4fe9-d641-a48349651fb9"
      },
      "execution_count": null,
      "outputs": [
        {
          "output_type": "execute_result",
          "data": {
            "text/plain": [
              "([Player(51, 上杉), Player(66, 織田)], [Player(32, 武田), Player(51, 上杉)])"
            ]
          },
          "metadata": {},
          "execution_count": 21
        }
      ]
    },
    {
      "cell_type": "markdown",
      "source": [
        "このように、オブジェクトが複数の変数や他のオブジェクトによって参照されている場合、それらとオブジェクトのバインディングをすべて削除して参照カウントが 0 になるようにしないと、メモリ上にはオブジェクトが存在し続ける。\n",
        "\n",
        "この問題を解決するため、標準ライブラリの `weakref` モジュールは、参照カウントを増やさないオブジェクトへの参照をサポートする。このような参照を**弱参照**と呼ぶ。弱参照と区別するため、普通の参照（参照カウントが増える参照）を**強参照**と呼ぶことがある。\n",
        "\n",
        "ただし、全てのオブジェクトが弱参照で参照できるわけではない。以下のオブジェクトは弱参照をサポートする。\n",
        "\n",
        "  * クラスインスタンス（`__slots__` 属性を持つクラスを除く）\n",
        "  * （C ではなく） Python で書かれた関数\n",
        "  * インスタンスメソッド\n",
        "  * `set` オブジェクト\n",
        "  * `frozenset` オブジェクト\n",
        "  * ファイルオブジェクト\n",
        "  * ジェネレーターオブジェクト\n",
        "  * `socket` オブジェクト（`socket` モジュール）\n",
        "  * `array` オジェクト（`array` モジュール）\n",
        "  * `deque` オブジェクト（`deque` モジュール）\n",
        "  * 正規表現パターンオブジェクト（`re` モジュール）\n",
        "\n",
        "いくつかの組み込み型 `int`, `float`, `str`, `bytes`, `bytearray`, `list`, `tuple`, `dict` は弱参照を直接サポートしないことに注意する。`list` と `dict` に限っては、サブクラス化を行えば、そのサブクラスが弱参照をサポートする。\n",
        "\n",
        "弱参照をサポートするオブジェクトを代入した変数 `x` に対して、`weakref.ref(x)` は、オブジェクトへの弱参照を返す。弱参照は、後ろに `()` を付けて呼び出すと、オブジェクトの参照を取得する。`del x` とした後は、弱参照は `None` を返す。"
      ],
      "metadata": {
        "id": "lczOLbilOTCu"
      }
    },
    {
      "cell_type": "code",
      "source": [
        "import weakref\n",
        "import sys\n",
        "\n",
        "# dict のサブクラス化（弱参照のサポート）\n",
        "class Dict(dict):\n",
        "    pass\n",
        "\n",
        "x = Dict(name=\"hoge\")\n",
        "assert sys.getrefcount(x) == 2\n",
        "x_ref = weakref.ref(x)  # 弱参照\n",
        "assert sys.getrefcount(x) == 2  # 参照カウントは増えない\n",
        "assert x_ref()[\"name\"] == \"hoge\"  # x_ref() でインスタンスを参照\n",
        "del x\n",
        "assert x_ref() is None  # del x のあとはインスタンスを参照できない"
      ],
      "metadata": {
        "id": "6oYASlfqPAzg"
      },
      "execution_count": null,
      "outputs": []
    },
    {
      "cell_type": "markdown",
      "source": [
        "冒頭のコードで弱参照を使うと、次のようになる。"
      ],
      "metadata": {
        "id": "d2bb-nAVo-lh"
      }
    },
    {
      "cell_type": "code",
      "source": [
        "import weakref\n",
        "\n",
        "class Player:\n",
        "    def __init__(self, id, name):\n",
        "        self.id = id\n",
        "        self.name = name\n",
        "\n",
        "players = [Player(32, \"武田\"), Player(51, \"上杉\"), Player(66, \"織田\")]\n",
        "card = [weakref.ref(players[0]), weakref.ref(players[1])]\n",
        "assert card[0]().name == \"武田\"\n",
        "del players[0]\n",
        "assert card[0]() is None  # card からも参照できなくなる"
      ],
      "metadata": {
        "id": "oaU6L_J5o_D4"
      },
      "execution_count": null,
      "outputs": []
    },
    {
      "cell_type": "markdown",
      "source": [
        "`weakref` モジュールは、弱参照を扱うデータ型も提供している。\n",
        "\n",
        "``` python\n",
        "weakref.WeakKeyDictionary([dict])\n",
        "```\n",
        "\n",
        "キーを弱参照するマッピングクラスのインスタンスを生成する。キーへの強参照がなくなったときに、辞書のエントリは捨てられる。\n",
        "\n",
        "``` python\n",
        "weakref.WeakValueDictionary([dict])\n",
        "```\n",
        "\n",
        "値を弱参照するマッピングクラスのインスタンスを生成する。値への強参照が存在しなくなったときに、辞書のエントリは捨てられる。"
      ],
      "metadata": {
        "id": "5pdglEpJQlLo"
      }
    },
    {
      "cell_type": "code",
      "source": [
        "from weakref import WeakValueDictionary\n",
        "import sys\n",
        "import gc\n",
        "\n",
        "class T:\n",
        "    def __init__(self, name):\n",
        "        self.name = name\n",
        "\n",
        "    def __repr__(self):\n",
        "        return f\"T({self.name})\"\n",
        "\n",
        "v1, v2 = T(\"spam\"), T(\"ham\")\n",
        "assert sys.getrefcount(v1) == 2\n",
        "assert sys.getrefcount(v2) == 2\n",
        "d = dict()\n",
        "wd = WeakValueDictionary()\n",
        "d[1] = v1\n",
        "wd[1] = v2\n",
        "assert sys.getrefcount(v1) == 3  # 参照カウントが増えている\n",
        "assert sys.getrefcount(v2) == 2  # 参照カウントが増えていない\n",
        "assert len(d) == len(wd) == 1  # それぞれ1件のデータが格納されている\n",
        "del v1, v2  # オブジェクトを削除\n",
        "gc.collect()  # 手動でガベージコレクションを強制的に実行する\n",
        "assert len(d) == 1  # d[1] が参照しているので T(\"spam\") は削除されない\n",
        "print(f\"{d[1]=}\")\n",
        "assert len(wd) == 0  # T(\"ham\") 自体が削除され、wd[1] のエントリも捨てられる"
      ],
      "metadata": {
        "colab": {
          "base_uri": "https://localhost:8080/"
        },
        "id": "DlRn-09O7Wyi",
        "outputId": "5cddbf59-ed00-4e32-e8a5-492b48514868"
      },
      "execution_count": null,
      "outputs": [
        {
          "output_type": "stream",
          "name": "stdout",
          "text": [
            "d[1]=T(spam)\n"
          ]
        }
      ]
    },
    {
      "cell_type": "markdown",
      "source": [
        "`weakref.WeakKeyDictionary` 型と `weakref.WeakValueDictionary` 型の型アノテーションは、`dict` と同様に、添字表記（[]）を使ってキーの型と値の型を指定しなければならない。"
      ],
      "metadata": {
        "id": "JLKh8DyLse9r"
      }
    },
    {
      "cell_type": "code",
      "source": [
        "from weakref import WeakValueDictionary\n",
        "\n",
        "class S:\n",
        "    def __init__(self, name: str) -> None:\n",
        "        self.name = name\n",
        "\n",
        "def f(x: WeakValueDictionary[str, S]) -> str:\n",
        "    return x[\"hoge\"].name"
      ],
      "metadata": {
        "id": "xDwWvM26sf3e"
      },
      "execution_count": null,
      "outputs": []
    },
    {
      "cell_type": "markdown",
      "source": [
        "defaultdict\n",
        "-----------"
      ],
      "metadata": {
        "id": "xL_I-FU4YAz6"
      }
    },
    {
      "cell_type": "markdown",
      "source": [
        "`collections` が提供する `defaultdict` は、辞書を拡張し、存在しないキーを参照したときにデフォルト値を返すことができるデータ型である。コンストラクタは次のとおり。\n",
        "\n",
        "``` python\n",
        "collections.defaultdict(default_factory=None, /[, ...])\n",
        "```\n",
        "\n",
        "`default_factory` 引数には、引数なしの呼び出し可能オブジェクトを指定できる。`collections.defaultdict` インスタンスに対して存在しないキーを参照した場合は、 `default_factory` を引数なしで呼び出した時の戻り値がデフォルト値となる。もし `default_factory` 引数が `None`（デフォルト）なら、普通の `dict` オブジェクトと同様に `KeyError` 例外が発生する。\n",
        "\n",
        "残りの引数は、キーワード引数も含め、`dict` のコンストラクタに与えられた場合と同様に扱われる。\n",
        "\n",
        "`default_factory` 引数に `list` または `set`、`dict` を指定すると、それぞれ空のリスト、集合、辞書がデフォルト値となる。これを使用すると、`in` 演算子でキーの存在を確認したり、`setdefault()` メソッドを使う手順を省略して、簡単にデータをグループ化することができる。\n",
        "\n",
        "次のコードは、`default_factory` 引数に `list` を指定した `collections.defaultdict` の使用例である。"
      ],
      "metadata": {
        "id": "Vtb-fJwcYB8V"
      }
    },
    {
      "cell_type": "code",
      "source": [
        "from collections import defaultdict\n",
        "\n",
        "animals = [(\"チーター\", \"哺乳類\"),\n",
        "           (\"ダチョウ\", \"鳥類\"),\n",
        "           (\"コウモリ\", \"哺乳類\"),\n",
        "           (\"ツバメ\", \"鳥類\"),\n",
        "           (\"クジラ\", \"哺乳類\"),\n",
        "           (\"ペンギン\", \"鳥類\")]\n",
        "dd = defaultdict(list)  # 存在しないキーを参照したときのデフォルト値を list() の値（空のリスト）とする\n",
        "for animal, classis in animals:\n",
        "    dd[classis].append(animal)  # dd[classis] はキーが存在しない場合は、空のリストを作成しそれに追加する\n",
        "print(list(dd.items()))"
      ],
      "metadata": {
        "colab": {
          "base_uri": "https://localhost:8080/"
        },
        "id": "Nalw8H4MiSjZ",
        "outputId": "4a3b8723-5477-4fd2-b4db-cf02cfa162b4"
      },
      "execution_count": null,
      "outputs": [
        {
          "output_type": "stream",
          "name": "stdout",
          "text": [
            "[('哺乳類', ['チーター', 'コウモリ', 'クジラ']), ('鳥類', ['ダチョウ', 'ツバメ', 'ペンギン'])]\n"
          ]
        }
      ]
    },
    {
      "cell_type": "markdown",
      "source": [
        "`default_factory` 引数にジェネレーターを利用する場合、ジェネレーター関数そのものを指定することはできない。ジェネレーター関数の呼び出しはジェネレーターオブジェクトを返すからである。この場合は、 `default_factory` 引数に、ジェネレーターオブジェクトから値を取りだすラムダ式（`next()` 関数を使う形式）を渡すようにすればよい。\n",
        "\n",
        "次のコードは、値を `1`, `2`, `3`, ... と返すジェネレーターオブジェクト `counter` を作成しており、 `collections.defaultdict` のインスタンス化に際して `default_factory` 引数に `counter` から値を取りだすラムダ式を渡している。こうして生成された `collections.defaultdict` インスタンスは、全てのキーが連番のデフォルト値を持つようになる。"
      ],
      "metadata": {
        "id": "MaZKTdND0rLE"
      }
    },
    {
      "cell_type": "code",
      "source": [
        "from collections import defaultdict\n",
        "\n",
        "def count():\n",
        "    i = 0\n",
        "    while True:\n",
        "        i += 1\n",
        "        yield i\n",
        "\n",
        "counter = count()\n",
        "dd = defaultdict(lambda: next(counter))\n",
        "assert dd[\"apple\"] == 1\n",
        "assert dd[\"peach\"] == 2\n",
        "assert dd[\"pear\"] == 3"
      ],
      "metadata": {
        "id": "mctgMpExfcCX"
      },
      "execution_count": null,
      "outputs": []
    },
    {
      "cell_type": "markdown",
      "source": [
        "`collections.defaultdict` 型の型アノテーションは、`dict` と同様に、添字表記（`[]`）を使ってキーの型と値の型を指定しなければならない。"
      ],
      "metadata": {
        "id": "L286mgR9ekys"
      }
    },
    {
      "cell_type": "code",
      "source": [
        "from collections import defaultdict\n",
        "\n",
        "def func(dd: defaultdict[str, list]):\n",
        "    return dd[\"hoge\"]\n",
        "\n",
        "dd = defaultdict(str)\n",
        "assert func(dd) == \"\"  # 静的型チェッカーがエラーを表示する"
      ],
      "metadata": {
        "id": "wKGnONLJel-I"
      },
      "execution_count": null,
      "outputs": []
    },
    {
      "cell_type": "markdown",
      "source": [
        "OrderedDict\n",
        "-----------"
      ],
      "metadata": {
        "id": "Yv3y5wWuFFsx"
      }
    },
    {
      "cell_type": "markdown",
      "source": [
        "`collections` が提供する `OrderedDict` は、普通の辞書のようであるが、挿入順序に関係する追加の機能がある:\n",
        "\n",
        "  * `popitem()` メソッドは引数を渡すことができ、 `popitem(False)` の場合、挿入順序の先頭のキーと値の対を消去し、その対を `tuple` として返す。 `popitem(True)` および引数を伴わない `popitem()` の場合は普通の辞書の `popitem()` と同じである。\n",
        "  * `move_to_end(key, last=True)` メソッドを持ち、デフォルトでは既存の `key` を挿入順序の末尾に移動する。引数 `last` が `False` の場合、先頭に移動する。\n",
        "  * オブジェクトの等価演算 `==` は挿入順序を考慮する。すなわち、`==` は同じキーと値の組を持つだけでなく、キーの順番も同じである場合にのみ真と評価される。\n",
        "\n",
        "なお、普通の辞書でも以下のことができる。\n",
        "\n",
        "  * `move_to_end(key)` に相当する操作は、`pop(key)` と代入で実現できる。\n",
        "  * 順序を考慮した等価演算は、 `p == q and all(k1 == k2 for k1, k2 in zip(p, q))` で実現できる。"
      ],
      "metadata": {
        "id": "EqzJSQIxFIuM"
      }
    },
    {
      "cell_type": "code",
      "source": [
        "from collections import OrderedDict\n",
        "import copy\n",
        "\n",
        "items = [(\"0\", 0), (\"1\", 1), (\"2\", 2)]\n",
        "\n",
        "od1 = OrderedDict(items)\n",
        "print(f\"{od1=}\")\n",
        "od2 = copy.deepcopy(od1)\n",
        "assert od1 == od2\n",
        "od2.move_to_end(\"0\")\n",
        "print(f\"{od2=}\")\n",
        "assert od1 != od2\n",
        "\n",
        "d1 = dict(items)\n",
        "print(f\"{d1=}\")\n",
        "d2 = copy.deepcopy(d1)\n",
        "assert d1 == d2\n",
        "d2[\"0\"] = d2.pop(\"0\")  # キーが 0 の項目を取り除いてから追加\n",
        "print(f\"{d2=}\")  # キーが 0 の項目が末尾に追加されている\n",
        "assert d1 == d2\n",
        "assert not (d1 == d2 and all(k1 == k2 for k1, k2 in zip(d1, d2)))  # 順序を考慮した等価演算"
      ],
      "metadata": {
        "colab": {
          "base_uri": "https://localhost:8080/"
        },
        "id": "7oWgzcMpFL0s",
        "outputId": "c6546010-e742-4a1e-9ea8-611918169ff4"
      },
      "execution_count": null,
      "outputs": [
        {
          "output_type": "stream",
          "name": "stdout",
          "text": [
            "od1=OrderedDict([('0', 0), ('1', 1), ('2', 2)])\n",
            "od2=OrderedDict([('1', 1), ('2', 2), ('0', 0)])\n",
            "d1={'0': 0, '1': 1, '2': 2}\n",
            "d2={'1': 1, '2': 2, '0': 0}\n"
          ]
        }
      ]
    },
    {
      "cell_type": "markdown",
      "source": [
        "`collections.OrderedDict` は、順序操作に関係する操作を普通の辞書よりも高速に行うことができるが、反面、メモリ使用効率、反復処理の速度、更新操作のパフォーマンスが普通の辞書より劣る。このため、普通の辞書より `collections.OrderedDict` が適しているといえるケースは、頻繁な並べ替え処理が必要という特殊なケースに限られる。\n",
        "\n",
        "`collections.OrderedDict` 型の型アノテーションは、`dict` と同様に、添字表記（`[]`）を使ってキーの型と値の型を指定しなければならない。"
      ],
      "metadata": {
        "id": "oBe_rgeVRMg7"
      }
    },
    {
      "cell_type": "code",
      "source": [
        "def func(od: OrderedDict[str, int], key: str) -> tuple[str, int]:\n",
        "    od.move_to_end(key)\n",
        "    return od.popitem()"
      ],
      "metadata": {
        "id": "0FioHr7KaPyA"
      },
      "execution_count": null,
      "outputs": []
    },
    {
      "cell_type": "markdown",
      "source": [
        "Counter\n",
        "-------"
      ],
      "metadata": {
        "id": "8GLuQtZjBuAJ"
      }
    },
    {
      "cell_type": "markdown",
      "source": [
        "`collections` が提供する `Counter` は、次の 2 つの特徴を持つ多重集合のように辞書を拡張したデータ型である。 ※多重集合―同じ要素が複数回出現できて、その出現回数が重要である集合\n",
        "\n",
        "  1. コンストラクタには、引数としてイテラブルオブジェクトを渡すことが可能で、その場合には、要素を辞書のキーとし、そのカウントを値に持つ。`dict` のコンストラクタと同様の引数を渡すこともできる。\n",
        "  2. 存在しない要素に対して `KeyError` を送出する代わりに 0 を返す。ただし、カウントを 0 に設定しても、要素はカウンタから取り除かれない（完全に取り除くには、del を使うこと）。\n",
        "\n",
        "``` python\n",
        "collections.Counter([iterable-or-mapping])\n",
        "```\n",
        "\n",
        "`collections.Counter` は辞書を拡張しているので、辞書と同様に生成することもできるが、値は整数にする必要がある（例: `Counter(a=1, b=2)`）。値は負の数でもよい。\n",
        "\n",
        "`collections.Counter` オブジェクトは、辞書で利用できるメソッドのうち、クラスメソッド `fromkeys()` を除いたすべてのメソッドをサポートしている。ただし、`update()` メソッドの振る舞いが辞書と異なる。また、追加のメソッドをサポートする。これらは以下のとおり:\n",
        "\n",
        "| メソッド | 機能 | 戻り値 |\n",
        "|:---|:---|:---|\n",
        "| `elements()` | それぞれの要素を、そのカウント分の回数だけ繰り返すイテレーターを返す。要素は挿入した順番で返される。<br />カウントが 1 未満の要素は無視される | イテレーター |\n",
        "| `most_common([n])` | 要素とカウントのタプルを、カウントが多いものから少ないものまで順に並べたリストを返す。n に整数を指定<br />すると、最大 n 件の要素を返す。等しいカウントの要素は挿入順に並べられる | `list` |\n",
        "| `total()` | カウントの合計を計算する | `int` |\n",
        "| `subtract([iterable-or-mapping])` | 要素のカウントから `iterable` の要素のカウントまたは `mapping` の要素の値が引かれる。存在しない要素は<br /> 0 として処理される | `None` |\n",
        "| `update([iterable-or-mapping])` | 要素のカウントに `iterable` の要素のカウントまたは `mapping` の要素の値が加算される。存在しない要素は<br /> 0 として処理される。`dict` の `update()` とは異なり、`iterable` には `(key, value)` 対のシーケンスではな<br />く、要素のシーケンスが求められる | `None` |\n",
        "\n",
        "`collections.Counter` は `+`, `-` 演算子をサポートする。`c + d` はカウントの加算、`c - d` はカウントの減算であり、それぞれ `subtract()` メソッド、`update()` メソッドと異なり、`c` や `d` を変更せず新しい `collections.Counter` オブジェクトを返す。さらに、和集合演算子 `|` と積集合演算子 `&` もサポートされている。"
      ],
      "metadata": {
        "id": "Q0xfT_tJBut5"
      }
    },
    {
      "cell_type": "code",
      "source": [
        "from collections import Counter\n",
        "\n",
        "zen = \"Beautiful is better than ugly\"\n",
        "cnt = Counter(zen)\n",
        "assert cnt[\"e\"] == zen.count(\"e\") == 3\n",
        "assert cnt[\"z\"] == zen.count(\"z\") == 0  # 存在しないキーを参照してもエラーにならない\n",
        "assert \"z\" not in cnt  # キーに対する値(カウント) 0 が返される場合でもキーが存在するわけでない\n",
        "print(list(cnt.items()))\n",
        "cnt[\"z\"] += 1  # 初期化しなくても +=1 でカウントできる\n",
        "assert \"z\" in cnt\n",
        "assert cnt[\"z\"] == 1\n",
        "\n",
        "c = Counter(spam=5, ham=2)\n",
        "d = Counter(spam=1, egg=3)\n",
        "assert list(c.elements()) == [\"spam\", \"spam\", \"spam\", \"spam\", \"spam\", \"ham\", \"ham\"]\n",
        "assert (c + d).most_common(2) == [(\"spam\", 6), (\"egg\", 3)]\n",
        "assert list((c | d).items()) == [(\"spam\", 5), (\"ham\", 2), (\"egg\", 3)]  # 和集合演算では最大値を返す\n",
        "assert list((c & d).items()) == [(\"spam\", 1)]  # 積集合演算では最小値を返す\n",
        "c.subtract(d)\n",
        "assert list(c.items()) == [(\"spam\", 4), (\"ham\", 2), (\"egg\", -3)]\n",
        "c.update(d)\n",
        "assert list(c.items()) == [(\"spam\", 5), (\"ham\", 2), (\"egg\", 0)]\n",
        "assert c.total() == 7"
      ],
      "metadata": {
        "colab": {
          "base_uri": "https://localhost:8080/"
        },
        "id": "D5a9mRhfBJ48",
        "outputId": "fb6d2c93-c0f3-411a-8e2a-f4b87644b041"
      },
      "execution_count": null,
      "outputs": [
        {
          "output_type": "stream",
          "name": "stdout",
          "text": [
            "[('B', 1), ('e', 3), ('a', 2), ('u', 3), ('t', 4), ('i', 2), ('f', 1), ('l', 2), (' ', 4), ('s', 1), ('b', 1), ('r', 1), ('h', 1), ('n', 1), ('g', 1), ('y', 1)]\n"
          ]
        }
      ]
    },
    {
      "cell_type": "markdown",
      "source": [
        "`collections.Counter` 型の型アノテーションは、添字表記（`[]`）を使ってキーの型を指定しなければならない。値の型は指定しない（必ず `int` なので）。"
      ],
      "metadata": {
        "id": "ubJsw-dL8cPW"
      }
    },
    {
      "cell_type": "code",
      "source": [
        "from collections import Counter\n",
        "\n",
        "def func(c: Counter[str]):\n",
        "    return c[\"hoge\"]\n",
        "\n",
        "c = Counter()\n",
        "assert func(c) == 0"
      ],
      "metadata": {
        "id": "dCF4xulv8q1R"
      },
      "execution_count": null,
      "outputs": []
    },
    {
      "cell_type": "markdown",
      "source": [
        "enum\n",
        "----"
      ],
      "metadata": {
        "id": "udaeBHKZ1fCL"
      }
    },
    {
      "cell_type": "markdown",
      "source": [
        "### 列挙型 ###"
      ],
      "metadata": {
        "id": "JwjNbYDSBl7x"
      }
    },
    {
      "cell_type": "markdown",
      "source": [
        "標準ライブラリの `enum` モジュールが提供する `enum.Enum` のサブクラスは、列挙型と呼ばれ、複数の定数を列挙するデータ型である。\n",
        "\n",
        "列挙型の定義は、`enum.Enum` を継承するクラスにクラス属性を定義する形となる。このクラス属性の名前は、列挙型の定数（**メンバー**と呼ばれる）の名前となる。クラスのメソッドや属性との名前の衝突の問題を回避するため、列挙型のメンバーの名前には UPPER_CASE の名前を使うことが推奨されている（公式ドキュメント [列挙型 HOWTO](https://docs.python.org/ja/3/howto/enum.html)）。同じ名前のメンバーを複数持つことはできない。\n",
        "\n",
        "列挙型のメンバーを参照する方法は、次の 3 通りある:\n",
        "\n",
        "  * 一般のクラス属性と同様にドット `.` で参照する。\n",
        "  * 辞書のように定数の名前をキーとして `['CONSTANT_NAME']` で参照する。\n",
        "  * クラス名の右に `(5)` のように付けて、定数値で参照する。\n",
        "\n",
        "列挙型のメンバーの型は、そのメンバーの属する列挙型となる。列挙型は、`enum.Enum` から読み取り専用プロパティ `name` と `value` を継承する。それぞれ、列挙型のメンバーの名前と値を返す。"
      ],
      "metadata": {
        "id": "didXNUAl1f7Y"
      }
    },
    {
      "cell_type": "code",
      "source": [
        "from enum import Enum\n",
        "\n",
        "class Color(Enum):\n",
        "    RED = 1\n",
        "    GREEN = 2\n",
        "    BLUE = 3\n",
        "\n",
        "assert isinstance(Color.RED, Color)\n",
        "assert Color.RED.name == Color[\"RED\"].name == Color(1).name == \"RED\"\n",
        "assert Color.RED.value == Color[\"RED\"].value == Color(1).value == 1\n",
        "print(Color.RED)\n",
        "Color.RED"
      ],
      "metadata": {
        "id": "oSha8PWi3HS8",
        "colab": {
          "base_uri": "https://localhost:8080/"
        },
        "outputId": "f5a60d19-d937-4a17-9bac-9c6011d556b1"
      },
      "execution_count": null,
      "outputs": [
        {
          "output_type": "stream",
          "name": "stdout",
          "text": [
            "Color.RED\n"
          ]
        },
        {
          "output_type": "execute_result",
          "data": {
            "text/plain": [
              "<Color.RED: 1>"
            ]
          },
          "metadata": {},
          "execution_count": 33
        }
      ]
    },
    {
      "cell_type": "markdown",
      "source": [
        "このように、列挙型のメンバーに対する `repr()` は、列挙型の名前、および、列挙型のメンバーの名前と値を表示する。列挙型のメンバーに対する `str()` は、列挙型の名前と列挙型のメンバーの名前のみを表示する。\n",
        "\n",
        "同じ名前のメンバーを複数持つことはできないが、同じ値を持つメンバーを複数持つことはできる。値が重複するメンバーは、先に出現したメンバーに対するエイリアス（別名）となる。"
      ],
      "metadata": {
        "id": "5eS1tcxOVECa"
      }
    },
    {
      "cell_type": "code",
      "source": [
        "from enum import Enum\n",
        "\n",
        "class Shape(Enum):\n",
        "    SQUARE = 2\n",
        "    DIAMOND = 1\n",
        "    CIRCLE = 3\n",
        "    ALIAS_FOR_SQUARE = 2\n",
        "\n",
        "assert Shape.ALIAS_FOR_SQUARE.name == Shape.SQUARE.name == \"SQUARE\""
      ],
      "metadata": {
        "id": "YqlMZOYxVE_M"
      },
      "execution_count": null,
      "outputs": []
    },
    {
      "cell_type": "markdown",
      "source": [
        "列挙型はイテラブルであり、反復処理の場面で、列挙型のメンバーを出現した順序にしたがって 1 つずつ取得できるイテレーターを返す。このイテレーターは、エイリアスとなる列挙型のメンバーを取得しない。"
      ],
      "metadata": {
        "id": "u1YL7fLY6m0G"
      }
    },
    {
      "cell_type": "code",
      "source": [
        "assert [x.name for x in Shape] == [\"SQUARE\", \"DIAMOND\", \"CIRCLE\"]"
      ],
      "metadata": {
        "id": "pUWksdc26nhg"
      },
      "execution_count": null,
      "outputs": []
    },
    {
      "cell_type": "markdown",
      "source": [
        "クラスデコレーター `enum.unique()` を付けて列挙型を定義すると、同じ値のエイリアスとして複数の名前を設定できなくなり、メンバーの値の一意性が保証される。同じ値を設定すると、`ValueError` 例外が発生する。\n",
        "\n",
        "``` python\n",
        "from enum import Enum, unique\n",
        "\n",
        "@unique\n",
        "class Shape(Enum):\n",
        "    SQUARE = 2\n",
        "    DIAMOND = 1\n",
        "    CIRCLE = 3\n",
        "    ALIAS_FOR_SQUARE = 2\n",
        "\n",
        "# エラーが発生して、次のようなメッセージが表示される\n",
        "# Traceback (most recent call last):\n",
        "#  (省略)\n",
        "# ValueError: duplicate values found in <enum 'Shape'>: ALIAS_FOR_SQUARE -> SQUARE\n",
        "```\n",
        "\n",
        "列挙型のメンバーの値そのものは重要でない場合には、`enum.auto()` により値を自動的に設定することができる。"
      ],
      "metadata": {
        "id": "10LqysCJ78Cd"
      }
    },
    {
      "cell_type": "code",
      "source": [
        "from enum import Enum, auto\n",
        "\n",
        "class Color(Enum):\n",
        "    RED = auto()\n",
        "    BLUE = auto()\n",
        "    GREEN = auto()\n",
        "\n",
        "Color.RED, Color.BLUE, Color.GREEN"
      ],
      "metadata": {
        "colab": {
          "base_uri": "https://localhost:8080/"
        },
        "id": "Cx8-Pp6U-ScB",
        "outputId": "fb25c87f-b4e9-4b15-a895-82d6cb319ae1"
      },
      "execution_count": null,
      "outputs": [
        {
          "output_type": "execute_result",
          "data": {
            "text/plain": [
              "(<Color.RED: 1>, <Color.BLUE: 2>, <Color.GREEN: 3>)"
            ]
          },
          "metadata": {},
          "execution_count": 36
        }
      ]
    },
    {
      "cell_type": "markdown",
      "source": [
        "同じ列挙型のメンバーは、同一性を比較できる。等価の比較もできる。列挙型のメンバーの大小比較はサポートされていない（列挙型のメンバーは整数ではない）。"
      ],
      "metadata": {
        "id": "Ifh__8wM_VWv"
      }
    },
    {
      "cell_type": "code",
      "source": [
        "assert Color.RED is Color.RED\n",
        "assert Color.RED == Color.RED\n",
        "assert Shape.SQUARE is Shape.ALIAS_FOR_SQUARE  # エイリアスは同一性を持つ\n",
        "assert Shape.SQUARE == Shape.ALIAS_FOR_SQUARE\n",
        "# Color.RED < Color.BLUE  # これはエラーが発生する"
      ],
      "metadata": {
        "id": "US8Zv_UK_WRD"
      },
      "execution_count": null,
      "outputs": []
    },
    {
      "cell_type": "markdown",
      "source": [
        "これに対して、**他の型（他の列挙型を含む）で定義された定数とは、値が同じでも等価とはならない**。"
      ],
      "metadata": {
        "id": "kwgl22_ZM1G2"
      }
    },
    {
      "cell_type": "code",
      "source": [
        "WARNING = 1\n",
        "\n",
        "class TrafficLight(Enum):\n",
        "    RED = 1\n",
        "    GREEN = 2\n",
        "    BLUE = 3\n",
        "\n",
        "assert Color.RED != WARNING\n",
        "assert Color.RED != TrafficLight.RED"
      ],
      "metadata": {
        "id": "rLfbOmwYNJUQ"
      },
      "execution_count": null,
      "outputs": []
    },
    {
      "cell_type": "markdown",
      "source": [
        "列挙型のメンバーを引数に取る関数を定義するとき、型アノテーションを付けると、静的型チェッカーにより実行前に間違った引数指定をチェックできるし、エディタの入力支援が得られる。"
      ],
      "metadata": {
        "id": "FgH7X4RvLIQh"
      }
    },
    {
      "cell_type": "code",
      "source": [
        "def print_color(color: Color) -> None:\n",
        "    print(color)\n",
        "\n",
        "print_color(Color.RED)\n",
        "# print_color(\"RED\") のような間違った引数指定は静的型チェッカーで検出できる"
      ],
      "metadata": {
        "colab": {
          "base_uri": "https://localhost:8080/"
        },
        "id": "EJ0U8dMVLFID",
        "outputId": "f9beaa65-2a8c-4102-e4cb-be5291664bd7"
      },
      "execution_count": null,
      "outputs": [
        {
          "output_type": "stream",
          "name": "stdout",
          "text": [
            "Color.RED\n"
          ]
        }
      ]
    },
    {
      "cell_type": "markdown",
      "source": [
        "Python 3.10 から導入された構造的パターンマッチングで、列挙型のメンバーをバリューパターンに使うことができる。"
      ],
      "metadata": {
        "id": "VakfJYLiKm6J"
      }
    },
    {
      "cell_type": "code",
      "source": [
        "def check(color: Color):\n",
        "    match color:\n",
        "        case Color.RED:\n",
        "            print(\"赤\")\n",
        "        case Color.BLUE:\n",
        "            print(\"青\")\n",
        "        case Color.GREEN:\n",
        "            print(\"緑\")\n",
        "        case _:\n",
        "            print(\"Color型ではない\")\n",
        "\n",
        "check(Color.GREEN)"
      ],
      "metadata": {
        "colab": {
          "base_uri": "https://localhost:8080/"
        },
        "id": "Avw5K_D5Kp1e",
        "outputId": "7221f452-16cd-4680-89ba-a82853f56edc"
      },
      "execution_count": null,
      "outputs": [
        {
          "output_type": "stream",
          "name": "stdout",
          "text": [
            "緑\n"
          ]
        }
      ]
    },
    {
      "cell_type": "markdown",
      "source": [
        "列挙型は、一般のクラスと同様にメソッドを追加することができる。"
      ],
      "metadata": {
        "id": "GBv9WG8LQWJO"
      }
    },
    {
      "cell_type": "code",
      "source": [
        "from datetime import date\n",
        "from enum import Enum\n",
        "\n",
        "class Weekday(Enum):\n",
        "    MONDAY = 1\n",
        "    TUESDAY = 2\n",
        "    WEDNESDAY = 3\n",
        "    THURSDAY = 4\n",
        "    FRIDAY = 5\n",
        "    SATURDAY = 6\n",
        "    SUNDAY = 7\n",
        "\n",
        "    @classmethod\n",
        "    def from_date(cls, date: date):\n",
        "        return cls(date.isoweekday())\n",
        "\n",
        "assert Weekday.from_date(date(2024, 1, 1)) is Weekday.MONDAY"
      ],
      "metadata": {
        "id": "9nu2Ng4OQW2e"
      },
      "execution_count": null,
      "outputs": []
    },
    {
      "cell_type": "markdown",
      "source": [
        "列挙型の値に整数を使う理由は、単に短くて便利というだけである。大半の使用例では、列挙型のメンバーの実際の値が何であるかは意識しない。しかし、値が重要な場合、列挙型は任意の値を持つことができる。\n",
        "\n",
        "列挙型のサブクラス化は次のように制限される。\n",
        "\n",
        "  1. 親の列挙型はメンバーが 1 つも定義されていないことが必要である。\n",
        "  2. 1 つの列挙型のみ継承できる。多重継承は、親の列挙型 1 つのほかは、具象データ型を 1 つ、複数の `object` ベースの Mixin クラスだけが許容される。これらの基底クラスの順序は次の通り:\n",
        "\n",
        "``` python\n",
        "class EnumName([mix-in, ...,] [data-type,] base-enum):\n",
        "    pass\n",
        "```"
      ],
      "metadata": {
        "id": "_X9HYqFjjOPM"
      }
    },
    {
      "cell_type": "code",
      "source": [
        "from enum import Enum\n",
        "\n",
        "class GetVal:\n",
        "    @classmethod\n",
        "    def getval(cls, member_name: str):\n",
        "        return cls[member_name].value\n",
        "\n",
        "class Foo(Enum):\n",
        "    def some_behavior(self):\n",
        "        pass\n",
        "\n",
        "class Bar(GetVal, Foo):\n",
        "    HAPPY = 1\n",
        "    SAD = 2\n",
        "\n",
        "print(Bar.HAPPY)\n",
        "assert Bar.getval(\"HAPPY\") == 1"
      ],
      "metadata": {
        "colab": {
          "base_uri": "https://localhost:8080/"
        },
        "id": "HILbrMvgjGmX",
        "outputId": "d43bcd1b-32f6-470e-d14f-065dbaf7611f"
      },
      "execution_count": null,
      "outputs": [
        {
          "output_type": "stream",
          "name": "stdout",
          "text": [
            "Bar.HAPPY\n"
          ]
        }
      ]
    },
    {
      "cell_type": "markdown",
      "source": [
        "### 派生列挙型 ###"
      ],
      "metadata": {
        "id": "XCBXqEYz8XnL"
      }
    },
    {
      "cell_type": "markdown",
      "source": [
        "`enum.IntEnum` は `enum.Enum` の派生型であり、 `int` のサブクラスでもある。\n",
        "\n",
        "  * `IntEnum` 列挙型のメンバーは整数と比較できるほか、異なる `IntEnum` 列挙型同士でも比較できる。もちろん、`enum.Enum` 列挙型のメンバーとは比較できない。\n",
        "  * `IntEnum` 列挙型のメンバーは他の用途では整数のように振る舞う。"
      ],
      "metadata": {
        "id": "S8ikOK6w8YsD"
      }
    },
    {
      "cell_type": "code",
      "source": [
        "from enum import IntEnum\n",
        "\n",
        "class Shape(IntEnum):\n",
        "    CIRCLE = 1\n",
        "    SQUARE = 2\n",
        "\n",
        "class Request(IntEnum):\n",
        "    POST = 1\n",
        "    GET = 2\n",
        "\n",
        "assert Shape.CIRCLE == 1\n",
        "assert Shape.CIRCLE == Request.POST\n",
        "assert Shape.SQUARE > 1\n",
        "assert Shape.CIRCLE * 10 + Shape.SQUARE == 12\n",
        "assert [\"a\", \"b\", \"c\"][Shape.CIRCLE] == \"b\"\n",
        "assert [i for i in range(Shape.SQUARE)] == [0, 1]"
      ],
      "metadata": {
        "id": "_rqTniRbARjV"
      },
      "execution_count": null,
      "outputs": []
    },
    {
      "cell_type": "markdown",
      "source": [
        "`enum.StrEnum` （Python 3.11 で追加）は `enum.Enum` の派生型であり、 `str` のサブクラスでもある。\n",
        "\n",
        "  * `StrEnum` 列挙型のメンバーは文字列と比較できるほか、異なる `StrEnum` 列挙型同士でも比較できる。もちろん、`enum.Enum` 列挙型のメンバーとは比較できない。\n",
        "  * `StrEnum` 列挙型のメンバーは他の用途では文字列のように振る舞う。\n",
        "  * `StrEnum` 列挙型 で `enum.auto()` を使用すると、メンバー名を小文字に変換したものが値となる。\n",
        "\n",
        "``` python\n",
        ">>> from enum import StrEnum, auto\n",
        ">>> class Direction(StrEnum):\n",
        "...     EAST = auto()\n",
        "...     WEST = auto()\n",
        "...     NORTH = auto()\n",
        "...     SOUTH = auto()\n",
        "...\n",
        ">>> Direction.EAST\n",
        "<Direction.EAST: 'east'>\n",
        "```\n",
        "\n",
        "`enum.Flag` は `enum.Enum` の派生型であり、メンバーに対するビット演算をサポートする。メンバーに対するビット演算の結果も `enum.Flag` 列挙型のメンバーになる。 `enum.Flag` 列挙型のメンバーの値を 2 の累乗の整数とすると、ビット演算が論理演算としての意味を持つようになる。`enum.Flag` 列挙型で `enum.auto()` を使用すると、 1 から始まる 2 の累乗の整数になる。"
      ],
      "metadata": {
        "id": "hZ6ytd54GXPr"
      }
    },
    {
      "cell_type": "code",
      "source": [
        "from enum import Flag, auto\n",
        "\n",
        "class Weekday(Flag):\n",
        "    MONDAY = auto()  # 1\n",
        "    TUESDAY = auto()  # 2\n",
        "    WEDNESDAY = auto()  # 4\n",
        "    THURSDAY = auto()  # 8\n",
        "    FRIDAY = auto()  # 16\n",
        "    SATURDAY = auto()  # 32\n",
        "    SUNDAY = auto()  # 64\n",
        "    WEEKEND = SATURDAY | SUNDAY\n",
        "\n",
        "assert Weekday.WEEKEND.value == 96\n",
        "print(repr(Weekday.MONDAY | Weekday.WEDNESDAY | Weekday.FRIDAY))  # 月水金\n",
        "for day in Weekday:\n",
        "    if day & (Weekday.MONDAY | Weekday.WEDNESDAY | Weekday.FRIDAY):\n",
        "        print(day.name)"
      ],
      "metadata": {
        "colab": {
          "base_uri": "https://localhost:8080/"
        },
        "id": "Xy9PAZCvM5gs",
        "outputId": "5a7aae7b-5c6d-4f76-cb25-1f27b9229a1c"
      },
      "execution_count": null,
      "outputs": [
        {
          "output_type": "stream",
          "name": "stdout",
          "text": [
            "<Weekday.FRIDAY|WEDNESDAY|MONDAY: 21>\n",
            "MONDAY\n",
            "WEDNESDAY\n",
            "FRIDAY\n"
          ]
        }
      ]
    },
    {
      "cell_type": "markdown",
      "source": [
        "`enum.IntFlag` は `enum.Enum` の派生型であり、 `enum.Flag` と似ているが、 `int` のサブクラスでもある。このため、 `enum.IntEnum` と同様の機能をサポートする。"
      ],
      "metadata": {
        "id": "-WT-NgghNvVE"
      }
    },
    {
      "cell_type": "markdown",
      "source": [
        "データの整形表示\n",
        "----------------"
      ],
      "metadata": {
        "id": "FDkuThjQsjwj"
      }
    },
    {
      "cell_type": "markdown",
      "source": [
        "### pprint ###"
      ],
      "metadata": {
        "id": "-u4_6r_sUflq"
      }
    },
    {
      "cell_type": "markdown",
      "source": [
        "標準ライブラリの `pprint` モジュールが提供する `pprint.pprint()` 関数は、何重にもネストした辞書や、要素数が長いリストのように、人間が読みにくい構造のデータを整形して出力する。\n",
        "\n",
        "``` python\n",
        "pprint.pprint(object, stream=None, indent=1, width=80, depth=None, *, compact=False, sort_dicts=True, underscore_numbers=False)\n",
        "```\n",
        "\n",
        "| 引数 | 意味 |\n",
        "|:--|:--|\n",
        "| `object` | 出力するデータを指定する |\n",
        "| `stream` | 出力先のファイルオブジェクトを指定する。`None`（デフォルト値）ならば、標準出力 `sys.stdout` に出力される |\n",
        "| `indent` | ネストしたオブジェクトの子要素を出力するときのインデント数を指定する |\n",
        "| `width` | 出力幅を指定する |\n",
        "| `depth` | ネストしたオブジェクトを出力する際の、最大レベル数を指定する。`None`（デフォルト値）ならば、すべてのレベルを出力する |\n",
        "| `compact` | キーワード専用引数。`True` の場合、各行に `width` の幅に収まるだけの要素が出力される。`False` の場合、1 行ごとに 1 要素が出力される |\n",
        "| `sort_dicts` | キーワード専用引数。`True` の場合、キーがソートされた状態で出力される。`False` の場合、挿入順に出力される |\n",
        "| `underscore_numbers` | キーワード専用引数。`True` の場合、整数は千の位の区切り文字としてアンダースコア `_` が使用される。`False` の場合、アンダースコアは使<br />用されない |"
      ],
      "metadata": {
        "id": "vy7_VaYNUhsR"
      }
    },
    {
      "cell_type": "code",
      "source": [
        "import pprint\n",
        "stuff = [\"spam\", \"eggs\", \"lumberjack\", \"knights\", \"ni\"]\n",
        "stuff.insert(0, stuff)\n",
        "pprint.pprint(stuff)"
      ],
      "metadata": {
        "colab": {
          "base_uri": "https://localhost:8080/"
        },
        "id": "tdZ11weZaf2g",
        "outputId": "f90b88b2-f240-4d1a-da5e-53820a971681"
      },
      "execution_count": null,
      "outputs": [
        {
          "output_type": "stream",
          "name": "stdout",
          "text": [
            "[<Recursion on list with id=137559039340736>,\n",
            " 'spam',\n",
            " 'eggs',\n",
            " 'lumberjack',\n",
            " 'knights',\n",
            " 'ni']\n"
          ]
        }
      ]
    },
    {
      "cell_type": "markdown",
      "source": [
        "``` python\n",
        "pprint.pformat(object, indent=1, width=80, depth=None, *, compact=False, sort_dicts=True, underscore_numbers=False)\n",
        "```\n",
        "\n",
        "この関数は、`pprint.pprint()` 関数と同じくオブジェクトを整形するが、標準出力に印字するのではなく、戻り値として文字列を返す。"
      ],
      "metadata": {
        "id": "ouJGi5KcPSAP"
      }
    },
    {
      "cell_type": "markdown",
      "source": [
        "### tabulate ###"
      ],
      "metadata": {
        "id": "uTRZ72VjstBd"
      }
    },
    {
      "cell_type": "markdown",
      "source": [
        "サードパーティ製の [tabulate](https://pypi.org/project/tabulate/) は、ネストされたリストなど一定のデータ構造を表形式に整形して出力する関数を提供する。ライセンスは MIT License。インストールは次のとおり。\n",
        "\n",
        "``` shell\n",
        "pip install tabulate\n",
        "```\n",
        "\n",
        "``` python\n",
        "tabulate(tabular_data, headers=(), tablefmt=\"simple\", floatfmt=_DEFAULT_FLOATFMT, intfmt=_DEFAULT_INTFMT, numalign=_DEFAULT_ALIGN,\n",
        "         stralign=_DEFAULT_ALIGN, missingval=_DEFAULT_MISSINGVAL, showindex=\"default\", disable_numparse=False, colglobalalign=None,\n",
        "         colalign=None, preserve_whitespace=False, maxcolwidths=None, headersglobalalign=None, headersalign=None, rowalign=None,\n",
        "         maxheadercolwidths=None, break_long_words=_BREAK_LONG_WORDS, break_on_hyphens=_BREAK_ON_HYPHENS)\n",
        "```\n",
        "\n",
        "この関数は、一定のデータ構造を表形式に整形したテキストを生成して返す。以下のデータ構造をサポートする。\n",
        "\n",
        "| データ構造 | 例 |\n",
        "|:---|:---|\n",
        "| ネストされたリスト | `[[\"Name\", \"Age\"], [\"Alice\", 24], [\"Bob\", 19]]` |\n",
        "| リストを含む辞書 | `{\"Name\": [\"Alice\", \"Bob\"], \"Age\": [24, 19]}` |\n",
        "| 辞書のリスト | `[{\"Name\": \"Alice\", \"Age\": 24}, {\"Name\": \"Bob\", \"Age\": 19}]` |\n",
        "\n",
        "関数の主な引数は、以下の通り。\n",
        "\n",
        "| 引数 | 意味 |\n",
        "|:---|:---|\n",
        "| `tabular_data` | 入力データ |\n",
        "| `headers` | 表のヘッダーを指定する。<br /><br />・文字列のリスト: 表のヘッダーを直接指定する<br /><br />・`'firstrow'`: `tabular_data` がネストされたリストの場合、最初の内側のリストを表のヘッダーとして扱う<br /><br />・`'keys'`: `tabular_data` がリストを含む辞書や、辞書のリストである場合、各キーを表のヘッダーとする |\n",
        "| `tablefmt` | 表の書式を文字列で指定する。デフォルトは `'simple'` |\n",
        "| `floatfmt` | `float` 型データに対する書式指定。デフォルトは `'g'` |\n",
        "| `intfmt` | `int` 型データに対する書式指定。デフォルトは 10 進数 |\n",
        "| `numalign` | 数値の列の配置。`'right'`（右揃え）, `'center'`（中央揃え）, `'left'`（左揃え）, `'decimal'` |\n",
        "| `stralign` | 文字列の列の配置。`'right'`（右揃え）, `'center'`（中央揃え）, `'left'`（左揃え） |\n",
        "| `showindex` | `True` の場合、自動連番でインデックスを表示する。イテラブルの場合、表示する任意のインデックスを指定する |\n",
        "| `colalign` | シーケンスで列ごとの配置を指定する。`'right'`（右揃え）, `'center'`（中央揃え）, `'left'`（左揃え） |\n",
        "\n",
        "書式 `tablefmt='simple'` の例:"
      ],
      "metadata": {
        "id": "X-fqa7k9stuc"
      }
    },
    {
      "cell_type": "code",
      "source": [
        "# ネストされたリストを整形出力\n",
        "from tabulate import tabulate\n",
        "table = [[\"Sun\",696000,1989100000], [\"Earth\",6371,5973.6], [\"Moon\",1737,73.5], [\"Mars\",3390,641.85]]\n",
        "print(tabulate(table, headers=[\"Planet\",\"R (km)\", \"mass (x 10^29 kg)\"]))"
      ],
      "metadata": {
        "colab": {
          "base_uri": "https://localhost:8080/"
        },
        "id": "y2sP-_sSuXOu",
        "outputId": "5c33c7c8-5d67-46c1-bd96-47f9b0bf83e2"
      },
      "execution_count": null,
      "outputs": [
        {
          "output_type": "stream",
          "name": "stdout",
          "text": [
            "Planet      R (km)    mass (x 10^29 kg)\n",
            "--------  --------  -------------------\n",
            "Sun         696000           1.9891e+09\n",
            "Earth         6371        5973.6\n",
            "Moon          1737          73.5\n",
            "Mars          3390         641.85\n"
          ]
        }
      ]
    },
    {
      "cell_type": "markdown",
      "source": [
        "書式 `tablefmt='plain'` の例:"
      ],
      "metadata": {
        "id": "5n_ALY6210Ua"
      }
    },
    {
      "cell_type": "code",
      "source": [
        "# ネストされたリストを整形出力\n",
        "from tabulate import tabulate\n",
        "print(tabulate([[\"Name\", \"Age\"], [\"Alice\", 24], [\"Bob\", 19]],\n",
        "               headers='firstrow', tablefmt='plain'))"
      ],
      "metadata": {
        "colab": {
          "base_uri": "https://localhost:8080/"
        },
        "id": "q9RNdBdNyNA-",
        "outputId": "7882efbd-4e6e-488c-e3e9-fb26c27b6266"
      },
      "execution_count": null,
      "outputs": [
        {
          "output_type": "stream",
          "name": "stdout",
          "text": [
            "Name      Age\n",
            "Alice      24\n",
            "Bob        19\n"
          ]
        }
      ]
    },
    {
      "cell_type": "markdown",
      "source": [
        "書式 `tablefmt='grid'` の例:"
      ],
      "metadata": {
        "id": "ofT1adOc2h1Z"
      }
    },
    {
      "cell_type": "code",
      "source": [
        "# リストを含む辞書を整形出力\n",
        "from tabulate import tabulate\n",
        "print(tabulate({\"Name\": [\"Alice\", \"Bob\"], \"Age\": [24, 19]},\n",
        "               headers=\"keys\", tablefmt='grid'))"
      ],
      "metadata": {
        "colab": {
          "base_uri": "https://localhost:8080/"
        },
        "id": "A-ug5OrR2iVl",
        "outputId": "a1e8e1ca-0847-40ef-c9cd-d372cd0a5981"
      },
      "execution_count": 3,
      "outputs": [
        {
          "output_type": "stream",
          "name": "stdout",
          "text": [
            "+--------+-------+\n",
            "| Name   |   Age |\n",
            "+========+=======+\n",
            "| Alice  |    24 |\n",
            "+--------+-------+\n",
            "| Bob    |    19 |\n",
            "+--------+-------+\n"
          ]
        }
      ]
    },
    {
      "cell_type": "markdown",
      "source": [
        "書式 `tablefmt='psql'` の例:"
      ],
      "metadata": {
        "id": "2A9wPAP_3ucq"
      }
    },
    {
      "cell_type": "code",
      "source": [
        "# 辞書のリストを整形出力\n",
        "from tabulate import tabulate\n",
        "print(tabulate([{\"Name\": \"Alice\", \"Age\": 24}, {\"Name\": \"Bob\", \"Age\": 19}],\n",
        "               headers=\"keys\", tablefmt='psql'))"
      ],
      "metadata": {
        "colab": {
          "base_uri": "https://localhost:8080/"
        },
        "id": "birsXq9_3vb4",
        "outputId": "13ec7135-f511-4d88-e8d9-0c85921de9b6"
      },
      "execution_count": 6,
      "outputs": [
        {
          "output_type": "stream",
          "name": "stdout",
          "text": [
            "+--------+-------+\n",
            "| Name   |   Age |\n",
            "|--------+-------|\n",
            "| Alice  |    24 |\n",
            "| Bob    |    19 |\n",
            "+--------+-------+\n"
          ]
        }
      ]
    },
    {
      "cell_type": "markdown",
      "source": [
        "書式 `tablefmt='pretty'` の例:"
      ],
      "metadata": {
        "id": "cXv_qaWCRiU2"
      }
    },
    {
      "cell_type": "code",
      "source": [
        "# インデックスを表示\n",
        "from tabulate import tabulate\n",
        "print(tabulate({\"Name\": [\"Alice\", \"Bob\"], \"Age\": [24, 19]},\n",
        "               headers=\"keys\", tablefmt='pretty', showindex=True))"
      ],
      "metadata": {
        "colab": {
          "base_uri": "https://localhost:8080/"
        },
        "id": "b9p54ErlRjmQ",
        "outputId": "4a3cd92a-afad-4399-c697-229992ced265"
      },
      "execution_count": 9,
      "outputs": [
        {
          "output_type": "stream",
          "name": "stdout",
          "text": [
            "+---+-------+-----+\n",
            "|   | Name  | Age |\n",
            "+---+-------+-----+\n",
            "| 0 | Alice | 24  |\n",
            "| 1 |  Bob  | 19  |\n",
            "+---+-------+-----+\n"
          ]
        }
      ]
    },
    {
      "cell_type": "markdown",
      "source": [
        "書式 `tablefmt='pipe'` の例:"
      ],
      "metadata": {
        "id": "Wuy_Wz7dKa_W"
      }
    },
    {
      "cell_type": "code",
      "source": [
        "# 列ごとの配置を指定\n",
        "from tabulate import tabulate\n",
        "print(tabulate({\"Name\": [\"Alice\", \"Bob\"], \"Age\": [24, 19], \"Gender\": [\"female\", \"male\"]},\n",
        "               headers=\"keys\", tablefmt='pipe', colalign=[\"left\", \"right\", \"center\"]))"
      ],
      "metadata": {
        "colab": {
          "base_uri": "https://localhost:8080/"
        },
        "id": "vLz8uLLiO2LS",
        "outputId": "f002fe2e-3c25-4486-d12b-92d0cb8370ac"
      },
      "execution_count": 8,
      "outputs": [
        {
          "output_type": "stream",
          "name": "stdout",
          "text": [
            "| Name   |   Age |  Gender  |\n",
            "|:-------|------:|:--------:|\n",
            "| Alice  |    24 |  female  |\n",
            "| Bob    |    19 |   male   |\n"
          ]
        }
      ]
    },
    {
      "cell_type": "markdown",
      "source": [
        "書式 `tablefmt='html'` の例:"
      ],
      "metadata": {
        "id": "Qy36rxmoSK8z"
      }
    },
    {
      "cell_type": "code",
      "source": [
        "# float 型データに対する書式指定\n",
        "import math\n",
        "from tabulate import tabulate\n",
        "from IPython.display import HTML\n",
        "display(HTML(tabulate({\"constant\": [\"e\", \"pi\"], \"value\": [math.e, math.pi]},\n",
        "             headers=\"keys\", tablefmt='html', floatfmt='.2f')))"
      ],
      "metadata": {
        "colab": {
          "base_uri": "https://localhost:8080/",
          "height": 82
        },
        "id": "jLDarJZrKaOv",
        "outputId": "30fabe89-c134-4caf-bec1-c03904952207"
      },
      "execution_count": 16,
      "outputs": [
        {
          "output_type": "display_data",
          "data": {
            "text/plain": [
              "<IPython.core.display.HTML object>"
            ],
            "text/html": [
              "<table>\n",
              "<thead>\n",
              "<tr><th>constant  </th><th style=\"text-align: right;\">  value</th></tr>\n",
              "</thead>\n",
              "<tbody>\n",
              "<tr><td>e         </td><td style=\"text-align: right;\">   2.72</td></tr>\n",
              "<tr><td>pi        </td><td style=\"text-align: right;\">   3.14</td></tr>\n",
              "</tbody>\n",
              "</table>"
            ]
          },
          "metadata": {}
        }
      ]
    }
  ]
}