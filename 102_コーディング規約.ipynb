{
  "nbformat": 4,
  "nbformat_minor": 0,
  "metadata": {
    "colab": {
      "provenance": [],
      "authorship_tag": "ABX9TyPQbJkOrSKTtX865tXgOLMC",
      "include_colab_link": true
    },
    "kernelspec": {
      "name": "python3",
      "display_name": "Python 3"
    },
    "language_info": {
      "name": "python"
    }
  },
  "cells": [
    {
      "cell_type": "markdown",
      "metadata": {
        "id": "view-in-github",
        "colab_type": "text"
      },
      "source": [
        "<a href=\"https://colab.research.google.com/github/suwatoh/Python-learning/blob/main/102_%E3%82%B3%E3%83%BC%E3%83%87%E3%82%A3%E3%83%B3%E3%82%B0%E8%A6%8F%E7%B4%84.ipynb\" target=\"_parent\"><img src=\"https://colab.research.google.com/assets/colab-badge.svg\" alt=\"Open In Colab\"/></a>"
      ]
    },
    {
      "cell_type": "markdown",
      "source": [
        "コーディング規約\n",
        "================"
      ],
      "metadata": {
        "id": "8ohWMk_IiCUu"
      }
    },
    {
      "cell_type": "markdown",
      "source": [
        "PEP 8\n",
        "-----"
      ],
      "metadata": {
        "id": "TpYGDiwLZUVB"
      }
    },
    {
      "cell_type": "markdown",
      "source": [
        "**コーディング規約**とは、プロジェクトに参加する開発者がコンピュータープログラムのソースコードを記述する際に要請される、コードの書き方や形式に関する決まりごとのことをいう。その目的は、コードを読みやすくすることである。コードは書くことよりも読まれることのほうが多いので、コードの可読性はプロジェクト全体の作業効率向上に欠かせない。\n",
        "\n",
        "[PEP 8 （Style Guide for Python Code）](https://peps.python.org/pep-0008/)は、 Python の標準ライブラリのためのコーディング規約であるが、他のプロジェクトでもよく採用される（PEP 8 を基本とし、一部独自のルールを決めるという形をとることが多い）。 [PEP 8 の日本語訳](https://pep8-ja.readthedocs.io/ja/latest/)が公開されている。"
      ],
      "metadata": {
        "id": "PgI78cYXJpHc"
      }
    },
    {
      "cell_type": "markdown",
      "source": [
        "### レイアウト ###"
      ],
      "metadata": {
        "id": "F0DOJkt7LTiE"
      }
    },
    {
      "cell_type": "markdown",
      "source": [
        "Python ソースコードは、次のように整理して並べる。\n",
        "\n",
        "``` text\n",
        "┏━━━━━━━━━━━━━━━━━━┓\n",
        "┃      モジュールの docstrings       ┃\n",
        "┠──────────────────┨\n",
        "┃from __future__ import <feature> 文 ┃\n",
        "┠──────────────────┨\n",
        "┃       二重アンダースコア変数       ┃\n",
        "┠──────────────────┨\n",
        "┃             import 文              ┃\n",
        "┠──────────────────┨\n",
        "┃    グローバルな変数や定数の定義    ┃\n",
        "┠──────────────────┨\n",
        "┃         関数やクラスの定義         ┃\n",
        "┗━━━━━━━━━━━━━━━━━━┛\n",
        "```\n",
        "\n",
        "`from __future__ import <feature>` は、Python の隠し機能を有効化する。隠し機能は、現在の Python のバージョンでは正式にサポートされないが試験的に導入されているような機能である。\n",
        "\n",
        "二重アンダースコア変数は、`__all__` のように変数名の前後にアンダースコアが 2 つ付いている変数である。"
      ],
      "metadata": {
        "id": "MW2stdioLUZE"
      }
    },
    {
      "cell_type": "markdown",
      "source": [
        "### 空白 ###"
      ],
      "metadata": {
        "id": "aP8Euzkr7zAD"
      }
    },
    {
      "cell_type": "markdown",
      "source": [
        "1 行に書く演算子と被演算子との間には、常に 1 つだけスペースを入れる。\n",
        "\n",
        "コメントは `#` とスペース 1 つから始める。インラインコメント（文と同じ行に書くコメント）にするなら、文とインラインコメントの間は少なくとも 2 つのスペースを置くこと。"
      ],
      "metadata": {
        "id": "VMNL0eSr73Hk"
      }
    },
    {
      "cell_type": "markdown",
      "source": [
        "### インデント ###"
      ],
      "metadata": {
        "id": "4vG2qczhElP9"
      }
    },
    {
      "cell_type": "markdown",
      "source": [
        "インデントはスペース4つにする。括弧やブラケットの位置をそろえる。\n",
        "\n",
        "``` python\n",
        "# 開き括弧に揃える\n",
        "foo = long_function_name(var_one, var_two,\n",
        "                         var_three, var_four)\n",
        "\n",
        "# 引数とそれ以外を区別するため、スペースを4つ(インデントをさらに)加える\n",
        "def long_function_name(\n",
        "        var_one, var_two, var_three,\n",
        "        var_four):\n",
        "    print(var_one)\n",
        "\n",
        "# 突き出しインデントはインデントのレベルを深くする\n",
        "foo = long_function_name(\n",
        "    var_one, var_two,\n",
        "    var_three, var_four)\n",
        "\n",
        "my_list = [\n",
        "    1, 2, 3,\n",
        "    4, 5, 6,\n",
        "]\n",
        "result = some_function_that_takes_arguments(\n",
        "    'a', 'b', 'c',\n",
        "    'd', 'e', 'f',\n",
        ")\n",
        "```"
      ],
      "metadata": {
        "id": "szS7wlA0EqKS"
      }
    },
    {
      "cell_type": "markdown",
      "source": [
        "### 改行 ###"
      ],
      "metadata": {
        "id": "T-DufxJCHM7r"
      }
    },
    {
      "cell_type": "markdown",
      "source": [
        "ソースコードの幅が 79 文字を越えないように行を折り返すこと。こうすると、エディタで複数のファイルを並べて開くことができ、二つのバージョンを隣り合ったカラムに表示するコードレビューツールを使うときにもうまくいく。標準ライブラリでなければ、1 行 99 文字まで制限を緩めてもよい。\n",
        "\n",
        "2 項演算子の前で改行を行う。\n",
        "\n",
        "``` python\n",
        "income = (gross_wages\n",
        "          + taxable_interest\n",
        "          + (dividends - qualified_dividends)\n",
        "          - ira_deduction\n",
        "          - student_loan_interest)\n",
        "```"
      ],
      "metadata": {
        "id": "5S8ihJrDHN-3"
      }
    },
    {
      "cell_type": "markdown",
      "source": [
        "### 空行 ###"
      ],
      "metadata": {
        "id": "a06y5mj8DCrP"
      }
    },
    {
      "cell_type": "markdown",
      "source": [
        "トップレベルの関数やクラスを定義する際は 2 行ずつ空け、クラス内のメソッドを定義する際は 1 行ずつ空けるようにする。"
      ],
      "metadata": {
        "id": "SX9S9gRfDFL1"
      }
    },
    {
      "cell_type": "markdown",
      "source": [
        "### import文 ###"
      ],
      "metadata": {
        "id": "qv5LeMhvZjLr"
      }
    },
    {
      "cell_type": "markdown",
      "source": [
        "import 文は、`from` 句を使うのでない限り、行を分けるべきである。\n",
        "\n",
        "``` python\n",
        "import os\n",
        "import sys\n",
        "```\n",
        "\n",
        "次の順番でグループ化して、それぞれのグループ間に 1 行空白を入れる。\n",
        "\n",
        "  1. 標準ライブラリ\n",
        "  2. サードパーティに関連するもの\n",
        "  3. ローカルな アプリケーション/ライブラリ に特有のもの"
      ],
      "metadata": {
        "id": "IPJzEQzhJ2L3"
      }
    },
    {
      "cell_type": "markdown",
      "source": [
        "### return文 ###"
      ],
      "metadata": {
        "id": "HRTWQsqV73Rt"
      }
    },
    {
      "cell_type": "markdown",
      "source": [
        "return 文は一貫した書き方をすること。つまり、関数の中の全ての return 文は式を返すか、全く何も返さないかのどちらかにすること。式を返している return 文が関数の中にある場合、値を何も返さない return 文は明示的に `return None` と書くべきであるし、（到達可能であれば） return 文を関数の最後に明示的に置くべきである。\n",
        "\n",
        "``` python\n",
        "# 正しい:\n",
        "\n",
        "def foo(x):\n",
        "    if x >= 0:\n",
        "        return math.sqrt(x)\n",
        "    else:\n",
        "        return None\n",
        "\n",
        "def bar(x):\n",
        "    if x < 0:\n",
        "        return None\n",
        "    return math.sqrt(x)\n",
        "```\n",
        "\n",
        "``` python\n",
        "# 間違い:\n",
        "def foo(x):\n",
        "    if x >= 0:\n",
        "        return math.sqrt(x)\n",
        "\n",
        "def bar(x):\n",
        "    if x < 0:\n",
        "        return\n",
        "    return math.sqrt(x)\n",
        "```"
      ],
      "metadata": {
        "id": "9x-mH_oW74Qq"
      }
    },
    {
      "cell_type": "markdown",
      "source": [
        "### 命名規約 ###"
      ],
      "metadata": {
        "id": "kRxyL5RgZsTR"
      }
    },
    {
      "cell_type": "markdown",
      "source": [
        "PEP 8 の命名規約は CamelCase、lower_case、UPPER_CASE の3種類である。\n",
        "\n",
        "| 対象 | 規約 | 備考 |\n",
        "|---|---|---|\n",
        "| パッケージ | lower_case | アンダースコアなしを推奨 |\n",
        "| モジュール | lower_case | |\n",
        "| クラス | CamelCase | |\n",
        "| 例外 | CamelCase | 最後に \"Error\" をつけるべき |\n",
        "| 関数・メソッド | lower_case | 内部メソッドは頭にアンダースコア |\n",
        "| 変数・インスタンス変数 | lower_case | 内部変数は頭にアンダースコア |\n",
        "| 定数 | UPPER_CASE | |\n",
        "\n",
        "PEP 8 には明示されてないが、クラス変数も lower_case と思われる（変数アノテーションの節におけるコードから）。\n",
        "\n",
        "なお、PEP 8 では、クラスの命名規則について、次のような例外を加えている。\n",
        "\n",
        "> 主に呼び出し形式で使われる、ドキュメント化されたインターフェースの場合は、クラスではなく関数向けの命名規約を使っても構いません。\n",
        "\n",
        "「主に呼び出し形式で使われる、ドキュメント化されたインターフェース」とは、「ドキュメント通りに呼び出し形式でのみ利用すべきもの」という意味である。一般のクラスのように継承して利用することは非推奨としたい場合に、コンストラクタをファクトリ関数（オブジェクトを生成して返す関数）に見せかける意図と思われる。"
      ],
      "metadata": {
        "id": "_5mEHD6pJ-WB"
      }
    },
    {
      "cell_type": "markdown",
      "source": [
        "docstrings\n",
        "----------"
      ],
      "metadata": {
        "id": "H3U2R3VsZoO5"
      }
    },
    {
      "cell_type": "markdown",
      "source": [
        "docstrings（ドキュメンテーション文字列ともいう）は、モジュールや関数、クラス、メソッドについて説明を書くコメントである。\n",
        "\n",
        "[PEP 257 （Docstring Conventions）](https://peps.python.org/pep-0257/)は、 docstrings を書くための規約である。要約すると、以下のようになる。\n",
        "\n",
        "  1. docstrings は（改行の有無にかかわらず） 3 つの二重引用符 `\"\"\"` を使う。\n",
        "  2. docstring は、端的な 1 行の文章で書くか、複数行を使うときには 1 行目は関数の短い説明、2 行目は空行、3 行目以降に詳しい内容を書き、`\"\"\"` だけからなる行で閉じる。\n",
        "  3. 関数の docstrings は `def` の行の次行に置く。\n",
        "  4. モジュールの docstrings はファイルの先頭（import 文より上）に書く。\n",
        "  5. クラスの docstrings は `class` の行の次行に置く。\n",
        "\n",
        "docstrings を書くと、対話モードにおいて組み込み関数 `help()` を使って docstrings の内容を表示できる。また、エディタの入力支援機能により、マウスオーバーで対象の docstrings が表示される。こうした docstring の用途から、PEP 8 は docstring については 72 文字で折り返すべきとしている。"
      ],
      "metadata": {
        "id": "qqQaU3YSJ61E"
      }
    },
    {
      "cell_type": "code",
      "source": [
        "\"\"\"モジュールの概要\n",
        "\n",
        "モジュールの詳細説明\n",
        "\"\"\"\n",
        "\n",
        "def myfunc1():\n",
        "    \"\"\"関数の短い説明\"\"\"\n",
        "    pass\n",
        "\n",
        "def myfunc2():\n",
        "    \"\"\"関数の概要\n",
        "\n",
        "    関数の詳細説明\n",
        "    \"\"\"\n",
        "    pass\n",
        "\n",
        "class MyClass:\n",
        "    \"\"\"クラスの概要\n",
        "\n",
        "    クラスの詳細説明\n",
        "    \"\"\"\n",
        "    pass\n",
        "\n",
        "help(myfunc1)"
      ],
      "metadata": {
        "colab": {
          "base_uri": "https://localhost:8080/"
        },
        "id": "4l4J5memnlxD",
        "outputId": "15de65ee-8b6e-4c0d-9440-dc8910c72652"
      },
      "execution_count": null,
      "outputs": [
        {
          "output_type": "stream",
          "name": "stdout",
          "text": [
            "Help on function myfunc1 in module __main__:\n",
            "\n",
            "myfunc1()\n",
            "    関数の短い説明\n",
            "\n"
          ]
        }
      ]
    },
    {
      "cell_type": "markdown",
      "source": [
        "詳細説明のスタイルについて、以下の 3 つのスタイルがよく使われる。スタイルを混用するべきではない。プロジェクトで 1 つのスタイルを選び、一貫させる。\n",
        "\n",
        "reStructuredText スタイル:\n",
        "\n",
        "| キーワード | 内容 |\n",
        "|:---|:---|\n",
        "| param, parameter, arg, argument, key, keyword| 引数の説明 |\n",
        "| type | 引数の型 |\n",
        "| raises, raise, except, exception | 例外処理の説明 |\n",
        "| var, ivar, cvar | 変数の説明 |\n",
        "| vartype | 変数の型 |\n",
        "| returns, return | 戻り値の説明 |\n",
        "| rtype | 戻り値の型 |\n",
        "\n",
        "``` python\n",
        "def myfunc(arg1, arg2):\n",
        "    \"\"\"関数の概要\n",
        "\n",
        "    0 行以上の詳細情報\n",
        "\n",
        "    :param int arg1: arg1 の概要\n",
        "    :param arg2: arg2 概要\n",
        "    :type arg2: str | None # arg2 の型\n",
        "    :return: 戻り値の説明\n",
        "    :rtype: bool # 戻り値の型\n",
        "    :raises TypeError: いつ例外が発生するかの説明\n",
        "    \"\"\"\n",
        "```\n",
        "\n",
        "[Google スタイル](https://google.github.io/styleguide/pyguide.html#38-comments-and-docstrings):\n",
        "\n",
        "| セクション | 内容 |\n",
        "|:---|:---|\n",
        "| Args: | 引数の説明 |\n",
        "| Returns: | 戻り値の説明 |\n",
        "| Yields: | 関数がジェネレーターの場合の戻り値の説明 |\n",
        "| Raises: | 例外処理の説明 |\n",
        "| Examples: | 関数、クラスの実行例 |\n",
        "| Attributes: | クラスの属性の説明 |\n",
        "| Note: | 追加情報 |\n",
        "| Todo: | 実装予定など |\n",
        "\n",
        "``` python\n",
        "def myfunc(arg1, arg2):\n",
        "    \"\"\"関数の概要\n",
        "\n",
        "    詳細情報\n",
        "\n",
        "    Args:\n",
        "        arg1 (int): arg1 の説明\n",
        "        arg2 (str | None): arg2 の説明\n",
        "\n",
        "    Returns:\n",
        "        bool: 戻り値の説明\n",
        "\n",
        "    Raises:\n",
        "        TypeError: いつ例外が発生するかの説明\n",
        "\n",
        "    Examples:\n",
        "        関数の使い方について記載\n",
        "\n",
        "        >>> myfunc(4, \"hoge\")\n",
        "        True\n",
        "    \"\"\"\n",
        "```\n",
        "\n",
        "[NumPy スタイル](https://numpydoc.readthedocs.io/en/latest/format.html):\n",
        "\n",
        "| セクション | 内容 |\n",
        "|:---|:---|\n",
        "| Parameters | 引数の説明 |\n",
        "| Returns | 戻り値の説明 |\n",
        "| Yields | 関数がジェネレーターの場合の戻り値の説明 |\n",
        "| Raises | 例外処理の説明 |\n",
        "| Attributes | クラスの属性の説明 |\n",
        "| Examples | クラスや関数の実行例 |\n",
        "| Attributes | クラスの属性の説明 |\n",
        "| Notes | 追加情報 |\n",
        "| See Also | 関連して参照 |\n",
        "\n",
        "``` python\n",
        "def myfunc(arg1, arg2):\n",
        "    \"\"\"関数の概要\n",
        "\n",
        "    詳細情報\n",
        "\n",
        "    Parameters\n",
        "    ----------\n",
        "    arg1 : int\n",
        "        arg1 の説明\n",
        "    arg2 : str | None\n",
        "        arg2 の説明\n",
        "\n",
        "    Returns\n",
        "    -------\n",
        "    bool\n",
        "        戻り値の説明\n",
        "\n",
        "    Raises\n",
        "    ------\n",
        "    TypeError\n",
        "        いつ例外が発生するかの説明\n",
        "\n",
        "    Examples\n",
        "    --------\n",
        "    関数の使い方について記載\n",
        "\n",
        "    >>> myfunc(4, \"hoge\")\n",
        "    True\n",
        "    \"\"\"\n",
        "```"
      ],
      "metadata": {
        "id": "3YfTN3s71T5c"
      }
    },
    {
      "cell_type": "markdown",
      "source": [
        "リンター\n",
        "--------"
      ],
      "metadata": {
        "id": "mfpHT6wFyADY"
      }
    },
    {
      "cell_type": "markdown",
      "source": [
        "ソースコードを読み込んで内容を分析し、問題点を指摘してくれるツールのことを**静的解析ツール**または**リンター**（Linter）という。\n",
        "\n",
        "主な Python のリンターは次のとおり。\n",
        "\n",
        "  * [Flake8](https://pypi.org/project/flake8/):  \n",
        "Pyflakes や pycodestyle などのリンターを統合していて、さらにプラグインをインストールすることでチェックを強化できる。ライセンスは MIT License。\n",
        "  * [Pylint](https://pypi.org/project/pylint/):  \n",
        "VSCode では Microsoft 謹製の Python 拡張機能に Pylint が付属している。ライセンスは GPL v2.0。\n",
        "  * [Ruff](https://docs.astral.sh/ruff/):  \n",
        "Rust で作られたため他のリンターより高速に動作する。Rust 公式の VSCode 拡張機能も提供されている。ライセンスは MIT License。"
      ],
      "metadata": {
        "id": "kMTSr4kwV9My"
      }
    },
    {
      "cell_type": "markdown",
      "source": [
        "### Ruff のインストール ###"
      ],
      "metadata": {
        "id": "6jdaDlZTWFO-"
      }
    },
    {
      "cell_type": "markdown",
      "source": [
        "Python 環境に Ruff をインストールするには `pip` コマンドを使う:\n",
        "\n",
        "``` shell\n",
        "pip install ruff\n",
        "```\n",
        "\n",
        "インストールに成功すれば、コマンドラインで `ruff` コマンドを以下のように実行できるはずである。\n",
        "\n",
        "``` shell\n",
        "PS> ruff --version\n",
        "ruff 0.3.2\n",
        "```"
      ],
      "metadata": {
        "id": "vZwEpCDUWPnr"
      }
    },
    {
      "cell_type": "markdown",
      "source": [
        "### Ruff の使い方 ###"
      ],
      "metadata": {
        "id": "asU4nVVNW6OY"
      }
    },
    {
      "cell_type": "markdown",
      "source": [
        "Python 環境にインストールした Ruff で特定のファイルまたはディレクトリ下のファイルに対してチェックを行うには、コマンドラインで次のように実行する:\n",
        "\n",
        "``` shell\n",
        "ruff check [OPTIONS] [FILES]...\n",
        "```\n",
        "\n",
        "`[FILES]...` には、ファイルまたはディレクトリ（のリスト）を指定する。この中に含まれる Python ファイルを全てチェックする。`[FILES]...` を省略した場合は、カレントディレクトリを対象とする。\n",
        "\n",
        "エラーが見つかった場合、エラーの内容が出力される。出力形式は Flake8 と同様であり、次のようになる：\n",
        "\n",
        "``` shell\n",
        "ファイル名:行番号:桁位置: エラーコード エラーメッセージ\n",
        "```\n",
        "\n",
        "エラーメッセージの前に `[*]` が付いた問題は、`--fix` オプションを付けて Ruff リンターを実行すると修正される（ソースファイルを書き換える）ことを意味する。\n",
        "\n",
        "Ruff は Flake8 や Flake8 のプラグイン、その他多くのリンターにインスパイアされた解析ルールが実装されており、エラーコードの先頭 1 文字（または 2 文字または 3 文字）はエラーが発生した解析ルールを表している。主な解析ルールとエラーコードの関係は、次の表のとおり。\n",
        "\n",
        "| ルールの名称 | 機能 | エラーコード |\n",
        "|:---|:---|:---|\n",
        "| Pyflakes | 不具合のもとになりそうな箇所はないかチェックする | F〇○○ |\n",
        "| pycodestyle | PEP 8 に準拠しているかチェックする。2種類のエラーがある<br />　・エラー（Error）<br />　・警告（Warning） | <br />E〇〇〇<br />W〇〇〇 |\n",
        "| mccabe | これがチェックする[サイクロマティック複雑度](https://emb-sw-eng.com/cyclomatic_complexity/) はソフトウェア測定法の 1 つであり、関数定義に<br />おける if 条件や for ループの多さを測るのに使われる。複雑度が 10 をこえるような関数は、<br />すべての分岐を確認するようなテストを作るのが困難で、バグを発見しにくいといわれている | C90○ |\n",
        "| isort | import の順序をチェックする | I〇○○ |\n",
        "| pep8-naming | PEP 8 の命名規則をチェックする | N〇○○ |\n",
        "| pydocstyle | docstring のフォーマットをチェックする | D〇○○ |\n",
        "| pyupgrade | Python の古いバージョンで使われていた記法をチェックする | UP〇○○ |\n",
        "| flake8-bandit | コードのセキュリティ問題をチャックする | S〇○○ |\n",
        "| flake8-bugbear | バグになりそうな問題をチャックする | B〇○○ |\n",
        "| flake8-builtins | 組み込みオブジェクトの名前と被っている変数や関数名をチャックする | A〇○○ |\n",
        "| flake8-comprehensions | より良い list/set/dict の内包表記を作成するのに役立つルール | C4○○ |\n",
        "| flake8-debugger | デバッガーの呼び出しとインポートの存在をチェックする | T10○ |\n",
        "| flake8-print | `print()` 関数などの使用をチェックする | T20○ |\n",
        "| Ruff-specific rules | Ruff 独自のルール | RUF〇○○ |\n",
        "\n",
        "<br />\n",
        "　※ エラーコードの○には数字が入り、それ以外の文字はプレフィックスであることを表す。\n",
        "\n",
        "ただし、デフォルトではエラーコード「F〇○○」と「E〇〇〇」の解析ルールだけでチェックが行われる。\n",
        "\n",
        "ソースコードのインラインコメントに `# noqa: エラーコード` と書くと、その行だけエラーコードを無視することができる。エラーコードは省略できるし、カンマで区切って複数のエラーコードを指定することもできる：\n",
        "\n",
        "``` python\n",
        "example = lambda: 'example'  # noqa: E731\n",
        "```\n",
        "\n",
        "独自ルール `RUF100` を有効にすると、行のコードと関係のないルールが指定されてる `noqa` をチェック・削除できる。\n",
        "\n",
        "`ruff check` コマンドのオプションは、`ruff check -h` または `ruff check --help` を実行することで一覧表示される。主なオプションは以下のとおり。\n",
        "\n",
        "| オプション | 意味 |\n",
        "|:---|:---|\n",
        "| `--fix` | ファイルのエラー箇所を修正する |\n",
        "| `--diff` | エラーを修正した場合の差分を表示するが、ファイルを修正しない |\n",
        "| `-w`, `--watch` | ファイルの変更を監視する。ファイルに変更がある場合に自動的にチェックされ、その結果が出力される |\n",
        "| `--ignore-noqa` | 全ての `# noqa` コメントを無視する |\n",
        "| `--add-noqa` | エラー行に対し、自動で `# noqa` コメントを挿入する |\n",
        "| `--show-settings` | 現在の設定を出力する |\n",
        "| `--config=<Path>` | 設定ファイルを指定する |\n",
        "\n",
        "コマンドラインのリターンコードでチェックの結果を確認できる。\n",
        "\n",
        "  * `0`: エラーが見つからなかった場合。または、存在するすべてのエラーが自動的に修正された場合\n",
        "  * `1`: エラーが見つかった場合\n",
        "  * `2`: 無効なオプションまたは内部エラーにより Ruff が異常終了した場合"
      ],
      "metadata": {
        "id": "N81NmZn_XOJe"
      }
    },
    {
      "cell_type": "markdown",
      "source": [
        "### Ruff の設定 ###"
      ],
      "metadata": {
        "id": "48USHN99X9h-"
      }
    },
    {
      "cell_type": "markdown",
      "source": [
        "Ruff の設定ファイルは、`pyproject.toml` または `ruff.toml`、`.ruff.toml` である。ただし、`pyproject.toml` に `[tool.ruff]` テーブルが無い場合は、`pyproject.toml` は無視される。\n",
        "\n",
        "設定ファイルの探索には、次のような優先順位がある。\n",
        "\n",
        "  1. `--config=<Path>` オプションで指定したファイル\n",
        "  2. ソースコードと同じディレクトリにある設定ファイル\n",
        "  3. ソースコードのあるディレクトリから親ディレクトリを辿って、最も近いディレクトリにある設定ファイル\n",
        "  4. `${config_dir}/ruff/pyproject.toml` （`${config_dir}` については[こちら](https://docs.rs/dirs/4.0.0/dirs/fn.config_dir.html)を参照）\n",
        "\n",
        "デフォルトでは優先順位の低い設定ファイルは無視される。設定として相対パスを与える場合、相対パスは設定ファイルが存在するディレクトリを基準として解決される。したがって、通常はプロジェクトルートに設定ファイルを置くことになる。\n",
        "\n",
        "設定ファイルのトップレベルで設定するオプション（`pyproject.toml` の場合は `[tool.ruff]` テーブルで設定するオプション）で主なものは次のとおり。\n",
        "\n",
        "| オプション | データ型 | 意味 |\n",
        "|:---|:---|:---|\n",
        "| `extend` | 文字列 | 設定ファイルのパスを指定すると、まずその設定ファイルで設定を構成し、それに現在の設定ファイルによる設定をマージする。デフォルトは `null` |\n",
        "| `fix` | ブール値 | `true` の場合、エラーを自動的に修正する。コマンドラインの `--fix` が優先。デフォルトは `false` |\n",
        "| `unsafe-fixes` | ブール値 | `true` の場合、安全でない自動修正を有効にする。`false` の場合（デフォルト）、安全でない修正が利用可能な場合にヒントが表示される |\n",
        "| `show-fixes` | ブール値 | `true` の場合、修正されたすべてのルール違反の列挙を表示する。デフォルトは `false` |\n",
        "| `exclude` | 文字列の配列 | 除外するファイルやディレクトリのパターンのリスト。デフォルトは[公式ドキュメント](https://docs.astral.sh/ruff/settings/#exclude)参照 |\n",
        "| `extend-exclude` | 文字列の配列 | `exclude` で指定されたものに加えて除外するファイルやディレクトリのパターンのリスト。デフォルトは空のリスト |\n",
        "| `include` | 文字列の配列 | 解析するファイルのパターンのリスト。デフォルトは `[\"*.py\", \"*.pyi\", \"**/pyproject.toml\"]` |\n",
        "| `extend-include` | 文字列の配列 | `include` で指定されたファイルパターンに加えて解析時に含めるファイルパターンのリスト。デフォルトは空のリスト |\n",
        "| `line-length` | 整数 | 1 行の最大文字数。デフォルトは 88 文字 |\n",
        "| `indent-width` | 整数 | 字下げ幅。デフォルトは 4 |\n",
        "| `target-version` | 文字列 | 指定した Python バージョンに対応する。デフォルトは `\"py38\"` |\n",
        "| `required-version` | 文字列 | Ruff のバージョン要件。値は `\">=0.3.1\"` のような PEP 440 のバージョン指定子とする。デフォルトは `null` |\n",
        "| `cache-dir` | 文字列 | キャッシュディレクトリのパス。デフォルトは `.ruff_cache` |\n",
        "\n",
        "トップレベルのオプションを指定しない場合、デフォルト設定は次と同等になる。\n",
        "\n",
        "``` ini\n",
        "[tool.ruff]\n",
        "# Exclude a variety of commonly ignored directories.\n",
        "exclude = [\n",
        "    \".bzr\",\n",
        "    \".direnv\",\n",
        "    \".eggs\",\n",
        "    \".git\",\n",
        "    \".git-rewrite\",\n",
        "    \".hg\",\n",
        "    \".ipynb_checkpoints\",\n",
        "    \".mypy_cache\",\n",
        "    \".nox\",\n",
        "    \".pants.d\",\n",
        "    \".pyenv\",\n",
        "    \".pytest_cache\",\n",
        "    \".pytype\",\n",
        "    \".ruff_cache\",\n",
        "    \".svn\",\n",
        "    \".tox\",\n",
        "    \".venv\",\n",
        "    \".vscode\",\n",
        "    \"__pypackages__\",\n",
        "    \"_build\",\n",
        "    \"buck-out\",\n",
        "    \"build\",\n",
        "    \"dist\",\n",
        "    \"node_modules\",\n",
        "    \"site-packages\",\n",
        "    \"venv\",\n",
        "]\n",
        "\n",
        "# Same as Black.\n",
        "line-length = 88\n",
        "indent-width = 4\n",
        "\n",
        "# Assume Python 3.8\n",
        "target-version = \"py38\"\n",
        "```\n",
        "\n",
        "ルール共通のオプションは、`pyproject.toml` の場合 `[tool.ruff.lint]` テーブル、`ruff.toml` の場合は `[lint]` テーブルに設定を書く。主なものは次のとおり。\n",
        "\n",
        "| オプション | データ型 | 意味 |\n",
        "|:---|:---|:---|\n",
        "| `select` | 文字列の配列 | 有効にするルールのエラーコードのリスト。エラーコードは前方一致で指定できる。`[\"ALL\"]` を指定すると、競合のない限り、全てのルールを適用する。<br />デフォルトは `[\"E4\", \"E7\", \"E9\", \"F\"]` |\n",
        "| `extend-select` | 文字列の配列 | `select` で指定されたものに加えて、有効にするルールのエラーコードまたはプレフィックスのリスト。デフォルトは空のリスト |\n",
        "| `ignore` | 文字列の配列 | 無視するルールのエラーコードのリスト。エラーコードは前方一致で指定できる。デフォルトは空のリスト |\n",
        "| `fixable` | 文字列の配列 | 修正可能とみなされるルールのエラーコードまたはプレフィックスのリスト。デフォルトは `[\"ALL\"]` で、すべてのルールは修正可能とみなされる |\n",
        "| `unfixable` | 文字列の配列 | 修正不可能とみなされるルールのエラーコードまたはプレフィックスのリスト。デフォルトは空のリスト |\n",
        "| `exclude` | 文字列の配列 | グローバルに除外されるファイルに加えて、リンターとして除外するファイルのパターンのリスト。デフォルトは空のリスト |\n",
        "| `dummy-variable-rgx` | 文字列 | ダミー変数として扱う変数名の正規表現。ダミー変数は `F841`（使用されていないローカル変数）などのチェックで無視される。デフォルトは `_` と `__` <br />が一致するが `_var_` には一致しないような正規表現 |\n",
        "\n",
        "個別のルールに適用されるオプションは、`pyproject.toml` の場合 `[tool.ruff.lint]` テーブル、`ruff.toml` の場合は `[lint]` テーブルのサブテーブに設定を書く。\n",
        "\n",
        "たとえば、pydocstyle のルールの場合、`pyproject.toml` の場合は `[tool.ruff.lint.pydocstyle]` テーブル、`ruff.toml` の場合は `[lint.pydocstyle]` テーブルに以下の設定を書くことができる。\n",
        "\n",
        "| オプション | データ型 | 意味 |\n",
        "|:---|:---|:---|\n",
        "| `convention` | 文字列 | docstring のスタイル。`\"google\"`, `\"numpy\"`, `\"pep257\"` を指定できる。`\"pep257\"` を指定した場合、PEP 257 のルールだけチェックする。デフォルトは `null` |\n",
        "\n",
        "次の設定例は、デフォルトのルールに pyupgrade のルールと pydocstyle のルールを追加してチェックする。\n",
        "\n",
        "``` ini\n",
        "[tool.ruff.lint]\n",
        "extend-select = [\"UP\", \"D\"]\n",
        "\n",
        "[tool.ruff.lint.pydocstyle]\n",
        "convention = \"google\"\n",
        "```"
      ],
      "metadata": {
        "id": "z-TbLH4cJvLo"
      }
    },
    {
      "cell_type": "markdown",
      "source": [
        "### VSCode 拡張機能 ###"
      ],
      "metadata": {
        "id": "Lye89Og5hk8X"
      }
    },
    {
      "cell_type": "markdown",
      "source": [
        "VSCode の拡張機能としてだけ Ruff を使用する場合には、拡張機能をインストールするだけでよく、Python 環境に Ruff をインストールする必要はない。\n",
        "\n",
        "拡張機能が有効（デフォルトで有効）なら、エディタ画面上でエラーが見つかった箇所が強調され、デフォルトでは Quick Fix が可能である。\n",
        "\n",
        "`ruff check` に渡す追加のコマンドライン引数や、Quick Fix のオンオフ、`# noqa` コメント で Quick Fix を無視するか否かなど、Ruff 拡張機能独自の設定もできる。"
      ],
      "metadata": {
        "id": "ggT1KGxmhl3t"
      }
    },
    {
      "cell_type": "markdown",
      "source": [
        "フォーマッター\n",
        "--------------"
      ],
      "metadata": {
        "id": "P6Zp_eu-aAvM"
      }
    },
    {
      "cell_type": "markdown",
      "source": [
        "ソースコードを、一定のルールに従って整形してくれるツールを**フォーマッター**（formatter）という。\n",
        "\n",
        "Python の代表的なフォーマッターは [Black](https://pypi.org/project/black/) である。Black の特徴は、設定がほとんどできないため、妥協の余地なく次のようなスタイルで整形されることである：\n",
        "\n",
        "  * PEP 8 に準拠したスタイル\n",
        "  * 改行スタイルの統一\n",
        "  * シングルクォートをダブルクォートに統一\n",
        "\n",
        "Ruff は Black 互換フォーマッターとしての機能も持つ（Black より高速）。特定のファイルまたはディレクトリ下のファイルに対して整形を行うには、コマンドラインで次のように実行する:\n",
        "\n",
        "``` shell\n",
        "ruff format [OPTIONS] [FILES]...\n",
        "```\n",
        "\n",
        "`[FILES]...` には、ファイルまたはディレクトリ（のリスト）を指定する。この中に含まれる Python ファイルを全てチェックする。`[FILES]...` を省略した場合は、カレントディレクトリを対象とする。\n",
        "\n",
        "`[OPTIONS]` に以下の引数を指定してフォーマッターの動作を設定できる。\n",
        "\n",
        "| オプション | 内容 |\n",
        "|:---|:---|\n",
        "| `--check` | 問題がなければ 0 が出力され、問題があれば 1 が出力されるが、ファイルを整形しない |\n",
        "| `--diff` | 整形前と整形後の差分が出力されるが、ファイルを整形しない |\n",
        "\n",
        "文の末尾のインラインコメントに `# fmt: skip` を書いた場合、その文を対象とする整形が抑制される。また、if などのケースヘッダーや、関数定義のヘッダー、クラス定義のヘッダーに対して、インラインコメントに `# fmt: skip` を書いた場合、その行を対象とする整形が抑制される。\n",
        "\n",
        "``` python\n",
        "data = [\n",
        "    \"spam\",\n",
        "    \"ham\",\n",
        "    \"eggs\"\n",
        "]  # fmt: skip\n",
        "\n",
        "if data==[\"spam\"]:  # fmt: skip\n",
        "    pass\n",
        "\n",
        "def test(a,b,c,d,e,f):  # fmt: skip\n",
        "    pass\n",
        "```\n",
        "\n",
        "`# fmt: on` コメントと `# fmt: off` コメントで囲まれた領域は、文を対象とする整形が抑制される。\n",
        "\n",
        "``` python\n",
        "# fmt: off\n",
        "not_formatted=3\n",
        "also_not_formatted=4\n",
        "# fmt: on\n",
        "```\n",
        "\n",
        "ただし、`# fmt: on` コメントと `# fmt: off` コメントは式を対象とする整形を抑制しない。\n",
        "\n",
        "設定ファイルのトップレベルの設定（`line-length` など）は、フォーマッターにも適用される。フォーマッター独自の設定は、`pyproject.toml` の場合は `[tool.ruff.format]` テーブル、`ruff.toml` の場合は `[format]` テーブルに書く。主なフォーマッターオプションは以下のとおり。\n",
        "\n",
        "| オプション | データ型 | 意味 |\n",
        "|:---|:---|:---|\n",
        "| `line-ending ` | 文字列 | 改行文字を指定する。以下のいずれかを指定する<br /><br />・`\"lf\"`: `\\n`<br /><br />・`\"cr-lf\"`: `\\r\\n`<br /><br />・`\"native\"`: Unix 上では `\\n`、Windows 上では `\\r\\n`<br /><br />・`\"auto\"`: （デフォルト）ファイルごとに自動的に改行文字が検出される。改行文字が混在しているファイルは、最初に検出された改行文<br />　字に変換される（改行文字を含まないファイルのデフォルトは `\\n`） |\n",
        "| `quote-style` | 文字列 | 文字列の引用符の統一スタイルを指定する。以下のいずれかを指定する<br /><br />・`\"double\"`: （デフォルト）ダブルクォート<br /><br />・`\"single\"`: シングルクォート<br /><br />・`\"preserve\"`: すべての文字列の引用符が変更されない |\n",
        "| `indent-style` | 文字列 | `\"tab\"` を指定するとインデントにタブを使用する。デフォルトは `\"space\"` |\n",
        "| `skip-magic-trailing-comma` | ブール値 | `false` の場合、関数の引数やリストなどに末尾のカンマがあると、`line-length` の制限内であってもカンマで折り返す。`true` の場合、<br />`line-length` の制限内ならカンマで折り返さない。デフォルトは `false` |\n",
        "| `docstring-code-format` | ブール値 | `true` の場合、docstring に含まれる、関数の対話モードでの使用例を整形する。デフォルトは `false` |\n",
        "| `docstring-code-line-length` | 整数または文字列 | docstring を整形する場合の 1 行の最大文字数。文字数ではなく `\"dynamic\"` （デフォルト）を指定した場合、Python コードに適用される<br /> `line-length` に準拠する |\n",
        "\n",
        "VSCode 上でファイルの保存時に Ruff フォーマッターを自動実行することができる。Ruff 公式の VSCode 拡張機能を導入しているなら、VSCode の設定ファイル `settings.json` に次の設定を加えると、この機能が使える:\n",
        "\n",
        "``` javascript\n",
        "\"[python]\": {\n",
        "  \"editor.defaultFormatter\": \"charliermarsh.ruff\",\n",
        "  \"editor.formatOnSave\": true\n",
        "},\n",
        "```"
      ],
      "metadata": {
        "id": "_6kYRNkPKCr4"
      }
    },
    {
      "cell_type": "markdown",
      "source": [
        "pythonic\n",
        "--------"
      ],
      "metadata": {
        "id": "AwvtiGa-9iCu"
      }
    },
    {
      "cell_type": "markdown",
      "source": [
        "抽象的過ぎて規約にはならないが、Python のコーディングには「pythonic な書き方」が推奨される。おおまかに言うと、Python のイディオムがうまく使われている書き方のことを pythonic であると表現する。とくに、他のプログラミング言語を翻訳したようなコードは、unpythonic だとされる。"
      ],
      "metadata": {
        "id": "hwYmW0kL4a4a"
      }
    },
    {
      "cell_type": "markdown",
      "source": [
        "### 実例 ###"
      ],
      "metadata": {
        "id": "zteBgyvs4eRJ"
      }
    },
    {
      "cell_type": "markdown",
      "source": [
        "（例1）ループでカウンター変数を使用する場合\n",
        "\n",
        "``` python\n",
        "# unpythonic\n",
        "for i in range(len(alist)):\n",
        "    print(alist[i])\n",
        "\n",
        "# pythonic\n",
        "for item in alist:\n",
        "    print(item)\n",
        "\n",
        "# カウンター変数が必要なら enumerate() 関数を使う\n",
        "for i, item in enumerate(alist):\n",
        "    print(i, item)\n",
        "```\n",
        "\n",
        "（例2）ループでキーによる参照を行う場合\n",
        "\n",
        "``` python\n",
        "# unpythonic\n",
        "for key in adict:\n",
        "    print(key, adict[key])\n",
        "\n",
        "# pythonic\n",
        "for key, value in adict.items():\n",
        "    print(key, value)\n",
        "```\n",
        "\n",
        "（例3）ループでリストを生成する場合\n",
        "\n",
        "``` python\n",
        "# unpythonic\n",
        "newlist = []\n",
        "for x in oldlist:\n",
        "    newlist.append(x ** 2)\n",
        "\n",
        "# pythonic\n",
        "newlist = [x ** 2 for x in oldlist]\n",
        "```\n",
        "\n",
        "（例4）アンパックを使用しない場合\n",
        "\n",
        "``` python\n",
        "L = [1, 2, 3, 4, 5]\n",
        "\n",
        "# unpythonic\n",
        "l1 = L[0]\n",
        "l2 = L[1:-1]\n",
        "l3 = L[-1]\n",
        "\n",
        "# pythonic\n",
        "l1, *l2, l3 = L  # L がタプルの場合は unpythonic な書き方とは結果が異なる(l2 がリストになるため)\n",
        "```\n",
        "\n",
        "（例5）値の交換で一時変数を使用する場合\n",
        "\n",
        "``` python\n",
        "# unpythonic\n",
        "tmp = x\n",
        "x = y\n",
        "y = tmp\n",
        "\n",
        "# pythonic\n",
        "y, x = x, y\n",
        "```\n",
        "\n",
        "（例6）文字列の包含関係を文字列メソッドで調べる場合\n",
        "\n",
        "``` python\n",
        "# unpythonic\n",
        "if message.find('John') >= 0:  # message.find('John') は message の中で 'John' が最初に出現する位置（なければ -1）を返す\n",
        "    print('OK')\n",
        "\n",
        "# pythonic\n",
        "if 'John' in message:  # message に 'John' が含まれているかどうか\n",
        "    print('OK')\n",
        "```\n",
        "\n",
        "ただし、これらの例は杓子定規に適用するものではない。たとえば、リストの内包表記は `append()` より効率が良いが、[ネストしたリストの内包表記](https://docs.python.org/ja/3/tutorial/datastructures.html#nested-list-comprehensions) は可読性が下がる。for 文をネストして `append()` を使うほうが良い。"
      ],
      "metadata": {
        "id": "dHv5yA4Z9irY"
      }
    },
    {
      "cell_type": "markdown",
      "source": [
        "### ループの else 節 ###"
      ],
      "metadata": {
        "id": "6A1dxiH-4rpY"
      }
    },
    {
      "cell_type": "markdown",
      "source": [
        "Python の for 文と while 文では else 節を書くことができる。ループの else 節は,\n",
        "ループが break されなかった場合に実行される。たとえば、フラグ変数の値で条件分岐する次のコード:"
      ],
      "metadata": {
        "id": "rOnEq0zBQYnP"
      }
    },
    {
      "cell_type": "code",
      "source": [
        "import random\n",
        "dice = [x for x in range(1, 7)]\n",
        "for i in range(1024 * 3):\n",
        "    # サイコロをランダムに10回振った結果のリスト\n",
        "    trials = random.choices(dice, k=10)\n",
        "    # 全ての目が奇数となった結果だけを出力する（1/1024 の確率で全ての目が奇数となる）\n",
        "    odd_numbers = True  # フラグ変数\n",
        "    for trial in trials:\n",
        "        if trial % 2 == 0:\n",
        "            odd_numbers = False\n",
        "            break  # 最も内側にあるループから抜け出す\n",
        "    if odd_numbers:\n",
        "        print(f\"{i}回目: 全ての目が奇数となりました: {trials=}\")"
      ],
      "metadata": {
        "colab": {
          "base_uri": "https://localhost:8080/"
        },
        "id": "xha-TPRXQacS",
        "outputId": "b2381809-0406-4c10-dfb9-68b30357b6cc"
      },
      "execution_count": null,
      "outputs": [
        {
          "output_type": "stream",
          "name": "stdout",
          "text": [
            "1012回目: 全ての目が奇数となりました: trials=[1, 5, 1, 5, 1, 5, 3, 3, 3, 5]\n",
            "1321回目: 全ての目が奇数となりました: trials=[3, 5, 5, 5, 1, 1, 3, 1, 5, 5]\n",
            "2203回目: 全ての目が奇数となりました: trials=[5, 3, 1, 5, 3, 3, 5, 1, 3, 3]\n"
          ]
        }
      ]
    },
    {
      "cell_type": "markdown",
      "source": [
        "このコードは、フラグ変数の代わりに else 節を使って次のように書ける:"
      ],
      "metadata": {
        "id": "iCPkbWGO4shk"
      }
    },
    {
      "cell_type": "code",
      "source": [
        "import random\n",
        "dice = [x for x in range(1, 7)]\n",
        "for i in range(1024 * 3):\n",
        "    # サイコロをランダムに10回振った結果のリスト\n",
        "    trials = random.choices(dice, k=10)\n",
        "    # 全ての目が奇数となった結果だけを出力する（1/1024 の確率で全ての目が奇数となる）\n",
        "    for trial in trials:\n",
        "        if trial % 2 == 0:\n",
        "            break  # 最も内側にあるループから抜け出す\n",
        "    else:\n",
        "        print(f\"{i}回目: 全ての目が奇数となりました: {trials=}\")"
      ],
      "metadata": {
        "colab": {
          "base_uri": "https://localhost:8080/"
        },
        "id": "_MXHs5gb4va6",
        "outputId": "fc04a04b-3fd4-40b9-b006-c04f168f9db3"
      },
      "execution_count": null,
      "outputs": [
        {
          "output_type": "stream",
          "name": "stdout",
          "text": [
            "8回目: 全ての目が奇数となりました: trials=[5, 5, 5, 5, 1, 1, 5, 3, 1, 3]\n",
            "138回目: 全ての目が奇数となりました: trials=[1, 5, 5, 1, 5, 1, 5, 1, 3, 3]\n",
            "189回目: 全ての目が奇数となりました: trials=[5, 5, 5, 1, 1, 1, 1, 1, 5, 5]\n",
            "682回目: 全ての目が奇数となりました: trials=[1, 1, 5, 5, 3, 5, 3, 5, 3, 1]\n",
            "2174回目: 全ての目が奇数となりました: trials=[5, 3, 3, 1, 1, 1, 1, 3, 5, 5]\n"
          ]
        }
      ]
    },
    {
      "cell_type": "markdown",
      "source": [
        "しかしながら、この 2 番目のコードの是非は意見が分かれるところである。というのも、プログラミング言語一般における `else` は「他の場合」という意味で使われ、try 文の `else` でもこの意味は守られているのであるが、ループの `else` の動作はこの意味に反しているからである（Python の[公式チュートリアル](https://docs.python.org/ja/3/tutorial/controlflow.html#break-and-continue-statements-and-else-clauses-on-loops)によると、ループの `else` は try 文の `else` に似ているとのことだが無理があると思う）。 1 番目のコード（つまり break されなかった場合の処理をフラグ変数を使用して記述するコード）は、非直感的な `else` の代替案として意味があり、 unpythonic とされるものではないと思う。\n",
        "\n",
        "また、ループの else 節では、空のリストでループすると else 節が直ちに実行されるのであるが、この動作はとくに直感的ではないと感じる。"
      ],
      "metadata": {
        "id": "krEHe8Xj8fUk"
      }
    },
    {
      "cell_type": "code",
      "source": [
        "items = []\n",
        "for item in items:\n",
        "    print(item)\n",
        "else:\n",
        "    print(\"All items printed\")"
      ],
      "metadata": {
        "colab": {
          "base_uri": "https://localhost:8080/"
        },
        "id": "Kcy1JTw0-vSu",
        "outputId": "d0fc86e5-3d1c-437e-bc4d-d9bda1e42178"
      },
      "execution_count": null,
      "outputs": [
        {
          "output_type": "stream",
          "name": "stdout",
          "text": [
            "All items printed\n"
          ]
        }
      ]
    },
    {
      "cell_type": "code",
      "source": [
        "items = []\n",
        "while items:\n",
        "    item = items.pop()\n",
        "    print(item)\n",
        "else:\n",
        "    print(\"All items printed\")"
      ],
      "metadata": {
        "colab": {
          "base_uri": "https://localhost:8080/"
        },
        "id": "vauEaaB6owQv",
        "outputId": "7fdc602d-440a-42d4-a167-4b1a10d2fceb"
      },
      "execution_count": null,
      "outputs": [
        {
          "output_type": "stream",
          "name": "stdout",
          "text": [
            "All items printed\n"
          ]
        }
      ]
    },
    {
      "cell_type": "markdown",
      "source": [
        "そもそも、上記のコードように break 文のないループの後の `else` は意味がない。Ruff の `PLW0120` ルールは、break 文のないループの else の使用をチェックする。たとえば、for 文のコードは次のように修正される:\n",
        "\n",
        "``` python\n",
        "for item in items:\n",
        "    print(item)\n",
        "print(\"All items printed\")\n",
        "```"
      ],
      "metadata": {
        "id": "7STvWQU7BC_j"
      }
    },
    {
      "cell_type": "markdown",
      "source": [
        "コーディングに関する原則や格言\n",
        "------------------------------"
      ],
      "metadata": {
        "id": "Nn72UobG95W4"
      }
    },
    {
      "cell_type": "markdown",
      "source": [
        "Python に限らず、コーディング一般に関わる原則や慣用表現を取り上げる。\n",
        "\n",
        "**PIE 原則**  \n",
        "Program intently and expressively.（意図が読み手に伝わるようにプログラミングせよ）の略語。コードはえてして書くことよりも読むことのほうが苦労する。値を変数に入れて意味のわかる名前をつけたり、ひとまとまりの処理を関数にして名前をつけたり、なぜそのコードを書いたのかコメントを書くことを怠ってはならない。\n",
        "\n",
        "**KISS 原則**  \n",
        "Keep it short and simple.（簡潔に単純にしておけ）の略語。度を過ぎた複雑な解決法を取ると、ハードウェアへの要求スペックの高度化、開発・保守コストの上昇に繋がる。\n",
        "\n",
        "**YAGNI 原則**  \n",
        "You ain't gonna need it. （それは必要ない）の略語。機能は実際に必要となるまでは追加しないほうがよいとする考え方。ソフトウェアが多機能になるにつれて、使い方を習得する時間が増えたり、操作に手間取ったり、どれが重要な機能なのか分からなくなったりする。さらには、KISS 原則に逆らった場合と同様の問題が生じる。\n",
        "\n",
        "**OAOO 原則**  \n",
        "Once and Only Once. （一度だけ、たった1度だけ）の略語。同じような動作をするコードを何度も書かずに、関数などにまとめて呼び出して利用すべきである。これにより、変更やテストが一か所でカバーできる。\n",
        "\n",
        "**DRY 原則**  \n",
        "Don't repeat yourself.（重複を避けること）の略語。複数の場所に同じ情報が置かれていると変更時に整合性が取れなくなる危険性が高まる。\n",
        "\n",
        "**銀の弾**（silver bullet）  \n",
        "どんな場合であれ通用するような万能な解決策は存在しないというたとえとして、「銀の弾などない」という表現をする。西洋では銀の弾は妖怪さえも撃退できると信仰されていたことに由来する。\n",
        "\n",
        "**車輪の再発明**（reinventing the wheel）  \n",
        "ライブラリなどすでに存在しているものをゼロから自作することを指す。時間の浪費、無駄な努力といったニュアンスで用いられる。ただし、あえて車輪の再発明をすることで動作原理についての理解を深めるということはある。"
      ],
      "metadata": {
        "id": "T9gBCLWe976-"
      }
    }
  ]
}