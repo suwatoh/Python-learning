{
  "nbformat": 4,
  "nbformat_minor": 0,
  "metadata": {
    "colab": {
      "provenance": [],
      "toc_visible": true,
      "authorship_tag": "ABX9TyMSXKVzBP2hAsOCMlBIud1M",
      "include_colab_link": true
    },
    "kernelspec": {
      "name": "python3",
      "display_name": "Python 3"
    },
    "language_info": {
      "name": "python"
    }
  },
  "cells": [
    {
      "cell_type": "markdown",
      "metadata": {
        "id": "view-in-github",
        "colab_type": "text"
      },
      "source": [
        "<a href=\"https://colab.research.google.com/github/suwatoh/Python-learning/blob/main/101_%E3%83%AD%E3%83%BC%E3%82%AB%E3%83%ABPython%E7%92%B0%E5%A2%83.ipynb\" target=\"_parent\"><img src=\"https://colab.research.google.com/assets/colab-badge.svg\" alt=\"Open In Colab\"/></a>"
      ]
    },
    {
      "cell_type": "markdown",
      "source": [
        "ローカル Python 環境\n",
        "===================="
      ],
      "metadata": {
        "id": "XXKbttReJUAz"
      }
    },
    {
      "cell_type": "markdown",
      "source": [
        "Windows の Python ランチャー\n",
        "----------------------------"
      ],
      "metadata": {
        "id": "0A7NO7rdQFB1"
      }
    },
    {
      "cell_type": "markdown",
      "source": [
        "Windows で複数のバージョンの Python をインストールし、使い分ける方法を整理する。\n",
        "\n",
        "公式の Windows 用 Python インストーラーを使えば、複数のバージョンを簡単にインストールすることができる。デフォルトのインストール先は\n",
        "\n",
        "  * `$env:LocalAppData\\Programs\\Python\\Python3xx` （`xx` は Python のマイナーバージョン。例えば、Python 3.13 なら `Python313` となる）\n",
        "\n",
        "このインストーラーは、デフォルトでは Python のランタイムに PATH を通さない。その代わりに Python ランチャー `py.exe` を同梱し、 Python のインストール時に `C:\\Windows` のようなシステムフォルダに配置する。このため、 PATH の設定を気にすることなく、いつでもターミナルから `py` コマンドを利用できる。\n",
        "\n",
        "`py.exe` の最もシンプルな使い方は、ただ `py` とだけ入力して実行することである。こうすると、システムにインストールされている Python のうち、最も新しいバージョンのものが自動的に選ばれて起動する。\n",
        "\n",
        "`-0` または `--list` オプションを使えば、システムにどのバージョンの Python が入っているか確認することができる。\n",
        "\n",
        "```powershell\n",
        "PS > py --list\n",
        " -V:3.12 *        Python 3.12 (64-bit)\n",
        " -V:3.11          Python 3.11 (64-bit)\n",
        " -V:3.8           Python 3.8 (64-bit)\n",
        "```\n",
        "\n",
        "このように、インストール済みの Python が一覧で表示される。アスタリスク `*` が付いているものが、現在デフォルトで使われるバージョンである。\n",
        "\n",
        "`-0p` または `--list-paths` オプションを使えば、それぞれの実行ファイルがどこにあるのか、フルパス付きで確認することができる。\n",
        "\n",
        "``` powershell\n",
        "PS > py --list-paths\n",
        " -V:3.12 *        C:\\Users\\John\\AppData\\Local\\Programs\\Python\\Python312\\python.exe\n",
        " -V:3.11          C:\\Users\\John\\AppData\\Local\\Programs\\Python\\Python311\\python.exe\n",
        " -V:3.8           C:\\Users\\John\\AppData\\Local\\Programs\\Python\\Python38\\python.exe\n",
        "```\n",
        "\n",
        "`-V:TAG` は、 `TAG` が指すバージョンの Python を起動するためのオプションを示している。ハイフン `-` に直接バージョン番号を付けることもできるので、 `py -V:3.11` と `py -3.11` は同じである。\n",
        "\n",
        "`py` とオプションに続けてスクリプトパスやその他の引数を渡すと、それらは全て指定されたバージョンの Python 本体にそのまま引き渡される。\n",
        "\n",
        "毎回バージョンを指定するのが面倒な場合は、デフォルトで起動する Python のバージョンを変更しておくと便利である。変更方法は主に 3 つある。\n",
        "\n",
        "  1. **スクリプトにシェバン（shebang）を書く**  \n",
        "スクリプトファイルの 1 行目に `#! /usr/bin/python3.11` のように記述しておくと、そのファイルを実行する際にだけ指定したバージョンが使われる。\n",
        "  2. **環境変数 `PY_PYTHON` を設定する**  \n",
        "`PY_PYTHON` という環境変数に `3.11` のようにバージョン番号を設定すると、デフォルトの Python がそのバージョンに切り替わる。（一時的）`$env:PY_PYTHON=3.11` （永続化）`setx PY_PYTHON 3.11`\n",
        "\n",
        "  3. **設定ファイル `py.ini` を作成する**  \n",
        "`$env:LocalAppData` フォルダ（通常は `C:\\Users\\ユーザー名\\AppData\\Local`）に `py.ini` という名前のファイルを作成し、以下のように記述することでも設定できる。\n",
        "\n",
        "``` ini\n",
        "[defaults]\n",
        "python=3.11\n",
        "```\n",
        "\n",
        "2 の方法か 3 の方法を取ると、`py --list` や `--list-paths` の実行結果に現れる `*` の位置が変わり、デフォルトが変更されたことを確認できる。"
      ],
      "metadata": {
        "id": "wiAe3_0gQIKB"
      }
    },
    {
      "cell_type": "markdown",
      "source": [
        "パッケージ管理\n",
        "--------------"
      ],
      "metadata": {
        "id": "wsem-BM8oxaV"
      }
    },
    {
      "cell_type": "markdown",
      "source": [
        "システム上の Python インストールに標準ライブラリ以外のパッケージを追加するには、システムにインストールされたパッケージ管理システム pip を使用する。\n",
        "\n",
        "pip は、Python Packaging Authority（略称 PyPA）というコミュニティ団体によって開発されている。事実上の標準パッケージ管理システムとなっているが、Linux では Python とは別にインストールする必要がある。\n",
        "\n",
        "Windows では、公式の Python インストーラーが pip を同梱し、Python ランタイムと一緒にインストールする。Python ランタイムと同様、デフォルトでは実行ファイル `pip.exe` に PATH を通さないため、システムにある pip を利用するには以下のいずれかの方法による。\n",
        "\n",
        "  1. `${env:LOCALAPPDATA}\\Programs\\Python\\(Pythonバージョン)\\Scripts` を PATH に加える。\n",
        "  2. `pip.exe` を使うのではなく `py -m pip <command> [options]` の形で実行する。\n",
        "\n",
        "2 の方法による場合は、`pip <command> [options]` の形の記述は `py -m pip <command> [options]` の形に読み替えること。\n",
        "\n",
        "以下に `pip` の主要なコマンドを整理する。"
      ],
      "metadata": {
        "id": "Ds3-rlIcs9FV"
      }
    },
    {
      "cell_type": "markdown",
      "source": [
        "### list コマンド"
      ],
      "metadata": {
        "id": "rJuobkE4pK_I"
      }
    },
    {
      "cell_type": "markdown",
      "source": [
        "``` python\n",
        "pip list [options]\n",
        "```\n",
        "\n",
        "`list` コマンドは、インストールされているパッケージを一覧表示する。パッケージは、大文字と小文字を区別せずにアルファベット順で並べられる。\n",
        "\n",
        "``` shell\n",
        "pip list\n",
        "\n",
        "Package      Version\n",
        "------------ -------\n",
        "blinker      1.7.0\n",
        "click        8.1.7\n",
        "colorama     0.4.6\n",
        "Flask        2.3.3\n",
        "itsdangerous 2.1.2\n",
        "Jinja2       3.1.2\n",
        "MarkupSafe   2.1.3\n",
        "pip          23.3.2\n",
        "setuptools   69.0.3\n",
        "Werkzeug     3.0.1\n",
        "```\n",
        "\n",
        "上の実行結果は、`pip` と `setuptools` 以外は、`Flask` とその依存パッケージがインストールされた状態を示している。依存関係は表示されないことがわかる。\n",
        "\n",
        "主なオプションは次のとおり:\n",
        "\n",
        "| オプション | 意味 |\n",
        "|:---|:---|\n",
        "| `-o`, `--outdated` | 最新版のパッケージが存在するもののみを出力する |\n",
        "| `--not-required` | ほかのパッケージから依存されていないパッケージのみを出力する |\n",
        "\n",
        "``` shell\n",
        "pip list -o\n",
        "\n",
        "Package Version Latest Type\n",
        "------- ------- ------ -----\n",
        "Flask   2.3.3   3.0.0  wheel\n",
        "```\n",
        "\n",
        "``` shell\n",
        "pip list --not-required\n",
        "\n",
        "Package    Version\n",
        "---------- -------\n",
        "Flask      2.3.3\n",
        "pip        23.3.2\n",
        "setuptools 69.0.3\n",
        "```"
      ],
      "metadata": {
        "id": "N5jET4eDozLT"
      }
    },
    {
      "cell_type": "markdown",
      "source": [
        "### freeze コマンド"
      ],
      "metadata": {
        "id": "RJz9_Dputt2d"
      }
    },
    {
      "cell_type": "markdown",
      "source": [
        "``` shell\n",
        "pip freeze [options]\n",
        "```\n",
        "\n",
        "`freeze` コマンドは、インストールされているパッケージを **requirements 書式**と呼ばれる形式で一覧表示する。\n",
        "\n",
        "``` shell\n",
        "pip freeze\n",
        "\n",
        "blinker==1.7.0\n",
        "click==8.1.7\n",
        "colorama==0.4.6\n",
        "Flask==2.3.3\n",
        "itsdangerous==2.1.2\n",
        "Jinja2==3.1.2\n",
        "MarkupSafe==2.1.3\n",
        "Werkzeug==3.0.1\n",
        "```\n",
        "\n",
        "`freeze` コマンドの実行結果には、`pip` と `setuptools` は表示されない。\n",
        "\n",
        "`freeze` コマンドのオプションは省略。\n",
        "\n",
        "`freeze` コマンドは、リダイレクトにより requirements 書式を作成するために使われる。requirements 書式のファイルの名前は、`requirements.txt` とするのが慣例となっている。\n",
        "\n",
        "``` shell\n",
        "pip freeze > requirements.txt\n",
        "```"
      ],
      "metadata": {
        "id": "2lVcb7d6tuy8"
      }
    },
    {
      "cell_type": "markdown",
      "source": [
        "### show コマンド"
      ],
      "metadata": {
        "id": "coOFzgXByfWj"
      }
    },
    {
      "cell_type": "markdown",
      "source": [
        "``` shell\n",
        "pip show [options] <package> ...\n",
        "```\n",
        "\n",
        "`show` コマンドは、パッケージの詳細を表示する。\n",
        "\n",
        "``` shell\n",
        "pip show Flask\n",
        "\n",
        "Name: Flask\n",
        "Version: 2.3.3\n",
        "Summary: A simple framework for building complex web applications.\n",
        "Home-page:\n",
        "Author:\n",
        "Author-email:\n",
        "License:\n",
        "Location: C:\\myproject\\.venv\\Lib\\site-packages\n",
        "Requires: blinker, click, itsdangerous, Jinja2, Werkzeug\n",
        "Required-by:\n",
        "```\n",
        "\n",
        "`Requires` と `Required-by` によって依存関係を確認できる。このように、`pip` では、パッケージの依存関係は個別に `show` コマンドを使って確認することになる。\n",
        "\n",
        "`show` コマンドのオプションは省略。"
      ],
      "metadata": {
        "id": "jLbtsuUXyf6R"
      }
    },
    {
      "cell_type": "markdown",
      "source": [
        "### install コマンド"
      ],
      "metadata": {
        "id": "D0Gev5RGy6BZ"
      }
    },
    {
      "cell_type": "markdown",
      "source": [
        "``` shell\n",
        "pip install [options] <package> ...\n",
        "```\n",
        "\n",
        "`install` コマンドは、パッケージをインストールする。\n",
        "\n",
        "公式のリポジトリである [Python Package Index](https://pypi.org/) （略称 PyPI）で公開されている「配布パッケージ」の形式を指定すると、そのパッケージと、その依存パッケージの配布物を PyPI からダウンロードする。\n",
        "\n",
        "``` shell\n",
        "pip install [options] <archive url/path>\n",
        "```\n",
        "\n",
        "このように、配布パッケージを指定する代わりに、直接、配布物の URL を指定した場合、`install` コマンドはそこから配布物をダウンロードしてインストールする。`file:///home/user/archive` のようにローカルに保存した配布物のパスを指定することもできる。\n",
        "\n",
        "``` shell\n",
        "pip install [options] <project> @ git+<repository URL> ...\n",
        "```\n",
        "\n",
        "このように、配布パッケージを指定する代わりに、Github のプロジェクトと git リポジトリ URL を指定した場合、`install` コマンドは、その git リポジトリをダウンロードしてインストールする。ただし、システムで `git` コマンドが利用できる必要がある。プロジェクト名と git リポジトリ URL の間に `@` を入れ、git リポジトリ URL の先頭に `git+` 接頭辞を付ける必要がある。\n",
        "\n",
        "``` shell\n",
        "pip install [options] -r <requirements file> ...\n",
        "```\n",
        "\n",
        "`-r`（または `--requirement`）オプション付きの場合、配布パッケージや配布物 URL、git リポジトリ URL などを requirements 書式のファイルにまとめて指定することができる。このオプションは複数回使用できる。\n",
        "\n",
        "``` shell\n",
        "pip install --no-index --find-links <URL/DIR> [options] <package> ...\n",
        "pip install --no-index --find-links <URL/DIR> [options] -r <requirements file> ...\n",
        "```\n",
        "\n",
        "`--no-index` オプション付きの場合、PyPI を一切参照しない。その代わりに、`--find-links`（または `-f`）オプションで指定した URL や ローカルのディレクトリを参照し、そこから指定した配布パッケージと、その依存パッケージをインストールする。`-r`（または `--requirement`）オプションと組み合わせて requirements 書式のファイルを指定することもできる。\n",
        "\n",
        "``` shell\n",
        "pip install [options] <project path>\n",
        "```\n",
        "\n",
        "`install` コマンドは、配布パッケージを指定する代わりに、ローカルのプロジェクトルートのパスを指定することで、ソースコードからパッケージをインストールする。プロジェクトのソースコードがパッケージとしてインストール可能な状態であることが必要。\n",
        "\n",
        "``` shell\n",
        "pip install -e <project path>\n",
        "```\n",
        "\n",
        "`-e`（または `--editable`）オプション付きでローカルのプロジェクトルートのパスを指定した場合、開発中のソースコードからパッケージを**編集可能モード**（editable mode）でインストールする。編集可能モードでインストールされた場合、ソースコードに変更を加えると、再インストールをしなくてもそのまま実行環境に反映される。\n",
        "\n",
        "`install` コマンドの他のオプションは次のとおり:\n",
        "\n",
        "| オプション | 意味 |\n",
        "|:---|:---|\n",
        "| `-c <file>`, `--constraint <file>` | 指定された制約ファイルを使用してバージョンを制約する。このオプションは複数回使用できる |\n",
        "| `-U`, `--upgrade` | 指定されたパッケージを利用可能な最新バージョンにアップグレードする。依存関係の処理は、アップグレード戦略<br /><br />によって異なる |\n",
        "| `--upgrade-strategy <upgrade_strategy>` | アップグレード戦略（＝依存関係のアップグレードをどのように処理するか）を指定する<br /><br />・`eager`: 依存ライブラリも含めて一斉にアップグレードする<br /><br />・`only-if-needed`（デフォルト）: パッケージの依存要件に従って必要な場合にのみ依存ライブラリもアップグレード<br /><br />　する |\n",
        "| `--only-binary <format_control>` | `--only-binary :all:` と指定した場合、すべてのパッケージについてソースファイルをダウンロードしない。バイナ<br /><br />リ配布のないパッケージでは、このオプションを使用するとインストールに失敗する |\n",
        "| `--force-reinstall` | このオプションを指定すると、パッケージはすでにアップデートされていたとしても強制的にインストールされる |\n",
        "| `--no-deps` | 依存パッケージをインストールしない |\n",
        "| `--no-cache-dir` | キャッシュを使用しない。これにより、毎回パッケージが新たにダウンロードされ、インストールされる |\n",
        "| `--user` | プラットフォームの Python ユーザーインストールディレクトリにインストールする。通常は `~/.local/`、または<br /><br /> Windows の `$env:LOCALAPPDATA\\Programs\\Python` となる |\n",
        "\n",
        "`install -U` コマンドは、パッケージをアップグレードする。アップグレードにより、ほかのパッケージとの依存関係が解消されることがある。その結果として、どのパッケージとも依存関係がなくなったパッケージがあっても自動的に削除されることはないことに注意する。\n",
        "\n",
        "`install -U` コマンドは、`pip` 自身をアップデートすることもできる:\n",
        "\n",
        "``` shell\n",
        "python -m pip install -U pip\n",
        "```\n",
        "\n",
        "`install --user` コマンドによるインストールは、管理者権限が必要でないディレクトリへのインストールが行われる。管理者権限のないユーザとして `pip` でパッケージ管理をしたい場合には、`install --user` コマンドを使用する必要がある。Python ユーザーインストールディレクトリの場所は、`site.USER_BASE` または `PYTHONUSERBASE` 環境変数を設定することでカスタマイズできる。\n",
        "\n",
        "なお、公式の Windows 用 Python インストーラーは、デフォルトで Python を管理者権限が必要でないディレクトリである `$env:LOCALAPPDATA\\Programs\\Python` 以下にインストールするので、`pip` のコマンドで管理者権限が必要とならない。"
      ],
      "metadata": {
        "id": "-4n_Uaily7Hx"
      }
    },
    {
      "cell_type": "markdown",
      "source": [
        "### download コマンド"
      ],
      "metadata": {
        "id": "uQYCaJcz1AXE"
      }
    },
    {
      "cell_type": "markdown",
      "source": [
        "``` shell\n",
        "pip download [options] <package> ...\n",
        "```\n",
        "\n",
        "`download` コマンドは、指定した配布パッケージと、その依存パッケージを PyPI からダウンロードするがインストールはしない。\n",
        "\n",
        "``` shell\n",
        "pip download [options] -r <requirements file>\n",
        "```\n",
        "\n",
        "`-r`（または `--requirement`）オプション付きの場合、requirements 書式のファイルから読み取ったパッケージと、その依存パッケージをダウンロードする。\n",
        "\n",
        "`download` コマンドの主なオプションは次のとおり:\n",
        "\n",
        "| オプション | 意味 |\n",
        "|:---|:---|\n",
        "| `-d <DIR>`, `--dest <DIR>` | ダウンロードしたファイルを保存するフォルダを `<DIR>` に指定する。指定しない場合は、カレントディレクトリに保存する |\n",
        "| `--only-binary <format_control>` | `--only-binary :all:` と指定した場合、すべてのパッケージについてソースファイルをダウンロードしない。バイナリ配<br /><br />布のないパッケージでは、このオプションを使用するとダウンロードに失敗する |\n",
        "| `--platform <platform>` | 指定したプラットフォームと互換性のあるバイナリをダウンロードする。指定しない場合は、実行中のシステムのプラット<br /><br />フォームと互換性のあるバイナリがダウンロードされる |\n",
        "| `--python-version <python_version>` | 指定した Python バージョンと互換性のあるバイナリをダウンロードする。指定するバージョンは `3`, `3.8`, `3.8.3` のよ<br /><br />うに書く。指定しない場合は、現在実行している Python インタープリターのバージョンが使われる |"
      ],
      "metadata": {
        "id": "MbhyImnE1CJU"
      }
    },
    {
      "cell_type": "markdown",
      "source": [
        "### uninstall コマンド"
      ],
      "metadata": {
        "id": "T8l1oE3o2Thx"
      }
    },
    {
      "cell_type": "markdown",
      "source": [
        "``` shell\n",
        "pip uninstall [options] <package> ...\n",
        "```\n",
        "\n",
        "`uninstall` コマンドは、指定したパッケージをアンインストールする。パッケージと同時にインストールした依存パッケージはアンインストールされないことに注意する。\n",
        "\n",
        "``` shell\n",
        "pip uninstall [options] -r <requirements file> ...\n",
        "```\n",
        "\n",
        "`-r`（または `--requirement`）オプション付きの場合、requirements 書式のファイルから読み取ったパッケージをアンインストールする。依存パッケージはファイルに書いてあればアンインストールされるが、そうでない場合はアンインストールされないことに注意する。\n",
        "\n",
        "`uninstall` コマンドの主なオプションは次のとおり:\n",
        "\n",
        "| オプション | 意味 |\n",
        "|:---|:---|\n",
        "|`-y`, `--yes` | このオプションを指定すると、アンインストール時の確認を表示しない |\n",
        "\n",
        "`install -U` コマンドや `uninstall` コマンドを実行した結果、どのパッケージとも依存関係がなくなったパッケージは、`list --not-required` コマンドで確認できる。その中のパッケージが不要なら手動でアンインストールする。"
      ],
      "metadata": {
        "id": "Vq6O2I9Q2UW-"
      }
    },
    {
      "cell_type": "markdown",
      "source": [
        "### check コマンド"
      ],
      "metadata": {
        "id": "lFid0tWJordt"
      }
    },
    {
      "cell_type": "markdown",
      "source": [
        "``` shell\n",
        "pip check\n",
        "```\n",
        "\n",
        "`check` コマンドは、インストールされたパッケージの依存関係に互換性の問題がないか確認する。\n",
        "\n",
        "互換性の問題がない場合、標準出力に「No broken requirements found.」と表示される。\n",
        "\n",
        "たとえば、インストールされた `numba` が `Numpy` のバージョン 1.21 から 1.25 までに依存しているのに、インストールされた `Numpy` のバージョンが 1.26 である場合、次のように表示される:\n",
        "\n",
        "``` shell\n",
        "numba 0.58.0 has requirement numpy<1.26,>=1.21, but you have numpy 1.26.0.\n",
        "```"
      ],
      "metadata": {
        "id": "rYy0Nlm-ourW"
      }
    },
    {
      "cell_type": "markdown",
      "source": [
        "### バージョン制約"
      ],
      "metadata": {
        "id": "iS2IcGSO580-"
      }
    },
    {
      "cell_type": "markdown",
      "source": [
        "`install` コマンドおよび `download` コマンドで配布パッケージを指定するとき、バージョン制約を付けることができる。この場合、配布パッケージの名前とバージョン制約を引用符で囲む。\n",
        "\n",
        "``` shell\n",
        "pip install \"SomePackage==1.0.4\"\n",
        "```\n",
        "\n",
        "バージョン制約には、以下の**バージョン指定子**が使える。\n",
        "\n",
        "  * `~=`: 互換性があるリリース\n",
        "  * `==`: 一致するバージョン\n",
        "  * `!=`: 除外するバージョン\n",
        "  * `<=`, `>=`: 以前、または、以降となるバージョン\n",
        "  * `<`, `>`: より前、または、より後のバージョン\n",
        "\n",
        "これらをカンマ `,` で区切って組み合わせることもできる。また、`'=='` を使う場合、バージョンにワイルドカード `*` を使うと、ワイルドカードの位置に最も近いバージョンが許可される。\n",
        "\n",
        "``` shell\n",
        "pip install \"SomePackage~=1.0.4\"\n",
        "```\n",
        "\n",
        "これは、`==1.0.*` でかつ `>=1.0.4` であるバージョンを許可することを意味する。\n",
        "\n",
        "``` shell\n",
        "pip install \"SomePackage>=1,<2\"\n",
        "```\n",
        "\n",
        "これは、1.x 以降で 2.x より前のバージョンを許可することを意味する。\n",
        "\n",
        "`install -U` コマンドでバージョン制約を付ける場合、アップグレードだけでなく、ダウングレードもできる。\n",
        "\n",
        "いくつかのパッケージが依存パッケージを共有する場合、各互換要件が異なるときには、パッケージのインストール順序に注意する必要がある。たとえば、A パッケージは C パッケージのバージョン 1.1.x 以降に依存していて、B パッケージは C パッケージのバージョン 0.9.x から 1.2.x までに依存していて、C パッケージの最新バージョンは 1.3.0 であるとする。この場合、先に A パッケージをインストールすると、C パッケージのバージョン 1.3.0 をダウンロードし、次に B パッケージをインストールするときに C パッケージはインストール済みと扱われる結果、C パッケージは B パッケージと互換性のない状態となる。この場合は、先に B パッケージをインストールし、その後に A パッケージをインストールするとよい。あるいは、インストール済みの C パッケージをダウングレードする。"
      ],
      "metadata": {
        "id": "Ofx5mPZv597X"
      }
    },
    {
      "cell_type": "markdown",
      "source": [
        "### requirements 書式"
      ],
      "metadata": {
        "id": "2cGM5s0ocCaR"
      }
    },
    {
      "cell_type": "markdown",
      "source": [
        "requirements 書式の基本構文は、次のように、配布パッケージの名前を 1 行ごとに 1 つ書き出す。\n",
        "\n",
        "``` text\n",
        "python-dateutil\n",
        "PyYAML\n",
        "```\n",
        "\n",
        "バージョン制約を付けることができる。バージョン制約がない場合は、パッケージの最新バージョンが指定されたものとみなされる。\n",
        "\n",
        "``` text\n",
        "Django==4.2.3\n",
        "numpy>=1.24,<2.0\n",
        "```\n",
        "\n",
        "配布パッケージの名前の代わりに\n",
        "\n",
        "  * 配布物 URL/PATH\n",
        "  * git リポジトリ URL\n",
        "\n",
        "を指定することもできる。書式は `install` コマンドと同様である。\n",
        "\n",
        "Python バージョンの条件を付けることができる。`';'` に続けて `'python_version'` と バージョン指定子を使用する。\n",
        "\n",
        "``` text\n",
        "enum34 ; python_version<\"3.4\"\n",
        "```\n",
        "\n",
        "これは、Python のバージョンが 3.4 未満の場合にのみ `enum34` をインストールすることを意味する。\n",
        "\n",
        "`'#'` で始まる行はコメントとみなされ、無視される。空行も無視される。\n",
        "\n",
        "文字エンコーディングは UTF-8 とする。ファイルの先頭に `# -*- coding: <encoding name> -*-` と書いて別の文字エンコーディングを使用することも可能である。\n",
        "\n",
        "`-r <requirements file>` の行は、他の requirements ファイルを読み込む。\n",
        "\n",
        "``` text\n",
        "-r other-requirements.txt\n",
        "```\n",
        "\n",
        "`-c <constraints file>` の行は、指定されたファイルを**制約ファイル**（constraints file）として読み込む。\n",
        "\n",
        "``` text\n",
        "-c constraints.txt\n",
        "```\n",
        "\n",
        "制約ファイルを読み込むと、そのバージョン制約が優先される。`-r <requirements file>` との違いは、制約ファイルに requirements ファイルにない配布パッケージがあってもインストールされないことである。\n",
        "\n",
        "制約ファイルは、`install` コマンドの `-c`（または `--constraint`）オプションで指定することもできる。たとえば\n",
        "\n",
        "``` shell\n",
        "pip install -r requirements.txt -c constraints.txt\n",
        "```\n",
        "\n",
        "として実行すると、`requirements.txt` と `constraints.txt` の両方にある配布パッケージについては `constraints.txt` のバージョン制約が優先される形でインストールされる。`constraints.txt` にしかない配布パッケージはインストールされない。`-c` オプションは複数回使用できる。\n",
        "\n",
        "`-c` オプションを単体で使おうとすると、エラーが発生する。\n",
        "\n",
        "``` shell\n",
        "PS> pip install -c constraints.txt\n",
        "\n",
        "ERROR: You must give at least one requirement to install (see \"pip help install\")\n",
        "```"
      ],
      "metadata": {
        "id": "VjqzmN1lcDCr"
      }
    },
    {
      "cell_type": "markdown",
      "source": [
        "仮想環境\n",
        "--------"
      ],
      "metadata": {
        "id": "jmu6QSVfY4Bq"
      }
    },
    {
      "cell_type": "markdown",
      "source": [
        "### 仮想環境の仕組み"
      ],
      "metadata": {
        "id": "KKypgQDvZ1hy"
      }
    },
    {
      "cell_type": "markdown",
      "source": [
        "**Python 仮想環境**（virtual environment）は、システムにインストールされた Python 環境とは別に、プロジェクトごとに構築できる独立した実行環境である。特定のライブラリバージョンに依存するアプリケーションも、プロジェクトごとに仮想環境を分けることで開発が容易になる。\n",
        "\n",
        "仮想環境の実体は、特定のバージョンの Python 本体と追加パッケージを格納したディレクトリ（フォルダ）である。このディレクトリは、通常、プロジェクトの直下に `.venv` という名前で作成される。\n",
        "\n",
        "仮想環境のディレクトリには、システムにある Python のファイル一式がコピーされるのではなく、それらを指し示す[シンボリックリンク](https://ja.wikipedia.org/wiki/ソフトリンク)という仕組みが主に使われるため、ディスク容量をあまり消費しない。ただし Windows では、シンボリックリンクの作成にデフォルトで管理者権限が必要となるため、シンボリックリンクではなくファイルそのものをコピーする方式が取られる。\n",
        "\n",
        "仮想環境が他の Python 実行環境から隔離される仕組みには、環境変数が利用されている。Python は、標準ライブラリ `sys` モジュールの変数 `sys.prefix` と `sys.exec_prefix` の値から自身のインストール先を認識する。仮想環境を有効にすると、この `sys.prefix` と `sys.exec_prefix` が仮想環境のディレクトリを指すように書き換えられるのである。\n",
        "\n",
        "このように環境変数を書き換えて仮想環境を利用可能な状態にすることを、**有効化**または**アクティベート**（activate）と呼ぶ。仮想環境を有効化すると、その環境への PATH が通るため、ターミナルで `python` や `pip` を実行した際には、システムのものではなく仮想環境にインストールされたものが優先して使用される。"
      ],
      "metadata": {
        "id": "NoVuUoijZ2CE"
      }
    },
    {
      "cell_type": "markdown",
      "source": [
        "### 仮想環境の作成"
      ],
      "metadata": {
        "id": "S1AcA4Ed_O4F"
      }
    },
    {
      "cell_type": "markdown",
      "source": [
        "Python 標準ライブラリには、仮想環境の作成・管理に使われる `venv` モジュールが含まれている。`venv` の基本的な使い方については、[公式チュートリアル](https://docs.python.org/ja/3/tutorial/venv.html)。\n",
        "\n",
        "`venv` のコマンドラインインターフェースは、コマンドが実行された Python のバージョンをインストールする。`--upgrade-deps` オプションを使用すると、pip を [PyPI](https://pypi.org/) での最新版に更新する（Python 3.9から）。\n",
        "\n",
        "``` shell\n",
        "python -m venv --upgrade-deps .venv\n",
        "```\n",
        "\n",
        "Python 3.8 以前なら、次のようにする。\n",
        "\n",
        "``` shell\n",
        "python -m venv .venv\n",
        ".venv/bin/pip install -U pip\n",
        "```\n",
        "\n",
        "`venv` コマンドは、仮想環境のディレクトリに `bin` サブディレクトリを作成し、Python バイナリやアクティベート用の bash スクリプト `activate` を置く。\n",
        "\n",
        "Windows で `venv` コマンドは `bin` サブディレクトリを作成せず、代わりに `Scripts` サブディレクトリを作成し、Python バイナリやアクティベート用の PowerShell スクリプト `Activate.ps1` を置く。`Activate.ps1` を実行するには、実行ポリシーを設定しなければならない。設定アプリの「システム＞開発者向け＞PowerShell」を選択し、「署名せずに実行するローカル Powershell スクリプトを許可するように、実行ポリシーを変更します。」をオンに設定する。あるいは、この設定は次の PowerShell コマンドでもできる（管理者権限で PowerShell を起動しておくこと）:\n",
        "\n",
        "``` powershell\n",
        "PS> Set-ExecutionPolicy -ExecutionPolicy RemoteSigned -Scope CurrentUser\n",
        "```\n",
        "\n",
        "仮想環境に特定のバージョンの Python をインストールするには、システムにそのバージョンの Python がインストールされている必要がある。Linux や macOS で複数のバージョンの Python を管理するには、[pyenv](https://github.com/pyenv/pyenv) が必要となる。\n",
        "\n",
        "一方、Windows はもともと複数バージョンのビルド済み Python をインストールすることが可能なので特別なツールは不要であり、次のように Python ランチャーを実行すればよい。\n",
        "\n",
        "``` powershell\n",
        "PS> py -3.12 -m venv --upgrade-deps .venv\n",
        "```\n",
        "\n",
        "これで Python バージョン 3.12 が仮想環境ディレクトリ `.venv` にインストールされる。"
      ],
      "metadata": {
        "id": "GiIxp2VP_MmH"
      }
    },
    {
      "cell_type": "markdown",
      "source": [
        "### Visual Studio Code の場合"
      ],
      "metadata": {
        "id": "eYAVQ1IKLf0P"
      }
    },
    {
      "cell_type": "markdown",
      "source": [
        "[Visual Studio Code](https://code.visualstudio.com/)（以下、VS Code）では、Python 拡張機能により仮想環境の作成が可能である。\n",
        "\n",
        "VS Code 上で仮想環境を新規作成するには、以下の手順による。\n",
        "\n",
        "  1. あらかじめプロジェクトルートを作成しておく。\n",
        "  2. File メニューの「Open Folder...」（フォルダーを開く）でプロジェクトルートを開いた状態（左側のエクスプローラーでプロジェクトルートがトップ項目になっている状態）にする。\n",
        "  3. プロジェクトルートに `requirements.txt` を作成する。\n",
        "  4. <kbd>[F1]</kbd> キーでコマンドパレットを開き、 `Python: Create Environment` コマンドを実行する。\n",
        "\n",
        "仮想環境の作成を実行すると、`pip` のアップデートが自動で行われた上で、依存ライブラリのインストールも自動で行われる。 Windows 環境で複数のバージョンの Python をインストールしている場合、 VS Code がそれらを自動的に探索して選択肢として表示するので、指定したバージョンの Python で仮想環境を作成することができる。\n",
        "\n",
        "仮想環境が作成されると、VS Code のターミナルは自動的に仮想環境を有効化する。"
      ],
      "metadata": {
        "id": "Z6GSRhYlLg-Q"
      }
    },
    {
      "cell_type": "markdown",
      "source": [
        "### 仮想環境の運用"
      ],
      "metadata": {
        "id": "u5mqlocbZFxh"
      }
    },
    {
      "cell_type": "markdown",
      "source": [
        "プロジェクトの仮想環境内の依存ライブラリを管理する場合、`requirements.txt` だけでは柔軟にバージョンを制約することができない。そこで、次の 3 つのファイルを使うようにする。\n",
        "\n",
        "  1. `requirements.txt`: プロジェクトが依存するパッケージを手動で宣言する\n",
        "  2. `requirements.lock`: 新しい仮想環境に同じバージョンをインストールために使う\n",
        "  3. `constraints.txt`: プロジェクト間で共通するバージョン制約を手動で宣言する\n",
        "\n",
        "`requirements.txt` には、プロジェクトの依存ライブラリを requirements 形式により手作業で書く。バージョン制約を付けてもよい。\n",
        "\n",
        "``` text\n",
        "# requirements.txt\n",
        "Flask\n",
        "python-dateutil~=2.7.1\n",
        "```\n",
        "\n",
        "新しい仮想環境の中で、依存ライブラリをインストールする場合は、`requirements.txt` を使う。\n",
        "\n",
        "``` shell\n",
        "PS> pip install -r requirements.txt\n",
        "```\n",
        "\n",
        "このとき、間接的に依存するパッケージもインストールされる。現在の仮想環境を簡単に再現できるようするため、`pip freeze` コマンドを使うのであるが、出力先を `requirements.lock` とする。\n",
        "\n",
        "``` shell\n",
        "PS> pip freeze > requirements.lock\n",
        "```\n",
        "\n",
        "新しい仮想環境に同じバージョンをインストールするのには、`requirements.txt` の代わりに `requirements.lock` ファイルを使う。\n",
        "\n",
        "``` shell\n",
        "PS> pip install -r requirements.lock\n",
        "```\n",
        "\n",
        "仮想環境にインストールしたライブラリを更新するときには、そのたびに `requirements.lock` も更新する必要がある。\n",
        "\n",
        "複数のプロジェクトの間に、利用するライブラリとそのバージョンを共通化させたいことがある。たとえば、すべてのプロジェクトが `eventlet` を使うわけではないが、使う場合にはバージョンを `0.17.4` で共通化させたいなら、`constraints.txt` に次のように書く。\n",
        "\n",
        "``` text\n",
        "# constraints.txt\n",
        "eventlet == 0.17.4\n",
        "```\n",
        "\n",
        "`constraints.txt` を使うときは、次のようにする。\n",
        "\n",
        "``` shell\n",
        "PS> pip install -r <プロジェクトの requirements.txt> -c <共通の constraints.txt>\n",
        "```\n",
        "\n",
        "これで、プロジェクトの `requirements.txt` に `eventlet`（や `eventlet` に依存するパッケージ）が書かれていたらそのバージョンが `0.17.4` に固定化され、書かれてなければ `eventlet` はインストールされない。\n",
        "\n",
        "仮想環境内パッケージのアップグレードやアンインストールのために `pip install -U` コマンドや `pip uninstall` コマンドを使わないほうがよい。`pip` の依存解決機能は貧弱なので、`rmdir` コマンドで仮想環境をディレクトリごと削除し、仮想環境を一から構築し直すほうが簡単である。"
      ],
      "metadata": {
        "id": "HLwzS6DrxW-6"
      }
    }
  ]
}