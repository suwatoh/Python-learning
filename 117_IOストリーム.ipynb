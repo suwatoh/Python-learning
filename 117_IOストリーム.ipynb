{
  "nbformat": 4,
  "nbformat_minor": 0,
  "metadata": {
    "colab": {
      "provenance": [],
      "authorship_tag": "ABX9TyOUvgONjBjU17ObnnmelcDG",
      "include_colab_link": true
    },
    "kernelspec": {
      "name": "python3",
      "display_name": "Python 3"
    },
    "language_info": {
      "name": "python"
    }
  },
  "cells": [
    {
      "cell_type": "markdown",
      "metadata": {
        "id": "view-in-github",
        "colab_type": "text"
      },
      "source": [
        "<a href=\"https://colab.research.google.com/github/suwatoh/Python-learning/blob/main/117_IO%E3%82%B9%E3%83%88%E3%83%AA%E3%83%BC%E3%83%A0.ipynb\" target=\"_parent\"><img src=\"https://colab.research.google.com/assets/colab-badge.svg\" alt=\"Open In Colab\"/></a>"
      ]
    },
    {
      "cell_type": "markdown",
      "source": [
        "I/O ストリーム\n",
        "=============="
      ],
      "metadata": {
        "id": "cql3oCrvZJii"
      }
    },
    {
      "cell_type": "markdown",
      "source": [
        "I/O ストリーム\n",
        "--------------"
      ],
      "metadata": {
        "id": "G-TTFBogKS7H"
      }
    },
    {
      "cell_type": "markdown",
      "source": [
        "連続したデータを「流れるもの」として捉え、ファイルやメモリなどからデータを読み取ったり書き込んだりする際のデータの流れを**入出力ストリーム**または **I/O ストリーム**と呼んでいる。標準ライブラリの `io` モジュールは、I/O ストリームを扱うためのインターフェースを次のように構成している。\n",
        "\n",
        "| 型 | 意味 | 抽象基底クラス | 継承元 | スタブメソッド | Mixin するメソッドとプロパティ |\n",
        "|:---|:---|:---|:---|:---|:---|\n",
        "| IOBase | 読み込み、書き込み、シークができないストリーム | `IOBase` | | `fileno`, `seek`, `truncate` | `closed`（プロパティ）,<br />`close`, `flush`, `isatty`, `readable`, `readline`, `readlines`,<br />`seekable`, `tell`, `writable`, `writelines`,<br />`__enter__`, `__exit__`, `__iter__`, `__next__` |\n",
        "| Raw I/O | OS に近い部分とやり取りするストリーム | `RawIOBase` | `IOBase` | `readinto`, `write` | `IOBase` から継承したメソッド、`read`, `readall` |\n",
        "| バイナリ I/O | バッファを持つストリーム | `BufferedIOBase` | `IOBase` | `detach`, `read`, `read1`, `write` | `IOBase` から継承したメソッド、`readinto`, `readinto1` |\n",
        "| テキスト I/O | テキストとバイナリの変換機構を持つストリーム | `TextIOBase` | `IOBase` | `detach`, `read`, `readline`, `write` | `encoding`, `errors`, `newlines`（プロパティ）,<br />`IOBase` から継承したメソッド |\n",
        "\n",
        "I/O ストリームは、次の基本的な性質を持つ。\n",
        "\n",
        "  1. I/O ストリームはイテレータープロトコルをサポートする。オブジェクトをイテレートすると、ストリーム内の現在位置以降の行が yield される。ストリーム内の行の定義は、そのストリームが（バイト列を yield する）バイナリストリームか（文字列を yield する）テキストストリームかによって、少し異なる。現在位置より前にある行は yield されないので、それらを yield したいなら、イテレートを開始する前にストリーム内の位置をそれらの行より前に変更しておく必要がある。\n",
        "  2. I/O ストリームはコンテキストマネージャーでもある。そのため with 構文をサポートする。`__enter__()` メソッドはオブジェクト自身を返す。`__exit__()` メソッドはオブジェクトの `close()` メソッドを実行する。\n",
        "\n",
        "Raw I/O、バイナリ I/O、テキスト I/O のいずれかの具象オブジェクトは全て**ファイルオブジェクト**（または **file-like オブジェクト**）と呼ばれる。ファイルオブジェクトは、読み込み専用、書き込み専用、読み書き可能のいずかになる。\n",
        "\n",
        "`io` モジュールは、Raw I/O、バイナリ I/O、テキスト I/O の各カテゴリーに属する I/O ストリームの実装（具象クラス）を提供している。ただし、それらは Python コードによるクラスではなく C 実装となっている。クラス階層については、「朝日ネット　技術者ブログ」の記事にある[図表](https://techblog.asahi-net.co.jp/entry/2021/10/04/162109#io-%E3%83%A2%E3%82%B8%E3%83%A5%E3%83%BC%E3%83%AB%E3%81%AB%E3%81%A4%E3%81%84%E3%81%A6%E7%9F%A5%E3%82%8B)を参照。"
      ],
      "metadata": {
        "id": "gfvhqEjhIDVV"
      }
    },
    {
      "cell_type": "markdown",
      "source": [
        "FileIO\n",
        "------"
      ],
      "metadata": {
        "id": "JyrdVayo3rUI"
      }
    },
    {
      "cell_type": "markdown",
      "source": [
        "クラス `io.FileIO` は、OS レベルのファイルを表現するバイナリストリームの実装である。`io.RawIOBase` を継承している。\n",
        "\n",
        "コンストラクタ:\n",
        "\n",
        "``` python\n",
        "io.FileIO(name, mode='r', closefd=True, opener=None)\n",
        "```\n",
        "\n",
        "`name` 引数に渡せるのは、次の 2 つのいずれかである。\n",
        "\n",
        "  * 開くファイルへのパスを表す文字列またはバイト列。この場合、`closefd` は `True`（デフォルト）でなければならない。\n",
        "  * ファイルディスクリプタ（fd）。ファイルディスクリプタとは、OS にアクセスを依頼する際にファイルを指定するのに用いられる整数値である。通常、ファイルディスクリプタは 0 から順番に未使用の最も小さい値が与えられるようになっている。とくに、0 は標準入力、1 は標準出力、2 は標準エラー出力に固定される。`FileIO` オブジェクトが閉じられると、`closefd` が `False` に設定されていない場合、この fd も閉じられる。\n",
        "\n",
        "`mode` 引数については次のとおり:\n",
        "\n",
        "| mode | 読み込み | 書き込み | ファイルが存在しない場合 | ファイルが存在する場合 |\n",
        "|:--:|:--:|:--:|:---|:---|\n",
        "| `'r'` | 〇 | × | エラー（FileNotFoundError） | 既存の内容は維持される |\n",
        "| `'w'` | × | 〇（切り詰め） | 新規作成 | 既存の内容は<font color=\"red\">削除</font>される |\n",
        "| `'x'` | × | 〇 | 新規作成 | エラー（FileNotFoundError） |\n",
        "| `'a'` | × | 〇（末尾に追記） | 新規作成 | 既存の内容は維持される |\n",
        "| `'r+'` | 〇 | 〇（先頭から上書き） | エラー（FileNotFoundError） | 既存の内容は維持される |\n",
        "| `'w+'` | 〇 | 〇（切り詰め） | 新規作成 | 既存の内容は<font color=\"red\">削除</font>される |\n",
        "| `'a+'` | 〇 | 〇（末尾に追記） | 新規作成 | 既存の内容は維持される |\n",
        "\n",
        "新規作成の場合、 `name` 引数に指定したパスでファイルの直上までのディレクトリが存在していないとエラー（`FileNotFoundError`）となる。\n",
        "\n",
        "`io.FileIO()` コンストラクタは、ファイルを開くシステムコールを実行するが、呼び出し可能オブジェクトを `opener` 引数として渡すと、この機能をカスタマイズできる。`os.open` を `opener` として渡すと、`None` を渡したのと同様の機能になる。\n",
        "\n",
        "`io.FileIO` のプロパティ（読み出し専用）:\n",
        "\n",
        "| プロパティ | 意味 |\n",
        "|:---|:---|\n",
        "| `mode` | コンストラクタに渡された同名の引数の値 |\n",
        "| `name` | ファイル名。コンストラクタに名前が渡されなかったときはファイルディスクリプタになる |\n",
        "| `closed` | ストリームが閉じられていた場合 True になる |\n",
        "\n",
        "`io.FileIO` のメソッド:\n",
        "\n",
        "| メソッド | 機能 | 戻り値 |\n",
        "|:---|:---|:--:|\n",
        "| `fileno()` | コンストラクタにファイルディスクリプタが渡されていた場合はそれを返す。そうでなければ、`OSError` 例外が発生する | `int` |\n",
        "| `isatty()` | ストリームが対話的であれば（つまりターミナルや tty デバイスにつながっている場合）`True` を返す | `bool` |\n",
        "| `readable()` | ファイルが読み込み可能で開かれている場合、`True` を返す。`False` の場合、`read*()` を使用すると `OSError` 例外が発生する | `bool` |\n",
        "| `readline(size=-1, /)` | ファイルから 1 行読み込んで返す。`size` が指定された場合、最大で `size` バイトが読み込まれる | `bytes` |\n",
        "| `readlines(hint=-1, /)` | ファイルから行のリストを読み込んで返す。読み込んだすべての行のサイズ（バイト数）が `hint` の値を超えた場合、それ以上の行は読み込<br />まれない。引数 `hint` の値が 0 以下、および `None` の場合は、`hint` による制限はない<br />※ 反復処理には、この `readlines()` メソッドを使うのではなく、ファイルオブジェクトが 1 行ずつ返すイテレーターであることを利用すべき | `list` |\n",
        "| `read(size=-1, /)` | ファイルを `size` バイトまで読み込み、それを返す。`size` が `-1`（デフォルト）の場合は、EOF までの全てのバイトを返す。すでに EOF に到達<br />していて 1 バイトも読み込めなければ、`b''` が返される | `bytes` |\n",
        "| `readall()` | EOF までファイルから全てのバイトを読み込み、それを返す | `bytes` |\n",
        "| `readinto(b, /)` | 事前に定義したフォーマット `b` にバイト列を代入し、読み込んだバイト数を返す | `bytes` |\n",
        "| `writable()` | ファイルが書き込み可能で開かれている場合、`True` を返す。`False` の場合、`write*()` を使用すると `OSError` 例外が発生する | `bool` |\n",
        "| `writelines(lines, /)` | ファイルにリスト `lines` を書き込む | `None` |\n",
        "| `write(b, /)` | バイト列 `b` をファイルに書き込み、書き込んだバイト数を返す | `int` |\n",
        "| `seekable()` | ストリームがランダムアクセスをサポートしている場合、`True` を返す。`False` の場合、`tell()`、`seek()`、`truncate()` を使用すると `OSError` <br />例外が発生する | `bool` |\n",
        "| `tell()` | 現在のストリーム位置を返す | `int` |\n",
        "| `seek(offset, whence=os.SEEK_SET, /)` | ストリーム位置を、`whence` で示される基準点にオフセット値 `offset` を足した位置に変更し、変更後の位置（先頭からの位置）を返す。<br />`whence` の値は以下の通り<br /><br />・`os.SEEK_SET` または `0`: 基準点はストリームの開始位置（デフォルト）。`offset` は 0 または正である必要がある<br /><br />・`os.SEEK_CUR` または `1`: 基準点はストリームの現在位置。オフセットは負の値でもよい<br /><br />・`os.SEEK_END` または `2`: 基準点はストリームの末尾。オフセットは通常は負の値である | `int` |\n",
        "| `truncate(size=None, /)` | ストリームのサイズを、指定された `size` バイト（または `size` が指定されていない場合、現在位置）に変更する。現在のストリーム位置は変<br />更されない。このサイズ変更により、現在のファイルサイズを拡大または縮小させることができる。拡大の場合には、新しいファイル領域の<br />内容は `b' '` で埋められる。新しいファイルサイズが返される | `int` |\n",
        "| `flush()` | 何も起こらない | `None` |\n",
        "| `close()` | ファイルを閉じる。いったんファイルが閉じられると、全てのファイルに対する操作（読み込みや書き込みなど）で `ValueError` 例外が発生<br />する | `None` |\n",
        "\n",
        "ある種のバイナリファイルは、フォーマット仕様が規定される。たとえば、WAV ファイルに採用される [RIFF 形式](https://ja.wikipedia.org/wiki/Resource_Interchange_File_Format)は、「チャンク」と呼ばれるものの並びであり、全てのチャンクは次のような形式である。\n",
        "\n",
        "  * 4 バイト: チャンクの種類を表現するASCII文字列（チャンク識別子と呼ばれる）。たとえば `b'fmt'`、`b'data'` など\n",
        "  * 4 バイト: データサイズを示す 32 ビットの符号なし整数\n",
        "  * 可変長フィールド: データの本体\n",
        "\n",
        "データの本体の中にチャンクを入れ子にすることができ、これをサブチャンクと呼ぶ。\n",
        "\n",
        "WAV ファイルのヘッダーとなるチャンクには、識別子として `b'RIFF'` が指定され、データの本体には、最初の 4 バイトに `b'WAVE'` が指定され、それ以降はサブチャンクが連なっている。\n",
        "\n",
        "データフォーマットを定義するには、標準ライブラリの `ctypes` モジュールが提供する `ctypes.Structure` クラスを継承したクラスを作成する。このクラスでは、`_fields_` 属性を定義する。そこには、フィールドの名前とフィールドの型をセットにしたタプルを記述していく。次のコードは、データフォーマットを定義して、`io.FileIO()` を使って WAV ファイルのヘッダーとフォーマットを読み込んでいる。\n",
        "\n",
        "``` python\n",
        "import ctypes as c\n",
        "import io\n",
        "\n",
        "# フォーマットを定義\n",
        "class WAVHeaderFormat(c.Structure):\n",
        "    _fields_ = [\n",
        "        (\"id\", c.c_char * 4),  # 4バイトの文字型\n",
        "        (\"size\", c.c_uint32),  # 符号なし32ビット整数型\n",
        "        (\"type\", c.c_char * 4),  # 4バイトの文字型\n",
        "    ]\n",
        "\n",
        "with io.FileIO(\"./sample.wav\", \"r\") as f:\n",
        "    format_data = WAVHeaderFormat()\n",
        "    i = f.readinto(format_data)  # format_data にデータを入れ込む\n",
        "    print(f\"{i=}\")  # 4 + 4 + 4 = 12 バイト読み込んだので 12 が出力される\n",
        "    print(f\"{format_data.id=}\")  # b'RIFF' が出力される\n",
        "    print(f\"{format_data.size=}\")  # WAV ファイルのデータサイズが出力される\n",
        "    print(f\"{format_data.type=}\")  # b'WAVE' が出力される\n",
        "```\n",
        "\n",
        "Wikimedia Commons の[音声データサイト](https://commons.wikimedia.org/wiki/File:342706_spacejoe_lock-3-open-lock-3.wav)から WAV ファイルをウンロードし、ファイル名を `sample.wav` に変更してから上のコードを実行した結果、次のように出力された。\n",
        "\n",
        "``` text\n",
        "i=12\n",
        "format_data.id=b'RIFF'  \n",
        "format_data.size=94288  \n",
        "format_data.type=b'WAVE'\n",
        "```\n",
        "\n",
        "ネイティブではないバイトオーダーのデータフォーマットを定義するには、`ctypes.BigEndianStructure` または `ctypes.LittleEndianStructure` を継承したクラスを作成する。詳しくは、[公式ドキュメント](https://docs.python.org/ja/3/library/ctypes.html)を参照。"
      ],
      "metadata": {
        "id": "MUN9vje13sRe"
      }
    },
    {
      "cell_type": "markdown",
      "source": [
        "BytesIO\n",
        "-------"
      ],
      "metadata": {
        "id": "btaIyNGdWmQa"
      }
    },
    {
      "cell_type": "markdown",
      "source": [
        "クラス `io.BytesIO` は、メモリ上のバイトバッファを利用したバイナリストリームの実装である。`io.BufferedIOBase` を継承している。\n",
        "\n",
        "コンストラクタ:\n",
        "\n",
        "``` python\n",
        "io.BytesIO(initial_bytes=b'')\n",
        "```\n",
        "\n",
        "`initial_bytes` 引数には初期値となるバイト列を指定できる。\n",
        "\n",
        "`io.BytesIO` のプロパティ（読み出し専用）:\n",
        "\n",
        "| プロパティ | 意味 |\n",
        "|:---|:---|\n",
        "| `closed` | ストリームが閉じられていた場合 True になる |\n",
        "\n",
        "`io.BytesIO` のメソッド:\n",
        "\n",
        "| メソッド | 機能 | 戻り値 |\n",
        "|:---|:---|:--:|\n",
        "| `detach()` | `io.BytesIO` ではサポートされない（`io.UnsupportedOperation` 例外を送出する） | |\n",
        "| `getbuffer()` | バッファの内容を、読み込み及び書き込みが可能なビューとして返す。このビューを更新すると、バッファの内容も更新される | `MemoryView` |\n",
        "| `getvalue()` | バッファの内容を返す。この値は更新できない | `bytes` |\n",
        "| `readable()` | `io.BytesIO` においては、このメソッドは常に `True` を返す | `bool` |\n",
        "| `readline(size=-1, /)` | バッファから 1 行読み込んで返す。`size` が指定された場合、最大で `size` バイトが読み込まれる。行末文字は常に `b'\\n'` となる | `bytes` |\n",
        "| `readlines(hint=-1, /)` | バッファから行のリストを読み込んで返す。読み込んだすべての行のサイズ（バイト数）が `hint` の値を超えた場合、それ以上の行は読み込ま<br />れない。引数 `hint` の値が 0 以下、および `None` の場合は、`hint` による制限はない<br />※ 反復処理には、この `readlines()` メソッドを使うのではなく、ファイルオブジェクトが 1 行ずつ返すイテレーターであることを利用すべき | `list` |\n",
        "| `read(size=-1, /)` | バッファを `size` バイトまで読み込み、それを返す。`size` が `-1`（デフォルト）の場合は、EOF までの全てのバイトを返す。すでに EOF に到達し<br />ていて 1 バイトも読み込めなければ、`b''` が返される | `bytes` |\n",
        "| `read1(size=-1, /)` | `io.BytesIO` においては、このメソッドは `read()` と同じ | `bytes` |\n",
        "| `readinto(b, /)` | 事前に定義したフォーマット `b` にバイト列を代入し、読み込んだバイト数を返す | `bytes` |\n",
        "| `readinto1(b, /)` | `io.BytesIO` においては、このメソッドは `readinto()` と同じ | `bytes` |\n",
        "| `writable()` | `io.BytesIO` においては、このメソッドは常に `True` を返す | `bool` |\n",
        "| `writelines(lines, /)` | バッファにリスト `lines` を書き込む | `None` |\n",
        "| `write(b, /)` | バイト列 `b` をバッファに書き込み、書き込んだバイト数を返す | `int` |\n",
        "| `seekable()` | `io.BytesIO` においては、このメソッドは常に `True` を返す | `bool` |\n",
        "| `tell()` | 現在のストリーム位置を返す | `int` |\n",
        "| `seek(offset,`<br />` whence=os.SEEK_SET, /)` | ストリーム位置を、`whence` で示される基準点にオフセット値 `offset` を足した位置に変更し、変更後の位置（先頭からの位置）を返す。`whence` <br />の値は以下の通り<br /><br />・`os.SEEK_SET` または `0`: 基準点はストリームの開始位置（デフォルト）。`offset` は 0 または正である必要がある<br /><br />・`os.SEEK_CUR` または `1`: 基準点はストリームの現在位置。オフセットは負の値でもよい<br /><br />・`os.SEEK_END` または `2`: 基準点はストリームの末尾。オフセットは通常は負の値である | `int` |\n",
        "| `truncate(size=None, /)` | ストリームのサイズを、指定された `size` バイト（または `size` が指定されていない場合、現在位置）に変更する。現在のストリーム位置は変更<br />されない。このサイズ変更により、現在のバッファサイズを変更できる（拡大はできない？）。新しいバッファサイズが返される | `int` |\n",
        "| `flush()` | 何も起こらない | `None` |\n",
        "| `close()` | バイトバッファを破棄する。`close()` の後にバッファに対する操作（読み込みや書き込みなど）で `ValueError` 例外が発生する | `None` |"
      ],
      "metadata": {
        "id": "jsVgRvItWpQg"
      }
    },
    {
      "cell_type": "code",
      "source": [
        "import io\n",
        "\n",
        "with io.BytesIO(b\"abcdef\") as stream:\n",
        "    assert stream.tell() == 0  # 現在位置（最初は 0）\n",
        "    assert stream.read(2) == b\"ab\"  # 指定サイズだけ読みだす\n",
        "    assert stream.seek(0, io.SEEK_END) == 6  # ストリーム位置を末尾に変更\n",
        "    stream.write(b\"test\")  # ストリームに文字列を書き込む\n",
        "    assert stream.getvalue() == b\"abcdeftest\"\n",
        "\n",
        "b = io.BytesIO(b\"abcdef\")\n",
        "view = b.getbuffer()  # 読み込みおよび書き込みが可能なビューを取得\n",
        "view[2:4] = b\"56\"\n",
        "assert b.getvalue() == b\"ab56ef\"  # ビューの更新結果が反映される"
      ],
      "metadata": {
        "id": "VxvWd-jBfEgw"
      },
      "execution_count": null,
      "outputs": []
    },
    {
      "cell_type": "markdown",
      "source": [
        "BufferedReader・BufferedWriter・BufferedRandom\n",
        "----------------------------------------------"
      ],
      "metadata": {
        "id": "-hfFBDsvROzb"
      }
    },
    {
      "cell_type": "markdown",
      "source": [
        "クラス `io.BufferedReader` および `io.BufferedWriter`、`io.BufferedRandom` は、クラス `io.FileIO` に対して修正を加えることなく、インタフェースを変更するラッパークラスであり、バッファされたバイナリストリームの実装である。`io.BufferedReader` および `io.BufferedWriter` は、`io.BufferedIOBase` を継承している。`io.BufferedRandom` は、`io.BufferedReader` と `io.BufferedWriter` を継承している。\n",
        "\n",
        "いずれもコンストラクタの引数は同じなので、`io.BufferedReader` のコンストラクタのみ示す:\n",
        "\n",
        "``` python\n",
        "io.BufferedReader(raw, buffer_size=io.DEFAULT_BUFFER_SIZE)\n",
        "```\n",
        "\n",
        "| 引数 | 意味 |\n",
        "|:---|:---|\n",
        "| `raw` | `io.FileIO` のインスタンスであるバイナリストリーム |\n",
        "| `buffer_size` | バッファのサイズ。デフォルト値は `io.DEFAULT_BUFFER_SIZE` |"
      ],
      "metadata": {
        "id": "Bu7kuuhXVt_P"
      }
    },
    {
      "cell_type": "code",
      "source": [
        "import io\n",
        "io.DEFAULT_BUFFER_SIZE"
      ],
      "metadata": {
        "colab": {
          "base_uri": "https://localhost:8080/"
        },
        "id": "NOyFHPQpoVf4",
        "outputId": "b9235f0f-8fa2-4389-c477-82b4af4f9ad0"
      },
      "execution_count": null,
      "outputs": [
        {
          "output_type": "execute_result",
          "data": {
            "text/plain": [
              "8192"
            ]
          },
          "metadata": {},
          "execution_count": 2
        }
      ]
    },
    {
      "cell_type": "markdown",
      "source": [
        "3 つのクラスは共通して次の読み出し専用プロパティを持つ:\n",
        "\n",
        "| プロパティ | 意味 |\n",
        "|:---|:---|\n",
        "| `raw` | コンストラクタの同名の引数に渡されたバイナリストリーム |\n",
        "\n",
        "また、`raw` に格納されたストリームのプロパティ（`closed`、`mode`、`name`）を自身のプロパティとして保持する。\n",
        "\n",
        "`io.BufferedReader` と `io.BufferedWriter` は、`io.FileIO` のメソッドに加えて、以下のメソッドを提供または拡張する:\n",
        "\n",
        "| メソッド | 機能 | 戻り値 |\n",
        "|:---|:---|:--:|\n",
        "| `detach()` | `raw` に格納されたストリームをバッファから分離して返す。ストリームが取り外された後、バッファは使用不能状態になる | `RawIOBase` |\n",
        "| `readable()` | `raw` が読み込み可能な場合、`True` を返す。そうでないとき `io.BufferedReader` においては `io.UnsupportedOperation` 例外を送出する | `bool` |\n",
        "| `writable()` | `raw` が書き込み可能な場合、`True` を返す。そうでないとき `io.BufferedWriter` においては `io.UnsupportedOperation` 例外を送出する | `bool` |\n",
        "\n",
        "`io.BufferedReader` は、以下のメソッドを提供または拡張する:\n",
        "\n",
        "| メソッド | 機能 | 戻り値 |\n",
        "|:---|:---|:--:|\n",
        "| `peek(size=0, /)` | 位置を進めずにファイルからバイト列を返す | `bytes` |\n",
        "| `read(size=-1, /)` | ファイルから `buffer_size` 単位でデータを読み出すことを繰り返し、読み出したバイト数の合計が `size` バイトを超えたら読み出しを終了し、読み出した<br />`size` バイトのデータを返す。読み出したデータはバッファに保持され、その後の読み出し処理で直接返すことができる。`size` が `-1`（デフォルト）の場合<br />は、EOF までの全てのバイトを返す。すでに EOF に到達していて 1 バイトも読み出せなければ、`b''` が返される | `bytes` |\n",
        "| `read1(size=-1, /)` | `raw` に格納されたストリームの `read()`（または `readinto()`） メソッドを高々 1 回呼び出し、最大で `size` バイト読み込んで返す。これは、`BufferedIOBase`<br />オブジェクトの上に独自のバッファリングを実装するときに使うことを想定している | `bytes` |\n",
        "\n",
        "`io.BufferedWriter` は、以下のメソッドを提供または拡張する:\n",
        "\n",
        "| メソッド | 機能 | 戻り値 |\n",
        "|:---|:---|:--:|\n",
        "| `writelines(lines, /)` | バッファにリスト `lines` を書き込む | `None` |\n",
        "| `write(b, /)` | バイト列 `b` をバッファに書き込み、書き込んだバイト数を返す | `int` |\n",
        "| `flush()` | バッファに保持されたバイト列を、`raw` に格納されたストリームに強制的に流し込む（結果的にファイルへの書き込みが行われる） | `None` |\n",
        "| `close()` | `flush()` を実行し、`raw` に格納されたストリームを閉じる。`close()` の後にバッファに対する操作（読み込みや書き込みなど）で `ValueError` 例外が発生する | `None` |"
      ],
      "metadata": {
        "id": "vFKCP1iGRPvp"
      }
    },
    {
      "cell_type": "markdown",
      "source": [
        "StringIO\n",
        "--------"
      ],
      "metadata": {
        "id": "7Rjmp2qbITmt"
      }
    },
    {
      "cell_type": "markdown",
      "source": [
        "`io.StringIO` は、メモリ上のテキストバッファを利用したテキストストリームの実装である。`io.TextIOBase` を継承している。\n",
        "\n",
        "コンストラクタ:\n",
        "\n",
        "``` python\n",
        "`io.StringIO(initial_value='', newline='\\n')`\n",
        "```\n",
        "\n",
        "| 引数 | 意味 |\n",
        "|:---|:---|\n",
        "| `initial_value` | 初期値となる文字列を指定する |\n",
        "| `newline` | 改行文字をどのようにパースするかを指定する<br /><br />・`None` の場合、入力に含まれる `'\\r\\n'`, `'\\n'`, `'\\r'` をすべて `\\n` に変換する。出力時に改行を変換しない（`\\n` のまま）<br /><br />・`''` を指定した場合、入力の `'\\r\\n'`, `'\\n'`, `'\\r'` を行末として扱うが `'\\n'` に自動変換はせず、出力時に `'\\n'` を自動変換することもない<br /><br />・`'\\n'`, `'\\r'`, `'\\r\\n'` のいずれかを指定した場合、入力時に指定の文字列のみを行末として扱い、出力時に `'\\n'` を指定の文字に自動変換する |\n",
        "\n",
        "`io.StringIO` のプロパティ（読み出し専用）:\n",
        "\n",
        "| プロパティ | 意味 |\n",
        "|:---|:---|\n",
        "| `encoding` | `io.StringIO` においては `None` に固定 |\n",
        "| `errors` | `io.StringIO` においては `None` に固定 |\n",
        "| `newlines` | `io.StringIO` においては `None` に固定 |\n",
        "| `closed` | ストリームが閉じられていた場合 `True` になる |\n",
        "\n",
        "`io.StringIO` のメソッド:\n",
        "\n",
        "| メソッド | 機能 | 戻り値 |\n",
        "|:---|:---|:--:|\n",
        "| `getvalue()` | バッファが保持しているすべての内容を文字列として返す | `str` |\n",
        "| `readable()` | `io.StringIO` においては 、このメソッドは常に `True` を返す | `bool` |\n",
        "| `read(size=-1, /)` | 最大 `size` 文字をバッファから読み込み、一つの `str` にして返す。`size` が負の値または `None` ならば、EOF まで読む | `str` |\n",
        "| `readline(size=-1, /)` | バッファから 1 行読み込んで返す。`size` が指定された場合、最大で `size` 文字が読み込まれる。すでに EOF に達していた場合、空文字列を返す | `str` |\n",
        "| `readlines(hint=-1, /)` | バッファから行のリストを読み込んで返す。読み込んだすべての行のサイズ（文字数）が `hint` の値を超えた場合、それ以上の行は読み込まれない。引<br />数 `hint` の値が 0 以下、および `None` の場合は、`hint` による制限はない<br />※ 反復処理のためなら、この `readlines()` メソッドを呼び出すのではなく、ファイルオブジェクトが 1 行ずつ返すイテレーターであることを利用すべき | `list` |\n",
        "| `writable()` | `io.StringIO` においては 、このメソッドは常に `True` を返す | `bool` |\n",
        "| `write(s, /)` | 文字列 `s` をバッファに書き出し、書き出された文字数を返す | `int` |\n",
        "| `writelines(lines, /)` | バッファに行のリストを書き込む。行区切り文字は追加されないので、書き込む各行の行末に行区切り文字を含ませるのが一般的である | `None` |\n",
        "| `seekable()` | `io.StringIO` においては 、このメソッドは常に `True` を返す | `bool` |\n",
        "| `tell()` | 現在のストリーム位置を返す | `int` |\n",
        "| `seek(offset, whence=0 /)` | ストリーム位置を、`whence` で示される基準点にオフセット値 `offset` を足した位置に変更し、変更後の位置（先頭からの位置）を返す。`whence` の値は<br />以下の通り<br /><br />・`os.SEEK_SET` または 0: 基準点はストリームの先頭。`offset` には 0 または `tell()` が返す値を指定できる<br /><br />・`os.SEEK_CUR` または 1: 基準点は現在のストリーム位置。`offset` には 0 のみ指定できる（つまり何もしない）<br /><br />・`os.SEEK_END` または 2: 基準点はストリームの末尾。`offset` には 0 のみ指定できる | `int` |\n",
        "| `truncate(size=None, /)` | バッファのサイズを、指定された `size` バイト（または `size` が指定されていない場合、現在位置）に変更する。現在のストリーム位置は変更されない。<br />このサイズ変更により、現在のバッファサイズを変更できる（拡大はできない？）。新しいバッファサイズが返される | `int` |\n",
        "| `flush()` | 何も起こらない | `None` |\n",
        "| `close()` | テキストバッファを破棄する。`close()` の後にバッファに対する操作（読み込みや書き込みなど）で `ValueError` 例外が発生する | `None` |"
      ],
      "metadata": {
        "id": "KpTWBXReIULk"
      }
    },
    {
      "cell_type": "code",
      "source": [
        "import io\n",
        "\n",
        "with io.StringIO(\"Spam\") as stream:\n",
        "    assert stream.tell() == 0  # 現在位置（最初は 0）\n",
        "    assert stream.read(2) == \"Sp\"  # 指定サイズだけ読みだす\n",
        "    assert stream.seek(0, io.SEEK_END) == 4  # ストリーム位置を末尾に変更\n",
        "    stream.write(\" and eggs!\\n\")  # ストリームに文字列を書き込む\n",
        "    assert stream.getvalue() == \"Spam and eggs!\\n\"\n",
        "    stream.write(\"Spam and ham!\")  # ストリームに文字列を書き込む\n",
        "    assert stream.seek(0) == 0  # ストリーム位置を先頭に変更\n",
        "    for line in stream:\n",
        "        print(line.rstrip())\n",
        "\n",
        "print(\"-\" * 40)\n",
        "assert stream.closed  # with 文を抜けるとき close() が実行される\n",
        "try:\n",
        "    stream.write(\"test\")  # 閉じたあとに操作しようとすると、エラーが発生する\n",
        "except ValueError as err:\n",
        "    print(f\"{type(err).__name__}: {err}\")"
      ],
      "metadata": {
        "colab": {
          "base_uri": "https://localhost:8080/"
        },
        "id": "aWA8Npkfc_s5",
        "outputId": "287de7ba-7534-4df5-8944-45a163aeeb42"
      },
      "execution_count": null,
      "outputs": [
        {
          "output_type": "stream",
          "name": "stdout",
          "text": [
            "Spam and eggs!\n",
            "Spam and ham!\n",
            "----------------------------------------\n",
            "ValueError: I/O operation on closed file\n"
          ]
        }
      ]
    },
    {
      "cell_type": "markdown",
      "source": [
        "TextIOWrapper\n",
        "-------------"
      ],
      "metadata": {
        "id": "MKzF0ujtlef6"
      }
    },
    {
      "cell_type": "markdown",
      "source": [
        "クラス `io.TextIOWrapper` は、クラス `io.BufferedReader` および `io.BufferedWriter`、`io.BufferedRandom` に対して修正を加えることなく、インタフェースを変更するラッパークラスであり、バッファされたテキストストリームの実装である。`io.TextIOBase` を継承している。\n",
        "\n",
        "コンストラクタ:\n",
        "\n",
        "``` python\n",
        "io.TextIOWrapper(buffer, encoding=None, errors=None, newline=None, line_buffering=False, write_through=False)\n",
        "```\n",
        "\n",
        "各引数は、それぞれ対応するインスタンス属性の値を指定する。\n",
        "\n",
        "`io.TextIOWrapper` のプロパティ（読み出し専用）:\n",
        "\n",
        "| プロパティ | 意味 |\n",
        "|:---|:---|\n",
        "| `buffer` | `io.BufferedIOBase` の具象クラスのインスタンスである、バッファ付きバイナリストリーム |\n",
        "| `encoding` | ファイルのエンコードやデコードに使われるエンコーディングの名前（ `'utf-8'` など）。コンストラクタの引数に `'locale'` または `None` を指定した場合、システムの<br />ロケールの文字コード（`locale.getencoding()` で与えられる文字コード）となる<br />・Windows: ANSI（日本語環境では `'cp932'`）<br />・Unix 系: `'utf-8'` |\n",
        "| `errors` | エンコードやデコードでのエラーをどのように扱うかを指定する。コンストラクタの引数に `None`（デフォルト）を指定した場合、このプロパティは `'strict'` となる<br /><br />・`'strict'`: エンコーディングエラーがあると `ValueError` 例外を発生させる<br /><br />・`'ignore'`: エラーを無視する<br /><br />・`'replace'`: 不正な形式のデータが存在した場所に（`?` のような）置換マーカーを挿入する |\n",
        "| `newline` | `io.StringIO` の同名の引数と同じように働く。ただし、`None` の場合、入出力に含まれる改行を `\\n` と相互に自動変換する。たとえば Windows では入力に含まれる<br /> `'\\r\\n'`（CR+LF）は Python 側で `'\\n'`（LF）に変換され、出力する際は `'\\n'` は `'\\r\\n'` に変換される |\n",
        "| `line_buffering` | `True` の場合、書き込み時に `'\\n'` や `'\\r'` が含まれると、`flush()` が暗黙的に実行され、ファイルへの書き込みが行われる |\n",
        "| `write_through` | `True` の場合、`write()` の呼び出しで即座にファイルへの書き込みが行われる |\n",
        "\n",
        "また、`io.BufferedIOBase` の具象クラスのインスタンスのファイルに関するプロパティ（`closed`、`mode`、`name`）を自身のプロパティとして保持する。\n",
        "\n",
        "`io.TextIOWrapper` のメソッド:\n",
        "\n",
        "| メソッド | 機能 | 戻り値 |\n",
        "|:---|:---|:--:|\n",
        "| `detach()` | `buffer` に格納されたバッファを `io.TextIOWrapper` から分離して返す。その後は`io.TextIOWrapper` は使用不能状態になる | `BufferedIOBase` |\n",
        "| `reconfigure(*, encoding=None,`<br />` errors=None, newline=None,`<br />` line_buffering=None,`<br />` write_through=None)` | このテキストストリームを、 `encoding`, `errors`, `newline`, `line_buffering`, `write_through` を新しい設定として再設定する。ただし、ストリーム<br />からすでにデータが読み出されていた場合、`encoding` と `newline` は変更できない。一方で、書き込み後に `encoding` を変更することはでき<br />る。指定されなかったパラメータは現在の設定が保持される。このメソッドは、新しい設定を適用するまえにストリームをフラッシュする | `None` |\n",
        "| `readable()` | `buffer` に格納されたバッファが読み出し可能なときに `True` を返す | `bool` |\n",
        "| `read(size=-1, /)` | 最大 `size` 文字をストリームから読み込み、一つの `str` にして返す。`size` が負の値または `None` ならば、EOF まで読む | `str` |\n",
        "| `readline(size=-1, /)` | ストリームから 1 行読み込んで返す。`size` が指定された場合、最大で `size` 文字が読み込まれる。行末文字は常に `'\\n'` となる。空行を読<br />み込んだ場合は `'\\n'` を返し、すでに EOF に達していた場合は空文字列 `''` を返す | `str` |\n",
        "| `readlines(hint=-1, /)` | バッファから行のリストを読み込んで返す。読み込んだすべての行のサイズ（文字数）が `hint` の値を超えた場合、それ以上の行は読み込ま<br />れない。引数 `hint` の値が 0 以下、および `None` の場合は、`hint` による制限はない<br />※ 反復処理のためなら、この `readlines()` メソッドを呼び出すのではなく、ファイルオブジェクトが 1 行ずつ返すイテレーターであることを<br />　利用すべき | `list` |\n",
        "| `writable()` | `buffer` に格納されたバッファが書き込み可能なときに `True` を返す | `bool` |\n",
        "| `write(s, /)` | 文字列 `s` をストリームに書き出し、書き出された文字数を返す | `int` |\n",
        "| `writelines(lines, /)` | バッファに行のリストを書き込む。行区切り文字は追加されないので、書き込む各行の行末に行区切り文字を含ませるのが一般的である | `None` |\n",
        "| `seekable()` | `io.TextIOWrapper` においては 、このメソッドは常に `True` を返す | `bool` |\n",
        "| `tell()` | 現在のストリーム位置を返す | `int` |\n",
        "| `seek(cookie,`<br />` whence=os.SEEK_SET, /)` | ストリームの位置を設定し、新しいストリームの位置を返す。次の引数の組み合わせにより、4 つの操作がサポートされる<br /><br />・`seek(0, os.SEEK_SET)`: ストリームの先頭まで戻る<br /><br />・`seek(cookie, os.SEEK_SET)`: 以前の位置を復元する。`cookie` は、`tell()` によって返される数値である必要がある<br /><br />・`seek(0, os.SEEK_END)`: ストリームの最後まで進む<br /><br />・`seek(0, os.SEEK_CUR)`: 現在のストリーム位置を変更しない | `int` |\n",
        "| `truncate(size=None, /)` | ストリームのサイズを、指定された `size` バイト（または `size` が指定されていない場合、現在位置）に変更する。現在のストリーム位置は変<br />更されない。このサイズ変更により、現在のファイルサイズを拡大または縮小させることができる。拡大の場合には、新しいファイル領域の<br />内容は空白で埋められる。新しいファイルサイズが返される | `int` |\n",
        "| `flush()` | `buffer` の `flush()` メソッドを実行した効果を得る（結果的にファイルへの書き込みが行われる） | `None` |\n",
        "| `close()` | `flush()` を実行し、ストリームを閉じる。`close()` の後にバッファに対する操作（読み込みや書き込みなど）で `ValueError` 例外が発生する | `None` |"
      ],
      "metadata": {
        "id": "eb49p4CRlfp8"
      }
    },
    {
      "cell_type": "markdown",
      "source": [
        "標準入力・標準出力・標準エラー出力\n",
        "----------------------------------"
      ],
      "metadata": {
        "id": "_4OTzFHiHHTQ"
      }
    },
    {
      "cell_type": "markdown",
      "source": [
        "`sys.stdin` および `sys.stdout`、`sys.stderr` はそれぞれ C で書かれた標準入力、標準出力、標準エラー出力のファイルオブジェクトである。`sys.stdin` は読み込み専用であり、`sys.stdout` および `sys.stderr` は書き込み専用である。"
      ],
      "metadata": {
        "id": "xh3PmMDWHIKb"
      }
    },
    {
      "cell_type": "code",
      "source": [
        "import sys\n",
        "import io\n",
        "assert isinstance(sys.stdin, io.TextIOWrapper)\n",
        "assert not sys.stdout.readable()  # sys.stdout は書き込み専用\n",
        "sys.stdout.write(\"test\")"
      ],
      "metadata": {
        "id": "4octTw03aV_G",
        "outputId": "df081a16-d668-4c25-d520-6636e5d8536c",
        "colab": {
          "base_uri": "https://localhost:8080/"
        }
      },
      "execution_count": null,
      "outputs": [
        {
          "output_type": "stream",
          "name": "stdout",
          "text": [
            "test"
          ]
        }
      ]
    },
    {
      "cell_type": "markdown",
      "source": [
        "`sys.stdout.write()` は、組み込みの `print()` 関数で置き換えることができる。 `print()` 関数は、デフォルトで末尾に改行を入れることに注意する。`end` 引数に空文字列を指定して `print(text, end='')` のように呼び出せば、末尾に改行を入れないようになる。\n",
        "\n",
        "`sys.stdin.read()` は、組み込みの `input()` 関数で置き換えることができる。 `sys.stdin.read()` は <kbd>Ctrl+D</kbd> の入力で入力を終了するが、`input()` 関数は Enter の入力で入力を終了することに注意する。\n",
        "\n",
        "次のコードは、`sys.stdin`、`sys.stdout`、`sys.stderr` の実装を Python で実現するものである。\n",
        "\n",
        "``` python\n",
        "import io\n",
        "import os\n",
        "stdin = io.TextIOWrapper(\n",
        "    io.BufferedReader(\n",
        "        io.FileIO(0, \"r\", closefd=False),\n",
        "    ),\n",
        "    encoding=\"locale\",\n",
        "    line_buffering=os.isatty(0),\n",
        ")\n",
        "stdout = io.TextIOWrapper(\n",
        "    io.BufferedWriter(\n",
        "        io.FileIO(1, \"w\", closefd=False),\n",
        "    ),\n",
        "    encoding=\"locale\",\n",
        "    line_buffering=os.isatty(1),\n",
        ")\n",
        "stderr = io.TextIOWrapper(\n",
        "    io.BufferedWriter(\n",
        "        io.FileIO(2, \"w\", closefd=False),\n",
        "    ),\n",
        "    encoding=\"locale\",\n",
        "    line_buffering=True,\n",
        ")\n",
        "```\n",
        "\n",
        "`io.FileIO()` の引数として、それぞれファイルディスクリプタ 0, 1, 2 を渡している。また、`closefd=False` を指定することで、ストリームを閉じても標準入力などが閉じないようにしている。\n",
        "\n",
        "`io.TextIOWrapper` の `encoding` 引数は、システムのロケールエンコーディングを指定している。`locale` は Python 3.10 から使用できるようになった。また、`os.isatty(fd)` 関数はファイルディスクリプタ `fd` がオープンされていて、tty（のような）端末である場合（ファイル等にリダイレクトされていない場合）に `True` を返す結果、`line_buffering` 引数が `True` となる（標準エラー出力では常に `True` である）。\n",
        "\n",
        "Windows では、ロケールエンコーディングがデフォルトでは CP932 であるため、Python の `print()` 関数などで標準出力を使用すると UTF-8 から CP932 への変換が行われる。この時に CP932 にない文字コードがあれば `UnicodeEncodeError` 例外が発生する。次のようにすれば、標準出力のエンコーディングを変更できる。\n",
        "\n",
        "``` python\n",
        "sys.stdout = io.TextIOWrapper(sys.stdout.buffer, encoding='utf-8', line_buffering=os.isatty(1))\n",
        "```\n",
        "\n",
        "あるいは、`sys.stdout` のエンコーディングを変更することもできる。\n",
        "\n",
        "``` python\n",
        "sys.stdout.reconfigure(encoding='utf-8')\n",
        "```\n",
        "\n",
        "`io.TextIOWrapper` も `io.StringIO` も `io.TextIOBase` を継承し、共通するインターフェースを持つので、標準入力・標準出力を `io.StringIO` と差し替えることができる。"
      ],
      "metadata": {
        "id": "BvsyEyyjwhTk"
      }
    },
    {
      "cell_type": "markdown",
      "source": [
        "contextlib.redirect_stdout\n",
        "--------------------------"
      ],
      "metadata": {
        "id": "DJ6AdKv6Wz65"
      }
    },
    {
      "cell_type": "markdown",
      "source": [
        "``` python\n",
        "contextlib.redirect_stdout(new_target)\n",
        "contextlib.redirect_stderr(new_target)\n",
        "```\n",
        "\n",
        "`contextlib` モジュールが提供するこれらの関数は、それぞれ標準出力 `sys.stdout`、 標準エラー出力 `sys.stderr` を `new_target` にリダイレクトするコンテキストマネージャーである。\n",
        "\n",
        "リダイレクト先を null デバイス `os.devnull` とすれば、利用する関数やメソッドの中身に手を加えることなく、一時的に出力を無効化することができる:"
      ],
      "metadata": {
        "id": "6KJJDYtGW2MG"
      }
    },
    {
      "cell_type": "code",
      "source": [
        "import os\n",
        "from contextlib import redirect_stdout\n",
        "\n",
        "with redirect_stdout(open(os.devnull, 'w')):\n",
        "    import this  # The Zen of Python"
      ],
      "metadata": {
        "id": "Wtxrrnw-YKOh"
      },
      "execution_count": null,
      "outputs": []
    },
    {
      "cell_type": "markdown",
      "source": [
        "open() 関数\n",
        "-----------"
      ],
      "metadata": {
        "id": "SRX8t4KgeCHj"
      }
    },
    {
      "cell_type": "markdown",
      "source": [
        "テキストストリームおよびバイナリーストリームを作る一番簡単な方法は、組み込み関数 `open()` を利用することである。`open()` の引数は次のとおり:\n",
        "\n",
        "``` python\n",
        "open(file, mode='r', buffering=-1, encoding=None, errors=None, newline=None)\n",
        "```\n",
        "\n",
        "`file` は、開くファイルを表す path-like オブジェクトである。\n",
        "\n",
        "`mode` は、Raw I/O に関する指定とバイナリ／テキストに関する指定の 2 種類に分けられる。バイナリ／テキストに関する指定は `'b'`（バイナリ）と `'t'`（テキスト）の 2 つであり、デフォルトは `'t'` となる。\n",
        "\n",
        "`mode` の指定と、`buffering` の指定の組み合わせにより、`open()` 関数が返すファイルオブジェクトは、次のようになる。\n",
        "\n",
        "| `mode` | `buffering` | `open()` 関数が返すファイルオブジェクト | 備考 |\n",
        "|:--:|:--:|:---|:---|\n",
        "| `'rb'` | 0 | `io.FileIO(os.fspath(file), \"r\")` | `'wb'`, `'xb'`, `'ab'`, `'r+b'`, `'w+b'`, `'a+b'` も同様 |\n",
        "| `'rb'` | -1 か 1 より<br />大きい整数 | `io.BufferedReader(io.FileIO(os.fspath(file), \"r\"), buffer_size)` | `buffer_size` は `buffering == -1` なら `io.DEFAULT_BUFFER_SIZE`<br />そうでないなら `buffering` の値 |\n",
        "| `'wb'` | -1 か 1 より<br />大きい整数 | `io.BufferedWriter(io.FileIO(os.fspath(file), \"w\"), buffer_size)` | `'xb'`, `'ab'` も同様。`buffer_size` は上と同じ |\n",
        "| `'r+b'` | -1 か 1 より<br />大きい整数 | `io.BufferedRandom(io.FileIO(os.fspath(file), \"r+\"), buffer_size)` | `'w+b'`, `'a+b'` も同様。`buffer_size` は上と同じ |\n",
        "| `'r'` | 1 | `io.TextIOWrapper(io.BufferedReader(io.FileIO(os.fspath(file), \"r\")), encoding, errors, newline,`<br />` line_buffering=True)` | |\n",
        "| `'w'` | 1 | `io.TextIOWrapper(io.BufferedWriter(io.FileIO(os.fspath(file), \"w\")), encoding, errors, newline,`<br />` line_buffering=True)` | `'x'`, `'a'` も同様 |\n",
        "| `'r+'` | 1 | `io.TextIOWrapper(io.BufferedRandom(io.FileIO(os.fspath(file), \"r+\")), encoding, errors, newline,`<br />` line_buffering=True)` | `'w+'`, `'a+'` も同様 |\n",
        "| `'r'` | -1 | `io.TextIOWrapper(io.BufferedReader(io.FileIO(os.fspath(file), \"r\")), encoding, errors, newline)` | |\n",
        "| `'w'` | -1 | `io.TextIOWrapper(io.BufferedWriter(io.FileIO(os.fspath(file), \"w\")), encoding, errors, newline)` | `'x'`, `'a'` も同様 |\n",
        "| `'r+'` | -1 | `io.TextIOWrapper(io.BufferedRandom(io.FileIO(os.fspath(file), \"r+\")), encoding, errors, newline)` | `'w+'`, `'a+'` も同様 |\n",
        "\n",
        "バイナリモードの場合、`buffering=0` の指定によりバッファリングが無効になる。バイナリモードでは、引数 `encoding` および `errors`、`newline` は使われない。\n",
        "\n",
        "テキストモードの場合、`buffering=1` の指定により行単位でのバッファリングが有効になる。テキストモードでは、引数 `encoding` および `errors`、`newline` は、そのまま `io.TextIOWrapper` のコンストラクタの引数として渡される。**必ず `encoding='utf-8'` のようにエンコーディングを指定すること**。未指定の場合、OS 環境に依存して決まるので（Windows の日本語環境では、`cp932`）、`UnicodeDecodeError` が発生しやすい。\n",
        "\n",
        "空のファイルを作成したい場合は、with 文を使って、書き込みモード（`mode='w'` または `mode='x'`）で `open()` を呼び出し、with 文の本体は pass 文のみとすればよい。\n",
        "\n",
        "``` python\n",
        "with open(file, 'w'):\n",
        "    pass\n",
        "```\n",
        "\n",
        "`UnicodeDecodeError` などのファイル操作中のエラーを捕捉したい場合は、次のようにする:\n",
        "\n",
        "``` python\n",
        "def read_file(file):\n",
        "    with open(file, encoding=\"utf-8\") as f:\n",
        "        try:\n",
        "            content = f.read()\n",
        "            return content\n",
        "        except UnicodeDecodeError:\n",
        "            # 何らかの処理\n",
        "```"
      ],
      "metadata": {
        "id": "M5sdQQll1Y4h"
      }
    },
    {
      "cell_type": "markdown",
      "source": [
        "## パスオブジェクトのメソッド"
      ],
      "metadata": {
        "id": "NcranhmUk0_8"
      }
    },
    {
      "cell_type": "markdown",
      "source": [
        "`pathlib.Path` は `open()` 関数の代替となるメソッドを持つ。\n",
        "\n",
        "| メソッド | 機能 | 戻り値 |\n",
        "|:---|:---|:---|\n",
        "| `open(mode='r', buffering=- 1, encoding=None,`<br />` errors=None, newline=None)` | パスがファイルを指していた場合、組み込み関数 `open()` のようにパスが指しているファイルを開く | ファイルオ<br />ブジェクト |\n",
        "| `read_text(encoding=None, errors=None)` | パスがファイルを指していた場合、その内容全体を文字列として返し、ファイルを閉じる | `str` |\n",
        "| `read_bytes()` | パスがファイルを指していた場合、その内容全体をバイト列として返し、ファイルを閉じる | `bytes` |\n",
        "| `write_text(data, encoding=None, errors=None,`<br />` newline=None)` | パスがファイルを指していた場合、ファイルをテキストモードで開き、`data` を書き込み、ファイルを閉じる。書き込んだ文字数を返す | `int` |\n",
        "| `write_bytes(data)` | パスがファイルを指していた場合、ファイルをバイトモードで開き、data を書き込み、ファイルを閉じる。書き込んだバイト数を返す | `int` |\n",
        "\n",
        "`read_text()`、`read_bytes()`、`write_text()`、`write_bytes()` は必ずファイルを閉じるので、with 文を使う必要がない。`write_text()`、`write_bytes()` は追記ではなく上書きとなり、元の内容は削除されるので注意。"
      ],
      "metadata": {
        "id": "UNyMyB3ok12b"
      }
    },
    {
      "cell_type": "code",
      "source": [
        "from pathlib import Path\n",
        "\n",
        "p = Path(\"./sample_data/README.md\", encoding=\"utf-8\")\n",
        "with p.open() as f:\n",
        "    print(f\"{f.readline()=}\")\n",
        "text = p.read_text()\n",
        "print(f\"{len(text)=}\")"
      ],
      "metadata": {
        "colab": {
          "base_uri": "https://localhost:8080/"
        },
        "id": "DfX0ki7aEa6Z",
        "outputId": "2d609806-26ba-42ff-8bb0-58ebef439b75"
      },
      "execution_count": null,
      "outputs": [
        {
          "output_type": "stream",
          "name": "stdout",
          "text": [
            "f.readline()='This directory includes a few sample datasets to get you started.\\n'\n",
            "len(text)=930\n"
          ]
        }
      ]
    },
    {
      "cell_type": "markdown",
      "source": [
        "fileinput\n",
        "---------"
      ],
      "metadata": {
        "id": "oPnkm3deoYuu"
      }
    },
    {
      "cell_type": "markdown",
      "source": [
        "標準ライブラリの `fileinput` モジュールは、複数のファイルを 1 つずつ開いて 1 行ずつ読み込む反復処理に便利な関数を提供する。\n",
        "\n",
        "``` python\n",
        "fileinput.input(files=None, inplace=False, backup='', *, mode='r', openhook=None, encoding=None, errors=None)\n",
        "```\n",
        "\n",
        "この関数は、シーケンス `files` を処理の対象とする `fileinput.FileInput` インスタンスを作成して返す。\n",
        "\n",
        "  * `fileinput.FileInput` インスタンスは、シーケンスからファイルを 1 つずつ開いて 1 行ずつ返すイテレーターである。次のファイルを開く前に現在のファイルは閉じられる。\n",
        "  * `fileinput.FileInput` インスタンスは、コンテキストマネージャーとして使用できる。 with 文のブロックの完了時に、現在開いているファイルは閉じられ、シーケンスが空にされる。\n",
        "\n",
        "キーワード専用引数 `mode` と `encoding` と `errors` は、ファイルを開く処理の際に `open()` 関数の同名の引数に渡される（ただし `encoding` と `errors` は Python 3.10 で追加された）。このほかの引数については以下のとおり。\n",
        "\n",
        "| 引数 | 意味 |\n",
        "|:---|:---|\n",
        "| `files` | path-like オブジェクトのシーケンスを指定する。省略するか `None` を指定した場合、コマンドライン引数で与えられた全てのファイルが対象となる。ファイル名として `'-'` が与えら<br />れた場合、および、コマンドライン引数でファイルを指定しなかった場合は、標準入力から 1 行ずつ読み込む |\n",
        "| `inplace` | `True` の場合、入力ファイルはバックアップファイルに移動され、標準出力が入力ファイルに設定される |\n",
        "| `backup` | 拡張子を指定すると、バックアップファイルの拡張子として利用される。デフォルトの拡張子は `'.bak'` になっている |\n",
        "| `openhook` | キーワード専用引数。`open()` 関数に代わる関数を指定できる。この関数は、2 つの引数 `filename` と `mode` をとり、ファイルオブジェクトを返す関数でなければならない |\n",
        "\n",
        "`mode`、`inplace`、`openhook` 引数は、標準入力を読み込んでいる間は無効にされる。\n",
        "\n",
        "`inplace` と `openhook` を同時に使うことはできないことに注意する。\n",
        "\n",
        "`fileinput` モジュールは、 `fileinput.input()` 関数によって作られた `fileinput.FileInput` インスタンスをこのモジュールの関数群が利用するグローバルな状態として扱う。以下の関数は、 `fileinput.FileInput` インスタンスのメソッドを利用している。\n",
        "\n",
        "| 関数 | 機能 | 戻り値 |\n",
        "|:---|:---|:---|\n",
        "| `fileinput.filename()` | 現在読み込み中のファイル名を返す。1 行目が読み込まれる前は `None` を返す | `str` &#124; `None` |\n",
        "| `fileinput.fileno()` | 現在のファイルのファイルディスクリプタを返す。ファイルがオープンされていない場合（最初の行の前、ファイルとファイルの間）は `-1` を返す | `int` |\n",
        "| `fileinput.lineno()` | 最後に読み込まれた行の、累積した行番号を返す。1 行目が読み込まれる前は `0` を返す | `int` |\n",
        "| `fileinput.filelineno()` | 現在のファイル中での行番号を返す。1 行目が読み込まれる前は `0` を返す | `int` |\n",
        "| `fileinput.isfirstline()` | 最後に読み込まれた行がファイルの 1 行目なら `True` 、そうでなければ `False` を返す | `bool` |\n",
        "| `fileinput.isstdin()` | 最後に読み込まれた行が `sys.stdin` から読み込まれていれば `True`、そうでなければ `False` を返す | `bool` |\n",
        "| `fileinput.nextfile()` | 現在のファイルを閉じる。次の繰り返しでは（存在すれば）次のファイルの最初の行が読み込まれる。閉じたファイルの読み込まれなかった行は、<br />累積の行数にカウントされない | `None` |\n",
        "| `fileinput.close()` | 現在開いているファイルを閉じ、シーケンスを空にする。with 文を使用する場合は、この関数を呼び出す必要はない | `None` |\n",
        "\n",
        "これらの関数があるため、 `fileinput.FileInput` インスタンスは with 文のブロックの中でイテレーターとしてだけ利用される。"
      ],
      "metadata": {
        "id": "v3ARUkIdobtt"
      }
    },
    {
      "cell_type": "code",
      "source": [
        "import fileinput\n",
        "import glob\n",
        "files = glob.glob(\"*.txt\")\n",
        "with fileinput.input(files=(\"sample_data/README.md\", \"sample_data/california_housing_test.csv\"), encoding=\"utf-8\") as fi:\n",
        "    for line in fi:\n",
        "        if fileinput.isfirstline():\n",
        "            print(f\"{fileinput.filename()}:\")\n",
        "            print(line.rstrip())\n",
        "            fileinput.nextfile()\n",
        "print(f\"{fileinput.lineno()=}\")"
      ],
      "metadata": {
        "id": "YCWvAyzeofs1",
        "colab": {
          "base_uri": "https://localhost:8080/"
        },
        "outputId": "35abab57-4b72-473d-d36a-6dbbd848e1e0"
      },
      "execution_count": null,
      "outputs": [
        {
          "output_type": "stream",
          "name": "stdout",
          "text": [
            "sample_data/README.md:\n",
            "This directory includes a few sample datasets to get you started.\n",
            "sample_data/california_housing_test.csv:\n",
            "\"longitude\",\"latitude\",\"housing_median_age\",\"total_rooms\",\"total_bedrooms\",\"population\",\"households\",\"median_income\",\"median_house_value\"\n",
            "fileinput.lineno()=2\n"
          ]
        }
      ]
    },
    {
      "cell_type": "markdown",
      "source": [
        "``` python\n",
        "fileinput.hook_compressed(filename, mode, *, encoding=None, errors=None)\n",
        "```\n",
        "\n",
        "この関数は、`fileinput.input()` の `openhook` 引数に渡せる。 `gzip` や `bzip2` で圧縮された（拡張子が `'.gz'` や `'.bz2'` の）ファイルを透過的に開く。ファイルの拡張子が `'.gz'` や `'.bz2'` でない場合は、通常通りファイルが開かれる。\n",
        "\n",
        "使用例: `fi = fileinput.FileInput(openhook=fileinput.hook_compressed, encoding=\"utf-8\")`"
      ],
      "metadata": {
        "id": "XyDxHDBEojtn"
      }
    },
    {
      "cell_type": "markdown",
      "source": [
        "chardet\n",
        "-------"
      ],
      "metadata": {
        "id": "-yU2jPrpM_ib"
      }
    },
    {
      "cell_type": "markdown",
      "source": [
        "サードパーティ製の [chardet](https://chardet.readthedocs.io/) パッケージは、文字コードを判定する機能を提供する。ライセンスは LGPL-2.1 license。インストール方法は次のとおり。\n",
        "\n",
        "``` shell\n",
        "pip install chardet\n",
        "```\n",
        "\n",
        "`chardet` では、日本語の主要な文字コードがサポートされる。サポートされる文字コードは公式ドキュメントを参照。\n",
        "\n",
        "  * [Supported encodings](https://chardet.readthedocs.io/en/latest/supported-encodings.html#supported-encodings)\n",
        "\n",
        "`chardet.detect()` 関数は、渡されたバイト列から文字コードを調べ、判定結果を辞書として返す。辞書の `'encoding'` キーに判定された文字コードが格納され、 `'confidence'` キーに判定の信頼度が格納される。"
      ],
      "metadata": {
        "id": "l7nNmd47NOeF"
      }
    },
    {
      "cell_type": "code",
      "source": [
        "import chardet\n",
        "rawdata = '''吾輩は猫である。名前はまだ無い。\n",
        "どこで生れたかとんと見当がつかぬ。何でも薄暗いじめじめした所でニャーニャー泣いていた事だけは記憶している。\n",
        "'''.encode(\"cp932\")\n",
        "chardet.detect(rawdata)"
      ],
      "metadata": {
        "colab": {
          "base_uri": "https://localhost:8080/"
        },
        "id": "ghsiEtSTNfyK",
        "outputId": "5a2dc3ae-536e-4b8b-ff7c-f225c6d3d3ef"
      },
      "execution_count": null,
      "outputs": [
        {
          "output_type": "execute_result",
          "data": {
            "text/plain": [
              "{'encoding': 'SHIFT_JIS', 'confidence': 0.99, 'language': 'Japanese'}"
            ]
          },
          "metadata": {},
          "execution_count": 8
        }
      ]
    },
    {
      "cell_type": "markdown",
      "source": [
        "文字コード CP932 と Shift_JIS の違いは、文字集合に「NEC拡張文字」「IBM拡張文字」「NEC選定IBM拡張文字」が含まれているかいないかである。バイト列にこれらの文字のコードポイントが含まれていなければ、当然 Shift_JIS と判定されることに注意する。\n",
        "\n",
        "与えられたバイト列が短すぎると文字コードの予測ができない。"
      ],
      "metadata": {
        "id": "ERWs6fRNzUuE"
      }
    },
    {
      "cell_type": "code",
      "source": [
        "import chardet\n",
        "rawdata = '吾輩は猫である。名前はまだ無い。'.encode(\"cp932\")\n",
        "chardet.detect(rawdata)"
      ],
      "metadata": {
        "colab": {
          "base_uri": "https://localhost:8080/"
        },
        "id": "NxrrToOLzXkN",
        "outputId": "f08ab2fc-f217-4641-a0b3-b8d0596238e2"
      },
      "execution_count": null,
      "outputs": [
        {
          "output_type": "execute_result",
          "data": {
            "text/plain": [
              "{'encoding': None, 'confidence': 0.0, 'language': None}"
            ]
          },
          "metadata": {},
          "execution_count": 9
        }
      ]
    },
    {
      "cell_type": "markdown",
      "source": [
        "行数の多いファイルの場合、 `chardet.universaldetector.UniversalDetector` クラスを使用したほうが判定の効率が良い。このクラスは以下の属性とメソッドを持つ。\n",
        "\n",
        "| 属性 | 意味 |\n",
        "|:---|:---|\n",
        "| `done` | `True` ならば、インスタンスは文字コードを予測できる状態である |\n",
        "| `result` | `'encoding'`, `'confidence'`, `'language'` キーを含む辞書が格納される。この辞書は文字コードを予測した結果を表す |\n",
        "\n",
        "| メソッド | 機能 | 戻り値 |\n",
        "|:---|:---|:---|\n",
        "| `reset()` | インスタンスを初期状態にリセットする | `None` |\n",
        "| `feed(byte_str)` | 現在のドキュメントの分析を目的としてバイト列 `byte_str` を供給する。このメソッドを呼び出した後に `done` 属性の値をチェックして、さらにインスタンスにデータ<br />を供給する必要があるかどうかを確認するという使い方をする | `None` |\n",
        "| `close()` | 現在のドキュメントの分析をやめて最終的な予測を立てる。`result` 属性を返す | `dict` |\n",
        "\n",
        "以下のコードは、ファイルの文字コードを判定する関数 `detect_encoding()` を定義する:"
      ],
      "metadata": {
        "id": "iETjpnpuS9d1"
      }
    },
    {
      "cell_type": "code",
      "source": [
        "from chardet.universaldetector import UniversalDetector\n",
        "\n",
        "detector = UniversalDetector()\n",
        "\n",
        "def detect_encoding(file):\n",
        "    detector.reset()\n",
        "    with open(file, \"rb\") as f:\n",
        "        for line in f:\n",
        "            detector.feed(line)\n",
        "            if detector.done:\n",
        "                break\n",
        "    detector.close()\n",
        "    return detector.result[\"encoding\"]\n",
        "\n",
        "detect_encoding(\"sample_data/README.md\")"
      ],
      "metadata": {
        "colab": {
          "base_uri": "https://localhost:8080/",
          "height": 35
        },
        "id": "Kjp1IJrFTBtc",
        "outputId": "70e90f27-0940-410c-e4b9-0517243e1c52"
      },
      "execution_count": null,
      "outputs": [
        {
          "output_type": "execute_result",
          "data": {
            "text/plain": [
              "'ascii'"
            ],
            "application/vnd.google.colaboratory.intrinsic+json": {
              "type": "string"
            }
          },
          "metadata": {},
          "execution_count": 10
        }
      ]
    },
    {
      "cell_type": "markdown",
      "source": [
        "tqdm\n",
        "----"
      ],
      "metadata": {
        "id": "SQ_onS-CR2I6"
      }
    },
    {
      "cell_type": "markdown",
      "source": [
        "サードパーティ製パッケージの [tqdm](https://tqdm.github.io/) は、プログレスバー（進捗状況を表現するためのバー）を表示する機能を提供する。重い処理を for 文で回しているときなど、いつ終わるかわからない繰り返し計算の進捗状況を可視化することで計算時間に検討をつけることができる。ライセンスは MIT License と MPL v 2.0 の組み合わせ。インストール方法は次のとおり。\n",
        "\n",
        "``` shell\n",
        "pip install tqdm\n",
        "```\n",
        "\n",
        "`tqdm` のインポートには、3 種類の方法がある。\n",
        "\n",
        "``` python\n",
        "# テキストベースのプログレスバーを表示する場合\n",
        "from tqdm import tqdm\n",
        "\n",
        "# HTML ベースのプログレスバーを表示する場合\n",
        "from tqdm.notebook import tqdm\n",
        "\n",
        "# 自動で環境に合わせる場合\n",
        "from tqdm.auto import tqdm\n",
        "```\n",
        "\n",
        "テキストベースのプログレスバーは、ターミナルのようなテキストベースの環境では問題なく動作するが、Colab 上では表示が崩れることがある。\n",
        "\n",
        "一方、HTML ベースのプログレスバーはスタイリッシュであり、通常、Colab 上では `tqdm.notebook` を使用する。ただし、`tqdm.notebook` を使用したコードはターミナルでは動作しないという問題がある。\n",
        "\n",
        "`tqdm.auto` を使用すると、コードを実行する環境に応じてプログレスバーの種類が適切に選択されるようになる。環境に依存しないコードを書きたい場合には、`tqdm.auto` を使用するとよい。\n",
        "\n",
        "基本的な使い方は、`tqdm` クラスのインスタンスを for ループと一緒に使うことである。"
      ],
      "metadata": {
        "id": "dnw_BSmGuzhy"
      }
    },
    {
      "cell_type": "code",
      "source": [
        "from time import sleep\n",
        "from tqdm.auto import tqdm\n",
        "\n",
        "for _ in tqdm(range(1000)):\n",
        "    sleep(0.001)"
      ],
      "metadata": {
        "colab": {
          "base_uri": "https://localhost:8080/",
          "height": 49,
          "referenced_widgets": [
            "6de28f1c6f3c47e7904cf7b0bba6badd",
            "8287ccdb26d24bd88f4773c7e6585fc6",
            "870b7b5186834f82b5ee75018eda666b",
            "e4129586de5042d780256a553eff6dda",
            "72b3386966ef4e2096a3271b2aebca6f",
            "93cf6c10b543496b9f5ac0dd6ef842d4",
            "e838d4a9a5fa4227aaac58221a1c6af7",
            "d10ba34ba4414df5a4b742e72883a5ee",
            "18ce8d1398cc4169bec7c20bfb090bb3",
            "513a525688b848d9a22cd7afe9ff3b8d",
            "6f2b757867074635ba769688d244a376"
          ]
        },
        "id": "jb9L5mDXW0KO",
        "outputId": "148de580-8c39-4acc-b2bc-14f0fa46367c"
      },
      "execution_count": null,
      "outputs": [
        {
          "output_type": "display_data",
          "data": {
            "text/plain": [
              "  0%|          | 0/1000 [00:00<?, ?it/s]"
            ],
            "application/vnd.jupyter.widget-view+json": {
              "version_major": 2,
              "version_minor": 0,
              "model_id": "6de28f1c6f3c47e7904cf7b0bba6badd"
            }
          },
          "metadata": {}
        }
      ]
    },
    {
      "cell_type": "markdown",
      "source": [
        "コンストラクタの第 1 引数 `iterable` にイテラブルを指定する場合、 `tqdm` インスタンスは `iterable` のアイテムを返すイテラブルとなる。\n",
        "\n",
        "進行状況メッセージは、デフォルトでは次のフォーマットが使用される。\n",
        "\n",
        "　`'{l_bar}{bar}{r_bar}'`\n",
        "\n",
        "  * `l_bar`=`'{desc}: {percentage:3.0f}%|'`\n",
        "  *  `r_bar`=`'| {n_fmt}/{total_fmt} [{elapsed}<{remaining}, ' '{rate_fmt}{postfix}]'`\n",
        "\n",
        "| プレースホルダ | 意味 |\n",
        "|:---|:---|\n",
        "| `{bar}` | プログレスバー |\n",
        "| `{desc}` | 説明文 |\n",
        "| `{percentage:3.0f}` | パーセンテージの書式指定 |\n",
        "| `{n_fmt}` | 現在処理されたアイテムの数 |\n",
        "| `{total_fmt}` | 全体のアイテムの数 |\n",
        "| `{elapsed}` | 経過時間（秒） |\n",
        "| `{remaining}` | 完了までに予想される残り時間（秒） |\n",
        "| `{rate_fmt}` | 処理速度（アイテム/秒） |\n",
        "| `{postfix}` | 追加の統計 |\n",
        "\n",
        "このうち `{desc}: ` と `{postfix}` は、デフォルトでは表示されない。\n",
        "\n",
        "コンストラクタは、進行状況メッセージをカスタマイズするための引数を多数サポートしている。その主なものは次のとおり。\n",
        "\n",
        "| 引数 | 意味 | デフォルト |\n",
        "|:---|:---|:---|\n",
        "| `desc` | `{desc}` に表示される説明文 | `None` |\n",
        "| `total` | `{total_fmt}` に表示される全体のアイテムの数。`None` の場合、`len(iterable)` が使用される。`iterable` 引数を `None`<br />（デフォルト）とする場合は、`total` を指定する必要がある。この場合、`tqdm` は整数を返すイテラブルとなる | `None` |\n",
        "| `leave` | `False` の場合、処理完了後にプログレスバーを非表示にする | `True` |\n",
        "| `file` | 進行状況メッセージを出力先を指定する。`None` の場合は、`sys.stderr` が使用される | `None` |\n",
        "| `ncols` | 進行状況メッセージ全体の幅を 0 以上の整数で指定できる。指定した場合、この幅に収まるようにプログレスバーのサイ<br />ズが動的に変更される | `None` |\n",
        "| `mininterval` | 進行状況表示の最小更新間隔（秒） | `0.1` |\n",
        "| `disable` | `True` の場合、進行状況メッセージ全体を非表示にする | `False` |\n",
        "| `unit` | `{rate_fmt}` に使用されるアイテムの単位を指定する | `'it'` |\n",
        "| `unit_scale` | `True` の場合、`{n_fmt}` と `{total_fmt}` がキロ、メガなどの単位でスケールされる | `False` |\n",
        "| `bar_format` | 出力の書式設定を指定する。`bar_format` の変更はパフォーマンスに影響を与える可能性がある | `'{l_bar}{bar}{r_bar}'` |\n",
        "| `initial` | 進行状況の初期値を指定する | `0` |\n",
        "| `position` | 複数のプログレスバーを使う場合に、プログレスバーの縦位置を指定できる | `None` |\n",
        "| `postfix` | `{postfix}` に表示される追加の統計。文字列または辞書が使える | `None` |\n",
        "| `colour` | プログレスバーの色を文字列で指定する（e.g. `'green'`, `'00ff00'`） | `None` |\n",
        "\n",
        "次のコードは、`desc` 引数、`unit` 引数、`postfix` 引数を指定して進行状況メッセージをカスタマイズする例である。"
      ],
      "metadata": {
        "id": "e3AEqet3R25H"
      }
    },
    {
      "cell_type": "code",
      "source": [
        "from time import sleep\n",
        "from tqdm.auto import tqdm\n",
        "\n",
        "for i in tqdm(range(1000), desc=\"Download\", unit=\"B\", unit_scale=True, postfix={\"loss\": 1.2}):\n",
        "    sleep(0.001)"
      ],
      "metadata": {
        "colab": {
          "base_uri": "https://localhost:8080/",
          "height": 49,
          "referenced_widgets": [
            "beba29e399584e0b997c0bb1dd621af5",
            "c36b403c90934061b8e8e946e00c03ea",
            "85390fc2dcfb47a88edd1e5733837e17",
            "765fb72e10ef41dfb61837a8c12f0d44",
            "4734848cbc9548a2b641d94bd45689d9",
            "0ba3b8fcf4a049b186b861e6f4751d4d",
            "f7ac6275fff34a858fdc96e23dd27924",
            "0fd1a90d8f704474a12503100ad1a79b",
            "bf20d653c8f448e1854d4a32d8c98832",
            "c7cd1901188748a29b813b6866c0a70a",
            "dd88d85f24f644c3b5bec5c03981ebe6"
          ]
        },
        "id": "oJPOfN2GV8Xj",
        "outputId": "4f4b3734-3741-4f8f-b92c-c92dcc27da85"
      },
      "execution_count": null,
      "outputs": [
        {
          "output_type": "display_data",
          "data": {
            "text/plain": [
              "Download:   0%|          | 0.00/1.00k [00:00<?, ?B/s, loss=1.2]"
            ],
            "application/vnd.jupyter.widget-view+json": {
              "version_major": 2,
              "version_minor": 0,
              "model_id": "beba29e399584e0b997c0bb1dd621af5"
            }
          },
          "metadata": {}
        }
      ]
    },
    {
      "cell_type": "markdown",
      "source": [
        "コンストラクタの第 1 引数にジェネレーターを渡す場合は、`len()` 関数ではジェネレーターが生成するアイテムの総数を取得できないため、`{total_fmt}` と `{remaining}` が表示されないという問題がある。ジェネレーターが生成するアイテムの総数がわかっているならば、`total` 引数にその数を指定すると `{total_fmt}` と `{remaining}` が表示されるようになる。"
      ],
      "metadata": {
        "id": "DYiUQJrmPlH9"
      }
    },
    {
      "cell_type": "code",
      "source": [
        "from time import sleep\n",
        "from tqdm.auto import tqdm\n",
        "\n",
        "gen1 = (x for x in range(1000))\n",
        "# total を指定しないと「全体のアイテムの数」「完了までに予想される残り時間」が表示されない\n",
        "for _ in tqdm(gen1):\n",
        "    sleep(0.001)\n",
        "gen2 = (x for x in range(1000))\n",
        "# total を指定すると「全体のアイテムの数」「完了までに予想される残り時間」が表示されるようになる\n",
        "for _ in tqdm(gen2, total=1000):\n",
        "    sleep(0.001)"
      ],
      "metadata": {
        "colab": {
          "base_uri": "https://localhost:8080/",
          "height": 81,
          "referenced_widgets": [
            "01652958672d408da054997be7cf772b",
            "3bf5b7c5b8014514824f2ee1b1c4ca19",
            "53a143f9b1614393b537bc5090ef44c5",
            "76803fd179334a9f82212faa71662ae8",
            "45e079bed8274b5e9898801ff1022509",
            "1ea93d3cb9d949b2b52bba61157534bd",
            "171349314a4148cbbe9f7e65765575cf",
            "794eb17eb5e040058b6738daaa775c70",
            "7ec178a84185405cbce5572483617e06",
            "46465488b79b4344be141e4479ebe5fe",
            "dffea9b705ec4b11ad3dc7c987fca13d",
            "3ec091796e6849d993326875592f621a",
            "4fa1478386c141bab46aab372d3a22a1",
            "7d0daef2d4ad493783bb5ddb128748f5",
            "a9454157c68c4843a64fdb34cdee542c",
            "fdef0a0ef21b46eb81be708f5eceb7fc",
            "950bde85fd694a4994b09334e70c3149",
            "7f303388032b4832a02eaaa09a772272",
            "43ff6d724bc44265870db387e56cc99d",
            "1ba3673749314ec4b77d0b46ba65bb65",
            "6926cf3e5dec432dbd47237eae307e1c",
            "cbd0a45bd55144af83adb8b70e842921"
          ]
        },
        "id": "3SP2_MbFS5jk",
        "outputId": "48d0754f-f484-4a75-b183-81ac6fa115f5"
      },
      "execution_count": null,
      "outputs": [
        {
          "output_type": "display_data",
          "data": {
            "text/plain": [
              "0it [00:00, ?it/s]"
            ],
            "application/vnd.jupyter.widget-view+json": {
              "version_major": 2,
              "version_minor": 0,
              "model_id": "01652958672d408da054997be7cf772b"
            }
          },
          "metadata": {}
        },
        {
          "output_type": "display_data",
          "data": {
            "text/plain": [
              "  0%|          | 0/1000 [00:00<?, ?it/s]"
            ],
            "application/vnd.jupyter.widget-view+json": {
              "version_major": 2,
              "version_minor": 0,
              "model_id": "3ec091796e6849d993326875592f621a"
            }
          },
          "metadata": {}
        }
      ]
    },
    {
      "cell_type": "markdown",
      "source": [
        "`tqdm` インスタンスでは、以下のメソッドが使用できる。\n",
        "\n",
        "| メソッド | 機能 | 戻り値 |\n",
        "|:---|:---|:---|\n",
        "| `update(n=1)` | 進行状況表示を手動で更新する。`n` で処理したアイテム数を指定する | `True` または `None` |\n",
        "| `set_description(desc)` | `{desc}` に表示される説明文を更新する | `None` |\n",
        "| `set_postfix(**kwargs)` | `{postfix}` に表示される追加の統計を更新する | `None` |\n",
        "| `close()` | クリーンアップする。コンストラクタ引数 `leave` に `False` を渡していた場合、プログレスバーを閉じる | `None` |\n",
        "\n",
        "`tqdm` はコンテキストマネージャーとして使用できる。`close()` メソッドは、 with ブロックを終了するときに呼び出される。\n",
        "\n",
        "次は、動的な説明文と追加の統計を表示するコード例:"
      ],
      "metadata": {
        "id": "CpHrvlzm3kzp"
      }
    },
    {
      "cell_type": "code",
      "source": [
        "from time import sleep\n",
        "from tqdm.auto import tqdm\n",
        "\n",
        "with tqdm(\"abcde\") as pbar:\n",
        "    for i, ch in enumerate(pbar):\n",
        "        pbar.set_description(\"[train] Epoch %d\" % i)\n",
        "        pbar.set_postfix(dict(loss=1 - i / 5, acc=i / 10))\n",
        "        sleep(1.0)"
      ],
      "metadata": {
        "colab": {
          "base_uri": "https://localhost:8080/",
          "height": 49,
          "referenced_widgets": [
            "ce429ff83af545b9acf6e026e3c40094",
            "a99dea5543be420a850941ebc17f169a",
            "6a06697949bb495fac23100e95c1c27f",
            "32db1bd75c2e4c05b4744628d9844ae0",
            "ffa5590675fd49a7ab3648747f622262",
            "f9fad64835094bb58e480158f7f98425",
            "ac6ff1f919184625a586b6ef5bd71d16",
            "0a95a8305dbe47d4ba729d44cd6698f5",
            "8888e95a88b04663a69d1101ae95c055",
            "771630006f994db5b50ceb3436ba8cd0",
            "b0a7fa1bc1ce44ddab732428492c28ad"
          ]
        },
        "id": "J7nOIuu93lYQ",
        "outputId": "d726c83c-8878-4383-fcad-5b9f4c7d0344"
      },
      "execution_count": null,
      "outputs": [
        {
          "output_type": "display_data",
          "data": {
            "text/plain": [
              "  0%|          | 0/5 [00:00<?, ?it/s]"
            ],
            "application/vnd.jupyter.widget-view+json": {
              "version_major": 2,
              "version_minor": 0,
              "model_id": "ce429ff83af545b9acf6e026e3c40094"
            }
          },
          "metadata": {}
        }
      ]
    }
  ]
}