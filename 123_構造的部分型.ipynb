{
  "nbformat": 4,
  "nbformat_minor": 0,
  "metadata": {
    "colab": {
      "provenance": [],
      "toc_visible": true,
      "authorship_tag": "ABX9TyNSd4kLVpPJRN3XCCCqnBae",
      "include_colab_link": true
    },
    "kernelspec": {
      "name": "python3",
      "display_name": "Python 3"
    },
    "language_info": {
      "name": "python"
    }
  },
  "cells": [
    {
      "cell_type": "markdown",
      "metadata": {
        "id": "view-in-github",
        "colab_type": "text"
      },
      "source": [
        "<a href=\"https://colab.research.google.com/github/suwatoh/Python-learning/blob/main/123_%E6%A7%8B%E9%80%A0%E7%9A%84%E9%83%A8%E5%88%86%E5%9E%8B.ipynb\" target=\"_parent\"><img src=\"https://colab.research.google.com/assets/colab-badge.svg\" alt=\"Open In Colab\"/></a>"
      ]
    },
    {
      "cell_type": "markdown",
      "source": [
        "構造的部分型\n",
        "============"
      ],
      "metadata": {
        "id": "rG8MT3xkEK9n"
      }
    },
    {
      "cell_type": "markdown",
      "source": [
        "リスコフの置換原則\n",
        "------------------"
      ],
      "metadata": {
        "id": "-nrIgoieNeCi"
      }
    },
    {
      "cell_type": "markdown",
      "source": [
        "**リスコフの置換原則**（Liskov Substitution Principle; LSP）とは、「プログラムで使用する型 S のオブジェクトを型 T のオブジェクトに置き換えても動作は変わらないならば、S は T の部分型である」というものである。ここで、**部分型**（subtyping）であるとは、ある型に対して、型安全に代入可能とされることを意味している。部分型の代入先となる型を**基底型**（supertype）と呼ぶ。\n",
        "\n",
        "現在、部分型には次の 2 種類が存在する。\n",
        "\n",
        "  * **名前的部分型**（nominal subtyping）:  \n",
        "継承を使って部分型であると宣言された型。C++ や Java で採用されている部分型。\n",
        "  * **構造的部分型**（structural subtyping）:  \n",
        "相手が持っている属性とその型をすべて含んでいる型。TypeScript や Go で採用されている部分型。\n",
        "\n",
        "どちらも部分型の定義としてリスコフの置換原則を満たしており、どちらが正しいというものではない。\n",
        "\n",
        "Python は動的型付け言語なので、部分型は型アノテーションに関する型の代替性（これは静的型チェックツールによって確認される）の話題となる。\n",
        "\n",
        "Python においても、静的型チェックツールは名前的部分型を認識できる。次のコードでは、`Pigeon` クラスは抽象基底クラス `Bird` から継承している。`Pigeon` は `Bird` であるから代入可能である。"
      ],
      "metadata": {
        "id": "vM9mZEXawJ1O"
      }
    },
    {
      "cell_type": "code",
      "source": [
        "from abc import ABC, abstractmethod\n",
        "\n",
        "\n",
        "class Bird(ABC):\n",
        "    @abstractmethod\n",
        "    def fly(self) -> None: ...\n",
        "\n",
        "\n",
        "class Pigeon(Bird):\n",
        "    def fly(self) -> None:\n",
        "        print(\"ハトが空を飛ぶ\")\n",
        "\n",
        "    def run(self) -> None:\n",
        "        print(\"ハトが素早く走る\")\n",
        "\n",
        "\n",
        "def main(bird: Bird):\n",
        "    bird.fly()\n",
        "\n",
        "\n",
        "if __name__ == \"__main__\":\n",
        "    main(Pigeon())  # 静的型チェックをパスする"
      ],
      "metadata": {
        "colab": {
          "base_uri": "https://localhost:8080/"
        },
        "id": "OHvc6aXZzHXa",
        "outputId": "79a9c1dc-5ec5-438c-bc3d-5953b5ee36b5"
      },
      "execution_count": null,
      "outputs": [
        {
          "output_type": "stream",
          "name": "stdout",
          "text": [
            "ハトが空を飛ぶ\n"
          ]
        }
      ]
    },
    {
      "cell_type": "markdown",
      "source": [
        "実のところ、このコードは継承を使わないように変更しても、静的型チェックツールはエラーを出力するもののプログラムそのものは問題なく動作する:"
      ],
      "metadata": {
        "id": "6dXknPHGP3HP"
      }
    },
    {
      "cell_type": "code",
      "source": [
        "class Bird:\n",
        "    def fly(self) -> None: ...\n",
        "\n",
        "\n",
        "class Pigeon:\n",
        "    def fly(self) -> None:\n",
        "        print(\"ハトが空を飛ぶ\")\n",
        "\n",
        "    def run(self) -> None:\n",
        "        print(\"ハトが素早く走る\")\n",
        "\n",
        "\n",
        "def main(bird: Bird):\n",
        "    bird.fly()\n",
        "\n",
        "\n",
        "if __name__ == \"__main__\":\n",
        "    main(Pigeon())  # type: ignore  ← このコメントを消すと静的型チェックツールはエラーを出力する"
      ],
      "metadata": {
        "colab": {
          "base_uri": "https://localhost:8080/"
        },
        "id": "flTLK3MiP4CX",
        "outputId": "a03b520e-6ed1-4327-db02-5aba43fbea0e"
      },
      "execution_count": null,
      "outputs": [
        {
          "output_type": "stream",
          "name": "stdout",
          "text": [
            "ハトが空を飛ぶ\n"
          ]
        }
      ]
    },
    {
      "cell_type": "markdown",
      "source": [
        "これは、ダックタイピングの一例である。静的型チェックツールは動的に型の代替性を判断できないので、最初のコードでは継承を使ったのであるが、この手法は型の代替性をクリアしている場面でわざわざ継承を使っていることになる。継承を使うことによって新たな問題を抱える可能性があることを考慮しなければならない。"
      ],
      "metadata": {
        "id": "b8fkjxymg3z_"
      }
    },
    {
      "cell_type": "markdown",
      "source": [
        "Protocol\n",
        "--------"
      ],
      "metadata": {
        "id": "xwV-F9H8OdhJ"
      }
    },
    {
      "cell_type": "markdown",
      "source": [
        "`typing` モジュールは、抽象基底クラス `Protocol` を提供している。このクラスは、静的型チェックツールが構造的部分型を認識する際に使うものである。`typing.Protocol` を使うコードでは、構造的部分型は静的にチェックできるダックタイピングと捉えることができる。\n",
        "\n",
        "基底型は、`typing.Protocol` を継承するクラスの形で定義する。このクラスはインスタンス化しようとすると `TypeError`を送出する。このクラスの利用は静的型チェックに限られるので、抽象メソッドのようにメソッドのシグネチャだけを宣言し、処理を書かない。\n",
        "\n",
        "次のコードでは、継承を使って `typing.Protocol` 型の `Bird` を定義し、`main()` 関数の `Bird` 型の引数として `Pigeon` インスタンスを渡している。`typing.Protocol` に対応する静的型チェックツールは、`Pigeon` が `Bird` の構造的部分型であると認識し、エラーを出力しない。"
      ],
      "metadata": {
        "id": "_ggrR3qPIySz"
      }
    },
    {
      "cell_type": "code",
      "source": [
        "from typing import Protocol\n",
        "\n",
        "\n",
        "class Bird(Protocol):\n",
        "    def fly(self) -> None: ...\n",
        "\n",
        "\n",
        "class Pigeon:\n",
        "    def fly(self) -> None:\n",
        "        print(\"ハトが空を飛ぶ\")\n",
        "\n",
        "    def run(self) -> None:\n",
        "        print(\"ハトが素早く走る\")\n",
        "\n",
        "\n",
        "def main(bird: Bird):\n",
        "    bird.fly()\n",
        "\n",
        "\n",
        "if __name__ == \"__main__\":\n",
        "    main(Pigeon())  # 静的型チェックをパスする"
      ],
      "metadata": {
        "colab": {
          "base_uri": "https://localhost:8080/"
        },
        "id": "FWg2PSZTKjLd",
        "outputId": "7405a173-8d1e-419c-fdd3-ce959e610411"
      },
      "execution_count": null,
      "outputs": [
        {
          "output_type": "stream",
          "name": "stdout",
          "text": [
            "ハトが空を飛ぶ\n"
          ]
        }
      ]
    },
    {
      "cell_type": "markdown",
      "source": [
        "このように、継承を使いたくないが、静的型チェックの恩恵は受けたい場合、`typing.Protocol` 型を使うとよい。\n",
        "\n",
        "以降では、`typing.Protocol` 型を定義するクラスを**プロトコルクラス**と呼ぶ。`collections.abc` モジュールが提供する抽象基底クラスは、抽象基底クラスでありながら、プロトコルクラスとしても使うことができる。"
      ],
      "metadata": {
        "id": "NXjGvX4XSxDa"
      }
    },
    {
      "cell_type": "code",
      "source": [
        "from collections.abc import Callable\n",
        "\n",
        "\n",
        "def func(x: int, checker: Callable[[int], bool]) -> int:\n",
        "    return x if checker(x) else x * 3\n",
        "\n",
        "\n",
        "class MyChecker:\n",
        "    def __call__(self, x: int) -> bool:\n",
        "        return (x % 5) == 0\n",
        "\n",
        "\n",
        "if __name__ == \"__main__\":\n",
        "    my_checker = MyChecker()\n",
        "    assert func(20, my_checker) == 20  # MyChecker は Callable を継承していないが、構造的部分型である"
      ],
      "metadata": {
        "id": "CmJZe4Gz-fum"
      },
      "execution_count": null,
      "outputs": []
    },
    {
      "cell_type": "markdown",
      "source": [
        "プロトコルクラスのインスタンス変数またはクラス変数は、クラス本体内で明示的に宣言する必要がある:\n",
        "\n",
        "``` python\n",
        "class User(Protocol):\n",
        "    name: str\n",
        "```\n",
        "\n",
        "プロトコルクラスはジェネリックにもできる。Python 3.12 以降では\n",
        "\n",
        "``` python\n",
        "class GenProto[T](Protocol):\n",
        "    def meth(self) -> T:\n",
        "        ...\n",
        "```\n",
        "\n",
        "Python 3.11 以前ならば\n",
        "\n",
        "``` python\n",
        "T = TypeVar(\"T\")\n",
        "\n",
        "class GenProto(Protocol[T]):\n",
        "    def meth(self) -> T:\n",
        "        ...\n",
        "```\n",
        "\n",
        "Python 3.13 で、`typing` モジュールに次の 2 つの関数が追加された。\n",
        "\n",
        "``` python\n",
        "typing.get_protocol_members(tp)\n",
        "```\n",
        "\n",
        "指定したプロトコルクラスに定義されているメンバー（メソッドや属性）の名前を `frozenset` として返す。\n",
        "\n",
        "``` python\n",
        "typing.is_protocol(tp)\n",
        "```\n",
        "\n",
        "指定したクラスがプロトコルクラスかどうかを判定する。"
      ],
      "metadata": {
        "id": "TDGBKZqk-sj6"
      }
    },
    {
      "cell_type": "markdown",
      "source": [
        "アダプターパターン\n",
        "------------------"
      ],
      "metadata": {
        "id": "c52_K7g5Z90O"
      }
    },
    {
      "cell_type": "markdown",
      "source": [
        "**アダプターパターン**（adapter pattern）は、デザインパターンの 1 つで、既存のクラスに対して修正を加えることなく、そのクラスと関係のないインターフェースを実装するための変換用クラスを用意する設計パターンである。以下の 3 つのメンバーで構成される。\n",
        "\n",
        "  * **Adaptee**: 既存のクラス。第三者から提供されるモジュール内に存在しているなどの事情によりこれは修正できない\n",
        "  * **Target**: Adaptee に持たせたいインターフェース\n",
        "  * **Adapter**: Adaptee インスタンスを持ち、Target インターフェースを実装するメソッドの中で Adaptee インスタンスのメソッドを呼び出す\n",
        "\n",
        "Adapter は、Target インターフェースを持つように Adaptee を変換するクラスであり、Adaptee の代わりに使用される。Target は、もはや Adapter の構造を示すだけとなるので、Python ではプロトコルクラスとして作成する。\n",
        "\n",
        "![](https://www.plantuml.com/plantuml/png/PP0nJm9148Nx_HLJQd7ORyW5xEty0-Fj75ootk3iN67KGcoqC9PQQsK1j9gG-6CEQFaBAjxY4QgtoNlvTjxh1KNHwjoRebII73E2KvG1gVaJi725Pq45CxqHkgWA8NT2EcHtS6WoZo50t-58IKoZO04tBmBRUDJozY0bAu4KWw42vn5cxLuE893FEmsxm_xVejB1BsRd86gHBQoUNvUJb_fsMezdzTrxFVxiPknPhF0b-cDVKRgUto--fgl9s-BZSVaqMyyVkaURJ6hwsqBjRsEfn5EkoNKQfulff1ebl9sdHwNxMVeR)\n",
        "\n",
        "アダプターパターンは、既存のクラスが修正できない場合にインタフェースをそろえることに使用される。\n",
        "\n",
        "例えば、以下のコードでは、`Cat` クラスは既存のクラスであり修正できないものとする。いま `Cat` クラスを利用したい開発者がいて、その開発者は `chatter` というメソッドで `Cat` の鳴き声を印字したいとする。この場合、`CatAdapter` という Adapter を作成することで、既存クラス（`Cat` クラス）を修正することなく、異なるインタフェースを持たせることができる。"
      ],
      "metadata": {
        "id": "-WUj03KAVT4x"
      }
    },
    {
      "cell_type": "code",
      "source": [
        "from typing import Protocol\n",
        "\n",
        "\n",
        "class Cat:\n",
        "    def meow(self) -> None:\n",
        "        print(\"Cat: meow!\")\n",
        "\n",
        "\n",
        "class Chatter(Protocol):\n",
        "    def chatter(self) -> None: ...\n",
        "\n",
        "\n",
        "class CatAdapter:\n",
        "    def __init__(self) -> None:\n",
        "        self._cat = Cat()\n",
        "\n",
        "    def chatter(self) -> None:\n",
        "        self._cat.meow()\n",
        "\n",
        "\n",
        "class Human:\n",
        "    def chatter(self):\n",
        "        print(\"Human: I'm home.\")\n",
        "\n",
        "\n",
        "def main(objs: list[Chatter]):\n",
        "    for obj in objs:\n",
        "        obj.chatter()\n",
        "\n",
        "\n",
        "if __name__ == \"__main__\":\n",
        "    objs = [Human(), CatAdapter()]\n",
        "    main(objs)"
      ],
      "metadata": {
        "id": "zn01N6NYVVHV",
        "colab": {
          "base_uri": "https://localhost:8080/"
        },
        "outputId": "b71efae0-b271-4451-9446-8e2ae5c8d56b"
      },
      "execution_count": null,
      "outputs": [
        {
          "output_type": "stream",
          "name": "stdout",
          "text": [
            "Human: I'm home.\n",
            "Cat: meow!\n"
          ]
        }
      ]
    },
    {
      "cell_type": "markdown",
      "source": [
        "このように、既存クラスを修正することなく、異なるインタフェースを持たせるということが、アダプターパターンの役割である。\n",
        "\n",
        "このアダプターの例を見ると、クラスの合成を使っただけである。アダプターパターンは、クラスの合成を使う最も基本的なパターンに名前を付けただけのデザインパターンと言える。重要なのは、「インターフェースを実装するラッパーで既存のコードをラップする」という設計である。"
      ],
      "metadata": {
        "id": "JGlcYOWzWvcu"
      }
    },
    {
      "cell_type": "markdown",
      "source": [
        "インターフェース分離の原則\n",
        "--------------------------"
      ],
      "metadata": {
        "id": "u3_7aIntpP7J"
      }
    },
    {
      "cell_type": "markdown",
      "source": [
        "**インターフェース分離の原則**（Interface Segregation Principle; ISP）とは、継承先で使わないメソッドがないようにインターフェースを分けたほうがよいという設計原則である。\n",
        "\n",
        "同様の考え方は Mixin でもしていた。アダプターパターンにおいては、対象とするインターフェースを小分けにし、 Adapter は必要最小限のインターフェースを実装するようにする。"
      ],
      "metadata": {
        "id": "YkrFYa5ypQzc"
      }
    },
    {
      "cell_type": "markdown",
      "source": [
        "プロキシパターン\n",
        "----------------"
      ],
      "metadata": {
        "id": "jwOORKfhMrmj"
      }
    },
    {
      "cell_type": "markdown",
      "source": [
        "**プロキシパターン**は、デザインパターンの 1 つで、あるクラスを利用するときに、それを直接利用するのではなく、代理（Proxy）として機能するクラスを利用する設計パターンである。以下の 3 つのメンバーで構成される。\n",
        "\n",
        "  * **RealSubject**: 本質的な処理を担当するクラス\n",
        "  * **Proxy**: RealSubject インスタンスを保持するラッパーであり、本質的な処理の部分は RealSubject インスタンスのメソッドに委譲する\n",
        "  * **Subject**: RealSubject と Proxy の共通インターフェース（Python ではプロトコルクラス）\n",
        "\n",
        "ラッパーを使う点で、プロキシパターンとアダプターパターンは類似するが、Adapter はラップされたオブジェクトに対しては異なるインターフェースを提供するのに対し、 Proxy は同じインターフェースを提供する。\n",
        "\n",
        "![](https://www.plantuml.com/plantuml/png/LP2n3S8m44LxJt4b5FO0AQACW622o-KWHiP6zaK20Lkm0nKDEo4n1X0IuNJMVr_FNrSbmIZTpYdqFWYA3Hx8MVQYh1UEQoI6LLTlcKIHmvHW4SFXEBoNZ6wahMqOSesDv5WD60euOPqa8ia5ce3qBStcAbD0aOF-dsdqMmR6HBjfnPXod3QKTRVNvt-OgpEKzNKlqhg4wOpdxVgwFrJ5llaSvmq0)\n",
        "\n",
        "client 自身は、インターフェースだけを知り、それが RealSubject によって処理されるのか、Proxy によって代理されて処理されるのかを知らないことに注意する。どちらによって処理されるかは、実行時に決められる。\n",
        "\n",
        "次のコードでは、メインのクラスは `RealSubject` である。`RealSubject` オブジェクトと直接やり取りする代わりに `Proxy` オブジェクトとやり取りすることができ、この場合はログ出力も行われる。`client` 関数は Subject インターフェースを実行するだけであり、どちらのオブジェクトが使われるかは実行時の引数によって決まる。"
      ],
      "metadata": {
        "id": "Dw24P1wYMsS8"
      }
    },
    {
      "cell_type": "code",
      "source": [
        "from typing import Protocol\n",
        "\n",
        "\n",
        "class Subject(Protocol):\n",
        "    def doaction(self, user: str) -> None: ...\n",
        "\n",
        "\n",
        "class RealSubject:\n",
        "    def doaction(self, user: str) -> None:\n",
        "        print(f\"I am doing the job for {user}\")\n",
        "\n",
        "\n",
        "class Proxy:\n",
        "    def __init__(self) -> None:\n",
        "        self._realsubject = RealSubject()\n",
        "\n",
        "    def doaction(self, user: str) -> None:\n",
        "        print(f\"[log] Doing the job for {user} is requested.\")\n",
        "\n",
        "        if user == \"admin\":\n",
        "            self._realsubject.doaction(user)\n",
        "        else:\n",
        "            print(\"[log] I can do the job just for `admins`.\")\n",
        "\n",
        "\n",
        "def client(job_doer: Subject, user: str) -> None:\n",
        "    job_doer.doaction(user)\n",
        "\n",
        "\n",
        "def main():\n",
        "    proxy = Proxy()\n",
        "    client(proxy, \"admin\")\n",
        "    client(proxy, \"anonymous\")\n",
        "    print(\"-\" * 48)\n",
        "    real_subject = RealSubject()\n",
        "    client(real_subject, \"admin\")\n",
        "    client(real_subject, \"anonymous\")\n",
        "\n",
        "\n",
        "if __name__ == \"__main__\":\n",
        "    main()"
      ],
      "metadata": {
        "colab": {
          "base_uri": "https://localhost:8080/"
        },
        "id": "7QXWAXVTM2VN",
        "outputId": "572530e0-457e-45bb-b6ef-3ef7b8f7a3bb"
      },
      "execution_count": null,
      "outputs": [
        {
          "output_type": "stream",
          "name": "stdout",
          "text": [
            "[log] Doing the job for admin is requested.\n",
            "I am doing the job for admin\n",
            "[log] Doing the job for anonymous is requested.\n",
            "[log] I can do the job just for `admins`.\n",
            "------------------------------------------------\n",
            "I am doing the job for admin\n",
            "I am doing the job for anonymous\n"
          ]
        }
      ]
    },
    {
      "cell_type": "markdown",
      "source": [
        "単一責任の原則\n",
        "--------------"
      ],
      "metadata": {
        "id": "yKBfGsuOI2Xt"
      }
    },
    {
      "cell_type": "markdown",
      "source": [
        "**単一責任の原則**（Single Responsibility Principle; SRP）とは、モジュール、クラスまたは関数は、単一の機能について責任を持ち、その機能をカプセル化（1 つのまとまりにすること）するべきであるという設計原則である。\n",
        "\n",
        "あるコードがどれだけそのクラスの責任分担に集中しているかを示す度合いを**凝集度**（cohesion）という。凝集度が高い場合、コードの可読性が高くなり、テストが容易になるとされる。クラスが複数の機能について責任を持つ場合、ある機能に関するコードは、別の機能にとっては関係のないコードであり、凝集度が低下する。よって、単一責任の原則は、クラスの凝集度に関する原則といえる。\n",
        "\n",
        "普遍的な処理に、ログ出力などシステム固有の処理（**ビジネスロジック**と呼ばれる）が入り込むと、メソッドはさまざまな付随的処理が組み合わさったものになる。プロキシパターンを使うことで、本質ではない処理をメソッドから分離することができ、クラスの凝集度を高めることになる。"
      ],
      "metadata": {
        "id": "M8ZtS-sGI34p"
      }
    },
    {
      "cell_type": "markdown",
      "source": [
        "ファクトリメソッドパターン\n",
        "--------------------------"
      ],
      "metadata": {
        "id": "N0kmUs3Noz7w"
      }
    },
    {
      "cell_type": "markdown",
      "source": [
        "**ファクトリメソッドパターン**（factory method pattern）は、デザインパターンの 1 つで、テンプレートメソッドパターンをオブジェクト生成の場面に適応させた設計パターンである。すなわち、オブジェクト生成のインターフェースだけを決めておいて、具体的な処理（実際にどの型のオブジェクトを生成するのか）については、別のクラスで実装しなければならない。Python では継承を使わず、プロトコルクラスを使うことができる。ファクトリメソッドパターンは、以下の 4 つのメンバーで構成される。\n",
        "\n",
        "  * **Product**: 生成されるすべてのオブジェクトに共通なインターフェース（Python ではプロトコルクラス）\n",
        "  * **ConcreteProduct**: Product インターフェースの種々の異なる実装\n",
        "  * **Creator**: 新しい Product オブジェクトを生成するためのインターフェース──そのメソッドはファクトリメソッドと呼ばれる\n",
        "  * **ConcreteCreator**: Creator インターフェースの種々の異なる実装（ConcreteProduct オブジェクトを生成する）\n",
        "\n",
        "Creator クラスでオブジェクトを作成するためのインターフェースが決まっているが、作成されるオブジェクトの型を個々の ConcreteCreator で変更することができる。\n",
        "\n",
        "![](https://www.plantuml.com/plantuml/png/ZP113eCW403ll89ZUv0764CKFz0VD1ItrKIbMPP3q_Rl9OqOYyRqH38iCs5BHnh93pthHWAyQWEyHj1aaKqdp_bJNnoXDlJcOIAmnta0QcrpE8RR4zh66reO8Z6zTexNTZG819ElOYdW-POsJasoAjesSHfHB0L_HLGQYNXUXX3OtLeIGiPV1ajHU0TIhZ-M-NlsalD64ssyZwRL-sKjVVlD1g9fewnujfyE0_jjjTDMl-qIniOF_GS0)\n",
        "\n",
        "製品番号（P/N）で区別される製品オブジェクトを生成する場面を想定すると、Pythonでの最低限の実装は以下のようになる。"
      ],
      "metadata": {
        "id": "7uC8-WioDEic"
      }
    },
    {
      "cell_type": "code",
      "source": [
        "from typing import Protocol\n",
        "from dataclasses import dataclass\n",
        "import time\n",
        "\n",
        "\n",
        "class Product(Protocol):\n",
        "    product_number: str\n",
        "\n",
        "\n",
        "class Creator(Protocol):\n",
        "    def factory_method(self) -> Product: ...\n",
        "\n",
        "\n",
        "@dataclass(frozen=True, slots=True)\n",
        "class ConcreteProduct:\n",
        "    serial_number: str\n",
        "    product_number = \"SOMEPRODUCT001\"\n",
        "\n",
        "\n",
        "class ConcreteCreator:\n",
        "    def factory_method(self) -> Product:\n",
        "        return ConcreteProduct(self.get_serial_number())\n",
        "\n",
        "    def get_serial_number(self) -> str:\n",
        "        return time.strftime(r\"SP001%Y%m%d%H%M%S\")"
      ],
      "metadata": {
        "id": "nnS2ys2pLhTk"
      },
      "execution_count": null,
      "outputs": []
    },
    {
      "cell_type": "markdown",
      "source": [
        "依存性の注入\n",
        "------------"
      ],
      "metadata": {
        "id": "jmOYMHggdB7L"
      }
    },
    {
      "cell_type": "markdown",
      "source": [
        "ファクトリメソッドパターンのメンバーを使用してオブジェクトを生成するメインのクラスを考える。メインのクラスを `Logic` とし、オブジェクト生成を行って処理をするメソッドを `do()` メソッドとする。オブジェクト生成を行うには ConcreteCreator インスタンスが必要なので、素直に `do()` メソッド内で（条件により）クラスを決めて ConcreteCreator インスタンスを入手するとすれば、次のようなコードを書く:\n",
        "\n",
        "``` python\n",
        "class Logic:\n",
        "    def do(self):\n",
        "        if CONDITION:\n",
        "            creator = ConcreteCreatorA()\n",
        "        else:\n",
        "            creator = ConcreteCreatorB()\n",
        "        self.product = creator.factory_method()\n",
        "        ...  # 処理を書く\n",
        "```\n",
        "\n",
        "このように直接に ConcreteCreator のインスタンス化を書く場合、ConcreteCreator のクラスを増減する変更が `Logic` クラスにも影響する。 `Logic` が ConcreteCreator 側の変更による影響を受けないようにするには、 ConcreteCreator のインスタンス化を外部に追い出し、 `Logic` はただ Creator オブジェクトを受け取るだけにすればよい。\n",
        "\n",
        "このように、あるクラス内で使用するオブジェクトをクラス外で生成することを**依存性の注入**（dependency injection; DI）と呼ぶ。通常であればクラスに依存しなければそのインスタンスを入手することはできないが、クラスの外でインスタンスを作成し、それを注入（インスタンスを貰うこと）することで、クラスに依存せずそのインスタンスのみを使用することができる。\n",
        "\n",
        "Pythonでの最低限の実装は以下のようになる。"
      ],
      "metadata": {
        "id": "-YCrhWUOn5mm"
      }
    },
    {
      "cell_type": "code",
      "source": [
        "class Logic:\n",
        "    def __init__(self, creator: Creator):\n",
        "        self.creator = creator\n",
        "\n",
        "    def do(self):\n",
        "        self.product = self.creator.factory_method()\n",
        "        print(f\"{self.product=}\")\n",
        "        print(f\"{self.product.product_number=}\")\n",
        "        ...  # 処理を書く\n",
        "\n",
        "\n",
        "def main():\n",
        "    logic = Logic(ConcreteCreator())\n",
        "    logic.do()\n",
        "\n",
        "\n",
        "if __name__ == \"__main__\":\n",
        "    main()"
      ],
      "metadata": {
        "colab": {
          "base_uri": "https://localhost:8080/"
        },
        "id": "qgVUJq6yn8xP",
        "outputId": "b09bdf61-4a4d-4f5c-def6-f61f2fa7835d"
      },
      "execution_count": null,
      "outputs": [
        {
          "output_type": "stream",
          "name": "stdout",
          "text": [
            "self.product=ConcreteProduct(serial_number='SP00120241018142453')\n",
            "self.product.product_number='SOMEPRODUCT001'\n"
          ]
        }
      ]
    },
    {
      "cell_type": "markdown",
      "source": [
        "DI により、`Logic` は Creator の部分型のオブジェクトを受け取ることは知っているが、それがどの ConcreteCreator インスタンスであるのかまでは知らない。こうして、`Logic` と ConcreteCreator の間の結合度を下げることができる。"
      ],
      "metadata": {
        "id": "mM2XdIMvxVNz"
      }
    },
    {
      "cell_type": "markdown",
      "source": [
        "依存性逆転の原則\n",
        "----------------"
      ],
      "metadata": {
        "id": "nIJoRuWl3NbY"
      }
    },
    {
      "cell_type": "markdown",
      "source": [
        "**依存性逆転の原則**（dependency inversion principle; DIP）とは、次のような設計原則である。\n",
        "\n",
        "  1. 上位モジュールは、下位モジュールに依存してはならない。どちらも抽象に依存するべきである。\n",
        "  2. 抽象は詳細に依存してはならない。詳細が抽象に依存するべきである。\n",
        "\n",
        "ここでいうモジュールとは、プログラムを構成する要素という意味であり、Python においてライブラリとしてのモジュールはもちろん、クラスや関数も該当する。上位と下位とは、モジュールやクラスの階層関係を表す。上位のモジュールやクラスは、下位のモジュールやクラスによって提供される機能やデータを利用するものである。例えば、アプリケーションのロジックを担当するクラスは上位のモジュールであり、外部リソースへのアクセスなどの詳細実装を担うクラスは下位のモジュールである。クラス A の定義中にクラス B を書くとき、クラス A はクラス B に「依存する」という。これを依存方向 A → B と書けば、依存性逆転の原則は上位から下位への依存方向があってはならないことを言っている。これにより、クラス間を疎結合に保つことができる。\n",
        "\n",
        "ファクトリメソッドパターンと依存性の注入の例では、次のようになる。\n",
        "\n",
        "``` text\n",
        "　（上位モジュール） Logic クラス、 Product クラス、 Creator クラス  \n",
        "　────────────────────────────────────────────────  \n",
        "　（下位モジュール） main() 関数、 ConcreteProduct クラス、 ConcreteCreator クラス\n",
        "\n",
        "　（依存方向） main()　→　Logic　→　Creator\n",
        "　　　　　　　　　　　  ↳　ConcreteCreator　→　Creator\n",
        "　　　　　　　　　　　　　　　　　　　　　　 ↳　ConcreteProduct　→　Product\n",
        "```\n",
        "\n",
        "上下をまたぐ依存方向は `main()`→`Logic` と `ConcreteCreator`→`Creator`、`ConcreteProduct`→`Product` だけであり、すべて下位から上位への方向である。つまり、ファクトリメソッドパターンと依存性の注入は「上位モジュールは、下位モジュールに依存してはならない」という原則に従っているのである。"
      ],
      "metadata": {
        "id": "bR7ltQVi3Oot"
      }
    },
    {
      "cell_type": "markdown",
      "source": [
        "ファクトリパターン\n",
        "------------------"
      ],
      "metadata": {
        "id": "xNGJ86gTej_O"
      }
    },
    {
      "cell_type": "markdown",
      "source": [
        "ファクトリメソッドパターンでは、 ConcreteProduct のクラスを増やすと、それに応じて ConcreteCreator のクラスも増やすことになり、コードが複雑になる。そこで、 ConcreteCreator のクラスたちを 1 つの `Factory` クラスにまとめてしまい、 ConcreteProduct の各クラスには分岐で対応するようにすると、次のようなコードを書ける。"
      ],
      "metadata": {
        "id": "Flmr33PSektp"
      }
    },
    {
      "cell_type": "code",
      "source": [
        "from typing import Protocol\n",
        "from dataclasses import dataclass\n",
        "import time\n",
        "\n",
        "\n",
        "class Product(Protocol):\n",
        "    product_number: str\n",
        "\n",
        "\n",
        "@dataclass(frozen=True, slots=True)\n",
        "class ConcreteProduct:\n",
        "    serial_number: str\n",
        "    product_number = \"SOMEPRODUCT001\"\n",
        "\n",
        "\n",
        "class Factory:\n",
        "    def create(self, product_number: str) -> Product:\n",
        "        if product_number == \"SOMEPRODUCT001\":\n",
        "            return ConcreteProduct(self.get_serial_number())\n",
        "        #\n",
        "        # <--- Product の種類を増やす場合はここに分岐 elif を加える\n",
        "        #\n",
        "        else:\n",
        "            raise ValueError(f\"product number {product_number} not found\")\n",
        "\n",
        "    def get_serial_number(self) -> str:\n",
        "        return time.strftime(r\"SP001%Y%m%d%H%M%S\")\n",
        "\n",
        "\n",
        "class Logic:\n",
        "    def do(self):\n",
        "        factory = Factory()\n",
        "        self.product = factory.create(\"SOMEPRODUCT001\")\n",
        "        print(f\"{self.product=}\")\n",
        "        print(f\"{self.product.product_number=}\")\n",
        "        ...  # 処理を書く\n",
        "\n",
        "\n",
        "def main():\n",
        "    logic = Logic()\n",
        "    logic.do()\n",
        "\n",
        "\n",
        "if __name__ == \"__main__\":\n",
        "    main()"
      ],
      "metadata": {
        "colab": {
          "base_uri": "https://localhost:8080/"
        },
        "id": "Jw8_vnHrDZ3g",
        "outputId": "c3387406-303e-4b23-fd7c-a79a48e0fef0"
      },
      "execution_count": null,
      "outputs": [
        {
          "output_type": "stream",
          "name": "stdout",
          "text": [
            "self.product=ConcreteProduct(serial_number='SP00120241018142453')\n",
            "self.product.product_number='SOMEPRODUCT001'\n"
          ]
        }
      ]
    },
    {
      "cell_type": "markdown",
      "source": [
        "このように、`Factory` クラスの中で条件分岐などを使ってオブジェクトを生成するクラスを使い分ける設計パターンは**ファクトリパターン**（factory pattern）と呼ばれる。\n",
        "\n",
        "ファクトリパターンでは、上位の `Factory` クラスが下位の ConcreteProduct のクラスに強く依存し、ConcreteProduct 側に変更があれば直ちに `Factory` クラスの修正が必要となってしまう。それでも、ファクトリメソッドパターンよりはコードが簡潔になる。KISS の原則はこの場面でも当てはまるから、依存性逆転の原則のメリットをあまり活かせない場面（下位モジュールの変更や交換が頻繁に起こるものではない場合など）では、ファクトリパターンでよいように思う。"
      ],
      "metadata": {
        "id": "ROHsXIcELTem"
      }
    },
    {
      "cell_type": "markdown",
      "source": [
        "ストラテジーパターン\n",
        "--------------------"
      ],
      "metadata": {
        "id": "qLoWW2q3wajk"
      }
    },
    {
      "cell_type": "markdown",
      "source": [
        "**ストラテジーパターン**（strategy pattern）は、デザインパターンの 1 つで、同じインターフェースを実装する交換可能なアルゴリズムをいくつか定義して、プログラム実行時に外部からアルゴリズムを選択できるようにする設計パターンである。以下の 3 つのメンバーで構成される。\n",
        "\n",
        "  * **Strategy**: アルゴリズムが実装する共通のインターフェース（Python ではプロトコルクラス）\n",
        "  * **ConcreteStrategy**: アルゴリズム（Strategy インターフェースを実装するクラス）\n",
        "  * **Context**: ConcreteStrategy インスタンスを外部から注入され、そのメソッドを呼び出すことで一部の処理を委譲する\n",
        "\n",
        "ストラテジーパターンは、依存性の注入（DI）を使用するデザインパターンである。 Context 自身はどのアルゴリズムが選択されるかを知らず、 ConcreteStrategy のクラスの追加・削除に影響されない。\n",
        "\n",
        "![](https://www.plantuml.com/plantuml/png/SoWkIImgAStDuKhEIImkLd3Epoj9hIZXWj8ALWh59KM99QdfbK1cC9J9bPTVaggGavfMef2V1jDYPLKCarPuic_kqxKpdZKiVzouxjdc5KzRbxxVq-7Y-NvF9rTgNee2I3jN9b1NKLfYSYh2s624LTM9II3ZaajgymjIWQAP-NaQcbm8HoONfPQamjGxSc6808qWGgCJ5uO8caPuGEWMPQPdbEZQAI0vqiQcj3ZLpWwBxRgb1Rer2BMOrc2eS006330Q0000)\n",
        "\n",
        "以下は、データの保存先として複数のクラウドストレージを利用する場合に、それぞれのストレージクライアントを独立したクラスとして実装した感じのコードである。"
      ],
      "metadata": {
        "id": "AU4vNwFXwbb6"
      }
    },
    {
      "cell_type": "code",
      "source": [
        "from typing import Protocol\n",
        "import io\n",
        "\n",
        "\n",
        "class Storage(Protocol):\n",
        "    def get(self, uri: str) -> io.BytesIO: ...\n",
        "    def put(self, data: bytes, uri: str) -> None: ...\n",
        "\n",
        "\n",
        "class StorageA:\n",
        "    def get(self, uri: str):\n",
        "        s = \"Data from {} in StorageA\".format(uri)\n",
        "        return io.BytesIO(s.encode(encoding=\"utf-8\"))\n",
        "\n",
        "    def put(self, data: bytes, uri: str):\n",
        "        pass\n",
        "\n",
        "\n",
        "class StorageB:\n",
        "    def get(self, uri: str):\n",
        "        s = \"Data from {} in StorageB\".format(uri)\n",
        "        return io.BytesIO(s.encode(encoding=\"utf-8\"))\n",
        "\n",
        "    def put(self, data: bytes, uri: str):\n",
        "        pass\n",
        "\n",
        "\n",
        "class Context:\n",
        "    def __init__(self, input_storage: Storage, output_storage: Storage, input_path: str, output_path: str):\n",
        "        self.input_storage = input_storage\n",
        "        self.output_storage = output_storage\n",
        "        self.input_path = input_path\n",
        "        self.output_path = output_path\n",
        "\n",
        "    def run(self):\n",
        "        data = self.get_data()\n",
        "        print(data)\n",
        "        ...  # データの加工\n",
        "        self.save_data(data)\n",
        "\n",
        "    def get_data(self):\n",
        "        io = self.input_storage.get(self.input_path)\n",
        "        data = io.read()\n",
        "        return data.decode(encoding=\"utf-8\")\n",
        "\n",
        "    def save_data(self, data):\n",
        "        self.output_storage.put(data, self.output_path)\n",
        "\n",
        "\n",
        "if __name__ == \"__main__\":\n",
        "    context = Context(StorageA(), StorageA(), \"sa://mybucket/olditem\", \"sa://mybucket/newitem\")\n",
        "    context.run()"
      ],
      "metadata": {
        "colab": {
          "base_uri": "https://localhost:8080/"
        },
        "id": "yIokrNfC1U1V",
        "outputId": "11c661b4-da2c-4cb6-e583-0fe3b0d4eec7"
      },
      "execution_count": null,
      "outputs": [
        {
          "output_type": "stream",
          "name": "stdout",
          "text": [
            "Data from sa://mybucket/olditem in StorageA\n"
          ]
        }
      ]
    },
    {
      "cell_type": "markdown",
      "source": [
        "Python では、関数はオブジェクトであり、アルゴリズムを関数として定義して他のオブジェクトに渡すことができるので、ストラテジーパターンを明示的に定義するまでもない場合も多い。\n",
        "\n",
        "``` python\n",
        "from collections.abc import Callable\n",
        "\n",
        "\n",
        "def concrete_strategy_a(data: bytes) -> bytes:\n",
        "    ...\n",
        "\n",
        "\n",
        "def concrete_strategy_b(data: bytes) -> bytes:\n",
        "    ...\n",
        "\n",
        "\n",
        "class Context:\n",
        "    def __init__(self, strategy: Callable[[bytes], bytes], output_path):\n",
        "        self.strategy = strategy\n",
        "        self.output_path = output_path\n",
        "\n",
        "    def run(self):\n",
        "        data = self.get_data()\n",
        "        new = self.strategy(data)\n",
        "        with open(self.output_path, \"wb\") as f:\n",
        "            f.write(new)\n",
        "\n",
        "    def get_data(self) -> bytes:\n",
        "        ...\n",
        "```"
      ],
      "metadata": {
        "id": "7KMqJI1Ay-7a"
      }
    },
    {
      "cell_type": "markdown",
      "source": [
        "開放閉鎖原則\n",
        "------------"
      ],
      "metadata": {
        "id": "e67SxdhcwWKo"
      }
    },
    {
      "cell_type": "markdown",
      "source": [
        "**開放閉鎖原則**（Open/Closed Principle; OCP）とは、ソフトウェアの設計原則の一つで、「ソフトウェアの要素（クラス、モジュール、関数など）は拡張には開かれているが、修正には閉じているべきである」というものである。これは、新しい機能や変更が必要なとき、既存のコードを変更するのではなく、新しいコードを追加することでその要件を満たすことができるような設計を求めている。これにより、新しい機能や変更に関するテストだけを行って、既存のコードに対するテストを再実行する必要はないようにできる。\n",
        "\n",
        "ストラテジーパターンに従うと、新しいアルゴリズムの追加は、継承を使わずに新しいクラスの追加によって容易に実現される。つまり、機能の拡張には開かれている。一方、アルゴリズムの修正はそのクラスの修正にとどまるから、修正には閉じている。こうして、ストラテジーパターンは開放閉鎖原則と調和を保つことができる。"
      ],
      "metadata": {
        "id": "RadP3pNjwW4p"
      }
    },
    {
      "cell_type": "markdown",
      "source": [
        "SOLID 原則\n",
        "----------"
      ],
      "metadata": {
        "id": "URyTIjfhD6vu"
      }
    },
    {
      "cell_type": "markdown",
      "source": [
        "次の 5 つの原則の頭文字をとって SOLID と呼ばれる。\n",
        "\n",
        "  1. 単一責任の原則（**S**ingle-responsibility principle）\n",
        "  2. 開放閉鎖の原則（**O**pen/closed principle）\n",
        "  3. リスコフの置換原則（**L**iskov substitution principle）\n",
        "  4. インターフェース分離の原則（**I**nterface segregation principle）\n",
        "  5. 依存性逆転の原則（**D**ependency inversion principle）\n"
      ],
      "metadata": {
        "id": "PMSRT1XBD7pK"
      }
    }
  ]
}