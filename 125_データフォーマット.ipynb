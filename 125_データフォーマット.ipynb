{
  "nbformat": 4,
  "nbformat_minor": 0,
  "metadata": {
    "colab": {
      "provenance": [],
      "toc_visible": true,
      "authorship_tag": "ABX9TyN8FNbRgH8lKMl/N0yktB9o",
      "include_colab_link": true
    },
    "kernelspec": {
      "name": "python3",
      "display_name": "Python 3"
    },
    "language_info": {
      "name": "python"
    }
  },
  "cells": [
    {
      "cell_type": "markdown",
      "metadata": {
        "id": "view-in-github",
        "colab_type": "text"
      },
      "source": [
        "<a href=\"https://colab.research.google.com/github/suwatoh/Python-learning/blob/main/125_%E3%83%87%E3%83%BC%E3%82%BF%E3%83%95%E3%82%A9%E3%83%BC%E3%83%9E%E3%83%83%E3%83%88.ipynb\" target=\"_parent\"><img src=\"https://colab.research.google.com/assets/colab-badge.svg\" alt=\"Open In Colab\"/></a>"
      ]
    },
    {
      "cell_type": "markdown",
      "source": [
        "データフォーマット\n",
        "=================="
      ],
      "metadata": {
        "id": "GVbDGVYvPmPq"
      }
    },
    {
      "cell_type": "markdown",
      "source": [
        "CSV\n",
        "---"
      ],
      "metadata": {
        "id": "P0-ALJcMPnt4"
      }
    },
    {
      "cell_type": "markdown",
      "source": [
        "### 規格 ###"
      ],
      "metadata": {
        "id": "tTHgLc4_2JpB"
      }
    },
    {
      "cell_type": "markdown",
      "source": [
        "**CSV**（Comma-Separated Values）形式は、表形式のデータを、特定の区切り文字を使用する文字列に直列化するためのフォーマットである。データ交換用のデファクトスタンダードとして、古くから多くの表計算ソフトやデータベースソフトで使われている。ファイルの拡張子は `.csv` が使われる。\n",
        "\n",
        "2005 年 10 月に、各ソフトウェアでの CSV の実装を追認する形で、国際標準化団体 IETF が RFC 4180 として規格化した。しかし実際のソフトウェア側の実装は RFC に準拠していないことが多い。 RFC の主な内容は以下の通り。\n",
        "\n",
        "  * ファイルは 1 つ以上のレコードからなる。\n",
        "  * レコードは改行で区切られる。改行コードは CR+LF とする。最後のレコードの後には改行はあってもなくてもよい。\n",
        "  * レコードは 1 つ以上の同じ個数のフィールドからなる。\n",
        "  * フィールドはカンマ `,` で区切られる。最後のフィールドの後にはカンマは付けない。カンマで終わる場合は、その後に空のフィールドがある。\n",
        "  * ファイルの先頭には、オプションとして、通常のレコードと同一の書式の「ヘッダー行」があってもよい。ヘッダー行は、他のレコードと同じ個数のフィールドを持ち、フィールドの名称が書かれている。\n",
        "  * フィールドは、ダブルクォート `\"` で囲んでも囲まなくてもよい。ただし、フィールドがカンマ、ダブルクォート、改行を含む場合は、必ずダブルクォートで囲む。また、フィールドに含まれるダブルクォートは 2 つ並べてエスケープする。\n",
        "\n",
        "RFC はダブルクォートで囲まれているフィールドの解釈までは規定していないが、一部のソフトウェアはダブルクォートで囲まれているかどうかで解釈を変えていることに注意する。\n",
        "\n",
        "CSV ファイルの実質はテキストファイルであるが、エンコーディングに関しては RFC で規定されてない。 Microsoft Excel は、エンコードを推定できるように、 BOM（byte order mark）と呼ばれるデータをファイルの先頭に付けている。\n",
        "\n",
        "カンマの代わりに別の文字をフィールド区切りに使用する形式もある。タブを使用する形式は **TSV**（Tab-Separated Values）と呼ばれ、スペースを使用する形式は **SSV**（Space-Separated Values）と呼ばれる。\n",
        "\n",
        "標準ライブラリの `csv` モジュールは、CSV 形式を扱うために、以下のオブジェクトをサポートする。\n",
        "\n",
        "  * dialect オブジェクト: CSV 形式の書式を管理するオブジェクト\n",
        "  * reader オブジェクト: CSV 形式のデータを読み込むオブジェクト\n",
        "  * writer オブジェクト: CSV 形式のデータを書き込むオブジェクト\n",
        "\n",
        "dialect オブジェクトは、属性として、区切り文字、ダブルクォート、空白文字などの扱い方に関する情報を持つ。一定の値をもつものは、`'excel'`、`'excel-tab'`、`'unix'` という名前の dialect オブジェクトとして登録されている。\n",
        "\n",
        "| dialect の属性 | 意味 | excel | excel-tab | unix |\n",
        "|:---|:---|:---|:---|:---|\n",
        "| `delimiter` | 区切り文字 | カンマ `,` | タブ `\\t` | カンマ `,` |\n",
        "| `quotechar` | 引用符として使用される文字 | ダブルクォート `\"` | ダブルクォート `\"` | ダブルクォート `\"` |\n",
        "| `skipinitialspace` | `True` の場合、区切り文字の直後に続く空白は無視される | `False` | `False` | `False` |\n",
        "| `lineterminator` | 各行の終端を表す文字列 | `'\\r\\n'` | `'\\r\\n'` | `'\\n'` |"
      ],
      "metadata": {
        "id": "x-LUXi5I7t70"
      }
    },
    {
      "cell_type": "markdown",
      "source": [
        "### リスト形式での読み込みと書き込み ###"
      ],
      "metadata": {
        "id": "44-5ZVq2QKXO"
      }
    },
    {
      "cell_type": "markdown",
      "source": [
        "``` python\n",
        "csv.reader(csvfile, dialect='excel', **fmtparams)\n",
        "```\n",
        "\n",
        "この関数は、reader オブジェクトを返す。\n",
        "\n",
        "| 引数 | 意味 |\n",
        "|:---|:---|\n",
        "| `csvfile` | CSV 形式の文字列を返すイテラブルなオブジェクトを指定する。`csvfile` が `open()` 関数の返すファイルオブジェクトである場合、必ず<br /><br /> `newline=''` で開く必要がある（`csv` モジュールは独自の改行処理を行うため） |\n",
        "| `dialect` | dialect オブジェクトか、その登録された名前を指定する。デフォルトは `'excel'` |\n",
        "| `fmtparams` | dialect オブジェクトの属性に与える値をキーワード引数として指定する。引数 `dialect` による書式指定を上書きする |\n",
        "\n",
        "`dialect` のデフォルトが `'excel'` なので、TSV 形式のデータを読み込む場合は、`csv.reader(csvfile, delimiter='\\t')` のように区切り文字としてタブを指定する。\n",
        "\n",
        "作成された reader オブジェクトは、CSV の 1 行のデータを表すリストを 1 つずつ返すイテレーターである。"
      ],
      "metadata": {
        "id": "pyQ6N3dHPpxY"
      }
    },
    {
      "cell_type": "code",
      "source": [
        "import csv\n",
        "from tabulate import tabulate\n",
        "\n",
        "with open(\"sample_data/california_housing_test.csv\", \"r\", encoding=\"utf-8\", newline='') as f:\n",
        "    reader = csv.reader(f)\n",
        "    data = [row for n, row in enumerate(reader) if n <= 5]\n",
        "\n",
        "print(tabulate(data, headers='firstrow'))"
      ],
      "metadata": {
        "colab": {
          "base_uri": "https://localhost:8080/"
        },
        "id": "GNwgcS7Rpj61",
        "outputId": "db3186ea-ed81-4b86-de10-9a631b980498"
      },
      "execution_count": 1,
      "outputs": [
        {
          "output_type": "stream",
          "name": "stdout",
          "text": [
            "  longitude    latitude    housing_median_age    total_rooms    total_bedrooms    population    households    median_income    median_house_value\n",
            "-----------  ----------  --------------------  -------------  ----------------  ------------  ------------  ---------------  --------------------\n",
            "    -122.05       37.37                    27           3885               661          1537           606           6.6085                344700\n",
            "    -118.3        34.26                    43           1510               310           809           277           3.599                 176500\n",
            "    -117.81       33.78                    27           3589               507          1484           495           5.7934                270500\n",
            "    -118.36       33.82                    28             67                15            49            11           6.1359                330000\n",
            "    -119.67       36.33                    19           1241               244           850           237           2.9375                 81700\n"
          ]
        }
      ]
    },
    {
      "cell_type": "markdown",
      "source": [
        "``` python\n",
        "csv.writer(csvfile, dialect='excel', **fmtparams)\n",
        "```\n",
        "\n",
        "この関数は、writer オブジェクトを返す。\n",
        "\n",
        "引数の `csvfile` は、`write()` メソッドを持つオブジェクトでなければならない。`csvfile` がファイルオブジェクトの場合、必ず `newline=''` として開くこと（`csv` モジュールは独自の改行処理を行うため）。残りの引数 `dialect` と `fmtparams` については、`csv.reader()` の同名の引数と同様である。\n",
        "\n",
        "作成された writer オブジェクトは、以下のメソッドを持つ。\n",
        "\n",
        "| メソッド | 機能 | 戻り値 |\n",
        "|:---|:---|:---|\n",
        "| `writerow(row)` | `row` を現在の表現形式（`dialect`）の 1 行のデータとして書式化した上でファイルオブジェクトに書き込む。オブジェクトが<br /><br /> `csv.writer()` から返されたものである場合、`row` は文字列か数値のリストである必要がある | `None` |\n",
        "| `writerows(rows)` | 上記の `row` のイテラブル `rows` の全ての要素を現在の表現形式（`dialect`）の 1 行のデータとして書式化した上でファイル<br /><br />オブジェクトに書き込む | `None` |\n",
        "\n",
        "これらのメソッドは、書式化の際に数値を `str()` で変換する。"
      ],
      "metadata": {
        "id": "PWSSGCGbXyRU"
      }
    },
    {
      "cell_type": "code",
      "source": [
        "import csv\n",
        "import io\n",
        "\n",
        "with io.StringIO(newline=\"\") as f:  # ここでは open() の代わりに StringIO を使う\n",
        "    writer = csv.writer(f)\n",
        "    writer.writerow([\"山名\", \"標高/m\", \"山系\"])\n",
        "    writer.writerow([\"富士山\", 3776, \"独立峰\"])\n",
        "    writer.writerow([\"北岳\", 3193.2, \"赤石山脈（南アルプス）\"])\n",
        "    # ストリームの出力\n",
        "    f.seek(0)  # ストリーム位置を先頭に変更\n",
        "    for line in f:\n",
        "        print(line, end=\"\")"
      ],
      "metadata": {
        "colab": {
          "base_uri": "https://localhost:8080/"
        },
        "id": "i5dc3OzGXyxJ",
        "outputId": "6bfde1e2-25eb-4033-9ba7-953d76303f9b"
      },
      "execution_count": 2,
      "outputs": [
        {
          "output_type": "stream",
          "name": "stdout",
          "text": [
            "山名,標高/m,山系\r\n",
            "富士山,3776,独立峰\r\n",
            "北岳,3193.2,赤石山脈（南アルプス）\r\n"
          ]
        }
      ]
    },
    {
      "cell_type": "markdown",
      "source": [
        "### 辞書形式での読み込みと書き込み ###"
      ],
      "metadata": {
        "id": "wc-j5tRpY8Ak"
      }
    },
    {
      "cell_type": "markdown",
      "source": [
        "クラス `csv.DictReader` はイテレータークラスであり、そのインスタンスは CSV 形式の各行を 1 行ずつ辞書にして返す reader オブジェクトである。\n",
        "\n",
        "コンストラクタ:\n",
        "\n",
        "``` python\n",
        "csv.DictReader(f, fieldnames=None, restkey=None, restval=None, dialect='excel', *args, **kwds)\n",
        "```\n",
        "\n",
        "| 引数 | 意味 |\n",
        "|:---|:---|\n",
        "| `f` | CSV 形式の文字列を返すイテラブルなオブジェクトを指定する。`f` が `open()` 関数の返すファイルオブジェクトである場合、必ず `newline=''` <br /><br />で開く必要がある（`csv` モジュールは独自の改行処理を行うため） |\n",
        "| `fieldnames` | 辞書のキーをシーケンスで指定する。指定しなかった場合は `f` の最初の行の値が使われる |\n",
        "| `restkey` | キーの数が実際に読み込んが列数より少なかった場合、残りのデータはリストに入れられて、`restkey` により指定されたキーの値となる |\n",
        "| `restval` | キーの数が実際に読み込んが列数より多かった場合、足りない値は `restval` の値（デフォルトは `None` ） によって埋められる |\n",
        "| `dialect` | dialect オブジェクトか、その登録された名前を指定する |\n",
        "| `*args, **kwds` | コンストラクタの内部で `reader(f, dialect, *args, **kwds)` と呼び出す際に渡される |"
      ],
      "metadata": {
        "id": "MNMSrRHIY9NL"
      }
    },
    {
      "cell_type": "code",
      "source": [
        "import csv\n",
        "from tabulate import tabulate\n",
        "\n",
        "with open(\"sample_data/california_housing_test.csv\", \"r\", encoding=\"utf-8\", newline='') as f:\n",
        "    reader = csv.DictReader(f)\n",
        "    data = [row for n, row in enumerate(reader) if n < 3]\n",
        "\n",
        "print(tabulate(data, headers='keys'))"
      ],
      "metadata": {
        "colab": {
          "base_uri": "https://localhost:8080/"
        },
        "id": "vJu7RQ_NR066",
        "outputId": "dc3e2763-5d86-41a0-8913-bdd6c0733edd"
      },
      "execution_count": 3,
      "outputs": [
        {
          "output_type": "stream",
          "name": "stdout",
          "text": [
            "  longitude    latitude    housing_median_age    total_rooms    total_bedrooms    population    households    median_income    median_house_value\n",
            "-----------  ----------  --------------------  -------------  ----------------  ------------  ------------  ---------------  --------------------\n",
            "    -122.05       37.37                    27           3885               661          1537           606           6.6085                344700\n",
            "    -118.3        34.26                    43           1510               310           809           277           3.599                 176500\n",
            "    -117.81       33.78                    27           3589               507          1484           495           5.7934                270500\n"
          ]
        }
      ]
    },
    {
      "cell_type": "markdown",
      "source": [
        "クラス `csv.DictWriter` のインスタンスは、辞書を CSV 形式に変換して書き込む writer オブジェクトである。\n",
        "\n",
        "コンストラクタ:\n",
        "\n",
        "``` python\n",
        "csv.DictWriter(f, fieldnames, restval='', extrasaction='raise', dialect='excel', *args, **kwds)\n",
        "```\n",
        "\n",
        "| 引数 | 意味 |\n",
        "|:---|:---|\n",
        "| `f` | `write()` メソッドを持つオブジェクトを指定する |\n",
        "| `fieldnames` | キーをシーケンスで指定する |\n",
        "| `restval` | `fieldnames` で指定したキーの数が書き込む列数より多かった場合、足りない値は `restval` の値（デフォルトは `''` ） によって埋められる |\n",
        "| `extrasaction` | `fieldnames` に存在しないキーが含まれている場合、`extrasaction` の値が `'raise'`（デフォルト）に設定されているなら、` ValueError` <br /><br />例外が送出される。`'ignore'` に設定されているなら、そのキーに対する値は無視される |\n",
        "| `dialect` | dialect オブジェクトか、その登録された名前を指定する |\n",
        "| `*args, **kwds` | コンストラクタの内部で `writer(f, dialect, *args, **kwds)` と呼び出す際に渡される |\n",
        "\n",
        "`DictWriter` も `writerow()` メソッドと `writerows()` メソッドを持つが、引数は辞書（`writerows()` メソッドの引数は辞書のイテラブル）である必要がある。この辞書は、キーがフィールド名で、値は文字列か数値でなければならない。これらのメソッドは、書式化の際に数値を `str()` で変換する。\n",
        "\n",
        "また、`DictWriter` は `writeheader()` メソッドを持ち、これを呼び出すと `fieldnames` を使用してヘッダー行を書き込む。"
      ],
      "metadata": {
        "id": "-scweXg-aFWm"
      }
    },
    {
      "cell_type": "code",
      "source": [
        "import csv\n",
        "import io\n",
        "\n",
        "with io.StringIO(newline=\"\") as f:  # ここでは open() の代わりに StringIO を使う\n",
        "    writer = csv.DictWriter(f, [\"山名\", \"標高/m\", \"山系\"], extrasaction='ignore')\n",
        "    writer.writeheader()  # ヘッダーを書き込む\n",
        "    writer.writerow({\"山名\": \"富士山\", \"標高/m\": 3776, \"山系\": \"独立峰\"})\n",
        "    writer.writerow({\"山名\": \"北岳\", \"山系\": \"赤石山脈（南アルプス）\"})  # 標高データが欠損しているが、デフォルトでは空文字列が入る\n",
        "    writer.writerow({\"山名\": \"奥穂高岳\", \"順位\": 3})  # extrasaction を 'ignore' としたので、指定外のキーが含まれていてもエラーにならない\n",
        "    # ストリームの出力\n",
        "    f.seek(0, io.SEEK_SET)  # ストリーム位置を先頭に変更\n",
        "    for line in f:\n",
        "        print(line, end=\"\")"
      ],
      "metadata": {
        "colab": {
          "base_uri": "https://localhost:8080/"
        },
        "id": "lQFo_iDHakRX",
        "outputId": "47922dc5-0ea3-4765-f5b2-bf03b556d618"
      },
      "execution_count": 4,
      "outputs": [
        {
          "output_type": "stream",
          "name": "stdout",
          "text": [
            "山名,標高/m,山系\r\n",
            "富士山,3776,独立峰\r\n",
            "北岳,,赤石山脈（南アルプス）\r\n",
            "奥穂高岳,,\r\n"
          ]
        }
      ]
    },
    {
      "cell_type": "markdown",
      "source": [
        "### 書式の推測 ###"
      ],
      "metadata": {
        "id": "P8ehU6U7wrQV"
      }
    },
    {
      "cell_type": "markdown",
      "source": [
        "アプリケーションによって CSV の実装が異なることから、 `csv` モジュールは CSV ファイルの書式を推測するための `csv.Sniffer` クラスを提供する。このクラスは以下のメソッドを持つ。\n",
        "\n",
        "| メソッド | 機能 | 戻り値 |\n",
        "|:---|:---|:---|\n",
        "| `sniff(sample, delimiters=None)` | `sample` を解析し、推測された書式に関する情報を持つ dialect オブジェクトを返す。`delimiters` <br /><br />を指定した場合、指定された区切り文字を含んでいるはずの文字列として解釈される | dialect オブジェクト |\n",
        "| `has_header(sample)` | ヘッダーが存在すると推測した場合は `True` を返す | `bool` |\n",
        "\n",
        "次のコードは、入力データの書式を推測し、CSV 形式の文字列に変換する例である。入力は TSV 形式の文字列としている。"
      ],
      "metadata": {
        "id": "KkNpH64pwsUn"
      }
    },
    {
      "cell_type": "code",
      "source": [
        "import io\n",
        "import csv\n",
        "\n",
        "tsv = '\"山名\"\\t\"標高/m\"\\t\"山系\"\\n' '\"富士山\"\\t3776\\t\"独立峰\"\\n' '\"北岳\"\\t3193.2\\t\"赤石山脈（南アルプス）\"\\n'\n",
        "\n",
        "with io.StringIO(tsv, newline=\"\") as fi, io.StringIO(newline=\"\") as fo:\n",
        "    dialect = csv.Sniffer().sniff(fi.read())\n",
        "    print(f\"{dialect.delimiter=}, {dialect.quotechar=}, {dialect.lineterminator=}\", \"\\n---\")\n",
        "    fi.seek(0)  # ファイルオブジェクトの現在位置を先頭に戻す\n",
        "    reader = csv.reader(fi, dialect)\n",
        "    writer = csv.writer(fo)\n",
        "    for row in reader:\n",
        "        writer.writerow(row)\n",
        "    # ストリームの出力\n",
        "    fo.seek(0)  # ストリーム位置を先頭に変更\n",
        "    for line in fo:\n",
        "        print(line, end=\"\")"
      ],
      "metadata": {
        "colab": {
          "base_uri": "https://localhost:8080/"
        },
        "id": "PXrj3ukmC2_n",
        "outputId": "a52bd662-4d67-4f53-9256-bb2c28b333e8"
      },
      "execution_count": 5,
      "outputs": [
        {
          "output_type": "stream",
          "name": "stdout",
          "text": [
            "dialect.delimiter='\\t', dialect.quotechar='\"', dialect.lineterminator='\\r\\n' \n",
            "---\n",
            "山名,標高/m,山系\r\n",
            "富士山,3776,独立峰\r\n",
            "北岳,3193.2,赤石山脈（南アルプス）\r\n"
          ]
        }
      ]
    },
    {
      "cell_type": "markdown",
      "source": [
        "JSON\n",
        "----"
      ],
      "metadata": {
        "id": "ejPQNIyRl_ML"
      }
    },
    {
      "cell_type": "markdown",
      "source": [
        "### 規格 ###"
      ],
      "metadata": {
        "id": "ns57IY26AE7B"
      }
    },
    {
      "cell_type": "markdown",
      "source": [
        "**JSON**（JavaScript Object Notation）は、複雑なデータ構造やオブジェクトを文字列に直列化するためのデータフォーマットの一種であり、JavaScript におけるオブジェクトのリテラル記法を参考に作られた。国際標準化団体 IETF 策定の RFC 8259 によって仕様が厳密に規格化されている。その表記法は、Python 辞書を `key: value` 対の列挙で記述する方法と似ている。\n",
        "\n",
        "JSON 形式については、次の点に注意する。\n",
        "\n",
        "  * コメント記法がない。\n",
        "  * 文字エンコーディングは UTF-8 に限る。\n",
        "  * 表現できるのは、4 つのプリミティブ型（文字列、数値、ブール値、および `null`）と 2 つの構造型（オブジェクトと配列）のみである。\n",
        "  * 文字列はダブルクォーテーション `\"` で囲う必要があり、シングルクォーテーション `'` やバッククォート `` ` `` で囲うことはできない。エスケープシーケンス（`'\\\"'`、`'\\\\'`、`'\\n'` など）は使える。\n",
        "  * 数値は整数と浮動小数点数を区別せず、すべて IEEE 754 の倍精度浮動小数点数として扱われる。10 進法表記に限る。`1.0e-10` といった指数表記はできる。\n",
        "  * ブール値は、`true` と `false` であり、すべて小文字を使う。\n",
        "  * オブジェクトは、`key: value` 対の列挙。`key` のデータ型は文字列に限る。JavaScript オブジェクトのプロパティ名のようにダブルクォートを省略することはできない。`value` にオブジェクトを指定し入れ子（ネスト）にすることができる。\n",
        "  * オブジェクトと配列において、末尾のカンマは許容されない。\n",
        "\n",
        "標準ライブラリの `json` モジュールは、JSON 形式文字列を Python のオブジェクトに変換する関数、および、逆向きの変換をする関数を提供する。\n",
        "\n",
        "`json` モジュールがサポートしている「Python オブジェクト」と「JSON で使用できる型」の対応関係は次のとおり。\n",
        "\n",
        "| Python | JSON |\n",
        "|:--:|:--:|\n",
        "| str | 文字列 |\n",
        "| int, float | 数値 |\n",
        "| None | `null` |\n",
        "| bool | ブール値 |\n",
        "| dict | オブジェクト |\n",
        "| list, tuple | 配列 |\n",
        "\n",
        "JavaScript で使用可能なグローバル定数 `NaN`, `Infinity`, `-Infinity`（それぞれ非数、正の無限大、負の無限大を表す）は、規格上、JSON では使えない。しかし、`json` モジュールの関数は、JSON の規格からは外れるが、 `NaN`, `Infinity`, `-Infinity` を対応する float の値として理解する。"
      ],
      "metadata": {
        "id": "oCC3bklrAHzD"
      }
    },
    {
      "cell_type": "markdown",
      "source": [
        "### Python オブジェクトへの変換 ###"
      ],
      "metadata": {
        "id": "CUMgjBnABPxG"
      }
    },
    {
      "cell_type": "markdown",
      "source": [
        "``` python\n",
        "json.loads(s, *, cls=None, object_hook=None, parse_float=None, parse_int=None, parse_constant=None, object_pairs_hook=None, **kw)\n",
        "```\n",
        "この関数は、 JSON 形式の文字列またはバイト列を Python のオブジェクトに変換して返す。JSON の配列は `list` オブジェクトに、JSON の数値は整数なら `int` オブジェクトに、小数なら `float` オブジェクトに変換する。\n",
        "\n",
        "| 引数 | 意味 |\n",
        "|:---|:---|\n",
        "| `s` | Python のオブジェクトに変換する対象の文字列またはバイト列を指定する |\n",
        "| `cls` | カスタマイズした `json.JSONDecoder` のサブクラスを使う場合に指定する。指定がなければ、`json.JSONDecoder` が使われる |\n",
        "| `object_hook` | 任意のオブジェクトリテラルがデコードされた結果に対し呼び出される関数を指定する。独自のデコーダを実装する目的で使用される |\n",
        "| `parse_float` | 全てのデコードされる JSON の浮動小数点数文字列に対して呼ばれる関数を指定する。デフォルトでは、`float(num_str)` と等価 |\n",
        "| `parse_int` | 全てのデコードされる JSON の整数文字列に対して呼ばれる関数を指定する。デフォルトでは、`int(num_str)` と等価 |\n",
        "| `parse_constant` | `'NaN'`, `'Infinity'`, `'-Infinity'`, `'null'`, `'true'`, `'false'` に対して呼ばれる関数を指定する |\n",
        "| `object_pairs_hook` | ペアの順序付きリストのデコード結果に対し呼び出される関数を指定する。独自のデコーダを実装する目的で使用される。この引数を<br /><br />指定すると、`object_hook` の指定は無視される |\n",
        "\n",
        "変換しようとしているデータが不正な JSON 文書だった場合、 `json.JSONDecodeError` 例外が送出される。"
      ],
      "metadata": {
        "id": "Qqm6jYJ7AKej"
      }
    },
    {
      "cell_type": "code",
      "source": [
        "import json\n",
        "from decimal import Decimal\n",
        "\n",
        "json_str = '[\"foo\", {\"bar\":[\"baz\", null, 1.0, 2]}]'\n",
        "assert json.loads(json_str) == ['foo', {'bar': ['baz', None, 1.0, 2]}]\n",
        "assert json.loads(json_str, parse_float=Decimal, parse_int=float) == ['foo', {'bar': ['baz', None, Decimal('1.0'), 2.0]}]"
      ],
      "metadata": {
        "id": "3p47b8hCAbvm"
      },
      "execution_count": 6,
      "outputs": []
    },
    {
      "cell_type": "markdown",
      "source": [
        "`parse_*` 引数以外の方法で `json` モジュールがサポートしていない Python オブジェクトへ変換するには、`object_hook` 引数にフック関数を指定する必要がある。この関数は、JSON のオブジェクトから Python の `dict` を生成するデフォルトの処理の後処理を実装する。唯一の引数として `dict` を取り、その戻り値が `dict` の代わりに使われる。\n",
        "\n",
        "たとえば、JSON のオブジェクトが `'date'` キーを持ち、値が ISO 8601 形式の YYYY-MM-DD で表した日付の文字列である場合に、値を `datetime.datetime` オブジェクトに変換するなら、次のような関数を定義することになる:"
      ],
      "metadata": {
        "id": "YCM2OAAtGtXr"
      }
    },
    {
      "cell_type": "code",
      "source": [
        "import json\n",
        "from datetime import date\n",
        "import pprint\n",
        "\n",
        "def my_json_parser(obj: dict):\n",
        "    if \"date\" in obj:\n",
        "        obj[\"date\"] = date.fromisoformat(obj[\"date\"])\n",
        "    return obj\n",
        "\n",
        "json_str = '[{\"date\": \"2000-10-16\", \"event\": \"Python 2.0 release\"}, {\"date\": \"2008-12-03\", \"event\": \"Python 3.0 release\"}]'\n",
        "# object_hook を定義しない場合\n",
        "obj = json.loads(json_str)\n",
        "pprint.pprint(obj)\n",
        "# object_hook を定義した場合\n",
        "obj = json.loads(json_str, object_hook=my_json_parser)\n",
        "pprint.pprint(obj)"
      ],
      "metadata": {
        "colab": {
          "base_uri": "https://localhost:8080/"
        },
        "id": "hyKfSCrgeWGD",
        "outputId": "da7e1b62-26f1-411d-bfc8-d7eb74cedf44"
      },
      "execution_count": 7,
      "outputs": [
        {
          "output_type": "stream",
          "name": "stdout",
          "text": [
            "[{'date': '2000-10-16', 'event': 'Python 2.0 release'},\n",
            " {'date': '2008-12-03', 'event': 'Python 3.0 release'}]\n",
            "[{'date': datetime.date(2000, 10, 16), 'event': 'Python 2.0 release'},\n",
            " {'date': datetime.date(2008, 12, 3), 'event': 'Python 3.0 release'}]\n"
          ]
        }
      ]
    },
    {
      "cell_type": "markdown",
      "source": [
        "`object_pairs_hook` で定義したフック関数の戻り値も `dict` の代わりに使われるが、この関数はデフォルトの処理における `dict()` 呼び出しの代替として呼び出される。唯一の引数としてキーと値の 2 要素タプルからなるリストを取る。`object_pairs_hook` を指定すると、`object_hook` の指定は無視される。\n",
        "\n",
        "たとえば、次のコードは、JSON オブジェクトをカスタムクラスのインスタンスへ変換する。"
      ],
      "metadata": {
        "id": "2WTryC3SnTTm"
      }
    },
    {
      "cell_type": "code",
      "source": [
        "import json\n",
        "\n",
        "# カスタムクラスを定義\n",
        "class CustomObject:\n",
        "    def __init__(self, pairs):\n",
        "        self.data = {key: value for key, value in pairs}\n",
        "\n",
        "    def __repr__(self):\n",
        "        return f\"CustomObject({self.data})\"\n",
        "\n",
        "    def __getitem__(self, key):\n",
        "        if key in self.data:\n",
        "            return self.data[key]\n",
        "        else:\n",
        "            raise AttributeError\n",
        "\n",
        "json_str = '[\"foo\", {\"bar\":[\"baz\", null, 1.0, 2]}]'\n",
        "obj = json.loads(json_str, object_pairs_hook=CustomObject)\n",
        "assert obj[1][\"bar\"][0] == \"baz\"\n",
        "obj"
      ],
      "metadata": {
        "colab": {
          "base_uri": "https://localhost:8080/"
        },
        "id": "ywi1LhM89F3M",
        "outputId": "414e6b7c-41a6-46a9-ca77-14087047299a"
      },
      "execution_count": 8,
      "outputs": [
        {
          "output_type": "execute_result",
          "data": {
            "text/plain": [
              "['foo', CustomObject({'bar': ['baz', None, 1.0, 2]})]"
            ]
          },
          "metadata": {},
          "execution_count": 8
        }
      ]
    },
    {
      "cell_type": "markdown",
      "source": [
        "``` python\n",
        "json.load(fp, *, cls=None, object_hook=None, parse_float=None, parse_int=None, parse_constant=None, object_pairs_hook=None, **kw)\n",
        "```\n",
        "\n",
        "この関数は、読み込み可能で開かれているファイルオブジェクト `fp` から読み込んだ JSON 形式の文字列またはバイト列を Python のオブジェクトに変換して返す。`fp` 以外の引数は `json.loads()` と同様。変換しようとしているデータが不正な JSON 文書だった場合、 `json.JSONDecodeError` 例外が送出される。"
      ],
      "metadata": {
        "id": "L1FbayZ-Auj2"
      }
    },
    {
      "cell_type": "code",
      "source": [
        "import json\n",
        "\n",
        "with open(\"./sample_data/anscombe.json\") as f:\n",
        "    data = json.load(f)\n",
        "    print(data[0:3])"
      ],
      "metadata": {
        "colab": {
          "base_uri": "https://localhost:8080/"
        },
        "id": "kD6hru8-kNv_",
        "outputId": "50e77272-2ecb-4c50-c666-3474264ddbc4"
      },
      "execution_count": 9,
      "outputs": [
        {
          "output_type": "stream",
          "name": "stdout",
          "text": [
            "[{'Series': 'I', 'X': 10.0, 'Y': 8.04}, {'Series': 'I', 'X': 8.0, 'Y': 6.95}, {'Series': 'I', 'X': 13.0, 'Y': 7.58}]\n"
          ]
        }
      ]
    },
    {
      "cell_type": "markdown",
      "source": [
        "### JSON 形式への変換 ###"
      ],
      "metadata": {
        "id": "hnzxM4KXAfEb"
      }
    },
    {
      "cell_type": "markdown",
      "source": [
        "``` python\n",
        "json.dumps(obj, *, skipkeys=False, ensure_ascii=True, check_circular=True, allow_nan=True, cls=None, indent=None, separators=None, default=None,\n",
        "           sort_keys=False, **kw)\n",
        "```\n",
        "\n",
        "この関数は、 Python のオブジェクトを JSON 形式の文字列に変換して返す。第 1 引数以外の引数は全てキーワード専用である。\n",
        "\n",
        "| 引数 | 意味 |\n",
        "|:---|:---|\n",
        "| `obj` | JSON 形式に変換する対象のオブジェクトを指定する |\n",
        "| `skipkeys` | `False`（デフォルト）の場合、辞書のキーに基本型（`str`, `int`, `float`, `bool`, `None`）以外のオブジェクトを指定していると、`TypeError` を送<br /><br />出する。`True` の場合、`TypeError` を送出せずに読み飛ばす |\n",
        "| `ensure_ascii` | `True`（デフォルト）の場合、入力された全ての非 ASCII 文字はエスケープされて出力される。`False` の場合、これらの文字はそのまま出力され<br /><br />る |\n",
        "| `check_circular` | `True`（デフォルト）の場合、`dict`, `list`, `tuple` の要素が参照し合ってループを成している状態（循環参照）があるかチェックする。`False` の<br /><br />場合、チェックを省略する。循環参照があると無限再帰となり `RecursionError` を引き起こす |\n",
        "| `allow_nan` | `True`（デフォルト）の場合、非数や正ないし負の無限大が含まれるなら、それぞれ JavaScript で等価な NaN, Infinity, -Infinity に変換する。<br /><br />`False` の場合、JSON 規格を厳格に守って `ValueError` 例外を送出する |\n",
        "| `cls` | カスタマイズした `json.JSONEncoder` のサブクラスを使う場合に指定する。指定がなければ、`json.JSONEncoder` が使われる |\n",
        "| `indent` | 出力する文字列が見やすいようにインデントを設定したい場合にインデントレベルを非負の整数で指定する。`'\\t'` のように個々のレベルのイ<br /><br />ンデントに使う文字列を指定することもできる。指定がなければ、最もコンパクトな表現が選択される |\n",
        "| `separators` | 要素の区切り文字と、キーと値の区切り文字を 2 要素タプルとして指定する。デフォルトは `indent` が `None` のとき `(', ', ': ')` で、そうで<br /><br />なければ `(',', ': ')` |\n",
        "| `default` | 文字列化できないオブジェクトに対して呼び出す関数を指定する |\n",
        "| `sort_keys` | `True` の場合、出力がキーでソートされる |\n",
        "\n",
        "Python のオブジェクトが日本語文字列を含む場合、`ensure_ascii=False` を指定しないと、`utf-8` 形式のバイト列にエンコードされてしまうことに注意する。\n",
        "\n",
        "最もコンパクトな JSON の表現とするには、`indent=None`（デフォルト）かつ `separators=(\",\", \":\")` と指定する。\n",
        "\n",
        "Python の `datetime` 型のように `json` モジュールが JSON 形式への変換をサポートしていないデータ型については、`default` 引数に変換用のコールバック関数を指定する必要がある。指定しない場合は、`TypeError` 例外が発生する。"
      ],
      "metadata": {
        "id": "GgO61tvUl_9Y"
      }
    },
    {
      "cell_type": "code",
      "source": [
        "from datetime import datetime\n",
        "import json\n",
        "\n",
        "obj = [\"foo\", {\"bar\": (\"baz\", None, 1.0, 2, datetime(2023, 10, 31, 18, 30))}]\n",
        "\n",
        "def json_serial(obj):\n",
        "    match obj:\n",
        "        # 日時の場合は isoformat に\n",
        "        case datetime():\n",
        "            return obj.isoformat(sep=\" \")\n",
        "        # それ以外は文字列に\n",
        "        case _:\n",
        "            return str(obj)\n",
        "\n",
        "assert json.dumps(obj, default=json_serial, separators=(\",\", \":\")) == '[\"foo\",{\"bar\":[\"baz\",null,1.0,2,\"2023-10-31 18:30:00\"]}]'\n",
        "print(json.dumps(obj, default=json_serial, indent=4))  # 見やすい表示"
      ],
      "metadata": {
        "colab": {
          "base_uri": "https://localhost:8080/"
        },
        "outputId": "d983bff6-4a8c-400c-ea01-7f220516ef22",
        "id": "0yEcb9qMTvSO"
      },
      "execution_count": 10,
      "outputs": [
        {
          "output_type": "stream",
          "name": "stdout",
          "text": [
            "[\n",
            "    \"foo\",\n",
            "    {\n",
            "        \"bar\": [\n",
            "            \"baz\",\n",
            "            null,\n",
            "            1.0,\n",
            "            2,\n",
            "            \"2023-10-31 18:30:00\"\n",
            "        ]\n",
            "    }\n",
            "]\n"
          ]
        }
      ]
    },
    {
      "cell_type": "markdown",
      "source": [
        "``` python\n",
        "json.dump(obj, fp, *, skipkeys=False, ensure_ascii=True, check_circular=True, allow_nan=True, cls=None, indent=None, separators=None, default=None,\n",
        "          sort_keys=False, **kw)\n",
        "```\n",
        "この関数は、 Python のオブジェクト `obj` を JSON 形式の文字列に変換し、書き込み可能で開かれているファイルオブジェクト `fp` に書き込む。`fp` 以外の引数は `json.dumps()` と同等。"
      ],
      "metadata": {
        "id": "MAAoQS02kGdY"
      }
    },
    {
      "cell_type": "code",
      "source": [
        "from io import StringIO\n",
        "io = StringIO()\n",
        "json.dump(['streaming API'], io)\n",
        "io.getvalue()"
      ],
      "metadata": {
        "colab": {
          "base_uri": "https://localhost:8080/",
          "height": 35
        },
        "id": "SDcTJbOQCg2I",
        "outputId": "bdd84bfc-a455-43e3-919f-15d6bf87dac7"
      },
      "execution_count": 11,
      "outputs": [
        {
          "output_type": "execute_result",
          "data": {
            "text/plain": [
              "'[\"streaming API\"]'"
            ],
            "application/vnd.google.colaboratory.intrinsic+json": {
              "type": "string"
            }
          },
          "metadata": {},
          "execution_count": 11
        }
      ]
    },
    {
      "cell_type": "markdown",
      "source": [
        "YAML\n",
        "----"
      ],
      "metadata": {
        "id": "igh2QAkTWMbF"
      }
    },
    {
      "cell_type": "markdown",
      "source": [
        "### 規格"
      ],
      "metadata": {
        "id": "c1RNnAVzlCjY"
      }
    },
    {
      "cell_type": "markdown",
      "source": [
        "YAML は、データ構造を人間が読み書きしやすい形式で直列化できるデータフォーマットであり、[GitHub のリポジトリ](https://github.com/yaml/yaml-spec)で仕様の議論が行われている。\n",
        "\n",
        "YAML の最新バージョンは YAML 1.2 であるが、前バージョン YAML 1.1 に対して後方互換性がない。\n",
        "\n",
        "仕様の概要は以下の通り。\n",
        "\n",
        "① `#` から改行まではコメントである。\n",
        "\n",
        "② スカラーとして以下のデータ型を扱うことができる。  \n",
        "  * **文字列**（String）:  \n",
        "通常引用符なしで記述できるが、数値や真理値と誤解される場合、コロン `:` を含む場合、先頭に `@`, `*`, `?`, `-` などの記号がある場合、先頭や末尾にスペースがある場合は、`'` または `\"` で囲む必要がある。空文字列は `''` または `\"\"` と書く必要がある。ダブルクォート `\"...\"` 内では `\\n` などのエスケープを使える。シングルクォート `'...'` はエスケープを解釈せず、そのまま文字列として扱う。\n",
        "  * **整数**（Integer）:  \n",
        "YAML 1.1 では `1_234_567` のように `_` で区切ることができるが、YAML 1.2 ではできなくなった。また、YAML 1.1 では `0` で始まる数値は 8 進数と解釈されるが、YAML 1.2 では `0o` または `0O` プレフィックスを使う。16 進数は `0x` プレフィックスを使う。\n",
        "  * **浮動小数点数**（Floating Point）:  \n",
        "`6.02e-23` のような指数表記も可能。`.nan` は NaN、`.inf` は正の無限大、`-.inf` は負の無限大。それらの大文字バージョン（`.NaN`、`.NAN`、`.Inf`、`.INF`）も使える。\n",
        "  * **真理値**（Boolean）:  \n",
        "`true` と `false`。大文字バージョン（`True`、`TRUE`、`False`、`FALSE`）も使える。YAML 1.1 では `yes`、`no`、`y`、`n`、`on`、`off`、それらの大文字バージョンなども使えるが、YAML 1.2 では使えない。\n",
        "  * **Null**:  \n",
        "`null` またはチルダ `~`。大文字バージョン（`Null`、`NULL`）も使える。\n",
        "\n",
        "③ コレクションとして以下のデータ型を扱うことができる。  \n",
        "  * **マッピング**（Mapping）:  \n",
        "キーと値のペアから構成され、キーと値は `:` で区切られる。ハッシュ（Hash）や辞書（Dictionary）とも呼ばれる。\n",
        "  * **シーケンス**（Sequence）:  \n",
        "配列（Array）やリスト（List）とも呼ばれる。\n",
        "\n",
        "④ YAML 文書は Unicode で表現される必要がある。ただし UTF-32 は非推奨。ほとんどのパーサーやツールは UTF-8 を前提にしている。\n",
        "\n",
        "マッピングとシーケンスの記述形式には、ブロック形式とフロー形式がある。ブロック形式では、インデント（字下げ）を使用してデータの階層構造（入れ子の構造）を表現する。\n",
        "\n",
        "``` yaml\n",
        "# マッピング - ブロック形式\n",
        "person:\n",
        "  name: Bob\n",
        "  age: 25\n",
        "  city: New York\n",
        "\n",
        "# シーケンス - ブロック形式\n",
        "fruits:\n",
        "  - apple\n",
        "  - banana\n",
        "  - orange\n",
        "```\n",
        "\n",
        "``` yaml\n",
        "# マッピング - フロー形式\n",
        "person: {name: Bob, age: 25, city: New York}\n",
        "\n",
        "# シーケンス - フロー形式\n",
        "fruits: [apple, banana, orange]\n",
        "```\n",
        "\n",
        "YAML の特徴を、他の直列化のためのデータフォーマットと比較する形で整理すると、次のようになる。\n",
        "\n",
        "| フォーマット | 形式 | 表現能力 | 危険性 | 相互運用性 |\n",
        "|:--:|:--:|:--:|:--:|:--:|\n",
        "| CSV | 文字列 | 低 | 低 | 中 |\n",
        "| JSON | 文字列 | 中 | 低 | 高 |\n",
        "| YAML | 文字列 | 高 | 中 | 高 |\n",
        "| pickle | バイト列 | 高 | 高 | 低 |\n",
        "\n",
        "[PyYAML](https://pypi.org/project/PyYAML/) は、YAML 文書を Python のオブジェクト（リストや辞書）に変換する関数、および、逆向きの変換をする関数を提供するサードパーティ製パッケージである。YAML 1.1 に対応し、YAML 1.2 には対応していない。ライセンスは MIT license。インストール方法は次のとおり。\n",
        "\n",
        "``` shell\n",
        "pip install PyYAML\n",
        "```"
      ],
      "metadata": {
        "id": "gTFglYlClDdW"
      }
    },
    {
      "cell_type": "markdown",
      "source": [
        "### Python オブジェクトへの変換 ###"
      ],
      "metadata": {
        "id": "2dwArdy63nlE"
      }
    },
    {
      "cell_type": "markdown",
      "source": [
        "``` python\n",
        "yaml.load(stream, Loader)\n",
        "```\n",
        "\n",
        "この関数は、YAML 文書を読み込み、YAML 文書がマッピングなら `dict` オブジェクトを返し、YAML 文書がシーケンスなら `list` オブジェクトを返す。\n",
        "\n",
        "第 1 引数には、読み出し可能なファイルオブジェクトか、あるいは文字列を指定する。\n",
        "\n",
        "第 2 引数 `Loader` にローダーを指定する必要がある。\n",
        "\n",
        "| ローダー | 機能 |\n",
        "|:---|:---|\n",
        "| `FullLoader` | YAML を Python の任意のクラスのインスタンスとしてロードできる。YAML を完全にロードできるが、信頼できない YAML 文書に使用する場合<br /><br />には危険である |\n",
        "| `SafeLoader` | このローダーを使うと、Python オブジェクトの生成機能は `int` や `list` などの単純な型に制限される。信頼できない YAML 文書をロードする<br /><br />場合に推奨される |\n",
        "| `BaseLoader` | このローダーを使うと、すべてのスカラーは文字列としてロードされる |\n",
        "\n",
        "``` python\n",
        "import yaml\n",
        "with open('sample.yml', 'r', encoding='utf-8') as f:\n",
        "     data = yaml.load(f, yaml.FullLoader)\n",
        "```\n",
        "\n",
        "``` python\n",
        "yaml.safe_load(stream)\n",
        "```\n",
        "\n",
        "この関数は、`yaml.load(stream, yaml.SafeLoader)` と同等。\n",
        "\n",
        "次のコードは、YAML 文書がブロック形式のマッピングを定義している。"
      ],
      "metadata": {
        "id": "wU0kZcwRWNMg"
      }
    },
    {
      "cell_type": "code",
      "source": [
        "import yaml\n",
        "yaml.safe_load('''\n",
        "# 整数\n",
        "int1: 2\n",
        "int2: -100\n",
        "\n",
        "# 浮動小数点数\n",
        "float1: 0.1\n",
        "\n",
        "# NULL\n",
        "nil1: null\n",
        "nil2: ~\n",
        "\n",
        "# Boolean (YAML 1.2 では Boolean として扱うのは true, false だけ)\n",
        "bool1: true\n",
        "bool2: false\n",
        "bool3: yes\n",
        "bool4: no\n",
        "bool5: on\n",
        "bool6: off\n",
        "\n",
        "# 日付\n",
        "birthday: 1990-01-01\n",
        "\n",
        "# タイムスタンプ\n",
        "stamp1: 2020-12-01 10:00:00\n",
        "stamp2: 2020-12-01 10:00:00 +9:00\n",
        "\n",
        "# 文字列\n",
        "str1: hoge\n",
        "str2: 'He said \"goodbye.\"'\n",
        "str3: \"spam\n",
        "ham\\\n",
        "eggs\" #二重引用符では改行が可能で、\\を付けるとエスケープできる\n",
        "\n",
        "# シーケンス-フロー形式\n",
        "list1: [Java, PHP, Python, [spam, ham, eggs]]\n",
        "\n",
        "# シーケンス-ブロック形式\n",
        "# インデントでネストを表すが、インデントにはタブが使えずスペースのみが使える\n",
        "list2:\n",
        "  - Java\n",
        "  - PHP\n",
        "  - Python\n",
        "  - - spam\n",
        "    - ham\n",
        "    - eggs\n",
        "\n",
        "# マッピング-フロー形式\n",
        "hash1: {name: John Smith, age: 33}\n",
        "\n",
        "# マッピング--ブロック形式\n",
        "# インデントでネストを表すが、インデントにはタブが使えずスペースのみが使える\n",
        "hash2:\n",
        "  name: Mary Smith\n",
        "  age: 27\n",
        "''')"
      ],
      "metadata": {
        "colab": {
          "base_uri": "https://localhost:8080/"
        },
        "id": "eLIDDVqaX8j1",
        "outputId": "8bc6341c-0cab-4bc2-9bf6-3e6706024516"
      },
      "execution_count": 12,
      "outputs": [
        {
          "output_type": "execute_result",
          "data": {
            "text/plain": [
              "{'int1': 2,\n",
              " 'int2': -100,\n",
              " 'float1': 0.1,\n",
              " 'nil1': None,\n",
              " 'nil2': None,\n",
              " 'bool1': True,\n",
              " 'bool2': False,\n",
              " 'bool3': True,\n",
              " 'bool4': False,\n",
              " 'bool5': True,\n",
              " 'bool6': False,\n",
              " 'birthday': datetime.date(1990, 1, 1),\n",
              " 'stamp1': datetime.datetime(2020, 12, 1, 10, 0),\n",
              " 'stamp2': datetime.datetime(2020, 12, 1, 10, 0, tzinfo=datetime.timezone(datetime.timedelta(seconds=32400))),\n",
              " 'str1': 'hoge',\n",
              " 'str2': 'He said \"goodbye.\"',\n",
              " 'str3': 'spam hameggs',\n",
              " 'list1': ['Java', 'PHP', 'Python', ['spam', 'ham', 'eggs']],\n",
              " 'list2': ['Java', 'PHP', 'Python', ['spam', 'ham', 'eggs']],\n",
              " 'hash1': {'name': 'John Smith', 'age': 33},\n",
              " 'hash2': {'name': 'Mary Smith', 'age': 27}}"
            ]
          },
          "metadata": {},
          "execution_count": 12
        }
      ]
    },
    {
      "cell_type": "markdown",
      "source": [
        "次のコードは、YAML 文書がブロック形式のシーケンスを定義している。"
      ],
      "metadata": {
        "id": "dbo2Wo3DjDOp"
      }
    },
    {
      "cell_type": "code",
      "source": [
        "import yaml\n",
        "yaml.safe_load('''\n",
        "# スカラー\n",
        "- 0\n",
        "\n",
        "# シーケンス\n",
        "- [1.5, 2.3, -0.7]\n",
        "\n",
        "# マッピング\n",
        "- name: Mary Smith\n",
        "  age: 27\n",
        "''')"
      ],
      "metadata": {
        "colab": {
          "base_uri": "https://localhost:8080/"
        },
        "id": "Wcexxe1B0pqu",
        "outputId": "0f7dc505-0511-4c37-bda2-39c05005db4f"
      },
      "execution_count": 13,
      "outputs": [
        {
          "output_type": "execute_result",
          "data": {
            "text/plain": [
              "[0, [1.5, 2.3, -0.7], {'name': 'Mary Smith', 'age': 27}]"
            ]
          },
          "metadata": {},
          "execution_count": 13
        }
      ]
    },
    {
      "cell_type": "markdown",
      "source": [
        "### アンカーとエイリアス ###"
      ],
      "metadata": {
        "id": "MQ8Vzash6RQk"
      }
    },
    {
      "cell_type": "markdown",
      "source": [
        "YAML では、アンカーでデータをマークすると、後でそのデータをエイリアスで参照することができる。アンカーは、 `&アンカー名` の形で、データの前に空白を挟んで記述する。エイリアスは、`*アンカー名` の形で、置いた場所にてデータが参照される。"
      ],
      "metadata": {
        "id": "vqxCkqyG67QY"
      }
    },
    {
      "cell_type": "code",
      "source": [
        "import yaml\n",
        "yaml.safe_load('''\n",
        "title: マイアプリ\n",
        "ip: &ip 127.0.0.1\n",
        "port: 443\n",
        "debug: true\n",
        "version: \"0.1\"\n",
        "db_ip: *ip\n",
        "''')"
      ],
      "metadata": {
        "colab": {
          "base_uri": "https://localhost:8080/"
        },
        "id": "O1whFT3669gN",
        "outputId": "17065ffe-172a-4cf8-99cd-8f56adb94c42"
      },
      "execution_count": 14,
      "outputs": [
        {
          "output_type": "execute_result",
          "data": {
            "text/plain": [
              "{'title': 'マイアプリ',\n",
              " 'ip': '127.0.0.1',\n",
              " 'port': 443,\n",
              " 'debug': True,\n",
              " 'version': '0.1',\n",
              " 'db_ip': '127.0.0.1'}"
            ]
          },
          "metadata": {},
          "execution_count": 14
        }
      ]
    },
    {
      "cell_type": "markdown",
      "source": [
        "アンカー / エイリアスは、スカラーだけでなく、マッピングやシーケンスに対して使うこともできる。"
      ],
      "metadata": {
        "id": "PYKONXcs-wsR"
      }
    },
    {
      "cell_type": "code",
      "source": [
        "import yaml\n",
        "yaml.safe_load('''\n",
        "node1:\n",
        "  name: one\n",
        "  options: &options\n",
        "    request_max_size: 1000\n",
        "    timeout: 10\n",
        "    backoff_factor: 0.2\n",
        "\n",
        "node2:\n",
        "  name: two\n",
        "  options: *options\n",
        "''')"
      ],
      "metadata": {
        "colab": {
          "base_uri": "https://localhost:8080/"
        },
        "id": "ebnwuX1f-xnE",
        "outputId": "e98e3ced-1fa0-4727-dd65-89edc6083252"
      },
      "execution_count": 15,
      "outputs": [
        {
          "output_type": "execute_result",
          "data": {
            "text/plain": [
              "{'node1': {'name': 'one',\n",
              "  'options': {'request_max_size': 1000, 'timeout': 10, 'backoff_factor': 0.2}},\n",
              " 'node2': {'name': 'two',\n",
              "  'options': {'request_max_size': 1000, 'timeout': 10, 'backoff_factor': 0.2}}}"
            ]
          },
          "metadata": {},
          "execution_count": 15
        }
      ]
    },
    {
      "cell_type": "markdown",
      "source": [
        "### タグ ###"
      ],
      "metadata": {
        "id": "pkdIu-j08RwU"
      }
    },
    {
      "cell_type": "markdown",
      "source": [
        "YAML では値は暗黙的に型付けされるが、値の前に `!!型名` という形式のタグを付けることで、明示的な型付けもできる。標準で使用できるタグは[公式ドキュメント](https://yaml.org/type/index.html)を参照。また、 PyYAML は `!!python/tuple` のような独自のタグを定義して Python 固有の型を明示できるようにしている。ただし、`SafeLoader` を使う場合は、独自のタグを使用するとエラーが発生する。"
      ],
      "metadata": {
        "id": "XNdWbUyx3GxC"
      }
    },
    {
      "cell_type": "code",
      "source": [
        "import yaml\n",
        "\n",
        "yaml.load('''\n",
        "boolean: !!bool \"true\"\n",
        "integer: !!int \"3\"\n",
        "float: !!float 3\n",
        "str: !!str 2020-12-01 10:00:00\n",
        "timestamp: !!timestamp \"2020-12-01 10:00:00\"\n",
        "tuple: !!python/tuple [spam, ham, eggs]\n",
        "''', yaml.FullLoader)"
      ],
      "metadata": {
        "colab": {
          "base_uri": "https://localhost:8080/"
        },
        "id": "T6qg9cpH3Hme",
        "outputId": "d30f1e18-7f39-453b-d013-b4852e519816"
      },
      "execution_count": 16,
      "outputs": [
        {
          "output_type": "execute_result",
          "data": {
            "text/plain": [
              "{'boolean': True,\n",
              " 'integer': 3,\n",
              " 'float': 3.0,\n",
              " 'str': '2020-12-01 10:00:00',\n",
              " 'timestamp': datetime.datetime(2020, 12, 1, 10, 0),\n",
              " 'tuple': ('spam', 'ham', 'eggs')}"
            ]
          },
          "metadata": {},
          "execution_count": 16
        }
      ]
    },
    {
      "cell_type": "markdown",
      "source": [
        "### 複数行の文字列 ###"
      ],
      "metadata": {
        "id": "tq5Y279M7Hef"
      }
    },
    {
      "cell_type": "markdown",
      "source": [
        "文字列に `|` でマークすると、インデント以外のすべての文字が文字列の内容と見なされる。改行が `\\n` として含まれる。最後の行の行末にも `\\n` が付く。"
      ],
      "metadata": {
        "id": "fNuBTRM-IcNc"
      }
    },
    {
      "cell_type": "code",
      "source": [
        "import yaml\n",
        "yaml.safe_load('''\n",
        "title: マイアプリ\n",
        "description: |\n",
        "  このアプリは、オンラインで\n",
        "  YAMLを解析し、エラーも表示\n",
        "  します\n",
        "''')"
      ],
      "metadata": {
        "colab": {
          "base_uri": "https://localhost:8080/"
        },
        "id": "E1TWiHH8Icfb",
        "outputId": "c5764cf0-2cae-42cc-9417-880335f119b0"
      },
      "execution_count": 17,
      "outputs": [
        {
          "output_type": "execute_result",
          "data": {
            "text/plain": [
              "{'title': 'マイアプリ', 'description': 'このアプリは、オンラインで\\nYAMLを解析し、エラーも表示\\nします\\n'}"
            ]
          },
          "metadata": {},
          "execution_count": 17
        }
      ]
    },
    {
      "cell_type": "markdown",
      "source": [
        "文字列に `|-` でマークすると、`|` とほとんど同様であるが、最後の行の行末には `\\n` が付かない。"
      ],
      "metadata": {
        "id": "PXtnc1WeoDDU"
      }
    },
    {
      "cell_type": "code",
      "source": [
        "import yaml\n",
        "yaml.safe_load('''\n",
        "title: マイアプリ\n",
        "description: |-\n",
        "  このアプリは、オンラインで\n",
        "  YAMLを解析し、エラーも表示\n",
        "  します\n",
        "''')"
      ],
      "metadata": {
        "colab": {
          "base_uri": "https://localhost:8080/"
        },
        "id": "A48S0kDfoECj",
        "outputId": "5f32e95f-14ab-4757-e47b-0988149471de"
      },
      "execution_count": 18,
      "outputs": [
        {
          "output_type": "execute_result",
          "data": {
            "text/plain": [
              "{'title': 'マイアプリ', 'description': 'このアプリは、オンラインで\\nYAMLを解析し、エラーも表示\\nします'}"
            ]
          },
          "metadata": {},
          "execution_count": 18
        }
      ]
    },
    {
      "cell_type": "markdown",
      "source": [
        "文字列に `>` でマークすると、インデント以外の文字が文字列の内容と見なされるが、途中の改行は半角スペースに置き換えられる。最後の行の行末に `\\n` が付く。これを使うと、長い行を読みやすいように複数行に記述することができる。"
      ],
      "metadata": {
        "id": "U6wqAVKsob8V"
      }
    },
    {
      "cell_type": "code",
      "source": [
        "import yaml\n",
        "yaml.safe_load('''\n",
        "title: マイアプリ\n",
        "description: >\n",
        "  このアプリは、オンラインで\n",
        "  YAMLを解析し、エラーも表示\n",
        "  します\n",
        "''')"
      ],
      "metadata": {
        "colab": {
          "base_uri": "https://localhost:8080/"
        },
        "id": "DTxXgrsBocsC",
        "outputId": "7ac494d6-88fb-4b08-c5d1-00ef03be4f65"
      },
      "execution_count": 19,
      "outputs": [
        {
          "output_type": "execute_result",
          "data": {
            "text/plain": [
              "{'title': 'マイアプリ', 'description': 'このアプリは、オンラインで YAMLを解析し、エラーも表示 します\\n'}"
            ]
          },
          "metadata": {},
          "execution_count": 19
        }
      ]
    },
    {
      "cell_type": "markdown",
      "source": [
        "### 複数の文書 ###"
      ],
      "metadata": {
        "id": "mgHVDO0Y7csw"
      }
    },
    {
      "cell_type": "markdown",
      "source": [
        "複数の YAML をハイフン 3 個の行 `---` で区切って 1 文書に結合することができる。`...` で一連のストリームの終わりを示す。複数の YAML を読み込むには、以下の関数を使う。\n",
        "\n",
        "``` python\n",
        "yaml.load_all(stream, Loader)\n",
        "yaml.safe_load_all(stream)\n",
        "```\n",
        "\n",
        "これらの関数は、各 YAML から変換した Python オブジェクトを 1 つずつ返すようなジェネレーターを返す。`yaml.safe_load_all(stream)` は、`yaml.load_all(stream, yaml.SafeLoader)` と同等。"
      ],
      "metadata": {
        "id": "YKBLsAOxl_GF"
      }
    },
    {
      "cell_type": "code",
      "source": [
        "import yaml\n",
        "\n",
        "gen = yaml.safe_load_all('''\n",
        "order: 1\n",
        "menu: ham\n",
        "---\n",
        "order: 2\n",
        "menu: egg\n",
        "''')\n",
        "\n",
        "for data in gen:\n",
        "    print(data)"
      ],
      "metadata": {
        "colab": {
          "base_uri": "https://localhost:8080/"
        },
        "id": "TEnIlZNOmADA",
        "outputId": "59979062-d93b-43e7-b55d-b5d5cb0597a5"
      },
      "execution_count": 20,
      "outputs": [
        {
          "output_type": "stream",
          "name": "stdout",
          "text": [
            "{'order': 1, 'menu': 'ham'}\n",
            "{'order': 2, 'menu': 'egg'}\n"
          ]
        }
      ]
    },
    {
      "cell_type": "markdown",
      "source": [
        "複数の YAML が埋め込まれた文書を `yaml.load()` 関数や `yaml.safe_load()` 関数でロードするとエラーが発生するので、単一の YAML かどうかわからない文書をロードする場合は、`yaml.load_all()` 関数や `yaml.safe_load_all()` 関数を使う。なお、文書の最初の行に `---` を書いて単一の YAML からなる文書であることを示す習慣があり、この場合は `yaml.load()` 関数や `yaml.safe_load()` 関数でロードすることができる。"
      ],
      "metadata": {
        "id": "giigRulstgr5"
      }
    },
    {
      "cell_type": "code",
      "source": [
        "import yaml\n",
        "\n",
        "try:\n",
        "    data = yaml.safe_load('''\n",
        "order: 1\n",
        "menu: ham\n",
        "---\n",
        "order: 2\n",
        "menu: egg\n",
        "''')\n",
        "except yaml.composer.ComposerError:\n",
        "    print(\"複数 YAML を開くことはできません\")\n",
        "\n",
        "yaml.safe_load('''\n",
        "---\n",
        "order: 1\n",
        "menu: ham\n",
        "''')"
      ],
      "metadata": {
        "colab": {
          "base_uri": "https://localhost:8080/"
        },
        "id": "3oN7MbQJtvOM",
        "outputId": "64ab99d1-c9ad-4067-8ad5-b0903750280a"
      },
      "execution_count": 21,
      "outputs": [
        {
          "output_type": "stream",
          "name": "stdout",
          "text": [
            "複数 YAML を開くことはできません\n"
          ]
        },
        {
          "output_type": "execute_result",
          "data": {
            "text/plain": [
              "{'order': 1, 'menu': 'ham'}"
            ]
          },
          "metadata": {},
          "execution_count": 21
        }
      ]
    },
    {
      "cell_type": "markdown",
      "source": [
        "### YAML 文書への変換 ###"
      ],
      "metadata": {
        "id": "hpmxYudD3zSr"
      }
    },
    {
      "cell_type": "markdown",
      "source": [
        "``` python\n",
        "yaml.dump(data, stream)\n",
        "```\n",
        "\n",
        "この関数は、Python のオブジェクトを YAML 文書に変換する。第 1 引数には、Python のオブジェクトを指定する。第 2 引数には、ファイルオブジェクトを指定する。Python に固有の型のオブジェクトは、独自のタグを付けて出力する。\n",
        "\n",
        "``` python\n",
        "with open('output.yml', 'w', encoding='utf-8') as f:\n",
        "   yaml.dump(data, f)\n",
        "```\n",
        "\n",
        "``` python\n",
        "yaml.safe_dump(data, stream)\n",
        "```\n",
        "\n",
        "この関数は、Python に固有の型のオブジェクトを受け取った場合、独自のタグを付けずに出力する。復元時に Python 固有の型のオブジェクトとして復元されない可能性がある。"
      ],
      "metadata": {
        "id": "NO5TACJmr8vp"
      }
    }
  ]
}