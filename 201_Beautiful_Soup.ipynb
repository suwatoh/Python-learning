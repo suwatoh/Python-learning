{
  "nbformat": 4,
  "nbformat_minor": 0,
  "metadata": {
    "colab": {
      "provenance": [],
      "authorship_tag": "ABX9TyOV92t84LJ71+hwaFuy9bQu",
      "include_colab_link": true
    },
    "kernelspec": {
      "name": "python3",
      "display_name": "Python 3"
    },
    "language_info": {
      "name": "python"
    }
  },
  "cells": [
    {
      "cell_type": "markdown",
      "metadata": {
        "id": "view-in-github",
        "colab_type": "text"
      },
      "source": [
        "<a href=\"https://colab.research.google.com/github/suwatoh/Python-learning/blob/main/201_Beautiful_Soup.ipynb\" target=\"_parent\"><img src=\"https://colab.research.google.com/assets/colab-badge.svg\" alt=\"Open In Colab\"/></a>"
      ]
    },
    {
      "cell_type": "markdown",
      "source": [
        "Beautiful Soup\n",
        "=============="
      ],
      "metadata": {
        "id": "0RMoedYKtPmZ"
      }
    },
    {
      "cell_type": "markdown",
      "source": [
        "Web スクレイピング\n",
        "------------------"
      ],
      "metadata": {
        "id": "7JYIJPC-tbh5"
      }
    },
    {
      "cell_type": "markdown",
      "source": [
        "**スクレイピング**（scraping）とは、「こすり落とす」という意味を持つ scrape に由来する用語で、Web やデータベースを広く探って特定の情報を抽出する手法を指す。\n",
        "\n",
        "Web API が提供されていないサイトからデータを取得するために、Web ページのスクレイピングが行われる。ただし、以下の事項に注意する。\n",
        "\n",
        "  * **Web サイトが利用規約においてスクレイピングによるデータ取得を禁止している場合**\n",
        "  * **ダウンロードの間隔を1秒以上空けていないなどの理由で、Web サイトのサーバーに過重な負担をかける場合**\n",
        "  * **取得したデータの使用が、個人や家族間での活用、情報解析、Web 検索サービスの活用といった著作権法上許容されている限度を超える場合**（情報を頒布・販売する行為など）\n",
        "  * **Web サイト自体がコンテンツを不法に複製・頒布している場合**\n",
        "\n",
        "これらの場合には、スクレイピング行為が違法とされ法的責任を問われることになる。\n",
        "\n",
        "なお、Web 検索サービスの活用を目的とする場合は、サイトの `robots.txt` ファイルで特定のユーザーエージェントでのアクセスが許可されていない URL パスを対象としたスクレイピングをしないように気を付けること。\n",
        "\n",
        "Web スクレイピングは、大まかに 3 つのステップに分けることができる。\n",
        "\n",
        "  1. データの取得\n",
        "  2. データの抽出\n",
        "  3. データの保存\n",
        "\n",
        "Requests パッケージは、データの取得に使用される。\n",
        "\n",
        "一方、[Beautiful Soup](https://pypi.org/project/beautifulsoup4/) は HTML や XML を解析する機能を提供するサードパティ製パッケージであり、Web スクレイピングにおけるデータの抽出に使用される。ライセンスは MIT License。 インストール方法は次のとおり。\n",
        "\n",
        "``` python\n",
        "pip install beautifulsoup4\n",
        "```"
      ],
      "metadata": {
        "id": "DmpzUL1ZJqaz"
      }
    },
    {
      "cell_type": "markdown",
      "source": [
        "BeautifulSoup オブジェクト\n",
        "--------------------------"
      ],
      "metadata": {
        "id": "JwtJB_gCw2PT"
      }
    },
    {
      "cell_type": "markdown",
      "source": [
        "`bs4.BeautifulSoup` オブジェクトは、与えられたマークアップが解析されて作られた木構造を表現する。コンストラクタのオプションは次のとおり。\n",
        "\n",
        "``` python\n",
        "bs4.BeautifulSoup(markup=\"\", features=None, builder=None, parse_only=None, from_encoding=None, exclude_encodings=None, element_classes=None, **kwargs)\n",
        "```\n",
        "\n",
        "主に使用するのは、次の 3 つのオプションである。\n",
        "\n",
        "| オプション | 意味 |\n",
        "|:---|:---|\n",
        "| `markup` | パースするマークアップを文字列、バイト列またはファイルオブジェクトで指定する。Requests を使って取得したデータをパースする場合は、その `text` 属性よりも `content` <br />属性を渡したほうが文字化けしない |\n",
        "| `features` | 使用するパーサーを指定する。`None` を指定した場合（デフォルト）、標準ライブラリの `'html.parser'` モジュールが使用される |\n",
        "| `from_encoding` | マークアップの文字コードを文字列で指定する。`None` を指定した場合（デフォルト）、文字コードが自動で検出される。自動検出の結果が間違っている場合は、文字化けとな<br />り、正しいパースが行われない |\n",
        "| `exclude_encodings` | 除外する文字コードを文字列のリストで指定する。間違った文字コードが自動検出される場合は、それを含むリストを渡すと、正しい文字コードが推測されることがある |\n",
        "\n",
        "`features` オプションに指定できるパーサーは次のとおり。\n",
        "\n",
        "| パーサー | マークアップ | 特徴 |\n",
        "|:---|:---|:---|\n",
        "| `'html.parser'` | HTML | Python 標準ライブラリの `html.parser` モジュールが提供するパーサー。低速 |\n",
        "| `'html5lib'` | HTML | [html5lib](https://pypi.org/project/html5lib/) パッケージが提供するパーサー。標準規格に従っていない HTML でもパースしてくれる |\n",
        "| `'lxml'` | HTML | [lxml](https://pypi.org/project/lxml/) パッケージが提供するパーサー。C で書かれているため高速だが、標準規格に従っていない HTML の解析に失敗する |\n",
        "| `'lxml-xml'` または `'xml'` | XML | `lxml` パッケージが提供するパーサー。XML をパースする |\n",
        "\n",
        "基本的に `'lxml'` を指定し、うまくいかない場合は `'html.parser'` を使うようにすればよい。ただし、lxml パッケージをインストールする必要がある。\n",
        "\n",
        "マークアップを文字列で指定する例:"
      ],
      "metadata": {
        "id": "nuklg2rRw3FX"
      }
    },
    {
      "cell_type": "code",
      "source": [
        "from bs4 import BeautifulSoup\n",
        "print(BeautifulSoup(\"<html><head></head><body>Sacr&eacute; bleu!</body></html>\"))"
      ],
      "metadata": {
        "colab": {
          "base_uri": "https://localhost:8080/"
        },
        "id": "yqKBUCZ79nCk",
        "outputId": "07c19154-c5c0-48e6-8f98-e846fe806519"
      },
      "execution_count": null,
      "outputs": [
        {
          "output_type": "stream",
          "name": "stdout",
          "text": [
            "<html><head></head><body>Sacré bleu!</body></html>\n"
          ]
        }
      ]
    },
    {
      "cell_type": "markdown",
      "source": [
        "マークアップをファイルオブジェクトで指定する例:\n",
        "\n",
        "``` python\n",
        "from bs4 import BeautifulSoup\n",
        "\n",
        "with open(\"index.html\") as fp:\n",
        "    soup = BeautifulSoup(fp, 'lxml')\n",
        "```"
      ],
      "metadata": {
        "id": "aOhw11DF_Dy_"
      }
    },
    {
      "cell_type": "markdown",
      "source": [
        "タグオブジェクト\n",
        "----------------"
      ],
      "metadata": {
        "id": "BV7i517vYqks"
      }
    },
    {
      "cell_type": "markdown",
      "source": [
        "`bs4.Tag` オブジェクト（以下、タグオブジェクト）は、マークアップの要素を表す。マークアップの解析により、タグオブジェクトと `bs4.NavigableString` オブジェクトを節点とするツリーが構築される。`bs4.BeautifulSoup` は `bs4.Tag` のサブクラスであり、ツリーのルートを表す。`bs4.NavigableString` は、タグで囲まれたテキストを表す。親要素のタグオブジェクトから、ドット `.` 記法と要素名で子要素のタグオブジェクトにアクセスできる（直接の子要素でなくてもよい）。ただしこの方法では、マークアップ中に同じタグが複数含まれていても、親要素のタグから見て最初に現れるものに対応するタグオブジェクトにしかアクセスできないことに注意する。"
      ],
      "metadata": {
        "id": "EDGM-GgQYrXe"
      }
    },
    {
      "cell_type": "markdown",
      "source": [
        "### タグオブジェクトの属性 ###"
      ],
      "metadata": {
        "id": "IN6CZDZWj527"
      }
    },
    {
      "cell_type": "markdown",
      "source": [
        "タグオブジェクトの主な属性は次のとおり。\n",
        "\n",
        "| 属性 | 意味 |\n",
        "|:---|:---|\n",
        "| `name` | タグ名の文字列 |\n",
        "| `attrs` | タグの属性の名前と値の組からなる辞書。複数の値を持つことが許される属性（`class` など）の値はリストになっている |\n",
        "| `text` | （読み出し専用）要素のテキスト（文字列）。`get_text()` と同じ |\n",
        "| `string` | 直接の子要素の `bs4.NavigableString` オブジェクト。要素がタグのある子要素を持つときは `None` である |\n",
        "| `stripped_strings` | （読み出し専用）子孫要素の `bs4.NavigableString` オブジェクトを返すジェネレーター |\n",
        "| `contents` | 子要素のリスト |\n",
        "\n",
        "タグオブジェクトに対し添字表記（`[key]`）を使うと、タグの属性を参照できる。キー `key` が存在しない場合はエラーが発生する。"
      ],
      "metadata": {
        "id": "at8mIOFXj8Gg"
      }
    },
    {
      "cell_type": "code",
      "source": [
        "from bs4 import BeautifulSoup\n",
        "import requests\n",
        "\n",
        "response = requests.get(\"https://www.python.org/\")\n",
        "soup = BeautifulSoup(response.content, \"lxml\")\n",
        "print(f\"{soup.title=}\")\n",
        "print(f\"{soup.title.name=}\")\n",
        "print(f\"{soup.title.text=}\")\n",
        "print(f\"{soup.h1=}\")\n",
        "print(f\"{soup.h1.contents=}\")\n",
        "print(f\"{soup.img=}\")\n",
        "print(f\"{soup.img.attrs=}\")\n",
        "print(f\"{soup.img['src']=}\")\n",
        "try:\n",
        "    print(f\"{soup.img['hoge']=}\")\n",
        "except KeyError:\n",
        "    print(\"'hoge'キーは存在しない\")"
      ],
      "metadata": {
        "colab": {
          "base_uri": "https://localhost:8080/"
        },
        "id": "CyoKGU9bT_rn",
        "outputId": "9ef6913c-f08b-452a-af12-c2f00c30b4ce"
      },
      "execution_count": null,
      "outputs": [
        {
          "output_type": "stream",
          "name": "stdout",
          "text": [
            "soup.title=<title>Welcome to Python.org</title>\n",
            "soup.title.name='title'\n",
            "soup.title.text='Welcome to Python.org'\n",
            "soup.h1=<h1 class=\"site-headline\">\n",
            "<a href=\"/\"><img alt=\"python™\" class=\"python-logo\" src=\"/static/img/python-logo.png\"/></a>\n",
            "</h1>\n",
            "soup.h1.contents=['\\n', <a href=\"/\"><img alt=\"python™\" class=\"python-logo\" src=\"/static/img/python-logo.png\"/></a>, '\\n']\n",
            "soup.img=<img alt=\"python™\" class=\"python-logo\" src=\"/static/img/python-logo.png\"/>\n",
            "soup.img.attrs={'class': ['python-logo'], 'src': '/static/img/python-logo.png', 'alt': 'python™'}\n",
            "soup.img['src']='/static/img/python-logo.png'\n",
            "'hoge'キーは存在しない\n"
          ]
        }
      ]
    },
    {
      "cell_type": "markdown",
      "source": [
        "`text` 属性は、要素内のタグで囲まれた文字列（テキスト）を再帰的に取得し、連結する。子要素のテキストも含まれた文字列を取得できる。改行も含まれることに注意する。\n",
        "\n",
        "一方、`string` 属性は、直接の子要素の `bs4.NavigableString` オブジェクトを得る。タグに囲まれたテキストもツリーの節点となっていて、`bs4.NavigableString` オブジェクトがこれに対応している。`string` 属性は、タグオブジェクトから延びる枝が `bs4.NavigableString` オブジェクトだけである場合に、それを参照し、そうでない場合は `None` を返すプロパティである。\n",
        "\n",
        "タグの中に複数の要素がある場合でも、`stripped_strings` 属性で文字列だけを確認することができる。`stripped_strings` は余分な空白（改行を含む）を削除した文字列を返す。"
      ],
      "metadata": {
        "id": "8cATCs2mGn6c"
      }
    },
    {
      "cell_type": "code",
      "source": [
        "from bs4 import BeautifulSoup, NavigableString\n",
        "\n",
        "html_doc = '''<body>\n",
        "<div>\n",
        "<p class=\"overview\">テスト <b>TEST</b>てすと</p>\n",
        "</div>\n",
        "</body>\n",
        "'''\n",
        "soup = BeautifulSoup(html_doc, \"html.parser\")\n",
        "print(f\"{soup.text=}\")\n",
        "print(f\"{soup.div.text=}\")\n",
        "print(f\"{soup.p.text=}\")\n",
        "print(f\"{soup.b.text=}\")\n",
        "print(f\"{soup.string=}\")\n",
        "print(f\"{soup.div.string=}\")\n",
        "print(f\"{soup.p.string=}\")\n",
        "print(f\"{soup.b.string=}\")\n",
        "assert isinstance(soup.b.string, NavigableString)  # string 属性が返すのは文字列ではない\n",
        "print([x for x in soup.stripped_strings])"
      ],
      "metadata": {
        "colab": {
          "base_uri": "https://localhost:8080/"
        },
        "id": "yWOw8dw9Go2m",
        "outputId": "20aa53ee-66c0-4562-85be-b0fe21813835"
      },
      "execution_count": null,
      "outputs": [
        {
          "output_type": "stream",
          "name": "stdout",
          "text": [
            "soup.text='\\n\\nテスト TESTてすと\\n\\n\\n'\n",
            "soup.div.text='\\nテスト TESTてすと\\n'\n",
            "soup.p.text='テスト TESTてすと'\n",
            "soup.b.text='TEST'\n",
            "soup.string=None\n",
            "soup.div.string=None\n",
            "soup.p.string=None\n",
            "soup.b.string='TEST'\n",
            "['テスト', 'TEST', 'てすと']\n"
          ]
        }
      ]
    },
    {
      "cell_type": "markdown",
      "source": [
        "### タグオブジェクトのメソッド ###"
      ],
      "metadata": {
        "id": "8I8KefXNkOQr"
      }
    },
    {
      "cell_type": "markdown",
      "source": [
        "``` python\n",
        "tag.prettify(encoding=None, formatter=\"minimal\")\n",
        "```\n",
        "\n",
        "このメソッドは、ツリーをタグ付きのテキストとして書式化して返す。"
      ],
      "metadata": {
        "id": "s1x4Tv4qKCeM"
      }
    },
    {
      "cell_type": "code",
      "source": [
        "from bs4 import BeautifulSoup\n",
        "\n",
        "html_doc = '''<html><head><title>テスト HTML</title></head>\n",
        "<body>\n",
        "<div>\n",
        "<p class=\"overview\">テスト<b>TEST</b>てすと\n",
        "'''\n",
        "soup = BeautifulSoup(html_doc, \"html.parser\")\n",
        "print(soup.prettify())"
      ],
      "metadata": {
        "colab": {
          "base_uri": "https://localhost:8080/"
        },
        "id": "wL_ro1aDMmiz",
        "outputId": "361cc47d-5f02-4421-f0ad-508a64ddd1d4"
      },
      "execution_count": null,
      "outputs": [
        {
          "output_type": "stream",
          "name": "stdout",
          "text": [
            "<html>\n",
            " <head>\n",
            "  <title>\n",
            "   テスト HTML\n",
            "  </title>\n",
            " </head>\n",
            " <body>\n",
            "  <div>\n",
            "   <p class=\"overview\">\n",
            "    テスト\n",
            "    <b>\n",
            "     TEST\n",
            "    </b>\n",
            "    てすと\n",
            "   </p>\n",
            "  </div>\n",
            " </body>\n",
            "</html>\n",
            "\n"
          ]
        }
      ]
    },
    {
      "cell_type": "markdown",
      "source": [
        "``` python\n",
        "tag.get(key, default=None)\n",
        "```\n",
        "\n",
        "このメソッドは、名前が `key` の属性の値を返す。そのような属性が存在しない場合は、`default` を返す。`tag.attrs.get(key, default)` と等価である。"
      ],
      "metadata": {
        "id": "CvyZzZgwlnU1"
      }
    },
    {
      "cell_type": "code",
      "source": [
        "from bs4 import BeautifulSoup\n",
        "\n",
        "html_doc = '<div><p class=\"overview\">テスト</p></div>'\n",
        "soup = BeautifulSoup(html_doc, \"html.parser\")\n",
        "assert soup.p.get(\"class\") ==  [\"overview\"]"
      ],
      "metadata": {
        "id": "Rx7l9SGmloQj"
      },
      "execution_count": null,
      "outputs": []
    },
    {
      "cell_type": "markdown",
      "source": [
        "``` python\n",
        "tag.find(name=None, attrs={}, recursive=True, string=None, **kwargs)\n",
        "```\n",
        "\n",
        "このメソッドは、引数に指定した検索条件にマッチした最初の要素（タグオブジェクトか `bs4.NavigableString` オブジェクト）を返す。`tag.p` は `tag.find(\"p\")` と等価である。\n",
        "\n",
        "| 引数 | 意味 |\n",
        "|:---|:---|\n",
        "| `name` | 要素の名前（タグ名）で検索する |\n",
        "| `attrs` | 辞書で指定した要素の属性名と値で検索する |\n",
        "| `recursive` | `False` の場合、直下の子要素のみが検索対象となる |\n",
        "| `string` | タグで囲まれたテキストを指定する。これを指定すると、戻り値の型は `bs4.NavigableString` オブジェクトとなる |\n",
        "| `kwargs` | キーワード引数として属性の名前と値を与えてフィルターを指定する。ただし、`class` は Python の予約語なのでアンダースコアを付けて `class_` とする |\n",
        "\n",
        "`string` や `kwargs` でのマッチは完全一致である。値に正規表現オブジェクトを指定して、正規表現でフィルタリングすることもできる。\n",
        "\n",
        "複数の引数で検索条件を指定した場合は、それらの条件の AND 検索が行われる。"
      ],
      "metadata": {
        "id": "vC1TC-JPvIRx"
      }
    },
    {
      "cell_type": "code",
      "source": [
        "from bs4 import BeautifulSoup, NavigableString\n",
        "import re\n",
        "\n",
        "html_doc = \"\"\"<div>\n",
        "<p>属性なし</p>\n",
        "<p class=\"overview\">class 属性あり</p>\n",
        "<p class=\"overview\" id=\"123\">class 属性と id 属性あり</p>\n",
        "<p><a href=\"https://www.python.org/\">python.org トップページ</a></p>\n",
        "<p><a href=\"https://docs.python.org/ja/3/\">Python 公式ドキュメント</a></p>\n",
        "</div>\n",
        "\"\"\"\n",
        "soup = BeautifulSoup(html_doc, \"html.parser\")\n",
        "assert soup.find(\"p\").text == \"属性なし\"  # soup.p.text と等価\n",
        "assert soup.find(attrs={\"class\": \"overview\"}).text == \"class 属性あり\"\n",
        "assert soup.find(\"p\", class_=\"overview\", id=\"123\").text == \"class 属性と id 属性あり\"\n",
        "assert soup.find(href=re.compile(r\"/3/$\")).text == \"Python 公式ドキュメント\"\n",
        "t = soup.find(string=\"python.org トップページ\")\n",
        "assert isinstance(t, NavigableString)  # 戻り値の型は bs4.NavigableString\n",
        "print(t)"
      ],
      "metadata": {
        "colab": {
          "base_uri": "https://localhost:8080/"
        },
        "id": "oQyJeSptvodP",
        "outputId": "fbcebd8e-5be8-42cd-b9ba-5d97e9c1a77f"
      },
      "execution_count": null,
      "outputs": [
        {
          "output_type": "stream",
          "name": "stdout",
          "text": [
            "python.org トップページ\n"
          ]
        }
      ]
    },
    {
      "cell_type": "markdown",
      "source": [
        "``` python\n",
        "tag.find_all(name=None, attrs={}, recursive=True, string=None, limit=None, **kwargs)\n",
        "```\n",
        "\n",
        "このメソッドは、引数に指定した検索条件にマッチした要素（タグオブジェクトか `bs4.NavigableString` オブジェクト）のリスト `bs4.ResultSet` オブジェクトを返す（`bs4.ResultSet` は `list` のサブクラスである）。引数の `limit` に指定した数だけ要素が見つかった時点で探索を終了する。`limit` が `None` の場合（デフォルト）、すべての要素を探索する。その他の引数の意味は、`find()` メソッドと同様である。\n",
        "\n",
        "タグオブジェクトは呼び出し可能オブジェクトでもあり、`()` を付けて呼び出すことができる。`tag(*args, **kwargs)` は `tag.find_all(*args, **kwargs)` と等価である。"
      ],
      "metadata": {
        "id": "xNOUvFVX0_HW"
      }
    },
    {
      "cell_type": "code",
      "source": [
        "for elem in soup.find_all(\"p\", class_=\"overview\"):\n",
        "    print(elem)\n",
        "assert soup(\"a\") == soup.find_all(\"a\")"
      ],
      "metadata": {
        "colab": {
          "base_uri": "https://localhost:8080/"
        },
        "id": "WMD6ax081ABT",
        "outputId": "0d70eafe-ca72-4684-b410-215d222c5eca"
      },
      "execution_count": null,
      "outputs": [
        {
          "output_type": "stream",
          "name": "stdout",
          "text": [
            "<p class=\"overview\">class 属性あり</p>\n",
            "<p class=\"overview\" id=\"123\">class 属性と id 属性あり</p>\n"
          ]
        }
      ]
    },
    {
      "cell_type": "markdown",
      "source": [
        "``` python\n",
        "tag.select(selector, namespaces=None, limit=None, **kwargs)\n",
        "```\n",
        "\n",
        "このメソッドは、CSS セレクターを使って、マッチするタグオブジェクトのリスト `bs4.ResultSet` オブジェクトを返す。\n",
        "\n",
        "| 引数 | 意味 |\n",
        "|:---|:---|\n",
        "| `selector` | CSS セレクターを文字列で指定する |\n",
        "| `namespaces` | XML の名前空間を辞書で指定する |\n",
        "| `limit` | 指定した数だけ要素が見つかった時点で探索を終了する |"
      ],
      "metadata": {
        "id": "yLmNGymMFBof"
      }
    },
    {
      "cell_type": "code",
      "source": [
        "print(f'{soup.select(\"p > a\")=}')\n",
        "print(f'{soup.select(\"p.overview\")=}')"
      ],
      "metadata": {
        "colab": {
          "base_uri": "https://localhost:8080/"
        },
        "id": "2rf2KYeuFCt0",
        "outputId": "0f5f035b-5aca-4238-8eaa-e071700245c7"
      },
      "execution_count": null,
      "outputs": [
        {
          "output_type": "stream",
          "name": "stdout",
          "text": [
            "soup.select(\"p > a\")=[<a href=\"https://www.python.org/\">python.org トップページ</a>, <a href=\"https://docs.python.org/ja/3/\">Python 公式ドキュメント</a>]\n",
            "soup.select(\"p.overview\")=[<p class=\"overview\">class 属性あり</p>, <p class=\"overview\" id=\"123\">class 属性と id 属性あり</p>]\n"
          ]
        }
      ]
    },
    {
      "cell_type": "markdown",
      "source": [
        "タグオブジェクトの属性は、一部の読み出し専用プロパティを除いて、変更可能である。この変更は、直ちにツリー全体に反映される。なお、テキストを上書きするときは、`text` 属性ではなく、`string` 属性を使わなければならない（`text` 属性は読み出し専用プロパティである）。たとえば、次のコードは、`<div>` タグを `<p>` タグに変更し、テキストを大文字に変換している。"
      ],
      "metadata": {
        "id": "u0JXucfJ5KTg"
      }
    },
    {
      "cell_type": "code",
      "source": [
        "from bs4 import BeautifulSoup\n",
        "\n",
        "html_doc = \"\"\"<body>\n",
        "<div>spam</div>\n",
        "<div>ham</div>\n",
        "<div>eggs</div>\n",
        "</body>\n",
        "\"\"\"\n",
        "soup = BeautifulSoup(html_doc, \"html.parser\")\n",
        "for elem in soup(\"div\"):\n",
        "    elem.name = \"p\"\n",
        "    elem.string = elem.text.upper()\n",
        "print(soup)"
      ],
      "metadata": {
        "colab": {
          "base_uri": "https://localhost:8080/"
        },
        "id": "uCbix_VB5LTi",
        "outputId": "bf4906fe-e4f3-4ac3-b386-b8e2a6e41bd2"
      },
      "execution_count": null,
      "outputs": [
        {
          "output_type": "stream",
          "name": "stdout",
          "text": [
            "<body>\n",
            "<p>SPAM</p>\n",
            "<p>HAM</p>\n",
            "<p>EGGS</p>\n",
            "</body>\n",
            "\n"
          ]
        }
      ]
    },
    {
      "cell_type": "markdown",
      "source": [
        "``` python\n",
        "tag.select_one(selector, namespaces=None, **kwargs)\n",
        "```\n",
        "\n",
        "このメソッドは、CSS セレクターを使って、マッチする最初のタグオブジェクトを返す。引数の意味は `select()` メソッドと同じ。\n",
        "\n",
        "``` python\n",
        "tag.decompose()\n",
        "```\n",
        "\n",
        "このタグを削除する。子要素もすべて削除される。\n",
        "\n",
        "``` python\n",
        "tag.clear(decompose=False)\n",
        "```\n",
        "\n",
        "子要素をすべて削除する。`decompose` 引数を `True` に指定すると、子要素の削除に `decompose()` メソッドが使われる。この場合、子要素に `bs4.NavigableString` オブジェクトが含まれるとエラーとなる。\n",
        "\n",
        "なお、要素の属性を削除するためには、del 文を使って `del tag[\"name\"]` のように書く。"
      ],
      "metadata": {
        "id": "omdDwcKd_WhZ"
      }
    },
    {
      "cell_type": "markdown",
      "source": [
        "クラス階層\n",
        "----------"
      ],
      "metadata": {
        "id": "WepFmar9_JCY"
      }
    },
    {
      "cell_type": "markdown",
      "source": [
        "Beautiful Soup の主要なクラスの階層は次のようになっている。\n",
        "\n",
        "``` text\n",
        "PageElement\n",
        " ├───── Tag\n",
        " │            └── BeautifulSoup\n",
        " │\n",
        " │\n",
        " └──┐\n",
        "       ├── NavigableString\n",
        "str  ─┘      ├─ PreformattedString\n",
        "               │    ├─ CData\n",
        "               │    ├─ ProcessingInstruction\n",
        "               │    ├─ XMLProcessingInstruction\n",
        "               │    ├─ Comment\n",
        "               │    ├─ Declaration\n",
        "               │    ├─ Doctype\n",
        "               ├─ Stylesheet\n",
        "               ├─ Script\n",
        "               ├─ TemplateString\n",
        "               ├─ RubyTextString\n",
        "               └─ RubyParenthesisString\n",
        "```\n",
        "\n",
        "以降で取り上げるメソッドは、ほとんどが `bs4.PageElement` のメソッドを継承したものとなる。したがって、`bs4.NavigableString` オブジェクトでも使うことができる。"
      ],
      "metadata": {
        "id": "ZZUfvERkPk05"
      }
    },
    {
      "cell_type": "markdown",
      "source": [
        "テキストの取得\n",
        "--------------"
      ],
      "metadata": {
        "id": "JDd7oaJ8RyGP"
      }
    },
    {
      "cell_type": "markdown",
      "source": [
        "`text` 属性は、`get_text()` メソッドを引数なしで呼び出すプロパティである。`get_text()` メソッドを直接呼び出す場合、以下の引数を指定できる。\n",
        "\n",
        "``` python\n",
        "get_text(separator=\"\", strip=False, types=object())\n",
        "```\n",
        "\n",
        "| 引数 | 意味 |\n",
        "|:---|:---|\n",
        "| `separator` | タグで区切られていた位置に指定した文字列を挿入する |\n",
        "| `strip` | `True` を指定するとタグの周りの空白（改行を含む）を取り除く |\n",
        "| `types` | `bs4.NavigableString` のサブクラスをタプルで指定できる。標準では取得できない要素を取得する際に指定する |\n",
        "\n",
        "`get_text()` メソッドは、デフォルトでは `bs4.NavigableString` と `bs4.CData` オブジェクトを再帰的に取得し、文字列化して返す。つまり、`get_text()` と `get_text(types=(bs4.NavigableString, bs4.CData))` は等価である。\n",
        "\n",
        "`bs4.NavigableString` のサブクラスは、次のものが定義されている。\n",
        "\n",
        "| サブクラス | 意味 | プレフィックス | サフィックス |\n",
        "|:---|:---|:---|:---|\n",
        "| `bs4.element.PreformattedString` | 基底クラス。プレフィックスとサフィックスを持つ | `''` | `''` |\n",
        "| `bs4.element.CData` ★ | CDATA ブロックを表すクラス | `'<![CDATA['` | `']]>'` |\n",
        "| `bs4.element.ProcessingInstruction` ★ | SGML を表すクラス。SGML は XML の前身になったフォーマット | `'<?'` | `'>'` |\n",
        "| `bs4.element.XMLProcessingInstruction` | XML を表すクラス | `'<?'` | `'?>'` |\n",
        "| `bs4.element.Comment` ★ | HTML と XML のコメントを表すクラス | `'<!--'` | `'-->'` |\n",
        "| `bs4.element.Declaration` ★ | XML の宣言を表すクラス | `'<?'` | `'?>'` |\n",
        "| `bs4.element.Doctype` ★ | DOCTYPE を表すクラス | `'<!DOCTYPE '` | `'>\\n'` |\n",
        "| `bs4.element.Stylesheet` ★ | スタイルシートを表すクラス | | |\n",
        "| `bs4.element.Script` ★ | スクリプトを表すクラス。JavaScript など | | |\n",
        "| `bs4.element.TemplateString` ★ | 大きな文書の中に埋め込まれた HTML テンプレートの中で見られる文字列を表すクラス | | |\n",
        "| `bs4.element.RubyTextString` | ルビ文字を指定する `<rt>` タグのテキストを表すクラス | | |\n",
        "| `bs4.element.RubyParenthesisString` | ルビ代替表示文字を指定する `<rp>` タグのテキストを表すクラス | | |\n",
        "\n",
        "★印は、名前空間 `bs4` でもインポートされている。例えば、`bs4.element.Comment` は `bs4.Comment` で参照できる。"
      ],
      "metadata": {
        "id": "E2lPzKr7RzA8"
      }
    },
    {
      "cell_type": "code",
      "source": [
        "from bs4 import BeautifulSoup\n",
        "\n",
        "html_doc = \"\"\"<div>\n",
        "  red\n",
        "  <p>b l u e</p>\n",
        "  <span> green </span>\n",
        "</div>\n",
        "\"\"\"\n",
        "\n",
        "soup = BeautifulSoup(html_doc, \"html.parser\")\n",
        "print(soup.get_text())  # soup.text と同じ\n",
        "print(\"-\" * 30)\n",
        "print(soup.get_text(strip=True))\n",
        "print(\"-\" * 30)\n",
        "print(soup.get_text(strip=True, separator=\"++\"))"
      ],
      "metadata": {
        "colab": {
          "base_uri": "https://localhost:8080/"
        },
        "id": "keMt75ndsXY4",
        "outputId": "b491d1d4-61b7-4ccb-91e0-2beb5f4b827e"
      },
      "execution_count": null,
      "outputs": [
        {
          "output_type": "stream",
          "name": "stdout",
          "text": [
            "\n",
            "  red\n",
            "  b l u e\n",
            " green \n",
            "\n",
            "\n",
            "------------------------------\n",
            "redb l u egreen\n",
            "------------------------------\n",
            "red++b l u e++green\n"
          ]
        }
      ]
    },
    {
      "cell_type": "code",
      "source": [
        "from bs4 import BeautifulSoup, Script\n",
        "\n",
        "html_doc = \"<div><script>console.log(1)</script></div>\"\n",
        "soup = BeautifulSoup(html_doc, \"html.parser\")\n",
        "print(soup.get_text())  # デフォルトでは <script> タグの中身は取得できない\n",
        "print(\"-\" * 30)\n",
        "print(soup.get_text(types=(Script,)))"
      ],
      "metadata": {
        "colab": {
          "base_uri": "https://localhost:8080/"
        },
        "id": "uAvhgP2zJIHY",
        "outputId": "a3d7f814-d09c-42f8-8cef-32e083d17a50"
      },
      "execution_count": null,
      "outputs": [
        {
          "output_type": "stream",
          "name": "stdout",
          "text": [
            "\n",
            "------------------------------\n",
            "console.log(1)\n"
          ]
        }
      ]
    },
    {
      "cell_type": "markdown",
      "source": [
        "要素の取得\n",
        "----------"
      ],
      "metadata": {
        "id": "nrBA37Q8n7DI"
      }
    },
    {
      "cell_type": "markdown",
      "source": [
        "``` python\n",
        "find_parent(name=None, attrs={}, **kwargs)\n",
        "find_parents(name=None, attrs={}, limit=None, **kwargs)\n",
        "```\n",
        "\n",
        "このメソッドは、引数に指定した検索条件にマッチした親要素（タグオブジェクトか bs4.NavigableString オブジェクト）を返す。`find_parents()` メソッドはすべての親要素のリスト `bs4.ResultSet` オブジェクトを返す。引数の意味は、`find()` および `find_all()` と同様である。\n",
        "\n",
        "``` python\n",
        "find_previous_sibling(name=None, attrs={}, string=None, **kwargs)\n",
        "find_previous_siblings(name=None, attrs={}, string=None, limit=None, **kwargs)\n",
        "```\n",
        "\n",
        "このメソッドは、引数に指定した検索条件にマッチした前の兄弟要素（タグオブジェクトか bs4.NavigableString オブジェクト）を返す。`find_previous_siblings()` メソッドはすべての前の兄弟要素のリスト `bs4.ResultSet` オブジェクトを返す。引数の意味は、`find()` および `find_all()` と同様である。\n",
        "\n",
        "``` python\n",
        "find_next_sibling(name=None, attrs={}, string=None, **kwargs)\n",
        "find_next_siblings(name=None, attrs={}, string=None, limit=None, **kwargs)\n",
        "```\n",
        "\n",
        "このメソッドは、引数に指定した検索条件にマッチした次の兄弟要素（タグオブジェクトか bs4.NavigableString オブジェクト）を返す。`find_next_siblings` メソッドはすべての次の兄弟要素のリスト `bs4.ResultSet` オブジェクトを返す。引数の意味は、`find()` および `find_all()` と同様である。"
      ],
      "metadata": {
        "id": "t-64FJuBn72i"
      }
    },
    {
      "cell_type": "markdown",
      "source": [
        "ツリーの変更\n",
        "------------"
      ],
      "metadata": {
        "id": "gyjHgl23sV8a"
      }
    },
    {
      "cell_type": "markdown",
      "source": [
        "``` python\n",
        "soup.new_tag(name, namespace=None, nsprefix=None, attrs={}, sourceline=None, sourcepos=None, **kwattrs)\n",
        "```\n",
        "\n",
        "これは、`bs4.BeautifulSoup` オブジェクトのメソッドで、新しいタグを作成し、タグオブジェクトを返す。主な引数は次のとおり。\n",
        "\n",
        "| 引数 | 意味 |\n",
        "|:---|:---|\n",
        "| `name` | 新しいタグの名前 |\n",
        "| `attrs` | 新しいタグの属性の名前と値を辞書で指定する |\n",
        "| `kwattrs` | 新しいタグの属性の名前と値をキーワード引数で指定する |\n",
        "\n",
        "``` python\n",
        "soup.new_string(s, subclass=None):\n",
        "```\n",
        "\n",
        "これは、`bs4.BeautifulSoup` オブジェクトのメソッドで、新しいテキストを作成し、`bs4.NavigableString` オブジェクトを返す。`subclass` に `bs4.NavigableString` のサブクラスを指定できる。\n",
        "\n",
        "``` python\n",
        "soup.wrap(wrap_inside)\n",
        "```\n",
        "\n",
        "このメソッドは、このオブジェクトの親要素として `wrap_inside` に指定したタグオブジェクトをツリーに挿入する。\n",
        "\n",
        "``` python\n",
        "soup.unwrap()\n",
        "```\n",
        "\n",
        "このメソッドは、このオブジェクトだけを取り除いて、子要素は残す。\n",
        "\n",
        "``` python\n",
        "soup.extract()\n",
        "```\n",
        "\n",
        "このメソッドは、このオブジェクトを削除し、親要素を返す。"
      ],
      "metadata": {
        "id": "vZ4grIxcsWyc"
      }
    },
    {
      "cell_type": "code",
      "source": [
        "from bs4 import BeautifulSoup\n",
        "\n",
        "soup = BeautifulSoup(\"<p></p>\")\n",
        "new_div = soup.new_tag(\"div\")\n",
        "print(soup.p.wrap(new_div))\n",
        "print(soup.p.unwrap())"
      ],
      "metadata": {
        "colab": {
          "base_uri": "https://localhost:8080/"
        },
        "id": "XjzsbCj6yQi1",
        "outputId": "7ccaaceb-2f8c-4dda-8951-2b9952fd09f2"
      },
      "execution_count": null,
      "outputs": [
        {
          "output_type": "stream",
          "name": "stdout",
          "text": [
            "<div><p></p></div>\n",
            "<p></p>\n"
          ]
        }
      ]
    }
  ]
}