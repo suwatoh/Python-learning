{
  "nbformat": 4,
  "nbformat_minor": 0,
  "metadata": {
    "colab": {
      "provenance": [],
      "authorship_tag": "ABX9TyPG71hZKSdfePUPSTtk2gRP",
      "include_colab_link": true
    },
    "kernelspec": {
      "name": "python3",
      "display_name": "Python 3"
    },
    "language_info": {
      "name": "python"
    }
  },
  "cells": [
    {
      "cell_type": "markdown",
      "metadata": {
        "id": "view-in-github",
        "colab_type": "text"
      },
      "source": [
        "<a href=\"https://colab.research.google.com/github/suwatoh/Python-learning/blob/main/201_Beautiful_Soup.ipynb\" target=\"_parent\"><img src=\"https://colab.research.google.com/assets/colab-badge.svg\" alt=\"Open In Colab\"/></a>"
      ]
    },
    {
      "cell_type": "markdown",
      "source": [
        "Beautiful Soup\n",
        "=============="
      ],
      "metadata": {
        "id": "0RMoedYKtPmZ"
      }
    },
    {
      "cell_type": "markdown",
      "source": [
        "Web スクレイピング\n",
        "------------------"
      ],
      "metadata": {
        "id": "7JYIJPC-tbh5"
      }
    },
    {
      "cell_type": "markdown",
      "source": [
        "**スクレイピング**（scraping）とは、「こすり落とす」という意味を持つ scrape に由来する用語で、Web やデータベースを広く探って特定の情報を抽出する手法を指す。\n",
        "\n",
        "Web API が提供されていないサイトからデータを取得するために、Web ページのスクレイピングが行われる。ただし、以下の事項に注意する。\n",
        "\n",
        "  * **Web サイトが利用規約においてスクレイピングによるデータ取得を禁止している場合**\n",
        "  * **ダウンロードの間隔を1秒以上空けていないなどの理由で、Web サイトのサーバーに過重な負担をかける場合**\n",
        "  * **取得したデータの使用が、個人や家族間での活用、情報解析、Web 検索サービスの活用といった著作権法上許容されている限度を超える場合**（情報を頒布・販売する行為など）\n",
        "  * **Web サイト自体がコンテンツを不法に複製・頒布している場合**\n",
        "\n",
        "これらの場合には、スクレイピング行為が違法とされ法的責任を問われることになる。\n",
        "\n",
        "なお、Web 検索サービスの活用を目的とする場合は、サイトの `robots.txt` ファイルで特定のユーザーエージェントでのアクセスが許可されていない URL パスを対象としたスクレイピングをしないように気を付けること。\n",
        "\n",
        "Web スクレイピングは、大まかに 3 つのステップに分けることができる。\n",
        "\n",
        "  1. データの取得\n",
        "  2. データの抽出\n",
        "  3. データの保存\n",
        "\n",
        "Requests パッケージは、データの取得に使用される。\n",
        "\n",
        "一方、[Beautiful Soup](https://pypi.org/project/beautifulsoup4/) は HTML や XML を解析する機能を提供するサードパティ製パッケージであり、Web スクレイピングにおけるデータの抽出に使用される。ライセンスは MIT License。 インストール方法は次のとおり。\n",
        "\n",
        "``` python\n",
        "pip install beautifulsoup4\n",
        "```"
      ],
      "metadata": {
        "id": "DmpzUL1ZJqaz"
      }
    },
    {
      "cell_type": "markdown",
      "source": [
        "オブジェクトの種類\n",
        "------------------"
      ],
      "metadata": {
        "id": "aehUftjoW_fR"
      }
    },
    {
      "cell_type": "markdown",
      "source": [
        "### BeautifulSoup オブジェクト ###"
      ],
      "metadata": {
        "id": "JwtJB_gCw2PT"
      }
    },
    {
      "cell_type": "markdown",
      "source": [
        "`bs4.BeautifulSoup` オブジェクトは、与えられたマークアップが解析されて作られた木構造を表現する。コンストラクタのオプションは次のとおり。\n",
        "\n",
        "``` python\n",
        "bs4.BeautifulSoup(markup=\"\", features=None, builder=None, parse_only=None, from_encoding=None, exclude_encodings=None, element_classes=None, **kwargs)\n",
        "```\n",
        "\n",
        "主に使用するのは、次の 3 つのオプションである。\n",
        "\n",
        "| オプション | 意味 |\n",
        "|:---|:---|\n",
        "| `markup` | パースするマークアップを文字列、バイト列またはファイルオブジェクトで指定する。Requests を使って取得したデータをパースする場合は、その `text` 属性よりも `content` <br />属性を渡したほうが文字化けしない |\n",
        "| `features` | 使用するパーサーを指定する。`None` を指定した場合（デフォルト）、標準ライブラリの `'html.parser'` モジュールが使用される |\n",
        "| `from_encoding` | マークアップの文字コードを文字列で指定する。`None` を指定した場合（デフォルト）、文字コードが自動で検出される。自動検出の結果が間違っている場合は、文字化けとな<br />り、正しいパースが行われない |\n",
        "| `exclude_encodings` | 除外する文字コードを文字列のリストで指定する。間違った文字コードが自動検出される場合は、それを含むリストを渡すと、正しい文字コードが推測されることがある |\n",
        "\n",
        "`features` オプションに指定できるパーサーは次のとおり。\n",
        "\n",
        "| パーサー | マークアップ | 特徴 |\n",
        "|:---|:---|:---|\n",
        "| `'html.parser'` | HTML | Python 標準ライブラリの `html.parser` モジュールが提供するパーサー |\n",
        "| `'html5lib'` | HTML | [html5lib](https://pypi.org/project/html5lib/) パッケージが提供するパーサー。標準規格に従っていない HTML でもパースしてくれる。低速 |\n",
        "| `'lxml'` | HTML | [lxml](https://pypi.org/project/lxml/) パッケージが提供するパーサー。C で書かれているため高速だが、標準規格に従っていない HTML の解析に失敗する |\n",
        "| `'lxml-xml'` または `'xml'` | XML | `lxml` パッケージが提供するパーサー。XML をパースする |\n",
        "\n",
        "基本的に `'lxml'` を指定し、うまくいかない場合は `'html.parser'` を使うようにすればよい。ただし、lxml パッケージをインストールする必要がある。\n",
        "\n",
        "マークアップを文字列で指定する例:"
      ],
      "metadata": {
        "id": "nuklg2rRw3FX"
      }
    },
    {
      "cell_type": "code",
      "source": [
        "from bs4 import BeautifulSoup\n",
        "print(BeautifulSoup(\"<html><head></head><body>Sacr&eacute; bleu!</body></html>\"))"
      ],
      "metadata": {
        "colab": {
          "base_uri": "https://localhost:8080/"
        },
        "id": "yqKBUCZ79nCk",
        "outputId": "07c19154-c5c0-48e6-8f98-e846fe806519"
      },
      "execution_count": null,
      "outputs": [
        {
          "output_type": "stream",
          "name": "stdout",
          "text": [
            "<html><head></head><body>Sacré bleu!</body></html>\n"
          ]
        }
      ]
    },
    {
      "cell_type": "markdown",
      "source": [
        "マークアップをファイルオブジェクトで指定する例:\n",
        "\n",
        "``` python\n",
        "from bs4 import BeautifulSoup\n",
        "\n",
        "with open(\"index.html\") as fp:\n",
        "    soup = BeautifulSoup(fp, 'lxml')\n",
        "```"
      ],
      "metadata": {
        "id": "aOhw11DF_Dy_"
      }
    },
    {
      "cell_type": "markdown",
      "source": [
        "### タグオブジェクト ###"
      ],
      "metadata": {
        "id": "BV7i517vYqks"
      }
    },
    {
      "cell_type": "markdown",
      "source": [
        "`bs4.BeautifulSoup` オブジェクトを作成すると、与えられたマークアップが解析され、`bs4.Tag` オブジェクト（以下、タグオブジェクト）と `bs4.NavigableString` オブジェクトを節点とするツリーが構築される。`bs4.Tag` と `bs4.NavigableString` はともに `bs4.PageElement` クラスのサブクラスである。\n",
        "\n",
        "タグオブジェクトは、マークアップの要素を表す。`bs4.BeautifulSoup` は `bs4.Tag` のサブクラスであり、ツリーのルートを表す。\n",
        "\n",
        "親要素のタグオブジェクトから、ドット `.` 記法と要素名で子要素のタグオブジェクトにアクセスできる（直接の子要素でなくてもよい）。ただしこの方法では、マークアップ中に同じタグが複数含まれていても、親要素のタグから見て最初に現れるものに対応するタグオブジェクトにしかアクセスできないことに注意する。"
      ],
      "metadata": {
        "id": "dIveEyByYURV"
      }
    },
    {
      "cell_type": "code",
      "source": [
        "from bs4 import BeautifulSoup\n",
        "soup = BeautifulSoup('<html><head><title>My Title</title></head><body><p class=\"sentence\">Some sentence</p></body></html>')\n",
        "soup.title  # title 要素にアクセス"
      ],
      "metadata": {
        "colab": {
          "base_uri": "https://localhost:8080/"
        },
        "id": "5zn_q71Upzh2",
        "outputId": "8c7b8477-caf7-49a5-aa43-9b604b6da6f7"
      },
      "execution_count": null,
      "outputs": [
        {
          "output_type": "execute_result",
          "data": {
            "text/plain": [
              "<title>My Title</title>"
            ]
          },
          "metadata": {},
          "execution_count": 3
        }
      ]
    },
    {
      "cell_type": "markdown",
      "source": [
        "### タグオブジェクトの属性 ###"
      ],
      "metadata": {
        "id": "IN6CZDZWj527"
      }
    },
    {
      "cell_type": "markdown",
      "source": [
        "タグオブジェクトの主な属性は次のとおり。\n",
        "\n",
        "| 属性 | 意味 |\n",
        "|:---|:---|\n",
        "| `name` | タグ名の文字列 |\n",
        "| `attrs` | タグの属性の名前と値の組からなる辞書。複数の値を持つことが許される属性（`class` など）の値はリストになっている |\n",
        "| `contents` | （読み出し専用）直接の子オブジェクトのリスト |\n",
        "| `children` | （読み出し専用）直接の子オブジェクトを yield するジェネレーター |\n",
        "| `descendants` | （読み出し専用）全ての子孫オブジェクトを再帰的に yield するジェネレーター |\n",
        "| `string` | （読み出し専用）このタグに `bs4.NavigableString` である子が 1 つある場合、戻り値はその `bs4.NavigableString` オブジェクト。この要素に子タグが 1 つある場合、戻り値は<br />その子の `Tag.string`（再帰的）。このタグに子がないか、複数の子がある場合、戻り値は `None` |\n",
        "| `strings` | （読み出し専用）子孫要素の `bs4.NavigableString` オブジェクトを yield するジェネレーター |\n",
        "\n",
        "タグオブジェクトに対し添字表記（`[key]`）を使うと、タグの属性を参照できる。キー `key` が存在しない場合はエラーが発生する。"
      ],
      "metadata": {
        "id": "at8mIOFXj8Gg"
      }
    },
    {
      "cell_type": "code",
      "source": [
        "from bs4 import BeautifulSoup\n",
        "soup = BeautifulSoup('<html><head><title>My Title</title></head><body><p class=\"sentence\">Some sentence</p></body></html>')\n",
        "assert soup.title.name == 'title'\n",
        "assert soup.p.attrs == {'class': ['sentence']}\n",
        "assert soup.p['class'] == ['sentence']\n",
        "for i, elem in enumerate(soup.descendants):\n",
        "    print(i, elem)"
      ],
      "metadata": {
        "id": "ta0yjQHOrr9W",
        "colab": {
          "base_uri": "https://localhost:8080/"
        },
        "outputId": "93ff417d-cd8c-4ff0-b9bc-ab7f399bcdeb"
      },
      "execution_count": 21,
      "outputs": [
        {
          "output_type": "stream",
          "name": "stdout",
          "text": [
            "0 <html><head><title>My Title</title></head><body><p class=\"sentence\">Some sentence</p></body></html>\n",
            "1 <head><title>My Title</title></head>\n",
            "2 <title>My Title</title>\n",
            "3 My Title\n",
            "4 <body><p class=\"sentence\">Some sentence</p></body>\n",
            "5 <p class=\"sentence\">Some sentence</p>\n",
            "6 Some sentence\n"
          ]
        }
      ]
    },
    {
      "cell_type": "markdown",
      "source": [
        "タグオブジェクトの属性は、一部の読み出し専用プロパティを除いて、変更可能である。この変更は、直ちにツリー全体に反映される。"
      ],
      "metadata": {
        "id": "u0JXucfJ5KTg"
      }
    },
    {
      "cell_type": "code",
      "source": [
        "from bs4 import BeautifulSoup\n",
        "soup = BeautifulSoup('<html><head><title>My Title</title></head><body><p class=\"sentence\">Some sentence</p></body></html>')\n",
        "soup.title.string = 'New Title'\n",
        "soup.p['id'] = 'verybold'\n",
        "print(soup)"
      ],
      "metadata": {
        "colab": {
          "base_uri": "https://localhost:8080/"
        },
        "id": "uCbix_VB5LTi",
        "outputId": "095e9a3b-9db9-4bf0-ca42-b8ba96bb5129"
      },
      "execution_count": 14,
      "outputs": [
        {
          "output_type": "stream",
          "name": "stdout",
          "text": [
            "<html><head><title>New Title</title></head><body><p class=\"sentence\" id=\"verybold\">Some sentence</p></body></html>\n"
          ]
        }
      ]
    },
    {
      "cell_type": "markdown",
      "source": [
        "### タグオブジェクトのメソッド ###"
      ],
      "metadata": {
        "id": "8I8KefXNkOQr"
      }
    },
    {
      "cell_type": "markdown",
      "source": [
        "``` python\n",
        "tag.prettify(encoding=None, formatter=\"minimal\")\n",
        "```\n",
        "\n",
        "このメソッドは、ツリーをタグ付きのテキストとして書式化して返す。"
      ],
      "metadata": {
        "id": "s1x4Tv4qKCeM"
      }
    },
    {
      "cell_type": "code",
      "source": [
        "from bs4 import BeautifulSoup\n",
        "\n",
        "html_doc = '''<html><head><title>テスト HTML</title></head>\n",
        "<body>\n",
        "<div>\n",
        "<p class=\"overview\">テスト<b>TEST</b>てすと\n",
        "'''\n",
        "soup = BeautifulSoup(html_doc, \"html.parser\")\n",
        "print(soup.prettify())"
      ],
      "metadata": {
        "colab": {
          "base_uri": "https://localhost:8080/"
        },
        "id": "wL_ro1aDMmiz",
        "outputId": "361cc47d-5f02-4421-f0ad-508a64ddd1d4"
      },
      "execution_count": null,
      "outputs": [
        {
          "output_type": "stream",
          "name": "stdout",
          "text": [
            "<html>\n",
            " <head>\n",
            "  <title>\n",
            "   テスト HTML\n",
            "  </title>\n",
            " </head>\n",
            " <body>\n",
            "  <div>\n",
            "   <p class=\"overview\">\n",
            "    テスト\n",
            "    <b>\n",
            "     TEST\n",
            "    </b>\n",
            "    てすと\n",
            "   </p>\n",
            "  </div>\n",
            " </body>\n",
            "</html>\n",
            "\n"
          ]
        }
      ]
    },
    {
      "cell_type": "markdown",
      "source": [
        "``` python\n",
        "tag.get(key, default=None)\n",
        "```\n",
        "\n",
        "このメソッドは、名前が `key` の属性の値を返す。そのような属性が存在しない場合は、`default` を返す。`tag.attrs.get(key, default)` と等価である。"
      ],
      "metadata": {
        "id": "CvyZzZgwlnU1"
      }
    },
    {
      "cell_type": "code",
      "source": [
        "from bs4 import BeautifulSoup\n",
        "\n",
        "html_doc = '<div><p class=\"overview\">テスト</p></div>'\n",
        "soup = BeautifulSoup(html_doc, \"html.parser\")\n",
        "assert soup.p.get(\"class\") ==  [\"overview\"]"
      ],
      "metadata": {
        "id": "Rx7l9SGmloQj"
      },
      "execution_count": null,
      "outputs": []
    },
    {
      "cell_type": "markdown",
      "source": [
        "``` python\n",
        "tag.get_attribute_list(key, default=None)\n",
        "```\n",
        "\n",
        "このメソッドは、`get()` メソッドと同様であるが、唯一の違いが、複数値の属性であってもそうでなくても、常にリストとして値を取得することである。"
      ],
      "metadata": {
        "id": "ZqOzhDalTHNO"
      }
    },
    {
      "cell_type": "code",
      "source": [
        "from bs4 import BeautifulSoup\n",
        "\n",
        "id_soup = BeautifulSoup('<p id=\"my id\"></p>', 'html.parser')\n",
        "id_soup.p.get_attribute_list('id')"
      ],
      "metadata": {
        "colab": {
          "base_uri": "https://localhost:8080/"
        },
        "id": "53wCnYUtTJFk",
        "outputId": "af3dc22f-9cc2-43fa-d99d-bb72d358074c"
      },
      "execution_count": null,
      "outputs": [
        {
          "output_type": "execute_result",
          "data": {
            "text/plain": [
              "['my id']"
            ]
          },
          "metadata": {},
          "execution_count": 1
        }
      ]
    },
    {
      "cell_type": "markdown",
      "source": [
        "``` python\n",
        "tag.find(name=None, attrs={}, recursive=True, string=None, **kwargs)\n",
        "```\n",
        "\n",
        "このメソッドは、タグオブジェクトを起点に、ツリーを下に向かって探索し、引数に指定した検索条件にマッチした最初のタグオブジェクトか `bs4.NavigableString` オブジェクトを返す。`tag.p` は `tag.find(\"p\")` と等価である。`find()` が何も見つけられなかった場合、 `None` を返す。\n",
        "\n",
        "| 引数 | 意味 |\n",
        "|:---|:---|\n",
        "| `name` | 要素の名前（タグ名）で検索する。以下を指定できる<br><br>・文字列: その文字列とタグ名が完全に一致するものを検索する（例: `soup.find('b')`）<br><br>・正規表現オブジェクト: その正規表現を使用して `search()` メソッドを使ってフィルタリングを行う（例: `soup.find(re.compile(\"^b\"))`）<br><br>・文字列のリスト: リスト内の いずれか のアイテムに対して文字列マッチを行う（例: `soup.find(['a', 'b'])`）<br><br>・`True`: 可能な限り全てのタグにマッチする（例: `soup.find(True)`）<br><br>・関数: 要素を唯一の引数として受け取り、引数が条件にマッチする場合は `True` を、そうでない場合は `False` を返す関数を指定できる（例: `soup.find(myfunc)`） |\n",
        "| `attrs` | 辞書で指定した要素の属性名と値で検索する。単独の文字列を与えることもでき、`{\"class\": 文字列}` と同等 |\n",
        "| `recursive` | `False` の場合、直下の子要素のみが検索対象となる |\n",
        "| `string` | タグで囲まれたテキストを指定する。これを指定すると、戻り値の型は `bs4.NavigableString` オブジェクトとなる。指定の方法は `name` 引数と同じ |\n",
        "| `kwargs` | キーワード引数として属性の名前と値を与えてフィルターを指定する。ただし、`class` は Python の予約語なのでアンダースコアを付けて `class_` とする。指定の方法は `name` <br />引数と同じ |\n",
        "\n",
        "複数の引数で検索条件を指定した場合は、それらの条件の AND 検索が行われる。"
      ],
      "metadata": {
        "id": "vC1TC-JPvIRx"
      }
    },
    {
      "cell_type": "code",
      "source": [
        "from bs4 import BeautifulSoup, NavigableString\n",
        "import re\n",
        "\n",
        "html_doc = \"\"\"<div>\n",
        "<p><b>属性なし</ b></p>\n",
        "<p class=\"overview noise\">class 属性あり</p>\n",
        "<p class=\"overview\" id=\"123\">class 属性と id 属性あり</p>\n",
        "<p><a href=\"https://www.python.org/\">python.org トップページ</a></p>\n",
        "<p><a href=\"https://docs.python.org/ja/3/\">Python 公式ドキュメント</a></p>\n",
        "</div>\n",
        "\"\"\"\n",
        "soup = BeautifulSoup(html_doc, \"html.parser\")\n",
        "assert soup.find(\"p\").text == \"属性なし\"  # soup.p.text と等価\n",
        "assert soup.find(re.compile(\"^b\")).name == 'b'\n",
        "assert soup.find(attrs={\"class\": \"overview\"}).text == \"class 属性あり\"  # class 属性は値の 1 つと一致すればよい\n",
        "assert soup.find(attrs={\"class\": \"overview noise\"}).text == \"class 属性あり\"  # class 属性は複数の値の並びが一致することをテストすることもできる\n",
        "assert soup.find(\"p\", \"overview\", id=\"123\").text == soup.find(\"p\", class_=\"overview\", id=\"123\").text == \"class 属性と id 属性あり\"\n",
        "assert soup.find(href=re.compile(r\"/3/$\")).text == \"Python 公式ドキュメント\"\n",
        "t = soup.find(string=\"python.org トップページ\")\n",
        "assert isinstance(t, NavigableString)  # 戻り値の型は bs4.NavigableString\n",
        "assert t == \"python.org トップページ\"\n",
        "\n",
        "def has_class_but_no_id(tag):\n",
        "    return tag.has_attr('class') and not tag.has_attr('id')\n",
        "\n",
        "soup.find_all(has_class_but_no_id)"
      ],
      "metadata": {
        "id": "oQyJeSptvodP",
        "colab": {
          "base_uri": "https://localhost:8080/"
        },
        "outputId": "1666fd0b-d3af-4f61-da37-839eb753ab00"
      },
      "execution_count": 21,
      "outputs": [
        {
          "output_type": "execute_result",
          "data": {
            "text/plain": [
              "[<p class=\"overview noise\">class 属性あり</p>]"
            ]
          },
          "metadata": {},
          "execution_count": 21
        }
      ]
    },
    {
      "cell_type": "markdown",
      "source": [
        "``` python\n",
        "tag.find_all(name=None, attrs={}, recursive=True, string=None, limit=None, **kwargs)\n",
        "```\n",
        "\n",
        "このメソッドは、タグオブジェクトを起点に、ツリーを下に向かって探索し、引数に指定した検索条件にマッチしたタグオブジェクトや `bs4.NavigableString` オブジェクトのリスト `bs4.ResultSet` オブジェクトを返す（`bs4.ResultSet` は `list` のサブクラスである）。`find_all()` が何も見つけられなかった場合、空のリストを返す。\n",
        "\n",
        "引数の `limit` に指定した数だけ要素が見つかった時点で探索を終了する。`limit` が `None` の場合（デフォルト）、すべての要素を探索する。その他の引数の意味は、`find()` メソッドと同様である。\n",
        "\n",
        "タグオブジェクトは呼び出し可能オブジェクトでもあり、`()` を付けて呼び出すことができる。`tag(*args, **kwargs)` は `tag.find_all(*args, **kwargs)` と等価である。"
      ],
      "metadata": {
        "id": "xNOUvFVX0_HW"
      }
    },
    {
      "cell_type": "code",
      "source": [
        "from bs4 import BeautifulSoup, NavigableString\n",
        "import re\n",
        "\n",
        "html_doc = \"\"\"<div>\n",
        "<p><b>属性なし</ b></p>\n",
        "<p class=\"overview noise\">class 属性あり</p>\n",
        "<p class=\"overview\" id=\"123\">class 属性と id 属性あり</p>\n",
        "<p><a href=\"https://www.python.org/\">python.org トップページ</a></p>\n",
        "<p><a href=\"https://docs.python.org/ja/3/\">Python 公式ドキュメント</a></p>\n",
        "</div>\n",
        "\"\"\"\n",
        "soup = BeautifulSoup(html_doc, \"html.parser\")\n",
        "for elem in soup.find_all([\"a\", \"b\"]):\n",
        "    print(elem)\n",
        "print(\"=\" * 70)\n",
        "for elem in soup.find_all(True):\n",
        "    print(elem)\n",
        "    print(\"-\" * 70)"
      ],
      "metadata": {
        "colab": {
          "base_uri": "https://localhost:8080/"
        },
        "id": "P4zeq9n2UHsw",
        "outputId": "40dbeb65-f34b-4e26-e3c1-da76602500d7"
      },
      "execution_count": 22,
      "outputs": [
        {
          "output_type": "stream",
          "name": "stdout",
          "text": [
            "<b>属性なし</b>\n",
            "<a href=\"https://www.python.org/\">python.org トップページ</a>\n",
            "<a href=\"https://docs.python.org/ja/3/\">Python 公式ドキュメント</a>\n",
            "======================================================================\n",
            "<div>\n",
            "<p><b>属性なし</b></p>\n",
            "<p class=\"overview noise\">class 属性あり</p>\n",
            "<p class=\"overview\" id=\"123\">class 属性と id 属性あり</p>\n",
            "<p><a href=\"https://www.python.org/\">python.org トップページ</a></p>\n",
            "<p><a href=\"https://docs.python.org/ja/3/\">Python 公式ドキュメント</a></p>\n",
            "</div>\n",
            "----------------------------------------------------------------------\n",
            "<p><b>属性なし</b></p>\n",
            "----------------------------------------------------------------------\n",
            "<b>属性なし</b>\n",
            "----------------------------------------------------------------------\n",
            "<p class=\"overview noise\">class 属性あり</p>\n",
            "----------------------------------------------------------------------\n",
            "<p class=\"overview\" id=\"123\">class 属性と id 属性あり</p>\n",
            "----------------------------------------------------------------------\n",
            "<p><a href=\"https://www.python.org/\">python.org トップページ</a></p>\n",
            "----------------------------------------------------------------------\n",
            "<a href=\"https://www.python.org/\">python.org トップページ</a>\n",
            "----------------------------------------------------------------------\n",
            "<p><a href=\"https://docs.python.org/ja/3/\">Python 公式ドキュメント</a></p>\n",
            "----------------------------------------------------------------------\n",
            "<a href=\"https://docs.python.org/ja/3/\">Python 公式ドキュメント</a>\n",
            "----------------------------------------------------------------------\n"
          ]
        }
      ]
    },
    {
      "cell_type": "markdown",
      "source": [
        "``` python\n",
        "tag.select(selector, namespaces=None, limit=None, **kwargs)\n",
        "```\n",
        "\n",
        "このメソッドは、CSS セレクターを使って、マッチするタグオブジェクトのリスト `bs4.ResultSet` オブジェクトを返す。\n",
        "\n",
        "| 引数 | 意味 |\n",
        "|:---|:---|\n",
        "| `selector` | CSS セレクターを文字列で指定する |\n",
        "| `namespaces` | XML の名前空間を辞書で指定する |\n",
        "| `limit` | 指定した数だけ要素が見つかった時点で探索を終了する |\n",
        "\n",
        "CSS セレクターの実装は、Soup Sieve パッケージによって行われている（`pip` を使用して Beautiful Soup をインストールした場合、Soup Sieve も同時にインストールされている）。Soup Sieve のドキュメントには、現在サポートされている[全ての CSS セレクターのリスト](https://facelessuser.github.io/soupsieve/selectors/)がある。"
      ],
      "metadata": {
        "id": "yLmNGymMFBof"
      }
    },
    {
      "cell_type": "code",
      "source": [
        "from bs4 import BeautifulSoup\n",
        "\n",
        "html_doc = \"\"\"\n",
        "<html><head><title>The Dormouse's story</title></head>\n",
        "<body>\n",
        "<p class=\"title\"><b>The Dormouse's story</b></p>\n",
        "\n",
        "<p class=\"story\">Once upon a time there were three little sisters; and their names were\n",
        "<a href=\"http://example.com/elsie\" class=\"sister\" id=\"link1\">Elsie</a>,\n",
        "<a href=\"http://example.com/lacie\" class=\"sister\" id=\"link2\">Lacie</a> and\n",
        "<a href=\"http://example.com/tillie\" class=\"sister\" id=\"link3\">Tillie</a>;\n",
        "and they lived at the bottom of a well.</p>\n",
        "\n",
        "<p class=\"story\">...</p>\n",
        "\"\"\"\n",
        "\n",
        "soup = BeautifulSoup(html_doc, 'html.parser')\n",
        "print(f'{soup.select(\"p > a:nth-of-type(2)\")=}')"
      ],
      "metadata": {
        "colab": {
          "base_uri": "https://localhost:8080/"
        },
        "id": "2rf2KYeuFCt0",
        "outputId": "98c857d3-eeb1-4db0-a7b0-1ce9959ecf61"
      },
      "execution_count": 3,
      "outputs": [
        {
          "output_type": "stream",
          "name": "stdout",
          "text": [
            "soup.select(\"p > a:nth-of-type(2)\")=[<a class=\"sister\" href=\"http://example.com/lacie\" id=\"link2\">Lacie</a>]\n"
          ]
        }
      ]
    },
    {
      "cell_type": "markdown",
      "source": [
        "``` python\n",
        "tag.select_one(selector, namespaces=None, **kwargs)\n",
        "```\n",
        "\n",
        "このメソッドは、CSS セレクターを使って、マッチする最初のタグオブジェクトを返す。引数の意味は `select()` メソッドと同じ。\n",
        "\n",
        "このほか、タグオブジェクトは、`css` 属性（読み取り専用プロパティ）を通じて Soup Sieve API をサポートしている。実のところ、`tag.select()` メソッドと `tag.select_one()` メソッドも、`tag.css.select()` と `tag.css.select_one()` のショートカットである。`css` プロパティがサポートする他の Soup Sieve API は以下の通り。\n",
        "\n",
        "| Soup Sieve API | 機能 |\n",
        "|:---|:---|\n",
        "| `tag.css.iselect(select, namespaces=None, limit=0, **kwargs)` | `select()` と同様に動作する、リストではなくジェネレーターを返す |\n",
        "| `tag.css.closest(select, namespaces=None, **kwargs)` | タグオブジェクトの先祖の中で、指定した CSS セレクターに一致する最も近いオブジェクトを返す |\n",
        "| `tag.css.match(select, namespaces=None, **kwargs)` | タグオブジェクトが CSS セレクターに一致するかどうかに基づいてブール値を返す |\n",
        "| `tag.css.filter(select, namespaces=None, **kwargs: Any)` | 指定した CSS セレクターに一致するタグの直接の子要素の部分集合を返す |"
      ],
      "metadata": {
        "id": "omdDwcKd_WhZ"
      }
    },
    {
      "cell_type": "code",
      "source": [
        "from bs4 import BeautifulSoup\n",
        "\n",
        "html_doc = \"\"\"\n",
        "<html><head><title>The Dormouse's story</title></head>\n",
        "<body>\n",
        "<p class=\"title\"><b>The Dormouse's story</b></p>\n",
        "\n",
        "<p class=\"story\">Once upon a time there were three little sisters; and their names were\n",
        "<a href=\"http://example.com/elsie\" class=\"sister\" id=\"link1\">Elsie</a>,\n",
        "<a href=\"http://example.com/lacie\" class=\"sister\" id=\"link2\">Lacie</a> and\n",
        "<a href=\"http://example.com/tillie\" class=\"sister\" id=\"link3\">Tillie</a>;\n",
        "and they lived at the bottom of a well.</p>\n",
        "\n",
        "<p class=\"story\">...</p>\n",
        "\"\"\"\n",
        "\n",
        "soup = BeautifulSoup(html_doc, 'html.parser')\n",
        "assert [tag['id'] for tag in soup.css.iselect(\".sister\")] == ['link1', 'link2', 'link3']\n",
        "elsie = soup.css.select_one(\".sister\")\n",
        "assert elsie.css.closest(\"p.story\").name == 'p'\n",
        "assert elsie.css.match(\"#link1\")\n",
        "assert [tag.string for tag in soup.find('p', 'story').css.filter('a')] == ['Elsie', 'Lacie', 'Tillie']"
      ],
      "metadata": {
        "id": "s7L49ULtuL36"
      },
      "execution_count": 18,
      "outputs": []
    },
    {
      "cell_type": "markdown",
      "source": [
        "### NavigableString オブジェクト ###"
      ],
      "metadata": {
        "id": "IsFMZBDvaxvA"
      }
    },
    {
      "cell_type": "markdown",
      "source": [
        "`bs4.NavigableString` は、タグで囲まれたテキストを表す。タグに囲まれたテキストもツリーの節点となっていて、`bs4.NavigableString` オブジェクトがこれに対応している。**タグの周りの空白（改行を含む）も含まれる**ことに注意する。\n",
        "\n",
        "`bs4.NavigableString` は、`str` のサブクラスでもあり、`==` 演算子や `!=` 演算子で文字列と比較することができる。\n",
        "\n",
        "`bs4.NavigableString` オブジェクトを Unicode 文字列に変換するには、`str` を使用する。\n",
        "\n",
        "タグオブジェクトの `string` 属性は、唯一の直接の子である `bs4.NavigableString` オブジェクトを得る。つまり、`string` 属性は、タグオブジェクトから延びる枝が `bs4.NavigableString` オブジェクトだけである場合に、それを参照する。タグオブジェクトの子要素が 1 つだけ存在する場合は、その子要素の `string` 属性を参照する。この参照は再帰的に行われる。タグが複数の要素を含んでいる場合、`string` 属性が何を指すべきかが不明確になるため、`string` 属性は `None` を返す。\n",
        "\n",
        "タグの中に複数の要素がある場合でも、`bs4.NavigableString` オブジェクトを取得するには、タグオブジェクトの `strings` 属性が与えるジェネレーターを使用する。"
      ],
      "metadata": {
        "id": "YTmUnMRXayXn"
      }
    },
    {
      "cell_type": "code",
      "source": [
        "from bs4 import BeautifulSoup, NavigableString\n",
        "\n",
        "html_doc = '''<body>\n",
        "<div>\n",
        "<p class=\"overview\">テスト <b>TEST</b>てすと</p>\n",
        "</div>\n",
        "</body>\n",
        "'''\n",
        "soup = BeautifulSoup(html_doc, \"html.parser\")\n",
        "print(f\"{soup.string=}\")\n",
        "print(f\"{soup.div.string=}\")\n",
        "print(f\"{soup.p.string=}\")\n",
        "print(f\"{soup.b.string=}\")\n",
        "assert isinstance(soup.b.string, NavigableString)  # string 属性が返すのは文字列ではない\n",
        "for t in soup.strings:\n",
        "    assert isinstance(t, NavigableString)\n",
        "[x for x in soup.strings]"
      ],
      "metadata": {
        "colab": {
          "base_uri": "https://localhost:8080/"
        },
        "id": "Th6X8qX1eigo",
        "outputId": "51400d9b-9f3a-4b9e-e6fd-29a15b1269b8"
      },
      "execution_count": 27,
      "outputs": [
        {
          "output_type": "stream",
          "name": "stdout",
          "text": [
            "soup.string=None\n",
            "soup.div.string=None\n",
            "soup.p.string=None\n",
            "soup.b.string='TEST'\n"
          ]
        },
        {
          "output_type": "execute_result",
          "data": {
            "text/plain": [
              "['\\n', '\\n', 'テスト ', 'TEST', 'てすと', '\\n', '\\n', '\\n']"
            ]
          },
          "metadata": {},
          "execution_count": 27
        }
      ]
    },
    {
      "cell_type": "markdown",
      "source": [
        "### 特別な文字列 ###"
      ],
      "metadata": {
        "id": "q1NfhaHaoL0P"
      }
    },
    {
      "cell_type": "markdown",
      "source": [
        "特別な文字列を表すため、以下の `bs4.NavigableString` サブクラスが定義されている。\n",
        "\n",
        "| サブクラス | 意味 | プレフィックス | サフィックス |\n",
        "|:---|:---|:---|:---|\n",
        "| `bs4.element.PreformattedString` | 基底クラス。プレフィックスとサフィックスを持つ | `''` | `''` |\n",
        "| `bs4.element.CData` ★ | CDATA ブロックを表すクラス | `'<![CDATA['` | `']]>'` |\n",
        "| `bs4.element.ProcessingInstruction` ★ | SGML を表すクラス。SGML は XML の前身になったフォーマット | `'<?'` | `'>'` |\n",
        "| `bs4.element.XMLProcessingInstruction` | XML を表すクラス | `'<?'` | `'?>'` |\n",
        "| `bs4.element.Comment` ★ | HTML と XML のコメントを表すクラス | `'<!--'` | `'-->'` |\n",
        "| `bs4.element.Declaration` ★ | XML の宣言を表すクラス | `'<?'` | `'?>'` |\n",
        "| `bs4.element.Doctype` ★ | DOCTYPE を表すクラス | `'<!DOCTYPE '` | `'>\\n'` |\n",
        "| `bs4.element.Stylesheet` ★ | スタイルシートを表すクラス | | |\n",
        "| `bs4.element.Script` ★ | スクリプトを表すクラス。JavaScript など | | |\n",
        "| `bs4.element.TemplateString` ★ | 大きな文書の中に埋め込まれた HTML テンプレートの中で見られる文字列を表すクラス | | |\n",
        "| `bs4.element.RubyTextString` | ルビ文字を指定する `<rt>` タグのテキストを表すクラス | | |\n",
        "| `bs4.element.RubyParenthesisString` | ルビ代替表示文字を指定する `<rp>` タグのテキストを表すクラス | | |\n",
        "\n",
        "★印は、名前空間 `bs4` でもインポートされている。例えば、`bs4.element.Comment` は `bs4.Comment` で参照できる。"
      ],
      "metadata": {
        "id": "FXVsLbR3oMjn"
      }
    },
    {
      "cell_type": "markdown",
      "source": [
        "### クラス階層 ###"
      ],
      "metadata": {
        "id": "WepFmar9_JCY"
      }
    },
    {
      "cell_type": "markdown",
      "source": [
        "Beautiful Soup の主要なクラスの階層は次のようになっている。\n",
        "\n",
        "``` text\n",
        "PageElement\n",
        " ├───── Tag\n",
        " │            └── BeautifulSoup\n",
        " │\n",
        " │\n",
        " └──┐\n",
        "       ├── NavigableString\n",
        "str  ─┘      ├─ PreformattedString\n",
        "               │    ├─ CData\n",
        "               │    ├─ ProcessingInstruction\n",
        "               │    ├─ XMLProcessingInstruction\n",
        "               │    ├─ Comment\n",
        "               │    ├─ Declaration\n",
        "               │    ├─ Doctype\n",
        "               ├─ Stylesheet\n",
        "               ├─ Script\n",
        "               ├─ TemplateString\n",
        "               ├─ RubyTextString\n",
        "               └─ RubyParenthesisString\n",
        "```\n",
        "\n",
        "以降で取り上げる属性とメソッドは、ほとんどが `bs4.PageElement` の属性とメソッドを継承したものとなる。したがって、`bs4.NavigableString` オブジェクトでも使うことができる。"
      ],
      "metadata": {
        "id": "ZZUfvERkPk05"
      }
    },
    {
      "cell_type": "markdown",
      "source": [
        "テキストの取得\n",
        "--------------"
      ],
      "metadata": {
        "id": "JDd7oaJ8RyGP"
      }
    },
    {
      "cell_type": "markdown",
      "source": [
        "要素内のタグで囲まれた文字列（テキスト）の取得に関する属性は、以下の通り。\n",
        "\n",
        "| 引数 | 意味 |\n",
        "|:---|:---|\n",
        "| `text` | （読み出し専用）要素のテキスト（文字列）。`get_text()` と同じ |\n",
        "| `stripped_strings` | （読み出し専用）子孫要素のテキスト（文字列）を返すジェネレーター。余分な空白を取り除いたものを返す |\n",
        "\n",
        "`text` 属性は、`get_text()` メソッドを引数なしで呼び出すプロパティである。`get_text()` メソッドを直接呼び出す場合、以下の引数を指定できる。\n",
        "\n",
        "``` python\n",
        "get_text(separator=\"\", strip=False, types=object())\n",
        "```\n",
        "\n",
        "| 引数 | 意味 |\n",
        "|:---|:---|\n",
        "| `separator` | タグで区切られていた位置に指定した文字列を挿入する |\n",
        "| `strip` | `True` を指定するとタグの周りの空白（改行を含む）を取り除く |\n",
        "| `types` | `bs4.NavigableString` のサブクラスをタプルで指定できる。標準では取得できない要素を取得する際に指定する |\n",
        "\n",
        "`get_text()` メソッドは、デフォルトでは `bs4.NavigableString` と `bs4.CData` オブジェクトを再帰的に取得し、文字列化して返す。つまり、`get_text()` と `get_text(types=(bs4.NavigableString, bs4.CData))` は等価である。\n",
        "\n",
        "`text` 属性と `get_text()` メソッドは、テキストを再帰的に取得し、連結する。子要素のテキストも含まれた文字列を取得できる。`strip=True` を指定しない限り改行も含まれることに注意する。"
      ],
      "metadata": {
        "id": "E2lPzKr7RzA8"
      }
    },
    {
      "cell_type": "code",
      "source": [
        "from bs4 import BeautifulSoup\n",
        "\n",
        "html_doc = \"\"\"<div>\n",
        "  red\n",
        "  <p>b l u e</p>\n",
        "  <span> green </span>\n",
        "</div>\n",
        "\"\"\"\n",
        "\n",
        "soup = BeautifulSoup(html_doc, \"html.parser\")\n",
        "print(soup.get_text())  # soup.text と同じ\n",
        "print(\"-\" * 30)\n",
        "print(soup.get_text(strip=True))\n",
        "print(\"-\" * 30)\n",
        "print(soup.get_text(strip=True, separator=\"++\"))"
      ],
      "metadata": {
        "colab": {
          "base_uri": "https://localhost:8080/"
        },
        "id": "keMt75ndsXY4",
        "outputId": "b491d1d4-61b7-4ccb-91e0-2beb5f4b827e"
      },
      "execution_count": null,
      "outputs": [
        {
          "output_type": "stream",
          "name": "stdout",
          "text": [
            "\n",
            "  red\n",
            "  b l u e\n",
            " green \n",
            "\n",
            "\n",
            "------------------------------\n",
            "redb l u egreen\n",
            "------------------------------\n",
            "red++b l u e++green\n"
          ]
        }
      ]
    },
    {
      "cell_type": "code",
      "source": [
        "from bs4 import BeautifulSoup, Script\n",
        "\n",
        "html_doc = '<div><script>alert(\"Hello world!!\");</script></div>'\n",
        "soup = BeautifulSoup(html_doc, \"html.parser\")\n",
        "print(soup.get_text())  # デフォルトでは <script> タグの中身は取得できない\n",
        "print(\"-\" * 30)\n",
        "print(soup.get_text(types=(Script,)))"
      ],
      "metadata": {
        "colab": {
          "base_uri": "https://localhost:8080/"
        },
        "id": "uAvhgP2zJIHY",
        "outputId": "7686ab54-678e-4c85-bccb-41ec2c8ea4b1"
      },
      "execution_count": null,
      "outputs": [
        {
          "output_type": "stream",
          "name": "stdout",
          "text": [
            "\n",
            "------------------------------\n",
            "alert(\"Hello world!!\");\n"
          ]
        }
      ]
    },
    {
      "cell_type": "markdown",
      "source": [
        "`text` 属性ではタグの周りの空白（改行を含む）が含まれてしまうが、`stripped_strings` 属性を使用すると、それらを削除した文字列を取得することができる。`stripped_strings` 属性はジェネレーターであることに注意する。"
      ],
      "metadata": {
        "id": "8cATCs2mGn6c"
      }
    },
    {
      "cell_type": "code",
      "source": [
        "from bs4 import BeautifulSoup, NavigableString\n",
        "\n",
        "html_doc = '''<body>\n",
        "<div>\n",
        "<p class=\"overview\">テスト <b>TEST</b>てすと</p>\n",
        "</div>\n",
        "</body>\n",
        "'''\n",
        "soup = BeautifulSoup(html_doc, \"html.parser\")\n",
        "print(f\"{soup.text=}\")\n",
        "print(f\"{soup.div.text=}\")\n",
        "print(f\"{soup.p.text=}\")\n",
        "print(f\"{soup.b.text=}\")\n",
        "[x for x in soup.stripped_strings]"
      ],
      "metadata": {
        "colab": {
          "base_uri": "https://localhost:8080/"
        },
        "id": "yWOw8dw9Go2m",
        "outputId": "b4aaebd1-667c-420b-ff0f-b444327faaf8"
      },
      "execution_count": 29,
      "outputs": [
        {
          "output_type": "stream",
          "name": "stdout",
          "text": [
            "soup.text='\\n\\nテスト TESTてすと\\n\\n\\n'\n",
            "soup.div.text='\\nテスト TESTてすと\\n'\n",
            "soup.p.text='テスト TESTてすと'\n",
            "soup.b.text='TEST'\n"
          ]
        },
        {
          "output_type": "execute_result",
          "data": {
            "text/plain": [
              "['テスト', 'TEST', 'てすと']"
            ]
          },
          "metadata": {},
          "execution_count": 29
        }
      ]
    },
    {
      "cell_type": "markdown",
      "source": [
        "要素の取得（移動）\n",
        "------------------"
      ],
      "metadata": {
        "id": "nrBA37Q8n7DI"
      }
    },
    {
      "cell_type": "markdown",
      "source": [
        "### 上への移動 ###"
      ],
      "metadata": {
        "id": "I9-mCS1bwKyL"
      }
    },
    {
      "cell_type": "markdown",
      "source": [
        "上への移動に関する属性は、以下の通り。\n",
        "\n",
        "| 属性 | 意味 |\n",
        "|:---|:---|\n",
        "| `parent` | 親要素 |\n",
        "| `parents` | 全ての祖先要素を再帰的に yield するジェネレーター |"
      ],
      "metadata": {
        "id": "oykHK-MKwMPr"
      }
    },
    {
      "cell_type": "code",
      "source": [
        "from bs4 import BeautifulSoup\n",
        "soup = BeautifulSoup('<html><head><title>My Title</title></head><body><p class=\"sentence\">Some sentence</p></body></html>')\n",
        "assert soup.title.parent.name == 'head'\n",
        "assert soup.title.string.parent.name == 'title'\n",
        "assert isinstance(soup.html.parent, BeautifulSoup)  # <html> のようなトップレベルのタグの親は BeautifulSoup オブジェクト自体\n",
        "assert soup.parent is None\n",
        "for parent in soup.title.string.parents:\n",
        "    print(parent.name)  # BeautifulSoup.name は [document] となることに注意"
      ],
      "metadata": {
        "colab": {
          "base_uri": "https://localhost:8080/"
        },
        "id": "A9tF1JfuFXI4",
        "outputId": "8bd224e8-d4ff-49b3-cf40-76a2eb262992"
      },
      "execution_count": 42,
      "outputs": [
        {
          "output_type": "stream",
          "name": "stdout",
          "text": [
            "title\n",
            "head\n",
            "html\n",
            "[document]\n"
          ]
        }
      ]
    },
    {
      "cell_type": "markdown",
      "source": [
        "上への移動に関するメソッドは、以下の通り。\n",
        "\n",
        "``` python\n",
        "find_parent(name=None, attrs={}, **kwargs)\n",
        "find_parents(name=None, attrs={}, limit=None, **kwargs)\n",
        "```\n",
        "\n",
        "これらのメソッドは、オブジェクトを起点に、ツリーを上に向かって探索し、引数に指定した検索条件にマッチしたタグオブジェクトか bs4.NavigableString オブジェクを返す。`find_parents()` メソッドは全てのオブジェクトのリストである `bs4.ResultSet` オブジェクトを返す。引数の意味は、`find()` および `find_all()` と同様である。\n",
        "\n",
        "これらの検索メソッドは、`parents` を使ってすべての親を繰り返しチェックし、提供されたフィルターに一致するかどうかを確認している。"
      ],
      "metadata": {
        "id": "BahqYmP7wn4E"
      }
    },
    {
      "cell_type": "markdown",
      "source": [
        "### 横への移動 ###"
      ],
      "metadata": {
        "id": "JOPXyxFfw_SJ"
      }
    },
    {
      "cell_type": "markdown",
      "source": [
        "横への移動に関する属性は、以下の通り。\n",
        "\n",
        "| 属性 | 意味 |\n",
        "|:---|:---|\n",
        "| `next_sibling` | 同じ階層にある兄弟オブジェクト（タグオブジェクトか `bs4.NavigableString` オブジェクト）で文書の 1 つ下に現れるもの |\n",
        "| `next_siblings` | 同じ階層にある兄弟オブジェクト（タグオブジェクトか `bs4.NavigableString` オブジェクト）で文書の下に現れるもの全てを yield するジェネレーター |\n",
        "| `previous_sibling` | 同じ階層にある兄弟オブジェクト（タグオブジェクトか `bs4.NavigableString` オブジェクト）で文書の 1 つ上に現れるもの |\n",
        "| `previous_siblings` | 同じ階層にある兄弟オブジェクト（タグオブジェクトか `bs4.NavigableString` オブジェクト）で文書の上に現れるもの全てを yield するジェネレーター |"
      ],
      "metadata": {
        "id": "7gPx3l2mw_3P"
      }
    },
    {
      "cell_type": "code",
      "source": [
        "from bs4 import BeautifulSoup\n",
        "soup = BeautifulSoup(\"<a><b>text1</b><c>text2</c>text3</a>\", 'html.parser')\n",
        "print(f\"{soup.b.next_sibling=}\")\n",
        "print(f\"{soup.c.previous_sibling=}\")\n",
        "print(f\"{soup.b.previous_sibling=}\")\n",
        "print(f\"{soup.c.next_sibling=}\")\n",
        "print(\"-\" * 40)\n",
        "for sibling in soup.b.next_siblings:\n",
        "    print(repr(sibling))"
      ],
      "metadata": {
        "colab": {
          "base_uri": "https://localhost:8080/"
        },
        "id": "tYrI424b8qNB",
        "outputId": "7cfe21e4-2066-4db3-d999-73617456706c"
      },
      "execution_count": 52,
      "outputs": [
        {
          "output_type": "stream",
          "name": "stdout",
          "text": [
            "soup.b.next_sibling=<c>text2</c>\n",
            "soup.c.previous_sibling=<b>text1</b>\n",
            "soup.b.previous_sibling=None\n",
            "soup.c.next_sibling='text3'\n",
            "----------------------------------------\n",
            "<c>text2</c>\n",
            "'text3'\n"
          ]
        }
      ]
    },
    {
      "cell_type": "markdown",
      "source": [
        "横への移動に関するメソッドは、以下の通り。\n",
        "\n",
        "``` python\n",
        "find_next_sibling(name=None, attrs={}, string=None, **kwargs)\n",
        "find_next_siblings(name=None, attrs={}, string=None, limit=None, **kwargs)\n",
        "```\n",
        "\n",
        "これらのメソッドは、`next_siblings` を使用して、兄弟オブジェクト（タグオブジェクトか bs4.NavigableString オブジェクト）を順にたどり、引数に指定した検索条件にマッチしたものを返す。`find_next_siblings()` メソッドはマッチした全てのオブジェクトのリストである `bs4.ResultSet` オブジェクトを返す。引数の意味は、`find()` および `find_all()` と同様である。\n",
        "\n",
        "``` python\n",
        "find_previous_sibling(name=None, attrs={}, string=None, **kwargs)\n",
        "find_previous_siblings(name=None, attrs={}, string=None, limit=None, **kwargs)\n",
        "```\n",
        "\n",
        "これらのメソッドは、`previous_siblings` を使用して、ツリー内でオブジェクトより前にある兄弟オブジェクト（タグオブジェクトか bs4.NavigableString オブジェクト）を順にたどり、引数に指定した検索条件にマッチしたものを返す。`find_previous_siblings()` メソッドはマッチした全てのオブジェクトのリストである `bs4.ResultSet` オブジェクトを返す。引数の意味は、`find()` および `find_all()` と同様である。"
      ],
      "metadata": {
        "id": "t-64FJuBn72i"
      }
    },
    {
      "cell_type": "markdown",
      "source": [
        "### 前後の移動 ###"
      ],
      "metadata": {
        "id": "toB2lCPIPtWf"
      }
    },
    {
      "cell_type": "markdown",
      "source": [
        "前後の移動に関する属性は、以下の通り。\n",
        "\n",
        "| 属性 | 意味 |\n",
        "|:---|:---|\n",
        "| `next_element` | このオブジェクトの直後に解析されたオブジェクト（タグオブジェクトか `bs4.NavigableString` オブジェクト） |\n",
        "| `next_elements` | このオブジェクトの直後以降に解析されたオブジェクト（タグオブジェクトか `bs4.NavigableString` オブジェクト）を yield するジェネレーター |\n",
        "| `previous_element` | このオブジェクトの直前に解析されたオブジェクト（タグオブジェクトか `bs4.NavigableString` オブジェクト） |\n",
        "| `previous_elements` | このオブジェクトの直前までに解析されたオブジェクト（タグオブジェクトか `bs4.NavigableString` オブジェクト）を yield するジェネレーター |"
      ],
      "metadata": {
        "id": "ZPu274ssPt8z"
      }
    },
    {
      "cell_type": "code",
      "source": [
        "html_doc = \"\"\"\n",
        "<html><head><title>The Dormouse's story</title></head>\n",
        "<body>\n",
        "<p class=\"title\"><b>The Dormouse's story</b></p>\n",
        "\n",
        "<p class=\"story\">Once upon a time there were three little sisters; and their names were\n",
        "<a href=\"http://example.com/elsie\" class=\"sister\" id=\"link1\">Elsie</a>,\n",
        "<a href=\"http://example.com/lacie\" class=\"sister\" id=\"link2\">Lacie</a> and\n",
        "<a href=\"http://example.com/tillie\" class=\"sister\" id=\"link3\">Tillie</a>;\n",
        "and they lived at the bottom of a well.</p>\n",
        "\n",
        "<p class=\"story\">...</p>\n",
        "\"\"\"\n",
        "\n",
        "from bs4 import BeautifulSoup\n",
        "soup = BeautifulSoup(html_doc, 'html.parser')\n",
        "first_a_tag = soup.a\n",
        "assert first_a_tag[\"id\"] == \"link1\"\n",
        "print(f\"{first_a_tag.next_element=}\")\n",
        "print(f\"{first_a_tag.previous_element=}\")\n",
        "for i, elem in enumerate(first_a_tag.next_elements):\n",
        "    print(i, elem)"
      ],
      "metadata": {
        "colab": {
          "base_uri": "https://localhost:8080/"
        },
        "id": "LeEtH-r8QRo1",
        "outputId": "5b1e46a9-2985-49cb-bd0c-7222c90fe6aa"
      },
      "execution_count": 10,
      "outputs": [
        {
          "output_type": "stream",
          "name": "stdout",
          "text": [
            "first_a_tag.next_element='Elsie'\n",
            "first_a_tag.previous_element='Once upon a time there were three little sisters; and their names were\\n'\n",
            "0 Elsie\n",
            "1 ,\n",
            "\n",
            "2 <a class=\"sister\" href=\"http://example.com/lacie\" id=\"link2\">Lacie</a>\n",
            "3 Lacie\n",
            "4  and\n",
            "\n",
            "5 <a class=\"sister\" href=\"http://example.com/tillie\" id=\"link3\">Tillie</a>\n",
            "6 Tillie\n",
            "7 ;\n",
            "and they lived at the bottom of a well.\n",
            "8 \n",
            "\n",
            "9 <p class=\"story\">...</p>\n",
            "10 ...\n",
            "11 \n",
            "\n"
          ]
        }
      ]
    },
    {
      "cell_type": "markdown",
      "source": [
        "前後の移動に関するメソッドは、以下の通り。\n",
        "\n",
        "``` python\n",
        "find_next(name=None, attrs={}, string=None, **kwargs)\n",
        "find_all_next(name=None, attrs={}, string=None, limit=None, **kwargs)\n",
        "```\n",
        "\n",
        "これらのメソッドは、`next_elements` を使用して、文書内でその要素の後に出現するタグや文字列を順にたどり、引数に指定した検索条件にマッチしたものを返す。`find_all_next()` メソッドはマッチした全てのオブジェクトのリストである `bs4.ResultSet` オブジェクトを返す。引数の意味は、`find()` および `find_all()` と同様である。\n",
        "\n",
        "``` python\n",
        "find_previous(name=None, attrs={}, string=None, **kwargs)\n",
        "find_all_previous(name=None, attrs={}, string=None, limit=None, **kwargs)\n",
        "```\n",
        "\n",
        "これらのメソッドは、`previous_elements` を使用して、文書内でその要素の前に出現したタグや文字列を順にたどり、引数に指定した検索条件にマッチしたものを返す。`find_all_previous()` メソッドはマッチした全てのオブジェクトのリストである `bs4.ResultSet` オブジェクトを返す。引数の意味は、`find()` および `find_all()` と同様である。"
      ],
      "metadata": {
        "id": "DkUQWHhChj_D"
      }
    },
    {
      "cell_type": "markdown",
      "source": [
        "ツリーの変更\n",
        "------------"
      ],
      "metadata": {
        "id": "gyjHgl23sV8a"
      }
    },
    {
      "cell_type": "markdown",
      "source": [
        "``` python\n",
        "soup.new_tag(name, namespace=None, nsprefix=None, attrs={}, sourceline=None, sourcepos=None, **kwattrs)\n",
        "```\n",
        "\n",
        "これは、`bs4.BeautifulSoup` オブジェクトのメソッドで、新しいタグを作成し、タグオブジェクトを返す。主な引数は次のとおり。\n",
        "\n",
        "| 引数 | 意味 |\n",
        "|:---|:---|\n",
        "| `name` | 新しいタグの名前 |\n",
        "| `attrs` | 新しいタグの属性の名前と値を辞書で指定する |\n",
        "| `kwattrs` | 新しいタグの属性の名前と値をキーワード引数で指定する |\n",
        "\n",
        "``` python\n",
        "soup.new_string(s, subclass=None):\n",
        "```\n",
        "\n",
        "これは、`bs4.BeautifulSoup` オブジェクトのメソッドで、新しいテキストを作成し、`bs4.NavigableString` オブジェクトを返す。`subclass` に `bs4.NavigableString` のサブクラスを指定できる。\n",
        "\n",
        "``` python\n",
        "soup.wrap(wrap_inside)\n",
        "```\n",
        "\n",
        "このメソッドは、このオブジェクトの親要素として `wrap_inside` に指定したタグオブジェクトをツリーに挿入する。\n",
        "\n",
        "``` python\n",
        "soup.unwrap()\n",
        "```\n",
        "\n",
        "このメソッドは、このオブジェクトだけを取り除いて、子要素は残す。\n",
        "\n",
        "``` python\n",
        "elem.extract()\n",
        "```\n",
        "\n",
        "これは `PageElement` のメソッドで、このオブジェクトを削除し、親要素を返す。\n",
        "\n",
        "``` python\n",
        "elem.decompose()\n",
        "```\n",
        "\n",
        "これは `PageElement` のメソッドで、自身を削除する。子孫オブジェクトもすべて削除される。\n",
        "\n",
        "``` python\n",
        "tag.clear(decompose=False)\n",
        "```\n",
        "\n",
        "これはタグオブジェクトのメソッドで、子要素をすべて削除する。`decompose` 引数を `True` に指定すると、子要素の削除に `decompose()` メソッドが使われる。\n",
        "\n",
        "なお、要素の属性を削除するためには、del 文を使って `del tag[\"name\"]` のように書く。\n",
        "\n"
      ],
      "metadata": {
        "id": "vZ4grIxcsWyc"
      }
    },
    {
      "cell_type": "code",
      "source": [
        "from bs4 import BeautifulSoup\n",
        "\n",
        "soup = BeautifulSoup(\"<p></p>\")\n",
        "new_div = soup.new_tag(\"div\")\n",
        "print(soup.p.wrap(new_div))\n",
        "print(soup.p.unwrap())"
      ],
      "metadata": {
        "colab": {
          "base_uri": "https://localhost:8080/"
        },
        "id": "XjzsbCj6yQi1",
        "outputId": "7ccaaceb-2f8c-4dda-8951-2b9952fd09f2"
      },
      "execution_count": null,
      "outputs": [
        {
          "output_type": "stream",
          "name": "stdout",
          "text": [
            "<div><p></p></div>\n",
            "<p></p>\n"
          ]
        }
      ]
    }
  ]
}