{
  "nbformat": 4,
  "nbformat_minor": 0,
  "metadata": {
    "colab": {
      "provenance": [],
      "toc_visible": true,
      "authorship_tag": "ABX9TyPZXOwfQEQ/4phE9BB5Aal3",
      "include_colab_link": true
    },
    "kernelspec": {
      "name": "python3",
      "display_name": "Python 3"
    },
    "language_info": {
      "name": "python"
    }
  },
  "cells": [
    {
      "cell_type": "markdown",
      "metadata": {
        "id": "view-in-github",
        "colab_type": "text"
      },
      "source": [
        "<a href=\"https://colab.research.google.com/github/suwatoh/Python-learning/blob/main/120_%E6%A7%8B%E9%80%A0%E7%9A%84%E3%83%91%E3%82%BF%E3%83%BC%E3%83%B3%E3%83%9E%E3%83%83%E3%83%81%E3%83%B3%E3%82%B0.ipynb\" target=\"_parent\"><img src=\"https://colab.research.google.com/assets/colab-badge.svg\" alt=\"Open In Colab\"/></a>"
      ]
    },
    {
      "cell_type": "markdown",
      "source": [
        "構造的パターンマッチング\n",
        "========================"
      ],
      "metadata": {
        "id": "2AKkaadeZDp8"
      }
    },
    {
      "cell_type": "markdown",
      "source": [
        "ソフトキーワード\n",
        "----------------"
      ],
      "metadata": {
        "id": "ZzS0qZAyZE_n"
      }
    },
    {
      "cell_type": "markdown",
      "source": [
        "**ソフトキーワード**（soft keywords）は、Python 3.10 から正式に導入された仕組みで、ある特定の文脈においてだけ予約されるキーワードである。他の場面ではそれらはキーワードとしては識別されず、普通に変数などの名前に使うことができる。つまり、ソフトキーワードは、字句解析の時点ではキーワードとしては識別されず、その後の構文解析において特定の構文でキーワードとして扱われる。\n",
        "\n",
        "同じく Python 3.10 から導入された構造的パターンマッチングにおいて、`match`, `case`, `_` がソフトキーワードとされ、これらの名前を使っている既存のコードの互換性が保たれるようにしている。\n",
        "\n",
        "なお、Python のソフトキーワードは、`keyword.softkwlist` で確認できる。"
      ],
      "metadata": {
        "id": "VEWD8Hont-SG"
      }
    },
    {
      "cell_type": "code",
      "source": [
        "keyword.softkwlist"
      ],
      "metadata": {
        "colab": {
          "base_uri": "https://localhost:8080/"
        },
        "id": "tK_oKZYfuAps",
        "outputId": "af46b9c3-8ffd-46f4-9f75-c7fcca60aa75"
      },
      "execution_count": null,
      "outputs": [
        {
          "output_type": "execute_result",
          "data": {
            "text/plain": [
              "['_', 'case', 'match']"
            ]
          },
          "metadata": {},
          "execution_count": 2
        }
      ]
    },
    {
      "cell_type": "markdown",
      "source": [
        "構造的パターンマッチングの構文\n",
        "------------------------------"
      ],
      "metadata": {
        "id": "BjeFRp4Z_GJW"
      }
    },
    {
      "cell_type": "markdown",
      "source": [
        "**構造的パターンマッチング**（structural pattern matching）の構文は、次の通り:\n",
        "\n",
        "``` python\n",
        "match 式（または式のリスト）:\n",
        "    case パターン[ if 条件]:\n",
        "        処理\n",
        "    ⋮\n",
        "    case パターン[ if 条件]:\n",
        "        処理\n",
        "```\n",
        "\n",
        "パターンは独自の構文に沿って記述されるものなので、<font color=\"red\">パターンは式ではない</font>。\n",
        "\n",
        "オプションの `if 条件` は**ガード**（guard）と呼ばれる。ガードの `条件` には、任意の式やセイウチ演算子 `:=` を書くことができる。\n",
        "\n",
        "match 文の実行はおおむね以下のように進行する。\n",
        "\n",
        "  1. `match` の右の式を評価して値を得る。この値を以下では「対象値」と呼ぶことにする。`match` の右にカンマを含む式のリストがある場合は、通常のルールに従ってタプル評価が行われる。\n",
        "  2. 各パターンに対して、対象値がマッチするかどうかを（上から順番に）チェックする。\n",
        "      * マッチングのチェックにより、パターン内の名前の一部あるいはすべてに対象値が束縛される（つまり代入が行われる）。具体的な束縛ルールはパターンの種類によって異なる。\n",
        "  3. パターンに対象値がマッチした場合、該当のガードが（もしあれば）評価される。この場合、パターン内の名前がすべて束縛されていることが保証されている。\n",
        "      * ガードの評価値が真であるか、もしくはガードがなければ、その case ブロックに記述された処理が実行され、match 文が終了する（次の case ブロックがあっても無視される）。\n",
        "      * そうでなければ、次の case ブロックのパターンチェックに進む。\n",
        "      * これ以上 case ブロックが存在しない場合は、match 文が終了する。\n",
        "\n",
        "パターンは式ではないのに対して、ガードは式であるため副作用を起こすことができる。ガードがある case ブロックでは、先にパターンがチェックされ、そこでマッチしなかった場合は、ガードの評価は省略される。\n",
        "\n",
        "他の制御構造（if 文など）と同様に、match 文のブロックでは独自のスコープが形成されない。**マッチが成功したパターンの中で束縛された名前は、そのパターンのブロック内だけでなく、match 文の後でも使用することができる**。"
      ],
      "metadata": {
        "id": "CbIXadTU_G5E"
      }
    },
    {
      "cell_type": "markdown",
      "source": [
        "パターン\n",
        "--------"
      ],
      "metadata": {
        "id": "SRO96YbPByiL"
      }
    },
    {
      "cell_type": "markdown",
      "source": [
        "以下の 10 種類のパターンは、構造的パターンマッチングで使えるパターンである。また、それらを組み合わせたものも、構造的パターンマッチングで使えるパターンである。\n",
        "\n",
        "パターンには**論駁（ろんばく）不可能**（irrefutable）と**論駁可能**（refutable）の 2 つの形態がある。あらゆる値に合致するパターンは、論駁不可能であるという。**match 文の中で、論駁不可能な case ブロックは最大 1 つまで、かつ最後に位置する必要がある**。そうでない場合は、構文エラーが発生する。"
      ],
      "metadata": {
        "id": "SmIlEaw7DL8W"
      }
    },
    {
      "cell_type": "markdown",
      "source": [
        "### リテラルパターン ###"
      ],
      "metadata": {
        "id": "JdQghKk9Gj6I"
      }
    },
    {
      "cell_type": "markdown",
      "source": [
        "Python のリテラル（文字列、バイト列、整数、浮動小数点数、複素数）とシングルトンのうちの `None`、`True`、`False` は**リテラルパターン**である。ただし、f-strings はリテラルパターンから除外される（置換フィールドの評価が必要なため）。パターンは式ではないので、`100 + 200` や `max([1, 20, 0.3])` のように演算子や関数を使用することはできない。例外として、虚数リテラルに対する `+` や `-` は複素数のリテラルパターンに使える（例: `3 + 4j`）。\n",
        "\n",
        "リテラルパターンは、`対象値 == リテラル` であるときマッチする。シングルトンである `None` と `True`、`False` は `is` 演算子を使って比較される。\n",
        "\n",
        "リテラルパターンでは代入は行われない。"
      ],
      "metadata": {
        "id": "Vcdz3DAfBwYw"
      }
    },
    {
      "cell_type": "code",
      "source": [
        "text = \"How are you?\"\n",
        "\n",
        "match text:\n",
        "    case \"How are you?\":\n",
        "        print(\"I'm great.\")\n",
        "    case \"Nice to meet you.\":\n",
        "        print(\"Same here.\")"
      ],
      "metadata": {
        "colab": {
          "base_uri": "https://localhost:8080/"
        },
        "id": "x7fgSE7BBxWX",
        "outputId": "e64b1d72-6631-4c0f-c22b-7e96c6e8c2b2"
      },
      "execution_count": null,
      "outputs": [
        {
          "output_type": "stream",
          "name": "stdout",
          "text": [
            "I'm great.\n"
          ]
        }
      ]
    },
    {
      "cell_type": "markdown",
      "source": [
        "### キャプチャパターン ###"
      ],
      "metadata": {
        "id": "1P-DYtawTObC"
      }
    },
    {
      "cell_type": "markdown",
      "source": [
        "変数は**キャプチャパターン**である。キャプチャパターンは論駁不可能であり、また、対象値が変数に代入される。"
      ],
      "metadata": {
        "id": "mQNHnLC3TQ5m"
      }
    },
    {
      "cell_type": "code",
      "source": [
        "num = 3\n",
        "\n",
        "match num:\n",
        "    case x:\n",
        "        print(f\"{num=}, {x=}\")\n",
        "\n",
        "assert x == 3  # 変数 x は match 文の後でも使える"
      ],
      "metadata": {
        "colab": {
          "base_uri": "https://localhost:8080/"
        },
        "id": "4gJMcy3mTUDE",
        "outputId": "50d62c83-ba93-4556-dfa2-4f698ee17386"
      },
      "execution_count": null,
      "outputs": [
        {
          "output_type": "stream",
          "name": "stdout",
          "text": [
            "num=3, x=3\n"
          ]
        }
      ]
    },
    {
      "cell_type": "markdown",
      "source": [
        "### ワイルドカードパターン ###"
      ],
      "metadata": {
        "id": "0vIYkrsiUeqg"
      }
    },
    {
      "cell_type": "markdown",
      "source": [
        "文字 `'_'` は**ワイルドカードパターン**である。`'_'` は、`case` の後ろではあらゆる対象値がマッチするためのキーワードであって、変数ではない（ソフトキーワード）。つまり、ワイルドカードパターンは論駁不可能である。`'_'` は変数ではないから、このパターンでは代入は行われない。"
      ],
      "metadata": {
        "id": "Ppuoq-nKUfeC"
      }
    },
    {
      "cell_type": "code",
      "source": [
        "_ = \"spam\"  # _ をグローバル変数として使用\n",
        "text = \"ham\"\n",
        "\n",
        "match text:\n",
        "    case \"eggs\":\n",
        "        print(\"eggs!\")\n",
        "    case _:  # この _ は変数ではなくワイルドカードパターンを表すソフトキーワード\n",
        "        print(f'{text=}, {_=}')  # この _ はグローバル変数を参照している\n",
        "\n",
        "assert _ == \"spam\""
      ],
      "metadata": {
        "colab": {
          "base_uri": "https://localhost:8080/"
        },
        "id": "2OZZMLlCVJ_I",
        "outputId": "538e9ddc-978f-4b02-ad87-a0a4adf31841"
      },
      "execution_count": null,
      "outputs": [
        {
          "output_type": "stream",
          "name": "stdout",
          "text": [
            "text='ham', _='spam'\n"
          ]
        }
      ]
    },
    {
      "cell_type": "markdown",
      "source": [
        "### バリューパターン ###"
      ],
      "metadata": {
        "id": "2W_X66c2FzlX"
      }
    },
    {
      "cell_type": "markdown",
      "source": [
        "ドット `.` 付き名前は**バリューパターン**である。このパターンは、指定された名前の値が対象値と等しい（比較演算子 `==` に基づく）ときにマッチする。このパターンでは代入は行われない。\n",
        "\n",
        "パターンにドット `.` が付かない名前を使うと、キャプチャパターンになる。したがって、定数のマッチングを行いたい場合は、定数をクラス属性にしておいてバリューパターンを使うことになる。"
      ],
      "metadata": {
        "id": "8CgzXCJiF0sX"
      }
    },
    {
      "cell_type": "code",
      "source": [
        "class Flags:\n",
        "    flag1 = 1\n",
        "    flag2 = 2\n",
        "\n",
        "match 2:\n",
        "    case Flags.flag1:\n",
        "        print(\"flag1\")\n",
        "    case Flags.flag2:\n",
        "        print(\"flag2\")"
      ],
      "metadata": {
        "colab": {
          "base_uri": "https://localhost:8080/"
        },
        "id": "71T92xye8UHy",
        "outputId": "968f0d9e-b8ee-4f0d-e8dd-a707112536e2"
      },
      "execution_count": null,
      "outputs": [
        {
          "output_type": "stream",
          "name": "stdout",
          "text": [
            "flag2\n"
          ]
        }
      ]
    },
    {
      "cell_type": "markdown",
      "source": [
        "上記のコードをクラスを使わないで次のように書く場合、どの case のパターンもキャプチャパターンであり、論駁不可能な case ブロックが最後でない場所にあるから構文エラーが発生する。\n",
        "\n",
        "``` python\n",
        ">>> FLAG1 = 1\n",
        ">>> FLAG2 = 2\n",
        ">>> match 2:\n",
        "...     case FLAG1:  # この位置のキャプチャパターンは許されない\n",
        "...         print(\"flag1\")\n",
        "...     case FLAG2:\n",
        "...         print(\"flag2\")\n",
        "...\n",
        "  File \"<stdin>\", line 2\n",
        "SyntaxError: name capture 'FLAG1' makes remaining patterns unreachable\n",
        "```"
      ],
      "metadata": {
        "id": "iQXWnRYCAdkx"
      }
    },
    {
      "cell_type": "markdown",
      "source": [
        "### シーケンスパターン ###"
      ],
      "metadata": {
        "id": "MU9WWtHVwGn2"
      }
    },
    {
      "cell_type": "markdown",
      "source": [
        "**シーケンスパターン**は、シーケンスに対して、その要素でマッチするためのパターンであり、1 つのサブパターン、または、カンマ区切りのサブパターンのリストを `[]` または `()` で括ったものである。2 種類の括弧に本質的な違いはない。このパターンで代入が行われるかどうかは、中のサブパターンによって決まる。\n",
        "\n",
        "サブパターンは 1 つだけスター `*` を先頭に付けることができる（以下、スター付きサブパターンと呼ぶことにする）。スター付きサブパターンを含まないシーケンスパターンは固定長のシーケンスパターンであり、1 つのスター付きサブパターンを含むシーケンスパターンは可変長のシーケンスパターンである。\n",
        "\n",
        "対象値がシーケンスパターンにマッチするかどうかは、以下のルールによって決められる。\n",
        "\n",
        "**【固定長・可変長に共通するルール】**\n",
        "\n",
        "  1. 対象値がシーケンスでない場合、マッチは失敗する。\n",
        "  2. 対象値が文字列またはバイト列である場合、マッチは失敗する。\n",
        "\n",
        "共通ルールによって、対象値はシーケンスであることが保証されるので、以下では対象シーケンスと呼ぶことにする。\n",
        "\n",
        "**【シーケンスパターンが固定長の場合のルール】**\n",
        "\n",
        "  1. 対象シーケンスの長さがサブパターンの数と等しくない場合、マッチは失敗する。\n",
        "  2. シーケンスパターン内のサブパターンと、対象シーケンス内の対応する項目が左から右にチェックされる。サブパターンのマッチが失敗するとすぐに全体のチェックが打ち切られ、シーケンスパターンのマッチは失敗する。すべてのサブパターンが対応する項目とのマッチに成功すると、シーケンスパターンのマッチは成功する。"
      ],
      "metadata": {
        "id": "NU7FVQLQdTME"
      }
    },
    {
      "cell_type": "code",
      "source": [
        "def f(point):\n",
        "    match point:\n",
        "        case (0, 0):  # 2つのリテラルパターンを含むシーケンスパターン\n",
        "            print(\"Origin\")\n",
        "        case (0, y):  # 1つのリテラルパターンと1つのキャプチャパターンを含むシーケンスパターン\n",
        "            print(f\"Y={y}\")\n",
        "        case (x, 0):  # 1つのキャプチャパターンと1つのリテラルパターンを含むシーケンスパターン\n",
        "            print(f\"X={x}\")\n",
        "        case (x, y):  # 2つのキャプチャパターンを含むシーケンスパターン\n",
        "            print(f\"X={x}, Y={y}\")\n",
        "        case _:\n",
        "            raise ValueError(\"Not a point\")\n",
        "\n",
        "if __name__ == \"__main__\":\n",
        "    f((0, 0))\n",
        "    f((0, 2))\n",
        "    f((1, 0))\n",
        "    f((1, 2))"
      ],
      "metadata": {
        "colab": {
          "base_uri": "https://localhost:8080/"
        },
        "id": "oX5EzNU5wLt5",
        "outputId": "eb7cd60a-b42d-4f9a-89f5-f6bb760931bd"
      },
      "execution_count": null,
      "outputs": [
        {
          "output_type": "stream",
          "name": "stdout",
          "text": [
            "Origin\n",
            "Y=2\n",
            "X=1\n",
            "X=1, Y=2\n"
          ]
        }
      ]
    },
    {
      "cell_type": "markdown",
      "source": [
        "このコードでは、4 番目のシーケンスパターンは 2 個のキャプチャパターンだけを含むのであるが、論駁可能であることに注意する。対象値はシーケンスであるとは限らないからである。したがって、下にワイルドカードパターンがあっても構文エラーにはならない。\n",
        "\n",
        "**【シーケンスパターンが可変長の場合のルール】**\n",
        "\n",
        "  1. 対象シーケンスの長さがスターなしサブパターンの数より短い場合、マッチは失敗する。\n",
        "  2. スターなしサブパターンおよびスター付きサブパターンと、対象シーケンス内の項目との対応は、『スター付き変数を含む変数リストへの代入』の場合に類似した対応となる。対応する項目とのマッチに成功すると、シーケンスパターンのマッチは成功する。そうでなければ、マッチは失敗する。"
      ],
      "metadata": {
        "id": "1VGO_a3I9Fck"
      }
    },
    {
      "cell_type": "code",
      "source": [
        "def f(command):\n",
        "    match command.split():\n",
        "        case [\"quit\"]:\n",
        "            print(\"Goodbye!\")\n",
        "        case [\"go\", direction]:\n",
        "            print(f\"Went to the {direction}\")\n",
        "        case [\"drop\", *objects]:\n",
        "            for obj in objects:\n",
        "                print(f\"Dropped {obj}\")\n",
        "        case _:\n",
        "            print(f\"Sorry, I couldn't understand {command!r}\")\n",
        "\n",
        "if __name__ == \"__main__\":\n",
        "    f(\"quit\")\n",
        "    f(\"go right\")\n",
        "    f(\"drop spam ham eggs\")\n",
        "    f(\"get knife\")"
      ],
      "metadata": {
        "id": "9uUNls0N9GcU",
        "colab": {
          "base_uri": "https://localhost:8080/"
        },
        "outputId": "1f90426d-2ddc-4bdd-b039-715c055f26b8"
      },
      "execution_count": null,
      "outputs": [
        {
          "output_type": "stream",
          "name": "stdout",
          "text": [
            "Goodbye!\n",
            "Went to the right\n",
            "Dropped spam\n",
            "Dropped ham\n",
            "Dropped eggs\n",
            "Sorry, I couldn't understand 'get knife'\n"
          ]
        }
      ]
    },
    {
      "cell_type": "markdown",
      "source": [
        "シーケンスパターン内のサブパターンはワイルドカードパターンであってもよく、スターを付けてもよい（`*_`）。もちろん、シーケンスパターンは、ワイルドカードパターンやスター付きワイルドカードパターンを含んでいても、論駁可能である。"
      ],
      "metadata": {
        "id": "Kc-MAIRpd8A8"
      }
    },
    {
      "cell_type": "code",
      "source": [
        "def f(command):\n",
        "    match command.split():\n",
        "        case [\"go\", direction] if direction in (\"right\", \"left\"):\n",
        "            print(f\"Went to {direction}\")\n",
        "        case [\"go\", _]:\n",
        "            print(\"Sorry, you can't go that way\")\n",
        "\n",
        "if __name__ == \"__main__\":\n",
        "    f(\"go right\")\n",
        "    f(\"go back\")"
      ],
      "metadata": {
        "colab": {
          "base_uri": "https://localhost:8080/"
        },
        "id": "Tr7iMQ7id89K",
        "outputId": "3610c9d9-ee89-432a-9ad6-62cf069297a1"
      },
      "execution_count": null,
      "outputs": [
        {
          "output_type": "stream",
          "name": "stdout",
          "text": [
            "Went to right\n",
            "Sorry, you can't go that way\n"
          ]
        }
      ]
    },
    {
      "cell_type": "markdown",
      "source": [
        "### マッピングパターン ###"
      ],
      "metadata": {
        "id": "615qwdDPWKdG"
      }
    },
    {
      "cell_type": "markdown",
      "source": [
        "**マッピングパターン**は、マッピングオブジェクトに対して、キーと値でマッチするためのパターンであり、`{}` と `:` を使い、辞書と同様の形式をとり、キーと値をサブパターンで書いたものである。ただし、キーについては、次の制約がある。\n",
        "\n",
        "  * キーは、リテラルパターンかバリューパターンでなければならない。\n",
        "  * キーの重複は許可されない。すなわち\n",
        "      * リテラルパターンのキーが重複すると、構文エラーが発生する。\n",
        "      * 2 つのバリューパターンのキーが同じ値を持つ場合、実行時に `ValueError` 例外が発生する。\n",
        "\n",
        "このパターンで代入が行われるかどうかは、値として書いたサブパターンによって決まる。\n",
        "\n",
        "また、マッピングパターンは、可変長キーワード引数のように、最後のサブパターンだけ先頭に `**` が付けた形にできる。しかし、ワイルドカードパターンに `**` を付けた形 `**_` は冗長なため禁止される。\n",
        "\n",
        "対象値がマッピングパターンにマッチするかどうかは、以下のルールによって決められる。\n",
        "\n",
        "  1. 対象値がマッピングではない場合、マッチは失敗する。このルールにより、対象値はマッピングであることが保証されるので、以下では対象マッピングと呼ぶことにする。\n",
        "  2. マッピングパターンのすべてのキーと値の組で、対象マッピングのキーと値の組をチェックし（マッピングパターン `{KEY1: P1, ...}` に対し `KEY1 in 対象値` が真で、`P1` が `対象値[KEY1]` にマッチするかというテストが行われる）、すべてマッチするする場合、（たとえマッピングパターンに存在しないキーを対象マッピングが持っていたとしても）マッピングパターンのマッチは成功する。\n",
        "  3. マッピングパターンで重複キーが検出された場合、そのパターンは無効であるとみなされる。"
      ],
      "metadata": {
        "id": "ctgZ6dFIWLUY"
      }
    },
    {
      "cell_type": "code",
      "source": [
        "def f(data):\n",
        "    match data:\n",
        "        case {\"氏名\": name, \"身長\": height, \"出身\": come_from}:\n",
        "            print(f\"{name}さんの出身地は{come_from}\")\n",
        "        case {\"氏名\": name, \"身長\": height}:\n",
        "            print(f\"{name}さんの身長は{height}m\")\n",
        "        case {\"氏名\": name}:\n",
        "            print(f\"{name}さんのデータはありません\")\n",
        "\n",
        "if __name__ == \"__main__\":\n",
        "    f({\"氏名\": \"山田花子\", \"身長\": 168})\n",
        "    f({\"氏名\": \"山田太郎\", \"出身\": \"鹿児島県\", \"身長\": 170})"
      ],
      "metadata": {
        "colab": {
          "base_uri": "https://localhost:8080/"
        },
        "id": "gZdCyJu59Xve",
        "outputId": "1d14bd77-45dc-449e-d4be-3804e171a303"
      },
      "execution_count": null,
      "outputs": [
        {
          "output_type": "stream",
          "name": "stdout",
          "text": [
            "山田花子さんの身長は168m\n",
            "山田太郎さんの出身地は鹿児島県\n"
          ]
        }
      ]
    },
    {
      "cell_type": "markdown",
      "source": [
        "このコードで、もし最後の case ブロックが 1 番目だったなら、`'氏名'` キーをもつ対象値がすべてマッチするので、他の case ブロックはチェックされないことになる。また、もし 2 番目の case ブロックが 1 番目だったなら、`'氏名'` キーと `'身長'` キーをもつ対象値がすべてマッチするので、他のキーがつねに無視されることになる。\n",
        "\n",
        "このように、2 つのマッピングパターンの case ブロックの間で、一方が他方のキーを全て含むような場合は、キーの数が少ないほうの case ブロックを上の位置にしてしまうと、キーの数が多いほうの case ブロックは無意味になってしまうので注意する。"
      ],
      "metadata": {
        "id": "AexopiSdJ4Y4"
      }
    },
    {
      "cell_type": "markdown",
      "source": [
        "### クラスパターン ###"
      ],
      "metadata": {
        "id": "c6N5_eTuKfC4"
      }
    },
    {
      "cell_type": "markdown",
      "source": [
        "**クラスパターン**は、オブジェクトに対して、そのクラスと属性でマッチするためのパターンであり、コンストラクター呼び出しの形式 `CLASS(KEY=PATTERN, ...)` をとるものである。`CLASS` でクラスを、キーワード引数の形 `KEY=PATTERN` で属性名と属性値を指定する。以下の制限がある。\n",
        "\n",
        "  * キーワード引数の形 `KEY=PATTERN` では、`KEY` も `PATTERN` もパターンでなければならない。\n",
        "  * 同じキーワードをクラスパターン内で繰り返してはならない。\n",
        "  * 位置引数の形 `PATTERN` を使うこともできるが、パターンのチェック時にキーワード引数の形 `KEY=PATTERN` に暗黙的に変換される。この変換には、`CLASS` クラスの `__match_args__` 属性が使われる。この属性が定義されていない場合は、変換が失敗する。\n",
        "\n",
        "このパターンで代入が行われるかどうかは、引数としたサブパターンによって決まる。\n",
        "\n",
        "対象値がクラスパターンにマッチするかどうかは、以下のルールによって決められる。\n",
        "\n",
        "  1. クラスパターン内のクラスが組み込み `type` のインスタンスではない場合、そのパターンは無効であるとみなされる（`TypeError` 例外が発生する）。\n",
        "  2. 対象値がクラスパターン内のクラスのインスタンスではない場合（`isinstance()` でテスト）、マッチは失敗する。\n",
        "  3. パターンの引数が存在しない場合、マッチは成功する。\n",
        "  4. キーワード引数 `KEY=PATTERN` については、`hasattr(対象値, KEY)` が `True` で、かつ、`PATTERN` が `対象値.KEY` にマッチするかどうかがチェックされる。\n",
        "  5. `i` 番目（0 から始まる）の位置引数 `PATTERN` は、クラスの `__match_args__` 属性により、`__match_args__[i]` で得られる文字列 `'KEY'` を使ってキーワード引数 `KEY=PATTERN` に変換される。たとえば、もし `MyClass.__match_args__` に `(\"left\", \"center\", \"right\")` が定義されていた場合、 `case MyClass(x, y)` は `case MyClass(left=x, center=y)` と同義になる。パターンの引数の数は、`__match_args__` の要素数と同等かそれ以下でなければならない。重複するキーワードがあってはならない。すべての位置引数がキーワード引数に変換されたら、キーワード引数のみがあるかのようにチェックが進行する。変換に失敗したら、そのパターンは無効であるとみなされる（`TypeError` 例外が発生する）。\n",
        "  6. `str` や `int` などの組み込みクラスに関するクラスパターンは単一の位置引数を受け入れ、そこにあるパターンが属性ではなく**オブジェクト全体とチェックされる**。\n",
        "\n",
        "次のコードは、パターン引数が存在しないクラスパターンを使った例である:"
      ],
      "metadata": {
        "id": "KHHC2bOhKfuK"
      }
    },
    {
      "cell_type": "code",
      "source": [
        "from decimal import Decimal\n",
        "\n",
        "def f(x):\n",
        "    match x:\n",
        "        case complex():\n",
        "            print(f\"{x}は複素数\")\n",
        "        case Decimal():\n",
        "            print(f\"{x!r}は10進数\")\n",
        "        case float():\n",
        "            print(f\"{x}は浮動小数点数\")\n",
        "        case int():\n",
        "            print(f\"{x}は整数\")\n",
        "\n",
        "if __name__ == \"__main__\":\n",
        "    f(10)\n",
        "    f(1 + 2j)\n",
        "    f(3.14)\n",
        "    f(Decimal(\"3.14\"))"
      ],
      "metadata": {
        "colab": {
          "base_uri": "https://localhost:8080/"
        },
        "id": "GfkfQpJSCOu1",
        "outputId": "7ef33a64-77b1-49b7-e29f-8916fb0715aa"
      },
      "execution_count": null,
      "outputs": [
        {
          "output_type": "stream",
          "name": "stdout",
          "text": [
            "10は整数\n",
            "(1+2j)は複素数\n",
            "3.14は浮動小数点数\n",
            "Decimal('3.14')は10進数\n"
          ]
        }
      ]
    },
    {
      "cell_type": "markdown",
      "source": [
        "次のコードは、キーワード引数のあるクラスパターンを使った例である:"
      ],
      "metadata": {
        "id": "vo_Y-mlJCPTT"
      }
    },
    {
      "cell_type": "code",
      "source": [
        "class Point:\n",
        "    def __init__(self, x, y):\n",
        "        self.x = x\n",
        "        self.y = y\n",
        "\n",
        "\n",
        "def f(point):\n",
        "    match point:\n",
        "        case Point(x=0, y=0):\n",
        "            print(\"Origin\")\n",
        "        case Point(x=0, y=y):\n",
        "            print(f\"Y={y}\")\n",
        "        case Point(x=x, y=0):\n",
        "            print(f\"X={x}\")\n",
        "        case Point():\n",
        "            print(\"Somewhere else\")\n",
        "        case _:\n",
        "            print(\"Not a point\")\n",
        "\n",
        "\n",
        "if __name__ == \"__main__\":\n",
        "    f(Point(0, 0))\n",
        "    f(Point(0, 1))\n",
        "    f(Point(1, 0))\n",
        "    f(Point(1, 1))\n",
        "    f(\"Point\")"
      ],
      "metadata": {
        "colab": {
          "base_uri": "https://localhost:8080/"
        },
        "id": "DqKlq5oDHXve",
        "outputId": "18caece3-dcdf-4a03-8fc6-65b0f636659d"
      },
      "execution_count": null,
      "outputs": [
        {
          "output_type": "stream",
          "name": "stdout",
          "text": [
            "Origin\n",
            "Y=1\n",
            "X=1\n",
            "Somewhere else\n",
            "Not a point\n"
          ]
        }
      ]
    },
    {
      "cell_type": "markdown",
      "source": [
        "次のコードは、クラスに `__match_args__` 属性を定義して、位置引数のあるクラスパターンを使った例である:"
      ],
      "metadata": {
        "id": "EwhBb_AnI9gn"
      }
    },
    {
      "cell_type": "code",
      "source": [
        "class Point:\n",
        "    __match_args__ = (\"x\", \"y\")\n",
        "\n",
        "    def __init__(self, x, y):\n",
        "        self.x = x\n",
        "        self.y = y\n",
        "\n",
        "\n",
        "def f(point):\n",
        "    match point:\n",
        "        case Point(x, y) if x == y:\n",
        "            print(f\"Y=X at {x}\")\n",
        "        case Point(x, y):\n",
        "            print(\"Not on the diagonal\")\n",
        "\n",
        "\n",
        "if __name__ == \"__main__\":\n",
        "    f(Point(1, 1))\n",
        "    f(Point(2, 1))"
      ],
      "metadata": {
        "colab": {
          "base_uri": "https://localhost:8080/"
        },
        "id": "5DrBhXEzI-Q8",
        "outputId": "979e2213-340d-4ed9-97c5-28e49379f471"
      },
      "execution_count": null,
      "outputs": [
        {
          "output_type": "stream",
          "name": "stdout",
          "text": [
            "Y=X at 1\n",
            "Not on the diagonal\n"
          ]
        }
      ]
    },
    {
      "cell_type": "markdown",
      "source": [
        "このコードにおいて、クラスパターンの引数に、属性名を省略してキャプチャパターンが使用できていることに注目する。`__match_args__` 属性に基づいて、`case Point(x, y)` は `case Point('x'=x, 'y'=y)` に暗黙的に変換されてから `point` とマッチするか調べられる。もし `__match_args__` 属性がなければ、クラスパターンは無効とみなされる（`TypeError` 例外が発生する）。\n",
        "\n",
        "次のコードは、マッピングパターンとクラスパターンを組み合わせたパターンの例である:"
      ],
      "metadata": {
        "id": "MkMoR4NTW7Go"
      }
    },
    {
      "cell_type": "code",
      "source": [
        "def f(data):\n",
        "    match data:\n",
        "        case {\"id\": int(id)}:\n",
        "            print(f\"{id=} は古い形式のIDです\")\n",
        "        case {\"id\": str(id)}:\n",
        "            print(f\"{id=} は新しい形式のIDです\")\n",
        "\n",
        "if __name__ == \"__main__\":\n",
        "    f({\"id\": 4492, \"name\": \"山田太郎\"})\n",
        "    f({\"id\": \"qA9s71p\", \"name\": \"山田花子\"})"
      ],
      "metadata": {
        "colab": {
          "base_uri": "https://localhost:8080/"
        },
        "id": "94WUr5wa-cXp",
        "outputId": "7f98f476-d432-4dce-df0a-2f6805be6cea"
      },
      "execution_count": null,
      "outputs": [
        {
          "output_type": "stream",
          "name": "stdout",
          "text": [
            "id=4492 は古い形式のIDです\n",
            "id='qA9s71p' は新しい形式のIDです\n"
          ]
        }
      ]
    },
    {
      "cell_type": "markdown",
      "source": [
        "このコードから、`int` や `str` などの組み込みクラスに関しては、クラスパターンの単一の引数（キャプチャーパターン `id`）に、属性値ではなくインスタンスそのものが束縛されていることがわかる。"
      ],
      "metadata": {
        "id": "zxm0o3ODKxcI"
      }
    },
    {
      "cell_type": "markdown",
      "source": [
        "### OR パターン ###"
      ],
      "metadata": {
        "id": "LjvlvS4EAiMC"
      }
    },
    {
      "cell_type": "markdown",
      "source": [
        "縦線 `|` で区切られた複数のパターンは、**OR パターン**である。ただし、以下の制限がある。\n",
        "\n",
        "  1. 最後のサブパターン以外、論駁不可能であってはならない。\n",
        "  2. 各サブパターンが束縛する名前の組み合わせは、すべて同じである必要がある。\n",
        "\n",
        "OR パターンでは、対象値に対して順に各サブパターンのマッチングが行われる。マッチが成功するとそこで終了し、この OR パターンのマッチは成功したとみなされる。一方、どのサブパターンも成功しなければ、この OR パターンのマッチは失敗したことになる。**最後のサブパターンが論駁不可能である OR パターンは論駁不可能である**。"
      ],
      "metadata": {
        "id": "NU1x_hqDAjMH"
      }
    },
    {
      "cell_type": "code",
      "source": [
        "def f(command):\n",
        "    match command.split():\n",
        "        case [\"north\"] | [\"go\", \"north\"]:\n",
        "            print(\"Went north\")\n",
        "        case [\"get\", obj] | [\"pick\", \"up\", obj] | [\"pick\", obj, \"up\"]:\n",
        "            print(f\"Got {obj}\")\n",
        "\n",
        "if __name__ == \"__main__\":\n",
        "    f(\"go north\")\n",
        "    f(\"pick ITEM up\")"
      ],
      "metadata": {
        "colab": {
          "base_uri": "https://localhost:8080/"
        },
        "id": "sacRsi8-DDJc",
        "outputId": "acaedc23-a5fa-43d3-d55d-68624cfa9997"
      },
      "execution_count": null,
      "outputs": [
        {
          "output_type": "stream",
          "name": "stdout",
          "text": [
            "Went north\n",
            "Got ITEM\n"
          ]
        }
      ]
    },
    {
      "cell_type": "markdown",
      "source": [
        "このコードで、2 番目の OR パターンに、最後のサブパターンとしてキャプチャパターンを追加すると、論駁不可能となる。"
      ],
      "metadata": {
        "id": "6nk0hgn9gs2l"
      }
    },
    {
      "cell_type": "code",
      "source": [
        "def f(command):\n",
        "    match command.split():\n",
        "        case [\"north\"] | [\"go\", \"north\"]:\n",
        "            print(\"Went north\")\n",
        "        case [\"get\", obj] | [\"pick\", \"up\", obj] | [\"pick\", obj, \"up\"] | obj:\n",
        "            print(obj)\n",
        "\n",
        "if __name__ == \"__main__\":\n",
        "    f(\"fall back\")"
      ],
      "metadata": {
        "colab": {
          "base_uri": "https://localhost:8080/"
        },
        "id": "SmM6VsGBgtuD",
        "outputId": "103bdb6d-97f1-4cf2-8219-93a708a71d52"
      },
      "execution_count": null,
      "outputs": [
        {
          "output_type": "stream",
          "name": "stdout",
          "text": [
            "['fall', 'back']\n"
          ]
        }
      ]
    },
    {
      "cell_type": "markdown",
      "source": [
        "### AS パターン ###"
      ],
      "metadata": {
        "id": "3kVEEmPVr9o6"
      }
    },
    {
      "cell_type": "markdown",
      "source": [
        "`パターン as キャプチャパターン` の形は **AS パターン**である。\n",
        "\n",
        "`as` の前のパターンが対象値にマッチしなければ、この AS パターンのマッチは失敗となる。`as` の前のパターンが対象値にマッチすれば、この AS パターンのマッチは成功となり、対象値がキャプチャパターンの変数に代入される。したがって、`as` の前のパターンが論駁不可能の場合、この AS パターンは論駁不可能となる。"
      ],
      "metadata": {
        "id": "o56gtKuar-jV"
      }
    },
    {
      "cell_type": "code",
      "source": [
        "class Person:\n",
        "    def __init__(self, name, relationship):\n",
        "        self.name = name\n",
        "        self.relationship = relationship\n",
        "\n",
        "def f(person):\n",
        "    match person:\n",
        "        case Person(name=\"山田太郎\") | Person(name=\"山田花子\") as p:\n",
        "            print(f\"{p.name}は{p.relationship}です\")\n",
        "        case _:\n",
        "            print(\"知らない人です\")\n",
        "\n",
        "if __name__ == \"__main__\":\n",
        "    f(Person(\"山田太郎\", \"友人\"))\n",
        "    f(Person(\"山田花子\", \"いとこ\"))"
      ],
      "metadata": {
        "colab": {
          "base_uri": "https://localhost:8080/"
        },
        "id": "0iBju56vjIpc",
        "outputId": "de27aaa8-fc10-4e45-9a56-923092b140e5"
      },
      "execution_count": null,
      "outputs": [
        {
          "output_type": "stream",
          "name": "stdout",
          "text": [
            "山田太郎は友人です\n",
            "山田花子はいとこです\n"
          ]
        }
      ]
    },
    {
      "cell_type": "markdown",
      "source": [
        "### グループパターン ###"
      ],
      "metadata": {
        "id": "N4gkXwqdtSeB"
      }
    },
    {
      "cell_type": "markdown",
      "source": [
        "パターンの周囲に括弧 `()` を追加することができる。この括弧は単に可読性を高める目的で使われるだけであり、構文上の意味が付与されるわけではない。"
      ],
      "metadata": {
        "id": "3Oxo9ZUxtTSw"
      }
    },
    {
      "cell_type": "code",
      "source": [
        "def f(command):\n",
        "    match command.split():\n",
        "        case [\"go\", (\"north\" | \"south\" | \"east\" | \"west\") as direction]:\n",
        "            print(f\"Went {direction}\")\n",
        "\n",
        "if __name__ == \"__main__\":\n",
        "    f(\"go west\")"
      ],
      "metadata": {
        "colab": {
          "base_uri": "https://localhost:8080/"
        },
        "id": "rS0qnTcOuzLS",
        "outputId": "0a7b9b1a-ec21-4a95-eb5e-41d5ebc82f07"
      },
      "execution_count": null,
      "outputs": [
        {
          "output_type": "stream",
          "name": "stdout",
          "text": [
            "Went west\n"
          ]
        }
      ]
    }
  ]
}