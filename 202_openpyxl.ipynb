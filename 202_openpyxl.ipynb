{
  "nbformat": 4,
  "nbformat_minor": 0,
  "metadata": {
    "colab": {
      "provenance": [],
      "authorship_tag": "ABX9TyMUZsGDVA0SJE0N81rpLETH",
      "include_colab_link": true
    },
    "kernelspec": {
      "name": "python3",
      "display_name": "Python 3"
    },
    "language_info": {
      "name": "python"
    }
  },
  "cells": [
    {
      "cell_type": "markdown",
      "metadata": {
        "id": "view-in-github",
        "colab_type": "text"
      },
      "source": [
        "<a href=\"https://colab.research.google.com/github/suwatoh/Python-learning/blob/main/202_openpyxl.ipynb\" target=\"_parent\"><img src=\"https://colab.research.google.com/assets/colab-badge.svg\" alt=\"Open In Colab\"/></a>"
      ]
    },
    {
      "cell_type": "markdown",
      "source": [
        "openpyxl\n",
        "========"
      ],
      "metadata": {
        "id": "GVbDGVYvPmPq"
      }
    },
    {
      "cell_type": "markdown",
      "source": [
        "Excel ファイル\n",
        "--------------"
      ],
      "metadata": {
        "id": "FcQoPpJgxf0v"
      }
    },
    {
      "cell_type": "markdown",
      "source": [
        "サードパティ製パッケージ [openpyxl](https://openpyxl.readthedocs.io/en/stable/) は、Excel を一切開かずに Python から直接 Excel ファイル（xlsx 形式）を操作する機能を提供する。ライセンスは MIT Licence。インストール方法は次のとおり。\n",
        "\n",
        "``` shell\n",
        "pip install openpyxl\n",
        "```\n",
        "\n",
        "Excel ファイルを構成する部品と `openpyxl` が提供するクラスは次のような対応関係にあって、以降ではインスタンスを次のように表す。\n",
        "\n",
        "| Excel | openpyxl | インスタンス |\n",
        "|:---|:---|:---|\n",
        "| ブック | `Workbook` | `wb` |\n",
        "| ワークシート | `Worksheet` | `ws` |\n",
        "| 行 | `Row` | `row` |\n",
        "| 列 | `Column` | `col` |\n",
        "| セル | `Cell` | `cel` |"
      ],
      "metadata": {
        "id": "CzW8zypixgt0"
      }
    },
    {
      "cell_type": "markdown",
      "source": [
        "ワークブックの作成と保存\n",
        "------------------------"
      ],
      "metadata": {
        "id": "P3HWWYwO0Vih"
      }
    },
    {
      "cell_type": "markdown",
      "source": [
        "Excel ファイルを新規に作成する場合、まず、`openpyxl.Workbook()` コンストラクタで `openpyxl.Workbook` オブジェクトを作成する。ワークブックを作成すると、自動でワークシートも 1 つ作成される。\n",
        "\n",
        "``` python\n",
        "from openpyxl import Workbook\n",
        "wb = Workbook()\n",
        "```\n",
        "\n",
        "既存の Excel ファイルを読み込むには、`openpyxl.load_workbook()` を呼び出す。この関数は `openpyxl.Workbook` オブジェクトを返す。\n",
        "\n",
        "``` python\n",
        "openpyxl.load_workbook(filename, read_only=False, keep_vba=False, data_only=False, keep_links=True, rich_text=False)\n",
        "```\n",
        "\n",
        "| 引数 | 意味 |\n",
        "|:---|:---|\n",
        "| `filename` | ファイルのパス |\n",
        "| `read_only` | `True` の場合、一切の書き込みができなくなる |\n",
        "| `keep_vba` | `True` の場合、VBA マクロを保持する。`False`（デフォルト）の場合、保存時に VBA マクロが消えてしまう |\n",
        "| `data_only` | `True` の場合、数式の計算結果のみ（値）を読み込む |\n",
        "| `keep_links` | `True`（デフォルト）の場合、外部ワークブックへのリンクを保持する |\n",
        "| `rich_text` | `True` に設定すると、セル内のすべてのリッチテキスト書式を保持する。デフォルトは `False` |\n",
        "\n",
        "``` python\n",
        "from openpyxl import load_workbook\n",
        "wb = load_workbook('book.xlsx', keep_vba=True)\n",
        "```\n",
        "\n",
        "`openpyxl.Workbook` オブジェクトのファイルに関するメソッドは次のとおり。\n",
        "\n",
        "| メソッド | 機能 | 戻り値 |\n",
        "|:---|:---|:---|\n",
        "| `wb.save(filename)` | `filename` に保存する | `None` |\n",
        "| `wb.close()` | ファイルが開いている場合は、ファイルを閉じる。新規作成の場合は何も起こらない | `None` |\n",
        "\n",
        "`openpyxl.load_workbook()` 関数でファイルを読み込んだ場合は、`close()` メソッドでファイルを閉じる。"
      ],
      "metadata": {
        "id": "1i6gED_60Zgx"
      }
    },
    {
      "cell_type": "markdown",
      "source": [
        "ワークシートの操作\n",
        "------------------"
      ],
      "metadata": {
        "id": "ilKWWA1brZMT"
      }
    },
    {
      "cell_type": "markdown",
      "source": [
        "`openpyxl.Workbook` オブジェクトは、ワークシートに関する次の属性（読み取り専用プロパティ）を持つ。\n",
        "\n",
        "| 属性 | 意味 |\n",
        "|:---|:---|\n",
        "| `wb.active` | アクティブなシート（`Worksheet` オブジェクト）を取得する |\n",
        "| `wb.sheetnames` | ワークブックの中のシートの名前（文字列）のリストを取得する |\n",
        "| `wb.worksheets` | ワークブックの中のシートのリスト（`Worksheet` オブジェクトのリスト）を取得する |\n",
        "\n",
        "アクティブなシートとは、編集中のシートのことである。ファイルの保存時にアクティブであったシートは、次にファイルを開いたときにもアクティブとなる。Excel ファイルの新規作成の場合は、自動で作成されたシートがアクティブになっている。\n",
        "\n",
        "``` python\n",
        "ws = wb.active\n",
        "```\n",
        "\n",
        "`openpyxl.Workbook` オブジェクトは、イテレータープロトコルをサポートし、ワークブックの中のシートを 1 つずつ返す。`[ws for ws in wb]` は `wb.worksheets` と等価である。"
      ],
      "metadata": {
        "id": "YsJ1c6N56Wzu"
      }
    },
    {
      "cell_type": "code",
      "source": [
        "from openpyxl import Workbook\n",
        "wb = Workbook()\n",
        "assert wb.worksheets == [ws for ws in wb]"
      ],
      "metadata": {
        "id": "P8jLJYV66YEM"
      },
      "execution_count": null,
      "outputs": []
    },
    {
      "cell_type": "markdown",
      "source": [
        "`openpyxl.Workbook` オブジェクトはマッピングオブジェクトにもなっていて、`[シート名]` を付けることで既存のシートから `Worksheet` オブジェクトを取得することができる。\n",
        "\n",
        "``` python\n",
        "ws1 = wb['Sheet1']\n",
        "```\n",
        "\n",
        "新規ファイル作成時はデフォルトでシート名 `'Sheet'` のワークシートが存在しているので、不要な場合は以下で削除する。\n",
        "\n",
        "``` python\n",
        "del wb[\"Sheet\"]\n",
        "```\n",
        "\n",
        "`openpyxl.Workbook` オブジェクトは、ワークシートの操作に関する次のメソッドを持つ。\n",
        "\n",
        "| メソッド | 機能 | 戻り値 |\n",
        "|:---|:---|:---|\n",
        "| `wb.create_sheet(title=None, index=None)` | ワークシートを作成する。シート名は自動で付けられるが、`title` で指定できる。`index` にシートを挿入する位置を整数で指定できる<br />0 を指定すると左端に作成する。デフォルトでは右端に作成する | `Worksheet` |\n",
        "| `wb.remove(worksheet)` | ワークシートを削除する。`del wb[sheetname]` と等価 | `None` |\n",
        "| `wb.index(worksheet)` | ワークシートの位置を返す | `int` |\n",
        "| `wb.move_sheet(sheet, offset=0)` | `sheet` の位置を `offset` だけ移動する | `None` |\n",
        "| `wb.copy_worksheet(from_worksheet)` | 引数に指定したワークシートをコピーする。作成したワークシートを返す | `Worksheet` |\n",
        "\n",
        "`Worksheet` オブジェクトの属性は次のとおり。\n",
        "\n",
        "| 属性 | 意味 |\n",
        "|:---|:---|\n",
        "| `ws.title` | シート名を表す文字列。この属性は変更可能で、代入によりシート名を変更できる |\n",
        "| `ws.max_column` | ワークシートの使用領域での最大の列番号である整数 |\n",
        "| `ws.min_column` | ワークシートの使用領域での最小の列番号である整数 |\n",
        "| `ws.max_row` | ワークシートの使用領域での最大の行番号である整数 |\n",
        "| `ws.min_row` | ワークシートの使用領域での最小の行番号である整数 |\n",
        "\n",
        "ここで使用領域とは、値が書き込まれたセルをすべて囲む最小の四角形領域のことである。列番号も行番号も 1 からはじまる（0 ではないので注意）。"
      ],
      "metadata": {
        "id": "tojNWdmGraKE"
      }
    },
    {
      "cell_type": "markdown",
      "source": [
        "行と列の操作\n",
        "------------"
      ],
      "metadata": {
        "id": "AQ_OmM5VmTxt"
      }
    },
    {
      "cell_type": "markdown",
      "source": [
        "`Worksheet` オブジェクトが作成されると、`Row` オブジェクトと `Column` オブジェクトも自動的に作成される。\n",
        "\n",
        "`Worksheet` オブジェクトに対して、`[1]` のような Excel の行番号を使ってインデックスを付けると、行（`Row` オブジェクト）を取得する。行番号は 1 から始まる（0 ではないので注意）。\n",
        "\n",
        "``` python\n",
        "row = ws[1]\n",
        "```\n",
        "\n",
        "`Worksheet` オブジェクトに対して、`['A']` のような Excel の列指定文字列を使ってキーを付けると、列（`Column` オブジェクト）を取得する。\n",
        "\n",
        "``` python\n",
        "col = ws['A']\n",
        "```\n",
        "\n",
        "以下の `Worksheet` オブジェクトの属性を使って、ワークシートの行および列の表示設定ができる:\n",
        "\n",
        "| 属性 | 意味 |\n",
        "|:---|:---|\n",
        "| `ws.row_dimensions` | `RowDimensions` オブジェクトのコンテナを参照する。`ws.row_dimensions[1]` で行番号 1 の行の `RowDimensions` オブジェクトにアクセスできる |\n",
        "| `ws.column_dimensions` | `ColumnDimensions` オブジェクトのコンテナを参照する。`ws.column_dimensions['B']` で `'B'` 列の `ColumnDimensions` オブジェクトにアクセスできる |\n",
        "| `ws.freeze_panes` | Excel のセル指定文字列（例 `'B2'`）を指定すると、そのセルを左上位置とする四角形領域がスクロール可能となり、その他の行と列（Γ型の領域）の位置が固定される |\n",
        "\n",
        "`RowDimensions` オブジェクトは行の表示に関する情報を保持し、その `height` 属性で行の高さ（ポイント単位）を指定できる。また、`ColumnDimensions` オブジェクトは列の表示に関する情報を保持し、その `width` 属性で列の幅（文字数単位）を指定できる。\n",
        "\n",
        "``` python\n",
        "ws.row_dimensions[1].height = 60\n",
        "ws.column_dimensions['B'].width = 30\n",
        "```\n",
        "\n",
        "`ws.freeze_panes` が `'A1'` 以外の場合、スクロールされない行または列が存在することになる。固定を解除したい場合は、`'A1'` を指定すればよい。\n",
        "\n",
        "``` python\n",
        "ws.freeze_panes = 'A2'  # 1 行目だけを固定する\n",
        "ws.freeze_panes = 'B1'  # A 列だけを固定する\n",
        "ws.freeze_panes = 'B2'  # 1 行目と A 列を固定する\n",
        "ws.freeze_panes = 'A1'  # 固定を解除する\n",
        "```\n",
        "\n",
        "`Worksheet` オブジェクトは、行および列を操作する次のメソッドを持つ。\n",
        "\n",
        "| メソッド | 機能 | 戻り値 |\n",
        "|:---|:---|:---|\n",
        "| `ws.insert_cols(idx, amount=1)` | 列番号 `idx` の位置に列を挿入する。挿入する列の数を `amount` で指定する（デフォルトは 1） | `None` |\n",
        "| `ws.insert_rows(idx, amount=1)` | 行番号 `idx` の位置に行を挿入する。挿入する行の数を `amount` で指定する（デフォルトは 1） | `None` |\n",
        "| `ws.delete_cols(idx, amount=1)` | 列番号 `idx` の列を削除する。`amount` に削除する列の数を指定できる | `None` |\n",
        "| `ws.delete_rows(idx, amount=1)` | 列番号 `idx` の行を削除する。`amount` に削除する行の数を指定できる | `None` |"
      ],
      "metadata": {
        "id": "oJHNb1PemUuD"
      }
    },
    {
      "cell_type": "markdown",
      "source": [
        "セルの選択\n",
        "----------"
      ],
      "metadata": {
        "id": "1vHZyKFxa2Wr"
      }
    },
    {
      "cell_type": "markdown",
      "source": [
        "`Worksheet` オブジェクトに対して、`['A1']` のような Excel のセル指定文字列を使ってキーを付けると、セル（`Cell` オブジェクト）を取得することができる。\n",
        "\n",
        "``` python\n",
        "cel = ws['A1']  # cel には Cell オブジェクトが格納される\n",
        "```\n",
        "\n",
        "代入文の左辺では特別にセルの値にアクセスすることになり、セルの値が書き換えられる。\n",
        "\n",
        "``` python\n",
        "ws['A1'] = 4  # セルの内容が書き換えられる\n",
        "```\n",
        "\n",
        "セルの値は、設定されてないとき、つまり未使用の状態では `None` となっている。\n",
        "\n",
        "`Worksheet` オブジェクトに与えるキーを、Excel の範囲指定文字列（シートの四角形領域の左上のセルと右下のセルのセル指定文字を `:` で連結したもの）とすると、その領域にある行のタプルを取得する。各行は列のセルからなるタプルである。\n",
        "\n",
        "``` python\n",
        "cell_range = ws['A1:C2']\n",
        "# 以下と同じ\n",
        "# ((ws['A1'], ws['B1'], ws['C1']),\n",
        "#  (ws['A2'], ws['B2'], ws['C2']))\n",
        "```\n",
        "\n",
        "`ws[row_index]` でアクセスされる `Row` オブジェクトはセルのシーケンスであり、タプルと同様にインデックスでセルを参照できる（インデックス番号は 0 から始まることに注意）。"
      ],
      "metadata": {
        "id": "R00hu9rFGb0V"
      }
    },
    {
      "cell_type": "code",
      "source": [
        "from openpyxl import Workbook\n",
        "ws = Workbook().active\n",
        "assert ws[1][0] is ws['A1']"
      ],
      "metadata": {
        "id": "zKFODxUGGrdK"
      },
      "execution_count": null,
      "outputs": []
    },
    {
      "cell_type": "markdown",
      "source": [
        "`Worksheet` オブジェクトの `rows` 属性は、ワークシートの使用領域での各行（セルからなるタプル）を 1 行ずつ返すジェネレーターを参照する。\n",
        "\n",
        "``` python\n",
        "for row in ws.rows:\n",
        "\tfor cel in row:\n",
        "        pass\n",
        "```\n",
        "\n",
        "`Worksheet` オブジェクトの `columns` 属性は、ワークシートの使用領域での各列（セルからなるタプル）を 1 列ずつ返すジェネレーターを参照する。\n",
        "\n",
        "``` python\n",
        "for col in ws.columns:\n",
        "    for cel in col:\n",
        "        pass\n",
        "```\n",
        "\n",
        "また、`Worksheet` オブジェクトは、セル選択に関する次のメソッドを持つ。\n",
        "\n",
        "| メソッド | 機能 | 戻り値 |\n",
        "|:---|:---|:---|\n",
        "| `ws.cell(row, column, value=None)` | 行番号 `row`、列番号 `column` の `Cell` オブジェクトを取得する。`value` オプションを指定すると、その値でセルの内容<br />を書き換える | `Cell` |\n",
        "| `ws.iter_rows(min_row=None, max_row=None,`<br />` min_col=None, max_col=None, values_only=False)` | 四角形領域のセルを含む行を 1 行ずつ yield するジェネレーターを返す。`values_only` が `True` の場合、 yield された<br />行から得られるのは `Cell` オブジェクトではなくセルの値となる | ジェネレーター |\n",
        "| `ws.iter_cols(min_col=None, max_col=None,`<br />` min_row=None, max_row=None, values_only=False)` |四角形領域のセルを含む列を 1 列ずつ yield するジェネレーターを返す。`values_only` が `True` の場合、 yield された<br />列から得られるのは `Cell` オブジェクトではなくセルの値となる | ジェネレーター |\n",
        "\n",
        "四角形領域を指定して行ごとの操作をする例:"
      ],
      "metadata": {
        "id": "oVWqxlqga3UJ"
      }
    },
    {
      "cell_type": "code",
      "source": [
        "from openpyxl import Workbook\n",
        "ws = Workbook().active\n",
        "for row in ws.iter_rows(min_row=1, max_col=3, max_row=2):\n",
        "    for cel in row:\n",
        "        print(cel)"
      ],
      "metadata": {
        "colab": {
          "base_uri": "https://localhost:8080/"
        },
        "id": "RKGw3pZCL4U9",
        "outputId": "6804e37e-44a8-4792-f7f3-4d618c0fff29"
      },
      "execution_count": null,
      "outputs": [
        {
          "output_type": "stream",
          "name": "stdout",
          "text": [
            "<Cell 'Sheet'.A1>\n",
            "<Cell 'Sheet'.B1>\n",
            "<Cell 'Sheet'.C1>\n",
            "<Cell 'Sheet'.A2>\n",
            "<Cell 'Sheet'.B2>\n",
            "<Cell 'Sheet'.C2>\n"
          ]
        }
      ]
    },
    {
      "cell_type": "markdown",
      "source": [
        "`ws.rows` 属性や `ws.columns` 属性を使う場合、ワークシートの使用領域内にあるセルしかアクセスできない。新規作成の場合でループ操作をしたい場合は、`ws.iter_rows()`、`ws.iter_cols()` メソッドで範囲指定する必要がある。"
      ],
      "metadata": {
        "id": "pjjLi5-1MQGg"
      }
    },
    {
      "cell_type": "markdown",
      "source": [
        "セルの基本操作\n",
        "--------------"
      ],
      "metadata": {
        "id": "hsdboeVNscEz"
      }
    },
    {
      "cell_type": "markdown",
      "source": [
        "以下の `Cell` オブジェクトの属性を使って、セルに関する情報を取得できる:\n",
        "\n",
        "| 属性 | 意味 |\n",
        "|:---|:---|\n",
        "| `cel.value` | セルの値 |\n",
        "| `cel.row` | セルの行数（縦軸の座標） |\n",
        "| `cel.column` | セルの列数（横軸の座標） |\n",
        "| `cel.column_letter` | Excel の列指定文字列（例 `'A'`） |\n",
        "| `cel.coordinate` |  Excel のセル指定文字列（例 `'A5'`） |\n",
        "\n",
        "既存の Excel ファイルで、セルに対し `cel.value` から取得できる値の型は、データに応じて `int`, `float`, `str` などとなっている。とくに、セルの内容が日付（と時間）の場合、`cel.value` から `datetime.datetime` オブジェクトが得られ、時間の場合は `datetime.time` オブジェクトが得られる。値が設定されていない場合、`cel.value` は `None` になっている。\n",
        "\n",
        "`cel.value` 属性にセルの値を書き込むことができる。また、Excel の数式を文字列として書き込むこともできる。\n",
        "\n",
        "``` python\n",
        "numbers = [300, 500, 200]\n",
        "row_base = 1\n",
        "column = 1\n",
        "for i, number in enumerate(numbers):\n",
        "    ws.cell(row_base + i, column).value = number  # A1, A2, A3 のセルに書き込む\n",
        "i += 1\n",
        "ws.cell(row_base + i, column).value = \"=SUM(A1:A3)\"  # sum(numbers) と計算結果を書き込んでもよい\n",
        "```\n",
        "\n",
        "`Worksheet` オブジェクトの `append(iterable)` メソッドを使うと、リストや辞書から一気に最終行に追加する形で書き込むことができる。`iterable` がリストの場合、`'A'` 列から連続するセルに書き込む。`iterable` が辞書の場合、キー（列指定文字列または列番号）の列にあるセルに書き込む。\n",
        "\n",
        "``` python\n",
        "ws.append(['This is A1', 'This is B1', 'This is C1'])\n",
        "ws.append({'A' : 'This is A1', 'C' : 'This is C1'})\n",
        "ws.append({1 : 'This is A1', 3 : 'This is C1'})\n",
        "```"
      ],
      "metadata": {
        "id": "v7UVHrKdx3mk"
      }
    },
    {
      "cell_type": "markdown",
      "source": [
        "セルの結合\n",
        "----------"
      ],
      "metadata": {
        "id": "ETcfPGpNx48e"
      }
    },
    {
      "cell_type": "markdown",
      "source": [
        "`Worksheet` オブジェクトは、セルの結合に関する次のメソッドを持つ。\n",
        "\n",
        "| メソッド | 機能 | 戻り値 |\n",
        "|:---|:---|:---|\n",
        "| `ws.merge_cells(range_string=None,`<br />` start_row=None, start_column=None, end_row=None, end_column=None)` | 範囲内のセルを結合する。`range_string` に Excel の範囲指定文字列を指定するか、あるいは `start_row`,<br /> `start_column`, `end_row`, `end_column` により左上の行と列、右下の行と列を指定する | `None` |\n",
        "| `ws.unmerge_cells(range_string=None,`<br />` start_row=None, start_column=None, end_row=None, end_column=None)` | 範囲内のセル結合を解除する。引数の役割は `ws.merge_cells()` と同じ | `None` |\n",
        "\n",
        "結合後のセルは、範囲内の左上のセルが代表することになる。範囲内のその他のセルに書き込まれた値は、結合によって失われることに注意する。"
      ],
      "metadata": {
        "id": "7w9jPwV_x7jJ"
      }
    },
    {
      "cell_type": "code",
      "source": [
        "from openpyxl import Workbook\n",
        "ws = Workbook().active\n",
        "ws.append([\"This is A1\", \"This is B1\", \"This is C1\"])\n",
        "assert ws.cell(1, 2).value == \"This is B1\"\n",
        "ws.merge_cells(\"A1:C1\")\n",
        "assert ws.cell(1, 2).value is None  # 結合後は消去される\n",
        "assert ws.cell(1, 1).value == \"This is A1\"  # 結合後は左上のセルが代表する"
      ],
      "metadata": {
        "id": "wYBmCbE7VPCO"
      },
      "execution_count": null,
      "outputs": []
    },
    {
      "cell_type": "markdown",
      "source": [
        "セル結合を解除するときは、結合された範囲を正確に指定しないとエラーが発生する。"
      ],
      "metadata": {
        "id": "oJfuvsMvW5YT"
      }
    },
    {
      "cell_type": "markdown",
      "source": [
        "セルの書式設定\n",
        "--------------"
      ],
      "metadata": {
        "id": "wcFeDCqLx95i"
      }
    },
    {
      "cell_type": "markdown",
      "source": [
        "以下の `Cell` オブジェクトの属性を使って、セルの書式設定ができる:\n",
        "\n",
        "| 属性 | 意味 |\n",
        "|:---|:---|\n",
        "| `cel.font` | セルのフォント |\n",
        "| `cel.fill` | セルの背景色 |\n",
        "| `cel.number_format` | セルの表示形式 |\n",
        "| `cel.alignment` | セルの文字の位置 |\n",
        "| `cel.border` | セルの枠線 |\n",
        "\n",
        "`cel.font` 属性に `openpyxl.styles.Font` オブジェクトを指定することでセルのフォントを設定できる。\n",
        "\n",
        "``` python\n",
        "openpyxl.styles.Font(name=None, sz=None, b=None, i=None, charset=None, u=None, strike=None, color=None, scheme=None, family=None, size=None, bold=None, italic=None, strikethrough=None, underline=None, vertAlign=None, outline=None, shadow=None, condense=None, extend=None)\n",
        "```\n",
        "\n",
        "| 引数 | 意味 |\n",
        "|:---|:---|\n",
        "| `name` | フォント名を文字列で指定する。この引数は位置引数で指定してもよい |\n",
        "| `size` または `sz` | 文字サイズを整数で指定する |\n",
        "| `bold` または `b`| `True` の場合、太文字になる |\n",
        "| `italic` または `i` | `True` の場合、斜体になる |\n",
        "| `color` | 文字色をカラーコード（`rrggbb` 形式）で指定する |\n",
        "| `strike` または `strikethrough` | `True` の場合、打ち消し線を追加する |\n",
        "| `underline` または `u` | 下線を追加する。`'single'` なら一重線、`'double'` なら二重線となる |\n",
        "\n",
        "``` python\n",
        "from openpyxl.styles import Font\n",
        "cel.font = Font(\n",
        "    name=\"メイリオ\",\n",
        "    size=20,\n",
        "    bold=False,\n",
        "    italic=False,\n",
        "    underline=\"single\",\n",
        "    strike=False,\n",
        "    color=\"FF0000\",\n",
        ")\n",
        "```\n",
        "\n",
        "`cel.fill` 属性に `openpyxl.styles.PatternFill` オブジェクトを指定することでセルの背景色を設定できる。\n",
        "\n",
        "``` python\n",
        "openpyxl.styles.PatternFill(patternType=None, fgColor=Color(), bgColor=Color(), fill_type=None, start_color=None, end_color=None)\n",
        "```\n",
        "\n",
        "| 引数 | 意味 |\n",
        "|:---|:---|\n",
        "| `patternType` または `fill_type` | `'darkDown'`, `'darkGrid'`, `'lightGrid'`, `'gray0625'`, `'lightGray'`, `'mediumGray'`, `'darkGray'`, `'darkHorizontal'`, `'solid'`, `'darkVertical'`, `'lightUp'`,<br /> `'lightTrellis'`, `'darkUp'`, `'lightDown'`, `'lightVertical'`, `'gray125'`, `'darkTrellis'`, `'lightHorizontal'`を指定できる |\n",
        "| `fgColor` または `start_color` | 背景色に使う色をカラーコード（`rrggbb` 形式）で指定する |\n",
        "| `bgColor` または `end_color` | 背景色に使う色をカラーコード（`rrggbb` 形式）で指定する |\n",
        "\n",
        "単色で塗りつぶす場合は、`patternType` に `'solid'` を指定し、`fgColor` に塗りつぶす色を指定する（`bgColor` は使われない）。\n",
        "\n",
        "``` python\n",
        "from openpyxl.styles import PatternFill\n",
        "cel.fill = PatternFill(\"solid\", \"33FFFF\")\n",
        "```\n",
        "\n",
        "`cel.number_format` 属性に次のような文字列を指定することでセルの表示形式を設定できる。\n",
        "\n",
        "| 文字列定数 | 意味 |\n",
        "|:---|:---|\n",
        "| `'General'` | 標準。数値や文字列を書き込んだ時のデフォルト |\n",
        "| `'yyyy-mm-dd h:mm:ss'` | 日付と時間（1970-01-01 15:00:00 形式）。`datetime.datetime` オブジェクトを書き込んだ時のデフォルト |\n",
        "| `'yyyy-mm-dd'` | 日付（1970-01-01 形式）。`datetime.date` オブジェクトを書き込んだ時のデフォルト |\n",
        "| `'h:mm:ss'` | 時間（15:00:00 形式）。`datetime.time` オブジェクトを書き込んだ時のデフォルト |\n",
        "| `'0'` | 数値（小数点以下の桁数 0） |\n",
        "| `'0.00'` | 数値（小数点以下の桁数 2） |\n",
        "| `'#,##0'` | 3 桁区切り記号付き数値（小数点以下の桁数 0） |\n",
        "| `'#,##0.00''` | 3 桁区切り記号付き数値（小数点以下の桁数 2） |\n",
        "| `'0%'` | パーセンテージ（小数点以下の桁数 0） |\n",
        "| `'0.00%'` | パーセンテージ（小数点以下の桁数 2） |\n",
        "| `'0.00E+00'` | 指数（小数点以下の桁数 2） |\n",
        "| `'yyyy/m/d'` | 日付（1970/1/1 形式） |\n",
        "| `'yyyy\"年\"m\"月\"d\"日\"'` | 日付（1970年1月1日 形式） |\n",
        "| `'h:mm AM/PM',` | 時間（3:00 PM 形式) |\n",
        "| `'h:mm:ss AM/PM'` | 時間（3:00:00 PM 形式） |\n",
        "| `'h:mm'` | 時間（15:00 形式） |\n",
        "| `'@'` | 文字列 |\n",
        "\n",
        "セルに日付や時間を書き込むときは、`datetime.datetime` オブジェクトや、`datetime.date` オブジェクト、`datetime.time` オブジェクトを使わなければならない。\n",
        "\n",
        "``` python\n",
        "import datetime\n",
        "cel.value = datetime.datetime.now()\n",
        "cel.number_format = 'yyyy\"年\"m\"月\"d\"日\"'\n",
        "```\n",
        "\n",
        "`cel.alignment` 属性に `openpyxl.styles.Alignment` オブジェクトを指定することでセルの文字の位置を設定できる。\n",
        "\n",
        "``` python\n",
        "openpyxl.styles.Alignment(horizontal=None, vertical=None, textRotation=0, wrapText=None, shrinkToFit=None, indent=0, relativeIndent=0, justifyLastLine=None, readingOrder=0, text_rotation=None, wrap_text=None, shrink_to_fit=None, mergeCell=None)\n",
        "```\n",
        "\n",
        "| 引数 | 意味 |\n",
        "|:---|:---|\n",
        "| `horizontal`| 横方向の位置。次の値を指定できる<br />・`'general'`: 標準<br />・`'left'`: 左揃え<br />・`'center'`: 中央揃え<br />・`'right'`: 右揃え<br />・`'justify'`: 両端揃え<br />・`'fill'`: 繰り返し<br />・`'distributed'`: 均等割り付け<br />・`'centerContinuous'`: 選択範囲内で中央 |\n",
        "| `vertical` | 縦方向の位置。次の値を指定できる<br />・`'top'`: 上揃え<br />・`'center'`: 中央揃え<br />・`'bottom'`: 下揃え<br />・`'justify'`: 両端揃え<br />・`'distributed'`: 均等割り付け |\n",
        "| `textRotation` または `text_rotation` | 反時計回りで回転する角度。 0 から 180 までの範囲内の整数を指定できる |\n",
        "| `wrapText` または `wrap_text` | `True` の場合、セル幅を超えないように改行する。`False` の場合、改行されない |\n",
        "\n",
        "``` python\n",
        "from openpyxl.styles import Alignment\n",
        "cel.alignment = Alignment(horizontal=\"center\", vertical=\"center\")\n",
        "```\n",
        "\n",
        "`cel.border` 属性に `openpyxl.styles.Border` オブジェクトを指定することでセルの枠線を設定できる。\n",
        "\n",
        "``` python\n",
        "openpyxl.styles.Border(left=None, right=None, top=None, bottom=None, diagonal=None, diagonal_direction=None, vertical=None, horizontal=None, diagonalUp=False, diagonalDown=False, outline=True, start=None, end=None)\n",
        "```\n",
        "\n",
        "| 引数 | 意味 |\n",
        "|:---|:---|\n",
        "| `left` | 左の枠線 |\n",
        "| `right` | 右の枠線 |\n",
        "| `top` | 上の枠線 |\n",
        "| `bottom` | 下の枠線 |\n",
        "\n",
        "各引数に指定する枠線は、`openpyxl.styles.Side` オブジェクトを指定する。\n",
        "\n",
        "``` python\n",
        "openpyxl.styles.borders.Side(style=None, color=None, border_style=None)\n",
        "```\n",
        "\n",
        "| 引数 | 意味 |\n",
        "|:---|:---|\n",
        "| `style` または `border_style` | 枠線の形式を指定する。次の値を指定できる<br />・`'none'`: 枠線なし（デフォルト）<br />・`'dotted'`: 点線<br />・`'dashed'`: 破線<br />・`'dashDot'`: 一点鎖線<br />・`'dashDotDot'`: 二点鎖線<br />・`'hair'`: 極細線<br />・`'thin'`: 細線<br />・`'medium'`: 中細線<br />・`'mediumDashed'`: 中細破線<br />・`'mediumDashDot'`: 中一点鎖線<br />・`'mediumDashDotDot'`: 中二点鎖線<br />・`'slantDashDot'`: 一点鎖斜線<br />・`'thick'`: 太線<br />・`'double'`: 二重線 |\n",
        "| `color` | 枠線の色をカラーコード（`rrggbb` 形式）で指定する |\n",
        "\n",
        "``` python\n",
        "from openpyxl.styles import Side, Border\n",
        "side_none = Side(\"none\")\n",
        "side_thick = Side(\"thick\", \"FF0000\")\n",
        "cel.border = Border(left=side_thick, right=side_none, top=side_thick, bottom=side_thick)\n",
        "```\n",
        "\n",
        "以下のコードは、CSV 形式のファイルからデータを読み込み、Excel 形式のファイルに変換している。スクリプトを実行すると、Colab のローカルファイルに `test.xlsx` ファイルが作成され、自動的にダウンロードされる。"
      ],
      "metadata": {
        "id": "5c0kfwlOsc4E"
      }
    },
    {
      "cell_type": "code",
      "source": [
        "import csv\n",
        "from openpyxl import Workbook\n",
        "from openpyxl.styles import Font\n",
        "\n",
        "# ワークブックの新規作成\n",
        "wb = Workbook()\n",
        "ws = wb.active\n",
        "row_base = 1\n",
        "column_base = 1\n",
        "\n",
        "# 表示設定\n",
        "ws.freeze_panes = \"A2\"\n",
        "bold_font = Font(bold=True)\n",
        "\n",
        "# CSV からデータを入力\n",
        "with open(\"sample_data/california_housing_test.csv\", \"r\", encoding=\"utf-8\", newline=\"\") as f:\n",
        "    reader = csv.reader(f)\n",
        "    for i, row_data in enumerate(reader):\n",
        "        for j, val in enumerate(row_data):\n",
        "            if i == 0:\n",
        "                cel = ws.cell(row_base + i, column_base + j)\n",
        "                cel.value = val\n",
        "                cel.font = bold_font\n",
        "                ws.column_dimensions[cel.column_letter].width = 20\n",
        "            else:\n",
        "                ws.cell(row_base + i, column_base + j).value = float(val)  # 数値化\n",
        "\n",
        "wb.save(\"test.xlsx\")\n",
        "\n",
        "from google.colab import files\n",
        "files.download(\"/content/test.xlsx\")"
      ],
      "metadata": {
        "id": "E8id68WG6RzF"
      },
      "execution_count": null,
      "outputs": []
    },
    {
      "cell_type": "markdown",
      "source": [
        "ブックとシートの保護\n",
        "--------------------"
      ],
      "metadata": {
        "id": "8UfU4dip3k28"
      }
    },
    {
      "cell_type": "markdown",
      "source": [
        "`openpyxl.Workbook` オブジェクトの作成時に、自動的に `DocumentSecurity` オブジェクトも作成されて、`openpyxl.Workbook` オブジェクトの `security` 属性でアクセスされる。そこで、以下のように `workbookPassword` 属性にパスワードを設定し、`lockStructure` 属性に `True` を設定すると、ワークブックが保護される（シートの挿入・削除・名前変更・並べ替え・複製ができなくなる）。\n",
        "\n",
        "``` python\n",
        "wb.security.workbookPassword = 'aaa'\n",
        "wb.security.lockStructure = True\n",
        "```\n",
        "\n",
        "`Worksheet` オブジェクトの作成時に、自動的に `SheetProtection` のインスタンスも作成されて、`Worksheet` オブジェクトの `protection` 属性でアクセスされる。そこで、以下のように `sheet` 属性に `True` を設定し、`enable()` メソッドを呼び出すと、ワークシートが保護される。また、`disable()` メソッドを呼び出すと、保護が解除される。\n",
        "\n",
        "``` python\n",
        "ws.protection.sheet = True\n",
        "ws.protection.enable()\n",
        "ws.protection.disable()\n",
        "```\n",
        "\n",
        "ワークシート保護の解除にパスワードを要求する場合、以下のように `password` 属性にパスワードを設定する。\n",
        "\n",
        "``` python\n",
        "ws.protection.password = 'aaa'\n",
        "```\n",
        "\n",
        "ワークシートが保護されている場合に、`Cell` オブジェクトの `protection` 属性に `openpyxl.styles.Protection` オブジェクトを指定することで個別にセルの保護を無効化できる。\n",
        "\n",
        "``` python\n",
        "from openpyxl.styles import Protection\n",
        "cell.protection = Protection(locked=False)\n",
        "```\n",
        "\n",
        "以下のコードは、`A1` のセルだけ編集可能で、他のセルは編集不可なシートを作成する:\n",
        "\n",
        "``` python\n",
        "from openpyxl import Workbook\n",
        "from openpyxl.styles import Protection\n",
        "\n",
        "wb = Workbook()\n",
        "ws = wb.active\n",
        "\n",
        "ws.cell(1, 1).value = 300\n",
        "ws.cell(1, 1).protection = Protection(locked=False)  # ロックを解除\n",
        "ws.cell(2, 1).value = 500\n",
        "\n",
        "ws.protection.password = \"aaa\"\n",
        "ws.protection.enable()\n",
        "\n",
        "wb.save(\"test.xlsx\")\n",
        "```"
      ],
      "metadata": {
        "id": "5M1HyVr53mEb"
      }
    },
    {
      "cell_type": "markdown",
      "source": [
        "便利な関数\n",
        "----------"
      ],
      "metadata": {
        "id": "9LLNONOw0dE3"
      }
    },
    {
      "cell_type": "markdown",
      "source": [
        "`column_index_from_string(str_col)` 関数は、Excel の列指定文字列を列番号に変換する。"
      ],
      "metadata": {
        "id": "t-Fa3kLQ0ecb"
      }
    },
    {
      "cell_type": "code",
      "source": [
        "from openpyxl.utils import column_index_from_string\n",
        "column_index_from_string('A')"
      ],
      "metadata": {
        "colab": {
          "base_uri": "https://localhost:8080/"
        },
        "id": "F7nsk5SQ4FU9",
        "outputId": "72e0f111-ee10-444b-dc83-1de61511be51"
      },
      "execution_count": null,
      "outputs": [
        {
          "output_type": "execute_result",
          "data": {
            "text/plain": [
              "1"
            ]
          },
          "metadata": {},
          "execution_count": 1
        }
      ]
    },
    {
      "cell_type": "markdown",
      "source": [
        "`get_column_letter(idx)` 関数は、列番号を Excel の列指定文字列に変換する。"
      ],
      "metadata": {
        "id": "D8g7vCDA4VVt"
      }
    },
    {
      "cell_type": "code",
      "source": [
        "from openpyxl.utils import get_column_letter\n",
        "get_column_letter(3)"
      ],
      "metadata": {
        "colab": {
          "base_uri": "https://localhost:8080/",
          "height": 35
        },
        "id": "Nl3eA5xd4WaR",
        "outputId": "dab093a2-8778-483d-a75f-2cb9a3a3328a"
      },
      "execution_count": null,
      "outputs": [
        {
          "output_type": "execute_result",
          "data": {
            "text/plain": [
              "'C'"
            ],
            "application/vnd.google.colaboratory.intrinsic+json": {
              "type": "string"
            }
          },
          "metadata": {},
          "execution_count": 2
        }
      ]
    },
    {
      "cell_type": "markdown",
      "source": [
        "チャートの挿入\n",
        "--------------"
      ],
      "metadata": {
        "id": "sMPpnubIOipA"
      }
    },
    {
      "cell_type": "markdown",
      "source": [
        "Excel のチャート（グラフ）と `openpyxl` のクラスの対応は、次のとおり。\n",
        "\n",
        "| Excel | openpyxl |\n",
        "|:---|:---|\n",
        "| 棒グラフ | `openpyxl.chart.BarChart` |\n",
        "| 棒(3D)グラフ | `openpyxl.chart.BarChart3D` |\n",
        "| 折れ線グラフ | `openpyxl.chart.LineChart` |\n",
        "| 折れ線(3D)グラフ | `openpyxl.chart.LineChart3D` |\n",
        "| 円グラフ | `openpyxl.chart.PieChart` |\n",
        "| ドーナツグラフ | `openpyxl.chart.DoughnutChart` |\n",
        "| 面グラフ | `openpyxl.chart.AreaChart` |\n",
        "| 面(3D)グラフ | `openpyxl.chart.AreaChart3D` |\n",
        "| 散布図 | `openpyxl.chart.ScatterChart` |\n",
        "| バブルチャート | `openpyxl.chart.BubbleChart` |\n",
        "| 株価チャート | `openpyxl.chart.StockChart` |\n",
        "| 等高線グラフ | `openpyxl.chart.SurfaceChart` |\n",
        "| 等高線(3D)グラフ | `openpyxl.chart.SurfaceChart3D` |\n",
        "| レーダーチャート | `openpyxl.chart.RadarChart` |\n",
        "\n",
        "以下では、チャートオブジェクトを `chart` で表す。たとえば、折れ線グラフのオブジェクトは、次のように作成する。\n",
        "\n",
        "``` python\n",
        "from openpyxl.chart import LineChart\n",
        "chart = LineChart()\n",
        "```\n",
        "\n",
        "チャートを作図するために参照するデータを**系列**または**シリーズ**（series）と呼ぶ。円グラフでは系列は 1 つだが、その他のチャートでは系列は複数あってもよい。\n",
        "\n",
        "また、横軸の要素など、指標とするために参照するデータを**項目**または**カテゴリー**（categories）と呼ぶ。項目は、多くのグラフでは横軸の要素に使われるが、円グラフとドーナツグラフでは中心角の比率に、レーダーチャートでは項目に使われる。\n",
        "\n",
        "系列および項目として参照するデータの範囲を指定するには、`openpyxl.chart.Reference` オブジェクトを使う。\n",
        "\n",
        "``` python\n",
        "openpyxl.chart.Reference(worksheet=None, min_col=None, min_row=None, max_col=None, max_row=None, range_string=None)\n",
        "```\n",
        "\n",
        "| 引数 | 意味 |\n",
        "|:---|:---|\n",
        "| `worksheet` | ワークシートを指定する |\n",
        "| `min_col` | 参照範囲の最小の列番号（1 から始める） |\n",
        "| `min_row` | 参照範囲の最小の行番号（1 から始める） |\n",
        "| `max_col` | 参照範囲の最大の列番号 |\n",
        "| `max_row` | 参照範囲の最大の行番号 |\n",
        "| `range_string` | 参照範囲を、ワークシート名から始まる Excel の範囲指定文字列で指定する（例 `'Sheet!A2:A13'`）。この `range_string` に値を指定する場合、他の引数の値は使われない |\n",
        "\n",
        "チャートオブジェクトに系列および項目を登録するには、以下のメソッドを呼び出す。\n",
        "\n",
        "| メソッド | 機能 | 戻り値 |\n",
        "|:---|:---|:---|\n",
        "| `chart.set_categories(labels)` | 項目を登録する。`labels` に `openpyxl.chart.Reference` インスタンスを指定する | `None` |\n",
        "| `chart.add_data(data, from_rows=False,`<br />` titles_from_data=False)` | 系列を登録する。`data` に `openpyxl.chart.Reference` インスタンスを指定する。`from_rows` が `True` なら行を系列とするが、<br />`False`（デフォルト）なら列を系列とする。`titles_from_data` が `True` の場合、各系列の最初の要素をタイトルとして扱う | `None` |\n",
        "\n",
        "``` python\n",
        "from openpyxl.chart import Reference\n",
        "data = Reference(ws, min_col=2, min_row=1, max_row=5)\n",
        "categories = Reference(ws, min_col=1, min_row=2, max_row=5)\n",
        "chart.add_data(data, titles_from_data=True)\n",
        "chart.set_categories(categories)\n",
        "```\n",
        "\n",
        "すべてのチャートオブジェクトに共通する属性は次のとおり。\n",
        "\n",
        "| 属性 | 意味 |\n",
        "|:---|:---|\n",
        "| `chart.width` | グラフの幅。デフォルトは 15 cm |\n",
        "| `chart.height` | グラフの高さ。デフォルトは 7.5 cm |\n",
        "| `chart.title` | グラフのタイトル |\n",
        "| `chart.legend` | グラフの凡例。自動的に作成される `Legend` インスタンスを参照し、次の属性にアクセスできるが、`legend` に `None` を指定すると凡例を表示しない<br />・`position`: `'b'`, `'l'`, `'tr'`, `'t'`, `'r'` を指定すると、それぞれグラフの下、左、右上、左上、右に凡例を配置する（デフォルトは `'r'`） |\n",
        "| `chart.style` | グラフの配色を設定する。48 種類の組み込みスタイルの中から整数で選ぶ |\n",
        "| `chart.series` | `chart.add_data()` メソッドの呼び出し時に作成される `Series` インスタンスのコレクションを参照する |\n",
        "\n",
        "`Series` インスタンスは各系列のスタイルを管理するオブジェクトであり、次のように参照される:\n",
        "\n",
        "``` python\n",
        "s1 = chart.series[0]\n",
        "```\n",
        "\n",
        "円グラフおよびドーナツグラフ以外のグラフでは、軸に関する属性を持つ。\n",
        "\n",
        "| 属性 | 意味 |\n",
        "|:---|:---|\n",
        "| `chart.x_axis` | グラフの横軸。`_BaseAxis` から継承するクラスのインスタンスを参照する |\n",
        "| `chart.y_axis` | グラフの縦軸。`_BaseAxis` から継承するクラスのインスタンスを参照する |\n",
        "| `chart.z_axis` | グラフの z 軸。等高線グラフと等高線(3D)グラフだけがこの属性を持つ。`_BaseAxis` から継承するクラスのインスタンスを参照する |\n",
        "\n",
        "`_BaseAxis` クラスには、軸のタイトルを保持する `title` 属性が定義されている。\n",
        "\n",
        "一通りの設定を終えたら、`Worksheet` オブジェクトの `add_chart(chart, anchor=None)` メソッドで、チャートを挿入する。\n",
        "\n",
        "``` python\n",
        "ws.add_chart(chart, \"A15\")\n",
        "```\n",
        "\n",
        "グラフの種類ごとに設定可能な属性については、[公式ドキュメント](https://openpyxl.readthedocs.io/en/stable/charts/introduction.html)を参照。\n",
        "\n",
        "以下のコードでは、東京都の月ごとの平均気温のデータを参照して折れ線グラフを挿入する。スクリプトを実行すると、Colab のローカルファイルに `test_chart.xlsx` ファイルが作成され、自動的にダウンロードされる。"
      ],
      "metadata": {
        "id": "6UJ5ngr2OltN"
      }
    },
    {
      "cell_type": "code",
      "source": [
        "from openpyxl import Workbook\n",
        "from openpyxl.chart import LineChart, Reference\n",
        "\n",
        "# 東京の月別平均気温\n",
        "rows = [\n",
        "    [\"月\", \"2021年\", \"2022年\"],\n",
        "    [\"1月\", 5.4, 4.9],\n",
        "    [\"2月\", 8.5, 5.2],\n",
        "    [\"3月\", 12.8, 10.9],\n",
        "    [\"4月\", 15.1, 15.3],\n",
        "    [\"5月\", 19.6, 18.8],\n",
        "    [\"6月\", 22.7, 23],\n",
        "    [\"7月\", 25.9, 27.4],\n",
        "    [\"8月\", 27.4, 27.5],\n",
        "    [\"9月\", 22.3, 24.4],\n",
        "    [\"10月\", 18.2, 17.2],\n",
        "    [\"11月\", 13.7, 14.5],\n",
        "    [\"12月\", 7.9, 7.5],\n",
        "]\n",
        "\n",
        "wb = Workbook()\n",
        "ws = wb.active\n",
        "\n",
        "for row in rows:\n",
        "    ws.append(row)\n",
        "\n",
        "chart = LineChart()\n",
        "data = Reference(ws, min_col=2, min_row=1, max_col=3, max_row=13)\n",
        "categories = Reference(range_string=\"Sheet!A2:A13\")\n",
        "chart.add_data(data, titles_from_data=True)\n",
        "chart.set_categories(categories)\n",
        "\n",
        "chart.title = \"東京の月間平均気温\"\n",
        "chart.y_axis.title = \"気温\"\n",
        "chart.x_axis.title = \"月\"\n",
        "\n",
        "ws.add_chart(chart, \"A15\")\n",
        "\n",
        "wb.save(\"test_chart.xlsx\")\n",
        "\n",
        "from google.colab import files\n",
        "files.download(\"/content/test_chart.xlsx\")"
      ],
      "metadata": {
        "colab": {
          "base_uri": "https://localhost:8080/",
          "height": 17
        },
        "id": "JwEeA44VuEQb",
        "outputId": "49ffeb6b-8d9b-41ae-c5d3-71fdc5def276"
      },
      "execution_count": null,
      "outputs": [
        {
          "output_type": "display_data",
          "data": {
            "text/plain": [
              "<IPython.core.display.Javascript object>"
            ],
            "application/javascript": [
              "\n",
              "    async function download(id, filename, size) {\n",
              "      if (!google.colab.kernel.accessAllowed) {\n",
              "        return;\n",
              "      }\n",
              "      const div = document.createElement('div');\n",
              "      const label = document.createElement('label');\n",
              "      label.textContent = `Downloading \"${filename}\": `;\n",
              "      div.appendChild(label);\n",
              "      const progress = document.createElement('progress');\n",
              "      progress.max = size;\n",
              "      div.appendChild(progress);\n",
              "      document.body.appendChild(div);\n",
              "\n",
              "      const buffers = [];\n",
              "      let downloaded = 0;\n",
              "\n",
              "      const channel = await google.colab.kernel.comms.open(id);\n",
              "      // Send a message to notify the kernel that we're ready.\n",
              "      channel.send({})\n",
              "\n",
              "      for await (const message of channel.messages) {\n",
              "        // Send a message to notify the kernel that we're ready.\n",
              "        channel.send({})\n",
              "        if (message.buffers) {\n",
              "          for (const buffer of message.buffers) {\n",
              "            buffers.push(buffer);\n",
              "            downloaded += buffer.byteLength;\n",
              "            progress.value = downloaded;\n",
              "          }\n",
              "        }\n",
              "      }\n",
              "      const blob = new Blob(buffers, {type: 'application/binary'});\n",
              "      const a = document.createElement('a');\n",
              "      a.href = window.URL.createObjectURL(blob);\n",
              "      a.download = filename;\n",
              "      div.appendChild(a);\n",
              "      a.click();\n",
              "      div.remove();\n",
              "    }\n",
              "  "
            ]
          },
          "metadata": {}
        },
        {
          "output_type": "display_data",
          "data": {
            "text/plain": [
              "<IPython.core.display.Javascript object>"
            ],
            "application/javascript": [
              "download(\"download_6fb93839-ed4a-48f0-92a8-6beb9c25c416\", \"test_chart.xlsx\", 6819)"
            ]
          },
          "metadata": {}
        }
      ]
    }
  ]
}