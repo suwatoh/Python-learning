{
  "nbformat": 4,
  "nbformat_minor": 0,
  "metadata": {
    "colab": {
      "provenance": [],
      "authorship_tag": "ABX9TyN2B8kmyRVBNWVN/WtxARTL",
      "include_colab_link": true
    },
    "kernelspec": {
      "name": "python3",
      "display_name": "Python 3"
    },
    "language_info": {
      "name": "python"
    }
  },
  "cells": [
    {
      "cell_type": "markdown",
      "metadata": {
        "id": "view-in-github",
        "colab_type": "text"
      },
      "source": [
        "<a href=\"https://colab.research.google.com/github/suwatoh/Python-learning/blob/main/107_%E5%91%BC%E3%81%B3%E5%87%BA%E3%81%97%E5%8F%AF%E8%83%BD%E5%9E%8B%E3%81%A8%E3%83%87%E3%82%B3%E3%83%AC%E3%83%BC%E3%82%BF%E3%83%BC.ipynb\" target=\"_parent\"><img src=\"https://colab.research.google.com/assets/colab-badge.svg\" alt=\"Open In Colab\"/></a>"
      ]
    },
    {
      "cell_type": "markdown",
      "source": [
        "呼び出し可能型とデコレーター\n",
        "============================"
      ],
      "metadata": {
        "id": "Xs9lf3qj2fFz"
      }
    },
    {
      "cell_type": "markdown",
      "source": [
        "呼び出し可能型\n",
        "--------------"
      ],
      "metadata": {
        "id": "ZAosr7TrbHL-"
      }
    },
    {
      "cell_type": "markdown",
      "source": [
        "`__call__()` メソッドが定義されている型を、**呼び出し可能型**と呼ぶ。\n",
        "\n",
        "組み込み関数 `callable(object)` は、`object` 引数が呼び出し可能オブジェクトであれば `True` を、そうでなければ `False` を返す。\n",
        "\n",
        "呼び出し可能オブジェクトは、`()` を付けて呼び出すことができる。`x(arg1, ...)` のようなオブジェクトの呼び出しは、実行時に、`type(x).__call__(x, arg1, ...)` のように暗黙的に変換される。\n",
        "\n",
        "以下は、すべて呼び出し可能なオブジェクトである。\n",
        "\n",
        "  * 組み込み関数\n",
        "  * 組み込みオブジェクトのメソッド\n",
        "  * ユーザ定義関数\n",
        "  * クラスオブジェクト\n",
        "  * クラスインスタンスのメソッド\n",
        "\n",
        "これらは、次のような属性を持つ。\n",
        "\n",
        "| 特殊属性 | 意味 |\n",
        "|:--|:----|\n",
        "| `__name__` | 関数やメソッドの名前 |\n",
        "| `__dict__` | 属性辞書 |\n",
        "| `__doc__` | ドキュメンテーション文字列。なければ `None` |\n",
        "\n",
        "ユーザ定義関数オブジェクトは、関数定義の実行時に作成される。関数定義は実行可能な文であり、関数定義を実行すると、現在のローカルな名前空間内で関数名を関数オブジェクトに束縛する（関数本体を実行しない。関数本体は関数が呼び出された時にのみ実行される）。\n",
        "\n",
        "また、ユーザ定義関数オブジェクトは、ラムダ式の評価により返される。ラムダ式で得られる関数オブジェクトは、関数名の束縛を伴わないことから、**無名関数**（anonymous function）と呼ばれる。ラムダ式の構文は次のとおり。\n",
        "\n",
        "``` python\n",
        "lambda [引数リスト]: 式\n",
        "```\n",
        "\n",
        "引数リストは省略できる。無名関数は関数本体の `式` の評価結果を返す。無名関数を変数に代入することもできるが、これは PEP 8 で非推奨とされる。"
      ],
      "metadata": {
        "id": "EivXO1DcE2BT"
      }
    },
    {
      "cell_type": "code",
      "source": [
        "f = lambda x, y: x + y  # PEP 8 非推奨\n",
        "assert f(2, 3) == type(f).__call__(f, 2, 3)"
      ],
      "metadata": {
        "id": "Ifxzo2GaYRQ6"
      },
      "execution_count": null,
      "outputs": []
    },
    {
      "cell_type": "markdown",
      "source": [
        "任意のクラスに `__call__()` メソッドを定義すれば、そのクラスから生成されるインスタンスは呼び出し可能となる。\n"
      ],
      "metadata": {
        "id": "cNHGFdHhWNfc"
      }
    },
    {
      "cell_type": "code",
      "source": [
        "class Chatter:\n",
        "    def __call__(self):\n",
        "        print(\"How are you doing?\")\n",
        "\n",
        "c = Chatter()\n",
        "c()"
      ],
      "metadata": {
        "colab": {
          "base_uri": "https://localhost:8080/"
        },
        "id": "6dUZ18WzE3bJ",
        "outputId": "16ffef27-f42f-4de5-fba7-df30c2ed3d4d"
      },
      "execution_count": null,
      "outputs": [
        {
          "output_type": "stream",
          "name": "stdout",
          "text": [
            "How are you doing?\n"
          ]
        }
      ]
    },
    {
      "cell_type": "markdown",
      "source": [
        "デコレーター\n",
        "------------"
      ],
      "metadata": {
        "id": "R6IPonbkbLKv"
      }
    },
    {
      "cell_type": "markdown",
      "source": [
        "Python において、関数はオブジェクトであるから、変数に代入したり、他の関数の引数として渡すことができる。他の関数の引数として渡される関数を**コールバック関数**（callback function）と呼び、反対に、関数を引数に取る関数を**高階関数**（higher-order function）と呼ぶ。\n",
        "\n",
        "Python では、ネストして定義した関数を戻り値として返すこともできる。関数を返す関数を**ファクトリー関数**と呼ぶ。とくに、関数を返す高階関数を、Python では**関数デコレーター**または簡単に**デコレーター**（decorator）と呼ぶ。ある関数にデコレーターを適用することを「デコレートする」と表現する。\n",
        "\n",
        "デコレーターを使うことにより、既存の関数 `my_func()` そのものの中身を変えず、関数の前後に処理を追加して実行するということができる："
      ],
      "metadata": {
        "id": "X1Fre8Z9M6O2"
      }
    },
    {
      "cell_type": "code",
      "source": [
        "def decorator(func):\n",
        "    def wrap_function():\n",
        "        \"\"\"wrapper function\"\"\"\n",
        "        print(\"some kind of pre-processing\")\n",
        "        ret = func()\n",
        "        print(\"some post-processing\")\n",
        "        return ret\n",
        "\n",
        "    return wrap_function\n",
        "\n",
        "def my_func():\n",
        "    \"\"\"original function\"\"\"\n",
        "    print(\"original function\")\n",
        "\n",
        "my_func = decorator(my_func)\n",
        "my_func()"
      ],
      "metadata": {
        "id": "rSrimRRfM8fE",
        "colab": {
          "base_uri": "https://localhost:8080/"
        },
        "outputId": "2e682808-02df-48b7-b5d0-e636c6d4d361"
      },
      "execution_count": null,
      "outputs": [
        {
          "output_type": "stream",
          "name": "stdout",
          "text": [
            "some kind of pre-processing\n",
            "original function\n",
            "some post-processing\n"
          ]
        }
      ]
    },
    {
      "cell_type": "markdown",
      "source": [
        "この `decorator()` 関数はデコレーターであり、内部関数として `wrap_function()` を定義し返している。`decorator()` の引数 `func` は関数であり、これを `wrap_function()` の中で呼び出すことで、`wrap_function()` は `func()` 関数の実行前後に処理を追加するものとなっている。`wrap_function()` のような関数は **wrapper 関数**と呼ばれ、`func`（引数として渡される関数）は **wrapped 関数**と呼ばれる。\n",
        "\n",
        "最後の 2 行で変数 `my_func` に `decorator()` 関数の戻り値（内部関数である `wrap_function()`）を代入し、 `my_func()` を呼び出している。この呼び出しは、実際には `wrap_function()` を実行することになる。\n",
        "\n",
        "ただし、この書き方では、もとの関数 `my_func()` の関数定義と、変数 `my_func` への関数オブジェクトの代入が離れていて、少々具合がよくない。というのは、その間に `my_func()` の呼び出しを書いてしまうと、もとの関数 `my_func()` が実行できてしまうからである。そこで、Python では上記のコードと等価な別の書き方をサポートしている："
      ],
      "metadata": {
        "id": "jGszH-bd2hdu"
      }
    },
    {
      "cell_type": "code",
      "source": [
        "def decorator(func):\n",
        "    def wrap_function():\n",
        "        \"\"\"wrapper function\"\"\"\n",
        "        print(\"some kind of pre-processing\")\n",
        "        ret = func()\n",
        "        print(\"some post-processing\")\n",
        "        return ret\n",
        "\n",
        "    return wrap_function\n",
        "\n",
        "@decorator\n",
        "def my_func():\n",
        "    \"\"\"original function\"\"\"\n",
        "    print(\"original function\")\n",
        "\n",
        "my_func()"
      ],
      "metadata": {
        "id": "Wwz6BOe0FKqV",
        "colab": {
          "base_uri": "https://localhost:8080/"
        },
        "outputId": "a09787de-16d4-47b6-910e-93c2122f4f3a"
      },
      "execution_count": null,
      "outputs": [
        {
          "output_type": "stream",
          "name": "stdout",
          "text": [
            "some kind of pre-processing\n",
            "original function\n",
            "some post-processing\n"
          ]
        }
      ]
    },
    {
      "cell_type": "markdown",
      "source": [
        "このように、関数定義の直前に `@decorator` と書くと、Python のインタープリターは、暗黙のうちに関数定義の直後に\n",
        "\n",
        "``` python\n",
        "my_func = decorator(my_func)\n",
        "```\n",
        "\n",
        "を自動で挿入してくれる。これにより、もとの関数 `my_func()` そのものを実行できる余地がなくなる。\n",
        "\n",
        "代入の効果を確認するために、特殊属性 `__name__` と `__doc__` を調べてみると"
      ],
      "metadata": {
        "id": "Nvge-x72IY1m"
      }
    },
    {
      "cell_type": "code",
      "source": [
        "assert my_func.__name__ == \"wrap_function\"\n",
        "assert my_func.__doc__ == \"wrapper function\""
      ],
      "metadata": {
        "id": "jzZlc8FULZKZ"
      },
      "execution_count": null,
      "outputs": []
    },
    {
      "cell_type": "markdown",
      "source": [
        "となっている。いずれも、`decorator()` 関数が返した関数 `wrap_function()` のものになっている。代入したのであるから当たり前の結果なのであるが、実はこの結果は行き過ぎでもある。これは後の課題とする。\n",
        "\n",
        "複数のデコレーターを適用することもできる：\n",
        "\n",
        "``` python\n",
        "@decorator1\n",
        "@decorator2\n",
        "def func():\n",
        "    pass\n",
        "```\n",
        "\n",
        "このコードは次の代入文と等価である：\n",
        "\n",
        "``` python\n",
        "func = decorator1(decorator2(func))\n",
        "```\n",
        "\n",
        "このように、デコレーターは内側の `decorator2` から外側に向かって順に適用される。"
      ],
      "metadata": {
        "id": "_IXk36_ReM7V"
      }
    },
    {
      "cell_type": "markdown",
      "source": [
        "wrapper 関数の汎用化\n",
        "--------------------"
      ],
      "metadata": {
        "id": "X_oNoTPJbPuR"
      }
    },
    {
      "cell_type": "markdown",
      "source": [
        "デコレーターを定義するとき、内部の wrapper 関数を、ある 1 つの wrapped 関数に依存した書き方（つまり、その関数の引数や戻り値を決め打ちした書き方）をする場合、せっかく定義したデコレーターが他の関数に適用できなくなる。あるいは、将来 wrapped 関数を変更すると、デコレーターの変更も必要となる。そこで、wrapper 関数は、できるだけ wrapped 関数の引数や戻り値を決め打ちして実装することがないようにすべきである。\n",
        "\n",
        "一方で、wrapper 関数の引数は、wrapped 関数の引数を受け付けるものでなければならない。wrapper 関数の外では wrapped 関数の呼び出しを wrapper 関数の呼び出しに置き換え、しかも、wrapper 関数の中では wrapped 関数を呼び出すからである。前出の wrapper 関数 `wrap_function()` は、wrapped 関数が引数を取らないと決め打ちしていたので、引数を取る wrapped 関数に対しては、TypeError 例外が発生してしまう。"
      ],
      "metadata": {
        "id": "ZjCFa1jAYIi7"
      }
    },
    {
      "cell_type": "code",
      "source": [
        "@decorator\n",
        "def my_func_with_arg(arg):\n",
        "    \"\"\"original function with argument\"\"\"\n",
        "    print(f\"original function with argument {arg}\")\n",
        "\n",
        "try:\n",
        "    my_func_with_arg(1)\n",
        "except TypeError as err:\n",
        "    print(f\"{type(err).__name__}: {err}\")"
      ],
      "metadata": {
        "colab": {
          "base_uri": "https://localhost:8080/"
        },
        "id": "FkB-UPc6YJ3J",
        "outputId": "9ba6713a-c51d-4458-c8ca-3a0e9ed58322"
      },
      "execution_count": null,
      "outputs": [
        {
          "output_type": "stream",
          "name": "stdout",
          "text": [
            "TypeError: decorator.<locals>.wrap_function() takes 0 positional arguments but 1 was given\n"
          ]
        }
      ]
    },
    {
      "cell_type": "markdown",
      "source": [
        "wrapped 関数の引数がどのようなものであっても、それを受け付けることができる wrapper 関数を定義するには、可変長引数を使うとよい。wrapper 関数の引数を `*args, **kwargs` と定義し、中で呼び出す wrapped 関数には アンパック `*args, **kwargs` を渡すようにすれば、すべての wrapped 関数の引数に対応できる："
      ],
      "metadata": {
        "id": "o4nI-4Ml6YtP"
      }
    },
    {
      "cell_type": "code",
      "source": [
        "def decorator(func):\n",
        "    def wrap_function(*args, **kwargs):\n",
        "        \"\"\"wrapper function\"\"\"\n",
        "        print(\"some kind of pre-processing\")\n",
        "        ret = func(*args, **kwargs)\n",
        "        print(\"some post-processing\")\n",
        "        return ret\n",
        "\n",
        "    return wrap_function\n",
        "\n",
        "@decorator\n",
        "def my_func():\n",
        "    \"\"\"original function\"\"\"\n",
        "    print(\"original function\")\n",
        "\n",
        "@decorator\n",
        "def my_func_with_arg(arg):\n",
        "    \"\"\"original function with argument\"\"\"\n",
        "    print(f\"original function with argument {arg}\")\n",
        "\n",
        "my_func()\n",
        "my_func_with_arg(1)"
      ],
      "metadata": {
        "id": "-qK3kn6qYcmR",
        "colab": {
          "base_uri": "https://localhost:8080/"
        },
        "outputId": "888f2a57-4195-4c7e-db8c-ac04484ea25d"
      },
      "execution_count": null,
      "outputs": [
        {
          "output_type": "stream",
          "name": "stdout",
          "text": [
            "some kind of pre-processing\n",
            "original function\n",
            "some post-processing\n",
            "some kind of pre-processing\n",
            "original function with argument 1\n",
            "some post-processing\n"
          ]
        }
      ]
    },
    {
      "cell_type": "markdown",
      "source": [
        "クロージャー\n",
        "------------"
      ],
      "metadata": {
        "id": "JS7pdoSuHbZa"
      }
    },
    {
      "cell_type": "markdown",
      "source": [
        "デコレーターを定義するとき、スコープが気になるかもしれない。 wrapper 関数を基点として考えると、デコレーターはエンクロージングスコープである。つまり、wrapper 関数の仮引数でもなく、wrapper 関数自身のローカル変数でもない変数（こういう変数は**自由変数**と呼ばれる）は、デコレーターの名前空間が探索される。\n",
        "\n",
        "ここまではよいが、wrapper 関数が呼び出されるのは、デコレーターの外、つまり、デコレーターから wrapper 関数が返されてデコレーターの処理が終了した後である点が問題となる。というのは、関数の内部で変数が束縛されたオブジェクトの生存期間は、関数が処理されている間だけであるからである。呼び出された関数とその中で使用されるオブジェクトは、**スタック領域**と呼ばれるメモリ上の領域に格納され、関数の処理が終了するとスタック領域から取り除かれる。したがって、wrapper 関数が呼び出された時点では、デコレーターの変数が束縛されたオブジェクトは消えており、その変数の値を参照できないことになってしまう。\n",
        "\n",
        "Python は、この問題を解決するため、エンクロージングスコープだけ特別な扱いをしている。実は、エンクロージングスコープは内側の関数の状態として閉じ込められた形で存在している。ユーザー定義関数は、次の特殊属性に、自身の定義が実行された時の自由変数に関する情報を保持している。\n",
        "\n",
        "  * `function.__code__.co_freevars`: タプルで、自由変数の名前が格納される。\n",
        "  * `function.__closure__`: タプルで、各要素の `cell_contents` 属性に自由変数の値が格納される。\n",
        "\n",
        "閉じ込められた自由変数は以降、内側の関数からしか参照できないため名前空間を汚さない。この仕組みを**クロージャー**（closure）または**関数閉包**と呼ぶ。クロージャーによって、外側の関数の処理が終了した後に内側の関数を呼び出すことになっても、外側の関数のローカル変数を参照するということが可能になっているわけである。\n",
        "\n",
        "実際、次のコードは問題なく実行できる:"
      ],
      "metadata": {
        "id": "PeMUcFk7HcKi"
      }
    },
    {
      "cell_type": "code",
      "source": [
        "def outer():\n",
        "    x = 1\n",
        "\n",
        "    def inner():\n",
        "        print(x)\n",
        "\n",
        "    return inner\n",
        "\n",
        "foo = outer()\n",
        "foo()\n",
        "print(\"----\")\n",
        "for n, c in zip(foo.__code__.co_freevars, foo.__closure__):\n",
        "    print(\"{}: {}\".format(n, c.cell_contents))"
      ],
      "metadata": {
        "colab": {
          "base_uri": "https://localhost:8080/"
        },
        "id": "udZyFYsIHeUn",
        "outputId": "e4c7c2a9-d39e-4115-8f1a-ef748f072455"
      },
      "execution_count": null,
      "outputs": [
        {
          "output_type": "stream",
          "name": "stdout",
          "text": [
            "1\n",
            "----\n",
            "x: 1\n"
          ]
        }
      ]
    },
    {
      "cell_type": "markdown",
      "source": [
        "外側の関数の変数を上書きする場合は、nonlocal 宣言が必要であったが、外側の関数の名前空間は関数が実行されるたびに新しく生成されることに注意する。たとえば、次のコードでは、外側の関数の変数を内側の関数がインクリメントするが、外側の関数を実行するたびにその変数は初期化される:"
      ],
      "metadata": {
        "id": "78RjviybsZAf"
      }
    },
    {
      "cell_type": "code",
      "source": [
        "def counter_factory():\n",
        "    c = 0\n",
        "\n",
        "    def counter():\n",
        "        nonlocal c  # １つ外側の変数 c を参照する\n",
        "        c += 1\n",
        "        return c\n",
        "\n",
        "    return counter\n",
        "\n",
        "counter1 = counter_factory()\n",
        "print(\"counter1: {}\".format(counter1()))\n",
        "print(\"counter1: {}\".format(counter1()))\n",
        "print(\"counter1: {}\".format(counter1()))\n",
        "counter2 = counter_factory()\n",
        "print(\"counter2: {}\".format(counter2()))\n",
        "print(\"counter2: {}\".format(counter2()))\n",
        "print(\"counter2: {}\".format(counter2()))"
      ],
      "metadata": {
        "colab": {
          "base_uri": "https://localhost:8080/"
        },
        "id": "HaIXfDXfsZs6",
        "outputId": "17175ecf-56d3-4697-f043-1ad3be977cc0"
      },
      "execution_count": null,
      "outputs": [
        {
          "output_type": "stream",
          "name": "stdout",
          "text": [
            "counter1: 1\n",
            "counter1: 2\n",
            "counter1: 3\n",
            "counter2: 1\n",
            "counter2: 2\n",
            "counter2: 3\n"
          ]
        }
      ]
    },
    {
      "cell_type": "markdown",
      "source": [
        "引数を受け取るデコレーター\n",
        "--------------------------"
      ],
      "metadata": {
        "id": "hUNcnTRSbTtV"
      }
    },
    {
      "cell_type": "markdown",
      "source": [
        "クロージャーによって、デコレーターのローカル変数は wrapper 関数から参照できることがわかった。そうなると、デコレーターに引数を渡したくなる。\n",
        "\n",
        "まず、&commat; 構文で引数を渡せるのかというと、これは問題ない。&commat; 構文には、式であれば、なんでも書ける（セイウチ演算子を含む代入式も可）。\n",
        "\n",
        "``` python\n",
        "@<式>\n",
        "```\n",
        "\n",
        "&commat; 構文に、デコレーターを返す関数の呼び出しを書くと、&commat; 構文の中で引数を渡すことができる。デコレーターを返す関数（紛らわしいがこれもデコレーターと呼ばれる）は、内部関数としてデコレーターを定義し、その内部関数として wrapper 関数を定義する。"
      ],
      "metadata": {
        "id": "RbVAa1GGrKzF"
      }
    },
    {
      "cell_type": "code",
      "source": [
        "def decorator(option):\n",
        "    def inner_decorator(func):\n",
        "        def wrap_function(*args, **kwargs):\n",
        "            \"\"\"wrapper function\"\"\"\n",
        "            print(f\"some kind of pre-processing with {option=}\")  # option の値を利用できる\n",
        "            ret = func(*args, **kwargs)\n",
        "            print(f\"some post-processing with {option=}\")  # option の値を利用できる\n",
        "            return ret\n",
        "\n",
        "        return wrap_function\n",
        "\n",
        "    return inner_decorator\n",
        "\n",
        "@decorator(\"foo\")\n",
        "def my_func(arg):\n",
        "    \"\"\"original function\"\"\"\n",
        "    print(f\"original function: {arg=}\")\n",
        "\n",
        "my_func(1)\n",
        "assert my_func.__name__ == \"wrap_function\"\n",
        "assert my_func.__doc__ == \"wrapper function\""
      ],
      "metadata": {
        "id": "4MArLsNorMHJ",
        "colab": {
          "base_uri": "https://localhost:8080/"
        },
        "outputId": "88a74865-40e8-4867-ee70-86927f89ec70"
      },
      "execution_count": null,
      "outputs": [
        {
          "output_type": "stream",
          "name": "stdout",
          "text": [
            "some kind of pre-processing with option='foo'\n",
            "original function: arg=1\n",
            "some post-processing with option='foo'\n"
          ]
        }
      ]
    },
    {
      "cell_type": "markdown",
      "source": [
        "`decorator()` の仮引数 `option` は、 `wrap_function()` 関数にとっての自由変数であり、 `inner_decorator()` 関数にとっての自由変数でもある。ここで 2 段階のクロージャーによって、`option` は `wrap_function()` 関数の呼び出しにおいて参照可能である。\n",
        "\n",
        "`my_func(arg)` の呼び出しは、`decorator(option)(my_func)(arg)` の呼び出しと等価である。\n",
        "\n",
        "呼び出し可能型を使って次のように書くこともできる。"
      ],
      "metadata": {
        "id": "lT1LjikQvkVc"
      }
    },
    {
      "cell_type": "code",
      "source": [
        "class Decorator:\n",
        "    def __call__(self, option):\n",
        "        self.option = option\n",
        "        return self.inner_decorator\n",
        "\n",
        "    def inner_decorator(self, func):\n",
        "        def wrap_function(*args, **kwargs):\n",
        "            \"\"\"wrapper function\"\"\"\n",
        "            print(f\"some kind of pre-processing with {self.option=}\")  # self.option の値を利用できる\n",
        "            ret = func(*args, **kwargs)\n",
        "            print(f\"some post-processing with {self.option=}\")  # elf.option の値を利用できる\n",
        "            return ret\n",
        "        return wrap_function\n",
        "\n",
        "decorator = Decorator()\n",
        "\n",
        "@decorator(\"foo\")\n",
        "def my_func(arg):\n",
        "    \"\"\"original function\"\"\"\n",
        "    print(f\"original function: {arg=}\")\n",
        "\n",
        "my_func(1)\n",
        "assert my_func.__name__ == \"wrap_function\"\n",
        "assert my_func.__doc__ == \"wrapper function\""
      ],
      "metadata": {
        "id": "pIMW_HsLvol_",
        "colab": {
          "base_uri": "https://localhost:8080/"
        },
        "outputId": "335674b4-f2e3-4ba9-86e6-f75e9858c0a8"
      },
      "execution_count": null,
      "outputs": [
        {
          "output_type": "stream",
          "name": "stdout",
          "text": [
            "some kind of pre-processing with self.option='foo'\n",
            "original function: arg=1\n",
            "some post-processing with self.option='foo'\n"
          ]
        }
      ]
    },
    {
      "cell_type": "markdown",
      "source": [
        "functools.wraps\n",
        "---------------"
      ],
      "metadata": {
        "id": "Rz6RvMcLbXOi"
      }
    },
    {
      "cell_type": "markdown",
      "source": [
        "デコレーターを適用すると、どのオリジナル関数も、`__name__` 属性と `__doc__` 属性が wrapper 関数のものに置き換えられてしまう。`help()` 関数やエディタの入力支援はこれらの属性を表示するので、混乱の原因となる。置き換えられないようにするには、標準ライブラリの `functools` モジュールが提供する `functools.wraps()` 関数を wrapper 関数に適用すればよい。`functools.wraps()` 関数は wrapped 関数を引数に取るので、呼び出し形式のデコレーターとして、次のように wrapper 関数に適用する。"
      ],
      "metadata": {
        "id": "KxgixWQmQFF9"
      }
    },
    {
      "cell_type": "code",
      "source": [
        "from functools import wraps\n",
        "\n",
        "def decorator(option):\n",
        "    def inner_decorator(func):\n",
        "        @wraps(func)\n",
        "        def wrap_function(*args, **kwargs):\n",
        "            \"\"\"wrapper function\"\"\"\n",
        "            print(f\"some kind of pre-processing with {option=}\")  # option の値を利用できる\n",
        "            ret = func(*args, **kwargs)\n",
        "            print(f\"some post-processing with {option=}\")  # option の値を利用できる\n",
        "            return ret\n",
        "\n",
        "        return wrap_function\n",
        "\n",
        "    return inner_decorator\n",
        "\n",
        "@decorator(\"foo\")\n",
        "def my_func(arg):\n",
        "    \"\"\"original function\"\"\"\n",
        "    print(f\"original function: {arg=}\")\n",
        "\n",
        "my_func(1)\n",
        "assert my_func.__name__ == \"my_func\"\n",
        "assert my_func.__doc__ == \"original function\""
      ],
      "metadata": {
        "id": "oZIqMMY6QC6f",
        "colab": {
          "base_uri": "https://localhost:8080/"
        },
        "outputId": "d0746dd8-b0f5-44e9-9fba-48ce40fe7a3d"
      },
      "execution_count": null,
      "outputs": [
        {
          "output_type": "stream",
          "name": "stdout",
          "text": [
            "some kind of pre-processing with option='foo'\n",
            "original function: arg=1\n",
            "some post-processing with option='foo'\n"
          ]
        }
      ]
    },
    {
      "cell_type": "markdown",
      "source": [
        "なお、`functools.wraps()` 関数は、 wrapper 関数の属性を wrapped 関数の属性で更新する `functools.update_wrapper()` 関数をデコレーターとして使用できるようにしたものである。`functools.wraps(wrapped)(wrapper)` は、`functools.update_wrapper(wrapper, wrapped)` と等価である。"
      ],
      "metadata": {
        "id": "4Q7KlruJOUVt"
      }
    },
    {
      "cell_type": "markdown",
      "source": [
        "メモ化\n",
        "------"
      ],
      "metadata": {
        "id": "_xlLlgYNl7Ra"
      }
    },
    {
      "cell_type": "markdown",
      "source": [
        "`functools` モジュールは、便利なデコレーターを提供している。\n",
        "\n",
        "``` python\n",
        "functools.cache(user_function)\n",
        "```\n",
        "\n",
        "これは、関数 `user_function` が[メモ化](https://ja.wikipedia.org/wiki/メモ化)された関数を返すデコレーターである。Python 3.9 で追加された。Python 3.8 以前なら、`functools.lru_cache(maxsize=None)` が同等の関数を返す。\n",
        "\n",
        "メモ化された関数は、引数と戻り値をキャッシュに記憶しておき、2 回目以降の呼び出しに同じ引数を見つけたときは記憶してある値を返す。これにより、同じ計算を繰り返すことがなくなって効率が良くなる。\n",
        "\n",
        "ただし、キャッシュの性質上、以下の点に注意する。\n",
        "\n",
        "  * キャッシュには、引数をキー、戻り値をキーの値とする辞書が使われるので、**引数はハッシュ可能な値でなければならない**。キーワード引数の順序が異なる場合は、異なるキャッシュとして保存されるため、メモ化の効果がない。\n",
        "  * メモ化される関数は**参照透過性**（同じ引数に対して同じ戻り値を返すこと）を持つ必要がある。参照透過性を持たない関数のメモ化では、その関数の本来の結果を受け取ることができなくなってしまう。\n",
        "  * キャッシュはプログラムが終了すると失われる。"
      ],
      "metadata": {
        "id": "Q4kIrOj5l8g6"
      }
    },
    {
      "cell_type": "code",
      "source": [
        "from functools import cache\n",
        "\n",
        "@cache\n",
        "def func(num):\n",
        "    print(f\"{num=}: 関数の中に入って処理しています\")\n",
        "    return num + 1\n",
        "\n",
        "r1 = func(100)\n",
        "r2 = func(200)\n",
        "r3 = func(100)  # キャッシュから値を返すので、実際には関数本体が実行されない\n",
        "assert [r1, r2, r3] == [101, 201, 101]  # r3 はキャッシュからの値"
      ],
      "metadata": {
        "colab": {
          "base_uri": "https://localhost:8080/"
        },
        "id": "bWRBMwxZrPPY",
        "outputId": "72d44de4-3429-4654-920b-359b694dded6"
      },
      "execution_count": null,
      "outputs": [
        {
          "output_type": "stream",
          "name": "stdout",
          "text": [
            "num=100: 関数の中に入って処理しています\n",
            "num=200: 関数の中に入って処理しています\n"
          ]
        }
      ]
    },
    {
      "cell_type": "markdown",
      "source": [
        "メモ化は、関数に同じ引数が何度も渡されるようなアルゴリズムで使用すると大きな効果を発揮する。そのようなアルゴリズムの例が[動的計画法](https://ja.wikipedia.org/wiki/動的計画法)による再帰的アルゴリズムである。以下のコードでは、`fibonacci()` は[フィボナッチ数](https://ja.wikipedia.org/wiki/フィボナッチ数)を返す再帰関数であり（初項は 1 とする）、メモ化を使用しない場合の実行時間を計測している。"
      ],
      "metadata": {
        "id": "AXpYu07dyoCT"
      }
    },
    {
      "cell_type": "code",
      "source": [
        "def fibonacci(x):\n",
        "  if x==1 or x==2:\n",
        "    return 1\n",
        "  else:\n",
        "    return fibonacci(x-1) + fibonacci(x-2)\n",
        "\n",
        "%timeit -n 30 -r 3 fibonacci(20)"
      ],
      "metadata": {
        "colab": {
          "base_uri": "https://localhost:8080/"
        },
        "id": "bn2dwR3nyo1A",
        "outputId": "e50d191d-3090-4977-f7ee-45372c3daf56"
      },
      "execution_count": null,
      "outputs": [
        {
          "output_type": "stream",
          "name": "stdout",
          "text": [
            "10.4 ms ± 1.34 ms per loop (mean ± std. dev. of 3 runs, 30 loops each)\n"
          ]
        }
      ]
    },
    {
      "cell_type": "markdown",
      "source": [
        "この `fibonacci()` 関数をメモ化して実行時間を計測すると、1/10000 近くに実行時間が短縮化されることがわかる:"
      ],
      "metadata": {
        "id": "bmAUP4EDzmOe"
      }
    },
    {
      "cell_type": "code",
      "source": [
        "from functools import cache\n",
        "\n",
        "@cache\n",
        "def fibonacci(x):\n",
        "  if x==1 or x==2:\n",
        "    return 1\n",
        "  else:\n",
        "    return fibonacci(x-1) + fibonacci(x-2)\n",
        "\n",
        "%timeit -n 30 -r 3 fibonacci(20)"
      ],
      "metadata": {
        "colab": {
          "base_uri": "https://localhost:8080/"
        },
        "id": "cTvphhPlzmgN",
        "outputId": "ed868651-fa72-49a7-e31f-d023b68af415"
      },
      "execution_count": null,
      "outputs": [
        {
          "output_type": "stream",
          "name": "stdout",
          "text": [
            "The slowest run took 11.41 times longer than the fastest. This could mean that an intermediate result is being cached.\n",
            "521 ns ± 557 ns per loop (mean ± std. dev. of 3 runs, 30 loops each)\n"
          ]
        }
      ]
    },
    {
      "cell_type": "markdown",
      "source": [
        "クラスデコレーター\n",
        "------------------"
      ],
      "metadata": {
        "id": "SOB7-bOM_YkE"
      }
    },
    {
      "cell_type": "markdown",
      "source": [
        "クラスオブジェクトを引数にとり、クラスオブジェクトを返す関数を**クラスデコレーター**という。"
      ],
      "metadata": {
        "id": "ASLkXYPH_a-4"
      }
    },
    {
      "cell_type": "code",
      "source": [
        "def class_decorator(cls):\n",
        "    cls.x = \"sample\"\n",
        "    return cls\n",
        "\n",
        "class MyClass:\n",
        "    \"\"\"original class\"\"\"\n",
        "    pass\n",
        "\n",
        "MyClass = class_decorator(MyClass)\n",
        "\n",
        "# インスタンスを生成\n",
        "m = MyClass()\n",
        "print(f\"{m.x=}\")"
      ],
      "metadata": {
        "colab": {
          "base_uri": "https://localhost:8080/"
        },
        "id": "_pSk-VTw_dEZ",
        "outputId": "e5f61542-24e5-4be8-85bc-102d1b861ff8"
      },
      "execution_count": null,
      "outputs": [
        {
          "output_type": "stream",
          "name": "stdout",
          "text": [
            "m.x='sample'\n"
          ]
        }
      ]
    },
    {
      "cell_type": "markdown",
      "source": [
        "関数デコレーターと同様に、&commat; 構文が使える。"
      ],
      "metadata": {
        "id": "sarI_Vd-_iVh"
      }
    },
    {
      "cell_type": "code",
      "source": [
        "def class_decorator(cls):\n",
        "    cls.x = \"sample\"\n",
        "    return cls\n",
        "\n",
        "@class_decorator\n",
        "class MyClass:\n",
        "    \"\"\"original class\"\"\"\n",
        "    pass\n",
        "\n",
        "# インスタンスを生成\n",
        "m = MyClass()\n",
        "print(f\"{m.x=}\")"
      ],
      "metadata": {
        "colab": {
          "base_uri": "https://localhost:8080/"
        },
        "id": "ay-Ge8qE_k7N",
        "outputId": "3be57c01-a77a-4c96-db48-a01c3defe736"
      },
      "execution_count": null,
      "outputs": [
        {
          "output_type": "stream",
          "name": "stdout",
          "text": [
            "m.x='sample'\n"
          ]
        }
      ]
    },
    {
      "cell_type": "markdown",
      "source": [
        "クラスデコレーターでできることは、メタクラスで `__init__()` をオーバーライドする方法でも実現できる。\n",
        "\n",
        "複数のデコレーターを適用することもできる:\n",
        "\n",
        "``` python\n",
        "@f1(arg)\n",
        "@f2\n",
        "class Foo: pass\n",
        "```\n",
        "\n",
        "は、だいたい次と等価である。\n",
        "\n",
        "``` python\n",
        "class Foo: pass\n",
        "Foo = f1(arg)(f2(Foo))\n",
        "```"
      ],
      "metadata": {
        "id": "YrDg97Ml_ouV"
      }
    }
  ]
}