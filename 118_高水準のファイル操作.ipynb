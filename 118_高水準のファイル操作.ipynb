{
  "nbformat": 4,
  "nbformat_minor": 0,
  "metadata": {
    "colab": {
      "provenance": [],
      "authorship_tag": "ABX9TyN7WMBeqFe06yH0ZsGCR58L",
      "include_colab_link": true
    },
    "kernelspec": {
      "name": "python3",
      "display_name": "Python 3"
    },
    "language_info": {
      "name": "python"
    }
  },
  "cells": [
    {
      "cell_type": "markdown",
      "metadata": {
        "id": "view-in-github",
        "colab_type": "text"
      },
      "source": [
        "<a href=\"https://colab.research.google.com/github/suwatoh/Python-learning/blob/main/118_%E9%AB%98%E6%B0%B4%E6%BA%96%E3%81%AE%E3%83%95%E3%82%A1%E3%82%A4%E3%83%AB%E6%93%8D%E4%BD%9C.ipynb\" target=\"_parent\"><img src=\"https://colab.research.google.com/assets/colab-badge.svg\" alt=\"Open In Colab\"/></a>"
      ]
    },
    {
      "cell_type": "markdown",
      "source": [
        "高水準のファイル操作\n",
        "===================="
      ],
      "metadata": {
        "id": "PX042zsis2NH"
      }
    },
    {
      "cell_type": "markdown",
      "source": [
        "tempfile\n",
        "--------"
      ],
      "metadata": {
        "id": "TQHhr8RgAKfz"
      }
    },
    {
      "cell_type": "markdown",
      "source": [
        "標準ライブラリの `tempfile` モジュールは、一時ファイルや一時ディレクトリを作成する機能を提供する。"
      ],
      "metadata": {
        "id": "I1Bxk5KCdesa"
      }
    },
    {
      "cell_type": "markdown",
      "source": [
        "### TemporaryFile ###"
      ],
      "metadata": {
        "id": "H7vSbC5RdjxS"
      }
    },
    {
      "cell_type": "markdown",
      "source": [
        "``` python\n",
        "tempfile.TemporaryFile(mode='w+b', buffering=-1, encoding=None, newline=None, suffix=None, prefix=None, dir=None, *, errors=None)\n",
        "```\n",
        "\n",
        "この関数は、一時ファイルを作成し、ファイルオブジェクトを返す。ファイルは、可能な限り最も安全な手段で作成される。すなわち、ファイル名が既存のファイルと競合しないことが保証され、また、作成したユーザのみファイルを読み書き可能なパーミッション設定が行われる。ファイルオブジェクトが閉じられると、即座にファイルが自動的に削除される。\n",
        "\n",
        "一般のファイルオブジェクトと同じで、この関数が返すファイルオブジェクトもコンテキストマネージャーなので、with 文の中で使用することができる。\n",
        "\n",
        "引数 `mode`、`buffering`、`encoding`、`newline`、`errors` は、`open()` に対する引数として解釈される。残りの引数については次のとおり。\n",
        "\n",
        "| 引数 | 意味 |\n",
        "|:---|:---|\n",
        "| `suffix` | `None` でない場合、ファイル名はその接尾辞で終わる |\n",
        "| `prefix` | `None` でない場合、ファイル名はその接頭辞で始まる |\n",
        "| `dir` | `None` でない場合、ファイルはそのディレクトリ下に作成される。`None` の場合、`TMPDIR`、`TEMP`、または `TMP` 環境変数の値が使われる |"
      ],
      "metadata": {
        "id": "x6lhHi7dAMhr"
      }
    },
    {
      "cell_type": "code",
      "source": [
        "import tempfile\n",
        "\n",
        "file_name = \"\"\n",
        "with tempfile.TemporaryFile() as f:\n",
        "    file_name = f.name\n",
        "    f.write(b\"abcd\")  # デフォルトではバイナリモード\n",
        "    f.seek(0)\n",
        "    print(f\"{f.read()=}\")\n",
        "\n",
        "print(f\"{file_name=}\")  # Unix ではファイル名が不可視。Windows ではファイルパスを得る"
      ],
      "metadata": {
        "colab": {
          "base_uri": "https://localhost:8080/"
        },
        "id": "ZsVy_1X8Aovi",
        "outputId": "e0a25886-003a-47c3-8fa7-856db48e1749"
      },
      "execution_count": null,
      "outputs": [
        {
          "output_type": "stream",
          "name": "stdout",
          "text": [
            "f.read()=b'abcd'\n",
            "file_name=42\n"
          ]
        }
      ]
    },
    {
      "cell_type": "markdown",
      "source": [
        "### NamedTemporaryFile ###"
      ],
      "metadata": {
        "id": "fdoEaEqPdrtl"
      }
    },
    {
      "cell_type": "markdown",
      "source": [
        "``` python\n",
        "tempfile.NamedTemporaryFile(mode='w+b', buffering=-1, encoding=None, newline=None, suffix=None, prefix=None, dir=None, delete=True, *, errors=None)\n",
        "```\n",
        "\n",
        "この関数も、一時ファイルを作成し、ファイルオブジェクトを返すが、以下の点で `tempfile.TemporaryFile()` と異なる。\n",
        "\n",
        "  * ファイルオブジェクトの `name` 属性で一時ファイルのパスが得られる。\n",
        "  * `delete` 引数が追加され、これが`False` の場合、ファイルオブジェクトを閉じてもファイルが自動的には削除されない。\n",
        "\n",
        "なお、Python 3.12 で、`delete_on_close` キーワード専用引数が追加された。`delete` が `True` で、`delete_on_close` が `False` の場合、with 文で作成された一時ファイルは with 文が終わったときにのみ削除され、途中でファイルオブジェクトが閉じられてもファイルは削除されないようになった。`delete_on_close` のデフォルトは `True`。"
      ],
      "metadata": {
        "id": "IDnCEzcEGsDm"
      }
    },
    {
      "cell_type": "code",
      "source": [
        "import tempfile\n",
        "from pathlib import Path\n",
        "\n",
        "path = None\n",
        "with tempfile.NamedTemporaryFile() as f:\n",
        "    f.write(b'abcd')\n",
        "    f.seek(0)\n",
        "    print(f.read())\n",
        "    path = f.name\n",
        "    print(f\"{path=}\")\n",
        "    assert Path(path).exists()\n",
        "\n",
        "assert not Path(path).exists()"
      ],
      "metadata": {
        "colab": {
          "base_uri": "https://localhost:8080/"
        },
        "id": "S9izCPtaHaKn",
        "outputId": "5a8016c1-0d9b-45b8-995d-ca226576862d"
      },
      "execution_count": null,
      "outputs": [
        {
          "output_type": "stream",
          "name": "stdout",
          "text": [
            "b'abcd'\n",
            "path='/tmp/tmpmhpnqe0e'\n"
          ]
        }
      ]
    },
    {
      "cell_type": "code",
      "source": [
        "import tempfile\n",
        "from pathlib import Path\n",
        "\n",
        "path = None\n",
        "with tempfile.NamedTemporaryFile(delete=False) as f:\n",
        "    f.write(b'abcd')\n",
        "    f.seek(0)\n",
        "    print(f.read())\n",
        "    path = f.name\n",
        "    print(f\"{path=}\")\n",
        "    assert Path(path).exists()\n",
        "\n",
        "assert Path(path).exists()\n",
        "Path(path).unlink()\n",
        "assert not Path(path).exists()"
      ],
      "metadata": {
        "colab": {
          "base_uri": "https://localhost:8080/"
        },
        "id": "KkQMuCBcIlsY",
        "outputId": "8b55c13b-969e-4543-e586-2a920baf59da"
      },
      "execution_count": null,
      "outputs": [
        {
          "output_type": "stream",
          "name": "stdout",
          "text": [
            "b'abcd'\n",
            "path='/tmp/tmpeewcl17_'\n"
          ]
        }
      ]
    },
    {
      "cell_type": "markdown",
      "source": [
        "### SpooledTemporaryFile ###"
      ],
      "metadata": {
        "id": "TL9NsDs5m0EM"
      }
    },
    {
      "cell_type": "markdown",
      "source": [
        "``` python\n",
        "tempfile.SpooledTemporaryFile(max_size=0, mode='w+b', buffering=-1, encoding=None, newline=None, suffix=None, prefix=None, dir=None, *, errors=None)\n",
        "```\n",
        "\n",
        "これは、`SpooledTemporaryFile` クラスのコンストラクタである。 `SpooledTemporaryFile` クラスは、データを基本的にメモリ上に書き出す。ファイルサイズが `max_size` を超えるか、ファイルの `fileno()` メソッドが呼び出されるとディスク上に書き出すため、メモリ消費量が増えすぎるということがない。ディスクに書き出したあとの動作は `TemporaryFile()` と同様である。\n",
        "\n",
        "返されるオブジェクトは、`rollover()` メソッドを持ち、これにより、ファイルはサイズに関係なくディスク上のファイルにロールオーバーされる。"
      ],
      "metadata": {
        "id": "Stcxa8N3m1R5"
      }
    },
    {
      "cell_type": "markdown",
      "source": [
        "### TemporaryDirectory ###"
      ],
      "metadata": {
        "id": "QYK0D7Htdy7t"
      }
    },
    {
      "cell_type": "markdown",
      "source": [
        "``` python\n",
        "tempfile.TemporaryDirectory(suffix=None, prefix=None, dir=None, ignore_cleanup_errors=False, *, delete=True)\n",
        "```\n",
        "\n",
        "これは、`TemporaryDirectory` クラスのコンストラクタであり、一時ディレクトリを作成する。`TemporaryDirectory` は、コンテキストマネージャーの機能をサポートしていて、with 文のブロックの完了時に一時ディレクトリを中身のファイルごと削除することができる。\n",
        "\n",
        "| 引数 | 意味 |\n",
        "|:---|:---|\n",
        "| `suffix` | `None` でない場合、一時ディレクトリ名はその接尾辞で終わる |\n",
        "| `prefix` | `None` でない場合、一時ディレクトリ名はその接頭辞で始まる |\n",
        "| `dir` | `None` でない場合、一時ディレクトリは `dir` のサブディレクトリとして作成される。`None` の場合、`TMPDIR`、`TEMP`、または `TMP` 環境変数の値が使われる |\n",
        "| `ignore_cleanup_errors` | `True` の場合、一時ディレクトリの削除中のエラーを無視する |\n",
        "| `delete` | `True`（デフォルト）の場合、with のブロックの完了時に一時ディレクトリが削除される。`False` を指定すると、この機能が無効化される（Python 3.12 で追加） |\n",
        "\n",
        "`TemporaryDirectory` の属性:\n",
        "\n",
        "| 属性 | 意味 |\n",
        "|:---|:---|\n",
        "| `name` | 一時ディレクトリのパスを表す文字列を格納する属性 |\n",
        "\n",
        "`TemporaryDirectory` のメソッド:\n",
        "\n",
        "| メソッド | 機能 | 戻り値 |\n",
        "|:---|:---|:--:|\n",
        "| `cleanup()` | 一時ディレクトリを中身のファイルごと削除する。処理中のエラーについては `ignore_cleanup_errors` 引数を参照 | `None` |\n",
        "| `__enter__()` | `name` 属性を返す | `str` |\n",
        "| `__exit__(exc, value, tb)` | `cleanup()` を呼び出す。Python 3.12 以降では、このオブジェクトが `delete` 引数に `False` を与えて生成されていた場合、このメソッドは何もしない | `None` |"
      ],
      "metadata": {
        "id": "gEkMXzytNIZv"
      }
    },
    {
      "cell_type": "code",
      "source": [
        "import tempfile\n",
        "from pathlib import Path\n",
        "\n",
        "path = None\n",
        "with tempfile.TemporaryDirectory() as td:\n",
        "    path = td\n",
        "    print(f\"{path=}\")\n",
        "    p = Path(path, \"test.txt\")\n",
        "    p.touch()  # ファイルを作成\n",
        "    print(f\"{[x.name for x in Path(path).iterdir()]}\")\n",
        "\n",
        "assert not Path(path).exists()"
      ],
      "metadata": {
        "colab": {
          "base_uri": "https://localhost:8080/"
        },
        "id": "dSdUL4RwZkwW",
        "outputId": "3447acb0-63e4-4c89-aa8d-8fde2469db40"
      },
      "execution_count": null,
      "outputs": [
        {
          "output_type": "stream",
          "name": "stdout",
          "text": [
            "path='/tmp/tmpydsbx3y0'\n",
            "['test.txt']\n"
          ]
        }
      ]
    },
    {
      "cell_type": "markdown",
      "source": [
        "### 低レベル関数 ###"
      ],
      "metadata": {
        "id": "5eR3w0OCholr"
      }
    },
    {
      "cell_type": "markdown",
      "source": [
        "`tempfile.TemporaryFile` などのクラスの内部で呼び出されている低レベル関数を直接使用することもできる。\n",
        "\n",
        "``` python\n",
        "tempfile.mkstemp(suffix=None, prefix=None, dir=None, text=False)\n",
        "```\n",
        "\n",
        "可能な限り最も安全な手段で一時ファイルを生成する。`tempfile.TemporaryFile()` と違って、`tempfile.mkstemp()` で作成された一時ファイルは、用済みになった時に手動で削除する必要がある（あるいは、システムによって一時ファイルが自動的に削除されることを期待することになる）。\n",
        "\n",
        "引数の意味とデフォルトは、`tempfile.TemporaryFile()` のものと同じ。\n",
        "\n",
        "``` python\n",
        "tempfile.mkdtemp(suffix=None, prefix=None, dir=None)\n",
        "```\n",
        "\n",
        "可能な限り安全な方法で一時ディレクトリを作成する。`tempfile.TemporaryDirectory()` と違って、`tempfile.mkdtemp()` で作成された一時ディレクトリは、用済みになった時に手動で削除する必要がある（あるいは、システムによって一時ディレクトリが自動的に削除されることを期待することになる）。\n",
        "\n",
        "引数の意味とデフォルトは、`tempfile.TemporaryDirectory()` のものと同じ。\n",
        "\n",
        "``` python\n",
        "tempfile.gettempdir()\n",
        "```\n",
        "\n",
        "一時ファイルに用いられるディレクトリの名前を返す。\n",
        "\n",
        "この関数はモジュール内の全ての関数の `dir` 引数のデフォルト値を定義する。具体的には、以下の順番でディレクトリを検索する。\n",
        "\n",
        "  1. 環境変数 `TMPDIR` で与えられているディレクトリ名。\n",
        "  2. 環境変数 `TEMP` で与えられているディレクトリ名。\n",
        "  3. 環境変数 `TMP` で与えられているディレクトリ名。\n",
        "  4. プラットフォーム依存の場所。\n",
        "  5. 現在の作業ディレクトリ。\n",
        "\n",
        "この検索の結果はキャッシュされる。"
      ],
      "metadata": {
        "id": "EHQObtukhpNY"
      }
    },
    {
      "cell_type": "code",
      "source": [
        "import tempfile\n",
        "tempfile.gettempdir()"
      ],
      "metadata": {
        "colab": {
          "base_uri": "https://localhost:8080/",
          "height": 35
        },
        "id": "PRnXqu9shuxI",
        "outputId": "b3601be3-4b10-4d9c-86c8-6fb03cb12e58"
      },
      "execution_count": 1,
      "outputs": [
        {
          "output_type": "execute_result",
          "data": {
            "text/plain": [
              "'/tmp'"
            ],
            "application/vnd.google.colaboratory.intrinsic+json": {
              "type": "string"
            }
          },
          "metadata": {},
          "execution_count": 1
        }
      ]
    },
    {
      "cell_type": "markdown",
      "source": [
        "shutil\n",
        "------"
      ],
      "metadata": {
        "id": "DjJjsUDUeIaM"
      }
    },
    {
      "cell_type": "markdown",
      "source": [
        "ファイルやディレクトリに対するコピー、移動、圧縮といった高水準の操作は、標準ライブラリの `shutil` モジュールを使う。"
      ],
      "metadata": {
        "id": "dMlNfVkteJIF"
      }
    },
    {
      "cell_type": "markdown",
      "source": [
        "### ファイルのコピー ###"
      ],
      "metadata": {
        "id": "Roe5WxSu3m9n"
      }
    },
    {
      "cell_type": "markdown",
      "source": [
        "``` python\n",
        "shutil.copyfileobj(fsrc, fdst[, length])\n",
        "```\n",
        "\n",
        "この関数は、ファイルオブジェクト `fsrc` の内容をファイルオブジェクト `fdst` にコピーする。戻り値は `None`。実装としては、`fsrc` の `read()` メソッドによる読み込みと `fdst` の `write()` メソッドによる書き込みの反復を、`length`（ `length` が与えられていない場合は `shutil.COPY_BUFSIZE`）サイズ単位で行っている。このため、ファイルのパーミッション（権限）とメタデータ（最終アクセス時間、最終変更時間など）はコピーしない。\n",
        "\n",
        "`fsrc` と `fdst` には、`io.BytesIO` や `io.StringIO` も使える。"
      ],
      "metadata": {
        "id": "OyytqDA43rHP"
      }
    },
    {
      "cell_type": "code",
      "source": [
        "import io\n",
        "import shutil\n",
        "src = io.StringIO(\"あいう\")\n",
        "dest_bin = io.BytesIO()\n",
        "dest = io.TextIOWrapper(dest_bin, encoding=\"utf-8\")\n",
        "shutil.copyfileobj(src, dest)\n",
        "dest.flush()\n",
        "dest_bin.getvalue()"
      ],
      "metadata": {
        "colab": {
          "base_uri": "https://localhost:8080/"
        },
        "id": "gzVkxZIf4XcH",
        "outputId": "f3e7048f-f219-4089-bf6a-a7bd5a60b1b2"
      },
      "execution_count": null,
      "outputs": [
        {
          "output_type": "execute_result",
          "data": {
            "text/plain": [
              "b'\\xe3\\x81\\x82\\xe3\\x81\\x84\\xe3\\x81\\x86'"
            ]
          },
          "metadata": {},
          "execution_count": 14
        }
      ]
    },
    {
      "cell_type": "markdown",
      "source": [
        "``` python\n",
        "shutil.copyfile(src, dst, *, follow_symlinks=True)\n",
        "```\n",
        "\n",
        "この関数は、path-like オブジェクト `src` の内容を path-like オブジェクト `dst` にコピーし、`dst` を返す。実装としては、`src` を `open()` で開いて、返されたファイルオブジェクトを `copyfileobj()` に渡している。このため、ファイルのパーミッションとメタデータはコピーしない。\n",
        "\n",
        "`dst` はファイルでなければならない。`dst` が既に存在するファイルを指定している場合、それは置き換えられる。`dst` が存在しない中間ディレクトリを含むとエラーが発生する。あらかじめ直上のディレクトリまで作成しておく必要がある。このような仕様は、実装が `open(src, 'rb')` と `open(dst, 'wb')` を呼び出していることによる。\n",
        "\n",
        "`src` と `dst` が同じファイルだった場合、`shutil.SameFileError` 例外が発生する。\n",
        "\n",
        "`src` がシンボリックリンクの場合、キーワード専用引数 `follow_symlinks` が偽なら `dst` はシンボリックリンクとして作成され、`follow_symlinks` が真なら `dst` には `src` のリンク先のファイルがコピーされる。\n",
        "\n",
        "``` python\n",
        "shutil.copymode(src, dst, *, follow_symlinks=True)\n",
        "```\n",
        "\n",
        "この関数は、パーミッションを `src` から `dst` にコピーする。最終アクセス時間、最終変更時間などのメタデータは一切コピーしない。戻り値は `None`。引数は、`shutil.copyfile()` と同じ。\n",
        "\n",
        "``` python\n",
        "shutil.copystat(src, dst, *, follow_symlinks=True)\n",
        "```\n",
        "\n",
        "この関数は、パーミッションを `src` から `dst` にコピーし、さらに最終アクセス時間、最終変更時間などの一部メタデータもコピーする。戻り値は `None`。引数は、`shutil.copyfile()` と同じ。\n",
        "\n",
        "以下のメタデータはコピーされないことに注意する。\n",
        "\n",
        "  * POSIX プラットフォーム: ACL、ファイルのオーナー、グループ\n",
        "  * macOS: リソースフォーク（ファイルタイプ、クリエイター、アイコン、ウィンドウ位置、バージョン情報など）\n",
        "  * Windows: 所有者、ACL、代替データストリーム（ADS）など\n",
        "\n",
        "``` python\n",
        "shutil.copy(src, dst, *, follow_symlinks=True)\n",
        "```\n",
        "\n",
        "この関数は、ファイルの内容とパーミッションを `src` から `dst` にコピーし、`dst` を返す。関数の内部では、 `shutil.copyfile()` と `shutil.copymode()` を呼び出している。ただし、`dst` 引数はそのままこれらの関数に渡されるのではなく、`dst` がディレクトリなら `dst` のパスと `src` のベース（パス要素の末尾）を連結した文字列に加工された上で渡される。したがって、**この関数は、ファイルをディレクトリにコピーすることができる**。\n",
        "\n",
        "``` python\n",
        "shutil.copy2(src, dst, *, follow_symlinks=True)\n",
        "```\n",
        "\n",
        "この関数は、ファイルのメタデータを保持しようとすることを除けば `copy()` と等価である。関数の内部では、`shutil.copyfile()` と `shutil.copystat()` を呼び出している。したがって、全てのメタデータがコピーされるわけではないことに注意する。"
      ],
      "metadata": {
        "id": "PdtR085kCx9N"
      }
    },
    {
      "cell_type": "markdown",
      "source": [
        "### ディレクトリのコピー ###"
      ],
      "metadata": {
        "id": "kQHRQHfYss0i"
      }
    },
    {
      "cell_type": "markdown",
      "source": [
        "``` python\n",
        "shutil.copytree(src, dst, symlinks=False, ignore=None, copy_function=copy2, ignore_dangling_symlinks=False, dirs_exist_ok=False)\n",
        "```\n",
        "\n",
        "この関数は、ディレクトリツリーを丸ごとコピーする。つまり、ディレクトリを配下のファイルやサブディレクトリも含めて再帰的にコピーする。戻り値は、`dst`。\n",
        "\n",
        "| 引数 | 意味 |\n",
        "|:---|:---|\n",
        "| `src` | コピー対象のディレクトリを指定する。path-like オブジェクトが使える |\n",
        "| `dst` | コピー後のディレクトリを指定する。path-like オブジェクトが使える |\n",
        "| `symlinks` | `True` の場合、シンボリックリンクはコピー後もシンボリックリンクとなる。`False` の場合、リンク先のファイルそのものがコピーされる |\n",
        "| `ignore` | 呼び出し可能オブジェクトを指定すると、そのオブジェクトが返す相対パス（カレントディレクトリを基準とする）の集合に含まれるディレクトリやファイルをコピー<br />しない。呼び出し可能オブジェクトは 2 つの引数を取るものでなければならず、第 1 引数にはディレクトリ、第 2 引数にはその中身のリストが渡される |\n",
        "| `copy_function` | コピーに用いる関数を指定する。デフォルトでは `shutil.copy2()` が使用される |\n",
        "| `ignore_dangling_symlinks` | `True` を指定すると、引数 `symlinks` が `False` のときにリンク先が存在しない場合でもエラーを出さないようになる |\n",
        "| `dirs_exist_ok` | `False`（デフォルト）の場合、`dst` が既存のディレクトリならエラーが発生する。`True` を指定すると、`dst` が既存のディレクトリでもエラーにならない |\n",
        "\n",
        "`ignore` 引数に渡す呼び出し可能オブジェクトは、次のユーティリティ関数で簡単に作成することができる。\n",
        "\n",
        "``` python\n",
        "shutil.ignore_patterns(*patterns)\n",
        "```\n",
        "\n",
        "このファクトリー関数は、 `shutil.copytree()` 関数の `ignore` 引数に渡すための呼び出し可能オブジェクトを作成する。`patterns` には glob パターンを複数指定でき、指定したパターンにマッチするファイル名およびディレクトリ名を含む相対パスの集合を返す呼び出し可能オブジェクトを作成できる。\n",
        "\n",
        "以下のコードは、Colab が用意する sample_data ディレクトリを一時ディレクトリにコピーする。ただし、`shutil.ignore_patterns()` を使用して、拡張子 `.md` および `.json` のファイルをコピー対象から除外している。"
      ],
      "metadata": {
        "id": "lPMByv3ustsI"
      }
    },
    {
      "cell_type": "code",
      "source": [
        "import tempfile\n",
        "import shutil\n",
        "from pathlib import Path\n",
        "\n",
        "ignore = shutil.ignore_patterns(\"*.md\", \"*.json\")\n",
        "src = Path(\"./sample_data\")\n",
        "print(f\"{ignore(src, [x.name for x in src.iterdir()])=}\")\n",
        "\n",
        "with tempfile.TemporaryDirectory() as td:\n",
        "    dest = shutil.copytree(src, Path(td) / Path(\"sample_data\"), ignore=ignore)\n",
        "    print(f\"{dest=}\")\n",
        "    print(f\"{[x.name for x in Path(dest).iterdir()]}\")"
      ],
      "metadata": {
        "colab": {
          "base_uri": "https://localhost:8080/"
        },
        "id": "jUsVU5883iGQ",
        "outputId": "84029ade-5a4c-4600-de47-7be5bad48a23"
      },
      "execution_count": null,
      "outputs": [
        {
          "output_type": "stream",
          "name": "stdout",
          "text": [
            "ignore(src, [x.name for x in src.iterdir()])={'README.md', 'anscombe.json'}\n",
            "dest=PosixPath('/tmp/tmpp2k1s8co/sample_data')\n",
            "['california_housing_train.csv', 'mnist_test.csv', 'mnist_train_small.csv', 'california_housing_test.csv']\n"
          ]
        }
      ]
    },
    {
      "cell_type": "markdown",
      "source": [
        "### ファイル・ディレクトリの移動・削除 ###"
      ],
      "metadata": {
        "id": "OAVGUhjjF2-_"
      }
    },
    {
      "cell_type": "markdown",
      "source": [
        "``` python\n",
        "shutil.move(src, dst, copy_function=copy2)\n",
        "```\n",
        "\n",
        "この関数は、ファイルまたはディレクトリ `src` を再帰的に別の場所 `dst` に移動して、`dst` を返す。`src` および `dst` は path-like オブジェクトが使える。`copy_function` にコピーに用いる関数を指定する。デフォルトでは shutil.copy2() が使用される。\n",
        "\n",
        "`dst` が存在するディレクトリの場合、 `src` はそのディレクトリの中へ移動する。`dst` が存在していてそれがディレクトリでない場合、内部で `os.rename()` を使用するため、`os.rename()` と同じ結果になる。\n",
        "\n",
        "``` python\n",
        "shutil.rmtree(path, ignore_errors=False, onerror=None, *, onexc=None)\n",
        "```\n",
        "\n",
        "この関数は、ディレクトリを中身のファイルやサブディレクトリごと削除する。\n",
        "\n",
        "| 引数 | 意味 |\n",
        "|:---|:---|\n",
        "| `path` | 削除するディレクトリを path-like オブジェクトで指定する |\n",
        "| `ignore_errors` | `True` の場合、削除に失敗したことによるエラーは無視される。`False`（デフォルト）の場合、これらのエラーは `onerror` または `onexc` に指定した呼び出し可能オブジェクトで処<br />理され、両方が省略された場合は例外を送出する |\n",
        "| `onerror` | `function`, `path`, `excinfo` の 3 つの引数をとる呼び出し可能オブジェクトを指定する。`function` には例外が発生した関数が、`path` には `function` に渡されたパスが、`excinfo` <br />には `sys.exc_info()` の戻り値が渡される。この引数は Python 3.12 で非推奨とされた |\n",
        "| `onexc` | キーワード専用。Python 3.12 で追加。受け取る 3 番目の引数が発生した例外であることを除いて `onerror` と同様である |"
      ],
      "metadata": {
        "id": "-HMqZqAnFxrt"
      }
    },
    {
      "cell_type": "markdown",
      "source": [
        "### アーカイブ化操作 ###"
      ],
      "metadata": {
        "id": "keMbyciEPSti"
      }
    },
    {
      "cell_type": "markdown",
      "source": [
        "``` python\n",
        "shutil.make_archive(base_name, format[, root_dir[, base_dir[, verbose[, dry_run[, owner[, group[, logger]]]]]]])\n",
        "```\n",
        "\n",
        "この関数は、アーカイブファイルを作成してその名前を返す。主な引数は、次のとおり。\n",
        "\n",
        "| 引数 | 意味 |\n",
        "|:---|:---|\n",
        "| `base_name` | 作成するアーカイブファイルの名前を指定する。拡張子は指定しないこと |\n",
        "| `format` | アーカイブ方式を指定する。`'zip'`, `'tar'`, `'gztar'`, `'bztar'`, `'xztar'` を指定できる。`'zip'` の場合、GZIP 圧縮方式のデフォルトレベルが使用される |\n",
        "| `root_dir` | アーカイブ対象となるディレクトリを指定する。デフォルトはカレントディレクトリ |\n",
        "| `base_dir` | アーカイブを開始するディレクトリを、`root_dir` からの相対パスで指定する。デフォルトはカレントディレクトリ |\n",
        "\n",
        "アーカイブに含まれる全てのパスは `root_dir` からの相対パスになる。\n",
        "\n",
        "`root_dir` を指定して `base_dir` を指定しない場合、`root_dir` そのものではなくその中身が圧縮対象になる。たとえば、`root_dir=target_dir` とする場合、圧縮前と圧縮後のディレクトリ構成は次のように対応する。\n",
        "\n",
        "``` text\n",
        "（圧縮前）\n",
        "current_dir\n",
        "└target_dir --- root_dir\n",
        "  ├─ sub_dir\n",
        "  │   ├─ a.txt\n",
        "  │   └─ b.txt\n",
        "  ├─ c.txt\n",
        "  └─ d.txt\n",
        "\n",
        "（圧縮後）\n",
        "sub_dir\n",
        "├─ a.txt\n",
        "└─ b.txt\n",
        "c.txt\n",
        "d.txt\n",
        "```\n",
        "\n",
        "`root_dir` と `base_dir` の両方を指定する場合、`base_dir` そのものとその中身が圧縮対象になる。たとえば、`root_dir='.', base_dir='target_dir'` とする場合、圧縮前と圧縮後のディレクトリ構成は次のように対応する。\n",
        "\n",
        "``` text\n",
        "（圧縮前）\n",
        "current_dir --- root_dir\n",
        "└target_dir --- base_dir\n",
        "  ├─ sub_dir\n",
        "  │   ├─ a.txt\n",
        "  │   └─ b.txt\n",
        "  ├─ c.txt\n",
        "  └─ d.txt\n",
        "\n",
        "（圧縮後）\n",
        "target_dir\n",
        "├─ sub_dir\n",
        "│   ├─ a.txt\n",
        "│   └─ b.txt\n",
        "├─ c.txt\n",
        "└─ d.txt\n",
        "```\n",
        "\n",
        "``` python\n",
        "shutil.unpack_archive(filename[, extract_dir[, format[, filter]]])\n",
        "```\n",
        "\n",
        "この関数は、アーカイブをアンパックする。主な引数は次のとおり。\n",
        "\n",
        "| 引数 | 意味 |\n",
        "|:---|:---|\n",
        "| `filename` | アーカイブの絶対パスを path-like オブジェクトとして指定する |\n",
        "| `extract_dir` | アーカイブをアンパックする先のディレクトリ名を path-like オブジェクトとして指定する。指定されなかった場合はカレントディレクトリが使われる |\n",
        "| `format` | `filename` のアーカイブ形式を指定する。`zip`, `tar`, `gztar`, `bztar`, `xztar` を指定できる。指定を省略した場合、`filename` の拡張子から推測される |"
      ],
      "metadata": {
        "id": "qJsqMjbfPTlb"
      }
    },
    {
      "cell_type": "markdown",
      "source": [
        "zipfile\n",
        "-------"
      ],
      "metadata": {
        "id": "tNWA3035pDlK"
      }
    },
    {
      "cell_type": "markdown",
      "source": [
        "`shutil.make_archive()` 関数と `shutil.unpack_archive()` 関数は、 ZIP 形式について標準ライブラリの `zipfile` パッケージを利用している。ZIP 形式について細やかな処理を行う場合は、`zipfile` パッケージを直接使用する必要がある。\n",
        "\n",
        "`zipfile` パッケージが対応している圧縮方式は次のとおり。\n",
        "\n",
        "| 圧縮方式 | 数値定数 | 使用するモジュール | 圧縮レベル |\n",
        "|:---|:---|:---|:---|\n",
        "| 非圧縮 | `zipfile.ZIP_STORED` | なし | なし |\n",
        "| GZIP 圧縮方式 | `zipfile.ZIP_DEFLATED` | 標準ライブラリの `zlib` | 0 から 9 まで（`zlib` ではデフォルトのレベルが 6） |\n",
        "| BZIP2 圧縮方式 | `zipfile.ZIP_BZIP2` | 標準ライブラリの `bz2` | 1 から 9 まで（`bz2` ではデフォルトのレベルが 9） |\n",
        "| LZMA 圧縮方式 | `zipfile.ZIP_LZMA` | 標準ライブラリの `lzma` | なし |\n",
        "\n",
        "この表では、圧縮方式は下に行くほど圧縮率が高く処理時間が長くなる。また、圧縮レベルは数字が大きいほど圧縮率が高く処理時間が長くなる。\n",
        "\n",
        "`zipfile` パッケージが対応していない圧縮方式が使われている ZIP ファイルを読み取ろうとすると、`NotImplementedError` 例外が発生する。\n",
        "\n",
        "``` python\n",
        "zipfile.is_zipfile(filename)\n",
        "```\n",
        "\n",
        "この関数は、`filename` が ZIP ファイルの場合 `True` を返し、そうでない場合 `False` を返す。`filename` にはファイルのパス（文字列）かファイルオブジェクトを指定する。"
      ],
      "metadata": {
        "id": "2fy7ZUeIpE7T"
      }
    },
    {
      "cell_type": "code",
      "source": [
        "import zipfile\n",
        "assert not zipfile.is_zipfile(\"./sample_data/README.md\")"
      ],
      "metadata": {
        "id": "vZnRDg9NpHue"
      },
      "execution_count": null,
      "outputs": []
    },
    {
      "cell_type": "markdown",
      "source": [
        "``` python\n",
        "zipfile.ZipFile(file, mode='r', compression=ZIP_STORED, allowZip64=True, compresslevel=None, *, strict_timestamps=True, metadata_encoding=None)\n",
        "```\n",
        "\n",
        "`zipfile.ZipFile` は ZIP ファイルの読み書きのためのクラスである。コンストラクタの引数は次のとおり。\n",
        "\n",
        "| 引数 | 意味 |\n",
        "|:---|:---|\n",
        "| `file` | ファイルのパス（文字列）か、ファイルオブジェクト、 path-like オブジェクト |\n",
        "| `mode` | `'r'`（ZIP ファイルの読み込み）, `'w'`（新規 ZIP ファイルの作成）, `'a'`（ZIP ファイルへの追加）, `'x'`（ファイルが存在しない場合にのみ ZIP ファイルを作成して書き込む）<br />を指定できる |\n",
        "| `compression` | デフォルトで使用される圧縮方式を指定する。デフォルトでは非圧縮とされることに注意する |\n",
        "| `allowZip64` | `True`（デフォルト）の場合、ZIP64 形式に対応する。ZIP64 形式は 4 GB を超えるファイルを扱える |\n",
        "| `compresslevel` | デフォルトで使用される圧縮レベルを指定する。`None`（デフォルト）の場合、使用するモジュールのデフォルトのレベルとする |\n",
        "| `strict_timestamps` | キーワード専用。`False` の場合、1980 年より古いタイムスタンプを 1980 年 1 月 1 日に設定し、2108 年以降のタイムスタンプを 2107 年 12 月 31 日に設定する |\n",
        "| `metadata_encoding` | キーワード専用。Python 3.11 で追加。日本語のファイル名が文字化けするなら、Unix 系 OS では `'utf-8'` を指定し、Windows では `'cp932'` を指定すると解決する |\n",
        "\n",
        "`zipfile.ZipFile` オブジェクトの主なメソッドは以下のとおり。\n",
        "\n",
        "| メソッド | 機能 | 戻り値 |\n",
        "|:---|:---|:---|\n",
        "| `namelist()` | ZIP ファイルに含まれる各ファイルの名前のリストを返す | `list` |\n",
        "| `getinfo(name)` | ZIP ファイルに含まれる `name` という名前のファイルに関する情報を持つ `zipfile.ZipInfo` オブジェクトを返す。ZIP ファイルに含まれない<br />ファイル名に対して `getinfo()` を呼び出すと、`KeyError` が送出される | `ZipFile` |\n",
        "| `infolist()` | ZIP ファイルに含まれる各ファイルに関する `zipfile.ZipInfo` オブジェクトからなるリストを返す | `list` |\n",
        "| `read(name, pwd=None)` | ZIP ファイルに含まれるファイルの内容をバイト列で返す。`name` にはファイルの名前または `zipfile.ZipInfo` オブジェクトを指定する。ZIP<br /> ファイルが暗号化されている場合、`pwd` にパスワードを指定する必要がある | `bytes` |\n",
        "| `extract(member, path=None, pwd=None)` | ZIP ファイルに含まれるファイルを指定して展開する。`member` にはファイルの名前または `zipfile.ZipInfo` オブジェクトを指定する。`path`<br /> には、展開先の別のディレクトリを指定する。`pwd` は暗号化された ZIP ファイルに使用されるパスワードを指定する | `None` |\n",
        "| `extractall(path=None, members=None,`<br />` pwd=None)` | ZIP ファイルに含まれるファイルを全て展開する。`members` にファイルの名前のリストを指定した場合、`members` だけを展開する | `None` |\n",
        "| `write(filename, arcname=None,`<br />` compress_type=None, compresslevel=None)` | 指定したファイルを ZIP ファイルにアーカイブする。`arcname` を指定するとその名前でアーカイブする。`compress_type` で圧縮方式を指定で<br />きる。`compresslevel` で圧縮レベルを指定できる | `None` |\n",
        "| `writestr(zinfo_or_arcname, data,`<br />` compress_type=None, compresslevel=None)` | 文字列またはバイト列である `data` を `zinfo_or_arcname` で指定されるファイル名で ZIP ファイルにアーカイブする。`zinfo_or_arcname` に<br /> `zipfile.ZipInfo` オブジェクトを指定することができる。他のオプションは `write()` と同じ | `None` |\n",
        "| `close()` | ZIP ファイルを閉じる | `None` |\n",
        "\n",
        "`write()` メソッドや `writestr()` メソッドを使用する場合、アーカイブ中に使用するファイルの名前はアーカイブルートに対する相対パスでなければならない。言い換えると、その名前はパス区切り文字で始まってはいけない。\n",
        "\n",
        "`zipfile.ZipFile` はコンテキストマネージャーにもなっているので、with 文をサポートする。次の例では、`myzip` は with 文のブロックが終了したときに、（たとえ例外が発生したとしても） `close()` メソッドが呼び出される:\n",
        "\n",
        "``` python\n",
        "with ZipFile('spam.zip', 'w') as myzip:\n",
        "    myzip.write('eggs.txt')\n",
        "```\n",
        "\n",
        "`write()` メソッドは複数のファイルやディレクトリを一度に圧縮することはでできないので、for 文での繰り返しにより 1 つずつファイルを追記モード（`mode='a'`）でアーカイブ化する必要がある。このときにディレクトリ構成を維持したいなら、`arcname` を相対パスで指定する必要がある。\n",
        "\n",
        "`zipfile.ZipInfo` オブジェクトの主な属性は次のとおり。\n",
        "\n",
        "| 属性 | 意味 |\n",
        "|:---|:---|\n",
        "| `filename` | アーカイブ中のファイルの名前 |\n",
        "| `date_time` | アーカイブ中のファイルの最終更新日時。西暦年（>= 1980）、月、日、時、分、秒を示す 6 要素タプル |\n",
        "| `compress_size` | 圧縮後のデータのサイズ |\n",
        "| `file_size` | 圧縮前のファイルのサイズ |\n",
        "\n",
        "`zipfile` パッケージはコマンドラインインターフェースを提供している。\n",
        "\n",
        "ZIP アーカイブを新規に作成したい場合、`-c` オプションの後にまとめたいファイルを列挙する:\n",
        "\n",
        "``` shell\n",
        "python -m zipfile -c monty.zip spam.txt eggs.txt\n",
        "```\n",
        "\n",
        "ディレクトリを渡すこともできる:\n",
        "\n",
        "``` shell\n",
        "python -m zipfile -c monty.zip mywork/\n",
        "```\n",
        "\n",
        "ZIP アーカイブを特定のディレクトリに展開したい場合、`-e` オプションを使用する:\n",
        "\n",
        "``` shell\n",
        "python -m zipfile -e monty.zip target-dir/\n",
        "```\n",
        "\n",
        "ZIP アーカイブ内のファイル一覧を表示するには `-l` オプションを使用する:\n",
        "\n",
        "``` shell\n",
        "python -m zipfile -l monty.zip\n",
        "```"
      ],
      "metadata": {
        "id": "MM4we3QvkS57"
      }
    },
    {
      "cell_type": "markdown",
      "source": [
        "tarfile\n",
        "-------"
      ],
      "metadata": {
        "id": "zaR3_cDaYDsn"
      }
    },
    {
      "cell_type": "markdown",
      "source": [
        "`shutil.make_archive()` 関数と `shutil.unpack_archive()` 関数は、  TAR 形式について標準ライブラリの `tarfile` モジュールを利用している。TAR 形式について細やかな処理を行う場合は、`tarfile` モジュールを直接使用する必要がある。\n",
        "\n",
        "``` python\n",
        "tarfile.is_tarfile(name)\n",
        "```\n",
        "\n",
        "この関数は、`name` が TAR 形式の場合 True を返し、そうでない場合 False を返す。`name` にはファイルのパス（文字列）かファイルオブジェクトを指定する。"
      ],
      "metadata": {
        "id": "4zhCMeGfYEhM"
      }
    },
    {
      "cell_type": "code",
      "source": [
        "import tarfile\n",
        "assert not tarfile.is_tarfile(\"./sample_data/README.md\")"
      ],
      "metadata": {
        "id": "jU22aHgVYGx6"
      },
      "execution_count": null,
      "outputs": []
    },
    {
      "cell_type": "markdown",
      "source": [
        "``` python\n",
        "tarfile.open(name=None, mode='r', fileobj=None, bufsize=10240, **kwargs)\n",
        "```\n",
        "\n",
        "この関数は、 `tarfile.TarFile` オブジェクトを返す。主な引数は次のとおり。\n",
        "\n",
        "| 引数 | 意味 |\n",
        "|:---|:---|\n",
        "| `name` | パス名。path-like object を使用できる |\n",
        "| `mode` | `'filemode:compression'` の形式をとる文字列を指定する。`:compression` は省略可能。`mode` の指定を省略した場合は非圧縮で読み込み用に開く<br /><br />・filemode:  `'r'`（読み込み）, `'w'`（新規作成）, `'a'`（追加）, `'x'`（既存でなければ新規作成）を指定できる<br /><br />・compression: `'gz'`（GZIP 圧縮）、`'bz2'`（BZIP2 圧縮）、`'xz'`（LZMA 圧縮）を指定できる。compression を省略した場合は非圧縮となる |\n",
        "\n",
        "たとえば、`mode='w:gz'` の場合、GZIP 圧縮で書き込み用に開く。\n",
        "\n",
        "`tarfile.TarFile` オブジェクトの主なメソッドは次のとおり。\n",
        "\n",
        "| メソッド | 機能 | 戻り値 |\n",
        "|:---|:---|:---|\n",
        "| `getnames()` | TAR ファイル内にアーカイブされているファイルの名前のリストを返す | `list` |\n",
        "| `getmember(name)` | TAR ファイル内にアーカイブされている `name` という名前のファイルに関する情報を持つ `tarfile.TarInfo` オブジェクトを返す | `TarInfo` |\n",
        "| `getmembers()` | TAR ファイル内にアーカイブされている各ファイルに関する `tarfile.TarInfo` オブジェクトのリストを返す | `list` |\n",
        "| `extractall(path='.', members=None,`<br />` *, numeric_owner=False, filter=None)` | アーカイブをカレントディレクトリに展開する。`path` に展開先のディレクトリを指定できる。`members` に `tarfile.TarInfo` オブ<br />ジェクトのリストを指定した場合、`members` だけを展開する | `None` |\n",
        "| `extractfile(member)` | アーカイブから `member` をファイルオブジェクトとして抽出する。`member` はファイル名か `tarfile.TarInfo` オブジェクト | ファイルオブジェクト |\n",
        "| `add(name, arcname=None, recursive=True,`<br />` *, filter=None)` | ファイル `name` を TAR ファイルに追加してアーカイブする。`arcname` を指定するとその名前でアーカイブする。`name` がディレク<br />トリの場合、`recursive` が `True`（デフォルト）なら再帰的に追加される | `None` |\n",
        "| `addfile(tarinfo, fileobj=None)` | `TarInfo` オブジェクト `tarinfo` をアーカイブに追加する | `None` |\n",
        "| `close()` | TAR ファイルを閉じる | `None` |\n",
        "\n",
        "`tarfile.TarFile` はコンテキストマネージャーにもなっているので、with 文をサポートする。次の例では、`mytar` は with 文のブロックが終了したときに、（たとえ例外が発生したとしても） `close()` メソッドが呼び出される:\n",
        "\n",
        "``` python\n",
        "with tarfile.open(\"archived.tar.gz\", mode=\"w:gz\") as mytar:\n",
        "    for name in [\"foo.txt\", \"bar.txt\", \"quux.txt\"]:\n",
        "        mytar.add(name)\n",
        "```\n",
        "\n",
        "`tarfile.TarInfo` オブジェクトの主な属性は次のとおり。\n",
        "\n",
        "| 属性 | 意味 |\n",
        "|:---|:---|\n",
        "| `name` | アーカイブ中のファイルの名前 |\n",
        "| `mtime` | アーカイブ中のファイルの最終更新日時となるエポック秒 |\n",
        "| `size` | ファイルサイズ |\n",
        "\n",
        "`tarfile ` モジュールはコマンドラインインターフェースを提供している。\n",
        "\n",
        "TAR アーカイブを新規に作成したい場合、`-c` オプションの後にまとめたいファイルを列挙する:\n",
        "\n",
        "``` shell\n",
        "python -m tarfile -c monty.tar spam.txt eggs.txt\n",
        "```\n",
        "\n",
        "ディレクトリを渡すこともできる:\n",
        "\n",
        "``` shell\n",
        "python -m tarfile -c monty.tar mywork/\n",
        "```\n",
        "\n",
        "TAR アーカイブをカレントディレクトリに展開したい場合、`-e` オプションを使用する:\n",
        "\n",
        "``` shell\n",
        "python -m tarfile -e monty.tar\n",
        "```\n",
        "\n",
        "ディレクトリ名を渡すことで TAR アーカイブを別のディレクトリに取り出すこともできる:\n",
        "\n",
        "``` python\n",
        "python -m tarfile -e monty.tar other-dir/\n",
        "```\n",
        "\n",
        "TAR アーカイブ内のファイル一覧を表示するには `-l` オプションを使用する:\n",
        "\n",
        "``` shell\n",
        "python -m tarfile -l monty.tar\n",
        "```"
      ],
      "metadata": {
        "id": "PWKgXnstwiNL"
      }
    }
  ]
}