{
  "nbformat": 4,
  "nbformat_minor": 0,
  "metadata": {
    "colab": {
      "provenance": [],
      "authorship_tag": "ABX9TyOx4EwnOoY2m/5XiXE/K2mN",
      "include_colab_link": true
    },
    "kernelspec": {
      "name": "python3",
      "display_name": "Python 3"
    },
    "language_info": {
      "name": "python"
    }
  },
  "cells": [
    {
      "cell_type": "markdown",
      "metadata": {
        "id": "view-in-github",
        "colab_type": "text"
      },
      "source": [
        "<a href=\"https://colab.research.google.com/github/suwatoh/Python-learning/blob/main/110_%E3%82%A4%E3%83%86%E3%83%AC%E3%83%BC%E3%82%BF%E3%83%BC%E3%81%A8%E3%82%B8%E3%82%A7%E3%83%8D%E3%83%AC%E3%83%BC%E3%82%BF%E3%83%BC.ipynb\" target=\"_parent\"><img src=\"https://colab.research.google.com/assets/colab-badge.svg\" alt=\"Open In Colab\"/></a>"
      ]
    },
    {
      "cell_type": "markdown",
      "source": [
        "イテレーターとジェネレーター\n",
        "============================"
      ],
      "metadata": {
        "id": "g8tbaiBNdib-"
      }
    },
    {
      "cell_type": "markdown",
      "source": [
        "イテラブル\n",
        "----------"
      ],
      "metadata": {
        "id": "ECSG8yP5cePK"
      }
    },
    {
      "cell_type": "markdown",
      "source": [
        "`collections.abc` モジュールは、コンテナ、イテラブル、コレクションなどの抽象基底クラスを提供している。あるクラス `C` がどの型であるかは、組み込み関数 `issubclass()` の第2引数に抽象基底クラス（ABC）を渡した `issubclass(C, ABC)` により判定できる。\n",
        "\n",
        "| 型 | 意味 | ABC | 継承しているクラス | 抽象メソッド | mixin メソッド |\n",
        "|:--:|:---|:--:|:--:|:---|:---|\n",
        "| コンテナ | オブジェクトを格納するオブジェクト | Container | | `__contains__`（組み込み演算子 `in` によって呼び出される） | |\n",
        "| イテラブル | 要素を一度に1つずつ返せるオブジェクト | Iterable | | `__iter__`（組み込み関数 `iter()` によって呼び出される） | |\n",
        "| コレクション | サイズ付きのイテラブルなコンテナ | Collection | Sized,<br />Iterable,<br />Container | `__contains__`, <br />`__iter__`, <br />`__len__`（組み込み関数 `len()` によって呼び出される） | |\n",
        "| シーケンス | インデックスで要素を参照できるコレク<br />ション | Sequence | Reversible, <br />Collection | `__len__`, <br />`__getitem__`（添字表記 `x[i]` によって呼び出される） | `__contains__`, `__iter__`, <br />`__reversed__`, `index`, `count` |\n",
        "| マッピング | キー探索をサポートするコレクション | Mapping | Collection | `__iter__`, <br />`__len__`, <br />`__getitem__`（添字表記 `x[key]` によって呼び出される） | `__contains__`, `keys`, `items`, <br />`values`, `get`, `__eq__`, `__ne__` |\n",
        "| 辞書ビュー | もとのオブジェクトへの参照をもつイテラ<br />ブル | KeysView, <br/>ValuesView, <br/>ItemsView | MappingView, <br/>Set (ItemsView<br/> は Collection) | | `__contains__`, `__iter__` |\n",
        "\n",
        "イテラブルは、次のような場面で使われるオブジェクトである。\n",
        "\n",
        "  * for ループによる反復処理\n",
        "  * 代入でのアンパック\n",
        "  * `list()`、`tuple()`、`set()`、`frozenset()`、`dict()` などのコンストラクタの引数として渡される\n",
        "  * 組み込み関数 `all()`、`any()`、`max()`、`min()`、`sorted()`、`sum()` の引数として渡される\n",
        "\n",
        "コンテナとイテラブルが提供するインターフェースは重ならない。したがって、イテラブルでないコンテナ（つまり、反復処理ができないコンテナ）や、コンテナでないイテラブル（つまり、オブジェクトを格納しないイテラブル）というのもある。組み込みコンテナや辞書ビューについては、次のとおり。\n",
        "\n",
        "  * `set` と `frozenset` はコレクションであり、イテラブルとして要素を 1 つずつ返す。とくに、`set` はミュータブルで、`frozenset` はイミュータブルである。\n",
        "  * `list` と `tuple`、`range` はシーケンスであり、イテラブルとして要素を 1 つずつ返す。とくに、`list` はミュータブルで、それ以外はイミュータブルである。\n",
        "  * `str` と `bytes` はイミュータブルなシーケンスであり、`str` はイテラブルとして 1 文字ずつ返し、`bytes` はイテラブルとして 1 バイトずつ返す。\n",
        "  * `dict` はミュータブルなマッピングであり、イテラブルとしてキーを 1 つずつ返す。`in` 演算子はキーに対する結果となる。\n",
        "  * 辞書ビューは、マッピングオブジェクトの `keys()` メソッド、`values()` メソッド、`items()`  メソッドが返すオブジェクトである。コレクションに似ているが、自身に要素を保持せずに元のオブジェクトへの参照を保っているだけのイテラブルである。`len()` 関数に渡すと要素数が得られる。\n",
        "\n",
        "\n",
        "\n"
      ],
      "metadata": {
        "id": "ap-ZLTvhdk3s"
      }
    },
    {
      "cell_type": "code",
      "source": [
        "assert list('abc') == ['a', 'b', 'c']\n",
        "assert list((1, 2, 3)) == [1, 2, 3]\n",
        "assert list([1, 2, 3]) == [1, 2, 3]  # リストがネストされるわけではない\n",
        "\n",
        "assert tuple('abc') == ('a', 'b', 'c')\n",
        "assert tuple((1, 2, 3)) == (1, 2, 3)  # タプルがネストされるわけではない\n",
        "assert tuple([1, 2, 3]) == (1, 2, 3)\n",
        "\n",
        "assert set('abc') == {'a', 'b', 'c'}  # 要素の並び順序は無視\n",
        "assert set([1, 2, 3]) == {1, 2, 3}  # 要素の並び順序は無視\n",
        "\n",
        "assert dict([('foo', 100), ('bar', 200)]) == dict(foo=100, bar=200)\n",
        "assert list(dict(foo=100, bar=200)) == ['foo', 'bar']\n",
        "\n",
        "assert all(range(10)) == False  # 全ての要素が真ならば (もしくは空ならば) True\n",
        "assert any(range(10)) == True  # いずれかの要素が真ならば True\n",
        "assert max(range(10)) == 9  # 最大の要素\n",
        "assert min(range(10)) == 0  # 最小の要素\n",
        "assert sum(range(10)) == 45  # 要素を左から右へ合計\n",
        "\n",
        "it = tuple('Python')  # ('P', 'y', 't', 'h', 'o', 'n')\n",
        "assert sorted(it) == ['P', 'h', 'n', 'o', 't', 'y']  # イテラブルの要素を並べ替えた新たなリストを返す\n",
        "assert sorted(it, key=str.lower) == ['h', 'n', 'o', 'P', 't', 'y']  # key は1つの引数を受け取る呼び出し可能オブジェクトで、要素を変換する\n",
        "assert sorted(it, reverse=True) == ['y', 't', 'o', 'n', 'h', 'P']  # reverse が True の場合、比較が反転したものとして並び替えられる"
      ],
      "metadata": {
        "id": "n-Wt8DsjEgYN"
      },
      "execution_count": null,
      "outputs": []
    },
    {
      "cell_type": "markdown",
      "source": [
        "イテレーター\n",
        "------------"
      ],
      "metadata": {
        "id": "gbAogcQ8cioL"
      }
    },
    {
      "cell_type": "markdown",
      "source": [
        "**イテラブル**（**反復可能オブジェクト**ともいう）の厳密な定義は、「`__iter__()` メソッドを持ち、その `__iter__()` メソッドがイテレーターを返すようなオブジェクト」である。\n",
        "\n",
        "**イテレーター**（iterator）とは、イテレータープロトコル（iterator protocol）をサポートするオブジェクトのことをいう。イテレータープロトコルは、次の三つの規則からなる。\n",
        "\n",
        "  1. `__next__()` メソッドは、次の要素を返す。\n",
        "  2. `__next__()` メソッドは、次の要素がないとき、`StopIteration` 例外を送出する。\n",
        "  3. `__iter__()` メソッドは、自身を返す。\n",
        "\n",
        "イテレータープロトコルは、要素を列挙する手段を独立に用意するというイテレーターパターン（デザインパターンの 1 つ）を Python の言語仕様に組み込んだものである。\n",
        "\n",
        "`StopIteration` 例外オブジェクトは `value` 属性を持つ。 `value` 属性の値は、インスタンス化の際にコンストラクタ引数として与えられ、デフォルトは `None` である。\n",
        "\n",
        "次の例は、`Count3Do` が `limit` までの 3 の倍数と 3 が付く自然数を返すイテレーターのクラスで、 `Gain3Do` がイテラブルのクラスである。"
      ],
      "metadata": {
        "id": "e2EhQQWBeUkZ"
      }
    },
    {
      "cell_type": "code",
      "source": [
        "from collections.abc import Iterable, Iterator\n",
        "\n",
        "\n",
        "class Count3Do:\n",
        "    \"\"\"3の倍数と3が付く数を数え上げる\"\"\"\n",
        "\n",
        "    def __init__(self, limit=100):\n",
        "        self.limit = limit\n",
        "        self.counter = 0\n",
        "\n",
        "    def __next__(self):\n",
        "        while True:\n",
        "            self.counter += 1\n",
        "            if self.counter > self.limit:\n",
        "                raise StopIteration()\n",
        "            if self.counter % 3 == 0:\n",
        "                break\n",
        "            elif \"3\" in str(self.counter):\n",
        "                break\n",
        "        return self.counter\n",
        "\n",
        "    def __iter__(self):\n",
        "        return self\n",
        "\n",
        "\n",
        "class Gain3Do:\n",
        "    \"\"\"3の倍数と3が付く数を得る\"\"\"\n",
        "\n",
        "    def __init__(self, limit=100):\n",
        "        self.limit = limit\n",
        "\n",
        "    def __iter__(self):\n",
        "        return Count3Do(self.limit)\n",
        "\n",
        "\n",
        "assert issubclass(Count3Do, Iterator)\n",
        "assert issubclass(Gain3Do, Iterable)\n",
        "\n",
        "it = Gain3Do(50)\n",
        "for n in it:\n",
        "    print(n, end=\" \")"
      ],
      "metadata": {
        "colab": {
          "base_uri": "https://localhost:8080/"
        },
        "id": "Mt0rVlMLeZyW",
        "outputId": "10494dc0-228e-450f-8525-1c9bc348340d"
      },
      "execution_count": null,
      "outputs": [
        {
          "output_type": "stream",
          "name": "stdout",
          "text": [
            "3 6 9 12 13 15 18 21 23 24 27 30 31 32 33 34 35 36 37 38 39 42 43 45 48 "
          ]
        }
      ]
    },
    {
      "cell_type": "markdown",
      "source": [
        "Python のインタープリターは、for 文に対して、次の一連の操作を自動的に行う：\n",
        "\n",
        "  1. `in` の右にある式を一度だけ評価し、評価結果としてイテラブルを得ると、`_iter__()` メソッドを呼び出してイテレーターを取得する。\n",
        "  2. イテレーターの `__next__()` メソッドを呼び出して次の要素を取得し、`in` の左にある変数に代入する。for 文の本体を実行する。\n",
        "  3. 2を繰り返す。StopIteration 例外を捕捉したら、ループを停止し、else 節があれば実行する。StopIteration 例外を捕捉するまえに `break` を実行したときには、ループを中断し、else 節を実行しない。\n",
        "\n",
        "組み込み関数 `iter()` はイテラブルを引数に取り実行するとき、`__iter__()` メソッドを呼び出すことにより、イテレーターを取得する。\n",
        "\n",
        "組み込み関数 `next()` はイテレーターを引数に取り実行するとき、`__next__()` メソッドを呼び出すことにより、次の要素を取得する。`next()` は第 2 引数を取ることができ、StopIteration 例外を捕捉した場合に第 2 引数の値を返す（StopIteration 例外は送出されない）。\n",
        "\n",
        "したがって、上記コードの for 文は、次の while 文と等価である："
      ],
      "metadata": {
        "id": "teFEpopKpX9Y"
      }
    },
    {
      "cell_type": "code",
      "source": [
        "it = Gain3Do(50)\n",
        "n_iter = iter(it)\n",
        "while True:\n",
        "    try:\n",
        "        print(next(n_iter), end=\" \")\n",
        "    except StopIteration:\n",
        "        del n_iter\n",
        "        break"
      ],
      "metadata": {
        "colab": {
          "base_uri": "https://localhost:8080/"
        },
        "id": "AxLxyWp5pZSN",
        "outputId": "56e71e7b-1147-4354-b11d-033634b599ae"
      },
      "execution_count": null,
      "outputs": [
        {
          "output_type": "stream",
          "name": "stdout",
          "text": [
            "3 6 9 12 13 15 18 21 23 24 27 30 31 32 33 34 35 36 37 38 39 42 43 45 48 "
          ]
        }
      ]
    },
    {
      "cell_type": "markdown",
      "source": [
        "ここで、二つの疑問が浮かぶ。\n",
        "\n",
        "一つ目の疑問。`Count3Do` クラスの `__iter__()` メソッドは何の役にも立っておらず、不要ではないか？ 確かに、`Count3Do` クラスの定義から `__iter__()` メソッドの記述をコメントアウトしても、for 文は問題なく動作する。こうするとイテレータープロトコル違反なので、当然 `issubclass(Count3Do, Iterator)` は `False` を返す。\n",
        "\n",
        "二つ目の疑問。イテレーター自身が `__iter__()` メソッドを提供しなければならないのなら、それ自身をイテラブルとして使えば済むのではないか？ つまり、`Count3Do` クラスだけ用意すれば、`Gain3Do` クラスは不要ではないか？ 確かに、`Count3Do` クラスのインスタンスに対して、for 文を実行しても、同じ結果を得ることができる。しかしながら、`Count3Do` クラスのインスタンスにもう一度 for 文を実行すると、何も得られない。これは、一度目の for 文の時点で、イテレーターは尽きており、それ以降は `__next__()` を何度呼んでも StopIteration 例外を送出するからである。`Gain3Do` クラスのインスタンスの `__iter__()` メソッドは毎回イテレーターオブジェクトを生成して返すから、このような問題は起こらない。\n"
      ],
      "metadata": {
        "id": "OlBJ2AJ2yMu7"
      }
    },
    {
      "cell_type": "code",
      "source": [
        "# Count3Do をイテラブルとして使う\n",
        "it = Count3Do(50)\n",
        "for n in it:\n",
        "    print(n, end=\" \")\n",
        "else:\n",
        "    print(\"\\n--------\")\n",
        "# もう一度 for 文を実行\n",
        "for n in it:\n",
        "    print(n, end=\" \")  # 実際には実行されない\n",
        "try:\n",
        "    print(next(it))  # next() で次の要素を取得しようとすると？\n",
        "except StopIteration:\n",
        "    print(f\"上限 {it.limit} に達しました。もう返すものがありません\")"
      ],
      "metadata": {
        "colab": {
          "base_uri": "https://localhost:8080/"
        },
        "id": "DpAugWJfyRq2",
        "outputId": "ad36760a-38a8-4073-d601-929302218092"
      },
      "execution_count": null,
      "outputs": [
        {
          "output_type": "stream",
          "name": "stdout",
          "text": [
            "3 6 9 12 13 15 18 21 23 24 27 30 31 32 33 34 35 36 37 38 39 42 43 45 48 \n",
            "--------\n",
            "上限 50 に達しました。もう返すものがありません\n"
          ]
        }
      ]
    },
    {
      "cell_type": "markdown",
      "source": [
        "このように、**イテレーターは使い捨てオブジェクトというべきものである**。このことは、コンテナに直接イテレータープロトコルをサポートさせる場合に問題を起こす。データを格納するコンテナが一度しか反復処理できないというのは、不便である。コレクションを実装するなら、ちゃんとイテレータークラスを分けて実装せよ、ということである。`list` などの組み込みコレクションは、そのように実装されている。\n",
        "\n",
        "一方、コンテナではないイテラブルは、必要な場面で、そのたびごとに生成すればよいであろう。反復処理をさせるためだけのオブジェクトを実装するケースでは、イテレータークラスとイテラブルクラスを分けて実装するのはむしろ冗長に思える。3 の倍数と 3 が付く数を数え上げる例がまさにそのような場合である。"
      ],
      "metadata": {
        "id": "wTUdEb9qyyeZ"
      }
    },
    {
      "cell_type": "markdown",
      "source": [
        "ジェネレーター\n",
        "--------------"
      ],
      "metadata": {
        "id": "-bkDrgkecrPL"
      }
    },
    {
      "cell_type": "markdown",
      "source": [
        "Python はクラスを使用せずにイテレーターを簡潔に記述する仕組みを用意している。それがジェネレーターである。\n",
        "\n",
        "**ジェネレーター**（generator）は、イテレーターを返す関数である。通常の関数に似ているが、 yield 式または yield 文を持つ点で異なる。ジェネレーターが返すイテレーターを**ジェネレーターオブジェクト**または**ジェネレーターイテレーター**と呼ぶ。ジェネレーターオブジェクトを簡単にジェネレーターと呼ぶこともある（区別のため関数のほうを**ジェネレーター関数**と呼ぶ）。\n",
        "\n",
        "ジェネレーターオブジェクトは、イテレーターとして機能するために以下のような性質を持つ。\n",
        "\n",
        "  * 実行状態を持つ。ここで実行状態とは、実行位置やローカル変数、未処理の try 文などである。\n",
        "  * yield 式のたびに実行状態を記憶し、処理を一時的に中断する。\n",
        "  * `__next__()` メソッドによりジェネレーターオブジェクトが再開されると、中断した位置を取得する──通常の関数が実行のたびに新しい状態から開始するのと対照的である。\n",
        "  * `__next__()` メソッドは yield 式の評価結果を返す。関数の最後または return 文に到達した場合には `StopIteration` 例外を送出する。return 文に書いた式の値は、 `StopIteration` の `value` 属性に格納される。\n",
        "\n",
        "ジェネレーターの呼び出しは、return 文の結果が返されるのではなく、ジェネレーターオブジェクトが返されることに注意する。"
      ],
      "metadata": {
        "id": "wqpu7U-Dnx9_"
      }
    },
    {
      "cell_type": "code",
      "source": [
        "def my_gen():\n",
        "    print(\"#\" * 10)\n",
        "    yield \"ホップ\"\n",
        "    print(\"-\" * 10)\n",
        "    yield \"ステップ\"\n",
        "    print(\"=\" * 10)\n",
        "    return \"何か書いとけ\"\n",
        "    yield \"ジャンプ\"\n",
        "\n",
        "my_gen()"
      ],
      "metadata": {
        "colab": {
          "base_uri": "https://localhost:8080/"
        },
        "id": "9b_0IZ61naOP",
        "outputId": "399a0d39-3779-4871-b871-f3ae37bc3118"
      },
      "execution_count": null,
      "outputs": [
        {
          "output_type": "execute_result",
          "data": {
            "text/plain": [
              "<generator object my_gen at 0x7dddbb0e9d20>"
            ]
          },
          "metadata": {},
          "execution_count": 5
        }
      ]
    },
    {
      "cell_type": "markdown",
      "source": [
        "`my_gen()` を呼び出すと、ジェネレーターオブジェクトが返されることがわかる。 `__next__()` メソッドと `__iter__()` メソッドは自動的に定義される:"
      ],
      "metadata": {
        "id": "uI-H-mc1sHHO"
      }
    },
    {
      "cell_type": "code",
      "source": [
        "generator = my_gen()\n",
        "assert hasattr(generator, '__next__')\n",
        "assert hasattr(generator, '__iter__')\n",
        "assert generator.__iter__() == generator"
      ],
      "metadata": {
        "id": "61GlX2zqwKgm"
      },
      "execution_count": null,
      "outputs": []
    },
    {
      "cell_type": "markdown",
      "source": [
        "`__next__()` メソッドの振る舞いを確認するため、このジェネレーターオブジェクトに対して `next()` 関数を実行してみる:"
      ],
      "metadata": {
        "id": "oCoDJx0Hwyho"
      }
    },
    {
      "cell_type": "code",
      "source": [
        "print(f\"1: {next(generator)}\")\n",
        "print(f\"2: {next(generator)}\")\n",
        "try:\n",
        "    print(f\"3: {next(generator)}\")\n",
        "except StopIteration as err:\n",
        "    print(f\"{type(err).__name__}： {err.value=}\")"
      ],
      "metadata": {
        "colab": {
          "base_uri": "https://localhost:8080/"
        },
        "id": "K2qOm21WsJ-y",
        "outputId": "3ebb4886-4aa8-47ff-cefa-53ef7cb335b3"
      },
      "execution_count": null,
      "outputs": [
        {
          "output_type": "stream",
          "name": "stdout",
          "text": [
            "##########\n",
            "1: ホップ\n",
            "----------\n",
            "2: ステップ\n",
            "==========\n",
            "StopIteration： err.value='何か書いとけ'\n"
          ]
        }
      ]
    },
    {
      "cell_type": "markdown",
      "source": [
        "最初に `next(generator)` を呼び出すと、`my_gen()` の関数定義を最初の yield 文に到達するまで実行し、文字列 \"ホップ\" が返される。再び `next(generator)` を呼び出すと、yield 文から再開し二つ目の yield 文に到達して文字列 \"ステップ\" が返される。再び `next(generator)` を呼び出すと、二つ目の yield 文から再開し return 文の箇所でその値を引数として `StopIteration` 例外が送出される。このように、yield 式または yield 文に到達することなくジェネレーターが終了したときには、`StopIteration` 例外が送出される。このあと `next(generator)` を呼び出しても return 文から再開するから直ちに StopIteration 例外が送出される。\n",
        "\n",
        "3 の倍数と 3 が付く数を数え上げるジェネレーターは、次のように書ける。"
      ],
      "metadata": {
        "id": "q-46UfFNtHwp"
      }
    },
    {
      "cell_type": "code",
      "source": [
        "def Count3DoGen(limit=100):\n",
        "    \"\"\"3の倍数と3が付く数を数え上げる\"\"\"\n",
        "    counter = 0\n",
        "    while True:\n",
        "        counter += 1\n",
        "        if counter > limit:\n",
        "            return\n",
        "        if counter % 3 == 0:\n",
        "            yield counter\n",
        "        elif \"3\" in str(counter):\n",
        "            yield counter\n",
        "\n",
        "\n",
        "for n in Count3DoGen(50):\n",
        "    print(n, end=\" \")"
      ],
      "metadata": {
        "colab": {
          "base_uri": "https://localhost:8080/"
        },
        "id": "WDqMdHn5nymn",
        "outputId": "0f0f50da-229a-47df-b8a1-38dd89ffdbc0"
      },
      "execution_count": null,
      "outputs": [
        {
          "output_type": "stream",
          "name": "stdout",
          "text": [
            "3 6 9 12 13 15 18 21 23 24 27 30 31 32 33 34 35 36 37 38 39 42 43 45 48 "
          ]
        }
      ]
    },
    {
      "cell_type": "markdown",
      "source": [
        "### 遅延評価 ###"
      ],
      "metadata": {
        "id": "VF-HVvSSIct2"
      }
    },
    {
      "cell_type": "markdown",
      "source": [
        "\n",
        "ジェネレーターオブジェクトはイテレーターなので、使い捨てとなる。そもそも、ジェネレーターを使う場面は、コンテナを必要とせず反復処理だけ行いたい場合なので、使い捨てでも問題ない。逆に、このような場面でイテラブルなコンテナを使うと、コンテナを生成する分、メモリを多く消費することになって効率が悪い。\n",
        "\n",
        "たとえば、3 の倍数と 3 が付く数を数え上げる処理は、リストを生成する形で次のようにも書ける。"
      ],
      "metadata": {
        "id": "XXpSQR1bId7q"
      }
    },
    {
      "cell_type": "code",
      "source": [
        "def find_3do(limit=100):\n",
        "    n = 1\n",
        "    ret = []\n",
        "    while n <= limit:\n",
        "        if n % 3 == 0:\n",
        "            ret.append(n)\n",
        "        elif \"3\" in str(n):\n",
        "            ret.append(n)\n",
        "        n += 1\n",
        "    return ret\n",
        "\n",
        "\n",
        "ns = find_3do(50)  # サイズ25のリストを生成する\n",
        "print(ns)"
      ],
      "metadata": {
        "colab": {
          "base_uri": "https://localhost:8080/"
        },
        "id": "_BCu8TpkncEb",
        "outputId": "7444dc46-e352-41d9-e95e-937f7511ab0d"
      },
      "execution_count": null,
      "outputs": [
        {
          "output_type": "stream",
          "name": "stdout",
          "text": [
            "[3, 6, 9, 12, 13, 15, 18, 21, 23, 24, 27, 30, 31, 32, 33, 34, 35, 36, 37, 38, 39, 42, 43, 45, 48]\n"
          ]
        }
      ]
    },
    {
      "cell_type": "markdown",
      "source": [
        "`sys.getsizeof()` 関数を使用して、引数 `limit` をデフォルト（100）で、`Count3DoGen()` 関数が生成するジェネレータオブジェクトと、`find_3do()` 関数が生成するリストのメモリ消費量を比較すると、後者は前者の4倍以上もある。`limit` を増やす場合、`Count3DoGen()` 関数が生成するジェネレータオブジェクトのメモリ消費量は増えないが、`find_3do()` 関数が生成するリストはサイズが増えてメモリ消費量も増える。"
      ],
      "metadata": {
        "id": "wE5DUNwwlGuU"
      }
    },
    {
      "cell_type": "code",
      "source": [
        "import sys\n",
        "\n",
        "print(f\"{sys.getsizeof(Count3DoGen())=}bytes\")\n",
        "print(f\"{sys.getsizeof(find_3do())=}bytes\")\n",
        "\n",
        "print(f\"{sys.getsizeof(Count3DoGen(1000))=}bytes\")\n",
        "print(f\"{sys.getsizeof(find_3do(1000))=}bytes\")"
      ],
      "metadata": {
        "colab": {
          "base_uri": "https://localhost:8080/"
        },
        "id": "Upy7TxfJocZ4",
        "outputId": "5f1d3e66-2035-407f-a1f6-d6a33404a07e"
      },
      "execution_count": null,
      "outputs": [
        {
          "output_type": "stream",
          "name": "stdout",
          "text": [
            "sys.getsizeof(Count3DoGen())=104bytes\n",
            "sys.getsizeof(find_3do())=472bytes\n",
            "sys.getsizeof(Count3DoGen(1000))=104bytes\n",
            "sys.getsizeof(find_3do(1000))=4216bytes\n"
          ]
        }
      ]
    },
    {
      "cell_type": "markdown",
      "source": [
        "メモリ消費量の違いは、ジェネレーターが必要なときだけ値を計算するために生じる。このように、値が必要になるまで計算しないことを**遅延評価**（lazy evaluation）という。遅延評価は、必要のない値を計算する無駄を省略するという利点もある。他方、`len()` 関数を使用して全体の要素数を知ることはできない。生成される要素のサイズを知りたい場合は、`list()` でリストオブジェクトに変換しておく必要がある。"
      ],
      "metadata": {
        "id": "4Q1qsQEUIkuB"
      }
    },
    {
      "cell_type": "markdown",
      "source": [
        "### ジェネレーターオブジェクトのメソッド ###"
      ],
      "metadata": {
        "id": "4Pf70L8-tZtp"
      }
    },
    {
      "cell_type": "markdown",
      "source": [
        "ジェネレーターオブジェクトは、普通のイテレーターより機能が拡張され、以下のメソッドも持つ。\n",
        "\n",
        "| メソッド | 機能 | 戻り値 |\n",
        "|:---|:---|:---|\n",
        "| `send(value)` | ジェネレーター関数の内部へ値 `value` を「送り」、実行を再開する。引数の `value` はその時点の yield 式の結果になる。`send()` メソッドは次にジェネレーターが生成<br />した値を返し、ジェネレーターが次の値を生成することなく終了すると `StopIteration` を送出する | 次の値 |\n",
        "| `throw(value)` | `value` に例外インスタンスを指定すると、ジェネレーターが中断した位置でその例外を発生させる。このとき、発生させた例外をジェネレーター関数内部で処理して<br />実行を続けると、yield 式によって次の値が呼び出した側に返される。yield 式に到達しなければ、`StopIteration` 例外が発生する。発生させた例外をジェネレーター<br />関数内部で処理しない場合、もしくは違う例外を発生させるなら、その例外は呼び出し元へ伝搬される | 次の値 |\n",
        "| `close()` | ジェネレーターが中断した位置で、`GeneratorExit` 例外を発生させる。この例外は呼び出し元に伝播しない。ジェネレーターが普通に、または例外により既に終了して<br />いる場合、`close()` は何も行わない | `None` |\n",
        "\n",
        "`send()` メソッドは、ジェネレーターを再開するという点では `__next__()` メソッドと同じであるが、先に再開位置にある yield 式に「値を送る」。\n",
        "\n",
        "yield 文ではなく yield 式 `(yield <expr>)` を使うと、expr の値を yield すると同時に、yield 式自体の評価結果として値が得られる。`__next__()` メソッドを呼ぶときは、yield 式の値として `None` が得られる。一方、`send(value)` を呼ぶときは、yield 式の値として `value` が得られる。ただし、最初に（`__next__()` メソッドではなく）いきなり`send()` メソッドを呼び出してジェネレーターを開始する場合は、値を受け取る yield 式が存在しないので、 `None` を引数として呼び出さなければならない。\n",
        "\n",
        "なお、yield 演算子の優先順位は低いので yield 式の前後に必ず括弧を付けるようにするのが無難。\n",
        "\n",
        "以下のコードにあるのは 1 ずつ増える単純なカウンターであるが、`val = (yield i)` として yield 式の値を変数 `val` に保存し利用している。"
      ],
      "metadata": {
        "id": "_Poou5wyhh6U"
      }
    },
    {
      "cell_type": "code",
      "source": [
        "def counter(maximum):\n",
        "    i = 1\n",
        "    while i <= maximum:\n",
        "        val = (yield i)\n",
        "        if val is not None:\n",
        "            i = val\n",
        "        else:\n",
        "            i += 1\n",
        "\n",
        "def main():\n",
        "    generator = counter(3)  # 3 までカウント\n",
        "    print(f\"1: {next(generator)=}\")\n",
        "    print(f\"2: {next(generator)=}\")\n",
        "    print(f\"3: {generator.send(0)=}\")  # カウントを 0 に設定\n",
        "    print(f\"4: {next(generator)=}\")\n",
        "    try:\n",
        "        print(f\"5: {generator.send(4)=}\")  # カウントを 4 に設定\n",
        "    except StopIteration:\n",
        "        print(\"カウントできません\")\n",
        "\n",
        "if __name__ == \"__main__\":\n",
        "    main()"
      ],
      "metadata": {
        "colab": {
          "base_uri": "https://localhost:8080/"
        },
        "id": "HC-0tu8ItdeP",
        "outputId": "92942944-e607-4fc4-9fcc-22149d7c9c32"
      },
      "execution_count": null,
      "outputs": [
        {
          "output_type": "stream",
          "name": "stdout",
          "text": [
            "1: next(generator)=1\n",
            "2: next(generator)=2\n",
            "3: generator.send(0)=0\n",
            "4: next(generator)=1\n",
            "カウントできません\n"
          ]
        }
      ]
    },
    {
      "cell_type": "markdown",
      "source": [
        "`main()` 関数の 4 行目以降の処理は以下のようになる:\n",
        "\n",
        "  1. `print(f\"3: {generator.send(0)=}\")`:  \n",
        "`generator.send(0)` を呼び出す。ジェネレーターは、`val = (yield i)` の行から再開するが、再開する前に `(yield i)` の評価として `0` が得られ `val` に代入される。再開して if 文で `i = val` が実行され、カウンタ変数 `i` は `0` となる。while ループを続けて `val = (yield i)` の行に達すると、`i` の値 `0` が yield されて中断する。`main()` 関数に戻り、標準出力に印字する。\n",
        "  2. `print(f\"4: {next(generator)=}\")`:  \n",
        "`next(generator)` を呼び出す。ジェネレーターは、`val = (yield i)` の行から再開するが、再開する前に `(yield i)` の評価として `None` が得られ `val` に代入される。再開して else 節で `i += 1` が実行され、カウンタ変数 `i` は `1` となる。while ループを続けて `val = (yield i)` の行に達すると、`i` の値 `1` が yield されて中断する。`main()` 関数に戻り、標準出力に印字する。\n",
        "  3. `print(f\"5: {generator.send(4)=}\")`:  \n",
        "`generator.send(4)` を呼び出す。ジェネレーターは、`val = (yield i)` の行から再開するが、再開する前に `(yield i)` の評価として `4` が得られ `val` に代入される。再開して if 文で `i = val` が実行され、カウンタ変数 `i` は `4` となる。while ループが条件により終了する。ジェネレーターが終了し、`StopIteration` 例外が送出される。`main()` 関数に戻り、例外処理が行われる。\n",
        "\n",
        "`counter()` は内部で例外処理を行わないので、 `throw()` メソッドで例外を投げると、その例外がそのまま呼び出し元へ伝播される。以下は `throw()` メソッドを使用してカウンターの処理を終了させる例である:"
      ],
      "metadata": {
        "id": "wgHWr0EiEIOx"
      }
    },
    {
      "cell_type": "code",
      "source": [
        "generator = counter(100)  # 100 までカウント\n",
        "try:\n",
        "    for n in generator:\n",
        "        print(n)\n",
        "        if n > 2:\n",
        "            generator.throw(ValueError(\"Invalid Value\"))\n",
        "except ValueError as err:\n",
        "    print(err)"
      ],
      "metadata": {
        "colab": {
          "base_uri": "https://localhost:8080/"
        },
        "id": "3y3Zq2LSx2wd",
        "outputId": "e6c0b23d-1ee0-4dd7-e582-638f283c45cf"
      },
      "execution_count": null,
      "outputs": [
        {
          "output_type": "stream",
          "name": "stdout",
          "text": [
            "1\n",
            "2\n",
            "3\n",
            "Invalid Value\n"
          ]
        }
      ]
    },
    {
      "cell_type": "markdown",
      "source": [
        "`close()` メソッドは `GeneratorExit` 例外を発生させるが、`GeneratorExit` 例外は一般的な例外階層には属していないことに注意する。つまり、`GeneratorExit` 例外は一般的な `Exception` 例外では捕捉できない。以下のコードのように、finally 節に後始末（リソースの解放など）をするコードを記述しておくと、`close()` でもそのコードが確実に実行される。"
      ],
      "metadata": {
        "id": "o-SBivDDDf9u"
      }
    },
    {
      "cell_type": "code",
      "source": [
        "def echo(value=None):\n",
        "    try:\n",
        "        while True:\n",
        "            try:\n",
        "                value = (yield value)\n",
        "            except Exception as e:\n",
        "                value = e\n",
        "    finally:\n",
        "        print(\"終了\")\n",
        "\n",
        "generator = echo(1)\n",
        "assert next(generator) == 1\n",
        "# next() 関数で呼び出すと yield 式の値は None となる\n",
        "assert next(generator) is None\n",
        "# send() メソッドで yield 式の値を送る\n",
        "assert generator.send(2) == 2\n",
        "# 例外を投げる\n",
        "e = generator.throw(TypeError, \"spam\")\n",
        "assert e.__class__.__name__ == \"TypeError\"\n",
        "assert str(e) == \"spam\"\n",
        "# echo の内部で例外が処理されるのでジェネレーターは終了しない\n",
        "assert generator.send(3) == 3\n",
        "# close() メソッドで finally 節が実行される（リソース解放などの後始末が可能）\n",
        "generator.close()"
      ],
      "metadata": {
        "colab": {
          "base_uri": "https://localhost:8080/"
        },
        "id": "n1DPCH2oDg9r",
        "outputId": "e2e595f0-0241-4074-ff94-e3d56602dae7"
      },
      "execution_count": null,
      "outputs": [
        {
          "output_type": "stream",
          "name": "stdout",
          "text": [
            "終了\n"
          ]
        }
      ]
    },
    {
      "cell_type": "markdown",
      "source": [
        "`close()` メソッドは、ジェネレーターが開始され、終了する前に削除された場合に、自動的に呼び出される。"
      ],
      "metadata": {
        "id": "KuMXW5JC0c4A"
      }
    },
    {
      "cell_type": "code",
      "source": [
        "generator = echo(1)\n",
        "next(generator)\n",
        "del generator"
      ],
      "metadata": {
        "colab": {
          "base_uri": "https://localhost:8080/"
        },
        "id": "gNRnL2zrFqrT",
        "outputId": "55b7cd0c-2ea7-475a-bfeb-bb01e7f2b926"
      },
      "execution_count": null,
      "outputs": [
        {
          "output_type": "stream",
          "name": "stdout",
          "text": [
            "終了\n"
          ]
        }
      ]
    },
    {
      "cell_type": "markdown",
      "source": [
        "### サブジェネレーター ###"
      ],
      "metadata": {
        "id": "vSJOeNkWHegT"
      }
    },
    {
      "cell_type": "markdown",
      "source": [
        "yield 式には、もう一つの形式がある。それは次のような構文である。\n",
        "\n",
        "``` python\n",
        "yield from <expr>\n",
        "```\n",
        "\n",
        "expr は評価結果がイテラブルとなる式でなければならない。そのイテラブルを反復処理することで生成された値は呼び出し元に返される。yield from 式で使用するイテラブルがジェネレーターの場合、このジェネレーターを**サブジェネレーター**と呼ぶ。yield from 式でサブジェネレーターを利用することを「**サブジェネレーターへの委譲**」と表現する。委譲されたサブジェネレーターは、さらに yield from 式で委譲できる。こうしてジェネレーターの処理が連鎖することから、サブジェネレーターへの委譲が行われることを「**ジェネレーターの鎖（チェーン）**」と表現する。\n",
        "\n",
        "サブジェネレーターへの委譲は、サブジェネレーターが全ての値を取り尽くすまで完了しないことに注意する。つまり、ジェネレーターはサブジェネレーターへの委譲のところで中断し、サブジェネレーターへの委譲が完了した後、残りの処理が再開する。\n",
        "\n",
        "簡単な例を以下に示す。"
      ],
      "metadata": {
        "id": "C0tUGA3MHfC8"
      }
    },
    {
      "cell_type": "code",
      "source": [
        "def sample_geniter():\n",
        "    yield from range(4)\n",
        "    print(\"sample_geniter: 終了\")\n",
        "\n",
        "for n in sample_geniter():\n",
        "    print(n)\n",
        "\n",
        "print(\"スクリプト終了\")"
      ],
      "metadata": {
        "colab": {
          "base_uri": "https://localhost:8080/"
        },
        "id": "FaCPteIYKSnr",
        "outputId": "dd905f57-f523-4280-af34-4bf83a372edc"
      },
      "execution_count": null,
      "outputs": [
        {
          "output_type": "stream",
          "name": "stdout",
          "text": [
            "0\n",
            "1\n",
            "2\n",
            "3\n",
            "sample_geniter: 終了\n",
            "スクリプト終了\n"
          ]
        }
      ]
    },
    {
      "cell_type": "markdown",
      "source": [
        "`send()` メソッドを使用する場合、送った値はサブジェネレーターに渡される。サブジェネレーターが yield した値が `send()` メソッドの戻り値となる。"
      ],
      "metadata": {
        "id": "1ZhPWI3UKC4Z"
      }
    },
    {
      "cell_type": "code",
      "source": [
        "def sub_gen():\n",
        "    i = 1\n",
        "    while True:\n",
        "        x = (yield i)\n",
        "        i += x\n",
        "\n",
        "def delegate_gen():\n",
        "    yield from sub_gen()\n",
        "    print(\"終了\")  # sub_gen は永遠に値を生成し続けるので、この行が実行されることはない\n",
        "\n",
        "generator = delegate_gen()\n",
        "assert generator.send(None) == 1  # 開始時は None を渡す\n",
        "assert generator.send(10) == 11\n",
        "assert generator.send(10) == 21"
      ],
      "metadata": {
        "id": "WVS8rKxcKFRF"
      },
      "execution_count": null,
      "outputs": []
    },
    {
      "cell_type": "markdown",
      "source": [
        "ジェネレーター式\n",
        "----------------"
      ],
      "metadata": {
        "id": "mAHU1sRMdUpq"
      }
    },
    {
      "cell_type": "markdown",
      "source": [
        "リスト内包表記と同じ記法を丸括弧で囲んだものは**ジェネレーター式**（generator expression）と呼ばれ、評価するとジェネレーターオブジェクトが得られる（tuple が得られるわけではないことに注意する）。また、リスト内包表記と同様に、ジェネレーター式が作るブロックでは独自のスコープが形成される。"
      ],
      "metadata": {
        "id": "VHYBSs1Owily"
      }
    },
    {
      "cell_type": "code",
      "source": [
        "x = \"some string\"\n",
        "gen = (x for x in range(50) if x % 3 == 0 or \"3\" in str(x))\n",
        "for n in gen:\n",
        "    print(n, end=\" \")\n",
        "assert x == \"some string\""
      ],
      "metadata": {
        "colab": {
          "base_uri": "https://localhost:8080/"
        },
        "id": "R2Y1zqXQwfRM",
        "outputId": "51972cbf-84dd-4b63-c632-df4f122b7285"
      },
      "execution_count": null,
      "outputs": [
        {
          "output_type": "stream",
          "name": "stdout",
          "text": [
            "0 3 6 9 12 13 15 18 21 23 24 27 30 31 32 33 34 35 36 37 38 39 42 43 45 48 "
          ]
        }
      ]
    },
    {
      "cell_type": "markdown",
      "source": [
        "ジェネレーターオブジェクトはイテラブルであるから、イテラブルを要求する関数の引数としてジェネレーター式を渡すことができる。関数の唯一の引数として渡す場合には、丸括弧を省略できる。"
      ],
      "metadata": {
        "id": "kld8iZ_9xfcA"
      }
    },
    {
      "cell_type": "code",
      "source": [
        "tuple(x for x in range(10))"
      ],
      "metadata": {
        "colab": {
          "base_uri": "https://localhost:8080/"
        },
        "id": "pC_3sjctxnJA",
        "outputId": "fe6d5508-c62c-4f57-ea0f-85268a15e7e1"
      },
      "execution_count": null,
      "outputs": [
        {
          "output_type": "execute_result",
          "data": {
            "text/plain": [
              "(0, 1, 2, 3, 4, 5, 6, 7, 8, 9)"
            ]
          },
          "metadata": {},
          "execution_count": 16
        }
      ]
    },
    {
      "cell_type": "code",
      "source": [
        "dict((i, c) for i, c in enumerate([\"a\", \"b\", \"c\", \"d\", \"e\"]))"
      ],
      "metadata": {
        "colab": {
          "base_uri": "https://localhost:8080/"
        },
        "id": "hftPERMN0BwN",
        "outputId": "4695e0ca-9ef8-4f9f-fd44-aa850b3059bd"
      },
      "execution_count": null,
      "outputs": [
        {
          "output_type": "execute_result",
          "data": {
            "text/plain": [
              "{0: 'a', 1: 'b', 2: 'c', 3: 'd', 4: 'e'}"
            ]
          },
          "metadata": {},
          "execution_count": 17
        }
      ]
    },
    {
      "cell_type": "markdown",
      "source": [
        "イテレーターを生成する組み込み関数\n",
        "----------------------------------"
      ],
      "metadata": {
        "id": "jTcbSFULcnbh"
      }
    },
    {
      "cell_type": "markdown",
      "source": [
        "``` python\n",
        "iter(object, sentinel)\n",
        "```\n",
        "\n",
        "`iter()` 関数は第 2 引数を取ることもできる。第 2 引数があるかどうかによって第 1 引数の解釈は大きく異なる。第 2 引数 `sentinel` が与えられた場合、第 1 引数は呼び出し可能オブジェクトでなければならない。この場合に `iter()` が返すイテレーターは、 `__next__()` メソッドを呼び出すごとに引数なしで第 1 引数を呼び出す。その戻り値が `sentinel` と等しければ、 StopIteration 例外が送出される。それ以外の場合は戻り値がそのまま返される。"
      ],
      "metadata": {
        "id": "C7v7Q9nFmYUy"
      }
    },
    {
      "cell_type": "code",
      "source": [
        "class Simple3Do:\n",
        "    \"\"\"3の倍数と3が付く数を数え上げる（非イテレーター版）\"\"\"\n",
        "\n",
        "    def __init__(self, limit=100):\n",
        "        self.limit = limit\n",
        "        self.counter = 0\n",
        "\n",
        "    def __call__(self):\n",
        "        while True:\n",
        "            self.counter += 1\n",
        "            if self.counter > self.limit:\n",
        "                return\n",
        "            if self.counter % 3 == 0:\n",
        "                break\n",
        "            elif \"3\" in str(self.counter):\n",
        "                break\n",
        "        return self.counter\n",
        "\n",
        "\n",
        "if __name__ == \"__main__\":\n",
        "    simple3do = Simple3Do(50)\n",
        "    for n in iter(simple3do, None):\n",
        "        print(n, end=\" \")"
      ],
      "metadata": {
        "colab": {
          "base_uri": "https://localhost:8080/"
        },
        "id": "QkBoDJsTmam9",
        "outputId": "544d674b-fa1b-4ddc-cfa8-87ced275eeef"
      },
      "execution_count": null,
      "outputs": [
        {
          "output_type": "stream",
          "name": "stdout",
          "text": [
            "3 6 9 12 13 15 18 21 23 24 27 30 31 32 33 34 35 36 37 38 39 42 43 45 48 "
          ]
        }
      ]
    },
    {
      "cell_type": "markdown",
      "source": [
        "``` python\n",
        "enumerate(iterable, start=0)\n",
        "```\n",
        "\n",
        "この関数によって返されたイテレーターの `__next__()` メソッドは、（デフォルトでは 0 となる `start` からの）カウントと、`iterable` 上のイテレーションによって得られた値を含むタプルを返す。\n",
        "\n",
        "``` python\n",
        "zip(iterable[, iterable[, iterable[...]]], /, *, strict=False)\n",
        "```\n",
        "\n",
        "この関数は、複数のイテラブルからそれぞれ一つずつ取った要素からなるタプルを生成（yield）するようなイテレーターを返す。デフォルトでは、最も短いイテラブルが使い尽くされた段階で止まる。`strict=True` オプションを指定する場合は、あるイテラブルが他のイテラブルよりも先に使い尽くされたときに `ValueError` 例外を送出する。\n",
        "\n",
        "複数のイテラブルを行に見立てれば、`zip()` は行を列に、また列を行に変換する。これは行列の転置とよく似ている。"
      ],
      "metadata": {
        "id": "n3DWS9-Fvy3s"
      }
    },
    {
      "cell_type": "code",
      "source": [
        "matrix = [\n",
        "    (1, 2, 3),\n",
        "    (4, 5, 6),\n",
        "    (7, 8, 9),\n",
        "]\n",
        "t_matrix = [col for col in zip(*matrix, strict=True)]\n",
        "for x in t_matrix:\n",
        "    print(x)"
      ],
      "metadata": {
        "colab": {
          "base_uri": "https://localhost:8080/"
        },
        "id": "8TrdkBEhnIx9",
        "outputId": "f8d26b61-7791-4a19-f452-e93c103918ff"
      },
      "execution_count": null,
      "outputs": [
        {
          "output_type": "stream",
          "name": "stdout",
          "text": [
            "(1, 4, 7)\n",
            "(2, 5, 8)\n",
            "(3, 6, 9)\n"
          ]
        }
      ]
    },
    {
      "cell_type": "markdown",
      "source": [
        "``` python\n",
        "reversed(seq)\n",
        "```\n",
        "\n",
        "この関数は、シーケンスの要素を逆順に取り出すイテレーターを返す。順番は単なる逆順であって、降順で整列した結果の順番ではないことに注意する。なお、リストなら `reverse()` メソッドを使ってインプレースに逆転させることができる。`reversed()` 関数はタプルなどリスト以外のシーケンスや、辞書ビューにも適用できる。辞書 `d` について `reversed(d)` は `reversed(d.keys())` へのショートカットである。"
      ],
      "metadata": {
        "id": "80MMUMqrqFhE"
      }
    },
    {
      "cell_type": "code",
      "source": [
        "li = list(\"いろはにほへと\")\n",
        "\n",
        "print(f\"{reversed(li)=}\")  # reversed() 関数の戻り値は list 型専用のイテレーター\n",
        "assert list(reversed(li)) == [\"と\", \"へ\", \"ほ\", \"に\", \"は\", \"ろ\", \"い\"]  # ただの逆順\n",
        "\n",
        "print(f\"{li.reverse()=}\")  # reverse() メソッドはインプレースで並べ替えるので、戻り値は None\n",
        "assert li == [\"と\", \"へ\", \"ほ\", \"に\", \"は\", \"ろ\", \"い\"]  # ただの逆順\n",
        "\n",
        "# sorted() 関数で reverse=True を指定した場合は、降順で整列した結果を返す\n",
        "assert sorted(li, reverse=True) == [\"ろ\", \"ほ\", \"へ\", \"は\", \"に\", \"と\", \"い\"]"
      ],
      "metadata": {
        "colab": {
          "base_uri": "https://localhost:8080/"
        },
        "id": "_PkgPQn4qHIr",
        "outputId": "54fd5208-5499-4d0a-f7c2-0fb89e38868a"
      },
      "execution_count": null,
      "outputs": [
        {
          "output_type": "stream",
          "name": "stdout",
          "text": [
            "reversed(li)=<list_reverseiterator object at 0x7dddbaf31600>\n",
            "li.reverse()=None\n"
          ]
        }
      ]
    },
    {
      "cell_type": "markdown",
      "source": [
        "``` python\n",
        "map(callable, iterable[, iterable[, iterable[...]]])\n",
        "```\n",
        "\n",
        "`map(callable, iterable)` を実行すると、`iterable` が返す要素を引数として渡して `callable` を呼び出し、その結果を生成（yield）するようなイテレーターを返す。追加の `iterable` 引数が渡された場合、`callable` は渡されたイテラブルと同じ数の引数を取らなければならない。複数のイテラブルが渡された場合、そのうちで最も短いイテラブルが使い尽くされた段階で止まる。"
      ],
      "metadata": {
        "id": "kCf7nNMBYM8O"
      }
    },
    {
      "cell_type": "code",
      "source": [
        "gen = map(lambda x, y: x + y, [1, 2, 3, 4], [4, 3, 2])\n",
        "for n in gen:\n",
        "    print(n, end=\" \")"
      ],
      "metadata": {
        "colab": {
          "base_uri": "https://localhost:8080/"
        },
        "id": "RDpgkRb6YMDF",
        "outputId": "9a683d0a-c97e-433a-a386-b8f1ddd866e1"
      },
      "execution_count": null,
      "outputs": [
        {
          "output_type": "stream",
          "name": "stdout",
          "text": [
            "5 5 5 "
          ]
        }
      ]
    },
    {
      "cell_type": "markdown",
      "source": [
        "``` python\n",
        "filter(callable or None, iterable)\n",
        "```\n",
        "\n",
        "`filter(callable, iterable)` を実行すると、`iterable` が返す要素を引数として渡して `callable` を呼び出し、`callable` が真を返す要素だけを生成（yield）するようなイテレーターを構築する。これはジェネレーター式 `(item for item in iterable if callable(item))` と同等である。"
      ],
      "metadata": {
        "id": "RheKifjBnPB6"
      }
    },
    {
      "cell_type": "code",
      "source": [
        "it = filter(lambda x: True if x % 3 == 0 or \"3\" in str(x) else False, range(50))\n",
        "for n in it:\n",
        "    print(n, end=\" \")"
      ],
      "metadata": {
        "colab": {
          "base_uri": "https://localhost:8080/"
        },
        "id": "4Cyk66U5v0n9",
        "outputId": "b24ad3a2-8951-4d59-bd0f-9d34eeec58db"
      },
      "execution_count": null,
      "outputs": [
        {
          "output_type": "stream",
          "name": "stdout",
          "text": [
            "0 3 6 9 12 13 15 18 21 23 24 27 30 31 32 33 34 35 36 37 38 39 42 43 45 48 "
          ]
        }
      ]
    },
    {
      "cell_type": "markdown",
      "source": [
        "`filter(None, iterable)` は `filter(lambda x: x, iterable)` と等価であり、`iterable` のうち偽であるものがすべて取り除かれる。これはジェネレーター式 `(item for item in iterable if item)` と同等である。"
      ],
      "metadata": {
        "id": "rYCqwrQSY-IU"
      }
    },
    {
      "cell_type": "code",
      "source": [
        "li = [1, 0, 2, 0, 3, 0, 4, 0, 5, 0]\n",
        "assert list(filter(None, li)) == list(x for x in li if x) == [1, 2, 3, 4, 5]"
      ],
      "metadata": {
        "id": "ozKIBJuzY_Mf"
      },
      "execution_count": null,
      "outputs": []
    },
    {
      "cell_type": "markdown",
      "source": [
        "イテレーターを構築する組み込み関数は、すべて遅延評価である。for 文に渡されたり、`list()`、`tuple()`、`set()`、`frozenset()`、`dict()` などのコンストラクタでラップされたりするなどして反復処理されるまで、要素が実際に処理されることはない。"
      ],
      "metadata": {
        "id": "pkiNLIjNNEiY"
      }
    },
    {
      "cell_type": "markdown",
      "source": [
        "itertools\n",
        "---------"
      ],
      "metadata": {
        "id": "dtb6rnbZF4KJ"
      }
    },
    {
      "cell_type": "markdown",
      "source": [
        "標準ライブラリの itertools モジュールは、イテレーターを生成する関数を提供している。"
      ],
      "metadata": {
        "id": "pLX1jSipBz8b"
      }
    },
    {
      "cell_type": "markdown",
      "source": [
        "### chain ###"
      ],
      "metadata": {
        "id": "0d_M7QxiB7YZ"
      }
    },
    {
      "cell_type": "markdown",
      "source": [
        "``` python\n",
        "itertools.chain(iterable1, iterable2, ...)\n",
        "```\n",
        "\n",
        "複数のイテラブルを連結したイテレーターを返す。"
      ],
      "metadata": {
        "id": "3oFXtwATF5Ia"
      }
    },
    {
      "cell_type": "code",
      "source": [
        "from itertools import chain\n",
        "it = chain('ABC', 'DEF')\n",
        "assert list(it) == ['A', 'B', 'C', 'D', 'E', 'F']"
      ],
      "metadata": {
        "id": "UmqAy7mfGB_U"
      },
      "execution_count": null,
      "outputs": []
    },
    {
      "cell_type": "markdown",
      "source": [
        "### islice ###"
      ],
      "metadata": {
        "id": "JYfg-RJ8CJoM"
      }
    },
    {
      "cell_type": "markdown",
      "source": [
        "``` python\n",
        "itertools.islice(iterable, stop)\n",
        "itertools.islice(iterable, start, stop[, step])\n",
        "```\n",
        "\n",
        "イテラブルの、指定した範囲の要素を生成（yield）するようなイテレーターを返す。イテラブル以外の引数の意味は `range()` の引数とほとんど同じ。`stop` が `None` の場合、最後の要素まで yield する。`start` が未指定または `None` の場合、最初の要素から yield する。`step` が未指定または `None` の場合、ステップはデフォルトの 1 になる。"
      ],
      "metadata": {
        "id": "1qUbePtqI7f2"
      }
    },
    {
      "cell_type": "code",
      "source": [
        "from itertools import islice\n",
        "it = islice('ABCDEFG', 2)\n",
        "assert list(it) == ['A', 'B']\n",
        "it = islice('ABCDEFG', 2, None)\n",
        "assert list(it) == ['C', 'D', 'E', 'F', 'G']"
      ],
      "metadata": {
        "id": "KB_dJISsI8iI"
      },
      "execution_count": null,
      "outputs": []
    },
    {
      "cell_type": "markdown",
      "source": [
        "### zip_longest ###"
      ],
      "metadata": {
        "id": "4lNt0SpYCQPM"
      }
    },
    {
      "cell_type": "markdown",
      "source": [
        "``` python\n",
        "itertools.zip_longest(iterable[, iterable[, iterable[...]]], /, *, fillvalue=None)\n",
        "```\n",
        "\n",
        "組み込み関数 `zip()` とほとんど同じであるが、`iterable` の長さが違う場合、最も長いイテラブルが使い尽くされるまでタプルを yield する。足りない値は `fillvalue` で埋められる。"
      ],
      "metadata": {
        "id": "vw4gxFRAsnYG"
      }
    },
    {
      "cell_type": "code",
      "source": [
        "from itertools import zip_longest\n",
        "it = zip_longest('ABCD', 'xy', fillvalue='-')\n",
        "assert list(it) == [('A', 'x'), ('B', 'y'), ('C', '-'), ('D', '-')]"
      ],
      "metadata": {
        "id": "MmgpsqySsoX2"
      },
      "execution_count": null,
      "outputs": []
    },
    {
      "cell_type": "markdown",
      "source": [
        "### takewhile ###"
      ],
      "metadata": {
        "id": "iUjwF9N4CV6S"
      }
    },
    {
      "cell_type": "markdown",
      "source": [
        "``` python\n",
        "itertools.takewhile(callable, iterable)\n",
        "```\n",
        "\n",
        "`iterable` が返す要素を引数として渡して `callable` を呼び出し、`callable` が真を返すうちは要素を yield するが、`callable` が偽を返したら直ちに停止するようなイテレーターを返す。"
      ],
      "metadata": {
        "id": "cRXAb0JHNQdK"
      }
    },
    {
      "cell_type": "code",
      "source": [
        "from itertools import takewhile\n",
        "it = takewhile(lambda x: x < 5, [1, 4, 6, 4, 1])\n",
        "assert list(it) == [1, 4]"
      ],
      "metadata": {
        "id": "jHgin4PlNRBi"
      },
      "execution_count": null,
      "outputs": []
    },
    {
      "cell_type": "markdown",
      "source": [
        "### product ###"
      ],
      "metadata": {
        "id": "5cpqRVf9CZXr"
      }
    },
    {
      "cell_type": "markdown",
      "source": [
        "``` python\n",
        "itertools.product(iterable1, iterable2, ..., /, *, repeat=1)\n",
        "```\n",
        "\n",
        "イテラブルたちをそれぞれ返される要素の集合とみるときの、直積集合の要素となるタプルを yield するようなイテレーターを返す。イテラブル自身との直積を計算するためには、オプションの `repeat` キーワード専用引数に繰り返し回数を指定する。"
      ],
      "metadata": {
        "id": "0JadowTkWA9-"
      }
    },
    {
      "cell_type": "code",
      "source": [
        "from itertools import product\n",
        "it = product(\"ABC\", repeat=2)\n",
        "print(list(it))"
      ],
      "metadata": {
        "colab": {
          "base_uri": "https://localhost:8080/"
        },
        "id": "YHseJf5UWB6n",
        "outputId": "a686de06-2364-45b7-8378-173d3a253cdc"
      },
      "execution_count": null,
      "outputs": [
        {
          "output_type": "stream",
          "name": "stdout",
          "text": [
            "[('A', 'A'), ('A', 'B'), ('A', 'C'), ('B', 'A'), ('B', 'B'), ('B', 'C'), ('C', 'A'), ('C', 'B'), ('C', 'C')]\n"
          ]
        }
      ]
    },
    {
      "cell_type": "markdown",
      "source": [
        "### permutations ###"
      ],
      "metadata": {
        "id": "NlOss12DCdME"
      }
    },
    {
      "cell_type": "markdown",
      "source": [
        "``` python\n",
        "itertools.permutations(iterable, r=None)\n",
        "```\n",
        "\n",
        "`iterable` の要素からなる長さ `r` の順列となるタプルを連続的に yield するようなイテレーターを返す。`r` が `None` の場合、`iterable` の長さの順列となる。"
      ],
      "metadata": {
        "id": "I1n1EfjTRI5f"
      }
    },
    {
      "cell_type": "code",
      "source": [
        "from itertools import permutations\n",
        "it = permutations(\"ABC\")\n",
        "print(list(it))"
      ],
      "metadata": {
        "colab": {
          "base_uri": "https://localhost:8080/"
        },
        "id": "gmbmkjV9RJsO",
        "outputId": "220fa684-f454-4275-86f0-56b84812bd9d"
      },
      "execution_count": null,
      "outputs": [
        {
          "output_type": "stream",
          "name": "stdout",
          "text": [
            "[('A', 'B', 'C'), ('A', 'C', 'B'), ('B', 'A', 'C'), ('B', 'C', 'A'), ('C', 'A', 'B'), ('C', 'B', 'A')]\n"
          ]
        }
      ]
    },
    {
      "cell_type": "markdown",
      "source": [
        "### combinations ###"
      ],
      "metadata": {
        "id": "HvcddcUOCgiS"
      }
    },
    {
      "cell_type": "markdown",
      "source": [
        "``` python\n",
        "itertools.combinations(iterable, r)\n",
        "```\n",
        "\n",
        "`iterable` の要素からなる長さ `r` の組合せとなるタプルを yield するようなイテレーターを返す。"
      ],
      "metadata": {
        "id": "LGc_3yoTT8Av"
      }
    },
    {
      "cell_type": "code",
      "source": [
        "from itertools import combinations\n",
        "it = combinations(\"ABC\", 2)\n",
        "print(list(it))"
      ],
      "metadata": {
        "colab": {
          "base_uri": "https://localhost:8080/"
        },
        "id": "Gv6X_rhzT9JQ",
        "outputId": "31d3861a-d862-4393-cff3-d9ca391944a4"
      },
      "execution_count": null,
      "outputs": [
        {
          "output_type": "stream",
          "name": "stdout",
          "text": [
            "[('A', 'B'), ('A', 'C'), ('B', 'C')]\n"
          ]
        }
      ]
    },
    {
      "cell_type": "markdown",
      "source": [
        "### combinations_with_replacement ###"
      ],
      "metadata": {
        "id": "gX8XgB_UCkdP"
      }
    },
    {
      "cell_type": "markdown",
      "source": [
        "``` python\n",
        "itertools.combinations_with_replacement(iterable, r)\n",
        "```\n",
        "\n",
        "`iterable` の要素からなる長さ `r` の重複組合せとなるタプルを yield するようなイテレーターを返す。"
      ],
      "metadata": {
        "id": "z47CdyXLUiED"
      }
    },
    {
      "cell_type": "code",
      "source": [
        "from itertools import combinations_with_replacement\n",
        "it = combinations_with_replacement(\"ABC\", 2)\n",
        "print(list(it))"
      ],
      "metadata": {
        "colab": {
          "base_uri": "https://localhost:8080/"
        },
        "id": "FKoeCvCUUiXD",
        "outputId": "316e4fa4-d357-49e4-b69e-66eaec3ff845"
      },
      "execution_count": null,
      "outputs": [
        {
          "output_type": "stream",
          "name": "stdout",
          "text": [
            "[('A', 'A'), ('A', 'B'), ('A', 'C'), ('B', 'B'), ('B', 'C'), ('C', 'C')]\n"
          ]
        }
      ]
    },
    {
      "cell_type": "markdown",
      "source": [
        "### groupby ###"
      ],
      "metadata": {
        "id": "I_pf1oBQCoGl"
      }
    },
    {
      "cell_type": "markdown",
      "source": [
        "``` python\n",
        "itertools.groupby(iterable, key=None)\n",
        "```\n",
        "\n",
        "`key` に 1 つの引数を取る関数を指定した場合、その関数に `iterable` の要素を渡したときの戻り値 `key_value` と、関数の戻り値が同じ `key_value` となる `iterable` の中のグループ `group` からなるタプル `(key_value, group)` を yield するようなイテレーターを返す。ここではグループは、`iterable` の中の連続する要素を yield するようなイテレーターのことを指している。\n",
        "\n",
        "`itertools.groupby()` が生成するイテレーターは、`key` 関数の戻り値が変わるたびに新しい `(key_value, group)` を yield する。このため、そのイテレーターの挙動は `iterable` の中の順番に依存する。 `iterable` の中の順番に関係なく `key` 値で 1 つのグループを生成したい場合は、同じ `key` 関数で `iterable` をソートしておく必要がある。\n",
        "\n",
        "次のコードは、タプルのリスト `animals` に関し、各タプルの第 2 要素を返す無名関数を `key` に渡して `itertools.groupby()` を呼び出している。 `animals` をそのまま使う `itertools.groupby()` が生成するイテレーターの挙動と、同じ無名関数で `animals` をソートしたリストを使う `itertools.groupby()` が生成するイテレーターの挙動の違いに注意する。"
      ],
      "metadata": {
        "id": "i_XkitQuWJ9E"
      }
    },
    {
      "cell_type": "code",
      "source": [
        "from itertools import groupby\n",
        "\n",
        "animals = [(\"チーター\", \"哺乳類\"),\n",
        "           (\"イヌ\", \"哺乳類\"),\n",
        "           (\"コウモリ\", \"哺乳類\"),\n",
        "           (\"ダチョウ\", \"鳥類\"),\n",
        "           (\"ツバメ\", \"鳥類\"),\n",
        "           (\"クジラ\", \"哺乳類\"),\n",
        "           (\"ペンギン\", \"鳥類\"),\n",
        "           (\"ダチョウ\", \"鳥類\")]\n",
        "\n",
        "for key_value, group in groupby(animals, lambda x: x[1]):\n",
        "    print(f\"{key_value}: {'・'.join(x[0] for x in group)}\")\n",
        "\n",
        "print(\"-\" * 42)\n",
        "\n",
        "sorted_animals = sorted(animals, key=lambda x: x[1])\n",
        "for key_value, group in groupby(sorted_animals, lambda x: x[1]):\n",
        "    print(f\"{key_value}: {'・'.join(x[0] for x in group)}\")"
      ],
      "metadata": {
        "colab": {
          "base_uri": "https://localhost:8080/"
        },
        "id": "otU7ntxZWLDG",
        "outputId": "708ed61f-0011-486b-8224-c384bba18998"
      },
      "execution_count": null,
      "outputs": [
        {
          "output_type": "stream",
          "name": "stdout",
          "text": [
            "哺乳類: チーター・イヌ・コウモリ\n",
            "鳥類: ダチョウ・ツバメ\n",
            "哺乳類: クジラ\n",
            "鳥類: ペンギン・ダチョウ\n",
            "------------------------------------------\n",
            "哺乳類: チーター・イヌ・コウモリ・クジラ\n",
            "鳥類: ダチョウ・ツバメ・ペンギン・ダチョウ\n"
          ]
        }
      ]
    },
    {
      "cell_type": "markdown",
      "source": [
        "`key` が未指定または `None` の場合、`key` 関数のデフォルトは恒等関数になり要素をそのまま返す。この場合、`itertools.groupby()` が生成するイテレーターは、要素とその要素のグループからなるタプル を yield する。`iterable` がソートされていないと、同じ要素でも同じグループに入らないことに注意する。"
      ],
      "metadata": {
        "id": "qhcxXdrP1UfY"
      }
    },
    {
      "cell_type": "code",
      "source": [
        "from itertools import groupby\n",
        "\n",
        "for key_value, group in groupby('AAAABBBCCDAABBB'):\n",
        "    print(f\"{key_value}: {''.join(group)}\")"
      ],
      "metadata": {
        "colab": {
          "base_uri": "https://localhost:8080/"
        },
        "id": "HbARo_qrhMI8",
        "outputId": "e495da6a-8437-47af-bcbe-6ed072abe1c4"
      },
      "execution_count": null,
      "outputs": [
        {
          "output_type": "stream",
          "name": "stdout",
          "text": [
            "A: AAAA\n",
            "B: BBB\n",
            "C: CC\n",
            "D: D\n",
            "A: AA\n",
            "B: BBB\n"
          ]
        }
      ]
    },
    {
      "cell_type": "markdown",
      "source": [
        "要素を共有するイテレーターを返すイテレーターというのは、なにかトリッキーなことをしているように思えるが、イテレータークラスに内部メソッドとしてジェネレーターを定義し、`__next__()` メソッドでそのジェネレーターを返すようにすれば、等価な Python コードを書くことができる。以下のコードは、[公式ドキュメント](https://docs.python.org/ja/3/library/itertools.html#itertools.groupby)のコードを参考にしてイテレータークラス `GroupBy` を書いた。"
      ],
      "metadata": {
        "id": "qi-yiIhIr1KQ"
      }
    },
    {
      "cell_type": "code",
      "source": [
        "class GroupBy:\n",
        "    def __init__(self, iterable, key=None):\n",
        "        if key is None:\n",
        "            key = lambda x: x  # noqa: E731\n",
        "        self.keyfunc = key\n",
        "        self.it = iter(iterable)\n",
        "        self.tgtkey = self.currkey = self.currvalue = object()\n",
        "\n",
        "    def __iter__(self):\n",
        "        return self\n",
        "\n",
        "    def __next__(self):\n",
        "        self.id = object()\n",
        "        while self.currkey == self.tgtkey:\n",
        "            self.currvalue = next(self.it)  # Exit on StopIteration\n",
        "            self.currkey = self.keyfunc(self.currvalue)\n",
        "        self.tgtkey = self.currkey\n",
        "        return (self.currkey, self._grouper(self.tgtkey, self.id))\n",
        "\n",
        "    def _grouper(self, tgtkey, id):\n",
        "        while self.id is id and self.currkey == tgtkey:\n",
        "            yield self.currvalue\n",
        "            try:\n",
        "                self.currvalue = next(self.it)\n",
        "            except StopIteration:\n",
        "                return\n",
        "            self.currkey = self.keyfunc(self.currvalue)\n",
        "\n",
        "\n",
        "for key_value, group in GroupBy(\"AAAABBBCCDAABBB\"):\n",
        "    print(f\"{key_value}: {''.join(group)}\")"
      ],
      "metadata": {
        "colab": {
          "base_uri": "https://localhost:8080/"
        },
        "id": "8LAaN1bPr13A",
        "outputId": "9ba36ea3-1ea3-4c1f-fbe0-2fefa7ecf28a"
      },
      "execution_count": null,
      "outputs": [
        {
          "output_type": "stream",
          "name": "stdout",
          "text": [
            "A: AAAA\n",
            "B: BBB\n",
            "C: CC\n",
            "D: D\n",
            "A: AA\n",
            "B: BBB\n"
          ]
        }
      ]
    },
    {
      "cell_type": "markdown",
      "source": [
        "### batched ###"
      ],
      "metadata": {
        "id": "Or9YVJvv4VpD"
      }
    },
    {
      "cell_type": "markdown",
      "source": [
        "``` python\n",
        "itertools.batched(iterable, n)\n",
        "```\n",
        "\n",
        "`iterable` から得られるデータを `n` 個ごとに 1 つのタプルにまとめる。一番最後のバッチは `n` 個より少なくなる可能性がある。Python 3.12 で追加。\n",
        "\n",
        "``` python\n",
        "from itertools import batched\n",
        "for batch in batched('ABCDEFG', 3):\n",
        "    print(batch)\n",
        "```\n",
        "\n",
        "このコードを実行すると、次のように出力する。\n",
        "\n",
        "``` text\n",
        "('A', 'B', 'C')\n",
        "('D', 'E', 'F')\n",
        "('G',)\n",
        "```"
      ],
      "metadata": {
        "id": "dJJXBw-94YWT"
      }
    },
    {
      "cell_type": "markdown",
      "source": [
        "operator\n",
        "--------"
      ],
      "metadata": {
        "id": "9iMmswrKS7Rn"
      }
    },
    {
      "cell_type": "markdown",
      "source": [
        "標準ライブラリの `operator` モジュールは\n",
        "\n",
        "  * `map()`、`filter()`、`itertools.takewhile()` などの `callable` 引数\n",
        "  * `itertools.groupby()`、`sorted()` などの `key` 引数\n",
        "\n",
        "などに渡せる「呼び出し可能なオブジェクトを返す関数」を提供する。\n",
        "\n",
        "``` python\n",
        "operator.itemgetter(item)\n",
        "operator.itemgetter(*items)\n",
        "```\n",
        "\n",
        "`operator.itemgetter(item)` が返す関数オブジェクトは、シーケンスやマッピング `obj` に対して、`__getitem__()` メソッドを使って添字表記 `obj[item]` に相当する処理を実行できる。たとえば、`f = itemgetter(2)` とした後で、`f(obj)` を呼び出すと `obj[2]` を返す。続けて書くと `itemgetter(2)(obj) == obj[2]` である。引数を `item1, item2, ...` と複数指定する場合は、`(obj[item1], obj[item2], ...)` を返すような関数である。次と等価である:\n",
        "\n",
        "``` python\n",
        "def itemgetter(*items):\n",
        "    if len(items) == 1:\n",
        "        item = items[0]\n",
        "        def g(obj):\n",
        "            return obj[item]\n",
        "    else:\n",
        "        def g(obj):\n",
        "            return tuple(obj[item] for item in items)\n",
        "    return g\n",
        "```"
      ],
      "metadata": {
        "id": "1B3QPTl9S8kU"
      }
    },
    {
      "cell_type": "code",
      "source": [
        "from operator import itemgetter\n",
        "\n",
        "mylist = [(3, 3, 1), (4, 2, 1), (2, 1, 3), (1, 1, 4)]\n",
        "assert sorted(mylist) == [(1, 1, 4), (2, 1, 3), (3, 3, 1), (4, 2, 1)]  # 第1要素でソート\n",
        "assert sorted(mylist, key=itemgetter(1, 2)) == [(2, 1, 3), (1, 1, 4), (4, 2, 1), (3, 3, 1)]  # 第2要素と第3要素でソート"
      ],
      "metadata": {
        "id": "pKunpHDM1xBa"
      },
      "execution_count": null,
      "outputs": []
    },
    {
      "cell_type": "code",
      "source": [
        "from itertools import groupby\n",
        "from operator import itemgetter\n",
        "\n",
        "received_mails = [\n",
        "    {\"date\": \"2022-01-02\", \"address\": \"alice@example.com\", \"subject\": \"subject1\"},\n",
        "    {\"date\": \"2022-02-03\", \"address\": \"bob@example.com\", \"subject\": \"subject2\"},\n",
        "    {\"date\": \"2022-03-04\", \"address\": \"chris@example.com\", \"subject\": \"subject3\"},\n",
        "    {\"date\": \"2022-04-05\", \"address\": \"alice@example.com\", \"subject\": \"subject4\"},\n",
        "    {\"date\": \"2022-05-06\", \"address\": \"bob@example.com\", \"subject\": \"subject5\"},\n",
        "]\n",
        "sorted_received_mails = sorted(received_mails, key=itemgetter(\"address\"))\n",
        "for address, mails in groupby(sorted_received_mails, itemgetter(\"address\")):\n",
        "    print(address, \",\".join(mail[\"subject\"] for mail in mails))"
      ],
      "metadata": {
        "colab": {
          "base_uri": "https://localhost:8080/"
        },
        "id": "aKP7_d131iNo",
        "outputId": "bdbe0235-b131-4ff3-915d-3b982bf64b8e"
      },
      "execution_count": null,
      "outputs": [
        {
          "output_type": "stream",
          "name": "stdout",
          "text": [
            "alice@example.com subject1,subject4\n",
            "bob@example.com subject2,subject5\n",
            "chris@example.com subject3\n"
          ]
        }
      ]
    },
    {
      "cell_type": "markdown",
      "source": [
        "`operator.itemgetter()`はスライスにも対応している。スライスは組み込み型である `slice` 型のインスタンスである。\n",
        "\n",
        "``` python\n",
        "slice(stop)\n",
        "slice(start, stop, step=None)\n",
        "```\n",
        "\n",
        "`range(start, stop, step)` で指定されたインデックスのセットを表すスライスオブジェクトを返す。引数 `start` と `step` のデフォルトは `None`。\n",
        "\n",
        "スライスオブジェクトには読み出し専用のデータ属性 `start`, `stop`, `step` があり、これらは単に引数の値（またはそのデフォルト値）を返す。 Python 3.12 からは、スライスオブジェクトがハッシュ可能となった（ただし、属性 `start`, `stop`, `step` がすべてハッシュ可能である場合に限る）。"
      ],
      "metadata": {
        "id": "3dKk7_0U1Zg3"
      }
    },
    {
      "cell_type": "code",
      "source": [
        "from operator import itemgetter\n",
        "\n",
        "r = \"ABCDEFG\"\n",
        "assert itemgetter(1)(r) == r[1] == \"B\"\n",
        "assert itemgetter(slice(2, None))(r) == r[2:] == \"CDEFG\""
      ],
      "metadata": {
        "id": "2g9XoNaaNjYU"
      },
      "execution_count": null,
      "outputs": []
    },
    {
      "cell_type": "markdown",
      "source": [
        "``` python\n",
        "operator.attrgetter(attr)\n",
        "operator.attrgetter(*attrs)\n",
        "```\n",
        "\n",
        "`operator.attrgetter(attr)` が返す関数オブジェクトは、オブジェクト `obj` に対して、属性名が `attr` の属性を取得する処理を実行できる。たとえば、`f = attrgetter('name')` とした後で、`f(obj)` を呼び出すと `obj.name` を返す。続けて書くと `attrgetter('name')(obj) == obj.name` である。引数を `attr1, attr2, ...` と複数指定する場合は、`(obj.attr1, obj.attr2, ...)` を返すような関数である。また、属性名はドットを含むこともできる。たとえば、`attrgetter('name.first')(obj) == obj.name.first` である。次と等価である:\n",
        "\n",
        "``` python\n",
        "def attrgetter(*items):\n",
        "    if any(not isinstance(item, str) for item in items):\n",
        "        raise TypeError('attribute name must be a string')\n",
        "    if len(items) == 1:\n",
        "        attr = items[0]\n",
        "        def g(obj):\n",
        "            return resolve_attr(obj, attr)\n",
        "    else:\n",
        "        def g(obj):\n",
        "            return tuple(resolve_attr(obj, attr) for attr in items)\n",
        "    return g\n",
        "\n",
        "def resolve_attr(obj, attr):\n",
        "    for name in attr.split(\".\"):\n",
        "        obj = getattr(obj, name)\n",
        "    return obj\n",
        "```"
      ],
      "metadata": {
        "id": "MzDfJGh2WHx8"
      }
    },
    {
      "cell_type": "code",
      "source": [
        "from itertools import groupby\n",
        "from operator import attrgetter\n",
        "\n",
        "class Mail:\n",
        "    def __init__(self, date, address, subject):\n",
        "        self.date = date\n",
        "        self.address = address\n",
        "        self.subject = subject\n",
        "\n",
        "received_mails = [\n",
        "    Mail(\"2022-01-02\", \"alice@example.com\", \"subject1\"),\n",
        "    Mail(\"2022-02-03\", \"bob@example.com\", \"subject2\"),\n",
        "    Mail(\"2022-03-04\", \"chris@example.com\", \"subject3\"),\n",
        "    Mail(\"2022-04-05\", \"alice@example.com\", \"subject4\"),\n",
        "    Mail(\"2022-05-06\", \"bob@example.com\", \"subject5\"),\n",
        "]\n",
        "sorted_received_mails = sorted(received_mails, key=attrgetter(\"address\"))\n",
        "for address, mails in groupby(sorted_received_mails, attrgetter(\"address\")):\n",
        "    print(address, \",\".join(mail.subject for mail in mails))"
      ],
      "metadata": {
        "colab": {
          "base_uri": "https://localhost:8080/"
        },
        "id": "sm_0R4XzWIyk",
        "outputId": "43f1d1df-512a-44af-e5aa-fbdc4b753c82"
      },
      "execution_count": null,
      "outputs": [
        {
          "output_type": "stream",
          "name": "stdout",
          "text": [
            "alice@example.com subject1,subject4\n",
            "bob@example.com subject2,subject5\n",
            "chris@example.com subject3\n"
          ]
        }
      ]
    }
  ]
}