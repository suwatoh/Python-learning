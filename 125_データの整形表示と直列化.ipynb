{
  "nbformat": 4,
  "nbformat_minor": 0,
  "metadata": {
    "colab": {
      "provenance": [],
      "toc_visible": true,
      "authorship_tag": "ABX9TyORQQxmpxeLhZoRK8XMLpG+",
      "include_colab_link": true
    },
    "kernelspec": {
      "name": "python3",
      "display_name": "Python 3"
    },
    "language_info": {
      "name": "python"
    }
  },
  "cells": [
    {
      "cell_type": "markdown",
      "metadata": {
        "id": "view-in-github",
        "colab_type": "text"
      },
      "source": [
        "<a href=\"https://colab.research.google.com/github/suwatoh/Python-learning/blob/main/125_%E3%83%87%E3%83%BC%E3%82%BF%E3%81%AE%E6%95%B4%E5%BD%A2%E8%A1%A8%E7%A4%BA%E3%81%A8%E7%9B%B4%E5%88%97%E5%8C%96.ipynb\" target=\"_parent\"><img src=\"https://colab.research.google.com/assets/colab-badge.svg\" alt=\"Open In Colab\"/></a>"
      ]
    },
    {
      "cell_type": "markdown",
      "source": [
        "データの整形表示と直列化\n",
        "========================"
      ],
      "metadata": {
        "id": "Ri1aX1nO0ElN"
      }
    },
    {
      "cell_type": "markdown",
      "source": [
        "データの整形表示\n",
        "----------------"
      ],
      "metadata": {
        "id": "FDkuThjQsjwj"
      }
    },
    {
      "cell_type": "markdown",
      "source": [
        "### pprint ###"
      ],
      "metadata": {
        "id": "-u4_6r_sUflq"
      }
    },
    {
      "cell_type": "markdown",
      "source": [
        "標準ライブラリの `pprint` モジュールが提供する `pprint.pprint()` 関数は、何重にもネストされた辞書や、要素数が長いリストのように、人間が読みにくい構造のデータを整形して出力する。\n",
        "\n",
        "``` python\n",
        "pprint.pprint(object, stream=None, indent=1, width=80, depth=None, *, compact=False, sort_dicts=True, underscore_numbers=False)\n",
        "```\n",
        "\n",
        "| 引数 | 意味 |\n",
        "|:--|:--|\n",
        "| `object` | 出力するデータを指定する |\n",
        "| `stream` | 出力先のファイルオブジェクトを指定する。`None`（デフォルト値）ならば、標準出力 `sys.stdout` に出力される |\n",
        "| `indent` | ネストされたオブジェクトの子要素を出力するときのインデント数を指定する |\n",
        "| `width` | 出力幅を指定する |\n",
        "| `depth` | ネストされたオブジェクトを出力する際の、最大レベル数を指定する。`None`（デフォルト値）ならば、すべてのレベルを出力する |\n",
        "| `compact` | キーワード専用引数。`True` の場合、各行に `width` の幅に収まるだけの要素が出力される。`False` の場合、1 行ごとに 1 要素が出力される |\n",
        "| `sort_dicts` | キーワード専用引数。`True` の場合、キーがソートされた状態で出力される。`False` の場合、挿入順に出力される |\n",
        "| `underscore_numbers` | キーワード専用引数。`True` の場合、整数は千の位の区切り文字としてアンダースコア `_` が使用される。`False` の場合、アンダースコアは使<br />用されない |\n",
        "\n",
        "この関数でネストされた辞書を整形して出力する場合、デフォルトではキーがソートされた状態で出力されることに注意する。挿入順に出力するには、`sort_dicts=False` を指定する必要がある。"
      ],
      "metadata": {
        "id": "vy7_VaYNUhsR"
      }
    },
    {
      "cell_type": "code",
      "source": [
        "# ネストした辞書\n",
        "import pprint\n",
        "users = {\n",
        "    'user1': {\n",
        "        'name': '山田 太郎',\n",
        "        'age': 30,\n",
        "        'city': '東京'\n",
        "    },\n",
        "    'user2': {\n",
        "        'name': '鈴木 花子',\n",
        "        'age': 25,\n",
        "        'city': '大阪'\n",
        "    },\n",
        "    'user3': {\n",
        "        'name': '田中 健太',\n",
        "        'age': 45,\n",
        "        'city': '福岡'\n",
        "    }\n",
        "}\n",
        "pprint.pprint(users, width=30)\n",
        "print('>>sort_dicts=False')\n",
        "pprint.pprint(users, width=30, sort_dicts=False)"
      ],
      "metadata": {
        "colab": {
          "base_uri": "https://localhost:8080/"
        },
        "id": "hd4IEcOWmQv3",
        "outputId": "119eb74a-d74b-4d4b-8e5f-d665af64ad36"
      },
      "execution_count": null,
      "outputs": [
        {
          "output_type": "stream",
          "name": "stdout",
          "text": [
            "{'user1': {'age': 30,\n",
            "           'city': '東京',\n",
            "           'name': '山田 太郎'},\n",
            " 'user2': {'age': 25,\n",
            "           'city': '大阪',\n",
            "           'name': '鈴木 花子'},\n",
            " 'user3': {'age': 45,\n",
            "           'city': '福岡',\n",
            "           'name': '田中 健太'}}\n",
            ">>sort_dicts=False\n",
            "{'user1': {'name': '山田 太郎',\n",
            "           'age': 30,\n",
            "           'city': '東京'},\n",
            " 'user2': {'name': '鈴木 花子',\n",
            "           'age': 25,\n",
            "           'city': '大阪'},\n",
            " 'user3': {'name': '田中 健太',\n",
            "           'age': 45,\n",
            "           'city': '福岡'}}\n"
          ]
        }
      ]
    },
    {
      "cell_type": "code",
      "source": [
        "# 長いリスト\n",
        "import pprint\n",
        "stuff = [\"spam\", \"eggs\", \"lumberjack\", \"knights\", \"ni\"]\n",
        "stuff.insert(0, stuff)\n",
        "pprint.pprint(stuff)"
      ],
      "metadata": {
        "colab": {
          "base_uri": "https://localhost:8080/"
        },
        "id": "tdZ11weZaf2g",
        "outputId": "c83d0651-3b7b-4da8-b103-1a5d1797bf1f"
      },
      "execution_count": null,
      "outputs": [
        {
          "output_type": "stream",
          "name": "stdout",
          "text": [
            "[<Recursion on list with id=136821680889088>,\n",
            " 'spam',\n",
            " 'eggs',\n",
            " 'lumberjack',\n",
            " 'knights',\n",
            " 'ni']\n"
          ]
        }
      ]
    },
    {
      "cell_type": "markdown",
      "source": [
        "``` python\n",
        "pprint.pformat(object, indent=1, width=80, depth=None, *, compact=False, sort_dicts=True, underscore_numbers=False)\n",
        "```\n",
        "\n",
        "この関数は、`pprint.pprint()` 関数と同じくオブジェクトを整形するが、標準出力に印字するのではなく、戻り値として文字列を返す。"
      ],
      "metadata": {
        "id": "ouJGi5KcPSAP"
      }
    },
    {
      "cell_type": "markdown",
      "source": [
        "### tabulate ###"
      ],
      "metadata": {
        "id": "uTRZ72VjstBd"
      }
    },
    {
      "cell_type": "markdown",
      "source": [
        "サードパーティ製の [tabulate](https://pypi.org/project/tabulate/) は、ネストされたリストなど一定のデータ構造を表形式に整形して出力する関数を提供する。ライセンスは MIT License。インストールは次のとおり。\n",
        "\n",
        "``` shell\n",
        "pip install tabulate\n",
        "```\n",
        "\n",
        "``` python\n",
        "tabulate(tabular_data, headers=(), tablefmt=\"simple\", floatfmt=_DEFAULT_FLOATFMT, intfmt=_DEFAULT_INTFMT, numalign=_DEFAULT_ALIGN,\n",
        "         stralign=_DEFAULT_ALIGN, missingval=_DEFAULT_MISSINGVAL, showindex=\"default\", disable_numparse=False, colglobalalign=None,\n",
        "         colalign=None, preserve_whitespace=False, maxcolwidths=None, headersglobalalign=None, headersalign=None, rowalign=None,\n",
        "         maxheadercolwidths=None, break_long_words=_BREAK_LONG_WORDS, break_on_hyphens=_BREAK_ON_HYPHENS)\n",
        "```\n",
        "\n",
        "この関数は、一定のデータ構造を表形式に整形したテキストを生成して返す。以下のデータ構造をサポートする。\n",
        "\n",
        "| データ構造 | 例 |\n",
        "|:---|:---|\n",
        "| ネストされたリスト | `[['Name', 'Age'], ['Alice', 24], ['Bob', 19]]` |\n",
        "| リストを含む辞書 | `{'Name': ['Alice', 'Bob'], 'Age': [24, 19]}` |\n",
        "| 辞書のリスト | `[{'Name': 'Alice', 'Age': 24}, {'Name': 'Bob', 'Age': 19}]` |\n",
        "| dataclass のリスト | `[Person('Alice', 24), Person('Bob', 19)]` |\n",
        "\n",
        "関数の主な引数は、以下の通り。\n",
        "\n",
        "| 引数 | 意味 |\n",
        "|:---|:---|\n",
        "| `tabular_data` | 入力データ |\n",
        "| `headers` | 表のヘッダーを指定する<br /><br />・空リストや空タプル: ヘッダーを表示しない（デフォルト）<br /><br />・文字列のリストまたはタプル: ヘッダーとして表示したい文字列を順序通りにリストまたはタプルで指定する<br />　・`tabular_data` がネストされたリストの場合、各リストの順序通りに要素がヘッダーに対応付けられる<br />　・`tabular_data` がリストを含む辞書や、辞書のリストである場合、ヘッダーと一致するキーの値がヘッダーに対応付けられる<br />　・`tabular_data` が dataclass のリストである場合、ヘッダーと一致するフィールドの値がヘッダーに対応付けられる<br /><br />・`'firstrow'`: `tabular_data` がネストされたリストの場合、最初の内側のリストを表のヘッダーとして扱う<br /><br />・`'keys'`: `tabular_data` がリストを含む辞書や、辞書のリストである場合、各キーを表のヘッダーとする |\n",
        "| `tablefmt` | 表の書式を文字列で指定する。デフォルトは `'simple'` |\n",
        "| `floatfmt` | `float` 型データに対する書式指定。デフォルトは `'g'` |\n",
        "| `intfmt` | `int` 型データに対する書式指定。デフォルトは 10 進数 |\n",
        "| `numalign` | 数値の列の配置。`'right'`（右揃え）, `'center'`（中央揃え）, `'left'`（左揃え）, `'decimal'` |\n",
        "| `stralign` | 文字列の列の配置。`'right'`（右揃え）, `'center'`（中央揃え）, `'left'`（左揃え） |\n",
        "| `showindex` | `True` の場合、自動連番でインデックスを表示する。イテラブルの場合、表示する任意のインデックスを指定する |\n",
        "| `colalign` | シーケンスで列ごとの配置を指定する。`'right'`（右揃え）, `'center'`（中央揃え）, `'left'`（左揃え） |\n",
        "\n",
        "書式 `tablefmt='simple'` の例:"
      ],
      "metadata": {
        "id": "X-fqa7k9stuc"
      }
    },
    {
      "cell_type": "code",
      "source": [
        "# ネストされたリストを整形出力\n",
        "from tabulate import tabulate\n",
        "table = [[\"Sun\",696000,1989100000], [\"Earth\",6371,5973.6], [\"Moon\",1737,73.5], [\"Mars\",3390,641.85]]\n",
        "print(tabulate(table, headers=[\"Planet\",\"R (km)\", \"mass (x 10^29 kg)\"]))"
      ],
      "metadata": {
        "colab": {
          "base_uri": "https://localhost:8080/"
        },
        "id": "y2sP-_sSuXOu",
        "outputId": "5c33c7c8-5d67-46c1-bd96-47f9b0bf83e2"
      },
      "execution_count": null,
      "outputs": [
        {
          "output_type": "stream",
          "name": "stdout",
          "text": [
            "Planet      R (km)    mass (x 10^29 kg)\n",
            "--------  --------  -------------------\n",
            "Sun         696000           1.9891e+09\n",
            "Earth         6371        5973.6\n",
            "Moon          1737          73.5\n",
            "Mars          3390         641.85\n"
          ]
        }
      ]
    },
    {
      "cell_type": "markdown",
      "source": [
        "書式 `tablefmt='plain'` の例:"
      ],
      "metadata": {
        "id": "5n_ALY6210Ua"
      }
    },
    {
      "cell_type": "code",
      "source": [
        "# ネストされたリストを整形出力\n",
        "from tabulate import tabulate\n",
        "print(tabulate([[\"Name\", \"Age\"], [\"Alice\", 24], [\"Bob\", 19]],\n",
        "               headers='firstrow', tablefmt='plain'))"
      ],
      "metadata": {
        "colab": {
          "base_uri": "https://localhost:8080/"
        },
        "id": "q9RNdBdNyNA-",
        "outputId": "7882efbd-4e6e-488c-e3e9-fb26c27b6266"
      },
      "execution_count": null,
      "outputs": [
        {
          "output_type": "stream",
          "name": "stdout",
          "text": [
            "Name      Age\n",
            "Alice      24\n",
            "Bob        19\n"
          ]
        }
      ]
    },
    {
      "cell_type": "markdown",
      "source": [
        "書式 `tablefmt='grid'` の例:"
      ],
      "metadata": {
        "id": "ofT1adOc2h1Z"
      }
    },
    {
      "cell_type": "code",
      "source": [
        "# リストを含む辞書を整形出力\n",
        "from tabulate import tabulate\n",
        "print(tabulate({\"Name\": [\"Alice\", \"Bob\"], \"Age\": [24, 19]},\n",
        "               headers=\"keys\", tablefmt='grid'))"
      ],
      "metadata": {
        "colab": {
          "base_uri": "https://localhost:8080/"
        },
        "id": "A-ug5OrR2iVl",
        "outputId": "a1e8e1ca-0847-40ef-c9cd-d372cd0a5981"
      },
      "execution_count": null,
      "outputs": [
        {
          "output_type": "stream",
          "name": "stdout",
          "text": [
            "+--------+-------+\n",
            "| Name   |   Age |\n",
            "+========+=======+\n",
            "| Alice  |    24 |\n",
            "+--------+-------+\n",
            "| Bob    |    19 |\n",
            "+--------+-------+\n"
          ]
        }
      ]
    },
    {
      "cell_type": "markdown",
      "source": [
        "書式 `tablefmt='psql'` の例:"
      ],
      "metadata": {
        "id": "2A9wPAP_3ucq"
      }
    },
    {
      "cell_type": "code",
      "source": [
        "# 辞書のリストを整形出力\n",
        "from tabulate import tabulate\n",
        "print(tabulate([{\"Name\": \"Alice\", \"Age\": 24}, {\"Name\": \"Bob\", \"Age\": 19}],\n",
        "               headers=\"keys\", tablefmt='psql'))"
      ],
      "metadata": {
        "colab": {
          "base_uri": "https://localhost:8080/"
        },
        "id": "birsXq9_3vb4",
        "outputId": "13ec7135-f511-4d88-e8d9-0c85921de9b6"
      },
      "execution_count": null,
      "outputs": [
        {
          "output_type": "stream",
          "name": "stdout",
          "text": [
            "+--------+-------+\n",
            "| Name   |   Age |\n",
            "|--------+-------|\n",
            "| Alice  |    24 |\n",
            "| Bob    |    19 |\n",
            "+--------+-------+\n"
          ]
        }
      ]
    },
    {
      "cell_type": "markdown",
      "source": [
        "書式 `tablefmt='pretty'` の例:"
      ],
      "metadata": {
        "id": "hoO8V_DLVm47"
      }
    },
    {
      "cell_type": "code",
      "source": [
        "# dataclass のリストを整形出力\n",
        "from dataclasses import dataclass, fields\n",
        "from tabulate import tabulate\n",
        "\n",
        "@dataclass\n",
        "class Person:\n",
        "    name: str\n",
        "    age: bool\n",
        "\n",
        "print(tabulate([Person(\"Alice\", 24), Person(\"Bob\", 19)],\n",
        "               headers=[f.name for f in fields(Person)],\n",
        "               tablefmt='pretty'))"
      ],
      "metadata": {
        "colab": {
          "base_uri": "https://localhost:8080/"
        },
        "id": "rOslkjxoCSSB",
        "outputId": "e9789062-93bd-48e6-e962-b31e448ec375"
      },
      "execution_count": null,
      "outputs": [
        {
          "output_type": "stream",
          "name": "stdout",
          "text": [
            "+-------+-----+\n",
            "| name  | age |\n",
            "+-------+-----+\n",
            "| Alice | 24  |\n",
            "|  Bob  | 19  |\n",
            "+-------+-----+\n"
          ]
        }
      ]
    },
    {
      "cell_type": "markdown",
      "source": [
        "書式 `tablefmt='github'` の例:"
      ],
      "metadata": {
        "id": "cXv_qaWCRiU2"
      }
    },
    {
      "cell_type": "code",
      "source": [
        "# インデックスを表示\n",
        "from tabulate import tabulate\n",
        "print(tabulate({\"Name\": [\"Alice\", \"Bob\"], \"Age\": [24, 19]},\n",
        "               headers=\"keys\", tablefmt='github', showindex=True))"
      ],
      "metadata": {
        "colab": {
          "base_uri": "https://localhost:8080/"
        },
        "id": "b9p54ErlRjmQ",
        "outputId": "66f75b69-0df5-49a4-d19e-7fdcac878a93"
      },
      "execution_count": null,
      "outputs": [
        {
          "output_type": "stream",
          "name": "stdout",
          "text": [
            "|    | Name   |   Age |\n",
            "|----|--------|-------|\n",
            "|  0 | Alice  |    24 |\n",
            "|  1 | Bob    |    19 |\n"
          ]
        }
      ]
    },
    {
      "cell_type": "markdown",
      "source": [
        "書式 `tablefmt='pipe'` の例:"
      ],
      "metadata": {
        "id": "Wuy_Wz7dKa_W"
      }
    },
    {
      "cell_type": "code",
      "source": [
        "# 列ごとの配置を指定\n",
        "from tabulate import tabulate\n",
        "print(tabulate({\"Name\": [\"Alice\", \"Bob\"], \"Age\": [24, 19], \"Gender\": [\"female\", \"male\"]},\n",
        "               headers=\"keys\", tablefmt='pipe', colalign=[\"left\", \"right\", \"center\"]))"
      ],
      "metadata": {
        "colab": {
          "base_uri": "https://localhost:8080/"
        },
        "id": "vLz8uLLiO2LS",
        "outputId": "f002fe2e-3c25-4486-d12b-92d0cb8370ac"
      },
      "execution_count": null,
      "outputs": [
        {
          "output_type": "stream",
          "name": "stdout",
          "text": [
            "| Name   |   Age |  Gender  |\n",
            "|:-------|------:|:--------:|\n",
            "| Alice  |    24 |  female  |\n",
            "| Bob    |    19 |   male   |\n"
          ]
        }
      ]
    },
    {
      "cell_type": "markdown",
      "source": [
        "書式 `tablefmt='html'` の例:"
      ],
      "metadata": {
        "id": "Qy36rxmoSK8z"
      }
    },
    {
      "cell_type": "code",
      "source": [
        "# float 型データに対する書式指定\n",
        "import math\n",
        "from tabulate import tabulate\n",
        "from IPython.display import HTML\n",
        "display(HTML(tabulate({\"constant\": [\"e\", \"pi\"], \"value\": [math.e, math.pi]},\n",
        "             headers=\"keys\", tablefmt='html', floatfmt='.2f')))"
      ],
      "metadata": {
        "colab": {
          "base_uri": "https://localhost:8080/",
          "height": 82
        },
        "id": "jLDarJZrKaOv",
        "outputId": "30fabe89-c134-4caf-bec1-c03904952207"
      },
      "execution_count": null,
      "outputs": [
        {
          "output_type": "display_data",
          "data": {
            "text/plain": [
              "<IPython.core.display.HTML object>"
            ],
            "text/html": [
              "<table>\n",
              "<thead>\n",
              "<tr><th>constant  </th><th style=\"text-align: right;\">  value</th></tr>\n",
              "</thead>\n",
              "<tbody>\n",
              "<tr><td>e         </td><td style=\"text-align: right;\">   2.72</td></tr>\n",
              "<tr><td>pi        </td><td style=\"text-align: right;\">   3.14</td></tr>\n",
              "</tbody>\n",
              "</table>"
            ]
          },
          "metadata": {}
        }
      ]
    },
    {
      "cell_type": "markdown",
      "source": [
        "pickle\n",
        "------"
      ],
      "metadata": {
        "id": "lL0WsrHXDIsE"
      }
    },
    {
      "cell_type": "markdown",
      "source": [
        "Python のオブジェクトを一列のバイト列に変換することを**シリアライズ**（直列化）といい、復元することを**デシリアライズ**という。シリアライズしたものをファイルに保存すると、オブジェクトのデータ構造とデータの値をそのまま保存することができる。ファイルを読み込み、デシリアライズすると、元のオブジェクトを復元できる。このようにオブジェクトを半永久的に保存し、いつでも復元できるようにすることを**永続化**（perpetuation）という。\n",
        "\n",
        "標準ライブラリの `pickle` モジュールは、シリアライズ・デシリアライズをサポートする。`pickle` モジュールが提供する機能を使ってシリアライズとファイル保存をすることを pickle 化、ファイル読み込みとデシリアライズをすることを非 pickle 化と呼ぶ。ファイル名の拡張子は `.pickle` とすることが多い。 pickle は Python 固有のバイナリ形式であり、相互運用可能なフォーマットではない。\n",
        "\n",
        "| 関数 | 機能 | 戻り値 |\n",
        "|:---|:---|:---|\n",
        "| `pickle.dump(obj, file, protocol=None, *, fix_imports=True, `<br />`buffer_callback=None)` | オブジェクト `obj` をシリアライズし、ファイルオブジェクト `file` に書き込む | `None` |\n",
        "| `pickle.dumps(obj, protocol=None, *, fix_imports=True,`<br />` buffer_callback=None)` | オブジェクト `obj` をシリアライズし、結果のバイト列を返す | `bytes` |\n",
        "| `pickle.load(file, *, fix_imports=True, encoding='ASCII',`<br />` errors='strict', buffers=None)` | ファイルオブジェクト `file` から読み込んだ内容をデシリアライズし、結果の<br />オブジェクトを返す | `object` |\n",
        "| `pickle.loads(data, /, *, fix_imports=True, encoding='ASCII',`<br />` errors='strict', buffers=None)` | バイト列 `data` をデシリアライズし、結果のオブジェクトを返す | `object` |\n",
        "\n",
        "`dump()` と `dumps()` の `protocol` 引数は、整数で、シリアライズで使用するプロトコルのバージョンを指定する。指定されない場合、`pickle.DEFAULT_PROTOCOL` が使用される。Python 3.8 以降、`pickle.DEFAULT_PROTOCOL` は `4` で、Python 3.3 以前では利用できない。`pickle.HIGHEST_PROTOCOL` は、利用可能な最も高いプロトコルバージョンであり、Python 3.8 以降は `5`。これは Python 3.7 以前では利用できない。\n",
        "\n",
        "`fix_imports` 引数が真の場合、可能なら Python 2 との互換性を保つ形式となるが、今日の `pickle.DEFAULT_PROTOCOL` 以降のバージョンではサポートされない。\n",
        "\n",
        "書き込み（ pickle 化）:\n",
        "\n",
        "``` python\n",
        "import pickle\n",
        "with open(filepath, 'wb') as f:\n",
        "    pickle.dump(obj, f)\n",
        "```\n",
        "\n",
        "読み込み（非 pickle 化）:\n",
        "\n",
        "``` python\n",
        "import pickle\n",
        "with open(filepath, 'rb') as f:\n",
        "    x = pickle.load(f)\n",
        "```\n",
        "\n",
        "`open()` 関数はバイナリモードを指定する必要がある。`pickle.load()` 関数はバイナリファイルを開き、バイナリファイルの安全性を保証しない。非 pickle 化により任意のコードを実行することも可能である。**信頼できない提供元からのデータや、改竄された可能性のあるデータの非 pickle 化は絶対に行ってはいけない**。データの内容や提供先が信頼できないようなケースでは、 JSON のようなより安全なデータフォーマットを使用するべきである。\n",
        "\n",
        "ファイルオブジェクトやジェネレーターのように pickle 化できないオブジェクトもあって、これらを pickle 化しようとすると `pickle.PicklingError` 例外が発生する。\n",
        "\n",
        "以下のオブジェクトは pickle 化できる。\n",
        "\n",
        "  * `None`、`True`、`False`、`Ellipsis`、`NotImplemented`\n",
        "  * 整数、浮動小数点数、複素数\n",
        "  * 文字列、バイト列、バイト配列（`bytearray`）\n",
        "  * `date` オブジェクト、`datetime` オブジェクト、`time` オブジェクト、`timezone` オブジェクト\n",
        "  * pickle 化可能なオブジェクトからなるタプル、リスト、集合、辞書、`deque` および `namedtuple`（ただし引数 `typename` と同じ名前の変数に割り当てることが条件となる）\n",
        "  * モジュールのトップレベルで定義された関数（`def` で定義されたもののみで `lambda` で定義されたものは含まない）\n",
        "  * モジュールのトップレベルで定義されているクラス\n",
        "  * `__getstate__()` メソッドを呼び出した結果が pickle 化可能であるようなクラスのインスタンス\n",
        "\n",
        "関数のコードやその属性は pickle 化されない。クラスも同様である。したがって、非 pickle 化を行うモジュールにおいて、pickle 化した関数やクラスを定義するモジュールが import されていないと、例外が発生する。"
      ],
      "metadata": {
        "id": "kNa2RpegDLj-"
      }
    },
    {
      "cell_type": "code",
      "source": [
        "import pickle\n",
        "import datetime as dt\n",
        "\n",
        "data = {\n",
        "    \"a\": [1, 2.0, 3 + 4j],\n",
        "    \"b\": (\"character string\", b\"byte string\"),\n",
        "    \"c\": {None, True, False},\n",
        "    \"d\": dt.datetime(2023, 10, 31, 21, 30, tzinfo=dt.timezone(dt.timedelta(hours=9), \"JST\")),\n",
        "}\n",
        "\n",
        "# シリアライズ\n",
        "serialized = pickle.dumps(data)\n",
        "print(f\"{serialized=}\", \"\\n\")\n",
        "\n",
        "# datetime モジュールをアンインポートする\n",
        "del dt\n",
        "\n",
        "# デシリアライズ\n",
        "data2 = pickle.loads(serialized)\n",
        "\n",
        "# datetime モジュールを import していなくてもエラーにならない\n",
        "print(f\"{data['d']:%Y年%m月%d日 %H時%M分} ({data2['d'].tzname()})\")\n",
        "data2"
      ],
      "metadata": {
        "colab": {
          "base_uri": "https://localhost:8080/"
        },
        "id": "BAwnkvb3-YuW",
        "outputId": "6a78006e-7f95-4615-d5ca-1cc015b7d8e9"
      },
      "execution_count": null,
      "outputs": [
        {
          "output_type": "stream",
          "name": "stdout",
          "text": [
            "serialized=b'\\x80\\x04\\x95\\xd8\\x00\\x00\\x00\\x00\\x00\\x00\\x00}\\x94(\\x8c\\x01a\\x94]\\x94(K\\x01G@\\x00\\x00\\x00\\x00\\x00\\x00\\x00\\x8c\\x08builtins\\x94\\x8c\\x07complex\\x94\\x93\\x94G@\\x08\\x00\\x00\\x00\\x00\\x00\\x00G@\\x10\\x00\\x00\\x00\\x00\\x00\\x00\\x86\\x94R\\x94e\\x8c\\x01b\\x94\\x8c\\x10character string\\x94C\\x0bbyte string\\x94\\x86\\x94\\x8c\\x01c\\x94\\x8f\\x94(\\x89\\x88N\\x90\\x8c\\x01d\\x94\\x8c\\x08datetime\\x94\\x8c\\x08datetime\\x94\\x93\\x94C\\n\\x07\\xe7\\n\\x1f\\x15\\x1e\\x00\\x00\\x00\\x00\\x94h\\x0f\\x8c\\x08timezone\\x94\\x93\\x94h\\x0f\\x8c\\ttimedelta\\x94\\x93\\x94K\\x00M\\x90~K\\x00\\x87\\x94R\\x94\\x8c\\x03JST\\x94\\x86\\x94R\\x94\\x86\\x94R\\x94u.' \n",
            "\n",
            "2023年10月31日 21時30分 (JST)\n"
          ]
        },
        {
          "output_type": "execute_result",
          "data": {
            "text/plain": [
              "{'a': [1, 2.0, (3+4j)],\n",
              " 'b': ('character string', b'byte string'),\n",
              " 'c': {False, None, True},\n",
              " 'd': datetime.datetime(2023, 10, 31, 21, 30, tzinfo=datetime.timezone(datetime.timedelta(seconds=32400), 'JST'))}"
            ]
          },
          "metadata": {},
          "execution_count": 27
        }
      ]
    }
  ]
}