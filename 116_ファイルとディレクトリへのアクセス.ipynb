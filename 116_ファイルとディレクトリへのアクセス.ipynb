{
  "nbformat": 4,
  "nbformat_minor": 0,
  "metadata": {
    "colab": {
      "provenance": [],
      "authorship_tag": "ABX9TyO3WOJYzJEVMi1VSsHEB0Fp",
      "include_colab_link": true
    },
    "kernelspec": {
      "name": "python3",
      "display_name": "Python 3"
    },
    "language_info": {
      "name": "python"
    }
  },
  "cells": [
    {
      "cell_type": "markdown",
      "metadata": {
        "id": "view-in-github",
        "colab_type": "text"
      },
      "source": [
        "<a href=\"https://colab.research.google.com/github/suwatoh/Python-learning/blob/main/116_%E3%83%95%E3%82%A1%E3%82%A4%E3%83%AB%E3%81%A8%E3%83%87%E3%82%A3%E3%83%AC%E3%82%AF%E3%83%88%E3%83%AA%E3%81%B8%E3%81%AE%E3%82%A2%E3%82%AF%E3%82%BB%E3%82%B9.ipynb\" target=\"_parent\"><img src=\"https://colab.research.google.com/assets/colab-badge.svg\" alt=\"Open In Colab\"/></a>"
      ]
    },
    {
      "cell_type": "markdown",
      "source": [
        "ファイルとディレクトリへのアクセス\n",
        "=================================="
      ],
      "metadata": {
        "id": "RGiIJ91QZ0pP"
      }
    },
    {
      "cell_type": "markdown",
      "source": [
        "パスの表現\n",
        "----------"
      ],
      "metadata": {
        "id": "wKG3x_LgHoe0"
      }
    },
    {
      "cell_type": "markdown",
      "source": [
        "### 絶対パス・相対パス ###"
      ],
      "metadata": {
        "id": "85Udxc0hHpem"
      }
    },
    {
      "cell_type": "markdown",
      "source": [
        "**絶対パス**（absolute path）とは、ルートディレクトリからの完全な表現で指定したパスのことである。フルパス（full path）とも呼ばれる。\n",
        "\n",
        "**相対パス**（relative path）とは、ユーザが現在作業しているフォルダ（カレントディレクトリ）を表す記号 `.` と、直接の上位パスを表す記号 `..` を用いてなんらかの任意のフォルダから目的のフォルダまでの経路を表すパスのことである。"
      ],
      "metadata": {
        "id": "gbsCGYjaHrj4"
      }
    },
    {
      "cell_type": "markdown",
      "source": [
        "### globパターン ###"
      ],
      "metadata": {
        "id": "UQOhpbrWHtqI"
      }
    },
    {
      "cell_type": "markdown",
      "source": [
        "**glob パターン**とは、Unix 系環境においてワイルドカードでファイル名のセットを指定するパターンのことである。ワイルドカードとして使用できる記号は以下の通り。\n",
        "\n",
        "| ワイルドカード | 意味 |\n",
        "|:---|:---|\n",
        "| `*` | 0 文字以上の任意の文字列にマッチする |\n",
        "| `?` | 任意の 1 文字にマッチする |\n",
        "| `[seq]` | `seq` にある任意の文字にマッチする。正規表現と同じ書式 |\n",
        "| `[!seq]` | `seq` にない任意の文字にマッチする。正規表現の `[^seq]` と同じ |\n",
        "\n",
        "たとえば、`[0-9]` は任意のアラビア数字にマッチする。`[!0-9]` はアラビア数字以外の任意の文字にマッチする。\n",
        "\n",
        "標準ライブラリの `glob` モジュールでは、ディレクトリのワイルドカード検索からファイルのリストを生成するための関数を提供している:"
      ],
      "metadata": {
        "id": "g8d9zejMH2kJ"
      }
    },
    {
      "cell_type": "code",
      "source": [
        "import glob\n",
        "glob.glob('./*/*.csv')"
      ],
      "metadata": {
        "colab": {
          "base_uri": "https://localhost:8080/"
        },
        "id": "gmzRbyRE49AC",
        "outputId": "ca4331a2-fca1-40d8-8d30-3003e3182ef7"
      },
      "execution_count": null,
      "outputs": [
        {
          "output_type": "execute_result",
          "data": {
            "text/plain": [
              "['./sample_data/california_housing_train.csv',\n",
              " './sample_data/mnist_test.csv',\n",
              " './sample_data/mnist_train_small.csv',\n",
              " './sample_data/california_housing_test.csv']"
            ]
          },
          "metadata": {},
          "execution_count": 1
        }
      ]
    },
    {
      "cell_type": "markdown",
      "source": [
        "path-like オブジェクト\n",
        "----------------------"
      ],
      "metadata": {
        "id": "f7JJ57qdUiE8"
      }
    },
    {
      "cell_type": "markdown",
      "source": [
        "**path-like オブジェクト**は、パスを表す文字列やバイト列、または `os.PathLike` プロトコルを実装したオブジェクトのどれかである。\n",
        "\n",
        "`os.PathLike` は抽象基底クラスで、唯一の抽象メソッド `__fspath__()` を持つ。`__fspath__()` は、このオブジェクトが表現するファイルシステムパスを返す。戻り値は `str` か `bytes` だけが許される。\n",
        "\n",
        "`os.fspath(path)` 関数は、もし文字列やバイト列が渡された場合は、変更せずにそのまま返す。そうでなければ、`path.__fspath__()` が呼び出され、その戻り値が文字列かバイト列であれば、その値を返す。他のすべてのケースでは `TypeError` 例外が発生する。"
      ],
      "metadata": {
        "id": "JM5c0hRTUjAa"
      }
    },
    {
      "cell_type": "code",
      "source": [
        "import os\n",
        "\n",
        "class MyFile(os.PathLike):\n",
        "    def __fspath__(self):\n",
        "        return \"myfile\"\n",
        "\n",
        "f = MyFile()\n",
        "assert os.fspath(f) == \"myfile\""
      ],
      "metadata": {
        "id": "BwjozDMQIAQ3"
      },
      "execution_count": null,
      "outputs": []
    },
    {
      "cell_type": "markdown",
      "source": [
        "純粋パスと具象パス\n",
        "------------------"
      ],
      "metadata": {
        "id": "xgQ6ca9dZ1ZE"
      }
    },
    {
      "cell_type": "markdown",
      "source": [
        "標準ライブラリの `pathlib` モジュールは、`os.PathLike` プロトコルをサポートするクラスを提供する。それらは、純粋パス `PurePath`、`PureWindowsPath`、`PurePosixPath` と、具象パス `Path`、`WindowsPath`、`PosixPath` からなる。継承関係は次の図のとおり（公式ドキュメントより引用）。\n",
        "\n",
        "![](https://docs.python.org/ja/3/_images/pathlib-inheritance.png)\n",
        "\n",
        "基本的には具象パス `Path` を使用する。具象パスのオブジェクトが作成されると、それは `WindowsPath` のインスタンスか `PosixPath` のインスタンスのどちらかであり、コードが実行されているプラットフォームによって自動的に決まる。Unix 上で実行しているときに `WindowsPath` のインスタンスを作成することはできない（逆もまた同じ）。\n",
        "\n",
        "一方、`PureWindowsPath` および `PurePosixPath` は、あらゆるシステムコールを行わないため、起動しているシステムにかかわらずインスタンスを作成できる。"
      ],
      "metadata": {
        "id": "lCuZ0l7rZ83B"
      }
    },
    {
      "cell_type": "markdown",
      "source": [
        "パスオブジェクトの性質\n",
        "----------------------"
      ],
      "metadata": {
        "id": "9stISfu0EVTw"
      }
    },
    {
      "cell_type": "markdown",
      "source": [
        "`PurePath`（を継承するクラス）は `os.PathLike` プロトコルをサポートしているので、そのインスタンスは path-like オブジェクトであり、path-like オブジェクトに対応する関数（たとえば組み込み関数 `open()`）の引数に渡すことができる。`__fspath__()` の実装は、単に `str(self)` を呼び出して戻り値を返すだけである。したがって、`str(path)` と `os.fspath(path)` は完全に同じ値となる。\n",
        "\n",
        "パスオブジェクト同士の比較 `==`、`!=` が可能である。2 つのパスオブジェクトが表現するパスが完全に一致するとき、`==` の評価は `*WindowsPath` 同士または `*PosixPath` 同士で `True` となる。大文字、小文字を区別しない。絶対パスと相対パスは区別される。`*WindowsPath` と `*PosixPath` の組み合わせでは、`==` は常に `False` となる。\n",
        "\n",
        "パスオブジェクトはイミュータブル（変更不可能）であり、ハッシュ可能である。"
      ],
      "metadata": {
        "id": "CUSYh_gpEbyd"
      }
    },
    {
      "cell_type": "markdown",
      "source": [
        "パスオブジェクトの作成\n",
        "----------------------"
      ],
      "metadata": {
        "id": "LQoi2U1STuki"
      }
    },
    {
      "cell_type": "markdown",
      "source": [
        "``` python\n",
        "pathlib.Path(*pathsegments)\n",
        "```\n",
        "\n",
        "コンストラクタの引数 `pathsegments` の各要素は、パスの構成要素を表す文字列か、path-like オブジェクトである必要がある。それらは実際のファイルシステムに存在しないものでもよい。引数を省略すると、カレントディレクトリパス `Path(\".\")` とみなす。"
      ],
      "metadata": {
        "id": "ShfO9fSFTvZC"
      }
    },
    {
      "cell_type": "code",
      "source": [
        "from pathlib import Path\n",
        "import os\n",
        "\n",
        "# 相対パスを指定\n",
        "path = Path('setup.py')\n",
        "assert str(path) == os.fspath(path) == \"setup.py\"\n",
        "\n",
        "# 絶対パスを指定\n",
        "path = Path('/foo/some/path/bar')\n",
        "assert str(path) == os.fspath(path) == \"/foo/some/path/bar\"\n",
        "\n",
        "# パスを構成する要素を指定\n",
        "mydir = \"bar\"\n",
        "assert Path(\"/\", \"foo\", \"some/path\", mydir) == path\n",
        "\n",
        "# 引数を省略--カレントディレクトリパスとみなされる\n",
        "assert Path() == Path(\".\")"
      ],
      "metadata": {
        "id": "q4efuo_5Zz8Y"
      },
      "execution_count": null,
      "outputs": []
    },
    {
      "cell_type": "markdown",
      "source": [
        "除算演算子 `/` を使って、子パスを作成することができる:"
      ],
      "metadata": {
        "id": "qjU7Tw8abBo3"
      }
    },
    {
      "cell_type": "code",
      "source": [
        "from pathlib import Path\n",
        "\n",
        "path = Path(\"/etc\")\n",
        "assert (path / \"init.d\" / \"apache2\")  == (path / Path(\"init.d\", \"apache2\"))  == Path(\"/etc/init.d/apache2\")"
      ],
      "metadata": {
        "id": "pSMhtQnJ42va"
      },
      "execution_count": null,
      "outputs": []
    },
    {
      "cell_type": "markdown",
      "source": [
        "また、以下のクラスメソッドを呼び出すことでも、パスオブジェクトを作成できる。\n",
        "\n",
        "| クラスメソッド | 機能 |\n",
        "|:---|:---|\n",
        "| `Path.cwd()` | カレントディレクトリを表すパスオブジェクトを返す |\n",
        "| `Path.home()` | ユーザーのホームディレクトリを表すパスオブジェクトを返す。ホームディレクトリが解決できない場合は、`RuntimeError` 例外を送出する |\n",
        "\n",
        "これらのメソッドは、絶対パスを表すパスオブジェクトを作成する。絶対パスと相対パスは、パスの表現としては異なるので、`Path.cwd()` と `Path(\".\")` は等しくないとされる。"
      ],
      "metadata": {
        "id": "U9TBMtE6yEYD"
      }
    },
    {
      "cell_type": "code",
      "source": [
        "from pathlib import Path\n",
        "\n",
        "assert (cwd := Path.cwd()) != Path('.')\n",
        "print(str(cwd))\n",
        "print(str(Path('.')))\n",
        "print(str(Path.home()))"
      ],
      "metadata": {
        "colab": {
          "base_uri": "https://localhost:8080/"
        },
        "id": "_59EuX4VyGLc",
        "outputId": "a8cc0e08-8408-4e81-c5c1-bc34d7244422"
      },
      "execution_count": null,
      "outputs": [
        {
          "output_type": "stream",
          "name": "stdout",
          "text": [
            "/content\n",
            ".\n",
            "/root\n"
          ]
        }
      ]
    },
    {
      "cell_type": "markdown",
      "source": [
        "パスオブジェクトのプロパティ\n",
        "----------------------------"
      ],
      "metadata": {
        "id": "Au2mr9Q9v_HT"
      }
    },
    {
      "cell_type": "markdown",
      "source": [
        "パスオブジェクトのプロパティは、純粋パス `PurePath` から継承しており、すべて読み出し専用である。\n",
        "\n",
        "| プロパティ | 意味 | 戻り値 |\n",
        "|:---|:---|:---|\n",
        "| `parts` | パスを構成する要素からなるタプルを返す | `tuple` |\n",
        "| `drive` | ドライブを表す文字列を返す。ドライブがなければ空文字列を返す | `str` |\n",
        "| `root` | ルートを表す文字列を返す。ルートがなければ空文字列を返す | `str` |\n",
        "| `anchor` | ドライブとルートを結合した文字列を返す | `str` |\n",
        "| `name` | パス要素の末尾を表す文字列 |`str` |\n",
        "| `suffix` | 末尾の要素に拡張子（ドット `.` 付き文字列）があればそれを返す。なければ空文字列を返す | `str` |\n",
        "| `suffixes` | 拡張子のリストを返す（例: `Path('my/library.tar.gz').suffixes` => `['.tar', '.gz']`） | `list` |\n",
        "| `stem` | 末尾の要素から拡張子を除いたものを返す（例: `Path('my/library.tar.gz').stem` => `'library.tar'`） | `str` |\n",
        "| `parent` | パスの直接の上位パスを返す | パスオブジェクト |\n",
        "| `parents` | 上位パスにアクセスできるイミュータブルなシーケンスを返す | パスオブジェクトのシーケンス |"
      ],
      "metadata": {
        "id": "Dx5a6tbCwAIk"
      }
    },
    {
      "cell_type": "code",
      "source": [
        "from pathlib import Path\n",
        "\n",
        "path = Path(\"/spam/ham/eggs.py\")\n",
        "print(f\"{path=}\")\n",
        "print(f\"{path.parts=}\")\n",
        "print(f\"{path.drive=}\")\n",
        "print(f\"{path.root=}\")\n",
        "print(f\"{path.anchor=}\")\n",
        "print(f\"{path.name=}\")\n",
        "print(f\"{path.suffix=}\")\n",
        "print(f\"{path.suffixes=}\")\n",
        "print(f\"{path.stem=}\")\n",
        "print(f\"{path.parent=}\")\n",
        "print(f\"{path.parents[0]=}\")\n",
        "print(f\"{path.parents[1]=}\")\n",
        "print(f\"{path.parents[2]=}\")"
      ],
      "metadata": {
        "colab": {
          "base_uri": "https://localhost:8080/"
        },
        "id": "YlcoxhVhzHKP",
        "outputId": "7cd7eace-2d4a-41d1-fc37-1eb9c2c76d60"
      },
      "execution_count": null,
      "outputs": [
        {
          "output_type": "stream",
          "name": "stdout",
          "text": [
            "path=PosixPath('/spam/ham/eggs.py')\n",
            "path.parts=('/', 'spam', 'ham', 'eggs.py')\n",
            "path.drive=''\n",
            "path.root='/'\n",
            "path.anchor='/'\n",
            "path.name='eggs.py'\n",
            "path.suffix='.py'\n",
            "path.suffixes=['.py']\n",
            "path.stem='eggs'\n",
            "path.parent=PosixPath('/spam/ham')\n",
            "path.parents[0]=PosixPath('/spam/ham')\n",
            "path.parents[1]=PosixPath('/spam')\n",
            "path.parents[2]=PosixPath('/')\n"
          ]
        }
      ]
    },
    {
      "cell_type": "markdown",
      "source": [
        "プロパティの値は、プラットフォームに依存する。Unix マシン上で Windows のパスを扱いたいときは `PureWindowsPath` のインスタンスを、Windows マシン上で Unix のパスを扱いたいときは `PurePosixPath` のインスタンスを作成して、それによりエミュレーションが可能である。"
      ],
      "metadata": {
        "id": "cdvwBO-g7ih2"
      }
    },
    {
      "cell_type": "code",
      "source": [
        "from pathlib import PureWindowsPath\n",
        "\n",
        "path = PureWindowsPath(r\"c:\\Program Files\\UNP\")\n",
        "print(f\"{path.drive=}\")\n",
        "print(f\"{path.root=}\")\n",
        "print(f\"{path.anchor=}\")"
      ],
      "metadata": {
        "colab": {
          "base_uri": "https://localhost:8080/"
        },
        "id": "MfHFtczV7jab",
        "outputId": "ba660e4a-3a3a-41ed-e7b9-8819405164f8"
      },
      "execution_count": null,
      "outputs": [
        {
          "output_type": "stream",
          "name": "stdout",
          "text": [
            "path.drive='c:'\n",
            "path.root='\\\\'\n",
            "path.anchor='c:\\\\'\n"
          ]
        }
      ]
    },
    {
      "cell_type": "markdown",
      "source": [
        "パスオブジェクトのメソッド\n",
        "--------------------------"
      ],
      "metadata": {
        "id": "BqgRr7389a7r"
      }
    },
    {
      "cell_type": "markdown",
      "source": [
        "### パスのチェック・変換 ###"
      ],
      "metadata": {
        "id": "3tDG0rVOFCEj"
      }
    },
    {
      "cell_type": "markdown",
      "source": [
        "| メソッド | 機能 | 戻り値 |\n",
        "|:---|:---|:---|\n",
        "| `is_absolute()` | パスが絶対パスである場合に `True` を返す | `bool` |\n",
        "| `is_relative_to(other)` | パスが `other` パスに対して相対である場合に `True` を返す | `bool` |\n",
        "| `match(pattern)` | glob 形式の `pattern` と一致する場合に `True` を返す | `bool` |\n",
        "| `joinpath(*pathsegments)` | 与えられた引数を順番に結合したパスを返す | パスオブジェクト |\n",
        "| `with_name(name)` | `name` プロパティ値に該当する部分を、引数の `name` に変更したパスを返す。`name` プロパティ値が空文字列の場合は `ValueError` 例外が送出される | パスオブジェクト |\n",
        "| `with_suffix(suffix)` | `suffix` プロパティ値に該当する部分を、引数の `suffix` に変更したパスを返す。`suffix` プロパティ値が空文字列の場合は、引数の `suffix` を追加<br />する。引数の `suffix` が空文字列の場合、元の拡張子が削除される | パスオブジェクト |\n",
        "| `with_stem(stem)` | `stem` プロパティ値に該当する部分を、引数の `stem` に変更したパスを返す。`steme` プロパティ値が空文字列の場合は `ValueError` 例外が送出される | パスオブジェクト |\n",
        "\n",
        "これらのメソッドは、純粋パス `PurePath` から継承しており、システムコールを呼ばないので、`PurePosixPath` または `PureWindowsPath` のインスタンスメソッドでエミュレーションできる。"
      ],
      "metadata": {
        "id": "jBV4j3Ph9byu"
      }
    },
    {
      "cell_type": "code",
      "source": [
        "from pathlib import Path\n",
        "\n",
        "assert Path(\"/a/b\").is_absolute()\n",
        "assert Path(\"/spam/ham/eggs.py\").is_relative_to(\"/spam\")\n",
        "assert not Path(\"/spam/ham/eggs.py\").is_relative_to(\"/ham\")\n",
        "assert Path(\"/spam/ham/eggs.py\").match(\"*.py\")\n",
        "assert Path(\"/spam\").joinpath(\"ham\", \"eggs.py\") == Path(\"/spam\") / \"ham\" / \"eggs.py\" == Path(\"/spam/ham/eggs.py\")\n",
        "assert Path(\"/spam/ham/eggs.py\").with_name(\"hoge.txt\") == Path(\"/spam/ham/hoge.txt\")\n",
        "assert Path(\"/spam/ham/eggs.py\").with_suffix(\".txt\") == Path(\"/spam/ham/eggs.txt\")\n",
        "assert Path(\"/spam/ham/eggs.py\").with_suffix(\"\") == Path(\"/spam/ham/eggs\")\n",
        "assert Path(\"/spam/ham/eggs.py\").with_stem(\"foo\") == Path(\"/spam/ham/foo.py\")"
      ],
      "metadata": {
        "id": "cmQWmJ9SXoOy"
      },
      "execution_count": null,
      "outputs": []
    },
    {
      "cell_type": "markdown",
      "source": [
        "`match()` メソッドの引数 `pattern` が相対表記であれば、パスは相対および絶対パスを取ることができ、右から一致を調べる:"
      ],
      "metadata": {
        "id": "DokWgl6CXyEy"
      }
    },
    {
      "cell_type": "code",
      "source": [
        "from pathlib import Path\n",
        "\n",
        "assert Path(\"a/b.py\").match(\"*.py\")\n",
        "assert Path(\"/a/b/c.py\").match(\"b/*.py\")\n",
        "assert not Path(\"/a/b/c.py\").match(\"a/*.py\")"
      ],
      "metadata": {
        "id": "HtsjFdE5HMqf"
      },
      "execution_count": null,
      "outputs": []
    },
    {
      "cell_type": "markdown",
      "source": [
        "`match()` メソッドの引数 `pattern` が絶対表記であれば、パスは絶対パスでなければならず、パス全体が一致しなければならない:"
      ],
      "metadata": {
        "id": "zST4GfzdZ1fN"
      }
    },
    {
      "cell_type": "code",
      "source": [
        "from pathlib import Path\n",
        "\n",
        "assert Path('/a.py').match('/*.py')\n",
        "assert not Path('a/b.py').match('/*.py')"
      ],
      "metadata": {
        "id": "ztwdIVtIZ2d2"
      },
      "execution_count": null,
      "outputs": []
    },
    {
      "cell_type": "markdown",
      "source": [
        "### ファイルシステムの確認 ###"
      ],
      "metadata": {
        "id": "tpq1RbqmFL6E"
      }
    },
    {
      "cell_type": "markdown",
      "source": [
        "| メソッド | 機能 | 戻り値 |\n",
        "|:---|:---|:---|\n",
        "| `exists()` | パスが存在する場合 `True` を返す | `bool` |\n",
        "| `is_dir()` | パスがディレクトリ（またはディレクトリへのシンボリックリンク）を指していた場合 `True` を返す | `bool` |\n",
        "| `is_file()` | パスが一般ファイル（または一般ファイルへのシンボリックリンク）を指していた場合 `True` を返す | `bool` |\n",
        "| `is_symlink()` | パスがシンボリックリンクを指していた場合 `True` を返す | `bool` |\n",
        "| `is_junction()` | パスがジャンクションを指している場合 `True` を返す。現在、Windows のみがジャンクションをサポートしている。Python 3.12 で追加 | `bool` |\n",
        "| `samefile(other_path)` | このパスが参照するファイルが `other_path`（`Path` オブジェクトか文字列）と同じであれば `True` を返す | `bool` |\n",
        "| `stat(*, follow_symlinks=True)` | パスについての情報を ` os.stat_result` オブジェクトとして返す。`follow_symlinks` が偽ならシンボリックリンクをたどらない | `os.stat_result` |\n",
        "\n",
        "`is_*()` は、パスが存在していない場合、`False` を返す。\n",
        "\n",
        "`stat()` メソッドが返す `os.stat_result` オブジェクトの主な属性は次のとおり。\n",
        "\n",
        "| 属性 | 意味 |\n",
        "|:---|:---|\n",
        "| `st_mode` | ファイルモード。ファイルタイプとファイルモードのビット（権限） |\n",
        "| `st_nlink` | ハードリンクの数 |\n",
        "| `st_size` | ファイルのバイト単位でのサイズ |\n",
        "| `st_atime` | 秒（POSIX タイムスタンプ）で表した最終アクセス時刻 |\n",
        "| `st_mtime` | 秒（POSIX タイムスタンプ）で表した最終内容更新時刻 |\n",
        "| `st_ctime` | 秒（POSIX タイムスタンプ）で表したメタデータの最終更新時刻（UNIX） / 作成時刻（Windows） |\n",
        "| `st_birthtime` | 秒（POSIX タイムスタンプ）で表した作成時刻（UNIX）（Python 3.12 からは Windowsでも）  |\n",
        "\n",
        "なお、Python 3.12 では、Windows 環境で `st_ctime` から作成時刻を取得することは非推奨になった。将来的には、UNIX 系と同様に、`st_ctime` にはメタデータの最終更新時刻が格納されるようになるとのこと。"
      ],
      "metadata": {
        "id": "M6yBE_5Yo0PU"
      }
    },
    {
      "cell_type": "code",
      "source": [
        "from pathlib import Path\n",
        "from datetime import datetime\n",
        "\n",
        "path = Path(\"sample_data/README.md\")\n",
        "assert path.exists()\n",
        "assert path.parent.is_dir()\n",
        "assert path.is_file()\n",
        "print(f\"{path.stat().st_size=}\")\n",
        "print(f\"{path.name}の最終更新日時: {datetime.fromtimestamp(path.stat().st_mtime)}\")"
      ],
      "metadata": {
        "id": "9oPaLpDfo1L3",
        "colab": {
          "base_uri": "https://localhost:8080/"
        },
        "outputId": "f5f0ee8a-d719-48dc-aef8-fb7d9c174a90"
      },
      "execution_count": null,
      "outputs": [
        {
          "output_type": "stream",
          "name": "stdout",
          "text": [
            "path.stat().st_size=930\n",
            "README.mdの最終更新日時: 2000-01-01 08:00:00\n"
          ]
        }
      ]
    },
    {
      "cell_type": "markdown",
      "source": [
        "### ジェネレーターの生成 ###"
      ],
      "metadata": {
        "id": "I4LtYyFYFY-9"
      }
    },
    {
      "cell_type": "markdown",
      "source": [
        "| メソッド | 機能 | 戻り値 |\n",
        "|:---|:---|:---|\n",
        "| `iterdir()` | パスがディレクトリを指していた場合、そのディレクトリ直下に存在する全てのファイルやディレクトリをパスオブジェクトとして yield <br />するジェネレーターを返す | ジェネレーター |\n",
        "| `glob(pattern)` | パスがディレクトリを指していた場合、相対表記の `pattern` に一致する、そのディレクトリ以下の全てのファイルやディレクトリをパス<br />オブジェクトとして yield するジェネレーターを返す | ジェネレーター |\n",
        "| `walk(top_down=True, on_error=None,`<br />` follow_symlinks=False)` | ディレクトリツリーを走査して、ディレクトリごとに、ディレクトリのパスオブジェクト、サブディレクトリ名のリスト、ファイル名のリスト<br />からなる 3 要素タプルを yield するジェネレーターを返す。オプション引数 `onerror` には、走査中のエラー発生時に呼び出す関数を<br />指定できる。この関数は唯一の引数として `OSError` インスタンスを伴って呼び出される。オプション引数 `follow_symlinks` に `True` <br />を指定すると、シンボリックリンクの指しているディレクトリを走査する。シンボリックリンクが親ディレクトリを指していた場合に、無<br />限ループになることに注意する（Python 3.12 で追加） | ジェネレーター |\n",
        "\n",
        "`glob()` メソッドの引数 `pattern` には、glob パターンを指定できるほか、`**` も指定できる。`**` は、このディレクトリとすべてのサブディレクトリを再帰的に走査することを意味する。"
      ],
      "metadata": {
        "id": "7eXW5t8aptpH"
      }
    },
    {
      "cell_type": "code",
      "source": [
        "from pathlib import Path\n",
        "\n",
        "print(f\"{list(Path().iterdir())=}\")\n",
        "for p in Path().glob(\"**/*\"):\n",
        "    if p.suffix in (\".yaml\", \".md\"):\n",
        "        print(p, end=\", \")"
      ],
      "metadata": {
        "colab": {
          "base_uri": "https://localhost:8080/"
        },
        "id": "VduMkc-FoAk6",
        "outputId": "0b501e36-3a20-4426-d2d9-429ec9538514"
      },
      "execution_count": null,
      "outputs": [
        {
          "output_type": "stream",
          "name": "stdout",
          "text": [
            "list(Path().iterdir())=[PosixPath('.config'), PosixPath('sample_data')]\n",
            ".config/.last_opt_in_prompt.yaml, .config/.last_survey_prompt.yaml, sample_data/README.md, "
          ]
        }
      ]
    },
    {
      "cell_type": "markdown",
      "source": [
        "### パスオブジェクトの変換 ###"
      ],
      "metadata": {
        "id": "MEPx-8-xvZVe"
      }
    },
    {
      "cell_type": "markdown",
      "source": [
        "| メソッド | 機能 | 戻り値 |\n",
        "|:---|:---|:---|\n",
        "| `resolve(strict=False)` | パスを絶対パスにし、シンボリックリンクを解決する。パスが存在せず `strict` が `True` の場合、`FileNotFoundError` 例外を送出する。`strict` が<br />`False` の場合は、パスは可能な限り解決され、残りの部分は存在するかのチェックをせずに追加される。もしパスの解決にあたって無限ループ<br />する場合は、`RuntimeError` 例外を送出する | パスオブジェクト |\n",
        "| `readlink()` | パスがシンボリックリンクの場合、シンボリックリンクが指すパスを返す | パスオブジェクト |"
      ],
      "metadata": {
        "id": "o2Ucb9UbFgIy"
      }
    },
    {
      "cell_type": "code",
      "source": [
        "from pathlib import Path\n",
        "\n",
        "p = Path(\"sample_data/README.md\")\n",
        "print(p.resolve())"
      ],
      "metadata": {
        "colab": {
          "base_uri": "https://localhost:8080/"
        },
        "id": "61pGMWZBQP4Z",
        "outputId": "27648a9b-7914-45cc-84bd-9128ab34c6fd"
      },
      "execution_count": null,
      "outputs": [
        {
          "output_type": "stream",
          "name": "stdout",
          "text": [
            "/content/sample_data/README.md\n"
          ]
        }
      ]
    },
    {
      "cell_type": "markdown",
      "source": [
        "### ファイルやディレクトリの作成・変更・削除 ###"
      ],
      "metadata": {
        "id": "sXb4PSasFidm"
      }
    },
    {
      "cell_type": "markdown",
      "source": [
        "| メソッド | 機能 | 戻り値 |\n",
        "|:---|:---|:---|\n",
        "| `touch(mode=0o666, exist_ok=True)` | パスにファイルが存在しなければファイルを作成する。`mode` が与えられた場合、プロセスの `umask` 値（Windows の場合 `0o000`?）<br />と組み合わせてファイルのモードとアクセスフラグが決定される。ファイルがすでに存在した場合、`exist_ok` が `True` なら更新日<br />付を現在の日時に変更する。その他の場合は `FileExistsError` 例外が送出される | `None` |\n",
        "| `mkdir(mode=0o777, parents=False,`<br />` exist_ok=False)` | パスを新しいディレクトリとして作成する。`mode` が与えられていた場合、プロセスの umask 値と組み合わせてモードとアクセス<br />フラグが決定される。`parents` が `True` の場合、このパスの親ディレクトリを必要に応じて作成する。`parents` が `False` の場合<br />（デフォルト）、親ディレクトリがないと `FileNotFoundError` 例外を送出する。`exist_ok` が `False` の場合（デフォルト）、対象のディ<br />レクトリがすでに存在すると `FileExistsError` を送出する。`exist_ok` が `True` の場合、パス要素の末尾がすでに存在するがディ<br />レクトリではないときは `FileExistsError` 例外を送出するが、ディレクトリであれば送出しない | `None` |\n",
        "| `chmod(mode, *, follow_symlinks=True)` | Unix の chmod コマンドのようにパスのモードとアクセス権限を変更する | `None` |\n",
        "| `rename(target)` | パスの名前を `target` に変更し、`target` を指すパスオブジェクトを返す。`target` が既存の場合、Windows 環境では常に<br /> `FileExistsError` 例外が送出されるが、Unix 環境ではユーザにパーミッションがあれば静かに置換される | パスオブ<br />ジェクト |\n",
        "| `unlink(missing_ok=False)` | パスがファイル（またはシンボリックリンク）を指していた場合、これを削除する。`missing_ok` が `False` の場合（デフォルト）、対象<br />のファイルが存在しないと `FileNotFoundError` 例外を送出する。`missing_ok` が `True` の場合、`FileExistsError` 例外を送出しない | `None` |\n",
        "| `rmdir()` | パスがディレクトリを指していた場合、これを削除する。ディレクトリは空でなければならない  | `None` |\n",
        "| `symlink_to(target,`<br />` target_is_directory=False)` | このパスを `target` を指すシンボリックリンクにする。`target_is_directory` は Windows のみで有効な引数で、`True` ならディレク<br />トリとして、`False` ならファイルとしてシンボリックリンクが作成される | `None` |\n",
        "\n",
        "パスオブジェクトはパーミッション属性を持たないため、`chmod()` メソッドはオブジェクトの変更とはならない。\n",
        "\n",
        "一方、`rename()` メソッドはパスに関する属性が異なる新しいパスオブジェクトを作成し、現在のパスオブジェクトを変更しない（パスオブジェクトはイミュータブルである）。"
      ],
      "metadata": {
        "id": "kXH3rJn9Fl6f"
      }
    },
    {
      "cell_type": "code",
      "source": [
        "!umask\n",
        "from pathlib import Path\n",
        "p1 = Path('text.bin')\n",
        "p1.touch()  # 666 - 022 = 644 (所有者以外は書き込み不可)\n",
        "!ls -l text.bin\n",
        "p1.chmod(0o666)\n",
        "p2 = p1.rename('foo.bin')\n",
        "assert p2.name == 'foo.bin'\n",
        "assert p1.name == 'text.bin'  # パスオブジェクトはイミュータブルであることに注意\n",
        "!ls -l foo.bin\n",
        "p2.unlink()"
      ],
      "metadata": {
        "colab": {
          "base_uri": "https://localhost:8080/"
        },
        "id": "a5Y1kPEzksnc",
        "outputId": "5df016d8-04e1-4332-b3b6-3856efc9384a"
      },
      "execution_count": null,
      "outputs": [
        {
          "output_type": "stream",
          "name": "stdout",
          "text": [
            "0022\n",
            "-rw-r--r-- 1 root root 0 Aug 27 04:36 text.bin\n",
            "-rw-rw-rw- 1 root root 0 Aug 27 04:36 foo.bin\n"
          ]
        }
      ]
    },
    {
      "cell_type": "markdown",
      "source": [
        "低レイヤーなファイル操作\n",
        "------------------------"
      ],
      "metadata": {
        "id": "Iay1OWiGwtVS"
      }
    },
    {
      "cell_type": "markdown",
      "source": [
        "標準ライブラリの `os` モジュールは、低レイヤーなファイル操作の機能を提供する。\n",
        "\n",
        "ファイル操作関連の関数は、以下の通り。`path` 引数に渡すことができる値は、path-like オブジェクトである。\n",
        "\n",
        "| 関数 | 機能 | 戻り値 | pathlib にある<br />同等の関数 |\n",
        "|:---|:---|:--:|:---|\n",
        "| `os.chmod(path, mode, *, dir_fd=None,`<br />` follow_symlinks=True)` | Unix の chmod コマンドのように `path` のモードを変更する | `None` | `Path.chmod()` |\n",
        "| `os.chown(path, uid, gid, *, `<br />`dir_fd=None, follow_symlinks=True)` | Unix の chown コマンドのように `path` の所有者やグループを変更する | `None` | なし |\n",
        "| `os.chdir(path)` | 現在の作業ディレクトリを `path` に設定する | `None` | なし |\n",
        "| `os.getcwd()` | 現在の作業ディレクトリを表す文字列を返す | `str` | `Path.cwd()` |\n",
        "| `os.listdir(path='.')` | `path` に指定したディレクトリ内のファイルとサブディレクトリのリストを返す | `list` | `Path.iterdir()` |\n",
        "| `os.walk(top, topdown=True, onerror=None,`<br />` followlinks=False)` | ディレクトリ `top` を根に持つディレクトリツリーに含まれる、各ディレクトリ（`top` 自身を含む）ごとに、タプル<br /> `(dirpath, dirnames, filenames)` を yield する。<br />・`dirpath`: ディレクトリのパス<br />・`dirnames`: `dirpath` 内のサブディレクトリの名前のリスト（ディレクトリへのシンボリックリンクを含み、`.` と<br />　`..` を除く）<br />・`filenames`: `dirpath` 内のディレクトリ以外のファイルの名前のリスト<br /><br />オプション引数は次のとおり<br />・`topdown` が `True`（デフォルト）の場合、サブディレクトリからタプルを生成する<br />・`onerror` には、走査中のエラー発生時に呼び出す関数を指定できる。この関数は唯一の引数として`OSError` <br />　インスタンスを伴って呼び出される<br />・`followlinks` に `True` を指定すると、シンボリックリンクの指しているディレクトリを走査する。シンボリック<br />　リンクが親ディレクトリを指していた場合に、無限ループになることに注意する |  ｼﾞｪﾈ<br />ﾚｰﾀｰ | `Path.walk()` |\n",
        "| `os.mkdir(path, mode=0o777, *, dir_fd=None)` | `path` に指定したディレクトリを作成する | `None` | `Path.mkdir()` |\n",
        "| `os.makedirs(name, mode=0o777, exist_ok=False)` | `name='dir1/dir2/dir3'` のような深い階層のパスを、中間ディレクトリも含めて一気に新規作成する | `None` | `Path.mkdir()` |\n",
        "| `os.rmdir(path, *, dir_fd=None)` | `path` に指定したディレクトリを削除する。ディレクトリが空でない場合は `OSError` 例外を送出する | `None` | `Path.rmdir()` |\n",
        "| `os.removedirs(name)` | `name='dir1/dir2/dir3'` のような深い階層のパスに対して、空のディレクトリを一番下の階層から順番に削除<br />する。空でないディレクトリは削除されない | `None` | なし |\n",
        "| `os.remove(path, *, dir_fd=None)` | `path` に指定したファイルを削除する。ディレクトリの場合は `OSError` 例外を送出する | `None` | `Path.unlink()` |\n",
        "| `os.unlink(path, *, dir_fd=None)` | `os.remove()` と同等 | `None` | `Path.unlink()` |\n",
        "| `os.rename(src, dst, *, src_dir_fd=None,`<br />` dst_dir_fd=None)` | ファイルまたはディレクトリのパスを `src` から `dst` に変更する。`dst` が既存の場合、次のようになる<br />・Windows 環境では、常に `FileExistsError` が発生する<br />・Unix 環境では、 `src` と `dst` がともにディレクトリで `dst` が空なら静かに置換される。また、両方がファイ<br />　ルで、ユーザにパーミッションがあれば静かに置換される。それ以外では例外が発生する | `None` | `Path.rename()` |\n",
        "| `os.renames(old, new)` | `old` に指定したファイルまたはディレクトリを、`new` に指定した深い階層のパスに移動する。中間ディレクトリ<br />が存在しない場合に自動的に作成する | `None` | なし |\n",
        "| `os.symlink(src, dst, target_is_directory=False,`<br />` *, dir_fd=None)` | `src` を指し示すシンボリックリンク `dst` を作成する。`target_is_directory` 引数の意味は `Path.symlink_to()` <br />のものと同じ | `None` | `Path.symlink_to()` |\n",
        "\n",
        "また、`os` モジュールはファイルに関する定数を提供している。\n",
        "\n",
        "| 定数 | 意味 |\n",
        "|:---|:---|\n",
        "| `os.curdir` | 現在のディレクトリ参照するために OS で使われる文字列定数。POSIX と Windows では `'.'` |\n",
        "| `os.pardir` | 親ディレクトリを参照するために OS で使われる文字列定数。POSIX と Windows では `'..'` |\n",
        "| `os.sep` | パス名を要素に分割するために OS で利用されている文字。POSIX では `'/'` で、 Windows では `'\\\\'` |\n",
        "| `os.extsep` | ベースのファイル名と拡張子を分ける文字。たとえば、`os.py` であれば `'.'` のこと |\n",
        "| `os.linesep` | 行の終端を表すために OS で利用されている文字列。POSIX では `'\\n'`、Mac OS では `'\\r'`、Windows では `'\\r\\n'` |\n",
        "| `os.devnull` | ヌルデバイスのファイルパス。POSIX では `'/dev/null'` で、 Windows では `'nul'` |\n",
        "\n",
        "標準ライブラリの `os.path` モジュールは、パス名に関するいくつかの便利な関数を提供している。`path` 引数に渡すことができる値は、path-like オブジェクトである。\n",
        "\n",
        "| 関数 | 機能 | 戻り値 | pathlib にある<br />同等の関数等 |\n",
        "|:---|:---|:---|:---|\n",
        "| `os.path.split(path)` | パス名 `path` を `(head, tail)` のペアに分割する。`tail` はパス名の構成要素の末尾で、`head` はそれより前の部分となる。<br />もし `path` がスラッシュで終わっていれば `tail` は空文字列になる。もし `path` にスラッシュがなければ、`head` は空文字に<br />なる。`path` が空文字なら、`head` と `tail` の両方が空文字になる。`head `の末尾のスラッシュは `head` がルートディレクトリ<br />（または 1 個以上のスラッシュだけ）でない限り取り除かれる | `tuple` | なし |\n",
        "| `os.path.basename(path)` | `os.path.split(path)[1]` と同じ | `str` | `Path.name` |\n",
        "| `os.path.dirname(path)` | `os.path.split(path)[0]` と同じ | `str` | `Path.parent` |\n",
        "| `os.path.join(path, *paths)` | 引数を構成要素とするパス名を返す。`os.path.split()` の逆操作となる | `str` | `Path.joinpath() ` |\n",
        "| `os.path.normpath(path)` | パスを正規化する。すなわち、余分な区切り文字や上位レベル参照を除去するので、`A//B`、`A/B/`、`A/./B` や `A/foo/../B` な<br />どはすべて `A/B` になる。この文字列操作は、シンボリックリンクを含むパスの意味を変えてしまう場合がある。Windows で<br />は、スラッシュをバックスラッシュに変換する | `str` | なし |\n",
        "| `os.path.abspath(path)` | パス名 `path` の正規化された絶対パスを返す。`normpath(join(os.getcwd(), path))` と等価である | `str` | なし |\n",
        "| `os.path.relpath(path,`<br />` start=os.curdir)` | `start` ディレクトリを基準とする `path` の相対パスを返す。`start` のデフォルトはカレントディレクトリ | `str` | なし |\n",
        "| `os.path.expanduser(path)` | Unix および Windows では、与えられた引数の先頭のパス要素 `~` 、または `~user` を、`user` のホームディレクトリのパスに<br />置き換えて返す。Windows では、環境変数 `USERPROFILE` が使用される。`USERPROFILE` が設定されていない場合は環境変数<br /> `HOMEPATH` と `HOMEDRIVE` の組み合わせが使用される | `str` | なし |\n",
        "| `os.path.expandvars(path)` | 引数を、環境変数を展開して返す。引数の中の `$name` または `${name}` のような形式の文字列は環境変数、`name` の値に置<br />き換えられる。不正な変数名や存在しない変数名の場合には変換されず、そのまま返す | `str` | なし |\n",
        "| `os.path.commonpath(paths)` | パス名のシーケンス `paths` 中の共通するサブパスのうち、最も長いものを返す。`paths` に絶対パス名と相対パス名の両方<br />が含まれている場合や、`paths` が異なるドライブ上にある場合や、`paths` が空の場合、`ValueError` 例外を送出する | `str` | なし |\n",
        "| `os.path.exists(path)` | `path` が存在する場合 `True` を返す | `bool` | `Path.exists()` |\n",
        "| `os.path.isabs(path)` | `path` が絶対パスなら `True` を返す | `bool` | `Path.is_absolute()` |\n",
        "| `os.path.isfile(path)` | `path` が存在するファイルなら `True` を返す | `bool` | `Path.is_file()` |\n",
        "| `os.path.isdir(path)` | `path` が存在するディレクトリなら `True` を返す | `bool` | `Path.is_dir()` |\n",
        "| `os.path.islink(path)` | `path` が存在するディレクトリを指すシンボリックリンクなら `True` を返す。シンボリックリンクをサポートしていないプラット<br />フォームでは、常に `False` を返す | `bool` | `Path.is_symlink()` |\n",
        "| `os.path.samefile(path1, path2)` | 引数の両パス名が同じファイルまたはディレクトリを参照している場合に `True` を返す | `bool` | `Path.samefile()` |\n",
        "| `os.path.getatime(path)` | `path` に最後にアクセスした時刻（エポック秒）を返す | `float` | `Path.stat()` |\n",
        "| `os.path.getmtime(path)` | `path` に最後に更新した時刻（エポック秒）を返す | `float` | `Path.stat()` |\n",
        "| `os.path.getctime(path)` | Unix 系では最後に`path` のメタデータが変更された時刻、Windows では `path` の作成時刻を返す。返り値はエポック秒 | `float` | `Path.stat()` |\n",
        "| `os.path.getsize(path)` | `path` のサイズをバイト数で返す | `int` | `Path.stat()` |\n",
        "\n",
        "`get*()` 関数は、ファイルが存在しないか、あるいはアクセスできなかった場合は `OSError` 例外を送出する。\n",
        "\n",
        "Python 3.11 以前では `Path.walk()` メソッドがサポートされないので、ディレクトリを再帰的に走査するのに `os.walk()` 関数を使うことになる。`dirpath` 内のファイルまたはディレクトリへの完全パス（`top` で始まる）を取得するには、`os.path.join(dirpath, name)` を実行する。"
      ],
      "metadata": {
        "id": "jRV6WdCHwv4b"
      }
    },
    {
      "cell_type": "code",
      "source": [
        "import os\n",
        "\n",
        "def list_files_recursively(directory):\n",
        "    for cudir, dirs, files in os.walk(directory):\n",
        "        for file in files:\n",
        "            print(os.path.join(cudir, file))\n",
        "\n",
        "list_files_recursively('.')"
      ],
      "metadata": {
        "colab": {
          "base_uri": "https://localhost:8080/"
        },
        "id": "0i1khZFvwIn_",
        "outputId": "85b15927-b383-4a34-cb1d-7007801dfa08"
      },
      "execution_count": null,
      "outputs": [
        {
          "output_type": "stream",
          "name": "stdout",
          "text": [
            "./.config/.last_opt_in_prompt.yaml\n",
            "./.config/default_configs.db\n",
            "./.config/config_sentinel\n",
            "./.config/gce\n",
            "./.config/.last_update_check.json\n",
            "./.config/.last_survey_prompt.yaml\n",
            "./.config/hidden_gcloud_config_universe_descriptor_data_cache_configs.db\n",
            "./.config/active_config\n",
            "./.config/configurations/config_default\n",
            "./.config/logs/2024.08.23/13.19.51.397286.log\n",
            "./.config/logs/2024.08.23/13.19.16.438002.log\n",
            "./.config/logs/2024.08.23/13.19.38.729140.log\n",
            "./.config/logs/2024.08.23/13.20.05.747593.log\n",
            "./.config/logs/2024.08.23/13.19.52.608801.log\n",
            "./.config/logs/2024.08.23/13.20.05.018217.log\n",
            "./sample_data/anscombe.json\n",
            "./sample_data/README.md\n",
            "./sample_data/california_housing_train.csv\n",
            "./sample_data/mnist_test.csv\n",
            "./sample_data/mnist_train_small.csv\n",
            "./sample_data/california_housing_test.csv\n"
          ]
        }
      ]
    }
  ]
}