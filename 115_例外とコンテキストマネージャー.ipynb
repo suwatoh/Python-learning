{
  "nbformat": 4,
  "nbformat_minor": 0,
  "metadata": {
    "colab": {
      "provenance": [],
      "authorship_tag": "ABX9TyMmmU+3FLy+qO7GYwromz6y",
      "include_colab_link": true
    },
    "kernelspec": {
      "name": "python3",
      "display_name": "Python 3"
    },
    "language_info": {
      "name": "python"
    }
  },
  "cells": [
    {
      "cell_type": "markdown",
      "metadata": {
        "id": "view-in-github",
        "colab_type": "text"
      },
      "source": [
        "<a href=\"https://colab.research.google.com/github/suwatoh/Python-learning/blob/main/115_%E4%BE%8B%E5%A4%96%E3%81%A8%E3%82%B3%E3%83%B3%E3%83%86%E3%82%AD%E3%82%B9%E3%83%88%E3%83%9E%E3%83%8D%E3%83%BC%E3%82%B8%E3%83%A3%E3%83%BC.ipynb\" target=\"_parent\"><img src=\"https://colab.research.google.com/assets/colab-badge.svg\" alt=\"Open In Colab\"/></a>"
      ]
    },
    {
      "cell_type": "markdown",
      "source": [
        "例外とコンテキストマネージャー\n",
        "=============================="
      ],
      "metadata": {
        "id": "0FCufPPSJvNF"
      }
    },
    {
      "cell_type": "markdown",
      "source": [
        "例外クラス\n",
        "----------"
      ],
      "metadata": {
        "id": "HIHYOVKVdb5x"
      }
    },
    {
      "cell_type": "markdown",
      "source": [
        "### エラーと例外 ###"
      ],
      "metadata": {
        "id": "ONOghDgu_8KX"
      }
    },
    {
      "cell_type": "markdown",
      "source": [
        "エラーと例外の基本については、公式チュートリアルの「[エラーと例外](https://docs.python.org/ja/3/tutorial/errors.html)」でほぼ十分。\n",
        "\n",
        "Python のインタープリターがコードを処理する際には、以下の処理が行われる。\n",
        "\n",
        "  1. **字句解析**（lexical analysys）:  \n",
        "ソースコードのテキストを読み込み、それらを Python 言語内で使われる単語の列、すなわちトークン列へ変換する。\n",
        "  2. **構文解析**（syntax analysys）:  \n",
        "トークン列から抽象構文木（Astract Syntax Tree; AST）を生成する。\n",
        "  3. **コード生成**（code generation）:  \n",
        "AST オブジェクトからコードオブジェクトを生成する。\n",
        "  4. **コンパイル**（compilation）:  \n",
        "コードオブジェクトから実行可能なバイトコードを生成する。\n",
        "  5. **実行**（execution）:  \n",
        "バイトコードを実行する。\n",
        "\n",
        "コンパイルまでの段階で送出されたエラーが**構文エラー**（syntax error）であり、バイトコードの実行時に送出されたエラーが**実行時例外**（runtime exception）である。これらは、すべて `BaseException` から派生した組み込みクラスのインスタンスとして統一的に扱われる。\n",
        "\n",
        "`BaseException` クラスは、例外処理時に利用される基本的な属性やメソッドをサポートする。\n",
        "\n",
        "  * `args`: 例外コンストラクタに与えられた引数のタプルを格納する属性\n",
        "  * `add_note(note)`: 追加情報として `note` を渡すメソッド\n",
        "\n",
        "Python で**例外**（exception）という場合、通常は実行時例外を指す。"
      ],
      "metadata": {
        "id": "X3kSu6-dnoak"
      }
    },
    {
      "cell_type": "markdown",
      "source": [
        "### システム終了に関する例外クラス ###"
      ],
      "metadata": {
        "id": "j346uWt1deeo"
      }
    },
    {
      "cell_type": "markdown",
      "source": [
        "以下の例外が送出されるときは、インタープリタを終了させなければならないので、例外処理で捕捉しないようにする。同様の理由で、`BaseException` を例外処理で捕捉しないようにする。\n",
        "\n",
        "  * `GeneratorExit` は、ジェネレータやコルーチンが閉じられたときに送出される。\n",
        "  * `KeyboardInterrupt` は、ユーザが割り込みキーを押した場合に送出される。\n",
        "  * `SystemExit` は、`sys.exit()` 関数から送出される。\n",
        "\n",
        "`sys.exit([arg])` は、`SystemExit` 例外を送出して、Python インタープリターを終了する。引数 `arg` に終了コードを指定できる。数値以外のオブジェクトを渡した場合は、渡されたオブジェクトを文字列として `sys.stderr` （標準エラー出力）に出力し、呼び出し元に終了コード 1 を返して終了する。また、引数を省略した場合は、終了コード 0 として終了する。一般に、終了コード 0 は正常終了、それ以外は異常終了を表す。\n",
        "\n",
        "try 文のブロック内に `sys.exit()` を書き finally 句を追加すると、Python インタープリターを終了する前に finally 句のブロックが実行される。作業用ファイルの削除・リソースの解放など必ず行わなければならない処理は、try/finally を使って実行されるようにする必要がある。\n",
        "\n",
        "``` python\n",
        "import sys\n",
        "try:\n",
        "    sys.exit('sys.exit() is called')\n",
        "finally:\n",
        "    # 終了前に実行されるコード\n",
        "```"
      ],
      "metadata": {
        "id": "GfOcgQJ9nsmh"
      }
    },
    {
      "cell_type": "markdown",
      "source": [
        "### システム終了以外の例外クラス ###"
      ],
      "metadata": {
        "id": "Kx-Cy5q3dhMe"
      }
    },
    {
      "cell_type": "markdown",
      "source": [
        "`Exception` は、システム終了以外のすべての組み込み例外の基底クラス。実行時例外を表現するクラスの基底クラスとなるだけでなく、構文エラーを表現するクラスの基底クラスにもなっている。すべてのユーザ定義例外もこのクラスから派生させるべきとされる。\n",
        "\n",
        "`ArithmeticError` は、算術上のエラーに対して送出される。派生クラスに、`OverflowError`（オーバーフロー時に送出）・`ZeroDivisionError`（0除算時に送出）。\n",
        "\n",
        "`AttributeError` は、存在しない属性を参照したときに送出される。\n",
        "\n",
        "`ImportError` は、import 文でモジュールをロードしようとして問題が発生したときに送出される。派生クラスに、`ModuleNotFoundError`（モジュールが存在しないときに送出）。\n",
        "\n",
        "`LookupError` は、存在しないインデックスやキーで参照した場合に送出される。派生クラスに、`IndexError`（インデックス無効時に送出）・`KeyError`（キー無効時に送出）。\n",
        "\n",
        "`NameError` は、存在しない関数を呼び出したり、存在しない変数を参照したときに送出される。派生クラスに、`UnboundLocalError`（値なしローカル変数参照時に送出）。"
      ],
      "metadata": {
        "id": "MHaxwMg0nvkz"
      }
    },
    {
      "cell_type": "code",
      "source": [
        "def hoge():\n",
        "    print(x)  # 未定義の変数を参照しようとしている\n",
        "    x = 1\n",
        "\n",
        "try:\n",
        "    hoge()\n",
        "except Exception as err:\n",
        "    print(f\"{type(err).__name__}: {err}\")"
      ],
      "metadata": {
        "id": "MjW6CcI1ICyi",
        "colab": {
          "base_uri": "https://localhost:8080/"
        },
        "outputId": "41c1c8a1-3ac5-461b-961e-25b7dbcb226c"
      },
      "execution_count": null,
      "outputs": [
        {
          "output_type": "stream",
          "name": "stdout",
          "text": [
            "UnboundLocalError: local variable 'x' referenced before assignment\n"
          ]
        }
      ]
    },
    {
      "cell_type": "markdown",
      "source": [
        "`OSError` は、システム関数がシステム関連のエラーを返した場合に送出される。派生クラスに、`FileExistsError`（すでに存在するファイル・ディレクトリを作成しようとするときに送出）・`FileNotFoundError`（ファイル・ディレクトリが存在しないときに送出）など。\n",
        "\n",
        "`TypeError` は、関数や演算を適切でない型のオブジェクトに適用した場合に送出される。\n",
        "\n",
        "`ValueError` は、関数や演算を適切でない値に適用した場合に送出される。派生クラスに、`UnicodeError`（Unicode に関するエンコードまたはデコードのエラーが発生した際に送出）。\n",
        "\n",
        "`RuntimeError` は、他のカテゴリに分類できない実行時例外が検出された場合に送出される。\n",
        "\n",
        "`SyntaxError` は、構文エラーの基底クラスである。派生クラスに、`IndentationError`（インデントが正しくない場合に送出）。また、`IndentationError` の派生クラスに `TabError`（タブとスペースを一貫しない方法でインデントに使っている場合に送出）。\n",
        "\n",
        "`SyntaxError` も `Exception` の派生クラスになっているが、**これは通常 try-except で捕捉することはできない**。構文エラーはバイトコードが実行される前に発生し、その時点では try-except ブロック自体が評価されていないため、エラーを捕捉することができないのである。\n",
        "\n",
        "そうだとすると `SyntaxError` を `Exception` の派生クラスとする意味がないようにみえるが、以下のような特殊なケースでは構文エラーが捕捉される。\n",
        "\n",
        "  * 組み込みの `eval()` 関数や `exec()` 関数を使用して動的にコードを実行する場合\n",
        "\n",
        "このケースでは、関数の実行時に `SyntaxError` が発生する可能性があるため、try-except で捕捉することが可能である。"
      ],
      "metadata": {
        "id": "ng3ODYErIaaR"
      }
    },
    {
      "cell_type": "code",
      "source": [
        "try:\n",
        "    exec(\"print('Hello'\")  # 閉じ括弧が足りないため SyntaxError が発生する\n",
        "except Exception as err:\n",
        "    print(f\"{type(err).__name__}: {err}\")"
      ],
      "metadata": {
        "colab": {
          "base_uri": "https://localhost:8080/"
        },
        "id": "U67Q475hJtsR",
        "outputId": "9731041a-638e-4d1f-8d08-079798d4d370"
      },
      "execution_count": null,
      "outputs": [
        {
          "output_type": "stream",
          "name": "stdout",
          "text": [
            "SyntaxError: '(' was never closed (<string>, line 1)\n"
          ]
        }
      ]
    },
    {
      "cell_type": "markdown",
      "source": [
        "### 例外の連鎖 ###"
      ],
      "metadata": {
        "id": "7xAv-80-xbpG"
      }
    },
    {
      "cell_type": "markdown",
      "source": [
        "**例外の連鎖**は、以下の特殊属性に基づく概念である。\n",
        "\n",
        "  * `BaseException.__context__`\n",
        "  * `BaseException.__cause__`\n",
        "  * `BaseException.__suppress_context__`\n",
        "\n",
        "例外インスタンスの作成時には `__context__` も `__cause__` も `None` で初期化され、`__suppress_context__` は `False` で初期化される。"
      ],
      "metadata": {
        "id": "P9zYJk_Qxcbn"
      }
    },
    {
      "cell_type": "code",
      "source": [
        "try:\n",
        "    raise OSError(\"foo\")\n",
        "except OSError as e:\n",
        "    print(f\"e is {type(e).__name__} ---\")\n",
        "    print(f\"{e.__context__ = }\")\n",
        "    print(f\"{e.__cause__ = }\")\n",
        "    print(f\"{e.__suppress_context__ = }\")"
      ],
      "metadata": {
        "colab": {
          "base_uri": "https://localhost:8080/"
        },
        "id": "yfxMq2Oh2kRY",
        "outputId": "8be69dd9-8f95-4673-c017-d4b53a9540d9"
      },
      "execution_count": null,
      "outputs": [
        {
          "output_type": "stream",
          "name": "stdout",
          "text": [
            "e is OSError ---\n",
            "e.__context__ = None\n",
            "e.__cause__ = None\n",
            "e.__suppress_context__ = False\n"
          ]
        }
      ]
    },
    {
      "cell_type": "markdown",
      "source": [
        "ある例外が except 節ですでに処理されているときに新しい例外を発生させると、新しい例外の `__context__` 属性は、処理された例外に自動的にセットされる。この形は**暗黙的な連鎖**となる。"
      ],
      "metadata": {
        "id": "W9f5ASHe3kLm"
      }
    },
    {
      "cell_type": "code",
      "source": [
        "def foo():\n",
        "    raise OSError(\"foo\")\n",
        "\n",
        "def bar():\n",
        "    try:\n",
        "        foo()\n",
        "    except OSError:\n",
        "        raise RuntimeError\n",
        "\n",
        "try:\n",
        "    bar()\n",
        "except RuntimeError as e:\n",
        "    # 暗黙的な連鎖\n",
        "    print(f\"e is {type(e).__name__} ---\")\n",
        "    print(f\"{e.__context__ = }\")\n",
        "    print(f\"{e.__cause__ = }\")\n",
        "    print(f\"{e.__suppress_context__ = }\")"
      ],
      "metadata": {
        "colab": {
          "base_uri": "https://localhost:8080/"
        },
        "id": "q6kt0pId3k9T",
        "outputId": "e6a6337e-3f47-4df8-ddf4-ab65490205df"
      },
      "execution_count": null,
      "outputs": [
        {
          "output_type": "stream",
          "name": "stdout",
          "text": [
            "e is RuntimeError ---\n",
            "e.__context__ = OSError('foo')\n",
            "e.__cause__ = None\n",
            "e.__suppress_context__ = False\n"
          ]
        }
      ]
    },
    {
      "cell_type": "markdown",
      "source": [
        "raise 文が from を伴う場合、つまり\n",
        "\n",
        "``` python\n",
        "raise new_exc from original_exc\n",
        "```\n",
        "\n",
        "の形（式 `original_exc` は例外か `None` でなければならない）の場合、`new_exc` の `__cause__` 属性の値が `original_exc` にセットされ、同時に `__suppress_context__` 属性の値が `True` にセットされる。この形は**明示的な連鎖**となる。"
      ],
      "metadata": {
        "id": "9H_sALe04rJG"
      }
    },
    {
      "cell_type": "code",
      "source": [
        "def foo():\n",
        "    raise OSError(\"foo\")\n",
        "\n",
        "def bar():\n",
        "    try:\n",
        "        foo()\n",
        "    except OSError as e:\n",
        "        raise RuntimeError from e\n",
        "\n",
        "try:\n",
        "    bar()\n",
        "except RuntimeError as e:\n",
        "    # 明示的な連鎖\n",
        "    print(f\"e is {type(e).__name__} ---\")\n",
        "    print(f\"{e.__context__ = }\")\n",
        "    print(f\"{e.__cause__ = }\")\n",
        "    print(f\"{e.__suppress_context__ = }\")"
      ],
      "metadata": {
        "colab": {
          "base_uri": "https://localhost:8080/"
        },
        "id": "Ie3lPHol1H7Z",
        "outputId": "6818b173-4f1d-46d5-fb75-a6c13fe9df13"
      },
      "execution_count": null,
      "outputs": [
        {
          "output_type": "stream",
          "name": "stdout",
          "text": [
            "e is RuntimeError ---\n",
            "e.__context__ = OSError('foo')\n",
            "e.__cause__ = OSError('foo')\n",
            "e.__suppress_context__ = True\n"
          ]
        }
      ]
    },
    {
      "cell_type": "markdown",
      "source": [
        "例外の連鎖は、例外が発生した経緯に関する情報を提供する。例外のトレースバック表示では、その例外自体のトレースバックに加え、連鎖された例外を表示する。\n",
        "\n",
        "暗黙的な連鎖の場合:\n",
        "\n",
        "``` python\n",
        "# content of sample.py\n",
        "def foo():\n",
        "    raise OSError(\"foo\")\n",
        "\n",
        "def bar():\n",
        "    try:\n",
        "        foo()\n",
        "    except OSError:\n",
        "        raise RuntimeError\n",
        "\n",
        "bar()\n",
        "```\n",
        "\n",
        "``` text\n",
        "# content of sample.py\n",
        "Traceback (most recent call last):\n",
        "  File \"sample.py\", line 7, in bar\n",
        "    foo()\n",
        "  File \"sample.py\", line 3, in foo\n",
        "    raise OSError(\"foo\")\n",
        "OSError: foo\n",
        "\n",
        "During handling of the above exception, another exception occurred:  （訳: 上記の例外の処理中に別の例外が発生した:）\n",
        "\n",
        "Traceback (most recent call last):\n",
        "  File \"sample.py\", line 11, in <module>\n",
        "    bar()\n",
        "  File \"sample.py\", line 9, in bar\n",
        "    raise RuntimeError\n",
        "RuntimeError\n",
        "```\n",
        "\n",
        "明示的な連鎖の場合:\n",
        "\n",
        "``` python\n",
        "# content of sample.py\n",
        "def foo():\n",
        "    raise OSError(\"foo\")\n",
        "\n",
        "def bar():\n",
        "    try:\n",
        "        foo()\n",
        "    except OSError as e:\n",
        "        raise RuntimeError from e\n",
        "\n",
        "bar()\n",
        "```\n",
        "\n",
        "``` text\n",
        "$ python sample.py\n",
        "Traceback (most recent call last):\n",
        "  File \"sample.py\", line 7, in bar\n",
        "    foo()\n",
        "  File \"sample.py\", line 3, in foo\n",
        "    raise OSError(\"foo\")\n",
        "OSError: foo\n",
        "\n",
        "The above exception was the direct cause of the following exception:  （訳: 上記の例外は、次の例外の直接の原因だった）\n",
        "\n",
        "Traceback (most recent call last):\n",
        "  File \"sample.py\", line 11, in <module>\n",
        "    bar()\n",
        "  File \"sample.py\", line 9, in bar\n",
        "    raise RuntimeError from e\n",
        "RuntimeError\n",
        "```\n",
        "\n",
        "明示的な連鎖は、例外を明示的に変換する意図で使われる。明示的に連鎖させた例外は（存在すれば）常に表示される。これに対して、暗黙に連鎖させた例外は `__cause__` が `None` かつ `__suppress_context__` が `False` の場合にのみ表示される。`raise new_exc from None` のようにすると、`new_exc` に対して暗黙に連鎖させた例外は表示されなくなる。\n",
        "\n",
        "``` python\n",
        "# content of sample.py\n",
        "def foo():\n",
        "    raise OSError(\"foo\")\n",
        "\n",
        "def bar():\n",
        "    try:\n",
        "        foo()\n",
        "    except OSError as e:\n",
        "        raise RuntimeError from None\n",
        "\n",
        "bar()\n",
        "```\n",
        "\n",
        "``` text\n",
        "$ python sample.py\n",
        "Traceback (most recent call last):\n",
        "  File \"sample.py\", line 11, in <module>\n",
        "    bar()\n",
        "  File \"sample.py\", line 9, in bar\n",
        "    raise RuntimeError from None\n",
        "RuntimeError\n",
        "```\n",
        "\n",
        "`raise new_exc from None` の形は、例外を変換するときに古い例外を非表示にするために使われる。このようにしても、`__context__` には古い例外の情報が残っているので、古い例外の調査は可能である。"
      ],
      "metadata": {
        "id": "psXcGbzA2A3L"
      }
    },
    {
      "cell_type": "markdown",
      "source": [
        "### 例外の保存 ###"
      ],
      "metadata": {
        "id": "9x8EA9ZFMtXU"
      }
    },
    {
      "cell_type": "markdown",
      "source": [
        "except 節に `as 変数` の形が存在すれば、変数に例外が代入される。この変数は except 節の終わりに消去される。これはちょうど、以下のコード:\n",
        "\n",
        "``` python\n",
        "except E as N:\n",
        "    foo\n",
        "```\n",
        "\n",
        "が、以下のコードに暗黙的に変換されたかのようなものである:\n",
        "\n",
        "``` python\n",
        "except E as N:\n",
        "    try:\n",
        "        foo\n",
        "    finally:\n",
        "        del N\n",
        "```\n",
        "\n",
        "したがって、例外を except 節以降で参照できるようにするためには、別の名前に代入しなければならない。\n",
        "\n",
        "`sys.exception()` 関数（Python 3.11 で追加）は、 except 句のブロック（例外ハンドラ）で呼び出されると、その例外ハンドラで捕捉されている例外を返す。例外ハンドラが互いにネストされている場合、最も内側のハンドラによって処理された例外にのみアクセスできる。例外ハンドラが実行されていない場合、この関数は `None` を返す。\n",
        "\n",
        "``` python\n",
        ">>> import sys\n",
        ">>> try:\n",
        "...     raise TypeError\n",
        "... except:\n",
        "...     print(repr(sys.exception()))\n",
        "...     try:\n",
        "...          raise ValueError\n",
        "...     except:\n",
        "...         print(repr(sys.exception()))\n",
        "...     print(repr(sys.exception()))\n",
        "...\n",
        "TypeError()\n",
        "ValueError()\n",
        "TypeError()\n",
        ">>> print(sys.exception())\n",
        "None\n",
        "```\n",
        "\n",
        "Python 3.10 以前では、 `sys.exc_info()` 関数が使用できる（もちろん Python 3.11 以降でも使用できる）。この関数は、例外 `e` が現在処理されている場合に、タプル `(type(e), e, e.__traceback__)` を返す。例外の `__traceback__` 属性には、例外が最後に発生した時点での呼び出しスタックをカプセル化するトレースバックオブジェクトが格納されている。スタック上のどこにも例外が処理されていない場合、この関数は 3 つの `None` 値を含むタプルを返す。"
      ],
      "metadata": {
        "id": "Hv3I3Q9VMuUJ"
      }
    },
    {
      "cell_type": "code",
      "source": [
        "import sys\n",
        "try:\n",
        "    raise ValueError\n",
        "except:\n",
        "    exc_type, exc, exc_traceback = sys.exc_info()\n",
        "print(f\"{exc_type=}\")\n",
        "print(f\"{exc=}\")\n",
        "print(f\"{exc_traceback=}\")"
      ],
      "metadata": {
        "colab": {
          "base_uri": "https://localhost:8080/"
        },
        "id": "HW4LFFltS-3n",
        "outputId": "d5a2653f-77d6-47cf-8913-af44fe8d961f"
      },
      "execution_count": null,
      "outputs": [
        {
          "output_type": "stream",
          "name": "stdout",
          "text": [
            "exc_type=<class 'ValueError'>\n",
            "exc=ValueError()\n",
            "exc_traceback=<traceback object at 0x7ca471264f80>\n"
          ]
        }
      ]
    },
    {
      "cell_type": "markdown",
      "source": [
        "### 警告 ###"
      ],
      "metadata": {
        "id": "spJ3YUlvtTug"
      }
    },
    {
      "cell_type": "markdown",
      "source": [
        "`Exception` クラスのサブクラス `Warning` は、警告クラスの基底クラスとされる。警告は、一般の例外とは異なる以下の特徴を持つ。\n",
        "\n",
        "  * 警告が発せられても、プログラムの実行は停止されない。\n",
        "  * 発せられた警告をそのままでは try-except 文で捕捉できない。\n",
        "\n",
        "警告メッセージは通常 `sys.stderr` に出力されるが、すべての警告を無視したり、警告を例外にしたりと、その処理を柔軟に変更することができる。警告の処理は、警告カテゴリ（警告クラス）、警告メッセージのテキスト、警告が発行されたソースの位置に基づいて変化する。同じソースの位置で特定の警告が繰り返された場合、通常は 2 回目以降の出力が抑制される。\n",
        "\n",
        "警告の処理は、**警告フィルター**によって制御される。警告フィルターはリスト構造になっていて、各エントリは警告の処理方法と警告を特定するための 4 条件を表すタプル `(action, message, category, module, lineno)` である。各フィールドの意味は次のとおり。\n",
        "\n",
        "| フィールド | 意味 |\n",
        "|:---|:---|\n",
        "| `action` | 残りのフィールドと一致する警告に対して処理する内容を指定する文字列<br /><br />・`'default'`: ソース位置ごとに、一致した警告のうち最初の警告のみ出力する<br /><br />・`'module'`: モジュールごとに、一致した警告のうち最初の警告のみ出力する<br /><br />・`'once'`: 一致した警告のうち最初の警告のみ出力する<br /><br />・`'always'`: 一致した警告を何回でも出力する<br /><br />・`'ignore'`: 一致した警告を出力しない<br /><br />・`'error'`: 一致した警告を一般の例外（エラー）に変換する\n",
        "| `message` | 警告メッセージ全体と一致させる文字列。この一致では大文字と小文字は区別されない。空の文字列は全ての警告メッセージと一致させる |\n",
        "| `category` | 警告クラスまたはその基底クラスの名前と一致させる文字列 |\n",
        "| `module` | 警告が発せられたソースのモジュール名と一致させる文字列。この一致では大文字と小文字が区別される。空の文字列は全てのモジュール名と一致させる |\n",
        "| `lineno` | 警告が発せられたソースの行番号と一致させる整数。`0` はすべての行番号と一致させる |\n",
        "\n",
        "警告フィルター内の各エントリの順番は優先順位の高い順になる。つまり、複数のエントリが特定の警告に一致した場合、リストの先頭に近いほうのエントリが後方にあるエントリに優先する。\n",
        "\n",
        "Python インタープリターに与える `-W` フラグまたは環境変数 `PYTHONWARNINGS` で警告フィルターのエントリを設定することができる。`-W` 引数の完全形は次のようになる:\n",
        "\n",
        "``` shell\n",
        "python -W action:message:category:module:lineno script.py\n",
        "```\n",
        "\n",
        "`-W` と `action` の間の空白は無くてもよい。`action` 以外は省略できる。`message` や `module` を省略した場合は、空の文字列を指定したのと同等である。`category` を省略した場合は、`Warning` を指定したのと同等である。`lineno` を省略した場合は、`0` を指定したのと同等である。後ろのフィールドが全て省略されているときのコロン `:` は省略できる。したがって、最も簡単な形は `-Waction` となる。たとえば、`-Wignore`。これはさらに短縮形 `-Wi` が使える。他の `action` についても同様である。\n",
        "\n",
        "`'default'` の処理は、通常の警告の処理である。したがって、単に通常では出力されない警告を出力するだけなら、`-Wdefault` または `-Wd` 引数を指定することで実現できる。これは、`-Wdefault::Warning::0` と同等である。\n",
        "\n",
        "複数の `-W` 引数を指定することができる。左の引数から順に警告フィルターの先頭にエントリが挿入される。したがって、複数の `-W` 引数では、最後にマッチした引数の `action` が有効になる。\n",
        "\n",
        "環境変数 `PYTHONWARNINGS` も `-W` フラグと同等で、カンマ区切りの文字列に設定すると、`-W` を複数回指定するのと同じになり、リストの後のフィルタがリストの前のフィルタよりも優先される。\n",
        "\n",
        "全ての警告クラスは、`Warning` クラスのサブクラスとしなければならない。主な組み込みの警告は次のとおり。\n",
        "\n",
        "  * `DeprecationWarning` : 廃止予定の Python 機能についての警告\n",
        "  * `SyntaxWarning`: 曖昧な構文に対する警告\n",
        "  * `FutureWarning`: Python で書かれたアプリケーションにおいて非推奨とされた機能についての警告\n",
        "  * `RuntimeWarning`: 実行時に発生した問題についての警告\n",
        "  * `UserWarning`: ユーザーのコードによって生成される警告\n",
        "  * `ResourceWarning`: リソースの使用に関連した警告。通常では、この警告メッセージは出力されない。\n",
        "\n",
        "たとえば、文字列リテラルや数値リテラルを `is` で比較すると、`SyntaxWarning` が発せられる（Colab では警告メッセージが 3 重に出力される）。"
      ],
      "metadata": {
        "id": "Furgil5ZtUjn"
      }
    },
    {
      "cell_type": "code",
      "source": [
        "i = 0\n",
        "for _ in range(5):\n",
        "    # 数値リテラルを is で比較している\n",
        "    if 100 is 100: pass"
      ],
      "metadata": {
        "colab": {
          "base_uri": "https://localhost:8080/"
        },
        "id": "55M2hzp9_bcr",
        "outputId": "cf39a0a0-236e-4a0d-a8d0-ca4300f4392a"
      },
      "execution_count": null,
      "outputs": [
        {
          "output_type": "stream",
          "name": "stderr",
          "text": [
            "<>:4: SyntaxWarning: \"is\" with a literal. Did you mean \"==\"?\n",
            "<>:4: SyntaxWarning: \"is\" with a literal. Did you mean \"==\"?\n",
            "<ipython-input-7-4b3dbc1cd103>:4: SyntaxWarning: \"is\" with a literal. Did you mean \"==\"?\n",
            "  if 100 is 100: pass\n"
          ]
        }
      ]
    },
    {
      "cell_type": "markdown",
      "source": [
        "一般の例外が発生した時に、何が間違っているのかを説明するために `SyntaxWarning` が同時に発せられることもある。"
      ],
      "metadata": {
        "id": "eMnJKenVBo9A"
      }
    },
    {
      "cell_type": "code",
      "source": [
        "try:\n",
        "    # コンマの入れ忘れ\n",
        "    data = [(1, 2, 3)(4, 5, 6)]\n",
        "except TypeError as err:\n",
        "    print(f\"{type(err).__name__}: {err}\")"
      ],
      "metadata": {
        "colab": {
          "base_uri": "https://localhost:8080/"
        },
        "id": "o4wZfLANBp0i",
        "outputId": "88672797-257d-492e-dbf7-93c787bb713e"
      },
      "execution_count": null,
      "outputs": [
        {
          "output_type": "stream",
          "name": "stdout",
          "text": [
            "TypeError: 'tuple' object is not callable\n"
          ]
        },
        {
          "output_type": "stream",
          "name": "stderr",
          "text": [
            "<>:3: SyntaxWarning: 'tuple' object is not callable; perhaps you missed a comma?\n",
            "<>:3: SyntaxWarning: 'tuple' object is not callable; perhaps you missed a comma?\n",
            "<ipython-input-8-c58b4b424a22>:3: SyntaxWarning: 'tuple' object is not callable; perhaps you missed a comma?\n",
            "  data = [(1, 2, 3)(4, 5, 6)]\n"
          ]
        }
      ]
    },
    {
      "cell_type": "markdown",
      "source": [
        "`Warning` クラスは `Exception` クラスから派生しているので、`raise Warning(message)` などと raise 文で警告クラスを使用できるが、これは警告をエラーに変換する。\n",
        "\n",
        "手動で警告を発するには、標準ライブラリの `warnings` モジュールが提供する `warn()` 関数を使う。\n",
        "\n",
        "``` python\n",
        "warnings.warn(message, category=None, stacklevel=1, source=None, *, skip_file_prefixes=None)\n",
        "```\n",
        "\n",
        "| 引数 | 意味 |\n",
        "|:---|:---|\n",
        "| `message` | 警告メッセージ |\n",
        "| `category` | 警告クラス。指定を省略するか、`None` を指定すると、`UserWarning` が使われる |\n",
        "| `stacklevel` | 警告を発する位置を、`warn()` 関数の内部から見て何回呼び出しをさかのぼった位置にするかを指定する。`1` の場合、`warn()` の呼び出し位置について警告を発する。<br />`2` の場合、`warn()` を使用する関数の呼び出し位置について警告を発する |\n",
        "| `source` | `category` に `ResourceWarning` を指定する場合に、`source` オプションにその警告の原因となったオブジェクトを指定できる |\n",
        "| `skip_file_prefixes` | Python 3.12 で追加されたキーワード専用引数。文字列のタプルを指定すると、それらを `stacklevel` に関するカウントをスキップするソースの名前の接頭辞とみなす<br />例: `skip_file_prefixes=(os.path.dirname(__file__),)` |\n",
        "\n",
        "次のコードでは、 `obsolete_func()` はアプリケーションにおいて非推奨とされた関数と仮定している。これを呼び出す場合に、その関数内で警告を発するのではなく、呼び出し元で警告を発するようにしている。"
      ],
      "metadata": {
        "id": "L6_O3C9uO2vo"
      }
    },
    {
      "cell_type": "code",
      "source": [
        "import warnings\n",
        "\n",
        "def obsolete_func():\n",
        "    warnings.warn(\"この関数は廃止予定です\", FutureWarning, stacklevel=2)\n",
        "\n",
        "obsolete_func()  # この位置で警告が発せられる"
      ],
      "metadata": {
        "colab": {
          "base_uri": "https://localhost:8080/"
        },
        "id": "MunGzlCCSIvS",
        "outputId": "6cc8c563-db62-4564-938f-274628d74026"
      },
      "execution_count": null,
      "outputs": [
        {
          "output_type": "stream",
          "name": "stderr",
          "text": [
            "<ipython-input-9-1081ca4fffcb>:6: FutureWarning: この関数は廃止予定です\n",
            "  obsolete_func()  # この位置で警告が発せられる\n"
          ]
        }
      ]
    },
    {
      "cell_type": "markdown",
      "source": [
        "Python コード内で警告フィルターにエントリを追加することができる。`warnings` モジュールが提供する以下の関数を使う。\n",
        "\n",
        "``` python\n",
        "warnings.filterwarnings(action, message='', category=Warning, module='', lineno=0, append=False)\n",
        "```\n",
        "\n",
        "この関数は、警告フィルターの先頭にエントリ `(action, message, category, module, lineno)` を挿入する。`append` が `True` の場合は、末尾に挿入する。`message` および `module` には正規表現を使用できる（これはコマンドライン上では実現できない機能である）。\n",
        "\n",
        "``` python\n",
        "warnings.simplefilter(action, category=Warning, lineno=0, append=False)\n",
        "```\n",
        "\n",
        "この関数は、警告フィルターの先頭にエントリ `(action, '', category, '', lineno)` を挿入する。`append` が `True` の場合は、末尾に挿入する。\n",
        "\n",
        "``` python\n",
        "warnings.resetwarnings()\n",
        "```\n",
        "\n",
        "この関数は、警告フィルターをリセットする。\n",
        "\n",
        "たとえば、`warnings.simplefilter('ignore')` を呼び出すと、全ての警告と一致する `'ignore'` アクションのエントリが警告フィルターの先頭に挿入され、結果、以降は全ての警告が出力されなくなる。"
      ],
      "metadata": {
        "id": "8sAUaTkUDC6j"
      }
    },
    {
      "cell_type": "code",
      "source": [
        "import warnings\n",
        "\n",
        "# すべての警告が非表示になる\n",
        "warnings.simplefilter(\"ignore\")\n",
        "\n",
        "warnings.warn(\"This is a warning\", UserWarning)\n",
        "\n",
        "# UserWarning 警告を例外として扱う\n",
        "warnings.simplefilter(\"error\", UserWarning)\n",
        "\n",
        "try:\n",
        "    warnings.warn(\"This is a warning\", UserWarning)\n",
        "except UserWarning:\n",
        "    print(\"Caught the warning as an exception\")\n",
        "\n",
        "# 警告フィルターをリセットする\n",
        "warnings.resetwarnings()"
      ],
      "metadata": {
        "colab": {
          "base_uri": "https://localhost:8080/"
        },
        "id": "m_J9SmxHFXkI",
        "outputId": "96bd2cbb-ffc6-4150-aeb4-9f25a3d896cf"
      },
      "execution_count": null,
      "outputs": [
        {
          "output_type": "stream",
          "name": "stdout",
          "text": [
            "Caught the warning as an exception\n"
          ]
        }
      ]
    },
    {
      "cell_type": "markdown",
      "source": [
        "### 組み込み例外のクラス階層 ###"
      ],
      "metadata": {
        "id": "Ug9W9r-edkwB"
      }
    },
    {
      "cell_type": "markdown",
      "source": [
        "``` text\n",
        "BaseException\n",
        " ├── BaseExceptionGroup\n",
        " ├── GeneratorExit\n",
        " ├── KeyboardInterrupt\n",
        " ├── SystemExit\n",
        " └── Exception\n",
        "         ├── ArithmeticError\n",
        "         │      ├── OverflowError\n",
        "         │      └── ZeroDivisionError\n",
        "         ├── AssertionError\n",
        "         ├── AttributeError\n",
        "         ├── BufferError\n",
        "         ├── EOFError\n",
        "         ├── ExceptionGroup [BaseExceptionGroup]\n",
        "         ├── ImportError\n",
        "         │      └── ModuleNotFoundError\n",
        "         ├── LookupError\n",
        "         │      ├── IndexError\n",
        "         │      └── KeyError\n",
        "         ├── MemoryError\n",
        "         ├── NameError\n",
        "         │      └── UnboundLocalError\n",
        "         ├── OSError\n",
        "         │      ├── BlockingIOError\n",
        "         │      ├── ChildProcessError\n",
        "         │      ├── ConnectionError\n",
        "         │      │      ├── BrokenPipeError\n",
        "         │      │      ├── ConnectionAbortedError\n",
        "         │      │      ├── ConnectionRefusedError\n",
        "         │      │      └── ConnectionResetError\n",
        "         │      ├── FileExistsError\n",
        "         │      ├── FileNotFoundError\n",
        "         │      ├── InterruptedError\n",
        "         │      ├── IsADirectoryError\n",
        "         │      ├── NotADirectoryError\n",
        "         │      ├── PermissionError\n",
        "         │      ├── ProcessLookupError\n",
        "         │      └── TimeoutError\n",
        "         ├── ReferenceError\n",
        "         ├── RuntimeError\n",
        "         │      ├── NotImplementedError\n",
        "         │      └── RecursionError\n",
        "         ├── StopAsyncIteration\n",
        "         ├── StopIteration\n",
        "         ├── SyntaxError\n",
        "         │      └── IndentationError\n",
        "         │              └── TabError\n",
        "         ├── SystemError\n",
        "         ├── TypeError\n",
        "         ├── ValueError\n",
        "         │      └── UnicodeError\n",
        "         │              ├── UnicodeDecodeError\n",
        "         │              ├── UnicodeEncodeError\n",
        "         │              └── UnicodeTranslateError\n",
        "         └── Warning\n",
        "                 ├── BytesWarning\n",
        "                 ├── DeprecationWarning\n",
        "                 ├── EncodingWarning\n",
        "                 ├── FutureWarning\n",
        "                 ├── ImportWarning\n",
        "                 ├── PendingDeprecationWarning\n",
        "                 ├── ResourceWarning\n",
        "                 ├── RuntimeWarning\n",
        "                 ├── SyntaxWarning\n",
        "                 ├── UnicodeWarning\n",
        "                 └── UserWarning\n",
        "```"
      ],
      "metadata": {
        "id": "2ktRO_oPnz6o"
      }
    },
    {
      "cell_type": "markdown",
      "source": [
        "コンテキストマネージャー\n",
        "------------------------"
      ],
      "metadata": {
        "id": "y-uBmM_NsqoG"
      }
    },
    {
      "cell_type": "markdown",
      "source": [
        "**コンテキストマネージャー**（context manager）とは、次の二つのメソッドをサポートするオブジェクトである。\n",
        "\n",
        "  * `__enter__()`:\n",
        "  * `__exit__(exc_type, exc_val, exc_tb)`:\n",
        "\n",
        "コンテキストマネージャーと with 文は、try/finally 文の標準的な使い方をコードから切り出すことを目的として導入された。\n",
        "\n",
        "with 文の構文は次のとおり。\n",
        "\n",
        "``` python\n",
        "with 式[ as 変数[, 式[ as 変数[, ...]]]:\n",
        "    ...\n",
        "```\n",
        "\n",
        "Python 3.10 からは、`with` の後を丸括弧で囲めるようになった（タプルとはされなくなった）。丸括弧の内側は改行ができる。\n",
        "\n",
        "``` python\n",
        "with (式[ as 変数],\n",
        "      式[ as 変数],\n",
        "      ...,\n",
        "      式[ as 変数]):\n",
        "    ...\n",
        "```\n",
        "\n",
        "with 文の式は、評価結果がコンテキストマネージャーであることが要求される（以下、**コンテキスト式**と呼ぶ）。\n",
        "\n",
        "一つのコンテキスト式を持つ with 文の実行は以下のように進行する。\n",
        "\n",
        "  1. コンテキスト式を評価することで、コンテキストマネージャーを取得する。\n",
        "  2. コンテキストマネージャーの `__enter__()` メソッドが、後で使うためにロードされる。\n",
        "  3. コンテキストマネージャーの `__exit__()` メソッドが、後で使うためにロードされる。\n",
        "  4. コンテキストマネージャーの `__enter__()` メソッドを呼び出す。\n",
        "  5. with 文に `as 変数` があれば、変数に `__enter__()` が返す値を代入する。\n",
        "  6. with 文の本体を実行する。\n",
        "  7. with 文の本体で例外が発生したか否かで場合分けされる。\n",
        "      * 例外が発生した場合、例外の型、例外オブジェクト、トレースバックをこの順で位置引数として渡して `__exit__()` を呼び出す。`__exit__()` からの戻り値が偽ならば、例外が再送出される。この戻り値が真ならば例外は抑制され、 with 文のブロックから抜ける。\n",
        "      * 例外が発生しなかった場合、3 つの `None` を位置引数として渡して `__exit__()` を呼び出す。 `__exit__()` の戻り値は無視され、 with 文のブロックから抜ける。\n",
        "\n",
        "次のコード:\n",
        "\n",
        "``` python\n",
        "with EXPRESSION as TARGET:\n",
        "    SUITE\n",
        "```\n",
        "\n",
        "これは次と等価である:\n",
        "\n",
        "``` python\n",
        "manager = (EXPRESSION)\n",
        "enter = type(manager).__enter__\n",
        "exit = type(manager).__exit__\n",
        "value = enter(manager)\n",
        "hit_except = False\n",
        "\n",
        "try:\n",
        "    TARGET = value\n",
        "    SUITE\n",
        "except:\n",
        "    hit_except = True\n",
        "    if not exit(manager, *sys.exc_info()):\n",
        "        raise\n",
        "finally:\n",
        "    if not hit_except:\n",
        "        exit(manager, None, None, None)\n",
        "```"
      ],
      "metadata": {
        "id": "_NJOUycFsvT4"
      }
    },
    {
      "cell_type": "code",
      "source": [
        "class MyManager:\n",
        "    def __enter__(self):\n",
        "        print(\"enter\")\n",
        "        return \"Hello, World!\"\n",
        "\n",
        "    def __exit__(self, exc_type, exc_val, exc_tb):\n",
        "        print(\"exit\")\n",
        "\n",
        "\n",
        "with MyManager() as greeting:\n",
        "    print(greeting)\n",
        "\n",
        "print(\"-\" * 30)\n",
        "\n",
        "try:\n",
        "    with MyManager() as greeting:\n",
        "        raise RuntimeError(\"with 本体でエラー\")\n",
        "except RuntimeError as err:\n",
        "    print(f\"{type(err).__name__}: {err}\")"
      ],
      "metadata": {
        "colab": {
          "base_uri": "https://localhost:8080/"
        },
        "id": "fKIsCi07_Q7H",
        "outputId": "553e3bd6-6c1b-441c-b85b-f220cb7f0c10"
      },
      "execution_count": null,
      "outputs": [
        {
          "output_type": "stream",
          "name": "stdout",
          "text": [
            "enter\n",
            "Hello, World!\n",
            "exit\n",
            "------------------------------\n",
            "enter\n",
            "exit\n",
            "RuntimeError: with 本体でエラー\n"
          ]
        },
        {
          "output_type": "stream",
          "name": "stderr",
          "text": [
            "/usr/local/lib/python3.10/dist-packages/ipykernel/ipkernel.py:283: DeprecationWarning: `should_run_async` will not call `transform_cell` automatically in the future. Please pass the result to `transformed_cell` argument and any exception that happen during thetransform in `preprocessing_exc_tuple` in IPython 7.17 and above.\n",
            "  and should_run_async(code)\n"
          ]
        }
      ]
    },
    {
      "cell_type": "markdown",
      "source": [
        "複数のコンテキスト式があるとき、コンテキストマネージャーは複数の with 文がネストされたかのように進行する:\n",
        "\n",
        "``` python\n",
        "with A() as a, B() as b:\n",
        "    SUITE\n",
        "```\n",
        "\n",
        "これは次と等価である:\n",
        "\n",
        "``` python\n",
        "with A() as a:\n",
        "    with B() as b:\n",
        "        SUITE\n",
        "```"
      ],
      "metadata": {
        "id": "lzC_FI3Y0O-P"
      }
    },
    {
      "cell_type": "markdown",
      "source": [
        "contextlib.contextmanager\n",
        "-------------------------"
      ],
      "metadata": {
        "id": "3rGhzVF5_K1M"
      }
    },
    {
      "cell_type": "markdown",
      "source": [
        "標準ライブラリの `contextlib` モジュールが提供する `contextmanager()` は、コンテキストマネージャーの生成に便利なデコレーターである。`__enter__()` と `__exit__()` メソッドをもつクラスを定義する代わりに、このデコレーターを付けたジェネレーター関数によってコンテキストマネージャーを生成することができる。次のコードで、`contextlib.contextmanager()` の使い方を示す:"
      ],
      "metadata": {
        "id": "EupwNuHQ_N4e"
      }
    },
    {
      "cell_type": "code",
      "source": [
        "from contextlib import contextmanager\n",
        "\n",
        "@contextmanager\n",
        "def mymanager():\n",
        "    print('enter')\n",
        "    try:\n",
        "        yield \"Hello, World!\"\n",
        "    finally:\n",
        "        print('exit')\n",
        "\n",
        "with mymanager() as greeting:\n",
        "    print(greeting)"
      ],
      "metadata": {
        "colab": {
          "base_uri": "https://localhost:8080/"
        },
        "id": "SlDMXPRn_bo_",
        "outputId": "8e23fcc8-5060-4ca0-dcb8-1f45c64060da"
      },
      "execution_count": null,
      "outputs": [
        {
          "output_type": "stream",
          "name": "stdout",
          "text": [
            "enter\n",
            "Hello, World!\n",
            "exit\n"
          ]
        }
      ]
    },
    {
      "cell_type": "markdown",
      "source": [
        "yield 文より上の処理は、with 文の本体より前に実行される。`as 変数` に渡したい値があるときは、yield に値を渡す。yield 文より下の処理は、with 文の本体の実行後に実行される。注意点は、yield 文より下の処理が最後に必ず実行されるわけではないことである。with 文の本体の実行中にエラーが発生すると、yield 文を実行している箇所で再送出されるので、finally 節を使わない場合、yield 文より下の処理は実行されない。上のコードで `finally:` の行を削除した形:\n",
        "\n",
        "``` python\n",
        "from contextlib import contextmanager\n",
        "\n",
        "@contextmanager\n",
        "def mymanager():\n",
        "    print('enter')\n",
        "    yield \"Hello, World!\"\n",
        "    print('exit')  # エラーが発生すると実行されない\n",
        "\n",
        "with mymanager() as greeting:\n",
        "    print(greeting)\n",
        "    raise Exception\n",
        "```\n",
        "\n",
        "このコードを実行すると、以下のように出力が行われて、`print('exit')` が実行されないことがわかる。\n",
        "\n",
        "``` text\n",
        "Hello, World!\n",
        "Traceback (most recent call last):\n",
        "  File ..., line 11, in <module>\n",
        "    raise Exception\n",
        "Exception\n",
        "```"
      ],
      "metadata": {
        "id": "NjaMTS6t_gz0"
      }
    },
    {
      "cell_type": "markdown",
      "source": [
        "contextlib.closing\n",
        "------------------"
      ],
      "metadata": {
        "id": "IQMav3A9baRC"
      }
    },
    {
      "cell_type": "markdown",
      "source": [
        "一般に、モジュールが提供するクラスが `close()` メソッドをサポートする場合、 `close()` メソッドはオブジェクトを閉じる終了処理を実装する。クラスがコンテキストマネージャーとして使用できる場合、通常 with 文のブロックの完了時に `close()` メソッドを呼び出す。クラスがコンテキストマネージャーとして使用できない場合に `close()` メソッドを確実に呼び出したいなら、 `contextlib.closing()` 関数を使用するとよい。\n",
        "\n",
        "`contextlib.closing()` 関数は、渡されたオブジェクトの `close()` メソッドをブロックの完了時に呼び出すコンテキストマネージャーを返す。これは基本的に以下と等価である:\n",
        "\n",
        "``` python\n",
        "from contextlib import contextmanager\n",
        "\n",
        "@contextmanager\n",
        "def closing(thing):\n",
        "    try:\n",
        "        yield thing\n",
        "    finally:\n",
        "        thing.close()\n",
        "```\n",
        "\n",
        "使用例:"
      ],
      "metadata": {
        "id": "uznHrjm6bb_-"
      }
    },
    {
      "cell_type": "code",
      "source": [
        "from contextlib import closing\n",
        "\n",
        "class MyClass:\n",
        "    def say(self):\n",
        "        print(\"hello\")\n",
        "\n",
        "    def close(self):\n",
        "        print(\"goodby\")\n",
        "\n",
        "with closing(MyClass()) as m:\n",
        "    m.say()"
      ],
      "metadata": {
        "colab": {
          "base_uri": "https://localhost:8080/"
        },
        "id": "1eKr3TGGbspB",
        "outputId": "a417923a-bb40-4bc4-bd54-37e01d22cd5a"
      },
      "execution_count": null,
      "outputs": [
        {
          "output_type": "stream",
          "name": "stdout",
          "text": [
            "hello\n",
            "goodby\n"
          ]
        }
      ]
    },
    {
      "cell_type": "markdown",
      "source": [
        "複数の例外の捕捉\n",
        "----------------"
      ],
      "metadata": {
        "id": "gguytrfk-26S"
      }
    },
    {
      "cell_type": "markdown",
      "source": [
        "複数の例外を一つの except 節で捕捉する方法は、コンマで区切り、括弧で囲むことである:"
      ],
      "metadata": {
        "id": "wfVE8TKU-33N"
      }
    },
    {
      "cell_type": "code",
      "source": [
        "try:\n",
        "    raise ValueError\n",
        "except (ValueError, KeyError) as err:\n",
        "    print(type(err).__name__)"
      ],
      "metadata": {
        "colab": {
          "base_uri": "https://localhost:8080/"
        },
        "id": "GBC_Wodw-7Cf",
        "outputId": "3952fcbc-1717-49f2-a413-f6ddda0c1bb9"
      },
      "execution_count": null,
      "outputs": [
        {
          "output_type": "stream",
          "name": "stdout",
          "text": [
            "ValueError\n"
          ]
        }
      ]
    },
    {
      "cell_type": "markdown",
      "source": [
        "`contextlib.suppress()` は、with 文の内部で指定された例外の発生を抑えるコンテキストマネージャーを返す。"
      ],
      "metadata": {
        "id": "SOodkdPRTPwt"
      }
    },
    {
      "cell_type": "code",
      "source": [
        "from contextlib import suppress\n",
        "\n",
        "with suppress(FileNotFoundError, NameError):\n",
        "    raise FileNotFoundError\n",
        "    raise NameError"
      ],
      "metadata": {
        "id": "wIdNkqaCTAyC"
      },
      "execution_count": null,
      "outputs": []
    },
    {
      "cell_type": "markdown",
      "source": [
        "これは以下と等価である:"
      ],
      "metadata": {
        "id": "SRsit5UNTcF8"
      }
    },
    {
      "cell_type": "code",
      "source": [
        "try:\n",
        "    raise FileNotFoundError\n",
        "except (FileNotFoundError, NameError):\n",
        "    pass"
      ],
      "metadata": {
        "id": "Cb4DtG1GTdEe"
      },
      "execution_count": null,
      "outputs": []
    },
    {
      "cell_type": "markdown",
      "source": [
        "一時的に警告を制御\n",
        "------------------"
      ],
      "metadata": {
        "id": "Nps0MiXOjxj1"
      }
    },
    {
      "cell_type": "markdown",
      "source": [
        "`warnings.simplefilter()` 関数などを使って警告フィルターを変更すると、その影響はアプリケーション全体に及ぶ。`warnings.resetwarnings()` 関数は警告フィルターを完全にリセットしてしまう。\n",
        "\n",
        "一時的に警告を制御したいだけの場合には、`warnings.catch_warnings` コンテキストマネージャーを使用する。これは、警告フィルターをコピーし、終了時に警告フィルターを復元するコンテキストマネージャーである。"
      ],
      "metadata": {
        "id": "Pmq4BhjkjyMr"
      }
    },
    {
      "cell_type": "code",
      "source": [
        "import warnings\n",
        "\n",
        "def obsolete_func():\n",
        "    warnings.warn(\"この関数は廃止予定です\", FutureWarning, stacklevel=2)\n",
        "\n",
        "with warnings.catch_warnings():\n",
        "    warnings.simplefilter(\"ignore\")\n",
        "    obsolete_func()\n",
        "\n",
        "print(\"with 文を抜けた\")\n",
        "warnings.warn(\"something\")"
      ],
      "metadata": {
        "colab": {
          "base_uri": "https://localhost:8080/"
        },
        "id": "JX6fYrW0o-Ta",
        "outputId": "2ac4270a-56d7-465d-9878-a8061b04b78e"
      },
      "execution_count": null,
      "outputs": [
        {
          "output_type": "stream",
          "name": "stdout",
          "text": [
            "with 文を抜けた\n"
          ]
        },
        {
          "output_type": "stream",
          "name": "stderr",
          "text": [
            "<ipython-input-16-6f8c25771269>:11: UserWarning: something\n",
            "  warnings.warn(\"something\")\n"
          ]
        }
      ]
    }
  ]
}