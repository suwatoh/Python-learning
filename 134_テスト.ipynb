{
  "nbformat": 4,
  "nbformat_minor": 0,
  "metadata": {
    "colab": {
      "provenance": [],
      "toc_visible": true,
      "authorship_tag": "ABX9TyNtTCW1uW1hcjehlIp+B4kA",
      "include_colab_link": true
    },
    "kernelspec": {
      "name": "python3",
      "display_name": "Python 3"
    },
    "language_info": {
      "name": "python"
    }
  },
  "cells": [
    {
      "cell_type": "markdown",
      "metadata": {
        "id": "view-in-github",
        "colab_type": "text"
      },
      "source": [
        "<a href=\"https://colab.research.google.com/github/suwatoh/Python-learning/blob/main/134_%E3%83%86%E3%82%B9%E3%83%88.ipynb\" target=\"_parent\"><img src=\"https://colab.research.google.com/assets/colab-badge.svg\" alt=\"Open In Colab\"/></a>"
      ]
    },
    {
      "cell_type": "markdown",
      "source": [
        "テスト\n",
        "======"
      ],
      "metadata": {
        "id": "VOSZQ69y2bKf"
      }
    },
    {
      "cell_type": "markdown",
      "source": [
        "確認テストと回帰テスト\n",
        "----------------------"
      ],
      "metadata": {
        "id": "e1FAePYhYraV"
      }
    },
    {
      "cell_type": "markdown",
      "source": [
        "デバッグにより欠陥が確実に修正されたことを確認するテストを**確認テスト**（confirmation testing）または**再テスト**（re-testing）と呼ぶ。確認テストは欠陥が発見されたケースを対象とし、デバッグ後に直ちに行われる。\n",
        "\n",
        "一方、すでに確認テスト済みの修正を含め、コードの変更によって悪影響が生じないことを確認するテストを**回帰テスト**または**リグレッションテスト**（regression test）と呼ぶ。回帰テストは、確認テストとは異なり、個別ではなく、欠陥を修正した後にプログラムの残りの部分をチェックするための広範なテストである。具体的には、前回までに実行したテストと確認テストを全部実行すればよい。したがって、回帰テストの内容はテストの回数ごとに拡充する。これを手動で実行するのは大変なので、回帰テストの実行は自動化される。"
      ],
      "metadata": {
        "id": "7tUFQk_dYsYN"
      }
    },
    {
      "cell_type": "markdown",
      "source": [
        "doctest\n",
        "-------"
      ],
      "metadata": {
        "id": "FF-4KIsy2lJv"
      }
    },
    {
      "cell_type": "markdown",
      "source": [
        "標準ライブラリの `doctest` は、モジュールや関数、クラス、スタティックメソッド、クラスメソッド、プロパティの docstring に書いた使用例を使って簡易な回帰テストを実行する機能を提供する。\n",
        "\n",
        "テストを加えたいモジュールや関数の docstring の中で使用例として示す `'>>> '` や `'... '` から始まる行は、本来は Python の対話モードでの入力を表現しているが、`doctest.testmod()` はそれをテスト用のコードとして実行し、次の行から、次の `'>>>'` 行または空白行までの記述を期待する出力結果とみなして、テストする。\n",
        "\n",
        "**期待する出力結果には、空白だけの行が入っていてはならない**。そのような行は期待する出力結果の終了を表すと見なされるからである。もし期待する出力結果の内容に空白行が入っている場合には、空白行が入るべき場所すべてに `'<BLANKLINE>'` を入れる。\n",
        "\n",
        "テストが失敗すると、失敗した使用例と、その原因が標準出力に出力され、最後に `***Test Failed*** N failures.` という行を出力する。**テストが成功すると何も表示されない**ことに注意する。`python script.py -v` のように `-v` スイッチをつけて走らせるか、あるいは、キーワード専用引数として `verbose=True` を `doctest.testmod()` に渡すと、常に詳細なテスト結果を標準出力に出力する。`verbose=False` にすると、`-v` スイッチが無視される。"
      ],
      "metadata": {
        "id": "Rj1M0lG8dwe5"
      }
    },
    {
      "cell_type": "code",
      "source": [
        "\"\"\"\n",
        "このモジュールは fib() という関数を提供しており、次のように使用します。\n",
        "\n",
        ">>> fib(4)\n",
        "3\n",
        "\n",
        "また、 double_space() という関数も提供しています。\n",
        "\"\"\"\n",
        "\n",
        "\n",
        "def fib(n):\n",
        "    \"\"\"フィボナッチ数列の第n項を計算します。\n",
        "\n",
        "    >>> [fib(n) for n in range(10)]\n",
        "    [0, 1, 1, 2, 3, 5, 8, 13, 21, 34]\n",
        "\n",
        "    nが非負整数でない値の場合、エラーが発生します。\n",
        "    >>> fib(-1)\n",
        "    Traceback (most recent call last):\n",
        "        ...\n",
        "    ValueError: non-negative integer not specified\n",
        "    \"\"\"\n",
        "    if not isinstance(n, int) or n < 0:\n",
        "        raise ValueError(\"non-negative integer not specified\")\n",
        "    if n == 0:\n",
        "        return 0\n",
        "    curr = 1\n",
        "    prev = 0\n",
        "    for i in range(2, n + 1):\n",
        "        next = curr + prev\n",
        "        prev = curr\n",
        "        curr = next\n",
        "    return curr\n",
        "\n",
        "\n",
        "def double_space(lines):\n",
        "    \"\"\"行のリストを1行おきに空行を挿入して出力します。\n",
        "\n",
        "    >>> double_space(['Line one.', 'Line two.'])\n",
        "    Line one.\n",
        "    <BLANKLINE>\n",
        "    Line two.\n",
        "    <BLANKLINE>\n",
        "    \"\"\"\n",
        "    for li in lines:\n",
        "        print(li)\n",
        "        print()\n",
        "\n",
        "\n",
        "if __name__ == \"__main__\":\n",
        "    import doctest\n",
        "    doctest.testmod(verbose=True)"
      ],
      "metadata": {
        "colab": {
          "base_uri": "https://localhost:8080/"
        },
        "id": "kOiTKfARd2H2",
        "outputId": "e48c5732-5ead-49e1-e768-90e65f7d106d"
      },
      "execution_count": null,
      "outputs": [
        {
          "output_type": "stream",
          "name": "stderr",
          "text": [
            "\n",
            "PYDEV DEBUGGER WARNING:\n",
            "sys.settrace() should not be used when the debugger is being used.\n",
            "This may cause the debugger to stop working correctly.\n",
            "If this is needed, please check: \n",
            "http://pydev.blogspot.com/2007/06/why-cant-pydev-debugger-work-with.html\n",
            "to see how to restore the debug tracing back correctly.\n",
            "Call Location:\n",
            "  File \"/usr/lib/python3.10/doctest.py\", line 1501, in run\n",
            "    sys.settrace(save_trace)\n",
            "\n"
          ]
        },
        {
          "output_type": "stream",
          "name": "stdout",
          "text": [
            "Trying:\n",
            "    fib(4)\n",
            "Expecting:\n",
            "    3\n",
            "ok\n",
            "Trying:\n",
            "    double_space(['Line one.', 'Line two.'])\n",
            "Expecting:\n",
            "    Line one.\n",
            "    <BLANKLINE>\n",
            "    Line two.\n",
            "    <BLANKLINE>\n",
            "ok\n",
            "Trying:\n",
            "    [fib(n) for n in range(10)]\n",
            "Expecting:\n",
            "    [0, 1, 1, 2, 3, 5, 8, 13, 21, 34]\n",
            "ok\n",
            "Trying:\n",
            "    fib(-1)\n",
            "Expecting:\n",
            "    Traceback (most recent call last):\n",
            "        ...\n",
            "    ValueError: non-negative integer not specified\n",
            "ok\n",
            "3 items passed all tests:\n",
            "   1 tests in __main__\n",
            "   1 tests in __main__.double_space\n",
            "   2 tests in __main__.fib\n",
            "4 tests in 3 items.\n",
            "4 passed and 0 failed.\n",
            "Test passed.\n"
          ]
        }
      ]
    },
    {
      "cell_type": "markdown",
      "source": [
        "このコードのように、例外をテストすることもできる。例外が発生したときに期待する出力は、トレースバックヘッダーから始まっていなければならない。それは次の 2 通りのいずれかである:\n",
        "\n",
        "``` text\n",
        "Traceback (most recent call last):\n",
        "Traceback (innermost last):\n",
        "```\n",
        "\n",
        "`doctest` はトレースバッグスタックを無視するので、上記の例のように `'...'` で省略できる。\n",
        "\n",
        "`doctest.testmod()` を書いていないモジュールに対して `doctest` によるテストを実行する方法も用意されている。それは、Python コマンドの `-m` オプションに `doctest` を指定するだけである。\n",
        "\n",
        "``` text\n",
        "PS> python -m doctest -v example.py\n",
        "```\n",
        "\n",
        "さらに、テストコードを外部のテキストファイルから読み込んで実行することもできる。たとえば、`README.txt` には以下のような内容が入っているとする:\n",
        "\n",
        "``` text\n",
        "fib モジュール\n",
        "==============\n",
        "\n",
        "使い方\n",
        "------\n",
        "\n",
        "fib モジュールの fib 関数をインポートします。\n",
        "\n",
        "    >>> from fib import fib\n",
        "\n",
        "次のようにして使います。\n",
        "\n",
        "    >>> fib(4)\n",
        "    3\n",
        "```\n",
        "\n",
        "`doctest` によるテストを実行するには `doctest.testfile()` 関数を使う。引数にテストコードが記述されたテキストファイルのパスを指定する。\n",
        "\n",
        "``` python\n",
        "import doctest\n",
        "doctest.testfile(\"README.txt\")\n",
        "```\n",
        "\n",
        "`doctest.testfile()` 関数にもキーワード専用引数 `verbose` を渡すことができる。"
      ],
      "metadata": {
        "id": "Vkb0F0M94gSq"
      }
    },
    {
      "cell_type": "markdown",
      "source": [
        "xUnit\n",
        "-----"
      ],
      "metadata": {
        "id": "etuPHS_JVOQF"
      }
    },
    {
      "cell_type": "markdown",
      "source": [
        "### 単体テストと TDD ###"
      ],
      "metadata": {
        "id": "GaaLuesOVPFZ"
      }
    },
    {
      "cell_type": "markdown",
      "source": [
        "ソフトウェア開発を上流工程から下流工程へと順番に進めていき、後戻りを許さない進め方を**ウォーターフォール**（waterfall）と呼ぶ。ウォーターフォール型開発の下流工程とされるテスト工程は、上流工程に紐づいていて、**テストレベル**と呼ばれる。\n",
        "\n",
        "| 開発の流れ | 開発工程 | テストレベル | テストの流れ |\n",
        "|:--:|:--:|:--:|:--:|\n",
        "| ↓ | **要件定義**<br />システムが何をしなければならないかという要件仕様を共有化すること | **システムテスト**（System Test）<br />要件仕様を実装していることの検証 | ↑ |\n",
        "| ↓ | **外部設計（基本設計）**<br />システムを動かす部分（画面デザイン・出力形式・バッチ処理・データベースなど）の仕様を決定すること | **結合テスト**（Integration Test）<br />基本設計を実装していることの検証 | ↑ |\n",
        "| ↓ | **内部設計（詳細設計）**<br />プログラミング上の仕様（モジュール・クラス・入力から出力までの流れなど）を決定すること | **単体テスト**（Unit Test）<br />詳細設計を実装していることの検証 | ↑ |\n",
        "| ↓ | 開発（プログラミング） | | ↑ |\n",
        "\n",
        "一般には要件定義から内部設計までをシステムエンジニア（SE）が担当し、開発をプログラマー（PG）が担当し、テストをテストエンジニアやテスターが担当する。\n",
        "\n",
        "現実には、要件仕様や設計が後から変更されることは珍しいことではないため、ウォーターフォールの成功率は低い。現代では、トライアルアンドエラーで開発が行われる**アジャイル開発**（agile development）が採用されることがある。アジャイル開発では、テストは早期かつ継続的に行われ、テストレベルの概念は曖昧である。おおむね、機能単位のテストは単体テスト、機能同士を組み合わせたテストは結合テスト、システム全体のテストはシステムテストとされている。\n",
        "\n",
        "アジャイル開発ではテストは下流工程ではなく開発の早期に行われるが、極端にテストから書き始めるという手法が取られることもある。この手法を TDD と呼ぶ。TDD は、Test-Driven Development（テスト駆動開発）の略称で、具体的には以下のように開発を進める。\n",
        "\n",
        "  1. 問題を小さく分割し、それぞれで目標を定める。\n",
        "  2. 次の目標を、入力の条件と期待される結果の形で示す。この形を**テストケース**と呼ぶ。\n",
        "  3. テストケースの条件を満たす入力を与えて期待する結果と実際の結果が一致するかを確認するコードを書く。エッジケース（ヌルなどの特殊な値を扱う場合）も考慮する。こうして書いたコードを**テストコード**または単に**テスト**と呼ぶ。\n",
        "  4. テストコードを実行して失敗させる──この段階を Red と呼ぶ。\n",
        "  5. テストを通るような実コードを素早く書く──この段階を Green と呼ぶ。\n",
        "  6. テストを繰り返しながら実コードを洗練させる──この段階を Refactor と呼ぶ。\n",
        "  7. 2 から 6 を繰り返す。\n",
        "\n",
        "このサイクルは、「きちんと動作するきれいなコード（Clean code that works）」を書くという行動を構造化する技法である。テスターの行うテストとの混同を避けるために、「振る舞い駆動開発（Behavior Driven Development; BDD）」と呼ばれることもある。\n",
        "\n",
        "TDD には、短いサイクルでコードをテストに通して、手戻りが発生しないことを確認できるため、開発者の不安を軽減できるメリットがあるとされる。他方、先にテストを書けるようになるには慣れが必要であり、また、UI など開発中に仕様が頻繁に変わりやすい部分ではテストコードを保守する負担がかかるというデメリットもある。\n",
        "\n",
        "TDD では、**テストケースは十分に小さく、かつ、独立した単位とすることが重要である**。サイクルを回すのに時間がかかったり、テストケースが他の機能に依存する条件を含んだりすると、TDD で着実に開発を進めることは難しい。また、テストの実行に時間がかかると、開発の効率が落ちる。こうした観点から、結合テストやシステムテストは TDD に向かない。結局、TDD でカバーされるテストは単体テストということになる。\n",
        "\n",
        "TDD を実施するためには、目的のコードから独立して単体テストを作成、自動実行するためのフレームワークが必要である。この要求に応えるため、以下のような設計を持つテストフレームワークが開発された。\n",
        "\n",
        "  * **テストケース**（test case）: TDD のサイクルを行う独立した最小単位である。一般に、期待する結果と実際の結果が一致するかを確認するための関数やマクロが提供され、**アサーション**と呼ばれる。\n",
        "  * **テストフィクスチャ**（test fixture）: テスト実行のために必要な準備や終了処理を指す。テストケース内の各テストに共有される。\n",
        "  * **テストスイート**（test suite）: テストの目的や対象ごとに複数のテストケースを（自動実行するために）まとめたものを指す。\n",
        "  * **テストランナー**（test runner）: テストスイートにまとめられたテストを一括して実行し、結果を出力するプログラムを指す。\n",
        "\n",
        "このようなテストフレームワークは、ほぼすべてのプログラミング言語に実装され、xUnit と総称される。有名どころでは、JUnit（ Java 用）、PHPUnit（PHP用）。Python では、標準ライブラリの `unittest` モジュールが xUnit の実装である。"
      ],
      "metadata": {
        "id": "mBSO1WFmojQb"
      }
    },
    {
      "cell_type": "markdown",
      "source": [
        "### テストケース ###"
      ],
      "metadata": {
        "id": "yjG3SC0PHCyp"
      }
    },
    {
      "cell_type": "markdown",
      "source": [
        "`unittest` でテストケースは、`unittest.TestCase` クラスのサブクラスとして作成する。メソッド名が `'test'` で始まるメソッドの中でテストの内容を定義する。このメソッドをテストメソッドと呼ぶ。テストケースには、少なくとも 1 つのテストメソッドを定義しなければならない。\n",
        "\n",
        "テストケースのインスタンスを作成するときは、`MyTestCase(methodName)` のようにコンストラクタの引数 `methodName` としてテストメソッドの名前を渡す。`methodName` は、テストランナーが実行するテストメソッドを決めるために使用される。\n",
        "\n",
        "`unittest.TestCase` クラスには、以下のアサーションメソッドが定義されていて、テストメソッドの中で呼び出すことができる。\n",
        "\n",
        "| メソッド | テスト内容 | 備考 |\n",
        "|:---|:---|:---|\n",
        "| `assertEqual(a, b)` | `a == b` ||\n",
        "| `assertNotEqual(a, b)` | `a != b` ||\n",
        "| `assertAlmostEqual(a, b, n)` | `round(a-b, n) == 0` | `n` は省略でき、省略時は `round(a-b, 7) == 0` をテストする |\n",
        "| `assertNotAlmostEqual(a, b, n)` | `round(a-b, n) != 0` | `n` は省略でき、省略時は `round(a-b, 7) != 0` をテストする |\n",
        "| `assertGreater(a, b)` | `a > b` ||\n",
        "| `assertGreaterEqual(a, b)` | `a >= b` ||\n",
        "| `assertLess(a, b)` | `a < b` ||\n",
        "| `assertLessEqual(a, b)` | `a <= b` ||\n",
        "| `assertTrue(x)` | `bool(x) is True` ||\n",
        "| `assertFalse(x)` | `bool(x) is False` ||\n",
        "| `assertIs(a, b)` | `a is b` ||\n",
        "| `assertIsNot(a, b)` | `a is not b` ||\n",
        "| `assertIsNone(x)` | `x is None` ||\n",
        "| `assertIsNotNone(x)` | `x is not None` ||\n",
        "| `assertIn(a, b)` | `a in b` ||\n",
        "| `assertNotIn(a, b)` | `a not in b` ||\n",
        "| `assertIsInstance(a, b)` | `isinstance(a, b)` ||\n",
        "| `assertNotIsInstance(a, b)` | `not isinstance(a, b)` ||\n",
        "| `assertRegex(s, r)` | `r.search(s)` ||\n",
        "| `assertNotRegex(s, r)` | `not r.search(s)` ||\n",
        "| `assertCountEqual(a, b)` | a と b に、順番によらず同じ要素が同じ数だけある ||\n",
        "| `assertRaises(exception)` | 例外 `exception` が送出されたか | コンテキストマネージャーになっていて、with 文の本体にテスト対象のコードを書く。<br />複数の例外を捕捉する場合には、例外クラスのタプルを `exception` に指定する |\n",
        "| `assertWarns(warning)` | 警告 `warning` が発生したか | コンテキストマネージャーになっていて、with 文の本体にテスト対象のコードを書く。<br />複数の警告を捕捉する場合には、警告クラスのタプルを `exception` に指定する |\n",
        "| `assertLogs(logger, level)` | 最低 `level` で `logger` を使用するか | コンテキストマネージャーになっていて、with 文の本体にテスト対象のコードを書く |\n",
        "\n",
        "アサーションメソッドは失敗すると `AssertionError` 例外を送出する。なお、`unittest.TestCase` クラスには `fail(msg=None)` メソッドも定義されていて、このメソッドを呼び出すと直ちに `msg` 付きで `AssertionError` 例外を送出する。\n",
        "\n",
        "テストメソッドやクラスに以下のデコレーターを付けると、テスト実行時にテストをスキップしたり、テストの結果を予期された失敗とすることができる。\n",
        "\n",
        "| デコレーター | 機能 |\n",
        "|:---|:---|\n",
        "| `unittest.skip(reason)` | デコレートしたテストを無条件でスキップする。`reason` にはテストをスキップした理由を記述する |\n",
        "| `unittest.skipIf(condition, reason)` | `condition` が真の場合、デコレートしたテストをスキップする |\n",
        "| `unittest.skipUnless(condition, reason)` | `condition` が偽の場合、デコレートしたテストをスキップする |\n",
        "| `unittest.expectedFailure` | テストの失敗を予期されたもの、つまり成功とみなす。テストが成功した場合は失敗とみなす |\n",
        "\n",
        "``` python\n",
        "class MyTestCase(unittest.TestCase):\n",
        "\n",
        "    @unittest.skip(\"demonstrating skipping\")\n",
        "    def test_something(self):\n",
        "        ...\n",
        "\n",
        "    @unittest.skipIf(mylib.__version__ < (1, 3), \"not supported in this library version\")\n",
        "    def test_format(self):\n",
        "        ...\n",
        "\n",
        "    @unittest.skipUnless(sys.platform.startswith(\"win\"), \"requires Windows\")\n",
        "    def test_windows_support(self):\n",
        "        ...\n",
        "\n",
        "    @unittest.expectedFailure\n",
        "    def test_fail(self):\n",
        "        ...\n",
        "\n",
        "@unittest.skip(\"showing class skipping\")\n",
        "class MyAdditionalTestCase(unittest.TestCase):\n",
        "    def test_anotherthing(self):\n",
        "        ...\n",
        "```"
      ],
      "metadata": {
        "id": "DeI8nqLdHnKe"
      }
    },
    {
      "cell_type": "markdown",
      "source": [
        "### テストスイート ###"
      ],
      "metadata": {
        "id": "U5C00eHEH1yV"
      }
    },
    {
      "cell_type": "markdown",
      "source": [
        "`unittest` でテストスイートは、`unittest.TestSuite` のインスタンスとして作成する。`unittest.TestSuite()` コンストラクタでインスタンスを作成し、以下のメソッドでテストを追加する。\n",
        "\n",
        "| メソッド | 機能 |\n",
        "|:---|:---|\n",
        "| `addTest(test)` | `test` をこのスイートに追加する。`test` に、テストケースのインスタンスまたはテストスイートのインスタンスを指定する |\n",
        "| `addTests(tests)` | イテラブル `tests` に含まれる全てのテストケースのインスタンスまたはテストスイートのインスタンスをスイートに追加する |\n",
        "\n",
        "テストスイートのインスタンスをスイートに追加すると、それに追加されていたテストがすべて追加される。"
      ],
      "metadata": {
        "id": "pTi5fg1NH2s9"
      }
    },
    {
      "cell_type": "markdown",
      "source": [
        "### テストランナー ###"
      ],
      "metadata": {
        "id": "RoJ9HrZmHoWC"
      }
    },
    {
      "cell_type": "markdown",
      "source": [
        "`unittest` は、基本的なテストランナーの実装として `unittest.TextTestRunner` クラスを提供している。`unittest.TextTestRunner` は結果をストリームに出力する。コンストラクタは次のとおり。\n",
        "\n",
        "``` python\n",
        "unittest.TextTestRunner(stream=None, descriptions=True, verbosity=1, failfast=False, buffer=False, resultclass=None, warnings=None, *, tb_locals=False)\n",
        "```\n",
        "\n",
        "| 引数 | 意味 |\n",
        "|:---|:---|\n",
        "| `stream` | 書き込み可能なファイルオブジェクトを指定する。テストの結果が `stream` に出力される。`stream` が `None`（デフォルト）の場合、`sys.stderr` が使われる |\n",
        "| `descriptions` | `True`（デフォルト）の場合、テストメソッドの docstring があればその先頭の一行を出力する |\n",
        "| `verbosity` | 0 の場合、テストの途中経過を何も表示しない。 1（デフォルト）の場合、1 テストにつき 1 文字で経過を表示する（成功ならドット `.` 、失敗なら `F`、スキップなら `s`）。 2 の場合、<br />テストメソッドが表示される |\n",
        "| `failfast` | `True` の場合、最初のテスト失敗時に実行を停止する（残りのテストは実行されない） |\n",
        "| `buffer` | `True` の場合、バッファリングが有効になり、成功したテストの経過は出力されない |\n",
        "| `resultclass` | テスト結果の情報を保持するクラスを指定する。デフォルトでは `unittest.TextTestResult` が使用される |\n",
        "| `warnings` | `None` でない場合、`warnings.simplefilter(warnings)` を呼び出す。`None`（デフォルト）の場合、`TextTestRunner()` は全ての警告をモジュールごとに 1 回だけ表示するが、コマンド<br />ラインの `-W` オプションが指定されているならその警告制御のほうを優先する |\n",
        "| `tb_locals` | `True` の場合、ローカル変数がトレースバックに表示される |\n",
        "\n",
        "`unittest.TextTestRunner` オブジェクトの `run(test)` メソッドを呼び出すと、テストが実行され、結果が出力される。`test` 引数にテストケースのインスタンスまたはテストスイートのインスタンスを指定する。\n",
        "\n",
        "以下は、3 つの文字列メソッドをテストし、スキップするテストを含むスクリプトである。"
      ],
      "metadata": {
        "id": "5Zao3d46uHXy"
      }
    },
    {
      "cell_type": "code",
      "source": [
        "import unittest\n",
        "\n",
        "\n",
        "class TestStringMethods(unittest.TestCase):\n",
        "\n",
        "    def test_upper(self):\n",
        "        self.assertEqual(\"foo\".upper(), \"FOO\")\n",
        "\n",
        "    def test_isupper(self):\n",
        "        self.assertTrue(\"FOO\".isupper())\n",
        "        self.assertFalse(\"Foo\".isupper())\n",
        "\n",
        "    def test_split(self):\n",
        "        s = \"hello world\"\n",
        "        self.assertEqual(s.split(), [\"hello\", \"world\"])\n",
        "        # 第1引数が区切り文字でない場合に s.split が失敗することを確認\n",
        "        with self.assertRaises(TypeError):\n",
        "            s.split(2)\n",
        "\n",
        "\n",
        "@unittest.skip(\"showing class skipping\")\n",
        "class MySkippedTestCase(unittest.TestCase):\n",
        "    def test_nothing(self):\n",
        "        self.fail(\"shouldn't happen\")\n",
        "\n",
        "\n",
        "if __name__ == \"__main__\":\n",
        "    suite = unittest.TestSuite()\n",
        "    suite.addTest(TestStringMethods(\"test_upper\"))\n",
        "    suite.addTest(TestStringMethods(\"test_isupper\"))\n",
        "    suite.addTest(TestStringMethods(\"test_split\"))\n",
        "    suite.addTest(MySkippedTestCase(\"test_nothing\"))\n",
        "    runner = unittest.TextTestRunner()\n",
        "    runner.run(suite)"
      ],
      "metadata": {
        "colab": {
          "base_uri": "https://localhost:8080/"
        },
        "id": "JcFCRNC8jcxx",
        "outputId": "fa571c2d-e342-47b3-aded-066bef9980f7"
      },
      "execution_count": null,
      "outputs": [
        {
          "output_type": "stream",
          "name": "stderr",
          "text": [
            "...s\n",
            "----------------------------------------------------------------------\n",
            "Ran 4 tests in 0.012s\n",
            "\n",
            "OK (skipped=1)\n"
          ]
        }
      ]
    },
    {
      "cell_type": "markdown",
      "source": [
        "`verbosity=2` でテストを実行したときの出力結果は次のようになる:"
      ],
      "metadata": {
        "id": "eAGvlUtpGzCg"
      }
    },
    {
      "cell_type": "code",
      "source": [
        "if __name__ == \"__main__\":\n",
        "    suite = unittest.TestSuite()\n",
        "    suite.addTest(TestStringMethods(\"test_upper\"))\n",
        "    suite.addTest(TestStringMethods(\"test_isupper\"))\n",
        "    suite.addTest(TestStringMethods(\"test_split\"))\n",
        "    suite.addTest(MySkippedTestCase(\"test_nothing\"))\n",
        "    runner = unittest.TextTestRunner(verbosity=2)\n",
        "    runner.run(suite)"
      ],
      "metadata": {
        "colab": {
          "base_uri": "https://localhost:8080/"
        },
        "id": "AdWRipMQG0Kc",
        "outputId": "0e27da9a-9d6a-4c8a-c87a-bba4589686e7"
      },
      "execution_count": null,
      "outputs": [
        {
          "output_type": "stream",
          "name": "stderr",
          "text": [
            "test_upper (__main__.TestStringMethods) ... ok\n",
            "test_isupper (__main__.TestStringMethods) ... ok\n",
            "test_split (__main__.TestStringMethods) ... ok\n",
            "test_nothing (__main__.MySkippedTestCase) ... skipped 'showing class skipping'\n",
            "\n",
            "----------------------------------------------------------------------\n",
            "Ran 4 tests in 0.023s\n",
            "\n",
            "OK (skipped=1)\n"
          ]
        }
      ]
    },
    {
      "cell_type": "markdown",
      "source": [
        "### テストのロード ###"
      ],
      "metadata": {
        "id": "7lj4i0espZ68"
      }
    },
    {
      "cell_type": "markdown",
      "source": [
        "テストの数が多くなると、手作業でテストをテストスイートに追加することは困難であり、間違いも起こりやすい。そこで、`unittest` は、テストを収集してテストスイートを構成する機能を提供する `unittest.TestLoader` クラスを用意している。このクラスのインスタンスがモジュール定数 `unittest.defaultTestLoader` として用意されているから、通常は明示的にインスタンスを生成する必要がない。\n",
        "\n",
        "``` python\n",
        "TestLoader.loadTestsFromTestCase(testCaseClass)\n",
        "```\n",
        "\n",
        "この `unittest.TestLoader` のメソッドは、テストケースクラス `testCaseClass` に含まれる全てのテストメソッドを含むテストスイートを返す。\n",
        "\n",
        "``` python\n",
        "TestLoader.loadTestsFromName(name, module=None)\n",
        "```\n",
        "\n",
        "この `unittest.TestLoader` のメソッドは、文字列で指定される全テストケースを含むテストスイートを返す。\n",
        "\n",
        "`name` にはドット修飾名でモジュールかテストケースクラス、テストケースクラス内のメソッド、`TestSuite` インスタンスまたは `TestCase` か `TestSuite` のインスタンスを返す呼び出し可能オブジェクトを指定する。`module` を指定した場合、`module` 内の `name` を取得する。\n",
        "\n",
        "このメソッドは、収集したテストを、テストケースクラスの名前順かつテストメソッドの名前順にソートしてから、その順序でテストスイートに追加する。\n",
        "\n",
        "`addTest()` を使って手作業でテストスイートを構築するコードのブロックは、`loadTestsFromName()` を使って次のように簡単な記述に代えることができる（テストの実行順序に注意する）:"
      ],
      "metadata": {
        "id": "mFb4h2YCparZ"
      }
    },
    {
      "cell_type": "code",
      "source": [
        "if __name__ == \"__main__\":\n",
        "    suite = unittest.defaultTestLoader.loadTestsFromName(\"__main__\")\n",
        "    runner = unittest.TextTestRunner(verbosity=2)\n",
        "    runner.run(suite)"
      ],
      "metadata": {
        "colab": {
          "base_uri": "https://localhost:8080/"
        },
        "id": "onbO7GUEXJ3t",
        "outputId": "582c1b4e-cd90-4c53-afe9-76b47108c48c"
      },
      "execution_count": null,
      "outputs": [
        {
          "output_type": "stream",
          "name": "stderr",
          "text": [
            "test_nothing (__main__.MySkippedTestCase) ... skipped 'showing class skipping'\n",
            "test_isupper (__main__.TestStringMethods) ... ok\n",
            "test_split (__main__.TestStringMethods) ... ok\n",
            "test_upper (__main__.TestStringMethods) ... ok\n",
            "\n",
            "----------------------------------------------------------------------\n",
            "Ran 4 tests in 0.011s\n",
            "\n",
            "OK (skipped=1)\n"
          ]
        }
      ]
    },
    {
      "cell_type": "markdown",
      "source": [
        "`unittest` は、このブロックを簡単に書く方法として `unittest.main` を提供している（実はこれはモジュールの中で `TestProgram` クラスの別名であり、`()` を付けてコンストラクタを呼び出すことになるのだが、他の場所でこのクラスもインスタンスも使われない）。\n",
        "\n",
        "``` python\n",
        "unittest.main(module='__main__', defaultTest=None, argv=None, testRunner=None, testLoader=unittest.defaultTestLoader, exit=True, verbosity=1, failfast=None, catchbreak=None, buffer=None, warnings=None)\n",
        "```\n",
        "\n",
        "`module` から複数のテストを読み込んで実行する。読み込むテストをリスト `argv`（`None` の場合は `sys.argv` が使われる）の第 2 要素以降に指定することができる。`argv[1:]` が空の場合、`defaultTest` に指定したテストを読み込む。`argv[1:]` が空で、かつ `defaultTest` が `None` の場合、`module` にある全てのテストを読み込む。`exit=True` の場合、テスト実行後に `sys.exit()` を呼び出し、全テストが成功するとエラーレベル 0 を OS に返し、失敗したテストがあるとエラーレベル 1 を OS に返す。`verbosity`, `failfast`, `buffer`, `warnings` オプションは、内部でテストランナーを生成するときのコンストラクタに渡される。\n",
        "\n",
        "`unittest.main` を使うと、上記のブロックと同等なコードを次のように書くことができる:\n",
        "\n",
        "``` python\n",
        "if __name__ == '__main__':\n",
        "    unittest.main(verbosity=2)\n",
        "```\n",
        "\n",
        "ただし、対話的なインタプリターや Colab から使用する場合は、`argv` オプションと `exit` オプションを次のように指定する必要がある。"
      ],
      "metadata": {
        "id": "6t-fsa2-YltN"
      }
    },
    {
      "cell_type": "code",
      "source": [
        "if __name__ == '__main__':\n",
        "    unittest.main(verbosity=2, argv=['first-arg-is-ignored'], exit=False)"
      ],
      "metadata": {
        "colab": {
          "base_uri": "https://localhost:8080/"
        },
        "id": "4l7N_u9scc_J",
        "outputId": "ea05cdba-18a5-4901-f639-2abe5dee7d35"
      },
      "execution_count": null,
      "outputs": [
        {
          "output_type": "stream",
          "name": "stderr",
          "text": [
            "test_nothing (__main__.MySkippedTestCase) ... skipped 'showing class skipping'\n",
            "test_isupper (__main__.TestStringMethods) ... ok\n",
            "test_split (__main__.TestStringMethods) ... ok\n",
            "test_upper (__main__.TestStringMethods) ... ok\n",
            "\n",
            "----------------------------------------------------------------------\n",
            "Ran 4 tests in 0.020s\n",
            "\n",
            "OK (skipped=1)\n"
          ]
        }
      ]
    },
    {
      "cell_type": "markdown",
      "source": [
        "実のところ、`unittest` のコマンドラインインターフェースを使って、モジュール、クラス、あるいは個別のテストメソッドで定義されたテストを実行することができる:\n",
        "\n",
        "``` shell\n",
        "python -m unittest test_module1 test_module2\n",
        "python -m unittest test_module.TestClass\n",
        "python -m unittest test_module.TestClass.test_method\n",
        "```\n",
        "\n",
        "コマンドラインインターフェースを使う場合、モジュールにテストランナーや `unittest.main` のブロックは必要ない（あっても構わない）。\n",
        "\n",
        "テストモジュールはファイルパスで指定することもできる:\n",
        "\n",
        "``` shell\n",
        "python -m unittest tests/test_something.py\n",
        "```"
      ],
      "metadata": {
        "id": "v3wylMy9CdUN"
      }
    },
    {
      "cell_type": "markdown",
      "source": [
        "### subTest ###"
      ],
      "metadata": {
        "id": "aNOrcHf7N2Mb"
      }
    },
    {
      "cell_type": "markdown",
      "source": [
        "アサーションメソッドが失敗すると `AssertionError` 例外を送出する。テストメソッドの中で複数のアサーションメソッドを呼び出す場合、その中の 1 つが失敗すると、それ以降のアサーションメソッドは実行されない。\n",
        "\n",
        "この問題に対処するため、`unittest.TestCase` クラスに `subTest(msg=None, **params)` メソッドが定義されている。`subTest()` メソッドはコンテキストマネージャーになっていて、with 文の本体でアサーションメソッドを呼び出すと、それが失敗してもテストが続行される。`subTest()` メソッドの引数として、文字列 `msg` や、任意のキーワード引数を与えると、with 文の本体でテストが失敗したときにその値が表示され、どのような条件のもとで失敗したのかを明確にすることができる。"
      ],
      "metadata": {
        "id": "sA0jcwpgN4e-"
      }
    },
    {
      "cell_type": "code",
      "source": [
        "class NumbersTest(unittest.TestCase):\n",
        "\n",
        "    def test_even(self):\n",
        "        \"\"\"\n",
        "        0 から 5 までの数がすべて偶数であることのテスト\n",
        "        \"\"\"\n",
        "        for i in range(0, 6):\n",
        "            with self.subTest(i=i):\n",
        "                self.assertEqual(i % 2, 0)\n",
        "\n",
        "\n",
        "if __name__ == \"__main__\":\n",
        "    unittest.TextTestRunner().run(NumbersTest(\"test_even\"))"
      ],
      "metadata": {
        "colab": {
          "base_uri": "https://localhost:8080/"
        },
        "id": "JPa4Jh0YZzer",
        "outputId": "e347baf1-4a12-470b-ef8e-c62935b573b1"
      },
      "execution_count": null,
      "outputs": [
        {
          "output_type": "stream",
          "name": "stderr",
          "text": [
            "\n",
            "======================================================================\n",
            "FAIL: test_even (__main__.NumbersTest) (i=1)\n",
            "0 から 5 までの数がすべて偶数であることのテスト\n",
            "----------------------------------------------------------------------\n",
            "Traceback (most recent call last):\n",
            "  File \"<ipython-input-6-ee154d21c67f>\", line 9, in test_even\n",
            "    self.assertEqual(i % 2, 0)\n",
            "AssertionError: 1 != 0\n",
            "\n",
            "======================================================================\n",
            "FAIL: test_even (__main__.NumbersTest) (i=3)\n",
            "0 から 5 までの数がすべて偶数であることのテスト\n",
            "----------------------------------------------------------------------\n",
            "Traceback (most recent call last):\n",
            "  File \"<ipython-input-6-ee154d21c67f>\", line 9, in test_even\n",
            "    self.assertEqual(i % 2, 0)\n",
            "AssertionError: 1 != 0\n",
            "\n",
            "======================================================================\n",
            "FAIL: test_even (__main__.NumbersTest) (i=5)\n",
            "0 から 5 までの数がすべて偶数であることのテスト\n",
            "----------------------------------------------------------------------\n",
            "Traceback (most recent call last):\n",
            "  File \"<ipython-input-6-ee154d21c67f>\", line 9, in test_even\n",
            "    self.assertEqual(i % 2, 0)\n",
            "AssertionError: 1 != 0\n",
            "\n",
            "----------------------------------------------------------------------\n",
            "Ran 1 test in 0.001s\n",
            "\n",
            "FAILED (failures=3)\n"
          ]
        }
      ]
    },
    {
      "cell_type": "markdown",
      "source": [
        "出力から、`i=1, 3, 5` ときにテストが失敗しているが、for 文は停止していないことがわかる。\n",
        "\n",
        "`subTest()` メソッド無しの場合、最初の失敗で実行は停止し、`i` の値が表示されないためエラーの原因を突き止めるのは困難になる:"
      ],
      "metadata": {
        "id": "AjlAbJSXdk8h"
      }
    },
    {
      "cell_type": "code",
      "source": [
        "class NumbersTest2(unittest.TestCase):\n",
        "\n",
        "    def test_even(self):\n",
        "        \"\"\"\n",
        "        0 から 5 までの数がすべて偶数であることのテスト\n",
        "        \"\"\"\n",
        "        for i in range(0, 6):\n",
        "            self.assertEqual(i % 2, 0)\n",
        "\n",
        "\n",
        "if __name__ == \"__main__\":\n",
        "    unittest.TextTestRunner().run(NumbersTest2(\"test_even\"))"
      ],
      "metadata": {
        "colab": {
          "base_uri": "https://localhost:8080/"
        },
        "id": "nkU1x9xndnoj",
        "outputId": "71998512-776a-4eb7-d9f6-0113b5f0f52b"
      },
      "execution_count": null,
      "outputs": [
        {
          "output_type": "stream",
          "name": "stderr",
          "text": [
            "F\n",
            "======================================================================\n",
            "FAIL: test_even (__main__.NumbersTest2)\n",
            "0 から 5 までの数がすべて偶数であることのテスト\n",
            "----------------------------------------------------------------------\n",
            "Traceback (most recent call last):\n",
            "  File \"<ipython-input-7-c0dcf7458fa5>\", line 8, in test_even\n",
            "    self.assertEqual(i % 2, 0)\n",
            "AssertionError: 1 != 0\n",
            "\n",
            "----------------------------------------------------------------------\n",
            "Ran 1 test in 0.003s\n",
            "\n",
            "FAILED (failures=1)\n"
          ]
        }
      ]
    },
    {
      "cell_type": "markdown",
      "source": [
        "### テストフィクスチャ ###"
      ],
      "metadata": {
        "id": "BYxt4qgDPLz2"
      }
    },
    {
      "cell_type": "markdown",
      "source": [
        "`unittest` のテストフィクスチャは、以下の `unittest.TestCase` クラスのメソッドである。これらは中身のない状態で定義されていて、サブクラスにおいてオーバーライドすることができる。\n",
        "\n",
        "| メソッド | 機能 |\n",
        "|:---|:---|\n",
        "| `setUp()` | テストメソッドの直前に呼び出される。テストの準備を行う |\n",
        "| `setUpClass()` | テストケース内のテストが実行される前に 1 回だけ呼び出されるクラスメソッド。クラスを唯一の引数として取り、`@classmethod` でデコレートされている必要がある |\n",
        "| `tearDown()` | テストメソッドが実行され、結果が出力された直後に呼び出される。このメソッドはテストメソッドで例外が投げられても呼び出される |\n",
        "| `tearDownClass()` | テストケース内のすべてのテストが実行された後に 1 回だけ呼び出されるクラスメソッド。クラスを唯一の引数として取り、`@classmethod` でデコレートされている必要がある |\n",
        "\n",
        "次のコードでは、`setUp()`、`setUpClass()`、`tearDown()`、`tearDownClass()` の実行順序を確認できる。"
      ],
      "metadata": {
        "id": "SEk566RgWAbd"
      }
    },
    {
      "cell_type": "code",
      "source": [
        "class Test(unittest.TestCase):\n",
        "    def setUp(self):\n",
        "        print(\"setUp() 実行\")\n",
        "\n",
        "    @classmethod\n",
        "    def setUpClass(cls):\n",
        "        print(\"setUpClass() 実行\")\n",
        "\n",
        "    def tearDown(self):\n",
        "        print(\"tearDown() 実行\")\n",
        "\n",
        "    @classmethod\n",
        "    def tearDownClass(cls):\n",
        "        print(\"tearDownClass() 実行\")\n",
        "\n",
        "    def test_example1(self):\n",
        "        print(\"test_example1 実行\")\n",
        "\n",
        "    def test_example2(self):\n",
        "        print(\"test_example2 実行\")\n",
        "\n",
        "\n",
        "if __name__ == '__main__':\n",
        "    suite = unittest.defaultTestLoader.loadTestsFromTestCase(Test)\n",
        "    runner = unittest.TextTestRunner()\n",
        "    runner.run(suite)"
      ],
      "metadata": {
        "colab": {
          "base_uri": "https://localhost:8080/"
        },
        "id": "aj62rOo3WIfw",
        "outputId": "60d9aa68-f340-4aeb-e00a-6e66dff4db42"
      },
      "execution_count": null,
      "outputs": [
        {
          "output_type": "stream",
          "name": "stderr",
          "text": [
            "..\n",
            "----------------------------------------------------------------------\n",
            "Ran 2 tests in 0.010s\n",
            "\n",
            "OK\n"
          ]
        },
        {
          "output_type": "stream",
          "name": "stdout",
          "text": [
            "setUpClass() 実行\n",
            "setUp() 実行\n",
            "test_example1 実行\n",
            "tearDown() 実行\n",
            "setUp() 実行\n",
            "test_example2 実行\n",
            "tearDown() 実行\n",
            "tearDownClass() 実行\n"
          ]
        }
      ]
    },
    {
      "cell_type": "markdown",
      "source": [
        "### コルーチン関数のテスト ###"
      ],
      "metadata": {
        "id": "g4OlcVx-ouoy"
      }
    },
    {
      "cell_type": "markdown",
      "source": [
        "`unittest.IsolatedAsyncioTestCase` クラスは、 `unittest.TestCase` と似た API を提供し、テスト関数としてコルーチンも許容する。また、以下のメソッドもサポートする。\n",
        "\n",
        "| メソッド | 機能 |\n",
        "|:---|:---|\n",
        "| `asyncSetUp()` | コルーチン関数。`setUp()` の後、テストメソッドの前に呼び出される |\n",
        "| `asyncTearDown()` | コルーチン関数。テストメソッドが実行され、結果が出力された直後、`tearDown()` の前に呼び出される |\n",
        "| `addAsyncCleanup(function, /, *args, **kwargs)` | `tearDown()` の後に実行されるコルーチンを追加する。これらのコルーチンはクリーンアップ関数として使用できる |"
      ],
      "metadata": {
        "id": "tE_-Z-aUowa4"
      }
    },
    {
      "cell_type": "code",
      "source": [
        "import asyncio\n",
        "import unittest\n",
        "\n",
        "# Colab 上で実行するのでなけれは以下の2行をコメントアウトする\n",
        "import nest_asyncio\n",
        "nest_asyncio.apply()\n",
        "\n",
        "\n",
        "async def my_func():\n",
        "    await asyncio.sleep(0.1)\n",
        "    return True\n",
        "\n",
        "\n",
        "events = []\n",
        "\n",
        "\n",
        "class TestStuff(unittest.IsolatedAsyncioTestCase):\n",
        "    def setUp(self):\n",
        "        events.append(\"setUp\")\n",
        "\n",
        "    async def asyncSetUp(self):\n",
        "        await asyncio.sleep(0.1)\n",
        "        events.append(\"asyncSetUp\")\n",
        "        self.addAsyncCleanup(self.on_cleanup)\n",
        "\n",
        "    # テスト関数\n",
        "    async def test_my_func(self):\n",
        "        r = await my_func()\n",
        "        self.assertTrue(r)\n",
        "\n",
        "    async def asyncTearDown(self):\n",
        "        await asyncio.sleep(0.1)\n",
        "        events.append(\"asyncTearDown\")\n",
        "\n",
        "    def tearDown(self):\n",
        "        events.append(\"tearDown\")\n",
        "\n",
        "    async def on_cleanup(self):\n",
        "        events.append(\"cleanup\")\n",
        "\n",
        "\n",
        "if __name__ == \"__main__\":\n",
        "    unittest.TextTestRunner().run(TestStuff(\"test_my_func\"))\n",
        "    print(f\"{events=}\")"
      ],
      "metadata": {
        "colab": {
          "base_uri": "https://localhost:8080/"
        },
        "id": "HCnyhtFeoyVD",
        "outputId": "279eb773-2636-4c18-8d8f-42e93de9f7b2"
      },
      "execution_count": null,
      "outputs": [
        {
          "output_type": "stream",
          "name": "stderr",
          "text": [
            ".\n",
            "----------------------------------------------------------------------\n",
            "Ran 1 test in 0.319s\n",
            "\n",
            "OK\n"
          ]
        },
        {
          "output_type": "stream",
          "name": "stdout",
          "text": [
            "events=['setUp', 'asyncSetUp', 'asyncTearDown', 'tearDown', 'cleanup']\n"
          ]
        }
      ]
    },
    {
      "cell_type": "markdown",
      "source": [
        "### テストディスカバリ ###"
      ],
      "metadata": {
        "id": "z1X__jNDCedr"
      }
    },
    {
      "cell_type": "markdown",
      "source": [
        "これまで単独でテストを実行するスクリプトを扱ってきたが、ここでは、ディレクトリ以下のテストモジュールを探索してインポートし、それらに含まれるテストを実行する方法を扱う。こうしたテストの実行方法を**テストディスカバリ**と呼ぶ。\n",
        "\n",
        "以下のプロジェクトのディレクトリ構成とカレントディレクトリを考える。\n",
        "\n",
        "``` text\n",
        "my-project  ← カレントディレクトリ\n",
        "├─ my_project\n",
        "│   ├─ __init__.py\n",
        "│   ├─ add.py\n",
        "│   └─ multiply.py\n",
        "├─ tests\n",
        "│   ├─ __init__.py\n",
        "│   ├─ test_add.py\n",
        "│   └─ test_multiply.py\n",
        "└─ run_tests.py\n",
        "```\n",
        "\n",
        "ここではパッケージインストールのステップを省略するため開発中のソースコードからインポートする flat-layout を採用している。各ファイルの内容は以下のとおり。\n",
        "\n",
        "`tests/test_add.py`:  \n",
        "``` python\n",
        "import unittest\n",
        "from my_project import add\n",
        "\n",
        "class AddTest(unittest.TestCase):\n",
        "    def test_add(self):\n",
        "        self.assertEqual(add(2, 3), 5)\n",
        "```\n",
        "\n",
        "`tests/test_multiply.py`:  \n",
        "``` python\n",
        "import unittest\n",
        "from my_project import multiply\n",
        "\n",
        "class MultiplyTest(unittest.TestCase):\n",
        "    def test_multiply(self):\n",
        "        self.assertEqual(multiply(2, 3), 6)\n",
        "```\n",
        "\n",
        "`my_project/__init__.py`:  \n",
        "``` python\n",
        "from .add import add\n",
        "from .multiply import multiply\n",
        "```\n",
        "\n",
        "`my_project/add.py`:  \n",
        "``` python\n",
        "def add(x, y):\n",
        "    return x + y\n",
        "```\n",
        "\n",
        "`my_project/multiply.py`:  \n",
        "``` python\n",
        "def multiply(x, y):\n",
        "    return x * y\n",
        "```\n",
        "\n",
        "なお、`tests/__init__.py` は中身のない空ファイルであり、なくてもよい。\n",
        "\n",
        "`unittest.TestLoader` の次のメソッドは、テストディスカバリを実行するためのテストスイートを返す。\n",
        "\n",
        "``` python\n",
        "TestLoader.discover(start_dir, pattern='test*.py', top_level_dir=None)\n",
        "```\n",
        "\n",
        "指定された `start_dir` ディレクトリからサブディレクトリの中のすべてのテストモジュールを再帰的に検索し、それらを含むテストスイートを返す。`pattern` にマッチしたテストファイルだけがロードの対象になる（シェルスタイルのパターンマッチングが使われる）。それらをモジュールとしてインポートするので、`-` など Python の識別子に使えない文字をファイル名に使ったものはロードされない。シンタックスエラーなどでモジュールのインポートに失敗した場合、エラーが記録され、ディスカバリ自体は続けられる。`start_dir` がプロジェクトのトップレベルでない場合は、トップレベルディレクトリを `top_level_dir` に指定する必要がある。\n",
        "\n",
        "`run_tests.py` に以下のコードを記述する:\n",
        "\n",
        "``` python\n",
        "import unittest\n",
        "suite = unittest.defaultTestLoader.discover(\"tests\")\n",
        "runner = unittest.TextTestRunner()\n",
        "runner.run(suite)\n",
        "```\n",
        "\n",
        "`run_tests.py` を実行すると次のように出力される:\n",
        "\n",
        "``` shell\n",
        "PS> python run_tests.py\n",
        "..\n",
        "----------------------------------------------------------------------\n",
        "Ran 2 tests in 0.001s\n",
        "\n",
        "OK\n",
        "```\n",
        "\n",
        "`load_tests` プロトコルによってテストディスカバリをカスタマイズすることができる。`start_dir` ディレクトリに `__init__.py` があり、その中で `load_tests(loader, standard_tests, pattern)` 関数が実装されている場合、`discover()` はインスタンス自身と `__init__.py` から収集されたテストと `pattern` をその関数に渡して処理をその関数に丸投げする。したがって、`load_tests()` はテストスイートを返さなければならない。\n",
        "\n",
        "なお、`discover()` が `start_dir` のサブディレクトリを再帰的に探索するのは、そのサブディレクトリに `__init__.py` が存在する必要がある（`__init__.py` は空のファイルでよい）。\n",
        "\n",
        "また、テストディスカバリは、`unittest` のコマンドラインから使うこともできる。\n",
        "\n",
        "``` shell\n",
        "python -m unittest discover [options]\n",
        "```\n",
        "\n",
        "`discover` サブコマンドのオプションは次のとおり。\n",
        "\n",
        "| オプション | 意味 |\n",
        "|:---|:---|\n",
        "| `-v`, `--verbose` | 詳細な出力 |\n",
        "| `-s directory`, `--start-directory directory` | ディスカバリを開始するディレクトリ（デフォルトはカレントディレクトリ `.`） |\n",
        "| `-p pattern`, `--pattern pattern` | テストファイル名を識別するパターン（デフォルトは `test*.py`） |\n",
        "| `-t directory`, `--top-level-directory directory` | プロジェクトのトップレベルのディレクトリ（デフォルトはディスカバリを開始するディレクトリと同じ） |\n",
        "\n",
        "`-s`、`-p`、および `-t` オプションは、この順番であれば位置引数として渡すことができる。以下の二つのコマンドは等価:\n",
        "\n",
        "``` shell\n",
        "python -m unittest discover -s project_directory -p \"*_test.py\"\n",
        "python -m unittest discover project_directory \"*_test.py\"\n",
        "```\n",
        "\n",
        "`discover` サブコマンドのオプションを全く指定しない場合は、`discover` サブコマンド自体を省略できる。つまり、次の 2 行は同じテストディスカバリを実行する。\n",
        "\n",
        "``` shell\n",
        "python -m unittest discover\n",
        "python -m unittest\n",
        "```\n",
        "\n",
        "`discover` サブコマンドのオプションを指定する場合は、`discover` の省略が許されないことに注意する。\n",
        "\n",
        "``` shell\n",
        "PS> python -m unittest\n",
        "..\n",
        "----------------------------------------------------------------------\n",
        "Ran 2 tests in 0.001s\n",
        "\n",
        "OK\n",
        "```\n",
        "\n",
        "VSCode の Python 拡張機能は、`unittest` のコマンドラインからのテストディスカバリを VSCode 上から実行できる。テストの設定を終えると、テストメソッド単位、テストケース単位、テストメソッド単位のテストも可能である。詳細は、公式ドキュメントの「[Python testing in Visual Studio Code](https://code.visualstudio.com/docs/python/testing)」を参照。"
      ],
      "metadata": {
        "id": "KpUdupX_2d2f"
      }
    },
    {
      "cell_type": "markdown",
      "source": [
        "### doctest との統合 ###"
      ],
      "metadata": {
        "id": "ErgXdmQeV7qX"
      }
    },
    {
      "cell_type": "markdown",
      "source": [
        "`load_tests` プロトコルを利用して、`unittest` のテストディスカバリと `doctest` を統合することができる。`TestLoader.discover()` の `start_dir` ディレクトリ内にある `__init__.py` に `load_tests()` 関数を含めるのであるが、以下のように書く。\n",
        "\n",
        "`__init__.py`:\n",
        "\n",
        "``` python\n",
        "import unittest\n",
        "import doctest\n",
        "import my_module_with_doctests  # テストしたいモジュール\n",
        "\n",
        "def load_tests(loader, tests, ignore):\n",
        "    tests.addTests(doctest.DocTestSuite(my_module_with_doctests))\n",
        "    return tests\n",
        "```\n",
        "\n",
        "`doctest.DocTestSuite()` 関数は、渡されたモジュールの中にある `doctest` によるテスト（以下単に doctest と呼ぶ）を `unittest.TestSuite` インスタンスに変換する。返された `unittest.TestSuite` インスタンスは、`unittest` のテストディスカバリによって実行され、モジュール内の各 doctest を実行する。いずれかの doctest が失敗すると、統合された単体テストは失敗し、テストを含むファイルの名前と（場合によってはおおよその）行番号を示す `doctest.failureException` 例外が発生する。\n",
        "\n",
        "モジュールではなく doctest 形式のテストが書いてあるテキストファイルを指定したい場合は、`doctest.DocFileSuite()` 関数を使用するとよい。`doctest.DocFileSuite()` には複数のテキストファイルパスを渡すことができる。"
      ],
      "metadata": {
        "id": "4y-Op09TV87H"
      }
    },
    {
      "cell_type": "markdown",
      "source": [
        "モック\n",
        "------"
      ],
      "metadata": {
        "id": "9VbdQ-2BiJXG"
      }
    },
    {
      "cell_type": "markdown",
      "source": [
        "### テストダブル ###"
      ],
      "metadata": {
        "id": "rcr_oGPKFpaU"
      }
    },
    {
      "cell_type": "markdown",
      "source": [
        "**テストダブル**（test double）とは、自動テストに使用する偽物、代用品のことを指す。「ダブル」は身代わりという意味合いである。テストダブルを使用する理由には、次のようなものが挙げられる。\n",
        "\n",
        "  * テスト対象が外部のコンポーネントに依存しているときに、その依存条件の再現が難しいならば、テストが不可能になってしまう。このような場合、テストダブルから一定の条件を再現させれば、テストが簡単に行える。\n",
        "  * テストの実行が本物の処理時間に影響されなくなって高速化される。\n",
        "\n",
        "テストダブルを使うことにより、TDD を実施できるケースが増えるが、TDD そのもののメリットが損なわれる可能性がある。本物を置き換えたテストダブルが本物と同様に動作するのでなければ、失敗してほしいテストが失敗してくれるとの確信が得られないからである。そこで、コンポーネント開発元による、あるいは OSS の**フェイク**（fake）が利用される。フェイクはテストダブルの一種で、本物に近い軽量な代替実装である。\n",
        "\n",
        "信頼のおけるフェイクが見つからなかった場合、テストダブルを自分で作ることになるが、その前に本当にテストダブルを使わなければならないのかを今一度検討することが重要である。一般にテストを容易にしようとすれば疎結合かつ高凝集といった良い設計に向かうものであり、テストが難しそうだからテストダブルを使うというのでは悪い設計をそのままに放置してしまいかねない。\n",
        "\n",
        "テストダブルは、間接入力に関するものか、間接出力に関するものかという視点から、**スタブ**（stub）と**スパイ**（spy）に分類される。\n",
        "\n",
        "  * テスト対象が中で外部のコンポーネントに依存しているとき、外部のコンポーネントから得られる値は、テストコードから直接見えないがテスト対象に影響を与えることから「間接入力」と呼ばれる。テスト対象への間接入力を操作するテストダブルは、スタブに分類される。\n",
        "  * テスト対象が中で外部のコンポーネントに情報を渡しているとき、その情報は、テストコードから直接見えないが外に出力していることから「間接出力」と呼ばれる。テスト対象の間接出力を記録し、それをテストコードから参照可能にするテストダブルは、スパイに分類される。\n",
        "\n",
        "標準ライブラリの `unittest.mock` は、スタブとしてもスパイとしても使えるクラスを提供し、これを**モック**（mock）と呼んでいる。ちなみに、モックはモックアップ（mock-up）の略で、工業製品では、内部のシステムが実装されておらず機能しないものの、外面は完成品に近いサンプル品を指す。\n",
        "\n",
        "モックオブジェクトを作成するために、 `unittest.mock.Mock` と `unittest.mock.MagicMock` の 2 つのクラスが提供され、たいてい両者は互換である。 `unittest.mock.MagicMock` の方が強力なので、通常はこちらを使うことになる。"
      ],
      "metadata": {
        "id": "Fj7mZzTW88Mx"
      }
    },
    {
      "cell_type": "markdown",
      "source": [
        "### MagicMock ###"
      ],
      "metadata": {
        "id": "eEdQWV3QHgiP"
      }
    },
    {
      "cell_type": "markdown",
      "source": [
        "``` python\n",
        "unittest.mock.MagicMock(spec=None, side_effect=None, return_value=DEFAULT, wraps=None, name=None, spec_set=None, unsafe=False, **kwargs)\n",
        "```\n",
        "\n",
        "新しいモックオブジェクトを生成する。コンストラクタの引数は次のとおり。\n",
        "\n",
        "| 引数 | 意味 |\n",
        "|:---|:---|\n",
        "| `spec` | 文字列のリストか、既存のクラスもしくはインスタンスを指定できる。クラスもしくはインスタンスを指定した場合は、`dir()` 関数によって文字列のリストが生成される。リストに<br />ない名前の属性にアクセスすると `AttributeError` が発生する |\n",
        "| `spec_set` | `spec` と同じ役割だが、これを利用した場合はさらにリストにない名前の属性を設定しようとする時にも `AttributeError` が発生する |\n",
        "| `side_effect` | このモックオブジェクトの `side_effect` 属性を設定する。この属性には、モックが呼び出された際に呼び出される関数、イテラブル、もしくは発生させる例外（クラスまたはイン<br />スタンス）を設定できる |\n",
        "| `return_value` | このモックオブジェクトの `return_value` 属性を設定する。この属性には、モックが呼び出された際に返す値を設定できる。デフォルト値の `unittest.mock.DEFAULT` では、モックオ<br />ブジェクトを返す |\n",
        "| `wraps` | このモックオブジェクトがラップするものを指定できる。モックオブジェクトの呼び出しは、このラップされたオブジェクトの呼び出しに渡される。また、モックの属性アクセスは、<br />ラップされたオブジェクトの対応する属性をラップする `Mock` オブジェクトを返す。`return_value` を設定していると、ラップは無効化される |\n",
        "| `name` | モックの名前を指定できる。指定すると、デバッグ時に `print()` 関数や `repr()` 関数で何のモックオブジェクトなのかを確認するのに役立つ。指定しない場合、このモックの参照<br />形式から名前が自動的に決まる |\n",
        "| `unsafe` | `False`（デフォルト）の場合、assert、assret、asert、aseert、assrt で始まる名前の属性にアクセスすると `AttributeError` が発生する。`True` の場合、これらの属性にアクセスでき<br />るようになる |\n",
        "| `kwargs` | 任意のキーワード引数は、モックオブジェクトに属性として追加される。 `spec_set` を指定した場合にキーワード引数を指定すると `AttributeError` が発生する |\n",
        "\n",
        "モックオブジェクトは、どんなオブジェクトの代用品にもなれるように柔軟な属性アクセス機能を提供する。モックオブジェクトを単体で使うことはあまりないが、柔軟性を理解のためにいくつか試してみる:"
      ],
      "metadata": {
        "id": "KDoLY1mgwSHl"
      }
    },
    {
      "cell_type": "code",
      "source": [
        "from unittest.mock import MagicMock\n",
        "\n",
        "mock = MagicMock(a=1, b=lambda x:x**2)\n",
        "assert mock.a == 1 and mock.b(3) == 9  # キーワード引数は属性やメソッドとして設定される\n",
        "print(f\"{mock.c=}\")  # 未定義の属性にアクセスしてもエラーは発生しない\n",
        "print(f\"{mock.c('hello')=}\")  # 未定義の属性をメソッドとして呼び出してもエラーは発生しない"
      ],
      "metadata": {
        "colab": {
          "base_uri": "https://localhost:8080/"
        },
        "id": "-BDLOMSmroEE",
        "outputId": "0b94fc0d-f4ab-4338-f7d5-951bc089d412"
      },
      "execution_count": null,
      "outputs": [
        {
          "output_type": "stream",
          "name": "stdout",
          "text": [
            "mock.c=<MagicMock name='mock.c' id='133542743702352'>\n",
            "mock.c('hello')=<MagicMock name='mock.c()' id='133542691797696'>\n"
          ]
        }
      ]
    },
    {
      "cell_type": "markdown",
      "source": [
        "このコードでは、定義していない属性 `mock.c` を参照したり、`mock.c()` と呼び出しているが、`AttributeError` は発生せず、モックオブジェクトが生成されることがわかる。この仕組みにより、ドット `.` 修飾をいくつでも重ねた属性名を参照しても `AttributeError` は発生しない:"
      ],
      "metadata": {
        "id": "HtuXYpfyAeYB"
      }
    },
    {
      "cell_type": "code",
      "source": [
        "mock.d.e.f()"
      ],
      "metadata": {
        "colab": {
          "base_uri": "https://localhost:8080/"
        },
        "id": "6Rb7BKWFAfGl",
        "outputId": "5c36fb9c-72bf-4181-cd2b-bf8e7df1a7e0"
      },
      "execution_count": null,
      "outputs": [
        {
          "output_type": "execute_result",
          "data": {
            "text/plain": [
              "<MagicMock name='mock.d.e.f()' id='133542687808080'>"
            ]
          },
          "metadata": {},
          "execution_count": 11
        }
      ]
    },
    {
      "cell_type": "markdown",
      "source": [
        "この仕組みは特殊属性の形式（ダンダースコア `__` で挟んだ形式）には通用せず、未定義のものをアクセスするとモックオブジェクトは生成されず、`AttributeError` が発生する。`__class__` 属性は定義されていて、書き換えが可能であり、`isinstance()` を通過することができる:"
      ],
      "metadata": {
        "id": "4JGP9U4YZrX6"
      }
    },
    {
      "cell_type": "code",
      "source": [
        "try:\n",
        "    print(mock.__a__)\n",
        "except AttributeError:\n",
        "    print(\"未定義の特殊属性形式にはアクセスできない\")\n",
        "\n",
        "mock.__class__ = dict\n",
        "assert isinstance(mock, dict)"
      ],
      "metadata": {
        "colab": {
          "base_uri": "https://localhost:8080/"
        },
        "id": "6ph5TM4pZsVG",
        "outputId": "8b7095c7-1fbe-4aa2-ea07-54eacc73de1c"
      },
      "execution_count": null,
      "outputs": [
        {
          "output_type": "stream",
          "name": "stdout",
          "text": [
            "未定義の特殊属性形式にはアクセスできない\n"
          ]
        }
      ]
    },
    {
      "cell_type": "markdown",
      "source": [
        "`spec` 引数を指定した場合は、引数にない属性を参照すると `AttributeError` が発生する。属性を新たに定義することはできる。`spec_set` 引数を指定した場合は、属性を追加で定義する場合にも `AttributeError` が発生する。"
      ],
      "metadata": {
        "id": "QChrgKsxC8jp"
      }
    },
    {
      "cell_type": "code",
      "source": [
        "m1 = MagicMock(spec=[\"a\", \"b\"], a=1)\n",
        "assert m1.a == 1\n",
        "print(m1.b)\n",
        "try:\n",
        "    print(m1.c)\n",
        "except AttributeError:\n",
        "    print(\"spec引数を指定した場合は、未定義の属性にアクセスできない\")\n",
        "m1.c = 3\n",
        "assert m1.c == 3  # 属性を追加することはできる\n",
        "\n",
        "m2 = MagicMock(spec_set=[\"a\", \"b\"])\n",
        "try:\n",
        "    print(m2.c)\n",
        "except AttributeError:\n",
        "    print(\"spec_set引数を指定した場合は、未定義の属性にアクセスできない\")\n",
        "try:\n",
        "    m2.c = 3\n",
        "except AttributeError:\n",
        "    print(\"spec_set引数を指定した場合は、属性を追加で定義することもできない\")"
      ],
      "metadata": {
        "colab": {
          "base_uri": "https://localhost:8080/"
        },
        "id": "kcY_N1EKC91g",
        "outputId": "54607f5f-2373-48aa-c9f5-25c030b22802"
      },
      "execution_count": null,
      "outputs": [
        {
          "output_type": "stream",
          "name": "stdout",
          "text": [
            "<MagicMock name='mock.b' id='133542687850400'>\n",
            "spec引数を指定した場合は、未定義の属性にアクセスできない\n",
            "spec_set引数を指定した場合は、未定義の属性にアクセスできない\n",
            "spec_set引数を指定した場合は、属性を追加で定義することもできない\n"
          ]
        }
      ]
    },
    {
      "cell_type": "markdown",
      "source": [
        "`spec` に文字列リストでないオブジェクトを指定すると、オブジェクトの属性名のリストに変換されるので、オブジェクトの属性を参照してもエラーは発生しない。また、自動的に `__class__` 属性が `spec` のクラスに設定される。"
      ],
      "metadata": {
        "id": "XRFDs4Pcxuln"
      }
    },
    {
      "cell_type": "code",
      "source": [
        "mock = MagicMock(spec={'hoge': 1, 'fuga': 2})\n",
        "print(f\"{mock.get('hoge')=}\")  # dict のメソッド get() にアクセスできる（機能は引き継がない）\n",
        "assert isinstance(mock, dict)"
      ],
      "metadata": {
        "colab": {
          "base_uri": "https://localhost:8080/"
        },
        "id": "Wg4zpUFBxvfP",
        "outputId": "7e1a9da1-6a5e-498a-8c30-3dc33462e131"
      },
      "execution_count": null,
      "outputs": [
        {
          "output_type": "stream",
          "name": "stdout",
          "text": [
            "mock.get('hoge')=<MagicMock name='mock.get()' id='133542687885680'>\n"
          ]
        }
      ]
    },
    {
      "cell_type": "markdown",
      "source": [
        "`unittest.mock.MagicMock` には多くの特殊メソッド（`unittest` ではマジックメソッドと呼んでいる）が定義済みとされ、四則演算や剰余演算、インデックス参照を行ってもエラーは発生せず、対応するモックオブジェクトを呼び出す。この機能は `unittest.mock.Mock` にはない。 `spec` か `spec_set` 引数を利用した場合、 `spec`、`spec_set` に存在するマジックメソッドのみが生成される。"
      ],
      "metadata": {
        "id": "cdst_H6rD_HO"
      }
    },
    {
      "cell_type": "code",
      "source": [
        "m1, m2 = MagicMock(), MagicMock()\n",
        "print(f\"{m1=!s}\")  # __str__() が定義済み\n",
        "print(f\"{m1+m2=}\")  # __add__() が定義済み\n",
        "print(f\"{m1%m2=}\")  # __mod__() が定義済み\n",
        "print(f\"{m1[0]}\")  # __getitem__() が定義済み"
      ],
      "metadata": {
        "colab": {
          "base_uri": "https://localhost:8080/"
        },
        "id": "ymtYIK3pEAH3",
        "outputId": "379bc770-c8a7-4066-8e18-9aba35eba754"
      },
      "execution_count": null,
      "outputs": [
        {
          "output_type": "stream",
          "name": "stdout",
          "text": [
            "m1=<MagicMock id='133542687895952'>\n",
            "m1+m2=<MagicMock name='mock.__add__()' id='133542687974560'>\n",
            "m1%m2=<MagicMock name='mock.__mod__()' id='133542687990272'>\n",
            "<MagicMock name='mock.__getitem__()' id='133542688038752'>\n"
          ]
        }
      ]
    },
    {
      "cell_type": "markdown",
      "source": [
        "### スタブ的用法 ###"
      ],
      "metadata": {
        "id": "X59Ap3jp9kJh"
      }
    },
    {
      "cell_type": "markdown",
      "source": [
        "モックオブジェクトは呼び出し可能であり、関数やメソッドの代用になる。関数としての振る舞いに関係する属性は、`side_effect` と `return_value` である。\n",
        "\n",
        "`side_effect` 属性と `return_value` 属性は、コンストラクタの同名の引数で設定することも、作成したモックオブジェクトの属性として参照・設定することもできる。`side_effect` が `None` でない場合は、`return_value` は無視される。`side_effect` に `None` を設定して無効化することで、`return_value` 属性が使われるようになる。\n",
        "\n",
        "戻り値を指定したい場合、`return_value` 属性を使う。次のコードは、モックオブジェクトのマジックメソッド `__str__()` （`__str__` の参照が新たなモックオブジェクトに置き換えられる）に戻り値を設定する例である。"
      ],
      "metadata": {
        "id": "xvrI5EJsHlsH"
      }
    },
    {
      "cell_type": "code",
      "source": [
        "from unittest.mock import MagicMock\n",
        "mock = MagicMock()\n",
        "mock.__str__.return_value = 'aaa'\n",
        "assert str(mock) == 'aaa'"
      ],
      "metadata": {
        "id": "xWAi_xUUHmrk"
      },
      "execution_count": null,
      "outputs": []
    },
    {
      "cell_type": "markdown",
      "source": [
        "次のコードでは、関数 `sukikirai()` が `random.choice()` に依存していてテストしにくい。そこで、依存関係を切り離すため、`random.choice` をモックに置き換え、戻り値を `True` に設定している。"
      ],
      "metadata": {
        "id": "CfG0VTMWrtBw"
      }
    },
    {
      "cell_type": "code",
      "source": [
        "import random\n",
        "from unittest.mock import MagicMock\n",
        "\n",
        "def sukikirai():\n",
        "    if random.choice([True, False]):\n",
        "        print(\"すき\")\n",
        "    else:\n",
        "        print(\"きらい\")\n",
        "\n",
        "def test_sukikirai():\n",
        "    random.choice = MagicMock(return_value=True)\n",
        "    sukikirai()  # 常に \"すき\" を出力する\n",
        "\n",
        "if __name__ == \"__main__\":\n",
        "    test_sukikirai()"
      ],
      "metadata": {
        "colab": {
          "base_uri": "https://localhost:8080/"
        },
        "id": "pUKQGVPGx4en",
        "outputId": "7fad89c2-0eaa-411b-e531-9721d3602bdc"
      },
      "execution_count": null,
      "outputs": [
        {
          "output_type": "stream",
          "name": "stdout",
          "text": [
            "すき\n"
          ]
        }
      ]
    },
    {
      "cell_type": "markdown",
      "source": [
        "変化する戻り値や例外発生を扱いたい場合は、`side_effect` 属性を使う。イテラブルを指定した場合は、その次の値がモックを呼び出した際の戻り値になる。関数を指定した場合は、その関数の戻り値がモックを呼び出した際の戻り値になる。次のコードは、`side_effect` にイテラブルや関数を指定する例である:"
      ],
      "metadata": {
        "id": "TYLZP782p8VH"
      }
    },
    {
      "cell_type": "code",
      "source": [
        "from unittest.mock import MagicMock\n",
        "\n",
        "mock = MagicMock(side_effect=[4, 5, 6], return_value=0)\n",
        "assert mock() == 4\n",
        "assert mock() == 5\n",
        "assert mock() == 6\n",
        "try:\n",
        "    mock()\n",
        "except StopIteration as err:\n",
        "    print(f\"{type(err).__name__}が発生\")\n",
        "mock.side_effect = None  # クリア\n",
        "assert mock() == 0\n",
        "mock.side_effect = max\n",
        "print(f\"{mock(5, 10, 8)=}\")"
      ],
      "metadata": {
        "colab": {
          "base_uri": "https://localhost:8080/"
        },
        "id": "PcBr1D_Fp9SU",
        "outputId": "69aa3cd4-2f32-4053-97a3-22aae14bead2"
      },
      "execution_count": null,
      "outputs": [
        {
          "output_type": "stream",
          "name": "stdout",
          "text": [
            "StopIterationが発生\n",
            "mock(5, 10, 8)=10\n"
          ]
        }
      ]
    },
    {
      "cell_type": "markdown",
      "source": [
        "`side_effect` 属性が例外クラスかインスタンスの場合、モックが呼び出された際に例外を発生させる。次のコードでは、`A.a_meth()` スタティックメソッドが例外を送出しており、`B` クラスの `b_mesh()` メソッドは `A.a_meth()` に依存している。例外が送出された場合をテストするため、`A.a_meth()` をモックオブジェクトに置き換え、`side_effect` 属性に例外クラスを設定して、モックが呼ばれた時にその例外を発生させている。"
      ],
      "metadata": {
        "id": "qpZ_8Mbo3XCx"
      }
    },
    {
      "cell_type": "code",
      "source": [
        "if \"random\" in locals():\n",
        "    import importlib\n",
        "    importlib.reload(random)\n",
        "\n",
        "import random\n",
        "from unittest import mock\n",
        "\n",
        "class A:\n",
        "    @staticmethod\n",
        "    def a_meth():\n",
        "        raise random.choice([SystemError, TypeError, ValueError])\n",
        "\n",
        "class B:\n",
        "    def b_meth(self):\n",
        "        try:\n",
        "            A.a_meth()\n",
        "        except ValueError:\n",
        "            print(\"error handling\")\n",
        "        except Exception:\n",
        "            raise\n",
        "\n",
        "def test_b_meth():\n",
        "    A.a_meth = MagicMock(side_effect=ValueError)\n",
        "    B().b_meth()  # 常に \"error handling\" を出力する\n",
        "\n",
        "if __name__ == \"__main__\":\n",
        "    test_b_meth()"
      ],
      "metadata": {
        "colab": {
          "base_uri": "https://localhost:8080/"
        },
        "id": "mWvrAwWKAKGd",
        "outputId": "255e32b4-104d-4bec-9ca2-3dc71bedbcf3"
      },
      "execution_count": null,
      "outputs": [
        {
          "output_type": "stream",
          "name": "stdout",
          "text": [
            "error handling\n"
          ]
        }
      ]
    },
    {
      "cell_type": "markdown",
      "source": [
        "イミュータブル（変更不能）なオブジェクトの属性参照は、当然ながら変更できない。メソッドでも同じであり、モックオブジェクに置き換えようとすると、エラーが発生する。たとえば、`datetime.datetime.now()` が返す日時を固定化したい場合、これをモックに置き換えようとすると、`datetime.datetime` オブジェクトはイミュータブルだから失敗する:"
      ],
      "metadata": {
        "id": "3Kl05_fu5ygx"
      }
    },
    {
      "cell_type": "code",
      "source": [
        "import datetime\n",
        "from unittest.mock import MagicMock\n",
        "try:\n",
        "    datetime.datetime.now = MagicMock(return_value=datetime.datetime(2023, 10, 31, 12))\n",
        "except TypeError as err:\n",
        "    print(f\"{type(err).__name__}: {err}\")"
      ],
      "metadata": {
        "id": "dWVAEUkG5zyU",
        "colab": {
          "base_uri": "https://localhost:8080/"
        },
        "outputId": "5ba4bc8b-5ce5-4b57-a0ba-3357db9fbc08"
      },
      "execution_count": null,
      "outputs": [
        {
          "output_type": "stream",
          "name": "stdout",
          "text": [
            "TypeError: cannot set 'now' attribute of immutable type 'datetime.datetime'\n"
          ]
        }
      ]
    },
    {
      "cell_type": "markdown",
      "source": [
        "次のコードでは、`todo()` 関数 が `datetime.datetime.now()` に依存している。`todo()` のテストにおいて、`datetime.datetime.now()` を直接モックオブジェクに置き換えることはできないが、工夫すれば戻り値の日時を固定化することは可能である:"
      ],
      "metadata": {
        "id": "iHXWp6Q7Q8Nj"
      }
    },
    {
      "cell_type": "code",
      "source": [
        "if \"datetime\" in locals():\n",
        "    import importlib\n",
        "    importlib.reload(datetime)\n",
        "\n",
        "import datetime\n",
        "from unittest.mock import MagicMock\n",
        "\n",
        "def todo():\n",
        "    match datetime.datetime.now().hour:\n",
        "        case 7 | 12 | 17:\n",
        "            return \"食事\"\n",
        "        case _:\n",
        "            return \"睡眠\"\n",
        "\n",
        "def test_todo():\n",
        "    fake_now = datetime.datetime(2023, 10, 31, 12)\n",
        "    datetime.datetime = MagicMock(wraps=datetime.datetime)\n",
        "    datetime.datetime.now.return_value = fake_now\n",
        "    print(todo())\n",
        "\n",
        "if __name__ == \"__main__\":\n",
        "    test_todo()"
      ],
      "metadata": {
        "colab": {
          "base_uri": "https://localhost:8080/"
        },
        "id": "4hiH1-hRWByv",
        "outputId": "4cbc38ef-ea88-45ba-af97-7569d4515326"
      },
      "execution_count": null,
      "outputs": [
        {
          "output_type": "stream",
          "name": "stdout",
          "text": [
            "食事\n"
          ]
        }
      ]
    },
    {
      "cell_type": "markdown",
      "source": [
        "このコードでは、あらかじめ本物の `datetime.datetime` オブジェクトを保存しておき、次に `datetime.datetime` というモジュールの属性参照そのものをモックオブジェクトに置き換えている。`datetime.datetime` はモックオブジェクトを参照するから、それに新たな `now()` メソッドを追加できる。このとき、`datetime.datetime.now` に対応するモックオブジェクトが生成されるから、その `return_value` 属性に、保存しておいた本物の `datetime.datetime` オブジェクトを設定する。こうして、`datetime.datetime.now` に対応するモックオブジェクトを呼び出すと、固定された `datetime.datetime` オブジェクトを返すことになる。"
      ],
      "metadata": {
        "id": "-jco5MWANBOf"
      }
    },
    {
      "cell_type": "markdown",
      "source": [
        "### スパイ的用法 ###"
      ],
      "metadata": {
        "id": "B2w_2SFTbgsA"
      }
    },
    {
      "cell_type": "markdown",
      "source": [
        "モックオブジェクトは、自身の呼び出しに関する情報を記録する属性を備えている。\n",
        "\n",
        "| 属性 | 意味 |\n",
        "|:---|:---|\n",
        "| `called` | このモックが呼び出されたなら `True`、そうでないなら `False` |\n",
        "| `call_count` | モックが呼び出された回数 |\n",
        "| `call_args` | モックが呼び出されたときの引数を表すオブジェクト（`unittest.mock.call` オブジェクト）が格納される。その `args` 属性でタプルとして位置引数を参照でき、`kwargs` 属性<br />で辞書としてキーワード引数を参照できる |\n",
        "| `call_args_list` | モック呼び出しのたびに `call_args` に格納されたオブジェクトのリスト。サイズが `call_count` に一致する |\n",
        "\n",
        "モックオブジェクトは、自身が呼び出されたかどうかを検証するメソッドも備えている。これらのメソッドは、いずれも検証結果が「そうではない」場合に `AssertionError` 例外を送出する。\n",
        "\n",
        "| メソッド | 機能 | 戻り値 |\n",
        "|:---|:---|:---|\n",
        "| `assert_called()` | モックが少なくとも 1 回は呼び出されたことを検証する | `None` |\n",
        "| `assert_called_once()` | モックが 1 回だけ呼び出されたことを検証する | `None` |\n",
        "| `assert_called_with(*args, **kwargs)` | モックが最後に指定された引数で呼び出されたことを検証する | `None` |\n",
        "| `assert_called_once_with(*args, **kwargs)` | モックが指定された引数で 1 回だけ呼び出されたことを検証する | `None` |\n",
        "| `assert_any_call(*args, **kwargs)` | モックが指定された引数で呼び出されたことがあることを検証する | `None` |\n",
        "| `assert_has_calls(calls, any_order=False)` | モックが特定の呼び出しで呼ばれたことを検証する。`calls=[unittest.mock.call(1, 2), unittest.mock.call(a=3)]` のように呼び出<br />し方法を指定する。`any_order` が `False`（デフォルト）の場合、呼び出し順序も一致しなければならない | `None` |\n",
        "| `assert_not_called()` | モックが一度も呼ばれなかったことを検証する | `None` |\n",
        "| `reset_mock(*, return_value=False,`<br />` side_effect=False)` | モックオブジェクトのすべての呼び出し情報をリセットする。`return_value` 属性や `side_effect` 属性を初期値にするには、対応する<br />パラメーターを `True` として渡す | `None` |\n",
        "\n",
        "次のコードは、外部 API を呼び出す `Api.call_api` をモックに置き換えてテストしている:"
      ],
      "metadata": {
        "id": "9Qbrx-0cbhyr"
      }
    },
    {
      "cell_type": "code",
      "source": [
        "from urllib import request\n",
        "from unittest.mock import call, MagicMock\n",
        "\n",
        "\n",
        "class Api:\n",
        "    @staticmethod\n",
        "    def call_api(url):\n",
        "        req = request.Request(url)\n",
        "        return request.urlopen(req)\n",
        "\n",
        "\n",
        "def main(url):\n",
        "    response = Api.call_api(url)\n",
        "    return response.read().decode(\"utf-8\")\n",
        "\n",
        "\n",
        "def test_mock_called():\n",
        "    mock = MagicMock()\n",
        "\n",
        "    Api.call_api = mock\n",
        "    url = \"https://example.com\"\n",
        "    result = main(url)\n",
        "    print(f\"{result=}\")\n",
        "\n",
        "    assert mock.called\n",
        "    assert mock.call_count == 1\n",
        "    assert mock.call_args.args == (\"https://example.com\",)\n",
        "    mock.assert_called()  # Api.call_apiが一度は呼ばれたからok\n",
        "    mock.assert_called_once()  # Api.call_apiが一度だけ呼ばれたからok\n",
        "    mock.assert_called_with(\"https://example.com\")  # 直前にApi.call_apiがこの引数で呼ばれたからok\n",
        "    mock.assert_called_once_with(\"https://example.com\")  # Api.call_apiがこの引数で一度だけ呼ばれたからok\n",
        "    mock.assert_any_call(\"https://example.com\")  # Api.call_apiがこの引数で呼ばれたことがあるからok\n",
        "    mock.assert_has_calls([call(\"https://example.com\")])  # 呼び出しを厳密にチェック\n",
        "\n",
        "    # 履歴をリセットする\n",
        "    mock.reset_mock()\n",
        "    assert not mock.called\n",
        "\n",
        "\n",
        "if __name__ == \"__main__\":\n",
        "    test_mock_called()"
      ],
      "metadata": {
        "colab": {
          "base_uri": "https://localhost:8080/"
        },
        "id": "gO1PJ_L-tH2q",
        "outputId": "a7585714-ec28-4090-f8ec-cb3f204cc38c"
      },
      "execution_count": null,
      "outputs": [
        {
          "output_type": "stream",
          "name": "stdout",
          "text": [
            "result=<MagicMock name='mock().read().decode()' id='133542686331648'>\n"
          ]
        }
      ]
    },
    {
      "cell_type": "markdown",
      "source": [
        "### patch デコレーター ###"
      ],
      "metadata": {
        "id": "4lKL51U2N0cV"
      }
    },
    {
      "cell_type": "markdown",
      "source": [
        "モックオブジェクトによる置き換えは、`unittest.mock.patch()` 関数によっても実現できる。`unittest.mock.patch()` は関数デコレーター、クラスデコレーター、コンテキストマネージャーとして利用できる。\n",
        "\n",
        "``` python\n",
        "unittest.mock.patch(target, new=DEFAULT, spec=None, create=False, spec_set=None, autospec=None, new_callable=None, **kwargs)\n",
        "```\n",
        "\n",
        "| 引数 | 意味 |\n",
        "|:---|:---|\n",
        "| `target` | モックオブジェクトに置き換える対象を指定する。import 文における `'package.module.ClassName'` 形式の文字列でなければならない |\n",
        "| `new` | `target` と置き換えるオブジェクトを指定する |\n",
        "| `spec` | モックオブジェクトのコンストラクタにおける同名の引数と同じ役割 |\n",
        "| `create` | `True` の場合、`target` が存在しないなら新たにオブジェクトを作成する。`False`（デフォルト）の場合、エラーが発生 |\n",
        "| `spec_set` | モックオブジェクトのコンストラクタにおける同名の引数と同じ役割 |\n",
        "| `autospec` | `True` の場合、`target` にすでに定義されている属性が `spec` に渡される。`autospec` に任意のオブジェクトを指定すると、そのオブジェクトに定義された属性が `spec` に渡される |\n",
        "| `new_callable` | 呼び出し可能オブジェクトを指定すると、このオブジェクトの実行結果を `target` と置き換える |\n",
        "| `kwargs` | 指定された場合、モックオブジェクトに属性として追加される |\n",
        "\n",
        "`unittest.mock.patch()` をコンテキストマネージャーとして使う場合、`as 変数` にモックオブジェクトが格納される。モックオブジェクトへの置き換えは with 文のブロックの中でのみ有効で、with 文を抜けると無効になる。"
      ],
      "metadata": {
        "id": "tab8S0NbLMWH"
      }
    },
    {
      "cell_type": "code",
      "source": [
        "if \"random\" in locals():\n",
        "    import importlib\n",
        "    importlib.reload(random)\n",
        "\n",
        "import random\n",
        "from unittest import mock\n",
        "\n",
        "def sukikirai():\n",
        "    if random.choice([True, False]):\n",
        "        print(\"すき\")\n",
        "    else:\n",
        "        print(\"きらい\")\n",
        "\n",
        "def test_sukikirai():\n",
        "    with mock.patch(\"random.choice\") as mock_choice:\n",
        "        mock_choice.return_value = True\n",
        "        sukikirai()  # 常に \"すき\" を出力する\n",
        "    sukikirai()  # with 文のブロックを抜けるとモックが無効になる\n",
        "\n",
        "if __name__ == \"__main__\":\n",
        "    test_sukikirai()"
      ],
      "metadata": {
        "colab": {
          "base_uri": "https://localhost:8080/"
        },
        "id": "DZ0nfReHUu3B",
        "outputId": "a6fc9234-7a36-44d6-a255-db90802a1649"
      },
      "execution_count": null,
      "outputs": [
        {
          "output_type": "stream",
          "name": "stdout",
          "text": [
            "すき\n",
            "きらい\n"
          ]
        }
      ]
    },
    {
      "cell_type": "markdown",
      "source": [
        "`unittest.mock.patch()` を関数デコレーターとして使う場合、デコレートされる関数は、モックオブジェクトが渡されるための引数を定義しなければならない。"
      ],
      "metadata": {
        "id": "n7LtC8SlW2wj"
      }
    },
    {
      "cell_type": "code",
      "source": [
        "if \"random\" in locals():\n",
        "    import importlib\n",
        "    importlib.reload(random)\n",
        "\n",
        "import random\n",
        "from unittest import mock\n",
        "\n",
        "def sukikirai():\n",
        "    if random.choice([True, False]):\n",
        "        print(\"すき\")\n",
        "    else:\n",
        "        print(\"きらい\")\n",
        "\n",
        "@mock.patch(\"random.choice\")\n",
        "def test_sukikirai(mock_choice):\n",
        "    mock_choice.return_value = True\n",
        "    sukikirai()  # 常に \"すき\" を出力する\n",
        "\n",
        "if __name__ == \"__main__\":\n",
        "    test_sukikirai()"
      ],
      "metadata": {
        "colab": {
          "base_uri": "https://localhost:8080/"
        },
        "id": "qBww7JxkMp-Y",
        "outputId": "bf073e50-5e89-407f-9c4f-624bc5c9a204"
      },
      "execution_count": null,
      "outputs": [
        {
          "output_type": "stream",
          "name": "stdout",
          "text": [
            "すき\n"
          ]
        }
      ]
    },
    {
      "cell_type": "markdown",
      "source": [
        "デコレーターをネストした場合、モックオブジェクトはデコレータ－が適用されるときと同じ順番でデコレートされた関数に渡される。デコレータ－は関数に近い順、つまり下から適用されるため、デコレーターの上からの並び順と、対応する引数の左からの順番が逆になることに注意する。\n",
        "\n",
        "``` python\n",
        "from unittest import mock\n",
        "@mock.patch('module.ClassName2')\n",
        "@mock.patch('module.ClassName1')\n",
        "def test(MockClass1, MockClass2):\n",
        "    ...\n",
        "```\n",
        "\n",
        "`unittest.mock.patch()` をクラスデコレーターとして使う場合、定数 `patch.TEST_PREFIX` の値（デフォルトで `'test'`）から始める名前のメソッドにのみモックオブジェクトが渡されることになる。該当するメソッドでは、モックオブジェクトが渡されるための引数を定義しなければならない。"
      ],
      "metadata": {
        "id": "-w1NzhCEZnZc"
      }
    },
    {
      "cell_type": "code",
      "source": [
        "if \"random\" in locals():\n",
        "    import importlib\n",
        "    importlib.reload(random)\n",
        "\n",
        "import random\n",
        "from unittest import mock\n",
        "\n",
        "def sukikirai():\n",
        "    if random.choice([True, False]):\n",
        "        print(\"すき\")\n",
        "    else:\n",
        "        print(\"きらい\")\n",
        "\n",
        "@mock.patch(\"random.choice\")\n",
        "class SukikiraiTest:\n",
        "    def test_sukikirai(self, mock_choice):\n",
        "        mock_choice.return_value = True\n",
        "        sukikirai()  # 常に \"すき\" を出力する\n",
        "\n",
        "    # test から始まらない関数にはモックオブジェクトが渡されない（対応する引数は不要）\n",
        "    def notmock(self):\n",
        "        sukikirai()\n",
        "\n",
        "if __name__ == \"__main__\":\n",
        "    t = SukikiraiTest()\n",
        "    t.test_sukikirai()\n",
        "    t.notmock()"
      ],
      "metadata": {
        "colab": {
          "base_uri": "https://localhost:8080/"
        },
        "id": "ovfMh47PaFAo",
        "outputId": "7bbd4b4b-293c-4bda-c8f0-bdaeaf013b58"
      },
      "execution_count": null,
      "outputs": [
        {
          "output_type": "stream",
          "name": "stdout",
          "text": [
            "すき\n",
            "きらい\n"
          ]
        }
      ]
    },
    {
      "cell_type": "markdown",
      "source": [
        "### コルーチン関数のモック ###"
      ],
      "metadata": {
        "id": "3771lB4BonN4"
      }
    },
    {
      "cell_type": "markdown",
      "source": [
        "`unittest.mock.AsyncMock` は `unittest.mock.MagicMock` の非同期バージョンである。コンストラクタ引数は `unittest.mock.MagicMock()` と同様である。 `unittest.mock.AsyncMock` オブジェクトは、オブジェクトがコルーチン関数として認識されるように動作し、呼び出しの結果は awaitable になる。"
      ],
      "metadata": {
        "id": "khnv8LXEon5z"
      }
    },
    {
      "cell_type": "code",
      "source": [
        "import unittest\n",
        "from unittest.mock import AsyncMock\n",
        "\n",
        "# Colab 上で実行するのでなけれは以下の2行をコメントアウトする\n",
        "import nest_asyncio\n",
        "nest_asyncio.apply()\n",
        "\n",
        "\n",
        "class TestMockingDemo(unittest.IsolatedAsyncioTestCase):\n",
        "    async def test_mocking_demo(self):\n",
        "        my_mock = AsyncMock()\n",
        "        my_mock.return_value = 3\n",
        "        r = my_mock()\n",
        "\n",
        "        print(f\"{type(r)=}\")\n",
        "\n",
        "        awaited_result = await r\n",
        "        print(f\"{awaited_result=}\")\n",
        "        self.assertEqual(3, await my_mock())\n",
        "\n",
        "\n",
        "if __name__ == \"__main__\":\n",
        "    unittest.TextTestRunner().run(TestMockingDemo(\"test_mocking_demo\"))"
      ],
      "metadata": {
        "colab": {
          "base_uri": "https://localhost:8080/"
        },
        "id": "Lqon-sxiq9de",
        "outputId": "c5d28f4a-3152-45de-c648-957ace90dcf6"
      },
      "execution_count": null,
      "outputs": [
        {
          "output_type": "stream",
          "name": "stderr",
          "text": [
            ".\n",
            "----------------------------------------------------------------------\n",
            "Ran 1 test in 0.020s\n",
            "\n",
            "OK\n"
          ]
        },
        {
          "output_type": "stream",
          "name": "stdout",
          "text": [
            "type(r)=<class 'coroutine'>\n",
            "awaited_result=3\n"
          ]
        }
      ]
    },
    {
      "cell_type": "markdown",
      "source": [
        "`unittest.mock.AsyncMock` は、スパイ的用法に使用される属性やメソッドもサポートする。\n",
        "\n",
        "| 属性 | 意味 |\n",
        "|:---|:---|\n",
        "| `called` | このモックが呼び出された（つまりコルーチンオブジェクトの代用となるモックが生成された）なら `True`、そうでないなら `False` |\n",
        "| `await_count` | モックを伴う await 式が評価された回数 |\n",
        "| `await_args` | モックを伴う await 式が評価されたときの引数を表すオブジェクト（`unittest.mock.call` オブジェクト）が格納される |\n",
        "| `await_args_list` | モックを伴う await 式が評価されるたびに `await_args` に格納されたオブジェクトのリスト。サイズが `await_count` に一致する |\n",
        "\n",
        "| メソッド | 機能 | 戻り値 |\n",
        "|:---|:---|:---|\n",
        "| `assert_awaited()` | モックを伴う await 式が少なくとも 1 回は評価されたことを検証する | `None` |\n",
        "| `assert_awaited_once()` | モックを伴う await 式が 1 回だけ評価されたことを検証する | `None` |\n",
        "| `assert_awaited_with(*args, **kwargs)` | モックが最後に指定された引数で await 式で評価されたことを検証する | `None` |\n",
        "| `assert_awaited_once_with(*args, **kwargs)` | モックが指定された引数でかつ 1 回だけ await 式で評価されたことを検証する | `None` |\n",
        "| `assert_any_await(*args, **kwargs)` | モックが指定された引数で await 式で評価されたことがあることを検証する | `None` |\n",
        "| `assert_has_awaits(calls, any_order=False)` | モックが特定の呼び出しで await 式で評価されたことを検証する。その他は `assert_has_calls()` と同様 | `None` |\n",
        "| `assert_not_awaited()` | モックを伴う await 式が一度も評価されなかったことを検証する | `None` |\n",
        "| `reset_mock(*args, **kwargs)` | モックオブジェクトのすべての呼び出し情報をリセットする。`return_value` 属性や `side_effect` 属性を初期値にするには、対応する<br />パラメーターを `True` として渡す | `None` |"
      ],
      "metadata": {
        "id": "sm_O1ivU1dk3"
      }
    },
    {
      "cell_type": "code",
      "source": [
        "import asyncio\n",
        "from unittest.mock import call, AsyncMock\n",
        "\n",
        "# Colab 上で実行するのでなけれは以下の2行をコメントアウトする\n",
        "import nest_asyncio\n",
        "nest_asyncio.apply()\n",
        "\n",
        "mock = AsyncMock()\n",
        "\n",
        "async def main(*args, **kwargs):\n",
        "    await mock(*args, **kwargs)\n",
        "\n",
        "def test():\n",
        "    print(f\"{mock.called=}\")\n",
        "    mock.assert_not_awaited()\n",
        "\n",
        "    asyncio.run(main(\"foo\", bar=\"bar\"))\n",
        "    print(f\"{mock.called=}\")\n",
        "    assert mock.await_count == 1\n",
        "    print(f\"{mock.call_args=}\")\n",
        "    print(f\"{mock.await_args_list=}\")\n",
        "    mock.assert_awaited_once()\n",
        "    mock.assert_awaited_once_with(\"foo\", bar=\"bar\")\n",
        "\n",
        "    asyncio.run(main(\"hoge\"))\n",
        "    assert mock.await_count == 2\n",
        "    print(f\"{mock.call_args=}\")\n",
        "    print(f\"{mock.await_args_list=}\")\n",
        "    mock.assert_awaited()\n",
        "    mock.assert_awaited_with(\"hoge\")\n",
        "    mock.assert_any_await(\"foo\", bar=\"bar\")\n",
        "    calls = [call('foo', bar='bar'), call('hoge')]\n",
        "    mock.assert_has_awaits(calls)\n",
        "    mock.reset_mock()\n",
        "    mock.assert_not_awaited()\n",
        "\n",
        "if __name__ == \"__main__\":\n",
        "    test()"
      ],
      "metadata": {
        "colab": {
          "base_uri": "https://localhost:8080/"
        },
        "id": "GQQfc8IYAVcK",
        "outputId": "609729ed-2bce-49fe-e21f-cb94d78a5729"
      },
      "execution_count": null,
      "outputs": [
        {
          "output_type": "stream",
          "name": "stdout",
          "text": [
            "mock.called=False\n",
            "mock.called=True\n",
            "mock.call_args=call('foo', bar='bar')\n",
            "mock.await_args_list=[call('foo', bar='bar')]\n",
            "mock.call_args=call('hoge')\n",
            "mock.await_args_list=[call('foo', bar='bar'), call('hoge')]\n"
          ]
        }
      ]
    },
    {
      "cell_type": "markdown",
      "source": [
        "pytest\n",
        "------"
      ],
      "metadata": {
        "id": "0alwQjsUKdoX"
      }
    },
    {
      "cell_type": "markdown",
      "source": [
        "[pytest](http://pytest.readthedocs.io/) は、assert 文を使ってシンプルにテストが書け、高度な単体テスト機能も提供するサードパーティ製テストフレームワークである。ライセンスは MIT License。Python 環境に `pytest` をインストールするには、次のように `pip` コマンドを使う:\n",
        "\n",
        "``` text\n",
        "pip install pytest\n",
        "```\n",
        "\n",
        "インストールに成功すれば、次のようにして `pytest` のバージョンを確認できる。\n",
        "\n",
        "``` text\n",
        "$ pytest --version\n",
        "pytest 8.2.1\n",
        "```\n",
        "\n",
        "Windows 環境で PATH 設定をしていない場合（仮想環境を除く）、`pytest` を実行するには、ランチャーを使用して `py -m pytest` を実行する。\n",
        "\n",
        "``` text\n",
        "PS> py -m pytest --version\n",
        "pytest 8.2.1\n",
        "```"
      ],
      "metadata": {
        "id": "09vyqS-wKej4"
      }
    },
    {
      "cell_type": "markdown",
      "source": [
        "### テストの実行 ###"
      ],
      "metadata": {
        "id": "FXZg44vsKhtz"
      }
    },
    {
      "cell_type": "markdown",
      "source": [
        "``` text\n",
        "pytest [options] [file_or_dir] [file_or_dir] [...]\n",
        "```\n",
        "\n",
        "`pytest` は、ファイルが指定されない場合、以下のとおりのテストディスカバリを実装している:\n",
        "\n",
        "  * 指定されたディレクトリ、省略されていればカレントディレクトリからテストディスカバリが開始される。\n",
        "  * テストディスカバリは、サブディレクトリに対して再帰的に行われる。\n",
        "  * これらのディレクトリで、`test_*.py` または `*_test.py` パターンに一致するファイルを検索する。\n",
        "  * これらのファイルから、次のテスト実行対象を収集する:\n",
        "      * クラス外の `test*()` 関数。\n",
        "      * `Test*` クラス内の `test*()` メソッド。ただし、`Test*` クラスは `__init__()` メソッドを持たないものに限る。`test*()` メソッドはクラスメソッドやスタティックメソッドであってもよい。\n",
        "\n",
        "テストの書き方は非常にシンプルで、単に assert 文で期待する値と実際の値を比較すればよい。\n",
        "\n",
        "テストスクリプト:\n",
        "\n",
        "``` python\n",
        "# content of test_sample.py\n",
        "def func(x):\n",
        "    return x + 1\n",
        "\n",
        "\n",
        "def test_answer():\n",
        "    assert func(3) == 5\n",
        "```\n",
        "\n",
        "テストの実行結果:\n",
        "\n",
        "``` text\n",
        "$ pytest\n",
        "=========================== test session starts ============================\n",
        "platform linux -- Python 3.x.y, pytest-8.x.y, pluggy-1.x.y\n",
        "rootdir: /home/sweet/project\n",
        "collected 1 item\n",
        "\n",
        "test_sample.py F                                                     [100%]\n",
        "\n",
        "================================= FAILURES =================================\n",
        "_______________________________ test_answer ________________________________\n",
        "\n",
        "    def test_answer():\n",
        ">       assert func(3) == 5\n",
        "E       assert 4 == 5\n",
        "E        +  where 4 = func(3)\n",
        "\n",
        "test_sample.py:6: AssertionError\n",
        "========================= short test summary info ==========================\n",
        "FAILED test_sample.py::test_answer - assert 4 == 5\n",
        "============================ 1 failed in 0.12s =============================\n",
        "```\n",
        "\n",
        "`[100%]` は、全てのテストケースの実行の全体的な進行状況を示す。テストが完了すると、`func(3)` が `5` を返さないため、`pytest` は失敗レポートを表示する。\n",
        "\n",
        "テスト実行対象となる条件を満たしている限り、`unittest.TestCase` のサブクラス化で作成されたテストも実行される。\n",
        "\n",
        "さらに、`test*.txt` に対しては `doctest.testfile()` を介してテストが実行される。また、`pytest` を `--doctest-modules` オプション付きで実行する場合には、Python モジュールに対して `doctest.testmod()` を介してテストが実行される。\n",
        "\n",
        "`pytest` を `-q` または `--quiet` オプション付きで実行する場合、出力を簡潔にする。上記のソースコードの場合、次のような出力になる。\n",
        "\n",
        "``` text\n",
        "$ pytest -q\n",
        "F                                                                                            [100%]\n",
        "============================================ FAILURES =============================================\n",
        "___________________________________________ test_answer ___________________________________________\n",
        "\n",
        "    def test_answer():\n",
        ">       assert func(3) == 5\n",
        "E       assert 4 == 5\n",
        "E        +  where 4 = func(3)\n",
        "\n",
        "test_sample.py:7: AssertionError\n",
        "===================================== short test summary info =====================================\n",
        "FAILED test_sample.py::test_answer - assert 4 == 5\n",
        "1 failed in 0.12s\n",
        "```\n",
        "\n",
        "逆に、`pytest` を `-v` オプション付きで実行する場合、出力が簡略な記号などを使用せず、省略のない形式になる。\n",
        "\n",
        "デフォルトでは、 `pytest` は、標準出力の内容を検証できるようにするために標準出力をキャプチャしている。このため `print()` やログは標準出力に表示されないが、 `pytest` を `-s` または `--capture=no` オプション付きで実行すると、キャプチャ機能を無効にして標準出力に表示されるようにする。\n",
        "\n",
        "CI/CD ツールと連携させるために、JUnit で採用されている XML 形式ファイルを出力することができる:\n",
        "\n",
        "``` text\n",
        "$ pytest --junit-xml=<path>\n",
        "```\n",
        "\n",
        "`pytest` の終了コードは次のとおり。\n",
        "\n",
        "| コード | 意味 |\n",
        "|:--:|:---|\n",
        "| 0 | 全てのテストが収集され、正常にパスした |\n",
        "| 1 | テストが収集され実行されたが、一部のテストが失敗した |\n",
        "| 2 | テストの実行がユーザーによって中断された |\n",
        "| 3 | テストの実行中に内部エラーが発生した |\n",
        "| 4 | `pytest` コマンドラインの使用に関するエラー |\n",
        "| 5 | テストが収集されなかった |"
      ],
      "metadata": {
        "id": "hcvJraS7Kj2g"
      }
    },
    {
      "cell_type": "markdown",
      "source": [
        "### 例外のテスト ###"
      ],
      "metadata": {
        "id": "pv_N0kuLQpra"
      }
    },
    {
      "cell_type": "markdown",
      "source": [
        "ある `<処理>` で `<例外>` が発生したかどうかを検証するには、コンテキストマネージャーである `pytest.raises` を使用して次のように書く:\n",
        "\n",
        "``` python\n",
        "with pytest.raises(<例外>):\n",
        "    <処理>\n",
        "```\n",
        "\n",
        "使用例は、次のとおり。\n",
        "\n",
        "``` python\n",
        "# content of test_sample.py\n",
        "import pytest\n",
        "\n",
        "\n",
        "def func(x, y):\n",
        "    return x / y\n",
        "\n",
        "\n",
        "def test_func():\n",
        "    with pytest.raises(ZeroDivisionError):\n",
        "        func(1, 0)\n",
        "```\n",
        "\n",
        "``` text\n",
        "$ pytest -q\n",
        ".                                                                                            [100%]\n",
        "1 passed in 0.73s\n",
        "```"
      ],
      "metadata": {
        "id": "36FDy0OdQqlj"
      }
    },
    {
      "cell_type": "markdown",
      "source": [
        "### mark ###"
      ],
      "metadata": {
        "id": "w6iKWIF1eqo2"
      }
    },
    {
      "cell_type": "markdown",
      "source": [
        "`pytest.mark.*` は、デコレーターとしてテストにメタデータを付与するために使われる。\n",
        "\n",
        "``` python\n",
        "pytest.mark.skip(reason=None)\n",
        "pytest.mark.skipif(condition, *, reason=None)\n",
        "```\n",
        "\n",
        "デコレートしたテストをスキップする。`skip` では無条件にスキップするのに対して、`skipif` では `condition` が真の場合にだけスキップする。`reason` オプションにテストがスキップされる理由を文字列として指定できる。\n",
        "\n",
        "``` python\n",
        "@pytest.mark.skip(reason=\"no way of currently testing this\")\n",
        "def test_the_unknown(): ...\n",
        "\n",
        "@pytest.mark.skipif(sys.version_info < (3, 10), reason=\"requires python3.10 or higher\")\n",
        "def test_function(): ...\n",
        "\n",
        "@pytest.mark.skipif(sys.platform == \"win32\", reason=\"does not run on windows\")\n",
        "class TestPosixCalls:\n",
        "    def test_function(self):\n",
        "        \"will not be setup or run under 'win32' platform\"\n",
        "```\n",
        "\n",
        "``` python\n",
        "pytest.mark.xfail(condition=False, *, reason=None, raises=None, run=True, strict=xfail_strict)\n",
        "```\n",
        "\n",
        "デコレートしたテストを xfail（失敗が予想されるもの）としてマークする。xfail なテストは、成功した場合にエラーとなる。主な引数は次のとおり。\n",
        "\n",
        "| 引数 | 意味 |\n",
        "|:---|:---|\n",
        "| `condition` | テストが特定の条件下でのみ失敗することが予想される場合は、その条件を `condition` に指定できる。この場合、`reason` も指定する必要がある |\n",
        "| `reason` | xfail とマークした理由を文字列として指定する |\n",
        "| `raises` | テストによって発生すると予想される例外クラス（またはクラスのタプル）を指定できる。`raises` を指定した場合、他の例外ではテストに失敗する。渡されたクラスのサブクラスも<br />一致することに注意（except 節の動作と同様） |\n",
        "\n",
        "``` python\n",
        "@pytest.mark.xfail\n",
        "def test_function(): ...\n",
        "\n",
        "@pytest.mark.xfail(sys.platform == \"win32\", reason=\"bug in a 3rd party library\")\n",
        "def test_function(): ...\n",
        "```\n",
        "\n",
        "``` python\n",
        "pytest.mark.parametrize(argnames, argvalues)\n",
        "```\n",
        "\n",
        "デコレートしたテストをパラメタライズドテストとしてマークする。パラメタライズドテストは、テスト関数に対する 1 つのテストで、その引数に複数の値を渡して検証を行うものである。主な引数は次のとおり。\n",
        "\n",
        "| 引数 | 意味 |\n",
        "|:---|:---|\n",
        "| `argnames` | テスト関数の引数の名前をカンマで区切って記述した文字列。または、引数の名前からなるシーケンス |\n",
        "| `argvalues` | テスト関数の引数に渡す値からなるタプルのシーケンス |\n",
        "\n",
        "``` python\n",
        "@pytest.mark.parametrize(\n",
        "    \"x,y,sum\",\n",
        "    [\n",
        "        (1, 2, 3),\n",
        "        (1, -1, 1),\n",
        "        (-1, -2, -3),\n",
        "        (0, 0, 1),\n",
        "    ],\n",
        ")\n",
        "def test_add(x, y, sum):\n",
        "    assert (x + y) == sum\n",
        "```\n",
        "\n",
        "パラメタライズドテストは、`argvalues` の中にエラーとなる値の組があっても、すべての値の組のテストを実行するまでテストが続行される。上記のソースコードのテスト結果は、次のような出力となる。\n",
        "\n",
        "``` text\n",
        "$ pytest -q\n",
        ".F.F                                                                                         [100%]\n",
        "============================================ FAILURES =============================================\n",
        "________________________________________ test_add[1--1-1] _________________________________________\n",
        "\n",
        "x = 1, y = -1, sum = 1\n",
        "\n",
        "    @pytest.mark.parametrize(\n",
        "        \"x,y,sum\",\n",
        "        [\n",
        "            (1, 2, 3),\n",
        "            (1, -1, 1),\n",
        "            (-1, -2, -3),\n",
        "            (0, 0, 1),\n",
        "        ],\n",
        "    )\n",
        "    def test_add(x, y, sum):\n",
        ">       assert (x + y) == sum\n",
        "E       assert (1 + -1) == 1\n",
        "\n",
        "test_sample.py:14: AssertionError\n",
        "_________________________________________ test_add[0-0-1] _________________________________________\n",
        "\n",
        "x = 0, y = 0, sum = 1\n",
        "\n",
        "    @pytest.mark.parametrize(\n",
        "        \"x,y,sum\",\n",
        "        [\n",
        "            (1, 2, 3),\n",
        "            (1, -1, 1),\n",
        "            (-1, -2, -3),\n",
        "            (0, 0, 1),\n",
        "        ],\n",
        "    )\n",
        "    def test_add(x, y, sum):\n",
        ">       assert (x + y) == sum\n",
        "E       assert (0 + 0) == 1\n",
        "\n",
        "test_sample.py:14: AssertionError\n",
        "===================================== short test summary info =====================================\n",
        "FAILED test_sample.py::test_add[1--1-1] - assert (1 + -1) == 1\n",
        "FAILED test_sample.py::test_add[0-0-1] - assert (0 + 0) == 1\n",
        "2 failed, 2 passed in 0.72s\n",
        "```"
      ],
      "metadata": {
        "id": "2Rng4w8jern6"
      }
    },
    {
      "cell_type": "markdown",
      "source": [
        "### fixture ###"
      ],
      "metadata": {
        "id": "d0otwBRDjhIV"
      }
    },
    {
      "cell_type": "markdown",
      "source": [
        "`pytest.fixture` もデコレーターであり、デコレートした関数をテストフィクスチャとするために使われる。テスト関数の定義において、デコレートした関数と同じ名前の仮引数が使用されることで、そのテスト関数にテストフィクスチャが提供される。デコレートした関数の仮引数も同様の扱いとなるので、関数を鎖状に連携させる形でテストフィクスチャが提供されるようにすることができる。\n",
        "\n",
        "`pytest.fixture` は、普通の関数をデコレートする場合、`setUp()` 相当の機能を提供する。テスト関数の引数リストが同名のテストフィクスチャにより評価される。その評価結果はテスト関数内で参照できる。\n",
        "\n",
        "次のコードは、`pytest.fixture` の使用例である。\n",
        "\n",
        "``` python\n",
        "import pytest\n",
        "\n",
        "\n",
        "@pytest.fixture\n",
        "def order():\n",
        "    return []\n",
        "\n",
        "\n",
        "@pytest.fixture\n",
        "def outer(order, inner):\n",
        "    order.append(\"outer\")\n",
        "\n",
        "\n",
        "class TestOne:\n",
        "    @pytest.fixture\n",
        "    def inner(self, order):\n",
        "        order.append(\"one\")\n",
        "\n",
        "    def test_order(self, order, outer):\n",
        "        assert order == [\"one\", \"outer\"]\n",
        "\n",
        "\n",
        "class TestTwo:\n",
        "    @pytest.fixture\n",
        "    def inner(self, order):\n",
        "        order.append(\"two\")\n",
        "\n",
        "    def test_order(self, order, outer):\n",
        "        assert order == [\"two\", \"outer\"]\n",
        "```\n",
        "\n",
        "テスト関数 `TestOne.test_order()` の `order` 引数と `outer` 引数は、同名のテストフィクスチャが存在するため、その戻り値で評価される。左から順に評価されるので、まず `order` が空リスト `[]` で初期化され、次に `outer` の評価の際にテストフィクスチャ `outer()` が`order` を受け取り実行される。`outer()` では、テストフィクスチャのチェーンにより `TestOne.inner()` が実行されて `outer` に文字列 `'one'` が追加される。`inner` の名前探索でクラスのメソッドも対象となることに注意する。`outer()` の中ではさらに `outer` に文字列 `'outer'` が追加される。以上が事前に実行されたのち、`TestOne.test_order()` の中で変数 `order` の値が assert され、テストは成功する（`outer` の値は `None` となるが、テストの中では使われない）。\n",
        "\n",
        "テスト関数 `TestTwo.test_order()` も同様であるが、`inner` の名前探索で `TestTwo.inner()` が使われる点が異なる。このため、事前に `order` には文字列 `'two'` と `'outer'` が順に追加されているので、テストは成功する。\n",
        "\n",
        "`pytest.fixture` がジェネレーター関数をデコレートする場合、テストフィクスチャは yield で値を返して実行が中断し、テスト関数の終了後に実行が再開される。つまり、yield 以降が `tearDown()` 相当となる。\n",
        "\n",
        "``` python\n",
        "def create_user():\n",
        "    # データベースにユーザーを作成して返す処理\n",
        "\n",
        "def delete_user(user):\n",
        "    # データベース上のユーザーを削除する処理\n",
        "\n",
        "@pytest.fixture\n",
        "def user():\n",
        "    user = create_user()\n",
        "    yield user  # テスト関数に値を渡す\n",
        "    delete_user(user)\n",
        "\n",
        "def test_example(user):\n",
        "    # テスト内容は省略。テスト関数の終了後に user は削除される\n",
        "```\n",
        "\n",
        "なお、yield は 1 回しか使えないことに注意する。"
      ],
      "metadata": {
        "id": "iLh3rBdbjhzW"
      }
    },
    {
      "cell_type": "markdown",
      "source": [
        "### 共有テストフィクスチャ ###"
      ],
      "metadata": {
        "id": "ZvHalSfuK7K4"
      }
    },
    {
      "cell_type": "markdown",
      "source": [
        "`conftest.py` に書いたテストフィクスチャは、同じディレクトリおよびサブディレクトリ以下にあるテストモジュール全てに共有される。`pytest` が自動的に検出するので、`conftest` のインポートは不要である。\n",
        "\n",
        "テストフィクスチャの共有は、ディレクトリ構造によってネストされる:\n",
        "\n",
        "``` text\n",
        ".  ← カレントディレクトリ（プロジェクトルート）\n",
        "└─ tests\n",
        "     ├─ conftest.py ............... テスト全体で共有される\n",
        "     ├─ test_a\n",
        "     │   ├─ conftest.py .......... test_sample1.py, test_sample2.py に共有される\n",
        "     │   ├─ test_sample1.py\n",
        "     │   └─ test_sample2.py\n",
        "     └─ test_b\n",
        "          ├─ conftest.py .......... test_sample3.py, test_sample4.py に共有される\n",
        "          ├─ test_sample3.py\n",
        "          └─ test_sample4.py\n",
        "```"
      ],
      "metadata": {
        "id": "FGfg6LxUK76K"
      }
    },
    {
      "cell_type": "markdown",
      "source": [
        "### テストフィクスチャの実行タイミング ###"
      ],
      "metadata": {
        "id": "dv2VqbTUeq4b"
      }
    },
    {
      "cell_type": "markdown",
      "source": [
        "デフォルトでは、`pytest.fixture` は、テスト関数単位で呼び出されるテストフィクスチャを作成する。`pytest.fixture` の `scope` 引数を使ってテストフィクスチャの実行タイミングを指定できる。\n",
        "\n",
        "| scope | 意味 |\n",
        "|:---|:---|\n",
        "| `'function'` | テスト関数ごとに 1 回だけ実行（デフォルト） |\n",
        "| `'class'` | 同一クラス内で 1 回だけ実行 |\n",
        "| `'module'` | 同一モジュール（ソースコード）内で 1 回だけ実行 |\n",
        "| `'package'` | 同一パッケージ内で 1 回だけ実行 |\n",
        "| `'session'` | テスト実行時に 1 回だけ |\n",
        "\n",
        "次のコードは、`scope` 引数の使用例である。\n",
        "\n",
        "``` python\n",
        "import pytest\n",
        "\n",
        "@pytest.fixture(scope=\"class\")\n",
        "def work1():\n",
        "    print(\"前処理1\")\n",
        "    yield\n",
        "    print(\"後処理1\")\n",
        "\n",
        "@pytest.fixture\n",
        "def work2():\n",
        "    print(\"前処理2\")\n",
        "    yield\n",
        "    print(\"後処理2\")\n",
        "\n",
        "class TestClass:\n",
        "    def test_example1(self, work1, work2):\n",
        "        print(\"test_example1\")\n",
        "\n",
        "    def test_example2(self, work1, work2):\n",
        "        print(\"test_example2\")\n",
        "```\n",
        "\n",
        "``` text\n",
        "$ pytest -qs test_sample.py\n",
        "前処理1\n",
        "前処理2\n",
        "test_example1\n",
        ".後処理2\n",
        "前処理2\n",
        "test_example2\n",
        ".後処理2\n",
        "後処理1\n",
        "\n",
        "2 passed in 0.69s\n",
        "```\n",
        "\n",
        "`scope` が `'class'` の場合、`setUpClass()` と `tearDownClass()` 相当の処理を行うことがわかる。"
      ],
      "metadata": {
        "id": "Ksh0qqUFerrl"
      }
    },
    {
      "cell_type": "markdown",
      "source": [
        "### 組み込みテストフィクスチャ ###"
      ],
      "metadata": {
        "id": "AVnpa-EqFNvU"
      }
    },
    {
      "cell_type": "markdown",
      "source": [
        "組み込みテストフィクスチャが提供されている。主なものは以下のとおり。\n",
        "\n",
        "| 名前 | 機能 |\n",
        "|:---|:---|\n",
        "| `caplog` | `logging` モジュールを使ったログ出力をキャプチャする |\n",
        "| `capsys` | 標準出力、標準エラー出力へのテキストの出力をキャプチャする |\n",
        "| `recwarn` | `warnings.warn()` を使った警告メッセージをキャプチャする |\n",
        "| `tmp_path` | テスト関数内で一時的に使用するディレクトリを作成する。テスト関数の `tmp_path` 引数には `pathlib.Path` オブジェクトがセットされる |\n",
        "| `monkeypatch` | オブジェクトや環境変数、カレントディレクトリを一時的に変更する |\n",
        "\n",
        "`caplog()` は、 `pytest.LogCaptureFixture` インスタンスを返す。主な属性とメソッドは次のとおり。\n",
        "\n",
        "| 属性 | 意味 |\n",
        "|:---|:---|\n",
        "| `caplog.records` | キャプチャされた `logging.LogRecord` インスタンス |\n",
        "| `caplog.messages` | キャプチャされたログメッセージをのリスト |\n",
        "\n",
        "| メソッド | 機能 | 戻り値 |\n",
        "|:---|:---|:---|\n",
        "| `caplog.clear()` | キャプチャされた `logging.LogRecord` インスタンスとログメッセージをクリアする | `None` |\n",
        "| `caplog.set_level(level, logger=None)` | キャプチャされるログレベル `level` をテストの間だけ変更する。`logger` を省略した場合、ルートロガーが使用される | `None` |\n",
        "| `at_level(level, logger=None)` | `set_level()` のコンテキストマネージャー版で、with ブロックの中だけでログレベルを変更する | `None` |\n",
        "\n",
        "次のコードは、 `caplog` の使用例である。\n",
        "\n",
        "``` python\n",
        "import logging\n",
        "import pytest\n",
        "\n",
        "def test_caplog(caplog):\n",
        "    caplog.set_level(logging.INFO)\n",
        "\n",
        "    logging.error(\"error\")\n",
        "    assert \"error\" in caplog.messages\n",
        "```\n",
        "\n",
        "`capsys()` は、 `pytest.CaptureFixture` インスタンスを返す。`capsys.readouterr()` メソッドは、キャプチャされた出力を `(out, err)` という名前付きタプルの形で返す。`out` と `err` は文字列になる。\n",
        "\n",
        "次のコードは、 `capsys` の使用例である。\n",
        "\n",
        "``` python\n",
        "import sys\n",
        "import pytest\n",
        "\n",
        "def test_capsys(capsys):\n",
        "    print(\"hello\")\n",
        "    sys.stderr.write(\"world\\n\")\n",
        "    captured = capsys.readouterr()\n",
        "    assert captured.out == \"hello\\n\"\n",
        "    assert captured.err == \"world\\n\"\n",
        "```\n",
        "\n",
        "`recwarn()` は、`pytest.WarningsRecorder` インスタンスを返す。 `pytest.WarningsRecorder` は、 `warnings.warn()` 関数が内部で生成する `warnings.WarningMessage` インスタンスをリストに記録する。`recwarn.list` プロパティでリストを参照できる。`len()` 関数でリストの長さが得られる。\n",
        "\n",
        "`warnings.WarningMessage` は、 `message` 属性（警告メッセージ）、 `category` 属性（警告クラス）、 `filename` 属性（警告の原因となったファイルの名前）、 `lineno` 属性（警告の原因となった行の番号）などの属性を持つ。\n",
        "\n",
        "`pytest.WarningsRecorder` は以下のメソッドを持つ。\n",
        "\n",
        "| メソッド | 機能 | 戻り値 |\n",
        "|:---|:---|:---|\n",
        "| `recwarn.pop(cls=<class 'Warning'>)` | 最初に記録された `WarningMessage` インスタンスを取り出して返す。これは警告クラス `cls` のインスタンスだが、他の一致する子クラス<br />のインスタンスではない。一致しない場合は `AssertionError` が発生する | `WarningMessage` |\n",
        "\n",
        "次のコードは、 `recwarn` の使用例である。\n",
        "\n",
        "``` python\n",
        "import warnings\n",
        "import pytest\n",
        "\n",
        "def test_recwarn(recwarn):\n",
        "    warnings.warn(\"hello\", UserWarning)\n",
        "\n",
        "    assert len(recwarn) == 1\n",
        "    w = recwarn.pop(UserWarning)\n",
        "    assert issubclass(w.category, UserWarning)\n",
        "    assert str(w.message) == \"hello\"\n",
        "```\n",
        "\n",
        "`tmp_path()` は、各テスト関数ごとに一時ディレクトリを用意して `pathlib.Path` オブジェクトを返す。この一時ディレクトリは、テスト関数の実行が終了すると後処理として削除される。\n",
        "\n",
        "次のコードは、 `tmp_path` の使用例である。\n",
        "\n",
        "``` python\n",
        "import pytest\n",
        "\n",
        "def test_tmp_path(tmp_path):\n",
        "    d = tmp_path / \"sub\"\n",
        "    d.mkdir()\n",
        "    p = d / \"hello.txt\"\n",
        "    p.write_text(\"test\", encoding=\"utf-8\")\n",
        "    assert p.read_text(encoding=\"utf-8\") == \"test\"\n",
        "    assert len(list(tmp_path.iterdir())) == 1\n",
        "```\n",
        "\n",
        "`monkeypatch()` は、`pytest.MonkeyPatch` インスタンスを返す。主なメソッドは次のとおり。\n",
        "\n",
        "| メソッド | 機能 | 戻り値 |\n",
        "|:---|:---|:---|\n",
        "| `monkeypatch.setattr(obj, name, value, raising=True)` | 任意のオブジェクトの名前が `name` である属性の値を一時的に `value` に置き換える（モック）。`raising` が `False` の場合、<br />属性が存在しなくても `AttributeError` を送出しない | `None` |\n",
        "| `monkeypatch.setitem(mapping, name, value)` | 辞書などのマッピングオブジェクトのキーが `name` の値を一時的に `value` に置き換える | `None` |\n",
        "| `monkeypatch.setenv(name, value, prepend=None)` | 環境変数 `name` の値を一時的に `value` に置き換える | `None` |\n",
        "| `monkeypatch.chdir(path)` | カレントディレクトリを一時的に変更する |\n",
        "\n",
        "次のコードは、 `monkeypatch` の使用例である。\n",
        "\n",
        "``` python\n",
        "import os\n",
        "import pathlib\n",
        "import pytest\n",
        "\n",
        "class Obj:\n",
        "    class_ = 0\n",
        "\n",
        "mydic = {\"foo\": 0}\n",
        "\n",
        "def test_monkeypatch(monkeypatch):\n",
        "    monkeypatch.setattr(Obj, \"class_\", 1)\n",
        "    assert Obj().class_ == 1\n",
        "\n",
        "    monkeypatch.setitem(mydic, \"foo\", 1)\n",
        "    assert mydic[\"foo\"] == 1\n",
        "\n",
        "    monkeypatch.setenv(\"path\", \"foo\")\n",
        "    assert os.environ[\"path\"] == \"foo\"\n",
        "\n",
        "    p = pathlib.Path.cwd() / \"data\"\n",
        "    monkeypatch.chdir(\"data\")\n",
        "    assert pathlib.Path.cwd() == p\n",
        "```"
      ],
      "metadata": {
        "id": "wN9vr0QNFOou"
      }
    },
    {
      "cell_type": "markdown",
      "source": [
        "### pytest-mock ###"
      ],
      "metadata": {
        "id": "RSxwqbIxsP4n"
      }
    },
    {
      "cell_type": "markdown",
      "source": [
        "サードパーティ製の [pytest-mock](https://pytest-mock.readthedocs.io/en/latest/) は、`pytest` のプラグインであり、 `pytest` で `unittest.mock.patch()` と同等の機能やスパイ機能が使えるようにする。ライセンスは、MIT License。Python 環境に `pytest-mock` をインストールするには、次のように `pip` コマンドを使う:\n",
        "\n",
        "``` shell\n",
        "pip install pytest-mock\n",
        "```\n",
        "\n",
        "`pytest-mock` をインストールすると、 `mocker` というテストフィクスチャが使用できるようになる。 `mocker()` が返すオブジェクトは、`unittest.mock.patch()` と同等の `mocker.patch()` メソッドを持つ。また、 `mocker.spy()` メソッドは、スパイ機能を提供する。\n",
        "\n",
        "次のコードは、 `mocker` の使用例である。\n",
        "\n",
        "``` python\n",
        "import pytest\n",
        "\n",
        "def test_mocker(mocker):\n",
        "    import os\n",
        "    mocked_isfile = mocker.patch(\"os.path.isfile\")\n",
        "\n",
        "    import mymodule\n",
        "    spy = mocker.spy(mymodule, \"myfunction\")\n",
        "    assert mymodule.myfunction() == 42\n",
        "    assert spy.call_count == 1\n",
        "    assert spy.spy_return == 42\n",
        "```"
      ],
      "metadata": {
        "id": "CFWdsxaQsQtQ"
      }
    },
    {
      "cell_type": "markdown",
      "source": [
        "### pytest-asyncio ###"
      ],
      "metadata": {
        "id": "nzHFAkW_MK6r"
      }
    },
    {
      "cell_type": "markdown",
      "source": [
        "サードパーティ製の [pytest-asyncio](https://pytest-asyncio.readthedocs.io/en/latest/) は、`pytest` のプラグインであり、 `pytest` でコルーチン関数のテストをサポートする。ライセンスは、Apache License 2.0。 Python 環境に `pytest-asyncio` をインストールするには、次のように pip コマンドを使う:\n",
        "\n",
        "``` shell\n",
        "pip install pytest-asyncio\n",
        "```\n",
        "\n",
        "`pytest-asyncio` をインストールすると、 `pytest.mark.asyncio` デコレーターが使用できるようになる。 `pytest.mark.asyncio` でデコレートされたコルーチン関数は、`pytest` のテストディスカバリの対象となる。\n",
        "\n",
        "``` python\n",
        "import asyncio\n",
        "\n",
        "import pytest\n",
        "\n",
        "\n",
        "async def my_func():\n",
        "    await asyncio.sleep(0.1)\n",
        "    return True\n",
        "\n",
        "\n",
        "@pytest.mark.asyncio\n",
        "async def test_my_func():\n",
        "    assert await my_func()\n",
        "```"
      ],
      "metadata": {
        "id": "419UZ3HdMLuO"
      }
    },
    {
      "cell_type": "markdown",
      "source": [
        "テスト手法\n",
        "----------"
      ],
      "metadata": {
        "id": "TX1h69ParxhX"
      }
    },
    {
      "cell_type": "markdown",
      "source": [
        "### ブラックボックステスト ###"
      ],
      "metadata": {
        "id": "EQU8JCmTryW5"
      }
    },
    {
      "cell_type": "markdown",
      "source": [
        "テストケースを設計する手法として、シンプルに考えれば「関数の動作が仕様通りであるか」をテストすることである。しかし、全数テストは不可能なので、次のような手法を取ることになる。\n",
        "\n",
        "  * **同値分割法**: 入力値を関数が正常に動作するグループとエラーになるグループ（同値クラス）に分割し、代表値を決めて入力値とする。\n",
        "  * **境界値分析**: 同値分割法で作成した同値クラスの境界に当たる数値を入力値とする。\n",
        "\n",
        "コードを書く上で判断ミスや記述ミスは境界付近に集中する可能性が高いので、境界値を代表値とするテストケースが多い。たとえば、日付を入力する関数では、月の値について `0` と `1`、および、`13` と `12` がそれぞれ無効同値クラスと有効同値クラスの境界値になり、`1` と `12` を有効同値クラスの代表値、`0` と `13` を無効同値クラスの代表値とする。\n",
        "\n",
        "このように仕様に基づくテストを**ブラックボックステスト**（black-box testing）という。ブラックボックステストでは、関数の出力だけを見てソースコードの内容を確認しない。"
      ],
      "metadata": {
        "id": "1aewu_uUr1MD"
      }
    },
    {
      "cell_type": "markdown",
      "source": [
        "### ホワイトボックステストとカバレッジ ###"
      ],
      "metadata": {
        "id": "zlxmwhSEr3vm"
      }
    },
    {
      "cell_type": "markdown",
      "source": [
        "ブラックボックステストが全数テストでない以上、発見されない欠陥が存在する可能性がある。欠陥を残さないようにするには、ソースコードの処理の流れをテストする必要がある。このテストを**ホワイトボックステスト**（white-box testing）という。ホワイトボックステストは、関数の仕様を理解していなくても実行できる。\n",
        "\n",
        "ホワイトボックステストでは、ソースコードの式の評価や文の実行がきちんと行われているかを検証するテストケースを作成する。テストコードでどの程度の割合のコードが網羅されたかを示す指標を**テストカバレッジ**（test coverage）と呼ぶ。以下の 3 つの網羅基準がある。\n",
        "\n",
        "  * C0: **命令網羅**（Statement Coverage）。全ての文が少なくとも 1 回はテストで実行されたなら 100% となる。\n",
        "  * C1: **分岐網羅**（Branch Coverage）。全ての分岐における全ての方向がテストされたなら 100% となる。\n",
        "  * C2: **条件網羅**（Condition Coverage）。分岐条件が AND や OR など 複合条件の場合に各々の個別条件が全てテストされたなら 100% となる。\n",
        "\n",
        "次のコードをテストする場合、C0・C1・C2 カバレッジのそれぞれで 100% となるテストケースを考える。\n",
        "\n",
        "``` python\n",
        "if 条件a1 and 条件a2:  # 判定条件A\n",
        "    文X\n",
        "\n",
        "if 条件b1 or 条件b2:  # 判定条件B\n",
        "    文Y\n",
        "else:\n",
        "    文Z\n",
        "```\n",
        "\n",
        "C0 カバレッジが 100% となるには、2 つの if 文が実行されればよい。そのためのテストケースは 2 通りあって、1 つは 判定条件 A と判定条件 B が真とするもの（文 X と文 Y を実行）、もう 1 つは判定条件 A が真で判定条件 B が偽とするもの（文 X と文 Z を実行）である。どちらか 1 つを実行すればよい。判定条件 B を真とするために条件 b1 と条件 b2 のどちらを真にするかは好きに選んでよい。\n",
        "\n",
        "C1 カバレッジが 100% となるには、判定条件 A の真偽の方向と判定条件 B の真偽の方向をそれぞれ 1 回テストすればよい。分岐の数が最大 2 なので、2 つのテストケースを実行すればよい。すなわち、判定条件 A と判定条件 B が真とするテストケース（文 X と文 Y を実行）と、判定条件 A と判定条件 B が偽とするテストケース（文 Z を実行）を実行すればよい。あるいは、判定条件 A が真で判定条件 B が偽とするテストケース（文 X と文 Z を実行）と、判定条件 A が偽で判定条件 B が真とするテストケース（文 Y を実行）を実行してもよい。つまり、2 通りのテストケースの組み合わせのどちらでもよい。また、**C1 カバレッジが 100％ の場合、必然的に C0 カバレッジも 100％ になる**。\n",
        "\n",
        "C2 カバレッジが 100% となるには、条件 a1、条件 a2、条件 b1、条件 b2 がそれぞれ真偽を少なくとも 1 回はテストされる必要がある。たとえば、次の 2 つのテストケースを実行すればよい。\n",
        "\n",
        "  1. テストケース 1: 条件 a1 が真、条件 a2 が偽、条件 b1 が真、条件 b2 が偽（文 Y を実行）\n",
        "  2. テストケース 2: 条件 a1 が偽、条件 a2 が真、条件 b1 が偽、条件 b2 が真（文 Y を実行）\n",
        "\n",
        "このように **C2 カバレッジが 100％ であっても、C0 カバレッジ、C1 カバレッジが 100％ になるとは限らない**ことがわかる。\n",
        "\n",
        "なお、条件の組み合わせを全て網羅するときに 100% とする基準は**複数条件網羅**（Multiple Condition Coverage; MCC）と呼ばれるが、条件の個数 `n` に対して $2^n$ 個のテストケースが必要（上記の例では $2^4=16$ 個のテストケースが必要）ということになるので、現実的な基準ではない。一般には C0 カバレッジか C1 カバレッジを採用する。\n",
        "\n",
        "**カバレッジが 100% であることはコードに問題がないことを意味しない**。網羅するテストケースが欠陥を適切に検出できるものでなければ、テストを実行しても問題は発見されないからである。無理に 100% を目指すより、テストケースが適切に設定されているかをレビューするほうが重要であるとされる。Google の開発チームでは、カバレッジの目標値を 85％ より上と定めているらしい。\n",
        "\n",
        "Python で単体テストのカバレッジを計測するには、サードパーティ製パッケージの [Coverage.py](https://pypi.org/project/coverage/) を使う。ライセンスは Apache-2.0 license。\n",
        "\n",
        "``` shell\n",
        "pip install coverage\n",
        "```\n",
        "\n",
        "単体テストのディスカバリを実行すると同時に C0 カバレッジの計測を行うには、次のコマンドを実行する:\n",
        "\n",
        "``` shell\n",
        "coverage run -m unittest discover [options]\n",
        "coverage run -m pytest [options]\n",
        "```\n",
        "\n",
        "これは、テストディスカバリを実行するコマンドラインの `python` の部分を `coverage run` に置き換えただけである。\n",
        "\n",
        "C1 カバレッジの計測を行うには、`--branch` オプションを指定する:\n",
        "\n",
        "``` shell\n",
        "coverage run --branch -m unittest discover [options]\n",
        "coverage run --branch -m pytest [options]\n",
        "```\n",
        "\n",
        "実行後、`.coverage` というファイル（SQLite データベースファイル）が作成され、計測結果が書き込まれる。計測結果を確認するためには、別途コマンドを実行する必要がある:\n",
        "\n",
        "``` shell\n",
        "(.venv) PS> coverage report -m\n",
        "Name                      Stmts   Miss  Cover   Missing\n",
        "-------------------------------------------------------\n",
        "my_program.py                20      4    80%   33-35, 39\n",
        "my_other_module.py           56      6    89%   17-23\n",
        "-------------------------------------------------------\n",
        "TOTAL                        76     10    87%\n",
        "```\n",
        "\n",
        "`Name` の列は、単体テスト実施時に実行されたファイルを示している。`Stmts` の列は、ファイルに存在する文の数（コメントと空行を除く全行数）を示している。`Cover` の列は、ファイルに対するカバレッジを示している。`Missing` は、テストで網羅されてなかった行の行番号を示している。\n",
        "\n",
        "カバレッジ計測結果を HTML で視覚化することもできる:\n",
        "\n",
        "``` shell\n",
        "coverage html\n",
        "```\n",
        "\n",
        "実行後、`htmlcov` というフォルダが作成される。その中 `index.html` を Web ブラウザで開くとカバレッジを見ることができる。各モジュールがリンクになっていて、リンク先を開くと網羅されているコードとそうでないコードが色分けされている。公式ドキュメントの[サンプル](https://nedbatchelder.com/files/sample_coverage_html/index.html)で確認できる。\n",
        "\n",
        "`.coverage` ファイルにカバレッジ情報を追加するには、`-a` または `--append` オプションを指定する:\n",
        "\n",
        "``` shell\n",
        "coverage run -a -m unittest discover [options]\n",
        "coverage run -a --branch -m unittest discover [options]\n",
        "coverage run -a -m pytest [options]\n",
        "coverage run -a --branch -m pytest [options]\n",
        "```"
      ],
      "metadata": {
        "id": "5njoqrwRr6D4"
      }
    },
    {
      "cell_type": "markdown",
      "source": [
        "tox\n",
        "---"
      ],
      "metadata": {
        "id": "su4tvtAEXUs0"
      }
    },
    {
      "cell_type": "markdown",
      "source": [
        "[tox](https://tox.wiki/en/latest/) は、テスト用の仮想環境をテストごとに作成しながら、Python や依存関係の複数のバージョンを使い分けて行うテストを自動化するツールである。ライセンスは MIT license。インストール方法は次のとおり。\n",
        "\n",
        "``` shell\n",
        "pip install tox\n",
        "```\n",
        "\n",
        "`tox` を使うには設定ファイルが必要である。プロジェクトのルートディレクトリにある以下のファイルが設定ファイルに使用される（優先順位の高いものから並べている）。\n",
        "\n",
        "  1. `tox.ini` (INI)\n",
        "  2. `setup.cfg` (INI)\n",
        "  3. `pyproject.toml`  (TOML)\n",
        "  4. `tox.toml` (TOML)\n",
        "\n",
        "ファイルごとに構成が異なることに注意。以下は `tox.ini` の構成である。\n",
        "\n",
        "次は、基本的な設定である。\n",
        "\n",
        "`tox.ini`:  \n",
        "``` ini\n",
        "[tox]\n",
        "envlist = py39, py310, type\n",
        "\n",
        "[testenv]\n",
        "deps = pytest\n",
        "commands = pytest\n",
        "\n",
        "[testenv:type]\n",
        "deps = mypy\n",
        "commands = mypy src\n",
        "```\n",
        "\n",
        "| セクション | キー | 意味 |\n",
        "|:---|:---|:---|\n",
        "| `[tox]` | `envlist` | 実行環境のセクションを識別するためのキー。ここで指定した `env_name` キーの実行環境の設定が `[testenv:{env_name}]` に記述される。コンマ区切り<br />または改行で複数指定できる。 |\n",
        "| `[testenv:{env_name}]` | `deps` | テストに必要な依存関係。直接パッケージを指定するか（バージョン指定子が使える）、`requirement.txt` に記載して `-rrequirements.txt` と指定する |\n",
        "| `[testenv:{env_name}]` | `commands` | 実行するコマンド |\n",
        "\n",
        "`[testenv:{env_name}]` に該当するセクションがない場合は、`[testenv]` セクションの設定が使用される。\n",
        "\n",
        "コマンドラインで `tox` を実行する（引数は不要）。すると、`envlist` ごとに仮想環境が作成され、依存関係のインストールが行われてから、テストが実行される。このため、既存の環境で単体テストを実行する場合よりもはるかに長い時間がかかる。\n",
        "\n",
        "いくつかの追加的なキーは次のとおり。\n",
        "\n",
        "| セクション | キー | 意味 |\n",
        "|:---|:---|:---|\n",
        "| `[tox]` | `min_version` | 実行に必要な `tox` の最小バージョンを指定する文字列 |\n",
        "| `[tox]` | `skipsdist` | パッケージング操作を実行するかどうかを示すフラグ。ライブラリではなくアプリケーションに `tox` を使用する場合は、これを `true` に設定する。<br />デフォルト値は `false` |\n",
        "| `[testenv:{env_name}]` | `setenv` | 実行仮想環境に新たに環境変数を設定する |\n",
        "| `[testenv:{env_name}]` | `basepython` | 仮想環境の作成に使用される Python インタープリターの名前またはパス。指定しない場合は、仮想環境または `tox` がインストールされているの<br />と同じ Python バージョンが使用される |\n",
        "\n",
        "各セクションでは、以下の埋め込み変数を利用できる。\n",
        "\n",
        "| 設定名 | 意味 |\n",
        "|:---|:---|\n",
        "| `{toxinidir}` | `tox.ini` の配置されているディレクトリ |\n",
        "| `{toxworkdir}` | 仮想環境が作成されるディレクトリ |\n",
        "| `{envname}` | 仮想環境名。`[tox:{envname}]` の部分で記載したもの |\n",
        "| `{envdir}` | 仮想環境ディレクトリ。デフォルト値は `{toxworkdir}/{envname}` |\n",
        "| `{envtmpdir}` | 実行の開始時に常にリセットされるフォルダ。デフォルト値は `{toxworkdir}/{envname}/tmp` |\n",
        "\n",
        "次は追加の設定例。\n",
        "\n",
        "`tox.ini`:  \n",
        "``` ini\n",
        "[tox]\n",
        "minversion = 3.8.0\n",
        "skipsdist = true\n",
        "envlist = py39, py310, type\n",
        "\n",
        "[testenv]\n",
        "setenv =\n",
        "    PYTHONPATH = {toxinidir}\n",
        "deps =\n",
        "    -r{toxinidir}/requirements_dev.txt\n",
        "commands =\n",
        "    pytest --basetemp={envtmpdir}\n",
        "\n",
        "[testenv:type]\n",
        "basepython = python3.9\n",
        "deps = mypy\n",
        "commands = mypy src\n",
        "```"
      ],
      "metadata": {
        "id": "4hjz3105XWi9"
      }
    }
  ]
}