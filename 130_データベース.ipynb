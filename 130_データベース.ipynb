{
  "nbformat": 4,
  "nbformat_minor": 0,
  "metadata": {
    "colab": {
      "provenance": [],
      "authorship_tag": "ABX9TyOOxeAncvznr953j6meoa9p",
      "include_colab_link": true
    },
    "kernelspec": {
      "name": "python3",
      "display_name": "Python 3"
    },
    "language_info": {
      "name": "python"
    }
  },
  "cells": [
    {
      "cell_type": "markdown",
      "metadata": {
        "id": "view-in-github",
        "colab_type": "text"
      },
      "source": [
        "<a href=\"https://colab.research.google.com/github/suwatoh/Python-learning/blob/main/130_%E3%83%87%E3%83%BC%E3%82%BF%E3%83%99%E3%83%BC%E3%82%B9.ipynb\" target=\"_parent\"><img src=\"https://colab.research.google.com/assets/colab-badge.svg\" alt=\"Open In Colab\"/></a>"
      ]
    },
    {
      "cell_type": "markdown",
      "source": [
        "データベース\n",
        "============"
      ],
      "metadata": {
        "id": "GyNRz1z25rjD"
      }
    },
    {
      "cell_type": "markdown",
      "source": [
        "データベース用語\n",
        "----------------"
      ],
      "metadata": {
        "id": "skplipyYdpB_"
      }
    },
    {
      "cell_type": "markdown",
      "source": [
        "**データベース**（Database; DB）:  \n",
        "様々な情報を整理し効率よく使用するために格納するデータの集合体のこと。\n",
        "\n",
        "**関係データベース**（Relational Database; RDB）:  \n",
        "複数の表形式によって管理された DB のこと。RDB を構成する表形式をテーブルと呼ぶ。表を構成する行をレコード、列をカラムまたはフィールドと呼ぶ。\n",
        "\n",
        "**キー**（Key）:  \n",
        "カラムに意味を持たせてマークされたもの。テーブルに登録されたレコードを特定するのにもっとも好ましいとしてマークされるキーは**主キー**（primary key; PK）と呼ばれる。関連のあるテーブルのあるカラムに属する値に制約されるとしてマークされるキーは、**外部キー**（foreign key; FK）と呼ばれる。\n",
        "\n",
        "**ER モデル**（Entity Relationship Model）:  \n",
        "RDB の設計手法。システムが取り扱う対象とする現実世界の要素を抽象化し、「顧客」「商品」「注文」のように名詞として表すことができるもの（物理的な存在とは限らない）を**エンティティ**（実体）、実体間の関係性を表す要素を**リレーションシップ**（関連）、実体と関連それぞれの性質を**アトリビュート**（属性）として扱う。\n",
        "\n",
        "**多重度**（Cardinality）:  \n",
        "あるエンティティ（テーブル）の 1 つのインスタンス（レコード）が、もう一方のエンティティのいくつのインスタンスと関連付けられるかを示すもの。**一対一**、**一対多**、**多対多**などに分類される。\n",
        "\n",
        "**ER 図**（Entity Relationship Diagram）:  \n",
        "ER モデルを図示したもの。エンティティを長方形で表し、その中にアトリビュートを記入する。水平線の上にあるアトリビュートは主キーであることを表す。後ろに「(FK)」が続くアトリビュートは外部キーであることを表す。依存関係のリレーションシップを実線で表し、非依存関係のリレーションシップを点線で表す。リレーションシップの多重度の表記はいくつかの種類がある。**IE**（Information Engineering）と呼ばれる記法では、「○｜」なら 0 か 1、「｜｜」ならちょうど 1、「○」と鳥の足なら 0 以上、「｜」と鳥の足なら 1 以上。\n",
        "\n",
        "![](https://www.plantuml.com/plantuml/png/SoWkIImgAStDuSf9JIjHACbNACfCpoXHICaiIaqkoSpFuqhEIImkLdYvSFdJTOiyNHHiR21CEpk5QYu5gFZJ2RrSjL2LppQlU3Qj7QmImeIeX9lmVa-7c_VxFPr08OZyi-bBdyrimj0Va_TiHj_pBHkUJrtrj7yxt3I88DJCfrFRdavk1DeEOlVEUB9l8SZKgHjUjlS3pOExkQP6Jo-_6k4oBZWBAAMhMrEDmrAkZCoKL8NKt8AIIeNSr9AC_9HYi11o82Hd5YNdfCA48URW48OOZP1qICrB0OOy0000)\n",
        "\n",
        "**データベース管理システム**（Database Management System; DBMS）:  \n",
        "データベースを構築し、操作するためのソフトウェアのこと。\n",
        "\n",
        "**関係データベース管理システム**（Relational Database Management System; RDBMS）:  \n",
        "RDB を扱う DBMS のこと。\n",
        "\n",
        "**フェッチ**（fetch）:  \n",
        "DB の表形式において 1 行を取得し変数に格納すること。\n",
        "\n",
        "**カーソル**（Cursors）:  \n",
        "DB の表形式において 1 行を特定する仮想的な道具を指す。カーソルを使用して処理の対象とする行を特定しておいて、その行からフェッチを行ったり、その行を更新したり、または削除したりすることができる。カーソルにより行を特定することを、カーソルを位置づけるという。\n",
        "\n",
        "**NULL**:  \n",
        "DB の表形式において欄に値が存在しない、または値はあるが未知であることを示す。浮動小数点演算の NaN（非数）に近い。\n",
        "\n",
        "**トランザクション**（Transaction）:  \n",
        "分けることのできない一連の更新処理の一単位を意味する。この一連の更新処理を分割して実行した場合、データの整合性を保てなくなる。ex. 銀行の ATM 決済では、「振込み元の口座における残高の減算処理」と「振込み先の口座における残高の加算処理」は分割できない一連の流れ、すなわちトランザクションに乗せて処理が実行される。\n",
        "\n",
        "**コミット**（Commit）:  \n",
        "直訳すると「責任を伴う約束をする」という意味であり、DB に対するトランザクションにおいて、その更新処理を確定させることを意味する。\n",
        "\n",
        "**ロールバック**（Rollback）:  \n",
        "DB のトランザクション処理において、問題が生じた場合に実行した処理を取り消して、元の状態に戻すことを指す。後退復帰ともいう。\n",
        "\n",
        "**ロールフォワード**（Rollforward）:  \n",
        "停電などの障害が起きた場合に、DB のバックアップ地点まで戻し、それ以降の処理をログファイルから順番に実行、障害発生直前の状態まで復旧することを指す。前進復帰ともいう。\n",
        "\n",
        "**ACID**:  \n",
        "信頼性のあるトランザクションが持つべき 4 つの特性 Atomicity, Consistency, Isolation, Durability を指す。Atomicity（不可分性）とは、トランザクションに含まれる処理が「すべて実行される」か「一つも実行されない」のどちらかの状態になるという性質のことである。つまり、データが破損したりゴミデータが残ったりしないこと。Consistency（一貫性）とは、トランザクションの前後でデータが矛盾しないように整合性が保たれる性質のことである。Isolation（独立性）とは、トランザクション実行中に他のプロセスなどからデータを読み取ろうとしても、処理途中のデータが読み取られないようにする性質のことである。データベースソースにロックを掛ける排他制御（mutex）などが利用される。Durability（永続性）とは、トランザクションが完了時にその結果をログファイルに記録しシステム障害などが生じても失われることがないという性質のことである。\n",
        "\n",
        "**ページ**（page）:  \n",
        "DBMS がデータを読み書きする際の単位となるバイト数。HDD や SSD などのストレージデバイス上にデータを保存する DB の場合、1 件（表形式における 1 行）とページは一致しないのに対して、メインメモリ上でデータを保存する DB（インメモリデータベース）の場合は、1 件とページが一致する（無駄な I/O が軽減されるため高速）。\n",
        "\n",
        "**データベース言語**（Database Language）:  \n",
        "コンピューターにおいてデータベースを扱うために用いられる言語のこと。プログラミング言語は複数の命令文を記述して一つのプログラムを作成するのであるが、データベース言語はこれとは異なり、1 行程度の命令文をコマンドとして実行し、その都度結果を引き出す形式をとる。\n",
        "\n",
        "**クエリ**（Query）:  \n",
        "直訳すると「問い合わせ」という意味であり、DBMS に対してデータの検索や更新などの処理を要求する命令文を指す。主要な命令文がクエリであることから、データベース言語は問い合わせ言語とも呼ばれる。\n",
        "\n",
        "**SQL**:  \n",
        "1970 年代に IBM 社によって開発された SEQUEL（Structured English Query Language の略）が元になった RDBMS 用のデータベース言語である。SQL は Structured Query Language の略とされ、直訳すると「構造化された問い合わせ言語」という意味であり、読みは「エスキューエル」または元の名前のまま「シークェル」。MySQL、PostgreSQL などの多くの RDBMS 製品は、データベース言語に独自に拡張した SQL を採用している。\n",
        "\n",
        "**標準 SQL**:  \n",
        "国際標準化機構（ISO）で標準化された規格に沿って記述された SQL 文のこと。1992 年に制定された規格 SQL-92 が今日の RDBMS におけるデータベース言語の基盤となっている。SQL-92 では、Entry、Intermediate、Full という 3 つの機能セットを定義し、段階的に準拠できるようにした。標準 SQL 準拠をうたっている RDBMS 製品のほとんどは、Entry レベルのみに適合している。標準 SQL の規格は数年おきに改訂され、2003 年以降に発表されたものは SQL:2003 のように呼ばれている。\n",
        "\n",
        "**NoSQL**:  \n",
        "一般に「Not only SQL」の略称と解釈され、RDBMS 以外の DBMS 全般を指す。RDB の構造にとらわれないため、大量のデータを高速に処理できる製品がある。たとえば、JSON 形式のデータを格納して扱うことができる MongoDB など。RDBMS 製品の中には、NoSQL としても使えるものがある。"
      ],
      "metadata": {
        "id": "TeVGvil02xFb"
      }
    },
    {
      "cell_type": "markdown",
      "source": [
        "SQLite\n",
        "------"
      ],
      "metadata": {
        "id": "-eVcJNTBbfrc"
      }
    },
    {
      "cell_type": "markdown",
      "source": [
        "SQLite は、パブリックドメインの軽量な RDBMS である。C のライブラリとして提供され、サーバーとしてではなくアプリケーションに組み込んで利用される。Android や iOS にも組み込まれている。基本的な RDBMS の機能を備えており、SQL-92 の一部に準拠している。また、JSON 形式のデータを扱う NoSQL としても使える。\n",
        "\n",
        "SQLite の特徴は、データの保存に単一のファイルのみを使用することである。インメモリデータベースとしても利用可能である。SQLite はファイルアクセスのライブラリに過ぎないため、ネットワークで複数のコンピューターを連携させる大規模システムに対応することはできない。また、ユーザーという概念をサポートしておらず、データベースに対するアクセス制御はすべて OS のユーザー属性（ブラウザ経由なら `.htaccess` によるアクセス制限）によって行う。\n",
        "\n",
        "SQLite は、他の RDBMS 製品に見られるような設定作業が不要で、付属の CLI （`sqlite3` コマンド）から直ちに使うことができる。\n",
        "\n",
        "ACID 特性を備えたトランザクションをサポートし、その処理はスレッドセーフである。データベースにアクセスするすべてのコマンドは、トランザクションがまだ有効になっていない場合、トランザクションを自動的に開始する。自動的に開始されたトランザクションは、最後の SQL 文が終了したときにコミットされる。こうしたトランザクション制御は**オートコミットモード**と呼ばれる。\n",
        "\n",
        "Python には、SQLite インターフェースを提供する `sqlite3` モジュールが標準ライブラリとして付属しており、Python をインストールした環境では SQLite を利用できる。なお、`sqlite3` は SQLite 3.7.15 以降に対応している。利用可能な SQLite のバージョン番号は、モジュール定数 `sqlite3.sqlite_version` で確認できる。"
      ],
      "metadata": {
        "id": "WEaFU_uzbirZ"
      }
    },
    {
      "cell_type": "code",
      "source": [
        "import sqlite3\n",
        "sqlite3.sqlite_version"
      ],
      "metadata": {
        "colab": {
          "base_uri": "https://localhost:8080/",
          "height": 35
        },
        "id": "M57wPgmyLxpa",
        "outputId": "238c94b9-afda-4f1f-d925-2df0f504a09e"
      },
      "execution_count": null,
      "outputs": [
        {
          "output_type": "execute_result",
          "data": {
            "text/plain": [
              "'3.37.2'"
            ],
            "application/vnd.google.colaboratory.intrinsic+json": {
              "type": "string"
            }
          },
          "metadata": {},
          "execution_count": 1
        }
      ]
    },
    {
      "cell_type": "markdown",
      "source": [
        "DB-API 2.0\n",
        "----------"
      ],
      "metadata": {
        "id": "WjPlhPZlaHT0"
      }
    },
    {
      "cell_type": "markdown",
      "source": [
        "**DB-API 2.0**とは、PEP 249（Python データベース API 仕様 v2.0）にて、Python から様々な DBMS を操作するための共通のインターフェースの仕様を定義したものである。\n",
        "\n",
        "**DB-API 拡張**とは、PEP 249 にて、オプションの API として定義されたものである。\n",
        "\n",
        "`sqlite3` モジュールは、DB-API 2.0 に準拠している。以下では、DB-API 2.0 において定義された主な定数・関数と、`sqlite3` での注意点を整理する。なお、関数の戻り値について、DB-API 2.0 に指定がなく、`sqlite3` で `None` となっている場合は、`None` とした。"
      ],
      "metadata": {
        "id": "7CQ6Vy8NaJF6"
      }
    },
    {
      "cell_type": "markdown",
      "source": [
        "### グローバル変数 ###"
      ],
      "metadata": {
        "id": "ejYWB1RCvcDP"
      }
    },
    {
      "cell_type": "markdown",
      "source": [
        "``` python\n",
        "apilevel\n",
        "```\n",
        "\n",
        "モジュール定数であり、`'2.0'` であるなら、モジュールは DB-API 2.0 準拠であることを示す。\n",
        "\n",
        "``` python\n",
        "threadsafety\n",
        "```\n",
        "\n",
        "モジュール定数であり、モジュールがサポートするスレッドセーフのレベルを示す。SQLite のコンパイル時オプション `SQLITE_THREADSAFE` との対応は以下のとおり:\n",
        "\n",
        "| 値 | DB-API 2.0 での意味 | SQLITE_THREADSAFE |\n",
        "|:--:|:---|:---|\n",
        "| 0 | スレッド間でモジュールを共有できない | 0 （シングル・スレッド） |\n",
        "| 1 | スレッド間でモジュールを共有できるが、接続を共有することはできない | 2 （マルチ・スレッド） |\n",
        "| 2 | スレッド間でモジュールと接続を共有できる | - |\n",
        "| 3 | スレッド間でモジュール、接続に加えて、カーソルも共有できる | 1 （直列化） |\n",
        "\n",
        "`SQLITE_THREADSAFE` の値が示す SQLite のスレッド・モードの意味は、次のとおり。\n",
        "\n",
        "  * シングル・スレッド: このモードでは、データベースについての排他制御がすべて無効であり、一度に複数のスレッドで SQLite を使用するのは安全ではない\n",
        "  * マルチ・スレッド: このモードでは、 1 つのデータベース接続が 2 つ以上のスレッドで同時に使用されない限り、複数のスレッドで SQLite を安全に使用できる\n",
        "  * 直列化: SQLite を複数のスレッドで制限なく安全に使用できる\n",
        "\n",
        "``` python\n",
        "paramstyle\n",
        "```\n",
        "\n",
        "文字列定数で、SQL 文の中で使われるとモジュールがプレースホルダーと認識するもの。取りえる値は以下のとおり。\n",
        "\n",
        "| paramstyle | 説明 |\n",
        "|:---|:---|\n",
        "| `qmark` | クエスチョンマーク。例: `...WHERE name=?` |\n",
        "| `numeric` | 数字、実引数の順番。例: `...WHERE name=:1` |\n",
        "| `named` | 名前付き形式。例: `...WHERE name=:name` |\n",
        "| `format` | ANSI C の printf 形式。例: `...WHERE name=%s` |\n",
        "| `pyformat` | Python の拡張形式。例: `...WHERE name=%(name)s` |"
      ],
      "metadata": {
        "id": "3qfxXQo7vyVT"
      }
    },
    {
      "cell_type": "code",
      "source": [
        "import sqlite3\n",
        "print(f\"{sqlite3.apilevel=}\")\n",
        "print(f\"{sqlite3.threadsafety=}\")\n",
        "print(f\"{sqlite3.paramstyle=}\")"
      ],
      "metadata": {
        "colab": {
          "base_uri": "https://localhost:8080/"
        },
        "id": "qRtlcK89q_ac",
        "outputId": "08c9f713-1b92-4e82-9623-ab53deff1c89"
      },
      "execution_count": null,
      "outputs": [
        {
          "output_type": "stream",
          "name": "stdout",
          "text": [
            "sqlite3.apilevel='2.0'\n",
            "sqlite3.threadsafety=1\n",
            "sqlite3.paramstyle='qmark'\n"
          ]
        }
      ]
    },
    {
      "cell_type": "markdown",
      "source": [
        "### 例外 ###"
      ],
      "metadata": {
        "id": "UJ8E3-r_Tc2S"
      }
    },
    {
      "cell_type": "markdown",
      "source": [
        "`Error` は、モジュールにおける全ての例外に対する基底クラスである。このクラスを使えば、全てのエラーを一つの `except` 文で捕捉できる。\n",
        "\n",
        "`InterfaceError` は、データベース自体ではなく、モジュールに関するエラーの際に送出される（おそらくモジュールのバグ）。\n",
        "\n",
        "`DatabaseError` は、以下の例外の基底クラスである。\n",
        "\n",
        "  * `DataError`:  \n",
        "処理したデータの問題に起因するエラーの際に送出される例外。たとえば、ゼロによる除算、範囲外の数値や長すぎる文字列など。\n",
        "  * `OperationalError`:  \n",
        "データベースの操作に関連したエラーで、プログラマーが制御しきれない状況に対して送出される例外。たとえば、予期しない接続遮断の発生、データソース名が見つからなかった、トランザクションが処理できなかった、処理中に発生したメモリアロケーションエラーなど。\n",
        "  * `IntegrityError`:  \n",
        "データベースの参照整合性が影響を受ける場合に送出される例外。\n",
        "  * `ProgrammingError`:  \n",
        "SQL 文のエラーに対して送出される例外。たとえば、テーブルが見つからない、テーブルがすでに存在する、SQL 文の構文エラー、引数の数が間違って指定されている、など。\n",
        "  * `NotSupportedError`:  \n",
        "データベースがサポートしていないメソッドやデータベース API を使った場合に送出される例外。"
      ],
      "metadata": {
        "id": "YGOoSDRVTd9r"
      }
    },
    {
      "cell_type": "markdown",
      "source": [
        "### コンストラクタ ###"
      ],
      "metadata": {
        "id": "UxASC_QyyVah"
      }
    },
    {
      "cell_type": "markdown",
      "source": [
        "``` python\n",
        "connect(parameters...)\n",
        "```\n",
        "\n",
        "この関数は、データベースに接続し、コネクションオブジェクトを返す。\n",
        "\n",
        "`sqlite3` では、この関数は次のように定義される:\n",
        "\n",
        "``` python\n",
        "sqlite3.connect(database, timeout=5.0, detect_types=0, isolation_level='DEFERRED', check_same_thread=True, factory=sqlite3.Connection, cached_statements=128, uri=False, *, autocommit=sqlite3.LEGACY_TRANSACTION_CONTROL)\n",
        "```\n",
        "\n",
        "| 引数 | 意味 |\n",
        "|:---|:---|\n",
        "| `database` | データベースファイルへの path-like オブジェクトを指定する。あるいは、 `':memory:'` を指定すると、インメモリデータベースに接続する |\n",
        "| `timeout` | 別の接続によりトランザクションが開始されテーブルがロックされている場合、`sqlite3.OperationalError` 例外を送出する前に接続を待機する秒数を浮動小数点数で指定<br />する。デフォルトは 5 秒 |\n",
        "| `detect_types` | SQLite がサポートしないデータ型を検出して、Python のデータ型との変換方法を整数値で指定する。デフォルト (0) では、データ型検出は無効になっている |\n",
        "| `isolation_level` | この値はオブジェクトの `isolation_level` 属性に格納される。`isolation_level` 属性はトランザクション制御で使用される |\n",
        "| `check_same_thread` | `True`（デフォルト）の場合、データベース接続を作成したスレッド以外のスレッドがデータベース接続を使用すると、`sqlite3.ProgrammingError` 例外が送出される。`False` の<br />場合、接続は複数のスレッドからアクセスできる。ただし、データの破損を避けるために、ユーザーによる書き込み操作の直列化が必要になることがある |\n",
        "| `factory` | コネクションオブジェクトのクラスを指定する。デフォルトは `sqlite3.Connection` |\n",
        "| `cached_statements` | `sqlite3` がこの接続のために内部的にキャッシュする SQL 文の数を指定する。SQL 文をキャッシュすることでパース時のオーバーヘッドを回避している。デフォルトでは、<br>128 文 |\n",
        "| `uri` | `True` に設定すると、 `database` はファイルパスとオプションのクエリ文字列を含む URI として解釈される（SQLite URI） |\n",
        "| `autocommit` | Python 3.12 で追加されたキーワード専用引数。この値はオブジェクトの `autocommit` 属性に格納される。`autocommit` 属性はトランザクション制御で使用される |"
      ],
      "metadata": {
        "id": "z9ILcT_ZyYC8"
      }
    },
    {
      "cell_type": "markdown",
      "source": [
        "### コネクションオブジェクト ###"
      ],
      "metadata": {
        "id": "Sus61pvfy6Ju"
      }
    },
    {
      "cell_type": "markdown",
      "source": [
        "コネクションオブジェクトは、DB への接続を管理するオブジェクトで、次のメソッドを持つ。\n",
        "\n",
        "| メソッド | 機能 | 戻り値 |\n",
        "|:---|:---|:---|\n",
        "| `commit()` | 処理中のトランザクションを DB  にコミットする<br />※ トランザクションをサポートしないデータベースモジュールでも、このメソッドは定義されるが何も行わない | `None` |\n",
        "| `rollback()` | 処理中のトランザクションすべてについてロールバックを行う<br />※ トランザクションをサポートしないデータベースモジュールでは、このメソッドは定義されない | `None` |\n",
        "| `close()` | 接続を即座に切断する。その後、接続は使用できなくなる。前もって更新のコミットを行わずに切断すると、保留中のトランザクションが<br />暗黙的にロールバックされる | `None` |\n",
        "| `cursor()` | 現在の接続を使って、新たなカーソルオブジェクトを返す | カーソルオブジェクト |\n",
        "\n",
        "また、`sqlite3` のコネクションオブジェクトは次のメソッドも持つ。\n",
        "\n",
        "| メソッド | 機能 | 戻り値 |\n",
        "|:---|:---|:---|\n",
        "| `execute(sql, parameters=(), /)` | 新しいカーソルオブジェクトを作成し、その `execute()` メソッドを指定の `sql` と `parameters` を渡して呼び出す。<br />新しいカーソルオブジェクトを返す | カーソルオブジェクト |\n",
        "| `executemany(sql, parameters, /)` | 新しいカーソルオブジェクトを作成し、その `executemany()` メソッドを指定の `sql` と `parameters` を渡して呼び出<br />す。新しいカーソルオブジェクトを返す | カーソルオブジェクト |\n",
        "| `executescript(sql_script, /)` | 新しいカーソルオブジェクトを作成し、その `executescript()` メソッドを指定の `sql_script` を渡して呼び出す。<br />新しいカーソルオブジェクトを返す | カーソルオブジェクト |\n",
        "| `backup(target)` | このコネクションオブジェクトが接続している DB を、別のコネクションオブジェクト `target` が接続している DB にコピーする |\n",
        "\n",
        "``` python\n",
        "src = sqlite3.connect('example.db')\n",
        "dst = sqlite3.connect(':memory:')\n",
        "src.backup(dst)\n",
        "```"
      ],
      "metadata": {
        "id": "cOc3udizzsnR"
      }
    },
    {
      "cell_type": "markdown",
      "source": [
        "### カーソルオブジェクト ###"
      ],
      "metadata": {
        "id": "ftySDfHB6ipr"
      }
    },
    {
      "cell_type": "markdown",
      "source": [
        "コネクションオブジェクトの `cursor()` メソッドで生成されるカーソルオブジェクトは、DB 上のカーソルを表現する。\n",
        "\n",
        "``` python\n",
        "cur = con.cursor()\n",
        "```\n",
        "\n",
        "以下は、カーソルオブジェクトのメソッドである。\n",
        "\n",
        "``` python\n",
        "cur.execute(operation[ ,parameters])\n",
        "```\n",
        "\n",
        "このメソッドは、単一のデータベース操作 `operation` を実行する。`operation` 内でプレースホルダーを使用し、`parameters` に指定した Python 上の値に結び付け（bind）することができる。戻り値はカーソルオブジェクト。\n",
        "\n",
        "`sqlite3` では、`operation` と `parameters` から単一の SQL 文を組み立てる。`operation` 内で次の 2 種類のプレースホルダーのいずれかを使用できる。\n",
        "\n",
        "  * qmark スタイル: 疑問符 `'?'` を使う。 qmark スタイルの場合、 `parameters` はシーケンスでなければならず、その要素の順番と、 `'?'` が `operation` に現れる順番で、結び付けの対応が決まる。シーケンスの長さと `'?'` の個数が一致しない場合、`ProgrammingError` 例外が発生する。\n",
        "  * 名前付きスタイル: `':name'` の形を使う。名前付きスタイルの場合、`parameters` は `dict`（またはそのサブクラス）のインスタンスである必要があり、すべての名前付きプレースホルダーのキーが含まれている必要がある。余分な項目は無視される。\n",
        "\n",
        "``` python\n",
        "cur.executemany(operation, seq_of_parameters)\n",
        "```\n",
        "このメソッドは、`execute()` と似ているが、`seq_of_parameters` 内にある全てのシーケンスや辞書について `operation` を実行する。戻り値はカーソルオブジェクト。\n",
        "\n",
        "`sqlite3` では、単一の SQL 文 `operation` を繰り返し実行する。なお、`sqlite3` では複数の SQL 文を記述した文字列 `sql_script` をまとめて実行する `cur.executescript(sql_script, /)` メソッドを呼び出すこともできる。\n",
        "\n",
        "``` python\n",
        "cur.fetchone()\n",
        "```\n",
        "\n",
        "このメソッドは、クエリ結果セットの次の行を取得し、タプルとして返す。次のデータがなかった場合には `None` を返す。\n",
        "\n",
        "直前に呼び出した `executeXXX()` が何も結果を生成しなかった場合や、まだ何も実行していないのにこのメソッドを呼んだ場合には、例外を送出する。\n",
        "\n",
        "``` python\n",
        "cur.fetchmany([size=cursor.arraysize])\n",
        "```\n",
        "\n",
        "このメソッドは、クエリ結果の次の一連の行集合を取得し、タプルのリストとして返す。取得できるデータがないときには空のリストを返す。呼び出しごとに取得する行数は、`size` で指定できる。デフォルトでは、`arraysize` 属性で指定された行数だけ取得する。最適なパフォーマンスを実現するには、通常は `arraysize` 属性を使うのがベストである。\n",
        "\n",
        "直前に呼び出した `executeXXX()` が何も結果セットを生成しなかった場合や、まだ何も呼び出しを行っていない場合には、例外を送出する。\n",
        "\n",
        "``` python\n",
        "cur.fetchall()\n",
        "```\n",
        "\n",
        "このメソッドは、クエリ結果の（残りの）すべての行を取得し、タプルのリストとして返す。有効な行がない場合は、空のリストを返す。`arraysize` 属性は、この操作のパフォーマンスに影響を与える可能性がある。\n",
        "\n",
        "直前に呼び出した `executeXXX()` が何も結果セットを生成しなかった場合や、まだ何も呼び出しを行っていない場合には、例外を送出する。\n",
        "\n",
        "``` python\n",
        "cur.close()\n",
        "```\n",
        "\n",
        "このメソッドは、カーソルを即座に閉じる。閉じたカーソルに対してどのような操作を行っても、`Error` またはそのサブクラスの例外（`sqlite3` では `ProgrammingError` 例外）が送出される。\n",
        "\n",
        "``` python\n",
        "cur.__next__()\n",
        "cur.__iter__()\n",
        "```\n",
        "\n",
        "これらはイテレータープロトコルをサポートし、カーソルオブジェクトが、現在実行中の SQL 文について結果セットの次の行を取得して返すイテレーターとなる（DB-API 拡張）。\n",
        "\n",
        "カーソルオブジェクトは、次のプロパティを持つ:\n",
        "\n",
        "| プロパティ | 意味 | `sqlite3` での注意点 |\n",
        "|:---|:---|:---|\n",
        "| `cur.description` | 最後のクエリのカラム名を提供する読み取り専用プロパティ。7 つの要素からなるタプル<br /> `(カラム名,type_code, display_size, internal_size, precision, scale, null_ok)` である | `sqlite3` では、カラム名以外の要素はすべて `None` となる |\n",
        "| `cur.rowcount` | クエリの実行で変更された行数を提供する読み取り専用プロパティ。そのような行数を決<br />定できない場合には、このプロパティは -1 となる | |\n",
        "| `cur.arraysize` | 読み書き可能なプロパティで、`fetchmany()` メソッドによって一度に取得可能な行数を指<br />定する。デフォルトの値は 1 で、これは一度に 1 つの行しか取得できないことを意味する | |\n",
        "| `cur.connection` | 読み出し専用プロパティで、カーソルの生成に使ったコネクションオブジェクトへの参照を<br />提供する（DB-API 拡張） | |\n",
        "| `cur.lastrowid` | 読み出し専用プロパティで、`ROWID` カラムの自動追加機能をサポートする DB において、<br />最後に挿入されたレコードの `ROWID` 値を提供する。初期値は `None`（DB-API 拡張） | `sqlite3` では、` execute()` で `INSERT` 文が成功した後にのみ更新される。他の<br /> SQL 文や、`executemany()` の後や、 `executescript()` の後や、挿入が失敗した<br />場合、`lastrowid` の値は変更されない |"
      ],
      "metadata": {
        "id": "YnKI9v0b6jgG"
      }
    },
    {
      "cell_type": "code",
      "source": [
        "import sqlite3\n",
        "\n",
        "# インメモリデータベースに接続する\n",
        "con = sqlite3.connect(\":memory:\")\n",
        "\n",
        "# カーソルを作成\n",
        "cur = con.cursor()\n",
        "assert cur.connection == con\n",
        "\n",
        "# テーブルを作成するコマンドを実行\n",
        "cur.execute(\"CREATE TABLE lang(name, first_appeared)\")\n",
        "\n",
        "# 名前付きスタイルの例:\n",
        "data = (\n",
        "    {\"name\": \"C\", \"year\": 1972},\n",
        "    {\"name\": \"Fortran\", \"year\": 1957},\n",
        "    {\"name\": \"Python\", \"year\": 1991},\n",
        "    {\"name\": \"Go\", \"year\": 2009},\n",
        ")\n",
        "cur.executemany(\"INSERT INTO lang VALUES(:name, :year)\", data)\n",
        "\n",
        "# qmark スタイルの例:\n",
        "params = (1972,)\n",
        "cur.execute(\"SELECT * FROM lang WHERE first_appeared = ?\", params)\n",
        "\n",
        "# データをリストで取得\n",
        "print(cur.fetchall())\n",
        "\n",
        "res = cur.execute(\"SELECT * FROM lang\")\n",
        "# カラム名を取得\n",
        "print(f\"{[col for col, *_ in res.description]}\")\n",
        "# カーソルオブジェクトはイテレーター\n",
        "for row in res:\n",
        "    print(row)\n",
        "\n",
        "con.close()"
      ],
      "metadata": {
        "colab": {
          "base_uri": "https://localhost:8080/"
        },
        "id": "aH1w_65n0J-H",
        "outputId": "0df61ceb-c81f-43f0-940d-0884722bda6a"
      },
      "execution_count": null,
      "outputs": [
        {
          "output_type": "stream",
          "name": "stdout",
          "text": [
            "[('C', 1972)]\n",
            "['name', 'first_appeared']\n",
            "('C', 1972)\n",
            "('Fortran', 1957)\n",
            "('Python', 1991)\n",
            "('Go', 2009)\n"
          ]
        }
      ]
    },
    {
      "cell_type": "markdown",
      "source": [
        "このコードでは、DB-API の作法に従って、カーソルオブジェクト `cur` を作成し、処理を行っている。実のところ、`sqlite3` では、コネクションオブジェクトのショートカット・メソッド `execute()` と `executemany()` と `executescript()` を使うことで、カーソルオブジェクトを暗黙裡に作成してクエリを実行できる。カーソルオブジェクトが必要になるのは、結果をフェッチやイテレーターで取得する場合だけで済む。"
      ],
      "metadata": {
        "id": "mMrA8Kq9RDV7"
      }
    },
    {
      "cell_type": "markdown",
      "source": [
        "SQL 基本文法\n",
        "------------"
      ],
      "metadata": {
        "id": "YasxaXNRrDnE"
      }
    },
    {
      "cell_type": "markdown",
      "source": [
        "### 識別子とキーワード ###"
      ],
      "metadata": {
        "id": "4kP8qFEZrEhd"
      }
    },
    {
      "cell_type": "markdown",
      "source": [
        "SQL 識別子は、テーブル・カラム・データベースなどの名前のことである。\n",
        "\n",
        "  * 英数文字、非 Latin 文字、アンダースコア `_` は、識別子に使用できる。\n",
        "  * 識別子の先頭に数字を使うことはできない。\n",
        "  * 一部の字句はキーワードとして予約され、識別子に使用することはできない。\n",
        "\n",
        "以下は、標準 SQL でもほとんどの RDBMS 製品でもキーワードとして予約される。\n",
        "\n",
        "``` text\n",
        "ALL  AND  AS  CASE  COLLATE  COLUMN  CONSTRAINT  CREATE  CROSS  CURRENT_DATE  CURRENT_TIME\n",
        "CURRENT_TIMESTAMP  DISTINCT  ELSE  END  EXCEPT FOR  FOREIGN  FROM  FULL  GROUP  HAVING  IN\n",
        "INNER  INTO  IS  JOIN  LEFT  LIKE  NATURAL  NOT  NULL  ON  OR  ORDER  OUTER OVER PRIMARY\n",
        "REFERENCES  RIGHT  SELECT  TABLE  THEN  TO  UNION  UNIQUE  USING  WHEN  WHERE  WINDOW  WITH\n",
        "```\n",
        "\n",
        "SQLite のキーワードの全体は、公式ドキュメントの [SQLite Keywords](https://www.sqlite.org/lang_keywords.html) を参照。"
      ],
      "metadata": {
        "id": "BR57Z5SUrGyN"
      }
    },
    {
      "cell_type": "markdown",
      "source": [
        "### 基本文法 ###"
      ],
      "metadata": {
        "id": "16r5aTTtrJok"
      }
    },
    {
      "cell_type": "markdown",
      "source": [
        "SQL は、 `文;` が繰り返された形になる。文では、大文字・小文字を区別しない。一般には、可読性を高めるためキーワードは大文字で書き、識別子は小文字とする。\n",
        "\n",
        "コメントを記述したい場合には、次の 2 通りの方法がある。\n",
        "\n",
        "``` sql\n",
        "-- コメント\n",
        "```\n",
        "\n",
        "`--` から行末までに記述された文字列をコメントとする。\n",
        "\n",
        "``` sql\n",
        "/* コメント */\n",
        "```\n",
        "\n",
        "`/*` から `*/` までに記述された文字列をコメントとする。\n",
        "\n",
        "\n",
        "``` sql\n",
        "SELECT * FROM personal; -- リスト\n",
        "SELECT * FROM /* リストテーブル */ personal;\n",
        "```"
      ],
      "metadata": {
        "id": "dav0yS_-rMGh"
      }
    },
    {
      "cell_type": "markdown",
      "source": [
        "### リテラル ###"
      ],
      "metadata": {
        "id": "WY3GruQsrPFo"
      }
    },
    {
      "cell_type": "markdown",
      "source": [
        "SQL のリテラル（定数）は、次のとおり。\n",
        "\n",
        "  * 文字列: シングルクォート `'` で囲む。 例) `'This is a string'`\n",
        "  * BLOB: Python のバイト列に相当し、`X` で始まる 16 進表記とする。 例) `X'1FF'`\n",
        "  * 整数: Python の整数と同様。`0x` で始まる 16 進表記も使える。\n",
        "  * 実数: Python の浮動小数点数と同様。 `e` を含む指数記法も使える。\n",
        "  * NULL: `NULL` で表す。\n",
        "\n",
        "キーワードを識別子に使用すると文法違反になるが、識別子を記述すべきところにキーワードの文字列を記述すると、文字列リテラル値が識別子として扱われ、キーワードを識別子に使用するのと同等となる。\n",
        "\n",
        "``` sql\n",
        "CREATE TABLE 'select'(id, name);  -- select をテーブル名として使用する\n",
        "```\n",
        "\n",
        "SQLite の文字列は、ダブルクォート `\"` にも対応しているので、上記は `\"select\"` と書いてもよい。\n",
        "\n",
        "一方、SQLite の文字列では `'\\'` を使ったエスケープは使えない。文字列中のシングルクォートは、連続するシングルクオート 2 文字 `''` で表現できる。\n",
        "\n",
        "また、SQLite では真理値のリテラルがない。代わりに整数を使用して、`1` で真を、`0` で偽を表す。"
      ],
      "metadata": {
        "id": "lU7gcA9OrRMd"
      }
    },
    {
      "cell_type": "markdown",
      "source": [
        "### データ型 ###"
      ],
      "metadata": {
        "id": "x-rX2rd6rT6i"
      }
    },
    {
      "cell_type": "markdown",
      "source": [
        "標準 SQL ではデータ型がサポートされ、テーブルを定義する際にデータ型を指定できる。以下のデータ型が定義されている（括弧内はデータ型の別名）。\n",
        "\n",
        "  * 数値データ型: `SMALLINT`、`INTEGER`（`INT`）、`REAL`、`DOUBLE PRECISION`、`FLOAT`、`DECIMAL`（`DEC`）、`NUMERIC`\n",
        "  * 文字データ型: `CHARACTER`（`CHAR`）、`CHARACTER VARYING`（`VARCHAR`）、`NATIONAL CHARACTER`（`NCHAR`）、`NATIONAL CHARACTER VARYING`（`NVARCHAR`）、`CHARACTER LARGE OBJECT`（`CLOB`）\n",
        "  * 日時データ型: `DATE`、`TIME`、`TIMESTAMP`、`INTERVAL`\n",
        "  * ビット・バイナリデータ型: `BIT`、`BIT VARYING`、`BINARY LARGE OBJECT`（`BLOB`）\n",
        "  * 論理値データ型: `BOOLEAN`\n",
        "\n",
        "また、標準 SQL ではデータ型を変換する関数 `CAST` も定義されている:\n",
        "\n",
        "``` sql\n",
        "CAST(X AS 型名)\n",
        "```\n",
        "\n",
        "この関数は、式 `X` の型を `型名` で表されるデータ型に変換する。\n",
        "\n",
        "ただし、各 RDBMS 製品でサポートされるデータ型は異なる。SQLite のデータ型は、次の 5 種類のみサポートされる。\n",
        "\n",
        "  * `NULL`： NULL 値\n",
        "  * `INTEGER`: 値の大きさに応じて 1, 2, 3, 4, 6, 8 バイトで保存される符号付き整数\n",
        "  * `REAL`: IEEE 方式の倍精度浮動小数点数\n",
        "  * `TEXT`: UTF-8, UTF-16BE, UTF-16LE でエンコードされた文字列\n",
        "  * `BLOB`: 入力のままのバイナリデータ\n",
        "\n",
        "SQLite では、標準 SQL のデータ型との互換性を持たせるために、データ変換の仕組みが用意されている。この仕組みは Type Affinity と呼ばれる。具体的には、文の中に書かれた型名を文字列の部分一致で Type Affinity を割り当てる。マッチは、次の優先順位で調べられる。\n",
        "\n",
        "  1. `INT` が含まれていた場合は、INTEGER affinity\n",
        "  2. `CHAR`, `CLOB`, `TEXT` が含まれていた場合は TEXT affinity\n",
        "  3. `BLOB` が含まれていた場合は、BLOB affinity\n",
        "  4. `REAL`, `FLOA`, `DOUB` が含まれていた場合は REAL affinity\n",
        "  5. それ以外の場合は全て NUMERIC affinity\n",
        "\n",
        "標準 SQL では、テーブルを定義する際にカラムに対してデータ型が指定され、そのカラムに格納される値が規定される。ところが、SQLite では、指定されたデータ型の型名からカラムに Type Affinity が割り当てられることになる。カラムにデータを格納するとき、Type Affinity は以下のように働く。\n",
        "\n",
        "  * TEXT affinity： `NULL`, `TEXT`, `BLOB` 型のデータを格納可能。その他のデータは文字列に変換して格納。\n",
        "  * NUMERIC affinity： すべてのデータ型の値を格納可能。文字列を格納する場合、`INTEGER`, `REAL` の順で変換を試み、変換すると一部の情報が欠けるときは文字列のまま格納するが、そうでなければ変換して格納する。`NULL`, `BLOB` 型の値は、変換せずに格納。\n",
        "  * INTEGER affinity： NUMERIC affinity と同じ動作である。\n",
        "  * REAL affinity： 基本的に NUMERIC affinity と同じ動作であるが、整数形式の値の場合、`REAL` 型の値に変換して格納する。\n",
        "  * BLOB affinity： どんな型の値でも変換せずに格納する。\n",
        "\n",
        "NUMERIC affinity または INTEGER affinity を持つカラムでは、先に `INTEGER` 型への変換が試行されるため、たとえば文字列 `'3.0e+5'` は、浮動小数点数値 `300000.0` としてではなく、整数 `300000` としてそのカラムに格納される。\n",
        "\n",
        "どの Type Affinity でも、`NULL`, `BLOB` 型の値は変換されず、そのままカラムに格納される。\n",
        "\n",
        "Type Affinity により、**SQLite ではカラムの型は『推奨される型』として扱われるにすぎない**。たとえば、`INTEGER` の指定が付いたカラムであっても文字列が格納されていることがある。\n",
        "\n",
        "この Type Affinity は `CAST` 関数にも働く。実際、`AS` の後ろの型名から Type Affinity が割り当てられ、`CAST` 関数に渡された値に対して、カラムにデータを格納するときと同様の変換を試行する。ただし、NUMERIC affinity と INTEGER affinity では、`CAST` 関数が返す値に違いがある。INTEGER affinity では、整数への変換が一部の情報が欠けるときでも行われる。たとえば、`CAST(4.0 AS NUMERIC)` は値を浮動小数点数 `4.0` のままにするのに対して、`CAST(4.0 AS INT)` は整数 `4` を返す。\n",
        "\n",
        "値のデータ型は `typeof` 関数を使って取得することができる。\n",
        "\n",
        "``` sql\n",
        "typeof(X)\n",
        "```\n",
        "\n",
        "この関数は、式 `X` のデータ型を示す文字列 `'null'`, `'integer'`, `'real'`, `'text'`, `'blob'` のいずれかを返す。\n",
        "\n",
        "また、SQLite ではデータのリスト、および、レコードのリスト（行列）を扱うことができる。\n",
        "\n",
        "`sqlite3` では、Python の型と SQLite の型を以下のように対応させている:\n",
        "\n",
        "| Python の型 | SQLite の型\n",
        "|:---|:---|\n",
        "| `None` | `NULL` |\n",
        "| `int` | `INTEGER` |\n",
        "| `float` | `REAL` |\n",
        "| `str` | `TEXT` |\n",
        "| `bytes` | `BLOB` |"
      ],
      "metadata": {
        "id": "Q0gaNIYQrV11"
      }
    },
    {
      "cell_type": "markdown",
      "source": [
        "### 日時 ###"
      ],
      "metadata": {
        "id": "0yuyCI6Orb3e"
      }
    },
    {
      "cell_type": "markdown",
      "source": [
        "標準 SQL では、以下の関数を呼び出すことができる。\n",
        "\n",
        "  * `CURRENT_DATE`: システムの現在の日付（UTC）を返す\n",
        "  * `CURRENT_TIME`: システムの現在の時刻（UTC）を返す\n",
        "  * `CURRENT_TIMESTAMP`: システムの現在の日付と時刻（UTC）を返す\n",
        "\n",
        "これらの関数は括弧 `()` なしで呼び出すことができる。\n",
        "\n",
        "SQLite は、上記 3 つの `CURRENT_*` 関数をサポートするが、標準 SQL の日時データ型を全くサポートしていない。代わりに、以下の形式を日付と時刻のデータとして扱う。\n",
        "\n",
        "  * `TEXT`: ISO 8601 形式\n",
        "      * `YYYY-MM-DD` 形式: 日付（`CURRENT_DATE` 関数が返す形式）\n",
        "      * `HH:MM:SS` 形式: 時刻（`CURRENT_TIME` 関数が返す形式）\n",
        "      * `YYYY-MM-DD HH:MM:SS` 形式: 日時（`CURRENT_TIMESTAMP` 関数が返す形式）\n",
        "  * `REAL`: ユリウス暦紀元前 4713 年 1 月 1 日をエポックとして、そこからの日数を整数部、時分秒を小数部で表す値\n",
        "  * `INTEGER`: Unix エポック秒"
      ],
      "metadata": {
        "id": "bkLcF52Trc8k"
      }
    },
    {
      "cell_type": "markdown",
      "source": [
        "### 演算子 ###"
      ],
      "metadata": {
        "id": "7qtW-bZ9qwY1"
      }
    },
    {
      "cell_type": "markdown",
      "source": [
        "**論理演算子**:\n",
        "\n",
        "| 演算子 | 意味 |\n",
        "|:---|:---|\n",
        "| `NOT X` | `X`が 1（TRUE）の場合に 0（FALSE）を返し、0（FALSE）の場合に 1（TRUE）を返す |\n",
        "| `X AND Y` | `X` と `Y` のブール式の両方が 1（TRUE）の場合に 1（TRUE）を返す |\n",
        "| `X OR Y` | `X` と `Y` のブール式の片方が 1（TRUE）の場合に 1（TRUE）を返す |\n",
        "| `X XOR Y` | `X` と `Y` のブール式の結果が同じ場合に 0（FALSE）、違う場合は 1（TRUE）を返す |\n",
        "\n",
        "`X`, `Y` が `NULL` になる場合は次のようになる。\n",
        "\n",
        "  * `NOT NULL` は `NULL` を返す。\n",
        "  * `0 AND NULL` は 0 (FALSE) を返し、`1 AND NULL` と `NULL AND NULL` は `NULL` を返す。\n",
        "  * `1 OR NULL` は 1 (TRUE) を返し、`0 OR NULL` と `NULL OR NULL` は `NULL` を返す。\n",
        "  * `1 XOR NULL` と `0 XOR NULL`、 `NULL XOR NULL` はすべて `NULL` を返す。\n",
        "\n",
        "**比較演算子**:\n",
        "\n",
        "| 演算子 | 意味 |\n",
        "|:---|:---|\n",
        "| `X = Y` | `X` と `Y` が等しい |\n",
        "| `X <> Y` | `X` と `Y` が等しくない（SQLite では `!=` も使えるが `<>` のほうが標準） |\n",
        "| `X > Y` | `X` より `Y` が小さい |\n",
        "| `X >= Y` | `X` が `Y` 以上 |\n",
        "| `X < Y` | `X` より `Y` が大きい |\n",
        "| `X <= Y` | `X` が `Y` 以下 |\n",
        "\n",
        "これらの比較は、評価結果が 1 (TRUE)、0 (FALSE)、または `NULL` のいずれかになる。`X` または `Y`、もしくは `X` と `Y` 両方が `NULL` の場合は、評価結果が `NULL` になる。\n",
        "\n",
        "SQLite では異なるデータ型でも比較でき、Type Affinity に基づいてデータ型の変換が行われる。[公式ドキュメント](https://www.sqlite.org/datatype3.html#type_conversions_prior_to_comparison)によると\n",
        "\n",
        "  * 片方が格納されていたカラムに INTEGER affinity, REAL affinity または NUMERIC affinity が付いていて、もう片方が格納されていたカラムに TEXT affinity, BLOB affinity が付いていたか、あるいはリテラルを直接書いたものである場合、後者に NUMERIC affinity が適用される。\n",
        "  * 片方が格納されていたカラムに TEXT affinity が付いていて、もう片方はリテラルを直接書いたものである場合、後者に TEXT affinity が適用される。\n",
        "  * それ以外の場合は変換は行われず、データそのもので比較される。\n",
        "\n",
        "比較の際のデータ型の変換はカラムへの格納の場合と同様であり、一部の情報が欠けてしまう場合は変換されずそのままの型として比較される。\n",
        "\n",
        "| 演算子 | 意味 |\n",
        "|:---|:---|\n",
        "| `X IS NULL` | `X` が `NULL` である |\n",
        "| `X IS NOT NULL` | `X` が `NULL` でない |\n",
        "| `X IN (Y, Z, ...)` | `X = Y OR X = Z OR ...` が 1（TRUE）である |\n",
        "| `X NOT IN (Y, Z, ...)` | `NOT (X = Y OR X = Z OR ...)` が 1（TRUE）である |\n",
        "| `X BETWEEN Y AND Z` | `X >= Y AND X <= Z` が 1（TRUE）である（ただし `X` は一度しか評価されない） |\n",
        "| `X LIKE パターン [ ESCAPE '文字' ]` | `X` がパターンにマッチする |\n",
        "\n",
        "これらの比較は、評価結果が 1 (TRUE)、0 (FALSE) のいずれかになる。とくに、`NOT IN` については、`(Y, Z, ...)` の中に `NULL` が含まれると、つねに 0 (FALSE) を返すことに注意。\n",
        "\n",
        "`LIKE` 演算子については、パターンにメタ文字として `%` と `_` が使える。パターンの中では、 `%` は任意の 0 文字以上の文字列にマッチし、 `_` は任意の 1 文字にマッチする。ASCII 範囲の大文字と小文字は区別されない。また、オプションの `ESCAPE '文字'` を指定すると、`'文字'` をエスケープ文字として扱う。たとえば、`ESCAPE '$'` とすると、パターン中の `$%` は `%` そのものにマッチする。\n",
        "\n",
        "なお、SQLite では `LIKE` 演算子より高度なパターンマッチ検索ができる `GLOB` 演算子が用意されている。`GLOB` 演算子ではメタ文字として正規表現 `[]`, `*`, `?` が使えるほか、大文字と小文字が区別される。メタ文字をエスケープしたい場合には `[]` で囲う（たとえば `'[*]'` は文字 `*` にマッチする）。`LIKE` 演算子とは異なり `GLOB` 演算子ではメタ文字をエスケープする方法を選択できない。\n",
        "\n",
        "**文字列演算子**:\n",
        "\n",
        "| 演算子 | 意味 |\n",
        "|:---|:---|\n",
        "| `文字列1 \\|\\| 文字列2` | 連結 |\n",
        "\n",
        "**その他の演算子**:\n",
        "\n",
        "SQL でも四則演算、剰余演算、ビット演算について Python と同様の演算子が使える。演算の優先順位は文字列演算が最も高く、次に四則演算および剰余演算が高く、以下、ビット演算、比較演算、論理演算の順となる。ただし、丸括弧 `()` の中の演算が先に評価される。"
      ],
      "metadata": {
        "id": "NhR1k4aFqxPQ"
      }
    },
    {
      "cell_type": "markdown",
      "source": [
        "### 関数 ###"
      ],
      "metadata": {
        "id": "eFWJjFjTlsfa"
      }
    },
    {
      "cell_type": "markdown",
      "source": [
        "標準 SQL では、以下の関数を使うことができる。\n",
        "\n",
        "| 関数 | 機能 |\n",
        "|:---|:---|\n",
        "| `NULLIF(X, Y)` | `X` と `Y` が同じ値ならば `NULL` を返し、そうでなければ `X` を返す |\n",
        "| `COALESCE(X, Y, ...)` | `NULL` でない最初の引数を返す。全ての引数が `NULL` の場合は最後の引数を返す。少なくとも 2 つの引数が必要 |\n",
        "\n",
        "SQLite を含む一部の RDBMS 製品では、以下の関数を使うことができる。\n",
        "\n",
        "| 関数 | 機能 |\n",
        "|:---|:---|\n",
        "| `LENGTH(X)` | 文字列 `X` の文字数を返す |\n",
        "| `REPLACE(X, Y, Z)` | 文字列 `X` に含まれる全ての文字列 `Y` を文字列 `Z` に置き換えた文字列を返す。大文字小文字が区別される |\n",
        "| `SUBSTRING(X, Y [,Z])` | 文字列 `X` の位置 `Y` から文字数 `Z` の部分文字列を返す。 `Z` を省略した場合は位置 `Y` から末尾までの部分文字列を返す |\n",
        "| `ABS(X)` | `X` の絶対値を返す |\n",
        "| `ROUND(X, [,Y])` | `X` の小数部を `Y` 桁に丸めた浮動小数点数を返す。`Y` を省略した場合は 0 桁に丸めた浮動小数点数を返す |\n",
        "| `POWER(X, Y)` | `X` の `Y` 乗を返す |\n",
        "| `RANDOM()` | 疑似乱数値を返す。SQLite3 では `-9223372036854775808` ～ `+9223372036854775807` の範囲の整数となる |\n",
        "| `HEX(X)` | `X` を 16 進数形式の文字列に変換する |"
      ],
      "metadata": {
        "id": "fVys2AHfltwL"
      }
    },
    {
      "cell_type": "markdown",
      "source": [
        "データ定義\n",
        "----------"
      ],
      "metadata": {
        "id": "Q5qrqO43j6gN"
      }
    },
    {
      "cell_type": "markdown",
      "source": [
        "以下の標準 SQL のコマンドは、DDL に分類される。DDL は、Data Definition Language（データ定義言語）の略で、テーブルの作成・削除や、各種設定に使用するコマンドである。\n",
        "\n",
        "  * `CREATE`\n",
        "  * `ALTER`\n",
        "  * `DROP`"
      ],
      "metadata": {
        "id": "x4ZYuGubj7Nm"
      }
    },
    {
      "cell_type": "markdown",
      "source": [
        "### CREATE TABLE 文 ###"
      ],
      "metadata": {
        "id": "6YGgnQXgmlkq"
      }
    },
    {
      "cell_type": "markdown",
      "source": [
        "`CREATE` は、テーブルなどを新しく作成するコマンドである。\n",
        "\n",
        "``` sql\n",
        "CREATE TABLE テーブル名(カラム定義1, カラム定義2, ...);\n",
        "```\n",
        "\n",
        "`CREATE TABLE` コマンドはテーブルを新しく作成する。SQLite では、`CREATE TABLE IF NOT EXISTS テーブル名(...)` とすることで、テーブルが存在しないなら作成するようになり、作成済みのテーブルを作ろうとするエラーを防ぐことができる。\n",
        "\n",
        "テーブル名は任意の識別子を指定できる。ただし、SQLite では、`'sqlite_'` で始まるテーブル名は SQLite 自体が使用するため指定できない。\n",
        "\n",
        "カラム定義は `カラム名 データ型` の形式である。ただし、SQLite では、データ型の指定が省略可能であり、もしデータ型が指定されても Type Affinity が割り当てられる。たとえば、`CREATE TABLE t1(a INT, b VARCHAR(10));` は、`a` カラムに INTEGER affinity が付き、`b` カラムに TEXT affinity が付く。\n",
        "\n",
        "`CREATE TABLE` コマンドで、カラムやカラムの組み合わせに以下のような制約を付けることができる。\n",
        "\n",
        "  * DEFAULT 制約\n",
        "  * NOT NULL 制約\n",
        "  * UNIQUE 制約\n",
        "  * PRIMARY KEY 制約\n",
        "  * CHECK 制約\n",
        "  * FOREIGN KEY 制約\n",
        "\n",
        "``` sql\n",
        "CREATE TABLE テーブル名(カラム定義 DEFAULT 値, ...);\n",
        "```\n",
        "\n",
        "`DEFAULT 値` は、カラムに DEFAULT 制約、すなわち、レコードの追加時にそのカラムの値が省略されている場合のデフォルト値を設定する。デフォルト値にはリテラルを指定でき、さらに、`CURRENT_DATE`, `CURRENT_TIME`, `CURRENT_TIMESTAMP` 関数を指定することもできる。\n",
        "\n",
        "`DEFAULT 値` の指定がないカラムは、デフォルト値が `NULL` とされる（つまり、`カラム定義 DEFAULT NULL` と宣言している場合と同等）。\n",
        "\n",
        "``` sql\n",
        "CREATE TABLE テーブル名(カラム定義 NOT NULL, ...);\n",
        "```\n",
        "\n",
        "`NOT NULL` は、カラムに NOT NULL 制約を付ける。NOT NULL 制約を付けたカラムには、`NULL` が格納されると（デフォルト値として `NULL` が格納される場合を含む）、エラーが発生する。\n",
        "\n",
        "``` sql\n",
        "CREATE TABLE テーブル名(カラム定義 UNIQUE, ...);\n",
        "CREATE TABLE テーブル名(カラム定義1, カラム定義2, ... , UNIQUE(カラム名1, カラム名2, ...));\n",
        "```\n",
        "\n",
        "`UNIQUE` は、カラムやカラムの組み合わせに UNIQUE 制約を付ける。1 行目の形は単一のカラムの値に UNIQUE 制約を付け、2 行目の形は複数のカラム値の組み合わせに UNIQUE 制約を付ける。UNIQUE 制約を付けたカラム（の組み合わせ）に、すでに格納された値と同じ（組み合わせの）値を格納しようとするとエラーが発生する。ただし、`NULL` は他の `NULL` を含むすべての値とは異なるものとみなされる。つまり、`NULL` の重複はエラーにならない。\n",
        "\n",
        "``` sql\n",
        "CREATE TABLE テーブル名(カラム定義 PRIMARY KEY, ...);\n",
        "CREATE TABLE テーブル名(カラム定義1, カラム定義2, ... , PRIMARY KEY(カラム名1, カラム名2, ...));\n",
        "```\n",
        "\n",
        "`PRIMARY KEY` は、カラムやカラムの組み合わせをテーブルの主キーに設定する。主キーは、そのテーブルの各レコードを一意に特定するためのカラムやカラムの組み合わせであり、各テーブルに 1 つだけ設定できる。1 行目の形は単一のカラムを主キーとし、2 行目の形はカラムの組み合わせを主キーとする。\n",
        "\n",
        "たとえば、次のようなテーブルを作成する場合、社員番号で各レコードを一意に特定できるので、社員番号を主キーに設定できる。\n",
        "\n",
        "| 社員番号 | 氏名 | 所属 | 住所 |\n",
        "|---:|:---|:---|:---|\n",
        "| 1044092 | 山田太郎 | 営業部 | 東京都世田谷区... |\n",
        "| 1102600 | 山田花子 | 人事部 | 東京都世田谷区... |\n",
        "| 1153711 | 渡辺次郎 | 人事部 | 神奈川県横浜市... |\n",
        "\n",
        "また、次のようなテーブルを作成する場合、どのカラムでもレコードを一意に特定できない。\n",
        "\n",
        "| 学年 | 組 | 出席番号 | 氏名 |\n",
        "|---:|:--:|---:|:---|\n",
        "| 1 | A | 1 | 山田太郎 |\n",
        "| 1 | A | 2 | 山田花子 |\n",
        "| 1 | B | 1 | 渡辺次郎 |\n",
        "\n",
        "この場合、学年と組と出席番号の組み合わせなら各レコードを一意に特定できるので、主キーとすることができる。このようにカラムの組み合わせとする主キーを**複合主キー**と呼ぶ。\n",
        "\n",
        "標準 SQL では、主キーのカラムに NOT NULL 制約および UNIQUE 制約が課せられる。しかし、**SQLite では、主キーに NOT NULL 制約は課せられない**。主キーの値に `NULL` を許可したくない場合は、NOT NULL 制約も付けるとよい。たとえば、`CREATE TABLE t1(a, b NOT NULL PRIMARY KEY);`。\n",
        "\n",
        "PRIMARY KEY 制約と UNIQUE 制約の違いは、次のとおり。\n",
        "\n",
        "| 制約 | 制約の個数 | 主キーが INTEGER 型の場合 |\n",
        "|:---|:---|:---|\n",
        "| PRIMARY KEY 制約 | 各テーブルに 1 つだけ設定できる | 省略時に連番機能が働く |\n",
        "| UNIQUE 制約 | テーブルに複数設定できる | 特別の機能はない |\n",
        "\n",
        "`CREATE TABLE t1(a, b INTEGER PRIMARY KEY);` のように、単一のカラムを主キーとする場合にそのカラム定義で `INTEGER` を指定した形では、新しいレコードを追加するときに対象のカラムの値を省略すると、自動的に整数値が格納される。カラムに格納される値は、対象のカラムに現在格納されている最大の値に 1 を加えた値となる。\n",
        "\n",
        "この連番機能は、INTEGER affinity 全般には働かない。たとえば、`CREATE TABLE t1(a INT PRIMARY KEY, b VARCHAR(10));` の場合、主キーである `a` カラムの値を省略してレコードを追加すると、連番が自動的に割り振られることはなく、`NULL` が格納される。\n",
        "\n",
        "また、INTEGER affinity が付いたカラムとは異なり、`INTEGER PRIMARY KEY` が付いたカラムでは、整数値のみが許可される。`'5'` のような文字列は整数に変換して格納されるが、`'5.0'` など変換すると一部の情報が欠けるような文字列の場合は変換できずエラーが発生する。もちろん、`NULL` は許可されない。\n",
        "\n",
        "`INTEGER PRIMARY KEY` の指定には、もう 1 つ隠れた機能がある。実は SQLite は、各テーブルに `ROWID` カラムを自動的に追加し、この `ROWID` カラムに、レコードを一意に識別できる値を格納する。`INTEGER PRIMARY KEY` が付いたカラムは `ROWID` カラムのエイリアスになり、`ROWID` カラムを保存する必要がなくなるため、ストレージ使用量削減、処理高速化が可能となる。\n",
        "\n",
        "``` sql\n",
        "CREATE TABLE テーブル名(カラム名 CHECK(条件式), ...);\n",
        "CREATE TABLE テーブル名(カラム名1, カラム名2, ... , CHECK(条件式));\n",
        "```\n",
        "\n",
        "`CHECK` は、カラムに CHECK 制約を付ける。CHECK 制約を付けたカラムに値を格納するときに `条件式` が評価され、結果が `0` の場合はエラーが発生する。たとえば、`CREATE TABLE t1(a, b INTEGER check(b >= 1 AND b < 100));` の場合、`b` カラムの値は 1 以上 100 未満の整数のみ許可される。`条件式` の評価が `NULL` を返す場合はエラーが発生しないことに注意する。\n",
        "\n",
        "``` sql\n",
        "CREATE TABLE テーブル名(カラム定義1, カラム定義2, ... , FOREIGN KEY(カラム名) REFERENCES 他のテーブル名(参照先カラム名), ...);\n",
        "```\n",
        "\n",
        "`FOREIGN KEY/REFERENCES` は、外部キー制約を付ける。外部キー制約を付けたカラムに値を格納するときに、その値が他のテーブルの参照先カラムに存在しなければエラーが発生する。SQLite の場合、外部キー制約はデフォルトでは無効になっている（エラーが発生しない）。次のコマンドを実行することで、外部キー制約を有効化することができる。\n",
        "\n",
        "``` sql\n",
        "PRAGMA foreign_keys = ON;\n",
        "```\n",
        "\n",
        "`CREATE TABLE` コマンドは、既存のテーブルのデータから新しいテーブルを作成することもできる。\n",
        "\n",
        "``` sql\n",
        "CREATE TABLE テーブル名 AS SQL文;\n",
        "```\n",
        "\n",
        "`AS` に続く SQL 文は、既存のテーブルからレコードのリスト（行列）を返すものでなければならない。SQL 文が空のリストを返すときは、カラム定義だけが新しいテーブルにコピーされる。SQLite の場合、主キーは設定されないことに注意する。"
      ],
      "metadata": {
        "id": "V0Mkdb0ZmnDT"
      }
    },
    {
      "cell_type": "markdown",
      "source": [
        "### CREATE INDEX 文 ###"
      ],
      "metadata": {
        "id": "7SurKFxHd2jd"
      }
    },
    {
      "cell_type": "markdown",
      "source": [
        "``` sql\n",
        "CREATE INDEX インデックス名 ON テーブル名(カラム名1, カラム名2, ...);\n",
        "```\n",
        "\n",
        "`CREATE INDEX` コマンドは、テーブルに含まれるカラムを対象として検索用のインデックス（検索インデックス）を作成する。\n",
        "\n",
        "SQLite では、`CREATE INDEX IF NOT EXISTS インデックス名 ON テーブル名(...)` とすることで、インデックスが存在しないなら作成するようになり、作成済みのインデックスを作ろうとするエラーを防ぐことができる。\n",
        "\n",
        "検索インデックスは、RDBMS が特定のカラム値のあるレコードをすばやく見つけるために使用される。検索インデックスがないと、RDBMS はレコードを見つけるために、先頭行から始めてテーブル全体を読み取る（テーブルスキャン）必要がある。計算量はデータ量 $n$ に対して $O(n)$ となるから、テーブルの大きさに比例して計算時間が増大する。\n",
        "\n",
        "検索インデックスが作成されている場合とされていない場合でデータ検索の仕方に違いはない。テーブルに対して検索を行ったとき、検索インデックスが作成されていれば自動的に検索インデックスを利用して検索が行われる。また、データを更新したとき、検索インデックスも自動的に更新される。このように、一度検索インデックスを作成してしまえば、その後の操作で検索インデックスを意識する必要はない。\n",
        "\n",
        "多くの RDBMS 製品（含 SQLite）では、検索インデックスに B+-tree と呼ばれる木構造を採用している。たとえば、整数値（1, 2, 3, 4, 5, 6, 7）を含むカラムに検索インデックスを作成し、下図のような B+-tree が構築されたとする（Wikimedia Commons から引用）。\n",
        "\n",
        "![](https://upload.wikimedia.org/wikipedia/commons/thumb/3/37/Bplustree.png/320px-Bplustree.png)\n",
        "\n",
        "この B+-tree では、各ノードにカラム値がソートされた状態で保存され、末端のノード（リーフノード）がレコードへの参照(`ROWID`)を持っていて、他のノードは子ノードへの参照を持っている。検索するときは、まずルートノードへ行く。このルートノードには 3, 5 があり、検索対象のカラム値が 3 未満なら左側の枝でつながる子ノードに行き、3 以上 5 未満なら中央の枝でつながる子ノードに行き、5 以上なら右側の枝でつながる子ノードに行く。リーフノードにたどり着いたら、そこに検索対象のカラム値があれば DBMS はレコードを返し、なければ目的のレコードは存在しないと判断する。どのリーフノードもルートノードからの距離が同じなので、どんなカラム値でもほぼ同じ時間で処理できる。\n",
        "\n",
        "リーフノードはカラム値でソートされていることに注目する。リーフノードがソートされていなければ、上記のような手順で目的のリーフノードにたどり着くことはできない。データの変更や追加があった時は、リーフノードのソート状態が壊れないように各ノードの参照先の付け替えが行われる。\n",
        "\n",
        "B+-tree の検索と更新にかかる時間は、データ量 $n$ に対して $O(\\log n)$ であることが知られている。\n",
        "\n",
        "複数のカラムにまたがる 1 つのインデックスのことを**複合インデックス**という。複合インデックスでは、複数のカラムを指定した順に辞書式順序でデータの順序付けを行い、木構造を作成する。例えば、 `CREATE INDEX idx_col1_col2 ON table(col1, col2);` とした場合、まず `col1` カラムの値の大小で順番が決まり、`col1` カラムの値が同じならば `col2` カラムの値の大小で順番が決まる。リーフノードをみると、`col1` カラムの値ではソートされているが、`col2` カラムの値ではソートされていないことになる。このため、複合インデックスから 2 つ目以降のカラムのみを選んで検索に使うことはできない。\n",
        "\n",
        "一方、複合主キーを指定した検索では、単一のカラムで作成されたインデックスは使用されないことに注意する。\n",
        "\n",
        "複合インデックスの仕組みから、カラムの順番が重要で、カラムの順番が違えば複合インデックスとして違うものとなる。複合インデックスが複合主キーを指定した検索で使われるためには、カラムの順番を複合主キーと複合インデックスとで一致させておく必要がある。\n",
        "\n",
        "インデックスの作成は、検索が高速化するメリットがあるだけでなく、以下のようなデメリットもある。\n",
        "\n",
        "  * 検索インデックスを保存する分、ストレージを消費する。\n",
        "  * 不等号 `>`, `<`, `>=`, `<=` を使った条件による検索ではあまり効果がない。\n",
        "  * 検索インデックスを作成していないカラムを指定した検索では全く効果がない。\n",
        "  * データの更新にかかる時間が（検索インデックスの更新も行われる分）増える。\n",
        "\n",
        "このため、インデックスを作成するカラムは、検索で使われるかどうかをよく吟味する必要がある。\n",
        "\n",
        "また、インデックスを作成するカラムのカーディナリティにも注意する。**カーディナリティ**（cardinality）とは、カラム内に存在する異なる値の数（バリエーション）のことである。インデックスは、カーディナリティが大きいほどデータを絞り込めるので、検索高速化の効果がある。 UNIQUE 制約の付いたカラムなら、レコードごとに異なる値を持つので簡単に 1 つのデータを絞り込める。一方、2 つの値しか持たない真理値のカラムに対してインデックスを作成すると、真と偽で半々のレコードがあるなら、そのインデックスでは半数のデータが抽出されてしまうので、検索高速化の効果が少なくデメリットの方が目立つことになる。\n",
        "\n",
        "SQLite では、`ROWID` カラムを対象とする検索インデックスが自動的に作成される。`INTEGER PRIMARY KEY` が付いたカラムは `ROWID` カラムのエイリアスになるので、`INTEGER PRIMARY KEY` が付いたカラムを対象とする検索インデックスを明示的に作成する必要はない。"
      ],
      "metadata": {
        "id": "pWiW-f8Ud3ev"
      }
    },
    {
      "cell_type": "markdown",
      "source": [
        "### CREATE TRIGGER 文 ###"
      ],
      "metadata": {
        "id": "sLrLkrcWBPXL"
      }
    },
    {
      "cell_type": "markdown",
      "source": [
        "トリガーは、テーブルにレコードが挿入・更新・削除される度に、その前か後に指定した SQL 文を実行する機能である。これは SQL 非標準の機能であるが、代表的な RDBMS 製品（含 SQLite）がサポートしている。\n",
        "\n",
        "``` sql\n",
        "CREATE TRIGGER [ IF NOT EXISTS ] トリガー名 [ BEFORE | AFTER ]\n",
        " { INSERT | UPDATE [ OF カラム名, ...] | DELETE } ON テーブル名\n",
        " [ FOR EACH ROW ]\n",
        " [ WHEN 条件式 ]\n",
        " BEGIN\n",
        "  SQL文1;\n",
        "  SQL文2;\n",
        "  ...\n",
        " END;\n",
        "```\n",
        "\n",
        "`CREATE TRIGGER` コマンドはテーブルにトリガーを作成する。直後に `IF NOT EXISTS` を付けることで、トリガーが存在しないなら作成するようになり、作成済みのトリガーを作ろうとするエラーを防ぐことができる。\n",
        "\n",
        "オプションの `BEFORE`, `AFTER` では、次に指定する、INSERT・UPDATE・DELETE 句の前にトリガーで指定した SQL 文を実行するのか、後で実行するのかを指定する。デフォルトは `BEFORE`。\n",
        "\n",
        "`INSERT`, `UPDATE`, `DELETE` は必ずいずれか 1 つを選択する必要があり、それぞれ、テーブルにレコードが挿入された時にトリガーを実行するのか、レコードが更新された時に実行するのか、レコードが削除された時に実行するのかを指定する。`UPDATE OF カラム名, ...` と指定すると、「特定のカラムが更新された」という条件を指定することになる。対象カラムはカンマ区切りで複数指定することができる。\n",
        "\n",
        "オプションの `FOR EACH ROW` を指定すると、対象テーブルに含まれるレコードに対して更新や削除が 1 行行われるたびにトリガーで設定された SQL 文が実行される。SQLite では、これ以外のトリガーの動作をサポートしていないので、`FOR EACH ROW` 指定はあってもなくても動作に違いはない。\n",
        "\n",
        "オプションの `WHEN 条件式` を指定すると、`条件式` の評価が 1（TRUE）の場合のみトリガーが実行される。\n",
        "\n",
        "`WHEN 条件式` の中およびトリガーで設定される SQL 文の中では、`NEW.カラム名` や `OLD.カラム名` の形で変更前のカラム値と変更後のカラム値を参照できる。\n",
        "\n",
        "  * INSERT トリガーでは、`NEW.カラム名` が使用可能。\n",
        "  * UPDATE トリガーでは、`NEW.カラム名` および `OLD.カラム名` が使用可能。\n",
        "  * DELETE トリガーでは、`OLD.カラム名` が使用可能。\n",
        "\n",
        "たとえば、`CREATE TRIGGER tri1 AFTER UPDATE ON t1 WHEN OLD.a >= 1000 BEGIN （略） END;` は、トリガー実行の条件を `a` カラムの変更前の値が `1000` 以上であることとしている。\n",
        "\n",
        "トリガーは、RDB の構造にシステム固有の処理を持ち込んでいることに注意する。システム固有の処理は、アプリケーション（Python）側にまとめたほうが保守しやすい（トリガーは透過的に実行されるから、その存在を忘れてしまう危険がある）。"
      ],
      "metadata": {
        "id": "x1flo4F4BQWk"
      }
    },
    {
      "cell_type": "markdown",
      "source": [
        "### ALTER 文 ###"
      ],
      "metadata": {
        "id": "Z9KvPSdFtJn_"
      }
    },
    {
      "cell_type": "markdown",
      "source": [
        "`ALTER` は、テーブルなどの特性を変更するコマンドである。\n",
        "\n",
        "``` sql\n",
        "ALTER TABLE テーブル名 RENAME TO 新しいテーブル名;\n",
        "```\n",
        "\n",
        "作成済みのテーブル名を新しいテーブル名に変更する。\n",
        "\n",
        "``` sql\n",
        "ALTER TABLE テーブル名 RENAME [ COLUMN ] カラム名 TO 新しいカラム名\n",
        "```\n",
        "\n",
        "カラム名を新しいカラム名に変更する。`COLUMN` は省略可能。\n",
        "\n",
        "``` sql\n",
        "ALTER TABLE テーブル名 ADD [ COLUMN ] カラム定義;\n",
        "```\n",
        "\n",
        "作成したテーブルの最後にカラムを追加する。カラム定義は `カラム名 データ型` の形であり、`CREATE TABLE` と同様である。ただし、以下の条件をすべて満たしていなければならない。\n",
        "\n",
        "  1. PRIMARY KEY 制約や UNIQUE 制約は設定できない。\n",
        "  2. DEFAULT 制約を設定する場合は、デフォルト値に `CURRENT_TIME`, `CURRENT_DATE`, `CURRENT_TIMESTAMP` を指定することはできない。\n",
        "  3. NOT NULL 制約を設定する場合は、`NULL` 以外のデフォルト値の指定が必要。\n",
        "\n",
        "`COLUMN` は省略可能。\n",
        "\n",
        "``` sql\n",
        "ALTER TABLE テーブル名 DROP [ COLUMN ] カラム名\n",
        "```\n",
        "\n",
        "指定されたカラムをテーブルから削除し、その内容を書き換えて、そのカラムに関連付けられたデータを削除する。SQLite ではバージョン 3.35.0 でこの DROP COLUMN 構文をサポートした。ただし、以下の条件をすべて満たしていなければならない。\n",
        "\n",
        "  1. カラムが主キーあるいは複合主キーの一部でないこと。\n",
        "  2. カラムに UNIQUE 制約がないこと。\n",
        "  3. カラムを対象とした検索インデックスが作成されていないこと。\n",
        "  4. カラムが他のカラム（他のテーブルのカラムを含む）の CHECK 制約で使われていないこと。\n",
        "  5. カラムがトリガーに関与していないこと。\n",
        "\n",
        "`COLUMN` は省略可能。"
      ],
      "metadata": {
        "id": "Om7uAVtItKlq"
      }
    },
    {
      "cell_type": "markdown",
      "source": [
        "### DROP 文 ###"
      ],
      "metadata": {
        "id": "ewuzRkS_0Jqn"
      }
    },
    {
      "cell_type": "markdown",
      "source": [
        "`DROP` は、テーブルなどを削除するコマンドである。\n",
        "\n",
        "``` sql\n",
        "DROP TABLE [ IF EXISTS ] テーブル名;\n",
        "```\n",
        "\n",
        "テーブルを削除する。このテーブルに関連付けされている検索インデックスとトリガーも同時に削除される。デフォルトではテーブルが存在しない場合にエラーが発生するが、オプションの `IF EXISTS` を指定するとテーブルが存在する場合のみ削除し、存在しなくてもエラーが発生しない。\n",
        "\n",
        "``` sql\n",
        "DROP INDEX [ IF EXISTS ] インデックス名;\n",
        "```\n",
        "\n",
        "検索インデックスを削除する。デフォルトでは検索インデックスが存在しない場合にエラーが発生するが、オプションの `IF EXISTS` を指定すると検索インデックスが存在する場合のみ削除し、存在しなくてもエラーが発生しない。\n",
        "\n",
        "``` sql\n",
        "DROP TRIGGER [ IF EXISTS ] トリガー名;\n",
        "```\n",
        "\n",
        "トリガーを削除する。デフォルトではトリガーが存在しない場合にエラーが発生するが、オプションの `IF EXISTS` を指定するとトリガーが存在する場合のみ削除し、存在しなくてもエラーが発生しない。"
      ],
      "metadata": {
        "id": "7_vAr2Fg0Kfk"
      }
    },
    {
      "cell_type": "markdown",
      "source": [
        "データ操作\n",
        "----------"
      ],
      "metadata": {
        "id": "hN0Bg-YYTN8Z"
      }
    },
    {
      "cell_type": "markdown",
      "source": [
        "以下の標準 SQL のコマンドは、DML に分類される。DML は、Data Manipulation Language（データ操作言語）の略で、データの格納・取り出し・更新・削除などに使用するコマンドである。\n",
        "\n",
        "  * `INSERT`\n",
        "  * `SELECT`\n",
        "  * `UPDATE`\n",
        "  * `DELETE`"
      ],
      "metadata": {
        "id": "snb3VM2KTO7H"
      }
    },
    {
      "cell_type": "markdown",
      "source": [
        "### INSERT 文 ###"
      ],
      "metadata": {
        "id": "z_x-q8YaYbxi"
      }
    },
    {
      "cell_type": "markdown",
      "source": [
        "``` sql\n",
        "INSERT INTO テーブル名 VALUES(値1, 値2, ...);\n",
        "```\n",
        "\n",
        "対象となるテーブルに含まれる全てのカラムに値を指定してレコードを追加する。値は、左から順に各カラムに格納されていく。値の数がテーブルに含まれるカラムの数と一致していない場合はエラーが発生する。\n",
        "\n",
        "`VALUES` の後の丸括弧をカンマで区切って複数指定すると、複数レコードを一度に追加する。\n",
        "\n",
        "``` sql\n",
        "INSERT INTO テーブル名(カラム1, カラム2, ...) VALUES(値1, 値2, ...);\n",
        "```\n",
        "\n",
        "特定のカラムだけに値を指定してレコードを追加する。カラムと値はカンマで区切って同じ数だけ指定する。指定されたカラムには指定された値が格納されるが、指定されなかったカラムには DEFAULT 制約が設定してあればデフォルトの値が格納され、 DEFAULT 制約が設定されていなければ `NULL` が格納される。\n",
        "\n",
        "`VALUES` の後の丸括弧をカンマで区切って複数指定すると、複数レコードを一度に追加する。\n",
        "\n",
        "``` sql\n",
        "INSERT INTO テーブル名 DEFAULT VALUES;\n",
        "```\n",
        "\n",
        "値を 1 つも指定せずにレコードを追加する。この場合は全てのカラムにデフォルトの値（DEFAULT 制約が設定してあればデフォルトの値、 DEFAULT 制約が設定されていなければ `NULL`）が格納される。\n",
        "\n",
        "``` sql\n",
        "INSERT INTO テーブル名 SQL文;\n",
        "```\n",
        "\n",
        "他のテーブルから SQL 文により取得したデータのリストをレコードとしてテーブルに追加する。レコードを追加するテーブルに含まれるカラムの数と、SQL文 で取得するカラム値の数は同じである必要がある（カラム名は異なっていてもよい）。\n",
        "\n",
        "``` sql\n",
        "INSERT INTO テーブル名(カラム名1, カラム名2, ...) SQL文;\n",
        "```\n",
        "\n",
        "他のテーブルから SQL 文により取得したデータのリストを、左から順に指定したカラムに格納したレコードとしてテーブルに追加する。指定したカラムの数と、 SQL 文で取得するカラム値の数は同じである必要がある（カラム名は異なっていてもよい）。なお、指定されなかったカラムには DEFAULT 制約が設定してあればデフォルトの値が格納され、 DEFAULT 制約が設定されていなければ `NULL` が格納される。"
      ],
      "metadata": {
        "id": "orftXgYLYcoH"
      }
    },
    {
      "cell_type": "markdown",
      "source": [
        "### SELECT 文 ###"
      ],
      "metadata": {
        "id": "NiWG24Twi_-e"
      }
    },
    {
      "cell_type": "markdown",
      "source": [
        "``` sql\n",
        "SELECT カラム名1, カラム名2, ... FROM テーブル名;\n",
        "```\n",
        "\n",
        "指定したテーブルに含まれる全てのレコードに対して、テーブルに格納されている順番に従って、カラムの値を取得する。複数のカラムの値を取得する場合は、カンマで区切ってカラムを指定する。\n",
        "\n",
        "また、カラム名の指定に代えて、（カラム名を含んだ）文字列演算・四則演算・剰余演算や、`LENGTH`, `REPLACE`, `SUBSTRING`, `ABS`, `ROUND`, `POWER` といった関数の式を書くことで、計算結果を取得することもできる。"
      ],
      "metadata": {
        "id": "53RIlOqJjBFu"
      }
    },
    {
      "cell_type": "code",
      "source": [
        "import sqlite3\n",
        "\n",
        "con = sqlite3.connect(\":memory:\")\n",
        "sql_script = \"\"\"\n",
        "CREATE TABLE IF NOT EXISTS book(\n",
        "    id INTEGER PRIMARY KEY,\n",
        "    title TEXT,\n",
        "    author TEXT,\n",
        "    price INTEGER\n",
        ");\n",
        "INSERT INTO book(title, author) VALUES('SQL入門', '山田太郎');\n",
        "INSERT INTO book\n",
        "    (title, author, price)\n",
        "  VALUES\n",
        "    ('Python入門', '田中花子', '1500'),\n",
        "    ('Flutter入門', '鈴木四郎', '3000');\n",
        "\"\"\"\n",
        "con.executescript(sql_script)\n",
        "res = con.execute(\"SELECT id, title, price, price - 2000 FROM book\")  # 2000円 との差額も取得する\n",
        "print(f\"{[col for col, *_ in res.description]}\")\n",
        "for row in res:\n",
        "    print(row)\n",
        "con.close()"
      ],
      "metadata": {
        "colab": {
          "base_uri": "https://localhost:8080/"
        },
        "id": "em9JJst2FU3F",
        "outputId": "0bc545cd-19a1-407d-e259-0248da65b14e"
      },
      "execution_count": null,
      "outputs": [
        {
          "output_type": "stream",
          "name": "stdout",
          "text": [
            "['id', 'title', 'price', 'price - 2000']\n",
            "(1, 'SQL入門', None, None)\n",
            "(2, 'Python入門', 1500, -500)\n",
            "(3, 'Flutter入門', 3000, 1000)\n"
          ]
        }
      ]
    },
    {
      "cell_type": "markdown",
      "source": [
        "``` sql\n",
        "SELECT * FROM テーブル名;\n",
        "```\n",
        "\n",
        "指定したテーブルに含まれる全てのレコードに対して、全てのカラムの値を取得する。\n",
        "\n",
        "`ROWID` の値は `*` では取得できない。合わせて取得したい場合には `*` とカンマで区切って指定することで取得できる。"
      ],
      "metadata": {
        "id": "XFsck6a6t_VL"
      }
    },
    {
      "cell_type": "code",
      "source": [
        "import sqlite3\n",
        "\n",
        "con = sqlite3.connect(\":memory:\")\n",
        "sql_script = \"\"\"\n",
        "CREATE TABLE IF NOT EXISTS person(name TEXT, age INTEGER);\n",
        "INSERT INTO person VALUES\n",
        "  ('山田太郎', 25),\n",
        "  ('田中花子', 18),\n",
        "  ('鈴木薫子', 30);\n",
        "\"\"\"\n",
        "con.executescript(sql_script)\n",
        "res = con.execute(\"SELECT *, rowid FROM person\")\n",
        "print(f\"{[col for col, *_ in res.description]}\")\n",
        "for row in res:\n",
        "    print(row)\n",
        "con.close()"
      ],
      "metadata": {
        "colab": {
          "base_uri": "https://localhost:8080/"
        },
        "id": "BsWvJJQIuAp1",
        "outputId": "071c78bf-13cb-41fa-e0db-425a3434c84a"
      },
      "execution_count": null,
      "outputs": [
        {
          "output_type": "stream",
          "name": "stdout",
          "text": [
            "['name', 'age', 'rowid']\n",
            "('山田太郎', 25, 1)\n",
            "('田中花子', 18, 2)\n",
            "('鈴木薫子', 30, 3)\n"
          ]
        }
      ]
    },
    {
      "cell_type": "markdown",
      "source": [
        "### 集約関数 ###"
      ],
      "metadata": {
        "id": "B283dF8mwebr"
      }
    },
    {
      "cell_type": "markdown",
      "source": [
        "`SELECT` 文で以下の関数を使うことができる。\n",
        "\n",
        "| 関数 | 機能 |\n",
        "|:---|:---|\n",
        "| `AVG(カラム名)` | 指定したカラムの平均値を返す |\n",
        "| `SUM(カラム名)` | 指定したカラムの合計を返す |\n",
        "| `MAX(カラム名)` | 指定したカラムの最大値を返す |\n",
        "| `MIN(カラム名)` | 指定したカラムの最小値を返す |\n",
        "| `COUNT(カラム名)` | 指定したカラムに含まれる `NULL` 以外の行数を返す |\n",
        "| `COUNT(*)` | レコードの数を返す |\n",
        "\n",
        "これらの関数は複数のレコードのデータを 1 つの値にまとめるため**集約関数**（aggregate function）と呼ばれる。\n",
        "\n",
        "SQLite では、`AVG`, `SUM` の計算において、対象のカラムに文字列などが含まれていた場合に数値に変換できない文字列は 0 として計算する。"
      ],
      "metadata": {
        "id": "LOXU80rxwgBk"
      }
    },
    {
      "cell_type": "code",
      "source": [
        "import sqlite3\n",
        "\n",
        "con = sqlite3.connect(\":memory:\")\n",
        "sql_script = \"\"\"\n",
        "CREATE TABLE IF NOT EXISTS person(name TEXT, age INTEGER, height REAL);\n",
        "INSERT INTO person VALUES('山田太郎', 25, 170.5);\n",
        "INSERT INTO person VALUES('田中花子', 18, 158.2);\n",
        "INSERT INTO person(name, height) VALUES('鈴木薫子', 170.5);\n",
        "INSERT INTO person VALUES('渡辺洋平', 30, 170.5);\n",
        "\"\"\"\n",
        "con.executescript(sql_script)\n",
        "res =  con.execute(\"SELECT AVG(height), SUM(height), MAX(height), MIN(height), COUNT(age), COUNT(*) FROM person\")\n",
        "print(f\"{[col for col, *_ in res.description]}\")\n",
        "for row in res:\n",
        "    print(row)\n",
        "con.close()"
      ],
      "metadata": {
        "colab": {
          "base_uri": "https://localhost:8080/"
        },
        "id": "MQCQ8IYR89ph",
        "outputId": "a94151b7-99ba-4ef5-eaae-ee09f2242406"
      },
      "execution_count": null,
      "outputs": [
        {
          "output_type": "stream",
          "name": "stdout",
          "text": [
            "['AVG(height)', 'SUM(height)', 'MAX(height)', 'MIN(height)', 'COUNT(age)', 'COUNT(*)']\n",
            "(167.425, 669.7, 170.5, 158.2, 3, 4)\n"
          ]
        }
      ]
    },
    {
      "cell_type": "markdown",
      "source": [
        "### AS 句 ###"
      ],
      "metadata": {
        "id": "C1I4iUXXyG2b"
      }
    },
    {
      "cell_type": "markdown",
      "source": [
        "``` sql\n",
        "SELECT カラム名 AS 別名, ... FROM テーブル名;\n",
        "```\n",
        "\n",
        "`SELECT` 文の中で `カラム名 AS 別名` と書くと、カラムに別の名前を付けることができる。式で値を取得した場合は、その式がそのまま出力用のカラム名に使われるので、`AS` で適当な長さの別名を付けるとよい。\n",
        "\n",
        "`AS` を省略して `カラム名 別名` と書いてもよい。"
      ],
      "metadata": {
        "id": "ygKB4BPuyKdV"
      }
    },
    {
      "cell_type": "code",
      "source": [
        "import sqlite3\n",
        "\n",
        "con = sqlite3.connect(\":memory:\")\n",
        "sql_script = \"\"\"\n",
        "CREATE TABLE IF NOT EXISTS person(name TEXT, age INTEGER, height REAL);\n",
        "INSERT INTO person VALUES('山田太郎', 25, 170.5);\n",
        "INSERT INTO person VALUES('田中花子', 18, 158.2);\n",
        "INSERT INTO person(name, height) VALUES('鈴木薫子', 170.5);\n",
        "INSERT INTO person VALUES('渡辺洋平', 30, 170.5);\n",
        "\"\"\"\n",
        "con.executescript(sql_script)\n",
        "res =  con.execute(\"SELECT ROUND(AVG(height), 1) AS 'average height' FROM person\")\n",
        "print(f\"{[col for col, *_ in res.description]}\")\n",
        "for row in res:\n",
        "    print(row)\n",
        "con.close()"
      ],
      "metadata": {
        "colab": {
          "base_uri": "https://localhost:8080/"
        },
        "id": "PCl-mXFGyIfx",
        "outputId": "9905aef2-2651-4bfd-dc46-827721dbb8fe"
      },
      "execution_count": null,
      "outputs": [
        {
          "output_type": "stream",
          "name": "stdout",
          "text": [
            "['average height']\n",
            "(167.4,)\n"
          ]
        }
      ]
    },
    {
      "cell_type": "markdown",
      "source": [
        "### CASE 句 ###"
      ],
      "metadata": {
        "id": "FJsS9qxBKaCa"
      }
    },
    {
      "cell_type": "markdown",
      "source": [
        "``` sql\n",
        "SELECT\n",
        "  CASE 式\n",
        "    WHEN 値1 THEN 式1\n",
        "    WHEN 値2 THEN 式2\n",
        "    ELSE 式3\n",
        "  END [ AS 別名 ]\n",
        "FROM テーブル名;\n",
        "```\n",
        "\n",
        "`SELECT` 文の中で `CASE` は、`CASE` の直後に指定した `式` の値と比較して、`WHEN` 条件を上から順番にチェックしていき、値が合致する場合に `THEN` の直後の式の値を返す。`WHEN` は複数指定でき、2 つ目以降の `WHEN` と `ELSE` は必須ではない。どの値も合致せず、`ELSE` が指定されている場合は `ELSE` の直後の式の値を返す。どの値も合致せず、`ELSE` が指定されていない場合は `NULL` を返す。\n",
        "\n",
        "出力用のカラムには `CASE ... END` の名前が付くので、`AS 別名` で別名を付けておくとよい。\n",
        "\n",
        "``` sql\n",
        "SELECT\n",
        "  CASE\n",
        "    WHEN 条件式1 THEN 式1\n",
        "    WHEN 条件式2 THEN 式2\n",
        "    ELSE 式3\n",
        "  END [ AS 別名 ]\n",
        "FROM テーブル名;\n",
        "```\n",
        "\n",
        "`CASE` の直後に何も指定しない場合は、上から順番に条件式を評価していき、最初に 1（True）となった条件式の後ろの `THEN` 直後の式の値を返す。`WHEN` は複数指定でき、2 つ目以降の `WHEN` と `ELSE` は必須ではない。どの値も合致せず、`ELSE` が指定されている場合は `ELSE` の直後の式の値を返す。どの値も合致せず、`ELSE` が指定されていない場合は `NULL` を返す。"
      ],
      "metadata": {
        "id": "a1m_x2mLKbGq"
      }
    },
    {
      "cell_type": "code",
      "source": [
        "import sqlite3\n",
        "\n",
        "con = sqlite3.connect(\":memory:\")\n",
        "sql_script = \"\"\"\n",
        "CREATE TABLE IF NOT EXISTS book(title TEXT, author TEXT, price INTEGER);\n",
        "INSERT INTO book VALUES('SQL入門', 'Masumi', 2500);\n",
        "INSERT INTO book VALUES('Flutter入門', 'Masumi', 2500);\n",
        "INSERT INTO book(title, author) VALUES('HTML入門', 'Hiro');\n",
        "INSERT INTO book VALUES('GitHub入門2', 'Emma', 2200);\n",
        "INSERT INTO book VALUES('Flutter上級', 'Oliva', 4500);\n",
        "INSERT INTO book VALUES('コンピューターの仕組みが100%わかる本', 'Takeda', 1400);\n",
        "\"\"\"\n",
        "con.executescript(sql_script)\n",
        "\n",
        "sql_case1 = \"\"\"\n",
        "SELECT *,\n",
        "  CASE title\n",
        "    WHEN 'SQL入門' THEN '〇×社'\n",
        "    WHEN 'Flutter入門' THEN '凹凸出版'\n",
        "    WHEN 'Flutter上級' THEN '凹凸出版'\n",
        "    ELSE '△□書店'\n",
        "  END AS publisher\n",
        "FROM book\n",
        "\"\"\"\n",
        "res = con.execute(sql_case1)\n",
        "print(f\"{[col for col, *_ in res.description]}\")\n",
        "for row in res:\n",
        "    print(row)\n",
        "else:\n",
        "    print(\"\\n\", end=\"\")\n",
        "\n",
        "sql_case2 = \"\"\"\n",
        "SELECT *,\n",
        "  CASE\n",
        "    WHEN price < 3000 THEN '3000円より安い'\n",
        "    ELSE '3000円以上'\n",
        "  END AS 'price status'\n",
        "FROM book\n",
        "\"\"\"\n",
        "res = con.execute(sql_case2)\n",
        "print(f\"{[col for col, *_ in res.description]}\")\n",
        "for row in res:\n",
        "    print(row)\n",
        "\n",
        "con.close()"
      ],
      "metadata": {
        "colab": {
          "base_uri": "https://localhost:8080/"
        },
        "id": "2CE7QwN-QFOt",
        "outputId": "bca1d1c2-7439-4179-b3a4-68a3ec2bfe13"
      },
      "execution_count": null,
      "outputs": [
        {
          "output_type": "stream",
          "name": "stdout",
          "text": [
            "['title', 'author', 'price', 'publisher']\n",
            "('SQL入門', 'Masumi', 2500, '〇×社')\n",
            "('Flutter入門', 'Masumi', 2500, '凹凸出版')\n",
            "('HTML入門', 'Hiro', None, '△□書店')\n",
            "('GitHub入門2', 'Emma', 2200, '△□書店')\n",
            "('Flutter上級', 'Oliva', 4500, '凹凸出版')\n",
            "('コンピューターの仕組みが100%わかる本', 'Takeda', 1400, '△□書店')\n",
            "\n",
            "['title', 'author', 'price', 'price status']\n",
            "('SQL入門', 'Masumi', 2500, '3000円より安い')\n",
            "('Flutter入門', 'Masumi', 2500, '3000円より安い')\n",
            "('HTML入門', 'Hiro', None, '3000円以上')\n",
            "('GitHub入門2', 'Emma', 2200, '3000円より安い')\n",
            "('Flutter上級', 'Oliva', 4500, '3000円以上')\n",
            "('コンピューターの仕組みが100%わかる本', 'Takeda', 1400, '3000円より安い')\n"
          ]
        }
      ]
    },
    {
      "cell_type": "markdown",
      "source": [
        "`NULL` に対しては `<` は 1（True）にならないから、`NULL` のレコードも「3000円以上」が返される。そのため、`NULL` のレコードを「3000円以上」と判定されないようにしたい場合は、別途条件設定が必要となる。"
      ],
      "metadata": {
        "id": "HjHaeDm5tDBZ"
      }
    },
    {
      "cell_type": "markdown",
      "source": [
        "### WHERE 句 ###"
      ],
      "metadata": {
        "id": "q61dRvEn6yEs"
      }
    },
    {
      "cell_type": "markdown",
      "source": [
        "``` sql\n",
        "SELECT カラム名, ... FROM テーブル名 WHERE 条件式;\n",
        "```\n",
        "\n",
        "`SELECT` 文で `WHERE 条件式` を指定すると、`条件式` の評価が 1（TRUE）となるレコードのみに対して、カラムの値を取得する。"
      ],
      "metadata": {
        "id": "7bwmruLHNW8p"
      }
    },
    {
      "cell_type": "code",
      "source": [
        "import sqlite3\n",
        "\n",
        "con = sqlite3.connect(\":memory:\")\n",
        "sql_script = \"\"\"\n",
        "CREATE TABLE IF NOT EXISTS book(title TEXT, author TEXT, price INTEGER);\n",
        "INSERT INTO book VALUES('SQL入門', 'Masumi', 2500);\n",
        "INSERT INTO book VALUES('Flutter入門', 'Masumi', 2500);\n",
        "INSERT INTO book(title, author) VALUES('HTML入門', 'Hiro');\n",
        "INSERT INTO book VALUES('GitHub入門2', 'Emma', 2200);\n",
        "INSERT INTO book VALUES('Flutter上級', 'Oliva', 4500);\n",
        "INSERT INTO book VALUES('コンピューターの仕組みが100%わかる本', 'Takeda', 1400);\n",
        "\"\"\"\n",
        "con.executescript(sql_script)\n",
        "\n",
        "def output(header, res):\n",
        "    print(header)\n",
        "    print(f\"{[col for col, *_ in res.description]}\")\n",
        "    for row in res:\n",
        "        print(row)\n",
        "\n",
        "output(\"<WHERE price < 2000 OR author = 'Oliva'>\",\n",
        "       con.execute(\"SELECT * FROM book WHERE price < 2000 OR author = 'Oliva'\"))\n",
        "\n",
        "output(\"<WHERE price BETWEEN 2000 AND 3000>\",\n",
        "       con.execute(\"SELECT * FROM book WHERE price BETWEEN 2000 AND 3000\"))\n",
        "\n",
        "output(\"<WHERE NOT price BETWEEN 2000 AND 3000>\",\n",
        "       con.execute(\"SELECT * FROM book WHERE NOT price BETWEEN 2000 AND 3000\"))\n",
        "\n",
        "output(\"<WHERE price IN(2000, 2500, 4500)>\",\n",
        "       con.execute(\"SELECT * FROM book WHERE price IN(2000, 2500, 4500)\"))\n",
        "\n",
        "output(\"<WHERE price NOT IN(2000, 2500, 4500)>\",\n",
        "       con.execute(\"SELECT * FROM book WHERE price NOT IN(2000, 2500, 4500)\"))\n",
        "\n",
        "output(\"<WHERE title LIKE '%Flutter%'>\",\n",
        "       con.execute(\"SELECT * FROM book WHERE title LIKE '%Flutter%'\"))\n",
        "\n",
        "output(\"<WHERE title LIKE '%入門_'>\",\n",
        "       con.execute(\"SELECT * FROM book WHERE title LIKE '%入門_'\"))\n",
        "\n",
        "output(\"<WHERE title LIKE '%100$%わかる本' ESCAPE '$'>\",\n",
        "       con.execute(\"SELECT * FROM book WHERE title LIKE '%100$%わかる本' ESCAPE '$'\"))\n",
        "\n",
        "output(\"<WWHERE price IS NULL>\",\n",
        "       con.execute(\"SELECT * FROM book WHERE price IS NULL\"))\n",
        "\n",
        "output(\"<WWHERE price IS NOT NULL>\",\n",
        "       con.execute(\"SELECT * FROM book WHERE price IS NOT NULL\"))\n",
        "\n",
        "con.close()"
      ],
      "metadata": {
        "colab": {
          "base_uri": "https://localhost:8080/"
        },
        "id": "dknlBlbXNX2b",
        "outputId": "3a38ea8a-c0c2-4f11-a159-8e12b150f38e"
      },
      "execution_count": null,
      "outputs": [
        {
          "output_type": "stream",
          "name": "stdout",
          "text": [
            "<WHERE price < 2000 OR author = 'Oliva'>\n",
            "['title', 'author', 'price']\n",
            "('Flutter上級', 'Oliva', 4500)\n",
            "('コンピューターの仕組みが100%わかる本', 'Takeda', 1400)\n",
            "<WHERE price BETWEEN 2000 AND 3000>\n",
            "['title', 'author', 'price']\n",
            "('SQL入門', 'Masumi', 2500)\n",
            "('Flutter入門', 'Masumi', 2500)\n",
            "('GitHub入門2', 'Emma', 2200)\n",
            "<WHERE NOT price BETWEEN 2000 AND 3000>\n",
            "['title', 'author', 'price']\n",
            "('Flutter上級', 'Oliva', 4500)\n",
            "('コンピューターの仕組みが100%わかる本', 'Takeda', 1400)\n",
            "<WHERE price IN(2000, 2500, 4500)>\n",
            "['title', 'author', 'price']\n",
            "('SQL入門', 'Masumi', 2500)\n",
            "('Flutter入門', 'Masumi', 2500)\n",
            "('Flutter上級', 'Oliva', 4500)\n",
            "<WHERE price NOT IN(2000, 2500, 4500)>\n",
            "['title', 'author', 'price']\n",
            "('GitHub入門2', 'Emma', 2200)\n",
            "('コンピューターの仕組みが100%わかる本', 'Takeda', 1400)\n",
            "<WHERE title LIKE '%Flutter%'>\n",
            "['title', 'author', 'price']\n",
            "('Flutter入門', 'Masumi', 2500)\n",
            "('Flutter上級', 'Oliva', 4500)\n",
            "<WHERE title LIKE '%入門_'>\n",
            "['title', 'author', 'price']\n",
            "('GitHub入門2', 'Emma', 2200)\n",
            "<WHERE title LIKE '%100$%わかる本' ESCAPE '$'>\n",
            "['title', 'author', 'price']\n",
            "('コンピューターの仕組みが100%わかる本', 'Takeda', 1400)\n",
            "<WWHERE price IS NULL>\n",
            "['title', 'author', 'price']\n",
            "('HTML入門', 'Hiro', None)\n",
            "<WWHERE price IS NOT NULL>\n",
            "['title', 'author', 'price']\n",
            "('SQL入門', 'Masumi', 2500)\n",
            "('Flutter入門', 'Masumi', 2500)\n",
            "('GitHub入門2', 'Emma', 2200)\n",
            "('Flutter上級', 'Oliva', 4500)\n",
            "('コンピューターの仕組みが100%わかる本', 'Takeda', 1400)\n"
          ]
        }
      ]
    },
    {
      "cell_type": "markdown",
      "source": [
        "上記のコードのように、条件を直接 SQL 文に記述すると、条件を変えて柔軟に探索を行うことができない。条件式の一部を Python の変数にして、SQL 文の該当場所をプレースホルダーに置き換えると、次のように記述できる:"
      ],
      "metadata": {
        "id": "rB5RPdZ3WH69"
      }
    },
    {
      "cell_type": "code",
      "source": [
        "import sqlite3\n",
        "\n",
        "con = sqlite3.connect(\":memory:\")\n",
        "sql_script = \"\"\"\n",
        "CREATE TABLE IF NOT EXISTS customer(name TEXT, age INTEGER, address TEXT);\n",
        "INSERT INTO customer VALUES\n",
        "  ('Yamada', 19, 'Tokyo'),\n",
        "  ('Andou', 34, 'Osaka'),\n",
        "  ('Kuwata', 26, 'Tokyo');\n",
        "\"\"\"\n",
        "con.executescript(sql_script)\n",
        "\n",
        "def search_data(*params):\n",
        "    res = con.execute(\"SELECT * FROM customer WHERE name = ?\", params)\n",
        "    print(f\"{[col for col, *_ in res.description]}\")\n",
        "    for row in res:\n",
        "        print(row)\n",
        "\n",
        "search_data('Yamada')"
      ],
      "metadata": {
        "colab": {
          "base_uri": "https://localhost:8080/"
        },
        "id": "pux2gZv5WItx",
        "outputId": "e8f24dc3-7925-4548-b7eb-b2a8314ae4c9"
      },
      "execution_count": null,
      "outputs": [
        {
          "output_type": "stream",
          "name": "stdout",
          "text": [
            "['name', 'age', 'address']\n",
            "('Yamada', 19, 'Tokyo')\n"
          ]
        }
      ]
    },
    {
      "cell_type": "markdown",
      "source": [
        "プレースホルダーを使わず、Python の文字列操作を使用してクエリを組み立てる方法も思いつく。たとえば、以下のコードでは f-string で SQL 文を生成している。一見すると、`name` カラムが一致するデータだけが取得されるように見えるが、`t' OR 't' = 't` を入力すると、条件式は `name = 't' OR 't' = 't'` と展開されて常に 1（TRUE）を返すので、全てのデータが取得されてしまう。"
      ],
      "metadata": {
        "id": "KTQr4-sK9Uj3"
      }
    },
    {
      "cell_type": "code",
      "source": [
        "def search_data2(name):\n",
        "    res = con.execute(f\"SELECT * FROM customer WHERE name = '{name}'\")\n",
        "    print(f\"{[col for col, *_ in res.description]}\")\n",
        "    for row in res:\n",
        "        print(row)\n",
        "\n",
        "search_data2(\"t' OR 't' = 't\")"
      ],
      "metadata": {
        "colab": {
          "base_uri": "https://localhost:8080/"
        },
        "id": "9yCtgwpT9V6T",
        "outputId": "ff00aa96-24b2-48c8-e677-dd3fb4689936"
      },
      "execution_count": null,
      "outputs": [
        {
          "output_type": "stream",
          "name": "stdout",
          "text": [
            "['name', 'age', 'address']\n",
            "('Yamada', 19, 'Tokyo')\n",
            "('Andou', 34, 'Osaka')\n",
            "('Kuwata', 26, 'Tokyo')\n"
          ]
        }
      ]
    },
    {
      "cell_type": "markdown",
      "source": [
        "このように、アプリケーションが想定しない SQL 文を生成・実行させてデータベースシステムを不正に操作する攻撃方法のことを **SQL インジェクション**（SQL injection）と呼ぶ。Python の文字列操作を使用してクエリを組み立てる方法は、SQL インジェクションに対して脆弱である。\n",
        "\n",
        "これに対して、プレースホルダーを使用する場合、値として置き換えられるので、たとえば `t' OR 't' = 't` という入力は `t'' OR ''t'' = ''t` とエスケープした形に解釈される。したがって、上記のコードでは、`name` カラムの値が `\"t' OR 't' = 't\"` であるデータを探索しようとするので、どのデータも取得されない。"
      ],
      "metadata": {
        "id": "RabreBl5Oafi"
      }
    },
    {
      "cell_type": "code",
      "source": [
        "search_data(\"t' OR 't' = 't\")\n",
        "con.close()"
      ],
      "metadata": {
        "colab": {
          "base_uri": "https://localhost:8080/"
        },
        "id": "evADVeG1Oj3P",
        "outputId": "5bdefab0-2a17-489a-d044-319e6ef39e17"
      },
      "execution_count": null,
      "outputs": [
        {
          "output_type": "stream",
          "name": "stdout",
          "text": [
            "['name', 'age', 'address']\n"
          ]
        }
      ]
    },
    {
      "cell_type": "markdown",
      "source": [
        "### GROUP BY句 ###"
      ],
      "metadata": {
        "id": "VCUqXt5r_7hx"
      }
    },
    {
      "cell_type": "markdown",
      "source": [
        "``` sql\n",
        "SELECT カラム名, ... FROM テーブル名 GROUP BY カラム名1, カラム名2, ...;\n",
        "```\n",
        "\n",
        "`SELECT` 文で `GROUP BY カラム名` を指定すると、指定したカラムの値が同じであるレコードをグループ化し、グループごとに値を取得する。その際、`FROM` の前に集約関数を使用すると、集約関数はグループ内のレコードのデータに対して計算した結果を返すようになる。カンマ区切りで複数のカラムを指定した場合は、値の組み合わせが同じものでグループ化される。"
      ],
      "metadata": {
        "id": "Avz4evbv_9rf"
      }
    },
    {
      "cell_type": "code",
      "source": [
        "import sqlite3\n",
        "\n",
        "con = sqlite3.connect(\":memory:\")\n",
        "sql_script = \"\"\"\n",
        "CREATE TABLE IF NOT EXISTS person(name TEXT, age INTEGER, address TEXT);\n",
        "INSERT INTO person VALUES\n",
        "  ('Yamada', 19, 'Tokyo'),\n",
        "  ('Andou', 34, 'Osaka'),\n",
        "  ('Kuwata', 26, 'Tokyo'),\n",
        "  ('Wada', 18, 'Tokyo'),\n",
        "  ('Suzuki', 27, 'Osaka'),\n",
        "  ('Yamada', 31, 'Tokyo'),\n",
        "  ('Anzai', 28, 'Nagoya'),\n",
        "  ('Etou', 19, 'Tokyo');\n",
        "\"\"\"\n",
        "con.executescript(sql_script)\n",
        "\n",
        "res = con.execute(\"SELECT address, COUNT(*) AS count, AVG(age) AS 'average age' FROM person GROUP BY address\")\n",
        "print(f\"{[col for col, *_ in res.description]}\")\n",
        "for row in res:\n",
        "    print(row)\n",
        "else:\n",
        "    print(\"\\n\", end=\"\")\n",
        "\n",
        "res = con.execute(\"SELECT age, address, COUNT(*) AS count FROM person GROUP BY age, address\")\n",
        "print(f\"{[col for col, *_ in res.description]}\")\n",
        "for row in res:\n",
        "    print(row)\n",
        "\n",
        "con.close()"
      ],
      "metadata": {
        "colab": {
          "base_uri": "https://localhost:8080/"
        },
        "id": "doSjGjY4CBId",
        "outputId": "ef0d4630-bcd3-493d-b2df-51fa6ae73ee2"
      },
      "execution_count": null,
      "outputs": [
        {
          "output_type": "stream",
          "name": "stdout",
          "text": [
            "['address', 'count', 'average age']\n",
            "('Nagoya', 1, 28.0)\n",
            "('Osaka', 2, 30.5)\n",
            "('Tokyo', 5, 22.6)\n",
            "\n",
            "['age', 'address', 'count']\n",
            "(18, 'Tokyo', 1)\n",
            "(19, 'Tokyo', 2)\n",
            "(26, 'Tokyo', 1)\n",
            "(27, 'Osaka', 1)\n",
            "(28, 'Nagoya', 1)\n",
            "(31, 'Tokyo', 1)\n",
            "(34, 'Osaka', 1)\n"
          ]
        }
      ]
    },
    {
      "cell_type": "markdown",
      "source": [
        "`WHERE 条件式` を指定する場合、`GROUP BY カラム名` はその後ろに記述する。\n",
        "\n",
        "``` sql\n",
        "SELECT カラム名, ... FROM テーブル名 WHERE 条件式 GROUP BY カラム名, ...;\n",
        "```\n",
        "\n",
        "この場合は、まず `WHERE 条件式` で取得するデータを絞り込んだ上でグループ化が行われる。\n",
        "\n",
        "これに対して、グループ化を行った上で、取得するグループを絞り込むために使用されるのが `HAVING 条件式` である。書式は次の通り:\n",
        "\n",
        "``` sql\n",
        "SELECT カラム名, ... FROM テーブル名 GROUP BY カラム名, ... HAVING 条件式;\n",
        "```\n",
        "\n",
        "グループ化が行われた結果に対して条件式が適用されるので、`HAVING 条件式` に記述できる式は、取得したデータのカラム名（別名でもよい）を含む演算子、集約関数の式だけとなる。"
      ],
      "metadata": {
        "id": "JQIww9-pSmcl"
      }
    },
    {
      "cell_type": "code",
      "source": [
        "import sqlite3\n",
        "\n",
        "con = sqlite3.connect(\":memory:\")\n",
        "sql_script = \"\"\"\n",
        "CREATE TABLE IF NOT EXISTS person(name TEXT, age INTEGER, address TEXT);\n",
        "INSERT INTO person VALUES\n",
        "  ('Yamada', 19, 'Tokyo'),\n",
        "  ('Andou', 34, 'Osaka'),\n",
        "  ('Kuwata', 26, 'Tokyo'),\n",
        "  ('Wada', 18, 'Tokyo'),\n",
        "  ('Suzuki', 27, 'Osaka'),\n",
        "  ('Yamada', 31, 'Tokyo'),\n",
        "  ('Anzai', 28, 'Nagoya'),\n",
        "  ('Etou', 19, 'Tokyo');\n",
        "\"\"\"\n",
        "con.executescript(sql_script)\n",
        "\n",
        "res = con.execute(\"SELECT address, COUNT(*) AS count FROM person GROUP BY address HAVING count > 1\")\n",
        "print(f\"{[col for col, *_ in res.description]}\")\n",
        "for row in res:\n",
        "    print(row)\n",
        "\n",
        "con.close()"
      ],
      "metadata": {
        "colab": {
          "base_uri": "https://localhost:8080/"
        },
        "id": "ZYKRUuKvVm_v",
        "outputId": "a9f97361-56e3-4dfd-f77b-b42125f3723b"
      },
      "execution_count": null,
      "outputs": [
        {
          "output_type": "stream",
          "name": "stdout",
          "text": [
            "['address', 'count']\n",
            "('Osaka', 2)\n",
            "('Tokyo', 5)\n"
          ]
        }
      ]
    },
    {
      "cell_type": "markdown",
      "source": [
        "このコードでは、別名を使わず、`HAVING COUNT(*) > 1` としても同じ結果になる。"
      ],
      "metadata": {
        "id": "MaV2kRzuaK5X"
      }
    },
    {
      "cell_type": "markdown",
      "source": [
        "### ORDER BY 句 ###"
      ],
      "metadata": {
        "id": "vrqqx1ID9Tn6"
      }
    },
    {
      "cell_type": "markdown",
      "source": [
        "``` sql\n",
        "SELECT カラム名 , ... FROM テーブル名 ORDER BY カラム名 [ASC | DESC];\n",
        "```\n",
        "\n",
        "`SELECT` 文で `ORDER BY カラム名` を指定すると、そのカラムをキーにレコードをソートしてから、その順でデータを取得する。後ろに `ASC` を指定した場合は昇順で、`DESC` を指定した場合は降順でソートする。省略した場合は昇順でソートする。\n",
        "\n",
        "`WHERE 条件式` や `GROUP BY / HAVING` を指定する場合、`ORDER BY カラム名` はその後ろに記述する。\n",
        "\n",
        "``` sql\n",
        "SELECT カラム名 , ... FROM テーブル名 ORDER BY カラム名1 [ASC | DESC], カラム名2 [ASC | DESC], ...;\n",
        "```\n",
        "\n",
        "ソートのキーとするカラムをカンマ区切りで複数指定すると、まず最初のカラムでソートを行い、次に最初のカラムで同じ値だったものだけを対象に 2 番目のカラムでソートを行う。3 つ以上指定した場合も同様となる。"
      ],
      "metadata": {
        "id": "WlIBunbz9U7-"
      }
    },
    {
      "cell_type": "code",
      "source": [
        "import sqlite3\n",
        "\n",
        "con = sqlite3.connect(\":memory:\")\n",
        "sql_script = \"\"\"\n",
        "CREATE TABLE IF NOT EXISTS person(name TEXT, age INTEGER, address TEXT);\n",
        "INSERT INTO person VALUES\n",
        "  ('Yamada', 19, 'Tokyo'),\n",
        "  ('Andou', 34, 'Osaka'),\n",
        "  ('Kuwata', 26, 'Tokyo'),\n",
        "  ('Wada', 18, 'Tokyo'),\n",
        "  ('Suzuki', 27, 'Osaka'),\n",
        "  ('Yamada', 31, 'Tokyo'),\n",
        "  ('Anzai', 28, 'Nagoya'),\n",
        "  ('Etou', 19, 'Tokyo');\n",
        "\n",
        "CREATE TABLE IF NOT EXISTS tokyo_person(name TEXT, age INTEGER, address TEXT);\n",
        "INSERT INTO tokyo_person\n",
        "    SELECT * FROM person\n",
        "        WHERE address = 'Tokyo'\n",
        "        ORDER by name ASC, age DESC;\n",
        "\"\"\"\n",
        "con.executescript(sql_script)\n",
        "\n",
        "res = con.execute(\"SELECT * FROM person\")\n",
        "print(f\"{[col for col, *_ in res.description]}\")\n",
        "for row in res:\n",
        "    print(row)\n",
        "else:\n",
        "    print(\"\\n\", end=\"\")\n",
        "\n",
        "res = con.execute(\"SELECT * FROM tokyo_person\")\n",
        "print(f\"{[col for col, *_ in res.description]}\")\n",
        "for row in res:\n",
        "    print(row)\n",
        "\n",
        "con.close()"
      ],
      "metadata": {
        "colab": {
          "base_uri": "https://localhost:8080/"
        },
        "id": "j99brCPasx7d",
        "outputId": "195c0d12-6a3e-4f45-aa6a-dc838bc657e0"
      },
      "execution_count": null,
      "outputs": [
        {
          "output_type": "stream",
          "name": "stdout",
          "text": [
            "['name', 'age', 'address']\n",
            "('Yamada', 19, 'Tokyo')\n",
            "('Andou', 34, 'Osaka')\n",
            "('Kuwata', 26, 'Tokyo')\n",
            "('Wada', 18, 'Tokyo')\n",
            "('Suzuki', 27, 'Osaka')\n",
            "('Yamada', 31, 'Tokyo')\n",
            "('Anzai', 28, 'Nagoya')\n",
            "('Etou', 19, 'Tokyo')\n",
            "\n",
            "['name', 'age', 'address']\n",
            "('Etou', 19, 'Tokyo')\n",
            "('Kuwata', 26, 'Tokyo')\n",
            "('Wada', 18, 'Tokyo')\n",
            "('Yamada', 31, 'Tokyo')\n",
            "('Yamada', 19, 'Tokyo')\n"
          ]
        }
      ]
    },
    {
      "cell_type": "markdown",
      "source": [
        "### LIMIT 句 ###"
      ],
      "metadata": {
        "id": "0xk0cWo1eYM3"
      }
    },
    {
      "cell_type": "markdown",
      "source": [
        "SQLite を含む一部の RDBMS 製品では、取得するデータの数を指定することができる。\n",
        "\n",
        "``` sql\n",
        "SELECT カラム名, ... FROM テーブル名 LIMIT 行数 [ OFFSET 行数 ];\n",
        "```\n",
        "\n",
        "`SELECT` 文で `LIMIT 行数` を指定すると、テーブルの先頭行から指定した数のデータを取得する。`OFFSET 行数` も指定すると、先頭行からその指定した行数のレコードをスキップして、指定した数のデータを取得する。\n",
        "\n",
        "`LIMIT` は `ORDER BY` を記述できる位置の後ろに記述する。`LIMIT` を使う場面はカラム値の大きい順に上位〇件のデータを取得するというようなものがほとんどなので、`LIMIT` は 通常 `ORDER BY` と組み合わせて使われる。"
      ],
      "metadata": {
        "id": "4NdtkUr6YyvD"
      }
    },
    {
      "cell_type": "code",
      "source": [
        "import sqlite3\n",
        "\n",
        "con = sqlite3.connect(\":memory:\")\n",
        "sql_script = \"\"\"\n",
        "CREATE TABLE IF NOT EXISTS person(\n",
        "    id INTEGER PRIMARY KEY,\n",
        "    name TEXT,\n",
        "    rank INTEGER);\n",
        "INSERT INTO person\n",
        "    (name, rank)\n",
        "  VALUES\n",
        "    ('Yamada', 6),\n",
        "    ('Andou', 3),\n",
        "    ('Kuwata', 7),\n",
        "    ('Wada', 2),\n",
        "    ('Suzuki', 4),\n",
        "    ('Anzai', 1),\n",
        "    ('Etou', 5);\n",
        "\"\"\"\n",
        "con.executescript(sql_script)\n",
        "lim = 2\n",
        "\n",
        "res = con.execute(\"SELECT name, rank FROM person ORDER BY rank LIMIT 2\")\n",
        "print(f\"{[col for col, *_ in res.description]}\")\n",
        "for row in res:\n",
        "    print(row)\n",
        "else:\n",
        "    print(\"\\n\", end=\"\")\n",
        "\n",
        "res = con.execute(\"SELECT name, rank FROM person ORDER BY rank LIMIT 2 OFFSET 3\")\n",
        "print(f\"{[col for col, *_ in res.description]}\")\n",
        "for row in res:\n",
        "    print(row)\n",
        "\n",
        "con.close()"
      ],
      "metadata": {
        "colab": {
          "base_uri": "https://localhost:8080/"
        },
        "id": "Gz6qnFhkYzoU",
        "outputId": "61b0d952-6077-409a-9aa2-9c8e3b0de7fc"
      },
      "execution_count": null,
      "outputs": [
        {
          "output_type": "stream",
          "name": "stdout",
          "text": [
            "['name', 'rank']\n",
            "('Anzai', 1)\n",
            "('Wada', 2)\n",
            "\n",
            "['name', 'rank']\n",
            "('Suzuki', 4)\n",
            "('Etou', 5)\n"
          ]
        }
      ]
    },
    {
      "cell_type": "markdown",
      "source": [
        "`LIMIT` は、標準 SQL の機能ではないため、全ての RDBMS 製品で利用できるわけではないことに注意する。"
      ],
      "metadata": {
        "id": "Ml6Dr-ndt23F"
      }
    },
    {
      "cell_type": "markdown",
      "source": [
        "### OVER 句・WINDOW 句 ###"
      ],
      "metadata": {
        "id": "hdwIy83YFEeh"
      }
    },
    {
      "cell_type": "markdown",
      "source": [
        "SQL:2003 以降の標準 SQL では、`SELECT` 文で集約関数の代わりに**ウィンドウ関数**（window function）が使える。ウィンドウ関数は、現在のレコードに何らかの関連があるレコードの集合に対して計算を行う関数である。**分析関数**や **OLAP 機能**とも呼ばれる。ウィンドウ関数が処理対象にする集合を**ウィンドウフレーム**（window frame）と呼ぶ。ウィンドウフレームは `OVER (...)` の形で記述する。\n",
        "\n",
        "``` sql\n",
        "ウィンドウ関数 OVER ( [ PARTITION BY カラム名, ... ] [ ORDER BY カラム名 [ASC | DESC], ... ] [フレームスペック] )\n",
        "```\n",
        "\n",
        "`OVER` 句が長いと SQL 文の見通しが悪くなる。また、1 つの `SELECT` 文の中で複数のウィンドウ関数を同じ内容の `OVER` 句を伴って使うということがあり、同じ内容の `OVER` 句を記述するのは面倒である。\n",
        "\n",
        "そこで、ウィンドウフレームの記述（の一部）をウィンドウと呼んで名前を付け、`OVER` 句ではウィンドウ名を記述することで、そこにウィンドウがコピーされるようになっている。ウィンドウ名は `WINDOW` 句で定義する。 `WINDOW` 句は、`WHERE` 条件式 や `GROUP BY / HAVING` の後ろ、`ORDER BY カラム名` の前に記述する。\n",
        "\n",
        "``` sql\n",
        "ウィンドウ関数1 OVER ウィンドウ名1, ウィンドウ関数2 OVER ウィンドウ名2, ...\n",
        "FROM テーブル名\n",
        "[ WHERE ... ]\n",
        "[ GROUP BY ... ]\n",
        "WINDOW ウィンドウ名1 AS ( [ PARTITION BY カラム名, ... ] [ ORDER BY カラム名 [ASC | DESC], ... ] [フレームスペック] ),\n",
        "       ウィンドウ名2 AS ( [ PARTITION BY カラム名, ... ] [ ORDER BY カラム名 [ASC | DESC], ... ] [フレームスペック] ),\n",
        "       ...\n",
        "[ ORDER BY ... ]\n",
        "[ LIMIT ... ]\n",
        "```\n",
        "\n",
        "ウィンドウフレームは、テーブルの中に設定される**パーティション**の範囲に限定される。言い換えれば、ウィンドウフレームはパーティションの部分集合である。テーブルのレコードは、 `OVER` 句の中の `PARTITION BY` で指定したカラムの値（の組み合わせ）でパーティションに分割される。 `PARTITION BY` を省略した場合は、テーブルの全レコードが 1 つのパーティションとなる。\n",
        "\n",
        "``` text\n",
        " テーブル\n",
        "┏━━━━━━━━━━━━━┓\n",
        "┃┌───────────┐┃\n",
        "┃│パーティション1       │┃\n",
        "┃│┌─────────┐│┃\n",
        "┃││ウィンドウフレーム││┃\n",
        "┃││                  ││┃\n",
        "┃│└─────────┘│┃\n",
        "┃├───────────┤┃\n",
        "┃│  パーティション2     │┃\n",
        "┃│┌─────────┐│┃\n",
        "┃││ウィンドウフレーム││┃\n",
        "┃││                  ││┃\n",
        "┃│└─────────┘│┃\n",
        "┃└───────────┘┃\n",
        "┗━━━━━━━━━━━━━┛\n",
        "```\n",
        "\n",
        "`OVER` 句の中の `ORDER BY` で指定したカラムの値（の組み合わせ）で各パーティション内のレコードがソートされる。`ORDER BY` の結果が同じ順位であるレコードのことを**ピア**（peer）と呼ぶ。`ORDER BY` がない場合は、パーティション内の全レコードがピアとされる。\n",
        "\n",
        "パーティション内でフレームスペックを満たすレコードの集合がウィンドウフレームとなる。\n",
        "\n",
        "ウィンドウ関数として、ビルトインの関数と集約関数が使える。ビルトインのウィンドウ関数のうち、以下の関数はウィンドウフレームを計算せず、パーティションの範囲で処理を行う（つまり、フレームスペックの指定は無視される）。\n",
        "\n",
        "| 関数 | 機能 |\n",
        "|:---|:---|\n",
        "| `ROW_NUMBER()` | 現在のパーティション内のレコードの番号（`1` から始まる整数）を返す |\n",
        "| `RANK()` | 現在のレコードを含むピア単位のグループで最初のレコードの `ROW_NUMBER()` を返す。これは `ORDER BY` による値の順位で、同順位の後は<br />飛ばした番号になる（例: 1、2、2、4） |\n",
        "| `DENSE_RANK()` | パーティション内の現在のレコードを含むピア単位のグループの数。これは `ORDER BY` による値の順位で、同順位の後は次の番号になる<br />（例: 1、2、2、3） |\n",
        "| `PERCENT_RANK()` | `( RANK() 関数で計算した順位 - 1 )  /  ( パーティションのレコード数 - 1 )` を返す |\n",
        "| `CUME_DIST()` | 現在のレコードを含むピア単位のグループ内で最後のレコードでの `ROW_NUMBER()` 関数の値を、パーティションのレコード数で割った結果<br />を返す |\n",
        "| `NTILE(N)` | パーティションを可能な限り均等に `N` 個のグループに分割し、`ORDER BY` による値の順序で各グループに `1` から `N` までの整数を割り当<br />て、現在のレコードが属するグループに割り当てられた整数値を返す |\n",
        "| `LAG(カラム名[, オフセット[, デフォルト]])` | 現在のレコードを基準にしてオフセット前（オフセットの指定がなければ 1 つ前）のレコードからカラムの値を取得して返す。パーティション<br />内にオフセット前のレコードがなければ NULL を返すが、デフォルトが指定されているときはそれを返す |\n",
        "| `LEAD(カラム名[, オフセット[, デフォルト]])` | 現在のレコードを基準にしてオフセット後（オフセットの指定がなければ 1 つ後）のレコードからカラムの値を取得して返す。パーティション<br />内にオフセット後のレコードがなければ NULL を返すが、デフォルトが指定されているときはそれを返す |\n",
        "\n",
        "`ORDER BY` 句の指定を省略した場合、全てのレコードがピアとみなされるため、`RANK()` 関数と `DENSE_RANK()` 関数では `1` が返され、 `PERCENT_RANK()` 関数では `0.0` が返され、`CUME_DIST()` 関数では `1.0` が返される。これら以外の関数では、レコードが取得された順序（`OVER` 句の外で `ORDER BY` を使用していればソートされた順序）に基づいて計算が行われる。"
      ],
      "metadata": {
        "id": "fItdAnNLFKLR"
      }
    },
    {
      "cell_type": "code",
      "source": [
        "import sqlite3\n",
        "\n",
        "con = sqlite3.connect(\":memory:\")\n",
        "sql_script = \"\"\"\n",
        "CREATE TABLE IF NOT EXISTS t1(col1 VARCHAR(1), col2 VARCHAR(10));\n",
        "INSERT INTO t1 VALUES\n",
        "  ('a', 'one__'),\n",
        "  ('a', 'two__'),\n",
        "  ('a', 'three'),\n",
        "  ('b', 'four_'),\n",
        "  ('c', 'five_'),\n",
        "  ('c', 'six__');\n",
        "\"\"\"\n",
        "con.executescript(sql_script)\n",
        "\n",
        "res = con.execute(\n",
        "    \"\"\"\n",
        "SELECT col1                AS col1,\n",
        "  ROW_NUMBER() OVER win    AS row_number,\n",
        "  RANK() OVER win          AS rank,\n",
        "  DENSE_RANK() OVER win    AS dense_rank,\n",
        "  PERCENT_RANK() OVER win  AS percent_rank,\n",
        "  CUME_DIST() OVER win     AS cume_dist\n",
        "FROM t1\n",
        "WINDOW win AS (ORDER BY col1);\n",
        "\"\"\"\n",
        ")\n",
        "print(f\"{[col for col, *_ in res.description]}\")\n",
        "for row in res:\n",
        "    print(row)\n",
        "print(\"\")\n",
        "\n",
        "res = con.execute(\n",
        "    \"\"\"\n",
        "SELECT col1, col2, ntile(2) OVER win AS ntile_2, ntile(4) OVER win AS ntile_4\n",
        "FROM t1\n",
        "WINDOW win AS (ORDER BY col1);\n",
        "\"\"\"\n",
        ")\n",
        "print(f\"{[col for col, *_ in res.description]}\")\n",
        "for row in res:\n",
        "    print(row)\n",
        "\n",
        "con.close()"
      ],
      "metadata": {
        "colab": {
          "base_uri": "https://localhost:8080/"
        },
        "id": "Y2h3IoFqGooo",
        "outputId": "443c61c8-9357-42dc-bbb0-4d802ceb63ba"
      },
      "execution_count": null,
      "outputs": [
        {
          "output_type": "stream",
          "name": "stdout",
          "text": [
            "['col1', 'row_number', 'rank', 'dense_rank', 'percent_rank', 'cume_dist']\n",
            "('a', 1, 1, 1, 0.0, 0.5)\n",
            "('a', 2, 1, 1, 0.0, 0.5)\n",
            "('a', 3, 1, 1, 0.0, 0.5)\n",
            "('b', 4, 4, 2, 0.6, 0.6666666666666666)\n",
            "('c', 5, 5, 3, 0.8, 1.0)\n",
            "('c', 6, 5, 3, 0.8, 1.0)\n",
            "\n",
            "['col1', 'col2', 'ntile_2', 'ntile_4']\n",
            "('a', 'one__', 1, 1)\n",
            "('a', 'two__', 1, 1)\n",
            "('a', 'three', 1, 2)\n",
            "('b', 'four_', 2, 2)\n",
            "('c', 'five_', 2, 3)\n",
            "('c', 'six__', 2, 4)\n"
          ]
        }
      ]
    },
    {
      "cell_type": "markdown",
      "source": [
        "一方、集約関数をウィンドウ関数として使う場合は、全てウィンドウフレームが計算される。次のビルトインのウィンドウ関数でもウィンドウフレームが計算される。\n",
        "\n",
        "| 関数 | 機能 |\n",
        "|:---|:---|\n",
        "| `FIRST_VALUE(カラム名)` | 現在のレコードに関するウィンドウフレームの最初のレコードからカラムの値を取得して返す |\n",
        "| `LAST_VALUE(カラム名)` | 現在のレコードに関するウィンドウフレームの最後のレコードからカラムの値を取得して返す |\n",
        "| `NTH_VALUE(カラム名, N)` | 現在のレコードに関するウィンドウフレームで `N` 番目のレコードからカラムの値を取得して返す。`N` 番目のレコードがなければ NULL を返す |\n",
        "\n",
        "`OVER` 句においてフレームスペックは次のように記述する:\n",
        "\n",
        "``` sql\n",
        "{ ROWS | RANGE | GROUPS } BETWEEN frame_start AND frame_end [ EXCLUDE frame_exclusion ]\n",
        "```\n",
        "\n",
        "frame_start と frame_end は、以下の 5 つから選択できる。\n",
        "\n",
        "| 構文 | 意味 |\n",
        "|:---|:---|\n",
        "| `UNBOUNDED PRECEDING` | パーティションの最初から |\n",
        "| `UNBOUNDED FOLLOWING` | パーティションの最後まで |\n",
        "| `値 PRECEDING` | 現在のレコードから `値` の分だけ前。`値` の意味は次のとおり<br />・`ROWS` モードでは、`値` はレコードの数を意味する。ピアであっても別々のレコードとして数える<br />・`RANGE` モードでは、`値` は現在のレコードの値との差分を意味する。差分の先ではそれを含むピア単位のグループを処理する<br />・`GROUPS` モードでは、`値` は現在のレコードを含むピア単位のグループ数を意味する |\n",
        "| `値 FOLLOWING` | 現在のレコードから `値` の分だけ後。`値` の意味は上記と同じ |\n",
        "| `CURRENT ROW` | `ROWS` モードでは現在のレコード、`RANGE` モードと `GROUPS` モードでは現在のレコードを含むピア単位のグループ |\n",
        "\n",
        "frame_start のみを指定することもでき、その場合、`BETWEEN frame_start AND CURRENT ROW` と同じ意味になる。\n",
        "\n",
        "`EXCLUDE frame_exclusion` は、以下の 4 つから選択できる。\n",
        "\n",
        "| EXCLUDE frame_exclusion | 意味 |\n",
        "|:---|:---|\n",
        "| `EXCLUDE NO OTHERS` | 何も除外しない。`EXCLUDE frame_exclusion` を省略した時と同じ |\n",
        "| `EXCLUDE CURRENT ROW` | `CURRENT ROW` を除外する |\n",
        "| `EXCLUDE GROUP` | 現在のレコードを含むピア単位のグループを除外する |\n",
        "| `EXCLUDE TIES` | 現在のレコードは除外しないが、同じピア単位のグループに含まれる他のレコードを除外する |\n",
        "\n",
        "フレームスペックを省略した場合は、 `RANGE BETWEEN UNBOUNDED PRECEDING AND CURRENT ROW EXCLUDE NO OTHERS` と同じ意味になる。\n",
        "\n",
        "したがって、ウィンドウ関数としての `SUM()` 関数は、デフォルトではパーティション内で最初のレコードから現在のレコードまでの累積合計を返す。また、フレームスペックを指定してウィンドウ関数としての `AVG()` が移動平均を返すようにできる。"
      ],
      "metadata": {
        "id": "IICeT4q_rYCh"
      }
    },
    {
      "cell_type": "code",
      "source": [
        "con = sqlite3.connect(\":memory:\")\n",
        "sql_script = \"\"\"\n",
        "CREATE TABLE IF NOT EXISTS t2(\n",
        "  year VARCHAR(4) NOT NULL,\n",
        "  visitors INT NOT NULL,\n",
        "  class VARCHAR(1) NOT NULL);\n",
        "INSERT INTO t2 VALUES\n",
        "  ('2016', 2078981, 'A'),\n",
        "  ('2017', 2086410, 'A'),\n",
        "  ('2018', 1968916, 'B'),\n",
        "  ('2019', 1970516, 'A'),\n",
        "  ('2020', 276471, 'B'),\n",
        "  ('2021', 544818, 'B'),\n",
        "  ('2022', 1291495, 'B'),\n",
        "  ('2023', 1882573, 'B'),\n",
        "  ('2024', 2075734, 'A');\n",
        "\"\"\"\n",
        "con.executescript(sql_script)\n",
        "\n",
        "res = con.execute(\"\"\"\n",
        "SELECT year AS '年',\n",
        "       visitors AS '年間入場者数',\n",
        "       visitors - LAG(visitors, 1, 0) OVER (ORDER BY year) AS '前年差',\n",
        "       SUM(visitors) OVER(ORDER BY year) AS '累計',\n",
        "       AVG(visitors) OVER(ORDER BY year ROWS BETWEEN 2 PRECEDING AND CURRENT ROW) AS '移動平均'\n",
        "FROM t2\n",
        "\"\"\")\n",
        "print(f\"{[col for col, *_ in res.description]}\")\n",
        "for row in res:\n",
        "    print(row)\n",
        "\n",
        "con.close()"
      ],
      "metadata": {
        "colab": {
          "base_uri": "https://localhost:8080/"
        },
        "id": "80M3MYkGfxov",
        "outputId": "851e062a-b55e-4a6a-f249-eebe4daa813e"
      },
      "execution_count": null,
      "outputs": [
        {
          "output_type": "stream",
          "name": "stdout",
          "text": [
            "['年', '年間入場者数', '前年差', '累計', '移動平均']\n",
            "('2016', 2078981, 2078981, 2078981, 2078981.0)\n",
            "('2017', 2086410, 7429, 4165391, 2082695.5)\n",
            "('2018', 1968916, -117494, 6134307, 2044769.0)\n",
            "('2019', 1970516, 1600, 8104823, 2008614.0)\n",
            "('2020', 276471, -1694045, 8381294, 1405301.0)\n",
            "('2021', 544818, 268347, 8926112, 930601.6666666666)\n",
            "('2022', 1291495, 746677, 10217607, 704261.3333333334)\n",
            "('2023', 1882573, 591078, 12100180, 1239628.6666666667)\n",
            "('2024', 2075734, 193161, 14175914, 1749934.0)\n"
          ]
        }
      ]
    },
    {
      "cell_type": "markdown",
      "source": [
        "### DISTINCT 句 ###"
      ],
      "metadata": {
        "id": "yRowj_QRBzpx"
      }
    },
    {
      "cell_type": "markdown",
      "source": [
        "``` sql\n",
        "SELECT DISTINCT カラム名, ... FROM テーブル名;\n",
        "```\n",
        "\n",
        "`SELECT` 文で `DISTINCT` を指定すると、重複しないようにカラム値を取得する。カラム名の指定が 1 つであればそのカラム値が同じレコード、カラム名の指定が複数であればその値の組み合わせが全て同じレコードを除いてデータを取得する。\n",
        "\n",
        "`DISTINCT` の指定は、`SELECT` の直後に記述する（`SELECT` と `DISTINCT` の間に置けるのは空白だけである）。"
      ],
      "metadata": {
        "id": "Z3Gty5rPB0ho"
      }
    },
    {
      "cell_type": "code",
      "source": [
        "import sqlite3\n",
        "\n",
        "con = sqlite3.connect(\":memory:\")\n",
        "sql_script = \"\"\"\n",
        "CREATE TABLE IF NOT EXISTS person(name TEXT, age INTEGER, height REAL);\n",
        "INSERT INTO person VALUES\n",
        "  ('山田太郎', 25, 170.5),\n",
        "  ('田中花子', 18, 158.2),\n",
        "  ('鈴木薫子', 30, 170.5),\n",
        "  ('渡辺洋平', 30, 170.5);\n",
        "\"\"\"\n",
        "con.executescript(sql_script)\n",
        "\n",
        "print(\"<DISTINCT height>\")\n",
        "res = con.execute(\"SELECT DISTINCT height FROM person\")\n",
        "print(f\"{[col for col, *_ in res.description]}\")\n",
        "for row in res:\n",
        "    print(row)\n",
        "\n",
        "print(\"<DISTINCT age, height>\")\n",
        "res = con.execute(\"SELECT DISTINCT age, height FROM person\")\n",
        "print(f\"{[col for col, *_ in res.description]}\")\n",
        "for row in res:\n",
        "    print(row)\n",
        "\n",
        "con.close()"
      ],
      "metadata": {
        "colab": {
          "base_uri": "https://localhost:8080/"
        },
        "id": "Wjc_v-roO3I9",
        "outputId": "325286e5-284f-4dcf-88b4-7b76f045fc5e"
      },
      "execution_count": null,
      "outputs": [
        {
          "output_type": "stream",
          "name": "stdout",
          "text": [
            "<DISTINCT height>\n",
            "['height']\n",
            "(170.5,)\n",
            "(158.2,)\n",
            "<DISTINCT age, height>\n",
            "['age', 'height']\n",
            "(25, 170.5)\n",
            "(18, 158.2)\n",
            "(30, 170.5)\n"
          ]
        }
      ]
    },
    {
      "cell_type": "markdown",
      "source": [
        "### サブクエリ ###"
      ],
      "metadata": {
        "id": "-ugDVmzfxzIq"
      }
    },
    {
      "cell_type": "markdown",
      "source": [
        "`SELECT` 文では、クエリを入れ子にすることができる。入れ子のクエリを**サブクエリ**と呼び、サブクエリを入れ子にしたクエリをメインクエリと呼ぶ。実行順序は「サブクエリ→メインクエリ」となり、サブクエリの実行結果を 1 つのテーブルと見なしながらメインクエリが実行される。\n",
        "\n",
        "`FROM` 句で、テーブルの指定に代えてサブクエリを指定することができる。\n",
        "\n",
        "``` sql\n",
        "SELECT カラム名, ... FROM (サブクエリ) AS 名前\n",
        "```\n",
        "\n",
        "サブクエリを指定した場合、サブクエリにより取得されたレコードに対して、カラムの値を取得する。それらのレコードのカラムを参照するには、`AS` で指定した名前を使って `名前.カラム名` と記述する。"
      ],
      "metadata": {
        "id": "IBKbUpVaxz5i"
      }
    },
    {
      "cell_type": "code",
      "source": [
        "import sqlite3\n",
        "\n",
        "con = sqlite3.connect(\":memory:\")\n",
        "sql_script = \"\"\"\n",
        "CREATE TABLE IF NOT EXISTS person(name TEXT, age INTEGER, address TEXT);\n",
        "INSERT INTO person VALUES\n",
        "  ('Yamada', 19, 'Tokyo'),\n",
        "  ('Andou', 34, 'Osaka'),\n",
        "  ('Kuwata', 26, 'Tokyo'),\n",
        "  ('Wada', 18, 'Tokyo'),\n",
        "  ('Suzuki', 27, 'Osaka'),\n",
        "  ('Yamada', 31, 'Tokyo'),\n",
        "  ('Anzai', 28, 'Nagoya'),\n",
        "  ('Etou', 19, 'Tokyo');\n",
        "\"\"\"\n",
        "con.executescript(sql_script)\n",
        "\n",
        "query = \"\"\"\n",
        "SELECT s1.address, s1.address_count\n",
        "    FROM (SELECT address, COUNT(address) AS address_count\n",
        "          FROM person\n",
        "          GROUP BY address) AS s1;\n",
        "\"\"\"\n",
        "res = con.execute(query)\n",
        "print(f\"{[col for col, *_ in res.description]}\")\n",
        "for row in res:\n",
        "    print(row)\n",
        "\n",
        "con.close()"
      ],
      "metadata": {
        "colab": {
          "base_uri": "https://localhost:8080/"
        },
        "id": "YmYt_oafyeVh",
        "outputId": "3bb2848c-5b7d-4e6e-88d1-29ab02233883"
      },
      "execution_count": null,
      "outputs": [
        {
          "output_type": "stream",
          "name": "stdout",
          "text": [
            "['address', 'address_count']\n",
            "('Nagoya', 1)\n",
            "('Osaka', 2)\n",
            "('Tokyo', 5)\n"
          ]
        }
      ]
    },
    {
      "cell_type": "markdown",
      "source": [
        "`WHERE` 句で、条件式の中にサブクエリを使うことができる。よく使われる形は、次のとおり:\n",
        "\n",
        "``` sql\n",
        "SELECT カラム名, ... FROM テーブル名 WHERE カラム名 〔=, <>, >, >=, <, <=〕 (サブクエリ)\n",
        "SELECT カラム名, ... FROM テーブル名 WHERE カラム名 IN (サブクエリ)\n",
        "SELECT カラム名, ... FROM テーブル名 WHERE カラム名 NOT IN (サブクエリ)\n",
        "```\n",
        "\n",
        "ただし、**1 行目の形では、サブクエリは  1 つのみカラムを持つレコードを返す必要がある**。唯一のカラムの値で比較が行われる。"
      ],
      "metadata": {
        "id": "YnR5pFra8uny"
      }
    },
    {
      "cell_type": "code",
      "source": [
        "import sqlite3\n",
        "\n",
        "con = sqlite3.connect(\":memory:\")\n",
        "sql_script = \"\"\"\n",
        "CREATE TABLE IF NOT EXISTS employees(\n",
        "    id INTEGER PRIMARY KEY,\n",
        "    name TEXT,\n",
        "    department_id INTEGER\n",
        "    );\n",
        "INSERT INTO employees(name, department_id) VALUES('佐藤', 1);\n",
        "INSERT INTO employees(name, department_id) VALUES('田中', 2);\n",
        "INSERT INTO employees(name, department_id) VALUES('鈴木', 3);\n",
        "\n",
        "CREATE TABLE IF NOT EXISTS department(\n",
        "    id INTEGER PRIMARY KEY,\n",
        "    name TEXT\n",
        "    );\n",
        "INSERT INTO department VALUES(1, '企画部');\n",
        "INSERT INTO department VALUES(2, '営業部');\n",
        "INSERT INTO department VALUES(3, '開発部');\n",
        "\"\"\"\n",
        "con.executescript(sql_script)\n",
        "\n",
        "query1 = \"\"\"\n",
        "SELECT *\n",
        "    FROM employees\n",
        "    WHERE department_id = (SELECT id FROM department WHERE name = '開発部')\n",
        "\"\"\"\n",
        "res = con.execute(query1)\n",
        "print(f\"{[col for col, *_ in res.description]}\")\n",
        "for row in res:\n",
        "    print(row)\n",
        "else:\n",
        "    print(\"\\n\", end=\"\")\n",
        "\n",
        "query2 = \"\"\"\n",
        "SELECT *\n",
        "    FROM employees\n",
        "    WHERE department_id IN (SELECT id FROM department WHERE name IN ('企画部', '営業部'));\n",
        "\"\"\"\n",
        "res = con.execute(query2)\n",
        "print(f\"{[col for col, *_ in res.description]}\")\n",
        "for row in res:\n",
        "    print(row)\n",
        "\n",
        "con.close()"
      ],
      "metadata": {
        "colab": {
          "base_uri": "https://localhost:8080/"
        },
        "id": "0n4Bte-c8vY6",
        "outputId": "61ce09b3-c921-43eb-9122-b412e18fa2b1"
      },
      "execution_count": null,
      "outputs": [
        {
          "output_type": "stream",
          "name": "stdout",
          "text": [
            "['id', 'name', 'department_id']\n",
            "(3, '鈴木', 3)\n",
            "\n",
            "['id', 'name', 'department_id']\n",
            "(1, '佐藤', 1)\n",
            "(2, '田中', 2)\n"
          ]
        }
      ]
    },
    {
      "cell_type": "markdown",
      "source": [
        "`WHERE` 句では、サブクエリを伴う条件式として `EXISTS`, `NOT EXISTS` が使える。\n",
        "\n",
        "``` sql\n",
        "SELECT カラム名, ... FROM テーブル名 WHERE EXISTS(サブクエリ)\n",
        "SELECT カラム名, ... FROM テーブル名 WHERE NOT EXISTS(サブクエリ)\n",
        "```\n",
        "\n",
        "  * `EXISTS(サブクエリ)` は、サブクエリが 1 つでもレコードを返したら 1 (True)、返さなければ 0 (False) を返す。\n",
        "  * `NOT EXISTS(サブクエリ)` は、サブクエリが 1 つでもレコードを返したら 0 (False)、返さなければ 1 (True) を返す。\n",
        "\n",
        "サブクエリの中では、どのテーブルのカラムを参照するのかを明確にするために `テーブル名.カラム名` の形を使うことができる。テーブルに `AS` で別名を付け、`別名.カラム名` としてもよい。"
      ],
      "metadata": {
        "id": "iaAMWXxkZ3ZM"
      }
    },
    {
      "cell_type": "code",
      "source": [
        "import sqlite3\n",
        "\n",
        "con = sqlite3.connect(\":memory:\")\n",
        "sql_script = \"\"\"\n",
        "CREATE TABLE IF NOT EXISTS employees(\n",
        "    id INTEGER PRIMARY KEY,\n",
        "    name TEXT,\n",
        "    department_id INTEGER\n",
        "    );\n",
        "INSERT INTO employees(name, department_id) VALUES('佐藤', 1);\n",
        "INSERT INTO employees(name, department_id) VALUES('田中', 2);\n",
        "INSERT INTO employees(name, department_id) VALUES('鈴木', 3);\n",
        "INSERT INTO employees(name, department_id) VALUES('渡辺', 4);\n",
        "\n",
        "CREATE TABLE department(\n",
        "    id INTEGER PRIMARY KEY,\n",
        "    name TEXT\n",
        "    );\n",
        "INSERT INTO department VALUES(1, '企画部');\n",
        "INSERT INTO department VALUES(2, '営業部');\n",
        "INSERT INTO department VALUES(3, '開発部');\n",
        "\"\"\"\n",
        "con.executescript(sql_script)\n",
        "\n",
        "query = \"\"\"\n",
        "SELECT *\n",
        "    FROM employees AS emp\n",
        "    WHERE NOT EXISTS(SELECT * FROM department AS dep WHERE emp.department_id = dep.id);\n",
        "\"\"\"\n",
        "res = con.execute(query)\n",
        "print(f\"{[col for col, *_ in res.description]}\")\n",
        "for row in res:\n",
        "    print(row)\n",
        "\n",
        "con.close()"
      ],
      "metadata": {
        "colab": {
          "base_uri": "https://localhost:8080/"
        },
        "id": "90t10f2GaJEi",
        "outputId": "ec58d20a-78fc-4033-82c7-5e2f56da203d"
      },
      "execution_count": null,
      "outputs": [
        {
          "output_type": "stream",
          "name": "stdout",
          "text": [
            "['id', 'name', 'department_id']\n",
            "(4, '渡辺', 4)\n"
          ]
        }
      ]
    },
    {
      "cell_type": "markdown",
      "source": [
        "### UPDATE 文 ###"
      ],
      "metadata": {
        "id": "6MSsXvFLX0Yq"
      }
    },
    {
      "cell_type": "markdown",
      "source": [
        "``` sql\n",
        "UPDATE テーブル名 SET カラム名1 = 値1, カラム名2 = 値2, ... [ WHERE 条件式 ];\n",
        "```\n",
        "\n",
        "指定したテーブルに含まれる全てのレコードに対して、各カラムの値をそれぞれ更新する。オプションの `WHERE 条件式` を指定した場合、`条件式` の評価が 1（TRUE）となるレコードのみ更新する。"
      ],
      "metadata": {
        "id": "jbdHIDIfX08R"
      }
    },
    {
      "cell_type": "markdown",
      "source": [
        "### DELETE 文 ###"
      ],
      "metadata": {
        "id": "4LUlP7DWg1K6"
      }
    },
    {
      "cell_type": "markdown",
      "source": [
        "``` sql\n",
        "DELETE FROM テーブル名 [ WHERE 条件式 ];\n",
        "```\n",
        "\n",
        "指定したテーブルに含まれる全てのレコードを削除する。オプションの `WHERE 条件式` を指定した場合、`条件式` の評価が 1（TRUE）となるレコードのみ削除する。"
      ],
      "metadata": {
        "id": "FklfZmtdg2OP"
      }
    },
    {
      "cell_type": "code",
      "source": [
        "import sqlite3\n",
        "\n",
        "con = sqlite3.connect(\":memory:\")\n",
        "sql_script = \"\"\"\n",
        "CREATE TABLE IF NOT EXISTS product(id INTEGER, name TEXT, price INTEGER);\n",
        "CREATE TABLE IF NOT EXISTS log(id INTEGER PRIMARY KEY, act TEXT);\n",
        "\n",
        "/* product テーブルにデータが追加/削除/更新された時にそれぞれトリガーが起動し、\n",
        "   log テーブルの act カラムにログを記録する */\n",
        "\n",
        "CREATE TRIGGER IF NOT EXISTS itrigger INSERT ON product\n",
        "BEGIN\n",
        " INSERT INTO log(act) VALUES('INSERT Action');\n",
        "END;\n",
        "\n",
        "CREATE TRIGGER IF NOT EXISTS utrigger UPDATE ON product\n",
        "BEGIN\n",
        " INSERT INTO log(act) VALUES('UPDATE Action');\n",
        "END;\n",
        "\n",
        "CREATE TRIGGER IF NOT EXISTS dtrigger DELETE ON product\n",
        "BEGIN\n",
        " INSERT INTO log(act) VALUES('DELETE Action');\n",
        "END;\n",
        "\n",
        "INSERT INTO product values(1, 'Book', 1500);\n",
        "UPDATE product SET price = 2500 WHERE id = 1;\n",
        "DELETE FROM product WHERE id = 1;\n",
        "\"\"\"\n",
        "con.executescript(sql_script)\n",
        "res = con.execute(\"SELECT * FROM log\")\n",
        "print(f\"{[col for col, *_ in res.description]}\")\n",
        "for row in res:\n",
        "    print(row)\n",
        "con.close()"
      ],
      "metadata": {
        "colab": {
          "base_uri": "https://localhost:8080/"
        },
        "id": "YgjZhjOdYO3u",
        "outputId": "76c38acd-bc1c-48e3-8a37-806251dd241e"
      },
      "execution_count": null,
      "outputs": [
        {
          "output_type": "stream",
          "name": "stdout",
          "text": [
            "['id', 'act']\n",
            "(1, 'INSERT Action')\n",
            "(2, 'UPDATE Action')\n",
            "(3, 'DELETE Action')\n"
          ]
        }
      ]
    },
    {
      "cell_type": "markdown",
      "source": [
        "### RETURNING 句 ###"
      ],
      "metadata": {
        "id": "Y01-I8l2TzM_"
      }
    },
    {
      "cell_type": "markdown",
      "source": [
        "`RETURNING` 句は、`INSERT` 文と `UPDATE` 文と `DELETE` 文の最後に追加できるオプションで、処理の対象となるレコードの内容を返す。\n",
        "\n",
        "`RETURNING` の後ろに値を取得したいカラムの名前を（カンマ区切りのリストで）指定する。`*` を指定すると、非表示でないすべてのカラム名のリストに展開される。 `RETURNING カラム名 AS 別名, ...` のようにカラムに別名をつけることもできる。\n",
        "\n",
        "`RETURNING` 構文は、標準 SQL にはないことに注意する。バージョン 3.35.0 以降の SQLite でサポートされた拡張機能である。 SQLite の `RETURNING` 構文は PostgreSQL をモデルにしている。"
      ],
      "metadata": {
        "id": "K1h-OjC9T0O-"
      }
    },
    {
      "cell_type": "code",
      "source": [
        "import sqlite3\n",
        "\n",
        "con = sqlite3.connect(\":memory:\")\n",
        "sql_script = \"\"\"\n",
        "CREATE TABLE IF NOT EXISTS customer(name TEXT, age INTEGER, address TEXT);\n",
        "INSERT INTO customer VALUES ('Andou', 34, 'Osaka');\n",
        "\"\"\"\n",
        "con.executescript(sql_script)\n",
        "\n",
        "def update_data(*params):\n",
        "    res = con.execute(\"UPDATE customer SET address = 'Nagoya' WHERE name = ? RETURNING rowid, *\", params)\n",
        "    for row in res:\n",
        "        print(row)\n",
        "\n",
        "update_data('Andou')\n",
        "con.close()"
      ],
      "metadata": {
        "colab": {
          "base_uri": "https://localhost:8080/"
        },
        "id": "KwMVO6YYT3cN",
        "outputId": "f3a0eabf-a11e-4ed3-fd8f-85f170912be2"
      },
      "execution_count": null,
      "outputs": [
        {
          "output_type": "stream",
          "name": "stdout",
          "text": [
            "(1, 'Andou', 34, 'Nagoya')\n"
          ]
        }
      ]
    },
    {
      "cell_type": "markdown",
      "source": [
        "複数テーブルの処理\n",
        "------------------"
      ],
      "metadata": {
        "id": "AMlXJpOzv3Tu"
      }
    },
    {
      "cell_type": "markdown",
      "source": [
        "### 複合クエリ ###"
      ],
      "metadata": {
        "id": "2B30TdF2ssqn"
      }
    },
    {
      "cell_type": "markdown",
      "source": [
        "**複合クエリ**とは、連携して単一の結果を返すクエリのグループのことを指す。複合クエリは、以下の演算子を使って記述する。全ての演算子は左結合的である。\n",
        "\n",
        "| 演算子 | 意味 | 集合演算 |\n",
        "|:---|:---|:---|\n",
        "| `UNION` | 重複する行を除いて、左辺に右辺を連結して返す | 和集合 |\n",
        "| `UNION ALL` | 重複する行を含めて、左辺に右辺を連結して返す | |\n",
        "| `INTERSECT` | 左辺にも右辺にも存在する行を返す | 積集合 |\n",
        "| `EXCEPT` | 左辺にあって右辺にない行を返す | 差集合 |\n",
        "\n",
        "左辺と右辺は、返す行（レコード）について、カラム定義とその順番が一致していなければならない。"
      ],
      "metadata": {
        "id": "dBDXbeXdstnY"
      }
    },
    {
      "cell_type": "code",
      "source": [
        "import sqlite3\n",
        "\n",
        "con = sqlite3.connect(\":memory:\")\n",
        "sql_script = \"\"\"\n",
        "CREATE TABLE IF NOT EXISTS book_1(title TEXT, author TEXT, price INTEGER);\n",
        "INSERT INTO book_1 VALUES('SQL入門', 'Masumi', 2500);\n",
        "INSERT INTO book_1 VALUES('Flutter入門', 'Masumi', 2500);\n",
        "INSERT INTO book_1(title, author) VALUES ('HTML入門', 'Hiro');\n",
        "\n",
        "/* book_1 のカラム定義のみを複製する。\n",
        "   WHERE に必ず 0 (False) を返す条件文を書いてレコードがコピーされないようにしている */\n",
        "CREATE TABLE IF NOT EXISTS book_2 AS SELECT * FROM book_1 WHERE 1 = 2;\n",
        "INSERT INTO book_2 VALUES('SQL入門', 'Masumi', 2500);\n",
        "INSERT INTO book_2 VALUES('GitHub入門2', 'Emma', 2200);\n",
        "INSERT INTO book_2 VALUES('Flutter上級', 'Oliva', 4500);\n",
        "\"\"\"\n",
        "con.executescript(sql_script)\n",
        "\n",
        "def output(header, res):\n",
        "    print(header)\n",
        "    print(f\"{[col for col, *_ in res.description]}\")\n",
        "    for row in res:\n",
        "        print(row)\n",
        "\n",
        "output(\"<UNION>\",\n",
        "       con.execute(\"SELECT * FROM book_1 UNION SELECT * FROM book_2\"))\n",
        "output(\"<UNION ALL>\",\n",
        "       con.execute(\"SELECT * FROM book_1 UNION ALL SELECT * FROM book_2\"))\n",
        "output(\"<INTERSECT>\",\n",
        "       con.execute(\"SELECT * FROM book_1 INTERSECT SELECT * FROM book_2\"))\n",
        "output(\"<EXCEPT>\",\n",
        "       con.execute(\"SELECT * FROM book_1 EXCEPT SELECT * FROM book_2\"))\n",
        "\n",
        "con.close()"
      ],
      "metadata": {
        "colab": {
          "base_uri": "https://localhost:8080/"
        },
        "id": "Sf-GnWg1Qj4p",
        "outputId": "1a8503d6-2433-4f60-a153-cdb3d8f94764"
      },
      "execution_count": null,
      "outputs": [
        {
          "output_type": "stream",
          "name": "stdout",
          "text": [
            "<UNION>\n",
            "['title', 'author', 'price']\n",
            "('Flutter上級', 'Oliva', 4500)\n",
            "('Flutter入門', 'Masumi', 2500)\n",
            "('GitHub入門2', 'Emma', 2200)\n",
            "('HTML入門', 'Hiro', None)\n",
            "('SQL入門', 'Masumi', 2500)\n",
            "<UNION ALL>\n",
            "['title', 'author', 'price']\n",
            "('SQL入門', 'Masumi', 2500)\n",
            "('Flutter入門', 'Masumi', 2500)\n",
            "('HTML入門', 'Hiro', None)\n",
            "('SQL入門', 'Masumi', 2500)\n",
            "('GitHub入門2', 'Emma', 2200)\n",
            "('Flutter上級', 'Oliva', 4500)\n",
            "<INTERSECT>\n",
            "['title', 'author', 'price']\n",
            "('SQL入門', 'Masumi', 2500)\n",
            "<EXCEPT>\n",
            "['title', 'author', 'price']\n",
            "('Flutter入門', 'Masumi', 2500)\n",
            "('HTML入門', 'Hiro', None)\n"
          ]
        }
      ]
    },
    {
      "cell_type": "markdown",
      "source": [
        "### 内部結合 ###"
      ],
      "metadata": {
        "id": "hb_yH5CTv4CZ"
      }
    },
    {
      "cell_type": "markdown",
      "source": [
        "``` sql\n",
        "SELECT テーブル名.カラム名, ... FROM テーブル名1 [ INNER ] JOIN テーブル名2 ON テーブル名1.カラム名1 = テーブル名2.カラム名2;\n",
        "```\n",
        "\n",
        "2 つのテーブルについて、それぞれ `ON` の条件でカラム値が一致するレコードのみを抽出して 1 つのレコードに結合する。これを**内部結合**と呼ぶ。`ON` の条件では、どちらか一方のテーブルのカラムは重複する値を持たないことが必要である。 `ON` の条件で一致しない以上は、どちらのテーブルのレコードも抽出されないことに注意する。\n",
        "\n",
        "内部結合の場合は `ON` の条件が同じなら、どちらのテーブルを先に記述しても結果としては（カラムの順番を除いて）同じになる。\n",
        "\n",
        "結合済みのレコードからカラムを指定して値を取得する場合、取得するカラムはどちらのテーブルにあるどのカラムなのかが分かるように `テーブル名.カラム名` の形式で指定する。どちらかのテーブルにしか含まれていないカラム名ならば、`テーブル名.` を省略してもよい。`ON` の条件でのカラム指定も同様である。\n",
        "\n",
        "`テーブル名 AS 別名` でテーブルの別名を指定し、その別名を使うこともできる。`AS` を省略して `テーブル名 別名` と書いてもよい。\n",
        "\n",
        "`WHERE 条件式` を指定すれば、結合済みのレコードを条件式で絞り込むことができる。`WHERE 条件式` は、内部結合の記述の後ろに記述する。\n",
        "\n",
        "`INNER` は省略できる。さらに、次のように、`INNER JOIN` をカンマ `,` に代えてもよい:\n",
        "\n",
        "``` sql\n",
        "SELECT テーブル名.カラム名, ... FROM テーブル名1, テーブル名2 ON テーブル名1.カラム名1 = テーブル名2.カラム名2;\n",
        "```\n",
        "\n",
        "テーブルの結合が必要な事例を挙げる。次のような 2 つのテーブルがあるとする。\n",
        "\n",
        "![](https://www.plantuml.com/plantuml/png/SoWkIImgAStDuR8fBgdCIRNZAihFBr6evb9Go4qiIi_Cir8mi0Po2X9JKZBpqi6yMgwIp9ASLB2YjFoyak3CgbGh1KCJQnWVQ11G82-_A3Sn1wJSHXzgTd5sPbv1Ob5YBimy1HE8MLofkGKv-PMfgSLSDifkOA2Zx0m6TZMscIarjdc9kQarjYcfGEqbkQbv9V50GQuQmvedUoUycBwanX38CQfvFcN3anrhQuo07EEQbnrRdirPKMCCv9ZKFDknyCM-NJKcG8vfpSlLCvwjx0RfuK8OYCzYY4rx6fzFsVsoUGNOggVJjZrRkXR8WzWrhVlvp5rWNcfUYWB4Jmv09Z1a0G00)\n",
        "\n",
        "1 つの department のレコード（部署）は、employees の各レコード（社員）に関連付けられている。多重度は一対多である。この場合に、テーブル結合をしないで、2 つのテーブルから直接 5 人の社員が所属する部署の名前を取得する SQL 文を考える。まず、各社員の department_id を取得する SQL 文 `SELECT department_id FROM employees LIMIT 5;` を発行する。次に、部署の id が department_id に一致するという条件で部署の name を取得する SQL 文 `SELECT name FROM department WHERE id=?;`（`?` は department_id に置き換えられるプレースホルダー）を 5 回発行することになる。都合、5+1 回の SQL 文発行となる。この方法では、社員の数が 10000 人なら 10000+1 回の SQL 文発行となり、パフォーマンスが悪化する。この問題を **N+1 問題**という。N+1 問題の解決策の 1 つがテーブル結合である。テーブルを結合する SQL 文を 1 つ発行するだけで、必要な情報を取得することができる。"
      ],
      "metadata": {
        "id": "hMOchCQJv6vc"
      }
    },
    {
      "cell_type": "code",
      "source": [
        "import sqlite3\n",
        "\n",
        "con = sqlite3.connect(\":memory:\")\n",
        "sql_script = \"\"\"\n",
        "CREATE TABLE IF NOT EXISTS employees(\n",
        "    id INTEGER PRIMARY KEY,\n",
        "    name TEXT,\n",
        "    department_id INTEGER\n",
        "    );\n",
        "INSERT INTO employees VALUES\n",
        "  (1, '佐藤', 1),\n",
        "  (2, '田中', 2),\n",
        "  (3, '鈴木', 3),\n",
        "  (4, '渡辺', 4),\n",
        "  (5, '高橋', 1);\n",
        "\n",
        "CREATE TABLE department(\n",
        "    id INTEGER PRIMARY KEY,\n",
        "    name TEXT\n",
        "    );\n",
        "INSERT INTO department VALUES\n",
        "  (1, '企画部'),\n",
        "  (2, '営業部'),\n",
        "  (3, '開発部');\n",
        "\"\"\"\n",
        "con.executescript(sql_script)\n",
        "\n",
        "# 結合したデータをそのまま出力する\n",
        "res = con.execute(\"SELECT * FROM employees AS emp INNER JOIN department AS dep ON emp.department_id = dep.id\")\n",
        "print(f\"{[col for col, *_ in res.description]}\")\n",
        "for row in res:\n",
        "    print(row)\n",
        "else:\n",
        "    print(\"\\n\", end=\"\")\n",
        "\n",
        "# テーブルの順番を入れ替えても同じ結果を得る\n",
        "res = con.execute(\"SELECT * FROM department AS dep INNER JOIN employees AS emp ON emp.department_id = dep.id\")\n",
        "print(f\"{[col for col, *_ in res.description]}\")\n",
        "for row in res:\n",
        "    print(row)\n",
        "else:\n",
        "    print(\"\\n\", end=\"\")\n",
        "\n",
        "# WHERE 条件式を付け、かつ、値を取得するカラムを選択する\n",
        "query = \"\"\"\n",
        "SELECT emp.id AS id, emp.name AS name, dep.name AS department\n",
        "    FROM employees AS emp, department AS dep\n",
        "    ON emp.department_id = dep.id\n",
        "    WHERE dep.id = 1\n",
        "\"\"\"\n",
        "res = con.execute(query)\n",
        "print(f\"{[col for col, *_ in res.description]}\")\n",
        "for row in res:\n",
        "    print(row)\n",
        "\n",
        "con.close()"
      ],
      "metadata": {
        "colab": {
          "base_uri": "https://localhost:8080/"
        },
        "id": "R4H-Y0iqv9Ba",
        "outputId": "53381b3c-aef4-4699-883a-88f2c0e02130"
      },
      "execution_count": null,
      "outputs": [
        {
          "output_type": "stream",
          "name": "stdout",
          "text": [
            "['id', 'name', 'department_id', 'id', 'name']\n",
            "(1, '佐藤', 1, 1, '企画部')\n",
            "(2, '田中', 2, 2, '営業部')\n",
            "(3, '鈴木', 3, 3, '開発部')\n",
            "(5, '高橋', 1, 1, '企画部')\n",
            "\n",
            "['id', 'name', 'id', 'name', 'department_id']\n",
            "(1, '企画部', 1, '佐藤', 1)\n",
            "(2, '営業部', 2, '田中', 2)\n",
            "(3, '開発部', 3, '鈴木', 3)\n",
            "(1, '企画部', 5, '高橋', 1)\n",
            "\n",
            "['id', 'name', 'department']\n",
            "(1, '佐藤', '企画部')\n",
            "(5, '高橋', '企画部')\n"
          ]
        }
      ]
    },
    {
      "cell_type": "markdown",
      "source": [
        "上記のコードでは、employees デーブルの「渡辺」の department_id が不正な値である。このように不正な値や NULL を含むレコードは、内部結合では取得できない（つまり結合後に消失する）ことに注意する。"
      ],
      "metadata": {
        "id": "IbuoNOeW41Y5"
      }
    },
    {
      "cell_type": "markdown",
      "source": [
        "### 外部結合 ###"
      ],
      "metadata": {
        "id": "Q6A8Ri5j9GG7"
      }
    },
    {
      "cell_type": "markdown",
      "source": [
        "``` sql\n",
        "SELECT テーブル名.カラム名, ... FROM テーブル名1 LEFT [ OUTER ] JOIN テーブル名2 ON テーブル名1.カラム名1 = テーブル名2.カラム名2;\n",
        "```\n",
        "\n",
        "`テーブル名1` のレコードに対して、`テーブル名2` のレコードの中から `ON` の条件でカラム値が一致するものを全て抽出し、それぞれ `テーブル名1` のレコードに結合する。`ON` の条件で一致する `テーブル名2` のレコードがない場合は、`テーブル名2` に由来するカラムを `NULL` にして `テーブル名1` のレコードに結合する。これを `テーブル名1` の全てのレコードに対して繰り返す。`テーブル名1` のレコードは、全て少なくとも 1 回は抽出される。これを**左外部結合**と呼ぶ。\n",
        "\n",
        "``` sql\n",
        "SELECT テーブル名.カラム名, ... FROM テーブル名1 RIGHT [ OUTER ] JOIN テーブル名2 ON テーブル名1.カラム名1 = テーブル名2.カラム名2;\n",
        "```\n",
        "\n",
        "`テーブル名2` のレコードに対して、`テーブル名1` のレコードの中から `ON` の条件でカラム値が一致するものを全て抽出し、それぞれ `テーブル名2` のレコードに結合する。`ON` の条件で一致する `テーブル名1` のレコードがない場合は、`テーブル名1` に由来するカラムを `NULL` にして `テーブル名2` のレコードに結合する。これを `テーブル名2` の全てのレコードに対して繰り返す。`テーブル名2` のレコードは、全て少なくとも 1 回は抽出される。これを**右外部結合**と呼ぶ。\n",
        "\n",
        "``` sql\n",
        "SELECT テーブル名.カラム名, ... FROM テーブル名1 FULL [ OUTER ] JOIN テーブル名2 ON テーブル名1.カラム名1 = テーブル名2.カラム名2;\n",
        "```\n",
        "\n",
        "2 つのテーブルのレコードを全て少なくとも 1 回は抽出し、その際、`ON` の条件でカラム値が一致する各テーブルのレコードを結合する。`ON` の条件で一致するレコードがない場合は、カラムを `NULL` にしたレコードが結合される。これを**完全外部結合**と呼ぶ。\n",
        "\n",
        "以下の事項は、3 つの外部結合に共通する。\n",
        "\n",
        "  * `ON` の条件では、少なくともどちらか一方のテーブルのカラムは重複する値を持たないことが必要である。\n",
        "  * 結合済みレコードのカラムの順番は、まず `テーブル名1` に由来するカラム、次に `テーブル名2` に由来するカラムとなる。\n",
        "  * `OUTER` は省略できる。\n",
        "  * 結合済みレコードからカラムを指定して値を取得する方法や、別名の使用、`WHERE 条件式` は内部結合の場合と同様である。\n",
        "\n",
        "なお、SQLite では、右外部結合と完全外部結合は v3.39.0 以降でサポートされる。"
      ],
      "metadata": {
        "id": "ru1cgqRZ9HGy"
      }
    },
    {
      "cell_type": "code",
      "source": [
        "import sqlite3\n",
        "\n",
        "con = sqlite3.connect(\":memory:\")\n",
        "sql_script = \"\"\"\n",
        "CREATE TABLE IF NOT EXISTS employees(\n",
        "    id INTEGER PRIMARY KEY,\n",
        "    name TEXT,\n",
        "    department_id INTEGER\n",
        "    );\n",
        "INSERT INTO employees VALUES\n",
        "  (1, '佐藤', 1),\n",
        "  (2, '田中', 2),\n",
        "  (3, '鈴木', 3),\n",
        "  (4, '渡辺', 4),\n",
        "  (5, '高橋', 1);\n",
        "\n",
        "CREATE TABLE IF NOT EXISTS department(\n",
        "    id INTEGER PRIMARY KEY,\n",
        "    name TEXT\n",
        "    );\n",
        "INSERT INTO department VALUES\n",
        "  (1, '企画部'),\n",
        "  (2, '営業部'),\n",
        "  (3, '開発部');\n",
        "\"\"\"\n",
        "con.executescript(sql_script)\n",
        "\n",
        "def output(header, res):\n",
        "    print(header)\n",
        "    print(f\"{[col for col, *_ in res.description]}\")\n",
        "    for row in res:\n",
        "        print(row)\n",
        "\n",
        "output(\"<LEFT OUTER JOIN>\",\n",
        "       con.execute(\"SELECT * FROM employees AS emp LEFT JOIN department AS dep ON emp.department_id = dep.id\"))\n",
        "output(\"<LEFT OUTER JOIN>\",\n",
        "       con.execute(\"SELECT * FROM department AS dep LEFT JOIN employees AS emp ON emp.department_id = dep.id\"))\n",
        "# v3.39.0 以降でサポート\n",
        "# output(\"<RIGHT OUTER JOIN>\",\n",
        "#        con.execute(\"SELECT * FROM employees AS emp RIGHT JOIN department AS dep ON emp.department_id = dep.id\"))\n",
        "# output(\"<RIGHT OUTER JOIN>\",\n",
        "#        con.execute(\"SELECT * FROM department AS dep RIGHT JOIN employees AS emp ON emp.department_id = dep.id\"))\n",
        "# output(\"<FULL OUTER JOIN>\",\n",
        "#        con.execute(\"SELECT * FROM employees AS emp FULL JOIN department AS dep ON emp.department_id = dep.id\"))\n",
        "\n",
        "con.close()"
      ],
      "metadata": {
        "colab": {
          "base_uri": "https://localhost:8080/"
        },
        "id": "pHFZgLJEGnU-",
        "outputId": "79ff79ac-4947-4672-9e58-83ce7e9da4a2"
      },
      "execution_count": null,
      "outputs": [
        {
          "output_type": "stream",
          "name": "stdout",
          "text": [
            "<LEFT OUTER JOIN>\n",
            "['id', 'name', 'department_id', 'id', 'name']\n",
            "(1, '佐藤', 1, 1, '企画部')\n",
            "(2, '田中', 2, 2, '営業部')\n",
            "(3, '鈴木', 3, 3, '開発部')\n",
            "(4, '渡辺', 4, None, None)\n",
            "(5, '高橋', 1, 1, '企画部')\n",
            "<LEFT OUTER JOIN>\n",
            "['id', 'name', 'id', 'name', 'department_id']\n",
            "(1, '企画部', 1, '佐藤', 1)\n",
            "(1, '企画部', 5, '高橋', 1)\n",
            "(2, '営業部', 2, '田中', 2)\n",
            "(3, '開発部', 3, '鈴木', 3)\n"
          ]
        }
      ]
    },
    {
      "cell_type": "markdown",
      "source": [
        "内部結合、外部結合については、次の画像でわかりやすくまとめられている（[Wikimedia Commons 記事](https://commons.wikimedia.org/wiki/File:SQL_Joins.svg)から引用）。\n",
        "\n",
        "![](https://upload.wikimedia.org/wikipedia/commons/9/9d/SQL_Joins.svg)"
      ],
      "metadata": {
        "id": "q-4QiD8cL6Ym"
      }
    },
    {
      "cell_type": "markdown",
      "source": [
        "### 交差結合 ###"
      ],
      "metadata": {
        "id": "TNFF50a2_GrD"
      }
    },
    {
      "cell_type": "markdown",
      "source": [
        "``` sql\n",
        "SELECT テーブル名.カラム名, ... FROM テーブル名1 CROSS JOIN テーブル名2;\n",
        "```\n",
        "\n",
        "2 つのテーブルのレコードのペアを全て使って、それぞれ結合する。`テーブル名1` のレコード数×`テーブル名2` のレコード数の行が生成されるので、処理に時間がかかる可能性がある。\n",
        "\n",
        "結合済みレコードからカラムを指定して値を取得する方法や、別名の使用、`WHERE 条件式` は内部結合の場合と同様である。"
      ],
      "metadata": {
        "id": "jDZaJoZQ_H16"
      }
    },
    {
      "cell_type": "code",
      "source": [
        "import sqlite3\n",
        "\n",
        "con = sqlite3.connect(\":memory:\")\n",
        "sql_script = \"\"\"\n",
        "CREATE TABLE IF NOT EXISTS employees(\n",
        "    id INTEGER PRIMARY KEY,\n",
        "    name TEXT,\n",
        "    department_id INTEGER\n",
        "    );\n",
        "INSERT INTO employees VALUES\n",
        "  (1, '佐藤', 1),\n",
        "  (2, '田中', 2),\n",
        "  (3, '鈴木', 3),\n",
        "  (4, '渡辺', 4),\n",
        "  (5, '高橋', 1);\n",
        "\n",
        "CREATE TABLE IF NOT EXISTS department(\n",
        "    id INTEGER PRIMARY KEY,\n",
        "    name TEXT\n",
        "    );\n",
        "INSERT INTO department VALUES\n",
        "  (1, '企画部'),\n",
        "  (2, '営業部'),\n",
        "  (3, '開発部');\n",
        "\"\"\"\n",
        "con.executescript(sql_script)\n",
        "\n",
        "res = con.execute(\"SELECT * FROM employees CROSS JOIN department\")\n",
        "print(f\"{[col for col, *_ in res.description]}\")\n",
        "for row in res:\n",
        "    print(row)\n",
        "\n",
        "con.close()"
      ],
      "metadata": {
        "colab": {
          "base_uri": "https://localhost:8080/"
        },
        "id": "a4yRLOCW_KYK",
        "outputId": "85b60210-c604-48b8-9c14-839f99801661"
      },
      "execution_count": null,
      "outputs": [
        {
          "output_type": "stream",
          "name": "stdout",
          "text": [
            "['id', 'name', 'department_id', 'id', 'name']\n",
            "(1, '佐藤', 1, 1, '企画部')\n",
            "(1, '佐藤', 1, 2, '営業部')\n",
            "(1, '佐藤', 1, 3, '開発部')\n",
            "(2, '田中', 2, 1, '企画部')\n",
            "(2, '田中', 2, 2, '営業部')\n",
            "(2, '田中', 2, 3, '開発部')\n",
            "(3, '鈴木', 3, 1, '企画部')\n",
            "(3, '鈴木', 3, 2, '営業部')\n",
            "(3, '鈴木', 3, 3, '開発部')\n",
            "(4, '渡辺', 4, 1, '企画部')\n",
            "(4, '渡辺', 4, 2, '営業部')\n",
            "(4, '渡辺', 4, 3, '開発部')\n",
            "(5, '高橋', 1, 1, '企画部')\n",
            "(5, '高橋', 1, 2, '営業部')\n",
            "(5, '高橋', 1, 3, '開発部')\n"
          ]
        }
      ]
    },
    {
      "cell_type": "markdown",
      "source": [
        "### eager loading ###"
      ],
      "metadata": {
        "id": "4nghFypfZnvD"
      }
    },
    {
      "cell_type": "markdown",
      "source": [
        "複合クエリやテーブル結合を使用すると、テーブルが一時的に作成されて使い捨てにされる。クエリの結果が非常に大きい場合、これは深刻なパフォーマンス低下を引き起こす。 N+1 問題の解決策としてテーブル結合を安易に使うことはできないということである。\n",
        "\n",
        "そこで、テーブル結合の代わりに、 eager loading（事前読み込み）と呼ばれる手法が使われることがある。 eager loading は、一方のテーブルから SELECT 文であらかじめデータを取得しておいて、そのデータを使って他方のテーブルから SELECT 文と WHERE - IN 句で必要なデータを取得するというものである。 SQL 文の発行は 2 回で済む。このようなことは、クエリだけで完結できるものではないのであって、 2 つのクエリの間に Python 側の処理を挟むことによって実現している。"
      ],
      "metadata": {
        "id": "WKPBK-ecZoqJ"
      }
    },
    {
      "cell_type": "code",
      "source": [
        "import sqlite3\n",
        "\n",
        "con = sqlite3.connect(\":memory:\")\n",
        "sql_script = \"\"\"\n",
        "CREATE TABLE IF NOT EXISTS employees(\n",
        "    id INTEGER PRIMARY KEY,\n",
        "    name TEXT,\n",
        "    department_id INTEGER\n",
        "    );\n",
        "INSERT INTO employees VALUES\n",
        "  (1, '佐藤', 1),\n",
        "  (2, '田中', 2),\n",
        "  (3, '鈴木', 3),\n",
        "  (4, '渡辺', 4),\n",
        "  (5, '高橋', 1);\n",
        "\n",
        "CREATE TABLE IF NOT EXISTS department(\n",
        "    id INTEGER PRIMARY KEY,\n",
        "    name TEXT\n",
        "    );\n",
        "INSERT INTO department VALUES\n",
        "  (1, '企画部'),\n",
        "  (2, '営業部'),\n",
        "  (3, '開発部');\n",
        "\"\"\"\n",
        "con.executescript(sql_script)\n",
        "\n",
        "# eager loading\n",
        "res1 = con.execute(\"SELECT * FROM department\")\n",
        "departments = {row[0]: row[1] for row in res1}\n",
        "print(f\"{departments=}\")\n",
        "sql = \"SELECT * FROM employees WHERE department_id IN (%s)\" % \",\".join([\"?\"] * len(departments))\n",
        "print(f\"{sql=}\")\n",
        "res2 = con.execute(sql, list(departments))\n",
        "for row in res2:\n",
        "    print(row[1], departments[row[2]])\n",
        "\n",
        "con.close()"
      ],
      "metadata": {
        "colab": {
          "base_uri": "https://localhost:8080/"
        },
        "id": "PSnWf_wWbWdK",
        "outputId": "181148f2-f783-4bd2-b004-33e4da61b87d"
      },
      "execution_count": null,
      "outputs": [
        {
          "output_type": "stream",
          "name": "stdout",
          "text": [
            "departments={1: '企画部', 2: '営業部', 3: '開発部'}\n",
            "sql='SELECT * FROM employees WHERE department_id IN (?,?,?)'\n",
            "佐藤 企画部\n",
            "田中 営業部\n",
            "鈴木 開発部\n",
            "高橋 企画部\n"
          ]
        }
      ]
    },
    {
      "cell_type": "markdown",
      "source": [
        "トランザクション制御\n",
        "--------------------"
      ],
      "metadata": {
        "id": "sLto4cOp1V5F"
      }
    },
    {
      "cell_type": "markdown",
      "source": [
        "### SQLite のトランザクション制御 ###"
      ],
      "metadata": {
        "id": "95PvcJN5yTwu"
      }
    },
    {
      "cell_type": "markdown",
      "source": [
        "以下の標準 SQL のコマンドは、TCL に分類される。TCL は、Transaction Control Language（トランザクション制御言語）の略で、その名のとおりトランザクションの制御に使用する命令である。\n",
        "\n",
        "  * `COMMIT`\n",
        "  * `ROLLBACK`\n",
        "  * `SET TRANSACTION`\n",
        "\n",
        "SQLite は、 `SET TRANSACTION` をサポートしない代わりに、以下のコマンドをサポートする。\n",
        "\n",
        "  * `BEGIN`\n",
        "  * `SAVEPOINT`\n",
        "\n",
        "標準 SQL では、トランザクションの開始は常に暗黙的で、`COMMIT` または `ROLLBACK` で終了する。一方、SQLite では、トランザクションの暗黙的な開始はオートコミットモードの機能とされ、暗黙的なコミットとセットになる。オートコミットモードはデフォルトでオンになっていて、`BEGIN` コマンドでトランザクションを開始することにより無効になり、`COMMIT` または `ROLLBACK` によって再度有効になる。\n",
        "\n",
        "また、SQLite は標準 SQL とは異なるトランザクションの分離レベルを定義している。トランザクションの分離レベルとは、複数のトランザクションが開始されている場合に、それらが互いに干渉して不整合が生じることを回避するため、それらがどの程度互いに影響を受けずに処理を行えるかを制御するものである。SQLite のトランザクションの分離レベルは次のとおり。\n",
        "\n",
        "  * `DEFERRED`: 排他制御は、この接続が実際に読み書きを行うまで延期される。延期中は、他の接続による読み書きが可能である。SQLite のトランザクションでは、これがデフォルトの動作となる。\n",
        "  * `IMMEDIATE`: 直ちにデータベースをロックする。トランザクション中に、他の接続による書き込みを許可しないが、読み出しは許可する。\n",
        "  * `EXCLUSIVE`: 直ちにデータベースをロックする。トランザクション中に、他の接続による読み書きを許可しない。\n",
        "\n",
        "``` sql\n",
        "BEGIN [ DEFERRED | IMMEDIATE | EXCLUSIVE ] [ TRANSACTION ];\n",
        "```\n",
        "\n",
        "`BEGIN` コマンドは、オートコミットモードを無効にし、トランザクションを手動で開始する。トランザクションの分離レベルの設定や、`TRANSACTION` の記述は省略できる。したがって、最も簡単な `BEGIN` 文は `BEGIN;` となる。\n",
        "\n",
        "オートコミットモードが有効な場合、および、 `BEGIN` コマンドでトランザクションの分離レベルを指定しなかった場合、トランザクションの分離レベルは `DEFERRED` である。SQLite による DB 利用は 1 接続という形が多いため、最も処理の軽い `DEFERRED` がデフォルトになっている。同時に他の接続がある場合は、不整合が生じることを回避するために、`BEGIN` コマンドで `IMMEDIATE` か `EXCLUSIVE` のトランザクションを開始する必要がある。\n",
        "\n",
        "``` sql\n",
        "SAVEPOINT セーブポイント名\n",
        "```\n",
        "\n",
        "`SAVEPOINT` コマンドは、名前を付けて新しいトランザクションを開始する。既存のトランザクションに対して新しいトランザクションがネストされる形となる。\n",
        "\n",
        "なお、`BEGIN` コマンドで作成されたトランザクションはネストされない。トランザクション内で `BEGIN` コマンドを実行すると、エラーが発生して失敗する。\n",
        "\n",
        "``` sql\n",
        "COMMIT [ TRANSACTION ]\n",
        "```\n",
        "\n",
        "`COMMIT` コマンドは、未処理のトランザクションをすべてコミットし、全てのトランザクションを終了する。`TRANSACTION` の記述は省略できる。\n",
        "\n",
        "``` sql\n",
        "ROLLBACK [ TRANSACTION ] [ TO [ SAVEPOINT ] セーブポイント名 ]\n",
        "```\n",
        "\n",
        "`TO` 句のない `ROLLBACK` コマンドは全てのトランザクションをロールバックし、全てのトランザクションを終了する。`TO` 句を指定した `ROLLBACK` コマンドは、一致する名前を持つ最新のセーブポイントまでトランザクションを時間を遡ってロールバックする。一致する名前のセーブポイントで開始したトランザクションは残る。一致する名前のセーブポイントが見つからない場合は、エラーで失敗し、DB の状態は変更されない。`TRANSACTION` や `SAVEPOINT` の記述は省略できる。"
      ],
      "metadata": {
        "id": "aBF_tMl71Wxu"
      }
    },
    {
      "cell_type": "code",
      "source": [
        "import sqlite3\n",
        "\n",
        "con = sqlite3.connect(\":memory:\")\n",
        "sql_script = \"\"\"\n",
        "CREATE TABLE IF NOT EXISTS book(title TEXT, author TEXT, price INTEGER);\n",
        "BEGIN;\n",
        "INSERT INTO book VALUES('SQL入門', 'Masumi', 2500);\n",
        "SAVEPOINT temp_savepoint;\n",
        "INSERT INTO book VALUES('Flutter入門', 'Masumi', 2500);\n",
        "INSERT INTO book(title, author) VALUES('HTML入門', 'Hiro');\n",
        "ROLLBACK TO SAVEPOINT temp_savepoint;\n",
        "INSERT INTO book VALUES('Flutter上級', 'Oliva', 4500);\n",
        "COMMIT;\n",
        "\"\"\"\n",
        "con.executescript(sql_script)\n",
        "res = con.execute(\"SELECT * FROM book\")\n",
        "print(f\"{[col for col, *_ in res.description]}\")\n",
        "for row in res:\n",
        "    print(row)"
      ],
      "metadata": {
        "colab": {
          "base_uri": "https://localhost:8080/"
        },
        "id": "rHs6RUs07dLu",
        "outputId": "e332152a-3a80-4a8c-a4d6-673a790f78b8"
      },
      "execution_count": null,
      "outputs": [
        {
          "output_type": "stream",
          "name": "stdout",
          "text": [
            "['title', 'author', 'price']\n",
            "('SQL入門', 'Masumi', 2500)\n",
            "('Flutter上級', 'Oliva', 4500)\n"
          ]
        }
      ]
    },
    {
      "cell_type": "markdown",
      "source": [
        "### Python によるトランザクション制御 ###"
      ],
      "metadata": {
        "id": "SiuQxUgA44jB"
      }
    },
    {
      "cell_type": "markdown",
      "source": [
        "Python からのトランザクション処理は、DB-API 2.0 の `commit()` や `rollback()` を使用できる。これに関して PEP 249 は、DBMS がオートコミット機能をサポートしている場合、オートコミット機能は初期状態でオフになっていなければならないとしている。そうでないと、先にコミットが自動で行われて `commit()` や `rollback()` は効果がないからである。\n",
        "\n",
        "しかしながら、SQLite のオートコミットモードはデフォルトでオフにできない。そこで、`sqlite3` はトランザクションを制御する複数の方法を提供している。関係するコネクションオブジェクトの属性は以下の通り。\n",
        "\n",
        "  * `isolation_level`: `sqlite3` の旧来のトランザクション処理モードを制御する。\n",
        "  * `autocommit`: PEP 249 対応のトランザクションの振る舞いを制御する。Python 3.12 で追加。\n",
        "  * `in_transaction`: 読み取り専用プロパティで、トランザクション中でコミットされていない変更がある場合は `True`、それ以外の場合は `False` を返す。\n",
        "\n",
        "`isolation_level` 属性は、一般に `sqlite3.connect()` の `isolation_level` 引数を使用して設定する。一定の文字列か `None` を指定できる。\n",
        "\n",
        "`isolation_level` が `'DEFERRED'`, `'IMMEDIATE'`, `'EXCLUSIVE'` のいずれかに設定された接続の場合、 `execute()` や `executemany()` は、開始されているトランザクションがなく、かつ、SQL 文が `INSERT` または `UPDATE` または `DELETE` 文であれば、SQL 文を実行する前に、暗黙的に `BEGIN` 文をその分離レベルで実行する。 `commit()` メソッドや `rollback()` メソッドを使用して、保留中のトランザクションをそれぞれコミットおよびロールバックする。`isolation_level` のデフォルト値は `'DEFERRED'`。\n",
        "\n",
        "次のコードでは、預金口座の残高を記録する `accounts` テーブルに対して、振込処理を行う関数 `transfer()` を定義している。この関数は、コネクションオブジェクト、振込金額、振込元の口座名義、振込先の口座名義を引数に取る。関数の本体では、振込元の減算処理と振込先の加算処理をあえて 2 回の `execute()` に分けて行っている。 try 文で、この関数を 2 回呼び出している。2 回目の呼び出しでは、振込先に存在しない口座を指定してエラーを発生させ、例外処理で `rollback()` メソッドを呼び出す。"
      ],
      "metadata": {
        "id": "vZZnUhib45vj"
      }
    },
    {
      "cell_type": "code",
      "source": [
        "import sqlite3\n",
        "\n",
        "\n",
        "def transfer(conn, amount, sender_name, recipient_name):\n",
        "    \"\"\"口座振込の処理を行う\"\"\"\n",
        "    # 振込元の減算処理\n",
        "    conn.execute(\"UPDATE accounts SET balance = balance - ? WHERE name = ?\", (amount, sender_name))\n",
        "    recipient_check = conn.execute(\"SELECT * FROM accounts WHERE name = ?\", (recipient_name,)).fetchall()\n",
        "    if len(recipient_check) == 0:\n",
        "        raise ValueError(\"振込先が正しくありません\")\n",
        "    # 振込先の加算処理\n",
        "    conn.execute(\"UPDATE accounts SET balance = balance + ? WHERE name = ?\", (amount, recipient_name))\n",
        "\n",
        "\n",
        "database = \"accounts.db\"\n",
        "con = sqlite3.connect(database)\n",
        "sql_script = \"\"\"\n",
        "CREATE TABLE IF NOT EXISTS accounts(name TEXT, balance INTEGER);\n",
        "INSERT INTO accounts VALUES('田中', 1000000);\n",
        "INSERT INTO accounts VALUES('鈴木', 500000);\n",
        "\"\"\"\n",
        "con.executescript(sql_script)\n",
        "# いったん接続を閉じる\n",
        "con.close()\n",
        "\n",
        "try:\n",
        "    # 口座振込処理のための接続\n",
        "    con = sqlite3.connect(database)\n",
        "    transfer(con, 100000, \"田中\", \"鈴木\")\n",
        "    transfer(con, 20000, \"田中\", \"伊藤\")  # 存在しない口座への振り込みでエラーを発生させる\n",
        "except ValueError as err:\n",
        "    con.rollback()\n",
        "    print(f\"{type(err).__name__}: {err}\")\n",
        "finally:\n",
        "    con.commit()\n",
        "    con.close()\n",
        "\n",
        "# テーブルを確認\n",
        "con = sqlite3.connect(database)\n",
        "res = con.execute(\"SELECT * FROM accounts\")\n",
        "print(f\"{[col for col, *_ in res.description]}\")\n",
        "for row in res:\n",
        "    print(row)\n",
        "con.close()"
      ],
      "metadata": {
        "colab": {
          "base_uri": "https://localhost:8080/"
        },
        "id": "OR7N6qjMuORq",
        "outputId": "820925e9-e8ee-4837-ad87-f662de36e8f2"
      },
      "execution_count": null,
      "outputs": [
        {
          "output_type": "stream",
          "name": "stdout",
          "text": [
            "ValueError: 振込先が正しくありません\n",
            "['name', 'balance']\n",
            "('田中', 1000000)\n",
            "('鈴木', 500000)\n"
          ]
        }
      ]
    },
    {
      "cell_type": "markdown",
      "source": [
        "結果から、`finally` 節の `commit()` で確定される変更がなかったことがわかる。なぜならば、トランザクションは、1 回目の `transfer()` 呼び出しにより `execute()` が最初に実行された時点で（暗黙的な `BEGIN` 文の実行により）開始されていたからである。`rollback()` メソッドはこの時点まで時間を遡ってロールバックしている。\n",
        "\n",
        "`isolation_level`が `None` に設定された接続の場合、暗黙的な `BEGIN` 文の実行は行われない。この接続では、SQLite のオートコミットモードがオンのままなので、`commit()` や `rollback()` は効果がない。 `None` の設定は、明示的に `BEGIN`, `COMMIT`, `ROLLBACK` 文を記述して、ユーザーが独自のトランザクション処理を行うために設けられている（[公式ドキュメント](https://docs.python.org/ja/3/library/sqlite3.html#transaction-control-via-the-isolation-level-attribute)参照）。もしユーザーが独自のトランザクション処理を記述せず、オートコミットモードに頼っていると、自動的なコミットのタイミングを見誤って意図しない結果を生じることがある。たとえば、上記のコードの try 文を、`isolation_level`が `None` に設定された接続に変更して、以下のようなコードを書いたとする:"
      ],
      "metadata": {
        "id": "H-ZyCxQHHOPl"
      }
    },
    {
      "cell_type": "code",
      "source": [
        "try:\n",
        "    # 口座振込処理のための接続（オートコミットモードは有効）\n",
        "    con = sqlite3.connect(database, isolation_level=None)\n",
        "    transfer(con, 100000, \"田中\", \"鈴木\")\n",
        "    transfer(con, 20000, \"田中\", \"伊藤\")  # 存在しない口座への振り込みでエラーを発生させる\n",
        "except ValueError as err:\n",
        "    print(f\"{type(err).__name__}: {err}\")  # オートコミットモードが有効なので、rollback() を使わない\n",
        "finally:\n",
        "    con.close()  # オートコミットモードが有効なので、commit() を使わない\n",
        "\n",
        "# テーブルを確認\n",
        "con = sqlite3.connect(database)\n",
        "res = con.execute(\"SELECT * FROM accounts\")\n",
        "print(f\"{[col for col, *_ in res.description]}\")\n",
        "for row in res:\n",
        "    print(row)\n",
        "con.close()\n",
        "\n",
        "import os\n",
        "os.unlink(database)"
      ],
      "metadata": {
        "colab": {
          "base_uri": "https://localhost:8080/"
        },
        "id": "Tgv1Mvg_HPQE",
        "outputId": "0b84ea80-2be3-4649-b314-54bf688665c9"
      },
      "execution_count": null,
      "outputs": [
        {
          "output_type": "stream",
          "name": "stdout",
          "text": [
            "ValueError: 振込先が正しくありません\n",
            "['name', 'balance']\n",
            "('田中', 880000)\n",
            "('鈴木', 600000)\n"
          ]
        }
      ]
    },
    {
      "cell_type": "markdown",
      "source": [
        "結果から、1 回目の `transfer()` の処理は確定され、2 回目の `transfer()` の処理は振込元の減算処理だけ確定されたため、2 万円が行方不明になってしまった。オートコミットモードの機能により、`UPDATE` 文を発行する `execute()` を呼び出すたびに暗黙のトランザクション処理が行われてしまったからである。\n",
        "\n",
        "コミットは時間がかかる処理なので、オートコミットモードのままで `execute()` や `executemany()` で大量のデータ変更を行おうとすると、非常に時間がかかることにも注意する。\n",
        "\n",
        "`executescript()` メソッドは、 `isolation_level` の値に関係なく、与えられた SQL スクリプトの実行前に、保留中のトランザクションを暗黙にコミットする。\n",
        "\n",
        "Python 3.12 からは、`autocommit` 属性によりトランザクションを制御する方法が追加された。この属性は、一般に `sqlite3.connect()` の `autocommit` 引数を使用して設定する。モジュール定数 `sqlite3.LEGACY_TRANSACTION_CONTROL` または `True` または `False` を指定できる。デフォルトでは、`sqlite3.LEGACY_TRANSACTION_CONTROL` であり、旧来どおり `isolation_level` 属性によってトランザクション制御が行われるから、`isolation_level` を使っている既存のコードの互換性は保たれる。\n",
        "\n",
        "`autocommit` が `False` の場合、 `sqlite3.connect()` 関数やコネクションオブジェクトの `commit()` や `rollback()` メソッドは、暗黙に `BEGIN DEFERRED` 文を実行してトランザクションを開始する。このため、常にオートコミットが無効のままトランザクションが開いていることが保証される。\n",
        "\n",
        "`autocommit` が `True` の場合、オートコミットはオンのままである。"
      ],
      "metadata": {
        "id": "Omedt6F66c9B"
      }
    },
    {
      "cell_type": "markdown",
      "source": [
        "クエリ実行計画\n",
        "--------------"
      ],
      "metadata": {
        "id": "YKU9KiVt-_9F"
      }
    },
    {
      "cell_type": "markdown",
      "source": [
        "**クエリ実行計画**（query execution plan）とは、与えられた SQL 文に対して、RDBMS はどのインデックスを使って（あるいはインデックスを使わずにテーブルスキャンで）クエリを処理するかという情報である。\n",
        "\n",
        "標準 SQL には、クエリ実行計画を出力するコマンドはない。しかし、代表的な RDBMS は、クエリ実行計画を出力する `EXPLAIN` コマンドをサポートする。SQLite もクエリ実行計画の出力をサポートするが、コマンドは `EXPLAIN QUERY PLAN` となる。\n",
        "\n",
        "``` sql\n",
        "EXPLAIN QUERY PLAN SQL文\n",
        "```\n",
        "\n",
        "次のコードでは、`'name'` カラム、`'created_at'` の順で指定した複合インデックスを作成している。"
      ],
      "metadata": {
        "id": "yTT3HaaH_D9G"
      }
    },
    {
      "cell_type": "code",
      "source": [
        "import sqlite3\n",
        "import time\n",
        "\n",
        "con = sqlite3.connect(\":memory:\")\n",
        "sql_script = \"\"\"\n",
        "CREATE TABLE IF NOT EXISTS users(\n",
        "    id INTEGER PRIMARY KEY,\n",
        "    name CHAR(30),\n",
        "    email CHAR(256),\n",
        "    created_at TEXT DEFAULT CURRENT_TIMESTAMP\n",
        "    );\n",
        "CREATE INDEX IF NOT EXISTS idx_users_name ON users(name);\n",
        "\"\"\"\n",
        "con.executescript(sql_script)\n",
        "\n",
        "# 100件のレコードを作る\n",
        "for i in range(100):\n",
        "    time.sleep(0.01)\n",
        "    username = \"user\" + str(i)\n",
        "    con.execute(\n",
        "        \"INSERT INTO users(name, email) VALUES(?, ?)\",\n",
        "        (username, username + \"@example.com\"),\n",
        "    )\n",
        "\n",
        "# 名前が 'user98' のレコードを取り出してみる\n",
        "res = con.execute(\"SELECT * FROM users WHERE name = 'user98'\")\n",
        "print(f\"{[col for col, *_ in res.description]}\")\n",
        "for row in res:\n",
        "    user98_created_at = row[3]\n",
        "    print(row)\n",
        "\n",
        "print(\"〈name を使った場合の実行計画〉\")\n",
        "plan = con.execute(\"EXPLAIN QUERY PLAN SELECT * FROM users WHERE name = 'user98'\")\n",
        "print(f\"{[col for col, *_ in plan.description]}\")\n",
        "for row in plan:\n",
        "    print(row)\n",
        "\n",
        "print(\"〈created_at を使った場合の実行計画〉\")\n",
        "plan = con.execute(\"EXPLAIN QUERY PLAN SELECT * FROM users WHERE created_at = ?\", (user98_created_at,))\n",
        "print(f\"{[col for col, *_ in plan.description]}\")\n",
        "for row in plan:\n",
        "    print(row)\n",
        "\n",
        "con.close()"
      ],
      "metadata": {
        "colab": {
          "base_uri": "https://localhost:8080/"
        },
        "id": "m0rTTP4ShX91",
        "outputId": "b39e356a-c696-447a-8992-508d2cd4ae0b"
      },
      "execution_count": null,
      "outputs": [
        {
          "output_type": "stream",
          "name": "stdout",
          "text": [
            "['id', 'name', 'email', 'created_at']\n",
            "(99, 'user98', 'user98@example.com', '2024-10-26 17:25:05')\n",
            "〈name を使った場合の実行計画〉\n",
            "['id', 'parent', 'notused', 'detail']\n",
            "(3, 0, 0, 'SEARCH users USING INDEX idx_users_name (name=?)')\n",
            "〈created_at を使った場合の実行計画〉\n",
            "['id', 'parent', 'notused', 'detail']\n",
            "(2, 0, 0, 'SCAN users')\n"
          ]
        }
      ]
    },
    {
      "cell_type": "markdown",
      "source": [
        "実行計画の `'detail'` カラムに注目する。`'name'` を指定した検索ではインデックス `idx_users_name_created_at` が使われる。これに対して、 `'created_at'` を指定した検索ではテーブルスキャンが行われる。複合インデックスから 2 つ目以降のカラムのみを選んで検索に使うことはできないからである。"
      ],
      "metadata": {
        "id": "EpaPtocKjKTQ"
      }
    },
    {
      "cell_type": "markdown",
      "source": [
        "SQLite 独自のコマンド\n",
        "---------------------"
      ],
      "metadata": {
        "id": "YaH1sNnIDZ6x"
      }
    },
    {
      "cell_type": "markdown",
      "source": [
        "``` sql\n",
        "VACUUM;\n",
        "```\n",
        "\n",
        "SQLite 独自の `VACUUM` コマンドは、データベースファイルを再構築する。データベースファイルからデータを削除しても、空のスペースが残る。`VACUUM` を実行してデータベースを再構築すると、この領域が再利用され、データベースファイルのサイズが削減される。\n",
        "\n",
        "INTEGER PRIMARY KEY が付いたカラムがないテーブルの場合、`VACUUM` コマンドの実行により、格納されているデータに割り当てられた ROWID が変更される可能性がある。\n",
        "\n",
        "`VACUUM` を実行しようとしているデータベース接続上に開始しているトランザクションがある場合、`VACUUM` は失敗する。\n",
        "\n",
        "以下のコードは、`VACUUM` コマンドを使用してデータベースファイルを最適化する例である。\n",
        "\n",
        "``` python\n",
        "import sqlite3\n",
        "\n",
        "con = sqlite3.connect(\"database.db\")\n",
        "cur = con.cursor()\n",
        "\n",
        "# VACUUMコマンド実行\n",
        "cur.execute(\"VACUUM;\")\n",
        "\n",
        "con.commit()\n",
        "con.close()\n",
        "```\n",
        "\n",
        "``` sql\n",
        "PRAGMA [pragma-name] [ = value ]\n",
        "```\n",
        "\n",
        "SQLite 独自の `PRAGMA` 文は、SQLite の動作を変更したり、SQLite に関する内部データを照会したりするために使用される。既出だが、次のコマンドを実行することで、外部キー制約を有効化することができる。\n",
        "\n",
        "``` sql\n",
        "PRAGMA foreign_keys = ON;\n",
        "```"
      ],
      "metadata": {
        "id": "fsQ7siGpDav5"
      }
    },
    {
      "cell_type": "markdown",
      "source": [
        "SQLite URI\n",
        "----------"
      ],
      "metadata": {
        "id": "Mah0KlvspOeD"
      }
    },
    {
      "cell_type": "markdown",
      "source": [
        "SQLite では、接続するデータベースファイルを、ファイルシステム上のパス名ではなく、`file:/path/to/database.db` のように URI 形式で指定することができる。スキームの部分は `'file:'` でなければならない。パスは相対パスまたは絶対パスにすることができる。クエリ文字列により、パラメーターを SQLite に渡すことができる。\n",
        "\n",
        "| クエリ | 意味 |\n",
        "|:---|:---|\n",
        "| `mode` | データベースの読み取りモードを指定する<br /><br />・`mode=ro`: 読み取り専用<br /><br />・`mode=rw`: 読み書き可能<br /><br />・`mode=rwc`: 読み書き可能でファイルがなければ新規作成<br /><br />・`mode=memory`: インメモリ |\n",
        "\n",
        "`sqlite3.connect()` 関数では、第 1 引数に URI 形式で指定する場合、`uri` 引数を `True` に設定する必要がある。\n",
        "\n",
        "以下のコードは、データベースを読み取り専用で開く例である。\n",
        "\n",
        "``` python\n",
        "con = sqlite3.connect(\"file:database.db?mode=ro\", uri=True)\n",
        "```"
      ],
      "metadata": {
        "id": "5jXrE9XDpPed"
      }
    },
    {
      "cell_type": "markdown",
      "source": [
        "UUID\n",
        "----"
      ],
      "metadata": {
        "id": "1SYJ4PpG7vQR"
      }
    },
    {
      "cell_type": "markdown",
      "source": [
        "データベースを使った Web アプリケーションでは、 URL にレコードの ID を含ませて、 URL から特定のレコードを抽出しクライアントへのレスポンスを生成するということが行われる。この場合、URL の中でレコードの ID が公開されるため、連番の ID を使うと以下のような弊害がある。\n",
        "\n",
        "  * ID が容易に推測され、不正アクセスに利用される可能性がある\n",
        "  * 一定期間の ID の増分を調べることでサイト全体の利用状況がわかる\n",
        "\n",
        "そこで、衝突する可能性（＝同じ値が同時に存在する可能性）が極めて低いランダムな 128 ビットの数値として、**UUID**（Universally Unique Identifier）バージョン 4（v4）が使用される。\n",
        "\n",
        "  * UUID は、標準化団体 [IETF](https://ja.wikipedia.org/wiki/Internet_Engineering_Task_Force) の RFC 4122 で規格化され、異なる生成方法によりバージョンが定められている。 v4 は完全に乱数のみによって UUID を生成する方法で、安全であるとされている。\n",
        "  * UUID は 128 ビットの数値だが、 `550e8400-e29b-41d4-a716-446655440000` のような 32 桁の 16 進数文字列による表現も仕様で定められている。この表現で 2 つ目のハイフン `-` の直後の位置する桁がバージョンを示す。\n",
        "\n",
        "SQLite には UUID を生成する関数がないが、その代用として `RANDOMBLOB()` という SQLite 独自の関数が用意されている。 `RANDOMBLOB(N)` で `N` バイト数分の `BLOB` 型の乱数を生成し、その値を `HEX()` 関数に渡し 16 進数文字列を得ることができる。"
      ],
      "metadata": {
        "id": "uCtyaRIAwi83"
      }
    },
    {
      "cell_type": "code",
      "source": [
        "import sqlite3\n",
        "con = sqlite3.connect(\":memory:\")\n",
        "res = con.execute(\"SELECT HEX(RANDOMBLOB(16))\")  # SELECT 文で [FROM テーブル名] を省略すると関数の結果を取得する\n",
        "for row in res:\n",
        "    print(row)\n",
        "con.close()"
      ],
      "metadata": {
        "colab": {
          "base_uri": "https://localhost:8080/"
        },
        "id": "XGf0cd5qwkew",
        "outputId": "cdeb10a1-ff80-4260-e111-948f63d66cef"
      },
      "execution_count": null,
      "outputs": [
        {
          "output_type": "stream",
          "name": "stdout",
          "text": [
            "('70A7650B9212FE7EFC3E61EE8C761A5F',)\n"
          ]
        }
      ]
    },
    {
      "cell_type": "markdown",
      "source": [
        "もちろん、この生成方法は UUID の標準に従っていない。 UUID の標準では、乱数の生成方法が決められ、特定の桁ではバージョンや変種を示すことが定められている。ちゃんと UUID の標準に従うなら、 Python 標準ライブラリの `uuid` モジュールを使用する必要がある。\n",
        "\n",
        "`uuid.UUID` クラスは、 UUID を扱うためのクラスである。次のようにインスタンス化する。\n",
        "\n",
        "``` python\n",
        "# 32 桁の 16 進数文字列から生成（ハイフンを付けてもよい）\n",
        "uuid.UUID('12345678123456781234567812345678')\n",
        "uuid.UUID('12345678-1234-5678-1234-567812345678')\n",
        "\n",
        "# 16 バイトのバイト列（バイトオーダーがビッグエンディアン）から生成\n",
        "uuid.UUID(bytes='\\x12\\x34\\x56\\x78\\x12\\x34\\x56\\x78\\x12\\x34\\x56\\x78\\x12\\x34\\x56\\x78')\n",
        "\n",
        "# 16 バイトのバイト列（バイトオーダーがリトルエンディアン）から生成\n",
        "uuid.UUID(bytes_le='\\x78\\x56\\x34\\x12\\x34\\x12\\x78\\x56\\x12\\x34\\x56\\x78\\x12\\x34\\x56\\x78')\n",
        "\n",
        "# 128 ビット整数から生成\n",
        "uuid.UUID(int=0x12345678123456781234567812345678)\n",
        "```\n",
        "\n",
        "`uuid.UUID` の主な属性は次のとおり。\n",
        "\n",
        "| 属性 | 意味 |\n",
        "|:---|:---|\n",
        "| `hex` | 32 桁の 16 進数文字列での UUID |\n",
        "| `bytes` | 16 バイトのバイト列（バイトオーダーがビッグエンディアン）の UUID |\n",
        "| `bytes_le` | 16 バイトのバイト列（バイトオーダーがリトルエンディアン）の UUID |\n",
        "| `int` | 128 ビット整数での UUID |\n",
        "\n",
        "`str(uuid)` は 32 桁の 16 進数で UUID を表す `'12345678-1234-5678-1234-567812345678'` 形式の文字列を返す。\n",
        "\n",
        "また、 `uuid.uuid4()` 関数は、 UUID v4 を生成して `uuid.UUID` のインスタンスを返す。"
      ],
      "metadata": {
        "id": "tZm7BQP27wJ_"
      }
    },
    {
      "cell_type": "code",
      "source": [
        "import uuid\n",
        "id = uuid.uuid4()\n",
        "id.hex, str(id), id.int"
      ],
      "metadata": {
        "colab": {
          "base_uri": "https://localhost:8080/"
        },
        "id": "Vrgo5nQ4GQU4",
        "outputId": "c30b0bc9-84b0-4b9c-b61b-5a03c1407917"
      },
      "execution_count": null,
      "outputs": [
        {
          "output_type": "execute_result",
          "data": {
            "text/plain": [
              "('72ecc51b02424858b08b242bb11aee62',\n",
              " '72ecc51b-0242-4858-b08b-242bb11aee62',\n",
              " 152761371352646036865736636746232950370)"
            ]
          },
          "metadata": {},
          "execution_count": 34
        }
      ]
    },
    {
      "cell_type": "markdown",
      "source": [
        "Python `sqlite3` モジュールのプレースホルダー機能を使えば、 `uuid.uuid4()` 関数の結果を SQL 文に埋め込むことができる。\n",
        "\n",
        "もし MySQL の関数 `UUID_TO_BIN()`、`BIN_TO_UUID()` に相当する関数が必要ならば、 Python で次のコードのように定義できる。"
      ],
      "metadata": {
        "id": "Y17VpCZ77eNY"
      }
    },
    {
      "cell_type": "code",
      "source": [
        "import uuid\n",
        "\n",
        "def uuid_to_bin(string_uuid: str) -> bytes:\n",
        "    u = uuid.UUID(string_uuid)\n",
        "    return u.bytes\n",
        "\n",
        "def bin_to_uuid(binary_uuid: bytes) -> str:\n",
        "    u = uuid.UUID(bytes=binary_uuid)\n",
        "    return str(u)\n",
        "\n",
        "if __name__ == \"__main__\":\n",
        "    string_uuid = str(uuid.uuid4())\n",
        "    print(f\"{string_uuid=}\")\n",
        "    binary_uuid = uuid_to_bin(string_uuid)\n",
        "    print(f\"{binary_uuid=}\")\n",
        "    assert bin_to_uuid(binary_uuid) == string_uuid"
      ],
      "metadata": {
        "colab": {
          "base_uri": "https://localhost:8080/"
        },
        "id": "Pj-ks6Tn9BaX",
        "outputId": "29528acf-4aac-4883-beb7-6da1ee5137e1"
      },
      "execution_count": null,
      "outputs": [
        {
          "output_type": "stream",
          "name": "stdout",
          "text": [
            "string_uuid='fb39682b-c97a-4194-be24-cfd631fcac27'\n",
            "binary_uuid=b\"\\xfb9h+\\xc9zA\\x94\\xbe$\\xcf\\xd61\\xfc\\xac'\"\n"
          ]
        }
      ]
    },
    {
      "cell_type": "markdown",
      "source": [
        "SQLite には UUID 用のデータ型はない。 16 バイトのバイト列形式が最も空間効率が良いので、これを BLOB affinity で格納するとよい。カラムには UNIQUE 制約を付けておく。\n",
        "\n",
        "以下のコードは、 UUID v4 を格納するカラムを含むテーブルを作成する例である。"
      ],
      "metadata": {
        "id": "nw3zKW3lY3lq"
      }
    },
    {
      "cell_type": "code",
      "source": [
        "import sqlite3\n",
        "import uuid\n",
        "\n",
        "con = sqlite3.connect(\":memory:\")\n",
        "sql_script = \"\"\"\n",
        "CREATE TABLE IF NOT EXISTS customers(\n",
        "    id INTEGER PRIMARY KEY,\n",
        "    name TEXT,\n",
        "    uuid BLOB UNIQUE\n",
        ");\n",
        "\"\"\"\n",
        "con.executescript(sql_script)\n",
        "data = [\"山田太郎\", uuid.uuid4().bytes]\n",
        "res = con.execute(\"INSERT INTO customers(name, uuid) VALUES(?, ?) RETURNING *\", data)\n",
        "print(f\"{[col for col, *_ in res.description]}\")\n",
        "for row in res:\n",
        "    print(row, f\"uuid={uuid.UUID(bytes=row[2])}\")\n",
        "con.close()"
      ],
      "metadata": {
        "colab": {
          "base_uri": "https://localhost:8080/"
        },
        "id": "n0ylXyJsaK4i",
        "outputId": "5b0529a4-c4d6-4402-9df0-64d787f3528e"
      },
      "execution_count": null,
      "outputs": [
        {
          "output_type": "stream",
          "name": "stdout",
          "text": [
            "['id', 'name', 'uuid']\n",
            "(1, '山田太郎', b'\\xd4\\x99\\x93\\xc0\\x1d\\x80@\\x84\\xbe\\x91H\\xab\\x08w\\xd2W') uuid=d49993c0-1d80-4084-be91-48ab0877d257\n"
          ]
        }
      ]
    },
    {
      "cell_type": "markdown",
      "source": [
        "上記のコードでは、 `id INTEGER PRIMARY KEY` というカラムも定義している。 `id` カラムは連番となるので時系列ソートが可能である。このテーブルでは、ローカルなレコードの処理に `id` カラムを使用し、公開する ID に UUID を使用することができる。\n",
        "\n",
        "主キーによる時系列ソートが必要でなく、かつ、将来テーブルを結合することに備えて複数のテーブルにわたり ID を全て異なるものにしたい場合には、主キーに UUID v4 を使用することも考えられる。ただし、主キーに UUID v4 を使用すると、単調増加の整数値を使用する場合より比較やインデックス化にコストがかかるので、パフォーマンスが低下する可能性がある。"
      ],
      "metadata": {
        "id": "q50HLFVnhL6p"
      }
    }
  ]
}