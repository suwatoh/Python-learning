{
  "nbformat": 4,
  "nbformat_minor": 0,
  "metadata": {
    "colab": {
      "provenance": [],
      "toc_visible": true,
      "authorship_tag": "ABX9TyMVFsyeZ9z2os01sz/oFqjk",
      "include_colab_link": true
    },
    "kernelspec": {
      "name": "python3",
      "display_name": "Python 3"
    },
    "language_info": {
      "name": "python"
    }
  },
  "cells": [
    {
      "cell_type": "markdown",
      "metadata": {
        "id": "view-in-github",
        "colab_type": "text"
      },
      "source": [
        "<a href=\"https://colab.research.google.com/github/suwatoh/Python-learning/blob/main/134_%E3%83%87%E3%83%BC%E3%82%BF%E3%83%99%E3%83%BC%E3%82%B9.ipynb\" target=\"_parent\"><img src=\"https://colab.research.google.com/assets/colab-badge.svg\" alt=\"Open In Colab\"/></a>"
      ]
    },
    {
      "cell_type": "markdown",
      "source": [
        "データベース\n",
        "============"
      ],
      "metadata": {
        "id": "GyNRz1z25rjD"
      }
    },
    {
      "cell_type": "markdown",
      "source": [
        "RDBMS\n",
        "-----"
      ],
      "metadata": {
        "id": "skplipyYdpB_"
      }
    },
    {
      "cell_type": "markdown",
      "source": [
        "### 基本用語"
      ],
      "metadata": {
        "id": "hLZ67ILvNPYR"
      }
    },
    {
      "cell_type": "markdown",
      "source": [
        "**DB**（Database）:  \n",
        "データベース。決まった形式で整理されたデータの集まりのこと。\n",
        "\n",
        "**DBMS**（Database Management System）:  \n",
        "データベース管理システム。DB を操作するソフトウェアのこと。DB と DBMS は密接な関係にあるため、しばしば DB が DBMS までを意味する用語として使用される（例: DB サーバー）。\n",
        "\n",
        "**RDBMS**（Relational Database Management System）:  \n",
        "関係データベース管理システム。DBMS の種類の 1 つで、表形式（**テーブル**）の DB を使用する。代表的な RDBMS 製品は、Oracle Database、MySQL、PostgreSQL、Microsoft SQL Server、SQLite、MariaDB。\n",
        "\n",
        "**SQL**（Structured Query Language）:  \n",
        "RDBMS が DB のデータの定義と操作を行うための専用の言語。**クエリ**（Query）と呼ばれる 1 行程度の命令文をコマンドとして実行し、その都度結果を引き出すという特徴を持つ。SQL の読み方は「エス・キュー・エル」である。SQL の起源が IBM 社により開発された言語 SEQUEL であったことの名残で、現在でも SQL を「シークェル」と呼ぶ人もいる。\n",
        "\n",
        "**標準 SQL**:  \n",
        "国際標準化機構（ISO）で標準化された SQL のこと。1992 年に制定された規格 **SQL-92** では、Entry、Intermediate、Full という 3 つの機能セットを定義し、段階的に準拠できるようにした。標準 SQL 準拠をうたっている RDBMS 製品のほとんどは、Entry レベルのみに適合している。標準 SQL の規格は数年おきに改訂され、2003 年以降に発表されたものは SQL:2003 のように呼ばれている。\n",
        "\n",
        "**NoSQL**:  \n",
        "一般に「Not only SQL」の略称と解釈され、RDBMS 以外の DBMS 全般を指す。**ドキュメント型**はデータフォーマットを使用する方式で、代表的な製品は JSON 形式を使用する MongoDB。**キーバリュー型**はキーと値がペアである特徴を持つ形式で、代表的な製品は Redis。"
      ],
      "metadata": {
        "id": "vS8M34xYMgTb"
      }
    },
    {
      "cell_type": "markdown",
      "source": [
        "### RDBMS の基本概念"
      ],
      "metadata": {
        "id": "Ywmg9t4895yq"
      }
    },
    {
      "cell_type": "markdown",
      "source": [
        "■ ホスト言語\n",
        "\n",
        "RDBMS は単独で使用されることはほとんどなく、多くはアプリケーションによって使用される。アプリケーション・プログラム内に SQL 文を埋め込むことで、DB 操作を行うことができる。SQL 文を埋め込んだアプリケーション開発言語のことを**ホスト言語**（host language）という。\n",
        "\n",
        "■ 3 階層モデル\n",
        "\n",
        "ホスト言語によるアプリケーションの開発では、役割ごとにコードを分けて保守性・再利用性を高める設計パターンが採用される。\n",
        "\n",
        "| 階層 | 説明 |\n",
        "|:---|:---|\n",
        "| **プレゼンテーション層** | ユーザーとのやりとりを担当（画面表示・入力受付・API レスポンス生成） |\n",
        "| **ビジネスロジック層** | 業務ルールや処理手順を実装（計算・検証・ワークフロー制御） |\n",
        "| **データアクセス層** | DB や外部ストレージとのやりとりを担当 |\n",
        "\n",
        "![](https://www.plantuml.com/plantuml/png/ZP6_IWD14CRxVOebVLv1GaXheuNrvcwD1-STR2QLsCo0sWY2XRq41L4aY7_4G1xcm_TmRbHOC49O67Pclk-tVEnWIY7HxB1sTTmdJwrFrUI0V5cbM53LDYuKr2OFkO4imIzQNL6tizA3vv0dyAfRo3b486Uk24bNSWMv1oyxWPoOynLog-tdOkwFN9Z4XdnlBuuLyso02wszN_ib-ArZyZlamUu2Viozu6jxvGwyoFavpXth-I6UccYbDWM1FnITutP6m-rTLmOAup2DVZHKPvxPz_jR_oHUEpNzcdn_HwRSACqc8gDzXx5glQOPnARKN_u2)\n",
        "\n",
        "DB の管理、操作をビジネスロジック層と分離することで、ビジネスロジックの変更や DB の変更があっても、他の層への影響（コードの修正）を最小限に抑えられる。\n",
        "\n",
        "■ 接続\n",
        "\n",
        "RDBMS は通常、独立したサーバーとして動作しており、アプリケーションとは別のプロセスやマシンに存在する。アプリケーションが RDBMS とデータをやり取りするためには、RDBMS サーバーとの間に通信経路を確立する必要がある。この経路を DB への**接続**（connection）と呼ぶ。\n",
        "\n",
        "■ カーソル\n",
        "\n",
        "ホスト言語と SQL の間のやり取りは、**カーソル**（Cursors）と呼ばれるポインタを通して行われる。DB への接続が確立すると、ホスト言語はカーソルを取得し、このカーソルを通じて RDBMS にクエリを発行し、その結果を取得できる。\n",
        "\n",
        "■ レコード・フェッチ\n",
        "\n",
        "RDBMS では、テーブルが使用され、1 件のデータが 1 つの行に記録されるため、テーブルの行を**レコード**（record）と呼ぶ。\n",
        "\n",
        "レコードを取得し変数に格納することを**フェッチ**（fetch）という。\n",
        "\n",
        "■ フィールド・型・制約\n",
        "\n",
        "テーブルの列は**カラム**（column）または**フィールド**（field）と呼ぶ。テーブルを定義する際、格納するデータの整合性を保つために、カラムには**型**（type）や**制約**（constraint）が設定される。型はデータ型のことであり、制約は格納できる値のルールである。\n",
        "\n",
        "■ トランザクション・ロールバック・コミット\n",
        "\n",
        "データの更新で、分けることのできない一連の処理単位を**トランザクション**（Transaction）という。この一連の更新処理を分割して実行した場合、データの整合性を保てなくなる。例えば、銀行の振込処理を考えると、「振込み元の口座における残高の減算処理」と「振込み先の口座における残高の加算処理」があり、分割して処理を行うとき、もし減算処理が成功して加算処理が失敗したなら、DB 上では預金が消失してしまう。\n",
        "\n",
        "データの整合性を保証するには、トランザクションの処理は全て実行されるか、全く実行されないかのどちらかとしなければならない。処理の途中でエラーが発生したり、意図しない操作があった場合に、トランザクション開始前の状態に戻すことを**ロールバック**（rollback）という。トランザクションが正常に完了すれば、更新内容を確定し、DB に永続的に反映させる必要がある。そのための操作を**コミット**（commit）という。"
      ],
      "metadata": {
        "id": "P9thJuut96jR"
      }
    },
    {
      "cell_type": "markdown",
      "source": [
        "### SQLite"
      ],
      "metadata": {
        "id": "-eVcJNTBbfrc"
      }
    },
    {
      "cell_type": "markdown",
      "source": [
        "SQLite は、パブリックドメインの軽量な RDBMS である。基本的な RDBMS の機能を備えており、SQL-92 の一部に準拠している。サーバーとしてではなく、C のライブラリとして提供されている。\n",
        "\n",
        "SQLite の特徴は、データの保存に単一のファイル（.db）のみを使用することである。インメモリデータベースとしても利用可能である。他の RDBMS 製品に見られるような設定作業が不要であり、付属の CLI （`sqlite3` コマンド）から直ちに使うことができる。\n",
        "\n",
        "一方、ユーザーという概念をサポートしておらず、DB に対するアクセス制御はすべて OS のユーザー属性（ブラウザ経由なら `.htaccess` によるアクセス制限）によって行う。\n",
        "\n",
        "このような仕様は、多数のユーザーから同時接続される大規模システムには不向きであるが、アプリケーションに軽く組み込んで、手軽に使いたいときに非常に適している。Android や iOS の場合、OS 自体に SQLite が組み込まれているので、アプリは API を通じて直ちに SQLite を使うことができる。\n",
        "\n",
        "Python の標準ライブラリには、SQLite インターフェースを提供する `sqlite3` モジュールが含まれ、Python がホスト言語となって SQLite を利用することができる。`sqlite3` は SQLite 3.7.15 以降に対応している。利用可能な SQLite のバージョン番号は、モジュール定数 `sqlite3.sqlite_version` で確認できる。"
      ],
      "metadata": {
        "id": "Uv9ezulxPJzV"
      }
    },
    {
      "cell_type": "code",
      "source": [
        "import sqlite3\n",
        "sqlite3.sqlite_version"
      ],
      "metadata": {
        "colab": {
          "base_uri": "https://localhost:8080/",
          "height": 35
        },
        "id": "M57wPgmyLxpa",
        "outputId": "c7a13b90-015a-4135-8846-9d8f2ad278a7"
      },
      "execution_count": 1,
      "outputs": [
        {
          "output_type": "execute_result",
          "data": {
            "text/plain": [
              "'3.37.2'"
            ],
            "application/vnd.google.colaboratory.intrinsic+json": {
              "type": "string"
            }
          },
          "metadata": {},
          "execution_count": 1
        }
      ]
    },
    {
      "cell_type": "markdown",
      "source": [
        "Windows では、Python インストールに SQLite が組み込まれているが、CLI は含まれていない。CLI を使いたい場合には、[公式サイト](https://www.sqlite.org/download.html)から `sqlite3.exe` をダウンロードできる（「Command-line tools for Windows x64」と書かれている zip ファイルを選ぶ）。\n",
        "\n",
        "Python 3.12 から、`sqlite3` モジュールは、SQLite CLI の代わりとなる、コマンドライン・インターフェースを提供する。\n",
        "\n",
        "``` shell\n",
        "python -m sqlite3 [-h] [-v] [filename] [sql]\n",
        "```\n",
        "\n",
        "`.quit` または <kbd>CTRL-D</kbd> を入力するとシェルを終了（exit）する。\n",
        "\n",
        "  * `-h`, `--help`: CLI ヘルプを表示。\n",
        "  * `-v`, `--version`: 背後の SQLite ライブラリのバージョンを出力する。"
      ],
      "metadata": {
        "id": "CYNHQEqxdUNj"
      }
    },
    {
      "cell_type": "markdown",
      "source": [
        "DB-API 2.0\n",
        "----------"
      ],
      "metadata": {
        "id": "WjPlhPZlaHT0"
      }
    },
    {
      "cell_type": "markdown",
      "source": [
        "**DB-API 2.0**とは、[PEP 249（Python データベース API 仕様 v2.0）](https://peps.python.org/pep-0249/)で定義された、Python から様々な RDBMS を操作するための共通のインターフェースの仕様である。PEP 249 にはオプションの API も定義され、それらは **DB-API 拡張**と呼ばれる。\n",
        "\n",
        "DB-API 2.0 に準拠していれば、異なる RDBMS でも同じコード構造で操作が可能になる。`sqlite3` モジュールは、DB-API 2.0 に準拠していて、DB-API 拡張にも一部対応している。\n",
        "\n",
        "以下では、DB-API 2.0 において定義された主な定数・関数と、`sqlite3` での注意点を整理する。なお、関数の戻り値について、DB-API 2.0 に指定がなく、`sqlite3` で `None` となっている場合は、`None` とした。"
      ],
      "metadata": {
        "id": "7CQ6Vy8NaJF6"
      }
    },
    {
      "cell_type": "markdown",
      "source": [
        "### グローバル変数"
      ],
      "metadata": {
        "id": "ejYWB1RCvcDP"
      }
    },
    {
      "cell_type": "markdown",
      "source": [
        "``` python\n",
        "apilevel\n",
        "```\n",
        "\n",
        "モジュール定数であり、値が文字列 `'2.0'` であるなら、モジュールは DB-API 2.0 準拠であることを示す。\n",
        "\n",
        "``` python\n",
        "threadsafety\n",
        "```\n",
        "\n",
        "モジュール定数であり、モジュールがサポートするスレッドセーフのレベルを示す。取りえる値（整数）は以下の通り。\n",
        "\n",
        "| 値 | 意味 |\n",
        "|:--:|:---|\n",
        "| `0` | スレッド間でモジュールを共有できない |\n",
        "| `1` | スレッド間でモジュールを共有できるが、DB への接続を共有することはできない |\n",
        "| `2` | スレッド間でモジュールと、DB への接続を共有できる |\n",
        "| `3` | スレッド間でモジュール、DB への接続に加えて、カーソルも共有できる |\n",
        "\n",
        "`sqlite3` での定数の値は、SQLite のスレッドセーフティモードに対応している。SQLite のスレッドセーフティモードは、コンパイル時に `SQLITE_THREADSAFE` というパラメータによって決定されている。\n",
        "\n",
        "| 値 | モード | 意味 | コンパイル時の設定 |\n",
        "|:--:|:---|:---|:---|\n",
        "| `0` | シングル・スレッド | 全てのミューテックスは無効。同時に複数のスレッドから SQLite を使用することは安全ではない | `SQLITE_THREADSAFE=0` |\n",
        "| `1` | マルチ・スレッド | DB 接続だけはミューテックスが無効。複数のスレッドから SQLite を使用することは安全であるが、1 つの DB 接<br />続を同時に複数のスレッドで使用することはできない（各スレッドがそれぞれ独自の DB 接続を持つ必要がある） | `SQLITE_THREADSAFE=2` |\n",
        "| `3` | 直列化 | 全てのミューテックスが有効。複数のスレッドから SQLite を制限なく安全に使用できる | `SQLITE_THREADSAFE=1` |\n",
        "\n",
        "``` python\n",
        "paramstyle\n",
        "```\n",
        "\n",
        "モジュール定数であり、クエリを組み立てるベースとなる文字列の中でプレースホルダーとなる形式を示す。取りえる値（文字列）は以下の通り。\n",
        "\n",
        "| paramstyle | 説明 | 例 |\n",
        "|:---|:---|:---|\n",
        "| `'qmark'` | クエスチョンマーク（デフォルト） | `...WHERE name=?` |\n",
        "| `'numeric'` | 数値による位置指定形式 | `...WHERE name=:1` |\n",
        "| `'named'` | 変数形式 | `...WHERE name=:name` |\n",
        "| `'format'` | ANSI C の printf 形式 | `...WHERE name=%s` |\n",
        "| `'pyformat'` | Python の % 変換形式 | `...WHERE name=%(name)s` |\n",
        "\n",
        "`sqlite3.paramstyle` は、`'qmark'` とハードコーディングされている。"
      ],
      "metadata": {
        "id": "3qfxXQo7vyVT"
      }
    },
    {
      "cell_type": "code",
      "source": [
        "import sqlite3\n",
        "print(f\"{sqlite3.apilevel=}\")\n",
        "print(f\"{sqlite3.threadsafety=}\")\n",
        "print(f\"{sqlite3.paramstyle=}\")"
      ],
      "metadata": {
        "colab": {
          "base_uri": "https://localhost:8080/"
        },
        "id": "qRtlcK89q_ac",
        "outputId": "58ae8c1d-4d61-47c2-828d-4431ba65df25"
      },
      "execution_count": 2,
      "outputs": [
        {
          "output_type": "stream",
          "name": "stdout",
          "text": [
            "sqlite3.apilevel='2.0'\n",
            "sqlite3.threadsafety=3\n",
            "sqlite3.paramstyle='qmark'\n"
          ]
        }
      ]
    },
    {
      "cell_type": "markdown",
      "source": [
        "### 例外"
      ],
      "metadata": {
        "id": "UJ8E3-r_Tc2S"
      }
    },
    {
      "cell_type": "markdown",
      "source": [
        "`Error` は、モジュールにおける全ての例外に対する基底クラスである。このクラスを使えば、全てのエラーを一つの `except` 文で捕捉できる。\n",
        "\n",
        "`InterfaceError` は、DB 自体ではなく、モジュールに関するエラーの際に送出される（おそらくモジュールのバグ）。\n",
        "\n",
        "`DatabaseError` は、以下の例外の基底クラスである。\n",
        "\n",
        "  * `DataError`:  \n",
        "処理したデータの問題に起因するエラーの際に送出される例外。たとえば、ゼロによる除算、範囲外の数値や長すぎる文字列など。\n",
        "  * `OperationalError`:  \n",
        "DB の操作に関連したエラーで、プログラマーが制御しきれない状況に対して送出される例外。例えば、予期しない接続遮断の発生、DB 名が見つからなかった、処理中に発生したメモリアロケーションエラーなど。\n",
        "  * `IntegrityError`:  \n",
        "テーブルのカラムに付けた制約に関してエラーが発生した時のように、データ参照の整合性に影響を受けた場合に送出される例外。\n",
        "  * `ProgrammingError`:  \n",
        "SQL 文のエラーに対して送出される例外。たとえば、テーブルが見つからない、テーブルがすでに存在する、SQL 文の構文エラー、引数の数が間違って指定されている、など。\n",
        "  * `NotSupportedError`:  \n",
        "DB に対してはサポートしていないメソッドや DB API を使った場合に送出される例外。"
      ],
      "metadata": {
        "id": "YGOoSDRVTd9r"
      }
    },
    {
      "cell_type": "markdown",
      "source": [
        "### コンストラクタ"
      ],
      "metadata": {
        "id": "UxASC_QyyVah"
      }
    },
    {
      "cell_type": "markdown",
      "source": [
        "``` python\n",
        "connect(parameters...)\n",
        "```\n",
        "\n",
        "この関数は、DB に接続し、コネクションオブジェクトを返す。\n",
        "\n",
        "アプリケーションに組み込まれる SQLite では、「接続」はサーバーとの通信経路という意味ではなく、「（新規または既存の）ファイルを開くこと」を意味する。\n",
        "\n",
        "`sqlite3` で `connect()` 関数は次のように定義される:\n",
        "\n",
        "``` python\n",
        "sqlite3.connect(database, timeout=5.0, detect_types=0, isolation_level='DEFERRED', check_same_thread=True, factory=sqlite3.Connection,\n",
        "                cached_statements=128, uri=False, *, autocommit=sqlite3.LEGACY_TRANSACTION_CONTROL)\n",
        "```\n",
        "\n",
        "第 1 引数以外の引数は、位置引数としての使用が非推奨とされ、将来的にキーワード専用引数になる予定である。\n",
        "\n",
        "| 引数 | 意味 |\n",
        "|:---|:---|\n",
        "| `database` | データベースファイル（.db）への path-like オブジェクトを指定する。または、 `':memory:'` を指定するとインメモリデータベースに接続する |\n",
        "| `timeout` | DB に接続できない場合（特にロックされているとき）に、`sqlite3.OperationalError` 例外を送出する前に待機する秒数を浮動小数点数<br />で指定する。デフォルトは 5 秒 |\n",
        "| `detect_types` | SQLite がサポートしない Python 型への変換を行う変換関数を登録した場合に、Python 型を `sqlite3` に伝える方法を整数値で指定する<br /><br />・`0`: Python 型への変換指定は無効（デフォルト）<br /><br />・`sqlite3.PARSE_DECLTYPES`（`1`）: Python 型を、テーブル定義でカラムの型にそのまま指定できるようにする<br /><br />・`sqlite3.PARSE_COLNAMES`（`2`）:  Python 型を、データ取得時に指定するカラムの別名の中に `[Python 型名]` の形で含ませる<br /><br />これらのフラグはビット論理和演算子で組み合わせ可能 |\n",
        "| `isolation_level` | オブジェクトの `isolation_level` 属性に格納される値。この属性はトランザクション制御に使用される |\n",
        "| `check_same_thread` | `True`（デフォルト）の場合、データベース接続を作成したスレッド以外のスレッドがデータベース接続を使用すると、<br />`sqlite3.ProgrammingError` 例外が送出される。`False` の場合、接続は複数のスレッドからアクセスできる。ただし、データの破損を避け<br />るために、ユーザーによる書き込み操作の直列化が必要になることがある |\n",
        "| `factory` | コネクションオブジェクトのクラスを指定する。デフォルトは `sqlite3.Connection` |\n",
        "| `cached_statements` | `sqlite3` がこの接続のために内部的にキャッシュする SQL 文の数を指定する。SQL 文をキャッシュすることでパース時のオーバーヘッド<br>を回避している。デフォルトでは、`128` |\n",
        "| `uri` | `True` に設定すると、`database` は URI として解釈される |\n",
        "| `autocommit` | Python 3.12 で追加されたキーワード専用引数で、オブジェクトの `autocommit` 属性に格納される値を指定する。この属性はトランザクショ<br />ン制御に使用される |\n",
        "\n",
        "`sqlite3.connect()` 関数は、ファイルシステム上のパス名を指定して .db ファイルに接続する場合、組み込みの `open()` 関数のような `mode` を指定することはできない。\n",
        "\n",
        "実は、SQLite 自体は `mode` に相当するパラメータに対応しており、C インターフェースにフラグ変数を渡す方法と URI 形式を渡す方法を提供している。\n",
        "\n",
        "URI 形式は、`file:/path/to/database.db` のようにスキームの部分を `'file:'` とする。パスは相対パス、絶対パスどちらでもよい。URI のクエリ文字列で `mode` などのパラメータを指定する。\n",
        "\n",
        "| クエリ | 意味 |\n",
        "|:---|:---|\n",
        "| `mode` | DB の読み取りモードを指定する<br /><br />・`mode=ro`: 読み取り専用<br /><br />・`mode=rw`: 読み書き可能<br /><br />・`mode=rwc`: 読み書き可能でファイルがなければ新規作成<br /><br />・`mode=memory`: インメモリ |\n",
        "\n",
        "`sqlite3.connect()` 関数は、第 1 引数で URI 形式に対応している。ただし、第 1 引数を URI 形式で指定する場合、`uri` 引数を `True` に設定する必要がある。\n",
        "\n",
        "次のコードは、DB に読み取り専用で接続する例である。\n",
        "\n",
        "``` python\n",
        "con = sqlite3.connect(\"file:database.db?mode=ro\", uri=True)\n",
        "```"
      ],
      "metadata": {
        "id": "z9ILcT_ZyYC8"
      }
    },
    {
      "cell_type": "markdown",
      "source": [
        "### コネクションオブジェクト"
      ],
      "metadata": {
        "id": "Sus61pvfy6Ju"
      }
    },
    {
      "cell_type": "markdown",
      "source": [
        "コネクションオブジェクトは、DB への接続を管理するオブジェクトで、次のメソッドを持つ。\n",
        "\n",
        "| メソッド | 機能 | 戻り値 |\n",
        "|:---|:---|:---|\n",
        "| `cursor()` | 現在の接続を使って、新たなカーソルオブジェクトを返す | カーソルオブジェクト |\n",
        "| `close()` | 接続を即座に切断する。その後、接続は使用できなくなる | `None` |\n",
        "| `commit()` | 処理中のトランザクションを DB  にコミットする | `None` |\n",
        "| `rollback()` | 処理中のトランザクション全てについてロールバックを行う | `None` |\n",
        "\n",
        "また、`sqlite3` のコネクションオブジェクトは次のメソッドも持つ。\n",
        "\n",
        "| メソッド | 機能 | 戻り値 |\n",
        "|:---|:---|:---|\n",
        "| `execute(sql, parameters=(), /)` | 新しいカーソルオブジェクトを作成し、その `execute()` メソッドを、`sql` と `parameters` を渡して<br />呼び出す。新しいカーソルオブジェクトを返す | カーソルオブジェクト |\n",
        "| `executemany(sql, parameters, /)` | 新しいカーソルオブジェクトを作成し、その `executemany()` メソッドを、`sql` と `parameters` を渡<br />して呼び出す。新しいカーソルオブジェクトを返す | カーソルオブジェクト |\n",
        "| `executescript(sql_script, /)` | 新しいカーソルオブジェクトを作成し、その `executescript()` メソッドを、`sql_script` を渡して呼<br />び出す。新しいカーソルオブジェクトを返す | カーソルオブジェクト |\n",
        "| `backup(target)` | このコネクションオブジェクトが接続している DB を、別のコネクションオブジェクト `target` が接続<br />している DB にコピーする | `None` |\n",
        "\n",
        "次のコードは、`example.db` の中身をインメモリにコピーする。\n",
        "\n",
        "``` python\n",
        "src = sqlite3.connect('example.db')\n",
        "dst = sqlite3.connect(':memory:')\n",
        "src.backup(dst)\n",
        "```"
      ],
      "metadata": {
        "id": "Xt5sCNZDjyYL"
      }
    },
    {
      "cell_type": "markdown",
      "source": [
        "### カーソルオブジェクト"
      ],
      "metadata": {
        "id": "ftySDfHB6ipr"
      }
    },
    {
      "cell_type": "markdown",
      "source": [
        "コネクションオブジェクトの `cursor()` メソッドで生成されるカーソルオブジェクトは、DB 上のカーソルを表現する。\n",
        "\n",
        "``` python\n",
        "cur = con.cursor()\n",
        "```\n",
        "\n",
        "以下は、カーソルオブジェクトのメソッドである。\n",
        "\n",
        "``` python\n",
        "cur.execute(operation[ ,parameters])\n",
        "```\n",
        "\n",
        "このメソッドは、第 1 引数を単一のクエリとして実行する。省略可能な第 2 引数を指定した場合、第 2 引数を使用してクエリを組み立てる。すなわち、第 1 引数の文字列中にある、`paramstyle` の形式のプレースホルダーが、第 2 引数で参照される Python 上の値に結び付けられ、置き換えが行われる。戻り値はカーソルオブジェクト。\n",
        "\n",
        "`sqlite3` では、`paramstyle` の値が `'qmark'` であるが、実際には `'qmark'` と `'named'` の 2 種類のプレースホルダーがサポートされている。\n",
        "\n",
        "| paramstyle | プレースホルダー | 第 2 引数 | 結び付け規則 |\n",
        "|:---|:---|:---|:---|\n",
        "| `'qmark'` | 疑問符 `'?'` | シーケンス | 第 1 引数の文字列中に `'?'` が現れる順番と、シーケンスの要素の順番で、結び付けの対応が決まる。シーケンス<br />の要素の個数と `'?'` の個数が一致しない場合、`ProgrammingError` 例外が発生する |\n",
        "| `'named'` | `':name'` という<br />名前付き形式 | 辞書 | 第 1 引数の文字列中に現れる名前が、辞書の同じキーを持つアイテムと結び付けられる。辞書の余分なアイテム<br />は無視される |\n",
        "\n",
        "``` python\n",
        "cur.executemany(operation, seq_of_parameters)\n",
        "```\n",
        "\n",
        "このメソッドは、`execute()` と似ているが、第 2 引数がシーケンスや辞書を返すイテラブルとなっており、個々のシーケンスや辞書それぞれについて `execute()` と同様の結び付けを行って複数のクエリを生成し、それらを実行していく。戻り値はカーソルオブジェクト。\n",
        "\n",
        "`sqlite3` では、`executeXXX()` 系メソッドを独自に拡張している。\n",
        "\n",
        "``` python\n",
        "cur.executescript(sql_script, /)\n",
        "```\n",
        "\n",
        "このメソッドは、複数のクエリを記述した文字列 `sql_script` をまとめて実行する `sqlite3` 独自の拡張メソッドである。\n",
        "\n",
        "``` python\n",
        "cur.fetchone()\n",
        "```\n",
        "\n",
        "このメソッドは、クエリ結果セットの次の行を取得し、タプルとして返す。次のデータがなかった場合には `None` を返す。\n",
        "\n",
        "直前に呼び出した `executeXXX()` が何も結果を生成しなかった場合や、まだ何も実行していないのにこのメソッドを呼んだ場合には、例外を送出する。\n",
        "\n",
        "``` python\n",
        "cur.fetchmany([size=cursor.arraysize])\n",
        "```\n",
        "\n",
        "このメソッドは、クエリ結果の次の一連の行集合を取得し、タプルのリストとして返す。取得できるデータがないときには空のリストを返す。呼び出しごとに取得する行数は、`size` で指定できる。デフォルトでは、カーソルオブジェクトの `arraysize` 属性で指定された行数だけ取得する。最適なパフォーマンスを実現するには、通常は `arraysize` 属性を使うのがベストである。\n",
        "\n",
        "直前に呼び出した `executeXXX()` が何も結果セットを生成しなかった場合や、まだ何も呼び出しを行っていない場合には、例外を送出する。\n",
        "\n",
        "``` python\n",
        "cur.fetchall()\n",
        "```\n",
        "\n",
        "このメソッドは、クエリ結果の（残りの）すべての行を取得し、タプルのリストとして返す。有効な行がない場合は、空のリストを返す。カーソルオブジェクトの `arraysize` 属性は、この操作のパフォーマンスに影響を与える可能性がある。\n",
        "\n",
        "直前に呼び出した `executeXXX()` が何も結果セットを生成しなかった場合や、まだ何も呼び出しを行っていない場合には、例外を送出する。\n",
        "\n",
        "``` python\n",
        "cur.close()\n",
        "```\n",
        "\n",
        "このメソッドは、カーソルを即座に閉じる。閉じたカーソルに対してどのような操作を行っても、`Error` またはそのサブクラスの例外（`sqlite3` では `ProgrammingError` 例外）が送出される。\n",
        "\n",
        "``` python\n",
        "cur.__next__()\n",
        "cur.__iter__()\n",
        "```\n",
        "\n",
        "これらはイテレータープロトコルをサポートし、カーソルオブジェクトが、現在実行中のクエリについて結果セットの次の行を取得して返すイテレーターとなる（DB-API 拡張）。\n",
        "\n",
        "カーソルオブジェクトは、次のプロパティを持つ:\n",
        "\n",
        "| プロパティ | 意味 | `sqlite3` での注意点 |\n",
        "|:---|:---|:---|\n",
        "| `cur.description` | 最後のクエリのカラム名を提供する読み取り専用プロパティ。7 つの要素からなるタプル<br /> `(カラム名,type_code, display_size, internal_size, precision, scale, null_ok)`<br /> である | `sqlite3` では、カラム名以外の要素は全て `None`<br /> となる |\n",
        "| `cur.rowcount` | クエリの実行で変更された行数を提供する読み取り専用プロパティ。そのような行数を決<br />定できない場合には、このプロパティは -1 となる | |\n",
        "| `cur.arraysize` | 読み書き可能なプロパティで、`fetchmany()` メソッドによって一度に取得可能な行数を指<br />定する。デフォルトの値は 1 で、これは一度に 1 つの行しか取得できないことを意味する | |\n",
        "| `cur.connection` | 読み出し専用プロパティで、カーソルの生成に使ったコネクションオブジェクトへの参照を<br />提供する（DB-API 拡張） | |\n",
        "| `cur.lastrowid` | 読み出し専用プロパティで、`ROWID` カラムの自動追加機能をサポートする DB において、<br />最後に挿入されたレコードの `ROWID` 値を提供する。初期値は `None`（DB-API 拡張） | `sqlite3` では、` execute()` で `INSERT` 文が成功し<br />た後にのみ更新される。他の SQL 文や、<br />`executemany()` の後や、 `executescript()` の後<br />や、挿入が失敗した場合、`lastrowid` の値は変更<br />されない |"
      ],
      "metadata": {
        "id": "YnKI9v0b6jgG"
      }
    },
    {
      "cell_type": "code",
      "source": [
        "import sqlite3\n",
        "from tabulate import tabulate\n",
        "\n",
        "# インメモリデータベースに接続する\n",
        "con = sqlite3.connect(\":memory:\")\n",
        "\n",
        "# カーソルを作成\n",
        "cur = con.cursor()\n",
        "assert cur.connection == con\n",
        "\n",
        "# テーブルを作成するコマンドを実行\n",
        "cur.execute(\"CREATE TABLE lang(name, first_appeared)\")\n",
        "\n",
        "# 名前付きスタイルの例:\n",
        "data = (\n",
        "    {\"name\": \"C\", \"year\": 1972},\n",
        "    {\"name\": \"Fortran\", \"year\": 1957},\n",
        "    {\"name\": \"Python\", \"year\": 1991},\n",
        "    {\"name\": \"Go\", \"year\": 2009},\n",
        ")\n",
        "cur.executemany(\"INSERT INTO lang VALUES(:name, :year)\", data)\n",
        "\n",
        "# qmark スタイルの例:\n",
        "params = (1972,)\n",
        "cur.execute(\"SELECT * FROM lang WHERE first_appeared = ?\", params)\n",
        "\n",
        "# データをリストで取得\n",
        "print(cur.fetchall())\n",
        "\n",
        "# 単体のクエリを実行\n",
        "res = cur.execute(\"SELECT * FROM lang\")\n",
        "\n",
        "# カラム名を取得\n",
        "headers = [description[0] for description in cur.description]\n",
        "\n",
        "# カーソルオブジェクトはイテレーター\n",
        "rows = [row for row in res]\n",
        "\n",
        "print(tabulate(rows, headers=headers))\n",
        "\n",
        "con.close()"
      ],
      "metadata": {
        "colab": {
          "base_uri": "https://localhost:8080/"
        },
        "id": "j71FI-Yv-ACI",
        "outputId": "a6bb8b85-84f2-4b76-d0b4-3c903a173f52"
      },
      "execution_count": 3,
      "outputs": [
        {
          "output_type": "stream",
          "name": "stdout",
          "text": [
            "[('C', 1972)]\n",
            "name       first_appeared\n",
            "-------  ----------------\n",
            "C                    1972\n",
            "Fortran              1957\n",
            "Python               1991\n",
            "Go                   2009\n"
          ]
        }
      ]
    },
    {
      "cell_type": "markdown",
      "source": [
        "このコードでは、DB-API の作法に従って、カーソルオブジェクト `cur` を作成し、処理を行っている。実のところ、`sqlite3` では、コネクションオブジェクトのショートカット・メソッド `execute()` と `executemany()` と `executescript()` を使うことで、カーソルオブジェクトを暗黙裡に作成してクエリを実行できる。カーソルオブジェクトが必要になるのは、結果をフェッチやイテレーターで取得する場合だけで済む。"
      ],
      "metadata": {
        "id": "mMrA8Kq9RDV7"
      }
    },
    {
      "cell_type": "markdown",
      "source": [
        "SQL 基本文法\n",
        "------------"
      ],
      "metadata": {
        "id": "YasxaXNRrDnE"
      }
    },
    {
      "cell_type": "markdown",
      "source": [
        "### 識別子とキーワード"
      ],
      "metadata": {
        "id": "4kP8qFEZrEhd"
      }
    },
    {
      "cell_type": "markdown",
      "source": [
        "SQL 識別子は、テーブル、カラムなどの名前のことである。\n",
        "\n",
        "  * 英数文字、非 Latin 文字、アンダースコア `_` は、識別子に使用できる。\n",
        "  * 識別子の先頭に数字を使うことはできない。\n",
        "  * 一部の字句はキーワードとして予約され、識別子に使用することはできない。\n",
        "\n",
        "以下は、標準 SQL でも、ほとんどの RDBMS 製品でもキーワードとして予約される。\n",
        "\n",
        "``` text\n",
        "ALL  AND  AS  CASE  COLLATE  COLUMN  CONSTRAINT  CREATE  CROSS  CURRENT_DATE  CURRENT_TIME\n",
        "CURRENT_TIMESTAMP  DISTINCT  ELSE  END  EXCEPT FOR  FOREIGN  FROM  FULL  GROUP  HAVING  IN\n",
        "INNER  INTO  IS  JOIN  LEFT  LIKE  NATURAL  NOT  NULL  ON  OR  ORDER  OUTER OVER PRIMARY\n",
        "REFERENCES  RIGHT  SELECT  TABLE  THEN  TO  UNION  UNIQUE  USING  WHEN  WHERE  WINDOW  WITH\n",
        "```\n",
        "\n",
        "SQLite のキーワードの全体は、公式ドキュメントの [SQLite Keywords](https://www.sqlite.org/lang_keywords.html) を参照。"
      ],
      "metadata": {
        "id": "BR57Z5SUrGyN"
      }
    },
    {
      "cell_type": "markdown",
      "source": [
        "### 文"
      ],
      "metadata": {
        "id": "C_xfcw53YNM-"
      }
    },
    {
      "cell_type": "markdown",
      "source": [
        "SQL の構文として完結した命令のひとまとまりを**文**（statement）という。SQL 文は、キーワード、識別子、引用符で囲まれた識別子、リテラル（もしくは定数）、特別な文字シンボルを、空白（スペース、タブ、改行）で区切って繋げたもので構成され、最後はセミコロン `;` で終わる。\n",
        "\n",
        "1 行に 1 つの SQL 文を入力することも、1 行に複数の SQL 文を入力することも可能である。また、1 つの SQL 文を複数行に分けて記述することも可能である。\n",
        "\n",
        "SQL 文では、大文字と小文字は区別されない。一般には、可読性を高めるためキーワードは大文字で書き、識別子は小文字とする。"
      ],
      "metadata": {
        "id": "fc3SpIMBYOEZ"
      }
    },
    {
      "cell_type": "markdown",
      "source": [
        "### 定数\n"
      ],
      "metadata": {
        "id": "WY3GruQsrPFo"
      }
    },
    {
      "cell_type": "markdown",
      "source": [
        "SQL の定数は、次のとおり。\n",
        "\n",
        "| 定数 | 形式 | 例 |\n",
        "|:---|:---|:---|\n",
        "| 整数定数 | 10 進数字 | `42` |\n",
        "| 実数定数 | 固定小数点か、浮動小数点 | `3.5`, `2.2E-1` |\n",
        "| 文字列定数 | シングルクォート `'` で囲む | `'This is a string'` |\n",
        "| バイナリ定数 | `X` の後に、`'` で始まり `'` で終わる 16 進表記 | `X'1FF'` |\n",
        "| NULL | `NULL` で「値が不明」を表す | |\n",
        "\n",
        "キーワードを識別子に使用すると文法違反になるが、識別子を記述すべきところにキーワードの文字列を記述すると、文字列定数が識別子として扱われ、キーワードを識別子に使用するのと同等となる。\n",
        "\n",
        "``` sql\n",
        "CREATE TABLE 'select'(id, name);  -- select をテーブル名として使用する\n",
        "```\n",
        "\n",
        "SQLite の文字列定数と、引用符で囲まれた識別子は、ダブルクォート `\"` にも対応している。したがって、上記は `\"select\"` と書いてもよい。\n",
        "\n",
        "一方、SQLite の文字列定数では `'\\'` を使ったエスケープは使えない。文字列中のシングルクォートは、連続するシングルクォート 2 文字 `''` で表現できる。\n",
        "\n",
        "また、SQLite では真理値の定数がない。代わりに整数を使用して、`1` で真を、`0` で偽を表す。"
      ],
      "metadata": {
        "id": "lU7gcA9OrRMd"
      }
    },
    {
      "cell_type": "markdown",
      "source": [
        "### データ型"
      ],
      "metadata": {
        "id": "x-rX2rd6rT6i"
      }
    },
    {
      "cell_type": "markdown",
      "source": [
        "標準 SQL ではデータ型がサポートされ、テーブルを定義する際に、カラム単位でデータ型を指定できる。以下のデータ型が定義されている（括弧内はデータ型の別名）。\n",
        "\n",
        "  * 数値データ型: `SMALLINT`、`INTEGER`（`INT`）、`REAL`、`DOUBLE PRECISION`、`FLOAT`、`DECIMAL`（`DEC`）、`NUMERIC`\n",
        "  * 文字データ型: `CHARACTER`（`CHAR`）、`CHARACTER VARYING`（`VARCHAR`）、`NATIONAL CHARACTER`（`NCHAR`）、`NATIONAL CHARACTER VARYING`（`NVARCHAR`）、`CHARACTER LARGE OBJECT`（`CLOB`）\n",
        "  * 日時データ型: `DATE`、`TIME`、`TIMESTAMP`、`INTERVAL`\n",
        "  * ビット・バイナリデータ型: `BIT`、`BIT VARYING`、`BINARY LARGE OBJECT`（`BLOB`）\n",
        "  * 論理値データ型: `BOOLEAN`\n",
        "\n",
        "また、標準 SQL ではデータ型を変換する関数 `CAST` も定義されている:\n",
        "\n",
        "``` sql\n",
        "CAST(X AS 型名)\n",
        "```\n",
        "\n",
        "この関数は、式 `X` の型を `型名` で表されるデータ型に変換する。\n",
        "\n",
        "データ型は、各 RDBMS 製品でサポートレベルに大きな開きがある。\n",
        "\n",
        "SQLite のデータ型は、次の 5 種類のみサポートされる。\n",
        "\n",
        "  * `NULL`： NULL 値\n",
        "  * `INTEGER`: 値の大きさに応じて 1, 2, 3, 4, 6, 8 バイトで保存される符号付き整数\n",
        "  * `REAL`: IEEE 方式の倍精度浮動小数点数\n",
        "  * `TEXT`: UTF-8, UTF-16BE, UTF-16LE でエンコードされた文字列\n",
        "  * `BLOB`: 入力のままのバイナリデータ\n",
        "\n",
        "SQLite では、標準 SQL のデータ型と互換性を持たせるために、データ変換の仕組みが用意されている。この仕組みは Type Affinity と呼ばれる。具体的には、文の中に書かれた型名を文字列の部分一致で Type Affinity を割り当てる。マッチは、次の優先順位で調べられる。\n",
        "\n",
        "  1. `INT` が含まれていた場合は、INTEGER affinity\n",
        "  2. `CHAR`, `CLOB`, `TEXT` が含まれていた場合は TEXT affinity\n",
        "  3. `BLOB` が含まれていた場合は、BLOB affinity\n",
        "  4. `REAL`, `FLOA`, `DOUB` が含まれていた場合は REAL affinity\n",
        "  5. それ以外の場合は全て NUMERIC affinity\n",
        "\n",
        "標準 SQL では、テーブルを定義する際にカラムに対してデータ型が指定され、そのカラムに格納される値が規定される。ところが、SQLite では、指定されたデータ型の型名からカラムに Type Affinity が割り当てられることになる。カラムにデータを格納するとき、Type Affinity は以下のように働く。\n",
        "\n",
        "  * TEXT affinity： `NULL`, `TEXT`, `BLOB` 型のデータを格納可能。その他のデータは文字列に変換して格納。\n",
        "  * NUMERIC affinity： すべてのデータ型の値を格納可能。文字列を格納する場合、`INTEGER`, `REAL` の順で変換を試み、変換すると一部の情報が欠けるときは文字列のまま格納するが、そうでなければ変換して格納する。`NULL`, `BLOB` 型の値は、変換せずに格納。\n",
        "  * INTEGER affinity： NUMERIC affinity と同じ動作である。\n",
        "  * REAL affinity： 基本的に NUMERIC affinity と同じ動作であるが、整数形式の値の場合、`REAL` 型の値に変換して格納する。\n",
        "  * BLOB affinity： どんな型の値でも変換せずに格納する。\n",
        "\n",
        "NUMERIC affinity または INTEGER affinity を持つカラムでは、先に `INTEGER` 型への変換が試行されるため、たとえば文字列 `'3.0e+5'` は、浮動小数点数値 `300000.0` としてではなく、整数 `300000` としてそのカラムに格納される。\n",
        "\n",
        "どの Type Affinity でも、`NULL`, `BLOB` 型の値は変換されず、そのままカラムに格納される。\n",
        "\n",
        "Type Affinity により、**SQLite ではカラムの型は『推奨される型』として扱われるにすぎない**。例えば、`INTEGER` の指定が付いたカラムであっても文字列が格納されていることがある。\n",
        "\n",
        "この Type Affinity は `CAST` 関数にも働く。実際、`AS` の後ろの型名から Type Affinity が割り当てられ、`CAST` 関数に渡された値に対して、カラムにデータを格納するときと同様の変換を試行する。ただし、NUMERIC affinity と INTEGER affinity では、`CAST` 関数が返す値に違いがある。INTEGER affinity では、整数への変換が一部の情報が欠けるときでも行われる。たとえば、`CAST(4.0 AS NUMERIC)` は値を浮動小数点数 `4.0` のままにするのに対して、`CAST(4.0 AS INT)` は整数 `4` を返す。\n",
        "\n",
        "値のデータ型は SQLite の `typeof` 関数を使って取得することができる。\n",
        "\n",
        "``` sql\n",
        "typeof(X)\n",
        "```\n",
        "\n",
        "この関数は、式 `X` のデータ型を示す文字列 `'null'`, `'integer'`, `'real'`, `'text'`, `'blob'` のいずれかを返す。\n",
        "\n",
        "また、SQLite ではデータのリスト、および、レコードのリスト（行列）を扱うことができる。\n",
        "\n",
        "`sqlite3` では、Python の型と SQLite の型を以下のように対応させている:\n",
        "\n",
        "| Python の型 | SQLite の型\n",
        "|:---|:---|\n",
        "| `None` | `NULL` |\n",
        "| `int` | `INTEGER` |\n",
        "| `float` | `REAL` |\n",
        "| `str` | `TEXT` |\n",
        "| `bytes` | `BLOB` |"
      ],
      "metadata": {
        "id": "Q0gaNIYQrV11"
      }
    },
    {
      "cell_type": "markdown",
      "source": [
        "### 日時"
      ],
      "metadata": {
        "id": "0yuyCI6Orb3e"
      }
    },
    {
      "cell_type": "markdown",
      "source": [
        "標準 SQL では、以下の関数を呼び出すことができる。\n",
        "\n",
        "| 関数 | 機能 |\n",
        "|:---|:---|\n",
        "| `CURRENT_DATE` | システムの現在の日付（UTC）を返す |\n",
        "| `CURRENT_TIME` | システムの現在の時刻（UTC）を返す |\n",
        "| `CURRENT_TIMESTAMP`| システムの現在の日付と時刻（UTC）を返す |\n",
        "\n",
        "これらの関数は括弧 `()` なしで呼び出すことができる。\n",
        "\n",
        "SQLite は、上記 3 つの `CURRENT_*` 関数をサポートするが、標準 SQL の日時データ型を全くサポートしていない。代わりに、以下の形式を日付と時刻のデータとして扱う。\n",
        "\n",
        "  * `TEXT`: ISO 8601 形式\n",
        "      * `YYYY-MM-DD` 形式: 日付（`CURRENT_DATE` 関数が返す形式）\n",
        "      * `HH:MM:SS` 形式: 時刻（`CURRENT_TIME` 関数が返す形式）\n",
        "      * `YYYY-MM-DD HH:MM:SS` 形式: 日時（`CURRENT_TIMESTAMP` 関数が返す形式）\n",
        "  * `REAL`: 西暦紀元前 4713 年 1 月 1 日月曜日の正午（世界時）からの経過日数（いわゆるユリウス通日）を整数部、時分秒を小数部で表す値\n",
        "  * `INTEGER`: Unix エポック秒"
      ],
      "metadata": {
        "id": "bkLcF52Trc8k"
      }
    },
    {
      "cell_type": "markdown",
      "source": [
        "### 演算子"
      ],
      "metadata": {
        "id": "7qtW-bZ9qwY1"
      }
    },
    {
      "cell_type": "markdown",
      "source": [
        "■ 論理演算子\n",
        "\n",
        "| 演算子 | 意味 |\n",
        "|:---|:---|\n",
        "| `NOT X` | `X`が 1（TRUE）の場合に 0（FALSE）を返し、0（FALSE）の場合に 1（TRUE）を返す |\n",
        "| `X AND Y` | `X` と `Y` のブール式の両方が 1（TRUE）の場合に 1（TRUE）を返す |\n",
        "| `X OR Y` | `X` と `Y` のブール式の片方が 1（TRUE）の場合に 1（TRUE）を返す |\n",
        "| `X XOR Y` | `X` と `Y` のブール式の結果が同じ場合に 0（FALSE）、違う場合は 1（TRUE）を返す |\n",
        "\n",
        "`X`, `Y` が `NULL` になる場合は次のようになる。\n",
        "\n",
        "  * `NOT NULL` は `NULL` を返す。\n",
        "  * `0 AND NULL` は 0 (FALSE) を返し、`1 AND NULL` と `NULL AND NULL` は `NULL` を返す。\n",
        "  * `1 OR NULL` は 1 (TRUE) を返し、`0 OR NULL` と `NULL OR NULL` は `NULL` を返す。\n",
        "  * `1 XOR NULL` と `0 XOR NULL`、 `NULL XOR NULL` はすべて `NULL` を返す。\n",
        "\n",
        "■ 比較演算子\n",
        "\n",
        "| 演算子 | 意味 |\n",
        "|:---|:---|\n",
        "| `X = Y` | `X` と `Y` が等しい |\n",
        "| `X <> Y` | `X` と `Y` が等しくない（SQLite では `!=` も使えるが `<>` のほうが標準） |\n",
        "| `X > Y` | `X` より `Y` が小さい |\n",
        "| `X >= Y` | `X` が `Y` 以上 |\n",
        "| `X < Y` | `X` より `Y` が大きい |\n",
        "| `X <= Y` | `X` が `Y` 以下 |\n",
        "\n",
        "これらの比較は、評価結果が 1 (TRUE)、0 (FALSE)、または `NULL` のいずれかになる。`X` または `Y`、もしくは `X` と `Y` 両方が `NULL` の場合は、評価結果が `NULL` になる。\n",
        "\n",
        "SQLite では異なるデータ型でも比較でき、Type Affinity に基づいてデータ型の変換が行われる。[公式ドキュメント](https://www.sqlite.org/datatype3.html#type_conversions_prior_to_comparison)によると\n",
        "\n",
        "  * 片方が格納されていたカラムに INTEGER affinity, REAL affinity または NUMERIC affinity が付いていて、もう片方が格納されていたカラムに TEXT affinity, BLOB affinity が付いていたか、あるいはリテラルを直接書いたものである場合、後者に NUMERIC affinity が適用される。\n",
        "  * 片方が格納されていたカラムに TEXT affinity が付いていて、もう片方はリテラルを直接書いたものである場合、後者に TEXT affinity が適用される。\n",
        "  * それ以外の場合は変換は行われず、データそのもので比較される。\n",
        "\n",
        "比較の際のデータ型の変換はカラムへの格納の場合と同様であり、一部の情報が欠けてしまう場合は変換されずそのままの型として比較される。\n",
        "\n",
        "| 演算子 | 意味 |\n",
        "|:---|:---|\n",
        "| `X IS NULL` | `X` が `NULL` である |\n",
        "| `X IS NOT NULL` | `X` が `NULL` でない |\n",
        "| `X IN (Y, Z, ...)` | `X = Y OR X = Z OR ...` が 1（TRUE）である |\n",
        "| `X NOT IN (Y, Z, ...)` | `NOT (X = Y OR X = Z OR ...)` が 1（TRUE）である |\n",
        "| `X BETWEEN Y AND Z` | `X >= Y AND X <= Z` が 1（TRUE）である（ただし `X` は一度しか評価されない） |\n",
        "| `X LIKE パターン [ ESCAPE '文字' ]` | `X` がパターンにマッチする |\n",
        "\n",
        "これらの比較は、評価結果が 1 (TRUE)、0 (FALSE) のいずれかになる。とくに、`NOT IN` については、`(Y, Z, ...)` の中に `NULL` が含まれると、つねに 0 (FALSE) を返すことに注意。\n",
        "\n",
        "`LIKE` 演算子については、パターンにメタ文字として `%` と `_` が使える。パターンの中では、 `%` は任意の 0 文字以上の文字列にマッチし、 `_` は任意の 1 文字にマッチする。ASCII 範囲の大文字と小文字は区別されない。また、オプションの `ESCAPE '文字'` を指定すると、`'文字'` をエスケープ文字として扱う。例えば、`ESCAPE '$'` とすると、パターン中の `$%` は `%` そのものにマッチする。\n",
        "\n",
        "なお、SQLite では `LIKE` 演算子より高度なパターンマッチ検索ができる `GLOB` 演算子が用意されている。\n",
        "\n",
        "| 演算子 | 意味 |\n",
        "|:---|:---|\n",
        "| `X GLOB パターン` | `X` がパターンにマッチする |\n",
        "\n",
        "`GLOB` 演算子では正規表現と同じメタ文字 `[]`, `*`, `?` が使えるほか、大文字と小文字が区別される。メタ文字をエスケープしたい場合には `[]` で囲う（例えば `'[*]'` は文字 `*` にマッチする）。`LIKE` 演算子とは異なり `GLOB` 演算子ではメタ文字をエスケープする方法を選択できない。\n",
        "\n",
        "■ 文字列演算子\n",
        "\n",
        "| 演算子 | 意味 |\n",
        "|:---|:---|\n",
        "| `文字列1 \\|\\| 文字列2` | 連結 |\n",
        "\n",
        "■ その他の演算子\n",
        "\n",
        "SQL でも四則演算、剰余演算、ビット演算について Python と同様の演算子が使える。演算の優先順位は文字列演算が最も高く、次に四則演算および剰余演算が高く、以下、ビット演算、比較演算、論理演算の順となる。ただし、丸括弧 `()` の中の演算が先に評価される。"
      ],
      "metadata": {
        "id": "NhR1k4aFqxPQ"
      }
    },
    {
      "cell_type": "markdown",
      "source": [
        "### 関数"
      ],
      "metadata": {
        "id": "eFWJjFjTlsfa"
      }
    },
    {
      "cell_type": "markdown",
      "source": [
        "標準 SQL では、以下の関数を使うことができる。\n",
        "\n",
        "| 関数 | 機能 |\n",
        "|:---|:---|\n",
        "| `NULLIF(X, Y)` | `X` と `Y` が同じ値ならば `NULL` を返し、そうでなければ `X` を返す |\n",
        "| `COALESCE(X, Y, ...)` | `NULL` でない最初の引数を返す。全ての引数が `NULL` の場合は最後の引数を返す。少なくとも 2 つの引数が必要 |\n",
        "\n",
        "SQLite を含む一部の RDBMS 製品では、以下の関数を使うことができる。\n",
        "\n",
        "| 関数 | 機能 |\n",
        "|:---|:---|\n",
        "| `LENGTH(X)` | 文字列 `X` の文字数を返す |\n",
        "| `REPLACE(X, Y, Z)` | 文字列 `X` に含まれる全ての文字列 `Y` を文字列 `Z` に置き換えた文字列を返す。大文字小文字が区別される |\n",
        "| `SUBSTRING(X, Y [,Z])` | 文字列 `X` の位置 `Y` から文字数 `Z` の部分文字列を返す。 `Z` を省略した場合は位置 `Y` から末尾までの部分文字列を返す |\n",
        "| `ABS(X)` | `X` の絶対値を返す |\n",
        "| `ROUND(X, [,Y])` | `X` の小数部を `Y` 桁に丸めた浮動小数点数を返す。`Y` を省略した場合は 0 桁に丸めた浮動小数点数を返す |\n",
        "| `POWER(X, Y)` | `X` の `Y` 乗を返す |\n",
        "| `RANDOM()` | 疑似乱数値を返す。SQLite では `-9223372036854775808` ～ `+9223372036854775807` の範囲の整数となる |\n",
        "| `HEX(X)` | `X` を 16 進数形式の文字列に変換する |"
      ],
      "metadata": {
        "id": "fVys2AHfltwL"
      }
    },
    {
      "cell_type": "markdown",
      "source": [
        "### コメント"
      ],
      "metadata": {
        "id": "16r5aTTtrJok"
      }
    },
    {
      "cell_type": "markdown",
      "source": [
        "コメントは、空白に置き換えられる。次の 2 通りの記述方法がある。\n",
        "\n",
        "``` sql\n",
        "-- コメント\n",
        "```\n",
        "\n",
        "`--` から行末までに記述された文字列をコメントとする。\n",
        "\n",
        "``` sql\n",
        "/* コメント */\n",
        "```\n",
        "\n",
        "`/*` から `*/` までに記述された文字列をコメントとする。\n",
        "\n",
        "\n",
        "``` sql\n",
        "SELECT * FROM personal; -- リスト\n",
        "SELECT * FROM /* リストテーブル */ personal;\n",
        "```"
      ],
      "metadata": {
        "id": "dav0yS_-rMGh"
      }
    },
    {
      "cell_type": "markdown",
      "source": [
        "データ定義\n",
        "----------"
      ],
      "metadata": {
        "id": "Q5qrqO43j6gN"
      }
    },
    {
      "cell_type": "markdown",
      "source": [
        "以下の標準 SQL のコマンドは、DDL に分類される。DDL は、Data Definition Language（データ定義言語）の略で、テーブルの作成・削除や、各種設定に使用するコマンドである。\n",
        "\n",
        "  * `CREATE`\n",
        "  * `ALTER`\n",
        "  * `DROP`"
      ],
      "metadata": {
        "id": "x4ZYuGubj7Nm"
      }
    },
    {
      "cell_type": "markdown",
      "source": [
        "### CREATE TABLE 文"
      ],
      "metadata": {
        "id": "6YGgnQXgmlkq"
      }
    },
    {
      "cell_type": "markdown",
      "source": [
        "`CREATE` は、テーブルなどを新しく作成するコマンドである。\n",
        "\n",
        "``` sql\n",
        "CREATE TABLE テーブル名(カラム定義1, カラム定義2, ...);\n",
        "```\n",
        "\n",
        "`CREATE TABLE` コマンドは、テーブルを新しく作成する。テーブル名のテーブルが既に存在するなら、エラーが発生する。SQLite では、次のように `IF NOT EXISTS` 句を付けることができる。\n",
        "\n",
        "``` sql\n",
        "CREATE TABLE IF NOT EXISTS テーブル名(カラム定義1, カラム定義2, ...);\n",
        "```\n",
        "\n",
        "`IF NOT EXISTS` 句を付けた場合、テーブル名のテーブルが存在しないならば、新しいテーブルを作成する。\n",
        "\n",
        "テーブル名は任意の識別子を指定できる。ただし、SQLite では、`'sqlite_'` で始まるテーブル名は SQLite 自体が使用するため指定できない。\n",
        "\n",
        "カラム定義は、 `カラム名 データ型` の形式である。ただし、SQLite では、データ型の指定が省略可能であり、もしデータ型が指定されても Type Affinity が割り当てられる。例えば、`CREATE TABLE t1(a INT, b VARCHAR(10));` は、`a` カラムに INTEGER affinity が付き、`b` カラムに TEXT affinity が付く。"
      ],
      "metadata": {
        "id": "V0Mkdb0ZmnDT"
      }
    },
    {
      "cell_type": "markdown",
      "source": [
        "### DEFAULT 制約"
      ],
      "metadata": {
        "id": "8XUszp6JNG8S"
      }
    },
    {
      "cell_type": "markdown",
      "source": [
        "`CREATE TABLE` コマンドで、カラムに DEFAULT 制約を付けることができる。カラムの DEFAULT 制約は、新しいレコードを挿入する際に、そのカラムの値が指定されていない場合に自動的に追加される値（デフォルト値）を設定する。\n",
        "\n",
        "``` sql\n",
        "CREATE TABLE テーブル名(カラム定義 DEFAULT 値, ...);\n",
        "```\n",
        "\n",
        "`DEFAULT` 句は、カラムに DEFAULT 制約を付ける。`値` がデフォルト値に設定される。デフォルト値には定数を指定でき、さらに、`CURRENT_DATE`, `CURRENT_TIME`, `CURRENT_TIMESTAMP` 関数を指定することもできる。\n",
        "\n",
        "DEFAULT 制約を付けていないカラムは、デフォルト値が `NULL` とされる（つまり、`カラム定義 DEFAULT NULL` と宣言している場合と同等）。"
      ],
      "metadata": {
        "id": "2ORsUGxuNHmP"
      }
    },
    {
      "cell_type": "markdown",
      "source": [
        "### NOT NULL 制約"
      ],
      "metadata": {
        "id": "9gM3IyOwOlkQ"
      }
    },
    {
      "cell_type": "markdown",
      "source": [
        "`CREATE TABLE` コマンドで、カラムに NOT NULL 制約を付けることができる。NOT NULL 制約を付けたカラムに `NULL` が格納されると（デフォルト値として `NULL` が格納される場合を含む）、エラーが発生する。\n",
        "\n",
        "``` sql\n",
        "CREATE TABLE テーブル名(カラム定義 NOT NULL, ...);\n",
        "```\n",
        "\n",
        "`NOT NULL` 句は、カラムに NOT NULL 制約を付ける。"
      ],
      "metadata": {
        "id": "IkXtb5PmOma_"
      }
    },
    {
      "cell_type": "markdown",
      "source": [
        "### UNIQUE 制約"
      ],
      "metadata": {
        "id": "wLudWWiCawNy"
      }
    },
    {
      "cell_type": "markdown",
      "source": [
        "`CREATE TABLE` コマンドで、カラムに UNIQUE 制約を付けることができる。UNIQUE 制約を付けたカラムに、既に格納された値と同じ値を格納しようとするとエラーが発生する。ただし、`NULL` は他の `NULL` を含む全ての値とは異なるものとみなされるため、`NULL` の重複はエラーにならない。\n",
        "\n",
        "``` sql\n",
        "CREATE TABLE テーブル名(カラム定義 UNIQUE, ...);\n",
        "CREATE TABLE テーブル名(カラム定義1, カラム定義2, ... , UNIQUE(カラム名1, カラム名2, ...));\n",
        "```\n",
        "\n",
        "`UNIQUE` 句は、カラムに UNIQUE 制約を付ける。1 行目の形は単一のカラムに UNIQUE 制約を付け、2 行目の形は複数のカラムの組み合わせに UNIQUE 制約を付ける。\n",
        "\n",
        "このように、UNIQUE 制約はカラムの組み合わせに付けることもできる。例えば、学校名簿のテーブルを次のように作成する場合に、どのカラムに UNIQUE 制約を付けることができるかを考える。\n",
        "\n",
        "![](https://www.plantuml.com/plantuml/png/SoWkIImgAStDuR8fBgdCIRNZAihFBr6evb9Go4qiIi_Cir8mi0Po2X9JKZBpqi6yMgwIp9ASLB2YjFoyak3CgbGh1KCJQnWVQ11G82-_A3Sn1wJSHXzgTd5sPbv1Ob5YBimy1HE8MLmsoZcPwHabIJcbgJhAwKM9bNOrja_NBdkwSqkDxVEjBK1E-wwdEzO-dxhgQV_s6guQmnf787wwSUFpAHkUBbdrihaFAcW45NpHjV7fsWarN4019w34inqBN-pRzMpDGh3ArBmK1OYz3a0cqFS0)\n",
        "\n",
        "もし学年に UNIQUE 制約を付けると、各学年に 1 人しか登録できない。もし組に UNIQUE 制約を付けると、各学年の各組に 1 人しか登録できない。もし出席番号に UNIQUE 制約を付けると、出席番号を全学年での通し番号としなければならない。学年と組と出席番号の組み合わせに UNIQUE 制約を付けるなら問題はない。"
      ],
      "metadata": {
        "id": "b39WNgX4axFb"
      }
    },
    {
      "cell_type": "markdown",
      "source": [
        "### PRIMARY KEY 制約と ROWID"
      ],
      "metadata": {
        "id": "iBqoMDGV9Iwh"
      }
    },
    {
      "cell_type": "markdown",
      "source": [
        "`CREATE TABLE` コマンドで、カラムに PRIMARY KEY 制約を付けることができる。PRIMARY KEY 制約は、テーブルの各レコードを一意に特定するためのカラムを設定する。PRIMARY KEY 制約を付けたカラムを**主キー**（Primary Key; PK）という。\n",
        "\n",
        "``` sql\n",
        "CREATE TABLE テーブル名(カラム定義 PRIMARY KEY, ...);\n",
        "CREATE TABLE テーブル名(カラム定義1, カラム定義2, ... , PRIMARY KEY(カラム名1, カラム名2, ...));\n",
        "```\n",
        "\n",
        "`PRIMARY KEY` 句は、カラムに PRIMARY KEY 制約を付ける。1 行目の形は単一のカラムを主キーとし、2 行目の形はカラムの組み合わせを主キーとする。\n",
        "\n",
        "このように、PRIMARY KEY 制約はカラムの組み合わせに付けることもできる。これを**複合主キー**（Composite Primary Key）とも呼ぶ。\n",
        "\n",
        "例えば、社員名簿のテーブルを次のように作成する場合、社員番号だけで各レコードを一意に特定できるので、社員番号を主キーに設定できる。\n",
        "\n",
        "![](https://www.plantuml.com/plantuml/png/XP3BQZ8n68RtSnK1jp_-CtRQKW_YFVGAKfnEXsOo4kF2DeLIDptOAhHrfOAW8ABWB5ebe5SpNqRlel4WNNQLxqtUvmb9eSmnunMV6Daohn8dRx0WuEZMGCZ7pFLe6faP7KguMFIekqrt1lSuSRQbou3oS-_6IIFBpXoo5kaD6Z0Vaqqz-t_lBbzxj8GPzWy-PEzSHZP1FFUANv2Ayo_XCbpDYrpSNy9xB_uSGMCcSchQWEQhNf_k8UoAQD7Gap24PTgsUPOI48RnnnJwetNjJK3hMmqcwzfGg4uOoV6wjeZcBNs-ciwWBfF9v8QqpDI9QUx9rNC8awQ8f8paov_ayT6fPGarxwsMKerxcpj_oNZGXS4Zp3fnkww68_NLXld3bdHe4UqUND2Z_lOV)\n",
        "\n",
        "一方、学校名簿のテーブルを次のように作成する場合、学年や、組、出席番号を単体で主キーに設定すると UNIQUE 制約を付ける場合と同じ問題が生じる。\n",
        "\n",
        "![](https://www.plantuml.com/plantuml/png/SoWkIImgAStDuR8fBgdCIRNZAihFBr6evb9Go4qiIi_Cir8mi0Po2X9JKZBpqi6yMgwIp9ASLB2YjFoyak3CgbGh1KCJQnWVQ11G82-_A3Sn1wJSHXzgTd5sPbv1Ob5YBimy1HE8MLmsoZcPwHabIJcbgJhAwKM9bNOrja_NBdkwSqkDxVEjBK1E-wwdEzO-dxhgQV_s6guQmnf787wwSUFpAHkUBbdrihaFAcW45NpHjV7fsWarN4019w34inqBN-pRzMpDGh3ArBmK1OYz3a0cqFS0)\n",
        "\n",
        "この場合、学年と組と出席番号の組み合わせを複合主キーに設定できる。\n",
        "\n",
        "標準 SQL では、主キーのカラムに NOT NULL 制約と UNIQUE 制約が課せられる。SQLite では、`INTEGER PRIMARY KEY` が付いたカラムなど一部の例外を除き、主キーに NOT NULL 制約は課せられないので、主キーに `NULL` を許可したくない場合は、NOT NULL 制約も付ける必要がある。例えば、`CREATE TABLE t1(a, b NOT NULL PRIMARY KEY);`。\n",
        "\n",
        "SQLite では、PRIMARY KEY 制約と UNIQUE 制約の違いが次のようになる。\n",
        "\n",
        "| 制約 | 制約の個数 | INTEGER 型の場合 |\n",
        "|:---|:---|:---|\n",
        "| PRIMARY KEY 制約 | 各テーブルに 1 つだけ設定できる | 省略時に連番機能が働く。NOT NULL 制約が課せられる |\n",
        "| UNIQUE 制約 | テーブルに複数設定できる | 特別の機能はない |\n",
        "\n",
        "`CREATE TABLE t1(a, b INTEGER PRIMARY KEY);` のように、単一のカラムを主キーとする場合にそのカラム定義で `INTEGER` を指定した形では、新しいレコードを追加するときに対象のカラムの値を省略すると、自動的に整数値が格納される。カラムに格納される値は、対象のカラムに現在格納されている最大の値に 1 を加えた値となる。\n",
        "\n",
        "この連番機能は、INTEGER affinity 全般には働かない。たとえば、`CREATE TABLE t1(a INT PRIMARY KEY, b VARCHAR(10));` の場合、主キーである `a` カラムの値を省略してレコードを追加すると、連番が自動的に割り振られることはなく、`NULL` が格納される。\n",
        "\n",
        "また、INTEGER affinity が付いたカラムとは異なり、`INTEGER PRIMARY KEY` が付いたカラムでは、整数値のみが許可される。`'5'` のような文字列は整数に変換して格納されるが、`'5.0'` など変換すると一部の情報が欠けるような文字列の場合は変換できずエラーが発生する。`NULL` も許可されない。\n",
        "\n",
        "`INTEGER PRIMARY KEY` の指定には、もう 1 つ隠れた機能がある。実は SQLite は、各テーブルに `ROWID` カラムを自動的に追加し、この `ROWID` カラムに、レコードを一意に識別できる値（1 から始まる連番）を格納する。`INTEGER PRIMARY KEY` が付いたカラムは `ROWID` カラムのエイリアスになり、`ROWID` カラムを保存する必要がなくなるため、ストレージ使用量削減、処理高速化が可能となる。"
      ],
      "metadata": {
        "id": "Ywl2nVfm9GMa"
      }
    },
    {
      "cell_type": "markdown",
      "source": [
        "### CHECK 制約"
      ],
      "metadata": {
        "id": "xtgQQtGdD9pO"
      }
    },
    {
      "cell_type": "markdown",
      "source": [
        "`CREATE TABLE` コマンドで、カラムに CHECK 制約を付けることができる。CHECK 制約は条件式を伴って設定され、条件式を満たさない値を格納しようとするとエラーが発生する。ただし、条件式の評価が `NULL` を返す場合はエラーが発生しない。\n",
        "\n",
        "``` sql\n",
        "CREATE TABLE テーブル名(カラム名 CHECK(条件式), ...);\n",
        "CREATE TABLE テーブル名(カラム名1, カラム名2, ... , CHECK(条件式));\n",
        "```\n",
        "\n",
        "`CHECK` 句は、カラムに CHECK 制約を付ける。1 行目の形は単一のカラムに CHECK 制約を付け、2 行目の形は全てのカラムに CHECK 制約を付ける。\n",
        "\n",
        "例えば、SQLite で `CREATE TABLE t1(a, b INTEGER CHECK(b >= 1 AND b < 100));` の場合、`b` カラムの値は 1 以上 100 未満の整数のみ許可される。"
      ],
      "metadata": {
        "id": "KKGm37xFD-bu"
      }
    },
    {
      "cell_type": "markdown",
      "source": [
        "### FOREIGN KEY 制約"
      ],
      "metadata": {
        "id": "0vkVmKYfG5O5"
      }
    },
    {
      "cell_type": "markdown",
      "source": [
        "`CREATE TABLE` コマンドで、カラムに FOREIGN KEY 制約を付けることができる。FOREIGN KEY 制約は、別のテーブルのカラムを参照するためのカラムを設定する。FOREIGN KEY 制約を付けたカラムを**外部キー**（Foreign Key; FK）という。\n",
        "\n",
        "``` sql\n",
        "CREATE TABLE テーブル名(カラム定義1, カラム定義2, ... , FOREIGN KEY(カラム名, ...) REFERENCES 別のテーブル名(参照先カラム名, ...));\n",
        "```\n",
        "\n",
        "`FOREIGN KEY/REFERENCES` 句は、カラムに FOREIGN KEY 制約を付ける。複数のカラムの組み合わせを外部キーとすることも可能で、これを**複合外部キー**とも呼ぶ。\n",
        "\n",
        "外部キーは、普通、別のテーブルの主キーを参照する。複合主キーを参照するには、複合主キーを構成するカラム名を全て指定する必要がある。外部キーが参照する別のテーブルのカラムがもし存在しなければエラーが発生する。\n",
        "\n",
        "SQLite では、FOREIGN KEY 制約は追加された機能であり、後方互換性を維持するために、FOREIGN KEY 制約はデフォルトでは無効になっている。接続後に次のコマンドを実行することで、FOREIGN KEY 制約を有効化することができる。\n",
        "\n",
        "``` sql\n",
        "PRAGMA foreign_keys = ON;\n",
        "```\n",
        "\n",
        "例えば、次のような社員名簿のテーブル `employees` と部門のテーブル `department` を考える。\n",
        "\n",
        "![](https://www.plantuml.com/plantuml/png/VP2zIWD1483xUOg5j8A9f4hkGjx11v2L7S_5_Jbs9yNfMeYLsAG84Ni5cu2LY3zlatZcBHmt1hjq-ttCV2mpZYG3JQo18b9ZS0J1Un8N88ILeT9k8Bf3XbegfLsLwH98ay4yTE8T7Ufp78XUVxXb3h5mFbXfViUB_RzsFDEkba7QRK_qDor0MnlV84OeEaPNftHi9hZNgO9iHgdKAfLEMaobGjudYuwEM4BgfkNdzFlk8Hqmz58xUrw-BjW2YzNqXfajmF_QxduEVbori_VrzLCkhkOlNuyBffnSps_R-xTCw9JO_7tCJxxW3m00)\n",
        "\n",
        "`employees` の `department_id` カラムを外部キーとし、`department` の `id` カラムを参照する場合、SQLite では次のように書く:\n",
        "\n",
        "``` sql\n",
        "CREATE TABLE department(id INTEGER PRIMARY KEY, name TEXT, department_id INTEGER, FOREIGN KEY(department_id) REFERENCES department(id));\n",
        "```"
      ],
      "metadata": {
        "id": "vsiJWANpG6GI"
      }
    },
    {
      "cell_type": "markdown",
      "source": [
        "### AS 句"
      ],
      "metadata": {
        "id": "slGA5xrLebkX"
      }
    },
    {
      "cell_type": "markdown",
      "source": [
        "`CREATE TABLE` コマンドは、既存のテーブルのデータから新しいテーブルを作成することもできる。\n",
        "\n",
        "``` sql\n",
        "CREATE TABLE テーブル名 AS SQL文;\n",
        "```\n",
        "\n",
        "`AS` 句に続く SQL 文は、既存のテーブルからレコードのリスト（行列）を返すものでなければならない。SQL 文が空のリストを返すときは、カラム定義だけが新しいテーブルにコピーされる。\n",
        "\n",
        "SQLite の場合、主キーは設定されないことに注意する。また、`IF NOT EXISTS` 句を付けることができる。\n",
        "\n",
        "``` sql\n",
        "CREATE TABLE IF NOT EXISTS テーブル名 AS SQL文;\n",
        "```"
      ],
      "metadata": {
        "id": "2uFz7YTwecYx"
      }
    },
    {
      "cell_type": "markdown",
      "source": [
        "### CREATE INDEX 文"
      ],
      "metadata": {
        "id": "7SurKFxHd2jd"
      }
    },
    {
      "cell_type": "markdown",
      "source": [
        "``` sql\n",
        "CREATE INDEX インデックス名 ON テーブル名(カラム名1, カラム名2, ...);\n",
        "```\n",
        "\n",
        "`CREATE INDEX` コマンドは、指定したカラムを対象として検索インデックスを作成する。インデックス名の検索インデックスが既に存在するなら、エラーが発生する。SQLite では、次のように `IF NOT EXISTS` 句を付けることができる。\n",
        "\n",
        "``` sql\n",
        "CREATE INDEX IF NOT EXISTS インデックス名 ON テーブル名(カラム名1, カラム名2, ...)\n",
        "```\n",
        "\n",
        "`IF NOT EXISTS` 句を付けた場合、インデックス名の検索インデックスが存在しないならば、新しい検索インデックスを作成する。\n",
        "\n",
        "検索インデックスは、DB が特定のカラム値のあるレコードをすばやく見つけるために使用される。検索インデックスがない場合、DB はレコードを見つけるために先頭行から始めてテーブル全体を読み取ること（テーブルスキャン）が必要となるので、計算量はデータ量 $n$ に対して $O(n)$ となり、テーブルの大きさに比例して計算時間が増大する。\n",
        "\n",
        "SQLite を含む多くの RDBMS 製品では、検索インデックスに B+-tree と呼ばれる木構造を採用している。例えば、整数値（1, 2, 3, 4, 5, 6, 7）を含むカラムに検索インデックスを作成し、下図のような B+-tree が構築されたとする（Wikimedia Commons から引用）。\n",
        "\n",
        "![](https://upload.wikimedia.org/wikipedia/commons/thumb/3/37/Bplustree.png/320px-Bplustree.png)\n",
        "\n",
        "この B+-tree では、各ノードにカラム値がソートされた状態で保存され、末端のノード（リーフノード）がレコードへの参照(`ROWID`)を持っていて、他のノードは子ノードへの参照を持っている。検索するときは、まずルートノードへ行く。このルートノードには 3, 5 があり、検索対象のカラム値が 3 未満なら左側の枝でつながる子ノードに行き、3 以上 5 未満なら中央の枝でつながる子ノードに行き、5 以上なら右側の枝でつながる子ノードに行く。リーフノードにたどり着いたら、そこに検索対象のカラム値があれば DBMS はレコードを返し、なければ目的のレコードは存在しないと判断する。どのリーフノードもルートノードからの距離が同じなので、どんなカラム値でもほぼ同じ時間で処理できる。\n",
        "\n",
        "リーフノードはカラム値でソートされていることに注目する。リーフノードがソートされていなければ、上記のような手順で目的のリーフノードにたどり着くことはできない。データの変更や追加があった時は、リーフノードのソート状態が壊れないように各ノードの参照先の付け替えが行われる。\n",
        "\n",
        "B+-tree の検索と更新にかかる時間は、データ量 $n$ に対して $O(\\log n)$ であることが知られている。\n",
        "\n",
        "複数のカラムにまたがる 1 つのインデックスのことを**複合インデックス**という。複合インデックスでは、複数のカラムを指定した順に辞書式順序でデータの順序付けを行い、木構造を作成する。例えば、 `CREATE INDEX idx_col1_col2 ON table(col1, col2);` とした場合、まず `col1` カラムの値の大小で順番が決まり、`col1` カラムの値が同じならば `col2` カラムの値の大小で順番が決まる。リーフノードをみると、`col1` カラムの値ではソートされているが、`col2` カラムの値ではソートされていないことになる。このため、複合インデックスから 2 つ目以降のカラムのみを選んで検索に使うことはできない。\n",
        "\n",
        "一方、複合主キーを指定した検索では、単一のカラムで作成されたインデックスは使用されないことに注意する。\n",
        "\n",
        "複合インデックスの仕組みから、カラムの順番が重要で、カラムの順番が違えば複合インデックスとして違うものとなる。複合インデックスが複合主キーを指定した検索で使われるためには、カラムの順番を複合主キーと複合インデックスとで一致させておく必要がある。\n",
        "\n",
        "検索インデックスの作成は、検索が高速化するメリットがある一方で、以下のようなデメリットもある。\n",
        "\n",
        "  * 検索インデックスを保存する分、ストレージを消費する。\n",
        "  * 不等号 `>`, `<`, `>=`, `<=` を使った条件による検索ではあまり効果がない。\n",
        "  * 検索インデックスを作成していないカラムを指定した検索では全く効果がない。\n",
        "  * データを更新するとき、検索インデックスも更新する必要があって、処理時間が増える。\n",
        "\n",
        "このため、検索インデックスを作成する場合は、以下の点をよく吟味する必要がある。\n",
        "\n",
        "  1. 実際にカラムが等号 `=` を使った条件で検索されるかどうか。\n",
        "  2. 実際に検索インデックスで効果があるかどうか。\n",
        "\n",
        "検索インデックスは、カラム内に存在する異なる値の数（バリエーション）が大きいほど、データを絞り込めるので効果が高い。このバリエーションを**カーディナリティ**（cardinality）と呼ぶ。\n",
        "\n",
        "カーディナリティが高い例としては、UNIQUE 制約の付いたカラム。カラムの値はレコードごとに異なり、カラムから直ちに 1 つのレコードを絞り込めるので、検索インデックスの効果は高い。\n",
        "\n",
        "カーディナリティが低い例としては、2 つの値しか持たない真理値のカラム。このようなカラムでは、レコードが多数抽出されてしまうので、目的のレコードを見つけるには別のカラムも調べる必要があって、検索インデックスを作成しても効果は低い。\n",
        "\n",
        "なお、検索インデックスが作成されている場合とされていない場合で、データ操作のコマンドに違いはない。テーブルに対して検索を行うとき、検索インデックスが作成されていれば自動的に検索インデックスが使用される。また、データを更新したとき、検索インデックスも自動的に更新される。このように、一度検索インデックスを作成してしまえば、その後の操作で検索インデックスを意識する必要はない。\n",
        "\n",
        "SQLite では、`ROWID` カラムを対象とする検索インデックスが自動的に作成される。`INTEGER PRIMARY KEY` が付いたカラムは `ROWID` カラムのエイリアスになるので、`INTEGER PRIMARY KEY` が付いたカラムを対象とする検索インデックスを明示的に作成する必要はない。"
      ],
      "metadata": {
        "id": "pWiW-f8Ud3ev"
      }
    },
    {
      "cell_type": "markdown",
      "source": [
        "### CREATE TRIGGER 文"
      ],
      "metadata": {
        "id": "sLrLkrcWBPXL"
      }
    },
    {
      "cell_type": "markdown",
      "source": [
        "**トリガー**（trigger）は、テーブルにレコードが挿入・更新・削除される度に、その前か後に指定した SQL 文を実行する機能である。これは標準 SQL にはない機能であるが、SQLite を含む代表的な RDBMS 製品がサポートしている。\n",
        "\n",
        "SQLite では、次の構文がサポートされる。\n",
        "\n",
        "``` sql\n",
        "CREATE TRIGGER [ IF NOT EXISTS ] トリガー名 [ BEFORE | AFTER ]\n",
        " { INSERT | UPDATE [ OF カラム名, ...] | DELETE } ON テーブル名\n",
        " [ FOR EACH ROW ]\n",
        " [ WHEN 条件式 ]\n",
        " BEGIN\n",
        "  SQL文1;\n",
        "  SQL文2;\n",
        "  ...\n",
        " END;\n",
        "```\n",
        "\n",
        "`CREATE TRIGGER` コマンドはテーブルにトリガーを作成する。トリガー名のトリガーが既に存在するなら、エラーが発生する。`IF NOT EXISTS` 句を付けた場合、トリガー名のトリガーが存在しないならば、新しいトリガーを作成する。\n",
        "\n",
        "オプションの `BEFORE`, `AFTER` 句は、次に指定する、INSERT・UPDATE・DELETE 句の前にトリガーで指定した SQL 文を実行するのか、後で実行するのかを指定する。デフォルトは `BEFORE`。\n",
        "\n",
        "`INSERT`, `UPDATE`, `DELETE` 句は必ずいずれか 1 つを選択する必要があり、それぞれ、テーブルにレコードが挿入された時にトリガーを実行するのか、レコードが更新された時に実行するのか、レコードが削除された時に実行するのかを指定する。`UPDATE OF カラム名, ...` と指定すると、「特定のカラムが更新された」という条件を指定することになる。対象カラムはカンマ区切りで複数指定することができる。\n",
        "\n",
        "オプションの `FOR EACH ROW` 句を指定すると、対象テーブルに含まれるレコードに対して更新や削除が 1 行行われるたびにトリガーで設定された SQL 文が実行される。SQLite では、これ以外のトリガーの動作をサポートしていないので、`FOR EACH ROW` 句の指定はあってもなくても動作に違いはない。\n",
        "\n",
        "オプションの `WHEN 条件式` を指定すると、`条件式` の評価が 1（TRUE）の場合のみトリガーが実行される。\n",
        "\n",
        "`WHEN 条件式` の中およびトリガーで設定される SQL 文の中では、`NEW.カラム名` や `OLD.カラム名` の形で変更前のカラム値と変更後のカラム値を参照できる。\n",
        "\n",
        "  * INSERT トリガーでは、`NEW.カラム名` が使用可能。\n",
        "  * UPDATE トリガーでは、`NEW.カラム名` および `OLD.カラム名` が使用可能。\n",
        "  * DELETE トリガーでは、`OLD.カラム名` が使用可能。\n",
        "\n",
        "たとえば、`CREATE TRIGGER tri1 AFTER UPDATE ON t1 WHEN OLD.a >= 1000 BEGIN （略） END;` は、トリガー実行の条件を `a` カラムの変更前の値が `1000` 以上であることとしている。\n",
        "\n",
        "トリガーは、SQL 発行にビジネスロジックを持ち込んでいることに注意する。とくに、トリガーは透過的に実行されるから、その存在を忘れてしまう危険がある。トリガーのような処理は、アプリケーション（Python）側にまとめたほうが保守しやすい。"
      ],
      "metadata": {
        "id": "x1flo4F4BQWk"
      }
    },
    {
      "cell_type": "markdown",
      "source": [
        "### CREATE VIEW 文"
      ],
      "metadata": {
        "id": "VYzEFl0ls_3a"
      }
    },
    {
      "cell_type": "markdown",
      "source": [
        "**ビュー**（view）は、テーブルとして扱うことができるが、1 つ以上のテーブルから抽出されたデータがあたかも 1 つのテーブルになっているように見せる仮想的なテーブルであり、物理的に保存されない点で通常のテーブルとは異なる。\n",
        "\n",
        "``` sql\n",
        "CREATE VIEW ビュー名[(カラム名1, カラム名2, ...)] AS SQL 文;\n",
        "```\n",
        "\n",
        "`CREATE VIEW` コマンドは、`AS` 句の SQL 文により抽出されたデータからビューを新しく作成する。カラム名を指定した場合、`AS` 句の SQL 文から生成されるカラム名を上書きする。ビュー名のビューが既に存在するなら、エラーが発生する。SQLite では、次のように `IF NOT EXISTS` 句を付けることができる。\n",
        "\n",
        "``` sql\n",
        "CREATE VIEW IF NOT EXISTS ビュー名[(カラム名1, カラム名2, ...)] AS SQL 文;\n",
        "```\n",
        "\n",
        "`IF NOT EXISTS` 句を付けた場合、ビュー名のビューが存在しないならば、新しいビューを作成する。\n",
        "\n",
        "ビューは、もとのテーブルのデータを参照しているだけで、データそのものを保持していない。ビューからデータを取得すると、その都度現在のテーブルのデータから条件に合うデータを取得する。このため、ビューに対して同じ SQL 文を実行しても、もとのテーブルのデータが変わっていると異なる結果となる可能性がある。\n",
        "\n",
        "ビューを更新すると、参照先のテーブルのデータも更新される。ただし、SQLiteでは、ビューの更新は以下の条件をすべて満たす場合でないとエラーが発生する。\n",
        "\n",
        "  1. 単一テーブルを基にしている。\n",
        "  2. もとのテーブルのレコードを条件で絞り込んでなく、レコードの並べ替えや重複レコードの排除もしていない。\n",
        "  3. テーブルの結合を使用していない。"
      ],
      "metadata": {
        "id": "O5l9ysAQtAij"
      }
    },
    {
      "cell_type": "markdown",
      "source": [
        "### 3 層スキーマ"
      ],
      "metadata": {
        "id": "gyZwkvornjuz"
      }
    },
    {
      "cell_type": "markdown",
      "source": [
        "ビューは、3 層スキーマという DBMS の標準的なアーキテクチャの一部を実現する役割を果たす。\n",
        "\n",
        "**スキーマ**（schema）は、DB の枠組みを定めるものを意味し、DB の管理と開発を容易にするためには、以下の 3 つの階層に分離される必要がある（ANSI/SPARC モデル）。\n",
        "\n",
        "| スキーマ | 層 | 説明 |\n",
        "|:---|:---|:---|\n",
        "| **外部スキーマ** | ビュー層 | ユーザーやアプリケーションから見えるデータの形を定める。ユーザーやアプリケーションがアクセスできるデータの部分を制限すること<br />も行われる |\n",
        "| **概念スキーマ** | 論理層 | データ間の関係性やデータの種類といった、データの論理的構造を定める |\n",
        "| **内部スキーマ** | 物理層 | ファイルの配置や検索インデックスの使用といった、データの物理的な格納方法を定める |\n",
        "\n",
        "このような階層分けにより、データの論理的および物理的な独立性が確保される。\n",
        "\n",
        "  * 論理的データ独立性:  \n",
        "DB 全体の論理的構造に変更があっても、ユーザーやアプリケーションから見えるデータの形には変更がないようにできる。実際、ユーザーやアプリケーションにはビューを見せるようにして、本来のテーブルにアクセスできないようにしていれば、それは実現可能である。\n",
        "  * 物理的データ独立性:  \n",
        "ファイルの配置変更や検索インデックスの追加削除があっても、ほとんど SQL 文を書き直す必要はない。SQL は DB ファイルの位置や検索インデックスの存在を透過的に扱うからである。"
      ],
      "metadata": {
        "id": "R9XRl8AynmAU"
      }
    },
    {
      "cell_type": "markdown",
      "source": [
        "### ALTER 文"
      ],
      "metadata": {
        "id": "Z9KvPSdFtJn_"
      }
    },
    {
      "cell_type": "markdown",
      "source": [
        "`ALTER` は、テーブルなどの特性を変更するコマンドである。\n",
        "\n",
        "``` sql\n",
        "ALTER TABLE テーブル名 RENAME TO 新しいテーブル名;\n",
        "```\n",
        "\n",
        "作成済みのテーブル名を新しいテーブル名に変更する。\n",
        "\n",
        "``` sql\n",
        "ALTER TABLE テーブル名 RENAME [ COLUMN ] カラム名 TO 新しいカラム名\n",
        "```\n",
        "\n",
        "カラム名を新しいカラム名に変更する。`COLUMN` 句は省略可能。\n",
        "\n",
        "``` sql\n",
        "ALTER TABLE テーブル名 ADD [ COLUMN ] カラム定義;\n",
        "```\n",
        "\n",
        "作成したテーブルの最後にカラムを追加する。カラム定義は `カラム名 データ型` の形であり、`CREATE TABLE` コマンドと同様である。ただし、以下の条件をすべて満たしていなければならない。\n",
        "\n",
        "  1. PRIMARY KEY 制約や UNIQUE 制約は設定できない。\n",
        "  2. DEFAULT 制約を設定する場合は、デフォルト値に `CURRENT_TIME`, `CURRENT_DATE`, `CURRENT_TIMESTAMP` を指定することはできない。\n",
        "  3. NOT NULL 制約を設定する場合は、`NULL` 以外のデフォルト値の指定が必要。\n",
        "\n",
        "`COLUMN` 句は省略可能。\n",
        "\n",
        "``` sql\n",
        "ALTER TABLE テーブル名 DROP [ COLUMN ] カラム名\n",
        "```\n",
        "\n",
        "指定されたカラムをテーブルから削除し、その内容を書き換えて、そのカラムに関連付けられたデータを削除する。SQLite ではバージョン 3.35.0 でこの DROP COLUMN 構文をサポートした。ただし、以下の条件をすべて満たしていなければならない。\n",
        "\n",
        "  1. カラムが主キーあるいは複合主キーの一部でないこと。\n",
        "  2. カラムに UNIQUE 制約がないこと。\n",
        "  3. カラムを対象とした検索インデックスが作成されていないこと。\n",
        "  4. カラムが他のカラム（他のテーブルのカラムを含む）の CHECK 制約で使われていないこと。\n",
        "  5. カラムがトリガーに関与していないこと。\n",
        "\n",
        "`COLUMN` 句は省略可能。"
      ],
      "metadata": {
        "id": "Om7uAVtItKlq"
      }
    },
    {
      "cell_type": "markdown",
      "source": [
        "### DROP 文"
      ],
      "metadata": {
        "id": "ewuzRkS_0Jqn"
      }
    },
    {
      "cell_type": "markdown",
      "source": [
        "`DROP` は、テーブルなどを削除するコマンドである。\n",
        "\n",
        "``` sql\n",
        "DROP TABLE [ IF EXISTS ] テーブル名;\n",
        "```\n",
        "\n",
        "テーブルを削除する。このテーブルに関連付けされている検索インデックスとトリガーも同時に削除される。デフォルトではテーブルが存在しない場合にエラーが発生する。オプションの `IF EXISTS` 句を付けると、テーブルが存在する場合のみ削除する。\n",
        "\n",
        "``` sql\n",
        "DROP INDEX [ IF EXISTS ] インデックス名;\n",
        "```\n",
        "\n",
        "検索インデックスを削除する。デフォルトでは検索インデックスが存在しない場合にエラーが発生する。オプションの `IF EXISTS` 句を付けると、検索インデックスが存在する場合のみ削除する。\n",
        "\n",
        "``` sql\n",
        "DROP TRIGGER [ IF EXISTS ] トリガー名;\n",
        "```\n",
        "\n",
        "トリガーを削除する。デフォルトではトリガーが存在しない場合にエラーが発生する。オプションの `IF EXISTS` 句を付けると、トリガーが存在する場合のみ削除する。"
      ],
      "metadata": {
        "id": "7_vAr2Fg0Kfk"
      }
    },
    {
      "cell_type": "markdown",
      "source": [
        "データ操作\n",
        "----------"
      ],
      "metadata": {
        "id": "hN0Bg-YYTN8Z"
      }
    },
    {
      "cell_type": "markdown",
      "source": [
        "以下の標準 SQL のコマンドは、DML に分類される。DML は、Data Manipulation Language（データ操作言語）の略で、データの格納・取り出し・更新・削除などに使用するコマンドである。\n",
        "\n",
        "  * `INSERT`\n",
        "  * `SELECT`\n",
        "  * `UPDATE`\n",
        "  * `DELETE`"
      ],
      "metadata": {
        "id": "snb3VM2KTO7H"
      }
    },
    {
      "cell_type": "markdown",
      "source": [
        "### INSERT 文"
      ],
      "metadata": {
        "id": "z_x-q8YaYbxi"
      }
    },
    {
      "cell_type": "markdown",
      "source": [
        "``` sql\n",
        "INSERT INTO テーブル名 VALUES(値1, 値2, ...);\n",
        "```\n",
        "\n",
        "対象となるテーブルに含まれる全てのカラムに値を指定してレコードを追加する。値は、左から順に各カラムに格納されていく。値の数がテーブルに含まれるカラムの数と一致していない場合はエラーが発生する。\n",
        "\n",
        "`VALUES` 句の後の丸括弧をカンマで区切って複数指定すると、複数レコードを一度に追加する。\n",
        "\n",
        "``` sql\n",
        "INSERT INTO テーブル名(カラム1, カラム2, ...) VALUES(値1, 値2, ...);\n",
        "```\n",
        "\n",
        "特定のカラムだけに値を指定してレコードを追加する。カラムと値はカンマで区切って同じ数だけ指定する。指定されたカラムには指定された値が格納されるが、指定されなかったカラムには DEFAULT 制約が設定してあればデフォルトの値が格納され、 DEFAULT 制約が設定されていなければ `NULL` が格納される。\n",
        "\n",
        "`VALUES` 句の後の丸括弧をカンマで区切って複数指定すると、複数レコードを一度に追加する。\n",
        "\n",
        "``` sql\n",
        "INSERT INTO テーブル名 DEFAULT VALUES;\n",
        "```\n",
        "\n",
        "値を 1 つも指定せずにレコードを追加する。この場合は全てのカラムにデフォルトの値（DEFAULT 制約が設定してあればデフォルトの値、 DEFAULT 制約が設定されていなければ `NULL`）が格納される。\n",
        "\n",
        "``` sql\n",
        "INSERT INTO テーブル名 SQL文;\n",
        "```\n",
        "\n",
        "他のテーブルから SQL 文により取得したデータのリストをレコードとしてテーブルに追加する。レコードを追加するテーブルに含まれるカラムの数と、SQL文 で取得するカラム値の数は同じである必要がある（カラム名は異なっていてもよい）。\n",
        "\n",
        "``` sql\n",
        "INSERT INTO テーブル名(カラム名1, カラム名2, ...) SQL文;\n",
        "```\n",
        "\n",
        "他のテーブルから SQL 文により取得したデータのリストを、左から順に指定したカラムに格納したレコードとしてテーブルに追加する。指定したカラムの数と、 SQL 文で取得するカラム値の数は同じである必要がある（カラム名は異なっていてもよい）。なお、指定されなかったカラムには DEFAULT 制約が設定してあればデフォルトの値が格納され、 DEFAULT 制約が設定されていなければ `NULL` が格納される。"
      ],
      "metadata": {
        "id": "orftXgYLYcoH"
      }
    },
    {
      "cell_type": "markdown",
      "source": [
        "### SELECT 文"
      ],
      "metadata": {
        "id": "NiWG24Twi_-e"
      }
    },
    {
      "cell_type": "markdown",
      "source": [
        "``` sql\n",
        "SELECT カラム名1, カラム名2, ... FROM テーブル名;\n",
        "```\n",
        "\n",
        "指定したテーブルに含まれる全てのレコードに対して、テーブルに格納されている順番に従って、カラムの値を取得する。複数のカラムの値を取得する場合は、カンマで区切ってカラムを指定する。\n",
        "\n",
        "また、カラム名の指定に代えて、（カラム名を含んだ）文字列演算・四則演算・剰余演算や、`LENGTH`, `REPLACE`, `SUBSTRING`, `ABS`, `ROUND`, `POWER` といった関数の式を書くことで、計算結果を取得することもできる。"
      ],
      "metadata": {
        "id": "53RIlOqJjBFu"
      }
    },
    {
      "cell_type": "code",
      "source": [
        "import sqlite3\n",
        "from tabulate import tabulate\n",
        "\n",
        "con = sqlite3.connect(\":memory:\")\n",
        "sql_script = \"\"\"\n",
        "CREATE TABLE IF NOT EXISTS book(\n",
        "    id INTEGER PRIMARY KEY,\n",
        "    title TEXT,\n",
        "    author TEXT,\n",
        "    price INTEGER\n",
        ");\n",
        "INSERT INTO book(title, author) VALUES('SQL入門', '山田太郎');\n",
        "INSERT INTO book\n",
        "    (title, author, price)\n",
        "  VALUES\n",
        "    ('Python入門', '田中花子', '1500'),\n",
        "    ('Flutter入門', '鈴木四郎', '3000');\n",
        "\"\"\"\n",
        "cur = con.executescript(sql_script).execute(\n",
        "    \"SELECT id, title, price, price - 2000 FROM book\"  # 2000円 との差額も取得する\n",
        "    )\n",
        "print(tabulate(cur.fetchall(), [col for col, *_ in cur.description]))\n",
        "con.close()"
      ],
      "metadata": {
        "colab": {
          "base_uri": "https://localhost:8080/"
        },
        "id": "em9JJst2FU3F",
        "outputId": "14f11f5e-9b8d-45fc-99d0-6b04f5629189"
      },
      "execution_count": 4,
      "outputs": [
        {
          "output_type": "stream",
          "name": "stdout",
          "text": [
            "  id  title          price    price - 2000\n",
            "----  -----------  -------  --------------\n",
            "   1  SQL入門\n",
            "   2  Python入門      1500            -500\n",
            "   3  Flutter入門     3000            1000\n"
          ]
        }
      ]
    },
    {
      "cell_type": "markdown",
      "source": [
        "``` sql\n",
        "SELECT * FROM テーブル名;\n",
        "```\n",
        "\n",
        "指定したテーブルに含まれる全てのレコードに対して、全てのカラムの値を取得する。\n",
        "\n",
        "`ROWID` の値は `*` では取得できない。合わせて取得したい場合には `*` とカンマで区切って指定することで取得できる。"
      ],
      "metadata": {
        "id": "XFsck6a6t_VL"
      }
    },
    {
      "cell_type": "code",
      "source": [
        "import sqlite3\n",
        "from tabulate import tabulate\n",
        "\n",
        "con = sqlite3.connect(\":memory:\")\n",
        "sql_script = \"\"\"\n",
        "CREATE TABLE IF NOT EXISTS person(name TEXT, age INTEGER);\n",
        "INSERT INTO person VALUES\n",
        "  ('山田太郎', 25),\n",
        "  ('田中花子', 18),\n",
        "  ('鈴木薫子', 30);\n",
        "\"\"\"\n",
        "cur = con.executescript(sql_script).execute(\n",
        "    \"SELECT *, rowid FROM person\"\n",
        "    )\n",
        "print(tabulate(cur.fetchall(), [col for col, *_ in cur.description]))\n",
        "con.close()"
      ],
      "metadata": {
        "colab": {
          "base_uri": "https://localhost:8080/"
        },
        "id": "BsWvJJQIuAp1",
        "outputId": "2ba6ec2a-b266-498c-ed6f-397e61d0c1b9"
      },
      "execution_count": 5,
      "outputs": [
        {
          "output_type": "stream",
          "name": "stdout",
          "text": [
            "name        age    rowid\n",
            "--------  -----  -------\n",
            "山田太郎     25        1\n",
            "田中花子     18        2\n",
            "鈴木薫子     30        3\n"
          ]
        }
      ]
    },
    {
      "cell_type": "markdown",
      "source": [
        "`CREATE TABLE` コマンドの`AS` 句に `SELECT` 文を記述すると、既存のテーブルを複製することができる。"
      ],
      "metadata": {
        "id": "i7JyWNt3o2zU"
      }
    },
    {
      "cell_type": "code",
      "source": [
        "import sqlite3\n",
        "from tabulate import tabulate\n",
        "\n",
        "con = sqlite3.connect(\":memory:\")\n",
        "sql_script = \"\"\"\n",
        "CREATE TABLE IF NOT EXISTS person(name TEXT, age INTEGER);\n",
        "INSERT INTO person VALUES\n",
        "  ('山田太郎', 25),\n",
        "  ('田中花子', 18),\n",
        "  ('鈴木薫子', 30);\n",
        "\n",
        "CREATE TABLE IF NOT EXISTS friend AS SELECT * FROM person;\n",
        "\"\"\"\n",
        "cur = con.executescript(sql_script).execute(\n",
        "    \"SELECT *, rowid FROM friend\"\n",
        "    )\n",
        "print(tabulate(cur.fetchall(), [col for col, *_ in cur.description]))\n",
        "con.close()"
      ],
      "metadata": {
        "colab": {
          "base_uri": "https://localhost:8080/"
        },
        "id": "Cisx31mTo-i8",
        "outputId": "525c3bc6-fbe2-4cd9-80a5-10b2917d01d8"
      },
      "execution_count": 6,
      "outputs": [
        {
          "output_type": "stream",
          "name": "stdout",
          "text": [
            "name        age    rowid\n",
            "--------  -----  -------\n",
            "山田太郎     25        1\n",
            "田中花子     18        2\n",
            "鈴木薫子     30        3\n"
          ]
        }
      ]
    },
    {
      "cell_type": "markdown",
      "source": [
        "### 集約関数"
      ],
      "metadata": {
        "id": "B283dF8mwebr"
      }
    },
    {
      "cell_type": "markdown",
      "source": [
        "`SELECT` 文では以下の関数を使うことができる。\n",
        "\n",
        "| 関数 | 機能 |\n",
        "|:---|:---|\n",
        "| `AVG(カラム名)` | 指定したカラムの平均値を返す |\n",
        "| `SUM(カラム名)` | 指定したカラムの合計を返す |\n",
        "| `MAX(カラム名)` | 指定したカラムの最大値を返す |\n",
        "| `MIN(カラム名)` | 指定したカラムの最小値を返す |\n",
        "| `COUNT(カラム名)` | 指定したカラムに含まれる `NULL` 以外の行数を返す |\n",
        "| `COUNT(*)` | レコードの数を返す |\n",
        "\n",
        "これらの関数は複数のレコードのデータを 1 つの値にまとめるため**集約関数**（aggregate function）と呼ばれる。\n",
        "\n",
        "SQLite では、`AVG`, `SUM` の計算において、対象のカラムに文字列などが含まれていた場合に数値に変換できない文字列は 0 として計算する。"
      ],
      "metadata": {
        "id": "LOXU80rxwgBk"
      }
    },
    {
      "cell_type": "code",
      "source": [
        "import sqlite3\n",
        "from tabulate import tabulate\n",
        "\n",
        "con = sqlite3.connect(\":memory:\")\n",
        "sql_script = \"\"\"\n",
        "CREATE TABLE IF NOT EXISTS person(name TEXT, age INTEGER, height REAL);\n",
        "INSERT INTO person VALUES('山田太郎', 25, 170.5);\n",
        "INSERT INTO person VALUES('田中花子', 18, 158.2);\n",
        "INSERT INTO person(name, height) VALUES('鈴木薫子', 170.5);\n",
        "INSERT INTO person VALUES('渡辺洋平', 30, 170.5);\n",
        "\"\"\"\n",
        "cur = con.executescript(sql_script).execute(\n",
        "    \"SELECT AVG(height), SUM(height), MAX(height), MIN(height), COUNT(age), COUNT(*) FROM person\"\n",
        "    )\n",
        "print(tabulate(cur.fetchall(), [col for col, *_ in cur.description]))\n",
        "con.close()"
      ],
      "metadata": {
        "colab": {
          "base_uri": "https://localhost:8080/"
        },
        "id": "MQCQ8IYR89ph",
        "outputId": "042b39b3-54ec-4d1b-9de2-92af64d80c50"
      },
      "execution_count": 7,
      "outputs": [
        {
          "output_type": "stream",
          "name": "stdout",
          "text": [
            "  AVG(height)    SUM(height)    MAX(height)    MIN(height)    COUNT(age)    COUNT(*)\n",
            "-------------  -------------  -------------  -------------  ------------  ----------\n",
            "      167.425          669.7          170.5          158.2             3           4\n"
          ]
        }
      ]
    },
    {
      "cell_type": "markdown",
      "source": [
        "### AS 句"
      ],
      "metadata": {
        "id": "C1I4iUXXyG2b"
      }
    },
    {
      "cell_type": "markdown",
      "source": [
        "``` sql\n",
        "SELECT カラム名 [ AS ] 別名, ... FROM テーブル名;\n",
        "```\n",
        "\n",
        "`SELECT` 文の中で `カラム名 AS 別名` と書くと、カラムに別の名前を付けることができる。式で値を取得した場合は、その式がそのまま出力用のカラム名に使われるので、`AS` で適当な長さの別名を付けるとよい。\n",
        "\n",
        "`AS` を省略して `カラム名 別名` と書いてもよい。"
      ],
      "metadata": {
        "id": "ygKB4BPuyKdV"
      }
    },
    {
      "cell_type": "code",
      "source": [
        "import sqlite3\n",
        "from tabulate import tabulate\n",
        "\n",
        "con = sqlite3.connect(\":memory:\")\n",
        "sql_script = \"\"\"\n",
        "CREATE TABLE IF NOT EXISTS person(name TEXT, age INTEGER, height REAL);\n",
        "INSERT INTO person VALUES('山田太郎', 25, 170.5);\n",
        "INSERT INTO person VALUES('田中花子', 18, 158.2);\n",
        "INSERT INTO person(name, height) VALUES('鈴木薫子', 170.5);\n",
        "INSERT INTO person VALUES('渡辺洋平', 30, 170.5);\n",
        "\"\"\"\n",
        "cur = con.executescript(sql_script).execute(\n",
        "    \"SELECT ROUND(AVG(height), 1) AS 'average height' FROM person\"\n",
        "    )\n",
        "print(tabulate(cur.fetchall(), [col for col, *_ in cur.description]))\n",
        "con.close()"
      ],
      "metadata": {
        "colab": {
          "base_uri": "https://localhost:8080/"
        },
        "id": "PCl-mXFGyIfx",
        "outputId": "d114f21c-d3ac-4b08-c5b6-558a6af44c7a"
      },
      "execution_count": 8,
      "outputs": [
        {
          "output_type": "stream",
          "name": "stdout",
          "text": [
            "  average height\n",
            "----------------\n",
            "           167.4\n"
          ]
        }
      ]
    },
    {
      "cell_type": "markdown",
      "source": [
        "### CASE 句"
      ],
      "metadata": {
        "id": "FJsS9qxBKaCa"
      }
    },
    {
      "cell_type": "markdown",
      "source": [
        "``` sql\n",
        "SELECT\n",
        "  CASE 式\n",
        "    WHEN 値1 THEN 式1\n",
        "    WHEN 値2 THEN 式2\n",
        "    ELSE 式3\n",
        "  END [ AS 別名 ]\n",
        "FROM テーブル名;\n",
        "```\n",
        "\n",
        "`SELECT` 文の中で `CASE` 句は、指定した `式` の値と比較して、`WHEN` 句を最初から順番にチェックしていき、値が合致する場合に直後の `THEN` 句の式の値を返す。`WHEN` 句は複数指定でき、2 つ目以降の `WHEN` 句と `ELSE` 句は必須ではない。どの値も合致せず、`ELSE` 句が指定されている場合は `ELSE` 句の式の値を返す。どの値も合致せず、`ELSE` 句が指定されていない場合は `NULL` を返す。\n",
        "\n",
        "出力用のカラムには `CASE ... END` の名前が付くので、`AS` 句で別名を付けておくとよい。\n",
        "\n",
        "``` sql\n",
        "SELECT\n",
        "  CASE\n",
        "    WHEN 条件式1 THEN 式1\n",
        "    WHEN 条件式2 THEN 式2\n",
        "    ELSE 式3\n",
        "  END [ AS 別名 ]\n",
        "FROM テーブル名;\n",
        "```\n",
        "\n",
        "`CASE` 句で式を指定しない場合は、`WHEN` 句を最初から順番にチェックしていき、条件式が最初に 1（True）となった場合に直後の `THEN` 句の式の値を返す。`WHEN` 句は複数指定でき、2 つ目以降の `WHEN` 句と `ELSE` 句は必須ではない。どの条件式も 1（True）とならず、`ELSE` 句が指定されている場合は `ELSE` 句の式の値を返す。どの条件式も 1（True）とならず、`ELSE` 句が指定されていない場合は `NULL` を返す。"
      ],
      "metadata": {
        "id": "a1m_x2mLKbGq"
      }
    },
    {
      "cell_type": "code",
      "source": [
        "import sqlite3\n",
        "from tabulate import tabulate\n",
        "\n",
        "con = sqlite3.connect(\":memory:\")\n",
        "sql_script = \"\"\"\n",
        "CREATE TABLE IF NOT EXISTS book(title TEXT, author TEXT, price INTEGER);\n",
        "INSERT INTO book VALUES('SQL入門', 'Masumi', 2500);\n",
        "INSERT INTO book VALUES('Flutter入門', 'Masumi', 2500);\n",
        "INSERT INTO book(title, author) VALUES('HTML入門', 'Hiro');\n",
        "INSERT INTO book VALUES('GitHub入門2', 'Emma', 2200);\n",
        "INSERT INTO book VALUES('Flutter上級', 'Oliva', 4500);\n",
        "INSERT INTO book VALUES('コンピューターの仕組みが100%わかる本', 'Takeda', 1400);\n",
        "\"\"\"\n",
        "sql_case1 = \"\"\"\n",
        "SELECT *,\n",
        "  CASE title\n",
        "    WHEN 'SQL入門' THEN '〇×社'\n",
        "    WHEN 'Flutter入門' THEN '凹凸出版'\n",
        "    WHEN 'Flutter上級' THEN '凹凸出版'\n",
        "    ELSE '△□書店'\n",
        "  END AS publisher\n",
        "FROM book\n",
        "\"\"\"\n",
        "sql_case2 = \"\"\"\n",
        "SELECT *,\n",
        "  CASE\n",
        "    WHEN price < 3000 THEN '3000円より安い'\n",
        "    ELSE '3000円以上'\n",
        "  END AS 'price status'\n",
        "FROM book\n",
        "\"\"\"\n",
        "cur = con.executescript(sql_script).execute(sql_case1)\n",
        "print(tabulate(cur.fetchall(), [col for col, *_ in cur.description]), \"\\n\")\n",
        "res = cur.execute(sql_case2)\n",
        "print(tabulate(res.fetchall(), [col for col, *_ in res.description]))\n",
        "con.close()"
      ],
      "metadata": {
        "colab": {
          "base_uri": "https://localhost:8080/"
        },
        "id": "2CE7QwN-QFOt",
        "outputId": "b13b4dec-19e3-452f-9fe3-45051c6841e1"
      },
      "execution_count": 9,
      "outputs": [
        {
          "output_type": "stream",
          "name": "stdout",
          "text": [
            "title                                 author      price  publisher\n",
            "------------------------------------  --------  -------  -----------\n",
            "SQL入門                               Masumi       2500  〇×社\n",
            "Flutter入門                           Masumi       2500  凹凸出版\n",
            "HTML入門                              Hiro               △□書店\n",
            "GitHub入門2                           Emma         2200  △□書店\n",
            "Flutter上級                           Oliva        4500  凹凸出版\n",
            "コンピューターの仕組みが100%わかる本  Takeda       1400  △□書店 \n",
            "\n",
            "title                                 author      price  price status\n",
            "------------------------------------  --------  -------  --------------\n",
            "SQL入門                               Masumi       2500  3000円より安い\n",
            "Flutter入門                           Masumi       2500  3000円より安い\n",
            "HTML入門                              Hiro               3000円以上\n",
            "GitHub入門2                           Emma         2200  3000円より安い\n",
            "Flutter上級                           Oliva        4500  3000円以上\n",
            "コンピューターの仕組みが100%わかる本  Takeda       1400  3000円より安い\n"
          ]
        }
      ]
    },
    {
      "cell_type": "markdown",
      "source": [
        "`NULL` に対しては `<` は 1（True）にならないから、`NULL` のレコードも「3000円以上」が返される。そのため、`NULL` のレコードを「3000円以上」と判定されないようにしたい場合は、別途条件設定が必要となる。"
      ],
      "metadata": {
        "id": "HjHaeDm5tDBZ"
      }
    },
    {
      "cell_type": "markdown",
      "source": [
        "### WHERE 句"
      ],
      "metadata": {
        "id": "q61dRvEn6yEs"
      }
    },
    {
      "cell_type": "markdown",
      "source": [
        "``` sql\n",
        "SELECT カラム名, ... FROM テーブル名 WHERE 条件式;\n",
        "```\n",
        "\n",
        "`SELECT` 文で `WHERE 条件式` を指定すると、`条件式` の評価が 1（TRUE）となるレコードのみに対して、カラムの値を取得する。"
      ],
      "metadata": {
        "id": "7bwmruLHNW8p"
      }
    },
    {
      "cell_type": "code",
      "source": [
        "import sqlite3\n",
        "from tabulate import tabulate\n",
        "\n",
        "con = sqlite3.connect(\":memory:\")\n",
        "sql_script = \"\"\"\n",
        "CREATE TABLE IF NOT EXISTS book(title TEXT, author TEXT, price INTEGER);\n",
        "INSERT INTO book VALUES('SQL入門', 'Masumi', 2500);\n",
        "INSERT INTO book VALUES('Flutter入門', 'Masumi', 2500);\n",
        "INSERT INTO book(title, author) VALUES('HTML入門', 'Hiro');\n",
        "INSERT INTO book VALUES('GitHub入門2', 'Emma', 2200);\n",
        "INSERT INTO book VALUES('Flutter上級', 'Oliva', 4500);\n",
        "INSERT INTO book VALUES('コンピューターの仕組みが100%わかる本', 'Takeda', 1400);\n",
        "\"\"\"\n",
        "con.executescript(sql_script)\n",
        "\n",
        "def query(sql):\n",
        "    print(f\"[{sql}]\")\n",
        "    cur = con.execute(sql)\n",
        "    print(tabulate(cur.fetchall(), [col for col, *_ in cur.description]), \"\\n\")\n",
        "\n",
        "query(\"SELECT * FROM book WHERE price < 2000 OR author = 'Oliva'\")\n",
        "\n",
        "query(\"SELECT * FROM book WHERE price BETWEEN 2000 AND 3000\")\n",
        "\n",
        "query(\"SELECT * FROM book WHERE NOT price BETWEEN 2000 AND 3000\")\n",
        "\n",
        "query(\"SELECT * FROM book WHERE price IN(2000, 2500, 4500)\")\n",
        "\n",
        "query(\"SELECT * FROM book WHERE price NOT IN(2000, 2500, 4500)\")\n",
        "\n",
        "query(\"SELECT * FROM book WHERE title LIKE '%Flutter%'\")\n",
        "\n",
        "query(\"SELECT * FROM book WHERE title LIKE '%入門_'\")\n",
        "\n",
        "query(\"SELECT * FROM book WHERE title LIKE '%100$%わかる本' ESCAPE '$'\")\n",
        "\n",
        "query(\"SELECT * FROM book WHERE price IS NULL\")\n",
        "\n",
        "query(\"SELECT * FROM book WHERE price IS NOT NULL\")\n",
        "\n",
        "con.close()"
      ],
      "metadata": {
        "colab": {
          "base_uri": "https://localhost:8080/"
        },
        "id": "dknlBlbXNX2b",
        "outputId": "66bc27a7-db5c-4473-a46c-1fba24c2c1f2"
      },
      "execution_count": 10,
      "outputs": [
        {
          "output_type": "stream",
          "name": "stdout",
          "text": [
            "[SELECT * FROM book WHERE price < 2000 OR author = 'Oliva']\n",
            "title                                 author      price\n",
            "------------------------------------  --------  -------\n",
            "Flutter上級                           Oliva        4500\n",
            "コンピューターの仕組みが100%わかる本  Takeda       1400 \n",
            "\n",
            "[SELECT * FROM book WHERE price BETWEEN 2000 AND 3000]\n",
            "title        author      price\n",
            "-----------  --------  -------\n",
            "SQL入門      Masumi       2500\n",
            "Flutter入門  Masumi       2500\n",
            "GitHub入門2  Emma         2200 \n",
            "\n",
            "[SELECT * FROM book WHERE NOT price BETWEEN 2000 AND 3000]\n",
            "title                                 author      price\n",
            "------------------------------------  --------  -------\n",
            "Flutter上級                           Oliva        4500\n",
            "コンピューターの仕組みが100%わかる本  Takeda       1400 \n",
            "\n",
            "[SELECT * FROM book WHERE price IN(2000, 2500, 4500)]\n",
            "title        author      price\n",
            "-----------  --------  -------\n",
            "SQL入門      Masumi       2500\n",
            "Flutter入門  Masumi       2500\n",
            "Flutter上級  Oliva        4500 \n",
            "\n",
            "[SELECT * FROM book WHERE price NOT IN(2000, 2500, 4500)]\n",
            "title                                 author      price\n",
            "------------------------------------  --------  -------\n",
            "GitHub入門2                           Emma         2200\n",
            "コンピューターの仕組みが100%わかる本  Takeda       1400 \n",
            "\n",
            "[SELECT * FROM book WHERE title LIKE '%Flutter%']\n",
            "title        author      price\n",
            "-----------  --------  -------\n",
            "Flutter入門  Masumi       2500\n",
            "Flutter上級  Oliva        4500 \n",
            "\n",
            "[SELECT * FROM book WHERE title LIKE '%入門_']\n",
            "title        author      price\n",
            "-----------  --------  -------\n",
            "GitHub入門2  Emma         2200 \n",
            "\n",
            "[SELECT * FROM book WHERE title LIKE '%100$%わかる本' ESCAPE '$']\n",
            "title                                 author      price\n",
            "------------------------------------  --------  -------\n",
            "コンピューターの仕組みが100%わかる本  Takeda       1400 \n",
            "\n",
            "[SELECT * FROM book WHERE price IS NULL]\n",
            "title     author    price\n",
            "--------  --------  -------\n",
            "HTML入門  Hiro \n",
            "\n",
            "[SELECT * FROM book WHERE price IS NOT NULL]\n",
            "title                                 author      price\n",
            "------------------------------------  --------  -------\n",
            "SQL入門                               Masumi       2500\n",
            "Flutter入門                           Masumi       2500\n",
            "GitHub入門2                           Emma         2200\n",
            "Flutter上級                           Oliva        4500\n",
            "コンピューターの仕組みが100%わかる本  Takeda       1400 \n",
            "\n"
          ]
        }
      ]
    },
    {
      "cell_type": "markdown",
      "source": [
        "既存のテーブルのカラム定義のみを複製するテクニックとして、`CREATE TABLE` コマンドの`AS` 句の `SELECT` 文で、`WHERE` 句に必ず 0 (False) を返す条件文を指定する。\n",
        "\n",
        "例えば、次のコードでは、`WHERE 1 = 2` と絶対に成立しない条件を設定するので、既存のテーブルからレコードは全くコピーされず、カラム定義のみが複製される。"
      ],
      "metadata": {
        "id": "z_FNvxULsO8j"
      }
    },
    {
      "cell_type": "code",
      "source": [
        "import sqlite3\n",
        "from tabulate import tabulate\n",
        "\n",
        "con = sqlite3.connect(\":memory:\")\n",
        "sql_script = \"\"\"\n",
        "CREATE TABLE IF NOT EXISTS person(name TEXT, age INTEGER);\n",
        "INSERT INTO person VALUES\n",
        "  ('山田太郎', 25),\n",
        "  ('田中花子', 18),\n",
        "  ('鈴木薫子', 30);\n",
        "\n",
        "CREATE TABLE IF NOT EXISTS friend AS SELECT * FROM person WHERE 1 = 2;\n",
        "\"\"\"\n",
        "cur = con.executescript(sql_script).execute(\n",
        "    \"SELECT *, rowid FROM friend\"\n",
        "    )\n",
        "print(tabulate(cur.fetchall(), [col for col, *_ in cur.description]))\n",
        "con.close()"
      ],
      "metadata": {
        "colab": {
          "base_uri": "https://localhost:8080/"
        },
        "id": "M_uXQgadsS5t",
        "outputId": "96ab9981-e4da-4a8d-9614-6ae33481a75f"
      },
      "execution_count": 11,
      "outputs": [
        {
          "output_type": "stream",
          "name": "stdout",
          "text": [
            "name    age    rowid\n",
            "------  -----  -------\n"
          ]
        }
      ]
    },
    {
      "cell_type": "markdown",
      "source": [
        "### SQL インジェクション"
      ],
      "metadata": {
        "id": "IICpwnwdwcpu"
      }
    },
    {
      "cell_type": "markdown",
      "source": [
        "レコード検索の条件を、直接 SQL 文の WHERE 句に記述すると、条件を変えて柔軟にレコード検索を行うことができない。\n",
        "\n",
        "WHERE 句の条件式の一部を Python の変数にして SQL 文を組み立てることにすれば、条件式が異なる、動的な SQL 文の生成が可能となる。\n",
        "\n",
        "次のコードは、Python の f-string を使用する例である。"
      ],
      "metadata": {
        "id": "rB5RPdZ3WH69"
      }
    },
    {
      "cell_type": "code",
      "source": [
        "import sqlite3\n",
        "from tabulate import tabulate\n",
        "\n",
        "con = sqlite3.connect(\":memory:\")\n",
        "sql_script = \"\"\"\n",
        "CREATE TABLE IF NOT EXISTS customer(name TEXT, age INTEGER, address TEXT);\n",
        "INSERT INTO customer VALUES\n",
        "  ('Yamada', 19, 'Tokyo'),\n",
        "  ('Andou', 34, 'Osaka'),\n",
        "  ('Kuwata', 26, 'Tokyo');\n",
        "\"\"\"\n",
        "con.executescript(sql_script)\n",
        "\n",
        "def search_by_name(name):\n",
        "    print(\">> INPUT:\", name)\n",
        "    cur = con.execute(f\"SELECT * FROM customer WHERE name = '{name}'\")\n",
        "    print(tabulate(cur.fetchall(), [col for col, *_ in cur.description]))\n",
        "\n",
        "search_by_name(\"Yamada\")\n",
        "search_by_name(\"t' OR 't' = 't\")\n",
        "con.close()"
      ],
      "metadata": {
        "colab": {
          "base_uri": "https://localhost:8080/"
        },
        "id": "9yCtgwpT9V6T",
        "outputId": "be0e029d-9521-40db-8cf4-eb951461dd31"
      },
      "execution_count": 12,
      "outputs": [
        {
          "output_type": "stream",
          "name": "stdout",
          "text": [
            ">> INPUT: Yamada\n",
            "name      age  address\n",
            "------  -----  ---------\n",
            "Yamada     19  Tokyo\n",
            ">> INPUT: t' OR 't' = 't\n",
            "name      age  address\n",
            "------  -----  ---------\n",
            "Yamada     19  Tokyo\n",
            "Andou      34  Osaka\n",
            "Kuwata     26  Tokyo\n"
          ]
        }
      ]
    },
    {
      "cell_type": "markdown",
      "source": [
        "このコードの `search_by_name()` 関数は、入力された引数と `name` カラムの値が完全に一致するレコードだけを取得することを意図したものである。しかし、2 回目の呼び出しのように、実際には全てのレコードを取得することが可能である。f-string は単に文字列をつなげるだけなので、入力 `t' OR 't' = 't` は生成される SQL 文では `name = 't' OR 't' = 't'` と展開され、この条件式は常に 1（TRUE）を返すので、全てのレコードの取得ができてしまうのである。\n",
        "\n",
        "このように簡単に全てのレコードを取得できるコードは、データの不正取得に悪用される原因となりうる。\n",
        "\n",
        "アプリケーションが想定しない SQL 文を生成・実行させてデータベースシステムを不正に操作することを **SQL インジェクション**（SQL injection）と呼ぶ。SQL 文の組み立てに Python の文字列操作を使用する方法は、SQL インジェクション攻撃に対して脆弱である。\n",
        "\n",
        "DB-API 2.0 のパラメーター割り当ては、単に文字列をつなげるのではなく、SQL の構文解析をした上で SQL 文に埋め込まれたプレースホルダーをパラメーターに結び付ける。このため、パラメーターに渡された変数に含まれる引用符はエスケープされる。変数が文字列 `t' OR 't' = 't` なら、生成される SQL 文では `t'' OR ''t'' = ''t` と展開される。\n",
        "\n",
        "次のコードは、`search_by_name()` 関数を、DB-API 2.0 のパラメーター割り当てを使用するように改良した例である。"
      ],
      "metadata": {
        "id": "oc3oWrvEt0pO"
      }
    },
    {
      "cell_type": "code",
      "source": [
        "import sqlite3\n",
        "from tabulate import tabulate\n",
        "\n",
        "con = sqlite3.connect(\":memory:\")\n",
        "sql_script = \"\"\"\n",
        "CREATE TABLE IF NOT EXISTS customer(name TEXT, age INTEGER, address TEXT);\n",
        "INSERT INTO customer VALUES\n",
        "  ('Yamada', 19, 'Tokyo'),\n",
        "  ('Andou', 34, 'Osaka'),\n",
        "  ('Kuwata', 26, 'Tokyo');\n",
        "\"\"\"\n",
        "con.executescript(sql_script)\n",
        "\n",
        "def search_by_name(*params):\n",
        "    print(\">> INPUT:\", params)\n",
        "    cur = con.execute(\"SELECT * FROM customer WHERE name = ?\", params)\n",
        "    print(tabulate(cur.fetchall(), [col for col, *_ in cur.description]))\n",
        "\n",
        "search_by_name(\"Yamada\")\n",
        "search_by_name(\"t' OR 't' = 't\")\n",
        "con.close()"
      ],
      "metadata": {
        "colab": {
          "base_uri": "https://localhost:8080/"
        },
        "id": "pux2gZv5WItx",
        "outputId": "53543cac-4d93-400e-ccd3-0d65975d8fe2"
      },
      "execution_count": 13,
      "outputs": [
        {
          "output_type": "stream",
          "name": "stdout",
          "text": [
            ">> INPUT: ('Yamada',)\n",
            "name      age  address\n",
            "------  -----  ---------\n",
            "Yamada     19  Tokyo\n",
            ">> INPUT: (\"t' OR 't' = 't\",)\n",
            "name    age    address\n",
            "------  -----  ---------\n"
          ]
        }
      ]
    },
    {
      "cell_type": "markdown",
      "source": [
        "### GROUP BY 句"
      ],
      "metadata": {
        "id": "VCUqXt5r_7hx"
      }
    },
    {
      "cell_type": "markdown",
      "source": [
        "``` sql\n",
        "SELECT カラム名, ... FROM テーブル名 GROUP BY カラム名1, カラム名2, ...;\n",
        "```\n",
        "\n",
        "`SELECT` 文で `GROUP BY カラム名` を指定すると、指定したカラムの値が同じであるレコードをグループ化し、グループごとに値を取得する。`SELECT` 直後のカラム名の指定に代えて集約関数を使用した場合、集約関数はグループ内のレコードのデータに対して計算した結果を返すようになる。カンマ区切りで複数のカラムを指定した場合は、値の組み合わせが同じものでグループ化される。"
      ],
      "metadata": {
        "id": "Avz4evbv_9rf"
      }
    },
    {
      "cell_type": "code",
      "source": [
        "import sqlite3\n",
        "from tabulate import tabulate\n",
        "\n",
        "con = sqlite3.connect(\":memory:\")\n",
        "sql_script = \"\"\"\n",
        "CREATE TABLE IF NOT EXISTS person(name TEXT, age INTEGER, address TEXT);\n",
        "INSERT INTO person VALUES\n",
        "  ('Yamada', 19, 'Tokyo'),\n",
        "  ('Andou', 34, 'Osaka'),\n",
        "  ('Kuwata', 26, 'Tokyo'),\n",
        "  ('Wada', 18, 'Tokyo'),\n",
        "  ('Suzuki', 27, 'Osaka'),\n",
        "  ('Yamada', 31, 'Tokyo'),\n",
        "  ('Anzai', 28, 'Nagoya'),\n",
        "  ('Etou', 19, 'Tokyo');\n",
        "\"\"\"\n",
        "cur = con.executescript(sql_script)\n",
        "res = cur.execute(\n",
        "    \"SELECT address, COUNT(*) AS count, AVG(age) AS 'average age' FROM person GROUP BY address\"\n",
        "    )\n",
        "print(tabulate(res.fetchall(), [col for col, *_ in res.description]), \"\\n\")\n",
        "res = cur.execute(\n",
        "    \"SELECT age, address, COUNT(*) AS count FROM person GROUP BY age, address\"\n",
        "    )\n",
        "print(tabulate(res.fetchall(), [col for col, *_ in res.description]))\n",
        "con.close()"
      ],
      "metadata": {
        "colab": {
          "base_uri": "https://localhost:8080/"
        },
        "id": "doSjGjY4CBId",
        "outputId": "f7652d32-4ce3-4bfb-908b-03a06b28d893"
      },
      "execution_count": 14,
      "outputs": [
        {
          "output_type": "stream",
          "name": "stdout",
          "text": [
            "address      count    average age\n",
            "---------  -------  -------------\n",
            "Nagoya           1           28\n",
            "Osaka            2           30.5\n",
            "Tokyo            5           22.6 \n",
            "\n",
            "  age  address      count\n",
            "-----  ---------  -------\n",
            "   18  Tokyo            1\n",
            "   19  Tokyo            2\n",
            "   26  Tokyo            1\n",
            "   27  Osaka            1\n",
            "   28  Nagoya           1\n",
            "   31  Tokyo            1\n",
            "   34  Osaka            1\n"
          ]
        }
      ]
    },
    {
      "cell_type": "markdown",
      "source": [
        "`WHERE` 句を指定する場合、`GROUP BY` 句はその後ろに記述する。\n",
        "\n",
        "``` sql\n",
        "SELECT カラム名, ... FROM テーブル名 WHERE 条件式 GROUP BY カラム名, ...;\n",
        "```\n",
        "\n",
        "この場合は、まず `WHERE` 句で取得するデータを絞り込んだ上でグループ化が行われる。\n",
        "\n",
        "これに対して、グループ化を行った上で、取得するグループを絞り込むために使用されるのが `HAVING` 句である。書式は次の通り:\n",
        "\n",
        "``` sql\n",
        "SELECT カラム名, ... FROM テーブル名 GROUP BY カラム名, ... HAVING 条件式;\n",
        "```\n",
        "\n",
        "`HAVING` 句の条件式は、グループ化が行われた結果に対して適用されることに注意する。"
      ],
      "metadata": {
        "id": "JQIww9-pSmcl"
      }
    },
    {
      "cell_type": "code",
      "source": [
        "import sqlite3\n",
        "from tabulate import tabulate\n",
        "\n",
        "con = sqlite3.connect(\":memory:\")\n",
        "sql_script = \"\"\"\n",
        "CREATE TABLE IF NOT EXISTS person(name TEXT, age INTEGER, address TEXT);\n",
        "INSERT INTO person VALUES\n",
        "  ('Yamada', 19, 'Tokyo'),\n",
        "  ('Andou', 34, 'Osaka'),\n",
        "  ('Kuwata', 26, 'Tokyo'),\n",
        "  ('Wada', 18, 'Tokyo'),\n",
        "  ('Suzuki', 27, 'Osaka'),\n",
        "  ('Yamada', 31, 'Tokyo'),\n",
        "  ('Anzai', 28, 'Nagoya'),\n",
        "  ('Etou', 19, 'Tokyo');\n",
        "\"\"\"\n",
        "cur = con.executescript(sql_script).execute(\n",
        "    \"SELECT address, COUNT(*) AS count FROM person GROUP BY address HAVING count > 1\"\n",
        "    )\n",
        "print(tabulate(cur.fetchall(), [col for col, *_ in cur.description]))\n",
        "con.close()"
      ],
      "metadata": {
        "colab": {
          "base_uri": "https://localhost:8080/"
        },
        "id": "ZYKRUuKvVm_v",
        "outputId": "036bfc0d-be4f-47bf-af2a-b5d782099cfe"
      },
      "execution_count": 15,
      "outputs": [
        {
          "output_type": "stream",
          "name": "stdout",
          "text": [
            "address      count\n",
            "---------  -------\n",
            "Osaka            2\n",
            "Tokyo            5\n"
          ]
        }
      ]
    },
    {
      "cell_type": "markdown",
      "source": [
        "このコードでは、`HAVING` 句の条件式で、別名を使わず、`HAVING COUNT(*) > 1` としても同じ結果になる。"
      ],
      "metadata": {
        "id": "MaV2kRzuaK5X"
      }
    },
    {
      "cell_type": "markdown",
      "source": [
        "### ORDER BY 句"
      ],
      "metadata": {
        "id": "vrqqx1ID9Tn6"
      }
    },
    {
      "cell_type": "markdown",
      "source": [
        "``` sql\n",
        "SELECT カラム名 , ... FROM テーブル名 ORDER BY カラム名 [ASC | DESC];\n",
        "```\n",
        "\n",
        "`SELECT` 文で `ORDER BY カラム名` を指定すると、そのカラムをキーにレコードをソートしてから、その順でデータを取得する。後ろに `ASC` を指定した場合は昇順で、`DESC` を指定した場合は降順でソートする。省略した場合は昇順でソートする。\n",
        "\n",
        "`WHERE` 句や `GROUP BY / HAVING` 句を指定する場合、`ORDER BY` 句はその後ろに記述する。\n",
        "\n",
        "``` sql\n",
        "SELECT カラム名 , ... FROM テーブル名 ORDER BY カラム名1 [ASC | DESC], カラム名2 [ASC | DESC], ...;\n",
        "```\n",
        "\n",
        "ソートのキーとするカラムをカンマ区切りで複数指定すると、まず最初のカラムでソートを行い、次に最初のカラムで同じ値だったものだけを対象に 2 番目のカラムでソートを行う。3 つ以上指定した場合も同様となる。"
      ],
      "metadata": {
        "id": "WlIBunbz9U7-"
      }
    },
    {
      "cell_type": "code",
      "source": [
        "import sqlite3\n",
        "from tabulate import tabulate\n",
        "\n",
        "con = sqlite3.connect(\":memory:\")\n",
        "sql_script = \"\"\"\n",
        "CREATE TABLE IF NOT EXISTS person(name TEXT, age INTEGER, address TEXT);\n",
        "INSERT INTO person VALUES\n",
        "  ('Yamada', 19, 'Tokyo'),\n",
        "  ('Andou', 34, 'Osaka'),\n",
        "  ('Kuwata', 26, 'Tokyo'),\n",
        "  ('Wada', 18, 'Tokyo'),\n",
        "  ('Suzuki', 27, 'Osaka'),\n",
        "  ('Yamada', 31, 'Tokyo'),\n",
        "  ('Anzai', 28, 'Nagoya'),\n",
        "  ('Etou', 19, 'Tokyo');\n",
        "\n",
        "CREATE TABLE IF NOT EXISTS tokyo_person(name TEXT, age INTEGER, address TEXT);\n",
        "INSERT INTO tokyo_person\n",
        "    SELECT * FROM person\n",
        "        WHERE address = 'Tokyo'\n",
        "        ORDER by name ASC, age DESC;\n",
        "\"\"\"\n",
        "cur = con.executescript(sql_script)\n",
        "res = cur.execute(\"SELECT * FROM person\")\n",
        "print(tabulate(res.fetchall(), [col for col, *_ in res.description]), \"\\n\")\n",
        "cur = cur.execute(\"SELECT * FROM tokyo_person\")\n",
        "print(tabulate(res.fetchall(), [col for col, *_ in res.description]))\n",
        "con.close()"
      ],
      "metadata": {
        "colab": {
          "base_uri": "https://localhost:8080/"
        },
        "id": "j99brCPasx7d",
        "outputId": "406f7000-6654-4e77-db1e-805305104770"
      },
      "execution_count": 16,
      "outputs": [
        {
          "output_type": "stream",
          "name": "stdout",
          "text": [
            "name      age  address\n",
            "------  -----  ---------\n",
            "Yamada     19  Tokyo\n",
            "Andou      34  Osaka\n",
            "Kuwata     26  Tokyo\n",
            "Wada       18  Tokyo\n",
            "Suzuki     27  Osaka\n",
            "Yamada     31  Tokyo\n",
            "Anzai      28  Nagoya\n",
            "Etou       19  Tokyo \n",
            "\n",
            "name      age  address\n",
            "------  -----  ---------\n",
            "Etou       19  Tokyo\n",
            "Kuwata     26  Tokyo\n",
            "Wada       18  Tokyo\n",
            "Yamada     31  Tokyo\n",
            "Yamada     19  Tokyo\n"
          ]
        }
      ]
    },
    {
      "cell_type": "markdown",
      "source": [
        "### LIMIT 句"
      ],
      "metadata": {
        "id": "0xk0cWo1eYM3"
      }
    },
    {
      "cell_type": "markdown",
      "source": [
        "SQLite を含む一部の RDBMS 製品では、取得するデータの数の上限を指定することができる。\n",
        "\n",
        "``` sql\n",
        "SELECT カラム名, ... FROM テーブル名 LIMIT 行数 [ OFFSET 行数 ];\n",
        "```\n",
        "\n",
        "`SELECT` 文で `LIMIT 行数` を指定すると、テーブルの先頭行から指定した数のデータを取得する。`OFFSET 行数` も指定すると、先頭行からその指定した行数のレコードをスキップして、指定した数のデータを取得する。\n",
        "\n",
        "`LIMIT` 句は `ORDER BY` 句を記述できる位置の後ろに記述する。`LIMIT` 句を使う場面はカラム値の大きい順に上位〇件のデータを取得するというようなものがほとんどなので、`LIMIT` 句は 通常 `ORDER BY` 句と組み合わせて使われる。"
      ],
      "metadata": {
        "id": "4NdtkUr6YyvD"
      }
    },
    {
      "cell_type": "code",
      "source": [
        "import sqlite3\n",
        "from tabulate import tabulate\n",
        "\n",
        "con = sqlite3.connect(\":memory:\")\n",
        "sql_script = \"\"\"\n",
        "CREATE TABLE IF NOT EXISTS person(\n",
        "    id INTEGER PRIMARY KEY,\n",
        "    name TEXT,\n",
        "    rank INTEGER);\n",
        "INSERT INTO person\n",
        "    (name, rank)\n",
        "  VALUES\n",
        "    ('Yamada', 6),\n",
        "    ('Andou', 3),\n",
        "    ('Kuwata', 7),\n",
        "    ('Wada', 2),\n",
        "    ('Suzuki', 4),\n",
        "    ('Anzai', 1),\n",
        "    ('Etou', 5);\n",
        "\"\"\"\n",
        "cur = con.executescript(sql_script)\n",
        "lim = 2\n",
        "\n",
        "res = cur.execute(\n",
        "    \"SELECT name, rank FROM person ORDER BY rank LIMIT 2\"\n",
        "    )\n",
        "print(tabulate(res.fetchall(), [col for col, *_ in res.description]), \"\\n\")\n",
        "res = cur.execute(\n",
        "    \"SELECT name, rank FROM person ORDER BY rank LIMIT 2 OFFSET 3\"\n",
        "    )\n",
        "print(tabulate(res.fetchall(), [col for col, *_ in res.description]))\n",
        "con.close()"
      ],
      "metadata": {
        "colab": {
          "base_uri": "https://localhost:8080/"
        },
        "id": "Gz6qnFhkYzoU",
        "outputId": "75f59a1e-30fa-4019-9f79-8a1c90b63e80"
      },
      "execution_count": 17,
      "outputs": [
        {
          "output_type": "stream",
          "name": "stdout",
          "text": [
            "name      rank\n",
            "------  ------\n",
            "Anzai        1\n",
            "Wada         2 \n",
            "\n",
            "name      rank\n",
            "------  ------\n",
            "Suzuki       4\n",
            "Etou         5\n"
          ]
        }
      ]
    },
    {
      "cell_type": "markdown",
      "source": [
        "`LIMIT` は、標準 SQL の機能ではないため、全ての RDBMS 製品で利用できるわけではないことに注意する。"
      ],
      "metadata": {
        "id": "Ml6Dr-ndt23F"
      }
    },
    {
      "cell_type": "markdown",
      "source": [
        "### OVER 句・WINDOW 句"
      ],
      "metadata": {
        "id": "hdwIy83YFEeh"
      }
    },
    {
      "cell_type": "markdown",
      "source": [
        "SQL:2003 以降の標準 SQL では、`SELECT` 文で集約関数の代わりに**ウィンドウ関数**（window function）が使える。ウィンドウ関数は、現在のレコードに何らかの関連があるレコードの集合に対して計算を行う関数である。**分析関数**や **OLAP 機能**とも呼ばれる。ウィンドウ関数が処理対象にする集合を**ウィンドウフレーム**（window frame）と呼ぶ。ウィンドウフレームは `OVER (...)` の形で記述する。\n",
        "\n",
        "``` sql\n",
        "ウィンドウ関数 OVER ( [ PARTITION BY カラム名, ... ] [ ORDER BY カラム名 [ASC | DESC], ... ] [フレームスペック] )\n",
        "```\n",
        "\n",
        "`OVER` 句が長いと SQL 文の見通しが悪くなる。また、1 つの `SELECT` 文の中で複数のウィンドウ関数を同じ内容の `OVER` 句を伴って使うということがあり、同じ内容の `OVER` 句を記述するのは面倒である。\n",
        "\n",
        "そこで、ウィンドウフレームの記述（の一部）をウィンドウと呼んで名前を付け、`OVER` 句ではウィンドウ名を記述することで、そこにウィンドウがコピーされるようになっている。ウィンドウ名は `WINDOW` 句で定義する。 `WINDOW` 句は、`WHERE` 句や `GROUP BY / HAVING` 句の後ろ、`ORDER BY` 句の前に記述する。\n",
        "\n",
        "``` sql\n",
        "ウィンドウ関数1 OVER ウィンドウ名1, ウィンドウ関数2 OVER ウィンドウ名2, ...\n",
        "FROM テーブル名\n",
        "[ WHERE ... ]\n",
        "[ GROUP BY ... ]\n",
        "WINDOW ウィンドウ名1 AS ( [ PARTITION BY カラム名, ... ] [ ORDER BY カラム名 [ASC | DESC], ... ] [フレームスペック] ),\n",
        "       ウィンドウ名2 AS ( [ PARTITION BY カラム名, ... ] [ ORDER BY カラム名 [ASC | DESC], ... ] [フレームスペック] ),\n",
        "       ...\n",
        "[ ORDER BY ... ]\n",
        "[ LIMIT ... ]\n",
        "```\n",
        "\n",
        "ウィンドウフレームは、テーブルの中に設定される**パーティション**の範囲に限定される。言い換えれば、ウィンドウフレームはパーティションの部分集合である。テーブルのレコードは、 `OVER` 句の中の `PARTITION BY` 句で指定したカラムの値（の組み合わせ）でパーティションに分割される。 `PARTITION BY` 句を省略した場合は、テーブルの全レコードが 1 つのパーティションとなる。\n",
        "\n",
        "``` text\n",
        " テーブル\n",
        "┏━━━━━━━━━━━━━┓\n",
        "┃┌───────────┐┃\n",
        "┃│パーティション1       │┃\n",
        "┃│┌─────────┐│┃\n",
        "┃││ウィンドウフレーム││┃\n",
        "┃││                  ││┃\n",
        "┃│└─────────┘│┃\n",
        "┃├───────────┤┃\n",
        "┃│  パーティション2     │┃\n",
        "┃│┌─────────┐│┃\n",
        "┃││ウィンドウフレーム││┃\n",
        "┃││                  ││┃\n",
        "┃│└─────────┘│┃\n",
        "┃└───────────┘┃\n",
        "┗━━━━━━━━━━━━━┛\n",
        "```\n",
        "\n",
        "`OVER` 句の中の `ORDER BY` 句で指定したカラムの値（の組み合わせ）で各パーティション内のレコードがソートされる。`ORDER BY` 句の結果が同じ順位であるレコードのことを**ピア**（peer）と呼ぶ。`ORDER BY` 句がない場合は、パーティション内の全レコードがピアとされる。\n",
        "\n",
        "パーティション内でフレームスペックを満たすレコードの集合がウィンドウフレームとなる。\n",
        "\n",
        "ウィンドウ関数として、ビルトインの関数と集約関数が使える。ビルトインのウィンドウ関数のうち、以下の関数はウィンドウフレームを計算せず、パーティションの範囲で処理を行う（つまり、フレームスペックの指定は無視される）。\n",
        "\n",
        "| 関数 | 機能 |\n",
        "|:---|:---|\n",
        "| `ROW_NUMBER()` | 現在のパーティション内のレコードの番号（`1` から始まる整数）を返す |\n",
        "| `RANK()` | 現在のレコードを含むピア単位のグループで最初のレコードの `ROW_NUMBER()` を返す。これは `ORDER BY` による<br />値の順位で、同順位の後は飛ばした番号になる（例: 1、2、2、4） |\n",
        "| `DENSE_RANK()` | パーティション内の現在のレコードを含むピア単位のグループの数。これは `ORDER BY` による値の順位で、同順<br />位の後は次の番号になる（例: 1、2、2、3） |\n",
        "| `PERCENT_RANK()` | `( RANK() 関数で計算した順位 - 1 )  /  ( パーティションのレコード数 - 1 )` を返す |\n",
        "| `CUME_DIST()` | 現在のレコードを含むピア単位のグループ内で最後のレコードでの `ROW_NUMBER()` 関数の値を、パーティション<br />のレコード数で割った結果を返す |\n",
        "| `NTILE(N)` | パーティションを可能な限り均等に `N` 個のグループに分割し、`ORDER BY` による値の順序で各グループに `1` か<br />ら `N` までの整数を割り当て、現在のレコードが属するグループに割り当てられた整数値を返す |\n",
        "| `LAG(カラム名[, オフセット[, デフォルト]])` | 現在のレコードを基準にしてオフセット前（オフセットの指定がなければ 1 つ前）のレコードからカラムの値を取得<br />して返す。パーティション内にオフセット前のレコードがなければ NULL を返すが、デフォルトが指定されていると<br />きはそれを返す |\n",
        "| `LEAD(カラム名[, オフセット[, デフォルト]])` | 現在のレコードを基準にしてオフセット後（オフセットの指定がなければ 1 つ後）のレコードからカラムの値を取得<br />して返す。パーティション内にオフセット後のレコードがなければ NULL を返すが、デフォルトが指定されていると<br />きはそれを返す |\n",
        "\n",
        "`ORDER BY` 句の指定を省略した場合、全てのレコードがピアとみなされるため、`RANK()` 関数と `DENSE_RANK()` 関数では `1` が返され、 `PERCENT_RANK()` 関数では `0.0` が返され、`CUME_DIST()` 関数では `1.0` が返される。これら以外の関数では、レコードが取得された順序（`OVER` 句の外で `ORDER BY` 句を使用していればソートされた順序）に基づいて計算が行われる。"
      ],
      "metadata": {
        "id": "fItdAnNLFKLR"
      }
    },
    {
      "cell_type": "code",
      "source": [
        "import sqlite3\n",
        "from tabulate import tabulate\n",
        "\n",
        "con = sqlite3.connect(\":memory:\")\n",
        "sql_script = \"\"\"\n",
        "CREATE TABLE IF NOT EXISTS t1(col1 VARCHAR(1), col2 VARCHAR(10));\n",
        "INSERT INTO t1 VALUES\n",
        "  ('a', 'one__'),\n",
        "  ('a', 'two__'),\n",
        "  ('a', 'three'),\n",
        "  ('b', 'four_'),\n",
        "  ('c', 'five_'),\n",
        "  ('c', 'six__');\n",
        "\"\"\"\n",
        "cur = con.executescript(sql_script)\n",
        "\n",
        "res = cur.execute(\"\"\"\n",
        "SELECT col1                AS col1,\n",
        "  ROW_NUMBER() OVER win    AS row_number,\n",
        "  RANK() OVER win          AS rank,\n",
        "  DENSE_RANK() OVER win    AS dense_rank,\n",
        "  PERCENT_RANK() OVER win  AS percent_rank,\n",
        "  CUME_DIST() OVER win     AS cume_dist\n",
        "FROM t1\n",
        "WINDOW win AS (ORDER BY col1);\n",
        "\"\"\")\n",
        "print(tabulate(res.fetchall(), [col for col, *_ in res.description]), \"\\n\")\n",
        "\n",
        "res = cur.execute(\"\"\"\n",
        "SELECT col1, col2, NTILE(2) OVER win AS ntile_2, NTILE(4) OVER win AS ntile_4\n",
        "FROM t1\n",
        "WINDOW win AS (ORDER BY col1);\n",
        "\"\"\")\n",
        "print(tabulate(res.fetchall(), [col for col, *_ in res.description]))\n",
        "con.close()"
      ],
      "metadata": {
        "colab": {
          "base_uri": "https://localhost:8080/"
        },
        "id": "Y2h3IoFqGooo",
        "outputId": "135fb5af-23e2-4bbe-a6b6-2f273831a6fc"
      },
      "execution_count": 18,
      "outputs": [
        {
          "output_type": "stream",
          "name": "stdout",
          "text": [
            "col1      row_number    rank    dense_rank    percent_rank    cume_dist\n",
            "------  ------------  ------  ------------  --------------  -----------\n",
            "a                  1       1             1             0       0.5\n",
            "a                  2       1             1             0       0.5\n",
            "a                  3       1             1             0       0.5\n",
            "b                  4       4             2             0.6     0.666667\n",
            "c                  5       5             3             0.8     1\n",
            "c                  6       5             3             0.8     1 \n",
            "\n",
            "col1    col2      ntile_2    ntile_4\n",
            "------  ------  ---------  ---------\n",
            "a       one__           1          1\n",
            "a       two__           1          1\n",
            "a       three           1          2\n",
            "b       four_           2          2\n",
            "c       five_           2          3\n",
            "c       six__           2          4\n"
          ]
        }
      ]
    },
    {
      "cell_type": "markdown",
      "source": [
        "一方、集約関数をウィンドウ関数として使う場合は、全てウィンドウフレームが計算される。次のビルトインのウィンドウ関数でもウィンドウフレームが計算される。\n",
        "\n",
        "| 関数 | 機能 |\n",
        "|:---|:---|\n",
        "| `FIRST_VALUE(カラム名)` | 現在のレコードに関するウィンドウフレームの最初のレコードからカラムの値を取得して返す |\n",
        "| `LAST_VALUE(カラム名)` | 現在のレコードに関するウィンドウフレームの最後のレコードからカラムの値を取得して返す |\n",
        "| `NTH_VALUE(カラム名, N)` | 現在のレコードに関するウィンドウフレームで `N` 番目のレコードからカラムの値を取得して返す。`N` 番目のレコードがなければ NULL<br /> を返す |\n",
        "\n",
        "`OVER` 句においてフレームスペックは次のように記述する:\n",
        "\n",
        "``` sql\n",
        "{ ROWS | RANGE | GROUPS } BETWEEN frame_start AND frame_end [ EXCLUDE frame_exclusion ]\n",
        "```\n",
        "\n",
        "frame_start と frame_end は、以下の 5 つから選択できる。\n",
        "\n",
        "| 構文 | 意味 |\n",
        "|:---|:---|\n",
        "| `UNBOUNDED PRECEDING` | パーティションの最初から |\n",
        "| `UNBOUNDED FOLLOWING` | パーティションの最後まで |\n",
        "| `値 PRECEDING` | 現在のレコードから `値` の分だけ前。`値` の意味は次のとおり<br />・`ROWS` モードでは、`値` はレコードの数を意味する。ピアであっても別々のレコードとして数える<br />・`RANGE` モードでは、`値` は現在のレコードの値との差分を意味する。差分の先ではそれを含むピア単位のグループを処理する<br />・`GROUPS` モードでは、`値` は現在のレコードを含むピア単位のグループ数を意味する |\n",
        "| `値 FOLLOWING` | 現在のレコードから `値` の分だけ後。`値` の意味は上記と同じ |\n",
        "| `CURRENT ROW` | `ROWS` モードでは現在のレコード、`RANGE` モードと `GROUPS` モードでは現在のレコードを含むピア単位のグループ |\n",
        "\n",
        "frame_start のみを指定することもでき、その場合、`BETWEEN frame_start AND CURRENT ROW` と同じ意味になる。\n",
        "\n",
        "`EXCLUDE frame_exclusion` は、以下の 4 つから選択できる。\n",
        "\n",
        "| EXCLUDE frame_exclusion | 意味 |\n",
        "|:---|:---|\n",
        "| `EXCLUDE NO OTHERS` | 何も除外しない。`EXCLUDE frame_exclusion` を省略した時と同じ |\n",
        "| `EXCLUDE CURRENT ROW` | `CURRENT ROW` を除外する |\n",
        "| `EXCLUDE GROUP` | 現在のレコードを含むピア単位のグループを除外する |\n",
        "| `EXCLUDE TIES` | 現在のレコードは除外しないが、同じピア単位のグループに含まれる他のレコードを除外する |\n",
        "\n",
        "フレームスペックを省略した場合は、 `RANGE BETWEEN UNBOUNDED PRECEDING AND CURRENT ROW EXCLUDE NO OTHERS` と同じ意味になる。\n",
        "\n",
        "したがって、ウィンドウ関数としての `SUM()` 関数は、デフォルトではパーティション内で最初のレコードから現在のレコードまでの累積合計を返す。また、フレームスペックを指定してウィンドウ関数としての `AVG()` が移動平均を返すようにできる。"
      ],
      "metadata": {
        "id": "IICeT4q_rYCh"
      }
    },
    {
      "cell_type": "code",
      "source": [
        "import sqlite3\n",
        "from tabulate import tabulate\n",
        "\n",
        "con = sqlite3.connect(\":memory:\")\n",
        "sql_script = \"\"\"\n",
        "CREATE TABLE IF NOT EXISTS t2(\n",
        "  year VARCHAR(4) NOT NULL,\n",
        "  visitors INT NOT NULL,\n",
        "  class VARCHAR(1) NOT NULL);\n",
        "INSERT INTO t2 VALUES\n",
        "  ('2016', 2078981, 'A'),\n",
        "  ('2017', 2086410, 'A'),\n",
        "  ('2018', 1968916, 'B'),\n",
        "  ('2019', 1970516, 'A'),\n",
        "  ('2020', 276471, 'B'),\n",
        "  ('2021', 544818, 'B'),\n",
        "  ('2022', 1291495, 'B'),\n",
        "  ('2023', 1882573, 'B'),\n",
        "  ('2024', 2075734, 'A');\n",
        "\"\"\"\n",
        "cur = con.executescript(sql_script).execute(\"\"\"\n",
        "SELECT year AS '年',\n",
        "       visitors AS '年間入場者数',\n",
        "       visitors - LAG(visitors, 1, 0) OVER (ORDER BY year) AS '前年差',\n",
        "       SUM(visitors) OVER(ORDER BY year) AS '累計',\n",
        "       AVG(visitors) OVER(ORDER BY year ROWS BETWEEN 2 PRECEDING AND CURRENT ROW) AS '移動平均'\n",
        "FROM t2\n",
        "\"\"\")\n",
        "print(tabulate(cur.fetchall(), [col for col, *_ in cur.description]))\n",
        "con.close()"
      ],
      "metadata": {
        "colab": {
          "base_uri": "https://localhost:8080/"
        },
        "id": "80M3MYkGfxov",
        "outputId": "ff39eb62-7324-483d-dc00-9336820b8399"
      },
      "execution_count": 19,
      "outputs": [
        {
          "output_type": "stream",
          "name": "stdout",
          "text": [
            "  年    年間入場者数    前年差      累計          移動平均\n",
            "----  --------------  --------  --------  ----------------\n",
            "2016         2078981   2078981   2078981       2.07898e+06\n",
            "2017         2086410      7429   4165391       2.0827e+06\n",
            "2018         1968916   -117494   6134307       2.04477e+06\n",
            "2019         1970516      1600   8104823       2.00861e+06\n",
            "2020          276471  -1694045   8381294       1.4053e+06\n",
            "2021          544818    268347   8926112  930602\n",
            "2022         1291495    746677  10217607  704261\n",
            "2023         1882573    591078  12100180       1.23963e+06\n",
            "2024         2075734    193161  14175914       1.74993e+06\n"
          ]
        }
      ]
    },
    {
      "cell_type": "markdown",
      "source": [
        "### DISTINCT 句"
      ],
      "metadata": {
        "id": "yRowj_QRBzpx"
      }
    },
    {
      "cell_type": "markdown",
      "source": [
        "``` sql\n",
        "SELECT DISTINCT カラム名, ... FROM テーブル名;\n",
        "```\n",
        "\n",
        "`SELECT` 文で `DISTINCT` を指定すると、重複しないようにカラム値を取得する。カラム名の指定が 1 つであればそのカラム値が同じレコード、カラム名の指定が複数であればその値の組み合わせが全て同じレコードを除いてデータを取得する。\n",
        "\n",
        "`DISTINCT` の指定は、`SELECT` の直後に記述する（`SELECT` と `DISTINCT` の間に置けるのは空白だけである）。"
      ],
      "metadata": {
        "id": "Z3Gty5rPB0ho"
      }
    },
    {
      "cell_type": "code",
      "source": [
        "import sqlite3\n",
        "from tabulate import tabulate\n",
        "\n",
        "con = sqlite3.connect(\":memory:\")\n",
        "sql_script = \"\"\"\n",
        "CREATE TABLE IF NOT EXISTS person(name TEXT, age INTEGER, height REAL);\n",
        "INSERT INTO person VALUES\n",
        "  ('山田太郎', 25, 170.5),\n",
        "  ('田中花子', 18, 158.2),\n",
        "  ('鈴木薫子', 30, 170.5),\n",
        "  ('渡辺洋平', 30, 170.5);\n",
        "\"\"\"\n",
        "cur = con.executescript(sql_script)\n",
        "\n",
        "res = con.execute(\n",
        "    \"SELECT DISTINCT height FROM person\"\n",
        "    )\n",
        "print(tabulate(res.fetchall(), [col for col, *_ in res.description]), \"\\n\")\n",
        "\n",
        "res = con.execute(\n",
        "    \"SELECT DISTINCT age, height FROM person\"\n",
        "    )\n",
        "print(tabulate(res.fetchall(), [col for col, *_ in res.description]))\n",
        "con.close()"
      ],
      "metadata": {
        "colab": {
          "base_uri": "https://localhost:8080/"
        },
        "id": "Wjc_v-roO3I9",
        "outputId": "4675a255-8307-4da2-9230-a1d354ee3129"
      },
      "execution_count": 20,
      "outputs": [
        {
          "output_type": "stream",
          "name": "stdout",
          "text": [
            "  height\n",
            "--------\n",
            "   170.5\n",
            "   158.2 \n",
            "\n",
            "  age    height\n",
            "-----  --------\n",
            "   25     170.5\n",
            "   18     158.2\n",
            "   30     170.5\n"
          ]
        }
      ]
    },
    {
      "cell_type": "markdown",
      "source": [
        "### サブクエリ"
      ],
      "metadata": {
        "id": "-ugDVmzfxzIq"
      }
    },
    {
      "cell_type": "markdown",
      "source": [
        "`SELECT` 文では、クエリを入れ子にすることができる。入れ子のクエリを**サブクエリ**と呼び、サブクエリを入れ子にしたクエリをメインクエリと呼ぶ。実行順序は「サブクエリ→メインクエリ」となり、サブクエリの実行結果を 1 つのテーブルと見なしながらメインクエリが実行される。\n",
        "\n",
        "`FROM` 句で、テーブルの指定に代えてサブクエリを指定することができる。\n",
        "\n",
        "``` sql\n",
        "SELECT カラム名, ... FROM (サブクエリ) AS 名前\n",
        "```\n",
        "\n",
        "サブクエリを指定した場合、サブクエリにより取得されたレコードに対して、カラムの値を取得する。それらのレコードのカラムを参照するには、`AS` 句で指定した名前を使って `名前.カラム名` と記述する。"
      ],
      "metadata": {
        "id": "IBKbUpVaxz5i"
      }
    },
    {
      "cell_type": "code",
      "source": [
        "import sqlite3\n",
        "from tabulate import tabulate\n",
        "\n",
        "con = sqlite3.connect(\":memory:\")\n",
        "sql_script = \"\"\"\n",
        "CREATE TABLE IF NOT EXISTS person(name TEXT, age INTEGER, address TEXT);\n",
        "INSERT INTO person VALUES\n",
        "  ('Yamada', 19, 'Tokyo'),\n",
        "  ('Andou', 34, 'Osaka'),\n",
        "  ('Kuwata', 26, 'Tokyo'),\n",
        "  ('Wada', 18, 'Tokyo'),\n",
        "  ('Suzuki', 27, 'Osaka'),\n",
        "  ('Yamada', 31, 'Tokyo'),\n",
        "  ('Anzai', 28, 'Nagoya'),\n",
        "  ('Etou', 19, 'Tokyo');\n",
        "\"\"\"\n",
        "query = \"\"\"\n",
        "SELECT s1.address, s1.address_count\n",
        "    FROM (SELECT address, COUNT(address) AS address_count\n",
        "          FROM person\n",
        "          GROUP BY address) AS s1;\n",
        "\"\"\"\n",
        "cur = con.executescript(sql_script).execute(query)\n",
        "print(tabulate(cur.fetchall(), [col for col, *_ in cur.description]))\n",
        "con.close()"
      ],
      "metadata": {
        "colab": {
          "base_uri": "https://localhost:8080/"
        },
        "id": "YmYt_oafyeVh",
        "outputId": "cceb63ce-c070-4cf7-81c3-607e2f2555db"
      },
      "execution_count": 21,
      "outputs": [
        {
          "output_type": "stream",
          "name": "stdout",
          "text": [
            "address      address_count\n",
            "---------  ---------------\n",
            "Nagoya                   1\n",
            "Osaka                    2\n",
            "Tokyo                    5\n"
          ]
        }
      ]
    },
    {
      "cell_type": "markdown",
      "source": [
        "`WHERE` 句で、条件式の中にサブクエリを使うことができる。よく使われる形は、次のとおり:\n",
        "\n",
        "``` sql\n",
        "SELECT カラム名, ... FROM テーブル名 WHERE カラム名 〔=, <>, >, >=, <, <=〕 (サブクエリ)\n",
        "SELECT カラム名, ... FROM テーブル名 WHERE カラム名 IN (サブクエリ)\n",
        "SELECT カラム名, ... FROM テーブル名 WHERE カラム名 NOT IN (サブクエリ)\n",
        "```\n",
        "\n",
        "ただし、**1 行目の形では、サブクエリは  1 つのみカラムを持つレコードを返す必要がある**。唯一のカラムの値で比較が行われる。"
      ],
      "metadata": {
        "id": "YnR5pFra8uny"
      }
    },
    {
      "cell_type": "code",
      "source": [
        "import sqlite3\n",
        "from tabulate import tabulate\n",
        "\n",
        "con = sqlite3.connect(\":memory:\")\n",
        "sql_script = \"\"\"\n",
        "CREATE TABLE IF NOT EXISTS employees(\n",
        "    id INTEGER PRIMARY KEY,\n",
        "    name TEXT,\n",
        "    department_id INTEGER\n",
        "    );\n",
        "INSERT INTO employees(name, department_id) VALUES('佐藤', 1);\n",
        "INSERT INTO employees(name, department_id) VALUES('田中', 2);\n",
        "INSERT INTO employees(name, department_id) VALUES('鈴木', 3);\n",
        "\n",
        "CREATE TABLE IF NOT EXISTS department(\n",
        "    id INTEGER PRIMARY KEY,\n",
        "    name TEXT\n",
        "    );\n",
        "INSERT INTO department VALUES(1, '企画部');\n",
        "INSERT INTO department VALUES(2, '営業部');\n",
        "INSERT INTO department VALUES(3, '開発部');\n",
        "\"\"\"\n",
        "cur = con.executescript(sql_script)\n",
        "\n",
        "res = cur.execute(\"\"\"\n",
        "SELECT *\n",
        "    FROM employees\n",
        "    WHERE department_id = (SELECT id FROM department WHERE name = '開発部')\n",
        "\"\"\")\n",
        "print(tabulate(res.fetchall(), [col for col, *_ in res.description]), \"\\n\")\n",
        "\n",
        "res = cur.execute(\"\"\"\n",
        "SELECT *\n",
        "    FROM employees\n",
        "    WHERE department_id IN (SELECT id FROM department WHERE name IN ('企画部', '営業部'));\n",
        "\"\"\")\n",
        "print(tabulate(res.fetchall(), [col for col, *_ in res.description]))\n",
        "con.close()"
      ],
      "metadata": {
        "colab": {
          "base_uri": "https://localhost:8080/"
        },
        "id": "0n4Bte-c8vY6",
        "outputId": "42393547-326c-4933-d0bd-c8bbcdb97109"
      },
      "execution_count": 22,
      "outputs": [
        {
          "output_type": "stream",
          "name": "stdout",
          "text": [
            "  id  name      department_id\n",
            "----  ------  ---------------\n",
            "   3  鈴木                  3 \n",
            "\n",
            "  id  name      department_id\n",
            "----  ------  ---------------\n",
            "   1  佐藤                  1\n",
            "   2  田中                  2\n"
          ]
        }
      ]
    },
    {
      "cell_type": "markdown",
      "source": [
        "`WHERE` 句では、サブクエリを伴う条件式として `EXISTS`, `NOT EXISTS` が使える。\n",
        "\n",
        "``` sql\n",
        "SELECT カラム名, ... FROM テーブル名 WHERE EXISTS(サブクエリ)\n",
        "SELECT カラム名, ... FROM テーブル名 WHERE NOT EXISTS(サブクエリ)\n",
        "```\n",
        "\n",
        "  * `EXISTS(サブクエリ)` は、サブクエリが 1 つでもレコードを返したら 1 (True)、返さなければ 0 (False) を返す。\n",
        "  * `NOT EXISTS(サブクエリ)` は、サブクエリが 1 つでもレコードを返したら 0 (False)、返さなければ 1 (True) を返す。\n",
        "\n",
        "サブクエリの中では、どのテーブルのカラムを参照するのかを明確にするために `テーブル名.カラム名` の形を使うことができる。テーブルに `AS` で別名を付け、`別名.カラム名` としてもよい。"
      ],
      "metadata": {
        "id": "iaAMWXxkZ3ZM"
      }
    },
    {
      "cell_type": "code",
      "source": [
        "import sqlite3\n",
        "from tabulate import tabulate\n",
        "\n",
        "con = sqlite3.connect(\":memory:\")\n",
        "sql_script = \"\"\"\n",
        "CREATE TABLE IF NOT EXISTS employees(\n",
        "    id INTEGER PRIMARY KEY,\n",
        "    name TEXT,\n",
        "    department_id INTEGER\n",
        "    );\n",
        "INSERT INTO employees(name, department_id) VALUES('佐藤', 1);\n",
        "INSERT INTO employees(name, department_id) VALUES('田中', 2);\n",
        "INSERT INTO employees(name, department_id) VALUES('鈴木', 3);\n",
        "INSERT INTO employees(name, department_id) VALUES('渡辺', 4);\n",
        "\n",
        "CREATE TABLE department(\n",
        "    id INTEGER PRIMARY KEY,\n",
        "    name TEXT\n",
        "    );\n",
        "INSERT INTO department VALUES(1, '企画部');\n",
        "INSERT INTO department VALUES(2, '営業部');\n",
        "INSERT INTO department VALUES(3, '開発部');\n",
        "\"\"\"\n",
        "cur = con.executescript(sql_script).execute(\"\"\"\n",
        "SELECT *\n",
        "    FROM employees AS emp\n",
        "    WHERE NOT EXISTS(SELECT * FROM department AS dep WHERE emp.department_id = dep.id);\n",
        "\"\"\")\n",
        "print(tabulate(cur.fetchall(), [col for col, *_ in cur.description]))\n",
        "con.close()"
      ],
      "metadata": {
        "colab": {
          "base_uri": "https://localhost:8080/"
        },
        "id": "90t10f2GaJEi",
        "outputId": "06468d2d-051f-45b5-f268-bd6fc78a920a"
      },
      "execution_count": 23,
      "outputs": [
        {
          "output_type": "stream",
          "name": "stdout",
          "text": [
            "  id  name      department_id\n",
            "----  ------  ---------------\n",
            "   4  渡辺                  4\n"
          ]
        }
      ]
    },
    {
      "cell_type": "markdown",
      "source": [
        "### UPDATE 文"
      ],
      "metadata": {
        "id": "6MSsXvFLX0Yq"
      }
    },
    {
      "cell_type": "markdown",
      "source": [
        "``` sql\n",
        "UPDATE テーブル名 SET カラム名1 = 値1, カラム名2 = 値2, ... [ WHERE 条件式 ];\n",
        "```\n",
        "\n",
        "指定したテーブルに含まれる全てのレコードに対して、各カラムの値をそれぞれ更新する。オプションの `WHERE 条件式` を指定した場合、`条件式` の評価が 1（TRUE）となるレコードのみ更新する。"
      ],
      "metadata": {
        "id": "jbdHIDIfX08R"
      }
    },
    {
      "cell_type": "markdown",
      "source": [
        "### DELETE 文"
      ],
      "metadata": {
        "id": "4LUlP7DWg1K6"
      }
    },
    {
      "cell_type": "markdown",
      "source": [
        "``` sql\n",
        "DELETE FROM テーブル名 [ WHERE 条件式 ];\n",
        "```\n",
        "\n",
        "指定したテーブルに含まれる全てのレコードを削除する。オプションの `WHERE 条件式` を指定した場合、`条件式` の評価が 1（TRUE）となるレコードのみ削除する。"
      ],
      "metadata": {
        "id": "FklfZmtdg2OP"
      }
    },
    {
      "cell_type": "code",
      "source": [
        "import sqlite3\n",
        "from tabulate import tabulate\n",
        "\n",
        "con = sqlite3.connect(\":memory:\")\n",
        "sql_script = \"\"\"\n",
        "CREATE TABLE IF NOT EXISTS product(id INTEGER, name TEXT, price INTEGER);\n",
        "\n",
        "CREATE TABLE IF NOT EXISTS log(id INTEGER PRIMARY KEY, act TEXT);\n",
        "\n",
        "/* product テーブルにデータが追加/削除/更新された時にそれぞれトリガーが起動し、\n",
        "   log テーブルの act カラムにログを記録する */\n",
        "\n",
        "CREATE TRIGGER IF NOT EXISTS itrigger INSERT ON product\n",
        "BEGIN\n",
        " INSERT INTO log(act) VALUES('INSERT Action');\n",
        "END;\n",
        "\n",
        "CREATE TRIGGER IF NOT EXISTS utrigger UPDATE ON product\n",
        "BEGIN\n",
        " INSERT INTO log(act) VALUES('UPDATE Action');\n",
        "END;\n",
        "\n",
        "CREATE TRIGGER IF NOT EXISTS dtrigger DELETE ON product\n",
        "BEGIN\n",
        " INSERT INTO log(act) VALUES('DELETE Action');\n",
        "END;\n",
        "\n",
        "INSERT INTO product values(1, 'Book', 1500);\n",
        "UPDATE product SET price = 2500 WHERE id = 1;\n",
        "DELETE FROM product WHERE id = 1;\n",
        "\"\"\"\n",
        "cur = con.executescript(sql_script).execute(\"SELECT * FROM log\")\n",
        "print(tabulate(cur.fetchall(), [col for col, *_ in cur.description]))\n",
        "con.close()"
      ],
      "metadata": {
        "colab": {
          "base_uri": "https://localhost:8080/"
        },
        "id": "YgjZhjOdYO3u",
        "outputId": "4988df5a-2515-48c0-d83b-039769b3a014"
      },
      "execution_count": 24,
      "outputs": [
        {
          "output_type": "stream",
          "name": "stdout",
          "text": [
            "  id  act\n",
            "----  -------------\n",
            "   1  INSERT Action\n",
            "   2  UPDATE Action\n",
            "   3  DELETE Action\n"
          ]
        }
      ]
    },
    {
      "cell_type": "markdown",
      "source": [
        "### RETURNING 句"
      ],
      "metadata": {
        "id": "Y01-I8l2TzM_"
      }
    },
    {
      "cell_type": "markdown",
      "source": [
        "PostgreSQL と SQLite は、`INSERT` 文、`UPDATE` 文、`DELETE` 文の最後に追加できるオプションとして `RETURNING` 句をサポートする（SQLite はバージョン 3.35.0 以降でサポート）。`RETURNING` 句は標準 SQL の機能ではないことに注意する。\n",
        "\n",
        "末尾に `RETURNING カラム名` を付けた `INSERT` 文、`UPDATE` 文、`DELETE` 文は、その操作によって影響を受けたレコードのカラムの値を返す。複数のカラム名をカンマ区切りのリストで指定することもできる。`RETURNING *` を付けた場合は、非表示でないすべてのカラムの値を返す。`RETURNING カラム名 AS 別名, ...` のようにカラムに別名をつけることもできる。"
      ],
      "metadata": {
        "id": "K1h-OjC9T0O-"
      }
    },
    {
      "cell_type": "code",
      "source": [
        "import sqlite3\n",
        "\n",
        "con = sqlite3.connect(\":memory:\")\n",
        "sql_script = \"\"\"\n",
        "CREATE TABLE IF NOT EXISTS customer(name TEXT, age INTEGER, address TEXT);\n",
        "INSERT INTO customer VALUES ('Andou', 34, 'Osaka');\n",
        "\"\"\"\n",
        "con.executescript(sql_script)\n",
        "\n",
        "def update_data(*params):\n",
        "    res = con.execute(\"UPDATE customer SET address = 'Nagoya' WHERE name = ? RETURNING name, age\", params)\n",
        "    for row in res:\n",
        "        print(row)\n",
        "\n",
        "update_data('Andou')\n",
        "con.close()"
      ],
      "metadata": {
        "colab": {
          "base_uri": "https://localhost:8080/"
        },
        "id": "KwMVO6YYT3cN",
        "outputId": "a590e7da-084a-4ea4-dbeb-6a43223cb6c7"
      },
      "execution_count": 25,
      "outputs": [
        {
          "output_type": "stream",
          "name": "stdout",
          "text": [
            "('Andou', 34)\n"
          ]
        }
      ]
    },
    {
      "cell_type": "markdown",
      "source": [
        "複数テーブルの処理\n",
        "------------------"
      ],
      "metadata": {
        "id": "AMlXJpOzv3Tu"
      }
    },
    {
      "cell_type": "markdown",
      "source": [
        "### 複合クエリ"
      ],
      "metadata": {
        "id": "2B30TdF2ssqn"
      }
    },
    {
      "cell_type": "markdown",
      "source": [
        "**複合クエリ**とは、複数の SELECT 文を組み合わせて、1 つの結果集合を作る SQL 文のことをいう。標準 SQL では、集合演算子を使用する。全ての演算子は左結合的である。\n",
        "\n",
        "| 演算子 | 意味 | 重複 |\n",
        "|:---|:---|:---|\n",
        "| `UNION` | 両辺の結果をまとめる | 重複は削除 |\n",
        "| `UNION ALL` | 両辺の結果をまとめる | 重複を削除しない |\n",
        "| `INTERSECT` | 両辺に共通するレコードだけ返す | 自動で重複削除 |\n",
        "| `EXCEPT` | 左辺にあって右辺にないレコードを返す | 自動で重複削除 |\n",
        "\n",
        "左辺と右辺は、返すレコードについて、カラム定義とその順番が一致していなければならない。"
      ],
      "metadata": {
        "id": "dBDXbeXdstnY"
      }
    },
    {
      "cell_type": "code",
      "source": [
        "import sqlite3\n",
        "from tabulate import tabulate\n",
        "\n",
        "con = sqlite3.connect(\":memory:\")\n",
        "sql_script = \"\"\"\n",
        "CREATE TABLE IF NOT EXISTS book_1(title TEXT, author TEXT, price INTEGER);\n",
        "INSERT INTO book_1 VALUES\n",
        "  ('SQL入門', 'Masumi', 2500),\n",
        "  ('Flutter入門', 'Masumi', 2500);\n",
        "\n",
        "/* book_1 のカラム定義のみを複製する */\n",
        "CREATE TABLE IF NOT EXISTS book_2 AS SELECT * FROM book_1 WHERE 1 = 2;\n",
        "\n",
        "INSERT INTO book_2 VALUES\n",
        "  ('SQL入門', 'Masumi', 2500),\n",
        "  ('GitHub入門2', 'Emma', 2200),\n",
        "  ('Flutter上級', 'Oliva', 4500);\n",
        "\"\"\"\n",
        "con.executescript(sql_script)\n",
        "\n",
        "def query(sql):\n",
        "    print(f\"[{sql}]\")\n",
        "    cur = con.execute(sql)\n",
        "    print(tabulate(cur.fetchall(), [col for col, *_ in cur.description]), \"\\n\")\n",
        "\n",
        "query(\"SELECT * FROM book_1 UNION SELECT * FROM book_2\")\n",
        "\n",
        "query(\"SELECT * FROM book_1 UNION ALL SELECT * FROM book_2\")\n",
        "\n",
        "query(\"SELECT * FROM book_1 INTERSECT SELECT * FROM book_2\")\n",
        "\n",
        "query(\"SELECT * FROM book_1 EXCEPT SELECT * FROM book_2\")\n",
        "\n",
        "con.close()"
      ],
      "metadata": {
        "colab": {
          "base_uri": "https://localhost:8080/"
        },
        "id": "Sf-GnWg1Qj4p",
        "outputId": "6027c6fe-1f52-438d-a355-fdd57aabdd52"
      },
      "execution_count": 26,
      "outputs": [
        {
          "output_type": "stream",
          "name": "stdout",
          "text": [
            "[SELECT * FROM book_1 UNION SELECT * FROM book_2]\n",
            "title        author      price\n",
            "-----------  --------  -------\n",
            "Flutter上級  Oliva        4500\n",
            "Flutter入門  Masumi       2500\n",
            "GitHub入門2  Emma         2200\n",
            "SQL入門      Masumi       2500 \n",
            "\n",
            "[SELECT * FROM book_1 UNION ALL SELECT * FROM book_2]\n",
            "title        author      price\n",
            "-----------  --------  -------\n",
            "SQL入門      Masumi       2500\n",
            "Flutter入門  Masumi       2500\n",
            "SQL入門      Masumi       2500\n",
            "GitHub入門2  Emma         2200\n",
            "Flutter上級  Oliva        4500 \n",
            "\n",
            "[SELECT * FROM book_1 INTERSECT SELECT * FROM book_2]\n",
            "title    author      price\n",
            "-------  --------  -------\n",
            "SQL入門  Masumi       2500 \n",
            "\n",
            "[SELECT * FROM book_1 EXCEPT SELECT * FROM book_2]\n",
            "title        author      price\n",
            "-----------  --------  -------\n",
            "Flutter入門  Masumi       2500 \n",
            "\n"
          ]
        }
      ]
    },
    {
      "cell_type": "markdown",
      "source": [
        "### 内部結合"
      ],
      "metadata": {
        "id": "hb_yH5CTv4CZ"
      }
    },
    {
      "cell_type": "markdown",
      "source": [
        "``` sql\n",
        "SELECT テーブル名.カラム名, ... FROM テーブル名1 [ INNER ] JOIN テーブル名2 ON テーブル名1.カラム名1 = テーブル名2.カラム名2;\n",
        "```\n",
        "\n",
        "2 つのテーブルについて、それぞれ `ON` 句の条件でカラム値が一致するレコードのみを抽出して 1 つのレコードに結合する。これを**内部結合**と呼ぶ。`ON` 句の条件では、どちらか一方のテーブルのカラムは重複する値を持たないことが必要である。 `ON` 句の条件で一致しない以上は、どちらのテーブルのレコードも抽出されないことに注意する。\n",
        "\n",
        "内部結合の場合は `ON` 句の条件が同じなら、どちらのテーブルを先に記述しても結果としては（カラムの順番を除いて）同じになる。\n",
        "\n",
        "結合済みのレコードからカラムを指定して値を取得する場合、取得するカラムはどちらのテーブルにあるどのカラムなのかが分かるように `テーブル名.カラム名` の形式で指定する。どちらかのテーブルにしか含まれていないカラム名ならば、`テーブル名.` を省略してもよい。`ON` 句の条件でのカラム指定も同様である。\n",
        "\n",
        "`テーブル名 AS 別名` でテーブルの別名を指定し、その別名を使うこともできる。`AS` を省略して `テーブル名 別名` と書いてもよい。\n",
        "\n",
        "`WHERE 条件式` を指定すれば、結合済みのレコードを条件式で絞り込むことができる。`WHERE 条件式` は、内部結合の記述の後ろに記述する。\n",
        "\n",
        "`INNER` は省略できる。さらに、次のように、`INNER JOIN` をカンマ `,` に代えてもよい:\n",
        "\n",
        "``` sql\n",
        "SELECT テーブル名.カラム名, ... FROM テーブル名1, テーブル名2 ON テーブル名1.カラム名1 = テーブル名2.カラム名2;\n",
        "```\n",
        "\n",
        "テーブルの結合が必要な事例を挙げる。次のような社員名簿のテーブル `employees` と部門のテーブル `department` があるとする。\n",
        "\n",
        "![](https://www.plantuml.com/plantuml/png/VO-zIWD14CVxUOg5j896OvEFa7Vm0MJbndDnT-_OsojEnq9iX3GM8IhO20eH2LY8XFZnDF4kznPExWnsTl_VCFFxCuF4I-TJew6R-4nZ7rmKUN4AGXZfGcNROgl34CiWK3Qiw0oyyXghfSF8-ZrrWctHR7NMp28UsCWPgLVhtSrVTtAiR2oTD6kVQDKkG1FhA4DCeDlGAZpo1ph5ZKRePDQddWgePwL1wWN8zzwWzViy16hIulDgUVt00MYRYj7BOZRb0BH3vULhVZVX0DIYV7Q__9fp0DgbylacVngkRk1F-6zpNVLnNepUouj9rVKzViiVfqnrsNXOtCuhGXk8-gi1nzJe7m00)\n",
        "\n",
        "1 つの department のレコード（部門）は、1 つ以上の employees のレコード（社員）に関連付けられている。この場合に、テーブル結合をしないで、2 つのテーブルから直接 5 人の社員が所属する部門の名前を取得する SQL 文を考える。\n",
        "\n",
        "  1. まず、各社員の department_id を取得する SQL 文 `SELECT department_id FROM employees LIMIT 5;` を発行する。\n",
        "  2. 次に、部署の id が department_id に一致するという条件で部署の name を取得する SQL 文 `SELECT name FROM department WHERE id=?;`（`?` は department_id に置き換えられるプレースホルダー）を 5 回発行する。\n",
        "\n",
        "都合、5+1 回の SQL 文発行となる。この方法では、社員の数が 10000 人なら 10000+1 回の SQL 文発行となり、パフォーマンスが悪化する。この問題を **N+1 問題**という。N+1 問題の解決策の 1 つがテーブル結合である。テーブルを結合する SQL 文を 1 つ発行するだけで、必要な情報を取得することができる。"
      ],
      "metadata": {
        "id": "hMOchCQJv6vc"
      }
    },
    {
      "cell_type": "code",
      "source": [
        "import sqlite3\n",
        "from tabulate import tabulate\n",
        "\n",
        "con = sqlite3.connect(\":memory:\")\n",
        "sql_script = \"\"\"\n",
        "CREATE TABLE IF NOT EXISTS employees(\n",
        "    id INTEGER PRIMARY KEY,\n",
        "    name TEXT,\n",
        "    department_id INTEGER\n",
        "    );\n",
        "INSERT INTO employees VALUES\n",
        "  (1, '佐藤', 1),\n",
        "  (2, '田中', 2),\n",
        "  (3, '鈴木', 3),\n",
        "  (4, '渡辺', 4),\n",
        "  (5, '高橋', 1);\n",
        "\n",
        "CREATE TABLE department(\n",
        "    id INTEGER PRIMARY KEY,\n",
        "    name TEXT\n",
        "    );\n",
        "INSERT INTO department VALUES\n",
        "  (1, '企画部'),\n",
        "  (2, '営業部'),\n",
        "  (3, '開発部');\n",
        "\"\"\"\n",
        "cur = con.executescript(sql_script)\n",
        "\n",
        "# 結合したデータをそのまま出力する\n",
        "res = cur.execute(\n",
        "    \"SELECT * FROM employees AS emp INNER JOIN department AS dep ON emp.department_id = dep.id\"\n",
        "    )\n",
        "print(tabulate(res.fetchall(), [col for col, *_ in res.description]), \"\\n\")\n",
        "\n",
        "# テーブルの順番を入れ替えても同じ結果を得る\n",
        "res = con.execute(\n",
        "    \"SELECT * FROM department AS dep INNER JOIN employees AS emp ON emp.department_id = dep.id\"\n",
        "    )\n",
        "print(tabulate(res.fetchall(), [col for col, *_ in res.description]), \"\\n\")\n",
        "\n",
        "# WHERE 条件式を付け、かつ、値を取得するカラムを選択する\n",
        "res = con.execute(\"\"\"\n",
        "SELECT emp.id AS id, emp.name AS name, dep.name AS department\n",
        "    FROM employees AS emp, department AS dep\n",
        "    ON emp.department_id = dep.id\n",
        "    WHERE dep.id = 1\n",
        "\"\"\")\n",
        "print(tabulate(res.fetchall(), [col for col, *_ in res.description]))\n",
        "con.close()"
      ],
      "metadata": {
        "colab": {
          "base_uri": "https://localhost:8080/"
        },
        "id": "R4H-Y0iqv9Ba",
        "outputId": "6538a6b0-8b2c-405e-b4ca-fcbcef703a3a"
      },
      "execution_count": 27,
      "outputs": [
        {
          "output_type": "stream",
          "name": "stdout",
          "text": [
            "  id  name      department_id    id  name\n",
            "----  ------  ---------------  ----  ------\n",
            "   1  佐藤                  1     1  企画部\n",
            "   2  田中                  2     2  営業部\n",
            "   3  鈴木                  3     3  開発部\n",
            "   5  高橋                  1     1  企画部 \n",
            "\n",
            "  id  name      id  name      department_id\n",
            "----  ------  ----  ------  ---------------\n",
            "   1  企画部     1  佐藤                  1\n",
            "   2  営業部     2  田中                  2\n",
            "   3  開発部     3  鈴木                  3\n",
            "   1  企画部     5  高橋                  1 \n",
            "\n",
            "  id  name    department\n",
            "----  ------  ------------\n",
            "   1  佐藤    企画部\n",
            "   5  高橋    企画部\n"
          ]
        }
      ]
    },
    {
      "cell_type": "markdown",
      "source": [
        "上記のコードでは、employees デーブルの「渡辺」の department_id が不正な値である。このように不正な値や NULL を含むレコードは、内部結合では取得できない（つまり結合後に消失する）ことに注意する。"
      ],
      "metadata": {
        "id": "IbuoNOeW41Y5"
      }
    },
    {
      "cell_type": "markdown",
      "source": [
        "### 外部結合"
      ],
      "metadata": {
        "id": "Q6A8Ri5j9GG7"
      }
    },
    {
      "cell_type": "markdown",
      "source": [
        "``` sql\n",
        "SELECT テーブル名.カラム名, ... FROM テーブル名1 LEFT [ OUTER ] JOIN テーブル名2 ON テーブル名1.カラム名1 = テーブル名2.カラム名2;\n",
        "```\n",
        "\n",
        "`テーブル名1` のレコードに対して、`テーブル名2` のレコードの中から `ON` 句の条件でカラム値が一致するものを全て抽出し、それぞれ `テーブル名1` のレコードに結合する。`ON` 句の条件で一致する `テーブル名2` のレコードがない場合は、`テーブル名2` に由来するカラムを `NULL` にして `テーブル名1` のレコードに結合する。これを `テーブル名1` の全てのレコードに対して繰り返す。`テーブル名1` のレコードは、全て少なくとも 1 回は抽出される。これを**左外部結合**と呼ぶ。\n",
        "\n",
        "``` sql\n",
        "SELECT テーブル名.カラム名, ... FROM テーブル名1 RIGHT [ OUTER ] JOIN テーブル名2 ON テーブル名1.カラム名1 = テーブル名2.カラム名2;\n",
        "```\n",
        "\n",
        "`テーブル名2` のレコードに対して、`テーブル名1` のレコードの中から `ON` 句の条件でカラム値が一致するものを全て抽出し、それぞれ `テーブル名2` のレコードに結合する。`ON` 句の条件で一致する `テーブル名1` のレコードがない場合は、`テーブル名1` に由来するカラムを `NULL` にして `テーブル名2` のレコードに結合する。これを `テーブル名2` の全てのレコードに対して繰り返す。`テーブル名2` のレコードは、全て少なくとも 1 回は抽出される。これを**右外部結合**と呼ぶ。\n",
        "\n",
        "``` sql\n",
        "SELECT テーブル名.カラム名, ... FROM テーブル名1 FULL [ OUTER ] JOIN テーブル名2 ON テーブル名1.カラム名1 = テーブル名2.カラム名2;\n",
        "```\n",
        "\n",
        "2 つのテーブルのレコードを全て少なくとも 1 回は抽出し、その際、`ON` 句の条件でカラム値が一致する各テーブルのレコードを結合する。`ON` 句の条件で一致するレコードがない場合は、カラムを `NULL` にしたレコードが結合される。これを**完全外部結合**と呼ぶ。\n",
        "\n",
        "以下の事項は、3 つの外部結合に共通する。\n",
        "\n",
        "  * `ON` 句の条件では、少なくともどちらか一方のテーブルのカラムは重複する値を持たないことが必要である。\n",
        "  * 結合済みレコードのカラムの順番は、まず `テーブル名1` に由来するカラム、次に `テーブル名2` に由来するカラムとなる。\n",
        "  * `OUTER` は省略できる。\n",
        "  * 結合済みレコードからカラムを指定して値を取得する方法や、別名の使用、`WHERE 条件式` は内部結合の場合と同様である。\n",
        "\n",
        "なお、SQLite では、右外部結合と完全外部結合は v3.39.0 以降でサポートされる。"
      ],
      "metadata": {
        "id": "ru1cgqRZ9HGy"
      }
    },
    {
      "cell_type": "code",
      "source": [
        "import sqlite3\n",
        "from tabulate import tabulate\n",
        "\n",
        "con = sqlite3.connect(\":memory:\")\n",
        "sql_script = \"\"\"\n",
        "CREATE TABLE IF NOT EXISTS employees(\n",
        "    id INTEGER PRIMARY KEY,\n",
        "    name TEXT,\n",
        "    department_id INTEGER\n",
        "    );\n",
        "INSERT INTO employees VALUES\n",
        "  (1, '佐藤', 1),\n",
        "  (2, '田中', 2),\n",
        "  (3, '鈴木', 3),\n",
        "  (4, '渡辺', 4),\n",
        "  (5, '高橋', 1);\n",
        "\n",
        "CREATE TABLE IF NOT EXISTS department(\n",
        "    id INTEGER PRIMARY KEY,\n",
        "    name TEXT\n",
        "    );\n",
        "INSERT INTO department VALUES\n",
        "  (1, '企画部'),\n",
        "  (2, '営業部'),\n",
        "  (3, '開発部');\n",
        "\"\"\"\n",
        "cur = con.executescript(sql_script)\n",
        "\n",
        "def query(sql):\n",
        "    print(f\"[{sql}]\")\n",
        "    cur = con.execute(sql)\n",
        "    print(tabulate(cur.fetchall(), [col for col, *_ in cur.description]), \"\\n\")\n",
        "\n",
        "query(\"SELECT * FROM employees AS emp LEFT JOIN department AS dep ON emp.department_id = dep.id\")\n",
        "\n",
        "query(\"SELECT * FROM department AS dep LEFT JOIN employees AS emp ON emp.department_id = dep.id\")\n",
        "\n",
        "# v3.39.0 以降でサポート\n",
        "# query(\"SELECT * FROM employees AS emp RIGHT JOIN department AS dep ON emp.department_id = dep.id\")\n",
        "#\n",
        "# query(\"SELECT * FROM department AS dep RIGHT JOIN employees AS emp ON emp.department_id = dep.id\")\n",
        "#\n",
        "# query(\"SELECT * FROM employees AS emp FULL JOIN department AS dep ON emp.department_id = dep.id\")\n",
        "\n",
        "con.close()"
      ],
      "metadata": {
        "colab": {
          "base_uri": "https://localhost:8080/"
        },
        "id": "pHFZgLJEGnU-",
        "outputId": "054dcad1-6fe6-44ed-c2a4-fe452e8d0cc9"
      },
      "execution_count": 28,
      "outputs": [
        {
          "output_type": "stream",
          "name": "stdout",
          "text": [
            "[SELECT * FROM employees AS emp LEFT JOIN department AS dep ON emp.department_id = dep.id]\n",
            "  id  name      department_id    id  name\n",
            "----  ------  ---------------  ----  ------\n",
            "   1  佐藤                  1     1  企画部\n",
            "   2  田中                  2     2  営業部\n",
            "   3  鈴木                  3     3  開発部\n",
            "   4  渡辺                  4\n",
            "   5  高橋                  1     1  企画部 \n",
            "\n",
            "[SELECT * FROM department AS dep LEFT JOIN employees AS emp ON emp.department_id = dep.id]\n",
            "  id  name      id  name      department_id\n",
            "----  ------  ----  ------  ---------------\n",
            "   1  企画部     1  佐藤                  1\n",
            "   1  企画部     5  高橋                  1\n",
            "   2  営業部     2  田中                  2\n",
            "   3  開発部     3  鈴木                  3 \n",
            "\n"
          ]
        }
      ]
    },
    {
      "cell_type": "markdown",
      "source": [
        "内部結合、外部結合については、次の画像でわかりやすくまとめられている（[Wikimedia Commons 記事](https://commons.wikimedia.org/wiki/File:SQL_Joins.svg)から引用）。\n",
        "\n",
        "![](https://upload.wikimedia.org/wikipedia/commons/9/9d/SQL_Joins.svg)"
      ],
      "metadata": {
        "id": "q-4QiD8cL6Ym"
      }
    },
    {
      "cell_type": "markdown",
      "source": [
        "### 交差結合"
      ],
      "metadata": {
        "id": "TNFF50a2_GrD"
      }
    },
    {
      "cell_type": "markdown",
      "source": [
        "``` sql\n",
        "SELECT テーブル名.カラム名, ... FROM テーブル名1 CROSS JOIN テーブル名2;\n",
        "```\n",
        "\n",
        "2 つのテーブルのレコードのペアを全て使って、それぞれ結合する。`テーブル名1` のレコード数×`テーブル名2` のレコード数の行が生成されるので、処理に時間がかかる可能性がある。\n",
        "\n",
        "結合済みレコードからカラムを指定して値を取得する方法や、別名の使用、`WHERE 条件式` は内部結合の場合と同様である。"
      ],
      "metadata": {
        "id": "jDZaJoZQ_H16"
      }
    },
    {
      "cell_type": "code",
      "source": [
        "import sqlite3\n",
        "from tabulate import tabulate\n",
        "\n",
        "con = sqlite3.connect(\":memory:\")\n",
        "sql_script = \"\"\"\n",
        "CREATE TABLE IF NOT EXISTS employees(\n",
        "    id INTEGER PRIMARY KEY,\n",
        "    name TEXT,\n",
        "    department_id INTEGER\n",
        "    );\n",
        "INSERT INTO employees VALUES\n",
        "  (1, '佐藤', 1),\n",
        "  (2, '田中', 2),\n",
        "  (3, '鈴木', 3),\n",
        "  (4, '渡辺', 4),\n",
        "  (5, '高橋', 1);\n",
        "\n",
        "CREATE TABLE IF NOT EXISTS department(\n",
        "    id INTEGER PRIMARY KEY,\n",
        "    name TEXT\n",
        "    );\n",
        "INSERT INTO department VALUES\n",
        "  (1, '企画部'),\n",
        "  (2, '営業部'),\n",
        "  (3, '開発部');\n",
        "\"\"\"\n",
        "cur = con.executescript(sql_script).execute(\n",
        "    \"SELECT * FROM employees CROSS JOIN department\"\n",
        "    )\n",
        "print(tabulate(cur.fetchall(), [col for col, *_ in cur.description]))\n",
        "con.close()"
      ],
      "metadata": {
        "colab": {
          "base_uri": "https://localhost:8080/"
        },
        "id": "a4yRLOCW_KYK",
        "outputId": "79601256-c487-4068-9582-65012943b6cf"
      },
      "execution_count": 29,
      "outputs": [
        {
          "output_type": "stream",
          "name": "stdout",
          "text": [
            "  id  name      department_id    id  name\n",
            "----  ------  ---------------  ----  ------\n",
            "   1  佐藤                  1     1  企画部\n",
            "   1  佐藤                  1     2  営業部\n",
            "   1  佐藤                  1     3  開発部\n",
            "   2  田中                  2     1  企画部\n",
            "   2  田中                  2     2  営業部\n",
            "   2  田中                  2     3  開発部\n",
            "   3  鈴木                  3     1  企画部\n",
            "   3  鈴木                  3     2  営業部\n",
            "   3  鈴木                  3     3  開発部\n",
            "   4  渡辺                  4     1  企画部\n",
            "   4  渡辺                  4     2  営業部\n",
            "   4  渡辺                  4     3  開発部\n",
            "   5  高橋                  1     1  企画部\n",
            "   5  高橋                  1     2  営業部\n",
            "   5  高橋                  1     3  開発部\n"
          ]
        }
      ]
    },
    {
      "cell_type": "markdown",
      "source": [
        "### eager loading"
      ],
      "metadata": {
        "id": "4nghFypfZnvD"
      }
    },
    {
      "cell_type": "markdown",
      "source": [
        "複合クエリやテーブル結合を使用すると、テーブルが一時的に作成されて使い捨てにされる。クエリの結果が非常に大きい場合、これは深刻なパフォーマンス低下を引き起こす。 N+1 問題の解決策としてテーブル結合を安易に使うことはできないということである。\n",
        "\n",
        "そこで、テーブル結合の代わりに、 eager loading（事前読み込み）と呼ばれる手法が使われることがある。 eager loading は、一方のテーブルから `SELECT` 文であらかじめデータを取得しておいて、そのデータを使って他方のテーブルから `SELECT` 文と `WHERE` 句、`IN` 演算子で必要なデータを取得するというものである。 SQL 文の発行は 2 回で済む。このようなことは、クエリだけで完結できるものではなく、 2 つのクエリの間に Python 側の処理を挟むことによって実現している。"
      ],
      "metadata": {
        "id": "WKPBK-ecZoqJ"
      }
    },
    {
      "cell_type": "code",
      "source": [
        "import sqlite3\n",
        "\n",
        "con = sqlite3.connect(\":memory:\")\n",
        "sql_script = \"\"\"\n",
        "CREATE TABLE IF NOT EXISTS employees(\n",
        "    id INTEGER PRIMARY KEY,\n",
        "    name TEXT,\n",
        "    department_id INTEGER\n",
        "    );\n",
        "INSERT INTO employees VALUES\n",
        "  (1, '佐藤', 1),\n",
        "  (2, '田中', 2),\n",
        "  (3, '鈴木', 3),\n",
        "  (4, '渡辺', 4),\n",
        "  (5, '高橋', 1);\n",
        "\n",
        "CREATE TABLE IF NOT EXISTS department(\n",
        "    id INTEGER PRIMARY KEY,\n",
        "    name TEXT\n",
        "    );\n",
        "INSERT INTO department VALUES\n",
        "  (1, '企画部'),\n",
        "  (2, '営業部'),\n",
        "  (3, '開発部');\n",
        "\"\"\"\n",
        "cur = con.executescript(sql_script)\n",
        "\n",
        "# eager loading\n",
        "res1 = cur.execute(\"SELECT * FROM department\")\n",
        "departments = {row[0]: row[1] for row in res1}  # {1: '企画部', 2: '営業部', 3: '開発部'}\n",
        "sql = \"SELECT * FROM employees WHERE department_id IN (%s)\" % \", \".join([\"?\"] * len(departments))\n",
        "print(f\"{sql=}\")\n",
        "res2 = cur.execute(sql, list(departments))\n",
        "\n",
        "print(tabulate(res2.fetchall(), [col for col, *_ in res2.description]))\n",
        "con.close()"
      ],
      "metadata": {
        "colab": {
          "base_uri": "https://localhost:8080/"
        },
        "id": "PSnWf_wWbWdK",
        "outputId": "5c508c25-913c-45bf-aff2-62eed107027e"
      },
      "execution_count": 30,
      "outputs": [
        {
          "output_type": "stream",
          "name": "stdout",
          "text": [
            "sql='SELECT * FROM employees WHERE department_id IN (?, ?, ?)'\n",
            "  id  name      department_id\n",
            "----  ------  ---------------\n",
            "   1  佐藤                  1\n",
            "   2  田中                  2\n",
            "   3  鈴木                  3\n",
            "   5  高橋                  1\n"
          ]
        }
      ]
    },
    {
      "cell_type": "markdown",
      "source": [
        "トランザクション制御\n",
        "--------------------"
      ],
      "metadata": {
        "id": "sLto4cOp1V5F"
      }
    },
    {
      "cell_type": "markdown",
      "source": [
        "以下の標準 SQL のコマンドは、TCL に分類される。TCL は、Transaction Control Language（トランザクション制御言語）の略で、その名のとおりトランザクションの制御に使用するコマンドである。\n",
        "\n",
        "  * `COMMIT`\n",
        "  * `ROLLBACK`\n",
        "  * `SET TRANSACTION`\n",
        "\n",
        "標準 SQL では、トランザクションが暗黙的に開始される。`COMMIT` または `ROLLBACK` でトランザクションが終了すると、その直後に、自動的に新しいトランザクションが開始される。したがって、`INSERT`、`UPDATE`、`DELETE` コマンドでテーブルを変更する場合、変更結果を DB に永続的に反映させるには `COMMIT` コマンドを実行する必要がある。"
      ],
      "metadata": {
        "id": "UUfB4o1WtD1w"
      }
    },
    {
      "cell_type": "markdown",
      "source": [
        "### ACID 特性と分離レベル"
      ],
      "metadata": {
        "id": "K56fx5x5r3TT"
      }
    },
    {
      "cell_type": "markdown",
      "source": [
        "**ACID**とは、データの整合性と信頼性を保証するために、トランザクションが持つべき 4 つの特性の頭文字をとった略語である。\n",
        "\n",
        "  * **A**tomicity（原子性）:  \n",
        "  トランザクションの処理は全て実行されるか、全く実行されないかのどちらかである。\n",
        "  * **C**onsistency（一貫性）:  \n",
        "  事前定義された DB の制約や整合性ルール（例えば、銀行の口座残高が常に 0 以上でなければならないというルール）は、トランザクションの前後で保たれる。\n",
        "  * **I**solation（分離性）:  \n",
        "  複数のトランザクションが同時に実行された場合でも、それぞれのトランザクションが互いに影響を与えず、あたかも単独で実行されたかのように振る舞う。\n",
        "  * **D**urability（永続性）:  \n",
        "  トランザクションが正常に完了した後は、その結果が永続的に保存される。\n",
        "\n",
        "原子性と一貫性、永続性を実現する操作がロールバックとコミットとなる。\n",
        "\n",
        "分離性は、標準 SQL では `SET TRANSACTION` コマンドで「トランザクションの分離レベル」を設定する形で実現される。標準 SQL は、分離性を「他のトランザクションの影響をどこまで許すか」で 4 段階に分類する。\n",
        "\n",
        "| 分離レベル | 説明 |\n",
        "|:---|:---|\n",
        "| **READ UNCOMMITTED** | 最も分離性が低いレベル。他のトランザクションでコミットされていないデータを読み取ること（ダーティリード）ができる |\n",
        "| **READ COMMITTED** | 他のトランザクションでコミットされていないデータは読めない。ダーティリードは防げるが、同じトランザクション内で同じデータを複数<br />回読み取った際に、別の結果になる可能性がある |\n",
        "| **REPEATABLE READ** | トランザクション中に読み取ったデータを、他のトランザクションが変更したり削除したりするのを防ぐ。これにより、同じデータを複数回<br />読み取った際に、別の結果になることは防げるが、新たなレコードが追加されること（ファントムリード）は防げない |\n",
        "| **SERIALIZABLE** | 最も分離性が高いレベル。ファントムリードも防ぐ。トランザクションは完全に直列に実行されるかのように動作する |\n",
        "\n",
        "分離レベルが高いほどデータの整合性が保たれるが、同時に実行できるトランザクションの数が減り、パフォーマンスが低下する可能性がある。"
      ],
      "metadata": {
        "id": "zbxtwe_yr4FK"
      }
    },
    {
      "cell_type": "markdown",
      "source": [
        "### SQLite のトランザクション制御"
      ],
      "metadata": {
        "id": "95PvcJN5yTwu"
      }
    },
    {
      "cell_type": "markdown",
      "source": [
        "SQLite でもトランザクションは暗黙的に開始される。さらに、SQLite ではトランザクション制御が簡易化され、コミットも暗黙的に行われる。つまり、自動的に開始されたトランザクションは、最後の SQL 文が終了したときに自動的にコミットされる。こうしたトランザクション制御は**オートコミットモード**と呼ばれる。SQLite のオートコミットモードは、自動的に有効になってる。\n",
        "\n",
        "また、SQLite ではトランザクションの分離レベルがほぼ SERIALIZABLE 固定であり、`SET TRANSACTION` コマンドはサポートされない。SERIALIZABLE なトランザクションの分離レベルを実装するために、DB ファイルに対するロックが使用される。ロックは 3 種類あって、DB の同時アクセス制御（排他制御）に関する挙動を決める。\n",
        "\n",
        "  * **共有ロック**（shared lock）: データの読み取りを保護するロック。\n",
        "  * **予約ロック**（reserved lock）: 将来の書き込みを予約するロック。\n",
        "  * **排他ロック**（exclusive lock）: データの読み書きを完全に独占するロック。\n",
        "\n",
        "これらのロック機能を利用するために、SQLite は以下のコマンドをサポートする。\n",
        "\n",
        "  * `BEGIN`\n",
        "  * `SAVEPOINT`\n",
        "\n",
        "``` sql\n",
        "BEGIN [ DEFERRED | IMMEDIATE | EXCLUSIVE ] [ TRANSACTION ];\n",
        "```\n",
        "\n",
        "SQLite の `BEGIN` コマンドは、トランザクションを手動で開始し、かつ、オートコミットモードを無効にする。\n",
        "\n",
        "`DEFERRED`、`IMMEDIATE`、`EXCLUSIVE` は、ロックの取得タイミングを指定する。デフォルトでは `DEFERRED` が選択される。\n",
        "\n",
        "| モード | 動作 | 特徴 |\n",
        "|:---|:---|:---|\n",
        "| `DEFERRED` | `BEGIN` コマンドを実行した時点では、DB ファイルに対するロックは取得されない。<br />初めて読み取り操作（`SELECT`）が行われたときに共有ロックが取得され、初めて<br />書き込み操作（`INSERT`, `UPDATE` など）が行われたときに予約ロックが取得される | 他の接続が読み取りや書き込みを同時に行うことを可能な限り<br />許可する。他の接続のトランザクションが先に書き込みロックを<br />取得した場合、この接続のトランザクションは書き込み操作を実<br />行できずに失敗する可能性がある |\n",
        "| `IMMEDIATE` | `BEGIN` コマンドを実行した時点で、DB ファイルに対する予約ロックが取得される | 他の接続が DB に書き込みできなくなるが、読み取りは引き続<br />き可能である。この接続のトランザクションが書き込みを開始す<br />る際にロック待ちで失敗するリスクを減らせる |\n",
        "| `EXCLUSIVE` | `BEGIN` コマンドを実行した時点で、DB ファイルに対する排他ロックが取得される | 他のどの接続も、DB への読み書きが一切できなくなる |\n",
        "\n",
        "データ操作のほとんどが読み取りである場合は、`DEFERRED` が効率的である。複数回の書き込みがあり、確実に成功させたい場合は、`IMMEDIATE` か `EXCLUSIVE` にする必要がある。`EXCLUSIVE` は、並行性が完全に無くなってしまうので、明確な理由がない限り避けるほうが良い。\n",
        "\n",
        "`TRANSACTION` 句は省略できる。\n",
        "\n",
        "``` sql\n",
        "SAVEPOINT セーブポイント名\n",
        "```\n",
        "\n",
        "SQLite の `SAVEPOINT` コマンドは、名前を付けて新しいトランザクションを開始する。既存のトランザクションに対して新しいトランザクションがネストされる形となる。\n",
        "\n",
        "なお、`BEGIN` コマンドで作成されたトランザクションはネストされない。トランザクション内で `BEGIN` コマンドを実行すると、エラーが発生して失敗する。\n",
        "\n",
        "``` sql\n",
        "COMMIT [ TRANSACTION ]\n",
        "```\n",
        "\n",
        "SQLite の `COMMIT` コマンドは、保留中のトランザクションをすべてコミットし、全てのトランザクションを終了する。オートコミットモードを無効にしていた場合は、オートコミットモードを有効にする。\n",
        "\n",
        "`TRANSACTION` 句は省略できる。\n",
        "\n",
        "``` sql\n",
        "ROLLBACK [ TRANSACTION ] [ TO [ SAVEPOINT ] セーブポイント名 ]\n",
        "```\n",
        "\n",
        "SQLite の `ROLLBACK` コマンドは、トランザクションをロールバックして終了し、オートコミットモードを無効にしていた場合にはオートコミットモードを有効にする。\n",
        "\n",
        "`TO` 句の有無による動作の違いは、以下の通り。\n",
        "\n",
        "| `TO` 句 | 動作 |\n",
        "|:--:|:---|\n",
        "| あり | `TO` 句で指定した、直近のセーブポイントより後に開始されたトランザクションを全てロールバックして終了する。指定のセーブポイントで開始したトラン<br />ザクションは残る。一致する名前のセーブポイントが見つからない場合は、エラーで失敗し、DB の状態は変更されない |\n",
        "| なし | 全てのトランザクションをロールバックして終了する |\n",
        "\n",
        "`TRANSACTION` 句と `SAVEPOINT` 句は省略できる。"
      ],
      "metadata": {
        "id": "7w7M8Cs7JcLf"
      }
    },
    {
      "cell_type": "code",
      "source": [
        "import sqlite3\n",
        "from tabulate import tabulate\n",
        "\n",
        "con = sqlite3.connect(\":memory:\")\n",
        "sql_script = \"\"\"\n",
        "CREATE TABLE IF NOT EXISTS tanaka_account(date TEXT, balance INTEGER);\n",
        "BEGIN;\n",
        "INSERT INTO tanaka_account(date, balance) values('2022-01-10', 1000000);\n",
        "SAVEPOINT temp_savepoint;\n",
        "INSERT INTO tanaka_account(date, balance) values('2023-10-20', 1500000);\n",
        "ROLLBACK TO SAVEPOINT temp_savepoint;\n",
        "INSERT INTO tanaka_account(date, balance) values(CURRENT_DATE, 2000000);\n",
        "COMMIT;\n",
        "\"\"\"\n",
        "cur = con.executescript(sql_script).execute(\"SELECT rowid, * FROM tanaka_account\")\n",
        "print(tabulate(cur.fetchall(), [col for col, *_ in cur.description]))\n",
        "con.close()"
      ],
      "metadata": {
        "colab": {
          "base_uri": "https://localhost:8080/"
        },
        "id": "rHs6RUs07dLu",
        "outputId": "c481603c-08de-4660-98e2-9e9a5386e6c9"
      },
      "execution_count": 31,
      "outputs": [
        {
          "output_type": "stream",
          "name": "stdout",
          "text": [
            "  rowid  date          balance\n",
            "-------  ----------  ---------\n",
            "      1  2022-01-10    1000000\n",
            "      2  2025-09-30    2000000\n"
          ]
        }
      ]
    },
    {
      "cell_type": "markdown",
      "source": [
        "### DB-API 2.0 のトランザクション制御"
      ],
      "metadata": {
        "id": "W7PPRtkPn0G6"
      }
    },
    {
      "cell_type": "markdown",
      "source": [
        "実際のアプリケーション開発では、ACID 特性を守るためのトランザクション制御を SQL だけで完結させるのは難しい。例えば、外部サービスとの連携やユーザー入力に基づく複雑な条件分岐などは、SQL では表現しづらい。このため、アプリケーション全体として ACID 特性を保つトランザクション制御は、通常、ホスト言語の制御構文（if 文、ループなど）や例外処理によって実装される。\n",
        "\n",
        "Python においては、DB-API 2.0 がコネクションオブジェクトの `commit()`、`rollback()` メソッドといったトランザクション制御のインターフェースを標準で備えている。\n",
        "\n",
        "ただし、SQLite のようにオートコミット機能がある場合は、ホスト言語である Python からトランザクション制御を行う際に問題が生じる。RDBMS 側で勝手にコミットが行われてしまっては、ホスト言語側からの意図的なトランザクション制御が無意味になってしまうからである。このため、PEP 249 は、RDBMS がオートコミット機能をサポートしている場合、その機能は初期状態でオフになっていなければならないと定めている。\n",
        "\n",
        "SQLite のオートコミットモードはデフォルトでオフにする方法がないのであるが、`sqlite3` はコネクションオブジェクトの `autocommit` 属性を用いて疑似的にオートコミットモードのオフ状態を実現している。`autocommit` 属性は、`sqlite3.connect()` コンストラクタの `autocommit` 引数を使用して設定可能である。指定可能な値は、真理値またはモジュール定数 `sqlite3.LEGACY_TRANSACTION_CONTROL` である。\n",
        "\n",
        "`autocommit` 属性が `False` の場合、次のような処理が行われる。\n",
        "\n",
        "  * `sqlite3.connect()` コンストラクタとコネクションオブジェクトの `commit()`、`rollback()` メソッドは、暗黙的に `BEGIN DEFERRED` コマンドを実行してトランザクションを開始する。このため、常にオートコミットモードが無効のままトランザクションが開始していることが保証される。\n",
        "  * 保留中のトランザクションが存在する状態のまま `close()` メソッドが呼び出された場合、暗黙的にロールバックが実行される。\n",
        "\n",
        "したがって、`INSERT`、`UPDATE`、`DELETE` コマンドでテーブルを変更する場合、`commit()` メソッドを使用して明示的にコミットする必要がある（あるいは、`rollback()` メソッドを使用して明示的にロールバックする必要がある）。\n",
        "\n",
        "`autocommit` 属性が `True` の場合、オートコミットモードは有効である。\n",
        "\n",
        "`autocommit` 属性は、デフォルトではモジュール定数 `sqlite3.LEGACY_TRANSACTION_CONTROL` となっている。この値の場合、コネクションオブジェクトの `isolation_level` 属性という古いトランザクション制御方法が用いられる。`autocommit` 属性が追加された Python 3.12 以降は、トランザクション制御方法には `autocommit` 属性を使用すべきとされ、ほとんどの場合 Python からのトランザクション制御が必要なので、`autocommit` 属性は `False` にすることが推奨されている（[公式ドキュメント](https://docs.python.org/ja/3/library/sqlite3.html#sqlite3.Connection.autocommit)）。\n",
        "\n",
        "`autocommit` 属性によるトランザクション制御の例を示す。2 つの預金口座テーブル `tanaka_account` と `suzuki_account` を作成し、各残高（balance）を次のようにしておく。\n",
        "\n",
        "![](https://www.plantuml.com/plantuml/png/dSv1RW8n30NGlKyHYIseoOXkO43SeGUep2HDet4Sb3WBQ7ht1kXSW8KbV-lhoQSYcAL6Wh78bTmHSagYVa2fYDa7tYczx-62rWRsZ_GB4eJSe_ILM3x2pUsKsUwNtA5-u9GZqhq-lltRPGvymOnnyTJsQO4WuuoVE4sfii2uek2_vKpLhLS-u_NO3XR5jSCP2Nbo3TgWXs6ZpSRePjPQw_iqW59lTGwlIk-BuzYgvskdljP8Vm00)\n",
        "\n",
        "`transfer()` 関数を呼び出して、 `tanaka_account` から `suzuki_account` への口座振込の処理を行う。"
      ],
      "metadata": {
        "id": "U5iMzP6Un1CD"
      }
    },
    {
      "cell_type": "code",
      "source": [
        "import sqlite3\n",
        "from tabulate import tabulate\n",
        "\n",
        "def transfer(conn, amount, sender, recipient):\n",
        "    \"\"\"口座振込の処理\n",
        "\n",
        "    conn: 接続オブジェクト\n",
        "    amount: 振込金額\n",
        "    sender: 振込元口座\n",
        "    recipient: 振込先口座\n",
        "    \"\"\"\n",
        "    # 振込元の減算処理\n",
        "    sender_balance = conn.execute(f\"SELECT balance FROM {sender} ORDER BY rowid DESC LIMIT 1\").fetchone()[0]\n",
        "    conn.execute(f\"INSERT INTO {sender}(balance) values(? - ?)\", (sender_balance, amount))\n",
        "    # 振込先の加算処理\n",
        "    recipient_balance = conn.execute(f\"SELECT balance FROM {recipient} ORDER BY rowid DESC LIMIT 1\").fetchone()[0]\n",
        "    conn.execute(f\"INSERT INTO {recipient}(balance) values(? + ?)\", (recipient_balance, amount))\n",
        "    if sender_balance - amount < 0:\n",
        "        raise ValueError(\"振込金額が正しくありません\")\n",
        "\n",
        "def main():\n",
        "    # 準備\n",
        "    con = sqlite3.connect(\"sample.db\")\n",
        "    con.executescript(\"\"\"\n",
        "        CREATE TABLE IF NOT EXISTS tanaka_account(date TEXT DEFAULT CURRENT_DATE, balance INTEGER);\n",
        "        CREATE TABLE IF NOT EXISTS suzuki_account(date TEXT DEFAULT CURRENT_DATE, balance INTEGER);\n",
        "        INSERT INTO tanaka_account(date, balance) values('2022-01-10', 1000000);\n",
        "        INSERT INTO suzuki_account(date, balance) values('2022-01-10', 500000);\n",
        "    \"\"\")\n",
        "\n",
        "    # 自動コミットをオフ（False）にして手動でトランザクション制御\n",
        "    con.autocommit = False\n",
        "\n",
        "    try:\n",
        "        transfer(con, 2_000_000, \"tanaka_account\", \"suzuki_account\")\n",
        "        con.commit()\n",
        "    except ValueError as e:\n",
        "        print(e)\n",
        "        con.rollback()\n",
        "    finally:\n",
        "        con.close()\n",
        "\n",
        "    # テーブルを確認\n",
        "    con = sqlite3.connect(\"sample.db\")\n",
        "    cur = con.execute(\"SELECT * FROM tanaka_account\")\n",
        "    print(tabulate(cur.fetchall(), [col for col, *_ in cur.description]), \"\\n\")\n",
        "    cur = con.execute(\"SELECT * FROM suzuki_account\")\n",
        "    print(tabulate(cur.fetchall(), [col for col, *_ in cur.description]))\n",
        "\n",
        "    # テーブルを削除\n",
        "    con.executescript(\"\"\"\n",
        "        DROP TABLE IF EXISTS tanaka_account;\n",
        "        DROP TABLE IF EXISTS suzuki_account;\n",
        "    \"\"\")\n",
        "    con.close()\n",
        "\n",
        "if __name__ == \"__main__\":\n",
        "    main()"
      ],
      "metadata": {
        "colab": {
          "base_uri": "https://localhost:8080/"
        },
        "id": "S-d8UPSaj2Ic",
        "outputId": "54b4d590-04f1-4571-9fe8-0828ec055915"
      },
      "execution_count": 32,
      "outputs": [
        {
          "output_type": "stream",
          "name": "stdout",
          "text": [
            "振込金額が正しくありません\n",
            "date          balance\n",
            "----------  ---------\n",
            "2022-01-10    1000000 \n",
            "\n",
            "date          balance\n",
            "----------  ---------\n",
            "2022-01-10     500000\n"
          ]
        }
      ]
    },
    {
      "cell_type": "markdown",
      "source": [
        "`main()` 関数の try 文の中で、`transfer()` 呼び出しが残高以上の金額を振り込もうとしているので、エラーが発生する。例外処理によりロールバックされる結果、各口座の残高は変更されない。\n",
        "\n",
        "`transfer()` 呼び出しで、振込金額を `1_000_000` に修正してから再びスクリプトを実行すると、トランザクション処理が成功して、以下のような出力が得られる。\n",
        "\n",
        "``` text\n",
        "date          balance\n",
        "----------  ---------\n",
        "2022-01-10    1000000\n",
        "2025-08-12          0\n",
        "\n",
        "date          balance\n",
        "----------  ---------\n",
        "2022-01-10     500000\n",
        "2025-08-12    1500000\n",
        "```"
      ],
      "metadata": {
        "id": "MSlvKebBRmqA"
      }
    },
    {
      "cell_type": "markdown",
      "source": [
        "### isolation_level 属性によるトランザクション制御"
      ],
      "metadata": {
        "id": "SiuQxUgA44jB"
      }
    },
    {
      "cell_type": "markdown",
      "source": [
        "Python 3.12 より前のバージョンでは、コネクションオブジェクトの `isolation_level` 属性によるトランザクション制御が行われていた。\n",
        "\n",
        "`isolation_level` 属性に、`BEGIN` コマンドのモード（`'DEFERRED'`, `'IMMEDIATE'`, `'EXCLUSIVE'`）を指定した場合、`execute()` や `executemany()` メソッドは、開始されているトランザクションがなく、かつ、SQL 文が `INSERT` または `UPDATE` または `DELETE` 文であれば、SQL 文を実行する前に、暗黙的に `BEGIN` コマンドを実行する。これによりオートコミットモードが無効となるので、トランザクションは、`commit()`、`rollback()` メソッドで明示的にコミット、ロールバックする必要がある。\n",
        "\n",
        "`isolation_level` 属性のデフォルト値は `'DEFERRED'` である。したがって、`execute()` や `executemany()` メソッドを用いて `INSERT` または `UPDATE` または `DELETE` 文を実行した場合、`commit()` メソッドを使用して明示的にコミットしないと、`close()` 後に変更結果が消失することに注意する（これまでの参考コードはほとんどがインメモリデータベースを用いていたため `commit()` 呼び出しを省略していたことに留意する）。\n",
        "\n",
        "`isolation_level` 属性が `None` の場合、暗黙的な `BEGIN` コマンドの実行はない。\n",
        "\n",
        "`isolation_level` 属性は、`sqlite3.connect()` コンストラクタの `isolation_level` 引数を使用して設定できる。\n",
        "\n",
        "`executescript()` メソッドは、`isolation_level` の値に関係なく、与えられた SQL 文の実行前に、保留中のトランザクションを暗黙にコミットする。\n",
        "\n",
        "Python 3.12 以降では、`autocommit` 属性の値がデフォルトの `sqlite3.LEGACY_TRANSACTION_CONTROL` でない場合、`isolation_level` 属性は無視される。[公式ドキュメント参照](https://docs.python.org/ja/3.13/library/sqlite3.html#transaction-control-via-the-isolation-level-attribute)によれば、推奨のトランザクション制御方法は `autocommit` 属性を使用することとされる。"
      ],
      "metadata": {
        "id": "vZZnUhib45vj"
      }
    },
    {
      "cell_type": "code",
      "source": [
        "import sqlite3\n",
        "from tabulate import tabulate\n",
        "\n",
        "def transfer(conn, amount, sender, recipient):\n",
        "    \"\"\"口座振込の処理\n",
        "\n",
        "    conn: 接続オブジェクト\n",
        "    amount: 振込金額\n",
        "    sender: 振込元口座\n",
        "    recipient: 振込先口座\n",
        "    \"\"\"\n",
        "    # 振込元の減算処理\n",
        "    sender_balance = conn.execute(f\"SELECT balance FROM {sender} ORDER BY rowid DESC LIMIT 1\").fetchone()[0]\n",
        "    conn.execute(f\"INSERT INTO {sender}(balance) values(? - ?)\", (sender_balance, amount))\n",
        "    # 振込先の加算処理\n",
        "    recipient_balance = conn.execute(f\"SELECT balance FROM {recipient} ORDER BY rowid DESC LIMIT 1\").fetchone()[0]\n",
        "    conn.execute(f\"INSERT INTO {recipient}(balance) values(? + ?)\", (recipient_balance, amount))\n",
        "    if sender_balance - amount < 0:\n",
        "        raise ValueError(\"振込金額が正しくありません\")\n",
        "\n",
        "def main():\n",
        "    # 準備\n",
        "    con = sqlite3.connect(\"sample.db\")\n",
        "    con.executescript(\"\"\"\n",
        "        CREATE TABLE IF NOT EXISTS tanaka_account(date TEXT DEFAULT CURRENT_DATE, balance INTEGER);\n",
        "        CREATE TABLE IF NOT EXISTS suzuki_account(date TEXT DEFAULT CURRENT_DATE, balance INTEGER);\n",
        "        INSERT INTO tanaka_account(date, balance) values('2022-01-10', 1000000);\n",
        "        INSERT INTO suzuki_account(date, balance) values('2022-01-10', 500000);\n",
        "    \"\"\")\n",
        "\n",
        "    try:\n",
        "        transfer(con, 2_000_000, \"tanaka_account\", \"suzuki_account\")\n",
        "        con.commit()\n",
        "    except ValueError as e:\n",
        "        print(e)\n",
        "        con.rollback()\n",
        "    finally:\n",
        "        con.close()\n",
        "\n",
        "    # テーブルを確認\n",
        "    con = sqlite3.connect(\"sample.db\")\n",
        "    cur = con.execute(\"SELECT * FROM tanaka_account\")\n",
        "    print(tabulate(cur.fetchall(), [col for col, *_ in cur.description]), \"\\n\")\n",
        "    cur = con.execute(\"SELECT * FROM suzuki_account\")\n",
        "    print(tabulate(cur.fetchall(), [col for col, *_ in cur.description]))\n",
        "\n",
        "    # テーブルを削除\n",
        "    con.executescript(\"\"\"\n",
        "        DROP TABLE IF EXISTS tanaka_account;\n",
        "        DROP TABLE IF EXISTS suzuki_account;\n",
        "    \"\"\")\n",
        "    con.close()\n",
        "\n",
        "if __name__ == \"__main__\":\n",
        "    main()"
      ],
      "metadata": {
        "colab": {
          "base_uri": "https://localhost:8080/"
        },
        "id": "OR7N6qjMuORq",
        "outputId": "a12dba67-942c-476e-b284-ac510ca5643e"
      },
      "execution_count": 33,
      "outputs": [
        {
          "output_type": "stream",
          "name": "stdout",
          "text": [
            "振込金額が正しくありません\n",
            "date          balance\n",
            "----------  ---------\n",
            "2022-01-10    1000000 \n",
            "\n",
            "date          balance\n",
            "----------  ---------\n",
            "2022-01-10     500000\n"
          ]
        }
      ]
    },
    {
      "cell_type": "markdown",
      "source": [
        "パフォーマンスと拡張機能\n",
        "------------------------"
      ],
      "metadata": {
        "id": "r3ClBn7JI57c"
      }
    },
    {
      "cell_type": "markdown",
      "source": [
        "### クエリ実行計画"
      ],
      "metadata": {
        "id": "YKU9KiVt-_9F"
      }
    },
    {
      "cell_type": "markdown",
      "source": [
        "**クエリ実行計画**（query execution plan）とは、与えられた SQL 文に対して、RDBMS はどの検索インデックスを使って（あるいは検索インデックスを使わずにテーブルスキャンで）クエリを処理するかという情報である。\n",
        "\n",
        "標準 SQL には、クエリ実行計画を出力するコマンドはない。しかし、代表的な RDBMS は、クエリ実行計画を出力する `EXPLAIN` コマンドをサポートする。SQLite もクエリ実行計画の出力をサポートするが、コマンドは `EXPLAIN QUERY PLAN` となる。\n",
        "\n",
        "``` sql\n",
        "EXPLAIN QUERY PLAN SQL文\n",
        "```\n",
        "\n",
        "次のコードでは、`'name'` カラム、`'created_at'` カラムの順で指定した複合インデックスを作成している。"
      ],
      "metadata": {
        "id": "yTT3HaaH_D9G"
      }
    },
    {
      "cell_type": "code",
      "source": [
        "import sqlite3\n",
        "from tabulate import tabulate\n",
        "\n",
        "con = sqlite3.connect(\":memory:\")\n",
        "sql_script = \"\"\"\n",
        "CREATE TABLE IF NOT EXISTS users(\n",
        "    id INTEGER PRIMARY KEY,\n",
        "    name CHAR(30),\n",
        "    email CHAR(256),\n",
        "    created_at TEXT DEFAULT CURRENT_TIMESTAMP\n",
        "    );\n",
        "CREATE INDEX IF NOT EXISTS idx_users_name_created_at ON users(name, created_at);\n",
        "\"\"\"\n",
        "con.executescript(sql_script)\n",
        "\n",
        "# 100件のレコードを作る\n",
        "con.executemany(\n",
        "    \"INSERT INTO users(name, email) VALUES(?, ?)\",\n",
        "    ((\"user\" + str(i), \"user\" + str(i) + \"@example.com\") for i in range(100))\n",
        ")\n",
        "\n",
        "# 名前が 'user98' のレコードを取り出してみる\n",
        "cur = con.execute(\"SELECT * FROM users WHERE name = 'user98'\")\n",
        "data = cur.fetchall()\n",
        "print(tabulate(data, [col for col, *_ in cur.description]), \"\\n\")\n",
        "user98_created_at = data[0][3]\n",
        "\n",
        "print(\"〈name を使った場合の実行計画〉\")\n",
        "plan = con.execute(\"EXPLAIN QUERY PLAN SELECT * FROM users WHERE name = 'user98'\")\n",
        "print(tabulate(plan.fetchall(), [col for col, *_ in plan.description]), \"\\n\")\n",
        "\n",
        "print(\"〈created_at を使った場合の実行計画〉\")\n",
        "plan = con.execute(\"EXPLAIN QUERY PLAN SELECT * FROM users WHERE created_at = ?\", (user98_created_at,))\n",
        "print(tabulate(plan.fetchall(), [col for col, *_ in plan.description]))\n",
        "con.close()"
      ],
      "metadata": {
        "colab": {
          "base_uri": "https://localhost:8080/"
        },
        "id": "m0rTTP4ShX91",
        "outputId": "8c664008-f7c8-4e80-fb57-309c344e8e0b"
      },
      "execution_count": 34,
      "outputs": [
        {
          "output_type": "stream",
          "name": "stdout",
          "text": [
            "  id  name    email               created_at\n",
            "----  ------  ------------------  -------------------\n",
            "  99  user98  user98@example.com  2025-09-30 07:52:57 \n",
            "\n",
            "〈name を使った場合の実行計画〉\n",
            "  id    parent    notused  detail\n",
            "----  --------  ---------  -----------------------------------------------------------\n",
            "   3         0          0  SEARCH users USING INDEX idx_users_name_created_at (name=?) \n",
            "\n",
            "〈created_at を使った場合の実行計画〉\n",
            "  id    parent    notused  detail\n",
            "----  --------  ---------  ----------\n",
            "   2         0          0  SCAN users\n"
          ]
        }
      ]
    },
    {
      "cell_type": "markdown",
      "source": [
        "実行計画の `'detail'` カラムに注目する。`'name'` を使用した `SELECT` 文ではインデックス `idx_users_name_created_at` が使われる。これに対して、 `'created_at'` を使用した `SELECT` 文ではテーブルスキャンが行われる。複合インデックスから 2 つ目以降のカラムのみを選んで検索に使うことはできないからである。"
      ],
      "metadata": {
        "id": "EpaPtocKjKTQ"
      }
    },
    {
      "cell_type": "markdown",
      "source": [
        "### SQLite 独自のコマンド"
      ],
      "metadata": {
        "id": "YaH1sNnIDZ6x"
      }
    },
    {
      "cell_type": "markdown",
      "source": [
        "``` sql\n",
        "VACUUM;\n",
        "```\n",
        "\n",
        "SQLite 独自の `VACUUM` コマンドは、データベースファイルを再構築する。データベースファイルからデータを削除しても、空のスペースが残る。`VACUUM` を実行してデータベースを再構築すると、この領域が再利用され、データベースファイルのサイズが削減される。\n",
        "\n",
        "INTEGER PRIMARY KEY が付いたカラムがないテーブルの場合、`VACUUM` コマンドの実行により、格納されているデータに割り当てられた ROWID が変更される可能性がある。\n",
        "\n",
        "`VACUUM` を実行しようとしているデータベース接続上に開始しているトランザクションがある場合、`VACUUM` は失敗する。\n",
        "\n",
        "以下のコードは、`VACUUM` コマンドを使用してデータベースファイルを最適化する例である。"
      ],
      "metadata": {
        "id": "MO3DaYixaMtF"
      }
    },
    {
      "cell_type": "code",
      "source": [
        "import sqlite3\n",
        "\n",
        "con = sqlite3.connect(\"database.db\")\n",
        "\n",
        "# VACUUMコマンド実行\n",
        "con.execute(\"VACUUM;\")\n",
        "\n",
        "con.commit()\n",
        "con.close()"
      ],
      "metadata": {
        "id": "_t_vPcrHaRv4"
      },
      "execution_count": 35,
      "outputs": []
    },
    {
      "cell_type": "markdown",
      "source": [
        "``` sql\n",
        "PRAGMA [pragma-name] [ = value ]\n",
        "```\n",
        "\n",
        "SQLite 独自の `PRAGMA` 文は、SQLite の動作を変更したり、SQLite に関する内部データを照会したりするために使用される。\n",
        "\n",
        "SQLite は論理値データ型をサポートしていないが、`PRAGMA` 文では、以下の 2 つがそれぞれ同じ論理値データとして扱われる。\n",
        "\n",
        "  * `1`, `yes`, `true`, `on`\n",
        "  * `0`, `no`, `false`, `off`"
      ],
      "metadata": {
        "id": "G_ugnSxu1l7b"
      }
    },
    {
      "cell_type": "code",
      "source": [
        "import sqlite3\n",
        "\n",
        "con = sqlite3.connect(\"database.db\")\n",
        "\n",
        "# FOREIGN KEY 制約の ON/OFF を確認\n",
        "res = con.execute(\"PRAGMA foreign_keys;\")\n",
        "assert res.fetchone() == (0,)  # デフォルトは OFF\n",
        "con.execute(\"PRAGMA foreign_keys = ON;\")\n",
        "res =con.execute(\"PRAGMA foreign_keys;\")\n",
        "assert res.fetchone() == (1,)  # ON に変更された"
      ],
      "metadata": {
        "id": "rUENdOoP1mfl"
      },
      "execution_count": 36,
      "outputs": []
    },
    {
      "cell_type": "markdown",
      "source": [
        "### ページ"
      ],
      "metadata": {
        "id": "RdHD3qSHT5ao"
      }
    },
    {
      "cell_type": "markdown",
      "source": [
        "**ページ**（page）とは、DBMS がデータを読み書きする際の単位となるバイト数のことである。このサイズは、DB のパフォーマンスに大きく影響する。\n",
        "\n",
        "  * **ページのサイズが大きい場合**: 1回の I/O 操作でより多くのデータを読み込めるが、メモリの使用量が増加する。また、ページ内の不要なデータまで読み込んでしまう I/O の無駄が発生する可能性がある。\n",
        "  * **ページのサイズが小さい場合**: I/O 操作の回数が増える可能性があるが、メモリの効率がよくなる。\n",
        "\n",
        "ランダムアクセスが多い場合には、1 ページに 1 レコードだけ保存されるような、小さいページサイズが有利になる。一方、シーケンシャルアクセス（連続した読み取り）が多い場合、複数のレコードを一度に読み込める、大きいページサイズが有利になる。\n",
        "\n",
        "SQlite では、デフォルトのページサイズが 4096 バイトとされる。`page_size` プラグマでページサイズの変更が可能であるが、**ページサイズは 512 から 65536 の範囲で、2 の累乗である必要がある**。\n",
        "\n",
        "``` sql\n",
        "PRAGMA page_size;\n",
        "PRAGMA page_size = bytes;\n",
        "```"
      ],
      "metadata": {
        "id": "19moD-zLT6NN"
      }
    },
    {
      "cell_type": "code",
      "source": [
        "import sqlite3\n",
        "con = sqlite3.connect(\"database.db\")\n",
        "res = con.execute(\"PRAGMA page_size;\")\n",
        "print(res.fetchone())"
      ],
      "metadata": {
        "colab": {
          "base_uri": "https://localhost:8080/"
        },
        "id": "CZ0CCkJe9uxn",
        "outputId": "b7f817d7-f492-4331-8e3b-f3d341cde935"
      },
      "execution_count": 37,
      "outputs": [
        {
          "output_type": "stream",
          "name": "stdout",
          "text": [
            "(4096,)\n"
          ]
        }
      ]
    },
    {
      "cell_type": "markdown",
      "source": [
        "### ジャーナル"
      ],
      "metadata": {
        "id": "EzcXhPfUVIqP"
      }
    },
    {
      "cell_type": "markdown",
      "source": [
        "**ジャーナル**とは、トランザクションの安全性を確保するために記録されるロールバック用の情報のことである。主に次の 2 種類がある。\n",
        "\n",
        "| ジャーナルの種類 | 説明 |\n",
        "|:---|:---|\n",
        "| ロールバックジャーナル | 変更前のデータを別のジャーナルファイルに書き込み、変更を DB ファイルに直接書き込む。クラッシュ時または ROLLBACK 時は、<br />ジャーナルから DB ファイルが復旧される。COMMIT 時にジャーナルが破棄される |\n",
        "| WAL (Write-Ahead Logging) | 変更は DB ファイルに直接書き込まず、新たに WAL ファイルに追記する。これが COMMIT の動作となる。変更が WAL にコミットさ<br />れている間も、読み取り側はもとの変更されていない DB から操作を続行できる。1 つの WAL ファイルの末尾に複数のトランザク<br />ションを追加できる。DB 接続を閉じる時に、WAL ファイルの内容を DB ファイルに反映する |\n",
        "\n",
        "WAL は読み取りと書き込みを同時に実行でき、ディスク I/O 操作が大幅に高速化される。\n",
        "\n",
        "ただし、SQLite では、WAL に以下の制限がある。\n",
        "\n",
        "  * DB を使用するすべてのプロセスは、同じホストコンピュータ上にある必要がある。\n",
        "  * ページサイズを変更できない。\n",
        "  * 非常に大規模なトランザクションではうまく機能しない。約 100 メガバイトを超えるトランザクションの場合、ロールバックジャーナルモードの方が高速になる可能性がある。1 ギガバイトを超えるトランザクションの場合、I/O エラーなどで失敗する可能性がある。\n",
        "\n",
        "SQLite では、`journal_mode` プラグマで、ジャーナルの種類や管理の方式をジャーナルモードとして参照または設定する。\n",
        "\n",
        "``` sql\n",
        "PRAGMA journal_mode;\n",
        "PRAGMA journal_mode = DELETE | TRUNCATE | PERSIST | MEMORY | WAL | OFF;\n",
        "```\n",
        "\n",
        "| `journal_mode` | ジャーナルの種類 | 動作 |\n",
        "|:---|:---|:---|\n",
        "| `DELETE` | ロールバックジャーナル | トランザクション終了時にジャーナルファイルを削除。デフォルトのモード |\n",
        "| `TRUNCATE` | ロールバックジャーナル | 削除の代わりにファイルサイズを 0 に切り詰める。削除より速い場合がある |\n",
        "| `PERSIST` | ロールバックジャーナル | ファイルは削除せず、先頭を 0 で上書きして無効化。削除や切り詰めより安価な環境で有効 |\n",
        "| `MEMORY` | ロールバックジャーナル | ジャーナルをメモリ上に保持。速いがクラッシュに弱い |\n",
        "| `WAL` | WAL(Write-Ahead Logging) | ロールバックジャーナルの代わりに WAL を使用 |\n",
        "| `OFF` | なし | ジャーナルを使用しない。速いが障害時にデータ破損の危険が極めて高い |"
      ],
      "metadata": {
        "id": "7MY5Q519VJSm"
      }
    },
    {
      "cell_type": "code",
      "source": [
        "import sqlite3\n",
        "con = sqlite3.connect(\"database.db\")\n",
        "res = con.execute(\"PRAGMA journal_mode;\")\n",
        "print(res.fetchone())"
      ],
      "metadata": {
        "colab": {
          "base_uri": "https://localhost:8080/"
        },
        "id": "8FxlzWUQa8xg",
        "outputId": "663eef63-af5b-404e-c967-06a4553fa1f8"
      },
      "execution_count": 38,
      "outputs": [
        {
          "output_type": "stream",
          "name": "stdout",
          "text": [
            "('delete',)\n"
          ]
        }
      ]
    },
    {
      "cell_type": "markdown",
      "source": [
        "`PRAGMA journal_mode = WAL;` は 永続的な設定で、一度設定すれば DB を閉じ再開しても WAL モードが保持される（他のジャーナルモードではこうならない）。同じ DB ファイルに対する他の接続にも WAL モードが引き継がれる。\n",
        "\n",
        "SQLite では、WAL に書き込まれた変更をもとの DB ファイルに戻す操作を「チェックポイント」と呼ぶ。WAL ファイルが 1000 ページを超えると自動でチェックポイントが実行される。\n",
        "\n",
        "WAL を `synchronous` プラグマと組み合わせることで、整合性を保ちながらパフォーマンスを向上させることができる。\n",
        "\n",
        "``` sql\n",
        "PRAGMA synchronous;\n",
        "PRAGMA synchronous = 0 | OFF | 1 | NORMAL | 2 | FULL | 3 | EXTRA;\n",
        "```\n",
        "\n",
        "`synchronous` プラグマは、ディスク同期、すなわち DB の変更が物理的にディスクに確実に書き込まれるまで待機するかどうかを制御する。\n",
        "\n",
        "| `synchronous` | 説明 |\n",
        "|:---|:---|\n",
        "| `0`, `OFF` | ディスク同期を行わない。高速だがクラッシュ時にデータ損失の可能性がある |\n",
        "| `1`, `NORMAL` | チェックポイントにだけ同期を行う。WAL と組み合わせると読み取りと書き込みの速度バランス良好 |\n",
        "| `2`, `FULL` | デフォルト。全てのコミットで同期を行う。安全だが、パフォーマンスは低下する |\n",
        "| `3`, `EXTRA` | `FULL` に加え、`DELETE` モードでロールバックジャーナルを削除するディレクトリも同期する |\n",
        "\n",
        "``` python\n",
        "import sqlite3\n",
        "con = sqlite3.connect(\"database.db\")\n",
        "con.execute(\"CREATE TABLE IF NOT EXISTS t1 (col1 TEXT, col2 TEXT);\")\n",
        "con.execute(\"PRAGMA journal_mode = WAL;\")\n",
        "con.execute(\"PRAGMA synchronous = NORMAL;\")\n",
        "```"
      ],
      "metadata": {
        "id": "PMie7kKQf4Zw"
      }
    },
    {
      "cell_type": "markdown",
      "source": [
        "### 適合関数と変換関数"
      ],
      "metadata": {
        "id": "P6tGYOYzaspG"
      }
    },
    {
      "cell_type": "markdown",
      "source": [
        "`sqlite3` モジュールで適合関数と変換関数は、Python の型と SQLite の型を相互変換する仕組みである。\n",
        "\n",
        "  * 適合関数（adapter）\n",
        "      * 方向：Python → SQLite  \n",
        "      引数として Python オブジェクトを受け付け、SQLite に保存できる形式（文字列・数値・バイト列など）を返す。\n",
        "      * 登録方法: `sqlite3.register_adapter(type, adapter, /)`\n",
        "  * 変換関数（converter）\n",
        "      * 方向：SQLite → Python  \n",
        "      引数として SQLite から取得したバイト列を受け付け、Python オブジェクトを返す。\n",
        "      * 登録方法: `sqlite3.register_converter(typename, converter, /)`\n",
        "\n",
        "変換関数には、基になる SQLite データ型に関係なく、常にバイト列で渡されることに注意する。\n",
        "\n",
        "適合関数は、登録により直ちに `execute()` と `executemany()` メソッドでプレースホルダーへのパラメータの結び付けに適用される。\n",
        "\n",
        "変換関数は、登録だけでは適用されない。Python の型を `sqlite3` に伝える方法として、テーブル定義時にカラム定義の中で Python の型を直接使ってテータ取得時には暗黙的に変換されるようにするのか（暗黙的アプローチ）、`SELECT` 文の `AS` 句で指定するカラムの別名の中に `[Python 型名]` を明示して変換されるようにするのか（明示的アプローチ）、あるいは両方であるのかを指定する必要がある。これは、`sqlite3.connect()` コンストラクタの `detect_types` 引数を使用して、DB に接続する際に行う。\n",
        "\n",
        "  * 暗黙的: `detect_types=sqlite3.PARSE_DECLTYPES` と設定。\n",
        "  * 明示的: `detect_types=sqlite3.PARSE_COLNAMES` と設定。カラム別名の中に `[Python 型名]` を明示する場合、裸で書くと構文エラーとなるので引用符で別名を囲う必要がある。\n",
        "  * 両方: `detect_types=sqlite3.PARSE_DECLTYPES | sqlite3.PARSE_COLNAMES` と設定。カラム別名での指定は、カラム定義時の型よりも優先される。\n",
        "\n",
        "次のコードは、`datetime.datetime` オブジェクトと SQLite の値の相互変換を行う例である。暗黙的アプローチと明示的アプローチの両方を採用している。"
      ],
      "metadata": {
        "id": "V6xNNZdAatWx"
      }
    },
    {
      "cell_type": "code",
      "source": [
        "import sqlite3\n",
        "from datetime import datetime\n",
        "from tabulate import tabulate\n",
        "\n",
        "def adapt_datetime(val):\n",
        "    return val.replace(tzinfo=None).isoformat()\n",
        "\n",
        "sqlite3.register_adapter(datetime, adapt_datetime)\n",
        "\n",
        "def convert_datetime(val):\n",
        "    return datetime.fromisoformat(val.decode())\n",
        "\n",
        "sqlite3.register_converter(\"datetime\", convert_datetime)\n",
        "\n",
        "con = sqlite3.connect(\":memory:\", detect_types=sqlite3.PARSE_DECLTYPES | sqlite3.PARSE_COLNAMES)\n",
        "sql_script = \"\"\"\n",
        "CREATE TABLE IF NOT EXISTS blog(\n",
        "  id INTEGER PRIMARY KEY,\n",
        "  title TEXT,\n",
        "  created_at datetime,  -- 暗黙的アプローチ\n",
        "  updated_at TEXT);\n",
        "\"\"\"\n",
        "con.executescript(sql_script)\n",
        "\n",
        "con.execute(\"INSERT INTO blog VALUES (?, ?, ?, ?)\", (0, \"First article\", datetime(2024, 1, 1, 9, 30), None))\n",
        "con.execute(\"INSERT INTO blog VALUES (?, ?, ?, ?)\", (1, \"Second article\", datetime(2024, 2, 3, 14, 0), None))\n",
        "con.execute(\"UPDATE blog SET updated_at = ? WHERE id = ?\", (datetime(2024, 3, 5, 18, 0), 1))\n",
        "\n",
        "cur = con.execute(\"SELECT title, created_at, updated_at AS 'updated[datetime]' FROM blog\")  # updated_atは明示的アプローチ\n",
        "data = cur.fetchall()\n",
        "print(tabulate(data, [col for col, *_ in cur.description]))\n",
        "assert isinstance(data[0][1], datetime)\n",
        "assert isinstance(data[1][2], datetime)\n",
        "con.close()"
      ],
      "metadata": {
        "colab": {
          "base_uri": "https://localhost:8080/"
        },
        "id": "SBsLvpHwDeA_",
        "outputId": "c6f650f4-5f45-434d-ff1c-99ae8ccd908d"
      },
      "execution_count": 39,
      "outputs": [
        {
          "output_type": "stream",
          "name": "stdout",
          "text": [
            "title           created_at           updated\n",
            "--------------  -------------------  -------------------\n",
            "First article   2024-01-01 09:30:00\n",
            "Second article  2024-02-03 14:00:00  2024-03-05 18:00:00\n"
          ]
        }
      ]
    },
    {
      "cell_type": "markdown",
      "source": [
        "### UUID"
      ],
      "metadata": {
        "id": "1SYJ4PpG7vQR"
      }
    },
    {
      "cell_type": "markdown",
      "source": [
        "DB を使用する Web アプリケーションでは、URL のクエリ文字列でレコードの ID が指定された場合に、DB から特定のレコードを抽出しクライアントへのレスポンスを生成するということが行われる。この場合、URL の中でレコードの ID が公開されるため、連番の ID を使うと以下のような弊害がある。\n",
        "\n",
        "  * ID が容易に推測され、不正アクセスに利用される可能性がある\n",
        "  * 一定期間の ID の増分を調べることでサイト全体の利用状況がわかる\n",
        "\n",
        "そこで、ランダムな値が ID に使用されることがある。ランダムな値が衝突する可能性（＝同じ値が同時に存在する可能性）を低くするには、値が取りうる範囲を広くする（＝ビット幅を大きくする）必要がある。\n",
        "\n",
        "SQLite には `RANDOMBLOB()` という SQLite 独自の関数が用意されている。 `RANDOMBLOB(N)` で `N` バイト数分の `BLOB` 型の乱数を生成し、その値を `HEX()` 関数に渡して 16 進数文字列を得ることができる。"
      ],
      "metadata": {
        "id": "uCtyaRIAwi83"
      }
    },
    {
      "cell_type": "code",
      "source": [
        "import sqlite3\n",
        "con = sqlite3.connect(\":memory:\")\n",
        "cur = con.execute(\"SELECT HEX(RANDOMBLOB(16))\")  # SELECT 文で [FROM テーブル名] を省略すると関数の結果を取得する\n",
        "print(cur.fetchone()[0])  # 128(16×8)桁の16進数文字列\n",
        "con.close()"
      ],
      "metadata": {
        "colab": {
          "base_uri": "https://localhost:8080/"
        },
        "id": "XGf0cd5qwkew",
        "outputId": "9e5e1a9f-1e49-4994-d202-232dd5d11aae"
      },
      "execution_count": 40,
      "outputs": [
        {
          "output_type": "stream",
          "name": "stdout",
          "text": [
            "B952B067D08302DE6AB7EF87AFD821B3\n"
          ]
        }
      ]
    },
    {
      "cell_type": "markdown",
      "source": [
        "衝突する可能性が極めて低いランダムな値については、**UUID**（Universally Unique Identifier）という標準規格が存在する。UUID は、世界中で重複しない ID とされる値であり、標準化団体 [IETF](https://ja.wikipedia.org/wiki/Internet_Engineering_Task_Force) が制定した RFC 4122 と RFC 9562 で規格化され、異なる生成方法によりバージョンが定められている。\n",
        "\n",
        "UUID の各バージョンで共通する特徴は、以下の通り。\n",
        "\n",
        "  * 128 ビットの数値。\n",
        "  * 49 ビット目からの 4 ビットはバージョンを示す数値に割り当てられる。\n",
        "  * 65 ビット目からの 4 ビットはバージョン内の変種（バリアント）を示す数値に割り当てられる。\n",
        "  * xxxxxxxx-xxxx-**V**xxx-**R**xxx-xxxxxxxxxxxx の形式で、ハイフンで区切られた 32 桁の 16 進数文字列の表現が仕様で定められている。**V** の位置にはバージョンを示す文字が入り、**R**の位置にはバリアントを示す文字が入る。\n",
        "\n",
        "UUID バージョン 4（UUIDv4）は、完全に乱数のみによって生成され、安全であるとされる。\n",
        "\n",
        "UUID バージョン 7（UUIDv7）も乱数によって生成されるが、先頭 48 ビットがミリ秒単位の UNIX 時間を表す数値に割り当てられ、時間順でソートできる点が UUIDv4 と異なる。\n",
        "\n",
        "Python 標準ライブラリの `uuid` モジュールは、UUID を扱う機能を提供する。\n",
        "\n",
        "`uuid.UUID` は、UUID を扱うためのクラスである。コンストラクタは次のとおり。\n",
        "\n",
        "``` python\n",
        "uuid.UUID(hex=None, bytes=None, bytes_le=None, fields=None, int=None, version=None, *, is_safe=SafeUUID.unknown)\n",
        "```\n",
        "\n",
        "既存の 32 桁の 16 進数文字列などから `uuid.UUID` インスタンスを生成して返す。`hex`, `bytes`, `bytes_le`, `fields`, `int` 引数は入力の形式に対応し、いずれか 1 つだけ設定できる。\n",
        "\n",
        "| 引数 | 意味 | 例 |\n",
        "|:---|:---|:---|\n",
        "| `hex` | 32 桁の 16 進数文字列。ハイフンを入れてもよい | `UUID('12345678123456781234567812345678')` |\n",
        "| `bytes` | 16 バイトのバイト列（バイトオーダーがビッグエンディアン） | `UUID(bytes=b'\\x12\\x34\\x56\\x78'*4)` |\n",
        "| `bytes_le` | 16 バイトのバイト列（バイトオーダーがリトルエンディアン） | `UUID(bytes_le=b'\\x78\\x56\\x34\\x12\\x34\\x12\\x78\\x56'`<br />&ensp;&ensp;&ensp;&ensp;&ensp;`+ b'\\x12\\x34\\x56\\x78\\x12\\x34\\x56\\x78')` |\n",
        "| `fields` | 6 つの整数のタプル（32ビット, 16 ビット, 16ビット, 8ビット,<br /> 8ビット, 48ビット）| `UUID(fields=(0x12345678, 0x1234, 0x5678, 0x12, 0x34, 0x567812345678))` |\n",
        "| `int` | 128 ビット整数 | `UUID(int=0x12345678123456781234567812345678)` |\n",
        "\n",
        "`uuid.UUID` オブジェクトの主な属性は、次のとおり。\n",
        "\n",
        "| 属性 | 意味 |\n",
        "|:---|:---|\n",
        "| `hex` | 32 桁の 16 進数文字列の UUID |\n",
        "| `bytes` | 16 バイトのバイト列（バイトオーダーがビッグエンディアン）の UUID |\n",
        "| `bytes_le` | 16 バイトのバイト列（バイトオーダーがリトルエンディアン）の UUID |\n",
        "| `fields` | 6 つの整数のタプル（32ビット, 16 ビット, 16ビット, 8ビット,<br /> 8ビット, 48ビット）の UUID |\n",
        "| `int` | 128 ビット整数での UUID |\n",
        "\n",
        "`str(uuid)` は、 xxxxxxxx-xxxx-**V**xxx-**R**xxx-xxxxxxxxxxxx 形式の文字列を返す。\n",
        "\n",
        "``` python\n",
        "uuid.uuid4()\n",
        "```\n",
        "\n",
        "この関数は、UUIDv4 に依拠した `uuid.UUID` オブジェクトを生成して返す。\n",
        "\n",
        "UUIDv7 用の生成関数はまだ提供されていない。Python 3.14 で `uuid.uuid7()` 関数が提供される予定である。\n",
        "\n",
        "SQLite には UUID 用のデータ型はない。 16 バイトのバイト列形式が最も空間効率が良いので、これを BLOB affinity で格納するとよい。カラムには UNIQUE 制約を付けておく。そして、`sqlite3` モジュールの機能で適合関数と変換関数を登録して、`uuid.UUID` と `bytes` の間を相互変換できるようにする。\n",
        "\n",
        "以下のコードは、 UUIDv4 を使用する例である。"
      ],
      "metadata": {
        "id": "tZm7BQP27wJ_"
      }
    },
    {
      "cell_type": "code",
      "source": [
        "import sqlite3\n",
        "import uuid\n",
        "from tabulate import tabulate\n",
        "\n",
        "def adapt_uuid(val):\n",
        "    return val.bytes\n",
        "\n",
        "sqlite3.register_adapter(uuid.UUID, adapt_uuid)\n",
        "\n",
        "def convert_uuid(val):\n",
        "    return uuid.UUID(bytes=val)\n",
        "\n",
        "sqlite3.register_converter(\"uuid\", convert_uuid)\n",
        "\n",
        "def main():\n",
        "    con = sqlite3.connect(\":memory:\", detect_types=sqlite3.PARSE_COLNAMES)\n",
        "    sql_script = \"\"\"\n",
        "    CREATE TABLE IF NOT EXISTS customers(\n",
        "      id INTEGER PRIMARY KEY,\n",
        "      name TEXT,\n",
        "      uuid BLOB UNIQUE\n",
        "    );\n",
        "    \"\"\"\n",
        "    cur = con.executescript(sql_script).execute(\n",
        "        \"INSERT INTO customers(name, uuid) VALUES(?, ?)\",\n",
        "        (\"山田太郎\", uuid.uuid4()),\n",
        "    )\n",
        "    res = cur.execute(\"SELECT id, name, uuid AS 'uuid[uuid]' FROM customers\")\n",
        "    data = res.fetchall()\n",
        "    print(tabulate(data, [col for col, *_ in res.description]))\n",
        "    assert isinstance(data[0][2], uuid.UUID)\n",
        "    con.close()\n",
        "\n",
        "if __name__ == \"__main__\":\n",
        "    main()"
      ],
      "metadata": {
        "colab": {
          "base_uri": "https://localhost:8080/"
        },
        "id": "n0ylXyJsaK4i",
        "outputId": "cfe99373-8216-4faf-f942-1bd898ad6472"
      },
      "execution_count": 41,
      "outputs": [
        {
          "output_type": "stream",
          "name": "stdout",
          "text": [
            "  id  name      uuid\n",
            "----  --------  ------------------------------------\n",
            "   1  山田太郎  5ae4a3e2-8e3a-46b8-abc7-82435f7ea460\n"
          ]
        }
      ]
    },
    {
      "cell_type": "markdown",
      "source": [
        "上記のコードでは、 `id INTEGER PRIMARY KEY` というカラムも定義している。 `id` カラムは連番となるので時系列ソートが可能である。このテーブルでは、ローカルなレコードの処理に `id` カラムを使用し、公開する ID に UUID を使用することができる。\n",
        "\n",
        "主キーによる時系列ソートが必要でなく、かつ、将来テーブルを結合することに備えて複数のテーブルにわたり ID を全て異なるものにしたい場合には、主キーに UUIDv4 を使用することも考えられる。ただし、主キーに UUIDv4 を使用すると、単調増加の整数値を使用する場合より比較やインデックス化にコストがかかるので、パフォーマンスが低下する可能性がある。"
      ],
      "metadata": {
        "id": "q50HLFVnhL6p"
      }
    },
    {
      "cell_type": "markdown",
      "source": [
        "DB 設計\n",
        "-------"
      ],
      "metadata": {
        "id": "6MGN3J0iBCKs"
      }
    },
    {
      "cell_type": "markdown",
      "source": [
        "### 実体"
      ],
      "metadata": {
        "id": "pT1gotNJt5BV"
      }
    },
    {
      "cell_type": "markdown",
      "source": [
        "DB 設計は、まずビジネスの要求を分析することから始まる。対象とする事象やその中に存在するルールをよく調べて、業務上意味を持つ「もの」や「出来事」を抽出する。DB 設計でそれらは**実体**または**エンティティ**（entity）と呼ばれる。また、DB 設計で実体を特徴づける性質は**属性**（attribute）と呼ばれる。実体は必ず 1 つ以上の属性を持つ。\n",
        "\n",
        "テーブルは「属性値の組み合わせを持った実体の集合」を表現し、テーブルのカラムはその属性を表現すると考える。数学の世界では、いくつかの要素の組み合わせで絞り込まれる集合を**関係**（relation）と呼ぶ（厳密には、集合 $X_1,\\ldots,X_k$ の直積の部分集合 $L\\subseteq X_1\\times\\cdots\\times X_k$）。数学の言葉を使えば、テーブルは「関係を表現する形式」である。このため、テーブルを使用する DB は**関係データベース**（Relational Database; RDB）と呼ばれる。\n",
        "\n",
        "属性値の組み合わせを持った個々の実体は**インスタンス**（instance）と呼ばれる。属性値の組み合わせ全体でインスタンスを特定できるのであるが、実際にはもっと小さい属性値の組み合わせ、あるいは 1 個の属性だけでインスタンスを特定できることが多い。インスタンスを一意に識別できる、最小の属性の組み合わせや 1 個の属性で、管理上最適と考えられるものを**主キー**と呼ぶ。実体には必ず 1 つの主キーが決められる。\n",
        "\n",
        "実体を定義する属性や主キーには、いくつかのアンチパターンが存在する。\n",
        "\n",
        "  * **ダブルミーニング**:  \n",
        "ダブルミーニングは、1 つの属性に複数の意味を持たせること。例えば、他の属性に合わせて値の意味が変わる属性（会員だと入会日、スタッフだと入社日とするなど）、汎用的・抽象的な名前の属性。このような属性では、データの意味が不明瞭となる。また、データの取得やフィルタリング時に意味を判別するための追加の条件が必要となってクエリが複雑化する。\n",
        "  * **計算される属性**:  \n",
        "実体の属性は、取得された値をそのまま保持するものとすべきである。「合計」や「年齢」のような計算の要素が入る属性は、データを更新する手間が増える。\n",
        "  * **意味を含んだ ID**:  \n",
        "ID は特別な意味を持たせるフォーマットをとるべきではない。例えば、9 から始まる ID は管理者、1 から始まる ID はユーザーとするフォーマット。インスタンスの地位が変更すると ID も変更しなければならない。また、フォーマットを変更する必要がある場合、既存の ID のフォーマットとの整合性をとるのが難しくなる。UUID のような標準化されたフォーマットであれば OK。\n",
        "  * **NULL を持つ主キー**:  \n",
        "NULL 値をとりうる属性を主キーとしてはならない。NULL 値は NULL 値とも他の値とも比較が常に NULL 値を返すので、主キーが NULL 値となるインスタンスは特定できない。\n",
        "\n",
        "実体、主キー、属性という DB 設計上の概念を整理できたら、それらを論理的なデータ構造に落とし込む。この作業は次のようになる。\n",
        "\n",
        "  * 実体集合の名前（英語であれば複数形） → テーブル名\n",
        "  * 実体集合の主キー → テーブルの主キー\n",
        "  * 実体の属性 → テーブルのカラム\n",
        "\n",
        "このように機械的に変換されたデータ構造では、しばしばデータの重複や無意味なデータがあって（**データの冗長性**）、これをそのまま RDBMS のテーブルとして実装し保存するとストレージが無駄になる。また、構造上の問題があって、データを更新しようとするときに不都合な状態が発生する（**データの不整合**）。データに冗長性も矛盾もないデータ構造を定義する作業が必要で、この作業を**正規化**（normalization）といい、正規化されたデータ構造の形を**正規形**（normal form）という。\n",
        "\n",
        "正規形はいくつかのレベルに分類されている。高いレベルになるほど、データの冗長性とデータの不整合が減るようになっている。"
      ],
      "metadata": {
        "id": "Qm0Orj3Nt5nX"
      }
    },
    {
      "cell_type": "markdown",
      "source": [
        "### 第 1 正規化"
      ],
      "metadata": {
        "id": "i48aByVn5ukM"
      }
    },
    {
      "cell_type": "markdown",
      "source": [
        "「属性値は単一の値でなければならない」という条件を満たすことを**第 1 正規化**という。テーブルは「属性値の組み合わせを持った実体の集合」であるから、属性値が単一の値であることは自然な要求である。\n",
        "\n",
        "1 つのセルの中に、'/' で区切られたデータ（**繰り返し属性**と呼ばれる）や、JSON オブジェクトを格納する方式はアンチパターンとされ、「ジェイウォーク（信号機無視）」と呼ばれる。SQL の構文上、このようなセルの中の一部の値を取得、更新することは困難である。\n",
        "\n",
        "繰り返し属性を分解する場合、列方向にデータ構造を拡張するか、行方向にデータ構造を拡張するかのどちらかとなる。\n",
        "\n",
        "列方向にデータ構造を拡張する場合、属性値の個数に上限が決まっていないと多めのカラムを用意する必要があり、テーブルが巨大化し、NULL 値が多くなる可能性がある。\n",
        "\n",
        "一方、RDBMS では、行方向の拡張は簡単である。そこで、一般には行方向の拡張を選択する。\n",
        "\n",
        "正規化の例として、以下のようなデータを保持している大学で、授業管理システムを構築するシナリオを考える。\n",
        "\n",
        "  * 学生番号\n",
        "  * 学生名\n",
        "  * メールアドレス\n",
        "  * 履修科目ID\n",
        "  * 履修科目名\n",
        "  * 履修科目担当教員名\n",
        "  * 履修科目担当教員所属\n",
        "\n",
        "この大学では、次のルールがある。\n",
        "\n",
        "  * 1 人の学生は、1 つのメールアドレスだけを届け出る。\n",
        "  * 1 人の学生は、複数の科目を履修できる。\n",
        "  * 1 つの科目を担当するのは、1 人の教員だけである。\n",
        "  * 1 人の教員は、複数の科目を担当できる。\n",
        "  * 1 人の教員は、1 つの学科に所属する。\n",
        "\n",
        "何を実体として何を属性と見なすかは、要求されるシステムによって異なり、迷うことがある。ここではざっくりと「履修」を実体と考え、上記の項目を属性とし、学生番号を主キーとする。機械的にデータ構造に落とし込むと、次のようになる。\n",
        "\n",
        "![](https://www.plantuml.com/plantuml/png/hPBBojf068RtkOeF_cteduWh3oBKZMklO5hJ6Cn1uWYrdO9aa6eFnQAbI4khHTjYgpGWj8hYnKmcqPMtq36fkox_tVE5ztrv85DiOkJYbcLAkIPkcrf1SXq7mrC9m4AkRjWPKBBYQA1grR3r-7ecOGERMXnwvDYuOZpHCg2cizVxCfG1st4jP5xYkTj_syswOJUGYwph7gIJBIbtOnfw3JymMvfyexkeNI1vllmQZJwNIrVYWzSap-YKqHsZFvZtXT4-ep-Pjn49VnuSLj6tjz67rNdNIw1SaY4XKPKXVDdb-s7uRio7q-H3Z66_m_rFvrsVIAIYA2e9zeFZ-ncVBKxq3S78TOhQOsGrJEtUGySYzrL5bO7HvnSDxy3eE8QD3Dptez6lu4z7zCGuxVA9pt_FXRoGW5iGpPGCmZksNpEwODwMqOaCfzuw_FWzsBxwNpFHIf4aT7pXy-M0r92DwdSYHYJDhaBo5ue2nLlu2m00)\n",
        "\n",
        "最後の列では、1 人の学生が履修した複数の科目を格納する繰り返し属性になっている。この繰り返し属性を分解して行を挿入すると、`学生ID`、`学生名`、`メールアドレス` のセルが空白となるので、もとの行から値をコピーする。\n",
        "\n",
        "![](https://www.plantuml.com/plantuml/png/hP7Dgjf068RtkOe1jw5Dn9K_8jIDQwzWMjCOd2GIHwZj52I3LFjJB5gAjBHQj2ssIWD2goXUp6GINNaBdIHrUU0ipkxvXlTxU3-crCBGmMqJIVaMxY2jA3csZS4p2G0JEhfXPO6I4qCJrcg6fSVJSmaR66bnwB5juQhnLCi2DPExpf4e2opRCI6Auldx_zsjXc4reGFDgmza4fUKJo53h-E7gAt9ATs1dI8fyDMtSFobKhuI7xuX1KPdZEuP_SdShumE6Ft5tAr8U0l_k0w_lmi_hY_xVWALiWmI4gio25xr-64Kl9_mqInvY34OTBdt-R8V48bK5KKb_c5u-Z3dy-MPlYKOEdP9UmBD9jBkFR9Dya1LL1am-YAguHuPdSImbG7tl73ys__R5Nj2Jdjywl4_2r5UbBYrF2s3wBJem0sZI-Rk69tAuDpV19z--BlNDylJ90cTNdfyDIHrQC767NNNh1f8Fgeai6sYVm00)\n",
        "\n",
        "繰り返し属性を行方向で分解する場合、主キーがコピーされて一意性が失われるので、別の主キーを見つける必要がある。このテーブルでは `{学生ID, 科目ID}` の組み合わせを主キーにできるので、履修科目にまとめられている情報を個別の属性として扱うようにする。こうしてできた第 1 正規形は、次のようになる。\n",
        "\n",
        "![](https://www.plantuml.com/plantuml/png/hP7FIW917CVl-nG3NgDKFFb7XBfqzWcctDR5sLrPHyYQG7QGiZ-XQ8GKfM4Pbj62K4hImuopgs-Hiwl7e4EtxtVup6T-FoPLmD34HGr9yG8k8JafcOQ1mQ44W0PDHTMZ81XRb3pCP5HTyTgHX5MCP0_QCtISLW_aA0X5OgikH56W6wO6aS3Z6qjt8QVgUMX2RUK34TybnGD8LR9u1nNbjO1YmbAI9FZWoMtURs-j4gzTa0IZ7KQ_67rXrWEZLKPVcJKY2RTNTs_U1EidZtNEAdpISAvQlD7n3lpeLClSlYCIIGU38JATr6RNNTxjp-abmT0qKl8-rF98NjyrDB8PMY2C7eithMz6MruO4MxRRlDz-baMjnnQuMsRVpoAENlrFvl3H2mXLXaoscVMcD4scPyCdTldwVZyLtDuoSnERJweaIpKOUu_ffRr3F1_8xM8HGtz0000)"
      ],
      "metadata": {
        "id": "FMJu_x9Z5vIQ"
      }
    },
    {
      "cell_type": "markdown",
      "source": [
        "### 第 2 正規化"
      ],
      "metadata": {
        "id": "qoFqqru-X0ic"
      }
    },
    {
      "cell_type": "markdown",
      "source": [
        "「第 1 正規形を満たし、かつ、主キーの一部の属性にのみ依存する部分関数従属がないこと」を**第 2 正規化**という。\n",
        "\n",
        "属性 `X` に 属性 `Y` が**関数従属**するとは、`X` の値が決まれば `Y` の値が一意に決まることをいい、`X → Y` で表す。\n",
        "\n",
        "主キーが複数の属性の組み合わせ（複合主キー）である場合に、その一部にのみ従属する、主キー以外の属性が存在することを**部分関数従属**という。\n",
        "\n",
        "大学の授業管理システムのシナリオで、第 1 正規形には明らかに `学生ID → 学生名` という関数従属があり、`学生名` は複合主キー `{学生ID, 科目ID}` の一部の属性にのみ依存する部分関数従属になっている。\n",
        "\n",
        "部分関数従属が存在する場合、以下のようなデータの冗長性、データの不整合が生じる。\n",
        "\n",
        "  * `学生名` と `メールアドレス` という属性の値が複数の履修データで重複する。（**冗長性**）\n",
        "  * 学生のメールアドレスが変更されると、重複する履修データの `メールアドレス` を全て変更する必要がある。（**修正不整合**）\n",
        "  * 学生からメールアドレスの届出があっても、科目の具体的な履修がなければ、その情報を挿入できない（主キーに含まれる `科目ID` の属性が NULL のデータを挿入することは許されないため）。（**挿入不整合**）\n",
        "  * ある科目の履修データが全てなくなった時、その科目をどの教員が担当したのか、という情報も一緒に失われてしまう。（**削除不整合**）\n",
        "\n",
        "部分関数従属を解消するには、主キーの一部と、それに部分関数従属する属性と関連する属性をまとめて新しいテーブルに分割する必要がある。テーブルを分割しても、SQL 文で内部結合して、分割前のテーブルを得ることができるのであれば問題がない。このような分割を**情報無損失分解**という。分割前のテーブルを得ることができないような間違った分割は**情報損失分解**という。\n",
        "\n",
        "大学の授業管理システムのシナリオでは、`学生ID` と `学生名` と `メールアドレス` を新しいテーブルに分割することにした。この時、重複する行は削除する。もとのテーブルには、`学生ID` を残しておく。そうしないと、2 つのテーブルを内部結合できなくなる。こうしてできた第 2 正規形は、次のようになる。\n",
        "\n",
        "![](https://www.plantuml.com/plantuml/png/dL7RQXf16BwVfnZmjhGgNdaGeRtfjKymhTjrSNPNrX5gEmNPmRRsK2pQ5cb8D6WID4eMX4I9-32piwjlaJsu90HoaTmitxzy_tVufr0Zo21r5ODiZJImb0U6hXFu4K2e8aDMj3ICPxoXYaebHPE3wHCW2i5IG7gdQwIeV93IC97AHBClb8QQRgW8-_JiYxrshQ9eLMGWDTA3gL0BYDc9splYx3DdrvpzvMmAiZ6io6No1jUbPp7PG8qypOMqrwyY93e_QOwpOR0rvUOnPstEphcvf80Mu_44jTUTxR-H64rsx1Vrkke5wJrIgrXw_bPNGrAIxhukd8EpxJTBp3gqZ3HKkKS3mXhRc_aZyhcdlzt_yriK97M-jyIww_pfY-um-152fzqKrc6K-6N2-t3snNSoDvpr0x2amhBSteLzrVIREAmb1fQu77kEdi6TtIGDpk0TOy7PX9ihpWRxWlRgnuExoIVwIbe9XazOy61TnJS0)"
      ],
      "metadata": {
        "id": "iaZVDpYKX1K9"
      }
    },
    {
      "cell_type": "markdown",
      "source": [
        "### 第 3 正規化"
      ],
      "metadata": {
        "id": "ab9IHGRB4cyj"
      }
    },
    {
      "cell_type": "markdown",
      "source": [
        "「第 2 正規形を満たし、かつ、主キー以外の属性に依存する推移的関数従属がないこと」を**第 3 正規化**という。\n",
        "\n",
        "**推移的関数従属**とは、主キー以外の属性が、他の主キー以外の属性に関数従属することをいう。例えば、主キー `X`、 主キーではない属性 `Y` と `Z` があり、`Y → Z` という関数従属があるとき、`X → Y → Z` という推移的関数従属があることになる。\n",
        "\n",
        "大学の授業管理システムのシナリオでは、教員が所属する学科は 1 つであるから、第 2 正規形には `担当教員名 → 教員所属` という関数従属があり、`担当教員名` も `教員所属` も主キー以外の属性であるため、`科目ID → 担当教員名 → 教員所属` という推移的関数従属が存在している。\n",
        "\n",
        "推移的関数従属が存在する場合、以下のようなデータの冗長性、データの不整合が生じる。\n",
        "\n",
        "  * `教員所属` という属性の値が複数の履修データで重複する。（**冗長性**）\n",
        "  * 担当教員の所属が変わると、重複する履修データの `教員所属` を全て変更する必要がある。（**修正不整合**）\n",
        "  * 担当教員の所属が決まったとしても、担当教員の科目について学生の具体的な履修がなければ、その情報を挿入できない（主キーに含まれる属性 `学生ID` が NULL のデータを挿入することは許されないため）。（**挿入不整合**）\n",
        "\n",
        "推移的関数従属を解消するには、主キー以外の属性の間で関数従属するものを全て新しいテーブルに分割する必要がある。分割のルールは、第 2 正規形の場合と同様である。\n",
        "\n",
        "大学の授業管理システムのシナリオでは、教員にも ID を付け、`担当教員名` と `教員所属` を新しいテーブルに分割することにした。この時、重複する行は削除する。また、履修テーブルに `教員ID` を残しておく。そうしないと、教員テーブルと履修テーブルを内部結合できなくなる。こうしてできた第 3 正規形は、次のようになる。\n",
        "\n",
        "![](https://www.plantuml.com/plantuml/png/bP7TYjf07CNlvoa6l2sjYbT-YD3UzDg-mBIcCJX998vGsob8XdvOscAfRP6MLelkBhhA1eHTPHSVPZ9Hts8pcGt2iY1x8-SFlpdyF2ar2798qyGWto0jh1M1Ozi4lW4GciZH3IiBaxdmgADAnR3qw7eBY46m5a4lROkKZTTQ5gOokVYMHLbesOw9iCJpZsww6pN3gYC7cN4VpAWk86P7czu_pjvpTidPJywc89_0Xbubpt5JUv3G7TGgqeB2dZw9a-X-eGNEXj6hANV_SzRXx9IxImfeEPbCKV-gk_qr4gF9Zdsb13bsINk5p3hM7hwmJGMbwUxZ8lXpiltaYLcNLf65QhSm4FpeY-_3WtuAatugHNv1fosylnJGPr98UDwcT-PVjALGmDw9WIVEn_Bl77zJJEpZhpxVoG3XZVtr_1vZXSysl-Vx56d5hl5IZrFX3sSVPAcxvgmVXQMotZDfAcUMOoyuct1tnTb0MQin3_HeLWMgJruAOzF4rm00)"
      ],
      "metadata": {
        "id": "wEUyqLX_4dyq"
      }
    },
    {
      "cell_type": "markdown",
      "source": [
        "### 多重度と ER 図"
      ],
      "metadata": {
        "id": "h3T8KQZkFiP0"
      }
    },
    {
      "cell_type": "markdown",
      "source": [
        "正規化によりテーブルはいくつかに分割される。新しいテーブルでは、もとのテーブルとは異なる「属性値の組み合わせを持った実体の集合」を表現することになる。大学の授業管理システムのシナリオでは、もとの「履修」という実体集合を表現するテーブルを分割して、「学生」「教員」という実体集合を表現する 2 つのテーブルができた。テーブル分割が情報無損失分解である限り、それらは内部結合が可能なつながりをもっている。DB 設計で実体間のつながりは**関連**（relationship）と呼ばれる。\n",
        "\n",
        "関連を持つ実体の間で、一方のインスタンスから見たときに、他方のインスタンスと「いくつ」つながるかを**多重度**（cardinality）と呼ぶ。\n",
        "\n",
        "多重度を視覚化するには、**ER 図**（**E**ntity-**R**elationship diagram）を使用する。\n",
        "\n",
        "**IE**（**I**nformation **E**ngineering）と呼ばれる ER 図の記法は、以下の通り。\n",
        "\n",
        "  * 実体を長方形で表し、その中に属性を記入する。水平線の上にある属性は主キーであることを表す。\n",
        "  * 実体間の関連を、実体を結ぶ実線で表す。\n",
        "  * 多重度に関して、「○」で 0 、「｜」で 1 、「⩚」で多数を表す。これらの基本表記を組み合わせて、「○」と「｜」で 0 か 1 、「｜」が 2 つでちょうど 1 、「○」と「⩚」で 0 以上、「｜」と「⩚」で 1 以上を表す。\n",
        "\n",
        "実体間の関連は、「1 対 1」「1 対多」「多対多」のいずれかとなる。\n",
        "\n",
        "■ 1 対 1\n",
        "\n",
        "![](https://www.plantuml.com/plantuml/png/SoWkIImgAStDuSf9JIjHACbNACfCpoXHICaiIaqkoSpFuyh8J4bLICuiIiv9vKhDAyaigLHukdRPyodp5PGpKXDJKeki2ZBpiXMgkHIWufukGAQkBfp_T48laFsuUU7ZvZsFcrS_RbhqkBdpSVEQnqqxkMfHZNonOWzXKv_FtFLYOS-pwKk1x6TpEfzsxNmsP_xBcHE0Xa4TLbEZgrjJWp2Joo4rBmNeHm00)\n",
        "\n",
        "1 対 1 では、一方の 1 つのインスタンスが、他方の 1 つのインスタンスとだけつながる。\n",
        "\n",
        "正規化で正しいテーブルの分割を行う限り、1 対 1 は生じない。1 対 1 の場合、2 つの独立した実体として扱う必要があるかをよく吟味しなければならない。どちらか一方に吸収するか、2 つを包摂する概念で 1 つの実体（テーブル）にまとめるほうが管理が簡単になる。\n",
        "\n",
        "■ 1 対多\n",
        "\n",
        "![](https://www.plantuml.com/plantuml/png/SoWkIImgAStDuSf9JIjHACbNACfCpoXHICaiIaqkoSpFuyh8J4bLICuiIiv9vKhDAyaigLHuDdNcqyaB5PGpKXDJKeki2ZBpiXMgkHIWufukGAQkBfp_T48lYDtPy7JZFAvQc1bFDovzidyTfXbFrovxFcK-s8pdooS-dxqEQXoS3pOEOLKj5zGrDJMwkZNLK7Ev75BpKe2-0W00)\n",
        "\n",
        "1 対多では、一方の 1 つのインスタンスが、他方の複数のインスタンスにつながる。しかし、逆向きでは違って、一方の各インスタンスは、他方の 1 つのインスタンスとだけつながる。\n",
        "\n",
        "実体間の多重度は、1 対多が基本である。正規化で正しいテーブルの分割を行う限り、1 対多となる。大学の授業管理システムのシナリオでは、第 3 正規形において、1 人の教員は複数の科目の担任となることができ、1 つの科目を 1 人の教員が担当するので、1 対多となる。\n",
        "\n",
        "■ 多対多\n",
        "\n",
        "![](https://www.plantuml.com/plantuml/png/SoWkIImgAStDuSf9JIjHACbNACfCpoXHICaiIaqkoSpFuyh8J4bLICuiIiv9vKhDAyaigLHukdRPyodp5PGpKXDJKeki2ZBpiXMgkHIWufukGAQkBfp_T48laFsuUU7ZvZsFcrS_RbhqkBdpSVEQnqqxkMhXHcvS-cJ_Ehn6Fby-yVdiTL3JuNo8wS-cpdmwUI5GhfOBwhZQ6btTccgekLmEgNafG4y20000)\n",
        "\n",
        "多対多では、一方の複数のインスタンスが、他方の複数のインスタンスにつながる。\n",
        "\n",
        "多対多は、DB 設計上 NG とされる。多対多の場合、実体間でつながりを持つには、相手を参照する ID 属性を複数お互いに持っていることになる。この形は、部分関数従属や推移的関数従属が現れるパターンである。\n",
        "\n",
        "大学の授業管理システムのシナリオでは、第 3 正規形において、1 人の学生が複数の科目を履修し、1 つの科目を複数の学生が履修するので、多対多となる。そして、履修テーブルをよく見ると、`科目ID → 科目名` という部分関数従属が見つかる。\n",
        "\n",
        "多対多を解消するには、多対多の関係にある両方のテーブルの主キーを外部キーとして持ち、それらを組み合わせて複合主キーとするテーブル（**中間テーブル**）を導入する。\n",
        "\n",
        "![](https://www.plantuml.com/plantuml/png/XP5DIm917CRlyoaMl4RfuiaN4UhIsRx0bDkwEBihwmXPqsK7IeF2i0mfACDUq0m43nc67sPSNqvzXMPdMi8ktfx_Cyy-_Fx_JHSnT739H21Hn6MafO1ZsrWv0efYGaSth9WIZlEX0BDPmzB5T0omWP4cGlksXJF6eHPJ8j5uCFCYRbYsOqBannCRlzt5l64Le0FDe4-9oYxWzPvdL_UCdZ0wOhJ1Q1SaGiZGStWNbRIraEx0SeeaPMnxAr1UxPma6Ms9hxhCVMIqokWRSuS4a4mu726JhzhyfksrEmjwGVYkTbexW6O1QUjxjYb3AbbK1jExr_bPt-lLI0vQCFyl1cOlbxFRzvLyCkRpIINufjTDhzxY9Y2R4Ox4wAdVueuPRGen93iSLJwhH6p1Tnamsc7k9wCF_hFA8Rp-qsIy1F4zgam-Uej6VTcihZXUW1aSIM3zQJMuY_GrAwl8lvJcicIY7m00)\n",
        "\n",
        "![](https://www.plantuml.com/plantuml/png/SoWkIImgAStDuSf9JIjHACbNACfCpoXHICaiIaqkoSpFuyh8J4bLICuiIiv9vKhDAyaigLHukdRPyodp5PGpKXDJKeki2ZBpiXMgkHIWufukGAQkBfp_T48laFsuUU7ZvZsFcrS_RbhqkBdpSVEQnqqxkMhXHcvS-cJ_EhYHYOMbYUX6Fby-yVdiTL3JuJgXmcYEGLSEvqCSyspgpAUJ5mBbQhcWVgcfqTMjgOOwWmlgcbgGO0rK9vT3QbuACA00)\n",
        "\n",
        "中間テーブルは、属性が複合主キーだけであり、主キー以外の属性を持つことを禁止される。このため、正規形違反は生じない。このようなテーブルは、これまで見てきた「属性値の組み合わせを持った実体の集合」を表現するためのテーブルとは明らかに異なるものである。\n",
        "\n",
        "中間テーブルは、複合主キーが指し示す 2 つ実体間の関連を表現するものと見ることができる。DB 設計では、関連も属性を持つ主体であり、実体と並ぶ概念として扱われる。\n",
        "\n",
        "■ ポリモーフィック関連\n",
        "\n",
        "アンチパターンとされる「ポリモーフィック関連」と呼ばれる関連がある。ポリモーフィック関連は、複数の実体（テーブル）への参照を 1 つの属性（カラム）で持つ形の関連である。その属性の値のタイプ（参照先の実体）を表す別の属性が必要である。\n",
        "\n",
        "![](https://www.plantuml.com/plantuml/png/SoWkIImgAStDuSf9JIjHACbNACfCpoXHICaiIaqkoSpFuyh8J4bLICuiIiv9vKhDAyaigLHulcxXymbjBnfQ5PGpKXDJKeki2ZBpiXMgkHGGKfukG9wkBhBGqmczNBKmCnutBtlSlETnqpOWYM4CYYpK93HHDCFMFcxQW64CL1nXmDEEbS-dh82w3i5xtBJ_STEInytJWIP2ZQgjqTMjgK6u7LKSnILS3gbvAS0G1000)\n",
        "\n",
        "ポリモーフィック関連では、SQL の構文上、FOREIGN KEY 制約が設定できないため、参照整合性（参照先にデータが存在すること）が保証されない。\n",
        "\n",
        "ポリモーフィック関連を解消するには、参照先の実体から ID を参照されるテーブル（**親テーブル**）を導入し、そのテーブルだけを参照するようにして FOREIGN KEY 制約を設定する。\n",
        "\n",
        "![](https:////www.plantuml.com/plantuml/png/SoWkIImgAStDuSf9JIjHACbNACfCpoXHICaiIaqkoSpFuyh8J4bLICuiIiv9vKhDAyaigLHGUjoyzd7JXgSTAvzFMV6YeVNzdeuNorOzRcvxtBpdSVEqnysht-_fL59GpaXDJ4ajiYh8pCjMgEPIK81hy7G1ydHrkMfX9ZvVj_3vX3QW38Ocg1H24xBGqmczgCOYJ7pSl0pacgPjG1B3K1HPgBbeedYCXlWUmr2eEDGu3CrGNRKrkherDKG68HUH8Lq3D3I_6X4kfEb3yJUNGsfU2Z0z0000)"
      ],
      "metadata": {
        "id": "jzTR6t-RFi-w"
      }
    }
  ]
}