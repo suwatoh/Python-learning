{
  "nbformat": 4,
  "nbformat_minor": 0,
  "metadata": {
    "colab": {
      "provenance": [],
      "toc_visible": true,
      "authorship_tag": "ABX9TyMDU2EKcG8ZFMa7mJUtQpNr",
      "include_colab_link": true
    },
    "kernelspec": {
      "name": "python3",
      "display_name": "Python 3"
    },
    "language_info": {
      "name": "python"
    }
  },
  "cells": [
    {
      "cell_type": "markdown",
      "metadata": {
        "id": "view-in-github",
        "colab_type": "text"
      },
      "source": [
        "<a href=\"https://colab.research.google.com/github/suwatoh/Python-learning/blob/main/130_%E7%92%B0%E5%A2%83%E3%81%A8%E3%82%B3%E3%83%B3%E3%83%95%E3%82%A3%E3%82%B0.ipynb\" target=\"_parent\"><img src=\"https://colab.research.google.com/assets/colab-badge.svg\" alt=\"Open In Colab\"/></a>"
      ]
    },
    {
      "cell_type": "markdown",
      "source": [
        "環境とコンフィグ\n",
        "================"
      ],
      "metadata": {
        "id": "ETNbCkBhGqoW"
      }
    },
    {
      "cell_type": "markdown",
      "source": [
        "設定の優先順位\n",
        "--------------"
      ],
      "metadata": {
        "id": "3oA4LNx2mp_H"
      }
    },
    {
      "cell_type": "markdown",
      "source": [
        "環境やユーザーの設定に応じてプログラムの動作が切り替わるようにすれば、プログラムはより広く使われるようになる。\n",
        "\n",
        "プログラムがユーザーから値を受ける方法は何通りもあり、いくつかの方法に対応して優先順位を付けることが多く行われる。優先順位の付け方はプログラマーが自由に決めてよいが、一時的に使用される場所やアクセスしやすい場所の設定を優先するほうが直感的である。実際、多くの有名なプログラムでも、この方針で以下のような優先順位が採用されている:\n",
        "\n",
        "  1. コマンドライン引数\n",
        "  2. コマンドライン引数で明示的に指定された設定ファイル\n",
        "  3. 環境変数\n",
        "  4. カレントディレクトリにある設定ファイル\n",
        "  5. ホームディレクトリまたは OS が推奨するアプリケーション用ディレクトリにある設定ファイル"
      ],
      "metadata": {
        "id": "H7Rh1tMomrAs"
      }
    },
    {
      "cell_type": "markdown",
      "source": [
        "環境に関する情報\n",
        "----------------"
      ],
      "metadata": {
        "id": "6xXze2cCoNwe"
      }
    },
    {
      "cell_type": "markdown",
      "source": [
        "### 実行中のプラットフォーム ###"
      ],
      "metadata": {
        "id": "gxWSFPtiFj_h"
      }
    },
    {
      "cell_type": "markdown",
      "source": [
        "`sys.platform` は、実行中のプラットフォーム（OS）を識別する文字列である（`sys.path` にプラットフォーム固有のサブディレクトリを追加することに利用されている）。\n",
        "\n",
        "| システム | `platform` の値 |\n",
        "|:---|:---|\n",
        "| AIX | `'aix'` |\n",
        "| Emscripten | `'emscripten'` |\n",
        "| Linux | `'linux'` |\n",
        "| WASI | `'wasi'` |\n",
        "| Windows | `'win32'` |\n",
        "| Windows/Cygwin | `'cygwin'` |\n",
        "| macOS | `'darwin'` |"
      ],
      "metadata": {
        "id": "APafyYLe8iTA"
      }
    },
    {
      "cell_type": "code",
      "source": [
        "import sys\n",
        "sys.platform"
      ],
      "metadata": {
        "colab": {
          "base_uri": "https://localhost:8080/",
          "height": 35
        },
        "id": "htGmLWfd8jed",
        "outputId": "00f24c95-2e39-4191-9854-4f1f2b58e91d"
      },
      "execution_count": null,
      "outputs": [
        {
          "output_type": "execute_result",
          "data": {
            "text/plain": [
              "'linux'"
            ],
            "application/vnd.google.colaboratory.intrinsic+json": {
              "type": "string"
            }
          },
          "metadata": {},
          "execution_count": 1
        }
      ]
    },
    {
      "cell_type": "markdown",
      "source": [
        "ちなみに、`os.name` は、Python 実装のコンパイル時に組み込まれたモジュールのうち、OS に依存するモジュールの名前（`'posix'`, `'nt'`, `'java'` のいずれか）である。"
      ],
      "metadata": {
        "id": "AiGvo1NPoOvo"
      }
    },
    {
      "cell_type": "code",
      "source": [
        "import os\n",
        "os.name"
      ],
      "metadata": {
        "colab": {
          "base_uri": "https://localhost:8080/",
          "height": 35
        },
        "id": "90vG4lwQvHle",
        "outputId": "56a88a89-8780-4236-883c-46af8e5340d5"
      },
      "execution_count": null,
      "outputs": [
        {
          "output_type": "execute_result",
          "data": {
            "text/plain": [
              "'posix'"
            ],
            "application/vnd.google.colaboratory.intrinsic+json": {
              "type": "string"
            }
          },
          "metadata": {},
          "execution_count": 2
        }
      ]
    },
    {
      "cell_type": "markdown",
      "source": [
        "OS の情報が場合分けに必要なわけではなく、単に OS の名前やバージョン表記を取得したいのであれば、`platform.system()`, `platform.release()`, `platform.version()` が使える。これらは不明な場合に空文字列を返すことに注意。"
      ],
      "metadata": {
        "id": "WWtzhFpDxht2"
      }
    },
    {
      "cell_type": "code",
      "source": [
        "import platform\n",
        "platform.system(), platform.release(), platform.version()"
      ],
      "metadata": {
        "colab": {
          "base_uri": "https://localhost:8080/"
        },
        "id": "CbjmiUXKxjBJ",
        "outputId": "b8999d07-b6bc-4889-e39f-00e8eb505de8"
      },
      "execution_count": null,
      "outputs": [
        {
          "output_type": "execute_result",
          "data": {
            "text/plain": [
              "('Linux', '6.1.85+', '#1 SMP PREEMPT_DYNAMIC Sun Apr 28 14:29:16 UTC 2024')"
            ]
          },
          "metadata": {},
          "execution_count": 3
        }
      ]
    },
    {
      "cell_type": "markdown",
      "source": [
        "### コンピュータのネットワーク名 ###"
      ],
      "metadata": {
        "id": "TCnE6Gb7F9VS"
      }
    },
    {
      "cell_type": "markdown",
      "source": [
        "`platform.node()` は、コンピュータのネットワーク名を返す。これも不明な場合は空文字列を返す。"
      ],
      "metadata": {
        "id": "uJB1XJ7y08t1"
      }
    },
    {
      "cell_type": "code",
      "source": [
        "import platform\n",
        "platform.node()"
      ],
      "metadata": {
        "colab": {
          "base_uri": "https://localhost:8080/",
          "height": 35
        },
        "id": "vbbCKtQH09mU",
        "outputId": "f319b7be-7d07-46e0-dc01-953b233d8c88"
      },
      "execution_count": null,
      "outputs": [
        {
          "output_type": "execute_result",
          "data": {
            "text/plain": [
              "'bcc35b63d48d'"
            ],
            "application/vnd.google.colaboratory.intrinsic+json": {
              "type": "string"
            }
          },
          "metadata": {},
          "execution_count": 4
        }
      ]
    },
    {
      "cell_type": "markdown",
      "source": [
        "### 実行中の Python インタープリター ###"
      ],
      "metadata": {
        "id": "oyEIeIaiGqK1"
      }
    },
    {
      "cell_type": "markdown",
      "source": [
        "`sys.version_info` は、Python のバージョン番号を示す 5 要素の名前付きタプル: `(major, minor, micro, releaselevel, serial)`。`releaselevel` 以外は全て整数である。"
      ],
      "metadata": {
        "id": "QruDaGup4MTT"
      }
    },
    {
      "cell_type": "code",
      "source": [
        "import sys\n",
        "sys.version_info"
      ],
      "metadata": {
        "colab": {
          "base_uri": "https://localhost:8080/"
        },
        "id": "wK4_-R16WT4R",
        "outputId": "fe34e5e5-604e-43db-b432-1bd943c6d452"
      },
      "execution_count": null,
      "outputs": [
        {
          "output_type": "execute_result",
          "data": {
            "text/plain": [
              "sys.version_info(major=3, minor=10, micro=12, releaselevel='final', serial=0)"
            ]
          },
          "metadata": {},
          "execution_count": 5
        }
      ]
    },
    {
      "cell_type": "markdown",
      "source": [
        "Python のバージョンを文字列で取得したいのであれば、`platform.python_version()` が使える。"
      ],
      "metadata": {
        "id": "xRhUc5qR2WWq"
      }
    },
    {
      "cell_type": "code",
      "source": [
        "import platform\n",
        "platform.python_version()"
      ],
      "metadata": {
        "colab": {
          "base_uri": "https://localhost:8080/",
          "height": 35
        },
        "id": "pVmc_2PE2XPY",
        "outputId": "cc99ab29-05b3-4041-e0d8-a8192e3b83e7"
      },
      "execution_count": null,
      "outputs": [
        {
          "output_type": "execute_result",
          "data": {
            "text/plain": [
              "'3.10.12'"
            ],
            "application/vnd.google.colaboratory.intrinsic+json": {
              "type": "string"
            }
          },
          "metadata": {},
          "execution_count": 6
        }
      ]
    },
    {
      "cell_type": "markdown",
      "source": [
        "`sys.hexversion` は、単精度整数にエンコードされたバージョン番号。この値は `hex()` 関数を使って 16 進数に変換することで意味が明らかになる。たとえば、バージョン 3 以上であれば `0x03000000` 以上の値となる。バージョン 3.10 以上であれば `0x030a0000` 以上の値となる。バージョン 3.10.3 以上であれば `0x030a0300` 以上の値となる。"
      ],
      "metadata": {
        "id": "UelEAob4oDDT"
      }
    },
    {
      "cell_type": "code",
      "source": [
        "import sys\n",
        "hex(sys.hexversion)"
      ],
      "metadata": {
        "colab": {
          "base_uri": "https://localhost:8080/",
          "height": 35
        },
        "id": "onXCfjweoD32",
        "outputId": "421091ab-d316-4077-a738-a5594124b31f"
      },
      "execution_count": null,
      "outputs": [
        {
          "output_type": "execute_result",
          "data": {
            "text/plain": [
              "'0x30a0cf0'"
            ],
            "application/vnd.google.colaboratory.intrinsic+json": {
              "type": "string"
            }
          },
          "metadata": {},
          "execution_count": 2
        }
      ]
    },
    {
      "cell_type": "markdown",
      "source": [
        "`sys.implementation` は、モジュール定数で、実行中の Python インタープリターに関する情報が格納されたオブジェクトとなる。以下の属性を持つ。\n",
        "\n",
        "| 属性 | 意味 |\n",
        "|:---|:---|\n",
        "| `name` | 実装の識別子 |\n",
        "| `version ` | `sys.version_info` と同じ |\n",
        "| `hexversion` | `sys.hexversion` と同じ |\n",
        "| `cache_tag` | キャッシュされたモジュールのファイル名に使用されるタグ |"
      ],
      "metadata": {
        "id": "PWWvrdBwq-8w"
      }
    },
    {
      "cell_type": "code",
      "source": [
        "import sys\n",
        "sys.implementation"
      ],
      "metadata": {
        "colab": {
          "base_uri": "https://localhost:8080/"
        },
        "id": "LORe4R37q_8W",
        "outputId": "e63764ce-01f3-4685-8776-7e8abdfd2f74"
      },
      "execution_count": null,
      "outputs": [
        {
          "output_type": "execute_result",
          "data": {
            "text/plain": [
              "namespace(name='cpython',\n",
              "          cache_tag='cpython-310',\n",
              "          version=sys.version_info(major=3, minor=10, micro=12, releaselevel='final', serial=0),\n",
              "          hexversion=50990320,\n",
              "          _multiarch='x86_64-linux-gnu')"
            ]
          },
          "metadata": {},
          "execution_count": 2
        }
      ]
    },
    {
      "cell_type": "markdown",
      "source": [
        "`sys.flags` は、コマンドラインフラグの状態を表す名前付きタプル。各属性は読み出し専用になっている。属性名とフラグの対応は[公式ドキュメント](https://docs.python.org/ja/3/library/sys.html#sys.flags)を参照。"
      ],
      "metadata": {
        "id": "XM0VGOxZ_Bm6"
      }
    },
    {
      "cell_type": "code",
      "source": [
        "import sys\n",
        "sys.flags"
      ],
      "metadata": {
        "colab": {
          "base_uri": "https://localhost:8080/"
        },
        "id": "XlmpfBPc_Cm0",
        "outputId": "9d842468-7d30-459e-9521-9ae988ffd7b9"
      },
      "execution_count": null,
      "outputs": [
        {
          "output_type": "execute_result",
          "data": {
            "text/plain": [
              "sys.flags(debug=0, inspect=0, interactive=0, optimize=0, dont_write_bytecode=0, no_user_site=0, no_site=0, ignore_environment=0, verbose=0, bytes_warning=0, quiet=0, hash_randomization=1, isolated=0, dev_mode=False, utf8_mode=0, warn_default_encoding=0, int_max_str_digits=-1)"
            ]
          },
          "metadata": {},
          "execution_count": 7
        }
      ]
    },
    {
      "cell_type": "markdown",
      "source": [
        "### psutil ###"
      ],
      "metadata": {
        "id": "REvtcQdgwTqV"
      }
    },
    {
      "cell_type": "markdown",
      "source": [
        "サードパーティ製の [psutil](https://psutil.readthedocs.io/en/latest/) は、Python で実行中のプロセスとシステム（CPU、メモリ、ディスク、ネットワークなど）に関する情報を取得するためのクロスプラットフォームなライブラリである。ライセンスは BSD 3-clause License。インストール方法は次のとおり。\n",
        "\n",
        "``` shell\n",
        "pip install psutil\n",
        "```\n",
        "\n",
        "■ CPU 情報"
      ],
      "metadata": {
        "id": "r7GypyQewUZZ"
      }
    },
    {
      "cell_type": "code",
      "source": [
        "import psutil\n",
        "print(psutil.cpu_count())               # CPUのコア数（論理）\n",
        "print(psutil.cpu_count(logical=False))  # 物理コア数\n",
        "print(psutil.cpu_percent(interval=1))   # CPU使用率（%）\n",
        "print(psutil.cpu_times())               # ユーザー・システム・アイドル時間など"
      ],
      "metadata": {
        "colab": {
          "base_uri": "https://localhost:8080/"
        },
        "id": "dw59rFErmeGM",
        "outputId": "5db389d0-3f30-4748-9158-8462cc5e0d98"
      },
      "execution_count": 6,
      "outputs": [
        {
          "output_type": "stream",
          "name": "stdout",
          "text": [
            "2\n",
            "1\n",
            "4.5\n",
            "scputimes(user=237.14, nice=0.0, system=102.57, idle=2001.05, iowait=40.24, irq=0.0, softirq=5.71, steal=0.47, guest=0.0, guest_nice=0.0)\n"
          ]
        }
      ]
    },
    {
      "cell_type": "markdown",
      "source": [
        "■ メモリ情報"
      ],
      "metadata": {
        "id": "p96krrwkpebw"
      }
    },
    {
      "cell_type": "code",
      "source": [
        "import psutil\n",
        "mem = psutil.virtual_memory()\n",
        "print(mem.total)     # 総メモリ\n",
        "print(mem.used)      # 使用中メモリ\n",
        "print(mem.free)      # 空きメモリ\n",
        "print(mem.percent)   # 使用率（%）"
      ],
      "metadata": {
        "colab": {
          "base_uri": "https://localhost:8080/"
        },
        "id": "p8eplSQuppEi",
        "outputId": "b65aa4ea-bdd5-4517-d778-b82589fa67d5"
      },
      "execution_count": 5,
      "outputs": [
        {
          "output_type": "stream",
          "name": "stdout",
          "text": [
            "13608361984\n",
            "793387008\n",
            "9820188672\n",
            "8.0\n"
          ]
        }
      ]
    },
    {
      "cell_type": "markdown",
      "source": [
        "■ ディスク情報"
      ],
      "metadata": {
        "id": "q3uvCOjoqJir"
      }
    },
    {
      "cell_type": "code",
      "source": [
        "import psutil\n",
        "import pprint\n",
        "pprint.pprint(psutil.disk_partitions())  # マウントポイント一覧\n",
        "print(psutil.disk_usage('/'))            # 特定パスがあるパーティションのディスク使用状況統計\n",
        "print(psutil.disk_io_counters())         # システム全体のディスクI/O統計"
      ],
      "metadata": {
        "colab": {
          "base_uri": "https://localhost:8080/"
        },
        "id": "bUUWw6J5qMeC",
        "outputId": "f9c28230-a55d-4a37-abc0-ab4e3afccb0a"
      },
      "execution_count": 12,
      "outputs": [
        {
          "output_type": "stream",
          "name": "stdout",
          "text": [
            "[sdiskpart(device='/dev/root', mountpoint='/usr/sbin/docker-init', fstype='ext2', opts='ro,relatime', maxfile=255, maxpath=4096),\n",
            " sdiskpart(device='/dev/sda1', mountpoint='/kaggle/input', fstype='ext4', opts='ro,relatime,commit=30', maxfile=255, maxpath=4096),\n",
            " sdiskpart(device='/dev/sda1', mountpoint='/etc/resolv.conf', fstype='ext4', opts='rw,nosuid,nodev,relatime,commit=30', maxfile=255, maxpath=4096),\n",
            " sdiskpart(device='/dev/sda1', mountpoint='/etc/hostname', fstype='ext4', opts='rw,nosuid,nodev,relatime,commit=30', maxfile=255, maxpath=4096),\n",
            " sdiskpart(device='/dev/sda1', mountpoint='/etc/hosts', fstype='ext4', opts='rw,nosuid,nodev,relatime,commit=30', maxfile=255, maxpath=4096)]\n",
            "sdiskusage(total=115658190848, used=41868181504, free=73773232128, percent=36.2)\n",
            "sdiskio(read_count=61175, write_count=70062, read_bytes=3077416960, write_bytes=837657600, read_time=52767, write_time=42522, read_merged_count=11415, write_merged_count=79002, busy_time=64267)\n"
          ]
        }
      ]
    },
    {
      "cell_type": "markdown",
      "source": [
        "■ ネットワーク情報"
      ],
      "metadata": {
        "id": "rUhZ04LHtILj"
      }
    },
    {
      "cell_type": "code",
      "source": [
        "import psutil\n",
        "import pprint\n",
        "print(psutil.net_io_counters())       # 送受信バイト数など\n",
        "pprint.pprint(psutil.net_if_addrs())  # ネットワークインターフェースのIPなど\n",
        "pprint.pprint(psutil.net_if_stats())  # ネットワークインターフェースの状態"
      ],
      "metadata": {
        "colab": {
          "base_uri": "https://localhost:8080/"
        },
        "id": "4W_rS7WitKTc",
        "outputId": "38c105f7-306f-4b69-ffb7-136c94243e09"
      },
      "execution_count": 15,
      "outputs": [
        {
          "output_type": "stream",
          "name": "stdout",
          "text": [
            "snetio(bytes_sent=3353016, bytes_recv=2700285, packets_sent=9862, packets_recv=11108, errin=0, errout=0, dropin=0, dropout=0)\n",
            "{'eth0': [snicaddr(family=<AddressFamily.AF_INET: 2>, address='172.28.0.12', netmask='255.255.0.0', broadcast='172.28.255.255', ptp=None),\n",
            "          snicaddr(family=<AddressFamily.AF_PACKET: 17>, address='02:42:ac:1c:00:0c', netmask=None, broadcast='ff:ff:ff:ff:ff:ff', ptp=None)],\n",
            " 'lo': [snicaddr(family=<AddressFamily.AF_INET: 2>, address='127.0.0.1', netmask='255.0.0.0', broadcast=None, ptp=None),\n",
            "        snicaddr(family=<AddressFamily.AF_PACKET: 17>, address='00:00:00:00:00:00', netmask=None, broadcast=None, ptp=None)]}\n",
            "{'eth0': snicstats(isup=True, duplex=<NicDuplex.NIC_DUPLEX_FULL: 2>, speed=10000, mtu=1500, flags='up,broadcast,running,multicast'),\n",
            " 'lo': snicstats(isup=True, duplex=<NicDuplex.NIC_DUPLEX_UNKNOWN: 0>, speed=0, mtu=65536, flags='up,loopback,running')}\n"
          ]
        }
      ]
    },
    {
      "cell_type": "markdown",
      "source": [
        "■ プロセス管理"
      ],
      "metadata": {
        "id": "eyjFSafBt_2f"
      }
    },
    {
      "cell_type": "code",
      "source": [
        "import psutil\n",
        "for proc in psutil.process_iter(['pid', 'name', 'username']):\n",
        "    print(proc.info)  # PID・プロセス名・ユーザー名など\n",
        "psutil.getloadavg()   # 過去 1 分間、5 分間、15 分間の CPU 待ちタスク数（実行中のタスクおよび待機中のタスクの平均数）"
      ],
      "metadata": {
        "colab": {
          "base_uri": "https://localhost:8080/"
        },
        "id": "JoBpZTciuDlF",
        "outputId": "710d31c5-b772-4f21-bfa4-8e79fe958568"
      },
      "execution_count": 18,
      "outputs": [
        {
          "output_type": "stream",
          "name": "stdout",
          "text": [
            "{'name': 'docker-init', 'pid': 1, 'username': 'root'}\n",
            "{'name': 'node', 'pid': 7, 'username': 'root'}\n",
            "{'name': 'oom_monitor.sh', 'pid': 21, 'username': 'root'}\n",
            "{'name': 'run.sh', 'pid': 23, 'username': 'root'}\n",
            "{'name': 'kernel_manager_proxy', 'pid': 25, 'username': 'root'}\n",
            "{'name': 'tail', 'pid': 27, 'username': 'root'}\n",
            "{'name': 'tail', 'pid': 33, 'username': 'root'}\n",
            "{'name': 'python3', 'pid': 65, 'username': 'root'}\n",
            "{'name': 'colab-fileshim.', 'pid': 66, 'username': 'root'}\n",
            "{'name': 'jupyter-server', 'pid': 87, 'username': 'root'}\n",
            "{'name': 'dap_multiplexer', 'pid': 88, 'username': 'root'}\n",
            "{'name': 'python3', 'pid': 939, 'username': 'root'}\n",
            "{'name': 'language_service', 'pid': 964, 'username': 'root'}\n",
            "{'name': 'node', 'pid': 970, 'username': 'root'}\n",
            "{'name': 'sleep', 'pid': 11841, 'username': 'root'}\n"
          ]
        },
        {
          "output_type": "execute_result",
          "data": {
            "text/plain": [
              "(0.3310546875, 0.24755859375, 0.25244140625)"
            ]
          },
          "metadata": {},
          "execution_count": 18
        }
      ]
    },
    {
      "cell_type": "markdown",
      "source": [
        "コマンドライン引数\n",
        "------------------"
      ],
      "metadata": {
        "id": "88AUQ7X9oU40"
      }
    },
    {
      "cell_type": "markdown",
      "source": [
        "### コマンドライン構文 ###"
      ],
      "metadata": {
        "id": "0eFvXxbXfrU0"
      }
    },
    {
      "cell_type": "markdown",
      "source": [
        "以降は、Unix 系 OS でのコマンドライン構文である。Windows でも使える。\n",
        "\n",
        "``` text\n",
        "python script.py arg1 arg2 arg3\n",
        "```\n",
        "\n",
        "スペースで区切って並べた `arg1`、`arg2`、`arg3` は**位置引数**と呼ばれる。位置引数は並べる順番により識別される。位置引数のリストは可変長とすることもできる。\n",
        "\n",
        "``` text\n",
        "python script.py -o1 value1 -o2 --option3 value3\n",
        "```\n",
        "\n",
        "`-` を接頭辞として名前を書いた引数、および、`--` を接頭辞として名前を書いた引数は、**オプション引数**と呼ばれる。オプション引数は名前により識別される。スペースを置いて指定した値を格納するもの（`-o1` および `--option3`）と、フラグとするもの（`-o2`）がある。オプション引数は省略可能でなければならない。`-` を付けたほうを短縮名、`--` を付けたほうを正式名として 1 つのオプション引数と扱うことができる。たとえば、`-o1` を短縮名とし、`--option1` を正式名とするとき、コマンドライン上では `-o1` を指定しても `--option1` を指定しても同等とされる。\n",
        "\n",
        "スクリプトの使い方を説明するヘルプメッセージを表示するオプション引数は、短縮名を `-h`、正式名を `--help` とする。\n",
        "\n",
        "``` text\n",
        "python script.py --option4 val1 val2 val3\n",
        "```\n",
        "\n",
        "オプション引数の後ろにスペースで区切って並べた `val1`、`val2`、`val3` は、リストとしてオプション引数 `--option4` の値とされる。"
      ],
      "metadata": {
        "id": "4iOjz4GcfsCv"
      }
    },
    {
      "cell_type": "markdown",
      "source": [
        "### argv ###"
      ],
      "metadata": {
        "id": "NTJQ6feup-iL"
      }
    },
    {
      "cell_type": "markdown",
      "source": [
        "`sys.argv` は、Python スクリプトに渡されたコマンドライン引数を単純にスペースで分割した文字列のリストである。その最初の要素 `sys.argv[0]` は、Python インタープリターに渡すインターフェースオプションにより異なる。2 つの関係は、次のとおり。\n",
        "\n",
        "| オプション | `sys.argv[0]` |\n",
        "|:---|:---|\n",
        "| `-c <command>` | `'-c'` |\n",
        "| `-m <module-name>` | モジュールファイルのフルパス |\n",
        "| `<python-file>` | `<python-file>` |\n",
        "| `<directory>` | `<directory>` |\n",
        "| `<zip-file>` | `<zip-file>` |\n",
        "| `-` | `'-'` |"
      ],
      "metadata": {
        "id": "fEc6BQimAhM3"
      }
    },
    {
      "cell_type": "code",
      "source": [
        "import sys\n",
        "sys.argv"
      ],
      "metadata": {
        "colab": {
          "base_uri": "https://localhost:8080/"
        },
        "id": "Pct_4naCAieM",
        "outputId": "93e24279-2d38-4718-d166-e6fd152db953"
      },
      "execution_count": null,
      "outputs": [
        {
          "output_type": "execute_result",
          "data": {
            "text/plain": [
              "['/usr/local/lib/python3.10/dist-packages/colab_kernel_launcher.py',\n",
              " '-f',\n",
              " '/root/.local/share/jupyter/runtime/kernel-48dd642f-a43a-46ee-bf2b-4e61c5d0deac.json']"
            ]
          },
          "metadata": {},
          "execution_count": 8
        }
      ]
    },
    {
      "cell_type": "markdown",
      "source": [
        "### argparse ###"
      ],
      "metadata": {
        "id": "mRDzh6JkoVn_"
      }
    },
    {
      "cell_type": "markdown",
      "source": [
        "引数を単純にリストで取得するのではなく、コマンドライン構文として解析するには、標準ライブラリの `argparse` モジュールを使用する。\n",
        "\n",
        "`argparse` の基本的な使い方は、コマンドライン構文を解析するパーサーを `argparse.ArgumentParser` クラスのインストタンスとして作成し、その `add_argument()` メソッドでパーサーにコマンドライン引数の情報を与えることである。次は、もっとも簡単な例である。\n",
        "\n",
        "``` python\n",
        "import argparse\n",
        "parser = argparse.ArgumentParser()\n",
        "parser.parse_args()\n",
        "```\n",
        "\n",
        "下記がこのコードを実行した結果である:\n",
        "\n",
        "``` text\n",
        "$ python prog.py\n",
        "$ python prog.py --help\n",
        "usage: prog.py [-h]\n",
        "\n",
        "options:\n",
        "  -h, --help  show this help message and exit\n",
        "$ python prog.py --foo\n",
        "usage: foo.py [-h]\n",
        "foo.py: error: unrecognized arguments: --foo\n",
        "$ python prog.py foo\n",
        "usage: prog.py [-h]\n",
        "prog.py: error: unrecognized arguments: foo\n",
        "```\n",
        "\n",
        "  * コマンドライン引数なしの場合、何も起こらない。\n",
        "  * コマンドライン引数 `--help`（または `-h`）がある場合、`add_argument()` で `--help` の情報が与えられていないにもかかわらず、スクリプトの使い方（ヘルプメッセージ）が標準出力に表示される。\n",
        "  * `add_argument()` で情報が与えられていなかったコマンドライン引数が使用されている場合、引数が不正であることを示すエラーメッセージが標準エラー出力に表示される。\n",
        "\n",
        "ヘルプメッセージもエラーメッセージも `argparse` が自動的に生成したものである。\n",
        "\n",
        "また、`argparse.ArgumentParser` は `--help` が指定されると、ヘルプメッセージを表示した後 `sys.exit(0)` を呼び出す。そのため、`--help` を使うとプログラムは正常終了する。\n",
        "\n",
        "例えば、`prog.py` ファイルが以下のようである場合:\n",
        "\n",
        "``` python\n",
        "import argparse\n",
        "parser = argparse.ArgumentParser()\n",
        "parser.parse_args()\n",
        "print(\"スクリプトが続行されました\")\n",
        "```\n",
        "\n",
        "このスクリプトを `python script.py --help` で実行すると、以下のような出力が表示され、その後スクリプトは終了する:\n",
        "\n",
        "``` text\n",
        "$ python test.py --help\n",
        "usage: test.py [-h]\n",
        "\n",
        "options:\n",
        "  -h, --help  show this help message and exit\n",
        "```\n",
        "\n",
        "`'スクリプトが続行されました'` は表示されず、スクリプトは `sys.exit(0)` によって終了する。\n",
        "\n",
        "``` python\n",
        "argparse.ArgumentParser(prog=None, usage=None, description=None, epilog=None, parents=[], formatter_class=argparse.HelpFormatter, prefix_chars='-',\n",
        "                        fromfile_prefix_chars=None, argument_default=None, conflict_handler='error', add_help=True, allow_abbrev=True, exit_on_error=True)\n",
        "```\n",
        "\n",
        "`argparse.ArgumentParser` クラスのコンストラクタ引数は、主にヘルプメッセージを生成するために使用される。\n",
        "\n",
        "| 引数 | 意味 |\n",
        "|:---|:---|\n",
        "| `prog` | プログラム名を指定する。`None` の場合は `os.path.basename(sys.argv[0])` が使われる |\n",
        "| `usage` | プログラムの利用方法を文字列で指定する。`None` の場合はパーサーに追加された引数から生成される |\n",
        "| `description` | 引数のヘルプの前に表示されるテキストを指定する。`None` の場合はテキストなし |\n",
        "| `epilog` | 引数のヘルプの後に表示されるテキストを指定する。`None` の場合はテキストなし |\n",
        "| `parents` | `ArgumentParser` オブジェクトのリストを指定する。このリストに含まれるオブジェクトの引数が追加される |\n",
        "| `formatter_class` | ヘルプメッセージの整形をカスタマイズするためのクラスを指定する。デフォルトは `argparse.HelpFormatter` |\n",
        "| `prefix_chars` | オプション引数の接頭辞になる文字集合を指定する。デフォルトは `'-'`。たとえば `'+'` を指定すると `+o` のような引数になる |\n",
        "| `fromfile_prefix_chars` | ファイルから追加の引数を読み込む場合に、そのファイルの名前の接頭辞になる文字列を指定する。`None`（デフォルト）の場合は接頭辞<br />なし。たとえば `'@'` を指定すると `@file.txt` のようにファイルを指定できる |\n",
        "| `argument_default` | 全体的に適用される引数のデフォルト値を指定する。デフォルトは `None` |\n",
        "| `conflict_handler` | すでに利用されているオプション文字列を使って新しい引数を作ろうとしたときの挙動を以下の文字列で指定する<br /><br />・`'error'`: `argparse.ArgumentError` 例外を送出する（デフォルト）<br /><br />・`'resolve'`: オプション文字列が上書きされる |\n",
        "| `add_help` | `True`（デフォルト）の場合、`-h` 引数および `--help` 引数をパーサーに追加する |\n",
        "| `allow_abbrev` | `True`（デフォルト）の場合、正式名の引数を先頭の 1 文字の短縮名で指定できるようにする |\n",
        "| `exit_on_error` | `False` の場合、`--help` 実行時に `sys.exit()` せずに `argparse.ArgumentError` 例外を送出する（プログラム内で捕捉できる） |\n",
        "\n",
        "以下は、`argparse.ArgumentParser` のメソッド。\n",
        "\n",
        "``` python\n",
        "ArgumentParser.parse_args(args=None, namespace=None)\n",
        "```\n",
        "\n",
        "このメソッドは、コマンドライン引数を解析し、`argparse.Namespace` オブジェクトを作成して返す。パーサーは、コマンドライン引数の解析結果を `argparse.Namespace` オブジェクトに属性を追加する形で保存する。\n",
        "\n",
        "`parse_args()` メソッドの引数は、次のとおり。\n",
        "\n",
        "| 引数 | 意味 |\n",
        "|:---|:---|\n",
        "| `args` | 解析する文字列のリストを指定する。`None`（デフォルト）なら、`sys.argv` から取得される |\n",
        "| `namespace` | 戻り値のために使用する `argparse.Namespace` オブジェクトを指定する。`None`（デフォルト）なら、新しい空の `argparse.Namespace` オブジェクトが作<br />成される |\n",
        "\n",
        "``` python\n",
        "ArgumentParser.add_argument(name or flags..., *[, action][, nargs][, const][, default][, type][, choices][, required][, help][, metavar][, dest][, deprecated])\n",
        "```\n",
        "\n",
        "このメソッドは、パーサーにコマンドライン引数の情報を与える。パーサーは、与えられた情報に基づいてコマンドライン引数を解析する。\n",
        "\n",
        "`name or flags...` 以外はすべてキーワード引数である。\n",
        "\n",
        "| 引数 | 意味 |\n",
        "|:---|:---|\n",
        "| `name or flags...` | `'foo'` のように位置引数の名前か、`'-f', '--foo'` のようにオプション引数の名前のリストを指定する |\n",
        "| `dest` | `Namespace` に追加される属性の名前を指定する。省略する場合は、`name or flags...` が使われる |\n",
        "| `action` | 引数をどのように処理するかを指定する<br /><br />・`'store'`: 引数に与えられた値を `Namespace` の属性に格納する（デフォルト）<br /><br />・`'store_const'`: 引数はフラグとなり、引数が指定されていれば `const` キーワード引数で指定された値を `Namespace` の属性に格納する<br /><br />・`'store_true'`: 引数はフラグとなり、引数が指定されていれば `True` を `Namespace` の属性に格納する。デフォルト値は `False` とする<br /><br />・`'store_false'`: 引数はフラグとなり、引数が指定されていれば `False` を `Namespace` の属性に格納する。デフォルト値は `True` とする<br /><br />・`'append'`: 引数は複数回使用可能で、それぞれ与えられた値を `Namespace` の属性値であるリストに追加する。たとえばコマンドライン引数<br />　が `--foo 1 --foo 2` なら属性 `foo` が追加されて値が `['1', '2']` となる<br /><br />・`'append_const'`: 引数は複数回使用可能で、`const` キーワード引数で指定された値を `Namespace` の属性値であるリストに追加する<br /><br />・`'extend'`: 引数は複数回使用可能で、それぞれ与えられた値で `Namespace` の属性値であるリストを拡張する。たとえばコマンドライン引数<br />　が `--foo f1 --foo f2 f3 f4` なら属性 `foo` が追加されて値が `['f1', 'f2', 'f3', 'f4']` となる<br /><br />・`'count'`: 引数の数を `Namespace` の属性に格納する。たとえば、名前を `'--verbose'` と `'-v'` とする引数についてコマンドライン引数が<br />　 `-vvv` なら属性 `verbose` が追加されて値が `3` となる<br /><br />・`'help'`: 引数はヘルプメッセージを表示し、終了する<br /><br />・`'version'`: 引数は `version` キーワード引数に指定したバージョン情報を表示して終了する<br /><br />`'help'`、`'version'` の場合には、`Namespace` に属性が追加されない |\n",
        "| `nargs` | 指定する値によってコマンドライン引数が以下のように解釈される:<br /><br />・`N`（整数）: 引数の後ろの `N` 個の要素がコマンドラインから集められ、リストに格納される。たとえば `--foo` について `nargs=2` としコマンド<br />　ライン引数が `--foo a b c` なら属性 `foo` が追加されて値が `['a', 'b']` となる（`c` は別の位置引数と解釈される）<br /><br />・`'?'`: 引数の後ろの 1 個の要素が値に使われるが、すぐ後ろが別のオプション引数ならデフォルト値が使われる<br /><br />・`'*'`: 引数の後ろのすべての要素がコマンドラインから集められ、リストに格納される<br /><br />・`'+'`: `'*'` と同様であるが、加えて、最低でも 1 つのコマンドライン引数が存在しない場合にエラーメッセージを生成する |\n",
        "| `default` | コマンドラインで値が渡されなかった場合のデフォルト値を指定する |\n",
        "| `type` | 引数に渡された値を指定した型に変換する。デフォルトでは `str`。ユーザーが定義した関数（や呼び出し可能オブジェクト）も使用できる |\n",
        "| `choices` | 引数の値として許される値を格納したコンテナ型（`list` など）を指定する |\n",
        "| `required` | `True` を指定すると、引数は省略できない（オプション引数のみ有効） |\n",
        "| `help` | 引数の簡潔な説明を指定する |\n",
        "| `metavar` | ヘルプメッセージの中で引数を参照するときに使われる名前を指定できる。省略する場合、デフォルトでは、位置引数には `dest` の値をその<br />まま利用し、オプション引数については `dest` の値を大文字に変換して利用する |\n",
        "| `deprecated` | Python 3.13 で追加。`True` の場合、引数が使用された際に、その引数が将来削除される予定であるとの警告が `sys.stderr` に出力される |\n",
        "\n",
        "``` python\n",
        "ArgumentParser.print_help(file=None)\n",
        "```\n",
        "\n",
        "このメソッドは、ヘルプメッセージを表示する。`file` が `None` の場合、 `sys.stdout` に出力される。"
      ],
      "metadata": {
        "id": "Z0pmoQaRhN6p"
      }
    },
    {
      "cell_type": "markdown",
      "source": [
        "### 位置引数の利用 ###"
      ],
      "metadata": {
        "id": "pHAqVY0zKbmr"
      }
    },
    {
      "cell_type": "markdown",
      "source": [
        "以降では、Colab 上で動作を確認するため、`parser.parse_args()` に引数のリストを渡している。ふつうにコマンドライン引数を解析するには、`parser.parse_args()` を引数なしで呼び出すこと。\n",
        "\n",
        "以下は位置引数の簡単な例である。"
      ],
      "metadata": {
        "id": "8qzpYSlKKdnp"
      }
    },
    {
      "cell_type": "code",
      "source": [
        "import argparse\n",
        "\n",
        "def main():\n",
        "    parser = argparse.ArgumentParser()\n",
        "    parser.add_argument(\"echo\")\n",
        "\n",
        "    # python prog.py foo と同じ\n",
        "    args = parser.parse_args([\"foo\"])\n",
        "    print(f\"echo 引数の値は {args.echo!r}\")\n",
        "    print(\"-\" * 50)\n",
        "\n",
        "    # python prog.py --help と同じ\n",
        "    parser.print_help()\n",
        "\n",
        "if __name__ == \"__main__\":\n",
        "    main()"
      ],
      "metadata": {
        "colab": {
          "base_uri": "https://localhost:8080/"
        },
        "id": "qy__yTxGp3wi",
        "outputId": "0968007f-ba42-499e-c38d-98b8e7679d12"
      },
      "execution_count": null,
      "outputs": [
        {
          "output_type": "stream",
          "name": "stdout",
          "text": [
            "echo 引数の値は 'foo'\n",
            "--------------------------------------------------\n",
            "usage: colab_kernel_launcher.py [-h] echo\n",
            "\n",
            "positional arguments:\n",
            "  echo\n",
            "\n",
            "options:\n",
            "  -h, --help  show this help message and exit\n"
          ]
        }
      ]
    },
    {
      "cell_type": "markdown",
      "source": [
        "コマンドラインで与えた位置引数 `foo` は、`parser.parse_args()` が返す `Namespace` オブジェクトの `echo` 属性に格納されることがわかる。ちなみに、コマンドラインで位置引数を与えないと、`error: the following arguments are required: echo` のようなエラーメッセージが表示されて終了する。\n",
        "\n",
        "このヘルプメッセージは、`echo` が位置引数であることだけしかわからないものなので、`echo` の説明を加える:"
      ],
      "metadata": {
        "id": "g1jWOUh3tU0f"
      }
    },
    {
      "cell_type": "code",
      "source": [
        "import argparse\n",
        "\n",
        "def main():\n",
        "    parser = argparse.ArgumentParser()\n",
        "    parser.add_argument(\"echo\", help=\"echo the string you use here\")\n",
        "\n",
        "    # python prog.py foo と同じ\n",
        "    args = parser.parse_args([\"foo\"])\n",
        "    print(f\"echo 引数の値は {args.echo!r}\")\n",
        "    print(\"-\" * 50)\n",
        "\n",
        "    # python prog.py --help と同じ\n",
        "    parser.print_help()\n",
        "\n",
        "if __name__ == \"__main__\":\n",
        "    main()"
      ],
      "metadata": {
        "colab": {
          "base_uri": "https://localhost:8080/"
        },
        "id": "RczmR9IbtVsj",
        "outputId": "ebfe43dc-6456-4ecb-a3be-a7aedd670f7f"
      },
      "execution_count": null,
      "outputs": [
        {
          "output_type": "stream",
          "name": "stdout",
          "text": [
            "echo 引数の値は 'foo'\n",
            "--------------------------------------------------\n",
            "usage: colab_kernel_launcher.py [-h] echo\n",
            "\n",
            "positional arguments:\n",
            "  echo        echo the string you use here\n",
            "\n",
            "options:\n",
            "  -h, --help  show this help message and exit\n"
          ]
        }
      ]
    },
    {
      "cell_type": "markdown",
      "source": [
        "デフォルトでは引数は文字列として格納されるので、他の型が必要な場合はパーサーに伝える必要がある:"
      ],
      "metadata": {
        "id": "agrK2Abrv_LM"
      }
    },
    {
      "cell_type": "code",
      "source": [
        "import argparse\n",
        "\n",
        "def main():\n",
        "    parser = argparse.ArgumentParser()\n",
        "    parser.add_argument(\"square\", help=\"display a square of a given number\", type=int)\n",
        "\n",
        "    # python prog.py 4 と同じ\n",
        "    args = parser.parse_args([\"4\"])\n",
        "    print(args.square**2)\n",
        "\n",
        "if __name__ == \"__main__\":\n",
        "    main()"
      ],
      "metadata": {
        "colab": {
          "base_uri": "https://localhost:8080/"
        },
        "id": "ojNvfrKJv_3M",
        "outputId": "333bf65e-b4d2-42cd-e7fb-281f8193e573"
      },
      "execution_count": null,
      "outputs": [
        {
          "output_type": "stream",
          "name": "stdout",
          "text": [
            "16\n"
          ]
        }
      ]
    },
    {
      "cell_type": "markdown",
      "source": [
        "このコードで` parser.parse_args([\"four\"])` （コマンドラインなら `python prog.py four`）のように `int` 型に変換できない引数を与えると、`error: argument square: invalid int value: 'four'` のようなエラーメッセージが表示されて終了する。"
      ],
      "metadata": {
        "id": "YNncJiTD2bFv"
      }
    },
    {
      "cell_type": "markdown",
      "source": [
        "### オプション引数の利用 ###"
      ],
      "metadata": {
        "id": "bqrG5es2NkPd"
      }
    },
    {
      "cell_type": "markdown",
      "source": [
        "以下はオプション引数の例である。"
      ],
      "metadata": {
        "id": "-Jk7skXBNlNM"
      }
    },
    {
      "cell_type": "code",
      "source": [
        "import argparse\n",
        "\n",
        "def main():\n",
        "    parser = argparse.ArgumentParser()\n",
        "    parser.add_argument(\"-o1\", \"--option1\", required=True)\n",
        "    parser.add_argument(\"-o2\", action=\"store_true\")\n",
        "    parser.add_argument(\"--option3\", type=int, choices=[1, 2, 3], default=\"adult\")\n",
        "    parser.add_argument(\"-o4\", \"--option4\", nargs=2)\n",
        "\n",
        "    # python prog.py -o1 foo --option3 3 -o4 spam eggs と同じ\n",
        "    args = parser.parse_args([\"-o1\", \"foo\", \"--option3\", \"3\", \"-o4\", \"spam\", \"eggs\"])\n",
        "    assert args.option1 == \"foo\"\n",
        "    assert args.o2 is False  # デフォルト値\n",
        "    assert args.option3 == 3\n",
        "    assert args.option4 == [\"spam\", \"eggs\"]\n",
        "\n",
        "if __name__ == \"__main__\":\n",
        "    main()"
      ],
      "metadata": {
        "id": "GDEeqyzEIpja"
      },
      "execution_count": null,
      "outputs": []
    },
    {
      "cell_type": "markdown",
      "source": [
        "`-o1` や `-o4` のように、短縮名と正式名の両方を指定することができ、その場合には正式名のほうで属性が追加されることに注意する。\n",
        "\n",
        "`-o1` については、`required=True` を指定しているので省略できない。もしコマンドラインで省略されていた場合、`error: the following arguments are required: -o1/--option1` のようなエラーメッセージが表示されて終了する。\n",
        "\n",
        "`--option3` については、`choices` 引数を指定しているので、リスト以外の要素（たとえば `4`）をコマンドラインで与えると、`error: argument --option3: invalid choice: 4 (choose from 1, 2, 3)` のようなエラーメッセージが表示されて終了する。\n",
        "\n",
        "以下は、バージョンを表示するオプション引数の例である。\n",
        "\n",
        "``` python\n",
        "import argparse\n",
        "parser = argparse.ArgumentParser(prog='PROG')\n",
        "parser.add_argument('--version', action='version', version='%(prog)s 2.0')\n",
        "```\n",
        "\n",
        "下記がこのコードを実行した結果である:\n",
        "\n",
        "``` text\n",
        "$ python prog.py --version\n",
        "PROG 2.0\n",
        "```"
      ],
      "metadata": {
        "id": "ca-fzVVWIyje"
      }
    },
    {
      "cell_type": "markdown",
      "source": [
        "### FileType オブジェクト ###"
      ],
      "metadata": {
        "id": "8iWk9mo0K5HE"
      }
    },
    {
      "cell_type": "markdown",
      "source": [
        "`argparse` では、 `ArgumentParser.add_argument()` の `type` 引数に渡すことができる `argparse.FileType` オブジェクトが利用できる。\n",
        "\n",
        "``` python\n",
        "argparse.FileType(mode='r', bufsize=-1, encoding=None, errors=None)\n",
        "```\n",
        "\n",
        "`argparse.FileType` オブジェクトは呼び出し可能であり、パスを渡して呼び出すとファイルオブジェクトを返す。コンストラクタ引数の意味は、`open()` 関数のものと同じ。\n",
        "\n",
        "以下は、`argparse.FileType` の使用例である。"
      ],
      "metadata": {
        "id": "7K_O79G7K7sY"
      }
    },
    {
      "cell_type": "code",
      "source": [
        "import argparse\n",
        "import sys\n",
        "\n",
        "def main():\n",
        "    parser = argparse.ArgumentParser()\n",
        "    parser.add_argument(\"infile\", nargs=\"?\", type=argparse.FileType(\"r\", encoding=\"UTF-8\"), default=sys.stdin)\n",
        "    parser.add_argument(\"outfile\", nargs=\"?\", type=argparse.FileType(\"w\", encoding=\"UTF-8\"), default=sys.stdout)\n",
        "\n",
        "    # python prog.py sample_data/README.md と同じ\n",
        "    args = parser.parse_args([\"sample_data/README.md\"])\n",
        "    print(args.infile)\n",
        "    print(args.outfile)\n",
        "\n",
        "if __name__ == \"__main__\":\n",
        "    main()"
      ],
      "metadata": {
        "colab": {
          "base_uri": "https://localhost:8080/"
        },
        "id": "SSl3Z6Ms2cHU",
        "outputId": "08a79d42-fa3a-4810-bbef-8ece9f37eddb"
      },
      "execution_count": null,
      "outputs": [
        {
          "output_type": "stream",
          "name": "stdout",
          "text": [
            "<_io.TextIOWrapper name='sample_data/README.md' mode='r' encoding='UTF-8'>\n",
            "<ipykernel.iostream.OutStream object at 0x7ba019425270>\n"
          ]
        }
      ]
    },
    {
      "cell_type": "markdown",
      "source": [
        "コマンドラインで与えた第 1 引数 `sample_data/README.md` は、そのパスから生成されるファイルオブジェクトに変換されて格納されることがわかる。これは、位置引数を文字列として格納し `open()` 関数に渡して開いてもほぼ同じことなのだが、存在しないパスを指定すると `FileNotFoundError` 例外が発生するのではなく、エラーメッセージが表示されて終了する点が異なる。つまり、`argparse.FileType` を使用する場合、`open()` 関数の呼び出しと例外処理のコードを書く必要がなくなる。\n",
        "\n",
        "2 つの位置引数は、それぞれ `add_argument()` に `nargs='?` と `default=sys.stdin` を渡している。これにより、位置引数が省略可能で、デフォルトでは標準入力と標準出力が格納される。実際、コマンドラインで第 2 引数 `outfile` を与えていないので、標準出力（Colab 上では `ipykernel.iostream.OutStream`）が格納されている。これらの引数を指定していない場合は、位置引数を省略するとエラーメッセージが表示されて終了する。\n",
        "\n",
        "`FileType` オブジェクトは擬似引数 `'-'` を識別し、読み込み用の `FileType` であれば `sys.stdin` を、書き込み用の `FileType` であれば `sys.stdout` に変換する:"
      ],
      "metadata": {
        "id": "sw_nM3akLkRS"
      }
    },
    {
      "cell_type": "code",
      "source": [
        "import argparse\n",
        "\n",
        "def main():\n",
        "    parser = argparse.ArgumentParser()\n",
        "    parser.add_argument(\"infile\", type=argparse.FileType(encoding=\"UTF-8\"))\n",
        "\n",
        "    # python prog.py - と同じ\n",
        "    args = parser.parse_args([\"-\"])\n",
        "    print(args.infile)\n",
        "\n",
        "if __name__ == \"__main__\":\n",
        "    main()"
      ],
      "metadata": {
        "colab": {
          "base_uri": "https://localhost:8080/"
        },
        "id": "HIVewLW3LlY1",
        "outputId": "a6200701-d3a2-408b-e7c5-fa6684cfd16f"
      },
      "execution_count": null,
      "outputs": [
        {
          "output_type": "stream",
          "name": "stdout",
          "text": [
            "<_io.TextIOWrapper name='<stdin>' mode='r' encoding='utf-8'>\n"
          ]
        }
      ]
    },
    {
      "cell_type": "markdown",
      "source": [
        "### サブコマンド ###"
      ],
      "metadata": {
        "id": "XvJLFatrZjO2"
      }
    },
    {
      "cell_type": "markdown",
      "source": [
        "多くのプログラムは、その機能をサブコマンドへと分割する。たとえば、パッケージ管理システム `pip` は、`pip list`、`pip freeze`、`pip install` などのサブコマンドを利用でき、サブコマンドごとに異なるコマンドライン引数を必要とする。\n",
        "\n",
        "`ArgumentParser` インスタンスは `add_subparsers()` メソッドによりサブコマンドをサポートしている。`add_subparsers()` メソッドは、特殊なアクションオブジェクトを返す。このオブジェクトには 1 つのメソッド `add_parser()` を持ち、コマンド名と `ArgumentParser` コンストラクタの任意の引数を受け取り、通常の方法で操作できる `ArgumentParser` オブジェクトを返す。"
      ],
      "metadata": {
        "id": "h-ybZ1uQZmCR"
      }
    },
    {
      "cell_type": "code",
      "source": [
        "import argparse\n",
        "\n",
        "def main():\n",
        "    # トップレベルのパーサーの作成\n",
        "    parser = argparse.ArgumentParser(prog=\"PROG\")\n",
        "    subparsers = parser.add_subparsers()\n",
        "\n",
        "    # \"a\" コマンドのためのパーサーを作成\n",
        "    parser_a = subparsers.add_parser(\"a\", help=\"a help\")\n",
        "    parser_a.add_argument(\"bar\", type=int, help=\"bar help\")\n",
        "\n",
        "    # \"b\" コマンドのためのパーサーを作成\n",
        "    parser_b = subparsers.add_parser(\"b\", help=\"b help\")\n",
        "    parser_b.add_argument(\"--baz\", choices=\"XYZ\", help=\"baz help\")\n",
        "\n",
        "    # python prog.py a 12 と同じ\n",
        "    args_a = parser.parse_args([\"a\", \"12\"])\n",
        "    assert args_a.bar == 12\n",
        "\n",
        "    # python prog.py b --baz Z と同じ\n",
        "    args_b = parser.parse_args([\"b\", \"--baz\", \"Z\"])\n",
        "    assert args_b.baz == \"Z\"\n",
        "\n",
        "if __name__ == \"__main__\":\n",
        "    main()"
      ],
      "metadata": {
        "id": "7covNmPueuRQ"
      },
      "execution_count": null,
      "outputs": []
    },
    {
      "cell_type": "markdown",
      "source": [
        "`python prog.py a --help` のようにサブコマンドごとにヘルプメッセージを出力させることもサポートされる。\n",
        "\n",
        "`add_subparsers()` の引数:\n",
        "\n",
        "| 引数 | 意味 |\n",
        "|:---|:---|\n",
        "| `title` | ヘルプ出力でのサブパーサーグループのタイトル。デフォルトは、`description` が指定されている場合は `'subcommands'` に、指定されていな<br />い場合は位置引数のタイトルになる |\n",
        "| `description` | ヘルプ出力に表示されるサブパーサーグループの説明。デフォルトは `None` |\n",
        "| `prog` | サブコマンドのヘルプに表示される使用方法の説明。デフォルトではプログラム名と位置引数の後ろに、サブパーサーの引数が続く |\n",
        "| `parser_class` | サブパーサーのインスタンスを作成するときに使用されるクラス。デフォルトでは現在のパーサーのクラス（例: `ArgumentParser`）になる |\n",
        "| `action` | コマンドラインにこの引数があったときの基本のアクション |\n",
        "| `dest` | サブコマンド名を格納する属性の名前。デフォルトは `None` で値は格納されない |\n",
        "| `required` | サブコマンドが必須であるかどうかを指定する。デフォルトは `False` |\n",
        "| `help` | ヘルプ出力に表示されるサブパーサーグループのヘルプ。デフォルトは `None` |\n",
        "| `metavar` | 利用可能なサブコマンドをヘルプ内で表示するための文字列。デフォルトは `None` で、サブコマンドを `{cmd1, cmd2, ..}` のような形式で表す |"
      ],
      "metadata": {
        "id": "C6I6TnI-iDPI"
      }
    },
    {
      "cell_type": "markdown",
      "source": [
        "環境変数\n",
        "--------"
      ],
      "metadata": {
        "id": "yJeT1Yuthag6"
      }
    },
    {
      "cell_type": "markdown",
      "source": [
        "``` python\n",
        "os.environ\n",
        "```\n",
        "\n",
        "`os.environ` は、環境変数を表現するマッピングオブジェクトである。`os.environ` には、最初に `os` モジュールがインポートされたタイミングの環境変数が格納される。「最初に」というのは、通常は Python の起動時に `site.py` が処理されるタイミングである。それ以後に外部から変更された環境変数は `os.environ` には反映されない。逆に、`os.environ` の変更は、実行中のプロセスにのみ反映され、別のプロセスやシステムとの間で値を共有できない。\n",
        "\n",
        "``` python\n",
        "os.getenv(key, default=None)\n",
        "```\n",
        "\n",
        "この関数は、環境変数名 `key` の値を返す。戻り値は常に文字列である。名前 `key` を持つ環境変数が存在しないときは、この関数は `default` 引数に設定した値（`default` を設定しない場合は `None`）を返す。`getenv()` は `os.environ` を使用するため、インポート後に外部から行われた環境変数の変更を反映しないことに注意。"
      ],
      "metadata": {
        "id": "ynAyGahkhbu3"
      }
    },
    {
      "cell_type": "code",
      "source": [
        "import os\n",
        "os.environ['monty'] = 'python'\n",
        "assert os.environ.get('monty') == 'python'\n",
        "os.getenv('PYTHONPATH'), os.getenv('LANG')"
      ],
      "metadata": {
        "colab": {
          "base_uri": "https://localhost:8080/"
        },
        "id": "4385K1CumgIM",
        "outputId": "bcabf0b3-849a-43e9-9955-ae03ce0e81cd"
      },
      "execution_count": null,
      "outputs": [
        {
          "output_type": "execute_result",
          "data": {
            "text/plain": [
              "('/env/python', 'en_US.UTF-8')"
            ]
          },
          "metadata": {},
          "execution_count": 10
        }
      ]
    },
    {
      "cell_type": "markdown",
      "source": [
        "設定ファイル\n",
        "------------"
      ],
      "metadata": {
        "id": "xjzyiIvJGujR"
      }
    },
    {
      "cell_type": "markdown",
      "source": [
        "### configparser ###"
      ],
      "metadata": {
        "id": "vdRpGrJHJkpf"
      }
    },
    {
      "cell_type": "markdown",
      "source": [
        "標準ライブラリの `configparser` モジュールは、INI ファイルを読み込む機能を提供する。\n",
        "\n",
        "次は、INI ファイルの例である。\n",
        "\n",
        "``` ini\n",
        "[DEFAULT]\n",
        "home_dir = /Users/User\n",
        "limit = 100\n",
        "debug = No\n",
        "\n",
        "[Multiline Values]\n",
        "chorus = I'm a lumberjack, and I'm okay\n",
        "    I sleep all night and I work all day\n",
        "\n",
        "# comment\n",
        "; comment\n",
        "\n",
        "[WORK]\n",
        "data_dir = %(home_dir)s/AppData\n",
        "```\n",
        "\n",
        "`[]` で囲んだ行がセクションの始まりを表し、`[]` の中身がセクション名となる。セクションに `key = value` を書いて、キーと値を指定する。`=` の代わりに `:` を使ってもよい。値として複数行の文字列を指定する場合は、2行目以降を改行してインデントを付ければよい。\n",
        "\n",
        "行の先頭に `#` または `;` を置くと、その行はコメントとして扱われる。\n",
        "\n",
        "一度定義したキーを `%()s` で囲んで埋め込むと、キーの値を利用できる。\n",
        "\n",
        "INI ファイルを読み込む手順は、以下のようになる。\n",
        "\n",
        "  1. `configparser.ConfigParser()` コンストラクタの呼び出しで、パーサーを作成する。\n",
        "  2. パーサーの `read(filename, encoding=None)` メソッドで、INI ファイルを読み込む。`filename` は path-like オブジェクト。\n",
        "  3. パーサーに対して、辞書のように `[SECTION]` でセクションを参照するオブジェクトを得る。\n",
        "  4. セクションオブジェクトに対して、辞書のように `[key]` で値を文字列として取得する。\n",
        "\n",
        "``` python\n",
        "import configparser\n",
        "config = configparser.ConfigParser()\n",
        "config.read(\"./config.ini\", encoding=\"utf-8\")\n",
        "default = config[\"DEFAULT\"]\n",
        "home_dir = default[\"home_dir\"]\n",
        "# home_dir = config[\"DEFAULT\"][\"home_dir\"] のような書き方もできる\n",
        "```\n",
        "\n",
        "値を数値として取得したい場合は、組み込み関数 `int()` または `float()` で型変換する必要がある。\n",
        "\n",
        "値を `bool` 型で取得する場合は、パーサーのメソッド `getboolean(section)` が使える。このメソッドは、値の `'yes'` および `'true'`、`'on'`、`'1'` を `True` に変換し、`'no'` および `'false'`、`'off'`、`'0'` を `False` に変換する。\n",
        "\n",
        "``` python\n",
        "debug = config[\"DEFAULT\"].getboolean(\"debug\")\n",
        "```"
      ],
      "metadata": {
        "id": "U5iXgyguJ-Ts"
      }
    },
    {
      "cell_type": "markdown",
      "source": [
        "### tomllib ###"
      ],
      "metadata": {
        "id": "PMFMQd6qeEj5"
      }
    },
    {
      "cell_type": "markdown",
      "source": [
        "標準ライブラリの `tomllib` モジュールは、TOML を解析する機能を提供する（Python 3.11 で追加）。このモジュールは、TOML の書き出しをサポートしていない。\n",
        "\n",
        "``` python\n",
        "tomllib.load(fp, /, *, parse_float=float)\n",
        "```\n",
        "\n",
        "この関数は、TOMLファイルを読み込み、解析結果の辞書を返す。第 1 引数には読み込み可能なバイナリモードのファイルオブジェクトを指定する。TOML の型は以下の変換表を使用して Python のデータ型に変換される。\n",
        "\n",
        "| TOML | Python |\n",
        "|:---|:---|\n",
        "| TOMLドキュメント | 辞書 |\n",
        "| 文字列 | `str` |\n",
        "| 整数 | `int` |\n",
        "| 浮動小数点数 | `float` （`parse_float` で設定可能） |\n",
        "| ブール値 | `bool` |\n",
        "| オフセット付き日時 | `datetime.datetime`（`tzinfo` 属性は `datetime.timezone` のインスタンスが設定される） |\n",
        "| ローカルの日時 | `datetime.datetime` （`tzinfo` 属性は `None` に設定される） |\n",
        "| ローカルの日付 | `datetime.date` |\n",
        "| ローカルの時刻 | `datetime.time` |\n",
        "| 配列 | `list` |\n",
        "| テーブル | `dict` |\n",
        "| インラインテーブル | `dict` |\n",
        "| テーブルの配列 | `list[dict]` |\n",
        "\n",
        "TOML の浮動小数点数型に対しては、`parse_float` に指定された呼び出し可能オブジェクトが呼び出されて変換が行われる。たとえば `decimal.Decimal` を指定すれば 10 進数型への変換となる。\n",
        "\n",
        "無効な TOML ドキュメントの場合は `tomllib.TOMLDecodeError` 例外が送出される。\n",
        "\n",
        "TOML ファイルからデータを取得するコードは、次のようになる。\n",
        "\n",
        "``` python\n",
        "import tomllib\n",
        "with open(\"pyproject.toml\", \"rb\") as f:\n",
        "    data = tomllib.load(f)\n",
        "```\n",
        "\n",
        "このように、バイナリモードでファイルオブジェクトを取得する必要がある。\n",
        "\n",
        "``` python\n",
        "tomllib.loads(s, /, *, parse_float=float)\n",
        "```\n",
        "\n",
        "この関数は、文字列 `s` から TOML を読み込むこと以外は、`load()` と同じである。\n",
        "\n",
        "``` shell\n",
        ">>> import tomllib\n",
        ">>> toml_str = \"\"\"\n",
        "... python-version = \"3.11.0\"\n",
        "... python-implementation = \"CPython\"\n",
        "... \"\"\"\n",
        ">>> data = tomllib.loads(toml_str)\n",
        ">>> data\n",
        "{'python-version': '3.11.0', 'python-implementation': 'CPython'}\n",
        "```\n",
        "\n",
        "サードパーティ製の [Tomli-W](https://github.com/hukkin/tomli-w) パッケージは、 TOML の書き込み用に `tomllib` モジュールと組み合わせて使用でき、標準ライブラリの `pickle` モジュールと同様の書き込み API を提供する。ライセンスは MIT license。インストール方法は次のとおり。\n",
        "\n",
        "``` shell\n",
        "pip install tomli-w\n",
        "```\n",
        "\n",
        "文字列として保存:  \n",
        "``` python\n",
        "import tomli_w\n",
        "\n",
        "doc = {\"table\": {\"nested\": {}, \"val3\": 3}, \"val2\": 2, \"val1\": 1}\n",
        "expected_toml = \"\"\"\\\n",
        "val2 = 2\n",
        "val1 = 1\n",
        "\n",
        "[table]\n",
        "val3 = 3\n",
        "\n",
        "[table.nested]\n",
        "\"\"\"\n",
        "assert tomli_w.dumps(doc) == expected_toml\n",
        "```\n",
        "\n",
        "ファイルへの書き込み:  \n",
        "``` python\n",
        "import tomli_w\n",
        "\n",
        "doc = {\"one\": 1, \"two\": 2, \"pi\": 3}\n",
        "with open(\"path_to_file/conf.toml\", \"wb\") as f:\n",
        "    tomli_w.dump(doc, f)\n",
        "```"
      ],
      "metadata": {
        "id": "gZGhOJkSeFce"
      }
    },
    {
      "cell_type": "markdown",
      "source": [
        "国際化\n",
        "------"
      ],
      "metadata": {
        "id": "V9UvpLi0ObCC"
      }
    },
    {
      "cell_type": "markdown",
      "source": [
        "### 国際化と地域化 ###"
      ],
      "metadata": {
        "id": "jGtRQ3FsHttN"
      }
    },
    {
      "cell_type": "markdown",
      "source": [
        "プログラムを世界の複数の地域に対応するようにしたい場合、必要に応じて機能的な変更や拡張を行うというやり方では、開発や保守に多くの時間と費用がかかる。\n",
        "\n",
        "そこで、プログラムの本質的な機能と、複数の地域に対応する機能を分離し、プログラムに機能的な変更や拡張を加えることなく複数の地域に適合できるようにするための設計が考案された。そのような設計を**国際化**（internationalization）といい、 i18n と略される（internationalization の先頭の i と語尾の n の間に 18 文字があることに起因する）。主なものは以下の通り。\n",
        "\n",
        "  * Unicode への対応\n",
        "  * 右横書き言語への対応\n",
        "  * 翻訳機能の組み込み\n",
        "  * タイムゾーン対応の組み込み\n",
        "  * 通貨情報の組み込み\n",
        "  * 地域特有の表記への書式化\n",
        "\n",
        "i18n の設計に基づいてプログラムを特定の地域に対応させるための実装は**地域化**（localization）と呼ばれ、L10N と略される（localization の先頭の l と語尾の n の間に 10 文字があることに起因する）。地域化には、縦書き、ルビへの対応など、地域固有の追加機能を含むこともある。\n",
        "\n",
        "現代の OS は国際化されており、特定の地域への対応が簡単な設定だけで実現されている。例えば、Unix 系 OS の場合、環境変数などで言語の設定を行う。 Unix 系 OS 上で動く国際化されたプログラムは、環境変数などの設定を参照して地域の言語を決定している。\n",
        "\n",
        "Python は言語レベルで Unicode に対応し、また、標準ライブラリの `datetime` モジュールでタイムゾーンに対応し、標準ライブラリの `locale` モジュールで通貨情報と地域特有の表記への書式化に対応している。"
      ],
      "metadata": {
        "id": "J6IZhEYrH89v"
      }
    },
    {
      "cell_type": "markdown",
      "source": [
        "### 翻訳機能 ###"
      ],
      "metadata": {
        "id": "-PlyZGlld2Q9"
      }
    },
    {
      "cell_type": "markdown",
      "source": [
        "クロスプラットフォームで開発されるプログラムでは、プログラム中の文字列を翻訳する機能に [GNU gettext](https://www.gnu.org/software/gettext/) ライブラリを利用することが広まっている。 GNU gettext では、以下のように翻訳機能をサポートする。\n",
        "\n",
        "  1. ソースコードの中で翻訳対象とする文字列を `_(\"...\")` で囲んでマークする。\n",
        "  2. マークづけをしたファイルに `xgettext` コマンドを用いて翻訳可能な全ての文字列のリストを保持する .pot ファイルを生成する。\n",
        "  3. 必要により .pot ファイルにコメントを付ける。コメントは翻訳に役立つ情報とする。ソースコード中の文字列の直前にコメントを置くと、そのコメントが .pot ファイルに引き継がれる。\n",
        "  4. .pot ファイルを入力として `msginit` コマンドを実行し、言語コードの名前を持つ .po ファイルを生成する。日本語なら `ja.po`、韓国語なら `ko.po`、中国語（簡体字）なら `zh-CN.po`、スペイン語なら `es.po` というようになる。ファイル名を指定することも可能。\n",
        "  5. 各 .po ファイルの中の文字列のリストに対して翻訳作業を行っていく。手作業またはツールにより .po ファイルを編集する。\n",
        "  6. .poファイルを `msgfmt` コマンドで .mo バイナリファイルにコンパイルする。.mo ファイルは通常 `locale/<言語コード>_<国コード>/LC_MESSAGES` という言語ごとの専用のディレクトリに配置される。日本語なら `locale/ja_JP/LC_MESSAGES` である。プログラム本体と翻訳リソースをパッケージにして配布する。\n",
        "  7. OS は環境変数より翻訳リソースを検索し（.mo ファイル中に該当言語のリソースがありさえすれば）、プログラムにその言語による表示を行わせることができる。\n",
        "\n",
        "Python 標準ライブラリの `gettext` モジュールは、上記の過程 7 の機能に対する Python インターフェースを提供する。\n",
        "\n",
        "``` python\n",
        "gettext.translation(domain, localedir=None, languages=None, class_=None, fallback=False)\n",
        "```\n",
        "\n",
        "この関数は、`<localedir>/<language>/LC_MESSAGES/<domain>.mo` ファイルから翻訳リソースを探索する翻訳オブジェクトを返す。`<language>` はシーケンスである `languages` の要素である。`localedir` 引数が省略された場合、標準のシステムロケールディレクトリが使われる。`languages` 引数が省略された場合、環境変数 `LANGUAGE`、`LC_ALL`、`LC_MESSAGES`、および `LANG` が検索される。\n",
        "\n",
        "`class_` 引数に翻訳オブジェクトの型を指定できる。指定されていない場合は `gettext.GNUTranslations` クラスとなる。\n",
        "\n",
        ".mo ファイルが見つからなかった場合、 `fallback` 引数が `False`（デフォルト値）ならこの関数は `OSError` を送出し、`fallback` 引数が `True` なら `gettext.NullTranslations` インスタンスが返される。 `gettext.NullTranslations` クラスは、翻訳クラスを実装するのに使える基本的なインターフェースを提供している。 `gettext.GNUTranslations` クラスも `gettext.NullTranslations` のサブクラスである。 `gettext.NullTranslations` クラスのインターフェース自体は、未翻訳の文字列を出力する。\n",
        "\n",
        "翻訳オブジェクトの主なメソッドは次のとおり。\n",
        "\n",
        "| メソッド | 機能 | 戻り値 |\n",
        "|:---|:---|:---|\n",
        "| `gettext(message)` | `message` のローカライズされた翻訳を返す | `str` |\n",
        "| `install(names=None)` | このオブジェクトの `gettext()` メソッドを組み込み名前空間 `__builtins__` にインストールし、変数 `_` に束縛する。`names` は<br />インストールする別のメソッドをシーケンスで指定するための引数 | `None` |\n",
        "\n",
        "翻訳オブジェクトの `install()` メソッドの使用は便利な方法ではあるが、組み込み名前空間 `__builtins__` にインストールするため、その影響はプログラム全体に及ぶことに注意する。モジュールのグローバルな名前空間にインストールするには、このメソッドの代わりに次のコードを使用して `_(...)` を使用できるようにする必要がある:\n",
        "\n",
        "``` python\n",
        "import gettext\n",
        "t = gettext.translation('mymodule', ...)\n",
        "_ = t.gettext\n",
        "```\n",
        "\n",
        "以下のファイル配置を持つプロジェクトで、`gettext` モジュールによる翻訳を実現する例を示す。\n",
        "\n",
        "``` text\n",
        "my-project/\n",
        "    my_package/\n",
        "        __init__.py\n",
        "        __main__.py\n",
        "    locale/\n",
        "        ja_JP/\n",
        "            LC_MESSAGES/\n",
        "                messages.po\n",
        "                messages.mo\n",
        "        messages.pot\n",
        "```\n",
        "\n",
        "ここでは、`__main__.py` で翻訳機能を実装する。\n",
        "\n",
        "`__main__.py`:  \n",
        "``` python\n",
        "import gettext\n",
        "import os\n",
        "\n",
        "import my_package\n",
        "\n",
        "def init_translation():\n",
        "    # 翻訳ファイルを配置するディレクトリ\n",
        "    path_to_locale_dir = os.path.abspath(\n",
        "        os.path.join(\n",
        "            os.path.dirname(__file__),\n",
        "            '../locale'\n",
        "        )\n",
        "    )\n",
        "\n",
        "    # 翻訳用クラスの設定\n",
        "    translater = gettext.translation(\n",
        "        'messages',                   # domain: 辞書ファイルの名前\n",
        "        localedir=path_to_locale_dir, # 辞書ファイル配置ディレクトリ\n",
        "        languages=['ja_JP'],          # 翻訳に使用する言語\n",
        "        fallback=True                 # .moファイルが見つからなかった時は未翻訳の文字列を出力\n",
        "    )\n",
        "\n",
        "    # gettext() メソッドを組み込み名前空間で _ に束縛する\n",
        "    translater.install()\n",
        "\n",
        "# プログラムを実行\n",
        "if __name__ = '__main__':\n",
        "    init_translation()\n",
        "    my_package.main()\n",
        "```\n",
        "\n",
        "翻訳対象の文字列をマーク付けしておく。\n",
        "\n",
        "`__init__.py`:  \n",
        "``` python\n",
        "def main():\n",
        "    print(_('Hello, World!'))\n",
        "```\n",
        "\n",
        ".pot ファイルを生成する:  \n",
        "``` shell\n",
        "PS> xgettext -o locale/messages.pot my_package/__init__.py\n",
        "```\n",
        "\n",
        ".poファイルの作成:  \n",
        "``` shell\n",
        "PS> msginit -l ja_JP -o locale/ja_JP/LC_MESSAGES/messages.po -i locale/messages.pot\n",
        "```\n",
        "\n",
        ".poファイルを開いて、翻訳を入力する:  \n",
        "``` text\n",
        "msgid \"Hello, World!\"\n",
        "msgstr \"こんにちは、世界！\"\n",
        "```\n",
        "\n",
        ".moファイルへのコンパイル:  \n",
        "\n",
        "``` shell\n",
        "PS> msgfmt locale/ja_JP/LC_MESSAGES/messages.po -o locale/ja_JP/LC_MESSAGES/messages.mo\n",
        "```\n",
        "\n",
        "すべてが設定されたら、プログラムを実行して、指定した言語の翻訳が適用されているか確認する。\n",
        "\n",
        "``` shell\n",
        "PS> python -m my_package\n",
        "こんにちは、世界！\n",
        "```"
      ],
      "metadata": {
        "id": "q5AoXgOtd2sz"
      }
    }
  ]
}