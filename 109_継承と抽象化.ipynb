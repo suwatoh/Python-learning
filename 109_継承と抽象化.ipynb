{
  "nbformat": 4,
  "nbformat_minor": 0,
  "metadata": {
    "colab": {
      "provenance": [],
      "authorship_tag": "ABX9TyNCOUvtc8QITE1oK4bp97wv",
      "include_colab_link": true
    },
    "kernelspec": {
      "name": "python3",
      "display_name": "Python 3"
    },
    "language_info": {
      "name": "python"
    }
  },
  "cells": [
    {
      "cell_type": "markdown",
      "metadata": {
        "id": "view-in-github",
        "colab_type": "text"
      },
      "source": [
        "<a href=\"https://colab.research.google.com/github/suwatoh/Python-learning/blob/main/109_%E7%B6%99%E6%89%BF%E3%81%A8%E6%8A%BD%E8%B1%A1%E5%8C%96.ipynb\" target=\"_parent\"><img src=\"https://colab.research.google.com/assets/colab-badge.svg\" alt=\"Open In Colab\"/></a>"
      ]
    },
    {
      "cell_type": "markdown",
      "source": [
        "継承と抽象化\n",
        "============"
      ],
      "metadata": {
        "id": "DnkonU4dBPzq"
      }
    },
    {
      "cell_type": "markdown",
      "source": [
        "クラス間の関係性\n",
        "----------------"
      ],
      "metadata": {
        "id": "KKUPUh0J9vrr"
      }
    },
    {
      "cell_type": "markdown",
      "source": [
        "クラス間の**関係性**（relationship）は、次の二つの関係によって表される。\n",
        "\n",
        "  1. **has-a 関係**: 一方が自己の一部（機能）として他方を包含する関係。 ex. 車はエンジンを持つ\n",
        "  2. **is-a 関係**: 一方が他方の分類になっている関係。**汎化関係**（generalization）とも呼ばれる。 ex. 哺乳類は動物である\n",
        "\n",
        "言語レベルでは、has-a 関係は**合成**（composition）、すなわちクラスの属性にオブジェクトを代入する形で表現され、そのオブジェクトに機能を**委譲**（delegate）する（つまりのオブジェクトのメソッドを呼び出す）。\n",
        "\n",
        "一方、is-a 関係はクラスの継承として表現される。継承は、オブジェクトを包含する必要がないので、合成よりメモリ消費量が少ないというメリットがある。\n",
        "\n",
        "クラス間の関係性は**依存性**（dependency）の観点からも語られる。クラスがほかのクラスについてどれだけ内容を知っているか（どれだけ依存しているか）という度合いを**結合度**（coupling）と呼ぶ。結合度が低いことを**疎結合**（loose coupling）、高いことを**密結合**（tight coupling）という。クラス間の関係性が疎結合であることのメリットは次のとおり。\n",
        "\n",
        "  * 関係先のクラスの実装を交換できる\n",
        "  * 関係元の実装時に関係先の詳細を気にしなくてもよい\n",
        "  * 関係先のクラスが完成していなくても関係元のテストができる\n",
        "  * 関係先の変更に関係元が影響を受けない\n",
        "\n",
        "is-a 関係は一方が他方の特性をすべて持っていることになるので、is-a 関係で構築するクラス設計は疎結合な作りとはなりにくい。現代ではコンピューターのスペックが向上し、メモリ消費量に気を使わなくてもよくなったことから、継承で得られるメリットよりも、上記の疎結合のメリットのほうが重要視されるようになった。このため、今日では「**継承より合成**」あるいは「**継承より委譲**」などと言われている。\n",
        "\n",
        "クラス設計を has-a 関係で構築するときに使われる手法が「抽象化」である。**抽象化**（abstraction）とは、対象から注目すべき要素を重点的に抜き出して他は捨て去ることをいう。汎化（一般化）も抽象化の一形態であり、同じ種類のクラスの共通点を抜き出す抽象化である。has-a 関係のために使われる抽象化は、一般化よりさらに進めて、振る舞いのみを抜き出す。言語レベルでは、メソッドのシグネチャ（引数の個数や型、戻り値の型のこと）だけを宣言するインターフェースを使う。\n",
        "\n",
        "下図では、クラス A は、インターフェース C を実装するオブジェクトを持つ。B はそのインターフェースを実装するクラスである。クラス A は B のインスタンスを持つことになっても、B そのものの実装を知らなくてよいので、疎結合な作りにできる。\n",
        "\n",
        "![](http://www.plantuml.com/plantuml/png/SoWkIImgAStDuIfEJin9LJ3KC-9ApaaiBbPmXD9EN9bv9Qb5QOd9gGhEN8uAkdOApWfM2Xc9nLpE2ZOrUdf05GwfUIb0Cm00)"
      ],
      "metadata": {
        "id": "Gy1G9UNC9wru"
      }
    },
    {
      "cell_type": "markdown",
      "source": [
        "抽象メソッドと抽象クラス\n",
        "------------------------"
      ],
      "metadata": {
        "id": "c2VwKRo_B38m"
      }
    },
    {
      "cell_type": "markdown",
      "source": [
        "**抽象メソッド**（abstract method）とは、それ自身は具体的な処理内容を持たず、派生クラスにおいてオーバーライドして実装しないとエラーが発生するようなメソッドのことをいう。\n",
        "\n",
        "**抽象クラス**（abstract class）とは、抽象メソッドを持つクラスのことをいう。抽象クラスは、インスタンス化するものではない。抽象クラスの使い方が継承の基底クラスとなることに限られることを強調して、**抽象基底クラス**（abstract base class; ABC）と呼ぶこともある。その派生クラスにおいて抽象メソッドを実装する必要があるから、派生クラスが持つべき機能を抽象クラスにおいて指定することができる。抽象クラスから継承し具体的な振る舞いを実装するクラスを**具象クラス**（concrete class）と呼ぶ。\n",
        "\n",
        "抽象クラスは、データ属性も普通のメソッドも持てる点で、インターフェースとは異なる。しかしながら、インターフェースをサポートしていないプログラミング言語では、抽象クラスをインターフェースの代用とする。\n",
        "\n",
        "Python は、言語レベルでインターフェースも抽象クラスもサポートしていない。抽象メソッドを定義するための構文はないが、`NotImplementedError` 例外を送出することで抽象メソッドを表現することが多い。\n",
        "\n",
        "``` python\n",
        "# Python で抽象クラス\n",
        "class MyABC:\n",
        "    def my_abstract_method(self, arg):\n",
        "        raise NotImplementedError()\n",
        "```\n",
        "\n",
        "この `MyABC` クラスはインスタンス化が可能である。また、`MyABC` クラスの派生クラスは、`my_abstract_method()` をオーバーライドしていなくてもインスタンス化が可能である。一方、抽象クラス・抽象メソッドをサポートする言語では、抽象クラスから通常の方法でインスタンスを生成しようとするとエラーが発生するし、また、抽象メソッドをオーバーライドしていない派生クラスをインスタンス化しようとするとエラーが発生する。\n",
        "\n",
        "抽象クラス・抽象メソッドをサポートする言語と同様の機能を Python で実装するのが、標準ライブラリの `abc` モジュールによって提供されるメタクラス `ABCMeta` と関数デコレーター `abstractmethod()` である。`abc.ABCMeta` は、抽象基底クラスを定義するためのメタクラスである。クラス定義のキーワード引数として `metaclass=abc.ABCMeta` を渡したクラスは、インスタンス化ができなくなる。また、`abstractmethod()` でデコレートされたメソッドをオーバーライドしていない派生クラスは、インスタンス化ができなくなる。抽象メソッドの本体にコードを書くことは無駄なので、Ellipsis `...` のみを書くようにする。\n",
        "\n",
        "次は、`abc.ABCMeta` と `abc.abstractmethod()` の使用例である。"
      ],
      "metadata": {
        "id": "1olmHlYiB_yL"
      }
    },
    {
      "cell_type": "code",
      "source": [
        "from abc import ABCMeta, abstractmethod\n",
        "\n",
        "class MyABC(metaclass=ABCMeta):\n",
        "    @abstractmethod\n",
        "    def my_abstract_method(self, arg): ...\n",
        "\n",
        "class MyClass(MyABC):\n",
        "    pass\n",
        "\n",
        "# 抽象クラスのインスタンスを生成しようとするとエラーが発生する\n",
        "try:\n",
        "    a = MyABC()\n",
        "except TypeError as err:\n",
        "    print(f\"{type(err).__name__}: {err}\")\n",
        "\n",
        "# 抽象メソッドをオーバーライドしていない派生クラスのインスタンスを生成しようとするとエラーが発生する\n",
        "try:\n",
        "    x = MyClass()\n",
        "except TypeError as err:\n",
        "    print(f\"{type(err).__name__}: {err}\")"
      ],
      "metadata": {
        "colab": {
          "base_uri": "https://localhost:8080/"
        },
        "id": "6PKLDsJY2ZU1",
        "outputId": "0be6208b-3c3f-4293-bb73-8b04b475d7f7"
      },
      "execution_count": null,
      "outputs": [
        {
          "output_type": "stream",
          "name": "stdout",
          "text": [
            "TypeError: Can't instantiate abstract class MyABC with abstract method my_abstract_method\n",
            "TypeError: Can't instantiate abstract class MyClass with abstract method my_abstract_method\n"
          ]
        }
      ]
    },
    {
      "cell_type": "markdown",
      "source": [
        "`abc.abstractmethod()` が他のデコレーターと組み合わされる場合、次の例のように、一番内側のデコレーターとして適用しなければならない:\n",
        "\n",
        "``` python\n",
        "class C(metaclass=ABCMeta):\n",
        "    @classmethod\n",
        "    @abstractmethod\n",
        "    def my_abstract_classmethod(cls, arg2): ...\n",
        "\n",
        "    @staticmethod\n",
        "    @abstractmethod\n",
        "    def my_abstract_staticmethod(arg3): ...\n",
        "\n",
        "    @property\n",
        "    @abstractmethod\n",
        "    def my_abstract_property(self): ...\n",
        "\n",
        "    @my_abstract_property.setter\n",
        "    @abstractmethod\n",
        "    def my_abstract_property(self, val): ...\n",
        "```"
      ],
      "metadata": {
        "id": "uZRLPtAn0Ls7"
      }
    },
    {
      "cell_type": "markdown",
      "source": [
        "メタクラス `abc.ABCMeta` を使って作られたクラスは、`register(subclass)` メソッドを持ち、これを使って `subclass` を「仮想的サブクラス」としてこの抽象基底クラスに登録できる:"
      ],
      "metadata": {
        "id": "IBPusxdN2z4c"
      }
    },
    {
      "cell_type": "code",
      "source": [
        "from abc import ABCMeta\n",
        "\n",
        "class MyABC(metaclass=ABCMeta):\n",
        "    pass\n",
        "\n",
        "MyABC.register(tuple)\n",
        "\n",
        "assert issubclass(tuple, MyABC)\n",
        "assert isinstance((), MyABC)"
      ],
      "metadata": {
        "id": "HZhnUhAH3Ztj"
      },
      "execution_count": null,
      "outputs": []
    },
    {
      "cell_type": "markdown",
      "source": [
        "`abc` モジュールは `abc.ABC` クラスも提供している。`abc.ABC` は、継承を利用して抽象基底クラスを代替的に定義するヘルパークラスである。これを使うと、`class MyABC(metaclass=ABCMeta):` のようなクラス定義は、継承を使った定義 `class MyABC(ABC):` に置き換えることができる。"
      ],
      "metadata": {
        "id": "4CCj-mbc0_s2"
      }
    },
    {
      "cell_type": "code",
      "source": [
        "from abc import ABC, ABCMeta\n",
        "\n",
        "class MyABC(ABC):\n",
        "    pass\n",
        "\n",
        "assert isinstance(MyABC, ABCMeta)"
      ],
      "metadata": {
        "id": "wwhpWGuq1AiG"
      },
      "execution_count": null,
      "outputs": []
    },
    {
      "cell_type": "markdown",
      "source": [
        "collections.abc\n",
        "---------------"
      ],
      "metadata": {
        "id": "_fHAdhQUMfiZ"
      }
    },
    {
      "cell_type": "markdown",
      "source": [
        "標準ライブラリの `collections.abc` モジュールは、さまざまな抽象基底クラスを提供する。たとえば\n",
        "  * `collections.abc.Hashable` は、ハッシュ可能型を表現する抽象基底クラスであり、抽象メソッド `__hash__()` を持つ。\n",
        "  * `collections.abc.Callable` は、呼び出し可能型を表現する抽象基底クラスであり、抽象メソッド `__call__()` を持つ。\n",
        "  * `collections.abc.Sized` は、サイズ付きの型を表現する抽象基底クラスであり、抽象メソッド `__len__()` を持つ。`__len__()` は、組み込み関数 `len()` を実行すると呼び出される。"
      ],
      "metadata": {
        "id": "-bjzFTQUMhjI"
      }
    },
    {
      "cell_type": "code",
      "source": [
        "import collections.abc\n",
        "\n",
        "class MyClass:\n",
        "    __hash__ = None\n",
        "\n",
        "assert not isinstance(MyClass(), collections.abc.Hashable)"
      ],
      "metadata": {
        "id": "_YufHMhTZmi2"
      },
      "execution_count": null,
      "outputs": []
    },
    {
      "cell_type": "markdown",
      "source": [
        "なお、`len()` がメソッドではなく関数として提供されている理由について、[公式 FAQ](https://docs.python.org/ja/3/faq/design.html#why-does-python-use-methods-for-some-functionality-e-g-list-index-but-functions-for-other-e-g-len-list) には、`len` のような演算は関数呼び出し形式にしたほうが直感的でわかりやすいからという説明をしている。\n",
        "\n",
        "`len()` 関数にはもう 1 つ意味があって、それはバリデーションである。実際、サイズ付きオブジェクト `obj` では、 `__len__()` メソッドの呼び出しによってもサイズ（要素の個数）を取得できるが、`len(obj)` を呼び出す場合、 `sys.maxsize` を超えるサイズに対して `OverflowError` 例外を送出する。 OAOO 原則の観点からは、このようなバリデーションを、各サイズ付き型の `__len__()` メソッドに繰り返し実装するべきではない。`len()` 関数は、クラスの継承に頼らずサイズのバリデーションを実装するものである。"
      ],
      "metadata": {
        "id": "HekiSOTB4lh2"
      }
    },
    {
      "cell_type": "markdown",
      "source": [
        "コンポジットパターン\n",
        "--------------------"
      ],
      "metadata": {
        "id": "7vRWtDkh83vi"
      }
    },
    {
      "cell_type": "markdown",
      "source": [
        "**コンポジットパターン**（composite pattern）は、デザインパターンの 1 つで、木構造について各節点と各葉に対する汎化に基づく設計パターンである。\n",
        "\n",
        "<img src=\"https://upload.wikimedia.org/wikipedia/commons/8/8a/Tree-sample1.png\" width=400>\n",
        "\n",
        "コンポジットパターンでは、木構造の各節点と各葉に共通するインターフェースを抜き出して Component クラスを定義する。Component クラスは抽象クラスとし、各節点と各葉をそれぞれ定義するための具象クラス Composite と Leaf を定義しなければならない。\n",
        "\n",
        "コンポジットパターンの利点は、木構造とやりとりする Client が Component インターフェースを介して全ての要素に対する操作を行うことが簡単にできることである。\n",
        "\n",
        "![](https://www.plantuml.com/plantuml/png/TOuz3i8m38NtdC8Z3Bb01rIfAvSmYL4Z9NQLk2obTqSogbeGJ9RUp_FNDyMgSyaEcKLHap0CEH6hmrlJYa5Xa3894oii3c3Pz1LaecgLqzcjBcHi3Qw4TylzCcsf9ILBX37bM8c_mW0OezrAHHva_J55WWDZI3LaSczKy9STqXc1doV_FAhxw_zMrsr88FvZioUESyal)\n",
        "\n",
        "Pythonでの最低限の実装は以下のようになる。"
      ],
      "metadata": {
        "id": "4PCvE5ji84cd"
      }
    },
    {
      "cell_type": "code",
      "source": [
        "from abc import ABCMeta, abstractmethod\n",
        "\n",
        "\n",
        "class Component(metaclass=ABCMeta):\n",
        "    @abstractmethod\n",
        "    def operation(self): ...\n",
        "\n",
        "\n",
        "class Composite(Component):\n",
        "    def __init__(self):\n",
        "        super().__init__()\n",
        "        self.children = []\n",
        "\n",
        "    def operation(self):\n",
        "        for child in self.children:\n",
        "            child.operation()\n",
        "\n",
        "    def add(self, composite) -> None:\n",
        "        self.children.append(composite)\n",
        "\n",
        "    def remove(self, composite) -> None:\n",
        "        self.children.remove(composite)\n",
        "\n",
        "\n",
        "class Leaf(Component):\n",
        "    def __init__(self, text):\n",
        "        super().__init__()\n",
        "        self.text = text\n",
        "\n",
        "    def operation(self):\n",
        "        print(self.text)\n",
        "\n",
        "\n",
        "def client(component):\n",
        "    component.operation()\n",
        "\n",
        "\n",
        "def main():\n",
        "    leaf1 = Leaf(\"leaf1\")\n",
        "    leaf2 = Leaf(\"leaf2\")\n",
        "    leaf3 = Leaf(\"leaf3\")\n",
        "    leaf4 = Leaf(\"leaf4\")\n",
        "    comp1 = Composite()\n",
        "    comp2 = Composite()\n",
        "    comp1.add(leaf1)\n",
        "    comp1.add(leaf2)\n",
        "    comp1.add(leaf3)\n",
        "    comp2.add(leaf4)\n",
        "    root = Composite()\n",
        "    root.add(comp1)\n",
        "    root.add(comp2)\n",
        "    client(root)\n",
        "\n",
        "\n",
        "if __name__ == \"__main__\":\n",
        "    main()"
      ],
      "metadata": {
        "colab": {
          "base_uri": "https://localhost:8080/"
        },
        "id": "ZeQDSjhbMJV3",
        "outputId": "44cb83e3-7425-4883-8e34-ef65627088dc"
      },
      "execution_count": null,
      "outputs": [
        {
          "output_type": "stream",
          "name": "stdout",
          "text": [
            "leaf1\n",
            "leaf2\n",
            "leaf3\n",
            "leaf4\n"
          ]
        }
      ]
    },
    {
      "cell_type": "markdown",
      "source": [
        "ブリッジパターン\n",
        "----------------"
      ],
      "metadata": {
        "id": "pzbgHLlJxi2y"
      }
    },
    {
      "cell_type": "markdown",
      "source": [
        "**ブリッジパターン**（bridge pattern）は、デザインパターンの 1 つで、2 つ以上の異なる方向性に継承されるクラス階層を、合成を使って 1 つのクラスにまとめる設計パターンである。\n",
        "\n",
        "たとえば、円を描画するクラスを考える。クラスはインターフェースとして `draw_circle()` メソッドを持つものとする。実装方法の違いにより、これが 2 つのクラス `DrawingAPI1` と `DrawingAPI2` に継承され、メソッドがオーバーライドされるとする。以下のクラス図は、`DrawingAPI1` と `DrawingAPI2` を拡張するためにそれぞれ継承を使った例を表している。\n",
        "\n",
        "![](https://www.plantuml.com/plantuml/png/SoWkIImgAStDuKfCAYufIamkKN0fIYpFp4jt3F1KgEPIKAY6ITGgf01bufCpYv9pKZKqkMgvadCIYukHr1k2D11KPOHL5PAjDZLwUiYcuf4pWfhkYCTc9pnoplXSJC2TXa37wEegE68AEI496K64d365NBWSKlDIW44F0000)\n",
        "\n",
        "この例では、単純にクラス数が増えるだけでなく、各クラスに共通するような拡張を行う場合に少なくとも `DrawingAPI1` と `DrawingAPI2` それぞれに同じコードを書くことになってしまう（そうなれば OAOO 原則違反である）。これはクラス継承の危険性を示す一例である。\n",
        "\n",
        "この上位 2 層を、ブリッジパターンを使って 1 つの `CircleShape` クラスにまとめるコードを以下に示す。"
      ],
      "metadata": {
        "id": "lfg9kMIfxjrM"
      }
    },
    {
      "cell_type": "code",
      "source": [
        "class DrawingAPI1:\n",
        "    def draw_circle(self, x, y, radius):\n",
        "        return f\"API1.circle at {x}:{y} - radius: {radius}\"\n",
        "\n",
        "\n",
        "class DrawingAPI2:\n",
        "    def draw_circle(self, x, y, radius):\n",
        "        return f\"API2.circle at {x}:{y} - radius: {radius}\"\n",
        "\n",
        "\n",
        "class CircleShape:\n",
        "    def __init__(self, x, y, radius, drawing_api):\n",
        "        self.x = x\n",
        "        self.y = y\n",
        "        self.radius = radius\n",
        "        self.drawing_api = drawing_api  # 合成\n",
        "\n",
        "    def draw(self):\n",
        "        return self.drawing_api.draw_circle(self.x, self.y, self.radius)  # 委譲\n",
        "\n",
        "\n",
        "if __name__ == \"__main__\":\n",
        "    for drawing_api in [DrawingAPI1(), DrawingAPI2()]:\n",
        "        cs = CircleShape(1.0, 2.0, 3.0, drawing_api)\n",
        "        print(cs.draw())"
      ],
      "metadata": {
        "colab": {
          "base_uri": "https://localhost:8080/"
        },
        "id": "BuFhde0-4HQM",
        "outputId": "dd9569df-7f62-4fe8-d347-fcf733089b93"
      },
      "execution_count": null,
      "outputs": [
        {
          "output_type": "stream",
          "name": "stdout",
          "text": [
            "API1.circle at 1.0:2.0 - radius: 3.0\n",
            "API2.circle at 1.0:2.0 - radius: 3.0\n"
          ]
        }
      ]
    },
    {
      "cell_type": "markdown",
      "source": [
        "`CircleShape` クラスは `draw_circle()` メソッドを持つオブジェクトを包含し、描画処理を委譲している。インスタンス変数 `drawing_api` の参照でダックタイピングを使っているので、継承は全く使わずに済む。`DrawingAPI` と `DrawingAPI1`、 `DrawingAPI2` によって形作られたクラス継承の階層が、 `CircleShape` にまとめらた形になる。新たな機能の追加は `CircleShape` に対してだけ行えばよい。\n",
        "\n",
        "ブリッジパターンを使用して作成したクラスを対象に、またブリッジパターンを使用するというようにすれば、どのようなクラス階層も 2 階層にまとめることができる。ただし、このようなクラスの設計は複雑であり、コードの可読性を下げることに注意する。ブリッジパターンは、実際に使われるかどうかより、2 階層以上のクラス継承を 1 つのクラスに潰せる、言い換えれば、クラス継承を 2 階層以上に複雑化する必要がないことを証明するものとして意義がある。"
      ],
      "metadata": {
        "id": "6KJUVDN6-xgI"
      }
    },
    {
      "cell_type": "markdown",
      "source": [
        "テンプレートメソッドパターン\n",
        "----------------------------"
      ],
      "metadata": {
        "id": "IuY9UELunkpp"
      }
    },
    {
      "cell_type": "markdown",
      "source": [
        "**テンプレートメソッドパターン**（template method pattern）は、デザインパターンの 1 つで、抽象的な処理を定義し、その処理の中で個別の処理を呼び出すことで、振る舞いを共通化する設計パターンである。\n",
        "\n",
        "テンプレートメソッドパターンは、抽象クラスの仕組みを巧妙に利用したクラス設計として知られている:\n",
        "\n",
        "  1. 抽象クラスにおいて、テンプレートメソッドと呼ばれるメソッドに処理の枠組みを定義するが、個別の処理については抽象メソッドを呼び出すだけとする。\n",
        "  2. 実際にテンプレートメソッドを使うためには、抽象クラスから継承して、抽象メソッドをオーバーライドし個別の処理を実装しなければならない。\n",
        "\n",
        "テンプレートメソッドに共通の処理を書くことになるので、コードの重複を避け、コードの保守性を高くすることができる。その反面として、個別の処理の自由度が減少する。\n",
        "\n",
        "以下にテンプレートメソッドパターンを使って文字列リストを書式化して出力するプログラムの例を示す。"
      ],
      "metadata": {
        "id": "y9cvlui9nlRq"
      }
    },
    {
      "cell_type": "code",
      "source": [
        "from abc import ABCMeta, abstractmethod\n",
        "\n",
        "\n",
        "class StringLister(metaclass=ABCMeta):\n",
        "    def __init__(self, items):\n",
        "        self.items = items\n",
        "\n",
        "    # テンプレートメソッド\n",
        "    def display(self):\n",
        "        ret = self.format_header()\n",
        "        for item in self.items:\n",
        "            ret += self.format_item(item)\n",
        "        ret += self.format_footer()\n",
        "        return ret\n",
        "\n",
        "    @abstractmethod\n",
        "    def format_header(self):\n",
        "        ...\n",
        "\n",
        "    @abstractmethod\n",
        "    def format_item(self, item):\n",
        "        ...\n",
        "\n",
        "    @abstractmethod\n",
        "    def format_footer(self):\n",
        "        ...\n",
        "\n",
        "\n",
        "class PlainTextStringLister(StringLister):\n",
        "    def format_header(self):\n",
        "        return \"\"\n",
        "\n",
        "    def format_item(self, item):\n",
        "        return \" - \" + item + \"\\n\"\n",
        "\n",
        "    def format_footer(self):\n",
        "        return \"\"\n",
        "\n",
        "\n",
        "class HtmlStringLister(StringLister):\n",
        "    def format_header(self):\n",
        "        return \"<ul>\\n\"\n",
        "\n",
        "    def format_item(self, item):\n",
        "        return \"  <li>\" + item + \"</li>\\n\"\n",
        "\n",
        "    def format_footer(self):\n",
        "        return \"<ul>\\n\"\n",
        "\n",
        "\n",
        "if __name__ == \"__main__\":\n",
        "    items = [\"First\", \"Second\", \"Third\"]\n",
        "    # 多態性\n",
        "    for o in [PlainTextStringLister(items), HtmlStringLister(items)]:\n",
        "        print(o.display())"
      ],
      "metadata": {
        "colab": {
          "base_uri": "https://localhost:8080/"
        },
        "id": "aC5w50CWnl3U",
        "outputId": "d75e7fc0-1e0c-488d-a43b-fd6969eb5dea"
      },
      "execution_count": null,
      "outputs": [
        {
          "output_type": "stream",
          "name": "stdout",
          "text": [
            " - First\n",
            " - Second\n",
            " - Third\n",
            "\n",
            "<ul>\n",
            "  <li>First</li>\n",
            "  <li>Second</li>\n",
            "  <li>Third</li>\n",
            "<ul>\n",
            "\n"
          ]
        }
      ]
    },
    {
      "cell_type": "markdown",
      "source": [
        "実のところ、Python では、高階関数を使ってテンプレートメソッドパターンと同等のことを実現できる。この方法では、個別の処理は引数として渡す関数で定める形となる。たとえば、上のコードは、高階関数を使った次のコードと等価である（クラス継承を使っていないことに注目する）。"
      ],
      "metadata": {
        "id": "HTxfk5US5UkX"
      }
    },
    {
      "cell_type": "code",
      "source": [
        "# テンプレートメソッドを高階関数で代用\n",
        "def string_lister(items, format_header, format_item, format_footer):\n",
        "    ret = format_header()\n",
        "    for item in items:\n",
        "        ret += format_item(item)\n",
        "    ret += format_footer()\n",
        "    return ret\n",
        "\n",
        "def plaintext_header():\n",
        "    return \"\"\n",
        "\n",
        "def plaintext_item(x):\n",
        "    return \" - \" + x + \"\\n\"\n",
        "\n",
        "def plaintext_footer():\n",
        "    return \"\"\n",
        "\n",
        "def html_header():\n",
        "    return \"<ul>\\n\"\n",
        "\n",
        "def html_item(x):\n",
        "    return \"  <li>\" + x + \"</li>\\n\"\n",
        "\n",
        "def html_footer():\n",
        "    return \"<ul>\\n\"\n",
        "\n",
        "items = [\"First\", \"Second\", \"Third\"]\n",
        "p = string_lister(items, plaintext_header, plaintext_item, plaintext_footer)\n",
        "h = string_lister(items, html_header, html_item, html_footer)\n",
        "print(p)\n",
        "print(h)"
      ],
      "metadata": {
        "colab": {
          "base_uri": "https://localhost:8080/"
        },
        "id": "F12DZkvG5WDb",
        "outputId": "bd57d429-681a-4e08-e300-d9c6288d49e2"
      },
      "execution_count": null,
      "outputs": [
        {
          "output_type": "stream",
          "name": "stdout",
          "text": [
            " - First\n",
            " - Second\n",
            " - Third\n",
            "\n",
            "<ul>\n",
            "  <li>First</li>\n",
            "  <li>Second</li>\n",
            "  <li>Third</li>\n",
            "<ul>\n",
            "\n"
          ]
        }
      ]
    },
    {
      "cell_type": "markdown",
      "source": [
        "多重継承\n",
        "--------"
      ],
      "metadata": {
        "id": "IrBB2ljY82g9"
      }
    },
    {
      "cell_type": "markdown",
      "source": [
        "Python は多重継承、すなわち同時に 2 つ以上のクラスから継承することをサポートする。多重継承の継承元をたどっていくと、複数の経路からある一つのクラスに行き着くとき、このような継承関係を**ダイヤモンド継承**と呼ぶ。Python のすべてのクラスは `object` クラスから継承しているので、Python の多重継承は常にダイヤモンド継承となる。\n",
        "\n",
        "メソッド解決順序（MRO）は直列で、しかもクラスを重複して登録しない。そこで、多重継承の場合、MRO がどうなるのかが問題となるが、継承元がすべて `object` クラス以外から継承していない場合は極めてシンプルである。この場合、MRO は、まず派生クラス自身を探索、それからクラス定義の位置引数として指定した継承元を左から右に探索、最後に `object` クラスを探索というものになる。\n",
        "\n",
        "![](//www.plantuml.com/plantuml/png/SoWkIImgAStDuKhEIImkLiXFoafDBe5o7A6qCvHsWj8kN11b2ZOrkheAZYWyPsGUK8SZc07KuWnZEC4O3gbvAK2R0G00)"
      ],
      "metadata": {
        "id": "h-TLKxuThmrE"
      }
    },
    {
      "cell_type": "code",
      "source": [
        "class A: ...\n",
        "class B: ...\n",
        "class C: ...\n",
        "class D(A, C, B): ...\n",
        "\n",
        "print(f\"{D.__mro__=}\")"
      ],
      "metadata": {
        "colab": {
          "base_uri": "https://localhost:8080/"
        },
        "id": "BOyvRVHvhutt",
        "outputId": "27bdbe15-1eb2-43b8-83e1-601187fbb1e6"
      },
      "execution_count": null,
      "outputs": [
        {
          "output_type": "stream",
          "name": "stdout",
          "text": [
            "D.__mro__=(<class '__main__.D'>, <class '__main__.A'>, <class '__main__.C'>, <class '__main__.B'>, <class 'object'>)\n"
          ]
        }
      ]
    },
    {
      "cell_type": "markdown",
      "source": [
        "多重継承で継承元が `object` クラス以外から継承していると、途端に MRO は複雑になる。順序を決めるルールは、深さ優先で、左から右に、そして未訪問のクラスの継承元は後回しとなる。ただし、`object` は必ず最後となる。たとえば、次のクラス図の場合:\n",
        "\n",
        "![](http://www.plantuml.com/plantuml/png/NSmz4e8m68JXVa-H2t032_AVS0j46YVeZ0cTXtSa-nLGlSysEzOsVzg-5InbhbMzxyzrQHoQDQnb7UlPm4OsiPcTq6_LxJiCIf-MEIqBtU447kQ288Xm7GbU42x8i8BKCI4Bue6_nlNrsBVo0m00)\n",
        "\n",
        "`J` のメソッドの探索順序は以下の通りとなる。分岐では左優先で先に進むので、`J`, `H`, `D` のパスを探索する。その先の `A` は未訪問の `E` の継承元であるから探索しない。最後の分岐があった `H` に戻って、`E`, `A` のパスを探索する（`D` が訪問済みなので今度は `A` を探索できる）。その先の `object` は未訪問の `B`, `C` の継承元であるから探索しない。分岐のあった `E` に戻ると、行き先の `B` は未訪問の `F`, `G` の継承元であるから探索しない。`H` まで戻るが、分岐先の `F` も未訪問の `I` の継承元であるから探索しない。`J` に戻って、`I`, `F` のパスを探索する。ここでは、`I` の定義から `F` が `C` より優先すること、および、`F` の先の `B` は未訪問の `G` の継承元であることに注意する。`I` に戻ってから `C` に進むと `object` まで到達してしまうので、`C` は後回しとなる。`G`, `B` のパスを探索し、最後に `C`, `object` のパスを探索する。実際、`J.__mro__` 特殊属性は次のようになる:"
      ],
      "metadata": {
        "id": "C7zz1loJ83Vy"
      }
    },
    {
      "cell_type": "code",
      "source": [
        "class A: ...\n",
        "class B: ...\n",
        "class C: ...\n",
        "class D(A): ...\n",
        "class E(A, B): ...\n",
        "class F(B): ...\n",
        "class G(B): ...\n",
        "class H(D, E, F): ...\n",
        "class I(F, C): ...\n",
        "class J(H, I, G): ...\n",
        "\n",
        "print(f\"{J.__mro__=}\")\n",
        "print(f\"{H.__mro__=}\")\n",
        "print(f\"{I.__mro__=}\")"
      ],
      "metadata": {
        "colab": {
          "base_uri": "https://localhost:8080/"
        },
        "id": "GgvLbZ2WYzCC",
        "outputId": "04d18be4-f79c-4302-bfa2-662a5b2865b8"
      },
      "execution_count": null,
      "outputs": [
        {
          "output_type": "stream",
          "name": "stdout",
          "text": [
            "J.__mro__=(<class '__main__.J'>, <class '__main__.H'>, <class '__main__.D'>, <class '__main__.E'>, <class '__main__.A'>, <class '__main__.I'>, <class '__main__.F'>, <class '__main__.G'>, <class '__main__.B'>, <class '__main__.C'>, <class 'object'>)\n",
            "H.__mro__=(<class '__main__.H'>, <class '__main__.D'>, <class '__main__.E'>, <class '__main__.A'>, <class '__main__.F'>, <class '__main__.B'>, <class 'object'>)\n",
            "I.__mro__=(<class '__main__.I'>, <class '__main__.F'>, <class '__main__.B'>, <class '__main__.C'>, <class 'object'>)\n"
          ]
        }
      ]
    },
    {
      "cell_type": "markdown",
      "source": [
        "このコードでは、`H.__mro__` と `I.__mro__` 属性も調べているが、`J.__mro__` の順序はそれらと矛盾していない。つまり祖先クラスの検索順序に影響を与えずにクラスをサブクラス化できることがわかる。\n",
        "\n",
        "とはいえ、多重継承を使う場合、継承元が `object` クラス以外から継承することには慎重であるべき。"
      ],
      "metadata": {
        "id": "gJ6JH17zZb0S"
      }
    },
    {
      "cell_type": "markdown",
      "source": [
        "Mixin\n",
        "-----"
      ],
      "metadata": {
        "id": "jQRf8UfD5Z8L"
      }
    },
    {
      "cell_type": "markdown",
      "source": [
        "継承の使用がアンチパターンにならないケースの一つが、Mixin（ミックスイン）である。\n",
        "\n",
        "Mixin とは、幅広いクラスで共通して使われる機能を、継承（や他のプログラミング言語では他の方法）を使って組み込むことをいう。この機能を実装するクラスを Mixin クラスと呼ぶ。\n",
        "\n",
        "たとえば、扱うクラスに共通して `total` 属性が存在し、これを出力するメソッドがあるとする。\n",
        "\n",
        "``` python\n",
        "class A:\n",
        "    total = 111222\n",
        "    ...\n",
        "\n",
        "    def print_total(self):\n",
        "        print(self.total)\n",
        "\n",
        "\n",
        "class B:\n",
        "    total = 334455\n",
        "    ...\n",
        "\n",
        "    def print_total(self):\n",
        "        print(self.total)\n",
        "```\n",
        "\n",
        "各クラスの `print_total()` のコードは同じであり、OAOO 原則に違反する。そこで、同じコードを 1 つの Mixin クラスにまとめる。各クラスは、Mixin クラスを継承する（Mixin する）ことで、その機能を組み込むことができる。"
      ],
      "metadata": {
        "id": "_hidGszL6l96"
      }
    },
    {
      "cell_type": "code",
      "source": [
        "class M:\n",
        "    def print_total(self):\n",
        "        print(self.total)  # type: ignore\n",
        "\n",
        "\n",
        "class A(M):\n",
        "    total = 111222\n",
        "    ...\n",
        "\n",
        "\n",
        "class B(M):\n",
        "    total = 334455\n",
        "    ...\n",
        "\n",
        "\n",
        "a = A()\n",
        "a.print_total()\n",
        "b = B()\n",
        "b.print_total()"
      ],
      "metadata": {
        "colab": {
          "base_uri": "https://localhost:8080/"
        },
        "id": "zjiRsGflPs_9",
        "outputId": "f6472f58-e362-472b-bd29-3c44d034f199"
      },
      "execution_count": null,
      "outputs": [
        {
          "output_type": "stream",
          "name": "stdout",
          "text": [
            "111222\n",
            "334455\n"
          ]
        }
      ]
    },
    {
      "cell_type": "markdown",
      "source": [
        "これが普通の継承とどう違うのかというと、Mixin クラスはデータ属性を持たず、それ単体で動作しなくてもよいとされることである。このような Mixin クラスと Mixin 先のクラスの関係は、is-a 関係ではないし、抽象クラス・具象クラスの関係でもない。\n",
        "\n",
        "1 つの Mixin クラスは 1 つの処理だけに責任を負う小さなクラスとすべきである。もし Mixin クラスが多数の機能を持って、Mixin 先のクラスに必要な機能はそのうちの 1 つだけである場合には、Mixin によって不要な機能が組み込まれてメモリを無駄に消費することになるからである。したがって、Mixin の使い方は必要な Mixin クラスをいくつか選んで Mixin するというものになるので、多重継承が使われる。多重継承時の MRO を単純にするために、Mixin クラスは `object` 以外から継承すべきではない。\n",
        "\n",
        "Mixin クラスがデータ属性を持たないとされる理由を、具体例で示す。次のコードでは、2 の倍数を返すメソッド `next_mul2()` を持つ `Mul2` クラスと、次の 3 の倍数を返すメソッド `next_mul3()` を持つ `Mul3` クラスを定義し、多重継承を使って `Mul2_Mul3` クラスに Mixin したつもりである。"
      ],
      "metadata": {
        "id": "Ts5De4o15azB"
      }
    },
    {
      "cell_type": "code",
      "source": [
        "class Mul2:\n",
        "    x = 0\n",
        "\n",
        "    def next_mul2(self):\n",
        "        self.x += 2\n",
        "        return self.x\n",
        "\n",
        "\n",
        "class Mul3:\n",
        "    x = 0\n",
        "\n",
        "    def next_mul3(self):\n",
        "        self.x += 3\n",
        "        return self.x\n",
        "\n",
        "\n",
        "class Mul2_Mul3(Mul2, Mul3):\n",
        "    pass\n",
        "\n",
        "\n",
        "m2 = Mul2()\n",
        "print(f\"{m2.next_mul2()=}\")\n",
        "print(f\"{m2.next_mul2()=}\")\n",
        "print(\"---\")\n",
        "m3 = Mul3()\n",
        "print(f\"{m3.next_mul3()=}\")\n",
        "print(f\"{m3.next_mul3()=}\")\n",
        "print(\"---\")\n",
        "m2_m3 = Mul2_Mul3()\n",
        "print(f\"{m2_m3.next_mul2()=}\")\n",
        "print(f\"{m2_m3.next_mul2()=}\")\n",
        "print(f\"{m2_m3.next_mul3()=}\")\n",
        "print(f\"{m2_m3.next_mul3()=}\")"
      ],
      "metadata": {
        "colab": {
          "base_uri": "https://localhost:8080/"
        },
        "id": "isbOTr5zG3HP",
        "outputId": "2c66a07a-665c-47c3-ae5e-431005c868b7"
      },
      "execution_count": null,
      "outputs": [
        {
          "output_type": "stream",
          "name": "stdout",
          "text": [
            "m2.next_mul2()=2\n",
            "m2.next_mul2()=4\n",
            "---\n",
            "m3.next_mul3()=3\n",
            "m3.next_mul3()=6\n",
            "---\n",
            "m2_m3.next_mul2()=2\n",
            "m2_m3.next_mul2()=4\n",
            "m2_m3.next_mul3()=7\n",
            "m2_m3.next_mul3()=10\n"
          ]
        }
      ]
    },
    {
      "cell_type": "markdown",
      "source": [
        "`Mul2` と `Mul3` のインスタンスは、それぞれ想定した動作をしている。ところが、これらを Mixin したクラス `Mul2_Mul3` のインスタンスでは、`next_mul3()` が 3 の倍数を返していない。原因は、多重継承によって、扱い方の異なる、同名のインスタンス変数を共有してしまったことである。Mixin クラスは Mixin 先のクラスや他の Mixin クラスのことを知らないので、Mixin クラスがデータ属性を持つと、変数の共有という事態が起こりうる。"
      ],
      "metadata": {
        "id": "rc0yfnZnKkdR"
      }
    }
  ]
}