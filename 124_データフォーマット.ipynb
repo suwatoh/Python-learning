{
  "nbformat": 4,
  "nbformat_minor": 0,
  "metadata": {
    "colab": {
      "provenance": [],
      "authorship_tag": "ABX9TyM/F8xQMzSJkgrmvQVzjZ3W",
      "include_colab_link": true
    },
    "kernelspec": {
      "name": "python3",
      "display_name": "Python 3"
    },
    "language_info": {
      "name": "python"
    }
  },
  "cells": [
    {
      "cell_type": "markdown",
      "metadata": {
        "id": "view-in-github",
        "colab_type": "text"
      },
      "source": [
        "<a href=\"https://colab.research.google.com/github/suwatoh/Python-learning/blob/main/124_%E3%83%87%E3%83%BC%E3%82%BF%E3%83%95%E3%82%A9%E3%83%BC%E3%83%9E%E3%83%83%E3%83%88.ipynb\" target=\"_parent\"><img src=\"https://colab.research.google.com/assets/colab-badge.svg\" alt=\"Open In Colab\"/></a>"
      ]
    },
    {
      "cell_type": "markdown",
      "source": [
        "データフォーマット\n",
        "=================="
      ],
      "metadata": {
        "id": "GVbDGVYvPmPq"
      }
    },
    {
      "cell_type": "markdown",
      "source": [
        "CSV\n",
        "---"
      ],
      "metadata": {
        "id": "P0-ALJcMPnt4"
      }
    },
    {
      "cell_type": "markdown",
      "source": [
        "### 規格 ###"
      ],
      "metadata": {
        "id": "tTHgLc4_2JpB"
      }
    },
    {
      "cell_type": "markdown",
      "source": [
        "**CSV**（Comma-Separated Values）形式は、特定の区切り文字を使って書かれたテーブル状のデータフォーマットである。データ交換用のデファクトスタンダードとして、古くから多くの表計算ソフトやデータベースソフトで使われている。ファイルの拡張子は\t`.csv` が使われる。\n",
        "\n",
        "2005 年 10 月に、各ソフトウェアでの CSV の実装を追認する形で、 RFC 4180 として規格化された。しかし実際のソフトウェア側の実装は RFC に準拠していないことが多い。 RFC の主な内容は以下の通り。\n",
        "\n",
        "  * ファイルは 1 つ以上のレコードからなる。\n",
        "  * レコードは改行で区切られる。改行コードは CR+LF とする。最後のレコードの後には改行はあってもなくてもよい。\n",
        "  * レコードは 1 つ以上の同じ個数のフィールドからなる。\n",
        "  * フィールドはカンマ `,` で区切られる。最後のフィールドの後にはカンマは付けない。カンマで終わる場合は、その後に空のフィールドがある。\n",
        "  * ファイルの先頭には、オプションとして、通常のレコードと同一の書式の「ヘッダー行」があってもよい。ヘッダー行は、他のレコードと同じ個数のフィールドを持ち、フィールドの名称が書かれている。\n",
        "  * フィールドは、ダブルクォート `\"` で囲んでも囲まなくてもよい。ただし、フィールドがカンマ、ダブルクォート、改行を含む場合は、必ずダブルクォートで囲む。また、フィールドに含まれるダブルクォートは 2 つ並べてエスケープする。\n",
        "\n",
        "RFC はダブルクォートで囲まれているフィールドの解釈までは規定していないが、一部のソフトウェアはダブルクォートで囲まれているかどうかで解釈を変えていることに注意する。\n",
        "\n",
        "CSV ファイルの実質はテキストファイルであるが、エンコーディングに関しては RFC で規定されてない。 Microsoft Excel は、エンコードを推定できるように、 BOM（byte order mark）と呼ばれるデータをファイルの先頭に付けている。\n",
        "\n",
        "カンマの代わりに別の文字をフィールド区切りに使用する形式もある。タブを使用する形式は **TSV**（Tab-Separated Values）と呼ばれ、スペースを使用する形式は **SSV**（Space-Separated Values）と呼ばれる。\n",
        "\n",
        "標準ライブラリの `csv` モジュールは、CSV 形式を扱うために、以下のオブジェクトをサポートする。\n",
        "\n",
        "  * dialect オブジェクト: CSV 形式の書式を管理するオブジェクト\n",
        "  * reader オブジェクト: CSV 形式のデータを読み込むオブジェクト\n",
        "  * writer オブジェクト: CSV 形式のデータを書き込むオブジェクト\n",
        "\n",
        "dialect オブジェクトは、属性として、区切り文字、ダブルクォート、空白文字などの扱い方に関する情報を持つ。一定の値をもつものは、`'excel'`、`'excel-tab'`、`'unix'` という名前の dialect オブジェクトとして登録されている。\n",
        "\n",
        "| dialect の属性 | 意味 | excel | excel-tab | unix |\n",
        "|:---|:---|:---|:---|:---|\n",
        "| `delimiter` | 区切り文字 | カンマ `,` | タブ `\\t` | カンマ `,` |\n",
        "| `quotechar` | 引用符として使用される文字 | ダブルクォート `\"` | ダブルクォート `\"` | ダブルクォート `\"` |\n",
        "| `skipinitialspace` | `True` の場合、区切り文字の直後に続く空白は無視される | `False` | `False` | `False` |\n",
        "| `lineterminator` | 各行の終端を表す文字列 | `'\\r\\n'` | `'\\r\\n'` | `'\\n'` |"
      ],
      "metadata": {
        "id": "x-LUXi5I7t70"
      }
    },
    {
      "cell_type": "markdown",
      "source": [
        "### リスト形式での読み込みと書き込み ###"
      ],
      "metadata": {
        "id": "44-5ZVq2QKXO"
      }
    },
    {
      "cell_type": "markdown",
      "source": [
        "``` python\n",
        "csv.reader(csvfile, dialect='excel', **fmtparams)\n",
        "```\n",
        "\n",
        "この関数は、reader オブジェクトを返す。\n",
        "\n",
        "| 引数 | 意味 |\n",
        "|:---|:---|\n",
        "| `csvfile` | CSV 形式の文字列を返すイテラブルなオブジェクトを指定する。`csvfile` が `open()` 関数の返すファイルオブジェクトである場合、必ず `newline=''` で開く<br />必要がある（`csv` モジュールは独自の改行処理を行うため） |\n",
        "| `dialect` | dialect オブジェクトか、その登録された名前を指定する。デフォルトは `'excel'` |\n",
        "| `fmtparams` | dialect オブジェクトの属性に与える値をキーワード引数として指定する。引数 `dialect` による書式指定を上書きする |\n",
        "\n",
        "`dialect` のデフォルトが `'excel'` なので、TSV 形式のデータを読み込む場合は、`csv.reader(csvfile, delimiter='\\t')` のように区切り文字としてタブを指定する。\n",
        "\n",
        "作成された reader オブジェクトは、CSV の 1 行のデータを表すリストを 1 つずつ返すイテレーターである。"
      ],
      "metadata": {
        "id": "pyQ6N3dHPpxY"
      }
    },
    {
      "cell_type": "code",
      "source": [
        "import csv\n",
        "\n",
        "with open(\"sample_data/california_housing_test.csv\", \"r\", encoding=\"utf-8\", newline='') as f:\n",
        "    reader = csv.reader(f)\n",
        "    for n, row in enumerate(reader):\n",
        "        if n > 5:\n",
        "            break\n",
        "        print(row)"
      ],
      "metadata": {
        "colab": {
          "base_uri": "https://localhost:8080/"
        },
        "id": "GNwgcS7Rpj61",
        "outputId": "f338691a-b3ae-4870-fbde-8478bfdbf1b3"
      },
      "execution_count": null,
      "outputs": [
        {
          "output_type": "stream",
          "name": "stdout",
          "text": [
            "['longitude', 'latitude', 'housing_median_age', 'total_rooms', 'total_bedrooms', 'population', 'households', 'median_income', 'median_house_value']\n",
            "['-122.050000', '37.370000', '27.000000', '3885.000000', '661.000000', '1537.000000', '606.000000', '6.608500', '344700.000000']\n",
            "['-118.300000', '34.260000', '43.000000', '1510.000000', '310.000000', '809.000000', '277.000000', '3.599000', '176500.000000']\n",
            "['-117.810000', '33.780000', '27.000000', '3589.000000', '507.000000', '1484.000000', '495.000000', '5.793400', '270500.000000']\n",
            "['-118.360000', '33.820000', '28.000000', '67.000000', '15.000000', '49.000000', '11.000000', '6.135900', '330000.000000']\n",
            "['-119.670000', '36.330000', '19.000000', '1241.000000', '244.000000', '850.000000', '237.000000', '2.937500', '81700.000000']\n"
          ]
        }
      ]
    },
    {
      "cell_type": "markdown",
      "source": [
        "``` python\n",
        "csv.writer(csvfile, dialect='excel', **fmtparams)\n",
        "```\n",
        "\n",
        "この関数は、writer オブジェクトを返す。\n",
        "\n",
        "引数の `csvfile` は、`write()` メソッドを持つオブジェクトでなければならない。`csvfile` がファイルオブジェクトの場合、必ず `newline=''` として開くこと（`csv` モジュールは独自の改行処理を行うため）。残りの引数 `dialect` と `fmtparams` については、`csv.reader()` の同名の引数と同様である。\n",
        "\n",
        "作成された writer オブジェクトは、以下のメソッドを持つ。\n",
        "\n",
        "| メソッド | 機能 | 戻り値 |\n",
        "|:---|:---|:---|\n",
        "| `writerow(row)` | `row` を現在の表現形式（`dialect`）の 1 行のデータとして書式化した上でファイルオブジェクトに書き込む。オブジェクトが `csv.writer()` から返されたものである<br />場合、`row` は文字列か数値のリストである必要がある | `None` |\n",
        "| `writerows(rows)` | 上記の `row` のイテラブル `rows` の全ての要素を現在の表現形式（`dialect`）の 1 行のデータとして書式化した上でファイルオブジェクトに書き込む | `None` |\n",
        "\n",
        "これらのメソッドは、書式化の際に数値を `str()` で変換する。"
      ],
      "metadata": {
        "id": "PWSSGCGbXyRU"
      }
    },
    {
      "cell_type": "code",
      "source": [
        "import csv\n",
        "import io\n",
        "\n",
        "with io.StringIO(newline=\"\") as f:  # ここでは open() の代わりに StringIO を使う\n",
        "    writer = csv.writer(f)\n",
        "    writer.writerow([\"山名\", \"標高/m\", \"山系\"])\n",
        "    writer.writerow([\"富士山\", 3776, \"独立峰\"])\n",
        "    writer.writerow([\"北岳\", 3193.2, \"赤石山脈（南アルプス）\"])\n",
        "    # ストリームの出力\n",
        "    f.seek(0)  # ストリーム位置を先頭に変更\n",
        "    for line in f:\n",
        "        print(line, end=\"\")"
      ],
      "metadata": {
        "colab": {
          "base_uri": "https://localhost:8080/"
        },
        "id": "i5dc3OzGXyxJ",
        "outputId": "6afc038d-8a31-4ed8-f9da-fea0f47503a4"
      },
      "execution_count": null,
      "outputs": [
        {
          "output_type": "stream",
          "name": "stdout",
          "text": [
            "山名,標高/m,山系\r\n",
            "富士山,3776,独立峰\r\n",
            "北岳,3193.2,赤石山脈（南アルプス）\r\n"
          ]
        }
      ]
    },
    {
      "cell_type": "markdown",
      "source": [
        "### 辞書形式での読み込みと書き込み ###"
      ],
      "metadata": {
        "id": "wc-j5tRpY8Ak"
      }
    },
    {
      "cell_type": "markdown",
      "source": [
        "クラス `csv.DictReader` はイテレータークラスであり、そのインスタンスは CSV 形式の各行を 1 行ずつ辞書にして返す reader オブジェクトである。\n",
        "\n",
        "コンストラクタ:\n",
        "\n",
        "``` python\n",
        "csv.DictReader(f, fieldnames=None, restkey=None, restval=None, dialect='excel', *args, **kwds)\n",
        "```\n",
        "\n",
        "| 引数 | 意味 |\n",
        "|:---|:---|\n",
        "| `f` | CSV 形式の文字列を返すイテラブルなオブジェクトを指定する。`f` が `open()` 関数の返すファイルオブジェクトである場合、必ず `newline=''` で開く<br />必要がある（`csv` モジュールは独自の改行処理を行うため） |\n",
        "| `fieldnames` | 辞書のキーをシーケンスで指定する。指定しなかった場合は `f` の最初の行の値が使われる |\n",
        "| `restkey` | キーの数が実際に読み込んが列数より少なかった場合、残りのデータはリストに入れられて、`restkey` により指定されたキーの値となる |\n",
        "| `restval` | キーの数が実際に読み込んが列数より多かった場合、足りない値は `restval` の値（デフォルトは `None` ） によって埋められる |\n",
        "| `dialect` | dialect オブジェクトか、その登録された名前を指定する |\n",
        "| `*args, **kwds` | コンストラクタの内部で `reader(f, dialect, *args, **kwds)` と呼び出す際に渡される |"
      ],
      "metadata": {
        "id": "MNMSrRHIY9NL"
      }
    },
    {
      "cell_type": "code",
      "source": [
        "import csv\n",
        "import pprint\n",
        "\n",
        "with open(\"sample_data/california_housing_test.csv\", \"r\", encoding=\"utf-8\", newline='') as f:\n",
        "    reader = csv.DictReader(f)\n",
        "    for n, row in enumerate(reader):\n",
        "        if n >= 2:\n",
        "            break\n",
        "        pprint.pprint(row)"
      ],
      "metadata": {
        "colab": {
          "base_uri": "https://localhost:8080/"
        },
        "id": "vJu7RQ_NR066",
        "outputId": "a7db656d-2051-4cf5-a674-644222f9d29c"
      },
      "execution_count": null,
      "outputs": [
        {
          "output_type": "stream",
          "name": "stdout",
          "text": [
            "{'households': '606.000000',\n",
            " 'housing_median_age': '27.000000',\n",
            " 'latitude': '37.370000',\n",
            " 'longitude': '-122.050000',\n",
            " 'median_house_value': '344700.000000',\n",
            " 'median_income': '6.608500',\n",
            " 'population': '1537.000000',\n",
            " 'total_bedrooms': '661.000000',\n",
            " 'total_rooms': '3885.000000'}\n",
            "{'households': '277.000000',\n",
            " 'housing_median_age': '43.000000',\n",
            " 'latitude': '34.260000',\n",
            " 'longitude': '-118.300000',\n",
            " 'median_house_value': '176500.000000',\n",
            " 'median_income': '3.599000',\n",
            " 'population': '809.000000',\n",
            " 'total_bedrooms': '310.000000',\n",
            " 'total_rooms': '1510.000000'}\n"
          ]
        }
      ]
    },
    {
      "cell_type": "markdown",
      "source": [
        "クラス `csv.DictWriter` のインスタンスは、辞書を CSV 形式に変換して書き込む writer オブジェクトである。\n",
        "\n",
        "コンストラクタ:\n",
        "\n",
        "``` python\n",
        "csv.DictWriter(f, fieldnames, restval='', extrasaction='raise', dialect='excel', *args, **kwds)\n",
        "```\n",
        "\n",
        "| 引数 | 意味 |\n",
        "|:---|:---|\n",
        "| `f` | `write()` メソッドを持つオブジェクトを指定する |\n",
        "| `fieldnames` | キーをシーケンスで指定する |\n",
        "| `restval` | `fieldnames` で指定したキーの数が書き込む列数より多かった場合、足りない値は `restval` の値（デフォルトは `''` ） によって埋められる |\n",
        "| `extrasaction` | `fieldnames` に存在しないキーが含まれている場合、`extrasaction` の値が `'raise'`（デフォルト）に設定されているなら、` ValueError` 例外が送出される。<br />`'ignore'` に設定されているなら、そのキーに対する値は無視される |\n",
        "| `dialect` | dialect オブジェクトか、その登録された名前を指定する |\n",
        "| `*args, **kwds` | コンストラクタの内部で `writer(f, dialect, *args, **kwds)` と呼び出す際に渡される |\n",
        "\n",
        "`DictWriter` も `writerow()` メソッドと `writerows()` メソッドを持つが、引数は辞書（`writerows()` メソッドの引数は辞書のイテラブル）である必要がある。この辞書は、キーがフィールド名で、値は文字列か数値でなければならない。これらのメソッドは、書式化の際に数値を `str()` で変換する。\n",
        "\n",
        "また、`DictWriter` は `writeheader()` メソッドを持ち、これを呼び出すと `fieldnames` を使用してヘッダー行を書き込む。"
      ],
      "metadata": {
        "id": "-scweXg-aFWm"
      }
    },
    {
      "cell_type": "code",
      "source": [
        "import csv\n",
        "import io\n",
        "\n",
        "with io.StringIO(newline=\"\") as f:  # ここでは open() の代わりに StringIO を使う\n",
        "    writer = csv.DictWriter(f, [\"山名\", \"標高/m\", \"山系\"], extrasaction='ignore')\n",
        "    writer.writeheader()  # ヘッダーを書き込む\n",
        "    writer.writerow({\"山名\": \"富士山\", \"標高/m\": 3776, \"山系\": \"独立峰\"})\n",
        "    writer.writerow({\"山名\": \"北岳\", \"山系\": \"赤石山脈（南アルプス）\"})  # 標高データが欠損しているが、デフォルトでは空文字列が入る\n",
        "    writer.writerow({\"山名\": \"奥穂高岳\", \"順位\": 3})  # extrasaction を 'ignore' としたので、指定外のキーが含まれていてもエラーにならない\n",
        "    # ストリームの出力\n",
        "    f.seek(0, io.SEEK_SET)  # ストリーム位置を先頭に変更\n",
        "    for line in f:\n",
        "        print(line, end=\"\")"
      ],
      "metadata": {
        "colab": {
          "base_uri": "https://localhost:8080/"
        },
        "id": "lQFo_iDHakRX",
        "outputId": "c775254e-eaa8-4e90-8beb-ac49a6ce74a1"
      },
      "execution_count": null,
      "outputs": [
        {
          "output_type": "stream",
          "name": "stdout",
          "text": [
            "山名,標高/m,山系\r\n",
            "富士山,3776,独立峰\r\n",
            "北岳,,赤石山脈（南アルプス）\r\n",
            "奥穂高岳,,\r\n"
          ]
        }
      ]
    },
    {
      "cell_type": "markdown",
      "source": [
        "### 書式の推測 ###"
      ],
      "metadata": {
        "id": "P8ehU6U7wrQV"
      }
    },
    {
      "cell_type": "markdown",
      "source": [
        "アプリケーションによって CSV の実装が異なることから、 `csv` モジュールは CSV ファイルの書式を推測するための `csv.Sniffer` クラスを提供する。このクラスは以下のメソッドを持つ。\n",
        "\n",
        "| メソッド | 機能 | 戻り値 |\n",
        "|:---|:---|:---|\n",
        "| `sniff(sample, delimiters=None)` | `sample` を解析し、推測された書式に関する情報を持つ dialect オブジェクトを返す。`delimiters` を指定した場合、<br />指定された区切り文字を含んでいるはずの文字列として解釈される | dialect オブジェクト |\n",
        "| `has_header(sample)` | ヘッダーが存在すると推測した場合は `True` を返す | `bool` |\n",
        "\n",
        "次のコードは、入力データの書式を推測し、CSV 形式の文字列に変換する例である。入力は TSV 形式の文字列としている。"
      ],
      "metadata": {
        "id": "KkNpH64pwsUn"
      }
    },
    {
      "cell_type": "code",
      "source": [
        "import io\n",
        "import csv\n",
        "\n",
        "tsv = '\"山名\"\\t\"標高/m\"\\t\"山系\"\\n' '\"富士山\"\\t3776\\t\"独立峰\"\\n' '\"北岳\"\\t3193.2\\t\"赤石山脈（南アルプス）\"\\n'\n",
        "\n",
        "with io.StringIO(tsv, newline=\"\") as fi, io.StringIO(newline=\"\") as fo:\n",
        "    dialect = csv.Sniffer().sniff(fi.read())\n",
        "    print(f\"{dialect.delimiter=}, {dialect.quotechar=}, {dialect.lineterminator=}\", \"\\n---\")\n",
        "    fi.seek(0)  # ファイルオブジェクトの現在位置を先頭に戻す\n",
        "    reader = csv.reader(fi, dialect)\n",
        "    writer = csv.writer(fo)\n",
        "    for row in reader:\n",
        "        writer.writerow(row)\n",
        "    # ストリームの出力\n",
        "    fo.seek(0)  # ストリーム位置を先頭に変更\n",
        "    for line in fo:\n",
        "        print(line, end=\"\")"
      ],
      "metadata": {
        "colab": {
          "base_uri": "https://localhost:8080/"
        },
        "id": "PXrj3ukmC2_n",
        "outputId": "daa1430d-0a09-4961-80c9-81df9bc98441"
      },
      "execution_count": null,
      "outputs": [
        {
          "output_type": "stream",
          "name": "stdout",
          "text": [
            "dialect.delimiter='\\t', dialect.quotechar='\"', dialect.lineterminator='\\r\\n' \n",
            "---\n",
            "山名,標高/m,山系\r\n",
            "富士山,3776,独立峰\r\n",
            "北岳,3193.2,赤石山脈（南アルプス）\r\n"
          ]
        }
      ]
    },
    {
      "cell_type": "markdown",
      "source": [
        "JSON\n",
        "----"
      ],
      "metadata": {
        "id": "ejPQNIyRl_ML"
      }
    },
    {
      "cell_type": "markdown",
      "source": [
        "### 規格 ###"
      ],
      "metadata": {
        "id": "ns57IY26AE7B"
      }
    },
    {
      "cell_type": "markdown",
      "source": [
        "**JSON**（JavaScript Object Notation）は、JavaScript におけるオブジェクトのリテラル記法を参考に作られたデータフォーマットである。RFC 8259 によって仕様が厳密に規格化されている。その表記法は、Python 辞書を `key: value` 対の列挙で記述する方法と似ている。\n",
        "\n",
        "JSON 形式については、次の点に注意する。\n",
        "\n",
        "  * コメント記法がない。\n",
        "  * 文字エンコーディングは UTF-8 に限る。\n",
        "  * 表現できるのは、4 つのプリミティブ型（文字列、数値、ブール値、および `null`）と 2 つの構造型（オブジェクトと配列）のみである。\n",
        "  * 文字列はダブルクォーテーション `\"` で囲う必要があり、シングルクォーテーション `'` やバッククォート `` ` `` で囲うことはできない。エスケープシーケンス（`'\\\"'`、`'\\\\'`、`'\\n'` など）は使える。\n",
        "  * 数値は整数と浮動小数点数を区別せず、すべて IEEE 754 の倍精度浮動小数点数として扱われる。10 進法表記に限る。`1.0e-10` といった指数表記はできる。\n",
        "  * ブール値は、`true` と `false` であり、すべて小文字を使う。\n",
        "  * オブジェクトは、`key: value` 対の列挙。`key` のデータ型は文字列に限る。JavaScript オブジェクトのプロパティ名のようにダブルクォートを省略することはできない。`value` にオブジェクトを指定し入れ子（ネスト）にすることができる。\n",
        "  * オブジェクトと配列において、末尾のカンマは許容されない。\n",
        "\n",
        "標準ライブラリの `json` モジュールは、Python のオブジェクトを JSON 形式文字列に変換する関数、および、逆向きの変換をする関数を提供する。\n",
        "\n",
        "`json` モジュールがサポートしている「Python オブジェクト」と「JSON で使用できる型」の対応関係は次のとおり。\n",
        "\n",
        "| Python | JSON |\n",
        "|:--:|:--:|\n",
        "| str | 文字列 |\n",
        "| int, float | 数値 |\n",
        "| None | `null` |\n",
        "| bool | ブール値 |\n",
        "| dict | オブジェクト |\n",
        "| list, tuple | 配列 |\n",
        "\n",
        "JavaScript で使用可能なグローバル定数 `NaN`, `Infinity`, `-Infinity`（それぞれ非数、正の無限大、負の無限大を表す）は、規格上、JSON では使えない。しかし、`json` モジュールの関数は、JSON の規格からは外れるが、 `NaN`, `Infinity`, `-Infinity` を対応する float の値として理解する。"
      ],
      "metadata": {
        "id": "oCC3bklrAHzD"
      }
    },
    {
      "cell_type": "markdown",
      "source": [
        "### JSON 形式への変換 ###"
      ],
      "metadata": {
        "id": "hnzxM4KXAfEb"
      }
    },
    {
      "cell_type": "markdown",
      "source": [
        "``` python\n",
        "json.dumps(obj, *, skipkeys=False, ensure_ascii=True, check_circular=True, allow_nan=True, cls=None, indent=None, separators=None, default=None,\n",
        "           sort_keys=False, **kw)\n",
        "```\n",
        "\n",
        "この関数は、 Python のオブジェクトを JSON 形式の文字列に変換して返す。第 1 引数以外の引数は全てキーワード専用である。\n",
        "\n",
        "| 引数 | 意味 |\n",
        "|:---|:---|\n",
        "| `obj` | JSON 形式に変換する対象のオブジェクトを指定する |\n",
        "| `skipkeys` | `False`（デフォルト）の場合、辞書のキーに基本型（`str`, `int`, `float`, `bool`, `None`）以外のオブジェクトを指定していると、`TypeError` を送出する。`True` の場合、`TypeError` <br />を送出せずに読み飛ばす |\n",
        "| `ensure_ascii` | `True`（デフォルト）の場合、入力された全ての非 ASCII 文字はエスケープされて出力される。`False` の場合、これらの文字はそのまま出力される |\n",
        "| `check_circular` | `True`（デフォルト）の場合、`dict`, `list`, `tuple` の要素が参照し合ってループを成している状態（循環参照）があるかチェックする。`False` の場合、チェックを省略する。循環<br />参照があると無限再帰となり `RecursionError` を引き起こす |\n",
        "| `allow_nan` | `True`（デフォルト）の場合、非数や正ないし負の無限大が含まれるなら、それぞれ JavaScript で等価な NaN, Infinity, -Infinity に変換する。`False` の場合、JSON 規格を厳格<br />に守って `ValueError` 例外を送出する |\n",
        "| `cls` | カスタマイズした `json.JSONEncoder` のサブクラスを使う場合に指定する。指定がなければ、`json.JSONEncoder` が使われる |\n",
        "| `indent` | 出力する文字列が見やすいようにインデントを設定したい場合にインデントレベルを非負の整数で指定する。`'\\t'` のように個々のレベルのインデントに使う文字列を指定<br />することもできる。指定がなければ、最もコンパクトな表現が選択される |\n",
        "| `separators` | 要素の区切り文字と、キーと値の区切り文字を 2 要素タプルとして指定する。デフォルトは `indent` が `None` のとき `(', ', ': ')` で、そうでなければ `(',', ': ')` |\n",
        "| `default` | 文字列化できないオブジェクトに対して呼び出す関数を指定する |\n",
        "| `sort_keys` | `True` の場合、出力がキーでソートされる |\n",
        "\n",
        "Python のオブジェクトが日本語文字列を含む場合、`ensure_ascii=False` を指定しないと、`utf-8` 形式のバイト列にエンコードされてしまうことに注意する。\n",
        "\n",
        "最もコンパクトな JSON の表現とするには、`indent=None`（デフォルト）かつ `separators=(\",\", \":\")` と指定する。\n",
        "\n",
        "Python の `datetime` 型のように `json` モジュールが JSON 形式への変換をサポートしていないデータ型については、`default` 引数に変換用のコールバック関数を指定する必要がある。指定しない場合は、`TypeError` 例外が発生する。"
      ],
      "metadata": {
        "id": "GgO61tvUl_9Y"
      }
    },
    {
      "cell_type": "code",
      "source": [
        "from datetime import datetime\n",
        "import json\n",
        "\n",
        "obj = [\"foo\", {\"bar\": (\"baz\", None, 1.0, 2, datetime(2023, 10, 31, 18, 30))}]\n",
        "\n",
        "def json_serial(obj):\n",
        "    match obj:\n",
        "        # 日時の場合は isoformat に\n",
        "        case datetime():\n",
        "            return obj.isoformat(sep=\" \")\n",
        "        # それ以外は文字列に\n",
        "        case _:\n",
        "            return str(obj)\n",
        "\n",
        "assert json.dumps(obj, default=json_serial, separators=(\",\", \":\")) == '[\"foo\",{\"bar\":[\"baz\",null,1.0,2,\"2023-10-31 18:30:00\"]}]'\n",
        "print(json.dumps(obj, default=json_serial, indent=4))  # 見やすい表示"
      ],
      "metadata": {
        "colab": {
          "base_uri": "https://localhost:8080/"
        },
        "outputId": "b712c38a-b50c-44d7-c55d-617f47e86e73",
        "id": "0yEcb9qMTvSO"
      },
      "execution_count": null,
      "outputs": [
        {
          "output_type": "stream",
          "name": "stdout",
          "text": [
            "[\n",
            "    \"foo\",\n",
            "    {\n",
            "        \"bar\": [\n",
            "            \"baz\",\n",
            "            null,\n",
            "            1.0,\n",
            "            2,\n",
            "            \"2023-10-31 18:30:00\"\n",
            "        ]\n",
            "    }\n",
            "]\n"
          ]
        }
      ]
    },
    {
      "cell_type": "markdown",
      "source": [
        "``` python\n",
        "json.dump(obj, fp, *, skipkeys=False, ensure_ascii=True, check_circular=True, allow_nan=True, cls=None, indent=None, separators=None, default=None,\n",
        "          sort_keys=False, **kw)\n",
        "```\n",
        "この関数は、 Python のオブジェクト `obj` を JSON 形式の文字列に変換し、書き込み可能で開かれているファイルオブジェクト `fp` に書き込む。`fp` 以外の引数は `json.dumps()` と同等。"
      ],
      "metadata": {
        "id": "MAAoQS02kGdY"
      }
    },
    {
      "cell_type": "code",
      "source": [
        "from io import StringIO\n",
        "io = StringIO()\n",
        "json.dump(['streaming API'], io)\n",
        "io.getvalue()"
      ],
      "metadata": {
        "colab": {
          "base_uri": "https://localhost:8080/",
          "height": 35
        },
        "id": "SDcTJbOQCg2I",
        "outputId": "edfd311e-d1a9-4956-f3a7-df4854e11c97"
      },
      "execution_count": null,
      "outputs": [
        {
          "output_type": "execute_result",
          "data": {
            "text/plain": [
              "'[\"streaming API\"]'"
            ],
            "application/vnd.google.colaboratory.intrinsic+json": {
              "type": "string"
            }
          },
          "metadata": {},
          "execution_count": 7
        }
      ]
    },
    {
      "cell_type": "markdown",
      "source": [
        "### Python オブジェクトへの変換 ###"
      ],
      "metadata": {
        "id": "CUMgjBnABPxG"
      }
    },
    {
      "cell_type": "markdown",
      "source": [
        "``` python\n",
        "json.loads(s, *, cls=None, object_hook=None, parse_float=None, parse_int=None, parse_constant=None, object_pairs_hook=None, **kw)\n",
        "```\n",
        "この関数は、 JSON 形式の文字列またはバイト列を Python のオブジェクトに変換して返す。JSON の配列は `list` オブジェクトに、JSON の数値は整数なら `int` オブジェクトに、小数なら `float` オブジェクトに変換する。\n",
        "\n",
        "| 引数 | 意味 |\n",
        "|:---|:---|\n",
        "| `s` | Python のオブジェクトに変換する対象の文字列またはバイト列を指定する |\n",
        "| `cls` | カスタマイズした `json.JSONDecoder` のサブクラスを使う場合に指定する。指定がなければ、`json.JSONDecoder` が使われる |\n",
        "| `object_hook` | 任意のオブジェクトリテラルがデコードされた結果に対し呼び出される関数を指定する。独自のデコーダを実装する目的で使用される |\n",
        "| `parse_float` | 全てのデコードされる JSON の浮動小数点数文字列に対して呼ばれる関数を指定する。デフォルトでは、`float(num_str)` と等価 |\n",
        "| `parse_int` | 全てのデコードされる JSON の整数文字列に対して呼ばれる関数を指定する。デフォルトでは、`int(num_str)` と等価 |\n",
        "| `parse_constant` | `'NaN'`, `'Infinity'`, `'-Infinity'`, `'null'`, `'true'`, `'false'` に対して呼ばれる関数を指定する |\n",
        "| `object_pairs_hook` | ペアの順序付きリストのデコード結果に対し呼び出される関数を指定する。独自のデコーダを実装する目的で使用される。この引数を<br />指定すると、`object_hook` の指定は無視される |\n",
        "\n",
        "変換しようとしているデータが不正な JSON 文書だった場合、 `json.JSONDecodeError` 例外が送出される。"
      ],
      "metadata": {
        "id": "Qqm6jYJ7AKej"
      }
    },
    {
      "cell_type": "code",
      "source": [
        "import json\n",
        "from decimal import Decimal\n",
        "\n",
        "json_str = '[\"foo\", {\"bar\":[\"baz\", null, 1.0, 2]}]'\n",
        "assert json.loads(json_str) == ['foo', {'bar': ['baz', None, 1.0, 2]}]\n",
        "assert json.loads(json_str, parse_float=Decimal, parse_int=float) == ['foo', {'bar': ['baz', None, Decimal('1.0'), 2.0]}]"
      ],
      "metadata": {
        "id": "3p47b8hCAbvm"
      },
      "execution_count": null,
      "outputs": []
    },
    {
      "cell_type": "markdown",
      "source": [
        "`parse_*` 引数以外の方法で `json` モジュールがサポートしていない Python オブジェクトへ変換するには、`object_hook` 引数にフック関数を指定する必要がある。この関数は、JSON のオブジェクトから Python の `dict` を生成するデフォルトの処理の後処理を実装する。唯一の引数として `dict` を取り、その戻り値が `dict` の代わりに使われる。\n",
        "\n",
        "たとえば、JSON のオブジェクトが `'date'` キーを持ち、値が ISO 8601 形式の YYYY-MM-DD で表した日付の文字列である場合に、値を `datetime.datetime` オブジェクトに変換するなら、次のような関数を定義することになる:"
      ],
      "metadata": {
        "id": "YCM2OAAtGtXr"
      }
    },
    {
      "cell_type": "code",
      "source": [
        "import json\n",
        "from datetime import date\n",
        "import pprint\n",
        "\n",
        "def my_json_parser(obj: dict):\n",
        "    if \"date\" in obj:\n",
        "        obj[\"date\"] = date.fromisoformat(obj[\"date\"])\n",
        "    return obj\n",
        "\n",
        "json_str = '[{\"date\": \"2000-10-16\", \"event\": \"Python 2.0 release\"}, {\"date\": \"2008-12-03\", \"event\": \"Python 3.0 release\"}]'\n",
        "# object_hook を定義しない場合\n",
        "obj = json.loads(json_str)\n",
        "pprint.pprint(obj)\n",
        "# object_hook を定義した場合\n",
        "obj = json.loads(json_str, object_hook=my_json_parser)\n",
        "pprint.pprint(obj)"
      ],
      "metadata": {
        "colab": {
          "base_uri": "https://localhost:8080/"
        },
        "id": "hyKfSCrgeWGD",
        "outputId": "788fbcf7-eea3-4229-bf7e-b79fd7ef3dd9"
      },
      "execution_count": null,
      "outputs": [
        {
          "output_type": "stream",
          "name": "stdout",
          "text": [
            "[{'date': '2000-10-16', 'event': 'Python 2.0 release'},\n",
            " {'date': '2008-12-03', 'event': 'Python 3.0 release'}]\n",
            "[{'date': datetime.date(2000, 10, 16), 'event': 'Python 2.0 release'},\n",
            " {'date': datetime.date(2008, 12, 3), 'event': 'Python 3.0 release'}]\n"
          ]
        }
      ]
    },
    {
      "cell_type": "markdown",
      "source": [
        "`object_pairs_hook` で定義したフック関数の戻り値も `dict` の代わりに使われるが、この関数はデフォルトの処理における `dict()` 呼び出しの代替として呼び出される。唯一の引数としてキーと値の 2 要素タプルからなるリストを取る。`object_pairs_hook` を指定すると、`object_hook` の指定は無視される。\n",
        "\n",
        "たとえば、次のコードは、JSON オブジェクトをカスタムクラスのインスタンスへ変換する。"
      ],
      "metadata": {
        "id": "2WTryC3SnTTm"
      }
    },
    {
      "cell_type": "code",
      "source": [
        "import json\n",
        "\n",
        "# カスタムクラスを定義\n",
        "class CustomObject:\n",
        "    def __init__(self, pairs):\n",
        "        self.data = {key: value for key, value in pairs}\n",
        "\n",
        "    def __repr__(self):\n",
        "        return f\"CustomObject({self.data})\"\n",
        "\n",
        "    def __getitem__(self, key):\n",
        "        if key in self.data:\n",
        "            return self.data[key]\n",
        "        else:\n",
        "            raise AttributeError\n",
        "\n",
        "json_str = '[\"foo\", {\"bar\":[\"baz\", null, 1.0, 2]}]'\n",
        "obj = json.loads(json_str, object_pairs_hook=CustomObject)\n",
        "assert obj[1][\"bar\"][0] == \"baz\"\n",
        "obj"
      ],
      "metadata": {
        "colab": {
          "base_uri": "https://localhost:8080/"
        },
        "id": "ywi1LhM89F3M",
        "outputId": "4384111d-2f2c-43be-ba32-5a0170b1132c"
      },
      "execution_count": null,
      "outputs": [
        {
          "output_type": "execute_result",
          "data": {
            "text/plain": [
              "['foo', CustomObject({'bar': ['baz', None, 1.0, 2]})]"
            ]
          },
          "metadata": {},
          "execution_count": 10
        }
      ]
    },
    {
      "cell_type": "markdown",
      "source": [
        "``` python\n",
        "json.load(fp, *, cls=None, object_hook=None, parse_float=None, parse_int=None, parse_constant=None, object_pairs_hook=None, **kw)\n",
        "```\n",
        "\n",
        "この関数は、読み込み可能で開かれているファイルオブジェクト `fp` から読み込んだ JSON 形式の文字列またはバイト列を Python のオブジェクトに変換して返す。`fp` 以外の引数は `json.loads()` と同様。変換しようとしているデータが不正な JSON 文書だった場合、 `json.JSONDecodeError` 例外が送出される。"
      ],
      "metadata": {
        "id": "L1FbayZ-Auj2"
      }
    },
    {
      "cell_type": "code",
      "source": [
        "import json\n",
        "\n",
        "with open(\"./sample_data/anscombe.json\") as f:\n",
        "    data = json.load(f)\n",
        "    print(data[0:3])"
      ],
      "metadata": {
        "colab": {
          "base_uri": "https://localhost:8080/"
        },
        "id": "kD6hru8-kNv_",
        "outputId": "ed2f2e0d-1f48-41b9-b63f-5b1888eaf258"
      },
      "execution_count": null,
      "outputs": [
        {
          "output_type": "stream",
          "name": "stdout",
          "text": [
            "[{'Series': 'I', 'X': 10.0, 'Y': 8.04}, {'Series': 'I', 'X': 8.0, 'Y': 6.95}, {'Series': 'I', 'X': 13.0, 'Y': 7.58}]\n"
          ]
        }
      ]
    },
    {
      "cell_type": "markdown",
      "source": [
        "HTML\n",
        "----"
      ],
      "metadata": {
        "id": "wQFi6s2YvCvJ"
      }
    },
    {
      "cell_type": "markdown",
      "source": [
        "### 規格 ###"
      ],
      "metadata": {
        "id": "Dg5z-VtkvDmo"
      }
    },
    {
      "cell_type": "markdown",
      "source": [
        "**HTML**（HyperText Markup Language）は、ハイパーテキストを記述するためのマークアップ言語である。主に Web ページや電子メールを表現するために用いられる。かつては標準化団体 W3C（World Wide Web Consortium）により仕様が標準化されていたが、現在では Web ブラウザ開発者主体の業界団体 WHATWG（Web Hypertext Application Technology Working Group） により HTML Living Standard として仕様が標準化されている。\n",
        "\n",
        "HTML は、**タグ**（tag）によってテキストを意味づけ（マークアップ）する。**開始タグ**（start tag）と**終了タグ**（end tag）によるマークアップの全体を**要素**（element）と呼ぶ。要素の HTML 構文の概要は以下の通り。\n",
        "\n",
        "  * タグは要素の名称を `<` と `>` で囲んだものである。ただし、終了タグは `<` の直後に `/` を付ける。\n",
        "  * 開始タグには、要素の**属性**（attribute）を含めることができる。書き方は、 `属性名=\"値\"` となる。値の引用符は省略できる場合がある。\n",
        "  * 要素名と属性名は、大文字と小文字を区別しない。\n",
        "  * タグの外側では空白（改行を含む）は無視される。\n",
        "\n",
        "``` text\n",
        "<要素名 属性名=\"値\"...>コンテンツ</要素名>\n",
        "|---------------------|----------|--------|\n",
        "        開始タグ       コンテンツ 終了タグ\n",
        "|-----------------------------------------|\n",
        "                  要素\n",
        "```\n",
        "\n",
        "タグで囲んだコンテンツは、テキストか要素である。要素の場合、要素が入れ子となり、これにより文書の構造を表現する。\n",
        "\n",
        "また、コンテンツを持たない単一の構文もある（`/` は省略可）。\n",
        "\n",
        "``` text\n",
        "<要素名 属性名=\"値\"... />\n",
        "```\n",
        "\n",
        "HTML で書かれた文書を **HTML 文書**という。 HTML 文書では、まず文書型宣言を書く。 HTML 構文を用いる場合は、文書型宣言を以下の通りに記述しなければならない。\n",
        "\n",
        "``` html\n",
        "<!DOCTYPE html>\n",
        "```\n",
        "\n",
        "コメントの形式は次のとおり。\n",
        "\n",
        "``` html\n",
        "<!-- コメント -->\n",
        "```\n",
        "\n",
        "コメントは、複数行でもよいが、入れ子にはできない。コメントの中身は `>` や `->` で始まらず、`<--` や `-->` や `--!>` を含まず、`<!-` で終わらないという制約もある。\n",
        "\n",
        "エンコーディングは、 `meta` 要素の `charset` 属性で指定される。 `meta` 要素は `head` 要素の子要素として記述する。このほか、 HTML Living Standard にはいくつかの必須要素が規定されている。 HTML Living Standard で定義されている要素の一覧は以下のサイトで整理されている。\n",
        "\n",
        "  * [HTML Living Standard 要素一覧 - タグインデックス](https://www.tagindex.com/html/elements/)\n",
        "\n",
        "\n",
        "HTML 文書の例:\n",
        "\n",
        "``` html\n",
        "<!DOCTYPE html>\n",
        "<html lang=\"ja\">\n",
        "  <head>\n",
        "    <meta charset=\"UTF-8\" />\n",
        "    <meta name=\"viewport\" content=\"width=device-width, initial-scale=1.0\" />\n",
        "    <title>サイトのタイトル</title>\n",
        "  </head>\n",
        "  <body>\n",
        "    <header>\n",
        "      <h1>サイトのタイトル</h1>\n",
        "      <form>Search</form>\n",
        "      <nav>\n",
        "        <ul>\n",
        "          <li>Site navigation</li>\n",
        "        </ul>\n",
        "      </nav>\n",
        "    </header>\n",
        "    <main>\n",
        "      <article>\n",
        "        <header>\n",
        "          <h2>記事のタイトル</h2>\n",
        "          <time datetime=\"2015-01-04 12:45+09:0\">2015年1月4日12時45分</time>\n",
        "        </header>\n",
        "        <section>\n",
        "          <p>...</p>\n",
        "        </section>\n",
        "        <section>\n",
        "          <p>...</p>\n",
        "        </section>\n",
        "        <footer>\n",
        "          <p>関連記事:</p>\n",
        "          <div>\n",
        "            <a href=\"http://www.example.com/\">http://www.example.com/</a>\n",
        "          </div>\n",
        "        </footer>\n",
        "      </article>\n",
        "    </main>\n",
        "    <aside>\n",
        "      <p>広告</p>\n",
        "    </aside>\n",
        "    <footer>\n",
        "      <div>Posted by FooTaro</div>\n",
        "      <div><a href=\"http://www.example.com/\">http://www.example.com/</a></div>\n",
        "    </footer>\n",
        "  </body>\n",
        "</html>\n",
        "```"
      ],
      "metadata": {
        "id": "y1Io_cniLyFQ"
      }
    },
    {
      "cell_type": "markdown",
      "source": [
        "### 文字参照 ###"
      ],
      "metadata": {
        "id": "DoxxyexXbtlf"
      }
    },
    {
      "cell_type": "markdown",
      "source": [
        "HTML で `&xxx;` の形は**文字参照**（character reference）と呼ばれ、文字や記号を表示させることができる。キーワードで指定する形式（**文字実体参照**）と、接頭辞 `#` 付きの Unicode コードポイントで指定する形式（**数値文字参照**）がある。後者にはさらにコードポイントに 10 進数を使う形式と 16 進数を使う形式がある。主な文字参照は以下の通り。\n",
        "\n",
        "| 表示 | 文字実体 | 数値(10進数) | 数値(16進数) |\n",
        "|:--:|:---|:---|:---|\n",
        "| `<` | `&lt;` | `&#60;` | `&#x3c;` |\n",
        "| `>` | `&gt;` | `&#62;` | `&#x3e;` |\n",
        "| `&` | `&amp;` | `&#38;` | `&#x26;` |\n",
        "| `\"` | `&quot;` | `&#34;` | `&#x22;` |\n",
        "| `'` | `&apos;` | `&#39;` | `&#x27;` |\n",
        "| 空白 | `&nbsp;` | `&#160;` | `&#xa0;` |\n",
        "\n",
        "`<`、 `>`、 `&` は、 HTML 構文で特別の意味を持つので、コンテンツのテキストに使用するべきはない。アプリケーションがユーザーの入力を Web ブラウザに表示させる場合に、これらの文字を含めることができると、`<script>` タグを使って悪意のあるスクリプトを実行することができてしまう。これを利用した攻撃を**クロスサイトスクリプティング**（cross-site scripting; XSS）攻撃という。 `<`、 `>`、 `&` を文字参照に置き換え無害化することを**サニタイズ**（sanitize）するという。\n",
        "\n",
        "標準ライブラリの `html` モジュールは、文字参照に関する以下の関数を提供する。\n",
        "\n",
        "| 関数 | 機能 | 戻り値 |\n",
        "|:---|:---|:---|\n",
        "| `html.escape(s, quote=True)` | 文字列 `s` 内の `<`、 `>` および `&` を文字参照に変換する。`quote` 引数が `True`（デフォルト）の場合、`\"` と `'` も変換する | `str` |\n",
        "| `html.unescape(s)` | 文字列 `s` 中の文字参照を全て対応する Unicode 文字に変換する | `str` |"
      ],
      "metadata": {
        "id": "kwy3uXQXbvHD"
      }
    },
    {
      "cell_type": "code",
      "source": [
        "import html\n",
        "data = '<input type=\"hidden\" name=\"baa\" value=\"<script>（悪意のあるスクリプト）</script>\">'\n",
        "s = html.escape(data)\n",
        "assert html.unescape(s) == data\n",
        "s"
      ],
      "metadata": {
        "colab": {
          "base_uri": "https://localhost:8080/",
          "height": 35
        },
        "id": "xt_BTpRhdWGY",
        "outputId": "39ef1994-1304-42a9-8896-5046fb32aaf9"
      },
      "execution_count": null,
      "outputs": [
        {
          "output_type": "execute_result",
          "data": {
            "text/plain": [
              "'&lt;input type=&quot;hidden&quot; name=&quot;baa&quot; value=&quot;&lt;script&gt;（悪意のあるスクリプト）&lt;/script&gt;&quot;&gt;'"
            ],
            "application/vnd.google.colaboratory.intrinsic+json": {
              "type": "string"
            }
          },
          "metadata": {},
          "execution_count": 12
        }
      ]
    },
    {
      "cell_type": "markdown",
      "source": [
        "`html.entities` サブモジュールは、文字実体参照のキーワードと Unicode 文字とを対応付ける辞書 `html.entities.html5` を提供する。末尾のセミコロン `;` は名前に含まれる、一部のキーワードはセミコロンなしでも標準で受け付ける。"
      ],
      "metadata": {
        "id": "kz2YzSMykE7h"
      }
    },
    {
      "cell_type": "code",
      "source": [
        "from html.entities import html5\n",
        "assert html5['gt;'] == html5['gt'] == '>'"
      ],
      "metadata": {
        "id": "661A3B-ZkF6X"
      },
      "execution_count": null,
      "outputs": []
    },
    {
      "cell_type": "markdown",
      "source": [
        "### HTML の解析 ###"
      ],
      "metadata": {
        "id": "mbGgzJg5ciop"
      }
    },
    {
      "cell_type": "markdown",
      "source": [
        "`html.parser` サブモジュールは、HTML 文書を解析する基礎的な機能を持つ `html.parser.HTMLParser` クラスを提供する。コンストラクタは次のとおり。\n",
        "\n",
        "``` python\n",
        "html.parser.HTMLParser(*, convert_charrefs=True)\n",
        "```\n",
        "\n",
        "キーワード専用の `convert_charrefs` 引数が `True`（デフォルト）の場合、全ての文字参照（`script`、`style` 要素にあるものは除く）は自動的に対応する Unicode 文字に変換される。\n",
        "\n",
        "`HTMLParser` インスタンス（パーサー）にデータを入力すると、HTML 解析が行われ、以下のメソッドが呼び出される。\n",
        "\n",
        "| メソッド | 機能 |\n",
        "|:---|:---|\n",
        "| `handle_starttag(tag, attrs)` | このメソッドは要素の開始タグが見つかると呼び出される。その際、引数 `tag` に要素名が小文字で渡され、引数 `attrs` に `(属性名, 値)` という 2 要素タプ<br />ルのリストが渡される |\n",
        "| `handle_endtag(tag)` | このメソッドは要素の終了タグが見つかると呼び出される。その際、引数 `tag` に要素名が小文字で渡される |\n",
        "| `handle_data(data)` | このメソッドは要素のコンテンツが見つかると呼び出される。その際、引数 `data` にコンテンツが渡される |\n",
        "| `handle_comment(data)` | このメソッドはコメントが見つかると呼び出される。その際、引数 `data` にコメントの内容が渡される |\n",
        "| `handle_entityref(name)` | このメソッドは、 `convert_charrefs` が `False` の場合に、文字実体参照が見つかると呼び出される。その際、引数 `name` にキーワードが渡される（例: `&gt;` な<br />ら `'gt'`） |\n",
        "| `handle_charref(name)` | このメソッドは、 `convert_charrefs` が `False` の場合に、数値文字参照が見つかると呼び出される。その際、引数 `name` に Unicode コードポイントが渡される<br />（例: `&#62;` なら `'62'`） |\n",
        "| `handle_decl(decl)` | このメソッドは文書型宣言が見つかると呼び出される。その際、引数 `decl` に `<!...>` マークアップ内の宣言の内容全体が渡される（例: `'DOCTYPE html'`） |\n",
        "\n",
        "`HTMLParser` クラスは、HTML 文書の妥当性を検証する機能を持たず、単に `handle_*` メソッドを呼び出す出すだけである。しかも、各 `handle_*` メソッドの挙動は実装されていない。したがって、 `HTMLParser` を継承するサブクラスにおいて、各 `handle_*` メソッドをオーバーライドして挙動を実装する必要がある。\n",
        "\n",
        "パーサーにデータを入力するには、 `feed()` メソッドを呼び出す。 `feed()` メソッドは、唯一の引数としてデータを受け付ける。\n",
        "\n",
        "次のコードは、パーサーの使用例である。"
      ],
      "metadata": {
        "id": "3c_ayZQJcjcK"
      }
    },
    {
      "cell_type": "code",
      "source": [
        "from html.parser import HTMLParser\n",
        "from html.entities import html5\n",
        "\n",
        "class MyHTMLParser(HTMLParser):\n",
        "    def handle_starttag(self, tag, attrs):\n",
        "        print(\"Start tag:\", tag)\n",
        "        for attr in attrs:\n",
        "            print(\"     attr:\", attr)\n",
        "\n",
        "    def handle_endtag(self, tag):\n",
        "        print(\"End tag  :\", tag)\n",
        "\n",
        "    def handle_data(self, data):\n",
        "        print(\"Data     :\", data)\n",
        "\n",
        "    def handle_comment(self, data):\n",
        "        print(\"Comment  :\", data)\n",
        "\n",
        "    def handle_entityref(self, name):\n",
        "        c = html5[name]\n",
        "        print(\"Named ent:\", c)\n",
        "\n",
        "    def handle_charref(self, name):\n",
        "        if name.startswith(\"x\"):\n",
        "            c = chr(int(name[1:], 16))\n",
        "        else:\n",
        "            c = chr(int(name))\n",
        "        print(\"Num ent  :\", c)\n",
        "\n",
        "    def handle_decl(self, decl):\n",
        "        print(\"Decl     :\", decl)\n",
        "\n",
        "def main():\n",
        "    parser = MyHTMLParser()\n",
        "    parser.feed('<!DOCTYPE html>')\n",
        "    parser.feed('<style type=\"text/css\">#python { color: green }</style>')\n",
        "    parser.feed('<img src=\"python-logo.png\" alt=\"The Python logo\">')\n",
        "    parser.feed('<!-- a comment -->')\n",
        "    parser.feed('&gt;&#62;&#x3E;')\n",
        "\n",
        "if __name__ == \"__main__\":\n",
        "    main()"
      ],
      "metadata": {
        "colab": {
          "base_uri": "https://localhost:8080/"
        },
        "id": "exr52FJGDVaD",
        "outputId": "465399ee-b2ef-49aa-cc37-d184150b22f0"
      },
      "execution_count": null,
      "outputs": [
        {
          "output_type": "stream",
          "name": "stdout",
          "text": [
            "Decl     : DOCTYPE html\n",
            "Start tag: style\n",
            "     attr: ('type', 'text/css')\n",
            "Data     : #python { color: green }\n",
            "End tag  : style\n",
            "Start tag: img\n",
            "     attr: ('src', 'python-logo.png')\n",
            "     attr: ('alt', 'The Python logo')\n",
            "Comment  :  a comment \n",
            "Data     : >>>\n"
          ]
        }
      ]
    },
    {
      "cell_type": "markdown",
      "source": [
        "XML\n",
        "---"
      ],
      "metadata": {
        "id": "m1Brq8zruhHK"
      }
    },
    {
      "cell_type": "markdown",
      "source": [
        "### 規格 ###"
      ],
      "metadata": {
        "id": "SxzpRNuyDAeJ"
      }
    },
    {
      "cell_type": "markdown",
      "source": [
        "**XML**（eXtensible Markup Language）とは、ユーザが定義したタグを用いてデータ構造を記述するマークアップ言語であり、W3C により仕様が標準化されている。XML の特徴は、タグの要素名を自由に定義できることである。一方で、この自由度の高さはパーサーの処理に時間がかかる原因になっている。また、タグでデータサイズが増える点は、データ交換形式としては JSON などより不利である。\n",
        "\n",
        "たとえば、以下のコードで `xml_string` 変数は XML データで定義されている（この `xml_string` 変数は以降のコードでも使用する）。"
      ],
      "metadata": {
        "id": "KPvtv6TP39eA"
      }
    },
    {
      "cell_type": "code",
      "source": [
        "xml_string = \"\"\"\\\n",
        "<?xml version='1.0' encoding='utf-8'?>\n",
        "<books>\n",
        "  <book id=\"1\">\n",
        "    <title rank=\"A\">XML 入門</title>\n",
        "    <author>山田太郎</author>\n",
        "  </book>\n",
        "  <book id=\"2\">\n",
        "    <title rank=\"B\">XML 上級</title>\n",
        "    <author>山田花子</author>\n",
        "  </book>\n",
        "  <book id=\"3\">\n",
        "    <title rank=\"B\">XML Schema 解説</title>\n",
        "    <author>山田太郎</author>\n",
        "    <author>山田花子</author>\n",
        "  </book>\n",
        "</books>\n",
        "\"\"\""
      ],
      "metadata": {
        "id": "nPtrB10W3-fb"
      },
      "execution_count": null,
      "outputs": []
    },
    {
      "cell_type": "markdown",
      "source": [
        "標準ライブラリの `xml.etree.ElementTree` モジュールは、XML データを解析および作成する機能を提供する。"
      ],
      "metadata": {
        "id": "S7-R5NJdFfkZ"
      }
    },
    {
      "cell_type": "markdown",
      "source": [
        "### XML の解析 ###"
      ],
      "metadata": {
        "id": "zVYwk4vgAAOR"
      }
    },
    {
      "cell_type": "markdown",
      "source": [
        "`xml.etree.ElementTree` は、XML を解析した結果を、`xml.etree.ElementTree.Element` オブジェクトと `xml.etree.ElementTree.ElementTree` オブジェクトで表す。\n",
        "\n",
        "`xml.etree.ElementTree.Element` オブジェクトは XML 要素（タグでマークアップされた部分）を表す。\n",
        "\n",
        "`xml.etree.ElementTree.ElementTree` オブジェクトは、木構造の形式で XML 文書の構造を表すもので、各節点を `xml.etree.ElementTree.Element` オブジェクトとしている。 `ElementTree` オブジェクトの `getroot()` メソッドで、ルートである `xml.etree.ElementTree.Element` オブジェクトを取得できる。\n",
        "\n",
        "``` python\n",
        "xml.etree.ElementTree.fromstring(text, parser=None)\n",
        "```\n",
        "\n",
        "この関数は、XML データを含む文字列 `text` を解析し、`xml.etree.ElementTree.Element` オブジェクトの木構造を構築して、そのルートを返す。`parser` に XML パーサーを指定することができる。指定されなかった場合、`xml.etree.ElementTree.XMLParser` のインスタンスが使用される。\n",
        "\n",
        "``` python\n",
        "xml.etree.ElementTree.parse(source, parser=None)\n",
        "```\n",
        "\n",
        "この関数は、XML データを含むファイル名またはファイルオブジェクト `source` からデータを読み取り、解析の結果である `xml.etree.ElementTree.ElementTree` オブジェクトを返す。`parser` 引数の役割は、`fromstring()` の同名の引数と同様である。\n",
        "\n",
        "`source` にファイル名を指定する場合、ルート要素を取得するコードは次のようになる:\n",
        "\n",
        "``` python\n",
        "import xml.etree.ElementTree as ET\n",
        "tree = ET.parse('sample.xml')\n",
        "root = tree.getroot()\n",
        "```\n",
        "\n",
        "`source` にファイルオブジェクトを指定する場合、ルート要素を取得するコードは次のようになる:\n",
        "\n",
        "``` python\n",
        "import xml.etree.ElementTree as ET\n",
        "with open('./sample.xml', mode='r', encoding='utf-8') as f:\n",
        "    tree = ET.parse(f)\n",
        "    root = tree.getroot()\n",
        "```\n",
        "\n",
        "`xml.etree.ElementTree.Element` オブジェクトの属性は次のとおり:\n",
        "\n",
        "| 属性 | 意味 |\n",
        "|:---|:---|\n",
        "| `tag` | 要素のタグ名 |\n",
        "| `text` | 要素のテキストコンテンツ（開始タグとその最初の子要素または終了タグまでのテキスト）。なければ `None` |\n",
        "| `attrib` | 要素の属性を保持する辞書 |\n",
        "\n",
        "また、要素の属性にアクセスするメソッドや、子要素を探索する主なメソッドは次のとおり:\n",
        "\n",
        "| メソッド | 機能 | 戻り値 |\n",
        "|:---|:---|:---|\n",
        "| `get(key, default=None)` | 要素の `key` という名前の属性を取得し、その値を返す。属性の値、または属性がない場合は `default` を返す | `str` |\n",
        "| `items()` | 要素の属性を `(名前, 値)` となるタプルのリストとして返す。返される属性の順番は決まっていない | `list` |\n",
        "| `find(match, namespaces=None)` | 最初に一致する子要素を返す。 `match` はタグ名または XPath 式を指定する。要素が見つからなかった場合は `None` を返す | `Element` &#124; `None` |\n",
        "| `findall(match, namespaces=None)` | 一致するすべての子要素をリストで返す。 `match` はタグ名または XPath 式 を指定する | `list` |\n",
        "| `iterfind(match, namespaces=None)` | 一致するすべての子要素を yield するイテレーターを返す。 `match` はタグ名または XPath 式 を指定する | イテレーター |\n",
        "\n",
        "`find()` などは、XPath 1.0 の構文の一部のみをサポートしている。これらがサポートしている主な XPath 構文は次のとおり。\n",
        "\n",
        "| 操作 | 意味 |\n",
        "|:---|:---|\n",
        "| `tag` | XML 文書を木構造としてパス形式で指定した子要素を選択する。`/spam/egg` は絶対パス、`spam/egg` は相対パスとなる |\n",
        "| `*` | 全ての子要素を選択する。全ての `egg` 孫要素を選択するには、`*/egg` とする |\n",
        "| `.` | 現在の要素を選択する。これを XPath 式の先頭に置くことで相対パスであることを示す |\n",
        "| `//` | 以降の子孫ノード全てを対象にする。たとえば、`.//egg` は木全体から `egg` 要素を選択する。`.//spam/*` は `spam` 要素の子要素を全て選択する |\n",
        "| `..` | 親要素を選択する。`find()` が呼ばれた要素の親に進もうとした場合 `None` を返す |\n",
        "| `[@attrib]` | 与えられた属性を持つ全ての要素を選択する |\n",
        "| `[@attrib='value']` | 与えられた属性が与えられた値を持つ全ての要素を選択する。たとえば、`.//egg[@id='3']` は `egg` 要素で `id` 属性が `3` のものを選択する |\n",
        "| `[.='text']` | 子孫のうち、与えられた `text` とテキストコンテンツ全体が等しい全ての要素を選択する |\n",
        "| `[position]` | `position` 番目の要素を選択する。たとえば、`.//egg[1]/..` は最初の `egg` 要素の親要素を選択する |\n",
        "\n",
        "※ 角括弧内の式の前にはタグ名かアスタリスクが必要。 `[position]` の前にはタグ名が必要。\n",
        "\n",
        "`xml.etree.ElementTree.Element` オブジェクトは、子要素を返すイテレーターになっている。\n",
        "\n",
        "子要素は入れ子になっており、インデックスで子ノードを指定してアクセスできる（たとえば `root[0][1]`）。"
      ],
      "metadata": {
        "id": "Rs0aKyts55EW"
      }
    },
    {
      "cell_type": "code",
      "source": [
        "import xml.etree.ElementTree as ET\n",
        "root = ET.fromstring(xml_string)\n",
        "assert root.find(\"book\").attrib[\"id\"] == root.find(\"book\").get(\"id\") == \"1\"\n",
        "assert root.find(\"./book/title\").text == \"XML 入門\"\n",
        "assert root[0][1].text == \"山田太郎\"\n",
        "for node in root.findall(\".//author[1]\"):\n",
        "    print(f\"{node.text=}\")\n",
        "for book in root:\n",
        "    for child in book:\n",
        "        print(f\"{child.tag=}, {child.text=}\")\n",
        "li = root.findall(\".//*[@rank='B']\")\n",
        "assert li == [x for x in root.iterfind(\".//*[@rank='B']\")]\n",
        "for child in li:\n",
        "    print(f\"{child.text=}\")"
      ],
      "metadata": {
        "colab": {
          "base_uri": "https://localhost:8080/"
        },
        "id": "nTT1CC5lBefS",
        "outputId": "d4e93828-47ee-4e51-89c7-cc315c9429b2"
      },
      "execution_count": null,
      "outputs": [
        {
          "output_type": "stream",
          "name": "stdout",
          "text": [
            "node.text='山田太郎'\n",
            "node.text='山田花子'\n",
            "node.text='山田太郎'\n",
            "child.tag='title', child.text='XML 入門'\n",
            "child.tag='author', child.text='山田太郎'\n",
            "child.tag='title', child.text='XML 上級'\n",
            "child.tag='author', child.text='山田花子'\n",
            "child.tag='title', child.text='XML Schema 解説'\n",
            "child.tag='author', child.text='山田太郎'\n",
            "child.tag='author', child.text='山田花子'\n",
            "child.text='XML 上級'\n",
            "child.text='XML Schema 解説'\n"
          ]
        }
      ]
    },
    {
      "cell_type": "markdown",
      "source": [
        "### XML 名前空間 ###"
      ],
      "metadata": {
        "id": "Kqpirm6aSfQr"
      }
    },
    {
      "cell_type": "markdown",
      "source": [
        "XML では自由にタグを定め要素の意味を定義できるが、インターネット上で情報を共有するときに、同じタグを異なる意味で使って衝突してしまう可能性がある。この問題を解決するために、**XML 名前空間**は、それぞれのタグに固有の URI を割り当て、名前を URI で修飾することで互いを区別する。\n",
        "\n",
        "たとえば、書籍の情報を表現するタグを `http://example.com/ns/book/` という URI で識別することにすると、書籍のタイトルを表す要素名は `{http://example.com/ns/book/}title` となる。全てのタグに URI を記述するのでは煩雑になるので、XML 名前空間では URI に別名を割り当て、それを接頭辞として用いることができる。URI と接頭辞は `xmlns` という特別な属性を使って結びつける。\n",
        "\n",
        "``` xml\n",
        "<books xmlns:bk=\"http://example.com/ns/book/\">\n",
        "  ...\n",
        "  <bk:title>XML 入門</bk:title>\n",
        "  ...\n",
        "```\n",
        "\n",
        "この例では、`bk:title` は `{http://example.com/ns/book/}title` と同等である。`xmlns` 属性を使って名前空間を宣言すると、その接頭辞と URI のマッピングは宣言を行った要素およびその子孫要素にわたって有効になる。\n",
        "\n",
        "`xmlns` 属性による名前空間宣言で、接頭辞を省略すると、その URI が宣言のある要素以下でデフォルトとなり、接頭辞なしのタグ名はこのデフォルト名前空間に属することになる。たとえば、ウェブ上の記事の更新情報を配信するためのフォーマット Atom の場合は、ルート要素の `feed` タグで次のような名前空間の宣言を行う。\n",
        "\n",
        "``` xml\n",
        "<feed xmlns='http://www.w3.org/2005/Atom' xml:lang='ja'>\n",
        "```\n",
        "\n",
        "この宣言を最初に行うことで、`feed` 要素の子孫として記述するタグは、接頭辞を持たなくても Atom の名前空間に属することになる。\n",
        "\n",
        "名前空間のある XML を `find()` メソッドなどで探索するための方法は 2 つある。ひとつは、XPath の構文をそのまま使う方法、すなわち、タグ名に URI 修飾を付ける方法である。\n",
        "\n",
        "``` python\n",
        "root.findall('.//{http://example.com/ns/book/}title')\n",
        "```\n",
        "\n",
        "また、`{http://example.com/ns/book/}*` は名前空間内の全ての要素を選択し、`{*}title` は全ての名前空間内の `title` 要素および名前空間に属さない `title` 要素を選択する。\n",
        "\n",
        "もう一つの方法は、接頭辞の辞書 `{key: uri, ...}` を作り、これをメソッドの `namespaces` 引数に渡すことである。要素の指定の中では、`key:sometag` は `{uri}sometag` に展開される。\n",
        "\n",
        "``` python\n",
        "ns = {'bk': 'http://www.w3.org/2005/Atom'}\n",
        "root.findall('.//bk:title', ns)\n",
        "```"
      ],
      "metadata": {
        "id": "dzriB5X2SgKT"
      }
    },
    {
      "cell_type": "markdown",
      "source": [
        "### XML データの編集 ###"
      ],
      "metadata": {
        "id": "f5S8AKfRAhLH"
      }
    },
    {
      "cell_type": "markdown",
      "source": [
        "`xml.etree.ElementTree.Element` は、属性を追加するメソッド、要素を追加・削除するメソッドも持つ。\n",
        "\n",
        "| メソッド | 機能 | 戻り値 |\n",
        "|:---|:---|:---|\n",
        "| `set(key, value)` | 要素に新しい属性 `key` を値 `value` で追加する | `None` |\n",
        "| `append(subelement)` | 要素に新しい子要素 `subelement` を追加する。追加される位置は末尾 | `None` |\n",
        "| `remove(subelement)` | 要素から子要素 `subelement` を削除する | `None` |\n",
        "\n",
        "要素 `Element` のコンストラクタの定義は、次のとおり。\n",
        "\n",
        "``` python\n",
        "xml.etree.ElementTree.Element(tag, attrib={}, **extra)\n",
        "```\n",
        "\n",
        "引数の `tag` と `attrib` の値は、それぞれ `tag` 属性と `attrib` 属性に格納される。また、`dict()` と同様に、キーワード引数は `attrib` 属性に辞書の要素として格納される。`attrib` 引数とキーワード引数は同時に渡されてもよい。\n",
        "\n",
        "子要素を `xml.etree.ElementTree.SubElement()` 関数で生成することもできる。\n",
        "\n",
        "``` python\n",
        "xml.etree.ElementTree.SubElement(parent, tag, attrib={}, **extra)\n",
        "```\n",
        "\n",
        "この関数は要素インスタンスを作成し、それを既存の要素に追加する。作成した要素インスタンスを返す。`parent` には親要素を指定する。他の引数の意味は `Element` のコンストラクタの引数の意味と同じ。"
      ],
      "metadata": {
        "id": "Ea_Fw1bYDRfl"
      }
    },
    {
      "cell_type": "code",
      "source": [
        "# 属性の追加\n",
        "bk1 = root.find(\"book\")\n",
        "bk1.set(\"category\", \"XML\")\n",
        "print(bk1.items())\n",
        "\n",
        "# 新規要素の作成\n",
        "bk = ET.Element(\"book\", attrib={\"id\": \"4\"}, category=\"XML\")\n",
        "bk_title = ET.SubElement(bk, \"title\", attrib={\"rank\": \"A\"})\n",
        "bk_title.text = \"たのしい XML\"\n",
        "bk_author = ET.SubElement(bk, \"author\")\n",
        "bk_author.text = \"山田太郎\"\n",
        "\n",
        "# 要素の追加\n",
        "root.append(bk)"
      ],
      "metadata": {
        "colab": {
          "base_uri": "https://localhost:8080/"
        },
        "id": "tnwcwF4xDSP6",
        "outputId": "31ef5a77-a724-454c-c608-81865607f377"
      },
      "execution_count": null,
      "outputs": [
        {
          "output_type": "stream",
          "name": "stdout",
          "text": [
            "[('id', '1'), ('category', 'XML')]\n"
          ]
        }
      ]
    },
    {
      "cell_type": "markdown",
      "source": [
        "XML データを一から作成することもできる。作成したデータの確認には、`dump()` 関数が使える（`sys.stdout` に出力する）。"
      ],
      "metadata": {
        "id": "0pSYkNI0Cc1l"
      }
    },
    {
      "cell_type": "code",
      "source": [
        "a = ET.Element('a')\n",
        "b = ET.SubElement(a, 'b')\n",
        "c = ET.SubElement(a, 'c')\n",
        "d = ET.SubElement(c, 'd')\n",
        "ET.dump(a)"
      ],
      "metadata": {
        "colab": {
          "base_uri": "https://localhost:8080/"
        },
        "id": "zUbBfz-mCddB",
        "outputId": "c18ea7c1-d866-41f3-bda5-ad1ebb294c1a"
      },
      "execution_count": null,
      "outputs": [
        {
          "output_type": "stream",
          "name": "stdout",
          "text": [
            "<a><b /><c><d /></c></a>\n"
          ]
        }
      ]
    },
    {
      "cell_type": "markdown",
      "source": [
        "### XML データの出力 ###"
      ],
      "metadata": {
        "id": "bqxlpMLCXmic"
      }
    },
    {
      "cell_type": "markdown",
      "source": [
        "XML データをファイルに出力するには、以下の関数を使う。\n",
        "\n",
        "``` python\n",
        "xml.etree.ElementTree.indent(tree, space='  ', level=0)\n",
        "```\n",
        "\n",
        "この関数を使用すると、XML データの出力がインデントで整えたものとなる（Python 3.9 で追加）。\n",
        "\n",
        "| 引数 | 意味 |\n",
        "|:---|:---|\n",
        "| `tree` | `Element` オブジェクトまたは `ElementTree` オブジェクトを指定する |\n",
        "| `space` | インデントレベルごとに挿入される空白文字列を指定する。デフォルトは 2 つの空白文字 |\n",
        "| `level` | 初期インデントレベルを設定する |\n",
        "\n",
        "``` python\n",
        "xml.etree.ElementTree.tostring(element, encoding='us-ascii', method='xml', *, xml_declaration=None, default_namespace=None, short_empty_elements=True)\n",
        "```\n",
        "\n",
        "この関数は、XML 要素を全ての子要素を含めて表現する文字列を生成し、文字列またはエンコードされたバイト列を返す。\n",
        "\n",
        "| 引数 | 意味 |\n",
        "|:---|:---|\n",
        "| `element` | `Element` のインスタンスを指定する |\n",
        "| `encoding` | 出力エンコーディング。デフォルトは `'us-ascii'` なので、Unicode 文字列を生成するには、`encoding='unicode'` を使用する必要がある |\n",
        "| `method` | `'xml'`, `'html'`, `'text'` のいずれか。デフォルトは `'xml'` |\n",
        "| `xml_declaration` | キーワード専用引数で、XML 宣言 `<?xml ...?>` が最初の行に書かれるかどうかを制御する<br /><br />・`False` の場合: XML 宣言は常に書かれない<br /><br />・`True` の場合: XML 宣言は常に書かれる<br /><br />・`None` （デフォルト）の場合: `encoding` が `'us-ascii'`、`'utf-8'`、`'unicode'` 以外の場合に XML 宣言が書かれる |\n",
        "| `default_namespace` | キーワード専用引数で、デフォルトの XML 名前空間（xmlns 用）を指定する |\n",
        "| `short_empty_elements` | 内容がない属性のフォーマットを制御する<br /><br />・`True`（デフォルト）の場合: 単一の空要素タグとして書かれる。たとえば `<tab />`<br /><br />・`False` の場合: 開始タグと終了タグのペアとしてかかれる。たとえば `<tab></tag>`\n",
        "\n",
        "この関数は、`encoding` 引数が `'unicode'` の場合は文字列を返し、それ以外の場合はエンコードされたバイト列を返す。`'unicode'` の場合、XML 宣言 `<?xml ...?>` には `encoding='utf-8'` が指定される。\n",
        "\n",
        "XML ファイルに書き出すには、次のようにする:"
      ],
      "metadata": {
        "id": "tEroT18dA2Gs"
      }
    },
    {
      "cell_type": "code",
      "source": [
        "ET.indent(root)\n",
        "with open('output.xml', 'w', encoding='utf-8') as f:\n",
        "    f.write(ET.tostring(root, 'unicode', xml_declaration=True))"
      ],
      "metadata": {
        "id": "tkBOqMryOpEz"
      },
      "execution_count": null,
      "outputs": []
    },
    {
      "cell_type": "code",
      "source": [
        "!cat output.xml"
      ],
      "metadata": {
        "colab": {
          "base_uri": "https://localhost:8080/"
        },
        "id": "cmxfyXjom5-0",
        "outputId": "ecf44404-502f-49dc-f04e-2dc4a7776aee"
      },
      "execution_count": null,
      "outputs": [
        {
          "output_type": "stream",
          "name": "stdout",
          "text": [
            "<?xml version='1.0' encoding='utf-8'?>\n",
            "<books>\n",
            "  <book id=\"1\" category=\"XML\">\n",
            "    <title rank=\"A\">XML 入門</title>\n",
            "    <author>山田太郎</author>\n",
            "  </book>\n",
            "  <book id=\"2\">\n",
            "    <title rank=\"B\">XML 上級</title>\n",
            "    <author>山田花子</author>\n",
            "  </book>\n",
            "  <book id=\"3\">\n",
            "    <title rank=\"B\">XML Schema 解説</title>\n",
            "    <author>山田太郎</author>\n",
            "    <author>山田花子</author>\n",
            "  </book>\n",
            "  <book id=\"4\" category=\"XML\">\n",
            "    <title rank=\"A\">たのしい XML</title>\n",
            "    <author>山田太郎</author>\n",
            "  </book>\n",
            "</books>"
          ]
        }
      ]
    },
    {
      "cell_type": "code",
      "source": [
        "!rm output.xml"
      ],
      "metadata": {
        "id": "FW71aj1xeaGv"
      },
      "execution_count": null,
      "outputs": []
    },
    {
      "cell_type": "markdown",
      "source": [
        "### XML-C14N ###"
      ],
      "metadata": {
        "id": "Mg5GgH3ZFG7j"
      }
    },
    {
      "cell_type": "markdown",
      "source": [
        "XML 文書では、タグの中のスペースの有無や改行の有無など、ある程度の差異があっても、そのような差異は許容され、内容としては同一である。しかし、このような表記のゆれは、コンピューターによるデータ処理を難しくする。とくに、XML 文書について改ざんの有無を判定する際に支障となる。\n",
        "\n",
        "そこで、W3C の仕様では、XML 文書の**正規化**が定められた。これは、同じ内容に対してただ 1 つの XML の表記に統一するというものである。そのための規格の一つは Canonical XML または XML-C14N と呼ばれる（C14N は Canonicalization で C と n との間に 14 文字あることに由来する）。\n",
        "\n",
        "`xml.etree.ElementTree` は、XML 文書を XML-C14N で正規化するための関数を提供している:\n",
        "\n",
        "``` python\n",
        "xml.etree.ElementTree.canonicalize(xml_data=None, *, out=None, from_file=None, **options)\n",
        "```\n",
        "\n",
        "入力として `xml_data` か `from_file` のいずれかを指定する。`xml_data` は XML 文書を含む文字列でなければならず、`from_file` は XML 文書である file-like オブジェクトでなければならない。"
      ],
      "metadata": {
        "id": "ObbYynP1FI_v"
      }
    },
    {
      "cell_type": "code",
      "source": [
        "import xml.etree.ElementTree as ET\n",
        "xml_data = \"<quantity >100</quantity>\"  # タグの中にスペースがある\n",
        "ET.canonicalize(xml_data)"
      ],
      "metadata": {
        "colab": {
          "base_uri": "https://localhost:8080/",
          "height": 35
        },
        "id": "JECksemcoB3-",
        "outputId": "7391298f-f101-488f-a0bf-0092849600cc"
      },
      "execution_count": null,
      "outputs": [
        {
          "output_type": "execute_result",
          "data": {
            "text/plain": [
              "'<quantity>100</quantity>'"
            ],
            "application/vnd.google.colaboratory.intrinsic+json": {
              "type": "string"
            }
          },
          "metadata": {},
          "execution_count": 22
        }
      ]
    },
    {
      "cell_type": "markdown",
      "source": [
        "`out` 引数に出力先の file-like オブジェクトを指定できる。\n",
        "\n",
        "``` python\n",
        "with open(\"c14n_output.xml\", mode='w', encoding='utf-8') as out_file:\n",
        "    ET.canonicalize(xml_data, out=out_file)\n",
        "```"
      ],
      "metadata": {
        "id": "VTZMq2qXp8bV"
      }
    },
    {
      "cell_type": "markdown",
      "source": [
        "### lxml ###"
      ],
      "metadata": {
        "id": "htmecO9XyqsO"
      }
    },
    {
      "cell_type": "markdown",
      "source": [
        "サードパーティ製の [lxml](https://pypi.org/project/lxml/) パッケージは、`xml.etree.ElementTree` に基づいた Python API を備えた XML / HTML パースライブラリであり、次のような特徴を持つ。\n",
        "\n",
        "  * C のライブラリ libxml2 と libxslt を利用するのでパーサーの処理が非常に高速\n",
        "  * HTML の解析にも対応\n",
        "\n",
        "ライセンスは BSD 3-clause License（libxml2 と libxslt2 自体は MIT License）。インストール方法は次のとおり。\n",
        "\n",
        "``` shell\n",
        "pip install lxml\n",
        "```\n",
        "\n",
        "`lxml` が `xml.etree.ElementTree` の拡張となっているので、ほとんどの場合、`xml.etree.ElementTree` を使って記述したコードを `lxml.etree` や `lxml.html` に置き換えるだけで、高速化の恩恵を受けることができる。\n",
        "\n",
        "ただし、文字エンコーディングに関しては、若干の注意が必要。XML 宣言で `encoding` の指定がある場合、`fromstring()` 関数に渡すデータは、指定されたエンコーディング形式でエンコードされたバイト列としなければならない。"
      ],
      "metadata": {
        "id": "6lOz4C6hyrlz"
      }
    },
    {
      "cell_type": "code",
      "source": [
        "from lxml import etree\n",
        "root = etree.fromstring(bytes(xml_string, encoding='utf-8'))\n",
        "\n",
        "assert root.find(\"book\").attrib[\"id\"] == root.find(\"book\").get(\"id\") == \"1\"\n",
        "assert root.find(\"./book/title\").text == \"XML 入門\"\n",
        "assert root[0][1].text == \"山田太郎\"\n",
        "for node in root.findall(\".//author[1]\"):\n",
        "    print(f\"{node.text=}\")\n",
        "for book in root:\n",
        "    for child in book:\n",
        "        print(f\"{child.tag=}, {child.text=}\")\n",
        "li = root.findall(\".//*[@rank='B']\")\n",
        "assert li == [x for x in root.iterfind(\".//*[@rank='B']\")]\n",
        "for child in li:\n",
        "    print(f\"{child.text=}\")"
      ],
      "metadata": {
        "id": "ZBGa-_U7BaiE",
        "colab": {
          "base_uri": "https://localhost:8080/"
        },
        "outputId": "6b7fd3f5-4555-41f7-be9a-dd78ed8a1c25"
      },
      "execution_count": null,
      "outputs": [
        {
          "output_type": "stream",
          "name": "stdout",
          "text": [
            "node.text='山田太郎'\n",
            "node.text='山田花子'\n",
            "node.text='山田太郎'\n",
            "child.tag='title', child.text='XML 入門'\n",
            "child.tag='author', child.text='山田太郎'\n",
            "child.tag='title', child.text='XML 上級'\n",
            "child.tag='author', child.text='山田花子'\n",
            "child.tag='title', child.text='XML Schema 解説'\n",
            "child.tag='author', child.text='山田太郎'\n",
            "child.tag='author', child.text='山田花子'\n",
            "child.text='XML 上級'\n",
            "child.text='XML Schema 解説'\n"
          ]
        }
      ]
    },
    {
      "cell_type": "markdown",
      "source": [
        "`lxml` では、`xml.etree.XMLParser(recover=True)` として作成したパーサーは、タグの対応が不正であるなどの壊れた XML をリカバーしながら解析を進めることができる。\n",
        "\n",
        "``` python\n",
        "from lxml import etree\n",
        "parser = etree.XMLParser(recover=True)\n",
        "tree = etree.parse('./example.xml', parser)\n",
        "```\n",
        "\n",
        "また、`lxml` では、要素オブジェクトは `xpath()` メソッドを持ち、XPath 式により要素を選択することができる。`findall()` などと異なり、`xpath()` は XPath 1.0 を完全にサポートする。\n",
        "\n",
        "``` python\n",
        "xpath(self, _path, **_variables)\n",
        "```\n",
        "\n",
        "このメソッドは取得した要素のリストを返す。名前空間に関しては、`namespaces` キーワード引数に接頭辞の辞書を指定することができ、その役割は `xml.etree.ElementTree` の場合と同様である。"
      ],
      "metadata": {
        "id": "mZggHayMBzii"
      }
    },
    {
      "cell_type": "code",
      "source": [
        "# xpath() では XPath 1.0 の式を自由に使える\n",
        "[x.text for x in root.xpath(\"//book/title\")]"
      ],
      "metadata": {
        "colab": {
          "base_uri": "https://localhost:8080/"
        },
        "id": "OMVsuS0wCyh1",
        "outputId": "c7b99699-ea64-46b4-fab6-48a8279ec8f4"
      },
      "execution_count": null,
      "outputs": [
        {
          "output_type": "execute_result",
          "data": {
            "text/plain": [
              "['XML 入門', 'XML 上級', 'XML Schema 解説']"
            ]
          },
          "metadata": {},
          "execution_count": 24
        }
      ]
    },
    {
      "cell_type": "markdown",
      "source": [
        "Base64\n",
        "------"
      ],
      "metadata": {
        "id": "-TRGhAr1KJ0e"
      }
    },
    {
      "cell_type": "markdown",
      "source": [
        "**Base64** は、バイナリデータを、英数字（`A`、…、`Z`、`a`、…、`z`、`0`、…、`9`）と記号（`+`、`/`、`=`）のみを用いるデータに変換（エンコード）し、元に戻すこと（デコード）も可能な方式である。JSON 文書や XML 文書、電子メールなど、テキストしか扱えないメディア上でバイナリデータを保存したり、送信したりするために使用される。\n",
        "\n",
        "以下の点に注意する。\n",
        "\n",
        "  * Base64 エンコードによって、データ量は 4/3（約 133 %）に増加する。\n",
        "  * `+` と `/` は URL で特別な意味を持つ予約文字であり、 URL に含ませると問題を引き起こすことがある。\n",
        "\n",
        "標準ライブラリの `base64` モジュールは、Base64 エンコード・デコードをサポートする。\n",
        "\n",
        "``` python\n",
        "base64.b64encode(s, altchars=None)\n",
        "```\n",
        "\n",
        "この関数は、Base64 を使ってバイナリデータをエンコードし、エンコードされた bytes を返す。\n",
        "\n",
        "| 引数 | 意味 |\n",
        "|:---|:---|\n",
        "| `s` | バイト列 |\n",
        "| `altchars` | `+` と `/` の代わりに使われるバイト列を指定する |\n",
        "\n",
        "`base64.b64encode()` 関数はバイト列を返すので、Base64 エンコードされたデータを JSON 文書などに文字列として埋め込むには、バイト列を ASCII 文字列にデコードする必要がある。\n",
        "\n",
        "次のコードは、Base64 エンコードを使用して指定した PNG 形式の画像ファイルを ASCII 文字列に変換する例である。"
      ],
      "metadata": {
        "id": "HudjFIGsmYVV"
      }
    },
    {
      "cell_type": "code",
      "source": [
        "import base64\n",
        "import textwrap\n",
        "pngfile = \"/usr/share/icons/locolor/16x16/apps/gvim.png\"\n",
        "with open(pngfile, mode=\"rb\") as f:\n",
        "    s = f.read()\n",
        "    encoded_data = base64.b64encode(s).decode('ascii')\n",
        "wrapped_text = textwrap.fill(encoded_data)\n",
        "print(wrapped_text)"
      ],
      "metadata": {
        "colab": {
          "base_uri": "https://localhost:8080/"
        },
        "id": "sGtrgBWKj1yT",
        "outputId": "86ca2dc6-e6d6-449f-e92b-d06068933269"
      },
      "execution_count": null,
      "outputs": [
        {
          "output_type": "stream",
          "name": "stdout",
          "text": [
            "iVBORw0KGgoAAAANSUhEUgAAABAAAAAQCAMAAAAoLQ9TAAAAGFBMVEW9vb0A/wDAwMCAgI\n",
            "AAAID///8AgAAAAAAxi9wfAAAAAXRSTlMAQObYZgAAAFhJREFUeNpNzocBhDAMBEFHXf8d\n",
            "o1uc5H9gh1hKkaeKfXFPj4K9Rc3TJXZbuq9YvWD1BRqoAB2h7DCstijBI3rwXXSK4j7UiW\n",
            "6gPAL4zrWArrhgUeILG1kfBcgDtCKt4RYAAAAASUVORK5CYII=\n"
          ]
        }
      ]
    },
    {
      "cell_type": "markdown",
      "source": [
        "``` python\n",
        "base64.b64decode(s, altchars=None, validate=False)\n",
        "```\n",
        "\n",
        "この関数は Base64 デコードを行い、デコードされた bytes を返す。\n",
        "\n",
        "| 引数 | 意味 |\n",
        "|:---|:---|\n",
        "| `s` | Base64 エンコードされたバイト列または ASCII 文字列 |\n",
        "| `altchars` | `+` と `/` の代わりに使われるバイト列を指定する |\n",
        "| `validate` | `True` の場合、入力に英数字でも `+/=` でもない文字があると `binascii.Error` 例外を発生させる。`False`（デフォルト）の場合は無視 |\n",
        "\n",
        "`altchars` で英数字でも `+/=` でもない文字を指定し、`validate=True` を指定する場合、入力にそれらの文字が含まれるとエラーが発生して無意味となるので注意。"
      ],
      "metadata": {
        "id": "ea8d7uvXKo4Z"
      }
    },
    {
      "cell_type": "code",
      "source": [
        "s = wrapped_text.replace(\"\\n\", \"\")  # 改行を削除\n",
        "b = base64.b64decode(s)\n",
        "with open(\"gvim.png\", mode=\"wb\") as f:\n",
        "    f.write(b)\n",
        "\n",
        "# IPython で画像を表示\n",
        "from IPython.display import Image, display_png\n",
        "display_png(Image('gvim.png'))\n",
        "!rm gvim.png"
      ],
      "metadata": {
        "colab": {
          "base_uri": "https://localhost:8080/",
          "height": 34
        },
        "id": "-9h7ufPkunAK",
        "outputId": "026cebdf-8e83-42e4-b111-e1aba6b5b22b"
      },
      "execution_count": null,
      "outputs": [
        {
          "output_type": "display_data",
          "data": {
            "image/png": "[encoded data removed]"
          },
          "metadata": {}
        }
      ]
    },
    {
      "cell_type": "markdown",
      "source": [
        "pickle\n",
        "------"
      ],
      "metadata": {
        "id": "lL0WsrHXDIsE"
      }
    },
    {
      "cell_type": "markdown",
      "source": [
        "Python のオブジェクトを一列のバイト列に変換することを**シリアライズ**（直列化）といい、復元することを**デシリアライズ**という。シリアライズしたものをファイルに保存すると、オブジェクトのデータ構造とデータの値をそのまま保存することができる。ファイルを読み込み、デシリアライズすると、元のオブジェクトを復元できる。このようにオブジェクトを半永久的に保存し、いつでも復元できるようにすることを**永続化**（perpetuation）という。\n",
        "\n",
        "標準ライブラリの `pickle` モジュールは、シリアライズ・デシリアライズをサポートする。`pickle` モジュールが提供する機能を使ってシリアライズとファイル保存をすることを pickle 化、ファイル読み込みとデシリアライズをすることを非 pickle 化と呼ぶ。ファイル名の拡張子は `.pickle` とすることが多い。 pickle は Python 固有のバイナリ形式であり、JSON のような相互運用可能なフォーマットではない。\n",
        "\n",
        "| 関数 | 機能 | 戻り値 |\n",
        "|:---|:---|:---|\n",
        "| `pickle.dump(obj, file, protocol=None, *, fix_imports=True, buffer_callback=None)` | オブジェクト `obj` をシリアライズし、ファイルオブジェクト `file` に書き込む | `None` |\n",
        "| `pickle.dumps(obj, protocol=None, *, fix_imports=True, buffer_callback=None)` | オブジェクト `obj` をシリアライズし、結果のバイト列を返す | `bytes` |\n",
        "| `pickle.load(file, *, fix_imports=True, encoding='ASCII', errors='strict', buffers=None)` | ファイルオブジェクト `file` から読み込んだ内容をデシリアライズし、結果の<br />オブジェクトを返す | `object` |\n",
        "| `pickle.loads(data, /, *, fix_imports=True, encoding='ASCII', errors='strict', buffers=None)` | バイト列 `data` をデシリアライズし、結果のオブジェクトを返す | `object` |\n",
        "\n",
        "`dump()` と `dumps()` の `protocol` 引数は、整数で、シリアライズで使用するプロトコルのバージョンを指定する。指定されない場合、`pickle.DEFAULT_PROTOCOL` が使用される。Python 3.8 以降、`pickle.DEFAULT_PROTOCOL` は `4` で、Python 3.3 以前では利用できない。`pickle.HIGHEST_PROTOCOL` は、利用可能な最も高いプロトコルバージョンであり、Python 3.8 以降は `5`。これは Python 3.7 以前では利用できない。\n",
        "\n",
        "`fix_imports` 引数が真の場合、可能なら Python 2 との互換性を保つ形式となるが、今日の `pickle.DEFAULT_PROTOCOL` 以降のバージョンではサポートされない。\n",
        "\n",
        "書き込み（ pickle 化）:\n",
        "\n",
        "``` python\n",
        "import pickle\n",
        "with open(filepath, 'wb') as f:\n",
        "    pickle.dump(obj, f)\n",
        "```\n",
        "\n",
        "読み込み（非 pickle 化）:\n",
        "\n",
        "``` python\n",
        "import pickle\n",
        "with open(filepath, 'rb') as f:\n",
        "    x = pickle.load(f)\n",
        "```\n",
        "\n",
        "`open()` 関数はバイナリモードを指定する必要がある。`pickle.load()` 関数はバイナリファイルを開き、バイナリファイルの安全性を保証しない。非 pickle 化により任意のコードを実行することも可能である。**信頼できない提供元からのデータや、改竄された可能性のあるデータの非 pickle 化は絶対に行ってはいけない**。データの内容や提供先が信頼できないようなケースでは、 JSON のようなより安全なデータフォーマットを使用するべきである。\n",
        "\n",
        "ファイルオブジェクトやジェネレーターのように pickle 化できないオブジェクトもあって、これらを pickle 化しようとすると `pickle.PicklingError` 例外が発生する。\n",
        "\n",
        "以下のオブジェクトは pickle 化できる。\n",
        "\n",
        "  * `None`、`True`、`False`、`Ellipsis`、`NotImplemented`\n",
        "  * 整数、浮動小数点数、複素数\n",
        "  * 文字列、バイト列、バイト配列（`bytearray`）\n",
        "  * `date` オブジェクト、`datetime` オブジェクト、`time` オブジェクト、`timezone` オブジェクト\n",
        "  * pickle 化可能なオブジェクトからなるタプル、リスト、集合、辞書、`deque` および `namedtuple`（ただし引数 `typename` と同じ名前の変数に割り当てることが条件となる）\n",
        "  * モジュールのトップレベルで定義された関数（`def` で定義されたもののみで `lambda` で定義されたものは含まない）\n",
        "  * モジュールのトップレベルで定義されているクラス\n",
        "  * `__getstate__()` メソッドを呼び出した結果が pickle 化可能であるようなクラスのインスタンス\n",
        "\n",
        "関数のコードやその属性は pickle 化されない。クラスも同様である。したがって、非 pickle 化を行うモジュールにおいて、pickle 化した関数やクラスを定義するモジュールが import されていないと、例外が発生する。"
      ],
      "metadata": {
        "id": "kNa2RpegDLj-"
      }
    },
    {
      "cell_type": "code",
      "source": [
        "import pickle\n",
        "import datetime as dt\n",
        "\n",
        "data = {\n",
        "    \"a\": [1, 2.0, 3 + 4j],\n",
        "    \"b\": (\"character string\", b\"byte string\"),\n",
        "    \"c\": {None, True, False},\n",
        "    \"d\": dt.datetime(2023, 10, 31, 21, 30, tzinfo=dt.timezone(dt.timedelta(hours=9), \"JST\")),\n",
        "}\n",
        "\n",
        "# シリアライズ\n",
        "serialized = pickle.dumps(data)\n",
        "print(f\"{serialized=}\", \"\\n\")\n",
        "\n",
        "# datetime モジュールをアンインポートする\n",
        "del dt\n",
        "\n",
        "# デシリアライズ\n",
        "data2 = pickle.loads(serialized)\n",
        "\n",
        "# datetime モジュールを import していなくてもエラーにならない\n",
        "print(f\"{data['d']:%Y年%m月%d日 %H時%M分} ({data2['d'].tzname()})\")\n",
        "data2"
      ],
      "metadata": {
        "colab": {
          "base_uri": "https://localhost:8080/"
        },
        "id": "BAwnkvb3-YuW",
        "outputId": "6a78006e-7f95-4615-d5ca-1cc015b7d8e9"
      },
      "execution_count": null,
      "outputs": [
        {
          "output_type": "stream",
          "name": "stdout",
          "text": [
            "serialized=b'\\x80\\x04\\x95\\xd8\\x00\\x00\\x00\\x00\\x00\\x00\\x00}\\x94(\\x8c\\x01a\\x94]\\x94(K\\x01G@\\x00\\x00\\x00\\x00\\x00\\x00\\x00\\x8c\\x08builtins\\x94\\x8c\\x07complex\\x94\\x93\\x94G@\\x08\\x00\\x00\\x00\\x00\\x00\\x00G@\\x10\\x00\\x00\\x00\\x00\\x00\\x00\\x86\\x94R\\x94e\\x8c\\x01b\\x94\\x8c\\x10character string\\x94C\\x0bbyte string\\x94\\x86\\x94\\x8c\\x01c\\x94\\x8f\\x94(\\x89\\x88N\\x90\\x8c\\x01d\\x94\\x8c\\x08datetime\\x94\\x8c\\x08datetime\\x94\\x93\\x94C\\n\\x07\\xe7\\n\\x1f\\x15\\x1e\\x00\\x00\\x00\\x00\\x94h\\x0f\\x8c\\x08timezone\\x94\\x93\\x94h\\x0f\\x8c\\ttimedelta\\x94\\x93\\x94K\\x00M\\x90~K\\x00\\x87\\x94R\\x94\\x8c\\x03JST\\x94\\x86\\x94R\\x94\\x86\\x94R\\x94u.' \n",
            "\n",
            "2023年10月31日 21時30分 (JST)\n"
          ]
        },
        {
          "output_type": "execute_result",
          "data": {
            "text/plain": [
              "{'a': [1, 2.0, (3+4j)],\n",
              " 'b': ('character string', b'byte string'),\n",
              " 'c': {False, None, True},\n",
              " 'd': datetime.datetime(2023, 10, 31, 21, 30, tzinfo=datetime.timezone(datetime.timedelta(seconds=32400), 'JST'))}"
            ]
          },
          "metadata": {},
          "execution_count": 27
        }
      ]
    }
  ]
}