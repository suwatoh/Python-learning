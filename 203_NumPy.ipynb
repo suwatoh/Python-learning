{
  "nbformat": 4,
  "nbformat_minor": 0,
  "metadata": {
    "colab": {
      "provenance": [],
      "authorship_tag": "ABX9TyOWE3mNY67vwcZLxIEAvNjV",
      "include_colab_link": true
    },
    "kernelspec": {
      "name": "python3",
      "display_name": "Python 3"
    },
    "language_info": {
      "name": "python"
    }
  },
  "cells": [
    {
      "cell_type": "markdown",
      "metadata": {
        "id": "view-in-github",
        "colab_type": "text"
      },
      "source": [
        "<a href=\"https://colab.research.google.com/github/suwatoh/Python-learning/blob/main/203_NumPy.ipynb\" target=\"_parent\"><img src=\"https://colab.research.google.com/assets/colab-badge.svg\" alt=\"Open In Colab\"/></a>"
      ]
    },
    {
      "cell_type": "markdown",
      "source": [
        "NumPy\n",
        "====="
      ],
      "metadata": {
        "id": "2BmS0EhvUhL0"
      }
    },
    {
      "cell_type": "markdown",
      "source": [
        "NumPy の概要\n",
        "------------"
      ],
      "metadata": {
        "id": "H6EXyX6sUzn1"
      }
    },
    {
      "cell_type": "markdown",
      "source": [
        "[NumPy](https://numpy.org/ja/) は、Python で数値計算を行うためのライブラリである。 NumPy の内部は C と FORTRAN によって実装されているため非常に高速に動作する（Python での GIL による制限を受けずに並列処理が可能である）。ライセンスは BSD 3-clause License。\n",
        "\n",
        "2024 年 6 月 16 日に NumPy 2.0 がリリースされ、NumPy 1.xx で書かれた既存のコードに影響する API 変更が行われた。サポートされる Python のバージョンは以下のとおり。\n",
        "\n",
        "| NumPy | サポートされる Python |\n",
        "|:--:|:--:|\n",
        "| NumPy 2.1.x | Python 3.10-3.13 |\n",
        "| NumPy 2.0.x | Python 3.9-3.12 |\n",
        "| NumPy 1.26.x | Python 3.9-3.12 |\n",
        "| NumPy 1.24.x | Python 3.8-3.11 |\n",
        "\n",
        "このノートでは、 NumPy 1.26.x を扱い、 NumPy 2.0 での変更点を追記する形を取る。\n",
        "\n",
        "NumPy 1.26.x のインストール方法は次のとおり。\n",
        "\n",
        "``` shell\n",
        "pip install numpy~=1.26.0\n",
        "```\n",
        "\n",
        "Ruff で NumPy 2.0 との互換性をチェックすることができる。このチェック機能を有効にするには、 `pyproject.toml` に `NPY201` ルールを追加する必要がある。\n",
        "\n",
        "``` ini\n",
        "[tool.ruff.lint]\n",
        "extend-select = [\"NPY201\"]\n",
        "```\n",
        "\n",
        "<font color=\"red\">このノートのコードは、すべて NumPy が以下のようにインポートされていることを前提とする（コードセルを実行する場合は最初に次のコードでインポートを済ませる必要がある）。</font>"
      ],
      "metadata": {
        "id": "Ct1XEKHHU0ry"
      }
    },
    {
      "cell_type": "code",
      "source": [
        "import numpy as np"
      ],
      "metadata": {
        "id": "axGea4JDyo6h"
      },
      "execution_count": 4,
      "outputs": []
    },
    {
      "cell_type": "markdown",
      "source": [
        "\n",
        "モジュール定数\n",
        "--------------"
      ],
      "metadata": {
        "id": "blCA84GzNrLz"
      }
    },
    {
      "cell_type": "markdown",
      "source": [
        "NumPy は、以下のモジュール定数を提供する。\n",
        "\n",
        "| 定数 | 意味 |\n",
        "|:---|:---|\n",
        "| `numpy.__version__` | NumPy のバージョン |\n",
        "| `numpy.nan` | 非数の IEEE 754 浮動小数点表現 |\n",
        "| `numpy.inf` | 無限大の IEEE 754 浮動小数点表現 |\n",
        "| `numpy.e` | ネイピア数（自然対数の底） |\n",
        "| `numpy.pi` | $\\pi$（円周率） |\n",
        "| `numpy.euler_gamma` | [オイラーの $\\gamma$ 定数](https://ja.wikipedia.org/wiki/オイラーの定数) |\n",
        "| `numpy.newaxis` | `None` の便利な別名（エイリアス） |\n",
        "\n",
        "なお、 NumPy のバージョンは、 `numpy.version` サブモジュールの定数 `version` でも確認できる。"
      ],
      "metadata": {
        "id": "whJfavBd69rn"
      }
    },
    {
      "cell_type": "code",
      "source": [
        "np.__version__, np.version.version"
      ],
      "metadata": {
        "colab": {
          "base_uri": "https://localhost:8080/"
        },
        "id": "84V6veIBFdq7",
        "outputId": "8ec48ef9-0b99-4455-f2d4-9add2cf48f5d"
      },
      "execution_count": null,
      "outputs": [
        {
          "output_type": "execute_result",
          "data": {
            "text/plain": [
              "('1.26.4', '1.26.4')"
            ]
          },
          "metadata": {},
          "execution_count": 19
        }
      ]
    },
    {
      "cell_type": "code",
      "source": [
        "np.nan, np.inf"
      ],
      "metadata": {
        "colab": {
          "base_uri": "https://localhost:8080/"
        },
        "id": "PGiHErCVSX0h",
        "outputId": "4735ccea-e79e-4a81-9d10-b3c4c8b36da8"
      },
      "execution_count": null,
      "outputs": [
        {
          "output_type": "execute_result",
          "data": {
            "text/plain": [
              "(nan, inf)"
            ]
          },
          "metadata": {},
          "execution_count": 20
        }
      ]
    },
    {
      "cell_type": "code",
      "source": [
        "np.e, np.pi, np.euler_gamma"
      ],
      "metadata": {
        "colab": {
          "base_uri": "https://localhost:8080/"
        },
        "id": "bMTSw1DrT68o",
        "outputId": "b1f50540-60df-4f91-e634-d1d1b5e82ea1"
      },
      "execution_count": null,
      "outputs": [
        {
          "output_type": "execute_result",
          "data": {
            "text/plain": [
              "(2.718281828459045, 3.141592653589793, 0.5772156649015329)"
            ]
          },
          "metadata": {},
          "execution_count": 21
        }
      ]
    },
    {
      "cell_type": "code",
      "source": [
        "np.newaxis is None"
      ],
      "metadata": {
        "colab": {
          "base_uri": "https://localhost:8080/"
        },
        "id": "3KOQrqtpVhgC",
        "outputId": "6a8cc085-4328-4ac3-9416-c179fa1281df"
      },
      "execution_count": null,
      "outputs": [
        {
          "output_type": "execute_result",
          "data": {
            "text/plain": [
              "True"
            ]
          },
          "metadata": {},
          "execution_count": 22
        }
      ]
    },
    {
      "cell_type": "markdown",
      "source": [
        "多次元配列\n",
        "----------"
      ],
      "metadata": {
        "id": "3jpHyw99d-ne"
      }
    },
    {
      "cell_type": "markdown",
      "source": [
        "### 多次元配列の特徴 ###"
      ],
      "metadata": {
        "id": "GNN6sjJ2eA80"
      }
    },
    {
      "cell_type": "markdown",
      "source": [
        "`numpy.ndarray` クラスは、**多次元配列**（N-dimensional array）を扱う。多次元配列は、数学の概念で言えば、 1 次元の場合は**ベクトル**（vector）に、 2 次元の場合は**行列**（matrix）に、 3 次元以上の場合は**テンソル**（tensor）に該当するものである。 NumPy を使わない場合、 Python ではこうした多次元配列を表現するにはネストされたリスト（多重リスト）が利用される。 `np.ndarray` は Python のネストされたリストとは異なる独自のデータ構造であり、以下のような特徴を持つ。\n",
        "\n",
        "  * **型の同一性**: 同じデータ型の要素しか格納することができない。データ型は原則として固定長である必要がある。\n",
        "  * **固定サイズ**: 各次元ごと（2 次元なら列ごとや行ごと）の配列の大きさは必ず一定である。\n",
        "\n",
        "多次元配列の各次元の配列の固定された大きさの組み合わせを**形状**（shape）と呼ぶ。 NumPy では多次元配列の形状を、次元の小さい順で並べたタプルで表す。\n",
        "\n",
        "多次元配列の形状を考える上で、**軸**（axis）という概念が重要である。軸には 0 から始まる番号が付く。 Python のネストされたリストで要素をインデックス参照する場合に `[i][j][k]...` のように `[]` を並べ外側のリストから内側に向かってインデックス参照を重ねる形になるのであるが、この順番が多次元配列の軸の番号に相当する。 2 次元配列の場合、 0 軸は行方向であり、 1 軸は列方向となる。\n",
        "\n",
        "``` text\n",
        "          1 軸\n",
        "           →\n",
        "       [[1, 2, 3],\n",
        "0 軸 ↓ [4, 5, 6],\n",
        "        [7, 8, 9]]\n",
        "```\n",
        "\n",
        "`n` 軸は `n+1` 次元の配列に対応している。したがって、 2 次元配列の場合、形状が `(i, j)` であるとは、行の数が全ての列で `i` に固定され、列の数が全ての行で `j` に固定されることを意味する。"
      ],
      "metadata": {
        "id": "ecMPLY4EeB6t"
      }
    },
    {
      "cell_type": "markdown",
      "source": [
        "### 配列の要素の型 ###"
      ],
      "metadata": {
        "id": "FwONy6autY2i"
      }
    },
    {
      "cell_type": "markdown",
      "source": [
        "NumPy のデータ型は dtype と呼ばれる。\n",
        "\n",
        "dtype は型オブジェクトであり、次の2種類のコンストラクタ呼び出しにより作成される。\n",
        "\n",
        "``` python\n",
        "numpy.dtype(型名の文字列)\n",
        "numpy.dtype(型コードの文字列)\n",
        "```\n",
        "\n",
        "一方、NumPy は指定可能な型名による dtype の定数を用意している。これらは C で使用可能な型に基づいている。\n",
        "\n",
        "型名、型コード、dtype 定数の関係は以下の通り。\n",
        "\n",
        "| dtype 定数 | 型名 | 型コード | 意味 |\n",
        "|:---|:---|:---|:---|\n",
        "| `numpy.int8` | `int8` | `'i1'` | 8 ビット符号あり整数型 （`-128` ～ `127`） |\n",
        "| `numpy.int16` | `int16` | `'i2'` | 16 ビット符号あり整数型 （`-32_768` ～ `32_767`） |\n",
        "| `numpy.int32` | `int32` | `'i4'` | 32 ビット符号あり整数型 （`-2_147_483_648` ～ `2_147_483_647`） |\n",
        "| `numpy.int64` | `int64` | `'i8'` | 64 ビット符号あり整数型 （`-9_223_372_036_854_775_808` ～ `9_223_372_036_854_775_807`） |\n",
        "| `numpy.uint8` | `uint8` | `'u1'` | 8 ビット符号なし整数型 （`0` ～ `255`） |\n",
        "| `numpy.uint16` | `uint16` | `'u2'` | 16 ビット符号なし整数型 （`0` ～ `65_535`） |\n",
        "| `numpy.uint32` | `uint32` | `'u4'` | 32 ビット符号なし整数型 （`0` ～ `4_294_967_295`） |\n",
        "| `numpy.uint64` | `uint64` | `'u8'` | 64 ビット符号なし整数型 （`0` ～ `18_446_744_073_709_551_615`） |\n",
        "| `numpy.float16`| `float16`| `'f2'` | 半精度浮動小数点数型 （符号部 `1` ビット、指数部 `5` ビット、仮数部 `10` ビット） |\n",
        "| `numpy.float32` | `float32` | `'f4'` | 単精度浮動小数点型 （符号部 `1` ビット、指数部 `8` ビット、仮数部 `23` ビット） |\n",
        "| `numpy.float64` | `float64` | `'f8'` | 倍精度浮動小数点型 （符号部 `1` ビット、指数部 `11` ビット、仮数部 `52` ビット） |\n",
        "| `numpy.float128` | `float128` | `'f16'` | 四倍精度浮動小数点型 （符号部 `1` ビット、指数部 `15`ビット、仮数部 `112` ビット） |\n",
        "| `numpy.complex64` | `complex64` | `'c8'` | 複素数型 （実部・虚部がそれぞれ `numpy.float32`） |\n",
        "| `numpy.complex128` | `complex128` | `'c16'` | 複素数型 （実部・虚部がそれぞれ `numpy.float64`） |\n",
        "| `numpy.complex256` | `complex256` | `'c32'` | 複素数型 （実部・虚部がそれぞれ `numpy.float128`） |"
      ],
      "metadata": {
        "id": "-Ulm6d6Tv860"
      }
    },
    {
      "cell_type": "code",
      "source": [
        "assert np.int64 == np.dtype('int64') == np.dtype('i8')"
      ],
      "metadata": {
        "id": "s0sDOac0wDT8"
      },
      "execution_count": null,
      "outputs": []
    },
    {
      "cell_type": "markdown",
      "source": [
        "Numpy の関数やメソッドの引数で dtype を指定するとき、「型オブジェクトの定数」「型名の文字列」「型コードの文字列」の 3 通りで指定することができる。たとえば、 64 ビット符号あり整数型は以下の方法で指定可能である。\n",
        "\n",
        "  * 型オブジェクトの定数: `numpy.int64`\n",
        "  * 型名の文字列: `'int64'`\n",
        "  * 型コードの文字列: `'i8'`\n",
        "\n",
        "dtype の指定に「型名の文字列」「型コードの文字列」を使用すると、 Numpy の関数の内部で自動的に型オブジェクトに変換される。\n",
        "\n",
        "整数型と浮動小数点数型についての情報は、それぞれ `numpy.iinfo` クラスと `numpy.finfo` クラスで確認できる。コンストラクタ引数として dtype を指定する。\n",
        "\n",
        "`numpy.iinfo` は、整数型クラスについて最小値 `min`、最大値 `max`、ビット数 `bits`、型名 `dtype` の属性を持つクラスである。\n",
        "\n",
        "`numpy.finfo` は、浮動小数点数型クラスについて最小値 `min`、最大値 `max`、精度 `resolution`、ビット数 `bits`、型名 `dtype` などの属性を持つクラスである。"
      ],
      "metadata": {
        "id": "2n3fAHcg6qrd"
      }
    },
    {
      "cell_type": "code",
      "source": [
        "print(f\"{np.iinfo('i8')!r}\")  # print(f\"{np.iinfo(np.int64)!r}\") のように直接型オブジェクトを指定するのと同様\n",
        "print(f\"{np.finfo('f8')!r}\")  # print(f\"{np.iinfo(np.float64)!r}\") のように直接型オブジェクトを指定するのと同様"
      ],
      "metadata": {
        "colab": {
          "base_uri": "https://localhost:8080/"
        },
        "id": "1Ej2QODXfxUW",
        "outputId": "f22e1858-ff3a-496c-c927-d937126297d1"
      },
      "execution_count": null,
      "outputs": [
        {
          "output_type": "stream",
          "name": "stdout",
          "text": [
            "iinfo(min=-9223372036854775808, max=9223372036854775807, dtype=int64)\n",
            "finfo(resolution=1e-15, min=-1.7976931348623157e+308, max=1.7976931348623157e+308, dtype=float64)\n"
          ]
        }
      ]
    },
    {
      "cell_type": "markdown",
      "source": [
        "また、 Python の型と互換性のある追加の型がいくつかある。\n",
        "\n",
        "| dtype 定数 | 型名 | 型コード | Python 型 | 備考 |\n",
        "|:---|:---|:---|:---|:---|\n",
        "| `numpy.int_` | `int` | `'l'` | `int` | 64 ビット版 Linux では `numpy.int64` と同じ。Windows および 32 ビット版 Linux では `numpy.int32` と同じ |\n",
        "| `numpy.bool_` | `bool` | `'?'` | `bool` | ブール型。`True` か `False` で表される 8 ビットデータ |\n",
        "| `numpy.float_` | `float` | `'d'` | `float` | `numpy.double` の別名で、`numpy.float64` と同じ |\n",
        "| `numpy.complex_` | `complex` | `'D'` | `complex` | `numpy.cdouble` の別名で、`numpy.complex128` と同じ |\n",
        "| `numpy.bytes_` | `bytes` | `'S'` | `bytes` | バイト列型 |\n",
        "| `numpy.str_` | `unicode` | `'U'` | `str` | Unicode 文字列型。UCS-4 のコードポイントを表す 32 ビット単位のデータ |\n",
        "| `numpy.datetime64` | `datetime64` | `'M'` | `datetime.datetime` | 日時型。64 ビット整数で Unix エポック秒を表す |\n",
        "| `numpy.timedelta64` | `timedelta64` | `'m'` | `datetime.timedelta` | 時間差型。64 ビット整数で `timedelta` を表す |\n",
        "| `numpy.object_` | `object` | `'O'` | Python オブジェクト型 |\n",
        "\n",
        "これらの追加の型は、 dtype の指定で Python の型が使用された場合に、その Python の型を自動的に変換するために用意されている。\n",
        "\n",
        "たとえば、 dtype の指定で Python の `int` を指定した場合、 `numpy.int_` 型の指定に変換される。ただし、 `numpy.int_` 型は、 Python の `int` 型とは少し異なる。 Python の `int` 型は任意長となる多倍長整数型であるが、 `np.ndarray` ではデータ型は固定長である必要があるため、 `numpy.int64` や `numpy.int32` といった固定長の整数型として扱われる。"
      ],
      "metadata": {
        "id": "FQgf1d6B1ATo"
      }
    },
    {
      "cell_type": "code",
      "source": [
        "assert np.int_ == np.int64  # 64 ビット版 Linux では numpy.int64 と同じ"
      ],
      "metadata": {
        "id": "gexeJRqd1BVd"
      },
      "execution_count": null,
      "outputs": []
    },
    {
      "cell_type": "markdown",
      "source": [
        "`numpy.bool_` 型は、 `numpy.int_` のサブクラスではなく、それとは別の型であること（Python で `bool` が `int` のサブクラスとされるのとは異なる扱い）に注意する。"
      ],
      "metadata": {
        "id": "Lbizkxu71bpS"
      }
    },
    {
      "cell_type": "code",
      "source": [
        "assert not issubclass(np.bool_, np.int_) and issubclass(bool, int)"
      ],
      "metadata": {
        "id": "YKaBvSew1czt"
      },
      "execution_count": null,
      "outputs": []
    },
    {
      "cell_type": "markdown",
      "source": [
        "dtype の指定で Python の `bytes` や `str` を指定した場合、 それぞれ `numpy.bytes_` 型や `numpy.str_` 型の指定に変換されるのであるが、 `numpy.bytes_` 型と `numpy.str_` 型も、それぞれ Python の `bytes` 型と `str` 型とは異なり固定長になる。また、エンディアンの指定も必要となる。最大長とエンディアンを「型コードの文字列」で指定するには、次の書式を使用する。\n",
        "\n",
        "`numpy.bytes_` 型:\n",
        "\n",
        "``` text\n",
        "エンディアンS最大長\n",
        "```\n",
        "\n",
        "`numpy.str_` 型:\n",
        "\n",
        "``` text\n",
        "エンディアンU最大長\n",
        "```\n",
        "\n",
        "最大長は、 `bytes` 型ではバイト数であり、 `str` 型では文字数である。また、接頭辞でバイトオーダーを指定する。先頭の `'<'` でリトルエンディアンを、 `'>'` でビッグエンディアンを表す。たとえば、リトルエンディアンで最長 3 文字の `numpy.str_` 型は `'<U3'` となる。 `numpy.bytes_` にはエンディアンを適用できないので、適用不可を表す `'|'` のみを指定できる（例 `'|S3'`）。"
      ],
      "metadata": {
        "id": "LgbZBMvYtZ4n"
      }
    },
    {
      "cell_type": "markdown",
      "source": [
        "【NumPy 2.0 での変更点】  \n",
        "データ型が以下のように変更されている。\n",
        "\n",
        "  * 64 ビット版 Windows でも、 `numpy.int64` が `numpy.int_` の別名とされた。\n",
        "  * `numpy.double` が直接 Python の型 `float` と対応するようになり、 `numpy.float_` は削除された。\n",
        "  * `numpy.cdouble` が直接 Python の型 `complex` と対応するようになり、 `numpy.complex_` は削除された。\n",
        "  * UTF-8 の 可変長文字列型 `numpy.dtypes.StringDType` が追加された。"
      ],
      "metadata": {
        "id": "XnQO80PaFQBz"
      }
    },
    {
      "cell_type": "markdown",
      "source": [
        "### 配列のメモリレイアウト ###"
      ],
      "metadata": {
        "id": "TLXdw350csAA"
      }
    },
    {
      "cell_type": "markdown",
      "source": [
        "`numpy.ndarray` のインスタンスは、メモリ上では C や Fortran の配列と同様にメモリの連続領域上に 1 次元で保存される。その先頭には、データ型や形状といった、1 次元で並べられた要素のデータの読み取り方が登録される。ここに登録される情報を**メタデータ**と呼ぶ。\n",
        "\n",
        "メタデータに続いて実際のデータ（要素のあつまり）が並んでいるのであるが、このデータの格納の仕方（**メモリレイアウト**）は 2 通りある。\n",
        "\n",
        "  * **ローメジャーオーダー**（row-major order）： C で使われている並べ方で、低い次元（つまり軸の番号が小さい順）から並んでいるように格納していく。\n",
        "  * **カラムメジャーオーダー**（column-major order）:  FORTRAN で使われている並べ方で、高い次元（つまり軸の番号が大きい順）から並んでいるように格納していく。\n",
        "\n",
        "たとえば、2 次元配列では、ローメジャーオーダーなら要素は行が連続的にメモリ上に並んでいる形で、次に列が並んでいる形になる。また、カラムメジャーオーダーなら要素は列が連続的にメモリ上に並んでいる形で、次に行が並んでいる形になる。 3×3 の 2 次元配列では次のようになる（[Wikipedia](https://en.wikipedia.org/wiki/Row-_and_column-major_order)から引用）。\n",
        "\n",
        "![](https://upload.wikimedia.org/wikipedia/commons/thumb/4/4d/Row_and_column_major_order.svg/180px-Row_and_column_major_order.svg.png)\n",
        "\n",
        "``` text\n",
        "Row-major order:\n",
        "┌───┬───┬───┬───┬───┬───┬───┬───┬───┐\n",
        "│ a_11 │ a_12 │ a_13 │ a_21 │ a_22 │ a_23 │ a_31 │ a_32 │ a_33 │\n",
        "└───┴───┴───┴───┴───┴───┴───┴───┴───┘\n",
        "Column-major order:\n",
        "┌───┬───┬───┬───┬───┬───┬───┬───┬───┐\n",
        "│ a_11 │ a_21 │ a_31 │ a_12 │ a_22 │ a_32 │ a_13 │ a_23 │ a_33 │\n",
        "└───┴───┴───┴───┴───┴───┴───┴───┴───┘\n",
        "```\n",
        "\n",
        "CPU は、メモリ上の連続して並ぶデータを効率的に処理できるという性質を持つ。このため、列方向に処理を展開していきたい場合、ローメジャーのほうが高速である。もしカラムメジャーで同じ処理を行うと要素を飛び飛びに移動することになり、効率的に計算を行うことができなくなる。\n",
        "\n",
        "NumPy の関数では、 `order` 引数で生成する配列のメモリレイアウトを指定できる。 `'C'` を指定した場合はローメジャーオーダーとなり、 `'F'` を指定した場合はカラムメジャーオーダーとなる。\n",
        "\n",
        "個々の要素にアクセスするためにメモリ上で移動する距離をバイト数で表したものを**ストライド**（strides）と呼ぶ。"
      ],
      "metadata": {
        "id": "PKJ7mtRVcsxp"
      }
    },
    {
      "cell_type": "markdown",
      "source": [
        "### コピーとビュー ###"
      ],
      "metadata": {
        "id": "Dx8U7VwqlSc5"
      }
    },
    {
      "cell_type": "markdown",
      "source": [
        "配列の要素を複製した際の `numpy.ndarray` オブジェクトは、次の 2 種類に分類することができる。\n",
        "\n",
        "  * **コピー**（copy）: もとの配列とは別にメモリを新たに確保して、もとの配列の要素の値を格納するもの\n",
        "  * **ビュー**（view）: もとの配列とメモリを共有する（つまりメモリの一部または全部を参照する）もの\n",
        "\n",
        "コピーの場合、要素の値を変更しても、もとの配列の要素は変更されない。逆に、もとの配列の要素の値を変更しても、コピーの要素は変更されない。\n",
        "\n",
        "ビューの場合、要素の値を変更すると、もとの配列の要素の値も変わる。逆に、もとの配列の要素の値を変更すると、ビューの要素の値も変わる。\n",
        "\n",
        "NumPy は、 配列がビューであるかどうかを調べるための関数を提供している:\n",
        "\n",
        "``` python\n",
        "numpy.shares_memory(a, b)\n",
        "```\n",
        "\n",
        "この関数は、 2 つの配列 `a` と `b` のデータ領域をしらみつぶしで調べ、配列間で共有される要素があれば `True` を返して終了する。最後まで共有される要素がなければ `False` を返す。\n",
        "\n",
        "``` python\n",
        "numpy.may_share_memory(a, b)\n",
        "```\n",
        "\n",
        "この関数は、 2 つの配列 `a` と `b` のデータ領域をメモリ境界だけ調べ、2 つの配列がメモリを共有する可能性があれば `True` を返し、そうでなければ `False` を返す。\n",
        "\n",
        "配列がビューであるかどうかを厳密に調べるには、`numpy.shares_memory()` 関数を使う必要がある。しかし、この関数のアルゴリズムでは、判定にかかる時間が配列の要素数に対して指数関数的に増大する。\n",
        "\n",
        "`numpy.may_share_memory()` 関数の方では、 `True` を返す場合でも配列がコピーである可能性がある。一方で `False` を返す場合、配列がコピーであることは信頼できる。実用的には、配列がビューであるのに要素を変更してもとの配列まで変更されるという事態を防ぐことができれば十分なので、 `numpy.may_share_memory()` 関数が `False` を返すことを確認すればよい。"
      ],
      "metadata": {
        "id": "eUdcb8yFlTY9"
      }
    },
    {
      "cell_type": "markdown",
      "source": [
        "配列生成関数\n",
        "------------"
      ],
      "metadata": {
        "id": "05S2kMCxQj-3"
      }
    },
    {
      "cell_type": "markdown",
      "source": [
        "### array-like オブジェクトからの生成 ###"
      ],
      "metadata": {
        "id": "jxBel3tBxZaz"
      }
    },
    {
      "cell_type": "markdown",
      "source": [
        "NumPy では、配列の生成には `numpy.ndarray` のコンストラクタで直接にインスタンス化するのではなく `numpy.array()` 関数の使用が推奨されている。実際、 `numpy.ndarray` の `__repr__()` は `numpy.array()` 関数を使った式を見やすいように改行した形で出力する。この出力は `numpy.array` というクラスのインスタンスを意味するわけではないことに注意する。\n",
        "\n",
        "`numpy.array()` 関数の引数は次のように定義されている。\n",
        "\n",
        "``` python\n",
        "numpy.array(object, dtype=None, *, copy=True, order='K', subok=False, ndmin=0, like=None)\n",
        "```\n",
        "\n",
        "この関数は、第1引数に指定した array-like オブジェクトから配列（`numpy.ndarray` のインスタンス）を生成して返す。\n",
        "\n",
        "**array-like オブジェクト**:\n",
        "\n",
        "  * 配列（`numpy.ndarray` オブジェクト）\n",
        "  * `array.array` オブジェクト\n",
        "  * Python の（ネストされた）シーケンス──多重リストや多重タプルなど\n",
        "  * Python のスカラー\n",
        "  * `__array__()` メソッドが配列を返すオブジェクト\n",
        "\n",
        "主な引数は次のとおり。\n",
        "\n",
        "| 引数 | 意味 |\n",
        "|:---|:---|\n",
        "| `object` | 配列の内容を与える array-like オブジェクトを指定する |\n",
        "| `dtype` | 配列の要素の型 dtype を指定する。指定されない場合、NumPy は値を表すことができるデフォルトの dtype を使用しようとする |\n",
        "| `copy` | `True`（デフォルト）の場合、`object` が配列ならコピーを作成する。`False` の場合、`object` が配列ならビューを作成する |\n",
        "| `order` | 配列のメモリレイアウトを指定する。以下の文字列を指定できる<br /><br />・`'C'`: ローメジャーオーダー<br /><br />・`'F'`: カラムメジャーオーダー<br /><br />・`'K'`: `object` が配列の場合、そのメモリレイアウトが維持される。それ以外の場合は類似したオーダー（ほとんどの場合でローメジャーオーダー）になる。デフォルト<br /><br />・`'A'`: `object` がカラムメジャーオーダーなら維持されるが、それ以外の場合は常にローメジャーオーダーになる |\n",
        "| `subok` | `False`（デフォルト）の場合、`object` が `numpy.ndarray` のサブクラスのインスタンスであっても常に `numpy.ndarray` インスタンスを返す |\n",
        "| `ndmin` | 生成する配列の最小次元数を指定する。この要件を満たすために、必要に応じて先頭に軸が追加されていく。`ndmin` が `0`（デフォルト）の場合、軸は追加されない |\n",
        "\n",
        "次のコードは、第 1 引数に整数のリストを渡して呼び出すことにより 1 次元配列を得る例である。"
      ],
      "metadata": {
        "id": "h87qIOf_Qkdq"
      }
    },
    {
      "cell_type": "code",
      "source": [
        "# 1次元配列 -- 長さ 3 のベクトル\n",
        "np.array([1, 2, 3])"
      ],
      "metadata": {
        "colab": {
          "base_uri": "https://localhost:8080/"
        },
        "id": "yuVTpJ9rwxz7",
        "outputId": "bc0a0f9b-ae7a-4e99-8894-3df3f6cfb673"
      },
      "execution_count": 63,
      "outputs": [
        {
          "output_type": "execute_result",
          "data": {
            "text/plain": [
              "array([1, 2, 3])"
            ]
          },
          "metadata": {},
          "execution_count": 63
        }
      ]
    },
    {
      "cell_type": "markdown",
      "source": [
        "第 1 引数にネストされたシーケンスを渡す場合は、各シーケンスの長さが揃っていないと `ValueError` 例外が発生する。"
      ],
      "metadata": {
        "id": "nObo52Kv98WJ"
      }
    },
    {
      "cell_type": "code",
      "source": [
        "# 2次元配列 -- 2x3 の行列\n",
        "np.array([[0., 0.1, 0.2], [1., 1.1, 1.2]])"
      ],
      "metadata": {
        "colab": {
          "base_uri": "https://localhost:8080/"
        },
        "id": "h5pRBSYk4RJe",
        "outputId": "6cd87398-03bc-40dc-b7ea-d633d28b29da"
      },
      "execution_count": null,
      "outputs": [
        {
          "output_type": "execute_result",
          "data": {
            "text/plain": [
              "array([[0. , 0.1, 0.2],\n",
              "       [1. , 1.1, 1.2]])"
            ]
          },
          "metadata": {},
          "execution_count": 25
        }
      ]
    },
    {
      "cell_type": "code",
      "source": [
        "# 3次元配列 -- テンソル\n",
        "np.array([[[1, 2], [3, 4]], [[5, 6], [7, 8]]], dtype=float)  # dtype 引数で numpy.float64 型を指定する"
      ],
      "metadata": {
        "colab": {
          "base_uri": "https://localhost:8080/"
        },
        "id": "HgdVPwCY-LHo",
        "outputId": "db40f464-6bc2-4318-ee30-2aacad5c7db6"
      },
      "execution_count": null,
      "outputs": [
        {
          "output_type": "execute_result",
          "data": {
            "text/plain": [
              "array([[[1., 2.],\n",
              "        [3., 4.]],\n",
              "\n",
              "       [[5., 6.],\n",
              "        [7., 8.]]])"
            ]
          },
          "metadata": {},
          "execution_count": 26
        }
      ]
    },
    {
      "cell_type": "markdown",
      "source": [
        "`numpy.array()` に既存の配列を渡すと、そのコピーを返すことに注意する。ただし、`copy` 引数を `False` に指定した場合は配列のビューを返す。"
      ],
      "metadata": {
        "id": "cQKxYgoeSome"
      }
    },
    {
      "cell_type": "code",
      "source": [
        "a = np.array([1, 2, 3])\n",
        "a_copy = np.array(a)\n",
        "a_view = np.array(a, copy=False)\n",
        "assert not np.shares_memory(a, a_copy)\n",
        "assert np.shares_memory(a, a_view)"
      ],
      "metadata": {
        "id": "_ANjB81mSp3J"
      },
      "execution_count": null,
      "outputs": []
    },
    {
      "cell_type": "markdown",
      "source": [
        "``` python\n",
        "numpy.copy(a, order='K', subok=False)\n",
        "ndarray.copy(order='C')\n",
        "```\n",
        "\n",
        "`numpy.copy(a)` は `numpy.array(a, copy=True)` と等価である。この関数は、明示的に既存の配列のコピーを作成するために使用する。また、配列は `copy()` メソッドも持ち、 `a.copy()` は `numpy.copy(a, order='C', subok=True)` と等価である。"
      ],
      "metadata": {
        "id": "B0oOf4pgX7Uv"
      }
    },
    {
      "cell_type": "code",
      "source": [
        "a = np.array([1, 2, 3])\n",
        "a_view = np.array(a, copy=False)  # ビューを作成\n",
        "a_copy = np.copy(a_view)\n",
        "assert not np.shares_memory(a, a_copy)"
      ],
      "metadata": {
        "id": "b39oIizoTdad"
      },
      "execution_count": null,
      "outputs": []
    },
    {
      "cell_type": "markdown",
      "source": [
        "### 初期化された配列の生成 ###"
      ],
      "metadata": {
        "id": "7Youu42nx5AV"
      }
    },
    {
      "cell_type": "markdown",
      "source": [
        "``` python\n",
        "numpy.zeros(shape, dtype=float, order='C', *, like=None)\n",
        "```\n",
        "\n",
        "この関数は、全要素を `0` で初期化した配列を生成する。\n",
        "\n",
        "| 引数 | 意味 |\n",
        "|:---|:---|\n",
        "| `shape` | 配列の形状を整数のタプルで指定する。 1 次元の場合は `shape` に単独の整数を指定できる |\n",
        "| `dtype` | 配列の要素の型 dtype を指定する。指定されない場合は `numpy.float64` が使われる |\n",
        "| `order` | 配列のメモリレイアウトを指定する。`'C'` か `'F'` を指定できる。デフォルトは `'C'` |"
      ],
      "metadata": {
        "id": "k-5INpUnNC3x"
      }
    },
    {
      "cell_type": "code",
      "source": [
        "np.zeros(3)  # 長さ 3 の零ベクトル"
      ],
      "metadata": {
        "colab": {
          "base_uri": "https://localhost:8080/"
        },
        "id": "qDXrkuG3ND08",
        "outputId": "3d62679b-5946-4bdb-9ad3-e052fc02cf79"
      },
      "execution_count": null,
      "outputs": [
        {
          "output_type": "execute_result",
          "data": {
            "text/plain": [
              "array([0., 0., 0.])"
            ]
          },
          "metadata": {},
          "execution_count": 29
        }
      ]
    },
    {
      "cell_type": "markdown",
      "source": [
        "``` python\n",
        "numpy.ones(shape, dtype=None, order='C', *, like=None)\n",
        "```\n",
        "\n",
        "この関数は、全要素を `1` で初期化した配列を生成する。引数の意味は `numpy.zeros()` 関数と同じ。"
      ],
      "metadata": {
        "id": "03jyAps21H9u"
      }
    },
    {
      "cell_type": "code",
      "source": [
        "np.ones((2, 3), int)  # 2x3 の行列"
      ],
      "metadata": {
        "colab": {
          "base_uri": "https://localhost:8080/"
        },
        "id": "Pa3pSPkm1Iss",
        "outputId": "9adeeb93-0e40-46c6-d3a3-ba4e2d87cc9a"
      },
      "execution_count": null,
      "outputs": [
        {
          "output_type": "execute_result",
          "data": {
            "text/plain": [
              "array([[1, 1, 1],\n",
              "       [1, 1, 1]])"
            ]
          },
          "metadata": {},
          "execution_count": 30
        }
      ]
    },
    {
      "cell_type": "markdown",
      "source": [
        "``` python\n",
        "numpy.full(shape, fill_value, dtype=None, order='C', *, like=None)\n",
        "```\n",
        "\n",
        "この関数は、全要素を `fill_value` で初期化した配列を生成する。他の引数の意味は `numpy.zeros()` 関数の同名の引数と同じ。ただし、 `dtype` 引数を指定しない場合、 NumPy は値を表すことができるデフォルトの dtype を使用しようとする。"
      ],
      "metadata": {
        "id": "q5fVN9VTr_Yn"
      }
    },
    {
      "cell_type": "code",
      "source": [
        "np.full((2, 2), 10)"
      ],
      "metadata": {
        "colab": {
          "base_uri": "https://localhost:8080/"
        },
        "id": "iXbxgHEFsAVi",
        "outputId": "68910e85-8c3f-4056-d846-14b198855554"
      },
      "execution_count": null,
      "outputs": [
        {
          "output_type": "execute_result",
          "data": {
            "text/plain": [
              "array([[10, 10],\n",
              "       [10, 10]])"
            ]
          },
          "metadata": {},
          "execution_count": 31
        }
      ]
    },
    {
      "cell_type": "markdown",
      "source": [
        "`fill_value` には array-like オブジェクトを指定できる。"
      ],
      "metadata": {
        "id": "ccO_phvduRhA"
      }
    },
    {
      "cell_type": "code",
      "source": [
        "np.full((2, 2), [1, 2])"
      ],
      "metadata": {
        "colab": {
          "base_uri": "https://localhost:8080/"
        },
        "id": "ao__Ih_SuScd",
        "outputId": "cf7dca19-d55c-4ddd-93bf-6229b0e5abf7"
      },
      "execution_count": null,
      "outputs": [
        {
          "output_type": "execute_result",
          "data": {
            "text/plain": [
              "array([[1, 2],\n",
              "       [1, 2]])"
            ]
          },
          "metadata": {},
          "execution_count": 32
        }
      ]
    },
    {
      "cell_type": "markdown",
      "source": [
        "``` python\n",
        "numpy.zeros_like(a, dtype=None, order='K', subok=True, shape=None)\n",
        "```\n",
        "\n",
        "この関数は、第 1 引数 `a` に指定した array-like オブジェクトと同じ形状と型で要素が `0` の配列を生成する。 `numpy.array()` 関数と同様に `dtype`、`order`、`shape` 引数を受け入れ、それぞれ型、メモリレイアウト、形状を変更することができる。"
      ],
      "metadata": {
        "id": "mRrXgHwOpWmm"
      }
    },
    {
      "cell_type": "code",
      "source": [
        "a = np.array([[1, 2, 3], [2, 3, 4]])\n",
        "np.zeros_like(a)"
      ],
      "metadata": {
        "colab": {
          "base_uri": "https://localhost:8080/"
        },
        "id": "gC5IgOggpXVN",
        "outputId": "80252da7-e90f-4d7f-b41b-dca505515728"
      },
      "execution_count": null,
      "outputs": [
        {
          "output_type": "execute_result",
          "data": {
            "text/plain": [
              "array([[0, 0, 0],\n",
              "       [0, 0, 0]])"
            ]
          },
          "metadata": {},
          "execution_count": 33
        }
      ]
    },
    {
      "cell_type": "markdown",
      "source": [
        "``` python\n",
        "numpy.ones_like(a, dtype=None, order='K', subok=True, shape=None)\n",
        "```\n",
        "\n",
        "この関数は、第 1 引数 `a` に指定した array-like オブジェクトと同じ形状と型で要素が `1` の配列を生成する。引数の意味は `numpy.zeros_like()` 関数と同じ。"
      ],
      "metadata": {
        "id": "dWv9NqzUrHmN"
      }
    },
    {
      "cell_type": "code",
      "source": [
        "a = np.array([[1, 2, 3], [2, 3, 4]])\n",
        "np.ones_like(a, np.float64)"
      ],
      "metadata": {
        "colab": {
          "base_uri": "https://localhost:8080/"
        },
        "id": "YO2hu_rZrIwu",
        "outputId": "ca9d7c99-55d8-4f67-ad35-169b29ab2c1e"
      },
      "execution_count": null,
      "outputs": [
        {
          "output_type": "execute_result",
          "data": {
            "text/plain": [
              "array([[1., 1., 1.],\n",
              "       [1., 1., 1.]])"
            ]
          },
          "metadata": {},
          "execution_count": 34
        }
      ]
    },
    {
      "cell_type": "markdown",
      "source": [
        "``` python\n",
        "numpy.full_like(a, fill_value, dtype=None, order='K', subok=True, shape=None)\n",
        "```\n",
        "\n",
        "この関数は、第 1 引数 `a` に指定した array-like オブジェクトと同じ形状と型で要素が `fill_value` の配列を生成する。 `fill_value` に array-like オブジェクトを指定することができる。その他の引数の意味は `numpy.zeros_like()` 関数と同じ。"
      ],
      "metadata": {
        "id": "kAbuC7VsvOYa"
      }
    },
    {
      "cell_type": "code",
      "source": [
        "a = np.zeros(3)\n",
        "np.full_like(a, 255, 'u1')"
      ],
      "metadata": {
        "colab": {
          "base_uri": "https://localhost:8080/"
        },
        "id": "8jTlVfkxvPGu",
        "outputId": "87cecdee-d727-4925-c8f8-096fc8627ad4"
      },
      "execution_count": null,
      "outputs": [
        {
          "output_type": "execute_result",
          "data": {
            "text/plain": [
              "array([255, 255, 255], dtype=uint8)"
            ]
          },
          "metadata": {},
          "execution_count": 35
        }
      ]
    },
    {
      "cell_type": "markdown",
      "source": [
        "### 初期化されていない配列の生成 ###"
      ],
      "metadata": {
        "id": "vQ7aqUWbyJfq"
      }
    },
    {
      "cell_type": "markdown",
      "source": [
        "``` python\n",
        "numpy.empty(shape, dtype=float, order='C', *, like=None)\n",
        "```\n",
        "\n",
        "この関数は、初期化されていない配列を生成する。引数の意味は `numpy.zeros()` 関数と同じ。\n",
        "\n",
        "関数の名前は `empty`（空）であるが、一般に多次元配列が空配列であるとは、ある次元の長さが `0` であることを指すのであって、 `numpy.empty()` は空配列を生成するための関数というわけではない（たとえば `numpy.empty(0)` や `numpy.zeros(0)` のようにすれば全ての次元で長さが `0` の空配列を生成できる）。\n",
        "\n",
        "初期化されていない配列では、配列の要素の値を設定しないため、配列の生成がわずかに高速になる。ただし、確保されたメモリの値がそのまま読み込まれるので、配列の要素の値は不定となることに注意する。"
      ],
      "metadata": {
        "id": "P1EBh5izyKVO"
      }
    },
    {
      "cell_type": "code",
      "source": [
        "np.empty((2, 2))"
      ],
      "metadata": {
        "colab": {
          "base_uri": "https://localhost:8080/"
        },
        "id": "AJ6RnihTu7G_",
        "outputId": "56e49df4-54d4-4f5f-eb30-91031a2c2ffc"
      },
      "execution_count": null,
      "outputs": [
        {
          "output_type": "execute_result",
          "data": {
            "text/plain": [
              "array([[5.05316266e-310, 0.00000000e+000],\n",
              "       [6.63203708e-310, 6.63207187e-310]])"
            ]
          },
          "metadata": {},
          "execution_count": 36
        }
      ]
    },
    {
      "cell_type": "markdown",
      "source": [
        "``` python\n",
        "numpy.empty_like(prototype, dtype=None, order='K', subok=True, shape=None)\n",
        "```\n",
        "\n",
        "この関数は、初期化されていない配列を生成することを除いて、`numpy.zeros_like()` と同様である。"
      ],
      "metadata": {
        "id": "g2yvW3Fu2YLt"
      }
    },
    {
      "cell_type": "code",
      "source": [
        "a = ([1, 2, 3], [4, 5, 6])\n",
        "np.empty_like(a)"
      ],
      "metadata": {
        "colab": {
          "base_uri": "https://localhost:8080/"
        },
        "id": "blS1iCbR2ZPc",
        "outputId": "e483bcf4-452f-4b50-f7c6-74f6d4a87232"
      },
      "execution_count": null,
      "outputs": [
        {
          "output_type": "execute_result",
          "data": {
            "text/plain": [
              "array([[4607182418800017408, 4607182418800017408, 4607182418800017408],\n",
              "       [4607182418800017408, 4607182418800017408, 4607182418800017408]])"
            ]
          },
          "metadata": {},
          "execution_count": 37
        }
      ]
    },
    {
      "cell_type": "markdown",
      "source": [
        "### 特別な配列の生成 ###"
      ],
      "metadata": {
        "id": "nxtt0Hca4fVA"
      }
    },
    {
      "cell_type": "markdown",
      "source": [
        "NumPy は、特別なベクトルや行列を表す配列を生成する関数も提供している。主な関数は以下の通り。\n",
        "\n",
        "  * 1 次元配列（ベクトル）\n",
        "      * `numpy.arange()`\n",
        "      * `numpy.linspace()`\n",
        "  * 2 次元配列（行列）\n",
        "      * `numpy.eye()`\n",
        "      * `numpy.identity()`\n",
        "      * `numpy.tri()`\n",
        "      * `numpy.tril()`\n",
        "      * `numpy.triu()`\n",
        "      * `numpy.diag()`\n",
        "\n",
        "``` python\n",
        "numpy.arange([start, ]stop, [step, ]dtype=None, *, like=None)\n",
        "```\n",
        "\n",
        "この関数は、 Python 組み込みの `range()` の配列版で、等差数列を表す 1 次元配列を生成する。 `start`、`stop`、`step` 引数の意味は、 `range()` の同名の引数と同じ。ただし、`range()` と異なり、浮動小数点数 `float` を引数に指定できる。 dtype は、 `start`、`stop`、`step` 引数から自動的に選択されるが、 `dtype` 引数で指定することもできる。"
      ],
      "metadata": {
        "id": "XkW-swDJp0Pv"
      }
    },
    {
      "cell_type": "code",
      "source": [
        "np.arange(3)"
      ],
      "metadata": {
        "colab": {
          "base_uri": "https://localhost:8080/"
        },
        "id": "kT8qD1oqp04W",
        "outputId": "bfe3c32b-c6c1-4649-e5c4-a7314f1c46cb"
      },
      "execution_count": null,
      "outputs": [
        {
          "output_type": "execute_result",
          "data": {
            "text/plain": [
              "array([0, 1, 2])"
            ]
          },
          "metadata": {},
          "execution_count": 38
        }
      ]
    },
    {
      "cell_type": "code",
      "source": [
        "np.arange(0., 1., .2)"
      ],
      "metadata": {
        "colab": {
          "base_uri": "https://localhost:8080/"
        },
        "id": "ju_-6KZsq-9s",
        "outputId": "63db51dd-6306-4a03-d6d4-fb0b5906edca"
      },
      "execution_count": null,
      "outputs": [
        {
          "output_type": "execute_result",
          "data": {
            "text/plain": [
              "array([0. , 0.2, 0.4, 0.6, 0.8])"
            ]
          },
          "metadata": {},
          "execution_count": 39
        }
      ]
    },
    {
      "cell_type": "markdown",
      "source": [
        "``` python\n",
        "numpy.linspace(start, stop, num=50, endpoint=True, retstep=False, dtype=None, axis=0)\n",
        "```\n",
        "\n",
        "この関数も等差数列を表す 1 次元配列を生成するが、間隔（公差）ではなく要素数を指定する。\n",
        "\n",
        "| 引数 | 意味 |\n",
        "|:---|:---|\n",
        "| `start` | 最初の値 |\n",
        "| `stop` | 最後の値 |\n",
        "| `num` | 生成する配列の要素数。デフォルトでは `50` |\n",
        "| `endpoint` | `True`（デフォルト）の場合、生成する配列の要素に `stop` が含まれる。`False` の場合、 `stop` が含まれない |\n",
        "| `retstep` | `True` の場合、この関数は生成した配列とその間隔の 2 要素タプル `(samples, step)` を返す |\n",
        "| `dtype` | 配列の dtype。指定しない場合は `start` と `stop` から自動的に選択されるが、整数型が選択されることはない |\n",
        "| `axis` | この引数は `start` または `stop` がスカラーでない array-like オブジェクトの場合にのみ意味を持つ。生成された結果をこの引数で指定した軸に沿って配置する。デフォルトでは<br /> `0` 軸。`-1` を指定すると末尾の軸に沿って配置する |\n",
        "\n",
        "この関数によって生成される配列の間隔は、 `start`、`stop`、`num` に応じて計算される。"
      ],
      "metadata": {
        "id": "y2cqgzWw01an"
      }
    },
    {
      "cell_type": "code",
      "source": [
        "np.linspace(1, 10, 10)  # start、stop、num が整数を生成するような場合でも dtype は整数型とはならない"
      ],
      "metadata": {
        "colab": {
          "base_uri": "https://localhost:8080/"
        },
        "id": "j-dW3u8g02uC",
        "outputId": "a50270a7-7dba-48c6-9641-40678db7d8a0"
      },
      "execution_count": null,
      "outputs": [
        {
          "output_type": "execute_result",
          "data": {
            "text/plain": [
              "array([ 1.,  2.,  3.,  4.,  5.,  6.,  7.,  8.,  9., 10.])"
            ]
          },
          "metadata": {},
          "execution_count": 40
        }
      ]
    },
    {
      "cell_type": "markdown",
      "source": [
        "`start > stop` であってもよい。"
      ],
      "metadata": {
        "id": "_x0Q7Zfv2XK-"
      }
    },
    {
      "cell_type": "code",
      "source": [
        "np.linspace(1., 0., 5, endpoint=False)"
      ],
      "metadata": {
        "colab": {
          "base_uri": "https://localhost:8080/"
        },
        "id": "7-3o3nMB2YhZ",
        "outputId": "80c5e836-0f5d-480a-e483-6ab1a5b398f0"
      },
      "execution_count": null,
      "outputs": [
        {
          "output_type": "execute_result",
          "data": {
            "text/plain": [
              "array([1. , 0.8, 0.6, 0.4, 0.2])"
            ]
          },
          "metadata": {},
          "execution_count": 41
        }
      ]
    },
    {
      "cell_type": "markdown",
      "source": [
        "計算された間隔を取得したい場合は、 `retstep` 引数に `True` を渡す。このとき、関数の戻り値は 2 要素タプルとなり、第 1 要素に生成された配列が、第 2 要素に計算された間隔が入っている。"
      ],
      "metadata": {
        "id": "Zt5LgXpr5E8q"
      }
    },
    {
      "cell_type": "code",
      "source": [
        "np.linspace(1., 0., 5, endpoint=False, retstep=True)"
      ],
      "metadata": {
        "colab": {
          "base_uri": "https://localhost:8080/"
        },
        "id": "RBrqy7iv5Fmi",
        "outputId": "2fba4878-95d3-4d5c-a382-14033d4e0566"
      },
      "execution_count": null,
      "outputs": [
        {
          "output_type": "execute_result",
          "data": {
            "text/plain": [
              "(array([1. , 0.8, 0.6, 0.4, 0.2]), -0.2)"
            ]
          },
          "metadata": {},
          "execution_count": 42
        }
      ]
    },
    {
      "cell_type": "markdown",
      "source": [
        "``` python\n",
        "numpy.eye(N, M=None, k=0, dtype=<class 'float'>, order='C', *, like=None)\n",
        "```\n",
        "\n",
        "この関数は、`1` が斜めに並んで、それ以外は `0` となる 2 次元配列を生成する。\n",
        "\n",
        "| 引数 | 意味 |\n",
        "|:---|:---|\n",
        "| `N` | 行のサイズ |\n",
        "| `M` | 列のサイズ。`None`（デフォルト）の場合、 `N` が使われる |\n",
        "| `k` | `1` の始まり位置。デフォルトは `0`（先頭） |\n",
        "| `dtype` | dtype。デフォルトは `numpy.float64` |\n",
        "| `order` | 配列のメモリレイアウト。`'C'` か `'F'` を指定できる。デフォルトは `'C'` |\n",
        "\n",
        "デフォルトでは `N` 次単位行列を表す 2 次元配列を生成する。 `M` 引数を指定することで、正方行列ではない行列として配列を作成することもできる。"
      ],
      "metadata": {
        "id": "VwjsfFyTDHmd"
      }
    },
    {
      "cell_type": "code",
      "source": [
        "np.eye(3, 4)"
      ],
      "metadata": {
        "colab": {
          "base_uri": "https://localhost:8080/"
        },
        "id": "dM2D0frA99J9",
        "outputId": "0139d656-155e-400b-ce17-70b95daefeaf"
      },
      "execution_count": null,
      "outputs": [
        {
          "output_type": "execute_result",
          "data": {
            "text/plain": [
              "array([[1., 0., 0., 0.],\n",
              "       [0., 1., 0., 0.],\n",
              "       [0., 0., 1., 0.]])"
            ]
          },
          "metadata": {},
          "execution_count": 43
        }
      ]
    },
    {
      "cell_type": "markdown",
      "source": [
        "`k` 引数で `1` の斜めの並びを左右にシフトすることができる。正の整数で列方向にシフトさせ、負の整数で列方向の反対方向にシフトさせる。"
      ],
      "metadata": {
        "id": "MzGjF5npDXGr"
      }
    },
    {
      "cell_type": "code",
      "source": [
        "np.eye(3, 4,k=1)"
      ],
      "metadata": {
        "colab": {
          "base_uri": "https://localhost:8080/"
        },
        "id": "rAAnQAim-sAn",
        "outputId": "6e20fe3a-fc6b-433e-e511-56db7bd92ae9"
      },
      "execution_count": null,
      "outputs": [
        {
          "output_type": "execute_result",
          "data": {
            "text/plain": [
              "array([[0., 1., 0., 0.],\n",
              "       [0., 0., 1., 0.],\n",
              "       [0., 0., 0., 1.]])"
            ]
          },
          "metadata": {},
          "execution_count": 44
        }
      ]
    },
    {
      "cell_type": "code",
      "source": [
        "\n",
        "np.eye(3, 4, k=-1)"
      ],
      "metadata": {
        "colab": {
          "base_uri": "https://localhost:8080/"
        },
        "id": "fxAXVg2nAgzt",
        "outputId": "2654c2c8-41f8-42fa-8d15-6b7443dddf96"
      },
      "execution_count": null,
      "outputs": [
        {
          "output_type": "execute_result",
          "data": {
            "text/plain": [
              "array([[0., 0., 0., 0.],\n",
              "       [1., 0., 0., 0.],\n",
              "       [0., 1., 0., 0.]])"
            ]
          },
          "metadata": {},
          "execution_count": 45
        }
      ]
    },
    {
      "cell_type": "markdown",
      "source": [
        "``` python\n",
        "numpy.identity(n, dtype=None, *, like=None)\n",
        "```\n",
        "\n",
        "この関数は、 `numpy.eye(n)` と同じであり、明示的に `n` 次単位行列としての配列を生成する。第 2 引数 `dtype` で dtype を指定することもできる。"
      ],
      "metadata": {
        "id": "zW5ZclWhGDp8"
      }
    },
    {
      "cell_type": "code",
      "source": [
        "np.identity(3)"
      ],
      "metadata": {
        "colab": {
          "base_uri": "https://localhost:8080/"
        },
        "id": "6tv3mCHN_7_z",
        "outputId": "50c30543-30dd-4ed0-c495-22fb33189e10"
      },
      "execution_count": null,
      "outputs": [
        {
          "output_type": "execute_result",
          "data": {
            "text/plain": [
              "array([[1., 0., 0.],\n",
              "       [0., 1., 0.],\n",
              "       [0., 0., 1.]])"
            ]
          },
          "metadata": {},
          "execution_count": 46
        }
      ]
    },
    {
      "cell_type": "markdown",
      "source": [
        "``` python\n",
        "numpy.tri(N, M=None, k=0, dtype=<class 'float'>, *, like=None)\n",
        "```\n",
        "\n",
        "この関数は、対角線より上の成分が `0`、それ以外の成分が `1` の下三角行列を表す 2 次元配列を生成する。引数の意味は `numpy.eye()` 関数と同じ。ただし、`order` は指定できない。"
      ],
      "metadata": {
        "id": "fJA6Il7wPwPf"
      }
    },
    {
      "cell_type": "code",
      "source": [
        "np.tri(3, 5, 2, dtype=int)"
      ],
      "metadata": {
        "colab": {
          "base_uri": "https://localhost:8080/"
        },
        "id": "PLDxWW7GPxpn",
        "outputId": "1cb6de5e-a5e1-4f55-d171-e094194f49a5"
      },
      "execution_count": null,
      "outputs": [
        {
          "output_type": "execute_result",
          "data": {
            "text/plain": [
              "array([[1, 1, 1, 0, 0],\n",
              "       [1, 1, 1, 1, 0],\n",
              "       [1, 1, 1, 1, 1]])"
            ]
          },
          "metadata": {},
          "execution_count": 47
        }
      ]
    },
    {
      "cell_type": "markdown",
      "source": [
        "``` python\n",
        "numpy.tril(m, k=0)\n",
        "numpy.triu(m, k=0)\n",
        "```\n",
        "\n",
        "`numpy.tril()` 関数と `numpy.triu()` 関数は、第 1 引数に指定した array-like オブジェクト `m` から、それぞれ下三角行列と上三角行列を抽出した形の 2 次元配列を生成する。 `m` は正方行列でなくてもよい。第 2 引数 `k` の意味は、 `numpy.eye()` 関数の `k` 引数と同じ。"
      ],
      "metadata": {
        "id": "kTZIMcviSWOb"
      }
    },
    {
      "cell_type": "code",
      "source": [
        "np.tril([[1, 2, 3], [4, 5, 6], [7, 8, 9], [10, 11, 12]])"
      ],
      "metadata": {
        "colab": {
          "base_uri": "https://localhost:8080/"
        },
        "id": "5Oh1-HoxSnoL",
        "outputId": "89654754-59ac-440a-9142-379b888e5aff"
      },
      "execution_count": null,
      "outputs": [
        {
          "output_type": "execute_result",
          "data": {
            "text/plain": [
              "array([[ 1,  0,  0],\n",
              "       [ 4,  5,  0],\n",
              "       [ 7,  8,  9],\n",
              "       [10, 11, 12]])"
            ]
          },
          "metadata": {},
          "execution_count": 48
        }
      ]
    },
    {
      "cell_type": "code",
      "source": [
        "np.triu([[1, 2, 3], [4, 5, 6], [7, 8, 9], [10, 11, 12]], -1)"
      ],
      "metadata": {
        "colab": {
          "base_uri": "https://localhost:8080/"
        },
        "id": "c9_Bk_ryS40D",
        "outputId": "bd33b704-8071-4c0c-e806-54493a120489"
      },
      "execution_count": null,
      "outputs": [
        {
          "output_type": "execute_result",
          "data": {
            "text/plain": [
              "array([[ 1,  2,  3],\n",
              "       [ 4,  5,  6],\n",
              "       [ 0,  8,  9],\n",
              "       [ 0,  0, 12]])"
            ]
          },
          "metadata": {},
          "execution_count": 49
        }
      ]
    },
    {
      "cell_type": "markdown",
      "source": [
        "``` python\n",
        "numpy.diag(v, k=0)\n",
        "```\n",
        "\n",
        "この関数は、 array-like オブジェクト `v` が 2 次元配列の場合はその対角成分を抽出し、 1 次元配列の場合はその要素を対角成分とする対角行列を生成する。第 2 引数 `k` の意味は、 `numpy.eye()` 関数の `k` 引数と同じ。"
      ],
      "metadata": {
        "id": "t5VQCAAcWwae"
      }
    },
    {
      "cell_type": "code",
      "source": [
        "np.diag([[1, 2, 3], [4, 5, 6], [7, 8, 9], [10, 11, 12]])"
      ],
      "metadata": {
        "colab": {
          "base_uri": "https://localhost:8080/"
        },
        "id": "hqp8YCZVWxza",
        "outputId": "c5da0705-e77f-4b52-ab2c-6578e57300fe"
      },
      "execution_count": null,
      "outputs": [
        {
          "output_type": "execute_result",
          "data": {
            "text/plain": [
              "array([1, 5, 9])"
            ]
          },
          "metadata": {},
          "execution_count": 50
        }
      ]
    },
    {
      "cell_type": "code",
      "source": [
        "np.diag([1, 5, 9])"
      ],
      "metadata": {
        "colab": {
          "base_uri": "https://localhost:8080/"
        },
        "id": "2JVnTrPDXH3R",
        "outputId": "b5962e5c-fc7f-43f9-c46b-c376a63379f4"
      },
      "execution_count": null,
      "outputs": [
        {
          "output_type": "execute_result",
          "data": {
            "text/plain": [
              "array([[1, 0, 0],\n",
              "       [0, 5, 0],\n",
              "       [0, 0, 9]])"
            ]
          },
          "metadata": {},
          "execution_count": 51
        }
      ]
    },
    {
      "cell_type": "markdown",
      "source": [
        "### 乱数の生成 ###"
      ],
      "metadata": {
        "id": "M4S0Du4oX3mw"
      }
    },
    {
      "cell_type": "markdown",
      "source": [
        "NumPy では、独自に乱数（正確には疑似乱数）の生成をサポートする `numpy.random` モジュールが利用できる。\n",
        "\n",
        "``` python\n",
        "numpy.random.default_rng(seed=None)\n",
        "```\n",
        "\n",
        "この関数は、乱数生成器のクラス `numpy.random.Generator` のインスタンスを生成する。実は、NumPy では乱数生成器を選ぶことができ、この関数は乱数生成器として [PCG64](https://ja.wikipedia.org/wiki/Permuted_congruential_generator) を使用する。他の乱数生成器を選ぶメリットはないので、 `numpy.random.default_rng()` 関数で十分。\n",
        "\n",
        "唯一の引数 `seed` に乱数の種となる `int` 型の値または `int` 型の array-like オブジェクトを指定する。 `seed` の指定を省略した場合、 `numpy.random.default_rng()` 関数は OS の機能を利用して予測不可能な乱数の種を取得する。\n",
        "\n",
        "`numpy.random.Generator` インスタンスの主なメソッドは次のとおり。\n",
        "\n",
        "| メソッド | 機能 | 戻り値 |\n",
        "|:---|:---|:---|\n",
        "| `Generator.random(size=None, dtype=np.float64,`<br />` out=None)` | `0.0` 以上 `1.0` 未満の範囲でランダムな浮動小数点数を取得する。戻り値は `size` の指定によって異なる。<br /><br />・`size` が整数のタプルの場合: その形状の配列が返される<br /><br />・`size` が整数の場合: その長さの 1 次元配列が返される<br /><br />・`size` が `None`（デフォルト）の場合: 単一の値が返される<br /><br />`out` に配列を指定した場合、その配列の要素に抽出した値がセットされる。`out` の形状は `size` と一致する必要がある | 配列 or<br />単一の値 |\n",
        "| `Generator.uniform(low=0.0, high=1.0, `<br />`size=None)` | `low` 以上 `high` 未満の範囲でランダムな浮動小数点数を取得する。`size` の意味は `random()` の同名の引数と同じ | 配列 or<br />単一の値 |\n",
        "| `Generator.integers(low, high=None, size=None,`<br />` dtype=np.int64, endpoint=False)` | ランダムな整数を取得する。範囲は、第 2 引数 `high` を省略した場合に `0` 以上 `low` 未満、そうでない場合に `low` 以上 `high` 未<br />満となる。ただし、`endpoint` 引数が `True` の場合、両端点が範囲に含まれる。`size` の意味は `random()` の同名の引数と同じ | 配列 or<br />単一の値 |\n",
        "| `Generator.choice(a, size=None, replace=True,`<br />` p=None, axis=0, shuffle=True)` | `a` が配列の場合、`a` からランダムなサンプルを生成する。`a` が整数の場合、`np.arange(a)` からランダムなサンプルを生成する。<br />`size` の意味は `random()` の同名の引数と同じ。`replace` が `True`（デフォルト）の場合、要素の重複選択を許可する。`p` に 1 次配<br />列を指定した場合、それは `a` の各要素に関連付けられた確率を意味する。`p` を指定しない場合、`a` の各要素は均一な確率を仮<br />定する | 配列 or<br />単一の値 |"
      ],
      "metadata": {
        "id": "1uEe1UEMX4q3"
      }
    },
    {
      "cell_type": "code",
      "source": [
        "rng = np.random.default_rng()\n",
        "print(rng.random())\n",
        "print(rng.integers(10, size=10))\n",
        "a = np.empty((2, 3))\n",
        "rng.random((2, 3), out=a)\n",
        "print(a)\n",
        "print(rng.choice(5, 3, p=[0.1, 0, 0.3, 0.6, 0]))"
      ],
      "metadata": {
        "colab": {
          "base_uri": "https://localhost:8080/"
        },
        "id": "JoniQ365MOnL",
        "outputId": "0e76e094-8ec3-46c8-fe2c-c85423c6d0d8"
      },
      "execution_count": null,
      "outputs": [
        {
          "output_type": "stream",
          "name": "stdout",
          "text": [
            "0.5375432908520157\n",
            "[7 1 8 8 7 6 7 3 3 8]\n",
            "[[0.32909559 0.94418078 0.04301196]\n",
            " [0.71725376 0.24699596 0.37808083]]\n",
            "[3 3 3]\n"
          ]
        }
      ]
    },
    {
      "cell_type": "markdown",
      "source": [
        "【NumPy 2.0 での変更点】  \n",
        "以下の関数では、 `device` キーワード専用引数が追加されている。\n",
        "\n",
        "  * `numpy.ones()`\n",
        "  * `numpy.full()`\n",
        "  * `numpy.zeros_like()`\n",
        "  * `numpy.ones_like()`\n",
        "  * `numpy.full_like()`\n",
        "  * `numpy.empty()`\n",
        "  * `numpy.empty_like()`\n",
        "  * `numpy.arange()`\n",
        "  * `numpy.linspace()`\n",
        "  * `numpy.eye()`"
      ],
      "metadata": {
        "id": "C4KQYCu05g8t"
      }
    },
    {
      "cell_type": "markdown",
      "source": [
        "配列の属性\n",
        "----------"
      ],
      "metadata": {
        "id": "YWAmlJzOa-N_"
      }
    },
    {
      "cell_type": "markdown",
      "source": [
        "`numpy.ndarray` の属性は、基本的に読み取り専用プロパティとして実装されている。"
      ],
      "metadata": {
        "id": "7-mS-QVqN2Qp"
      }
    },
    {
      "cell_type": "markdown",
      "source": [
        "### 型・次元数・形状・サイズ・全要素 ###"
      ],
      "metadata": {
        "id": "12ygX86Ba_Be"
      }
    },
    {
      "cell_type": "markdown",
      "source": [
        "配列の型、次元数、形状、サイズ（全要素数）、全要素を取得するには、 `numpy.ndarray` の以下の属性を使う。\n",
        "\n",
        "| 属性 | 意味 |\n",
        "|:---|:---|\n",
        "| `dtype` | 配列の dtype |\n",
        "| `ndim` | 配列の次元数 |\n",
        "| `shape` | 配列の形状を表すタプル。タプルのサイズは `ndim` と一致する。タプルには次元の小さい順（つまり軸の番号の小さい順）で各配列のサイズが並ぶ |\n",
        "| `size` | 配列に含まれる要素の数。`shape` の中の整数を全て乗じた数と一致する |\n",
        "| `flat` | 配列の要素を 1 つずつ返すイテレーターを返す |"
      ],
      "metadata": {
        "id": "7MJ-6-m3bDfS"
      }
    },
    {
      "cell_type": "code",
      "source": [
        "# 1 次元配列の場合\n",
        "a1 = np.arange(3)\n",
        "print(f\"{a1!r}\")\n",
        "print(f\"{a1.dtype=}, {a1.ndim=}, {a1.shape=}, {a1.size=}\")\n",
        "\n",
        "print(\"-\" * 66)\n",
        "\n",
        "# 2 次元配列の場合\n",
        "a2 = np.array([a1, a1])\n",
        "print(f\"{a2!r}\")\n",
        "print(f\"{a2.dtype=}, {a2.ndim=}, {a2.shape=}, {a2.size=}\")\n",
        "\n",
        "print(\"-\" * 66)\n",
        "\n",
        "# 3 次元配列の場合\n",
        "a3 = np.array([a2, a2])\n",
        "print(f\"{a3!r}\")\n",
        "print(f\"{a3.dtype=}, {a3.ndim=}, {a3.shape=}, {a3.size=}\")"
      ],
      "metadata": {
        "colab": {
          "base_uri": "https://localhost:8080/"
        },
        "id": "a3hQw1yLbznE",
        "outputId": "92988976-f799-4359-e2e0-8f9c39586187"
      },
      "execution_count": null,
      "outputs": [
        {
          "output_type": "stream",
          "name": "stdout",
          "text": [
            "array([0, 1, 2])\n",
            "a1.dtype=dtype('int64'), a1.ndim=1, a1.shape=(3,), a1.size=3\n",
            "------------------------------------------------------------------\n",
            "array([[0, 1, 2],\n",
            "       [0, 1, 2]])\n",
            "a2.dtype=dtype('int64'), a2.ndim=2, a2.shape=(2, 3), a2.size=6\n",
            "------------------------------------------------------------------\n",
            "array([[[0, 1, 2],\n",
            "        [0, 1, 2]],\n",
            "\n",
            "       [[0, 1, 2],\n",
            "        [0, 1, 2]]])\n",
            "a3.dtype=dtype('int64'), a3.ndim=3, a3.shape=(2, 2, 3), a3.size=12\n"
          ]
        }
      ]
    },
    {
      "cell_type": "markdown",
      "source": [
        "`flat` 属性が返すイテレーターは、軸の番号の低い順に辞書式順序で要素を返す。たとえば、2 次元配列の場合、まず最初の行の要素を順番に返し、次に 2 行目の行の要素を順番に返す、というようになる。"
      ],
      "metadata": {
        "id": "skCMbkSB6gvQ"
      }
    },
    {
      "cell_type": "code",
      "source": [
        "a = np.array([[1, 2], [3, 4]])\n",
        "print(f\"{a!r}\")\n",
        "for x in a.flat:\n",
        "    print(x)"
      ],
      "metadata": {
        "colab": {
          "base_uri": "https://localhost:8080/"
        },
        "id": "BwIu1VrD6hr4",
        "outputId": "7a6668ac-6294-4bae-e3c0-8c2678b9f8e5"
      },
      "execution_count": null,
      "outputs": [
        {
          "output_type": "stream",
          "name": "stdout",
          "text": [
            "array([[1, 2],\n",
            "       [3, 4]])\n",
            "1\n",
            "2\n",
            "3\n",
            "4\n"
          ]
        }
      ]
    },
    {
      "cell_type": "markdown",
      "source": [
        "### メモリ情報 ###"
      ],
      "metadata": {
        "id": "vjcIrHSCEtj3"
      }
    },
    {
      "cell_type": "markdown",
      "source": [
        "配列のメモリに関する情報を取得するには、 `numpy.ndarray` の以下の属性を使う。\n",
        "\n",
        "| 属性 | 意味 |\n",
        "|:---|:---|\n",
        "| `base` | 配列がビューである場合は、もととなる配列を指す。そうでない場合は `None` |\n",
        "| `flags` | 配列のメモリレイアウトに関する情報を格納するオブジェクトを指す。各情報には `a.flags['KEY']` のように大文字のキー名で辞書のようにアクセスするか、`a.flags.key` のように<br />小文字の属性名で属性参照の形でアクセスできる。主なキーは以下の通り<br /><br />・`C_CONTIGUOUS`: ローメジャーオーダーなら `True`<br /><br />・`F_CONTIGUOUS`: カラムメジャーオーダーなら `True`<br /><br />・`WRITEABLE`: データ領域への書き込みが可能なら `True` |\n",
        "| `itemsize` | バイト単位での各要素のメモリ消費量 |\n",
        "| `strides` | 各次元方向に 1 つ隣の要素に移動するために必要なバイト数をタプルで表したもの |\n",
        "| `nbytes` | バイト単位での配列のデータ領域のメモリ消費量。`itemsize` と `size` の積に一致する |"
      ],
      "metadata": {
        "id": "JQd1XAWyEuQo"
      }
    },
    {
      "cell_type": "code",
      "source": [
        "a = np.array([[1, 2, 3], [4, 5, 6]], dtype=float)\n",
        "assert a.base is None\n",
        "assert a.flags['C_CONTIGUOUS'] and a.flags.writeable\n",
        "print(f'{a.size=}')\n",
        "print(f'{a.itemsize=}')  # numpy.float64 なので 8 バイト（＝ 64 ビット）\n",
        "print(f'{a.strides=}')  # ローメジャーオーダーなので、行方向へは 8x3(=24)、列方向は 8\n",
        "print(f'{a.nbytes=}')  # 8x6=48 バイト"
      ],
      "metadata": {
        "colab": {
          "base_uri": "https://localhost:8080/"
        },
        "id": "sJqORIcrFJQ0",
        "outputId": "fa082e7f-0a1d-49d2-e505-2e94b729a44c"
      },
      "execution_count": null,
      "outputs": [
        {
          "output_type": "stream",
          "name": "stdout",
          "text": [
            "a.size=6\n",
            "a.itemsize=8\n",
            "a.strides=(24, 8)\n",
            "a.nbytes=48\n"
          ]
        }
      ]
    },
    {
      "cell_type": "markdown",
      "source": [
        "配列のインデックス参照\n",
        "----------------------"
      ],
      "metadata": {
        "id": "jniPM_XBn20l"
      }
    },
    {
      "cell_type": "markdown",
      "source": [
        "### 基本的なインデックス ###"
      ],
      "metadata": {
        "id": "aOS6O4NQF7jM"
      }
    },
    {
      "cell_type": "markdown",
      "source": [
        "配列を構成する低次元の配列には、 Python の多重リストと同様に低い次元からインデックス参照を重ねる方法 `[i][j][k]...` で参照できる。配列内の個々の要素を参照する方法も同様である。"
      ],
      "metadata": {
        "id": "K1imkrStStNO"
      }
    },
    {
      "cell_type": "code",
      "source": [
        "a= np.array([[[1, 2],\n",
        "              [3, 4]],\n",
        "             [[5, 6],\n",
        "              [7, 8]]])\n",
        "print(f\"{a[1][0]=}\")\n",
        "assert a[0][1][1] == 4"
      ],
      "metadata": {
        "colab": {
          "base_uri": "https://localhost:8080/"
        },
        "id": "ik-1PgqnSumF",
        "outputId": "c08816b7-872f-4ba4-ceaa-1661c4603148"
      },
      "execution_count": null,
      "outputs": [
        {
          "output_type": "stream",
          "name": "stdout",
          "text": [
            "a[1][0]=array([5, 6])\n"
          ]
        }
      ]
    },
    {
      "cell_type": "markdown",
      "source": [
        "しかし、 2 次元以上の配列では、この参照方法はあまり使われない。配列のインデックス参照が呼び出す `__getitem__()` メソッドは C の関数で実装され、単一の整数やスライスだけでなく、タプルも受け付ける。タプルを渡す場合、低い次元から順にインデックスを並べた形式のタプルを渡すようにする。 Python では、カンマで区切った式のリストがタプル評価されるから、`()` を省略して `[i, j, k, ...]` のように各次元のインデックスをカンマ区切りで指定することができる。この独自の参照方法がよく使われる。"
      ],
      "metadata": {
        "id": "6nMSSHz1GAEV"
      }
    },
    {
      "cell_type": "code",
      "source": [
        "a= np.array([[[1, 2],\n",
        "              [3, 4]],\n",
        "             [[5, 6],\n",
        "              [7, 8]]])\n",
        "print(f\"{a[1, 0]=}\")\n",
        "assert a[0, 1, 1] == 4"
      ],
      "metadata": {
        "id": "ScIEPxgBzU-S",
        "colab": {
          "base_uri": "https://localhost:8080/"
        },
        "outputId": "40a02016-3346-4c3d-f632-445ce2c0181f"
      },
      "execution_count": null,
      "outputs": [
        {
          "output_type": "stream",
          "name": "stdout",
          "text": [
            "a[1, 0]=array([5, 6])\n"
          ]
        }
      ]
    },
    {
      "cell_type": "markdown",
      "source": [
        "独自の参照方法でも、負の値を使うことや、スライス `start:stop` や `start:stop:step` を使うことができる。スライスの省略記法も Python のシーケンスと同様である。 2 次元配列の場合、`[i]` と `[i, :]` は等価で `i` 番目の行の全体を指定し、また、 `[:, j]` は `j` 番目の列の全体を指定する。"
      ],
      "metadata": {
        "id": "pVC6P6bD1ce8"
      }
    },
    {
      "cell_type": "code",
      "source": [
        "a = np.array([[0, 1, 2, 3, 4],\n",
        "              [5, 6, 7, 8, 9]])\n",
        "assert a[-1, -2] == 8  # 負の数の場合、インデックスは配列の末尾からの相対インデックスになる\n",
        "print(f\"   [0, 1:4]: {a[0, 1:4]!r}\")  # 0 行目の 1 番目から 3 番目までのスライス\n",
        "print(f\"    [0, :4]: {a[0, :4]!r}\")  # 0 行目の 0 番目から 3 番目までのスライス\n",
        "print(f\"    [0, 1:]: {a[0, 1:]!r}\")  # 0 行目の 1 番目から 4 番目までのスライス\n",
        "print(f\"[1, 1:-1:2]: {a[1, 1:-1:2]!r}\")  # 1 行目の 1 番目から 3 番目まで、2 ごとのスライス\n",
        "print(f\"   [1, ::2]: {a[1, ::2]!r}\")  # 1 行目の 2 ごとのスライス\n",
        "print(f\"     [1, :]: {a[1, :]!r}\")  # 1 行目のスライス（[1] と等価）"
      ],
      "metadata": {
        "colab": {
          "base_uri": "https://localhost:8080/"
        },
        "id": "fGYkiS0O1k3f",
        "outputId": "473f288f-57c8-4b41-f877-e107369407ee"
      },
      "execution_count": null,
      "outputs": [
        {
          "output_type": "stream",
          "name": "stdout",
          "text": [
            "   [0, 1:4]: array([1, 2, 3])\n",
            "    [0, :4]: array([0, 1, 2, 3])\n",
            "    [0, 1:]: array([1, 2, 3, 4])\n",
            "[1, 1:-1:2]: array([6, 8])\n",
            "   [1, ::2]: array([5, 7, 9])\n",
            "     [1, :]: array([5, 6, 7, 8, 9])\n"
          ]
        }
      ]
    },
    {
      "cell_type": "code",
      "source": [
        "a = np.array([[[1, 2],\n",
        "               [3, 4]],\n",
        "              [[5, 6],\n",
        "               [7, 8]]])\n",
        "a[:, :, 0]  # 最後の次元だけ指定（行列ごとに各行の 0 番目の列を取得）"
      ],
      "metadata": {
        "colab": {
          "base_uri": "https://localhost:8080/"
        },
        "id": "ygwHHvXZkFDW",
        "outputId": "2741f525-23d0-468c-b527-7704793b512b"
      },
      "execution_count": null,
      "outputs": [
        {
          "output_type": "execute_result",
          "data": {
            "text/plain": [
              "array([[1, 3],\n",
              "       [5, 7]])"
            ]
          },
          "metadata": {},
          "execution_count": 58
        }
      ]
    },
    {
      "cell_type": "markdown",
      "source": [
        "`a[:, :, 0]` のように複数の `:` を連続して指定する場合、それらをまとめて 1 つの `Ellipsis`（`...` と同じ）で表す省略記法が使える。\n",
        "\n",
        "  * `[..., i]`: 最大の次元のみを指定\n",
        "  * `[i, ..., j]`: 最小の次元と最大の次元のみを指定\n",
        "  * `[...]`: 配列の全体を指定\n",
        "\n",
        "`:` を続けて書く場合には `:` の数が次元数に一致しないとエラーになるが、 `...` の省略記法を使う場合にはそのようなエラーを防ぐことができる。なお、 `[i, ...]` は `[i]` と等価となる。\n",
        "\n",
        "`[..., i, ..., j]` のように 1 回のインデックス参照に `...` を 2 つ以上使うと、インデックスの指定が不明確になるのでエラーが発生する。"
      ],
      "metadata": {
        "id": "v8AB7FEuhogj"
      }
    },
    {
      "cell_type": "code",
      "source": [
        "a = np.array([[[1, 2],\n",
        "               [3, 4]],\n",
        "              [[5, 6],\n",
        "               [7, 8]]])\n",
        "a[..., 0]  # a[;, :, 0] と同じ"
      ],
      "metadata": {
        "colab": {
          "base_uri": "https://localhost:8080/"
        },
        "id": "A0lwtx3ihpSm",
        "outputId": "e0e45fea-2bda-4c27-c08e-9ded03e5d5d6"
      },
      "execution_count": null,
      "outputs": [
        {
          "output_type": "execute_result",
          "data": {
            "text/plain": [
              "array([[1, 3],\n",
              "       [5, 7]])"
            ]
          },
          "metadata": {},
          "execution_count": 59
        }
      ]
    },
    {
      "cell_type": "markdown",
      "source": [
        "Python のシーケンスではスライスを使用する場合にコピーが返されるが、 **`numpy.ndarray` オブジェクトではスライスを使用する場合にビューが返される**。`Ellipsis` を使用する場合も同様である。"
      ],
      "metadata": {
        "id": "3BRG5eBSfZSm"
      }
    },
    {
      "cell_type": "markdown",
      "source": [
        "### 次元を追加するインデックス ###"
      ],
      "metadata": {
        "id": "1yceqtLWkA_h"
      }
    },
    {
      "cell_type": "markdown",
      "source": [
        "配列のインデックス参照では、`None` を使うと、その位置に次元（軸）を 1 つ追加した新しい配列が返される。`None` のこの用途では、わかりやすい別名の `numpy.newaxis` が使われる。\n",
        "\n",
        "追加された次元では、サイズが 1 とされる。もとの配列内の配列や要素は、追加された次元でサイズが 1 となるように分配される（最初からサイズが 1 となる場合には分配は行われない）。\n",
        "\n",
        "**次元を追加するインデックスを使用する場合、ビューが返される**。"
      ],
      "metadata": {
        "id": "XZuCnOU2kCPN"
      }
    },
    {
      "cell_type": "code",
      "source": [
        "# 1 次元配列に新しい軸として 0 軸を追加する例\n",
        "a = np.arange(5)\n",
        "a[np.newaxis, :]  # 1x5 行列となり、分配は行われない"
      ],
      "metadata": {
        "colab": {
          "base_uri": "https://localhost:8080/"
        },
        "id": "YdLhme-CsWNF",
        "outputId": "ad5dd541-1b96-497e-c490-04f45dc8fa3f"
      },
      "execution_count": null,
      "outputs": [
        {
          "output_type": "execute_result",
          "data": {
            "text/plain": [
              "array([[0, 1, 2, 3, 4]])"
            ]
          },
          "metadata": {},
          "execution_count": 60
        }
      ]
    },
    {
      "cell_type": "code",
      "source": [
        "# 1 次元配列に新しい軸として 1 軸を追加する例\n",
        "a = np.arange(5)\n",
        "a[:, np.newaxis]  # 5x1 行列となり、分配が行われる"
      ],
      "metadata": {
        "colab": {
          "base_uri": "https://localhost:8080/"
        },
        "id": "fG-ar_euq4gS",
        "outputId": "12409b64-03f0-466c-a6d4-e764fc582a8a"
      },
      "execution_count": null,
      "outputs": [
        {
          "output_type": "execute_result",
          "data": {
            "text/plain": [
              "array([[0],\n",
              "       [1],\n",
              "       [2],\n",
              "       [3],\n",
              "       [4]])"
            ]
          },
          "metadata": {},
          "execution_count": 61
        }
      ]
    },
    {
      "cell_type": "code",
      "source": [
        "# 2 次元配列に新しい軸として 1 軸を追加する例\n",
        "a = np.array([[1, 2, 3],\n",
        "              [4, 5, 6],\n",
        "              [7, 8, 9]])\n",
        "a[:, np.newaxis, :]  # 3 つの 1x3 行列からなる 3 次元配列となり、分配が行われる"
      ],
      "metadata": {
        "colab": {
          "base_uri": "https://localhost:8080/"
        },
        "id": "Sge-UAROtvvW",
        "outputId": "a3caab79-9df3-4c32-ad46-53dfab0c25cf"
      },
      "execution_count": null,
      "outputs": [
        {
          "output_type": "execute_result",
          "data": {
            "text/plain": [
              "array([[[1, 2, 3]],\n",
              "\n",
              "       [[4, 5, 6]],\n",
              "\n",
              "       [[7, 8, 9]]])"
            ]
          },
          "metadata": {},
          "execution_count": 62
        }
      ]
    },
    {
      "cell_type": "markdown",
      "source": [
        "### ブーリアンインデックス ###"
      ],
      "metadata": {
        "id": "WYy4rtaKhWEQ"
      }
    },
    {
      "cell_type": "markdown",
      "source": [
        "配列のインデックス参照では、各次元でのインデックスを指定するために、整数やスライスに代えて、その次元のサイズ（要素数）と同じサイズのブール値のリストや配列を指定することができる。この場合、 `True` の位置にある要素のみを抽出した新しい配列が返される。このようなインデックスを**ブーリアンインデックス**（boolean index）と呼ぶ。\n",
        "\n",
        "ブーリアンインデックスは、位置を柔軟に指定できるように強化したスライスのようであるが、以下の点に注意する。\n",
        "\n",
        "  * ブーリアンインデックスのサイズが次元のサイズと一致していなければ、 `IndexError` 例外が発生する（スライスではエラーが発生しないこととは対照的である）。\n",
        "  * **ブーリアンインデックスを使用する場合、ビューではなくコピーが返される**。\n",
        "\n",
        "1 次元配列でブーリアンインデックスを使用する場合、スライスを使用する場合と同様に、配列（ただし配列のコピー）が返されるのであって、単一の要素を参照することはできない。"
      ],
      "metadata": {
        "id": "H6atNcRlhXDZ"
      }
    },
    {
      "cell_type": "code",
      "source": [
        "# 1 次元配列の例\n",
        "a = np.arange(4)\n",
        "# [0, 1, 2, 3]\n",
        "a[[False, True, False, False]], a[[True, False, True, False]]"
      ],
      "metadata": {
        "colab": {
          "base_uri": "https://localhost:8080/"
        },
        "id": "E1MGwAZOzUev",
        "outputId": "d514c176-ee78-461a-87d4-fe6e1f4c53f8"
      },
      "execution_count": null,
      "outputs": [
        {
          "output_type": "execute_result",
          "data": {
            "text/plain": [
              "(array([1]), array([0, 2]))"
            ]
          },
          "metadata": {},
          "execution_count": 63
        }
      ]
    },
    {
      "cell_type": "markdown",
      "source": [
        "2 次元以上の配列では、全ての次元でブーリアンインデックスを使う必要はなく、整数やスライスを使うインデックスと組み合わせて使用することができる。"
      ],
      "metadata": {
        "id": "d8gFVx0DSY24"
      }
    },
    {
      "cell_type": "code",
      "source": [
        "# 2 次元配列で行にブーリアンインデックスを使用する例\n",
        "a = np.array([[1, 2, 3],\n",
        "              [4, 5, 6],\n",
        "              [7, 8, 9]])\n",
        "a[[True, False, True]]"
      ],
      "metadata": {
        "colab": {
          "base_uri": "https://localhost:8080/"
        },
        "id": "swzfiwTJz-6K",
        "outputId": "05356ee0-940b-4f40-fe34-43b1768b62bb"
      },
      "execution_count": null,
      "outputs": [
        {
          "output_type": "execute_result",
          "data": {
            "text/plain": [
              "array([[1, 2, 3],\n",
              "       [7, 8, 9]])"
            ]
          },
          "metadata": {},
          "execution_count": 64
        }
      ]
    },
    {
      "cell_type": "code",
      "source": [
        "# 2 次元配列で、行にブーリアンインデックス、列に整数インデックスを使用する例\n",
        "a = np.array([[1, 2, 3],\n",
        "              [4, 5, 6],\n",
        "              [7, 8, 9]])\n",
        "a[[True, False, True], 2]"
      ],
      "metadata": {
        "colab": {
          "base_uri": "https://localhost:8080/"
        },
        "id": "Dva-4CRoSiq0",
        "outputId": "ec6217c8-d555-4930-8a77-500b841c8bf7"
      },
      "execution_count": null,
      "outputs": [
        {
          "output_type": "execute_result",
          "data": {
            "text/plain": [
              "array([3, 9])"
            ]
          },
          "metadata": {},
          "execution_count": 65
        }
      ]
    },
    {
      "cell_type": "code",
      "source": [
        "# 2 次元配列で、行にスライス、列にブーリアンインデックスを使用する例\n",
        "a = np.array([[1, 2, 3],\n",
        "              [4, 5, 6],\n",
        "              [7, 8, 9]])\n",
        "a[:, [True, False, True]]"
      ],
      "metadata": {
        "colab": {
          "base_uri": "https://localhost:8080/"
        },
        "outputId": "1e296c4b-a6b8-4194-8726-6679c6a6becd",
        "id": "ojbBxYTZ1DUF"
      },
      "execution_count": null,
      "outputs": [
        {
          "output_type": "execute_result",
          "data": {
            "text/plain": [
              "array([[1, 3],\n",
              "       [4, 6],\n",
              "       [7, 9]])"
            ]
          },
          "metadata": {},
          "execution_count": 66
        }
      ]
    },
    {
      "cell_type": "markdown",
      "source": [
        "ブロードキャスト\n",
        "----------------"
      ],
      "metadata": {
        "id": "QW1_iZEho8s1"
      }
    },
    {
      "cell_type": "markdown",
      "source": [
        "### ブロードキャストの基本 ###"
      ],
      "metadata": {
        "id": "EE6e2ZaVQILy"
      }
    },
    {
      "cell_type": "markdown",
      "source": [
        "NumPy では、配列に対して、次元数と形状をあるサイズに揃えるような変更が以下の 2 規則に従って行われることを**ブロードキャスト**（broadcasting）と呼んでいる。\n",
        "\n",
        "  1. 次元数を揃える  \n",
        "配列の次元数が小さい場合は、先頭に軸が追加され、その次元ではサイズが 1 の配列が含まれる形にする（つまり `a[numpy.newaxis, :]` の形にする）。\n",
        "  2. 各次元の大きさを揃える  \n",
        "ある次元の配列のサイズが小さい場合は、そのサイズが 1 であるときに限って、値を繰り返す形で配列を引き延ばす。\n",
        "\n",
        "上記の 2 規則に従って配列を変換することができるとき、配列は**ブロードキャスト可能**（broadcastable）と呼ばれる。ブロードキャストで行われる操作は上記の 2 規則で全てとなるので、以下のような配列では全てブロードキャストが失敗する。\n",
        "\n",
        "  * 入力配列の次元数が大きい場合\n",
        "  * ある次元で配列のサイズが大きい場合\n",
        "  * ある次元で配列のサイズが小さく、かつ、そのサイズが 2 以上である場合\n",
        "\n",
        "一方、全てのスカラーは、ブロードキャストの文脈では 0 次元配列として扱われ、常にブロードキャスト可能である。\n",
        "\n",
        "配列にブロードキャストが行われると、読み取り専用ビューが作成される。一般の配列のメモリレイアウトと異なり、通常は連続していない。さらに、その複数の要素は単一のメモリ位置を参照する場合がある。\n",
        "\n",
        "ブロードキャストは、配列を扱う様々な場面で NumPy によって暗黙的に行われ、プログラマーが明示的に行うようなものではない。しかしながら、ブロードキャストの結果を確認したい場合もあるので、明示的にブロードキャストを行う関数が提供されている。\n",
        "\n",
        "``` python\n",
        "numpy.broadcast_to(array, shape, subok=False)\n",
        "```\n",
        "\n",
        "この関数は、 array-like オブジェクト `array` を、指定された形状 `shape` にブロードキャストする。\n",
        "\n",
        "次のコードは、スカラーを形状が `(3,)` の 1 次元配列にブロードキャストする。"
      ],
      "metadata": {
        "id": "BCWtV9Pco9ok"
      }
    },
    {
      "cell_type": "code",
      "source": [
        "# スカラーを 1 次元配列へ\n",
        "np.broadcast_to(1, (3,))  # np.full((3,), 1) と同じ"
      ],
      "metadata": {
        "colab": {
          "base_uri": "https://localhost:8080/"
        },
        "id": "SZs5VmOVyuz6",
        "outputId": "a571c493-1891-4473-93db-af573a29f20a"
      },
      "execution_count": null,
      "outputs": [
        {
          "output_type": "execute_result",
          "data": {
            "text/plain": [
              "array([1, 1, 1])"
            ]
          },
          "metadata": {},
          "execution_count": 67
        }
      ]
    },
    {
      "cell_type": "markdown",
      "source": [
        "このブロードキャストでは、次の手順で操作が行われる。\n",
        "\n",
        "``` text\n",
        "1. 入力:\n",
        "    1            【形状 ()】\n",
        "2. 次元数を 1 に揃える:\n",
        "    [1]          【形状 (1,)】\n",
        "3. 0 軸での配列のサイズを 3 に揃える:\n",
        "    [1, 1, 1]    【形状 (3,)】\n",
        "```\n",
        "\n",
        "次のコードは、スカラーを形状が `(2, 3)` の 2 次元配列にブロードキャストする。"
      ],
      "metadata": {
        "id": "Lp-vikjv0c-5"
      }
    },
    {
      "cell_type": "code",
      "source": [
        "# スカラーを 2 次元配列へ\n",
        "np.broadcast_to(1, (2, 3))  # np.full((2, 3), 1) と同じ"
      ],
      "metadata": {
        "colab": {
          "base_uri": "https://localhost:8080/"
        },
        "id": "LrCigCF_zE_l",
        "outputId": "c49b5762-8953-491c-efac-3d12f8ad1332"
      },
      "execution_count": null,
      "outputs": [
        {
          "output_type": "execute_result",
          "data": {
            "text/plain": [
              "array([[1, 1, 1],\n",
              "       [1, 1, 1]])"
            ]
          },
          "metadata": {},
          "execution_count": 68
        }
      ]
    },
    {
      "cell_type": "markdown",
      "source": [
        "このブロードキャストでは、次の手順で操作が行われる。\n",
        "\n",
        "``` text\n",
        "1. 入力:\n",
        "    1              【形状 ()】\n",
        "2. 次元数を 2 に揃える:\n",
        "    [[1]]          【形状 (1, 1)】\n",
        "3. 0 軸での配列のサイズを 2 に揃える:\n",
        "    [[1],          【形状 (2, 1)】\n",
        "     [1]]\n",
        "4. 行ごとに 1 軸での配列のサイズを 3 に揃える:\n",
        "    [[1, 1, 1],    【形状 (2, 3)】\n",
        "     [1, 1, 1]]\n",
        "```\n",
        "\n",
        "次のコードは、サイズが 3 であるリスト（1 次元配列に相当する array-like オブジェクト）を形状が `(3, 3)` の 2 次元配列にブロードキャストする。"
      ],
      "metadata": {
        "id": "TFKUBYt10d-V"
      }
    },
    {
      "cell_type": "code",
      "source": [
        "np.broadcast_to([1, 2, 3], (3, 3))"
      ],
      "metadata": {
        "colab": {
          "base_uri": "https://localhost:8080/"
        },
        "id": "WkiOaIxs3rYr",
        "outputId": "a8f51e34-f471-4adf-a5b4-bf040070c5a1"
      },
      "execution_count": null,
      "outputs": [
        {
          "output_type": "execute_result",
          "data": {
            "text/plain": [
              "array([[1, 2, 3],\n",
              "       [1, 2, 3],\n",
              "       [1, 2, 3]])"
            ]
          },
          "metadata": {},
          "execution_count": 3
        }
      ]
    },
    {
      "cell_type": "markdown",
      "source": [
        "このブロードキャストでは、次の手順で操作が行われる。\n",
        "\n",
        "``` text\n",
        "1. 入力:\n",
        "    [1, 2, 3]      【形状 (3,)】\n",
        "2. 次元数を 2 に揃える:\n",
        "    [[1, 2, 3]]    【形状 (1, 3)】\n",
        "3. 0 軸での配列のサイズを 3 に揃える:\n",
        "    [[1, 2, 3],    【形状 (3, 3)】\n",
        "     [1, 2, 3],\n",
        "     [1, 2, 3]]\n",
        "```\n",
        "\n",
        "次のコードは、形状が `(3, 1)` である 2 次元配列を形状が `(3, 3)` の 2 次元配列にブロードキャストする。"
      ],
      "metadata": {
        "id": "Gw2F7MasLxEz"
      }
    },
    {
      "cell_type": "code",
      "source": [
        "a = np.arange(1, 4)[:, np.newaxis]\n",
        "# [[1],\n",
        "#  [2],\n",
        "#  [3]]\n",
        "np.broadcast_to(a, (3, 3))"
      ],
      "metadata": {
        "colab": {
          "base_uri": "https://localhost:8080/"
        },
        "id": "Wxd-6y53JYR6",
        "outputId": "6ebaf88a-cb6c-4655-e05d-d032a1dd122d"
      },
      "execution_count": null,
      "outputs": [
        {
          "output_type": "execute_result",
          "data": {
            "text/plain": [
              "array([[1, 1, 1],\n",
              "       [2, 2, 2],\n",
              "       [3, 3, 3]])"
            ]
          },
          "metadata": {},
          "execution_count": 4
        }
      ]
    },
    {
      "cell_type": "markdown",
      "source": [
        "このブロードキャストでは、次元数と 0 軸での配列のサイズは一致しているので操作する必要がない。次の手順で操作が行われる。\n",
        "\n",
        "``` text\n",
        "1. 入力:\n",
        "    [[1],          【形状 (3, 1)】\n",
        "     [2],\n",
        "     [3]]\n",
        "2. 行ごとに 1 軸での配列のサイズを 3 に揃える:\n",
        "    [[1, 1, 1],    【形状 (3, 3)】\n",
        "     [2, 2, 2],\n",
        "     [3, 3, 3]]\n",
        "```\n",
        "\n",
        "次のコードは、形状が `(2, 2)` である 2 次元配列を形状が `(2, 2, 2)` の 3 次元配列にブロードキャストする。 0 軸が挿入されて行列が繰り返されるブロードキャストが行われることがわかる。"
      ],
      "metadata": {
        "id": "GTuchz7gQtKm"
      }
    },
    {
      "cell_type": "code",
      "source": [
        "a = np.array([[1, 2],\n",
        "              [3, 4]])\n",
        "np.broadcast_to(a, (2, 2, 2))"
      ],
      "metadata": {
        "colab": {
          "base_uri": "https://localhost:8080/"
        },
        "id": "KjiuEtbY4gqZ",
        "outputId": "62d09752-157c-4475-997c-7d83b059b091"
      },
      "execution_count": null,
      "outputs": [
        {
          "output_type": "execute_result",
          "data": {
            "text/plain": [
              "array([[[1, 2],\n",
              "        [3, 4]],\n",
              "\n",
              "       [[1, 2],\n",
              "        [3, 4]]])"
            ]
          },
          "metadata": {},
          "execution_count": 71
        }
      ]
    },
    {
      "cell_type": "markdown",
      "source": [
        "``` python\n",
        "numpy.broadcast_arrays(*args, subok=False)\n",
        "```\n",
        "\n",
        "この関数は、複数の array-like オブジェクトを入力として、ブロードキャストして形状を揃えた配列のリストを返す。具体的には、まず次元数が入力配列の中で最大のものに揃えられ、次に 0 軸から順に配列のサイズが次元数を揃えた配列の中で最大のものに揃えられる。\n",
        "\n",
        "次のコードは、スカラーと、形状が `(2,)` の 1 次元配列に相当するリストと、形状が `(2, 1)` の 2 次元配列に相当するネストされたリストに対して、それぞれ形状が `(2, 2)` の 2 次元配列にブロードキャストされた配列を生成する。"
      ],
      "metadata": {
        "id": "o2UemXW8B3rz"
      }
    },
    {
      "cell_type": "code",
      "source": [
        "np.broadcast_arrays(1, [2, 3], [[4], [5]])"
      ],
      "metadata": {
        "colab": {
          "base_uri": "https://localhost:8080/"
        },
        "id": "YLv1AcBsB4Uf",
        "outputId": "04fcd99b-ce7b-4cfe-eee9-6ad0901a9172"
      },
      "execution_count": null,
      "outputs": [
        {
          "output_type": "execute_result",
          "data": {
            "text/plain": [
              "[array([[1, 1],\n",
              "        [1, 1]]),\n",
              " array([[2, 3],\n",
              "        [2, 3]]),\n",
              " array([[4, 4],\n",
              "        [5, 5]])]"
            ]
          },
          "metadata": {},
          "execution_count": 72
        }
      ]
    },
    {
      "cell_type": "markdown",
      "source": [
        "このブロードキャストでは、次の手順で操作が行われる。\n",
        "\n",
        "``` text\n",
        "1. 入力:\n",
        "    1,  [2, 3],  [[4],                 【形状 () (2,) (2, 1)】\n",
        "                  [5]]\n",
        "2. 3 つ目の配列の次元数が採用され、次元数を 2 に揃える:\n",
        "    [[1]],  [[2, 3]],  [[4],           【形状 (1, 1) (1, 2) (2, 1)】\n",
        "                       [5]]\n",
        "3. 3 つ目の配列の 0 軸での配列のサイズが採用され、0 軸での配列のサイズを 2 に揃える:\n",
        "    [[1],   [[2, 3],    [[4],          【形状 (2, 1) (2, 2) (2, 1)】\n",
        "     [1]]    [2, 3]]     [5]]\n",
        "4. 2 つ目の配列の 1 軸での配列のサイズが採用され、1 軸での配列のサイズを 2 に揃える:\n",
        "    [[1, 1],   [[2, 3],    [[4, 4],    【形状 (2, 2) (2, 2) (2, 2)】\n",
        "     [1, 1]]    [2, 3]]     [5, 5]]\n",
        "```"
      ],
      "metadata": {
        "id": "E_ugs4QLP2Qq"
      }
    },
    {
      "cell_type": "markdown",
      "source": [
        "### ファンシーインデックス ###"
      ],
      "metadata": {
        "id": "JiiwP9YybcI3"
      }
    },
    {
      "cell_type": "markdown",
      "source": [
        "配列のインデックス参照を実装する C の関数は、必要により入力されたインデックスを整数配列に変換し、それらの形状と配置を使って新しい配列を構築する。入力がタプルの場合、整数配列への変換に際し、タプルの全てのエントリは暗黙的にブロードキャストされて形状が揃ったものとなる。ブロードキャスト可能でない場合は、`IndexError` 例外が発生する。\n",
        "\n",
        "例えば、形状が `(2, 5)` の 2 次元配列で、整数インデックスとスライスを組み合わせた `a[0, 1:4]` というインデックス参照を考える。 0 軸のインデックス値 `0` はブロードキャストの結果 `[0, 0, 0]` に変換され、 1 軸のインデックス値であるスライス `1:4` は `[1, 2, 3]` に変換される。このインデックス参照から返される配列（ビュー）は 1 次元配列とされ、 `a[0, 1], a[0, 2], a[0, 3]` を含むものとなる。\n",
        "\n",
        "ブーリアンインデックスは、 `True` の位置（整数）からなる配列に変換される。例えば、形状が `(3, 3)` の 2 次元配列で、スライスとブーリアンインデックスを組み合わせた `a[:, [True, False, True]]` というインデックス参照を考える。 0 軸のインデックス値であるスライス `:` は `[[0], [1], [2]]` に変換され、 1 軸のブーリアンインデックス `[True, False, True]` は `[0, 2]` に変換され、次のようにブロードキャストされる:\n",
        "\n",
        "``` text\n",
        "[[0],    [0, 2]                              [[0, 0],    [[0, 2],\n",
        " [1],             ─（ブロードキャスト）→    [1, 1],     [0, 2],\n",
        " [2]],                                        [2, 2]],    [0, 2]]\n",
        "```\n",
        "\n",
        "このインデックス参照から返される配列（コピー）は 2 次元配列とされ、次のような配列が返される:\n",
        "\n",
        "``` text\n",
        "[a[0, 0], a[0, 2],\n",
        " a[1, 0], a[1, 2],\n",
        " a[2, 0], a[2, 2]]\n",
        "```\n",
        "\n",
        "このように、インデックスとして指定した整数、スライス、ブーリアンインデックスは整数配列に変換されるのであるが、はじめからインデックスに整数のリストや配列を指定することもできる。このようなインデックスを**ファンシーインデックス**（fancy index）という。\n",
        "\n",
        "**ファンシーインデックスを使用する場合、ビューではなくコピーが返される**。"
      ],
      "metadata": {
        "id": "KzI8kK-o13o9"
      }
    },
    {
      "cell_type": "code",
      "source": [
        "a = np.array([[0, 1, 2, 3, 4],\n",
        "              [5, 6, 7, 8, 9]])\n",
        "a[0, 1:4], a[[0, 0, 0], [1, 2, 3]]  # 各要素が同じである配列が返される"
      ],
      "metadata": {
        "colab": {
          "base_uri": "https://localhost:8080/"
        },
        "id": "c3Imrpegm-3y",
        "outputId": "2527ac3b-985f-4a14-9fff-12bd6447a5a4"
      },
      "execution_count": null,
      "outputs": [
        {
          "output_type": "execute_result",
          "data": {
            "text/plain": [
              "(array([1, 2, 3]), array([1, 2, 3]))"
            ]
          },
          "metadata": {},
          "execution_count": 73
        }
      ]
    },
    {
      "cell_type": "code",
      "source": [
        "a = np.array([[1, 2, 3],\n",
        "              [4, 5, 6],\n",
        "              [7, 8, 9]])\n",
        "(a[:, [True, False, True]],\n",
        " a[[[0],\n",
        "    [1],\n",
        "    [2]], [0, 2]])  # 各要素が同じである配列が返される"
      ],
      "metadata": {
        "colab": {
          "base_uri": "https://localhost:8080/"
        },
        "outputId": "21c33623-278d-412b-b76d-2816e6ff25f8",
        "id": "iEakdwwJnraB"
      },
      "execution_count": null,
      "outputs": [
        {
          "output_type": "execute_result",
          "data": {
            "text/plain": [
              "(array([[1, 3],\n",
              "        [4, 6],\n",
              "        [7, 9]]),\n",
              " array([[1, 3],\n",
              "        [4, 6],\n",
              "        [7, 9]]))"
            ]
          },
          "metadata": {},
          "execution_count": 3
        }
      ]
    },
    {
      "cell_type": "markdown",
      "source": [
        "ファンシーインデックスでは、インデックスを自由に指定することができる。これにより要素の並べ替えができる。**インデックスを重複して指定してもよい**。インデックスに負の値も使用できる。\n",
        "\n",
        "インデックス参照で返される配列の次元数と形状は、ブロードキャスト後の整数配列の次元数と形状に一致するから、ファンシーインデックスを使えば次元数と形状を自由に操作することができる。例えば、インデックス参照で形状が `(N, M)` の 2 次元配列を取得したいなら、（ブロードキャストされて）形状が `(N, M)` の 2 次元配列となるようなファンシーインデックスを指定すればよく、もとの配列の形状には縛られない。これにより、もとの配列よりも要素数の多い配列を構築することもできる。"
      ],
      "metadata": {
        "id": "qkTOmcjrpvru"
      }
    },
    {
      "cell_type": "code",
      "source": [
        "# 1 次元配列の例\n",
        "a = np.arange(1, 4)\n",
        "(a,\n",
        " a[[0, 2]],\n",
        " a[[2, 1, 0]],\n",
        " a[[-1, 2, 2, -1]],\n",
        " a[[[0, 1],\n",
        "    [1, 2],\n",
        "    [2, 0]]])"
      ],
      "metadata": {
        "colab": {
          "base_uri": "https://localhost:8080/"
        },
        "id": "cmN9Y6zLdtue",
        "outputId": "a9f9a137-38ea-4747-a1e3-5d82ca439f04"
      },
      "execution_count": null,
      "outputs": [
        {
          "output_type": "execute_result",
          "data": {
            "text/plain": [
              "(array([1, 2, 3]),\n",
              " array([1, 3]),\n",
              " array([3, 2, 1]),\n",
              " array([3, 3, 3, 3]),\n",
              " array([[1, 2],\n",
              "        [2, 3],\n",
              "        [3, 1]]))"
            ]
          },
          "metadata": {},
          "execution_count": 75
        }
      ]
    },
    {
      "cell_type": "code",
      "source": [
        "# 2 次元配列の例\n",
        "a = np.array([[1, 2, 3],\n",
        "              [4, 5, 6],\n",
        "              [7, 8, 9]])\n",
        "row_indices = np.array([[2, 0],\n",
        "                        [0, 1]])\n",
        "col_indices = np.array([[1, 2],\n",
        "                        [1, 0]])\n",
        "(a[[2, 0], [1, 2]],  # 1 次元配列を返す\n",
        " a[row_indices, col_indices],  # 2 次元配列を返す\n",
        " a[[2, 0]],  # 2 次元配列を返す（a[[[2], [0]], :] の省略形とみなされ、 : は [[0, 1, 2]] と変換され、ブロードキャストされる）\n",
        " a[:, [1, 2]],  # 2 次元配列を返す（ : は [[0], [1], [2]] と変換され、ブロードキャストされる）\n",
        " a[row_indices, -1],  # 2 次元配列を返す（ブロードキャストされる）\n",
        " )"
      ],
      "metadata": {
        "colab": {
          "base_uri": "https://localhost:8080/"
        },
        "id": "DzH2IDmZuvCG",
        "outputId": "2af072fb-ed2b-4b40-b947-398bb21b1104"
      },
      "execution_count": null,
      "outputs": [
        {
          "output_type": "execute_result",
          "data": {
            "text/plain": [
              "(array([8, 3]),\n",
              " array([[8, 3],\n",
              "        [2, 4]]),\n",
              " array([[7, 8, 9],\n",
              "        [1, 2, 3]]),\n",
              " array([[2, 3],\n",
              "        [5, 6],\n",
              "        [8, 9]]),\n",
              " array([[9, 3],\n",
              "        [3, 6]]))"
            ]
          },
          "metadata": {},
          "execution_count": 76
        }
      ]
    },
    {
      "cell_type": "markdown",
      "source": [
        "2 次元以上の配列に対するインデックス参照で、 2 次元以上の配列が得られるようなファンシーインデックスを構成する作業は煩雑となりやすい。この作業に役立つヘルパー関数が提供されている。\n",
        "\n",
        "``` python\n",
        "numpy.ix_(*args)\n",
        "```\n",
        "\n",
        "この関数は、N 個のネストしていないシーケンスを受け取り、それぞれ N 次元を持つ N 個の配列のタプルを返す。各配列は、ブロードキャストされるとちょうど格子点を抽出するような形状になっている。\n",
        "\n",
        "次のコードは、 2 つのリスト `[2, 0], [0, 1]` をこの関数に渡した戻り値を `ixgrid` 変数に格納している:"
      ],
      "metadata": {
        "id": "97T_DeTV2u4F"
      }
    },
    {
      "cell_type": "code",
      "source": [
        "# 2個のリストを渡す場合\n",
        "ixgrid = np.ix_([2, 0],\n",
        "                [0, 1])\n",
        "print(ixgrid)  # 2次元配列が2個入ったタプル\n",
        "print('-' * 30)\n",
        "# ixgrid に入った2個の配列に対してブロードキャストして形状を揃えた結果をみる\n",
        "np.broadcast_arrays(*ixgrid)"
      ],
      "metadata": {
        "colab": {
          "base_uri": "https://localhost:8080/"
        },
        "id": "hd-ZbIF1bIk9",
        "outputId": "fcd48440-82c1-4087-a2c2-47bd6ece51b9"
      },
      "execution_count": null,
      "outputs": [
        {
          "output_type": "stream",
          "name": "stdout",
          "text": [
            "(array([[2],\n",
            "       [0]]), array([[0, 1]]))\n",
            "------------------------------\n"
          ]
        },
        {
          "output_type": "execute_result",
          "data": {
            "text/plain": [
              "(array([[2, 2],\n",
              "        [0, 0]]),\n",
              " array([[0, 1],\n",
              "        [0, 1]]))"
            ]
          },
          "metadata": {},
          "execution_count": 17
        }
      ]
    },
    {
      "cell_type": "markdown",
      "source": [
        "この `ixgrid` を使い `a[ixgrid]` でインデックス参照すると、次のような配列が返される:\n",
        "\n",
        "``` text\n",
        "[a[2, 0], a[2, 1],\n",
        " a[0, 0], a[0, 1]]\n",
        "```"
      ],
      "metadata": {
        "id": "m6AkJlGDa4n8"
      }
    },
    {
      "cell_type": "code",
      "source": [
        "a = np.array([[1, 2, 3],\n",
        "              [4, 5, 6],\n",
        "              [7, 8, 9]])\n",
        "ixgrid = np.ix_([2, 0],\n",
        "                [0, 1])\n",
        "a[ixgrid]"
      ],
      "metadata": {
        "colab": {
          "base_uri": "https://localhost:8080/"
        },
        "id": "QnbgEqDkFqMg",
        "outputId": "469cbc4c-9710-4474-ed7b-495e09600b28"
      },
      "execution_count": null,
      "outputs": [
        {
          "output_type": "execute_result",
          "data": {
            "text/plain": [
              "array([[7, 8],\n",
              "       [1, 2]])"
            ]
          },
          "metadata": {},
          "execution_count": 19
        }
      ]
    },
    {
      "cell_type": "markdown",
      "source": [
        "つまり、`a[np.ix_([2, 0], [0, 1])` は、次のような格子点が抽出されたものになる:\n",
        "\n",
        "``` text\n",
        "\n",
        "     ⓪  ①  ２\n",
        "   ┌─┬─┬─┐\n",
        "⓪ │❶│❷│３│\n",
        "   ├─┼─┼─┤\n",
        "１ │４│５│６│\n",
        "   ├─┼─┼─┤\n",
        "② │❼│❽│９│\n",
        "   └─┴─┴─┘\n",
        "```"
      ],
      "metadata": {
        "id": "uvIQUyeBdARN"
      }
    },
    {
      "cell_type": "markdown",
      "source": [
        "型変換\n",
        "------"
      ],
      "metadata": {
        "id": "6tCc4I2Q-_bU"
      }
    },
    {
      "cell_type": "markdown",
      "source": [
        "### デフォルトのデータ型 ###"
      ],
      "metadata": {
        "id": "kXRk63ugys-x"
      }
    },
    {
      "cell_type": "markdown",
      "source": [
        "`numpy.array()` 関数は、デフォルトでは、第 1 引数に渡された入力データ（配列やリストなど）内のすべての要素を保持できる、最も一般的なデータ型を選択しようとする。\n",
        "\n",
        "  * 整数のリストを渡すと、 `int`（Numpy の型名、以下同様）になる。 `int` では値が保持されない要素が含まれる場合、 `float64` になる。 `float64` でも値が保持されない要素が含まれる場合は、 `object` になる。\n",
        "  * 浮動小数点数のリストを渡すと、 `float64` になる。非数 `numpy.nan` と無限大 `numpy.inf` は浮動小数点数の表現として扱われる。\n",
        "  * 整数と浮動小数点数が混在するリストを渡すと、より広い範囲を表現できる `float64` になる。\n",
        "  * 複素数のリストを渡すと、`complex128` になる。\n",
        "  * ブール値のリストを渡すと、`bool` になる。\n",
        "  * 文字列を含むリストを渡すと、最も長い文字列を格納できる `unicode` になる。\n",
        "  * 文字列と数値のリストを渡すと、より広い範囲を表現できる `unicode` になる。"
      ],
      "metadata": {
        "id": "7gYr0bYhytsk"
      }
    },
    {
      "cell_type": "code",
      "source": [
        "print(f'{np.array([1, 2, 3]).dtype = }')\n",
        "print(f'{np.array([1, 2.0, 3]).dtype = }')\n",
        "print(f'{np.array([\"aa\", \"あああ\"]).dtype = }')  # 最も長い文字列 \"あああ\" を格納できる長さ 3 の の固定長 Unicode 文字列型になる\n",
        "print(f'{np.array([1, 2, \"3\"]).dtype = }')  # 64 ビット符号あり整数を表現できる長さ 21 の固定長 Unicode 文字列型になる"
      ],
      "metadata": {
        "colab": {
          "base_uri": "https://localhost:8080/"
        },
        "id": "dv5Jneo-0Jul",
        "outputId": "a4469744-6aa6-405b-d8b2-7e369428ef6e"
      },
      "execution_count": 64,
      "outputs": [
        {
          "output_type": "stream",
          "name": "stdout",
          "text": [
            "np.array([1, 2, 3]).dtype = dtype('int64')\n",
            "np.array([1, 2.0, 3]).dtype = dtype('float64')\n",
            "np.array([\"aa\", \"あああ\"]).dtype = dtype('<U3')\n",
            "np.array([1, 2, \"3\"]).dtype = dtype('<U21')\n"
          ]
        }
      ]
    },
    {
      "cell_type": "markdown",
      "source": [
        "### 型変換を行うメソッド ###"
      ],
      "metadata": {
        "id": "GQ9kDfNQ6fA4"
      }
    },
    {
      "cell_type": "markdown",
      "source": [
        "``` python\n",
        "ndarray.astype(dtype, order='K', casting='unsafe', subok=True, copy=True)\n",
        "```\n",
        "\n",
        "この `numpy.ndarray` メソッドは、第 1 引数に指定された dtype に型変換（キャスト）した配列のコピーを返す。主な引数は次のとおり。\n",
        "\n",
        "| 引数 | 意味 |\n",
        "|:---|:---|\n",
        "| `dtype` | 指定された dtype に型変換を行う |\n",
        "| `order` | 配列のメモリレイアウトを文字列 `'C'`, `'F'`, `'A'`, `'K'` で指定する |\n",
        "| `casting` | どのような種類の型変換が許可されるかについてのポリシーを文字列で指定する<br /><br />・`'no'`: データ型をまったく変換しない<br /><br />・`'equiv'`: バイトオーダーの変更のみが許可される<br /><br />・`'safe'`: 値を保持できる型変換のみが許可される<br /><br />・`'same_kind'`: `float64` から `float32` へのような同じ種類への変換のみが許可される<br /><br />・`'unsafe'`: あらゆる型変換が行われる |\n",
        "\n",
        "整数同士、あるいは、浮動小数点数同士でビット数の大きい型への変換は、値が保持される。しかし、ビット数の小さい型への変換は、オーバフローが発生して値が壊れる可能性がある。"
      ],
      "metadata": {
        "id": "aG_bV2EH_ARx"
      }
    },
    {
      "cell_type": "code",
      "source": [
        "a = np.array([100, 1000, 10000], dtype='i2')\n",
        "assert a.dtype == np.int16  # 16 ビット符号あり整数型\n",
        "\n",
        "# 32 ビット符号あり整数型への型変換は値が保持される\n",
        "b = a.astype('i4')\n",
        "print(f'{b = }')\n",
        "\n",
        "# 8 ビット符号あり整数型への型変換は値が保持されない\n",
        "c = a.astype('i1')\n",
        "print(f'{c = }')"
      ],
      "metadata": {
        "colab": {
          "base_uri": "https://localhost:8080/"
        },
        "id": "NMt41R9hnOi6",
        "outputId": "96914a19-111c-4669-b384-c48935af6668"
      },
      "execution_count": 54,
      "outputs": [
        {
          "output_type": "stream",
          "name": "stdout",
          "text": [
            "b = array([  100,  1000, 10000], dtype=int32)\n",
            "c = array([100, -24,  16], dtype=int8)\n"
          ]
        }
      ]
    },
    {
      "cell_type": "markdown",
      "source": [
        "浮動小数点数型から整数型への変換は、小数点以下切り捨てとなる。"
      ],
      "metadata": {
        "id": "N1e4z3m-nH7F"
      }
    },
    {
      "cell_type": "code",
      "source": [
        "a = np.array([1.2, 2.4, 3.6])\n",
        "assert a.dtype == np.float64\n",
        "a.astype(int)"
      ],
      "metadata": {
        "colab": {
          "base_uri": "https://localhost:8080/"
        },
        "id": "dRCwwHKY0WBi",
        "outputId": "d3be1025-f2de-429d-dd9d-a8c3130c8122"
      },
      "execution_count": 34,
      "outputs": [
        {
          "output_type": "execute_result",
          "data": {
            "text/plain": [
              "array([1, 2, 3])"
            ]
          },
          "metadata": {},
          "execution_count": 34
        }
      ]
    },
    {
      "cell_type": "markdown",
      "source": [
        "なお、普通の配列（`numpy.ndarray` オブジェクト）では、個別にデータ型を指定することはできない。たとえば、 2 次元配列の列ごとにデータ型を指定するようなことはできない。"
      ],
      "metadata": {
        "id": "PF-GAnz8BbYj"
      }
    },
    {
      "cell_type": "markdown",
      "source": [
        "代入\n",
        "----"
      ],
      "metadata": {
        "id": "YPlhA57FvJ2Q"
      }
    },
    {
      "cell_type": "markdown",
      "source": [
        "Numpy での代入は、 Python での代入とは異なる独自の操作となる。\n",
        "\n",
        "【左辺で単一の要素を参照している場合】  \n",
        "この場合、参照している要素が変更される。右辺は Python のスカラー値でなければならない。左辺の配列の dtype への暗黙的な型変換も行われる。浮動小数点数から整数への変換では、小数以下の切り捨てとなる。型変換に失敗すると、 `ValueError` 例外が発生する。"
      ],
      "metadata": {
        "id": "AnlmmyNmvKtr"
      }
    },
    {
      "cell_type": "code",
      "source": [
        "a = np.array([[1, 2, 3],\n",
        "              [4, 5, 6]])\n",
        "a[0, 1] = 20.8\n",
        "a"
      ],
      "metadata": {
        "colab": {
          "base_uri": "https://localhost:8080/"
        },
        "id": "YJuhjS7bLlMY",
        "outputId": "3cfc0bd2-9dfe-456b-9376-6e9370232f88"
      },
      "execution_count": null,
      "outputs": [
        {
          "output_type": "execute_result",
          "data": {
            "text/plain": [
              "array([[ 1, 20,  3],\n",
              "       [ 4,  5,  6]])"
            ]
          },
          "metadata": {},
          "execution_count": 80
        }
      ]
    },
    {
      "cell_type": "markdown",
      "source": [
        "【左辺で部分配列を参照している場合】  \n",
        "この場合、右辺も配列で 2 つの配列の形状が一致しているか、あるいは、両辺がブロードキャスト可能である必要がある。位置が対応する要素ごとに代入が行われる。必要により、暗黙的なブロードキャストと暗黙的な型変換が行われる。ブロードキャストや型変換に失敗すると、 `ValueError` 例外が発生する。\n",
        "\n",
        "左辺で参照されている部分配列と、右辺の配列（または参照されている部分配列）の形状が一致している場合は、そのまま位置が対応する要素ごとに代入が行われる。"
      ],
      "metadata": {
        "id": "MDUz7--MO4wl"
      }
    },
    {
      "cell_type": "code",
      "source": [
        "# 左辺で参照している配列と右辺の配列で次元数と形状が同じである場合\n",
        "a = np.array([[ 0,  1,  2,  3],\n",
        "              [ 4,  5,  6,  7],\n",
        "              [ 8,  9, 10, 11],\n",
        "              [12, 13, 14, 15]])\n",
        "b = np.array([[100, 101, 102, 103],\n",
        "              [104, 105, 106, 107],\n",
        "              [108, 109, 110, 111],\n",
        "              [112, 113, 114, 115]])\n",
        "a[np.ix_([2, 3], [0, 1, 2])] = b[np.ix_([0, 1], [0, 1, 2])]\n",
        "a"
      ],
      "metadata": {
        "colab": {
          "base_uri": "https://localhost:8080/"
        },
        "id": "nRrfW6qdRUb5",
        "outputId": "d2ad75a1-9a95-486b-d049-3c70f7186883"
      },
      "execution_count": null,
      "outputs": [
        {
          "output_type": "execute_result",
          "data": {
            "text/plain": [
              "array([[  0,   1,   2,   3],\n",
              "       [  4,   5,   6,   7],\n",
              "       [100, 101, 102,  11],\n",
              "       [104, 105, 106,  15]])"
            ]
          },
          "metadata": {},
          "execution_count": 81
        }
      ]
    },
    {
      "cell_type": "markdown",
      "source": [
        "左辺でも右辺でも参照されている部分配列がもとの配列において飛び飛びであってもよい。"
      ],
      "metadata": {
        "id": "XDFR4VExHwcc"
      }
    },
    {
      "cell_type": "code",
      "source": [
        "# 左辺でスライスが使われている場合\n",
        "a = np.array([[ 0,  1,  2,  3],\n",
        "              [ 4,  5,  6,  7],\n",
        "              [ 8,  9, 10, 11],\n",
        "              [12, 13, 14, 15]])\n",
        "b = np.array([[100, 101],\n",
        "              [200, 201]])\n",
        "assert a[::2, ::2].shape == b.shape\n",
        "a[::2, ::2] = b\n",
        "a"
      ],
      "metadata": {
        "colab": {
          "base_uri": "https://localhost:8080/"
        },
        "id": "aeNGFEaPIAny",
        "outputId": "b4387deb-72eb-406d-ecb2-f857f97d2269"
      },
      "execution_count": null,
      "outputs": [
        {
          "output_type": "execute_result",
          "data": {
            "text/plain": [
              "array([[100,   1, 101,   3],\n",
              "       [  4,   5,   6,   7],\n",
              "       [200,   9, 201,  11],\n",
              "       [ 12,  13,  14,  15]])"
            ]
          },
          "metadata": {},
          "execution_count": 82
        }
      ]
    },
    {
      "cell_type": "markdown",
      "source": [
        "左辺で参照されている部分配列と、右辺の配列（または参照されている部分配列）の形状が一致していない場合、左辺で参照されている部分配列の形状に揃えるようにブロードキャストされる。ブロードキャスト可能でなければ `ValueError` 例外が発生する。"
      ],
      "metadata": {
        "id": "ds2nEbkRL2rJ"
      }
    },
    {
      "cell_type": "code",
      "source": [
        "# 左辺で参照している配列と右辺の配列で次元数と形状が異なる場合\n",
        "a = np.array([[1, 1, 1],\n",
        "              [2, 2, 2],\n",
        "              [3, 3, 3]])\n",
        "assert a[1:].shape == (2, 3)\n",
        "a[1:] = np.array([-1, -1, -1])  # ブロードキャストが行われる\n",
        "a"
      ],
      "metadata": {
        "colab": {
          "base_uri": "https://localhost:8080/"
        },
        "id": "48pNGBGAQsG5",
        "outputId": "76efc1c5-5b6d-4ce8-bcdc-6127ce08d7a3"
      },
      "execution_count": null,
      "outputs": [
        {
          "output_type": "execute_result",
          "data": {
            "text/plain": [
              "array([[ 1,  1,  1],\n",
              "       [-1, -1, -1],\n",
              "       [-1, -1, -1]])"
            ]
          },
          "metadata": {},
          "execution_count": 83
        }
      ]
    },
    {
      "cell_type": "markdown",
      "source": [
        "上記のコードでは、左辺で参照されている部分配列の形状が `(2, 3)` なので、右辺の配列は次のようにブロードキャストされる。\n",
        "\n",
        "``` text\n",
        "1. 入力:\n",
        "    [-1, -1, 1-]      【形状 (3,)】\n",
        "2. 次元数を 2 に揃える:\n",
        "    [[-1, -1, -1]]    【形状 (1, 3)】\n",
        "3. 0 軸での配列のサイズを 2 に揃える:\n",
        "    [[-1, -1, -1],    【形状 (2, 3)】\n",
        "     [-1, -1, -1]]\n",
        "```\n",
        "\n",
        "スカラーは常にブロードキャスト可能なので、右辺のスカラーは左辺で参照されている部分配列を埋めるように代入される。"
      ],
      "metadata": {
        "id": "MhKGjkKmPAvc"
      }
    },
    {
      "cell_type": "code",
      "source": [
        "# 右辺がスカラーの場合\n",
        "a = np.array([[1, 1, 1],\n",
        "              [2, 2, 2],\n",
        "              [3, 3, 3]])\n",
        "a[1:] = -1  # ブロードキャストが行われる\n",
        "a"
      ],
      "metadata": {
        "colab": {
          "base_uri": "https://localhost:8080/"
        },
        "id": "zX_O5Qvqfldm",
        "outputId": "44a9e432-c443-41f3-bfdc-31fb64e890a6"
      },
      "execution_count": null,
      "outputs": [
        {
          "output_type": "execute_result",
          "data": {
            "text/plain": [
              "array([[ 1,  1,  1],\n",
              "       [-1, -1, -1],\n",
              "       [-1, -1, -1]])"
            ]
          },
          "metadata": {},
          "execution_count": 84
        }
      ]
    },
    {
      "cell_type": "markdown",
      "source": [
        "代入はアンパックもサポートしている。"
      ],
      "metadata": {
        "id": "8WjG8mc_q_iJ"
      }
    },
    {
      "cell_type": "code",
      "source": [
        "a = np.array([[10, 20],\n",
        "              [30, 40]])\n",
        "b, c = a\n",
        "[x, y], [z, w] = a\n",
        "b, c, x, y, z, w"
      ],
      "metadata": {
        "colab": {
          "base_uri": "https://localhost:8080/"
        },
        "id": "xsxlG-FXpSaF",
        "outputId": "8dcb362c-d0b9-485f-a55f-0c631951617f"
      },
      "execution_count": null,
      "outputs": [
        {
          "output_type": "execute_result",
          "data": {
            "text/plain": [
              "(array([10, 20]), array([30, 40]), 10, 20, 30, 40)"
            ]
          },
          "metadata": {},
          "execution_count": 85
        }
      ]
    },
    {
      "cell_type": "markdown",
      "source": [
        "以上のことは、整数やスライスを使うインデックスでも、ブーリアンインデックスでも、ファンシーインデックスでも、同様である。配列の代入では、右辺がビューを返すインデクス参照を使っていても常に値のコピーが代入されるし、左辺がコピーを返すインデクス参照を使っていても配列自体が変更される。"
      ],
      "metadata": {
        "id": "_qlReWNM3XxW"
      }
    },
    {
      "cell_type": "code",
      "source": [
        "a = np.arange(1, 5)\n",
        "print(f'{a = }')\n",
        "b = np.arange(100, 105)\n",
        "print(f'{b = }')\n",
        "a[[True, False, False, True]] = b[::4]\n",
        "assert not np.shares_memory(a, b)\n",
        "print(f'{a = }')"
      ],
      "metadata": {
        "colab": {
          "base_uri": "https://localhost:8080/"
        },
        "id": "Ti0rgqOv3cpO",
        "outputId": "aaaf7b4c-91e7-4c87-ee17-4b7a4a9f2d93"
      },
      "execution_count": 66,
      "outputs": [
        {
          "output_type": "stream",
          "name": "stdout",
          "text": [
            "a = array([1, 2, 3, 4])\n",
            "b = array([100, 101, 102, 103, 104])\n",
            "a = array([100,   2,   3, 104])\n"
          ]
        }
      ]
    },
    {
      "cell_type": "markdown",
      "source": [
        "一方、左辺に関してビューが作成されていた場合、代入はメモリを共有する別の配列も変更することに注意する。ブーリアンインデックスやファンシーインデックスなどによってコピーを作成していた場合は、その一方の配列に対する代入によって他方の配列が変更されることはない。"
      ],
      "metadata": {
        "id": "58f1vQYgnbE-"
      }
    },
    {
      "cell_type": "code",
      "source": [
        "a = np.arange(5)\n",
        "b = a[:]  # ビューを返す\n",
        "c = a[[True, True, True, True, True]]  # コピーを返す\n",
        "d = a[[0, 1, 2, 3, 4]]  # コピーを返す\n",
        "assert np.shares_memory(a, b) and not np.shares_memory(a, c) and not np.shares_memory(a, d)\n",
        "a[[True, True, False, False, True]] = 100\n",
        "a, b, c, d"
      ],
      "metadata": {
        "colab": {
          "base_uri": "https://localhost:8080/"
        },
        "id": "NcdLAzhkncuN",
        "outputId": "7c51fdcd-90c2-45ec-a5ad-5b73f0b4941b"
      },
      "execution_count": null,
      "outputs": [
        {
          "output_type": "execute_result",
          "data": {
            "text/plain": [
              "(array([100, 100,   2,   3, 100]),\n",
              " array([100, 100,   2,   3, 100]),\n",
              " array([0, 1, 2, 3, 4]),\n",
              " array([0, 1, 2, 3, 4]))"
            ]
          },
          "metadata": {},
          "execution_count": 87
        }
      ]
    },
    {
      "cell_type": "markdown",
      "source": [
        "整数やスライスを使うインデックス参照であっても、そのコピーを取れば、代入によって変更されることを防ぐことができる。ただし、メモリ消費量が増えることに注意する。"
      ],
      "metadata": {
        "id": "2KuqAPj19LYQ"
      }
    },
    {
      "cell_type": "code",
      "source": [
        "a = np.arange(5)\n",
        "b = a[:].copy()\n",
        "a[::2] = 100\n",
        "a, b"
      ],
      "metadata": {
        "colab": {
          "base_uri": "https://localhost:8080/"
        },
        "id": "i5CJGCFZ9MAf",
        "outputId": "80400645-a5bd-4255-b11c-b52413619fc4"
      },
      "execution_count": null,
      "outputs": [
        {
          "output_type": "execute_result",
          "data": {
            "text/plain": [
              "(array([100,   1, 100,   3, 100]), array([0, 1, 2, 3, 4]))"
            ]
          },
          "metadata": {},
          "execution_count": 88
        }
      ]
    },
    {
      "cell_type": "markdown",
      "source": [
        "配列を操作する関数・メソッド\n",
        "----------------------------"
      ],
      "metadata": {
        "id": "CVR9iU_XSC0S"
      }
    },
    {
      "cell_type": "markdown",
      "source": [
        "### 形状変更・リスト化 ###"
      ],
      "metadata": {
        "id": "p_LXgguyP66l"
      }
    },
    {
      "cell_type": "markdown",
      "source": [
        "``` python\n",
        "numpy.reshape(a, newshape, order='C')\n",
        "ndarray.reshape(shape, /, *, order='C')\n",
        "```\n",
        "\n",
        "`numpy.reshape()` は、入力された配列と同じデータを含む新しい形状の配列のビューを返す NumPy 関数である。\n",
        "\n",
        "| 引数 | 意味 |\n",
        "|:---|:---|\n",
        "| `a` | 操作の対象となる配列または array-like オブジェクト。この関数は、`a` 自体を変更しない |\n",
        "| `newshape` | 新しい形状。`a` と要素数が一致する形状でないと `ValueError` となる。たとえば、`a` の要素数が 12 なら `(12,)`, `(1, 12)`, `(3, 4)`, `(2, 2, 3)` など形状を指定できる。<br />`newshape` のタプルには 1 つだけ `-1` を指定でき、`-1` とした次元の長さは他の次元の指定値から自動的に決定される。1 次元配列を作る場合は `newshape` に単独の整数を指定<br />できる |\n",
        "| `order` | 配列のメモリレイアウトと `a` から要素を取る順番を同時に指定する。`'C'` か `'F'` か `'A'` を指定できる。`'A'` を指定した場合、`a` がカラムメジャーオーダーなら維持されるが、そ<br />れ以外なら常にローメジャーオーダーになる。デフォルトは `'C'` |\n",
        "\n",
        "`numpy.reshape()` 関数の第 1 引数は配列に限られず array-like オブジェクトを受け付けるので、配列の生成にも使用できる（ただし dtype を指定できないので配列の生成には `numpy.array()` を使うのが基本）。\n",
        "\n",
        "`ndarray.reshape()` は、 `numpy.ndarray` メソッドである。 `a.reshape(shape, order)` は `numpy.reshape(a, shape, order)` と等価。ただし、`ndarray.reshape()` メソッドでは、新しい形状の指定方法として、タプルではなく、その要素を個別の引数として渡すことができる。たとえば、`a.reshape(10, 11)` は `a.reshape((10, 11))` と同等となる。\n",
        "\n",
        "引数 `order` は、もとの配列から要素を取る順番を決めるので、その指定によって戻り値の配列（ビュー）の中身が変わることに注意する。デフォルトでは、もとの配列からローメジャーオーダーの順番で要素を取得し、新しい形状の配列にローメジャーオーダーの順番で要素を埋めていく形となる。 2 次元配列から 2 次元配列へ形状変更する場合、最初の行の左から要素を取得していき、終わったら次の行の左から要素を取得していく、というように要素を取得したら、新しい形状の配列において最初の行の左から要素を埋めていき、行が埋まったら次の行の左から要素を埋めていく、という操作になる。"
      ],
      "metadata": {
        "id": "k0MITNnEP8Bn"
      }
    },
    {
      "cell_type": "code",
      "source": [
        "# ローメジャーオーダーの場合\n",
        "\n",
        "# 1次元配列→2次元配列\n",
        "a = np.arange(1, 13)\n",
        "# [ 1,  2,  3,  4,  5,  6,  7,  8,  9, 10, 11, 12]\n",
        "b = np.reshape(a, (3, -1))  # a.reshape(3, 4) と同じ\n",
        "print(f'{b!r}')\n",
        "\n",
        "# 2次元配列→2次元配列\n",
        "c = np.reshape(b, (-1, 3))  # b.reshape(4, 3) と同じ\n",
        "print(f'{c!r}')"
      ],
      "metadata": {
        "colab": {
          "base_uri": "https://localhost:8080/"
        },
        "id": "pn3MXhXXr1Fd",
        "outputId": "585b00da-b17f-415c-daeb-756483c6b237"
      },
      "execution_count": 7,
      "outputs": [
        {
          "output_type": "stream",
          "name": "stdout",
          "text": [
            "array([[ 1,  2,  3,  4],\n",
            "       [ 5,  6,  7,  8],\n",
            "       [ 9, 10, 11, 12]])\n",
            "array([[ 1,  2,  3],\n",
            "       [ 4,  5,  6],\n",
            "       [ 7,  8,  9],\n",
            "       [10, 11, 12]])\n"
          ]
        }
      ]
    },
    {
      "cell_type": "markdown",
      "source": [
        "`order` 引数に `'F'` を指定すると、もとの配列からカラムメジャーオーダーの順番で要素を取得し、新しい形状の配列にカラムメジャーオーダーの順番で要素を埋めていく形となる。"
      ],
      "metadata": {
        "id": "8Ms0u6-xwcYI"
      }
    },
    {
      "cell_type": "code",
      "source": [
        "# カラムメジャーオーダーの場合\n",
        "\n",
        "# 1次元配列→2次元配列\n",
        "a = np.arange(1, 13)\n",
        "# [ 1,  2,  3,  4,  5,  6,  7,  8,  9, 10, 11, 12]\n",
        "b = np.reshape(a, (3, -1), order='F')  # a.reshape(3, 4, order='F') と同じ\n",
        "print(f'{b!r}')\n",
        "\n",
        "# 2次元配列→2次元配列\n",
        "c = np.reshape(b, (-1, 3), order='F')  # b.reshape(4, 3, order='F') と同じ\n",
        "print(f'{c!r}')"
      ],
      "metadata": {
        "colab": {
          "base_uri": "https://localhost:8080/"
        },
        "outputId": "9fed7554-40b9-41e7-de99-c79cf36cc8e9",
        "id": "H6Z97IEzwh5B"
      },
      "execution_count": 8,
      "outputs": [
        {
          "output_type": "stream",
          "name": "stdout",
          "text": [
            "array([[ 1,  4,  7, 10],\n",
            "       [ 2,  5,  8, 11],\n",
            "       [ 3,  6,  9, 12]])\n",
            "array([[ 1,  5,  9],\n",
            "       [ 2,  6, 10],\n",
            "       [ 3,  7, 11],\n",
            "       [ 4,  8, 12]])\n"
          ]
        }
      ]
    },
    {
      "cell_type": "markdown",
      "source": [
        "新しい形状の指定として単独の整数 `-1` を指定すると、任意の配列を 1 次元化することができる。"
      ],
      "metadata": {
        "id": "r-LQC6sUpwxl"
      }
    },
    {
      "cell_type": "code",
      "source": [
        "a = np.arange(1, 13).reshape(3, -1)\n",
        "print(f\"{a!r}\")\n",
        "print(\"ローメジャーオーダー:\")\n",
        "print(f\"{np.reshape(a, -1)!r}\")\n",
        "print(\"カラムメジャーオーダー:\")\n",
        "a.reshape(-1, order='F')"
      ],
      "metadata": {
        "colab": {
          "base_uri": "https://localhost:8080/"
        },
        "id": "1b412lZ6m5G5",
        "outputId": "29988f56-f703-4e3c-f5cb-24ddc514570d"
      },
      "execution_count": null,
      "outputs": [
        {
          "output_type": "stream",
          "name": "stdout",
          "text": [
            "array([[ 1,  2,  3,  4],\n",
            "       [ 5,  6,  7,  8],\n",
            "       [ 9, 10, 11, 12]])\n",
            "ローメジャーオーダー:\n",
            "array([ 1,  2,  3,  4,  5,  6,  7,  8,  9, 10, 11, 12])\n",
            "カラムメジャーオーダー:\n"
          ]
        },
        {
          "output_type": "execute_result",
          "data": {
            "text/plain": [
              "array([ 1,  5,  9,  2,  6, 10,  3,  7, 11,  4,  8, 12])"
            ]
          },
          "metadata": {},
          "execution_count": 91
        }
      ]
    },
    {
      "cell_type": "markdown",
      "source": [
        "【NumPy 2.1 での変更点】  \n",
        "`numpy.reshape()` 関数の `newshape` 引数は `shape` へ引数名が変更され、互換性維持のため `newshape` キーワード専用引数が追加された。同時に `order` 引数もキーワード専用引数に変更された。 `ndarray.reshape()` メソッドの `shape` 引数は従前のままである。\n",
        "\n",
        "また、 `numpy.reshape()` 関数と `ndarray.reshape()` メソッドに新しい `copy` キーワード専用引数が追加され、`copy=True` を指定すると配列のコピーを返すようになった。 `copy` のデフォルトは `None` で、可能な限り配列のビューを返す。\n",
        "\n",
        "``` python\n",
        "numpy.ravel(a, order='C')\n",
        "ndarray.ravel([order])\n",
        "ndarray.flatten(order='C')\n",
        "```\n",
        "\n",
        "`numpy.ravel(a, order)` は `numpy.reshape(a, -1, order)` と同じ。ただし、 `order` 引数に `'K'` を指定することができる。 `a.ravel(order)` は `numpy.ravel(a, order)` と等価である。\n",
        "\n",
        "また、 `a.flatten()` は `a.ravel()` と同様に 1 次元化するが、常にコピーを返す。対応する Numpy 関数はない。 `a.flatten()` はメモリを新たに確保するため、`a.ravel()` よりも遅い。\n",
        "\n",
        "``` python\n",
        "ndarray.tolist()\n",
        "```\n",
        "\n",
        "このメソッドは、配列をネストされたリスト（多重リスト）に変換する。"
      ],
      "metadata": {
        "id": "b-E6zw0xm18E"
      }
    },
    {
      "cell_type": "code",
      "source": [
        "a = np.array([[1, 2], [3, 4]])\n",
        "a.tolist()"
      ],
      "metadata": {
        "colab": {
          "base_uri": "https://localhost:8080/"
        },
        "id": "bZSYF5WHsScr",
        "outputId": "48396c05-117b-4aa9-97f6-a2d7af678302"
      },
      "execution_count": null,
      "outputs": [
        {
          "output_type": "execute_result",
          "data": {
            "text/plain": [
              "[[1, 2], [3, 4]]"
            ]
          },
          "metadata": {},
          "execution_count": 2
        }
      ]
    },
    {
      "cell_type": "markdown",
      "source": [
        "### 軸の入れ替え・転置 ###"
      ],
      "metadata": {
        "id": "vGlOyFIR5Bdh"
      }
    },
    {
      "cell_type": "markdown",
      "source": [
        "``` python\n",
        "numpy.transpose(a, axes=None)\n",
        "ndarray.transpose(*axes)\n",
        "ndarray.T\n",
        "```\n",
        "\n",
        "配列と同じデータを含む軸を入れ替えた配列（ビュー）を返す。`ndarray.T` は `numpy.ndarray` の属性（読み取り専用プロパティ）であり、 `a.T` は `numpy.transpose(a)` と等価である。\n",
        "\n",
        "| 引数 | 意味 |\n",
        "|:---|:---|\n",
        "| `axes` | 軸の入れ替えを指定するタプルまたはリスト。`None`（デフォルト）の場合は軸の順序が逆になる |\n",
        "\n",
        "入力が 2 次元配列の場合、数学で言う行列の転置と同じ操作となる。"
      ],
      "metadata": {
        "id": "QrCcWX794MJo"
      }
    },
    {
      "cell_type": "code",
      "source": [
        "a = np.arange(1, 7).reshape(2, -1)\n",
        "print(f\"{a!r}\")\n",
        "np.transpose(a)  # a.transpose(), a.T と同じ"
      ],
      "metadata": {
        "colab": {
          "base_uri": "https://localhost:8080/"
        },
        "id": "-bB26pTnLo1D",
        "outputId": "3a6967a7-10f4-4068-ed0a-a4d450c29229"
      },
      "execution_count": null,
      "outputs": [
        {
          "output_type": "stream",
          "name": "stdout",
          "text": [
            "array([[1, 2, 3],\n",
            "       [4, 5, 6]])\n"
          ]
        },
        {
          "output_type": "execute_result",
          "data": {
            "text/plain": [
              "array([[1, 4],\n",
              "       [2, 5],\n",
              "       [3, 6]])"
            ]
          },
          "metadata": {},
          "execution_count": 92
        }
      ]
    },
    {
      "cell_type": "markdown",
      "source": [
        "上記のコードでは、行方向の軸（0 軸）と列方向の軸（1 軸）を入れ替えて、中の要素が次のように配置される:\n",
        "\n",
        "``` text\n",
        "     1軸                                                              0軸\n",
        "     ─→                                                             ─→\n",
        "   │a[0, 0] = 1,  a[0, 1] = 2,  a[0, 2] = 3,  np.transpose(a)      │a[0, 0] = 1,  a[1, 0] = 4,\n",
        "0軸↓a[1, 0] = 4,  a[1, 1] = 5,  a[1, 2] = 6,  ───────→  1軸↓a[0, 1] = 2,  a[1, 1] = 5,\n",
        "                                                                      a[0, 2] = 3,  a[1, 2] = 6,\n",
        "```\n",
        "\n",
        "入力の次元が 3 次元以上の場合、デフォルトでは軸の順序が逆になるが、軸の順番を指定することもできる。"
      ],
      "metadata": {
        "id": "StvMBu-WNL5j"
      }
    },
    {
      "cell_type": "code",
      "source": [
        "a = np.arange(1, 9).reshape(2, 2, 2)\n",
        "print(f\"{a!r}\")\n",
        "print(f\"{np.transpose(a)!r}\")  # a.transpose(), a.T と同じ\n",
        "np.transpose(a, (0, 2, 1))  # a.transpose(0, 2, 1) と同じ"
      ],
      "metadata": {
        "colab": {
          "base_uri": "https://localhost:8080/"
        },
        "id": "6ro-x3K-NMxM",
        "outputId": "7693d101-cc64-439a-ded7-b961339de111"
      },
      "execution_count": null,
      "outputs": [
        {
          "output_type": "stream",
          "name": "stdout",
          "text": [
            "array([[[1, 2],\n",
            "        [3, 4]],\n",
            "\n",
            "       [[5, 6],\n",
            "        [7, 8]]])\n",
            "array([[[1, 5],\n",
            "        [3, 7]],\n",
            "\n",
            "       [[2, 6],\n",
            "        [4, 8]]])\n"
          ]
        },
        {
          "output_type": "execute_result",
          "data": {
            "text/plain": [
              "array([[[1, 3],\n",
              "        [2, 4]],\n",
              "\n",
              "       [[5, 7],\n",
              "        [6, 8]]])"
            ]
          },
          "metadata": {},
          "execution_count": 93
        }
      ]
    },
    {
      "cell_type": "markdown",
      "source": [
        "上記のコードでまず軸の順番が逆になると、中の要素が次のように配置される:\n",
        "\n",
        "``` text\n",
        "          2軸                                                           0軸\n",
        "          ─→                                                          ─→\n",
        "   │   │a[0, 0, 0] = 1,  a[0, 0, 1] = 2,                       │   │a[0, 0, 0] = 1,  a[1, 0, 0] = 5,\n",
        "   │1軸↓a[0, 1, 0] = 3,  a[0, 1, 1] = 4,  np.transpose(a)      │1軸↓a[0, 1, 0] = 3,  a[1, 1, 0] = 7,\n",
        "0軸│     2軸                               ───────→  2軸│     0軸\n",
        "   │     ─→                                                   │     ─→\n",
        "   │   │a[1, 0, 0] = 5,  a[1, 0, 1] = 6,                       │   │a[0, 0, 1] = 2,  a[1, 0, 1] = 6,\n",
        "   ↓1軸↓a[1, 1, 0] = 7,  a[1, 1, 1] = 8,                       ↓1軸↓a[0, 1, 1] = 4,  a[1, 1, 1] = 8,\n",
        "```\n",
        "\n",
        "また、軸の順番を `(0, 2, 1)` に入れ替えると、中の要素が次のように配置される:\n",
        "\n",
        "``` text\n",
        "          2軸                                                           1軸\n",
        "          ─→                                                          ─→\n",
        "   │   │a[0, 0, 0] = 1,  a[0, 0, 1] = 2,                       │   │a[0, 0, 0] = 1,  a[0, 1, 0] = 3,\n",
        "   │1軸↓a[0, 1, 0] = 3,  a[0, 1, 1] = 4,  np.transpose(a)      │2軸↓a[0, 0, 1] = 2,  a[0, 1, 1] = 4,\n",
        "0軸│     2軸                               ───────→  0軸│     1軸\n",
        "   │     ─→                                                   │     ─→\n",
        "   │   │a[1, 0, 0] = 5,  a[1, 0, 1] = 6,                       │   │a[1, 0, 0] = 5,  a[1, 1, 0] = 7,\n",
        "   ↓1軸↓a[1, 1, 0] = 7,  a[1, 1, 1] = 8,                       ↓2軸↓a[1, 0, 1] = 6,  a[1, 1, 1] = 8,\n",
        "```\n",
        "\n",
        "入力が 1 次元配列の場合、軸が 1 つしかないので `numpy.transpose()` はもとの配列そのままのビューを返すだけとなる。線形代数では、縦ベクトルと横ベクトルの区別があって転置で互いに変換されるが、 `numpy.ndarray` の 1 次元配列はそのような区別がなく、数学で言うところのベクトルとは厳密には異なる。"
      ],
      "metadata": {
        "id": "_1Ipz9AqzsU-"
      }
    },
    {
      "cell_type": "code",
      "source": [
        "a = np.array([1, 2, 3])\n",
        "np.transpose(a)  # 1 次元配列ではもとの配列そのままのビューを返す"
      ],
      "metadata": {
        "colab": {
          "base_uri": "https://localhost:8080/"
        },
        "id": "K81_x0rlROW9",
        "outputId": "28cbc9bb-e87b-4928-89d4-8fc4b8d6dd62"
      },
      "execution_count": null,
      "outputs": [
        {
          "output_type": "execute_result",
          "data": {
            "text/plain": [
              "array([1, 2, 3])"
            ]
          },
          "metadata": {},
          "execution_count": 94
        }
      ]
    },
    {
      "cell_type": "markdown",
      "source": [
        "縦ベクトルや横ベクトルを区別して表現するには、それぞれ列数が 1 である 2 次元の配列と、行数が 1 である 2 次元配列を用いる。たとえば、`numpy.arange(5)[numpy.newaxis, :].T` は `numpy.arange(5)[:, numpy.newaxis]` と同等である。"
      ],
      "metadata": {
        "id": "CrHczPlI0qbb"
      }
    },
    {
      "cell_type": "code",
      "source": [
        "a = np.arange(5)[np.newaxis, :].T\n",
        "assert a.shape == np.arange(5)[:, np.newaxis].shape == (5, 1)\n",
        "a"
      ],
      "metadata": {
        "colab": {
          "base_uri": "https://localhost:8080/"
        },
        "id": "bpVJs-c-0pM1",
        "outputId": "1b800bc7-3422-4e70-ffae-2e00ba0fd9e4"
      },
      "execution_count": null,
      "outputs": [
        {
          "output_type": "execute_result",
          "data": {
            "text/plain": [
              "array([[0],\n",
              "       [1],\n",
              "       [2],\n",
              "       [3],\n",
              "       [4]])"
            ]
          },
          "metadata": {},
          "execution_count": 95
        }
      ]
    },
    {
      "cell_type": "markdown",
      "source": [
        "### 分割 ###"
      ],
      "metadata": {
        "id": "FDEzKU0mP7d0"
      }
    },
    {
      "cell_type": "markdown",
      "source": [
        "``` python\n",
        "numpy.split(ary, indices_or_sections, axis=0)\n",
        "numpy.array_split(ary, indices_or_sections, axis=0)\n",
        "```\n",
        "\n",
        "これらの関数は、第 1 引数の配列 `ary` を第 2 引数と第 3 引数で指定する方法で分割する。戻り値は、分割された配列（もとの配列のビュー）のリスト。\n",
        "\n",
        "  * 第 2 引数が整数 `N` の場合、 `ary` は第 3 引数の軸に沿って `N` 等分に分割される。このような分割が不可能な場合（つまり割り切れないような整数を指定した場合）は、 `numpy.split()` 関数では `ValueError` 例外が発生するのに対して、 `numpy.array_split()` 関数ではできるだけ等分割になるように分割する。\n",
        "  * 第 2 引数がソートされた整数の 1 次元配列（array-like オブジェクトも可）である場合、そのエントリーは `ary` が軸に沿って分割される位置を示す。例えば、`[2, 3]` と指定した場合、 `axis=0` なら、3 つの配列 `ary[:2]` と `ary[2:3]` と `ary[3:]` に分割される。インデックスが軸に沿った配列の次元を超える場合、それに応じて空のサブ配列が返される。\n",
        "  * 第 3 引数の軸はデフォルトで `0` 軸。存在しない軸を指定すると `ValueError` 例外が発生する。"
      ],
      "metadata": {
        "id": "EDICX1zYP8t-"
      }
    },
    {
      "cell_type": "code",
      "source": [
        "# 行列の行を 2 等分する\n",
        "a = np.arange(8).reshape(4, 2)\n",
        "b, c = np.split(a, 2)\n",
        "a, b, c"
      ],
      "metadata": {
        "colab": {
          "base_uri": "https://localhost:8080/"
        },
        "id": "EbgAoSrMXBYD",
        "outputId": "75ccf25c-80f4-4612-c937-758da1ace62f"
      },
      "execution_count": null,
      "outputs": [
        {
          "output_type": "execute_result",
          "data": {
            "text/plain": [
              "(array([[0, 1],\n",
              "        [2, 3],\n",
              "        [4, 5],\n",
              "        [6, 7]]),\n",
              " array([[0, 1],\n",
              "        [2, 3]]),\n",
              " array([[4, 5],\n",
              "        [6, 7]]))"
            ]
          },
          "metadata": {},
          "execution_count": 96
        }
      ]
    },
    {
      "cell_type": "code",
      "source": [
        "# 3 次元配列を各行列の列で 3 等分する\n",
        "a = np.full((2, 2, 3), [0, 1, 2])\n",
        "b, c, d = np.split(a, 3, axis=2)\n",
        "a, b, c, d"
      ],
      "metadata": {
        "colab": {
          "base_uri": "https://localhost:8080/"
        },
        "id": "9ZERsFnlYCx9",
        "outputId": "218e3cd0-85a4-4ddc-e794-135aa72045e0"
      },
      "execution_count": null,
      "outputs": [
        {
          "output_type": "execute_result",
          "data": {
            "text/plain": [
              "(array([[[0, 1, 2],\n",
              "         [0, 1, 2]],\n",
              " \n",
              "        [[0, 1, 2],\n",
              "         [0, 1, 2]]]),\n",
              " array([[[0],\n",
              "         [0]],\n",
              " \n",
              "        [[0],\n",
              "         [0]]]),\n",
              " array([[[1],\n",
              "         [1]],\n",
              " \n",
              "        [[1],\n",
              "         [1]]]),\n",
              " array([[[2],\n",
              "         [2]],\n",
              " \n",
              "        [[2],\n",
              "         [2]]]))"
            ]
          },
          "metadata": {},
          "execution_count": 97
        }
      ]
    },
    {
      "cell_type": "code",
      "source": [
        "# np.array_split() は割り切れない整数でも、できるだけ等分割になるように分割する\n",
        "a = np.arange(8)\n",
        "# [0, 1, 2, 3, 4, 5, 6, 7]\n",
        "np.array_split(a, 3)"
      ],
      "metadata": {
        "colab": {
          "base_uri": "https://localhost:8080/"
        },
        "id": "BN4JBzcMi1Q-",
        "outputId": "792d1b28-0a20-4b30-8093-f52c426e61d1"
      },
      "execution_count": 5,
      "outputs": [
        {
          "output_type": "execute_result",
          "data": {
            "text/plain": [
              "[array([0, 1, 2]), array([3, 4, 5]), array([6, 7])]"
            ]
          },
          "metadata": {},
          "execution_count": 5
        }
      ]
    },
    {
      "cell_type": "code",
      "source": [
        "# ベクトルを指定した位置で分割する\n",
        "a = np.arange(10)\n",
        "b, c, d = np.split(a, [2, 10])\n",
        "a, b, c, d  # d は空のベクトルとなる"
      ],
      "metadata": {
        "colab": {
          "base_uri": "https://localhost:8080/"
        },
        "id": "sqB_OYAxUeul",
        "outputId": "aed1f63f-ded4-44a8-9e65-e5390466fde9"
      },
      "execution_count": null,
      "outputs": [
        {
          "output_type": "execute_result",
          "data": {
            "text/plain": [
              "(array([0, 1, 2, 3, 4, 5, 6, 7, 8, 9]),\n",
              " array([0, 1]),\n",
              " array([2, 3, 4, 5, 6, 7, 8, 9]),\n",
              " array([], dtype=int64))"
            ]
          },
          "metadata": {},
          "execution_count": 99
        }
      ]
    },
    {
      "cell_type": "code",
      "source": [
        "# 行列の列を指定した位置で分割する\n",
        "a = np.arange(10).reshape(2, -1)\n",
        "b, c, d = np.split(a, [2, 6], axis=1)\n",
        "a, b, c, d  # d は空の 2x0 行列となる"
      ],
      "metadata": {
        "colab": {
          "base_uri": "https://localhost:8080/"
        },
        "id": "jOl9HXwqZVYG",
        "outputId": "0840346a-f300-424e-a001-e4ad958016e9"
      },
      "execution_count": null,
      "outputs": [
        {
          "output_type": "execute_result",
          "data": {
            "text/plain": [
              "(array([[0, 1, 2, 3, 4],\n",
              "        [5, 6, 7, 8, 9]]),\n",
              " array([[0, 1],\n",
              "        [5, 6]]),\n",
              " array([[2, 3, 4],\n",
              "        [7, 8, 9]]),\n",
              " array([], shape=(2, 0), dtype=int64))"
            ]
          },
          "metadata": {},
          "execution_count": 100
        }
      ]
    },
    {
      "cell_type": "markdown",
      "source": [
        "``` python\n",
        "numpy.vsplit(ary, indices_or_sections)\n",
        "```\n",
        "\n",
        "この関数は `numpy.split(ary, indices_or_sections, 0)` と同じ。\n",
        "\n",
        "``` python\n",
        "numpy.hsplit(ary, indices_or_sections)\n",
        "```\n",
        "\n",
        "この関数は\n",
        "\n",
        "  * `ary` が 1 次元配列なら `numpy.split(ary, indices_or_sections, 0)` と同じ\n",
        "  * `ary` が 2 次元以上の配列なら `numpy.split(ary, indices_or_sections, 1)` と同じ\n",
        "\n",
        "``` python\n",
        "numpy.dsplit(ary, indices_or_sections)\n",
        "```\n",
        "\n",
        "この関数は `numpy.split(ary, indices_or_sections, 2)` と同じ。 `ary` が 1 次元配列や 2 次元配列の場合は `ValueError` 例外が発生する。"
      ],
      "metadata": {
        "id": "Gr3CDLiAk3_k"
      }
    },
    {
      "cell_type": "markdown",
      "source": [
        "### 結合 ###"
      ],
      "metadata": {
        "id": "kvuLJdDQnJvB"
      }
    },
    {
      "cell_type": "markdown",
      "source": [
        "``` python\n",
        "numpy.concatenate((a1, a2, ...), axis=0, out=None, dtype=None, casting=\"same_kind\")\n",
        "```\n",
        "\n",
        "この関数は、配列または array-like オブジェクトのシーケンスに対して、既存の軸 `axis` 沿って結合された新しい配列を返す。 `axis` に存在しない軸を指定すると `ValueError` 例外が発生する。 `axis=-1` は最後の次元（軸）を指定する。 `axis` 以外の軸ではサイズが一致していないと `ValueError` 例外が発生する。\n",
        "\n",
        "`out` 引数に出力先の配列を指定できる。指定する場合は、結合した結果の配列と形状が一致する必要がある。\n",
        "\n",
        "`casting` 引数には、結合に際して型変換が必要な場合に型変換のポリシーを指定する。 `casting` のデフォルト値は `same_kind`。"
      ],
      "metadata": {
        "id": "qKPBr20FnKr4"
      }
    },
    {
      "cell_type": "code",
      "source": [
        "# 2 つの異なる型のベクトルの結合\n",
        "a = np.arange(0, 5)\n",
        "b = np.arange(-1., -6, -1.)\n",
        "np.concatenate((a, b))  # 型変換が行われる"
      ],
      "metadata": {
        "colab": {
          "base_uri": "https://localhost:8080/"
        },
        "id": "owETR0Djzc39",
        "outputId": "993bf52b-2dc3-4883-8c04-79daa2b72d9e"
      },
      "execution_count": null,
      "outputs": [
        {
          "output_type": "execute_result",
          "data": {
            "text/plain": [
              "array([ 0.,  1.,  2.,  3.,  4., -1., -2., -3., -4., -5.])"
            ]
          },
          "metadata": {},
          "execution_count": 101
        }
      ]
    },
    {
      "cell_type": "code",
      "source": [
        "# 2 つの行列の結合\n",
        "a = np.array([[1, 2],\n",
        "              [3, 4]])\n",
        "b = np.array([[5, 6]])\n",
        "np.concatenate((a, b)), np.concatenate((a, b.T), axis=-1)"
      ],
      "metadata": {
        "colab": {
          "base_uri": "https://localhost:8080/"
        },
        "id": "m8tWrDOmvC7v",
        "outputId": "edac1786-0a5f-4123-dda0-eb8de48bd7be"
      },
      "execution_count": null,
      "outputs": [
        {
          "output_type": "execute_result",
          "data": {
            "text/plain": [
              "(array([[1, 2],\n",
              "        [3, 4],\n",
              "        [5, 6]]),\n",
              " array([[1, 2, 5],\n",
              "        [3, 4, 6]]))"
            ]
          },
          "metadata": {},
          "execution_count": 102
        }
      ]
    },
    {
      "cell_type": "markdown",
      "source": [
        "``` python\n",
        "numpy.vstack(tup, *, dtype=None, casting='same_kind')\n",
        "```\n",
        "\n",
        "この関数は\n",
        "\n",
        "  * `tup` が形状 `(N,)` の 1 次元配列のシーケンスなら、その配列がそれぞれ `(1, N)` に形状変更された上で最初の軸に沿った `numpy.concatenate()` を適用されるのと同じ\n",
        "  * `tup` が 2 次元以上の配列のシーケンスなら、 `numpy.concatenate(tup)` と同じ\n",
        "\n",
        "`numpy.vsplit()` 関数で分割された配列を再構築することができる。"
      ],
      "metadata": {
        "id": "5NbAMHoWc1BL"
      }
    },
    {
      "cell_type": "code",
      "source": [
        "a = np.array([1, 2, 3])\n",
        "b = np.array([4, 5, 6])\n",
        "np.vstack((a, b))  # np.concatenate((a[np.newaxis], b[np.newaxis])) と同じ"
      ],
      "metadata": {
        "colab": {
          "base_uri": "https://localhost:8080/"
        },
        "id": "rINPKjTYc2ja",
        "outputId": "4fad4dd5-7159-4ff6-a94c-10351abd2998"
      },
      "execution_count": null,
      "outputs": [
        {
          "output_type": "execute_result",
          "data": {
            "text/plain": [
              "array([[1, 2, 3],\n",
              "       [4, 5, 6]])"
            ]
          },
          "metadata": {},
          "execution_count": 103
        }
      ]
    },
    {
      "cell_type": "markdown",
      "source": [
        "``` python\n",
        "numpy.hstack(tup, *, dtype=None, casting='same_kind')\n",
        "```\n",
        "\n",
        "この関数は `numpy.concatenate(tup, axis=1)` と同じ。 `numpy.hsplit()` 関数で分割された配列を再構築することができる。\n",
        "\n",
        "``` python\n",
        "numpy.dstack(tup)\n",
        "```\n",
        "\n",
        "この関数は\n",
        "\n",
        "  * `tup` が形状 `(N,)` の 1 次元配列のシーケンスなら、その配列がそれぞれ `(1, N, 1)` に形状変更された上で 2 軸（3番目の軸）に沿った `numpy.concatenate()` を適用されるのと同じ\n",
        "  * `tup` が形状 `(M, N)` の 2 次元配列のシーケンスなら、その配列がそれぞれ `(M, N, 1)`  に形状変更された上で 2 軸（3番目の軸）に沿った `numpy.concatenate()` を適用されるのと同じ\n",
        "  * `tup` が 3 次元以上の配列なら `numpy.concatenate(tup, axis=2)` と同じ\n",
        "\n",
        "`numpy.dsplit()` 関数で分割された配列を再構築することができる。"
      ],
      "metadata": {
        "id": "rco6HR57as_L"
      }
    },
    {
      "cell_type": "code",
      "source": [
        "# 1 次元配列のシーケンスの場合\n",
        "a = np.array([1, 2, 3])\n",
        "b = np.array([4, 5, 6])\n",
        "np.dstack((a, b))  # np.concatenate((a.reshape(1, -1, 1), b.reshape(1, -1, 1)), axis=2) と同じ"
      ],
      "metadata": {
        "colab": {
          "base_uri": "https://localhost:8080/"
        },
        "id": "_D0KiekL-39A",
        "outputId": "dc991dd9-980c-4c44-8c05-c64e771d62b7"
      },
      "execution_count": null,
      "outputs": [
        {
          "output_type": "execute_result",
          "data": {
            "text/plain": [
              "array([[[1, 4],\n",
              "        [2, 5],\n",
              "        [3, 6]]])"
            ]
          },
          "metadata": {},
          "execution_count": 104
        }
      ]
    },
    {
      "cell_type": "code",
      "source": [
        "# 2 次元配列のシーケンスの場合\n",
        "a = np.array([[ 1,  2,  3],\n",
        "              [ 4,  5,  6]])\n",
        "b = np.array([[11, 12, 13],\n",
        "              [14, 15, 16]])\n",
        "np.dstack((a, b))  # np.concatenate((a[:, :, np.newaxis], b[:, :, np.newaxis]), axis=2) と同じ"
      ],
      "metadata": {
        "colab": {
          "base_uri": "https://localhost:8080/"
        },
        "id": "l2EpJynnFOzm",
        "outputId": "8595b564-f241-4c2c-9906-c0cddba97b95"
      },
      "execution_count": null,
      "outputs": [
        {
          "output_type": "execute_result",
          "data": {
            "text/plain": [
              "array([[[ 1, 11],\n",
              "        [ 2, 12],\n",
              "        [ 3, 13]],\n",
              "\n",
              "       [[ 4, 14],\n",
              "        [ 5, 15],\n",
              "        [ 6, 16]]])"
            ]
          },
          "metadata": {},
          "execution_count": 105
        }
      ]
    },
    {
      "cell_type": "markdown",
      "source": [
        "``` python\n",
        "numpy.block(arrays)\n",
        "```\n",
        "\n",
        "この関数は、配列または array-like オブジェクトの（ネストされた）リストから新しい配列を組み立てる。\n",
        "\n",
        "最も内側のリストのブロックは最後の次元（`-1`）に沿って `numpy.concatenate()` が適用され、次に最後から 2 番目の次元（`-2`）に沿って `numpy.concatenate()` が適用され、最も外側のリストに到達するまで続く。\n",
        "\n",
        "1 次元または 2 次元の配列のリストでは、リストの内側では横方向に配列を配置することになり、ネストされたリストの外側では縦方向に配列を配置することになる。"
      ],
      "metadata": {
        "id": "gg9rTCHq-4st"
      }
    },
    {
      "cell_type": "code",
      "source": [
        "# 1 次元配列の場合\n",
        "a = np.array([1, 2, 3])\n",
        "b = np.array([4, 5, 6])\n",
        "(np.block([a, b]),\n",
        " np.block([[a],\n",
        "           [b]]))"
      ],
      "metadata": {
        "colab": {
          "base_uri": "https://localhost:8080/"
        },
        "id": "lH5qiJxHauIm",
        "outputId": "e3a67c0e-a76c-4656-ade4-e0bf7b0d3d53"
      },
      "execution_count": null,
      "outputs": [
        {
          "output_type": "execute_result",
          "data": {
            "text/plain": [
              "(array([1, 2, 3, 4, 5, 6]),\n",
              " array([[1, 2, 3],\n",
              "        [4, 5, 6]]))"
            ]
          },
          "metadata": {},
          "execution_count": 106
        }
      ]
    },
    {
      "cell_type": "code",
      "source": [
        "# 2 次元配列の場合\n",
        "a = np.arange(1, 7).reshape(2, 3)\n",
        "b = np.arange(11, 17).reshape(2, 3)\n",
        "(np.block([a, b]),\n",
        " np.block([[a],\n",
        "           [b]]))"
      ],
      "metadata": {
        "colab": {
          "base_uri": "https://localhost:8080/"
        },
        "id": "H8gMraywke_S",
        "outputId": "a2e625c8-34de-4039-de71-605e9df1f65a"
      },
      "execution_count": null,
      "outputs": [
        {
          "output_type": "execute_result",
          "data": {
            "text/plain": [
              "(array([[ 1,  2,  3, 11, 12, 13],\n",
              "        [ 4,  5,  6, 14, 15, 16]]),\n",
              " array([[ 1,  2,  3],\n",
              "        [ 4,  5,  6],\n",
              "        [11, 12, 13],\n",
              "        [14, 15, 16]]))"
            ]
          },
          "metadata": {},
          "execution_count": 107
        }
      ]
    },
    {
      "cell_type": "markdown",
      "source": [
        "リストの中のブロックは、通常のルールを使用してブロードキャストされることはない。ただし、先頭に軸が追加され、その次元ではサイズが 1 の配列とするような形状変更によりブロックの次元数を一致させるということは行われる。これは主にスカラーを扱う場合に便利で、`np.block([v, 1])`（`v.ndim == 1`）のようなコードが有効であることを意味する。"
      ],
      "metadata": {
        "id": "Vr_S7CKkl9ql"
      }
    },
    {
      "cell_type": "code",
      "source": [
        "a = np.block([1, 2, 3])  # np.hstack([[1], [2], [3]]) と同じ\n",
        "a, np.block([a, 4, 5])"
      ],
      "metadata": {
        "colab": {
          "base_uri": "https://localhost:8080/"
        },
        "id": "BU2lKFUEmD7V",
        "outputId": "65ae0833-4c95-48d8-d3d7-4836dd21df57"
      },
      "execution_count": null,
      "outputs": [
        {
          "output_type": "execute_result",
          "data": {
            "text/plain": [
              "(array([1, 2, 3]), array([1, 2, 3, 4, 5]))"
            ]
          },
          "metadata": {},
          "execution_count": 108
        }
      ]
    },
    {
      "cell_type": "markdown",
      "source": [
        "``` python\n",
        "numpy.stack(arrays, axis=0, out=None, *, dtype=None, casting='same_kind')\n",
        "```\n",
        "\n",
        "この関数は、配列または array-like オブジェクトのシーケンスに対して、新しい軸 `axis` に沿って積み重ねたような新しい配列を返す。戻り値の配列は、入力配列よりも次元数が 1 つ多くなる。\n",
        "\n",
        "入力配列は形状が一致している必要がある。形状が一致していない場合は、 `ValueError` 例外が発生する。\n",
        "\n",
        "`axis` 引数は、出力される結合配列における軸のインデックスを指定する。例えば、`axis=0`（デフォルト）の場合は最初の次元になり、`axis=-1` の場合は最後の次元になる。\n",
        "\n",
        "その他の引数は `numpy.concatenate()` と同様。\n",
        "\n",
        "1 次元配列のシーケンス `arrays` にする `numpy.stack(arrays)` は `numpy.vstack(arrays)` と等価である。\n",
        "\n",
        "2 次元の配列のシーケンス `arrays` にする `numpy.stack(arrays, axis=2)` は `numpy.dstack(arrays)` と等価である。"
      ],
      "metadata": {
        "id": "RzTg483bI4b3"
      }
    },
    {
      "cell_type": "code",
      "source": [
        "# 1 次元配列同士のスタック\n",
        "a = np.array([1, 2, 3])\n",
        "b = np.array([4, 5, 6])\n",
        "np.stack((a, b)), np.stack((a, b), axis=-1)"
      ],
      "metadata": {
        "colab": {
          "base_uri": "https://localhost:8080/"
        },
        "id": "l4vZz145I8Iw",
        "outputId": "ba5b89b3-efa1-4cda-e093-636144f0ef62"
      },
      "execution_count": null,
      "outputs": [
        {
          "output_type": "execute_result",
          "data": {
            "text/plain": [
              "(array([[1, 2, 3],\n",
              "        [4, 5, 6]]),\n",
              " array([[1, 4],\n",
              "        [2, 5],\n",
              "        [3, 6]]))"
            ]
          },
          "metadata": {},
          "execution_count": 109
        }
      ]
    },
    {
      "cell_type": "code",
      "source": [
        "# 2 次元配列同士のスタック\n",
        "a = np.array([[ 1,  2,  3],\n",
        "              [ 4,  5,  6]])\n",
        "b = np.array([[11, 12, 13],\n",
        "              [14, 15, 16]])\n",
        "np.stack((a, b)), np.stack((a, b), axis=-1)"
      ],
      "metadata": {
        "colab": {
          "base_uri": "https://localhost:8080/"
        },
        "id": "ozKKdv-APyoB",
        "outputId": "95ebf085-2397-4379-9e91-006431cfe0f8"
      },
      "execution_count": null,
      "outputs": [
        {
          "output_type": "execute_result",
          "data": {
            "text/plain": [
              "(array([[[ 1,  2,  3],\n",
              "         [ 4,  5,  6]],\n",
              " \n",
              "        [[11, 12, 13],\n",
              "         [14, 15, 16]]]),\n",
              " array([[[ 1, 11],\n",
              "         [ 2, 12],\n",
              "         [ 3, 13]],\n",
              " \n",
              "        [[ 4, 14],\n",
              "         [ 5, 15],\n",
              "         [ 6, 16]]]))"
            ]
          },
          "metadata": {},
          "execution_count": 110
        }
      ]
    },
    {
      "cell_type": "markdown",
      "source": [
        "### 削除 ###"
      ],
      "metadata": {
        "id": "pEp9z_cb4wrj"
      }
    },
    {
      "cell_type": "markdown",
      "source": [
        "``` python\n",
        "numpy.delete(arr, obj, axis=None)\n",
        "```\n",
        "\n",
        "この関数は、入力された配列に対して軸に沿った部分配列が削除された新しい配列（コピー）を返す。\n",
        "\n",
        "| 引数 | 意味 |\n",
        "|:---|:---|\n",
        "| `arr` | 操作の対象となる配列または array-like オブジェクト。この関数は、`arr` 自体を変更しない |\n",
        "| `obj` | 削除すべき部分配列を指定するインデックスを、整数やスライス、リスト（配列）で指定する |\n",
        "| `axis` | `obj` の指定がどの軸での意味であるかを指定する。`axis` が `None`（デフォルト）の場合、`obj` は 1 次元化された配列に適用される |"
      ],
      "metadata": {
        "id": "6fbO4ZVq4xbT"
      }
    },
    {
      "cell_type": "code",
      "source": [
        "# 行の削除\n",
        "a = np.arange(12).reshape(3, 4)\n",
        "b = np.delete(a, 1, axis=0) # 2 行目を削除\n",
        "c = np.delete(a, [0, 2], axis=0) # 1 行目と 3 行目を削除\n",
        "d = np.delete(a, slice(2), axis=0) # 1 行目と 2 行目を削除\n",
        "a, b, c, d  # a は変更されない"
      ],
      "metadata": {
        "colab": {
          "base_uri": "https://localhost:8080/"
        },
        "id": "o5VqO7vu-t-X",
        "outputId": "8cc70d7d-957e-4e3b-c36e-e61a73dc570e"
      },
      "execution_count": null,
      "outputs": [
        {
          "output_type": "execute_result",
          "data": {
            "text/plain": [
              "(array([[ 0,  1,  2,  3],\n",
              "        [ 4,  5,  6,  7],\n",
              "        [ 8,  9, 10, 11]]),\n",
              " array([[ 0,  1,  2,  3],\n",
              "        [ 8,  9, 10, 11]]),\n",
              " array([[4, 5, 6, 7]]),\n",
              " array([[ 8,  9, 10, 11]]))"
            ]
          },
          "metadata": {},
          "execution_count": 111
        }
      ]
    },
    {
      "cell_type": "markdown",
      "source": [
        "`numpy.s_[]` を使うとスライスに使用する添字表記 `[start:stop:step]` を記述できる。"
      ],
      "metadata": {
        "id": "S1dYfymwQ6LV"
      }
    },
    {
      "cell_type": "code",
      "source": [
        "# 列の削除\n",
        "a = np.arange(12).reshape(3, 4)\n",
        "b = np.delete(a, 1, axis=1) # 2 列目を削除\n",
        "c = np.delete(a, [1, 2], axis=1) # 2 列目と 3 列目を削除\n",
        "d = np.delete(a, np.s_[::2], axis=1) # 1 行目と 3 行目を削除\n",
        "a, b, c, d  # a は変更されない"
      ],
      "metadata": {
        "colab": {
          "base_uri": "https://localhost:8080/"
        },
        "outputId": "db4ae367-8284-4349-c01d-7076b3c44c60",
        "id": "bLvuyopS_i6K"
      },
      "execution_count": null,
      "outputs": [
        {
          "output_type": "execute_result",
          "data": {
            "text/plain": [
              "(array([[ 0,  1,  2,  3],\n",
              "        [ 4,  5,  6,  7],\n",
              "        [ 8,  9, 10, 11]]),\n",
              " array([[ 0,  2,  3],\n",
              "        [ 4,  6,  7],\n",
              "        [ 8, 10, 11]]),\n",
              " array([[ 0,  3],\n",
              "        [ 4,  7],\n",
              "        [ 8, 11]]),\n",
              " array([[ 1,  3],\n",
              "        [ 5,  7],\n",
              "        [ 9, 11]]))"
            ]
          },
          "metadata": {},
          "execution_count": 112
        }
      ]
    },
    {
      "cell_type": "markdown",
      "source": [
        "`axis` が `None` の場合、配列を 1 次元に平坦化したものに対して削除が行われる。"
      ],
      "metadata": {
        "id": "x0Ugs7ieXcEb"
      }
    },
    {
      "cell_type": "code",
      "source": [
        "# axis=None の場合\n",
        "a = np.arange(12).reshape(3, 4)\n",
        "# [[ 0  1  2  3]\n",
        "#  [ 4  5  6  7]\n",
        "#  [ 8  9 10 11]]\n",
        "np.delete(a, slice(9, None))  # 1 次元化された配列の 10 番目以降の要素が削除される"
      ],
      "metadata": {
        "colab": {
          "base_uri": "https://localhost:8080/"
        },
        "id": "F9LWSQOCBvxX",
        "outputId": "b9c3c7c7-ea4c-4ee8-c7ef-446d0d2afddf"
      },
      "execution_count": 4,
      "outputs": [
        {
          "output_type": "execute_result",
          "data": {
            "text/plain": [
              "array([0, 1, 2, 3, 4, 5, 6, 7, 8])"
            ]
          },
          "metadata": {},
          "execution_count": 4
        }
      ]
    },
    {
      "cell_type": "markdown",
      "source": [
        "### 挿入・追加 ###"
      ],
      "metadata": {
        "id": "UIsE_RVSfY-0"
      }
    },
    {
      "cell_type": "markdown",
      "source": [
        "``` python\n",
        "numpy.insert(arr, obj, values, axis=None)\n",
        "```\n",
        "\n",
        "この関数は、指定された軸の上の指定されたインデックスの前に値が挿入された新しい配列（コピー）を返す。\n",
        "\n",
        "| 引数 | 意味 |\n",
        "|:---|:---|\n",
        "| `arr` | 操作の対象となる配列または array-like オブジェクト。この関数は、 `arr` 自体を変更しない |\n",
        "| `obj` | 挿入位置となるインデックスを、整数やスライス、シーケンスで指定する |\n",
        "| `values` | `arr` に挿入する値。単一の値または array-like オブジェクトを指定できる |\n",
        "| `axis` | `obj` の指定がどの軸での意味であるかを指定する。`axis` が `None`（デフォルト）の場合、`obj` は 1 次元化された配列に適用される |\n",
        "\n",
        "`axis` が整数の場合、挿入は以下のように行われる。\n",
        "\n",
        "  1. もとの配列の `axis` 上のサイズを `obj` の個数分増やしただけの形状で戻り値となる配列を用意する。\n",
        "  2. `values` の `axis` 上のサイズが `obj` の個数と一致し、かつ、`values` の他のサイズが対応する `arr` の各次元のサイズと一致する場合、 `values` の `axis` 上の部分配列と `obj` がペア対応して `axis` 上の `obj` の各位置にそれぞれ部分配列を挿入する。\n",
        "  3. 2 に該当しない場合\n",
        "      * `obj` が整数（または 1 個の整数だけを持つスライス、シーケンス）なら、 `axis` 上の `obj` の位置に `values` 全体を挿入する。もし `values` の `axis` 以外のサイズと対応する `arr` の各次元のサイズが一致しないなら、 `values` に対してブロードキャストを行ったうえで `values` 全体を挿入する。ブロードキャスト不可能なら `ValueError` 例外が発生する。\n",
        "      * `obj` がスライスやシーケンスなら、 `values` に対してブロードキャストを行ったうえで 2 の処理をする。 `values` がブロードキャス不可能なら、 `ValueError` 例外が発生する。\n",
        "  4. `values` の型が `arr` の型と異なる場合、 `values` は `arr` の型に暗黙的に変換される。\n",
        "\n",
        "この関数は、 `arr` 自体を変更しない。\n",
        "\n",
        "``` text\n",
        "【行列の列に挿入する場合】\n",
        "\n",
        "  入力配列             新しい配列\n",
        "┏━━━━┓          ┏━━━━┓\n",
        "┃ [0, 1] ┃          ┃ [0, 1] ┃\n",
        "┣━━━━┫ ⇒       ┠────┨    ┏━━━━┓      values\n",
        "┃ [2, 3] ┃    obj[0]┃        ┃ ← ┃ [4, 5] ┃   ┏━━━━┓\n",
        "┗━━━━┛          ┣━━━━┫    ┗━━━━┛ ↖ ┃ [4, 5] ┃\n",
        "                      ┃ [2, 3] ┃                   ┣━━━━┫\n",
        "                      ┠────┨    ┏━━━━┓   ┃ [6, 7] ┃\n",
        "                obj[1]┃        ┃ ← ┃ [6, 7] ┃ ↙ ┗━━━━┛\n",
        "                      ┗━━━━┛    ┗━━━━┛\n",
        "                          ⇓\n",
        "                      ┏━━━━┓\n",
        "                      ┃ [0, 1] ┃\n",
        "                      ┣━━━━┫\n",
        "                      ┃ [4, 5] ┃\n",
        "                      ┣━━━━┫\n",
        "                      ┃ [2, 3] ┃\n",
        "                      ┣━━━━┫\n",
        "                      ┃ [6, 7] ┃\n",
        "                      ┗━━━━┛\n",
        "```"
      ],
      "metadata": {
        "id": "__pzJi_BLT24"
      }
    },
    {
      "cell_type": "code",
      "source": [
        "# 行の挿入\n",
        "a = np.array([[0, 1, 2],\n",
        "              [3, 4, 5]])\n",
        "b = np.insert(a, [1, 2], [[6, 7, 8], [9, 10, 11]], axis=0)\n",
        "c = np.insert(a, 0, [[6, 7, 8], [9, 10, 11]], axis=0)  # values 全体を挿入する\n",
        "d = np.insert(a, 1, 6, axis=0)  # 値を繰り返す形で values を引き延ばす\n",
        "e = np.insert(a, [1, 2], [6, 7, 8], axis=0)  # values にブロードキャストを行う\n",
        "b, c, d, e"
      ],
      "metadata": {
        "colab": {
          "base_uri": "https://localhost:8080/"
        },
        "id": "SzUg28Y7S11E",
        "outputId": "c87a8ae2-e4bc-4351-b20d-72b70cf84fb2"
      },
      "execution_count": 33,
      "outputs": [
        {
          "output_type": "execute_result",
          "data": {
            "text/plain": [
              "(array([[ 0,  1,  2],\n",
              "        [ 6,  7,  8],\n",
              "        [ 3,  4,  5],\n",
              "        [ 9, 10, 11]]),\n",
              " array([[ 6,  7,  8],\n",
              "        [ 9, 10, 11],\n",
              "        [ 0,  1,  2],\n",
              "        [ 3,  4,  5]]),\n",
              " array([[0, 1, 2],\n",
              "        [6, 6, 6],\n",
              "        [3, 4, 5]]),\n",
              " array([[0, 1, 2],\n",
              "        [6, 7, 8],\n",
              "        [3, 4, 5],\n",
              "        [6, 7, 8]]))"
            ]
          },
          "metadata": {},
          "execution_count": 33
        }
      ]
    },
    {
      "cell_type": "code",
      "source": [
        "# 列の挿入\n",
        "a = np.array([[0, 1, 2],\n",
        "              [3, 4, 5]])\n",
        "b = np.insert(a, [1, 2], [[6, 7], [8, 9]], axis=1)\n",
        "c = np.insert(a, 0, [[6, 7], [8, 9]], axis=1)  # values 全体を挿入する\n",
        "d = np.insert(a, 1, 6, axis=1)  # 値を繰り返す形で values を引き延ばす\n",
        "e = np.insert(a, [1, 2], [6, 7], axis=1)  # values にブロードキャストを行う\n",
        "b, c, d, e"
      ],
      "metadata": {
        "colab": {
          "base_uri": "https://localhost:8080/"
        },
        "outputId": "5f95c4cd-8cc8-4a4a-9998-de9f3d5e4c2e",
        "id": "U5hZiOL0N5kt"
      },
      "execution_count": 41,
      "outputs": [
        {
          "output_type": "execute_result",
          "data": {
            "text/plain": [
              "(array([[0, 6, 1, 7, 2],\n",
              "        [3, 8, 4, 9, 5]]),\n",
              " array([[6, 8, 0, 1, 2],\n",
              "        [7, 9, 3, 4, 5]]),\n",
              " array([[0, 6, 1, 2],\n",
              "        [3, 6, 4, 5]]),\n",
              " array([[0, 6, 1, 7, 2],\n",
              "        [3, 6, 4, 7, 5]]))"
            ]
          },
          "metadata": {},
          "execution_count": 41
        }
      ]
    },
    {
      "cell_type": "markdown",
      "source": [
        "`axis` が `None` の場合（これがデフォルト）、配列を 1 次元に平坦化したものに対して挿入が行われる。"
      ],
      "metadata": {
        "id": "Leyj8QGEgr_i"
      }
    },
    {
      "cell_type": "code",
      "source": [
        "# axis=None の場合\n",
        "a = np.array([[0, 1, 2],\n",
        "              [3, 4, 5]])\n",
        "np.insert(a, np.s_[::3], [100, 200])"
      ],
      "metadata": {
        "colab": {
          "base_uri": "https://localhost:8080/"
        },
        "id": "vLtnqlSmUf3O",
        "outputId": "9b653605-c15b-45eb-c0b7-6a75564e3cea"
      },
      "execution_count": 45,
      "outputs": [
        {
          "output_type": "execute_result",
          "data": {
            "text/plain": [
              "array([100,   0,   1,   2, 200,   3,   4,   5])"
            ]
          },
          "metadata": {},
          "execution_count": 45
        }
      ]
    },
    {
      "cell_type": "markdown",
      "source": [
        "``` python\n",
        "numpy.append(arr, values, axis=None)\n",
        "```\n",
        "\n",
        "この関数は、配列の末尾に値を追加された新しい配列（コピー）を返す。\n",
        "\n",
        "| 引数 | 意味 |\n",
        "|:---|:---|\n",
        "| `arr` | 操作の対象となる配列または array-like オブジェクト |\n",
        "| `values` | 追加する配列または array-like オブジェクト |\n",
        "| `axis` | 値を追加する軸を指定する。`axis` が `None`（デフォルト）の場合、`obj` は 1 次元化された配列に適用される |\n",
        "\n",
        "`values` は、 `arr` と次元数が一致する必要があり、また、 `axis` を除いて `arr` と同じ形状である必要がある。 `numpy.insert()` の `values` とは異なり、ブロードキャストされることはない。\n",
        "\n",
        "`values` の型が `arr` の型と異なる場合、 `values` は `arr` の型に暗黙的に変換される。\n",
        "\n",
        "この関数は、 `arr` 自体を変更しない。"
      ],
      "metadata": {
        "id": "7hGksxUp9wz2"
      }
    },
    {
      "cell_type": "code",
      "source": [
        "a = np.arange(10).reshape(2, -1)\n",
        "b = np.append(a, a, axis=0)\n",
        "c = np.append(a, a, axis=1)\n",
        "a, b, c"
      ],
      "metadata": {
        "colab": {
          "base_uri": "https://localhost:8080/"
        },
        "id": "bPD7hf0G6VGV",
        "outputId": "3bf97868-2dbd-4679-e02d-347ad30df8fc"
      },
      "execution_count": null,
      "outputs": [
        {
          "output_type": "execute_result",
          "data": {
            "text/plain": [
              "(array([[0, 1, 2, 3, 4],\n",
              "        [5, 6, 7, 8, 9]]),\n",
              " array([[0, 1, 2, 3, 4],\n",
              "        [5, 6, 7, 8, 9],\n",
              "        [0, 1, 2, 3, 4],\n",
              "        [5, 6, 7, 8, 9]]),\n",
              " array([[0, 1, 2, 3, 4, 0, 1, 2, 3, 4],\n",
              "        [5, 6, 7, 8, 9, 5, 6, 7, 8, 9]]))"
            ]
          },
          "metadata": {},
          "execution_count": 117
        }
      ]
    },
    {
      "cell_type": "markdown",
      "source": [
        "`axis` が `None` の場合、配列を 1 次元に平坦化したものに対して追加が行われる。"
      ],
      "metadata": {
        "id": "eRaCs1tt_9LT"
      }
    },
    {
      "cell_type": "code",
      "source": [
        "a = np.arange(10).reshape(2, -1)\n",
        "np.append(a, a)"
      ],
      "metadata": {
        "colab": {
          "base_uri": "https://localhost:8080/"
        },
        "id": "6pkXMc7B_-nA",
        "outputId": "277b6604-35e2-41b3-8d23-fa2103629a01"
      },
      "execution_count": null,
      "outputs": [
        {
          "output_type": "execute_result",
          "data": {
            "text/plain": [
              "array([0, 1, 2, 3, 4, 5, 6, 7, 8, 9, 0, 1, 2, 3, 4, 5, 6, 7, 8, 9])"
            ]
          },
          "metadata": {},
          "execution_count": 118
        }
      ]
    },
    {
      "cell_type": "markdown",
      "source": [
        "### 非数・無限大の変換 ###"
      ],
      "metadata": {
        "id": "8bM8fBJ798_A"
      }
    },
    {
      "cell_type": "markdown",
      "source": [
        "``` python\n",
        "numpy.nan_to_num(x, copy=True, nan=0.0, posinf=None, neginf=None)\n",
        "```\n",
        "\n",
        "この関数は、配列（または array-like オブジェクト）に含まれる要素 `numpy.nan` と `numpy.inf` を他の値に置き換えた配列を返す。\n",
        "\n",
        "| 引数 | 意味 |\n",
        "|:---|:---|\n",
        "| `x` | 操作の対象となる配列または array-like オブジェクト |\n",
        "| `copy` | `True`（デフォルト）の場合、この関数は `x` 自体を変更せず新しい配列を返す。`False` の場合、この関数は `x` 自体を変更し、そのビューを返す |\n",
        "| `nan` | `numpy.nan` を置き換える値。デフォルトでは `0.0` に置き換える |\n",
        "| `posinf` | `numpy.inf` を置き換える値。デフォルトでは `x.dtype` で表現できる最大の浮動小数点数値に置き換える |\n",
        "| `neginf` | `-numpy.inf` を置き換える値。デフォルトでは `x.dtype` で表現できる最小の浮動小数点数値に置き換える |"
      ],
      "metadata": {
        "id": "QcvfASlg9-26"
      }
    },
    {
      "cell_type": "code",
      "source": [
        "a = np.array([1.0, np.nan, np.inf, -np.inf])\n",
        "b = np.nan_to_num(a)\n",
        "assert not np.shares_memory(a, b)\n",
        "a, b"
      ],
      "metadata": {
        "colab": {
          "base_uri": "https://localhost:8080/"
        },
        "outputId": "5bd1625f-cc07-40ff-ed8f-e959a5e3c825",
        "id": "5-7h1xTtBlOF"
      },
      "execution_count": null,
      "outputs": [
        {
          "output_type": "execute_result",
          "data": {
            "text/plain": [
              "(array([  1.,  nan,  inf, -inf]),\n",
              " array([ 1.00000000e+000,  0.00000000e+000,  1.79769313e+308,\n",
              "        -1.79769313e+308]))"
            ]
          },
          "metadata": {},
          "execution_count": 119
        }
      ]
    },
    {
      "cell_type": "code",
      "source": [
        "a = np.array([1.0, np.nan, np.inf, -np.inf])\n",
        "b = np.nan_to_num(a, copy=False)\n",
        "assert np.shares_memory(a, b)\n",
        "a"
      ],
      "metadata": {
        "colab": {
          "base_uri": "https://localhost:8080/"
        },
        "id": "8YGwfTyG-_zV",
        "outputId": "f23dbc6b-23b6-441d-a20c-2c7170012533"
      },
      "execution_count": null,
      "outputs": [
        {
          "output_type": "execute_result",
          "data": {
            "text/plain": [
              "array([ 1.00000000e+000,  0.00000000e+000,  1.79769313e+308,\n",
              "       -1.79769313e+308])"
            ]
          },
          "metadata": {},
          "execution_count": 120
        }
      ]
    },
    {
      "cell_type": "markdown",
      "source": [
        "数学関数・配列演算\n",
        "------------------"
      ],
      "metadata": {
        "id": "QjA8U4Is4uZ6"
      }
    },
    {
      "cell_type": "markdown",
      "source": [
        "### ベクトル化 ###"
      ],
      "metadata": {
        "id": "dzCVQubL_LXD"
      }
    },
    {
      "cell_type": "markdown",
      "source": [
        "N 次元配列を全ての要素ごとに操作する関数を実装しようとすると、 N 重のループを計算しなければならない。\n",
        "\n",
        "例えば、全ての要素ごとにステップ関数を計算することを考える。ステップ関数は、次の式で定義される関数である。\n",
        "\n",
        "$$\n",
        "\\mathrm{step}(x) = \\begin{cases}\n",
        "1 & (x \\geqq 0) \\\\\n",
        "0 & (x < 0)\n",
        "\\end{cases}\n",
        "$$\n",
        "\n",
        "次のコードは、 Python でステップ関数を定義し、2 重のループを使って与えられた 2 次元配列の全ての要素に対しステップ関数を計算し、計算結果を保持する配列を作成している。"
      ],
      "metadata": {
        "id": "mqwmjsCj_MPM"
      }
    },
    {
      "cell_type": "code",
      "source": [
        "def step(x):\n",
        "    return 0.0 if x < 0.0 else 1.0\n",
        "\n",
        "rng = np.random.default_rng()\n",
        "a = rng.uniform(-3, 3, 6).reshape(2, 3)\n",
        "b = np.empty((a.shape[0], a.shape[1]))\n",
        "for i in range(a.shape[0]):\n",
        "    for j in range(a.shape[1]):\n",
        "        b[i, j] = step(a[i, j])\n",
        "a, b"
      ],
      "metadata": {
        "colab": {
          "base_uri": "https://localhost:8080/"
        },
        "id": "oAEmy7EOCQuO",
        "outputId": "2bead50f-93c8-47a5-f919-f6167e7349af"
      },
      "execution_count": null,
      "outputs": [
        {
          "output_type": "execute_result",
          "data": {
            "text/plain": [
              "(array([[ 0.87754079, -1.16785852,  2.05553315],\n",
              "        [-2.84727332, -0.35727218,  1.86442993]]),\n",
              " array([[1., 0., 1.],\n",
              "        [0., 0., 1.]]))"
            ]
          },
          "metadata": {},
          "execution_count": 121
        }
      ]
    },
    {
      "cell_type": "markdown",
      "source": [
        "Python で多重ループは非常に重い処理となる。そこで、 Numpy は配列処理を C に引き渡して Python ループを排除することで高速化する。この仕組みを**ベクトル化**（vectorization）という。 Python 関数をベクトル化するには、次の関数デコレーターを使う。\n",
        "\n",
        "``` python\n",
        "numpy.vectorize(pyfunc=np._NoValue, otypes=None, doc=None, excluded=None, cache=False, signature=None)\n",
        "```\n",
        "\n",
        "この関数は、 Python 関数 `pyfunc` をベクトル化した関数を作成する。ベクトル化した関数は、入力に配列を直接渡すことができ、要素ごとに `pyfunc()` を計算した値を要素とする配列を出力する。\n",
        "\n",
        "上記のコードで `step()` 関数をベクトル化すると、次のようになる:"
      ],
      "metadata": {
        "id": "CgsIxeTtL619"
      }
    },
    {
      "cell_type": "code",
      "source": [
        "@np.vectorize\n",
        "def step(x):\n",
        "    return 0.0 if x < 0.0 else 1.0\n",
        "\n",
        "rng = np.random.default_rng()\n",
        "a = rng.uniform(-3, 3, 6).reshape(2, 3)\n",
        "b = step(a)\n",
        "a, b"
      ],
      "metadata": {
        "colab": {
          "base_uri": "https://localhost:8080/"
        },
        "id": "W3klsTabMH3F",
        "outputId": "8d5cf50a-9320-464b-8685-209f7b3a2650"
      },
      "execution_count": null,
      "outputs": [
        {
          "output_type": "execute_result",
          "data": {
            "text/plain": [
              "(array([[ 2.23372984, -1.51987922, -0.99848158],\n",
              "        [-2.88167067, -1.05204877,  0.73387746]]),\n",
              " array([[1., 0., 0.],\n",
              "        [0., 0., 1.]]))"
            ]
          },
          "metadata": {},
          "execution_count": 122
        }
      ]
    },
    {
      "cell_type": "markdown",
      "source": [
        "このように Python ループを排除できた。ベクトル化の効果を検証すると次のようになる:"
      ],
      "metadata": {
        "id": "wrmKvO7tNbav"
      }
    },
    {
      "cell_type": "code",
      "source": [
        "def step(x):\n",
        "    return 0.0 if x < 0.0 else 1.0\n",
        "\n",
        "def run_step(a):\n",
        "    b = np.empty((a.shape[0], a.shape[1]))\n",
        "    for i in range(a.shape[0]):\n",
        "        for j in range(a.shape[1]):\n",
        "            b[i, j] = step(a[i, j])\n",
        "    return b\n",
        "\n",
        "vstep = np.vectorize(step)\n",
        "rng = np.random.default_rng()\n",
        "a = rng.uniform(-3, 3, 1000000).reshape(1000, 1000)\n",
        "%timeit run_step(a)\n",
        "%timeit vstep(a)"
      ],
      "metadata": {
        "colab": {
          "base_uri": "https://localhost:8080/"
        },
        "id": "teeyHhARNcRd",
        "outputId": "9fb0022c-3a20-44a3-bfff-7874bef4a0a1"
      },
      "execution_count": null,
      "outputs": [
        {
          "output_type": "stream",
          "name": "stdout",
          "text": [
            "1.47 s ± 341 ms per loop (mean ± std. dev. of 7 runs, 1 loop each)\n",
            "452 ms ± 90.3 ms per loop (mean ± std. dev. of 7 runs, 1 loop each)\n"
          ]
        }
      ]
    },
    {
      "cell_type": "markdown",
      "source": [
        "### ユニバーサル関数 ###"
      ],
      "metadata": {
        "id": "9IGzJtC10XGH"
      }
    },
    {
      "cell_type": "markdown",
      "source": [
        "`numpy.ufunc` クラスは、ベクトル化された関数の特別な型である。 `numpy.ufunc` のインスタンスである関数オブジェクトを**ユニバーサル関数**（universal function）と呼ぶ。 Numpy の数学関数は、多くがユニバーサル関数である。以降では、ユニバーサル関数ではないベクトル化された関数を「非ユニバーサル関数」と呼ぶ。\n",
        "\n",
        "ユニバーサル関数は、以下のような性質を持つ。\n",
        "\n",
        "  * 配列は第 1 引数以降の位置専用引数として入力される。入力配列の個数は関数によって決まっており、 1 個のものは単項関数、 2 個のものは二項関数と呼ぶ。位置専用引数は、配列だけでなく array-like オブジェクトも受け付ける。入力がスカラー値（数値）の場合は、スカラー値が返される。そうでない場合は、新しい配列が返される。ただし、関数によっては複数の結果がタプルで返されることがある。\n",
        "  * 入力が 2 つの配列である関数（二項関数）では、入力配列の形状が一致していることが必要である。ただし、**ブロードキャスト可能な場合は、暗黙的にブロードキャストが行われる**。つまり、 2 つの入力配列に対して暗黙的に `numpy.broadcast_arrays()` を実行し、返された配列を対象に実際の計算を行う。 2 つの入力配列の形状が一致せず、かつ、ブロードキャスト可能でない場合は、 `ValueError` 例外が発生する。\n",
        "  * 必要により暗黙的な型変換が行われる。\n",
        "\n",
        "ユニバーサル関数は、オプションとして共通する引数を受け付ける。共通引数は、 `out` を除いて全てキーワード専用引数である。主なものは次のとおり。\n",
        "\n",
        "| 引数 | 意味 | デフォルト値 |\n",
        "|:---|:---|:---|\n",
        "| `out` | `out` 引数に配列を指定した場合、計算結果がその配列に保存される。`out` の配列の形状は、出力配列の形状に一致させる必要がある。ただし、出力がスカラー値なら、<br />`out` は要素数が 1 である 1 次元配列とする必要がある。また、複数の結果がタプルで返される場合では結果を保存するための配列のタプルとしなければならない | `None` |\n",
        "| `where` | `where` 引数に配列を指定した場合、その真と評価される要素の位置では出力配列に計算結果が入り、偽と評価される要素の位置では出力配列に `out` の値（`out` が<br /> `None` なら初期値）が入る。全要素が `True` の配列を指定する代わりに単に `True` を指定できる。全要素が `False` の配列を指定する代わりに単に `False` を指定できる | `True` |\n",
        "| `casting` | どのような種類の型変換が許可されるかについてのポリシーを文字列で指定する。ユニバーサル関数では、デフォルトは `'same_kind'` 指定となることに注意 | `'same_kind'` |\n",
        "| `order` | 入力から要素を取る順番と出力配列のメモリレイアウトを指定する | `'K'` |\n",
        "| `dtype` | 出力配列の dtype を明示的に指定する | `None` |\n",
        "\n",
        "``` python\n",
        "numpy.frompyfunc(func, /, nin, nout, *[, identity])\n",
        "```\n",
        "\n",
        "この関数は、任意の Python 関数を受け取り、ユニバーサル関数を返す。`nin` 引数と `nout` 引数にそれぞれ入力の個数と出力の個数を指定できる。\n",
        "\n",
        "複数の入力を取る Python 関数をベクトル化するには、`numpy.frompyfunc()` を使う。\n",
        "\n",
        "ただし、 `numpy.frompyfunc()` 関数が作成するユニバーサル関数は、常に dtype が `object` である配列を出力する。 **`dtype` 引数の指定は無視される**ことに注意する。このため、出力配列に対して `astype()` メソッドで型変換する必要がある。"
      ],
      "metadata": {
        "id": "s1zjUYnd0YAY"
      }
    },
    {
      "cell_type": "code",
      "source": [
        "def sumsub(x, y):\n",
        "    return x + y, x - y\n",
        "\n",
        "usumsub = np.frompyfunc(sumsub, 2, 2)\n",
        "x = np.array([1, 2, 3])\n",
        "y = np.array([3, 2, 1])\n",
        "usumsub(x, y, casting='unsafe', dtype=int)  # 型変換を強制する引数を指定しても効果がない"
      ],
      "metadata": {
        "colab": {
          "base_uri": "https://localhost:8080/"
        },
        "id": "zvAI0dEZjn1n",
        "outputId": "597fe254-0771-44d1-be4c-8e829b91d740"
      },
      "execution_count": null,
      "outputs": [
        {
          "output_type": "execute_result",
          "data": {
            "text/plain": [
              "(array([4, 4, 4], dtype=object), array([-2, 0, 2], dtype=object))"
            ]
          },
          "metadata": {},
          "execution_count": 124
        }
      ]
    },
    {
      "cell_type": "markdown",
      "source": [
        "### reduce ###"
      ],
      "metadata": {
        "id": "qxCJOsjpeL7d"
      }
    },
    {
      "cell_type": "markdown",
      "source": [
        "入力が 2 つの配列であるユニバーサル関数（二項関数）は、オブジェクトとして次のメソッドを持つ。\n",
        "\n",
        "``` python\n",
        "ufunc.reduce(array, axis=0, **kwargs)\n",
        "```\n",
        "\n",
        "このメソッドは、 1 次元以上の配列（または array-like オブジェクト）に対して、 `axis` で指定した軸を削減（reduce）することで配列を分解し、最初の 2 つを取り `ufunc` の入力として渡し、さらにその結果と残りの最初のものを `ufunc` の入力として渡す、という計算を行う。デフォルトでは 0 軸を削減する。 `**kwargs` は `ufunc()` の `**kwargs` に渡される。\n",
        "\n",
        "`array` が 1 次元配列の場合、 0 軸を削減することで要素に分解し、個々の要素がユニバーサル関数の入力となる。例えば、 `ufunc.reduce([1, 2, 3])` は `ufunc(ufunc(1, 2), 3)` と同じである。\n",
        "\n",
        "`array` が 2 次元配列の場合、 `axis=0` として 0 軸を削減すると `array` は行に分解され、各行がユニバーサル関数の入力となる。例えば、 `ufunc.reduce([[1, 2, 3], [4, 5, 6]])` は `ufunc([1, 2, 3], [4, 5, 6])` と同じである。\n",
        "\n",
        "``` text\n",
        "[[1, 2, 3],   (0軸を削減)→  [1, 2, 3],   [4, 5, 6]\n",
        " [4, 5, 6]]\n",
        "```\n",
        "\n",
        "`array` が 2 次元配列の場合、 `axis=1` として 1 軸を削減すると `array` は列に分解され、各列がユニバーサル関数の入力となる。例えば、 `ufunc.reduce([[1, 2, 3], [4, 5, 6]], axis=1)` は `ufunc(ufunc([1, 4], [2, 5]), [3, 6])` と同じである。\n",
        "\n",
        "``` text\n",
        "[[1, 2, 3],   (1軸を削減)→  [1, 4],   [2, 5],   [3, 6]\n",
        " [4, 5, 6]]\n",
        "```\n",
        "\n",
        "`array` が 3 次元配列の場合、 `axis=0` として 0 軸を削減すると `array` は内部の行列に分解され、各行列がユニバーサル関数の入力となる。例えば、 `ufunc.reduce([[[1, 2], [3, 4]], [[5, 6], [7, 8]]])` は `ufunc([[1, 2], [3, 4]], [[5, 6], [7, 8]])` と同じである。\n",
        "\n",
        "``` text\n",
        "[[[1, 2],   (0軸を削減)→  [[1, 2],    [[5, 6],\n",
        "  [3, 4]],                  [3, 4]],    [7, 8]]\n",
        "\n",
        " [[5, 6],\n",
        "  [7, 8]]]\n",
        "```\n",
        "\n",
        "`array` が 3 次元配列の場合、 `axis=1` として 1 軸を削減すると `array` は内部の行列の行ごとに新しい行列を構成する形で分解され、各行列がユニバーサル関数の入力となる。例えば、 `ufunc.reduce([[[1, 2], [3, 4]], [[5, 6], [7, 8]]], axis=1)` は `ufunc([[1, 2], [5, 6]], [[3, 4], [7, 8]])` と同じである。\n",
        "\n",
        "``` text\n",
        "[[[1, 2],   (1軸を削減)→  [[1, 2],    [[3, 4],\n",
        "  [3, 4]],                  [5, 6]],    [7, 8]]\n",
        "\n",
        " [[5, 6],\n",
        "  [7, 8]]]\n",
        "```\n",
        "\n",
        "`array` が 3 次元配列の場合、 `axis=2` として 2 軸を削減すると `array` は内部の行列の列ごとに新しい行列を構成する形で分解され、各行列がユニバーサル関数の入力となる。例えば、 `ufunc.reduce([[[1, 2], [3, 4]], [[5, 6], [7, 8]]], axis=2)` は `ufunc([[1, 3], [5, 7]], [[2, 4], [6, 8]])` と同じである。\n",
        "\n",
        "``` text\n",
        "[[[1, 2],   (2軸を削減)→  [[1, 3],    [[2, 4],\n",
        "  [3, 4]],                  [5, 7]],    [6, 8]]\n",
        "\n",
        " [[5, 6],\n",
        "  [7, 8]]]\n",
        "```"
      ],
      "metadata": {
        "id": "pfVCLjIieNB5"
      }
    },
    {
      "cell_type": "markdown",
      "source": [
        "### 算術演算 ###"
      ],
      "metadata": {
        "id": "t7eQtlgQVFFV"
      }
    },
    {
      "cell_type": "markdown",
      "source": [
        "Numpy は、配列同士の算術演算をサポートしている。\n",
        "\n",
        "| 演算 | 関数 | 演算子 | 機能 | 戻り値 |\n",
        "|:---|:---|:--:|:---|:---|\n",
        "| 加算 | `add` | `+` | 同じ形状の配列同士で要素ごとに加算する | 配列 |\n",
        "| 減算 | `subtract` | `-` | 同じ形状の配列同士で要素ごとに減算する | 配列 |\n",
        "| 乗算 | `multiply` | `*` | 同じ形状の配列同士で要素ごとに乗算する | 配列 |\n",
        "| 除算 | `divide` | `/` | 同じ形状の配列同士で要素ごとに除算する | 配列 |\n",
        "| 除算 | `true_divide` | `/` | `divide` の別名 | 配列 |\n",
        "| 冪 | `power` | `**` | 同じ形状の配列同士で要素ごとに冪乗を計算する | 配列 |\n",
        "| 商 | `floor_divide` | `//` | 同じ形状の配列同士で要素ごとに商を計算する | 配列 |\n",
        "| 剰余 | `mod` | `%` | 同じ形状の配列同士で要素ごとに剰余を計算する | 配列 |\n",
        "| 商と剰余 | `divmod` | | 同じ形状の配列同士で要素ごとに商と剰余を計算する | 配列のタプル |\n",
        "\n",
        "上記の関数は全てユニバーサル関数である。なお、行列間で要素ごとの乗算、除算はそれぞれアダマール積、アダマール除算と呼ばれる。\n",
        "\n",
        "例えば、 2 つの配列 `a` と `b` に対して、 `numpy.add(a, b)` と `a + b` は等価である。また、 3 つの配列 `a` と `b` と `c` に対して、 `numpy.add.reduce([a, b, c])` は `numpy.add(numpy.add(a, b), c)` と同じで `a + b + c` と等価である。"
      ],
      "metadata": {
        "id": "yyJKWkcoVGFr"
      }
    },
    {
      "cell_type": "code",
      "source": [
        "assert np.add.reduce([1, 2, 3]) == np.add(np.add(1, 2), 3) == 6"
      ],
      "metadata": {
        "id": "XFu8pEvyATVH"
      },
      "execution_count": null,
      "outputs": []
    },
    {
      "cell_type": "markdown",
      "source": [
        "2 つの入力配列の形状が一致しない場合、ブロードキャスト可能なら、演算の前に暗黙的にブロードキャストが行われる。\n",
        "\n",
        "例えば、次のコードでは、形状が `(4, 3)` である 2 次元配列と形状が `(3,)` である 1 次元配列との間の加算を行っているが、暗黙的にブロードキャストが先に行われ、左側の配列の形状が `(4, 3)` に揃えられてから、要素ごとの計算が行われる（画像は公式ドキュメントより引用）。"
      ],
      "metadata": {
        "id": "uoRW8Y5rA0uD"
      }
    },
    {
      "cell_type": "code",
      "source": [
        "a = np.broadcast_to([[0], [10], [20], [30]], (4, 3))  # 2次元配列（明示的なブロードキャストを使って配列を生成している）\n",
        "b = np.array([1, 2, 3])  # 1次元配列\n",
        "a + b  # 加算において暗黙的にブロードキャストが行われる"
      ],
      "metadata": {
        "colab": {
          "base_uri": "https://localhost:8080/"
        },
        "id": "kSltJC4ceFp7",
        "outputId": "047ab8c2-b13d-47f5-eb9d-3dec115c18f9"
      },
      "execution_count": null,
      "outputs": [
        {
          "output_type": "execute_result",
          "data": {
            "text/plain": [
              "array([[ 1,  2,  3],\n",
              "       [11, 12, 13],\n",
              "       [21, 22, 23],\n",
              "       [31, 32, 33]])"
            ]
          },
          "metadata": {},
          "execution_count": 126
        }
      ]
    },
    {
      "cell_type": "markdown",
      "source": [
        "![](https://numpy.org/doc/stable/_images/broadcasting_2.png)\n",
        "\n",
        "このブロードキャストでは、まず次元数が左側の配列から採用されて右側の配列の形状が `(1, 3)` となり、次に 0 軸での配列のサイズも左側の配列から採用されて右側の配列の形状が `(4, 3)` となる。この時点で配列の形状が揃ったのでブロードキャストの手順が完了する。\n",
        "\n",
        "もし右側の配列の形状が `(4,)` であった場合は、ブロードキャストが失敗し、 `ValueError` 例外が発生する。この場合、上記の手順で右側の配列の形状が `(4, 4)` と変形できるが、今度は 1 軸での配列のサイズを `4` に揃える必要があり、左側の配列では 1 軸での配列のサイズが `3` で `1` ではないので 1 軸方向に引き延ばすことができないのである（単純にもう 1 列追加することはブロードキャストの規則にない）。\n",
        "\n",
        "![](https://numpy.org/doc/stable/_images/broadcasting_3.png)\n",
        "\n",
        "暗黙的なブロードキャストは、スカラーに対しても有効である。つまり、スカラーと配列の間で上記の算術演算を実行すると、スカラーは形状が他方の配列の形状に揃えた配列に変換され、その上で実際の演算が行われる。配列とスカラーの間では、常にブロードキャスト可能である。\n",
        "\n",
        "例えば、配列とスカラーとの間の乗算（スカラー乗算）は以下のようになる。"
      ],
      "metadata": {
        "id": "Efo2eTzqeGam"
      }
    },
    {
      "cell_type": "code",
      "source": [
        "np.array([1, 2, 3]) * 2  # np.array([1, 2, 3]) * np.array([2, 2, 2]) と同じ"
      ],
      "metadata": {
        "colab": {
          "base_uri": "https://localhost:8080/"
        },
        "id": "k9kREh6XEIhi",
        "outputId": "b69b8d46-2a97-412e-f980-1bccb33ad2e0"
      },
      "execution_count": null,
      "outputs": [
        {
          "output_type": "execute_result",
          "data": {
            "text/plain": [
              "array([2, 4, 6])"
            ]
          },
          "metadata": {},
          "execution_count": 127
        }
      ]
    },
    {
      "cell_type": "markdown",
      "source": [
        "![](https://numpy.org/doc/stable/_images/broadcasting_1.png)\n",
        "\n",
        "暗黙的ブロードキャストは、形状の異なる配列同士の演算を、明示的に変換を指示しなくても簡潔な形で書けることが利点ではあるが、コードが分かりにくくなることがある。出力配列の形状に十分注意する必要がある。\n",
        "\n",
        "例えば、形状が `(4, 1)` である 2 次元配列と形状が `(3,)` である 1 次元配列の間の加算では、暗黙的なブロードキャストが行われるため、形状が `(4, 3)` の 2 次元配列を返す。"
      ],
      "metadata": {
        "id": "A5Hgkf5Fe8-2"
      }
    },
    {
      "cell_type": "code",
      "source": [
        "a = np.array([0, 10, 20, 30])[:, np.newaxis]\n",
        "b = np.array([1, 2, 3])\n",
        "a + b"
      ],
      "metadata": {
        "colab": {
          "base_uri": "https://localhost:8080/"
        },
        "id": "9OoQzXA4HdeX",
        "outputId": "31e5de14-f955-44b2-cf38-5fa2af293259"
      },
      "execution_count": null,
      "outputs": [
        {
          "output_type": "execute_result",
          "data": {
            "text/plain": [
              "array([[ 1,  2,  3],\n",
              "       [11, 12, 13],\n",
              "       [21, 22, 23],\n",
              "       [31, 32, 33]])"
            ]
          },
          "metadata": {},
          "execution_count": 128
        }
      ]
    },
    {
      "cell_type": "markdown",
      "source": [
        "![](https://numpy.org/doc/stable/_images/broadcasting_4.png)\n",
        "\n",
        "演算によって暗黙的な型変換が行われる場合がある。\n",
        "\n",
        "  * dtype が整数の配列同士の `/` 演算子による除算は、 `float64` 型に変換される。\n",
        "  * dtype が整数と浮動小数点数の配列同士を被演算子とする `+`、`-`、`*`、`**`、`//` 演算は、 `float64` 型に変換される。\n",
        "  * 整数同士や浮動小数点数同士でも、ビット数が異なる場合はビット数の大きい方の型に合わせて変換される。"
      ],
      "metadata": {
        "id": "vzJ_mf9E2CNv"
      }
    },
    {
      "cell_type": "code",
      "source": [
        "a_int = np.array([10, 20, 30])\n",
        "a_float = np.array([1.0, 2.0, 3.0], dtype=np.float64)\n",
        "b_float32 = np.array([1.5, 2.5, 3.5], dtype=np.float32)\n",
        "assert (a_int / a_int).dtype == np.float64      # [1., 1., 1.]\n",
        "assert (a_int + a_float).dtype == np.float64    # [11., 22., 33.]\n",
        "assert (a_int - a_float).dtype == np.float64    # [ 9., 18., 27.]\n",
        "assert (a_int * a_float).dtype == np.float64    # [10., 40., 90.]\n",
        "assert (a_int ** a_float).dtype == np.float64   # [1.0e+01, 4.0e+02, 2.7e+04]\n",
        "assert (a_int // a_float).dtype == np.float64   # [10., 10., 10.]\n",
        "assert (a_float + b_float32).dtype == np.float64  # [2.5, 4.5, 6.5]"
      ],
      "metadata": {
        "id": "ERgXWaLAmd_y"
      },
      "execution_count": null,
      "outputs": []
    },
    {
      "cell_type": "markdown",
      "source": [
        "累算代入演算子（または複合代入演算子）もサポートされている。"
      ],
      "metadata": {
        "id": "CW5x88AioeJt"
      }
    },
    {
      "cell_type": "code",
      "source": [
        "a = np.arange(0, 50, 10)\n",
        "# [ 0, 10, 20, 30, 40]\n",
        "a[[1, 3]] += 1\n",
        "a"
      ],
      "metadata": {
        "colab": {
          "base_uri": "https://localhost:8080/"
        },
        "id": "Pm-Z7H7QofJj",
        "outputId": "38b8cb11-801b-4698-fb72-5cb75eb7e4d0"
      },
      "execution_count": null,
      "outputs": [
        {
          "output_type": "execute_result",
          "data": {
            "text/plain": [
              "array([ 0, 11, 20, 31, 40])"
            ]
          },
          "metadata": {},
          "execution_count": 130
        }
      ]
    },
    {
      "cell_type": "markdown",
      "source": [
        "### ゼロ除算 ###"
      ],
      "metadata": {
        "id": "CsFvYuS8JyEP"
      }
    },
    {
      "cell_type": "markdown",
      "source": [
        "Python では、ゼロで割ると `ZeroDivisionError` 例外が発生してプログラムの実行が止まる。しかし、コンピューターによる数値計算で `a / b` のような除算を行うときに、たまにしか起こらない例外のためにいちいち `b` がゼロかどうか確認するのは面倒であるし、速度的にも不利となる。\n",
        "\n",
        "そこで、 Numpy では、以下の規則により `ZeroDivisionError` 例外が発生しないようにしている。\n",
        "\n",
        "  * 非ゼロの値を `0.0` で割った結果は `numpy.inf` となる。\n",
        "  * 非ゼロの値を `-0.0` で割った結果は `-numpy.inf` となる。\n",
        "  * ゼロを `0.0` または `-0.0` で割った結果は `numpy.nan` となる。\n",
        "\n",
        "こうしてゼロ除算で止まらないが、 `RuntimeWarning`（実行時の警告）は出る。"
      ],
      "metadata": {
        "id": "P1IGb8U6JzdR"
      }
    },
    {
      "cell_type": "code",
      "source": [
        "np.divide(1.0, 0.0), np.divide(1.0, -0.0), np.divide(0.0, 0.0)"
      ],
      "metadata": {
        "colab": {
          "base_uri": "https://localhost:8080/"
        },
        "id": "G2x1xxNpNFBg",
        "outputId": "bb49ecf5-586c-43fe-891e-0f554af3a6a3"
      },
      "execution_count": null,
      "outputs": [
        {
          "output_type": "stream",
          "name": "stderr",
          "text": [
            "<ipython-input-131-722c11b40630>:1: RuntimeWarning: divide by zero encountered in divide\n",
            "  np.divide(1.0, 0.0), np.divide(1.0, -0.0), np.divide(0.0, 0.0)\n",
            "<ipython-input-131-722c11b40630>:1: RuntimeWarning: invalid value encountered in divide\n",
            "  np.divide(1.0, 0.0), np.divide(1.0, -0.0), np.divide(0.0, 0.0)\n"
          ]
        },
        {
          "output_type": "execute_result",
          "data": {
            "text/plain": [
              "(inf, -inf, nan)"
            ]
          },
          "metadata": {},
          "execution_count": 131
        }
      ]
    },
    {
      "cell_type": "markdown",
      "source": [
        "警告は初回だけ出力される。つまり、警告フィルターのエントリで `action` が `'once'` になっている。\n",
        "\n",
        "Numpy でゼロ除算時の警告を制御するには、一般の警告と同様に `warnings.filterwarnings()` 関数を使用して警告フィルターの先頭にエントリを追加すればよいのであるが、 Numpy は便利な関数を用意している。\n",
        "\n",
        "``` python\n",
        "numpy.seterr(all=None, divide=None, over=None, under=None, invalid=None)\n",
        "```\n",
        "\n",
        "| 引数 | 意味 |\n",
        "|:---|:---|\n",
        "| `divide` | ゼロ除算の処理を以下の文字列で指定する。`None`（デフォルト）の場合、現在の動作は変更されない<br /><br />・`'ignore'`: 警告を出力しない<br /><br />・`'warn'`: `RuntimeWarning` を出力する<br /><br />・`'raise'`: `FloatingPointError` 例外を発生させる<br /><br />・`'call'`: `numpy.seterrcall()` 関数を使用して指定された関数を呼び出す<br /><br />・`'print'`: 警告を標準出力に直接出力する<br /><br />・`'log'`: `numpy.seterrcall()` で指定されたログオブジェクトにエラーを記録する |\n",
        "| `over` | 浮動小数点のオーバーフロー時の処理を上記の文字列で指定する。`None`（デフォルト）の場合、現在の動作は変更されない |\n",
        "| `under` | 浮動小数点のアンダーフロー時の処理を上記の文字列で指定する。`None`（デフォルト）の場合、現在の動作は変更されない |\n",
        "| `invalid` | `0.0 / 0.0` の処理を上記の文字列で指定する。`None`（デフォルト）の場合、現在の動作は変更されない |\n",
        "| `all` | ゼロ除算、浮動小数点のオーバーフローとアンダースロー、`0.0 / 0.0` の処理を上記の文字列でまとめて指定する。`None`（デフォルト）の場合、現在の動作は変更されない |\n",
        "\n",
        "したがって、ゼロ除算時に `RuntimeWarning` を出したくなければ、あらかじめ\n",
        "\n",
        "``` python\n",
        "np.seterr(divide='ignore', invalid='ignore')\n",
        "```\n",
        "\n",
        "と書いておけばよいことになる。元に戻すには\n",
        "\n",
        "``` python\n",
        "np.seterr(divide='warn', invalid='warn')\n",
        "```\n",
        "\n",
        "とする。\n",
        "\n",
        "警告を制御するためのコンテキストマネージャー `numpy.errstate` も用意されている。 `numpy.errstate` のコンストラクタは `all` 以外のキーワード引数を受け付ける。特定の除算だけ警告を出さないようにするには、以下のようにする。\n",
        "\n",
        "``` python\n",
        "with np.errstate(divide='ignore', invalid='ignore'):\n",
        "    x = a / b\n",
        "```\n",
        "\n",
        "なお、 `numpy.seterrcall()` 関数の使い方については、[公式ドキュメント](https://numpy.org/doc/stable/reference/generated/numpy.seterrcall.html)を参照。"
      ],
      "metadata": {
        "id": "SGmKPMqEedEc"
      }
    },
    {
      "cell_type": "markdown",
      "source": [
        "### 論理演算 ###"
      ],
      "metadata": {
        "id": "JQ21Hc02X1st"
      }
    },
    {
      "cell_type": "markdown",
      "source": [
        "Numpy は、配列同士の論理演算をサポートしている。\n",
        "\n",
        "以下の関数は、全てユニバーサル関数であり、同じ形状の配列同士で要素ごとに論理演算を評価した結果（`True` か `False`）を要素とする新しい配列（dtype は `numpy.bool_`）を返す。\n",
        "\n",
        "| 演算 | 関数 | 演算子 | 機能 | 戻り値 |\n",
        "|:---|:---|:--:|:---|:---|\n",
        "| 論理積 | `logical_and` | `&` | 要素ごとに AND（論理積）を評価した結果 | 配列 |\n",
        "| 論理和 | `logical_or` | &#124; | 要素ごとに OR（論理和）を評価した結果 | 配列 |\n",
        "| 排他的論理和 | `logical_xor` | `^` | 要素ごとに XOR（排他的論理和）を評価した結果 | 配列 |\n",
        "| 論理否定 | `logical_not` | `~` | 入力は 1 個で、要素ごとに NOT（論理否定）を評価した結果 | 配列 |\n",
        "\n",
        "例えば、 2 つの配列 `a` と `b` に対して、 `numpy.logical_and(a, b)` と `a & b` は等価である。また、 3 つの配列 `a` と `b` と `c` に対して、 `numpy.logical_and.reduce([a, b, c])` は `numpy.logical_and(numpy.logical_and(a, b), c)` と同じで `a & b & c` と等価である。\n",
        "\n",
        "`logical_not()` は入力が 1 個であり、 `logical_not(a)` と `~a` は等価である。\n",
        "\n",
        "入力の各要素は真理値として評価される。"
      ],
      "metadata": {
        "id": "eowhjlbSX2b0"
      }
    },
    {
      "cell_type": "code",
      "source": [
        "a = np.array([True, True, False, False])\n",
        "b = np.array([True, False, True, False])\n",
        "a & b, a | b, a ^ b, ~a, a & b & ~a"
      ],
      "metadata": {
        "colab": {
          "base_uri": "https://localhost:8080/"
        },
        "id": "udeUqS5Ybj7Q",
        "outputId": "bde66670-1c1e-4e00-9502-771834e1485c"
      },
      "execution_count": null,
      "outputs": [
        {
          "output_type": "execute_result",
          "data": {
            "text/plain": [
              "(array([ True, False, False, False]),\n",
              " array([ True,  True,  True, False]),\n",
              " array([False,  True,  True, False]),\n",
              " array([False, False,  True,  True]),\n",
              " array([False, False, False, False]))"
            ]
          },
          "metadata": {},
          "execution_count": 132
        }
      ]
    },
    {
      "cell_type": "markdown",
      "source": [
        "2 つの入力配列の形状が一致しない場合、ブロードキャスト可能なら、演算の前に暗黙的にブロードキャストが行われる。"
      ],
      "metadata": {
        "id": "iXN2uIXaeT16"
      }
    },
    {
      "cell_type": "code",
      "source": [
        "a = np.array([True, True, False, False])\n",
        "a & False"
      ],
      "metadata": {
        "colab": {
          "base_uri": "https://localhost:8080/"
        },
        "id": "vhejcvFoeUqP",
        "outputId": "7dfe7776-c13e-4d86-a450-41b7b7394c5f"
      },
      "execution_count": null,
      "outputs": [
        {
          "output_type": "execute_result",
          "data": {
            "text/plain": [
              "array([False, False, False, False])"
            ]
          },
          "metadata": {},
          "execution_count": 133
        }
      ]
    },
    {
      "cell_type": "markdown",
      "source": [
        "スカラー値同士で `&, |, ^, ~` は、 Python のビット演算となることに注意する。"
      ],
      "metadata": {
        "id": "f-A1AfhKezZP"
      }
    },
    {
      "cell_type": "markdown",
      "source": [
        "### 比較演算 ###"
      ],
      "metadata": {
        "id": "-92P-rOvh-fg"
      }
    },
    {
      "cell_type": "markdown",
      "source": [
        "Numpy は、配列同士の比較演算をサポートしている。\n",
        "\n",
        "以下の関数は、同じ形状の配列同士で要素ごとに大小や等価性を比較し、その評価結果（`True` か `False`）を要素とする新しい配列（dtype は `numpy.bool_`）を返す。\n",
        "\n",
        "| 演算 | 関数 | 演算子 | 機能 | 戻り値 |\n",
        "|:---|:---|:--:|:---|:---|\n",
        "| 大なり | `greater` | `>` | 要素ごとに `>` を評価した結果 | 配列 |\n",
        "| 大なりイコール | `greater_equal` | `>=` | 要素ごとに `>=` を評価した結果 | 配列 |\n",
        "| 小なり | `less` | `<` | 要素ごとに `<` を評価した結果 | 配列 |\n",
        "| 小なりイコール | `less_equal` | `<=` | 要素ごとに `<=` を評価した結果 | 配列 |\n",
        "| 等価性 | `equal` | `==` | 要素ごとに `==` を評価した結果 | 配列 |\n",
        "| 非等価性 | `not_equal` | `!=` | 要素ごとに `!=` を評価した結果 | 配列 |\n",
        "\n",
        "非数（NaN）との比較では常に `False` となる。"
      ],
      "metadata": {
        "id": "rSd7a2jaQ28b"
      }
    },
    {
      "cell_type": "code",
      "source": [
        "np.greater([4, 2, 1], [2, 2, np.nan])"
      ],
      "metadata": {
        "colab": {
          "base_uri": "https://localhost:8080/"
        },
        "id": "Y8z2QmDbQ3_v",
        "outputId": "d5779397-c665-4bc5-f2de-6d34720515ab"
      },
      "execution_count": null,
      "outputs": [
        {
          "output_type": "execute_result",
          "data": {
            "text/plain": [
              "array([ True, False, False])"
            ]
          },
          "metadata": {},
          "execution_count": 134
        }
      ]
    },
    {
      "cell_type": "markdown",
      "source": [
        "上記の関数は入力が 2 つの配列であるユニバーサル関数であり、暗黙的なブロードキャストをサポートする。対応する演算子も同様である。スカラー値と比較すると、その値とすべての要素がそれぞれ比較される。"
      ],
      "metadata": {
        "id": "ML0GTkfoSP95"
      }
    },
    {
      "cell_type": "code",
      "source": [
        "a = np.arange(9).reshape(3, 3)\n",
        "a < 5"
      ],
      "metadata": {
        "colab": {
          "base_uri": "https://localhost:8080/"
        },
        "id": "duPr76A6SR2B",
        "outputId": "fbbcb522-6e79-4dde-a109-cad7602997b9"
      },
      "execution_count": null,
      "outputs": [
        {
          "output_type": "execute_result",
          "data": {
            "text/plain": [
              "array([[ True,  True,  True],\n",
              "       [ True,  True, False],\n",
              "       [False, False, False]])"
            ]
          },
          "metadata": {},
          "execution_count": 135
        }
      ]
    },
    {
      "cell_type": "markdown",
      "source": [
        "一方、**上記の関数はオブジェクトとして `reduce()` メソッドをサポートしていない**ことに注意する。 Python では `a < b < c` のように比較演算子を直接つなげることができるが、 Numpy 配列同士の比較演算子ではこのような書き方はできない。比較演算子で複数条件を指定したい場合は、それぞれの条件式を別々に書き `&` などの論理演算でつなげる方法を用いる必要がある。"
      ],
      "metadata": {
        "id": "cAetzwuwi90J"
      }
    },
    {
      "cell_type": "code",
      "source": [
        "a = np.array([1, 2, 3])\n",
        "b = np.array([4, 5, 6])\n",
        "c = np.array([7, 8, 9])\n",
        "# np.greater.reduce([a, b, c]) や a < b < c のような書き方は不可\n",
        "(a < b) & (b < c)"
      ],
      "metadata": {
        "colab": {
          "base_uri": "https://localhost:8080/"
        },
        "id": "v9ljVC4if9yz",
        "outputId": "fcc9cbf0-ae22-4b13-e719-2ad863d602c5"
      },
      "execution_count": null,
      "outputs": [
        {
          "output_type": "execute_result",
          "data": {
            "text/plain": [
              "array([ True,  True,  True])"
            ]
          },
          "metadata": {},
          "execution_count": 136
        }
      ]
    },
    {
      "cell_type": "markdown",
      "source": [
        "次のコードは、比較演算の結果をブーリアンインデックスに利用する例である。"
      ],
      "metadata": {
        "id": "cnsAsGoKnQBV"
      }
    },
    {
      "cell_type": "code",
      "source": [
        "rng = np.random.default_rng()\n",
        "a = rng.random((5, 5))\n",
        "a, (a < .5)[0], a[:, (a < .5)[0]]"
      ],
      "metadata": {
        "colab": {
          "base_uri": "https://localhost:8080/"
        },
        "id": "_mc4W2mZnT-j",
        "outputId": "987e9b9f-41c6-423f-9e65-26e0e6273cce"
      },
      "execution_count": null,
      "outputs": [
        {
          "output_type": "execute_result",
          "data": {
            "text/plain": [
              "(array([[0.97597837, 0.14180546, 0.67503652, 0.91071182, 0.71749993],\n",
              "        [0.72012836, 0.52573144, 0.20651588, 0.23902442, 0.43791389],\n",
              "        [0.32118164, 0.46745595, 0.99283164, 0.40630831, 0.30150005],\n",
              "        [0.73093661, 0.94985406, 0.27493701, 0.57216297, 0.77283029],\n",
              "        [0.04096411, 0.83482705, 0.47359417, 0.53937537, 0.49683626]]),\n",
              " array([False,  True, False, False, False]),\n",
              " array([[0.14180546],\n",
              "        [0.52573144],\n",
              "        [0.46745595],\n",
              "        [0.94985406],\n",
              "        [0.83482705]]))"
            ]
          },
          "metadata": {},
          "execution_count": 137
        }
      ]
    },
    {
      "cell_type": "markdown",
      "source": [
        "Numpy では、配列の間で `==` 演算子を使うと、`bool` 型の配列が返される。"
      ],
      "metadata": {
        "id": "xt4GE3xlJ5gL"
      }
    },
    {
      "cell_type": "code",
      "source": [
        "a = np.array([1, 2, 3])\n",
        "a == a"
      ],
      "metadata": {
        "colab": {
          "base_uri": "https://localhost:8080/"
        },
        "id": "FCmcAioSJ62n",
        "outputId": "ce88910d-e68d-4f11-c447-3e6f125c0857"
      },
      "execution_count": null,
      "outputs": [
        {
          "output_type": "execute_result",
          "data": {
            "text/plain": [
              "array([ True,  True,  True])"
            ]
          },
          "metadata": {},
          "execution_count": 138
        }
      ]
    },
    {
      "cell_type": "markdown",
      "source": [
        "配列同士が等しいときに単一の `True` を返す関数として、次の関数も提供されている。\n",
        "\n",
        "``` python\n",
        "numpy.array_equal(a1, a2, equal_nan=False)\n",
        "```\n",
        "\n",
        "非数（NaN）同士は等しいとはされないのであるが、この関数は、第 3 引数 `equal_nan` に `True` が指定されると、非数（NaN）同士を等しいものとみなす。"
      ],
      "metadata": {
        "id": "LMcz7yPDK026"
      }
    },
    {
      "cell_type": "code",
      "source": [
        "a = np.array([1, 2, np.nan])\n",
        "assert np.array_equal(a, a, equal_nan=True)"
      ],
      "metadata": {
        "id": "G7zsBpGCK1vw"
      },
      "execution_count": null,
      "outputs": []
    },
    {
      "cell_type": "markdown",
      "source": [
        "一方、 `==` では dtype が一致することは必要とされない。"
      ],
      "metadata": {
        "id": "x7BkByUfMFLZ"
      }
    },
    {
      "cell_type": "code",
      "source": [
        "a = np.array([1, 2, 3], dtype=int)\n",
        "b = np.array([1., 2., 3.], dtype=float)\n",
        "a == b"
      ],
      "metadata": {
        "colab": {
          "base_uri": "https://localhost:8080/"
        },
        "id": "wemOe1iBMGi1",
        "outputId": "a4d1014d-9f62-4b50-cc5e-331b8dac1bfa"
      },
      "execution_count": null,
      "outputs": [
        {
          "output_type": "execute_result",
          "data": {
            "text/plain": [
              "array([ True,  True,  True])"
            ]
          },
          "metadata": {},
          "execution_count": 140
        }
      ]
    },
    {
      "cell_type": "markdown",
      "source": [
        "配列の dtype が浮動小数点数の場合、 `numpy.equal()` 関数や `==` 演算子は扱いにくい。浮動小数点数の演算には丸め誤差が発生してしまうからである。2 つの浮動小数点数が許容誤差の範囲内なら「等しい」とするには、次の非ユニバーサル関数を使用する必要がある。\n",
        "\n",
        "``` python\n",
        "numpy.isclose(a, b, rtol=1e-05, atol=1e-08, equal_nan=False)\n",
        "```\n",
        "\n",
        "配列 `a` の要素 `xa` と対応する配列 `b` の要素 `xb` の絶対差が、相対差 `(rtol * abs(xb))` と絶対差 `atol` を加算した値以下であるとき、`xa` と `xb` は許容誤差の範囲内とされる:\n",
        "\n",
        "$$\n",
        "abs(xa - xb) <= (atol + rtol * abs(xb))\n",
        "$$\n",
        "\n",
        "`equal_nan` 引数の意味は `numpy.array_equal()` の同名の引数と同じ。"
      ],
      "metadata": {
        "id": "ZQYcq_NtNZxJ"
      }
    },
    {
      "cell_type": "code",
      "source": [
        "np.isclose([1e10, 1e-8], [1.00001e10, 1e-9])"
      ],
      "metadata": {
        "colab": {
          "base_uri": "https://localhost:8080/"
        },
        "id": "79Mv096hN4wv",
        "outputId": "a54b1556-53a6-4438-a58e-e536ce89ac0e"
      },
      "execution_count": null,
      "outputs": [
        {
          "output_type": "execute_result",
          "data": {
            "text/plain": [
              "array([ True,  True])"
            ]
          },
          "metadata": {},
          "execution_count": 141
        }
      ]
    },
    {
      "cell_type": "markdown",
      "source": [
        "`numpy.isclose()` は、非ユニバーサル関数でありながら暗黙的なブロードキャストをサポートする。"
      ],
      "metadata": {
        "id": "GSYwN7Dc2XuU"
      }
    },
    {
      "cell_type": "code",
      "source": [
        "a = np.array([1e-8, 1e-7])\n",
        "np.isclose(a, 0.0)  # np.isclose([1e-8, 1e-7], [0.0, 0.0]) と同じ"
      ],
      "metadata": {
        "colab": {
          "base_uri": "https://localhost:8080/"
        },
        "id": "IwYCOUUd2YnR",
        "outputId": "afff847c-9d24-432d-e015-06fe7a8ec713"
      },
      "execution_count": null,
      "outputs": [
        {
          "output_type": "execute_result",
          "data": {
            "text/plain": [
              "array([ True, False])"
            ]
          },
          "metadata": {},
          "execution_count": 142
        }
      ]
    },
    {
      "cell_type": "markdown",
      "source": [
        "Numpy は、配列同士で全要素が許容誤差の範囲内のとき単一の `True` を返す関数も提供している。\n",
        "\n",
        "``` python\n",
        "numpy.allclose(a, b, rtol=1e-05, atol=1e-08, equal_nan=False)\n",
        "```\n",
        "\n",
        "この関数は、 `numpy.all(numpy.isclose(a, b, rtol, atol, equal_nan))` として実装されている。したがって、引数の意味は `numpy.isclose()` 関数と同じ。また、この実装のため、 `numpy.allclose` は、暗黙的なブロードキャストをサポートすることになって、  2 つの入力配列の次元数や形状が異なっていても `True` を返すことがあることに注意する。"
      ],
      "metadata": {
        "id": "e88S0RlKy62s"
      }
    },
    {
      "cell_type": "code",
      "source": [
        "a = np.array([1e-8, 1e-9])\n",
        "assert np.allclose(a, a)\n",
        "assert np.allclose(a, 0.0)  # np.allclose([1e-8, 1e-7], [0.0, 0.0]) と同じ"
      ],
      "metadata": {
        "id": "POqv7V6fjBm3"
      },
      "execution_count": null,
      "outputs": []
    },
    {
      "cell_type": "markdown",
      "source": [
        "Numpy は、単項の比較演算を行うユニバーサル関数も提供している。\n",
        "\n",
        "| 関数 | 機能 | 戻り値 |\n",
        "|:---|:---|:---|\n",
        "| `isnan` | 要素ごとに非数 `numpy.nan` であるかをテストし、結果を `bool` 型の配列として返す | 配列 |\n",
        "| `isinf` | 要素ごとに無限大 `numpy.inf` であるかをテストし、結果を `bool` 型の配列として返す | 配列 |"
      ],
      "metadata": {
        "id": "BzUb16lOrmav"
      }
    },
    {
      "cell_type": "code",
      "source": [
        "a = np.array([1., np.nan, np.inf])\n",
        "np.isnan(a), np.isinf(a)"
      ],
      "metadata": {
        "colab": {
          "base_uri": "https://localhost:8080/"
        },
        "id": "SJ_TwqJurnWX",
        "outputId": "e3d8ed31-86db-4157-9e58-77f6b84c5044"
      },
      "execution_count": null,
      "outputs": [
        {
          "output_type": "execute_result",
          "data": {
            "text/plain": [
              "(array([False,  True, False]), array([False, False,  True]))"
            ]
          },
          "metadata": {},
          "execution_count": 144
        }
      ]
    },
    {
      "cell_type": "markdown",
      "source": [
        "### 最大化・最小化 ###"
      ],
      "metadata": {
        "id": "sMr5QLdcly-T"
      }
    },
    {
      "cell_type": "markdown",
      "source": [
        "Numpy は、 2 つの入力配列の両方に対して、要素ごとに大きな要素（または小さな要素）を持つ配列を作成する関数をサポートする。\n",
        "\n",
        "| 関数 | 機能 | 戻り値 |\n",
        "|:---|:---|:---|\n",
        "| `maximum` | 同じ形状の配列同士で要素ごとに比較して大きいほうを選んで新しい配列を返す。比較される要素の 1 つが非数（NaN）である場合、常に非数のほうを選ぶ | 配列 |\n",
        "| `fmax` | `maximum` と似ているが、比較される要素の 1 つが非数（NaN）である場合は常に非数でないほうを選ぶ | 配列 |\n",
        "| `minimum` | 同じ形状の配列同士で要素ごとに比較して小さいほうを選んで新しい配列を返す。比較される要素の 1 つが非数（NaN）である場合、常に非数のほうを選ぶ | 配列 |\n",
        "| `fmin` | `minimum` と似ているが、比較される要素の 1 つが非数（NaN）である場合は常に非数でないほうを選ぶ | 配列 |\n",
        "\n",
        "`numpy.maximum()` と `numpy.fmax()` の違い、および、 `numpy.minimum()` と `numpy.fmin()` の違いは、次のコードで確かめられる。"
      ],
      "metadata": {
        "id": "kkO7bnWzh_e7"
      }
    },
    {
      "cell_type": "code",
      "source": [
        "a = np.array([2, 3, 4, np.nan, 0, np.nan])\n",
        "b = np.array([1, 5, 2, 0, np.nan, np.nan])\n",
        "np.maximum(a, b), np.fmax(a, b), np.minimum(a, b), np.fmin(a, b)"
      ],
      "metadata": {
        "colab": {
          "base_uri": "https://localhost:8080/"
        },
        "id": "wuSrn0QULkdl",
        "outputId": "ccc3f143-aebf-4ae7-b2c0-6328f2605cdd"
      },
      "execution_count": null,
      "outputs": [
        {
          "output_type": "execute_result",
          "data": {
            "text/plain": [
              "(array([ 2.,  5.,  4., nan, nan, nan]),\n",
              " array([ 2.,  5.,  4.,  0.,  0., nan]),\n",
              " array([ 1.,  3.,  2., nan, nan, nan]),\n",
              " array([ 1.,  3.,  2.,  0.,  0., nan]))"
            ]
          },
          "metadata": {},
          "execution_count": 145
        }
      ]
    },
    {
      "cell_type": "markdown",
      "source": [
        "上記の関数は入力が 2 つの配列であるユニバーサル関数であり、暗黙的なブロードキャストをサポートする。入力の 1 つをスカラー値にすると、配列の要素の最小値をスカラー値以上にしたり、配列の要素の最大値をスカラー値以下にすることができる。"
      ],
      "metadata": {
        "id": "udal4nm1Us8j"
      }
    },
    {
      "cell_type": "code",
      "source": [
        "a = np.array([-0.1, 0.2, -0.3, 1.4])\n",
        "np.maximum(a, 0), np.minimum(a, 1)"
      ],
      "metadata": {
        "colab": {
          "base_uri": "https://localhost:8080/"
        },
        "id": "leHCxTVdi3zV",
        "outputId": "8acb50c8-0b33-4dd4-fd90-86a064df0148"
      },
      "execution_count": null,
      "outputs": [
        {
          "output_type": "execute_result",
          "data": {
            "text/plain": [
              "(array([0. , 0.2, 0. , 1.4]), array([-0.1,  0.2, -0.3,  1. ]))"
            ]
          },
          "metadata": {},
          "execution_count": 146
        }
      ]
    },
    {
      "cell_type": "markdown",
      "source": [
        "### 最大公約数・最小公倍数 ###"
      ],
      "metadata": {
        "id": "6lYHhxw9l-J6"
      }
    },
    {
      "cell_type": "markdown",
      "source": [
        "Numpy は、 2 つの入力配列の要素ごとに最大公約数や最小公倍数を計算するユニバーサル関数を提供している。\n",
        "\n",
        "| 関数 | 機能 | 戻り値 |\n",
        "|:---|:---|:---|\n",
        "| `gcd` | 同じ形状の配列同士で要素ごとに最大公約数を計算する | 配列 |\n",
        "| `lcm` | 同じ形状の配列同士で要素ごとに最小公倍数を計算する | 配列 |\n",
        "\n",
        "3 つ以上の配列を処理したい場合は、関数の `reduce()` メソッドが使える。"
      ],
      "metadata": {
        "id": "9ZOf06gAeHmG"
      }
    },
    {
      "cell_type": "code",
      "source": [
        "a = np.array([0, 2, 3, 6])\n",
        "b = np.array([3, 4, 5, 15])\n",
        "c = np.array([6, 8, 9, 9])\n",
        "\n",
        "np.gcd.reduce([a, b, c])  # np.gcd(np.gcd(a, b), c) と同じ"
      ],
      "metadata": {
        "colab": {
          "base_uri": "https://localhost:8080/"
        },
        "id": "96VSQqgceI02",
        "outputId": "1e2ba2ec-55b6-40a2-c210-ea2841428da1"
      },
      "execution_count": null,
      "outputs": [
        {
          "output_type": "execute_result",
          "data": {
            "text/plain": [
              "array([3, 2, 1, 3])"
            ]
          },
          "metadata": {},
          "execution_count": 147
        }
      ]
    },
    {
      "cell_type": "markdown",
      "source": [
        "### 三角関数 ###"
      ],
      "metadata": {
        "id": "LCcYjN-AJvLp"
      }
    },
    {
      "cell_type": "markdown",
      "source": [
        "Numpy は、入力配列の要素ごとに三角関数や逆三角関数を計算する単項のユニバーサル関数を提供している。\n",
        "\n",
        "| 関数 | 機能 | 戻り値 |\n",
        "|:---|:---|:---|\n",
        "| `sin` | 各要素が角度のラジアンを示す入力配列に対し、要素ごとに正弦（サイン）を計算する | 配列 |\n",
        "| `cos` | 各要素が角度のラジアンを示す入力配列に対し、要素ごとに余弦（コサイン）を計算する | 配列 |\n",
        "| `tan` | 各要素が角度のラジアンを示す入力配列に対し、要素ごとに正接（タンジェント）を計算する | 配列 |\n",
        "| `arcsin` | 各要素が単位円上の y 座標を示す入力配列に対し、要素ごとに逆正弦（アークサイン）を計算する | 配列 |\n",
        "| `arccos` | 各要素が単位円上の x 座標を示す入力配列に対し、要素ごとに逆余弦（アークコサイン）を計算する | 配列 |\n",
        "| `arctan` | 各要素が単位円上の x 座標・ y 座標で `y/x` を示す入力配列に対し、要素ごとに逆正接（アークタンジェント）を計算する。入力の要素が負の値の時は y 座標が負<br />であるとみなす | 配列 |\n",
        "| `degrees` | 各要素が角度のラジアンを示す入力配列に対し、要素ごとに度に変換する | 配列 |\n",
        "| `rad2deg` | `degrees` と同等 | 配列 |\n",
        "| `radians` | 各要素が角度の度を示す入力配列に対し、要素ごとにラジアンに変換する | 配列 |\n",
        "| `deg2rad` | `radians` と同等 | 配列 |\n",
        "\n",
        "正接については、二項関数 `numpy.arctan2()` も提供されている。 `numpy.arctan()` は、負の入力を常に y 座標が負であるとみなすので、第一象限と第四象限の範囲での角度（`-pi/2` から `pi/2`）しか取得できない。これに対して、 `numpy.arctan2(y, x)` は、 x 座標・ y 座標を個別に指定することになり、`y/x` の逆正接を計算するので、第二象限と第三象限の範囲での角度（`pi/2` から `pi`、`-pi` から `-pi/2` ）も取得できる。"
      ],
      "metadata": {
        "id": "VJW6xjRWEfzg"
      }
    },
    {
      "cell_type": "code",
      "source": [
        "x = np.array([-1, +1, +1, -1])\n",
        "y = np.array([-1, -1, +1, +1])\n",
        "np.degrees(np.arctan(y/x)), np.degrees(np.arctan2(y, x))"
      ],
      "metadata": {
        "colab": {
          "base_uri": "https://localhost:8080/"
        },
        "id": "UNFrIyHkEmBv",
        "outputId": "feedc172-4859-48fe-b266-685ef3983950"
      },
      "execution_count": null,
      "outputs": [
        {
          "output_type": "execute_result",
          "data": {
            "text/plain": [
              "(array([ 45., -45.,  45., -45.]), array([-135.,  -45.,   45.,  135.]))"
            ]
          },
          "metadata": {},
          "execution_count": 148
        }
      ]
    },
    {
      "cell_type": "markdown",
      "source": [
        "### 丸め ###"
      ],
      "metadata": {
        "id": "YLzBFvM88KVP"
      }
    },
    {
      "cell_type": "markdown",
      "source": [
        "以下は、丸めを行う単項のユニバーサル関数である。\n",
        "\n",
        "| 関数 | 機能 | 戻り値 |\n",
        "|:---|:---|:---|\n",
        "| `rint` | 配列の要素ごとに小数点以下を「偶数丸め」で丸める | 配列 |\n",
        "| `ceil` | 配列の要素ごとに天井を計算する | 配列 |\n",
        "| `floor` | 配列の要素ごとに床を計算する | 配列 |\n",
        "| `trunc` | 配列の要素ごとに小数点以下を切り捨てる | 配列 |"
      ],
      "metadata": {
        "id": "6LDGdW7FJwNn"
      }
    },
    {
      "cell_type": "code",
      "source": [
        "a = np.array([0, np.pi/2, np.pi])\n",
        "np.rint(np.sin(a)), np.rint(np.cos(a))"
      ],
      "metadata": {
        "colab": {
          "base_uri": "https://localhost:8080/"
        },
        "id": "VhWU4nMbFJ33",
        "outputId": "4b39d508-6e01-4977-8300-da2f45e21250"
      },
      "execution_count": 3,
      "outputs": [
        {
          "output_type": "execute_result",
          "data": {
            "text/plain": [
              "(array([0., 1., 0.]), array([ 1.,  0., -1.]))"
            ]
          },
          "metadata": {},
          "execution_count": 3
        }
      ]
    },
    {
      "cell_type": "code",
      "source": [
        "a = np.array([-1.7, -1.5, -0.2, 0.2, 1.5, 1.7, 2.0])\n",
        "np.ceil(a), np.floor(a), np.trunc(a)"
      ],
      "metadata": {
        "colab": {
          "base_uri": "https://localhost:8080/"
        },
        "id": "XLgWnaMy2_iR",
        "outputId": "2949df9d-0e9e-404c-eff6-a31de947ef84"
      },
      "execution_count": null,
      "outputs": [
        {
          "output_type": "execute_result",
          "data": {
            "text/plain": [
              "(array([-1., -1., -0.,  1.,  2.,  2.,  2.]),\n",
              " array([-2., -2., -1.,  0.,  1.,  1.,  2.]),\n",
              " array([-1., -1., -0.,  0.,  1.,  1.,  2.]))"
            ]
          },
          "metadata": {},
          "execution_count": 150
        }
      ]
    },
    {
      "cell_type": "markdown",
      "source": [
        "任意の桁で「偶数丸め」をするには、次の非ユニバーサル関数・メソッドを使用する必要がある。\n",
        "\n",
        "``` python\n",
        "numpy.round(a, decimals=0, out=None)\n",
        "ndarray.round(decimals=0, out=None)\n",
        "```\n",
        "\n",
        "例えば、 `a.round(decimals)` は `numpy.round(a, decimals)` と同じ。\n",
        "\n",
        "| 引数 | 意味 |\n",
        "|:---|:---|\n",
        "| `a` | 入力。array-like オブジェクトを受け付ける |\n",
        "| `decimals` | 四捨五入する小数点以下の桁数を指定する。デフォルトは `0`。負の場合、小数点の左側の桁数を指定する |\n",
        "| `out` | 結果を保存する配列 |"
      ],
      "metadata": {
        "id": "YZkjfPWKdJ7R"
      }
    },
    {
      "cell_type": "code",
      "source": [
        "np.round([np.e, np.pi], 2)"
      ],
      "metadata": {
        "colab": {
          "base_uri": "https://localhost:8080/"
        },
        "id": "h6HwAbjjdV5F",
        "outputId": "58c4803b-ae57-48ff-9dcb-8b41604a35f4"
      },
      "execution_count": null,
      "outputs": [
        {
          "output_type": "execute_result",
          "data": {
            "text/plain": [
              "array([2.72, 3.14])"
            ]
          },
          "metadata": {},
          "execution_count": 151
        }
      ]
    },
    {
      "cell_type": "markdown",
      "source": [
        "また、Numpy は、浮動小数点数を小数点以下 8 桁で四捨五入して表示する。これは表示上の処理であって、値そのものが丸められたわけではない。浮動小数点数を表示する桁数は変更可能で、 `numpy.set_printoptions()` 関数で指定することができる。"
      ],
      "metadata": {
        "id": "-RJZduiFUYaT"
      }
    },
    {
      "cell_type": "code",
      "source": [
        "a = np.array([1.123456789])\n",
        "np.set_printoptions(precision=4)\n",
        "print(a)\n",
        "np.set_printoptions(precision=8)  # デフォルト\n",
        "print(a)"
      ],
      "metadata": {
        "colab": {
          "base_uri": "https://localhost:8080/"
        },
        "id": "sMudGVygUZTs",
        "outputId": "7f5e554f-5718-4a88-c61d-ca3573e6a11b"
      },
      "execution_count": null,
      "outputs": [
        {
          "output_type": "stream",
          "name": "stdout",
          "text": [
            "[1.1235]\n",
            "[1.12345679]\n"
          ]
        }
      ]
    },
    {
      "cell_type": "markdown",
      "source": [
        "### 絶対値・二乗・平方根 ###"
      ],
      "metadata": {
        "id": "jYR4SIZ7eO6k"
      }
    },
    {
      "cell_type": "markdown",
      "source": [
        "以下は、絶対値・二乗・平方根を計算する単項のユニバーサル関数である。\n",
        "\n",
        "| 関数 | 機能 | 戻り値 |\n",
        "|:---|:---|:---|\n",
        "| `absolute` | 配列の要素ごとに絶対値を計算する。複素数型の入力に対応する | 配列 |\n",
        "| `abs` | `absolute` の別名 | 配列 |\n",
        "| `fabs` | 配列の要素ごとに絶対値を計算する。入力が整数型なら出力の dtype が `float` となる。複素数型の入力には `TypeError` が発生する | 配列 |\n",
        "| `square` | 配列の要素ごとに二乗を計算する | 配列 |\n",
        "| `sqrt` | 配列の要素ごとに負でない平方根を計算する | 配列 |\n",
        "\n",
        "なお、 `numpy.ndarray` には特殊メソッド `__abs__()` が定義されており、 Python の組み込み関数 `abs()` の引数に指定することができる。"
      ],
      "metadata": {
        "id": "m5G5ccm-IXpP"
      }
    },
    {
      "cell_type": "code",
      "source": [
        "assert np.absolute(3+4j) == abs(3+4j) == 5.0\n",
        "a = np.array([-1, 1])\n",
        "np.abs(a), abs(a), np.fabs(a)"
      ],
      "metadata": {
        "colab": {
          "base_uri": "https://localhost:8080/"
        },
        "id": "KsrXh2szXb6n",
        "outputId": "9e463efb-3b93-4170-8689-b67ba4ec0573"
      },
      "execution_count": 4,
      "outputs": [
        {
          "output_type": "execute_result",
          "data": {
            "text/plain": [
              "(array([1, 1]), array([1, 1]), array([1., 1.]))"
            ]
          },
          "metadata": {},
          "execution_count": 4
        }
      ]
    },
    {
      "cell_type": "code",
      "source": [
        "x = np.sqrt([2, 3, 4])\n",
        "x.round(2), np.square(x)"
      ],
      "metadata": {
        "colab": {
          "base_uri": "https://localhost:8080/"
        },
        "id": "ljrDKb24xPbe",
        "outputId": "420aa61a-ee3a-4e69-e78b-9acafdfbd52c"
      },
      "execution_count": null,
      "outputs": [
        {
          "output_type": "execute_result",
          "data": {
            "text/plain": [
              "(array([1.41, 1.73, 2.  ]), array([2., 3., 4.]))"
            ]
          },
          "metadata": {},
          "execution_count": 154
        }
      ]
    },
    {
      "cell_type": "markdown",
      "source": [
        "### 指数関数・対数関数 ###"
      ],
      "metadata": {
        "id": "nQlDEtLSfodw"
      }
    },
    {
      "cell_type": "markdown",
      "source": [
        "以下は、指数関数・対数関数を計算する単項のユニバーサル関数である。\n",
        "\n",
        "| 関数 | 機能 | 戻り値 |\n",
        "|:---|:---|:---|\n",
        "| `exp` | 配列の要素 $x$ ごとに自然指数関数 $e^x$ を計算する（$e$ はネイピア数） | 配列 |\n",
        "| `log` | 配列の要素 $x$ ごとに自然対数 $\\log_{e}x$ を計算する（$e$ はネイピア数） | 配列 |\n",
        "| `log10` | 配列の要素 $x$ ごとに常用対数 $\\log_{10}x$ を計算する | 配列 |\n",
        "| `log2` | 配列の要素 $x$ ごとに二進対数 $\\log_{2}x$ を計算する | 配列 |"
      ],
      "metadata": {
        "id": "d8SCfNjG80jp"
      }
    },
    {
      "cell_type": "code",
      "source": [
        "np.exp([0, 1, 2]), np.log([1, np.e, np.e**2]), np.log10([1, 10, 100]), np.log2([1, 2, 4])"
      ],
      "metadata": {
        "colab": {
          "base_uri": "https://localhost:8080/"
        },
        "id": "F9nXw2o8948F",
        "outputId": "a0eaf407-fc4f-43a5-cccf-9bf19519e308"
      },
      "execution_count": null,
      "outputs": [
        {
          "output_type": "execute_result",
          "data": {
            "text/plain": [
              "(array([1.        , 2.71828183, 7.3890561 ]),\n",
              " array([0., 1., 2.]),\n",
              " array([0., 1., 2.]),\n",
              " array([0., 1., 2.]))"
            ]
          },
          "metadata": {},
          "execution_count": 155
        }
      ]
    },
    {
      "cell_type": "markdown",
      "source": [
        "### 区分関数 ###"
      ],
      "metadata": {
        "id": "xeQ2kWlVco3Y"
      }
    },
    {
      "cell_type": "markdown",
      "source": [
        "区分関数（piecewise function）とは、定義域を分割して、区分ごとに適用する関数を指定する関数である。例えば、ステップ関数は区分関数の 1 つである。\n",
        "\n",
        "Numpy は区分関数を計算する非ユニバーサル関数を提供している。\n",
        "\n",
        "``` python\n",
        "numpy.piecewise(x, condlist, funclist, *args, **kw)\n",
        "```\n",
        "\n",
        "| 引数 | 意味 |\n",
        "|:---|:---|\n",
        "| `x` | 計算の対象とする配列 |\n",
        "| `condlist` | 条件のリスト。各要素は `x` と同じ形状のブール型配列でなければならない |\n",
        "| `funclist` | 各条件に対応する関数のリスト。`condlist[i]` が `True` の場合は `funclist[i](x)` が出力値として使用される。関数は配列またはスカラー値を返す必要がある。関数の代わりに<br />スカラーとすることもでき、その場合は定数関数 `lambda x: スカラー` とみなされる。`condlist` の長さより 1 つ多い関数は、全ての条件が `False` の場合に使用される |\n",
        "| `args`, `kw` | `funclist` の中の関数に追加して渡される位置引数とキーワード引数を指定する |\n",
        "\n",
        "例えば、次の関数は区分関数の 1 つである。\n",
        "\n",
        "$$\n",
        "f(x) =\n",
        "\\begin{cases}\n",
        "0 & (x < 0) \\\\\n",
        "1 & (x > 1) \\\\\n",
        "x & (otherwise)\n",
        "\\end{cases}\n",
        "$$\n",
        "\n",
        "次のコードは、この関数を `numpy.piecewise()` を使って計算する例である。"
      ],
      "metadata": {
        "id": "78LAg71rcp0g"
      }
    },
    {
      "cell_type": "code",
      "source": [
        "a = np.linspace(-2, 2, 9).reshape(3, 3)\n",
        "a, np.piecewise(a, [a < 0, a > 1], [0, 1, lambda x: x])"
      ],
      "metadata": {
        "colab": {
          "base_uri": "https://localhost:8080/"
        },
        "id": "w4T8vw3B4bw7",
        "outputId": "c3575c22-1e32-43d8-d800-8e3591fd47e4"
      },
      "execution_count": 3,
      "outputs": [
        {
          "output_type": "execute_result",
          "data": {
            "text/plain": [
              "(array([[-2. , -1.5, -1. ],\n",
              "        [-0.5,  0. ,  0.5],\n",
              "        [ 1. ,  1.5,  2. ]]),\n",
              " array([[0. , 0. , 0. ],\n",
              "        [0. , 0. , 0.5],\n",
              "        [1. , 1. , 1. ]]))"
            ]
          },
          "metadata": {},
          "execution_count": 3
        }
      ]
    },
    {
      "cell_type": "markdown",
      "source": [
        "``` python\n",
        "numpy.clip(a, a_min, a_max, out=None, **kwargs)\n",
        "```\n",
        "\n",
        "`numpy.clip(a, a_min, a_max)` は、 `numpy.piecewise(a, [a < a_min, a > a_max], [a_min, a_max, lambda a: a])` と同じ。"
      ],
      "metadata": {
        "id": "N3mcXdeFMDBG"
      }
    },
    {
      "cell_type": "code",
      "source": [
        "a = np.linspace(-2, 2, 9).reshape(3, 3)\n",
        "a, np.clip(a, 0, 1)"
      ],
      "metadata": {
        "colab": {
          "base_uri": "https://localhost:8080/"
        },
        "id": "6NBZ9vMgMEJ5",
        "outputId": "0246f3d3-56a7-4290-b957-37892c5f4f59"
      },
      "execution_count": null,
      "outputs": [
        {
          "output_type": "execute_result",
          "data": {
            "text/plain": [
              "(array([[-2. , -1.5, -1. ],\n",
              "        [-0.5,  0. ,  0.5],\n",
              "        [ 1. ,  1.5,  2. ]]),\n",
              " array([[0. , 0. , 0. ],\n",
              "        [0. , 0. , 0.5],\n",
              "        [1. , 1. , 1. ]]))"
            ]
          },
          "metadata": {},
          "execution_count": 157
        }
      ]
    },
    {
      "cell_type": "markdown",
      "source": [
        "### 集合演算 ###"
      ],
      "metadata": {
        "id": "FOrFbi0CtUtJ"
      }
    },
    {
      "cell_type": "markdown",
      "source": [
        "``` python\n",
        "numpy.isin(element, test_elements, assume_unique=False, invert=False, *, kind=None)\n",
        "```\n",
        "\n",
        "この関数は、2 つの配列を受け取り、第 1 引数の配列の要素ごとに、第 2 引数の配列の要素に含まれているなら `True`、そうでないなら `False` となる配列を返す非ユニバーサル関数である。\n",
        "\n",
        "| 引数 | 意味 |\n",
        "|:---|:---|\n",
        "| `element` | 調べたい対象の配列または array-like オブジェクト |\n",
        "| `test_elements` | この中に含まれているかを判定する配列または array-like オブジェクト |\n",
        "| `assume_unique` | 両方の配列が一意な値だけからなると仮定して高速化したいときに `True` を指定する。デフォルトは `False` |\n",
        "| `invert` | `True` の場合、計算結果を反転させる。つまり、含まれているなら `False`、そうでないなら `True` となる配列を返す。デフォルトは `False` |\n",
        "| `kind` | キーワード専用。使用するアルゴリズムを指定する<br /><br />・`'sort'`: `test_elements` をソートしてから探索する方法（メモリ効率が良いが、少し遅め）<br /><br />・`'table'`: `test_elements` をハッシュテーブルに変換して探索する方法（高速なことが多いが、メモリ多めに使う）。`assume_unique=True` の効果はなくなる<br /><br />・`None`: デフォルト。メモリ使用量が多くなければ `'table'` を選択 |"
      ],
      "metadata": {
        "id": "astY1dEItW4M"
      }
    },
    {
      "cell_type": "code",
      "source": [
        "element = np.array([[0, 2],\n",
        "                    [4, 6]])\n",
        "test_elements = [1, 2, 4, 8]\n",
        "np.isin(element, test_elements), np.isin(element, test_elements, invert=True)"
      ],
      "metadata": {
        "colab": {
          "base_uri": "https://localhost:8080/"
        },
        "id": "hhRb4wQWt435",
        "outputId": "3912b94d-79a4-44de-aa22-87ef9304bc6e"
      },
      "execution_count": null,
      "outputs": [
        {
          "output_type": "execute_result",
          "data": {
            "text/plain": [
              "(array([[False,  True],\n",
              "        [ True, False]]),\n",
              " array([[ True, False],\n",
              "        [False,  True]]))"
            ]
          },
          "metadata": {},
          "execution_count": 8
        }
      ]
    },
    {
      "cell_type": "markdown",
      "source": [
        "実は、 `numpy.ndarray` は `__contains__` メソッドをサポートしているので Python の組み込み演算子 `in` に対応している。このため、単一の値が含まれているかどうかは `in` を使っても調べることができる。"
      ],
      "metadata": {
        "id": "Qwa1sSLlwY-Y"
      }
    },
    {
      "cell_type": "code",
      "source": [
        "a = np.array([[0, 2],\n",
        "              [4, 6]])\n",
        "4 in a, np.isin([4], a)"
      ],
      "metadata": {
        "colab": {
          "base_uri": "https://localhost:8080/"
        },
        "id": "w8f-mCQjz2np",
        "outputId": "290bdc94-5cb9-41d9-e1ed-12503317ac25"
      },
      "execution_count": 11,
      "outputs": [
        {
          "output_type": "execute_result",
          "data": {
            "text/plain": [
              "(True, array([ True]))"
            ]
          },
          "metadata": {},
          "execution_count": 11
        }
      ]
    },
    {
      "cell_type": "markdown",
      "source": [
        "しかし、 `numpy.isin()` 関数を使うほうが速い。以下のコードは、 Python の集合に対する `in` 演算子と、配列に対する `in` 演算子と、配列に対する `numpy.isin()` 関数の実行速度を比較している。"
      ],
      "metadata": {
        "id": "Iqzi-z2U0t4i"
      }
    },
    {
      "cell_type": "code",
      "source": [
        "import time\n",
        "\n",
        "# テストデータを作成\n",
        "np.random.seed(0)\n",
        "size = 100_000  # 要素数\n",
        "elements = np.random.randint(0, 200_000, size)\n",
        "test_elements = np.random.randint(0, 200_000, size // 10)  # 少なめの検索対象\n",
        "\n",
        "# データ型を準備\n",
        "elements_set = set(elements)\n",
        "elements_array = elements  # NumPy配列そのまま\n",
        "\n",
        "# --- ① 集合 set に対する in ---\n",
        "start = time.perf_counter()\n",
        "results_set = [el in elements_set for el in test_elements]\n",
        "time_set = time.perf_counter() - start\n",
        "\n",
        "# --- ② 配列 ndarray に対する in ---\n",
        "start = time.perf_counter()\n",
        "results_array_in = [el in elements_array for el in test_elements]\n",
        "time_array_in = time.perf_counter() - start\n",
        "\n",
        "# --- ③ NumPy配列に対して numpy.isin() ---\n",
        "start = time.perf_counter()\n",
        "results_isin = np.isin(test_elements, elements_array)\n",
        "time_isin = time.perf_counter() - start\n",
        "\n",
        "# --- 結果を表示 ---\n",
        "print(f\"集合(set)に対するin: {time_set:.6f} 秒\")\n",
        "print(f\"配列(ndarray)に対するin: {time_array_in:.6f} 秒\")\n",
        "print(f\"numpy.isin(): {time_isin:.6f} 秒\")"
      ],
      "metadata": {
        "colab": {
          "base_uri": "https://localhost:8080/"
        },
        "id": "cof-CTO1wZkU",
        "outputId": "ce03760c-9773-4548-cb22-e618eb103326"
      },
      "execution_count": 9,
      "outputs": [
        {
          "output_type": "stream",
          "name": "stdout",
          "text": [
            "集合(set)に対するin: 0.004179 秒\n",
            "配列(ndarray)に対するin: 1.273177 秒\n",
            "numpy.isin(): 0.001258 秒\n"
          ]
        }
      ]
    },
    {
      "cell_type": "markdown",
      "source": [
        "### 行列積・内積 ###"
      ],
      "metadata": {
        "id": "fLghnbO6Rf9W"
      }
    },
    {
      "cell_type": "markdown",
      "source": [
        "`numpy.matmul()` は、配列同士の行列積・内積をサポートするユニバーサル関数である。演算子 `@` もサポートされ、 `numpy.matmul(a, b)` と `a @ b` は等価である。\n",
        "\n",
        "2 次元配列 `a` と `b` の間の行列積 `a @ b` では、その出力配列の `[i, j]` 位置の要素が以下のようにして計算される。\n",
        "\n",
        "  1. 配列 `a` 内の `i` 番目の行 `a[i]` と配列 `b` 内の `j` 番目の列 `b[:, j]` とで、順番に要素の積を取り\n",
        "  2. それらを全て足し合わせた和とする\n",
        "\n",
        "つまり、`(a @ b)[i, j]` 要素は、次のように計算される。\n",
        "\n",
        "$$\n",
        "(a\\,@\\,b)[i, j] = a[i, 0] * b[0, j] + a[i, 1] * b[1, j] + \\cdots + a[i, k] * b[k, j] \\quad (k == a.shape[1] - 1 == b.shape[0] - 1)\n",
        "$$\n",
        "\n",
        "行列積 `a @ b` では、左側の配列の `a.shape[1]`（ 1 軸方向のサイズ）と右側の配列の `b.shape[0]`（ 0 軸方向のサイズ）が一致している必要がある。出力配列の形状は、 `(a.shape[0], b.shape[1])` と一致する。例えば、形状がそれぞれ `(n, k)` と `(k, m)` である 2 次元配列同士の行列積では、出力配列の形状が `(n, m)` となる。 `out` 引数に指定する配列は、この形状に一致させる必要がある。"
      ],
      "metadata": {
        "id": "5spzhDgzCO1A"
      }
    },
    {
      "cell_type": "code",
      "source": [
        "# 2 x 3 行列\n",
        "a = np.array([[1, 2, 3],\n",
        "              [4, 5, 6]])\n",
        "# 3 x 2 行列\n",
        "b = np.array([[1, 2],\n",
        "              [3, 4],\n",
        "              [5, 6]])\n",
        "a @ b\n",
        "# 2 x 2 行列\n",
        "# [[1 * 1 + 2 * 3 + 3 * 5, 1 * 2 + 2 * 4 + 3 * 6],\n",
        "#  [4 * 1 + 5 * 3 + 6 * 5, 4 * 2 + 5 * 4 + 6 * 6]]]"
      ],
      "metadata": {
        "colab": {
          "base_uri": "https://localhost:8080/"
        },
        "id": "aNZjFQFqzCyJ",
        "outputId": "e57790c8-ef1f-4450-da45-19a472c7f69c"
      },
      "execution_count": null,
      "outputs": [
        {
          "output_type": "execute_result",
          "data": {
            "text/plain": [
              "array([[22, 28],\n",
              "       [49, 64]])"
            ]
          },
          "metadata": {},
          "execution_count": 158
        }
      ]
    },
    {
      "cell_type": "markdown",
      "source": [
        "`numpy.matmul()` 関数と `@` 演算子も、暗黙的なブロードキャストをサポートするが、その働きはほかのユニバーサル関数とはかなり異なる。\n",
        "\n",
        "  1. 両方の引数が 2 次元配列の場合、ブロードキャストは行われない。左側の配列の `shape[1]` と右側の配列の `shape[0]` が一致しない場合は、`ValueError` 例外が発生する。\n",
        "  2. いずれかの引数が 3 次元以上の配列である場合、最後の 2 つのインデックスに存在する行列のバッチ（束）として扱われ、それに応じてブロードキャストされる。\n",
        "  3. 第 1 引数 `a` が 1 次元配列の場合、先頭に次元（軸）を 1 つ追加した形である `a[np.newaxis]` という 2 次元配列に形状が変更される。行列積の計算後、先頭に追加された軸が削除される（つまり `[0]` でスライスされる）。\n",
        "  4. 第 2 引数 `b` が 1 次元配列の場合、末尾に次元（軸）を 1 つ追加した形である `b[:, np.newaxis]` という 2 次元配列に形状が変更される。行列積の計算後、末尾に追加された軸が削除される（つまり、`[:, 0]` でスライスされる）。\n",
        "\n",
        "このように、ブロードキャストが行われるのは規則 2 が適用される場合、つまり、いずれかの引数が 3 次元以上の配列である場合に限られる。\n",
        "\n",
        "規則 3 と規則 4 により、 `numpy.matmul()` 関数と `@` 演算子は、ベクトルと行列との積をサポートする。とくに、規則 4 では第 2 引数のベクトルが線形代数で言うところの縦ベクトルに変換される。"
      ],
      "metadata": {
        "id": "dA_ae6UxzB6j"
      }
    },
    {
      "cell_type": "code",
      "source": [
        "a = np.array([1, 2, 3])\n",
        "b = np.array([[1, 2],\n",
        "              [3, 4],\n",
        "              [5, 6]])\n",
        "a @ b  # (a[np.newaxis] @ b)[0] と同じ\n",
        "(a[np.newaxis] @ b)[0]"
      ],
      "metadata": {
        "colab": {
          "base_uri": "https://localhost:8080/"
        },
        "id": "6eLqUXhwe4fK",
        "outputId": "fe0da891-88a2-4a5e-c9fe-91c29804114c"
      },
      "execution_count": null,
      "outputs": [
        {
          "output_type": "execute_result",
          "data": {
            "text/plain": [
              "array([22, 28])"
            ]
          },
          "metadata": {},
          "execution_count": 159
        }
      ]
    },
    {
      "cell_type": "code",
      "source": [
        "a = np.array([[1, 2, 3],\n",
        "              [4, 5, 6]])\n",
        "b = np.array([1, 3, 5])\n",
        "a @ b  # (a @ b[:, np.newaxis])[:, 0] と同じ"
      ],
      "metadata": {
        "colab": {
          "base_uri": "https://localhost:8080/"
        },
        "id": "qLcRDPL3ftpV",
        "outputId": "d49d9a1c-788b-4927-c9aa-c21297004fd3"
      },
      "execution_count": null,
      "outputs": [
        {
          "output_type": "execute_result",
          "data": {
            "text/plain": [
              "array([22, 49])"
            ]
          },
          "metadata": {},
          "execution_count": 160
        }
      ]
    },
    {
      "cell_type": "markdown",
      "source": [
        "サイズが同じ $N$ であるベクトル同士の内積は、次のような計算となる。\n",
        "\n",
        "$$\n",
        "\\mathbf{x} \\cdot \\mathbf{y} = x_1y_1 + x_2y_2 + x_3y_3 + \\cdots + x_Ny_N\n",
        "\\qquad (x_i \\in \\mathbf{x}, \\; y_i \\in \\mathbf{y})\n",
        "$$\n",
        "\n",
        "これは、 1xN 行列と Nx1 行列の積と同じ計算である。\n",
        "\n",
        "`numpy.matmul()` 関数と `@` 演算子では、規則 3 と規則 4 が同時に適用されることにより、ベクトル同士の内積もサポートされる。"
      ],
      "metadata": {
        "id": "Is1ImfZ_Fal_"
      }
    },
    {
      "cell_type": "code",
      "source": [
        "a = np.array([1, 2, 3])\n",
        "b = np.array([4, 5, 6])\n",
        "a @ b  # (a[np.newaxis] @ b[:, np.newaxis])[0, 0] と同じ"
      ],
      "metadata": {
        "colab": {
          "base_uri": "https://localhost:8080/"
        },
        "id": "J83YpBe0OKe9",
        "outputId": "d5c5d617-2cb9-4aad-dac5-0c877f2ca91d"
      },
      "execution_count": null,
      "outputs": [
        {
          "output_type": "execute_result",
          "data": {
            "text/plain": [
              "32"
            ]
          },
          "metadata": {},
          "execution_count": 161
        }
      ]
    },
    {
      "cell_type": "markdown",
      "source": [
        "Numpy は 1 次元配列同士の内積をサポートする非ユニバーサル関数 `numpy.dot()` と `numpy.inner()` も提供している。1 次元配列 `a` と `b` の間では、`numpy.dot(a, b)` と `numpy.inner(a, b)` は `a @ b` と等価である。`dot()` は  `numpy.ndarray` のメソッドとしても提供されており、 `a.dot(b)` は `numpy.dot(a, b)` と等価である。実は、 `numpy.dot()` 関数は 2 次元以上の配列同士の行列積にも対応している。しかしながら、2 次元以上の配列に対しては、`numpy.matmul()` 関数や `@` 演算子が推奨されている。\n",
        "\n",
        "`numpy.dot()` と `numpy.inner()` 関数は入力としてスカラーを受け付けるが、 `numpy.matmul()` 関数と `@` 演算子は、入力としてスカラーを受け付けないことに注意する。スカラー倍の計算には `*` を使用することが推奨されている。\n",
        "\n",
        "`numpy.matmul()` 関数と `@` 演算子では、入力の 3 次元配列は行列のバッチとみなされるため、複数の行列積をまとめて計算する形になる。すなわち、最初の次元（`axis=0`）がバッチのインデックスとなり、同じバッチインデックスの行列同士で行列積が計算される。例えば、 3 次元配列 `a` と `b` の間の行列積 `a @ b` では、次の計算と同じである。\n",
        "\n",
        "``` python\n",
        "np.array([ a[0] @ b[0], a[1] @ b[1], ..., a[a.shape[0]-1] @ b[b.shape[0]-1] ])\n",
        "```"
      ],
      "metadata": {
        "id": "0GI4JhZuKpEr"
      }
    },
    {
      "cell_type": "code",
      "source": [
        "a = np.arange(8).reshape(2, 2, 2)\n",
        "b = a[::-1, ::-1, ::-1]\n",
        "a, b, a @ b  # a @ b は np.array([ a[0] @ b[0], a[1] @ b[1] ]) と同じ"
      ],
      "metadata": {
        "colab": {
          "base_uri": "https://localhost:8080/"
        },
        "id": "8YML00nB_tD4",
        "outputId": "b304c397-9433-4121-8ffe-ffcdce3f2dc0"
      },
      "execution_count": null,
      "outputs": [
        {
          "output_type": "execute_result",
          "data": {
            "text/plain": [
              "(array([[[0, 1],\n",
              "         [2, 3]],\n",
              " \n",
              "        [[4, 5],\n",
              "         [6, 7]]]),\n",
              " array([[[7, 6],\n",
              "         [5, 4]],\n",
              " \n",
              "        [[3, 2],\n",
              "         [1, 0]]]),\n",
              " array([[[ 5,  4],\n",
              "         [29, 24]],\n",
              " \n",
              "        [[17,  8],\n",
              "         [25, 12]]]))"
            ]
          },
          "metadata": {},
          "execution_count": 162
        }
      ]
    },
    {
      "cell_type": "markdown",
      "source": [
        "### 行列式・固有値・固有ベクトル・逆行列 ###"
      ],
      "metadata": {
        "id": "Ybhk_Dt-fOS8"
      }
    },
    {
      "cell_type": "markdown",
      "source": [
        "行列に対する線形代数の関数は、行列積など一部の例外を除いて `numpy.linalg` サブパッケージで提供されている。いずれも、非ユニバーサル関数である。\n",
        "\n",
        "``` python\n",
        "numpy.linalg.det(a)\n",
        "```\n",
        "\n",
        "この関数は、第 1 引数の行列式（determinant）の値（スカラー）を返す。入力は正方行列（行と列のサイズが同じ行列）である必要がある。\n",
        "\n",
        "$n$ 次正方行列の行列式 $\\det A=(a_{i,j})$ は、次の式で定義される:\n",
        "\n",
        "$$\n",
        "\\det A := \\sum_{\\sigma\\in S_n} (\\mathrm{sgn}\\,\\sigma) a_{1, \\sigma(1)} a_{2, \\sigma(2)} \\cdots a_{n, \\sigma(n)}\n",
        "$$\n",
        "\n",
        "$S_n$ は「$1$ から $n$ までの整数を並べ替えるパターンの全て」という意味である。パターンの 1 つで決まる対応を置換と呼ぶ。 $\\sigma\\in S_n$ は置換に $\\sigma$ と名付けることを意味する。例えば、 $n=2$ の場合、 $(1,2)$ の置換は $(1,2)\\mapsto(1,2)$ と $(1,2)\\mapsto(2,1)$ の 2 つであり、 1 つ目の置換を $\\sigma$ と名付ければ $\\sigma(1)=1$ と $\\sigma(2)=2$ 、 2 つ目の置換を $\\sigma$ と名付ければ $\\sigma(1)=2$ と $\\sigma(2)=1$ となる。 $\\mathrm{sgn}\\,\\sigma$ は、置換の符号と呼ばれ、置換 $\\sigma$ において整数を 2 個ずつ入れ替えるのに必要な回数が偶数回なら符号 $+$ 、奇数回なら符号 $-$ を表す。例えば、置換 $(1,2)\\mapsto(1,2)$ は 0 回なので符号が $+$ 、置換 $(1,2)\\mapsto(2,1)$ は 1 回なので符号が $-$ となる。\n",
        "\n",
        "2 次正方行列 $A$ の行列式は、次のようになる:\n",
        "\n",
        "$$\n",
        "\\det A = a_{1,1}a_{2,2} - a_{1,2}a_{2,1}\n",
        "$$\n",
        "\n",
        "$n=3$ の場合、置換は 6 個ある。その 1 つ $(1,2,3)\\mapsto(2,3,1)$ という置換では $1$ と $3$ を入れ替えてから $3$ と $2$ を入れ替えたものなので符号は $+$ 、 $(1,2,3)\\mapsto(3,2,1)$ という置換では $1$ と $3$ を入れ替えたものなので符号は $-$。このように符号に注意すれば、3 次正方行列 $A$ の行列式は、次のようになる:\n",
        "\n",
        "$$\n",
        "\\det A = a_{1,1}a_{2,2}a_{3,3} + a_{1,2}a_{2,3}a_{3,1} + a_{1,3}a_{2,1}a_{3,2} - a_{1,3}a_{2,2}a_{3,1} - a_{1,1}a_{2,3}a_{3,2} - a_{1,2}a_{2,1}a_{3,3}\n",
        "$$\n",
        "\n",
        "4 次以上の正方行列の行列式も同様にして計算される。 $n$ 次に対して置換の個数は $n!=n\\times(n-1)\\times(n-2)\\times\\cdots\\times2\\times1$ となる。したがって、 $n$ 次正方行列の行列式は $n!$ 項の和となり、各項では $n$ 個の要素の積となる。このため、定義通りの行列式の計算量は $O(nn!)$ となる。実際の計算では効率化により計算量 $O(n^3)$ となるアルゴリズムが使われる。\n",
        "\n",
        "Numpy の配列では添字の番号が 0 から始まることに注意する。例えば、上記の $a_{1,1}$ には配列の要素 `a[0, 0]` が対応する。"
      ],
      "metadata": {
        "id": "oWQjmGiafPTq"
      }
    },
    {
      "cell_type": "code",
      "source": [
        "a = np.array([[1., 2.],\n",
        "              [3., 4.]])\n",
        "assert np.allclose(np.linalg.det(a), -2.0)  # a の行列式は 1.0 * 4.0 - 2.0 * 3.0 = -2.0"
      ],
      "metadata": {
        "id": "uAdImodzJVyg"
      },
      "execution_count": null,
      "outputs": []
    },
    {
      "cell_type": "markdown",
      "source": [
        "``` python\n",
        "numpy.linalg.eig(a)\n",
        "```\n",
        "\n",
        "この関数は、第 1 引数である `n` 次正方行列に対して、`n` 個の固有値（eigenvalue）が要素となる 1 次元配列と、各列が各固有値に対応する固有ベクトル（eigenvector）となる 2 次元配列からなる名前付きタプルを返す。固有値の 1 次元配列には、戻り値の `[0]` または名前 `eigenvalues` でアクセスできる。固有ベクトルの 2 次元配列には、戻り値の `[1]` または名前 `eigenvectors` でアクセスできる。入力は正方行列である必要がある。\n",
        "\n",
        "線形代数において、固有値、固有ベクトルの定義は以下のようになる。$n$ 次正方行列 $A$ に対して、次の方程式\n",
        "\n",
        "$$\n",
        "A\\mathbf{x} = \\lambda\\mathbf{x}\n",
        "$$\n",
        "\n",
        "を満たす零ベクトルでないベクトル $\\mathbf{x}$ とスカラー $\\lambda$ が存在するとき、 $\\mathbf{x}$ を $A$ の固有ベクトル、$\\lambda$ を $A$ の固有値と呼ぶ。\n",
        "\n",
        "固有値と固有ベクトルを幾何学的に説明すると、以下のようになる。行列とベクトルの積がベクトルとなることから、行列とベクトルの積ではベクトルの変換が行われると見ることができるのであるが、行列が、ある向きのベクトルに対しては向きを変えずに長さだけ変える（あるいは長さも変えない）形に変換するときに、そのベクトルを固有ベクトル、長さを伸縮させる量（拡大率）を固有値と呼んでいる。\n",
        "\n",
        "このように固有ベクトルは向きによって決まり、長さについては任意性がある。ふつう、固有ベクトルの長さは 1 に規格化される。\n",
        "\n",
        "簡単な例を示す。 2 次正方行列 `array([[2., 0.], [0., 3.]])` は、 x 軸と平行なベクトル `array([1., 0.])` を `array([2., 0])` に変換するので `2` が固有値で `array([1., 0])` が固有ベクトルである。また、y 軸と平行なベクトル `array([0., 1.])` を `array([0., 3.])` に変換するので `3` が固有値で `array([0., 1.])` が固有ベクトルである。幾何学的には、 `array([[2., 0.], [0., 3.]])` は画像を x 軸方向に 2 倍、y 軸方向に 3 倍に拡大する変換行列である。\n",
        "\n",
        "$n$ 次正方行列 $A$ に対して固有値を求める問題は、簡単な行列では直感的にわかるが、一般には次の $n$ 次方程式（固有方程式または特性方程式）を解く必要がある。\n",
        "\n",
        "$$\n",
        "\\det(\\lambda I - A) = 0 \\qquad (I \\,\\text{は単位行列})\n",
        "$$\n",
        "\n",
        "上の例では、次の方程式を解いたことになる:\n",
        "\n",
        "$$\n",
        "\\det\\left(\\begin{bmatrix}\\lambda&0.\\\\0.&\\lambda\\end{bmatrix} - \\begin{bmatrix}2.&0.\\\\0.&3.\\end{bmatrix}\\right)\n",
        "= \\det\\begin{bmatrix}\\lambda-2.&0.\\\\0.&\\lambda-3.\\end{bmatrix}\n",
        "= (\\lambda - 2.)(\\lambda - 3.) = 0\n",
        "$$"
      ],
      "metadata": {
        "id": "I3_rk2H07xV4"
      }
    },
    {
      "cell_type": "code",
      "source": [
        "a = np.array([[2., 0.],\n",
        "              [0., 3.]])\n",
        "assert np.allclose(a @ np.array([1., 0.]), np.array([2., 0.]))\n",
        "assert np.allclose(a @ np.array([0., 1.]), np.array([0., 3.]))\n",
        "eigenvalues, eigenvectors = np.linalg.eig(a)\n",
        "eigenvalues, eigenvectors"
      ],
      "metadata": {
        "colab": {
          "base_uri": "https://localhost:8080/"
        },
        "id": "ArCyc44utEpV",
        "outputId": "1f73cd4f-3a33-4560-c6f4-14814f51658a"
      },
      "execution_count": null,
      "outputs": [
        {
          "output_type": "execute_result",
          "data": {
            "text/plain": [
              "(array([2., 3.]),\n",
              " array([[1., 0.],\n",
              "        [0., 1.]]))"
            ]
          },
          "metadata": {},
          "execution_count": 164
        }
      ]
    },
    {
      "cell_type": "markdown",
      "source": [
        "``` python\n",
        "numpy.linalg.inv(a)\n",
        "```\n",
        "\n",
        "この関数は、第 1 引数の逆行列を返す。逆行列とは、もとの行列との行列積が単位行列になるような行列である。入力は正方行列である必要がある。逆行列の形状は、もとの行列と同じである。\n",
        "\n",
        "幾何学的には、逆行列はもとの行列に対して逆向きの変換となる。例えば、正方行列 $A$ の逆行列を $A^{-1}$ と書くと、 $AA^{-1}=I$ であり、 $A\\mathbf{x}=\\mathbf{y}$ に対して $A^{-1}\\mathbf{y}=\\mathbf{x}$ が成り立つ。なぜなら、$A^{-1}\\mathbf{y}=\\mathbf{x}$ の両辺に左から $A$ を掛けると $AA^{-1}\\mathbf{y}=A\\mathbf{x}$ であり、左辺は $AA^{-1}\\mathbf{y}=I\\mathbf{y}=\\mathbf{y}$ となるからである。\n",
        "\n",
        "$n$ 次正方行列 $A$ の逆行列 $A^{-1}$ は、 $A$ の行列式 $\\det A$ と[余因子行列](https://ja.wikipedia.org/wiki/余因子行列) $\\widetilde A$ を使って次の計算により得られることが知られている。\n",
        "\n",
        "$$\n",
        "A^{-1} = \\dfrac{1}{\\det A} \\widetilde A\n",
        "$$\n",
        "\n",
        "しかしながら、この計算方法では計算量が $O(n!)$ となることが知られている。 `numpy.linalg.inv()` 関数は LU 分解を利用するアルゴリズムを採用することで、計算量を $O(n^3)$ としている。\n",
        "\n",
        "逆行列の計算式からわかることだが、行列式が 0 である正方行列（特異行列または退化行列）は逆行列を持たない。逆行列が存在しない行列に対しては、 `linalg.inv()` 関数はエラーとなる。"
      ],
      "metadata": {
        "id": "lDjnJOogIqi_"
      }
    },
    {
      "cell_type": "code",
      "source": [
        "a = np.array([[1., 2.], [3., 4.]])\n",
        "ainv = np.linalg.inv(a)\n",
        "assert np.allclose(np.dot(a, ainv), np.eye(2))\n",
        "assert np.allclose(np.dot(ainv, a), np.eye(2))\n",
        "a, ainv"
      ],
      "metadata": {
        "colab": {
          "base_uri": "https://localhost:8080/"
        },
        "id": "vMRTlf_knNal",
        "outputId": "74cf82ec-44f5-41f8-aef6-19d6fb0f5d8b"
      },
      "execution_count": null,
      "outputs": [
        {
          "output_type": "execute_result",
          "data": {
            "text/plain": [
              "(array([[1., 2.],\n",
              "        [3., 4.]]),\n",
              " array([[-2. ,  1. ],\n",
              "        [ 1.5, -0.5]]))"
            ]
          },
          "metadata": {},
          "execution_count": 165
        }
      ]
    },
    {
      "cell_type": "markdown",
      "source": [
        "データ分析\n",
        "----------"
      ],
      "metadata": {
        "id": "lF7Ph4FYZI3g"
      }
    },
    {
      "cell_type": "markdown",
      "source": [
        "以下の関数は、第 1 引数に配列（または array-like オブジェクト）を受け付け、第 2 引数に配列の軸を指定する整数を受け付けて、指定された軸に沿って操作を行い、配列を出力する。ベクトル化されているが、全て非ユニバーサル関数である。 `numpy.ndarray` の同名のメソッドも提供されている。メソッドは、第 1 引数に軸を指定する整数を受け付ける。\n",
        "\n",
        "引数として `out` や `where` を伴う関数もあり、それらの引数の意味は、ユニバーサル関数と共通する。"
      ],
      "metadata": {
        "id": "6iS0zXk-3gxP"
      }
    },
    {
      "cell_type": "markdown",
      "source": [
        "### ソート ###"
      ],
      "metadata": {
        "id": "ZA1YsvJY3h3r"
      }
    },
    {
      "cell_type": "markdown",
      "source": [
        "``` python\n",
        "numpy.sort(a, axis=-1, kind=None, order=None)\n",
        "ndarray.sort(axis=-1, kind=None, order=None)\n",
        "```\n",
        "\n",
        "配列を `axis` で指定した軸に沿ってソートする。 `axis` のデフォルトは `-1` で、最後の軸に沿ってソートする。ただし、 `numpy.sort()` 関数と `ndarray.sort()` メソッドでは、次のような違いがある。\n",
        "\n",
        "  * `numpy.sort(a, axis)` では配列 `a` 自体は変更されず、ソートされた配列が返される。これに対して、 `a.sort(axis)` では配列 `a` がインプレースでソートされ、`None` が返される。\n",
        "  * `numpy.sort()` 関数の `axis` 引数が `None` の場合、入力を 1 次元配列に変換した上でソートする。これに対して、`ndarray.sort()` メソッドでは `axis` 引数は `None` を受け付けない。\n",
        "\n",
        "Numpy のソートアルゴリズムは、デフォルトでは[クイックソート](https://ja.wikipedia.org/wiki/クイックソート)であり、[安定ソート](https://ja.wikipedia.org/wiki/安定ソート)ではない。`kind` 引数に `'stable'` または `'mergesort'` を指定すると、安定ソートである[マージソート](https://ja.wikipedia.org/wiki/マージソート)でソートが行われる。"
      ],
      "metadata": {
        "id": "2OT3_yYNTZb9"
      }
    },
    {
      "cell_type": "code",
      "source": [
        "a = np.array([[9, 1, 4],\n",
        "              [5, 8, 3],\n",
        "              [2, 7, 6]])\n",
        "b = np.sort(a)  # デフォルトでは最後の軸（列）に沿って各行をソートする\n",
        "c = np.sort(a, 0)  # 0軸（行）に沿って各列をソートする\n",
        "d = np.sort(a, None)  # axis に None を指定すると 1 次元配列に変換した上でソートする\n",
        "b, c, d"
      ],
      "metadata": {
        "colab": {
          "base_uri": "https://localhost:8080/"
        },
        "id": "sBK_xBKulW5-",
        "outputId": "a4308ba5-6e1b-4b4b-cf96-440e9b00683c"
      },
      "execution_count": null,
      "outputs": [
        {
          "output_type": "execute_result",
          "data": {
            "text/plain": [
              "(array([[1, 4, 9],\n",
              "        [3, 5, 8],\n",
              "        [2, 6, 7]]),\n",
              " array([[2, 1, 3],\n",
              "        [5, 7, 4],\n",
              "        [9, 8, 6]]),\n",
              " array([1, 2, 3, 4, 5, 6, 7, 8, 9]))"
            ]
          },
          "metadata": {},
          "execution_count": 166
        }
      ]
    },
    {
      "cell_type": "markdown",
      "source": [
        "`numpy.sort()` 関数と `ndarray.sort()` メソッドには、 Python 標準の `sorted()` 関数や `sort()` メソッドのように引数 `reverse` は存在しない。降順にしたい場合は、インデックス参照で `axis` の軸（次元）に対してスライス `::-1` を使い、他の軸では `:` を使う（末尾の `,:` は省略可能なので、例えば `[::-1, :]` は `[::-1]` と同じ）。"
      ],
      "metadata": {
        "id": "RoZ2hlEyR2EO"
      }
    },
    {
      "cell_type": "code",
      "source": [
        "a = np.array([[9, 1, 4],\n",
        "              [5, 8, 3],\n",
        "              [2, 7, 6]])\n",
        "b = np.sort(a)[:, ::-1]  # デフォルトでは最後の軸（列）に沿って各行をソートする\n",
        "c = np.sort(a, 0)[::-1]  # 0軸（行）に沿って各列をソートする\n",
        "d = np.sort(a, None)[::-1]  # axis に None を指定すると 1 次元配列に変換した上でソートする\n",
        "b, c, d"
      ],
      "metadata": {
        "colab": {
          "base_uri": "https://localhost:8080/"
        },
        "id": "AdFv5FUNR3WR",
        "outputId": "f5528fc4-de13-49e5-f0fd-742d96f8a840"
      },
      "execution_count": null,
      "outputs": [
        {
          "output_type": "execute_result",
          "data": {
            "text/plain": [
              "(array([[9, 4, 1],\n",
              "        [8, 5, 3],\n",
              "        [7, 6, 2]]),\n",
              " array([[9, 8, 6],\n",
              "        [5, 7, 4],\n",
              "        [2, 1, 3]]),\n",
              " array([9, 8, 7, 6, 5, 4, 3, 2, 1]))"
            ]
          },
          "metadata": {},
          "execution_count": 167
        }
      ]
    },
    {
      "cell_type": "markdown",
      "source": [
        "``` python\n",
        "numpy.argsort(a, axis=-1, kind=None, order=None)\n",
        "ndarray.argsort(axis=-1, kind=None, order=None)\n",
        "```\n",
        "\n",
        "配列を `axis` で指定した軸に沿ってソートするが、ソート後の配列は要素が値ではなく軸に沿ったもとのインデックスとなる。引数の意味は `numpy.sort()` と同じ。 `a.argsort(axis)` と `numpy.argsort(a, axis)` は全く同じであり、 `ndarray.argsort()` メソッドは配列自身を変更せず、配列を出力する。また、`axis` 引数が `None` を受け付ける。"
      ],
      "metadata": {
        "id": "BPAXuqTsnYNU"
      }
    },
    {
      "cell_type": "code",
      "source": [
        "a = np.array([[9, 1, 4],\n",
        "              [5, 8, 3],\n",
        "              [2, 7, 6]])\n",
        "b = np.argsort(a)  # デフォルトでは最後の軸（列）に沿って各行をソートする\n",
        "c = np.argsort(a, 0)  # 0軸（行）に沿って各列をソートする\n",
        "d = np.argsort(a, None)  # axis に None を指定すると 1 次元配列に変換した上でソートする\n",
        "b, c, d"
      ],
      "metadata": {
        "colab": {
          "base_uri": "https://localhost:8080/"
        },
        "outputId": "4bddacb2-e676-4a0e-a1e7-63035a7e88ec",
        "id": "Mc03xmOxlTUy"
      },
      "execution_count": null,
      "outputs": [
        {
          "output_type": "execute_result",
          "data": {
            "text/plain": [
              "(array([[1, 2, 0],\n",
              "        [2, 0, 1],\n",
              "        [0, 2, 1]]),\n",
              " array([[2, 0, 1],\n",
              "        [1, 2, 0],\n",
              "        [0, 1, 2]]),\n",
              " array([1, 6, 5, 2, 3, 8, 7, 4, 0]))"
            ]
          },
          "metadata": {},
          "execution_count": 168
        }
      ]
    },
    {
      "cell_type": "markdown",
      "source": [
        "`argsort` の結果をファンシーインデックスに利用すると、行列の特定の行や列をソートした順番を基準に他の行や列も並べ替えることができる。"
      ],
      "metadata": {
        "id": "EGmqkj33V8Ix"
      }
    },
    {
      "cell_type": "code",
      "source": [
        "a = np.array([[9, 1, 4],\n",
        "              [5, 8, 3],\n",
        "              [2, 7, 6]])\n",
        "b = a[:, np.argsort(a)[0]]  # 0 番目の行をソートした順番を基準に他の行も並べ替える\n",
        "c = a[np.argsort(a, axis=0)[:, 2]]  # 2 番目の列をソートした順番を基準に他の列も並べ替える\n",
        "b, c"
      ],
      "metadata": {
        "colab": {
          "base_uri": "https://localhost:8080/"
        },
        "id": "Kme7Y2PSV9KX",
        "outputId": "125b3e75-2951-4922-930f-a8c739f80436"
      },
      "execution_count": null,
      "outputs": [
        {
          "output_type": "execute_result",
          "data": {
            "text/plain": [
              "(array([[1, 4, 9],\n",
              "        [8, 3, 5],\n",
              "        [7, 6, 2]]),\n",
              " array([[5, 8, 3],\n",
              "        [9, 1, 4],\n",
              "        [2, 7, 6]]))"
            ]
          },
          "metadata": {},
          "execution_count": 169
        }
      ]
    },
    {
      "cell_type": "markdown",
      "source": [
        "【NumPy 2.0 での変更点】  \n",
        "関数 `numpy.sort()` と `numpy.argsort()` には、キーワード専用引数 `stable` が追加され、 `stable=True` の指定は `kind='stable'` の指定と同等。 `stable` のデフォルトは `None`。"
      ],
      "metadata": {
        "id": "ABoi7wjx1RyD"
      }
    },
    {
      "cell_type": "markdown",
      "source": [
        "### 探索 ###"
      ],
      "metadata": {
        "id": "POR-i9Ou4CGn"
      }
    },
    {
      "cell_type": "markdown",
      "source": [
        "``` python\n",
        "numpy.argmax(a, axis=None, out=None, *, keepdims=<no value>)\n",
        "numpy.argmin(a, axis=None, out=None, *, keepdims=<no value>)\n",
        "ndarray.argmax(axis=None, out=None, *, keepdims=False)\n",
        "ndarray.argmin(axis=None, out=None, *, keepdims=False)\n",
        "```\n",
        "\n",
        "`axis` で指定した軸に沿った最大値（または最小値）のインデックスからなる 1 つの配列に圧縮されて次元が削減された形の配列を返す。`axis` が `None`（デフォルト）の場合、入力配列を 1 次元配列に変換した上で最大値（または最小値）のインデックスを返す（出力の形式はスカラーとなる）。\n",
        "\n",
        "キーワード専用引数 `keepdims` に `True` を指定した場合、削減された次元が追加されて出力配列が入力配列と同じ次元数を保持する。"
      ],
      "metadata": {
        "id": "JD7s6mfa4C2f"
      }
    },
    {
      "cell_type": "code",
      "source": [
        "a = np.array([[9, 1, 4],\n",
        "              [5, 8, 3],\n",
        "              [2, 7, 6]])\n",
        "b = np.argmax(a, axis=0)  # 0軸（行）に沿って（つまり各列で)最大値のインデックスからなる 1 次元配列を返す\n",
        "c = np.argmax(a, axis=0, keepdims=True)  # np.argmax(a, axis=0)[np.newaxis] と同じ\n",
        "d = np.argmax(a, axis=1)  # 1軸（列）に沿って（つまり各行で)最大値のインデックスからなる 1 次元配列を返す\n",
        "e = np.argmax(a, axis=1, keepdims=True)  # np.argmax(a, axis=1)[:, np.newaxis] と同じ\n",
        "b, c, d, e, np.argmax(a)"
      ],
      "metadata": {
        "colab": {
          "base_uri": "https://localhost:8080/"
        },
        "id": "i-UfsWe_kUGC",
        "outputId": "8012b7ae-74da-4946-8665-a27607c639c7"
      },
      "execution_count": null,
      "outputs": [
        {
          "output_type": "execute_result",
          "data": {
            "text/plain": [
              "(array([0, 1, 2]),\n",
              " array([[0, 1, 2]]),\n",
              " array([0, 1, 1]),\n",
              " array([[0],\n",
              "        [1],\n",
              "        [1]]),\n",
              " 0)"
            ]
          },
          "metadata": {},
          "execution_count": 170
        }
      ]
    },
    {
      "cell_type": "markdown",
      "source": [
        "最大値（または最小値）が複数存在する場合は、最初に現れたデータのインデックスが選ばれる。\n",
        "\n",
        "データに欠損値 `numpy.nan` が含まれていると、常に最初に現れた `numpy.nan` のインデックスが選ばれることに注意する。"
      ],
      "metadata": {
        "id": "sbaR_eH9YNZf"
      }
    },
    {
      "cell_type": "code",
      "source": [
        "a = np.array([1., 1., np.nan, 3., np.nan, 5., 5.])\n",
        "a.argmax(), a.argmin()"
      ],
      "metadata": {
        "colab": {
          "base_uri": "https://localhost:8080/"
        },
        "outputId": "55058d66-e425-4f69-daa4-0198e1e488bf",
        "id": "5RuiuIkZWbfh"
      },
      "execution_count": null,
      "outputs": [
        {
          "output_type": "execute_result",
          "data": {
            "text/plain": [
              "(2, 2)"
            ]
          },
          "metadata": {},
          "execution_count": 171
        }
      ]
    },
    {
      "cell_type": "markdown",
      "source": [
        "欠損値 `numpy.nan` を無視して最大値（または最小値）のインデックスが選ばれるようにするには、次の関数を使う（`numpy.ndarray` のメソッドはない）。\n",
        "\n",
        "``` python\n",
        "numpy.nanargmax(a, axis=None, out=None, *, keepdims=<no value>)\n",
        "numpy.nanargmin(a, axis=None, out=None, *, keepdims=<no value>)\n",
        "```"
      ],
      "metadata": {
        "id": "WA6YA1wBaKhL"
      }
    },
    {
      "cell_type": "code",
      "source": [
        "a = np.array([1., 1., np.nan, 3., np.nan, 5., 5.])\n",
        "np.nanargmax(a), np.nanargmin(a)"
      ],
      "metadata": {
        "colab": {
          "base_uri": "https://localhost:8080/"
        },
        "outputId": "ac2a3814-b545-4aee-e152-c5f8d1533791",
        "id": "TweJ-ctCaRax"
      },
      "execution_count": null,
      "outputs": [
        {
          "output_type": "execute_result",
          "data": {
            "text/plain": [
              "(5, 0)"
            ]
          },
          "metadata": {},
          "execution_count": 172
        }
      ]
    },
    {
      "cell_type": "markdown",
      "source": [
        "``` python\n",
        "numpy.where(condition, [x, y, ]/)\n",
        "```\n",
        "\n",
        "Python の条件式 `x if condition else y` の配列版である。 `numpy.where(condition, x, y)` と呼び出すと、配列 `condition` の要素が真ならば配列 `x` の対応する要素が選ばれ、そうでなければ配列 `y` の対応する要素が選ばれた新しい配列が返される。第 1 引数 `condition` と第 2 引数 `x`、第 3 引数 `y` は array-like オブジェクトでもよい。"
      ],
      "metadata": {
        "id": "0ujI0zDDmqAX"
      }
    },
    {
      "cell_type": "code",
      "source": [
        "np.where([[True, False],\n",
        "          [True, True]],\n",
        "         [[1, 2],\n",
        "          [3, 4]],\n",
        "         [[9, 8],\n",
        "          [7, 6]])"
      ],
      "metadata": {
        "colab": {
          "base_uri": "https://localhost:8080/"
        },
        "id": "ukD_9t_emrOj",
        "outputId": "09b5525b-342d-4a85-b9c6-98ef18bbbf92"
      },
      "execution_count": null,
      "outputs": [
        {
          "output_type": "execute_result",
          "data": {
            "text/plain": [
              "array([[1, 8],\n",
              "       [3, 4]])"
            ]
          },
          "metadata": {},
          "execution_count": 173
        }
      ]
    },
    {
      "cell_type": "markdown",
      "source": [
        "第 1 引数 `condition` と第 2 引数 `x`、第 3 引数 `y` はそれぞれ配列の式でもよい。"
      ],
      "metadata": {
        "id": "LybvsVdiUlDg"
      }
    },
    {
      "cell_type": "code",
      "source": [
        "a = np.arange(9).reshape(3, 3)\n",
        "b = np.where(a < 4, a * 10, a + 100)\n",
        "a, b"
      ],
      "metadata": {
        "colab": {
          "base_uri": "https://localhost:8080/"
        },
        "id": "-MLZvQuTUrWm",
        "outputId": "fb6d5639-9b5c-49ab-d1c9-9830b7d6c676"
      },
      "execution_count": null,
      "outputs": [
        {
          "output_type": "execute_result",
          "data": {
            "text/plain": [
              "(array([[0, 1, 2],\n",
              "        [3, 4, 5],\n",
              "        [6, 7, 8]]),\n",
              " array([[  0,  10,  20],\n",
              "        [ 30, 104, 105],\n",
              "        [106, 107, 108]]))"
            ]
          },
          "metadata": {},
          "execution_count": 174
        }
      ]
    },
    {
      "cell_type": "markdown",
      "source": [
        "`numpy.where()` 関数は、非ユニバーサル関数でありながら暗黙的なブロードキャストをサポートする。第 1 引数 `condition` と第 2 引数 `x`、第 3 引数 `y` はブロードキャスト可能でなければならない。"
      ],
      "metadata": {
        "id": "6owfITKNwg4z"
      }
    },
    {
      "cell_type": "code",
      "source": [
        "rng = np.random.default_rng()\n",
        "a = rng.uniform(-3, 3, 6).reshape(2, 3)\n",
        "b = np.where(a < 0.0, 0.0, a)\n",
        "a, b"
      ],
      "metadata": {
        "colab": {
          "base_uri": "https://localhost:8080/"
        },
        "id": "Oi5kkblawiFP",
        "outputId": "b4b91fa4-9b51-4dcf-c077-e5244ebdeb8c"
      },
      "execution_count": null,
      "outputs": [
        {
          "output_type": "execute_result",
          "data": {
            "text/plain": [
              "(array([[-1.99958818, -0.20633027, -2.5308997 ],\n",
              "        [ 0.99251685,  2.14775001, -1.61287608]]),\n",
              " array([[0.        , 0.        , 0.        ],\n",
              "        [0.99251685, 2.14775001, 0.        ]]))"
            ]
          },
          "metadata": {},
          "execution_count": 175
        }
      ]
    },
    {
      "cell_type": "markdown",
      "source": [
        "第 2 引数 `x`、第 3 引数 `y` を省略すると、 `numpy.where()` 関数は入力 `condition` で真と評価される要素を抽出し、そのインデックスを表現するための配列のタプルを返す。 `condition` が 2 次元配列の場合、要素のインデックスは 2 つの軸で表現するから、 `numpy.where()` 関数は 2 つの配列からなるタプルを返す。"
      ],
      "metadata": {
        "id": "jv9zVS0hnSx5"
      }
    },
    {
      "cell_type": "code",
      "source": [
        "a = np.arange(9).reshape(3, 3)\n",
        "# [[0, 1, 2],\n",
        "#  [3, 4, 5],\n",
        "#  [6, 7, 8]]\n",
        "np.where(a < 4)  # 真となる要素のインデックス [0, 0], [0, 1], [0, 2], [1, 0] を表す配列のタプルを返す"
      ],
      "metadata": {
        "colab": {
          "base_uri": "https://localhost:8080/"
        },
        "id": "WCgsDQETnTn8",
        "outputId": "7e7741e2-4393-4980-9b21-987f0001a158"
      },
      "execution_count": null,
      "outputs": [
        {
          "output_type": "execute_result",
          "data": {
            "text/plain": [
              "(array([0, 0, 0, 1]), array([0, 1, 2, 0]))"
            ]
          },
          "metadata": {},
          "execution_count": 176
        }
      ]
    },
    {
      "cell_type": "markdown",
      "source": [
        "``` python\n",
        "numpy.nonzero(a)\n",
        "ndarray.nonzero()\n",
        "```\n",
        "\n",
        "`numpy.nonzero(a)` は、 `numpy.where(a != 0)` と同じ。"
      ],
      "metadata": {
        "id": "lmjwKW55qs1k"
      }
    },
    {
      "cell_type": "code",
      "source": [
        "a = np.arange(9).reshape(3, 3)\n",
        "np.nonzero(a)"
      ],
      "metadata": {
        "colab": {
          "base_uri": "https://localhost:8080/"
        },
        "id": "ppEFrfUpq0Fr",
        "outputId": "83c0d5bd-eb04-4cb5-c77e-7e9a7f991e06"
      },
      "execution_count": null,
      "outputs": [
        {
          "output_type": "execute_result",
          "data": {
            "text/plain": [
              "(array([0, 0, 1, 1, 1, 2, 2, 2]), array([1, 2, 0, 1, 2, 0, 1, 2]))"
            ]
          },
          "metadata": {},
          "execution_count": 177
        }
      ]
    },
    {
      "cell_type": "markdown",
      "source": [
        "入力で真と評価される要素のインデックスが欲しいなら、次の関数を使うほうがよい。\n",
        "\n",
        "``` python\n",
        "numpy.argwhere(a)\n",
        "```"
      ],
      "metadata": {
        "id": "gmpLGXyqo2IS"
      }
    },
    {
      "cell_type": "code",
      "source": [
        "a = np.arange(9).reshape(3, 3)\n",
        "np.argwhere(a < 4)"
      ],
      "metadata": {
        "colab": {
          "base_uri": "https://localhost:8080/"
        },
        "id": "5K7Z2UH4o3WJ",
        "outputId": "7b33a3d8-3ad0-4934-e6d6-848d6f801329"
      },
      "execution_count": null,
      "outputs": [
        {
          "output_type": "execute_result",
          "data": {
            "text/plain": [
              "array([[0, 0],\n",
              "       [0, 1],\n",
              "       [0, 2],\n",
              "       [1, 0]])"
            ]
          },
          "metadata": {},
          "execution_count": 178
        }
      ]
    },
    {
      "cell_type": "markdown",
      "source": [
        "### カウント ###"
      ],
      "metadata": {
        "id": "x4HUQmUfuIiH"
      }
    },
    {
      "cell_type": "markdown",
      "source": [
        "``` python\n",
        "numpy.count_nonzero(a, axis=None, *, keepdims=False)\n",
        "```\n",
        "\n",
        "`axis` で指定した軸に沿って `0` でない要素の個数からなる 1 つの配列に圧縮されて次元が削減された形の配列を返す。 `axis` が `None`（デフォルト）の場合、入力全体で `0` でない要素の個数を返す（出力の形式はスカラーとなる）。\n",
        "\n",
        "キーワード専用引数 `keepdims` に `True` を指定した場合、削減された次元が追加されて出力配列が入力配列と同じ次元数を保持する。"
      ],
      "metadata": {
        "id": "u8SpYE7fuLtU"
      }
    },
    {
      "cell_type": "code",
      "source": [
        "a = np.array([[0, 1, 7, 0],\n",
        "              [3, 0, 2, 19]])\n",
        "b = np.count_nonzero(a, axis=0)\n",
        "c = np.count_nonzero(a, axis=0, keepdims=True)  # np.count_nonzero(a, axis=0)[np.newaxis] と同じ\n",
        "d = np.count_nonzero(a, axis=1)\n",
        "e = np.count_nonzero(a, axis=1, keepdims=True)  # np.count_nonzero(a, axis=1)[:, np.newaxis] と同じ\n",
        "b, c, d, e, np.count_nonzero(a)"
      ],
      "metadata": {
        "colab": {
          "base_uri": "https://localhost:8080/"
        },
        "id": "kIjgAqKLuORR",
        "outputId": "db997ac0-6723-462e-d030-942d501a6e15"
      },
      "execution_count": null,
      "outputs": [
        {
          "output_type": "execute_result",
          "data": {
            "text/plain": [
              "(array([1, 1, 2, 1]),\n",
              " array([[1, 1, 2, 1]]),\n",
              " array([2, 3]),\n",
              " array([[2],\n",
              "        [3]]),\n",
              " 5)"
            ]
          },
          "metadata": {},
          "execution_count": 179
        }
      ]
    },
    {
      "cell_type": "markdown",
      "source": [
        "Python の `False` と `0`、 `True` と `1` はそれぞれ等価と評価されるので、 `numpy.count_nonzero()` は配列内の `True` をカウントすることにも利用できる。"
      ],
      "metadata": {
        "id": "gl9d8NxqINuy"
      }
    },
    {
      "cell_type": "code",
      "source": [
        "a = np.arange(9).reshape(3, 3)\n",
        "# [[0, 1, 2],\n",
        "#  [3, 4, 5],\n",
        "#  [6, 7, 8]]\n",
        "np.count_nonzero(a < 4, axis=0)"
      ],
      "metadata": {
        "colab": {
          "base_uri": "https://localhost:8080/"
        },
        "id": "VF6Ksq15IlQN",
        "outputId": "7a2beb87-76fe-4134-8538-4aca3e527943"
      },
      "execution_count": null,
      "outputs": [
        {
          "output_type": "execute_result",
          "data": {
            "text/plain": [
              "array([2, 1, 1])"
            ]
          },
          "metadata": {},
          "execution_count": 180
        }
      ]
    },
    {
      "cell_type": "markdown",
      "source": [
        "### 論理関数 ###"
      ],
      "metadata": {
        "id": "b2ZxvZDFRAgU"
      }
    },
    {
      "cell_type": "markdown",
      "source": [
        "``` python\n",
        "numpy.all(a, axis=None, out=None, keepdims=<no value>, *, where=<no value>)\n",
        "ndarray.all(axis=None, out=None, keepdims=False, *, where=True)\n",
        "```\n",
        "\n",
        "`axis` で指定された軸に沿った全ての要素が真と評価されたなら `True`、そうでなければ `False` となる要素からなる 1 つの配列に圧縮されて次元が削減された形の配列を返す。 `axis` が `None`（デフォルト）の場合、入力の要素全体が真か否かの真理値を返す（出力の形式はスカラーとなる）。 `keepdims` 引数の意味は `numpy.argmax()` の同名の引数と同じ。"
      ],
      "metadata": {
        "id": "dolaD13tRBXv"
      }
    },
    {
      "cell_type": "code",
      "source": [
        "a = np.arange(9).reshape(3, 3)\n",
        "# [[0, 1, 2],\n",
        "#  [3, 4, 5],\n",
        "#  [6, 7, 8]]\n",
        "np.all(a < 4, axis=1)  # 1軸（列）に沿って（つまり各行で)要素が全て 4 未満であるかどうかテスト"
      ],
      "metadata": {
        "colab": {
          "base_uri": "https://localhost:8080/"
        },
        "id": "tqHzBmSZUThD",
        "outputId": "3a8a2b81-c19e-4df5-d093-1e8c3ad42899"
      },
      "execution_count": null,
      "outputs": [
        {
          "output_type": "execute_result",
          "data": {
            "text/plain": [
              "array([ True, False, False])"
            ]
          },
          "metadata": {},
          "execution_count": 181
        }
      ]
    },
    {
      "cell_type": "markdown",
      "source": [
        "``` python\n",
        "numpy.any(a, axis=None, out=None, keepdims=<no value>, *, where=<no value>)\n",
        "ndarray.any(axis=None, out=None, keepdims=False, *, where=True)\n",
        "```\n",
        "\n",
        "`axis` で指定された軸に沿って要素が 1 つでも真と評価されたなら `True`、そうでなければ `False` となる要素からなる 1 つの配列に圧縮されて次元が削減された形の配列を返す。 `axis` が `None`（デフォルト）の場合、入力の要素が 1 つでも真と評価されるか否かの真理値を返す（出力の形式はスカラーとなる）。 `keepdims` 引数の意味は `numpy.argmax()` の同名の引数と同じ。"
      ],
      "metadata": {
        "id": "njrroLsYYCXz"
      }
    },
    {
      "cell_type": "code",
      "source": [
        "a = np.arange(9).reshape(3, 3)\n",
        "# [[0, 1, 2],\n",
        "#  [3, 4, 5],\n",
        "#  [6, 7, 8]]\n",
        "np.any(a < 4, axis=1)  # 1軸（列）に沿って（つまり各行で) 4 未満の要素が 1 つでもあるかどうかテスト"
      ],
      "metadata": {
        "colab": {
          "base_uri": "https://localhost:8080/"
        },
        "outputId": "44e2d704-d501-40ce-8f7a-ddc891b7f5a0",
        "id": "KonYUHfvYgmV"
      },
      "execution_count": null,
      "outputs": [
        {
          "output_type": "execute_result",
          "data": {
            "text/plain": [
              "array([ True,  True, False])"
            ]
          },
          "metadata": {},
          "execution_count": 182
        }
      ]
    },
    {
      "cell_type": "markdown",
      "source": [
        "論理関数の戻り値をブーリアンインデックスに使う例として、欠損値を含む行や列を削除するコードを示す。"
      ],
      "metadata": {
        "id": "cDhmYG7pFpFo"
      }
    },
    {
      "cell_type": "code",
      "source": [
        "a = np.array([[1., 2., 3.],\n",
        "              [4., np.nan, 6.],\n",
        "              [7., 8., 9.]])\n",
        "(\n",
        "    a[~np.isnan(a).any(axis=0)],\n",
        "    a[:, ~np.isnan(a).any(axis=1)],\n",
        ")"
      ],
      "metadata": {
        "colab": {
          "base_uri": "https://localhost:8080/"
        },
        "id": "L8OKgF8mFp7v",
        "outputId": "d7ff3b35-c6d3-4eed-ac37-8ef7555db080"
      },
      "execution_count": null,
      "outputs": [
        {
          "output_type": "execute_result",
          "data": {
            "text/plain": [
              "(array([[1., 2., 3.],\n",
              "        [7., 8., 9.]]),\n",
              " array([[1., 3.],\n",
              "        [4., 6.],\n",
              "        [7., 9.]]))"
            ]
          },
          "metadata": {},
          "execution_count": 183
        }
      ]
    },
    {
      "cell_type": "markdown",
      "source": [
        "### 集約関数 ###"
      ],
      "metadata": {
        "id": "zujJaMDes-JO"
      }
    },
    {
      "cell_type": "markdown",
      "source": [
        "``` python\n",
        "numpy.sum(a, axis=None, dtype=None, out=None, keepdims=False, initial=0, where=True)\n",
        "ndarray.sum(axis=None, dtype=None, out=None, keepdims=False, initial=0, where=True)\n",
        "numpy.nansum(a, axis=None, dtype=None, out=None, keepdims=False, initial=0, where=True)\n",
        "```\n",
        "\n",
        "`axis` で指定した軸に沿った合計と `initial`（デフォルト値は `0`）の和からなる 1 つの配列に圧縮されて次元が削減された形の配列を返す。計算対象に非数 `numpy.nan` が含まれる場合、 `sum()` は計算結果を常に `numpy.nan` とするのに対して、 `nansum()` は `numpy.nan` を `0` として扱い計算を行う。\n",
        "\n",
        "`axis` が `None`（デフォルト）の場合、配列の全ての要素の合計と `initial` の和を計算した値（スカラー）を返す。"
      ],
      "metadata": {
        "id": "_T5Ex7axbEiy"
      }
    },
    {
      "cell_type": "code",
      "source": [
        "a = np.array([[1,      2],\n",
        "              [np.nan, 5]])\n",
        "np.sum(a, axis=0), np.nansum(a, axis=0), np.nansum(a)"
      ],
      "metadata": {
        "colab": {
          "base_uri": "https://localhost:8080/"
        },
        "id": "o2_UU_qYvS6J",
        "outputId": "0c90b187-49bb-4f0e-d1ab-64cf1ff16be6"
      },
      "execution_count": null,
      "outputs": [
        {
          "output_type": "execute_result",
          "data": {
            "text/plain": [
              "(array([nan,  7.]), array([1., 7.]), 8.0)"
            ]
          },
          "metadata": {},
          "execution_count": 184
        }
      ]
    },
    {
      "cell_type": "markdown",
      "source": [
        "``` python\n",
        "umpy.prod(a, axis=None, dtype=None, out=None, keepdims=False, initial=1, where=True)\n",
        "ndarray.prod(axis=None, dtype=None, out=None, keepdims=False, initial=1, where=True)\n",
        "numpy.nanprod(a, axis=None, dtype=None, out=None, keepdims=False, initial=1, where=True)\n",
        "```\n",
        "\n",
        "`axis` で指定した軸に沿った積に `initial`（デフォルト値は `1`）を掛けた値からなる 1 つの配列に圧縮されて次元が削減された形の配列を返す。計算対象に非数 `numpy.nan` が含まれる場合、 `prod()` は計算結果を常に `numpy.nan` とするのに対して、 `nanprod()` は `numpy.nan` を `1` として扱い計算を行う。\n",
        "\n",
        "`axis` が `None`（デフォルト）の場合、配列の全ての要素の積に `initial` を掛けた値（スカラー）を返す。"
      ],
      "metadata": {
        "id": "gBozpPz-eArg"
      }
    },
    {
      "cell_type": "code",
      "source": [
        "a = np.array([[1,      2],\n",
        "              [np.nan, 5]])\n",
        "np.prod(a, axis=0), np.nanprod(a, axis=0), np.nanprod(a)"
      ],
      "metadata": {
        "colab": {
          "base_uri": "https://localhost:8080/"
        },
        "id": "BgptQMOyeBsm",
        "outputId": "acdbb650-3e2f-4635-d38c-fb5dbbe647af"
      },
      "execution_count": null,
      "outputs": [
        {
          "output_type": "execute_result",
          "data": {
            "text/plain": [
              "(array([nan, 10.]), array([ 1., 10.]), 10.0)"
            ]
          },
          "metadata": {},
          "execution_count": 185
        }
      ]
    },
    {
      "cell_type": "markdown",
      "source": [
        "``` python\n",
        "numpy.max(a, axis=None, out=None, keepdims=False, initial=<no value>, where=True)\n",
        "ndarray.max(axis=None, out=None, keepdims=False, initial=<no value>, where=True)\n",
        "numpy.min(a, axis=None, out=None, keepdims=False, initial=<no value>, where=True)\n",
        "ndarray.min(axis=None, out=None, keepdims=False, initial=<no value>, where=True)\n",
        "numpy.nanmax(a, axis=None, out=None, keepdims=False, initial=<no value>, where=True)\n",
        "numpy.nanmin(a, axis=None, out=None, keepdims=False, initial=<no value>, where=True)\n",
        "```\n",
        "\n",
        "`axis` で指定した軸に沿った最大値（または最小値）からなる 1 つの配列に圧縮されて次元が削減された形の配列を返す。計算対象に非数 `numpy.nan` が含まれる場合、 `max()` と `min()` は計算結果を常に `numpy.nan` とするのに対して、 `nanmax()` と `nanmin()` は `numpy.nan` を無視する。\n",
        "\n",
        "`axis` が `None`（デフォルト）の場合、配列の全ての要素の最大値（または最小値）となる値（スカラー）を返す。\n",
        "\n",
        "`max()` と `nanmax()` では、 `initial` 引数に与えた値が出力要素の最小値とされる。 `min()` と `nanmin()` では `initial` 引数に与えた値が出力要素の最大値とされる。 `initial` 引数が与えられていない場合、配列（のスライス）が空であると `ValueError` 例外が発生する。\n",
        "\n",
        "なお、`numpy.amax()` と `numpy.amin()` は、それぞれ `numpy.max()` と `numpy.min()` の別名である。"
      ],
      "metadata": {
        "id": "IIk-6WN2bzLs"
      }
    },
    {
      "cell_type": "code",
      "source": [
        "a = np.array([[1,      2],\n",
        "              [np.nan, 5]])\n",
        "np.max(a, axis=0), np.nanmax(a, axis=0), np.nanmax(a), np.min(a, axis=0), np.nanmin(a, axis=0), np.nanmin(a)"
      ],
      "metadata": {
        "colab": {
          "base_uri": "https://localhost:8080/"
        },
        "outputId": "c845a2d9-c484-46cb-c6b4-f7e48362f797",
        "id": "hQ5-2Ja6aqmW"
      },
      "execution_count": null,
      "outputs": [
        {
          "output_type": "execute_result",
          "data": {
            "text/plain": [
              "(array([nan,  5.]),\n",
              " array([1., 5.]),\n",
              " 5.0,\n",
              " array([nan,  2.]),\n",
              " array([1., 2.]),\n",
              " 1.0)"
            ]
          },
          "metadata": {},
          "execution_count": 186
        }
      ]
    },
    {
      "cell_type": "markdown",
      "source": [
        "``` python\n",
        "numpy.mean(a, axis=None, dtype=None, out=None, keepdims=False, *, where=True)\n",
        "ndarray.mean(axis=None, dtype=None, out=None, keepdims=False, *, where=True)\n",
        "numpy.nanmean(a, axis=None, dtype=None, out=None, keepdims=False, *, where=True)\n",
        "```\n",
        "\n",
        "`axis` で指定した軸に沿った平均値からなる 1 つの配列に圧縮されて次元が削減された形の配列を返す。計算対象に非数 `numpy.nan` が含まれる場合、 `mean()` は計算結果を常に `numpy.nan` とするのに対して、 `nanmean()` は `numpy.nan` を無視する。\n",
        "\n",
        "`axis` が `None`（デフォルト）の場合、配列の全ての要素の平均値となる値（スカラー）を返す"
      ],
      "metadata": {
        "id": "LVqQu7K7iTGn"
      }
    },
    {
      "cell_type": "code",
      "source": [
        "a = np.array([[0, 1, 2],\n",
        "              [3, 4, np.nan],\n",
        "              [6, 7, 8]])\n",
        "np.mean(a, axis=0), np.nanmean(a, axis=0), np.nanmean(a)"
      ],
      "metadata": {
        "colab": {
          "base_uri": "https://localhost:8080/"
        },
        "id": "wlGvyy06h34R",
        "outputId": "6bcd27a1-6692-4e00-d935-3273bb67aafe"
      },
      "execution_count": null,
      "outputs": [
        {
          "output_type": "execute_result",
          "data": {
            "text/plain": [
              "(array([ 3.,  4., nan]), array([3., 4., 5.]), 3.875)"
            ]
          },
          "metadata": {},
          "execution_count": 187
        }
      ]
    },
    {
      "cell_type": "markdown",
      "source": [
        "``` python\n",
        "numpy.var(a, axis=None, dtype=None, out=None, ddof=0, keepdims=False, *, where=True)\n",
        "ndarray.var(axis=None, dtype=None, out=None, ddof=0, keepdims=False, *, where=True)\n",
        "numpy.std(a, axis=None, dtype=None, out=None, ddof=0, keepdims=False, *, where=True)\n",
        "ndarray.std(axis=None, dtype=None, out=None, ddof=0, keepdims=False, *, where=True)\n",
        "numpy.nanvar(a, axis=None, dtype=None, out=None, ddof=0, keepdims=False, *, where=True)\n",
        "numpy.nanstd(a, axis=None, dtype=None, out=None, ddof=0, keepdims=False, *, where=True)\n",
        "```\n",
        "\n",
        "`axis` で指定した軸に沿った分散（または標準偏差）からなる 1 つの配列に圧縮されて次元が削減された形の配列を返す。計算対象に非数 `numpy.nan` が含まれる場合、 `var()` と `std()` は計算結果を常に `numpy.nan` とするのに対して、 `nanvar()` と `nanstd()` は `numpy.nan` を無視する。\n",
        "\n",
        "`axis` が `None`（デフォルト）の場合、配列の全ての要素の分散（または標準偏差）となる値（スカラー）を返す。\n",
        "\n",
        "`ddof` 引数は、分散、標準偏差を計算する際の分母すなわち自由度との差分として使われる。つまり、自由度は `N - ddof`（`N` はデータ数）。`ddof` のデフォルト値は `0` である。不偏分散と不偏標準偏差を計算したい場合は、 `ddof` 引数に `1` を指定することにより自由度 `N - 1` を分母として計算するようになる。"
      ],
      "metadata": {
        "id": "qBWx-32JmUjC"
      }
    },
    {
      "cell_type": "code",
      "source": [
        "a = np.array([[0, 1, 2],\n",
        "              [3, 4, np.nan],\n",
        "              [6, 7, 8]])\n",
        "np.var(a, axis=0), np.nanvar(a, axis=0), np.nanvar(a)"
      ],
      "metadata": {
        "colab": {
          "base_uri": "https://localhost:8080/"
        },
        "id": "mnNVckTFi_q3",
        "outputId": "c14b2d48-296a-4873-f7c1-2a4af5bfd21f"
      },
      "execution_count": null,
      "outputs": [
        {
          "output_type": "execute_result",
          "data": {
            "text/plain": [
              "(array([ 6.,  6., nan]), array([6., 6., 9.]), 7.359375)"
            ]
          },
          "metadata": {},
          "execution_count": 188
        }
      ]
    },
    {
      "cell_type": "markdown",
      "source": [
        "``` python\n",
        "numpy.median(a, axis=None, out=None, overwrite_input=False, keepdims=False)\n",
        "numpy.nanmedian(a, axis=None, out=None, overwrite_input=False, keepdims=False)\n",
        "```\n",
        "\n",
        "`axis` で指定した軸に沿った中央値からなる 1 つの配列に圧縮されて次元が削減された形の配列を返す。計算対象に非数 `numpy.nan` が含まれる場合、 `median()` は計算結果を常に `numpy.nan` とするのに対して、 `nanmedian()` は `numpy.nan` を無視する。\n",
        "\n",
        "`axis` が `None`（デフォルト）の場合、配列の全ての要素の平均値となる値（スカラー）を返す。"
      ],
      "metadata": {
        "id": "LpgSAusRqwEn"
      }
    },
    {
      "cell_type": "code",
      "source": [
        "a = np.array([[10, 7, 4], [6, 9, np.nan], [3, 2, 1]])\n",
        "a, np.median(a, axis=0), np.nanmedian(a, axis=0), np.nanmedian(a)"
      ],
      "metadata": {
        "colab": {
          "base_uri": "https://localhost:8080/"
        },
        "id": "xpOjaHOnpjXl",
        "outputId": "a35dd50f-b013-42b4-fac3-99d7f5bd862b"
      },
      "execution_count": null,
      "outputs": [
        {
          "output_type": "execute_result",
          "data": {
            "text/plain": [
              "(array([[10.,  7.,  4.],\n",
              "        [ 6.,  9., nan],\n",
              "        [ 3.,  2.,  1.]]),\n",
              " array([ 6.,  7., nan]),\n",
              " array([6. , 7. , 2.5]),\n",
              " 5.0)"
            ]
          },
          "metadata": {},
          "execution_count": 189
        }
      ]
    },
    {
      "cell_type": "markdown",
      "source": [
        "`overwrite_input` 引数が `False`（デフォルト）の場合、中央値の計算のために、入力配列 `a` のコピーを作成し、コピーの要素をソートする。 `overwrite_input` が `True` の場合、入力配列 `a` をインプレースでソートして中央値を計算するため、メモリが節約される（副作用として `a` が完全または部分的にソートされる）。"
      ],
      "metadata": {
        "id": "ZRhv8VYcsMUq"
      }
    },
    {
      "cell_type": "code",
      "source": [
        "a = np.array([[10, 7, 4], [6, 9, np.nan], [3, 2, 1]])\n",
        "m = np.nanmedian(a, overwrite_input=True)\n",
        "m, a"
      ],
      "metadata": {
        "colab": {
          "base_uri": "https://localhost:8080/"
        },
        "id": "6bo8JYKRqRa9",
        "outputId": "829dc0fb-e24d-4a63-d869-4cb36dc21acd"
      },
      "execution_count": null,
      "outputs": [
        {
          "output_type": "execute_result",
          "data": {
            "text/plain": [
              "(5.0,\n",
              " array([[ 1.,  2.,  3.],\n",
              "        [ 4.,  6.,  7.],\n",
              "        [ 9., 10.,  1.]]))"
            ]
          },
          "metadata": {},
          "execution_count": 190
        }
      ]
    },
    {
      "cell_type": "markdown",
      "source": [
        "ファイルの読み書き\n",
        "------------------"
      ],
      "metadata": {
        "id": "8vGFkyyT8iGS"
      }
    },
    {
      "cell_type": "markdown",
      "source": [
        "``` python\n",
        "numpy.loadtxt(fname, dtype=<class 'float'>, comments='#', delimiter=None, converters=None, skiprows=0, usecols=None, unpack=False, ndmin=0, encoding='bytes',\n",
        "              max_rows=None, *, quotechar=None, like=None)\n",
        "```\n",
        "\n",
        "この関数は、テキストファイルを読み取り、2 次元配列を生成する。主な引数は次のとおり。\n",
        "\n",
        "| 引数 | 意味 |\n",
        "|:---|:---|\n",
        "| `fname` | 読み取るファイル。path-like オブジェクト、または、パス名（文字列またはバイト列）のリストかジェネレータを指定できる。拡張子が `.gz`, `.bz2` のファイルは最初に解凍される |\n",
        "| `dtype` | 生成する配列の dtype |\n",
        "| `comments` | コメントの開始を示すために使用される文字または文字のリスト。`None` はコメントがないことを意味する。デフォルトは `#` |\n",
        "| `delimiter` | 値を区切るために使用される文字。`None`（デフォルト）の場合は空白 |\n",
        "| `converters` | 値を変換するための 1 引数関数。列ごとに関数を指定するには、列番号をキーとして関数をマップする辞書を使用する（例: `{0: func1, 1: func2}`） |\n",
        "| `skiprows` | 最初にスキップする行数。行数には空行とコメント行も含まれる。デフォルトは `0` でスキップしない |\n",
        "| `usecols` | 読み取る列番号（`0` が最初）のシーケンス。`None`（デフォルト）の場合は全ての列を読み取る |\n",
        "| `unpack` | `True` の場合、転置された配列を生成する。この場合、`x, y, z = loadtxt(...)` のようにアンパックすると、各変数に列の値が入った 1 次元配列が格納される |\n",
        "| `ndmin` | `numpy.array()` 関数の `ndmin` 引数と同じ意味だが、有効な値は `0`（デフォルト）、`1`、`2` のみとされる |\n",
        "| `encoding` | 入力ファイルのデコードに使用されるエンコーディング。デフォルトは `'bytes'` |\n",
        "| `max_rows` | `skiprows` 行の後に読み取る行数。行数には空行とコメント行は含まれない。`None`（デフォルト）の場合は最後の行まで読み取る |\n",
        "| `quotechar` | 引用符として使用される文字。引用符付きフィールド内で `quotechar` が二重に使用されていればエスケープシーケンスとして扱われ、 `quotechar` を文字して扱う。`None`（デ<br />フォルト）の場合は引用符をサポートしない |"
      ],
      "metadata": {
        "id": "87FH5ajbpY0C"
      }
    },
    {
      "cell_type": "code",
      "source": [
        "np.loadtxt(\"sample_data/california_housing_test.csv\", delimiter=\",\", usecols=(0, 1, 2, 3, 4), skiprows=1, max_rows=3)"
      ],
      "metadata": {
        "colab": {
          "base_uri": "https://localhost:8080/"
        },
        "id": "GUmA7SWKnTT6",
        "outputId": "d1009515-d856-46b5-9a6b-ebb92c9e1b66"
      },
      "execution_count": null,
      "outputs": [
        {
          "output_type": "execute_result",
          "data": {
            "text/plain": [
              "array([[-122.05,   37.37,   27.  , 3885.  ,  661.  ],\n",
              "       [-118.3 ,   34.26,   43.  , 1510.  ,  310.  ],\n",
              "       [-117.81,   33.78,   27.  , 3589.  ,  507.  ]])"
            ]
          },
          "metadata": {},
          "execution_count": 191
        }
      ]
    },
    {
      "cell_type": "markdown",
      "source": [
        "``` python\n",
        "numpy.genfromtxt(fname, dtype=<class 'float'>, comments='#', delimiter=None, skip_header=0, skip_footer=0, converters=None, missing_values=None,\n",
        "                 filling_values=None, usecols=None, names=None, excludelist=None, deletechars=\" !#$%&'()*+, -./:;<=>?@[\\\\]^{|}~\", replace_space='_',\n",
        "                 autostrip=False, case_sensitive=True, defaultfmt='f%i', unpack=None, usemask=False, loose=True, invalid_raise=True, max_rows=None,\n",
        "                 encoding='bytes', *, ndmin=0, like=None)\n",
        "```\n",
        "\n",
        "この関数も、テキストファイルを読み取り 2 次元配列を生成するが、 `numpy.loadtxt()` 関数の機能に加えて、欠損データ処理の機能が加えられている。\n",
        "\n",
        "引数が拡張されており、以下の点に注意する。\n",
        "\n",
        "  * `skiprows` ではなく `skip_header` を使う。\n",
        "  * ファイルの末尾で読み飛ばす行数を指定 `skip_footer` で指定できる。\n",
        "  * `missing_values` に指定した文字列を欠損データとして扱う。\n",
        "  * データが欠損しているときに穴埋めする値を `filling_values` に指定できる。デフォルトでは `numpy.nan` が使われる。\n",
        "\n",
        "``` python\n",
        "numpy.savetxt(fname, X, fmt='%.18e', delimiter=' ', newline='\\n', header='', footer='', comments='# ', encoding=None)\n",
        "```\n",
        "\n",
        "この関数は、 1 次元配列または 2 次元配列をテキストファイルとして保存する。引数は次のとおり。\n",
        "\n",
        "| 引数 | 意味 |\n",
        "|:---|:---|\n",
        "| `fname` | 読み取るファイル。パス名かファイルオブジェクトを指定できる。拡張子が `.gz` の場合、GZIP 圧縮方式で自動的に圧縮される |\n",
        "| `X` | ファイルに保存する 1 次元配列または 2 次元配列 |\n",
        "| `fmt` | 各要素を書き出す際の書式を % 変換指定で与える。デフォルトは `'%.18e'`（小数点以下 18 桁の指数表記の浮動小数点数） |\n",
        "| `delimiter` | 値を区切るために使用される文字。デフォルトは空白 |\n",
        "| `newline` | 改行文字。デフォルトは `\\n` |\n",
        "| `header` | ヘッダー（ファイルの先頭に書き込まれる文字列） |\n",
        "| `footer` | フッター（ファイルの最後に書き込まれる文字列） |\n",
        "| `comments` | ヘッダーとフッターをコメントとしてマークするために、その文字列の前に追加される文字列。デフォルトは `'#'` |\n",
        "| `encoding` | 出力ファイルのエンコードに使用されるエンコーディング。`None`（デフォルト）の場合、`latin1` |"
      ],
      "metadata": {
        "id": "KIm7Ttrhs5m7"
      }
    },
    {
      "cell_type": "code",
      "source": [
        "import io\n",
        "import numpy as np\n",
        "\n",
        "a = np.linspace(0, 1, 8).reshape((2, 4))\n",
        "print(f\"{a!r}\")\n",
        "print(\"-\" * 100)\n",
        "with io.StringIO() as f:\n",
        "    header = \"A,B,C,D\"\n",
        "    np.savetxt(f, a, delimiter=\",\", header=header, comments=\"\")\n",
        "    f.seek(0)\n",
        "    for line in f:\n",
        "        print(line.rstrip())"
      ],
      "metadata": {
        "colab": {
          "base_uri": "https://localhost:8080/"
        },
        "id": "0ltA1EEDNaQ2",
        "outputId": "67cd6a9c-bfea-447b-95e5-b92a4e015839"
      },
      "execution_count": null,
      "outputs": [
        {
          "output_type": "stream",
          "name": "stdout",
          "text": [
            "array([[0.        , 0.14285714, 0.28571429, 0.42857143],\n",
            "       [0.57142857, 0.71428571, 0.85714286, 1.        ]])\n",
            "----------------------------------------------------------------------------------------------------\n",
            "A,B,C,D\n",
            "0.000000000000000000e+00,1.428571428571428492e-01,2.857142857142856984e-01,4.285714285714285476e-01\n",
            "5.714285714285713969e-01,7.142857142857141906e-01,8.571428571428570953e-01,1.000000000000000000e+00\n"
          ]
        }
      ]
    }
  ]
}