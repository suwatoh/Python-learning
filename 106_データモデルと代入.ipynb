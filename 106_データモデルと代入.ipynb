{
  "nbformat": 4,
  "nbformat_minor": 0,
  "metadata": {
    "colab": {
      "provenance": [],
      "toc_visible": true,
      "authorship_tag": "ABX9TyNG4u2hYyuyNXCMjFrXIi9j",
      "include_colab_link": true
    },
    "kernelspec": {
      "name": "python3",
      "display_name": "Python 3"
    },
    "language_info": {
      "name": "python"
    }
  },
  "cells": [
    {
      "cell_type": "markdown",
      "metadata": {
        "id": "view-in-github",
        "colab_type": "text"
      },
      "source": [
        "<a href=\"https://colab.research.google.com/github/suwatoh/Python-learning/blob/main/106_%E3%83%87%E3%83%BC%E3%82%BF%E3%83%A2%E3%83%87%E3%83%AB%E3%81%A8%E4%BB%A3%E5%85%A5.ipynb\" target=\"_parent\"><img src=\"https://colab.research.google.com/assets/colab-badge.svg\" alt=\"Open In Colab\"/></a>"
      ]
    },
    {
      "cell_type": "markdown",
      "source": [
        "データモデルと代入\n",
        "=================="
      ],
      "metadata": {
        "id": "uD0k3LzglXO8"
      }
    },
    {
      "cell_type": "markdown",
      "source": [
        "データモデル\n",
        "------------"
      ],
      "metadata": {
        "id": "jj6w7zaPlaCo"
      }
    },
    {
      "cell_type": "markdown",
      "source": [
        "Python における**オブジェクト**（object）とは、データを抽象的に表したものである。すべてのオブジェクトは、**同一性**（identity）、**型**（type）、**値**（value）を持っている。\n",
        "\n",
        "Pythonでは、整数・文字列・リストなどのすべてのデータはオブジェクトとしてメモリ上に配置される。オブジェクトの同一性は、オブジェクトのメモリ上のアドレスのことであり、オブジェクトが生成されたあとは変更されない。組み込み関数 `id()` は、アドレスを表す整数を返す。"
      ],
      "metadata": {
        "id": "777ESUFUldes"
      }
    },
    {
      "cell_type": "code",
      "source": [
        "id(None)"
      ],
      "metadata": {
        "colab": {
          "base_uri": "https://localhost:8080/"
        },
        "id": "Wwzh4-Cwlky8",
        "outputId": "0fc37fca-e851-41f1-f187-723f01e404dd"
      },
      "execution_count": null,
      "outputs": [
        {
          "output_type": "execute_result",
          "data": {
            "text/plain": [
              "96191330112480"
            ]
          },
          "metadata": {},
          "execution_count": 1
        }
      ]
    },
    {
      "cell_type": "markdown",
      "source": [
        "`is` 演算子は2つのオブジェクトの同一性を比較する。\n",
        "\n",
        "オブジェクトの型は、オブジェクトの種類のことであり、`__class__` 属性で参照できる。たとえば、`int` は整数の組み込み型であり、`str` は文字列の組み込み型である。組み込み関数 `type(object)` は、`object.__class__` を返す。"
      ],
      "metadata": {
        "id": "nVgHg8Rglh2h"
      }
    },
    {
      "cell_type": "code",
      "source": [
        "var = 'hoge'\n",
        "assert type(var) == var.__class__ == str"
      ],
      "metadata": {
        "id": "3e4Q2D2rloLQ"
      },
      "execution_count": null,
      "outputs": []
    },
    {
      "cell_type": "markdown",
      "source": [
        "組み込み関数 `isinstance(object, classinfo)` は、`object` に指定したオブジェクトの型が `classinfo` に指定した型と一致するかどうかチェックする。`classinfo` に型のタプルを指定した場合には、その中のどれかと一致するかどうかチェックする。"
      ],
      "metadata": {
        "id": "8J1HL9-Dltn8"
      }
    },
    {
      "cell_type": "code",
      "source": [
        "assert isinstance('hello', (int, str))"
      ],
      "metadata": {
        "id": "0UrhJC6WlxUK"
      },
      "execution_count": null,
      "outputs": []
    },
    {
      "cell_type": "markdown",
      "source": [
        "オブジェクトの値は、メモリ上のデータそのものである。オブジェクトは、値が変更可能なら**ミュータブル**（mutable）、変更不能なら**イミュータブル**（immutable）と呼ぶ。数値（`int`, `float`）や文字列・バイト列（`str`, `bytes`）というオブジェクトは変更不能であり、一度値が生成されると、二度と変更されることはない。\n",
        "\n",
        "None 型は単一の値しかなく、しかもこの値を持つオブジェクトは組み込み名 `None` でアクセスされるオブジェクトだけである。NotImplemented 型と Ellipsis 型もそれぞれ単一の値しかなく、この値を持つオブジェクトはそれぞれ組み込み名 `NotImplemented` と `Ellipsis` でアクセスされる。\n",
        "\n",
        "  * `None`: 値の非存在を表すリテラル\n",
        "  * `NotImplemented`: 関数やメソッドが（他の型に対して）実装されていないことを示すために返す特殊な値のリテラル\n",
        "  * `Ellipsis`: `...` と同じ。拡張スライス構文で使われるほか、値は存在するが省略されていることを表すために使われる特殊な値のリテラル。`pass` に似ているが、`pass` は文であるのに対し、`Ellipsis` はアトムであり式として評価される\n",
        "\n",
        "`==` 演算子や `!=` 演算子は、2つのオブジェクトの値を比較する。"
      ],
      "metadata": {
        "id": "NJrBiUR5l326"
      }
    },
    {
      "cell_type": "markdown",
      "source": [
        "代入\n",
        "----"
      ],
      "metadata": {
        "id": "WeWkxRUcopAu"
      }
    },
    {
      "cell_type": "markdown",
      "source": [
        "### 参照の保持"
      ],
      "metadata": {
        "id": "8m5rKbJ7ZPRh"
      }
    },
    {
      "cell_type": "markdown",
      "source": [
        "Python における「代入」は、オブジェクトに名前（変数名）を結びつける操作のことを指す。\n",
        "\n",
        "他のプログラミング言語（C など）で「変数」は値を入れる箱として説明されるが、Pythonでは「変数」は値そのものを入れる箱ではなく、オブジェクトへの参照を識別するためのラベルのようなものである。\n",
        "\n",
        "``` text\n",
        "                 ┌──────┐                                                 ┌───┐\n",
        "               C:│int x = 10; │                                          Python:│x = 10│\n",
        "                 └──────┘                                                 └───┘\n",
        "          ┃                ┃                                    ┃                ┃\n",
        "          ┃                ┃                                    ┃                ┃\n",
        "          ┣━━━━━━━━┫                                    ┠────────┨  ┌──────┐\n",
        "          ┃                ┃      ┌─┐                        ┃                ┃  │オブジェクト│  ┌─┐\n",
        "          ┃       10       ┃←――│x │                        ┃       10       ┃＝│id:0x1000   │←│x │\n",
        "          ┃                ┃      └─┘                        ┃                ┃  │type:int    │  └─┘\n",
        "    0x1000┣━━━━━━━━┫                              0x1000┠────────┨  │value:10    │\n",
        "          ┃                ┃                                    ┃                ┃  └――――――┘\n",
        "          ┃                ┃                                    ┃                ┃\n",
        "          ┃                ┃                                    ┃                ┃\n",
        "         0┗━━━━━━━━┛                                   0┗━━━━━━━━┛\n",
        "C では代入を実行すると、メモリ上にそのデータ型に応じた    Python では代入を実行すると、メモリ上のどこかにオブジェ\n",
        "サイズの固定された領域（箱）が確保され、変数は常にその    クトが生成され、変数は生成されたオブジェクトを指し示す\n",
        "領域を指し示す。                                          「ラベル」として結びつけられる。\n",
        "```\n",
        "\n",
        "このため、Python の代入操作は「変数をオブジェクトに**束縛**（bind）する」と表現される。\n",
        "\n",
        "「再代入」は、古い値を新しい値によって上書きするのではなく、別のオブジェクトに束縛を付け替える操作となる。\n",
        "\n",
        "変数を評価するとき、C では変数が指し示すメモリ領域から値を取得することになるが、Python ではまず変数がどのオブジェクトに束縛されたのかを調べ、次にそのオブジェクトにアクセスして値を取得することになる。"
      ],
      "metadata": {
        "id": "JqctOXLVn21g"
      }
    },
    {
      "cell_type": "markdown",
      "source": [
        "### 名前空間とスコープ ###"
      ],
      "metadata": {
        "id": "QUDWBFBewFsF"
      }
    },
    {
      "cell_type": "markdown",
      "source": [
        "Python では変数と関数名は「名前」という括りで語られる（Python では定数はサポートされない）。\n",
        "\n",
        "Python インタープリターは、代入や関数定義を見つけると、**現在の（実行フレームの中で、その）スコープ種別に対応する名前空間に名前を登録する**（ただし、global 文や nonlocal 文による例外がある）。\n",
        "\n",
        "Python で**名前空間**（namespaces）は、名前をオブジェクトに結びつけるために使う特別なオブジェクトである。代入（すなわちオブジェクトへの束縛）とは、変数とオブジェクトのペアを名前空間に登録することにほかならない。ほとんどの名前空間は辞書（`dict`）として実装されている。ある名前からオブジェクトを参照するとき、名前をキーとして名前空間を探索する。\n",
        "\n",
        "名前空間は複数あって、様々な時点で作成され、その寿命も様々である。それらは次の 2 つに大別される。\n",
        "\n",
        "  * **関数のローカルな名前空間**:  \n",
        "関数が呼び出されたときに作成され、関数から戻ったときや、関数内で例外が送出され、かつ関数内で処理されなかった場合に削除される。この名前空間にある変数は「関数のローカル変数」と呼ばれる。再帰呼出しのときには、各々の呼び出しで各自のローカルな名前空間が作成される。\n",
        "  * **モジュールのグローバルな名前空間**:  \n",
        "モジュール定義が読み込まれたときに作成され、通常はインタープリターが終了するまで残る。この名前空間にある変数は「モジュールのグローバル変数」とか「モジュール変数」と呼ばれる。\n",
        "      * インタープリターのトップレベルで実行された文は、スクリプトファイルから読み出されたものでも対話的に読み出されたものでも、`__main__` という名前のモジュールの一部分であるとみなされるので、独自の名前空間を持つ。\n",
        "      * Python インタープリター起動時に `__builtins__` という特別なモジュールが作成され、組み込みの名前が入った名前空間を持つ。\n",
        "\n",
        "異なった名前空間にある名前の間には全く関係がない。\n",
        "\n",
        "例えば、2 つの別々のモジュールの両方で `maximize` という関数を定義することができ、定義自体は混同されることがない。\n",
        "\n",
        "また、次のコードのように `list` という変数への代入をする場合、 `__main__` モジュールのグローバルな名前空間に変数 `list` が登録されるのであって、組み込みの名前が入った名前空間にある組み込み関数 `list` とは混同されない。実際、`del list` として `__main__` モジュールの名前空間から削除すると、組み込み関数 `list` にアクセスできるようになる。"
      ],
      "metadata": {
        "id": "hBgEAOi7PD1G"
      }
    },
    {
      "cell_type": "code",
      "source": [
        "list = [0, 1, 2, 3]\n",
        "print(f\"{list=}\")\n",
        "try:\n",
        "    numbers = list(range(4))\n",
        "except TypeError:\n",
        "    print(\"'list'は変数として使用しているので関数として呼び出せません。\")\n",
        "del list\n",
        "numbers = list(range(4))\n",
        "print(f\"{numbers=}\")"
      ],
      "metadata": {
        "colab": {
          "base_uri": "https://localhost:8080/"
        },
        "id": "wUEVVmvsoN39",
        "outputId": "bd1d4c04-1add-4e7f-d6ee-be29c8141f1a"
      },
      "execution_count": null,
      "outputs": [
        {
          "output_type": "stream",
          "name": "stdout",
          "text": [
            "list=[0, 1, 2, 3]\n",
            "'list'は変数として使用しているので関数として呼び出せません。\n",
            "numbers=[0, 1, 2, 3]\n"
          ]
        }
      ]
    },
    {
      "cell_type": "markdown",
      "source": [
        "上のコードでは、`list` 変数を定義した状態で組み込み関数 `list` を呼び出すつもりだったが、`TypeError` 例外が発生している。これは、`__main__` モジュールの名前空間が組み込みの名前が入った名前空間より優先して探索されるからである。\n",
        "\n",
        "このように Python では名前空間を探索するルールが決まっていて、この探索ルールが**スコープ**（scope）である。\n",
        "\n",
        "Python のスコープ種別は次のとおり。\n",
        "\n",
        "  1. **ローカルスコープ（Local scope）**:  \n",
        "関数のブロックのこと。関数のローカルな名前空間にアクセスできる。\n",
        "  2. **エンクロージングスコープ（Enclosing scope）**:  \n",
        "ローカルスコープを囲むスコープ。\n",
        "  3. **グローバルスコープ（Global scope）**:  \n",
        "モジュール（Python ファイル）のトップレベルスコープ。モジュールのグローバルな名前空間にアクセスできる。\n",
        "  4. **ビルトインスコープ（Builtins scope）**:  \n",
        "どのモジュールのファイルも含まれるスコープ。組み込みの名前が入った名前空間にアクセスできる。\n",
        "\n",
        "この順番は、下に行くほどスコープを形成するテキスト上の領域が広いがスコープの優先順位は低い。この探索ルールは頭文字をとって **LEGB** と呼ばれる。\n",
        "\n",
        "LEGB では内側にあるスコープほど優先され、探索する名前空間が決定される。最も内側のスコープがアクセスできる名前空間を探索して名前が見つからなければ、直ぐ外側のスコープがアクセスできる名前空間を探索する。こうした探索を近いほうから外側へ順に繰り返していく。\n",
        "\n",
        "逆に、外側のスコープから、内側のスコープがアクセスできる名前空間を探索する方法はない。これにより、関数のブロックの外側からは関数のローカル変数が「見えない」。\n",
        "\n",
        "典型的なエンクロージングスコープは、ネストされた関数の外側関数のスコープである。Python では、関数定義のネスト、つまり、関数定義の内部で別の関数を定義することが可能であり、外側関数と内部関数でそれぞれ独自のローカルスコープが形成される。このとき、外側関数のスコープがエンクロージングスコープとなる。\n",
        "\n",
        "``` text\n",
        "┌───────────────────────────────────────────┐\n",
        "│<builtins スコープ>                                                                   │\n",
        "│┌───────────┐┌───────────┐┌───────────────┐│\n",
        "││<__main__ スコープ>   ││<module_A スコープ>   ││<module_B スコープ>           ││\n",
        "││                      ││                      ││                              ││\n",
        "││def func(arg):        ││def func(arg):        ││def func(arg):                ││\n",
        "││  ┌────────┐││  ┌────────┐││  ┌────────────┐││\n",
        "││  │<func スコープ> │││  │<func スコープ> │││  │<func スコープ>         │││\n",
        "││  │                │││  │                │││  │<Enclosing スコープ>    │││\n",
        "││  │                │││  │                │││  │def subfunc(arg):       │││\n",
        "││  │                │││  │                │││  │  ┌─────────┐│││\n",
        "││  │                │││  │                │││  │  │<subfunc スコープ>││││\n",
        "││  │                │││  │                │││  │  └─────────┘│││\n",
        "││  └────────┘││  └────────┘││  └────────────┘││\n",
        "│└───────────┘└───────────┘└───────────────┘│\n",
        "└───────────────────────────────────────────┘\n",
        "```\n",
        "\n",
        "ラムダ式は、意味付け的には単に通常の関数定義に構文的な糖衣をかぶせたもの（**シンタックスシュガー**）に過ぎないため、ネストされた関数と同様、独自のスコープが形成される:"
      ],
      "metadata": {
        "id": "D5YVSUj5shLS"
      }
    },
    {
      "cell_type": "code",
      "source": [
        "def func(a):\n",
        "    x = a\n",
        "    f = lambda x: x + 10  # noqa: E731 (PEP 8 違反)\n",
        "    assert f(1) == 11\n",
        "    assert x == a\n",
        "\n",
        "func(100)"
      ],
      "metadata": {
        "id": "4yMtJpjT4mv7"
      },
      "execution_count": null,
      "outputs": []
    },
    {
      "cell_type": "markdown",
      "source": [
        "このように、Python のスコープは基本的にはソースコードのテキスト上の領域（字句の並び）に基づいて決定されるので**レキシカルスコープ**（lexical scope）と呼ばれたり、**静的スコープ**（static scope）と呼ばれる。ただし、Python は同じくレキシカルスコープを採用する JavaScript や C# などの言語ほど細かくはスコープを形成しない。ファイルより狭い領域では、関数定義で新たなスコープが形成されるが、if 文などでスコープは形成されない。"
      ],
      "metadata": {
        "id": "1QP6HzHo4l4j"
      }
    },
    {
      "cell_type": "code",
      "source": [
        "if True:\n",
        "    x = 10\n",
        "\n",
        "assert x == 10  # if文の外側から if文の中で定義された x を参照できる\n",
        "\n",
        "y = 20\n",
        "\n",
        "if True:\n",
        "    y = 0\n",
        "\n",
        "assert y == 0  # if文の中で if文の外側で定義された y を変更できる"
      ],
      "metadata": {
        "id": "4tp5qnzpfzfA"
      },
      "execution_count": null,
      "outputs": []
    },
    {
      "cell_type": "markdown",
      "source": [
        "一方、リスト内包表記や、[集合内包表記](https://docs.python.org/ja/3/tutorial/datastructures.html#sets)、[辞書内包表記](https://docs.python.org/ja/3/tutorial/datastructures.html#dictionaries)が作るブロックでは独自のスコープが形成される。これらは、コンストラクタ呼び出しの特別な形式の糖衣構文だからである。"
      ],
      "metadata": {
        "id": "JlyVZf8x4Ci9"
      }
    },
    {
      "cell_type": "code",
      "source": [
        "x = 1\n",
        "y = 100\n",
        "\n",
        "li = [x + y for x in range(10) if x % 2 == 0]  # リスト内包表記から y を参照できる\n",
        "assert li == [100, 102, 104, 106, 108]\n",
        "\n",
        "s = {x + y for x in range(10) if x % 2 == 0}  # 集合内包表記から y を参照できる\n",
        "assert s == {100, 102, 104, 106, 108}\n",
        "\n",
        "d = {x: x**2 for x in range(10) if x % 2 == 0}  # 辞書内包表記から y を参照できる\n",
        "assert d == {0: 0, 2: 4, 4: 16, 6: 36, 8: 64}\n",
        "\n",
        "assert x == 1  # 内包表記で定義された x は参照されない"
      ],
      "metadata": {
        "id": "wfI65XZrPHEj"
      },
      "execution_count": null,
      "outputs": []
    },
    {
      "cell_type": "markdown",
      "source": [
        "Python ではスコープや名前空間に関する組み込み関数として以下のものがある。\n",
        "\n",
        "| 組み込み関数 | 機能 |\n",
        "|:---|:---|\n",
        "| `dir([object])` | 引数がない場合、現在のローカルスコープにある名前のリストを返す。引数がある場合、そのオブジェクトの有効な属性のリストを返す |\n",
        "| `locals()` | 現在のローカルスコープがアクセスできる名前空間（辞書）を返す |\n",
        "| `globals()` | 現在のグローバルスコープがアクセスできる名前空間（辞書）を返す |"
      ],
      "metadata": {
        "id": "sVe0YbLx9xyT"
      }
    },
    {
      "cell_type": "code",
      "source": [
        "x = 1\n",
        "\n",
        "def func(a, b):\n",
        "    c = a + b\n",
        "    print(f'{dir() = }')\n",
        "    print(f'{locals() = }')\n",
        "\n",
        "func(1, 2)\n",
        "assert globals()['x'] == 1"
      ],
      "metadata": {
        "colab": {
          "base_uri": "https://localhost:8080/"
        },
        "id": "ZmDTjqGI9ygf",
        "outputId": "9c15ac4b-402f-4269-8fd3-984c120451be"
      },
      "execution_count": null,
      "outputs": [
        {
          "output_type": "stream",
          "name": "stdout",
          "text": [
            "dir() = ['a', 'b', 'c']\n",
            "locals() = {'a': 1, 'b': 2, 'c': 3}\n"
          ]
        }
      ]
    },
    {
      "cell_type": "markdown",
      "source": [
        "LEGB のルールは、モジュール名などで修飾した名前には適用されない。修飾があることにより、探索したい名前空間が明らかだからである。例えば、インポートしたモジュール `spam` のグローバル変数 `egg` を `spam.egg` と記述して参照するなら、その記述がどのスコープにあっても `spam` のグローバルな名前空間から名前を見つけようと試みることを意味する。\n",
        "\n",
        "また、LEGB のルールは global 文や nonlocal 文で変更できる。global 文と nonlocal 文の構文は次のとおり:\n",
        "\n",
        "``` python\n",
        "global 識別子[, 識別子...]\n",
        "nonlocal 識別子[, 識別子...]\n",
        "```\n",
        "\n",
        "  * 名前が global と宣言されている場合、直ちにグローバルスコープがアクセスできる名前空間を探索する。したがって、その名前に対する参照や代入は全てグローバルスコープに対して直接行われる。\n",
        "  * 名前が nonlocal と宣言されている場合、直ちに外側のスコープがアクセスできる名前空間を探索する。したがって、その名前に対する参照や代入は全て外側のスコープに対して直接行われる。\n",
        "  * nonlocal と宣言されなかった変数は、全て読み出し専用となる（そのような変数への代入は単に新しいローカル変数を最も内側のスコープで作成するのであって、外部のスコープにある変数の値は変化しない）。"
      ],
      "metadata": {
        "id": "QVWYSCIq3aLU"
      }
    },
    {
      "cell_type": "code",
      "source": [
        "def scope_test():\n",
        "    def do_local():\n",
        "        spam = \"local spam\"\n",
        "\n",
        "    def do_nonlocal():\n",
        "        nonlocal spam\n",
        "        spam = \"nonlocal spam\"\n",
        "\n",
        "    def do_global():\n",
        "        global spam\n",
        "        spam = \"global spam\"\n",
        "\n",
        "    spam = \"test spam\"\n",
        "    do_local()\n",
        "    print(\"After local assignment:\", spam)\n",
        "    do_nonlocal()\n",
        "    print(\"After nonlocal assignment:\", spam)\n",
        "    do_global()\n",
        "    print(\"After global assignment:\", spam)\n",
        "\n",
        "scope_test()\n",
        "print(\"In global scope:\", spam)"
      ],
      "metadata": {
        "colab": {
          "base_uri": "https://localhost:8080/"
        },
        "id": "qLG5YGMJSoyo",
        "outputId": "98eda561-c90f-4217-f28e-e54e382c7448"
      },
      "execution_count": null,
      "outputs": [
        {
          "output_type": "stream",
          "name": "stdout",
          "text": [
            "After local assignment: test spam\n",
            "After nonlocal assignment: nonlocal spam\n",
            "After global assignment: nonlocal spam\n",
            "In global scope: global spam\n"
          ]
        }
      ]
    },
    {
      "cell_type": "markdown",
      "source": [
        "### フレームとクロージャー ###"
      ],
      "metadata": {
        "id": "6KyUlUBSGgQH"
      }
    },
    {
      "cell_type": "markdown",
      "source": [
        "Python は非常に関数指向な言語であり、関数もオブジェクトとして扱われる。これにより、ある時点で作成した関数を別の変数に代入したり、ネストされた関数を全く別の場所から呼ぶことができる。\n",
        "\n",
        "ネストされた関数では、エンクロージングスコープを通して外側関数で定義された変数を参照できる。ネストされた関数を外側関数とは別の場所から呼び出すときでも、外側関数で定義された変数を参照できる。しかし、これは関数のローカルな名前空間の寿命を考えるとありえない話に聞こえる。外側関数を呼び出して、ネストされた関数を戻り値として得た時点で、外側関数のローカルな名前空間は削除されているはずだからである。\n",
        "\n",
        "実際、次コードでは `make_adder()` 関数の戻り値としての関数を、 `make_adder()` 関数の外部で呼び出しているが、 `make_adder()` 関数のローカル変数 `a` を参照できている。"
      ],
      "metadata": {
        "id": "igH_NTlEGgtt"
      }
    },
    {
      "cell_type": "code",
      "source": [
        "def make_adder():\n",
        "    a = 10\n",
        "\n",
        "    def function(x):\n",
        "        return x + a\n",
        "\n",
        "    return function\n",
        "\n",
        "\n",
        "adder = make_adder()\n",
        "\n",
        "assert adder(1) == 11\n",
        "assert adder(2) == 12\n",
        "assert adder(3) == 13"
      ],
      "metadata": {
        "id": "TeiL0L1fLMS1"
      },
      "execution_count": null,
      "outputs": []
    },
    {
      "cell_type": "markdown",
      "source": [
        "このように引数以外の変数を自身が定義された環境（エンクロージングスコープ）から参照できる関数を**関数閉包**とか、**クロージャー**（closure）と呼ぶ。エンクロージングスコープから参照される変数（つまり、ネストされた関数の仮引数でもなく、ネストされた関数自身のローカル変数でもない変数）は、**自由変数**と呼ばれる。\n",
        "\n",
        "Python では、クロージャーにおける自由変数を保存するために、関数の実行時に**フレーム**（frame）と呼ばれるオブジェクトが作成される。フレームオブジェクトは、以下の属性を持つ。\n",
        "\n",
        "| 属性 | 意味 |\n",
        "|:---|:---|\n",
        "| `f_locals` | 関数のローカルな名前空間（`locals()` と同じ内容） |\n",
        "| `f_globals` | モジュールのグローバルな名前空間（`globals()` と同じ内容） |\n",
        "| `f_builtins` | 組み込みの名前が入った名前空間 |\n",
        "| `f_back` | 呼び出し元のフレーム |\n",
        "\n",
        "このように関数のローカルな名前空間はフレームが保持している。関数が呼び出されるたびに新しいフレームが作成されるが、 呼び出し元のフレームは呼び出した関数から制御が戻るまで削除されない。こうしてフレームのスタックが形成される（このスタックは**コールスタック**（call stack）と呼ばれる）。呼び出された関数からはそのフレームの `f_back` 属性によってスタックをさかのぼることができる。これにより、呼び出し元のフレームを得てその `f_locals` 属性が保持する名前空間を探索できるのである。\n",
        "\n",
        "Python のレキシカルスコープはフレームのスタックと結び付いており、ネストされた関数の自由変数についてスタックをさかのぼってフレームが保持する名前空間を探索している。\n",
        "\n",
        "フレームは C 構造体で実装された特別な内部オブジェクトであるが、Python から標準ライブラリの `inspect` モジュールを使ってフレームにアクセスすることができる。ただし、内部オブジェクトへのアクセスは副作用を伴うので、デバッグや検証用途に限るべき。"
      ],
      "metadata": {
        "id": "QxcPYkMtyMCP"
      }
    },
    {
      "cell_type": "code",
      "source": [
        "import inspect\n",
        "\n",
        "def outer():\n",
        "    x = 42\n",
        "    def inner():\n",
        "        frame = inspect.currentframe().f_back  # inspect.currentframe() は実行中の関数のフレームを返す\n",
        "        print(\"outerのローカルな名前空間:\", frame.f_locals)\n",
        "    inner()\n",
        "\n",
        "outer()"
      ],
      "metadata": {
        "colab": {
          "base_uri": "https://localhost:8080/"
        },
        "id": "IT5IGm0y4h_y",
        "outputId": "bf36dabf-edaf-4db3-899d-9519df584785"
      },
      "execution_count": null,
      "outputs": [
        {
          "output_type": "stream",
          "name": "stdout",
          "text": [
            "outerのローカルな名前空間: {'x': 42, 'inner': <function outer.<locals>.inner at 0x7a4ba2721e40>}\n"
          ]
        }
      ]
    },
    {
      "cell_type": "markdown",
      "source": [
        "### 代入文 ###"
      ],
      "metadata": {
        "id": "B9F2B4pcNpVn"
      }
    },
    {
      "cell_type": "markdown",
      "source": [
        "代入文の完全な構文は次のようになっている。\n",
        "\n",
        "``` python\n",
        "target_list = <式 または ブール式のリスト>\n",
        "```\n",
        "\n",
        "右辺の「ブール式のリスト」（カンマ区切りリスト）はタプル評価（パック）される。ここでは帰納的に定義した「ブール式」を使っており、「ブール式」にはブール演算を用いる式（狭い意味でのブール式）のほか、アトム、プライマリ、演算式、比較式がすべて含まれることに注意する。\n",
        "\n",
        "代入は `target_list` の形式に従って以下のように行われる。\n",
        "\n",
        "**target_list が単一の変数の場合**:  \n",
        "変数への代入が行われる。\n",
        "\n",
        "**target_list がカンマ区切りの変数リストの場合**:  \n",
        "右辺のイテラブルがアンパックされる。すなわち、イテラブルから要素を 1 つずつ取得し、取得した順序で各要素を `target_list` の変数リストに対して左から右へと代入してゆく。右辺が辞書の場合は、キーを取得する。右辺の「ブール式のリスト」はタプル評価（パック）ののち、アンパックされる（**多重代入**と呼ばれる）。取得した順序を保つ性質を利用して変数の値の入れ替え（スワッピング）が可能である。`target_list` に丸括弧が使われているときは再帰的に代入が行われる。右辺がイテラブルでなかったり、あるいは、`target_list` の変数の数とイテラブルから得られる要素の数が一致しないと `ValueError` 例外が発生する。"
      ],
      "metadata": {
        "id": "R8JwogWCLfXJ"
      }
    },
    {
      "cell_type": "code",
      "source": [
        "# 右辺が辞書の場合、キーを取得する\n",
        "a, b = {'a': 1, 'b': 2}\n",
        "assert a == 'a' and b == 'b'\n",
        "\n",
        "# 多重代入\n",
        "a, b, c = 1, 2, 3\n",
        "assert a == 1 and b == 2 and c == 3\n",
        "\n",
        "# スワッピング\n",
        "b, a = a, b\n",
        "assert a == 2 and b == 1\n",
        "\n",
        "# target_list に丸括弧が使われているとき、代入は再帰的に行われる\n",
        "(a, b), (c, d, e), (f, g) = (-1, 0), (1, 2, 3), (4, 5)\n",
        "print(f\"{a=}, {b=}, {c=}, {d=}, {e=}, {f=}, {g=}\")"
      ],
      "metadata": {
        "colab": {
          "base_uri": "https://localhost:8080/"
        },
        "id": "9GudNkBPLgig",
        "outputId": "0a225d57-ef09-4171-a400-d80b0afb4242"
      },
      "execution_count": null,
      "outputs": [
        {
          "output_type": "stream",
          "name": "stdout",
          "text": [
            "a=-1, b=0, c=1, d=2, e=3, f=4, g=5\n"
          ]
        }
      ]
    },
    {
      "cell_type": "markdown",
      "source": [
        "**target_list が 1 個のスター付き変数を含む変数リストの場合**:  \n",
        "`target_list` が変数リストで、頭にアスタリスク `'*'` が 1 つ付いた変数（スター付き変数）が 1 つだけ含まれる場合には、まず、スター付き変数より前の変数に、右辺のイテラブルの要素が左から右へ順に代入される。次に、スター付き変数より後ろの変数に、同じ数だけのイテラブルの末尾の要素が代入される。最後に、スター付き変数に、イテラブルの残った要素の<font color=\"red\">リスト</font>が代入される（リストは空の場合もある)。この操作のどこかで、イテラブルの要素が足りないということがあれば、`ValueError` 例外が発生する。"
      ],
      "metadata": {
        "id": "qgq4nUrrWD5N"
      }
    },
    {
      "cell_type": "code",
      "source": [
        "t = tuple(range(7))\n",
        "a, b, *c, d, e = t\n",
        "print(f\"{a=}, {b=}, {c=}, {d=}, {e=}\")  # c はタプルではないことに注意！"
      ],
      "metadata": {
        "colab": {
          "base_uri": "https://localhost:8080/"
        },
        "id": "O5zzqL1ZWEvk",
        "outputId": "d363b32d-991e-49e3-ca46-19dd68ae4b7a"
      },
      "execution_count": null,
      "outputs": [
        {
          "output_type": "stream",
          "name": "stdout",
          "text": [
            "a=0, b=1, c=[2, 3, 4], d=5, e=6\n"
          ]
        }
      ]
    },
    {
      "cell_type": "markdown",
      "source": [
        "Python では必要のない値は慣例的にアンダースコア `_` に代入することがある。アンパックで必要のない要素を `_` にまとめて代入するという手法がよく使われる。"
      ],
      "metadata": {
        "id": "CCl2HKMNyeML"
      }
    },
    {
      "cell_type": "code",
      "source": [
        "t = 1, 2, 3, 4, 5\n",
        "x, y, *_ = t  # x, y = t[0:2] と同じ\n",
        "assert x == 1 and y == 2"
      ],
      "metadata": {
        "id": "DEHiJ34FzSMO"
      },
      "execution_count": null,
      "outputs": []
    },
    {
      "cell_type": "markdown",
      "source": [
        "**target_list が属性参照の場合**:  \n",
        "`target_list` が `a.x` のようにドットを使った属性参照の場合、属性への代入が行われる。\n",
        "\n",
        "**target_list が添字表記の場合**:  \n",
        "`target_list` が `a[i]` のように `[]` を使った添字表記の場合、それにより参照される要素への代入が行われる。\n",
        "\n",
        "**target_list がスライスの場合**:  \n",
        "`target_list` が `a[i:j]` のように `[]` とコロン `:` を使ったスライスの場合、スライスでアクセスされる各要素への代入が、カンマ区切りリストの場合と同様に行われる。"
      ],
      "metadata": {
        "id": "3XF5A15x6fjT"
      }
    },
    {
      "cell_type": "code",
      "source": [
        "li = [\"あ\", \"い\", \"う\", \"え\", \"お\"]\n",
        "li[3:] = \"エ\", \"オ\"\n",
        "assert li == [\"あ\", \"い\", \"う\", \"エ\", \"オ\"]"
      ],
      "metadata": {
        "id": "BerJuTOl6hFz"
      },
      "execution_count": null,
      "outputs": []
    },
    {
      "cell_type": "markdown",
      "source": [
        "### for 文 ###"
      ],
      "metadata": {
        "id": "tTIRq_QWSheY"
      }
    },
    {
      "cell_type": "markdown",
      "source": [
        "for 文の構文は次のとおり。\n",
        "\n",
        "``` python\n",
        "for target_list in <式 または ブール式のリスト>:\n",
        "    ...\n",
        "[else: ...]\n",
        "```\n",
        "\n",
        "for 文では、 `in` の右辺のイテラブルから取得される各値について、通常の代入式のルールに従って `target_list` への代入が行われる。"
      ],
      "metadata": {
        "id": "gETjqcueS6aJ"
      }
    },
    {
      "cell_type": "code",
      "source": [
        "for x, *y, z in [(1, 2, 3, 4), (5, 6, 7, 8)]:\n",
        "    print(f'{x} + {z} = {x + z}')\n",
        "    print(f'{y = }')"
      ],
      "metadata": {
        "colab": {
          "base_uri": "https://localhost:8080/"
        },
        "id": "NGyc-wpLVCBM",
        "outputId": "5a923700-1202-4939-a1d9-be7c1ddb95c4"
      },
      "execution_count": null,
      "outputs": [
        {
          "output_type": "stream",
          "name": "stdout",
          "text": [
            "1 + 4 = 5\n",
            "y = [2, 3]\n",
            "5 + 8 = 13\n",
            "y = [6, 7]\n"
          ]
        }
      ]
    },
    {
      "cell_type": "markdown",
      "source": [
        "for 文では新たなスコープは形成されない（if 文と同様）。"
      ],
      "metadata": {
        "id": "rIh4-ktOictP"
      }
    },
    {
      "cell_type": "code",
      "source": [
        "i = 1\n",
        "\n",
        "for i in range(10):  # for文ではスコープが形成されない\n",
        "    pass\n",
        "\n",
        "assert i == 9"
      ],
      "metadata": {
        "id": "nnCHnG0S4CDq"
      },
      "execution_count": null,
      "outputs": []
    },
    {
      "cell_type": "markdown",
      "source": [
        "### 拡張代入文 ###"
      ],
      "metadata": {
        "id": "rtOHn4z4Lw5Y"
      }
    },
    {
      "cell_type": "markdown",
      "source": [
        "**拡張代入文**または**累算代入文**は、二項演算と代入文を組み合わせて 1 つの文にしたものである。\n",
        "\n",
        "``` python\n",
        "target <二項演算子>= <式のリスト>\n",
        "```\n",
        "\n",
        "拡張代入文は、`target` と式のリストを評価し、それら二つの被演算子間で特定の拡張代入型の二項演算を行い、結果をもとの `target` に代入する。\n",
        "\n",
        "通常の代入文と違って、拡張代入文ではアンパックは起こらない。\n",
        "\n",
        "代入の操作は可能な限りインプレースで実行される。つまり、新しいオブジェクトを作成してそれを `target` に代入するのではなく、古いオブジェクトが変更される。"
      ],
      "metadata": {
        "id": "5_QSNFoMLxer"
      }
    },
    {
      "cell_type": "code",
      "source": [
        "a = [1, 2, 3]\n",
        "print(id(a))\n",
        "# 拡張代入：元のリストがそのまま変更される\n",
        "a += [4]\n",
        "print(id(a))\n",
        "\n",
        "# 通常の代入：新しいリストが作られて a に再代入される\n",
        "a = a + [5]\n",
        "print(id(a))"
      ],
      "metadata": {
        "colab": {
          "base_uri": "https://localhost:8080/"
        },
        "id": "aaZs8q5bL0Wq",
        "outputId": "c0a9013e-4c7d-4b9b-f9b8-1c97b3c795bc"
      },
      "execution_count": null,
      "outputs": [
        {
          "output_type": "stream",
          "name": "stdout",
          "text": [
            "134244851899712\n",
            "134244851899712\n",
            "134244851902400\n"
          ]
        }
      ]
    },
    {
      "cell_type": "markdown",
      "source": [
        "通常の代入とは違い、拡張代入文は右辺を評価する前に左辺を評価する。たとえば、`a[i] += f(x)` はまず `a[i]` を調べ、`f(x)` を評価して加算を行い、最後に結果を `a[i]` に割り当てる。\n",
        "\n",
        "拡張代入型の二項演算は、右辺をすべて評価した後に行われることに注意する。"
      ],
      "metadata": {
        "id": "kRXhcWaLUGmf"
      }
    },
    {
      "cell_type": "code",
      "source": [
        "n = 2\n",
        "n *= 3 + 5  # 右辺が評価された後に * が計算されるので n *= 8　と同じ)\n",
        "assert n == 16"
      ],
      "metadata": {
        "id": "Iy2u0urtUHXx"
      },
      "execution_count": null,
      "outputs": []
    },
    {
      "cell_type": "markdown",
      "source": [
        "### 代入式 ###"
      ],
      "metadata": {
        "id": "_Yd3iiQ2UI6_"
      }
    },
    {
      "cell_type": "markdown",
      "source": [
        "セイウチ演算子 `:=` を用いた代入式では、通常の代入式のルールがサポートされておらず、最もシンプルな代入（左辺が単一の変数で右辺が単一のオブジェクト）のみ可能である。右辺のタプル評価（パック）やアンパックは行われないので注意する。"
      ],
      "metadata": {
        "id": "uLslVVDUUJ3l"
      }
    },
    {
      "cell_type": "code",
      "source": [
        "if var1 := ('red', 'blue'):  # var1, var2 := 'red', 'blue' も var1, var2 := ('red', 'blue') も構文エラーとなる\n",
        "    print('OK')\n",
        "\n",
        "print(f'{var1=}')"
      ],
      "metadata": {
        "colab": {
          "base_uri": "https://localhost:8080/"
        },
        "id": "AfoOOWcuUOg0",
        "outputId": "6ae4e873-3a4a-4157-c0eb-6a9a5262376f"
      },
      "execution_count": null,
      "outputs": [
        {
          "output_type": "stream",
          "name": "stdout",
          "text": [
            "OK\n",
            "var1=('red', 'blue')\n"
          ]
        }
      ]
    },
    {
      "cell_type": "markdown",
      "source": [
        "仮引数と実引数\n",
        "--------------"
      ],
      "metadata": {
        "id": "A-eG26BIIsn6"
      }
    },
    {
      "cell_type": "markdown",
      "source": [
        "### 参照の値渡し ###"
      ],
      "metadata": {
        "id": "WZsKfU7XItTd"
      }
    },
    {
      "cell_type": "markdown",
      "source": [
        "関数定義のヘッダーに表れる変数を**仮引数**または**パラメータ**（parameter）といい、関数を呼び出すときに実際に渡す値のことを**実引数**または単に**引数**（argument）という。たとえば、`def func(arg): pass` という関数定義において変数 `arg` は仮引数であり、`func` を呼び出す式 `func(1)` において値 `1` は実引数である。\n",
        "\n",
        "関数を呼び出す際の実引数は、ローカル変数としての仮引数に代入される。そうすることで、実引数は**値渡し**（call by value）で関数に渡されることになる。ただし、ここでの「値」とは常にオブジェクトへの参照をいい、オブジェクトの値そのものではない（これは `=` による代入の場合と同じ）。そこで、この値渡しは**参照の値渡し**とも呼ばれる。Python の参照の値渡しは、C++ の**参照渡し**（call by reference）と混同されやすい。しかしながら、参照渡しに見られるような呼び出し側への影響は Python の関数では見られない。以下のコードで確認できる:"
      ],
      "metadata": {
        "id": "-0f_lpCmRm6T"
      }
    },
    {
      "cell_type": "code",
      "source": [
        "def func(arg):\n",
        "    arg = arg * 2\n",
        "\n",
        "a = 1\n",
        "func(a)\n",
        "print(f\"{a=}\")  # 参照渡しなら a=2 でなければならないが..."
      ],
      "metadata": {
        "colab": {
          "base_uri": "https://localhost:8080/"
        },
        "id": "OdpfnUqqoFgB",
        "outputId": "b2f39638-0148-4fa9-cfc6-192d4f511e04"
      },
      "execution_count": null,
      "outputs": [
        {
          "output_type": "stream",
          "name": "stdout",
          "text": [
            "a=1\n"
          ]
        }
      ]
    },
    {
      "cell_type": "markdown",
      "source": [
        "この例で `func()` 関数を呼び出す際の実引数 `a` は、`func()` 関数のローカルスコープ内で `arg` 変数に代入される（ローカル変数 `arg` が  `a` の値 `1` への参照を保持する）。`arg` はローカル変数であるから、`arg` に対する操作は呼び出し側に影響を与えないわけである。\n",
        "\n",
        "ただし、実引数が変更可能なオブジェクトの場合、呼び出された側の関数がオブジェクトに行った変更は全て呼び出し側にも反映される。これは参照渡しの効果ではなく、実引数と、呼び出された側のローカル変数が同じオブジェクトを参照しているために起こったことである。"
      ],
      "metadata": {
        "id": "jyonhmy4oPZU"
      }
    },
    {
      "cell_type": "code",
      "source": [
        "def func(arg):\n",
        "    arg[0] = 'baa'\n",
        "    print(f\"{id(arg)=}\")\n",
        "\n",
        "li = ['hoge', 'fuga']\n",
        "func(li)\n",
        "assert li == ['baa', 'fuga']\n",
        "print(f\"{ id(li)=}\")"
      ],
      "metadata": {
        "colab": {
          "base_uri": "https://localhost:8080/"
        },
        "id": "LhyLvFMFoXAe",
        "outputId": "dab36124-b215-4963-c038-dfc0262951c8"
      },
      "execution_count": null,
      "outputs": [
        {
          "output_type": "stream",
          "name": "stdout",
          "text": [
            "id(arg)=134064336912640\n",
            " id(li)=134064336912640\n"
          ]
        }
      ]
    },
    {
      "cell_type": "markdown",
      "source": [
        "実引数が変更可能なオブジェクトの場合でも、呼び出された側の関数が引数そのもの対して行った操作は呼び出し側に影響を与えない。"
      ],
      "metadata": {
        "id": "pmMKtRXjvUkU"
      }
    },
    {
      "cell_type": "code",
      "source": [
        "def func(arg1, arg2):\n",
        "    arg1 = arg1 + arg2\n",
        "    print(f'{id(arg1)=}')  # arg1 は新しいリストへの参照を保持する\n",
        "\n",
        "a = [1]\n",
        "b = [2]\n",
        "func(a, b)\n",
        "assert a == [1] and b == [2]\n",
        "print(f'   {id(a)=}')"
      ],
      "metadata": {
        "colab": {
          "base_uri": "https://localhost:8080/"
        },
        "id": "U5nIbLzPvVQc",
        "outputId": "42cef13a-7cfe-4e9b-b2ba-296e512ffd2a"
      },
      "execution_count": null,
      "outputs": [
        {
          "output_type": "stream",
          "name": "stdout",
          "text": [
            "id(arg1)=137271818632512\n",
            "   id(a)=137271818632064\n"
          ]
        }
      ]
    },
    {
      "cell_type": "markdown",
      "source": [
        "### 位置引数とキーワード引数 ###"
      ],
      "metadata": {
        "id": "du59ec5-6rfr"
      }
    },
    {
      "cell_type": "markdown",
      "source": [
        "実引数が `kwarg=value` の形を取っているとき、その実引数は**キーワード引数**（keyword argument）という。キーワード引数以外の実引数を**位置引数**（positional argument）と呼ぶ。\n",
        "\n",
        "関数の呼び出しにおいて、位置引数は常に仮引数の順番に従って渡されるのに対して、キーワード引数にはこのような拘束はない。**キーワード引数は位置引数の後でなければならない**。つまり、ひとたびキーワード引数を渡すと、それより後ろの引数にも全てキーワード引数を渡さなければならなくなる。\n",
        "\n",
        "位置引数とキーワード引数が実引数の区別であるのに対して、**位置専用引数**と**キーワード専用引数**は仮引数の区別である。関数定義の引数リストに `/` オプションがある場合、それより前の引数は位置専用引数とされ、キーワード引数で引数を渡せない。関数定義の引数リストに `*` オプションがある場合、それより後ろの引数はキーワード専用引数とされキーワード引数で渡す必要がある。位置専用引数でもキーワード専用引数でもない引数は、**位置またはキーワード引数**と呼ばれる。\n",
        "\n",
        "``` text\n",
        "def f(pos1, pos2, /, pos_or_kwd, *, kwd1, kwd2):\n",
        "      -----------    ----------     ----------\n",
        "       │             │                │\n",
        "       │     位置またはキーワード引数  │\n",
        "       │                               └─ キーワード専用引数\n",
        "       └─ 位置専用引数\n",
        "```\n",
        "\n",
        "位置引数は、引数の名前に意味がない場合に推奨される。たとえば、2 つの引数を加算する関数の場合、各引数の名前に意味はない（`add(a, b)` のように適当な名前が使われる）。このような場合、そもそも仮引数を位置専用引数とすれば、関数の利用者が引数の名前を使用することが無いから、将来引数の名前を変更することが容易である。\n",
        "\n",
        "逆に、引数の名前に意味があるなら、キーワード引数で渡すほうが関数呼び出しの意味がより明確になる。\n",
        "\n",
        "一般に、引数にブール値を渡す場合は、引数の名前に意味がある。ブール値の位置引数を使用して関数を呼び出すと、ブール値の意味が呼び出し元で明確でないため、可読性が下がる。たとえば、呼び出し元で `foo(a, False, True)` と書くより `foo(a, strict=False, verbose=True)` と書くほうが意味を理解しやすい。\n",
        "\n",
        "このとき、関数がブール値の位置引数を受け付けるなら、将来的に引数を後ろに追加して関数を拡張することが難しくなる。呼び出し時にブール値のキーワード引数を使用すると、追加された引数にもすべてキーワード引数を使用しなければならなくなるからである。追加された引数の名前に意味がないケースでは、これは不都合である。ブール値の仮引数をキーワード専用引数としておけば、引数の追加に問題がなくなる。\n",
        "\n",
        "リンター Flake8 のプラグイン [flake8-boolean-trap](https://pypi.org/project/flake8-boolean-trap/) は、関数の定義や呼び出しにおけるブール値の位置引数をチェックする。Ruff は flake8-boolean-trap の解析ルールも実装している。エラーコードは「FBT〇〇〇」の形式である。次のようにルールを追加すればよい。\n",
        "\n",
        "``` ini\n",
        "[tool.ruff.lint]\n",
        "extend-select = [\"FBT\"]\n",
        "```"
      ],
      "metadata": {
        "id": "J0hxHina6sTi"
      }
    },
    {
      "cell_type": "markdown",
      "source": [
        "### 引数のデフォルト値 ###"
      ],
      "metadata": {
        "id": "Xn7eHIdlWXqR"
      }
    },
    {
      "cell_type": "markdown",
      "source": [
        "仮引数が `parameter=expression` の形を取っているとき、その仮引数はデフォルト値を持つという。ここで、`expression` は式でありデフォルト値と呼ばれる。\n",
        "\n",
        "位置引数は、関数定義時の仮引数の数と、関数呼び出し時の実引数の数を一致させることが原則であるが、仮引数がデフォルト値を持つならば、実引数の数を少なくすることができ、その場合は後ろの足りない分は（キーワード引数を使用しているのではない限り）仮引数のデフォルト値が使われる。**ある仮引数がデフォルト値を持つ場合、それ以降キーワード専用引数が出てくるまでの引数は全てデフォルト値を持たなければならない**。省略された引数の後ろに位置引数を仮引数の順番に従って渡すことができないからである。\n",
        "\n",
        "キーワード専用引数もデフォルト値を持つことができ、キーワード引数を省略した場合にデフォルト値が使われる。\n",
        "\n",
        "ただし、仮引数のデフォルト値は関数定義を評価する時の 1 度だけしか評価されないことに注意する。このため、**デフォルト値として関数に渡されるのは、常に同じオブジェクトへの参照である**。デフォルト値として変更可能なオブジェクトを指定した場合、その変更は共有される。"
      ],
      "metadata": {
        "id": "e1c5xnz_l0kd"
      }
    },
    {
      "cell_type": "code",
      "source": [
        "def f(a, L=[]):\n",
        "    L.append(a)\n",
        "    return L\n",
        "\n",
        "print(f(1))\n",
        "print(f(2))\n",
        "print(f(3))"
      ],
      "metadata": {
        "colab": {
          "base_uri": "https://localhost:8080/"
        },
        "id": "Rdex2eRrl1z_",
        "outputId": "fb402b8c-3c02-4c67-e467-a54e02b88c02"
      },
      "execution_count": null,
      "outputs": [
        {
          "output_type": "stream",
          "name": "stdout",
          "text": [
            "[1]\n",
            "[1, 2]\n",
            "[1, 2, 3]\n"
          ]
        }
      ]
    },
    {
      "cell_type": "markdown",
      "source": [
        "後続の関数呼び出しでデフォルト値を共有したくなければ、代わりに以下のように関数を書くことができる:"
      ],
      "metadata": {
        "id": "LHM4GX7tpIAW"
      }
    },
    {
      "cell_type": "code",
      "source": [
        "def f(a, L=None):\n",
        "    if L is None:\n",
        "        L = []\n",
        "    L.append(a)\n",
        "    return L\n",
        "\n",
        "print(f(1))\n",
        "print(f(2))\n",
        "print(f(3))"
      ],
      "metadata": {
        "colab": {
          "base_uri": "https://localhost:8080/"
        },
        "id": "Cupgv5LZp_2v",
        "outputId": "705448a3-c93b-4360-8ebf-575d7ad2d2e5"
      },
      "execution_count": null,
      "outputs": [
        {
          "output_type": "stream",
          "name": "stdout",
          "text": [
            "[1]\n",
            "[2]\n",
            "[3]\n"
          ]
        }
      ]
    },
    {
      "cell_type": "markdown",
      "source": [
        "### 実引数のアンパック ###"
      ],
      "metadata": {
        "id": "bEant_bn0Wxj"
      }
    },
    {
      "cell_type": "markdown",
      "source": [
        "関数を呼び出す際の実引数を、個別な位置引数で渡すのではなく、`=` による代入における右辺のアンパックと同じ要領でリストやタプルをアンパックする形で渡すことができる。ただし、`=` による代入の場合と異なり、実引数のアンパックは自動的には行われないので、リストやタプルの頭に `*` を付けてアンパックすることを明示する必要がある。このような違いがあるのは、実引数がリストやタプルそのものである場合（つまり関数にイテラブルそのものを渡す場合）があるからである。\n",
        "\n",
        "実引数では、辞書のアンパックも可能である。辞書の頭に `**` を付けてキーワード引数を渡すことができる。"
      ],
      "metadata": {
        "id": "KJHyVdat0XiO"
      }
    },
    {
      "cell_type": "code",
      "source": [
        "def f(a, b, c, name, user_id):\n",
        "    print(f\"{a=}, {b=}, {c=}, {name=}, {user_id=}\")\n",
        "\n",
        "li = [1, 2, 3]\n",
        "d = {'name': '山田太郎', 'user_id': 1}\n",
        "f(*li, **d)"
      ],
      "metadata": {
        "colab": {
          "base_uri": "https://localhost:8080/"
        },
        "id": "Mm1Bgq0g5ctW",
        "outputId": "c76a370a-68d4-47ef-e075-67d8a8591735"
      },
      "execution_count": null,
      "outputs": [
        {
          "output_type": "stream",
          "name": "stdout",
          "text": [
            "a=1, b=2, c=3, name='山田太郎', user_id=1\n"
          ]
        }
      ]
    },
    {
      "cell_type": "markdown",
      "source": [
        "### 可変長引数 ###"
      ],
      "metadata": {
        "id": "VG5vpx8ep7ve"
      }
    },
    {
      "cell_type": "markdown",
      "source": [
        "実引数のアンパックとは逆に、関数に渡された引数がタプルや辞書に変換されるための仕組みが**可変長引数**である。可変長引数は、仮引数の個数を指定せずに関数を定義する方法となる。\n",
        "\n",
        "`*args` のように仮引数に `*` を付けると、可変長位置引数が渡されることを指定することになる。関数は、呼び出し時に渡された可変長位置引数を 1 つの<font color=\"red\">タプル</font>として受け取る。可変長位置引数は、関数に渡される入力引数の残りを全て取り尽くしてしまうため、位置引数として渡される全ての引数よりも後ろに定義しなければならない。また、可変長位置引数は、デフォルト値付き引数より前に定義しなければならない（もしデフォルト値付き引数より後ろにあると、呼び出しのとき、それを省略することも、キーワードを指定して渡すこともできない）。"
      ],
      "metadata": {
        "id": "v_q8OZMcylsd"
      }
    },
    {
      "cell_type": "code",
      "source": [
        "def f(*args):\n",
        "    return args\n",
        "\n",
        "assert f(1) == (1,)\n",
        "assert f(1, 2, 3) == (1, 2, 3)"
      ],
      "metadata": {
        "id": "zfsNGPTrxPuO"
      },
      "execution_count": null,
      "outputs": []
    },
    {
      "cell_type": "markdown",
      "source": [
        "可変長位置引数の後ろにある仮引数は、キーワード引数として関数を呼び出す必要がある（つまりキーワード専用引数として扱われる）。"
      ],
      "metadata": {
        "id": "l8RdGND011na"
      }
    },
    {
      "cell_type": "code",
      "source": [
        "def f(*args, x):\n",
        "    print(f\"{args=}, {x=}\")\n",
        "\n",
        "f(1, 2, 3, x=0)\n",
        "# f(1, 2, 3, 0)  # 引数はすべて args に渡され、x に渡す実引数がないため、エラーが発生する"
      ],
      "metadata": {
        "colab": {
          "base_uri": "https://localhost:8080/"
        },
        "id": "fNOLZdk7zhDI",
        "outputId": "f30ca4cd-4dc5-462b-95e6-630f28dc3d5f"
      },
      "execution_count": null,
      "outputs": [
        {
          "output_type": "stream",
          "name": "stdout",
          "text": [
            "args=(1, 2, 3), x=0\n"
          ]
        }
      ]
    },
    {
      "cell_type": "markdown",
      "source": [
        "`**kwargs` のように仮引数に `**` を付けると、可変長キーワード引数が渡されることを指定することになる。関数は、呼び出し時に渡された可変長キーワード引数を 1 つの辞書として受け取る。可変長キーワード引数は、キーワード専用引数より後ろに定義する（つまり、引数リストの一番最後に指定する）。"
      ],
      "metadata": {
        "id": "uvqWATYq3cJQ"
      }
    },
    {
      "cell_type": "code",
      "source": [
        "def f(**kwargs):\n",
        "    return kwargs\n",
        "\n",
        "assert f(name='山田太郎', user_id=1) == {'name': '山田太郎', 'user_id': 1}"
      ],
      "metadata": {
        "id": "8-zDPXfY3fIf"
      },
      "execution_count": null,
      "outputs": []
    },
    {
      "cell_type": "markdown",
      "source": [
        "可変長引数は複数定義することができない。どこが区切りなのかわからないからである。一方、可変長位置引数と可変長キーワード引数を組み合わせて使うことはできる。このときは、次のような順番で引数を定義する：\n",
        "\n",
        "  1. 位置専用引数\n",
        "  2. 可変長位置引数\n",
        "  3. デフォルト値付き引数\n",
        "  4. キーワード専用引数\n",
        "  5. 可変長キーワード引数"
      ],
      "metadata": {
        "id": "5EJWx1bvp8oz"
      }
    },
    {
      "cell_type": "markdown",
      "source": [
        "参照カウント\n",
        "------------"
      ],
      "metadata": {
        "id": "JhuvBAjpwfFj"
      }
    },
    {
      "cell_type": "markdown",
      "source": [
        "オブジェクトのためにメモリ領域が確保されるのであるが、Python ではオブジェクトが不要になった後にメモリ領域を自動的に解放する仕組みがある。これを**ガベージコレクション**（garbage collection）という。\n",
        "\n",
        "オブジェクトが生成され、ガベージコレクションによりメモリ上から消滅するまでの期間を、オブジェクトの**生存期間**(life time)という。\n",
        "\n",
        "Python では、オブジェクトへの参照の数が管理されていて、オブジェクトの生存期間の管理に使用される。その数をオブジェクトの**参照カウント**（reference count）という。\n",
        "\n",
        "  * 以下のような局面でオブジェクトを生成すると、参照カウントが 1 になる。\n",
        "      * 変数への代入\n",
        "      * リスト、集合などの要素\n",
        "      * 辞書などのキーや値\n",
        "  * 上記のような局面でオブジェクトを参照するたびに参照カウントが +1 になる。\n",
        "  * 上記のような局面でオブジェクトが参照されなくなると参照カウントが -1 にされる。\n",
        "  * オブジェクトの参照カウントが 0 になると、そのオブジェクトについては破棄が許される（実際にメモリ上から消滅するかどうかはガベージコレクションの結果による）。\n",
        "\n",
        "既存の変数に別のオブジェクトを代入すると、再束縛（rebind）が行われる結果、そのオブジェクトの参照カウントが +1 になる一方で、その変数の名前で束縛されていたオブジェクトのほうは参照カウントが -1 にされる。\n",
        "\n",
        "del 文はオブジェクトを削除するのではなく、変数とオブジェクトのバインディング（参照）を削除するものである。つまり、参照カウントを減らすだけである。\n",
        "\n",
        "`sys.getrefcount(object)` 関数を使うと、`object` に指定したオブジェクトの参照カウントを取得できる。`object` は一時的に `getrefcount()` からも参照されるため、参照数は予想される数よりも 1 多くなる。"
      ],
      "metadata": {
        "id": "U4M4NLMLwf14"
      }
    },
    {
      "cell_type": "code",
      "source": [
        "import sys\n",
        "\n",
        "var1 = {1: \"spam\", 2: \"ham\", 3: \"eggs\"}\n",
        "assert sys.getrefcount(var1) == 2\n",
        "var2 = var1\n",
        "assert sys.getrefcount(var1) == 3  # var2 からも参照されたため数が増えた\n",
        "var2 = \"test\"\n",
        "assert sys.getrefcount(var1) == 2  # var2 が再束縛されたため数が減った\n",
        "del var1  # 参照カウント 0 となる"
      ],
      "metadata": {
        "id": "dxdlPJE_xALR"
      },
      "execution_count": null,
      "outputs": []
    },
    {
      "cell_type": "markdown",
      "source": [
        "なお、Python 3.12 から、特に利用頻度の高い一部の変更不能オブジェクト（`None`, `True`, `False`, `-5` から `256` までの整数や組み込みデータ型など）は、実行時に参照カウントを更新しないように変更された。対象オブジェクトの参照カウントは、常に 4294967295（=0xFFFFFFFF）固定となる。これにより対象オブジェクトはプログラムの実行中存在し続けるが、参照カウントの更新が不要となったことで、全体的なメモリ効率は大きく向上するようになった。"
      ],
      "metadata": {
        "id": "fFvrAKqM7_e7"
      }
    },
    {
      "cell_type": "markdown",
      "source": [
        "循環参照\n",
        "--------"
      ],
      "metadata": {
        "id": "szB5N_Ldf7w0"
      }
    },
    {
      "cell_type": "markdown",
      "source": [
        "**循環参照**（circular reference）とは、複数のオブジェクトが互いに参照し合っており、参照の輪（サイクル）ができてしまう状態を差す。下図では矢印が参照の向きを表していて赤色のオブジェクトが循環参照になっている（[Wikipedia の記事](https://en.wikipedia.org/wiki/Circular_reference)から引用）。\n",
        "\n",
        "![](https://upload.wikimedia.org/wikipedia/commons/b/b4/Circular_Reference.svg)\n",
        "\n",
        "一般に、循環参照が存在すると、どこから処理すればいいかが不明であったり、無限ループになったり、関数の再帰呼び出しで出口がなくなったりする（結果としてスタックオーバーフローが発生する）など、様々な問題を抱えることになる。\n",
        "\n",
        "Python のメモリ管理の文脈では、循環参照があると参照カウントが 0 にならないという問題がある。"
      ],
      "metadata": {
        "id": "OtH-QFwCf8fI"
      }
    },
    {
      "cell_type": "code",
      "source": [
        "a = []\n",
        "b = [a]\n",
        "a.append(b)  # ここで循環参照が発生\n",
        "print(f\"{a=}, {b=}\")"
      ],
      "metadata": {
        "colab": {
          "base_uri": "https://localhost:8080/"
        },
        "id": "7VMCGbGHkfxf",
        "outputId": "e8e1bbfb-e5b0-48f4-f67f-daa7f3008cc6"
      },
      "execution_count": null,
      "outputs": [
        {
          "output_type": "stream",
          "name": "stdout",
          "text": [
            "a=[[[...]]], b=[[[...]]]\n"
          ]
        }
      ]
    },
    {
      "cell_type": "markdown",
      "source": [
        "このコードでは、2 つの変数 `a` と `b` の間で循環参照があり、変数 `a` と `b` を削除してもオブジェクト同士が参照し合っているため参照カウントが 0 にならない。\n",
        "\n",
        "循環参照があると不要なオブジェクトがメモリに残り続けてしまうように見えるが、Python のガベージコレクションは循環参照を含む不要なオブジェクトを検出してくれる。しかし、循環参照はガベージコレクションのパフォーマンスを落とす原因となるで、循環参照を避けるように注意するとよい。"
      ],
      "metadata": {
        "id": "okymo1FQrKqM"
      }
    }
  ]
}