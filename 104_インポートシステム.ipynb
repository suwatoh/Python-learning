{
  "nbformat": 4,
  "nbformat_minor": 0,
  "metadata": {
    "colab": {
      "provenance": [],
      "toc_visible": true,
      "authorship_tag": "ABX9TyP+eWHeBKDLhYmbqZnyMLSl",
      "include_colab_link": true
    },
    "kernelspec": {
      "name": "python3",
      "display_name": "Python 3"
    },
    "language_info": {
      "name": "python"
    }
  },
  "cells": [
    {
      "cell_type": "markdown",
      "metadata": {
        "id": "view-in-github",
        "colab_type": "text"
      },
      "source": [
        "<a href=\"https://colab.research.google.com/github/suwatoh/Python-learning/blob/main/104_%E3%82%A4%E3%83%B3%E3%83%9D%E3%83%BC%E3%83%88%E3%82%B7%E3%82%B9%E3%83%86%E3%83%A0.ipynb\" target=\"_parent\"><img src=\"https://colab.research.google.com/assets/colab-badge.svg\" alt=\"Open In Colab\"/></a>"
      ]
    },
    {
      "cell_type": "markdown",
      "source": [
        "インポートシステム\n",
        "=================="
      ],
      "metadata": {
        "id": "XXKbttReJUAz"
      }
    },
    {
      "cell_type": "markdown",
      "source": [
        "モジュールとパッケージ\n",
        "----------------------"
      ],
      "metadata": {
        "id": "66RYLOhZdC7S"
      }
    },
    {
      "cell_type": "markdown",
      "source": [
        "### モジュール ###"
      ],
      "metadata": {
        "id": "YFqlVePB21bB"
      }
    },
    {
      "cell_type": "markdown",
      "source": [
        "**モジュール**（module）は、Python の定義や文が実行される環境を表現するものであり、それ自体がオブジェクトである。\n",
        "\n",
        "モジュールの `__name__` 属性の値は、そのモジュールの名前（文字列）となる。\n",
        "\n",
        "トップレベルのコードが実行されるモジュールには自動的に `__main__` という名前が付けられる。ここで、トップレベルのコードとは、「Python インタープリター起動時に最初から実行され、プログラムに必要な他のすべてのモジュールをインポートするコード」という意味である。トップレベルのコードは、アプリケーションへの**エントリーポイント**（entry point）と呼ばれることもある。\n",
        "\n",
        "Python インタープリターの対話モードでトップレベル環境を確認すると、次のようになる。\n",
        "\n",
        "``` python\n",
        ">>> __name__\n",
        "'__main__'\n",
        "```\n",
        "\n",
        "`__main__` 以外のモジュールの名前には、インポート時に Python コードが保存されている場所のファイルシステム上の名前が使われる。ファイルなら、拡張子が `.py` でなければならず、そのファイルのベース名がモジュールの名前となる。このとき、ファイルシステムで使用できる文字と、Python 識別子に使用できる文字が異なることに注意する。Python 識別子に使用できない文字がファイルシステム上の名前に含まれる場合、インポート時に構文エラーが発生する。\n",
        "\n",
        "`__name__` をチェックすれば各モジュールは自分がトップレベル環境で実行されているかどうかを知ることができる。このことから、モジュールがトップレベル環境で実行されている場合でのみ実行されるコードを次のように書ける:\n",
        "\n",
        "``` python\n",
        "if __name__ == '__main__':\n",
        "    # Execute when the module is not initialized from an import statement.\n",
        "    ...\n",
        "```\n",
        "\n",
        "モジュールにスクリプト用途のみのコードが含まれる場合には、そのスクリプト用コードを `if __name__ == '__main__'` の下のブロックに置くとよい。そうすれば、たとえばテスト目的で別のモジュールからインポートされる時に、スクリプト用コードが意図に反して実行されてしまうようなことがない。\n",
        "\n",
        "`if __name__ == '__main__'` の下のブロックにあるコードはできるだけ少なくした方が、コードの分かりやすさや正確さにつながる。最もよくあるのが、プログラムの主要な処理を `main` 関数の中にカプセル化する方法である:"
      ],
      "metadata": {
        "id": "zPdAFkW022WJ"
      }
    },
    {
      "cell_type": "code",
      "source": [
        "def func(a, b):\n",
        "    print(a + b)\n",
        "    return a + b\n",
        "\n",
        "def main():\n",
        "    \"\"\"フィボナッチ数列の第2項から第6項までを出力する\"\"\"\n",
        "    x, y = 0, 1\n",
        "    for i in range(2, 7):\n",
        "        x, y = y, func(x, y)\n",
        "\n",
        "if __name__ == \"__main__\":\n",
        "    main()"
      ],
      "metadata": {
        "colab": {
          "base_uri": "https://localhost:8080/"
        },
        "id": "XEQ2qEpZPvhS",
        "outputId": "0f6e3f13-2dd0-42b4-f14f-88c134255e90"
      },
      "execution_count": null,
      "outputs": [
        {
          "output_type": "stream",
          "name": "stdout",
          "text": [
            "1\n",
            "2\n",
            "3\n",
            "5\n",
            "8\n"
          ]
        }
      ]
    },
    {
      "cell_type": "markdown",
      "source": [
        "このコードで、もし `main` 関数内のコードをカプセル化せず `if __name__ == '__main__'` の下に直接書いた場合、 `x`, `y` 変数はモジュール全体からグローバルにアクセスできてしまう。モジュール内の他の関数が意図せずローカル変数ではなくそのグローバル変数を使用してしまう可能性があるため、ミスにつながる。 `main` 関数を用意することでこの問題は解決できる。"
      ],
      "metadata": {
        "id": "PTbZtr3nTkti"
      }
    },
    {
      "cell_type": "markdown",
      "source": [
        "### 通常のパッケージ ###"
      ],
      "metadata": {
        "id": "fsLvC2obO7dd"
      }
    },
    {
      "cell_type": "markdown",
      "source": [
        "`__path__` 属性を持つモジュールは**パッケージ**（package）と呼ばれる。通常のパッケージでは、`__path__` 属性の値はパッケージが存在するディレクトリへのパスのリストとなる。Python モジュールがファイルシステム上にファイル（`.py` ファイル）として存在するのに対して、Python パッケージはファイルシステム上にディレクトリとして存在する。\n",
        "\n",
        "ファイルシステム上のディレクトリ階層により、パッケージは階層構造を持つ。上位のパッケージを親パッケージ、下位のパッケージをサブパッケージと呼ぶ。パッケージの名前はドット `.` を含むことで階層構造を表現する。\n",
        "\n",
        "たとえば、Python 標準ライブラリの `importlib` パッケージには `metadata` サブパッケージがあって、その `__path__` 属性から `importlib` ディレクトリの `metadata` サブディレクトリとしてファイルシステム上に存在することがわかる。また、 `__name__` 属性からサブパッケージの名前は `'importlib.metadata'` とわかる。\n"
      ],
      "metadata": {
        "id": "WyHrl_zx-4M9"
      }
    },
    {
      "cell_type": "code",
      "source": [
        "import importlib.metadata\n",
        "print(f\"{importlib.metadata.__path__ = }\")\n",
        "print(f\"{importlib.metadata.__name__ = }\")"
      ],
      "metadata": {
        "colab": {
          "base_uri": "https://localhost:8080/"
        },
        "id": "n2dUWKjR0a0d",
        "outputId": "bb42805a-831c-4399-aa4b-fa58511fb9eb"
      },
      "execution_count": null,
      "outputs": [
        {
          "output_type": "stream",
          "name": "stdout",
          "text": [
            "importlib.metadata.__path__ = ['/usr/lib/python3.10/importlib/metadata']\n",
            "importlib.metadata.__name__ = 'importlib.metadata'\n"
          ]
        }
      ]
    },
    {
      "cell_type": "markdown",
      "source": [
        "通常のパッケージは、 `__init__.py` ファイルを含むディレクトリとする必要がある。通常のパッケージのインポート時には、この `__init__.py` ファイルが暗黙的に実行される（`__path__` 属性の初期化の後に実行される）。パッケージは単一の `__init__.py` ファイルだけを含むものであってもよい。`__init__.py` はただの空ファイルでも構わない。\n",
        "\n",
        "たとえば、以下のようなファイルシステム配置は、3 つのサブパッケージを持つ最上位の `parent` パッケージを定義する:\n",
        "\n",
        "``` text\n",
        "parent/\n",
        "    __init__.py\n",
        "    one/\n",
        "        __init__.py\n",
        "        something.py\n",
        "    two/\n",
        "        __init__.py\n",
        "    three/\n",
        "        __init__.py\n",
        "```\n",
        "\n",
        "サブディレクトリ `one`、`two`、`three` が `__init__.py` ファイルを含むので、`parent.one`、`parent.two`、`parent.three` をパッケージとしてインポートすることができる。`parent.one` をインポートすると暗黙的に `parent/__init__.py` と `parent/one/__init__.py` が実行される。その後に `parent.two` もしくは `parent.three` をインポートすると、それぞれ `parent/two/__init__.py` や `parent/three/__init__.py` が実行される。\n",
        "\n",
        "このパッケージ構成において、各パッケージの名前を確認するために、 `parent/__init__.py` と `parent/one/__init__.py` に以下のようなコードを書く。\n",
        "\n",
        "`parent/__init__.py`:\n",
        "\n",
        "``` python\n",
        "from . import one\n",
        "name = __name__\n",
        "one_name = one.name\n",
        "```\n",
        "\n",
        "`parent/one/__init__.py`:\n",
        "\n",
        "``` python\n",
        "name = __name__\n",
        "```\n",
        "\n",
        "ここで、`parent` をサブディレクトリに持つプロジェクトルートで、Python インタープリターを起動すると、次のようにしてパッケージの名前を確認することができる。\n",
        "\n",
        "``` python\n",
        ">>> import parent\n",
        ">>> print(parent.name)\n",
        "parent\n",
        ">>> print(parent.one_name)\n",
        "parent.one\n",
        "```"
      ],
      "metadata": {
        "id": "_F3uqcc_LBiT"
      }
    },
    {
      "cell_type": "markdown",
      "source": [
        "### モジュール検索パス ###"
      ],
      "metadata": {
        "id": "UYm4demVdDvn"
      }
    },
    {
      "cell_type": "markdown",
      "source": [
        "標準ライブラリの `sys` モジュールに含まれる `sys.path` 変数は、モジュールを検索するパスを示す文字列のリストである。`PYTHONPATH` 環境変数と、インストール時に指定したデフォルトパスで初期化される。"
      ],
      "metadata": {
        "id": "Ty33R-AJ1b90"
      }
    },
    {
      "cell_type": "code",
      "source": [
        "import sys\n",
        "sys.path"
      ],
      "metadata": {
        "colab": {
          "base_uri": "https://localhost:8080/"
        },
        "id": "PZkZoDew1k9W",
        "outputId": "405ac903-10b4-4152-ec63-89d991e221c0"
      },
      "execution_count": null,
      "outputs": [
        {
          "output_type": "execute_result",
          "data": {
            "text/plain": [
              "['/content',\n",
              " '/env/python',\n",
              " '/usr/lib/python310.zip',\n",
              " '/usr/lib/python3.10',\n",
              " '/usr/lib/python3.10/lib-dynload',\n",
              " '',\n",
              " '/usr/local/lib/python3.10/dist-packages',\n",
              " '/usr/lib/python3/dist-packages',\n",
              " '/usr/local/lib/python3.10/dist-packages/IPython/extensions',\n",
              " '/root/.ipython']"
            ]
          },
          "metadata": {},
          "execution_count": 3
        }
      ]
    },
    {
      "cell_type": "markdown",
      "source": [
        "`sys.path` に含まれる空文字列 `''` はカレントディレクトリと解釈される。\n",
        "\n",
        "`sys.path` の最初の要素は、Python インタープリター実行時に指定するインターフェースオプションにより追加される。\n",
        "\n",
        "``` shell\n",
        "python [フラグ] [インターフェースオプション] [引数]\n",
        "```\n",
        "\n",
        "インターフェースオプションと、`sys.path` の最初の要素との対応は以下の通り:\n",
        "\n",
        "| オプション | 意味 | `sys.path[0]` |\n",
        "|:---|:---|:---|\n",
        "| `-c <command>` | command の Python 文を `__main__` モジュールとして実行する | カレントディレクトリ |\n",
        "| `-m <module-name>` | 指定されたモジュール名のモジュールを探し、その内容を `__main__` モジュールとして実行する。引数はモジュー<br />ル名なので、拡張子（`.py`）を含めない。パッケージ名を与えた場合、`<pkg>.__main__.py` を `__main__` モジュー<br />ルとして実行する | カレントディレクトリ |\n",
        "| `<python-file>` | Python ファイル（拡張子 `.py`）を `__main__` モジュールとして実行する | ファイルを含むディレクトリ |\n",
        "| `<directory>` | ディレクトリの中の `__main__.py` ファイルを `__main__` モジュールとして実行する | `<directory>` |\n",
        "| `<zip-file>` | zip ファイル（拡張子 `.zip`）の中の `__main__.py` ファイルを `__main__` モジュールとして実行する | `<zip-file>` |\n",
        "| `-` | 標準入力（`sys.stdin`）から読み込んだ Python コードを `__main__` モジュールとして実行する | カレントディレクトリ |\n",
        "\n",
        "インターフェースオプションの指定によって安全でない可能性のあるパスが `sys.path` の前に追加されることに注意する。Python インタープリター実行時に `-I`（隔離モード）フラグを指定する場合は、上記のようなパスが `sys.path` の前に追加されなくなる。隔離モードでは、ユーザーがインストールしたパッケージも、全ての `PYTHON*` 環境変数も無視される。\n",
        "\n",
        "Python 3.11 で `-P` フラグが追加された。Python インタープリター実行時に `-P` フラグを指定する場合は、上記のようなパスが `sys.path` の前に追加されなくなるが、ユーザーがインストールしたパッケージと全ての `PYTHON*` 環境変数は有効である。\n",
        "\n",
        "`PYTHON*` 環境変数の例:\n",
        "\n",
        "| 環境変数 | 機能 |\n",
        "|:---|:---|\n",
        "| `PYTHONHOME` | Python 標準ライブラリの場所を変更する |\n",
        "| `PYTHONPATH` | モジュールファイルのデフォルトの検索パスを追加する |\n",
        "| `PYTHONUSERBASE` | Python ユーザーインストールディレクトリの場所を変更する |\n",
        "| `PYTHONSTARTUP` | この変数が読み込み可能なファイル名の場合、対話モードで最初のプロンプトが表示される前にそのファイルの Python コマンドが実行される |"
      ],
      "metadata": {
        "id": "eKchsyjY79kR"
      }
    },
    {
      "cell_type": "markdown",
      "source": [
        "### コマンドラインインターフェース ###"
      ],
      "metadata": {
        "id": "saoJLbSS5-jq"
      }
    },
    {
      "cell_type": "markdown",
      "source": [
        "パッケージに含まれる `__main__.py` は、コマンドラインインターフェースをサポートするために用いられる。パッケージのコマンドラインインターフェースは、Python インタープリターに渡すインターフェースオプションにて `-m <module-name>` のようにパッケージが指定される形をとる。この場合、暗黙的にパッケージがインポートされた状態で `__main__.py` が実行される。`__init__.py` のインポート時実行がパッケージとしての実行であるのに対して、`__main__.py` の実行は（コマンドラインで `python __main__.py` と実行する場合と同等のトップレベル環境である） `__main__` モジュールとしての実行になる。\n",
        "\n",
        "たとえば、カレントディレクトの直下に以下のようなファイルシステム配置を行うとする。\n",
        "\n",
        "``` text\n",
        "./\n",
        "    my_package/\n",
        "        __init__.py\n",
        "        __main__.py\n",
        "```\n",
        "\n",
        "`__init__.py`:\n",
        "\n",
        "``` python\n",
        "print(\"__init__.py: パッケージとして実行された\")\n",
        "\n",
        "if __name__ == \"__main__\":\n",
        "    print(\"__init__.py: __main__ モジュールとして実行された\")\n",
        "```\n",
        "\n",
        "`__main__.py`:\n",
        "\n",
        "``` python\n",
        "print(\"__main__.py: ここから始まる\")\n",
        "\n",
        "if __name__ == \"__main__\":\n",
        "    print(\"__main__.py: __main__ モジュールとして実行された\")\n",
        "```\n",
        "\n",
        "コマンド `python -m my_package` を実行する場合、カレントディレクトの直下の `my_package` サブディレクトリは、`sys.path[0]` の値によりモジュール検索パスが通っている状態であることに注意する。実行結果は次のようになる:\n",
        "\n",
        "``` shell\n",
        "PS> python -m my_package\n",
        "__init__.py: パッケージとして実行された\n",
        "__main__.py: ここから始まる\n",
        "__main__.py: __main__ モジュールとして実行された\n",
        "```\n",
        "\n",
        "`__init__.py` の if 文が実行されていないことに注意する。`__init__.py` は `my_package` パッケージとしてインポート時に実行されるので、`__name__` は `'my_package'` になっているからである。\n",
        "\n",
        "なお、`-m` を使わないコマンド `python my_package` はインタープリターに直接ディレクトリを指定する形であり、これを実行する場合でも `__main__.py` が `__main__` モジュールとして実行される。ただし、暗黙的な `my_package` のインポートは行われないので、`__init__.py` は実行されない。実行結果は次のようになる:\n",
        "\n",
        "``` shell\n",
        "PS> python my_package\n",
        "__main__.py: ここから始まる\n",
        "__main__.py: __main__ モジュールとして実行された\n",
        "```"
      ],
      "metadata": {
        "id": "bErVvZZP5_J6"
      }
    },
    {
      "cell_type": "markdown",
      "source": [
        "### 名前空間パッケージ ###"
      ],
      "metadata": {
        "id": "v6shFTL_47nA"
      }
    },
    {
      "cell_type": "markdown",
      "source": [
        "実は、ディレクトリに `__init__.py` が無くてもディレクトリをパッケージとしてインポートすることは可能である。ただし、`__init__.py` が無い場合は、複数のパスに分散する同じ名前のディレクトリを 1 つのパッケージとして扱うようになる。このようなパッケージは通常のパッケージと区別して**名前空間パッケージ**と呼ぶ。\n",
        "\n",
        "たとえば、以下のようなファイルシステム配置は、2 つのサブパッケージを持つ最上位の `parent` パッケージを定義する:\n",
        "\n",
        "``` text\n",
        "./\n",
        "    spam/\n",
        "        parent/\n",
        "            one/\n",
        "                __init__.py\n",
        "    ham/\n",
        "        parent/\n",
        "            two/\n",
        "                __init__.py\n",
        "```\n",
        "\n",
        "`parent` ディレクトリは `spam` と `ham` の 2 つのディレクトリに存在していて、どちらにも `__init__.py` が存在しないことに注意する。`spam` と `ham` を `sys.path` に含めれば、 `import parent` は名前空間パッケージをインポートすることになる。実際、`__path__` 属性を調べると、`spam` と `ham` のそれぞれの `parent` ディレクトリが認識されていることがわかる。\n",
        "\n",
        "``` python\n",
        ">>> import sys\n",
        ">>> sys.path.append(\"spam\")\n",
        ">>> sys.path.append(\"ham\")\n",
        ">>> import parent\n",
        ">>> parent.__path__\n",
        "_NamespacePath(['C:\\\\Users\\\\User\\\\Desktop\\\\tmp\\\\spam\\\\parent', 'C:\\\\Users\\\\User\\\\Desktop\\\\tmp\\\\ham\\\\parent'])\n",
        "```"
      ],
      "metadata": {
        "id": "doYHgdxZ48mD"
      }
    },
    {
      "cell_type": "markdown",
      "source": [
        "インポート\n",
        "----------"
      ],
      "metadata": {
        "id": "5uduiRT9AU8A"
      }
    },
    {
      "cell_type": "markdown",
      "source": [
        "### import 文 ###"
      ],
      "metadata": {
        "id": "XWyCGEZTwuIL"
      }
    },
    {
      "cell_type": "markdown",
      "source": [
        "import 文の構文は次のとおり。\n",
        "\n",
        "``` python\n",
        "import <MODULE>[ as <IDENTIFIER>](, <MODULE>[ as <IDENTIFIER>], ...)\n",
        "from <PACKAGE> import <SUBPACKAGE>[ as <IDENTIFIER>](, <SUBPACKAGE>[ as <IDENTIFIER>], ...)\n",
        "from <MODULE> import <NAME>[ as <IDENTIFIER>](, <NAME>[ as <IDENTIFIER>], ...)\n",
        "from <MODULE> import *\n",
        "```\n",
        "\n",
        "ここで、 `<MODULE>` はモジュールまたはパッケージの名前（識別子）であり、`<PACKAGE>` と `<SUBPACKAGE>` はそれぞれパッケージとサブパッケージの名前（識別子）である。また、 `<NAME>` は `<MODULE>` に含まれる関数、変数、クラスの名前（識別子）である。\n",
        "\n",
        "`from <PACKAGE> import` と `from <MODULE> import` では、`import` に続くカンマで区切られた複数の節を明示的に `()` で括れば、次のように改行が可能である:\n",
        "\n",
        "``` python\n",
        "from <PACKAGE> import (\n",
        "    <SUBPACKAGE> as <IDENTIFIER>,\n",
        "    <SUBPACKAGE> as <IDENTIFIER>,\n",
        ")\n",
        "from <MODULE> import (\n",
        "    <NAME> as <IDENTIFIER>,\n",
        "    <NAME> as <IDENTIFIER>,\n",
        ")\n",
        "```\n",
        "\n",
        "パッケージをインポートする際、 Python は `sys.path` 上のディレクトリを検索して、トップレベルのパッケージの入ったサブディレクトリを探す。\n",
        "\n",
        "パッケージ内のモジュールでは、自身が含まれるサブパッケージをドット `.` で参照でき、親パッケージを二重ドット `..` で参照でき、親パッケージの親パッケージを `...` で参照できる（四重以上のドットも同様）。ドットを使ったインポートを**相対インポート**、そうでないインポートを**絶対インポート**と呼ぶ。\n",
        "\n",
        "たとえば、`parent` パッケージの例では、`one` サブディレクトリの `__init__.py` の中で、次の import 文\n",
        "\n",
        "``` python\n",
        "from . import something\n",
        "```\n",
        "\n",
        "これは次の import 文と同等である。\n",
        "\n",
        "``` python\n",
        "from parent.one import something\n",
        "```\n",
        "\n",
        "また、次の import 文\n",
        "\n",
        "``` python\n",
        "from .. import two\n",
        "```\n",
        "\n",
        "これは次の import 文と同等である。\n",
        "\n",
        "``` python\n",
        "from parent import two\n",
        "```\n",
        "\n",
        "相対インポートはパッケージの階層構造に基づくので、パッケージではない（つまり `__path__` 属性を持たない）モジュールにおいては実行できない。たとえば、`python ./a.py` と実行する場合、`a.py` のコードは `__main__` モジュールとして実行されるが、この `__main__` はパッケージではないので、`from . import b` のようなコードはエラーとなる。\n",
        "\n",
        "なお、`from <MODULE> import *` 文と、`__init__.py` の中で設定される `__all__` 変数について、次の公式チュートリアルを参照すること。\n",
        "\n",
        "  * パッケージから * を import する: https://docs.python.org/ja/3/tutorial/modules.html#importing-from-a-package\n",
        "\n",
        "PEP 8 は、`from <MODULE> import *` 文の使用を非推奨とする。実際これを使うと、どのクラスや関数がモジュールからインポートされたものかわかりにくく、またエディタの入力支援が受けられなくなる。"
      ],
      "metadata": {
        "id": "2K65a-g4wu7M"
      }
    },
    {
      "cell_type": "markdown",
      "source": [
        "### 動的インポート ###"
      ],
      "metadata": {
        "id": "5u0X09Id2YgB"
      }
    },
    {
      "cell_type": "markdown",
      "source": [
        "import 文ではモジュールを識別子で指定するほかないが、インポートするモジュールを識別子ではなく文字列で指定することは**動的インポート**（dynamic imports）と呼ばれる。動的インポートを使うと、たとえばプログラムの実行時に設定ファイルなどに基づいて選択的にモジュールをインポートするということができる。\n",
        "\n",
        "動的インポートを行うには、標準ライブラリの `importlib` パッケージが提供する `import_module()` 関数を使用する。\n",
        "\n",
        "``` python\n",
        "importlib.import_module(name, package=None)\n",
        "```\n",
        "\n",
        "この関数は、動的インポートを行い、インポートしたモジュールを返す。`name` 引数は、インポートするモジュールを絶対または相対表現（たとえば `pkg.mod` または `..mod`）の文字列で指定する。`name` が相対表現で与えられたら、`package` 引数を、パッケージ名を解決するためのアンカーとなるパッケージの名前に設定する必要がある（たとえば `import_module('..mod', 'pkg.subpkg')` は `pkg.mod` をインポートする）。"
      ],
      "metadata": {
        "id": "4gBaeMnK2ZuG"
      }
    },
    {
      "cell_type": "code",
      "source": [
        "import importlib\n",
        "\n",
        "m = \"sys\"\n",
        "module = importlib.import_module(m)\n",
        "module.path"
      ],
      "metadata": {
        "colab": {
          "base_uri": "https://localhost:8080/"
        },
        "id": "cuMAYHZp_Az6",
        "outputId": "a022f48f-cab3-4d72-d482-20ee2905a8a8"
      },
      "execution_count": null,
      "outputs": [
        {
          "output_type": "execute_result",
          "data": {
            "text/plain": [
              "['/content',\n",
              " '/env/python',\n",
              " '/usr/lib/python310.zip',\n",
              " '/usr/lib/python3.10',\n",
              " '/usr/lib/python3.10/lib-dynload',\n",
              " '',\n",
              " '/usr/local/lib/python3.10/dist-packages',\n",
              " '/usr/lib/python3/dist-packages',\n",
              " '/usr/local/lib/python3.10/dist-packages/IPython/extensions',\n",
              " '/root/.ipython']"
            ]
          },
          "metadata": {},
          "execution_count": 4
        }
      ]
    },
    {
      "cell_type": "markdown",
      "source": [
        "### モジュールの再読み込み ###"
      ],
      "metadata": {
        "id": "iSxmxcV4AybD"
      }
    },
    {
      "cell_type": "markdown",
      "source": [
        "インポートシステムには「**再インポートはモジュールを読み込まない**」という特徴がある。これは、複数のモジュールやパッケージの間に依存関係の循環がある場合にモジュールの読み込みが終わらないという事態を避けることが目的である。\n",
        "\n",
        "例えばトップレベルのコードが `A` モジュールをインポートしていて、`A` モジュールは `B` モジュールを、`B` モジュールは `A` モジュールをインポートしている場合、もし上記の特徴がなければトップレベルのコードを実行すると `A` モジュールの読み込みと `B` モジュールの読み込みが終わらないことになってしまう。\n",
        "\n",
        "一方、モジュールの再読み込みをしないという特徴により、プログラムの実行中に一度モジュールを読み込むと、モジュールが書き換えられても、それによる変更がプログラムの動作に反映されないことになる。モジュールを開発している場合には、この仕様は不便である。そこで、モジュールの再読み込みを行う関数が用意されている。\n",
        "\n",
        "``` python\n",
        "importlib.reload(module)\n",
        "```\n",
        "\n",
        "この関数は指定したモジュールを再読み込みする。モジュールを再読み込みすることによって、モジュールに加えた変更をプログラムを再起動せずに利用することができる。\n",
        "\n",
        "モジュールがインポート済みであるか否かは、組み込み関数 `globals()` または `locals()` が返す辞書のキーを調べるとわかる。たとえば、`sys` モジュールがインポート済みであるなら再読み込みを行いたい場合は、次のように書く:\n",
        "\n",
        "``` python\n",
        "if \"sys\" in locals():\n",
        "    import importlib\n",
        "    importlib.reload(sys)  # noqa: F821\n",
        "```"
      ],
      "metadata": {
        "id": "ZqFhXA7Wiioa"
      }
    },
    {
      "cell_type": "markdown",
      "source": [
        "パッケージング\n",
        "--------------"
      ],
      "metadata": {
        "id": "HPln4zV6Ga-Z"
      }
    },
    {
      "cell_type": "markdown",
      "source": [
        "Python に関してインストール可能なソフトウェアが「パッケージ」の名で呼ばれるが、これはモジュールの一種としての「パッケージ」とは全く異なる概念である。2 つを区別するため、それぞれ「配布パッケージ」「インポートパッケージ」と呼ぶことがある。\n",
        "\n",
        "ソースコードから配布パッケージを作成する作業を**パッケージング**（packaging）という。パッケージングにより配布物を作成することで、再利用が簡単になったり、PyPI に登録して公開できるようになる。\n",
        "\n",
        "パッケージングに必要な作業の流れは以下の通り。\n",
        "\n",
        "  1. ソースコードツリーを作成する。\n",
        "  2. `pyproject.toml` ファイルを準備する。\n",
        "  3. `build` コマンドによって配布物を作成する。"
      ],
      "metadata": {
        "id": "q4M3o-G22z1w"
      }
    },
    {
      "cell_type": "markdown",
      "source": [
        "### src-layout と flat-layout ###"
      ],
      "metadata": {
        "id": "IshbKK5-32fd"
      }
    },
    {
      "cell_type": "markdown",
      "source": [
        "ソースコードツリーを決める際には、配布パッケージとインポートパッケージの違いに注意する必要がある。\n",
        "\n",
        "配布パッケージは Python 言語の外にあるので、その名前は Python 識別子や PEP 8 による制約を受けない。一方、pip の開発元である Python Packaging Authority（PyPA）が配布パッケージのメタデータを標準化している（[PyPA 仕様](https://packaging.python.org/ja/latest/specifications/)）。名前については以下のように定めている。\n",
        "\n",
        "  1. 名前に使用できる文字は、ASCII 英数字・ピリオド `'.'`・アンダースコア `'_'`・ハイフン `'-'` だけである。\n",
        "  2. 名前の先頭と末尾は ASCII 英数字でなければならない。\n",
        "\n",
        "多くの場合、ソースコードツリーのルート（プロジェクトルート）のディレクトリ名を配布パッケージの名前と同じにする。\n",
        "\n",
        "一方、インポートパッケージは Python 言語におけるモジュールオブジェクトであるから、その名前は Python 識別子や PEP 8 による制約を受ける。PyPA 仕様では許容された先頭の数字とハイフンは使えない。ソースコードを置くディレクトリ名がインポートパッケージの名前となるのでディレクトリ名に注意する。\n",
        "\n",
        "配布パッケージの名前とインポートパッケージの名前を意図的に異なるものとすることがある。典型的には、開発が終了したプロジェクトをフォークして新しい名前で配布パッケージを公開する場合に、既存コードとの互換性を保持するためにインポートパッケージの名前を旧プロジェクトのままとする事例である。サードパーティ製の画像処理ライブラリである `Pillow` がその例である（`PIL` ライブラリのフォークとして始まった）。\n",
        "\n",
        "ソースコードツリーの構成には 2 種類ある。ソースコードを置くディレクトリをプロジェクトルートの直下に置くディレクトリ配置を **flat-layout** という。これに対して、ソースコードを置くディレクトリをサブディレクトリに置くディレクトリ配置を **src-layout** という。このサブディレクトリは典型的には `src/` と命名されるので、src-layout と呼ばれる。\n",
        "\n",
        "src-layout の例:\n",
        "\n",
        "``` text\n",
        "my-project  ← カレントディレクトリ\n",
        "├── README.md\n",
        "├── pyproject.toml\n",
        "├── src/\n",
        "│     └── my_package/\n",
        "│            ├── __init__.py\n",
        "│            └── module.py\n",
        "└── tools/\n",
        "       ├── generate_awesomeness.py\n",
        "       └── decrease_world_suck.py\n",
        "```\n",
        "\n",
        "flat-layout の例:\n",
        "\n",
        "``` text\n",
        "my-project  ← カレントディレクトリ\n",
        "├── README.md\n",
        "├── pyproject.toml\n",
        "├── my_package/\n",
        "│     ├── __init__.py\n",
        "│     └── module.py\n",
        "└── tools/\n",
        "       ├── generate_awesomeness.py\n",
        "       └── decrease_world_suck.py\n",
        "```\n",
        "\n",
        "flat-layout の場合、Python コードに `import my_project` という import 文があると、デフォルトではカレントディレクトリがモジュール検索パスに追加されるから、`my_project` サブディレクトリがパッケージとしてインポートされる。このため、既にソースコードをパッケージとしてインストールしている場合にも、インポートにはインストール先ではなく編集中のサブディレクトリにあるものが使われる。\n",
        "\n",
        "src-layout の場合、そのようなことはなく、ソースコードを利用するには「ソースコードのインストール」というステップを踏むことが必要となる。src-layout を採用することにより、今まさに開発中のソースコードを使ってしまうという事故を防ぐことができる。src-layout でも、ソースコードを編集可能モードでインストールすれば、ソースコードの変更をただちにプログラムの動作に反映させることができる。"
      ],
      "metadata": {
        "id": "lZ8Hila233J4"
      }
    },
    {
      "cell_type": "markdown",
      "source": [
        "### pyproject.toml の仕様 ###"
      ],
      "metadata": {
        "id": "mPRGzKV_F25Z"
      }
    },
    {
      "cell_type": "markdown",
      "source": [
        "`pyproject.toml` は、パッケージングに必要な情報や関連ツールの独自情報をプロジェクト単位で設定するために使用される。その仕様は、[PEP 517](https://peps.python.org/pep-0517/)、[PEP 621](https://peps.python.org/pep-0621/)により標準化されている。このファイルの中には 3 個の TOML テーブルを置くことができる。\n",
        "\n",
        "  * `[build-system]` テーブルは、プロジェクトをビルドするための設定に使われる。\n",
        "  * `[project]` テーブルは、プロジェクトの基本的なメタデータを指定するために使われる（配布パッケージのメタデータに取り込まれる）。\n",
        "  * `[tool]` テーブルは、各関連ツールに特化したサブテーブルを保持するために使われる。\n",
        "\n",
        "`[build-system]` テーブルには、以下のキーが含まれている。\n",
        "\n",
        "| キー | データ型 | 意味 |\n",
        "|:---|:---|:---|\n",
        "| `build-backend` | 文字列 | 使用するビルドバックエンド |\n",
        "| `requires`| 文字列の配列 | プロジェクトをビルドするのに必要な依存関係のリスト。`requires = [\"setuptools >= 61.0\"]` のようにバージョンを制限する<br  />ことができる |\n",
        "\n",
        "`[project]` テーブルは、以下のキーやサブテーブルを含めることが許されている。\n",
        "\n",
        "| フィールド名 | データ型 | 意味 |\n",
        "|:---|:---|:---|\n",
        "| `dynamic` | 文字列の配列 | 動的であるとマークされるフィールド。動的なメタデータには、値が直接書き込まれるのではなく、ビル<br  />ドバックエンドに計算させるための式が書き込まれる。どのような式を書くかは、ビルドバックエンドの<br  />説明書に従うこと |\n",
        "| `name` | 文字列 | 配布パッケージ（プロジェクト）の名前。このフィールドは動的であるとマークできない |\n",
        "| `version` | 文字列 | プロジェクトのバージョン。`major.minor` または `major.minor.micro` の形式とすること |\n",
        "| `description` | 文字列 | プロジェクトの概要説明 |\n",
        "| `readme` | 文字列またはテーブル | プロジェクトの完全な説明。`README.md` などのファイルのパスでもよい |\n",
        "| `requires-python` | 文字列 | プロジェクトの Python バージョン要件。値は `\">=3.8\"` のようなバージョン指定子 |\n",
        "| `license` | テーブル | ライセンスを指定するために使われるサブテーブル。`file` キーか `text` キーのいずれか 1 つだけ含<br />む。`file` キーにはプロジェクトのライセンスが含まれるファイルへの相対パスを指定できる。`text` <br />キーにはプロジェクトのライセンスである文字列値を指定できる |\n",
        "| `authors` | インラインテーブルの配列 | プロジェクトの作者を `name` キーと `email` キーを持つインラインテーブルの配列で指定する |\n",
        "| `maintainers` | インラインテーブルの配列 | プロジェクトのメンテナーを `name` キーと `email` キーを持つインラインテーブルの配列で指定する |\n",
        "| `keywords` | 文字列の配列 | プロジェクトのキーワード。PyPI 上の検索でキーワードが与えられた時にこのプロジェクトをサジェスト<br />するのを助ける |\n",
        "| `classifiers` | 文字列の配列 | プロジェクトに合致する PyPI 分類子 <classifier> のリスト |\n",
        "| `dependencies` | 文字列の配列またはテーブル | プロジェクトの依存関係。`pip install` と同様のバージョン制約を付けることができる |\n",
        "| `optional-dependencies` | 文字列の配列またはテーブル | プロジェクトに必須ではない依存関係。たとえば、GUI 用の依存関係や開発専用の依存関係など。サブ<br />テーブルとしたときは、その中のキー `key` を指定して `pip install your-project-name[key]` を実<br />行すると、追加の依存関係付きでインストールすることができる |\n",
        "| `urls` | テーブル | プロジェクトに関連のある URL を保持するサブテーブル。キーの名前はそのまま PyPI 上のプロジェク<br />トページの左サイドバーに表示される項目名に使われる |\n",
        "| `scripts` | テーブル | プロジェクトがコマンドもインストールされるパッケージである場合にコマンドを生成するために使われ<br />るサブテーブル。たとえば、このテーブルに `spam-cli = \"spam:main_cli\"` があると<br /> `from spam import main_cli; main_cli()` と同等のことを行うコマンド `spam-cli` が生成される |\n",
        "| `gui-scripts` | テーブル | プロジェクトが Windows で GUI を提供するパッケージである場合に GUI を起動するコマンドを生成す<br />るために使われるサブテーブル。使い方は `[project.scripts]` サブテーブルと同じ |\n",
        "| `entry-points` | テーブル | プロジェクトが特定のパッケージのプラグインであることを宣言するためのテーブルを保持するために<br />使われるサブテーブル |\n",
        "\n",
        "`name` と `version` は、必ず `[project]` テーブルに含まれていなければならない。\n",
        "\n",
        "バージョン番号の流儀は、Python のバージョン番号を参考にするとよい（[公式 FAQ](https://docs.python.org/ja/3/faq/general.html#how-does-the-python-version-numbering-scheme-work) より）。\n",
        "\n",
        ">Python のバージョン番号は \"A.B.C\" または \"A.B\" が付けられます:\n",
        ">\n",
        ">  * A はメジャーバージョン番号です -- 言語に本当に大きな変更があった場合に増やされます。\n",
        ">  * B はマイナーバージョン番号です -- 驚きの少ない変更があった場合に増やされます。\n",
        ">  * C はマイクロバージョン番号です -- バグフィックスリリースごとに増やされます。\n",
        "\n",
        "自作ライブラリをパッケージング可能にするには、 `pyproject.toml` に `[build-system]` テーブルと `[project]` テーブルを置く必要がある。\n",
        "\n",
        "`[project]` テーブルの `dependencies` フィールドの設定は、`pip install` コマンドがインストールすべき依存パッケージを探し出すためのメタデータに使われる。開発中のプロジェクトで使用した `requirements.txt` と `dependencies` フィールドとで内容に矛盾があると、配布パッケージのインストールが正しく行われない。この 2 つを同期させる必要があり、これを手作業で行うか、[uv](https://docs.astral.sh/uv/) などのプロジェクト管理ツールを使って自動化することになる。\n",
        "\n",
        "次の TOML 形式は `pyproject.toml` の例である。\n",
        "\n",
        "``` ini\n",
        "[build-system]\n",
        "requires = [\"setuptools >= 77.0.3\"]\n",
        "build-backend = \"setuptools.build_meta\"\n",
        "\n",
        "[project]\n",
        "name = \"spam-eggs\"\n",
        "version = \"2020.0.0\"\n",
        "dependencies = [\n",
        "  \"httpx\",\n",
        "  \"gidgethub[httpx]>4.0.0\",\n",
        "  \"django>2.1; os_name != 'nt'\",\n",
        "  \"django>2.0; os_name == 'nt'\",\n",
        "]\n",
        "requires-python = \">=3.8\"\n",
        "authors = [\n",
        "  {name = \"Pradyun Gedam\", email = \"pradyun@example.com\"},\n",
        "  {name = \"Tzu-Ping Chung\", email = \"tzu-ping@example.com\"},\n",
        "  {name = \"Another person\"},\n",
        "  {email = \"different.person@example.com\"},\n",
        "]\n",
        "maintainers = [\n",
        "  {name = \"Brett Cannon\", email = \"brett@example.com\"}\n",
        "]\n",
        "description = \"Lovely Spam! Wonderful Spam!\"\n",
        "readme = \"README.rst\"\n",
        "license = {file = \"LICENSE.txt\"}\n",
        "keywords = [\"egg\", \"bacon\", \"sausage\", \"tomatoes\", \"Lobster Thermidor\"]\n",
        "classifiers = [\n",
        "  \"Development Status :: 4 - Beta\",\n",
        "  \"Programming Language :: Python\"\n",
        "]\n",
        "\n",
        "dependencies = [\n",
        "  \"httpx\",\n",
        "  \"gidgethub[httpx]>4.0.0\",\n",
        "  \"django>2.1; os_name != 'nt'\",\n",
        "  \"django>2.0; os_name == 'nt'\"\n",
        "]\n",
        "\n",
        "[project.optional-dependencies]\n",
        "test = [\n",
        "  \"pytest < 5.0.0\",\n",
        "  \"pytest-cov[all]\"\n",
        "]\n",
        "\n",
        "[project.urls]\n",
        "Homepage = \"https://example.com\"\n",
        "Documentation = \"https://readthedocs.org\"\n",
        "Repository = \"https://github.com/me/spam.git\"\n",
        "\"Bug Tracker\" = \"https://github.com/me/spam/issues\"\n",
        "Changelog = \"https://github.com/me/spam/blob/master/CHANGELOG.md\"\n",
        "\n",
        "[project.scripts]\n",
        "spam-cli = \"spam:main_cli\"\n",
        "\n",
        "[project.gui-scripts]\n",
        "spam-gui = \"spam:main_gui\"\n",
        "\n",
        "[project.entry-points.\"spam.magical\"]\n",
        "tomatoes = \"spam:main_tomatoes\"\n",
        "```"
      ],
      "metadata": {
        "id": "uer2Ycp_Gby7"
      }
    },
    {
      "cell_type": "markdown",
      "source": [
        "### sdist と wheel ###"
      ],
      "metadata": {
        "id": "wK3u2y0LPzdA"
      }
    },
    {
      "cell_type": "markdown",
      "source": [
        "パッケージとしてインストール可能な配布物の形式には次の 2 種類がある。\n",
        "\n",
        "  * **sdist**:  \n",
        "ソースコードとメタデータを持つテキストファイルをアーカイブしたファイル形式。C などで書かれた拡張がソースコードに含まれていると、インストールにコンパイルが必要となる。\n",
        "  * **wheel**:  \n",
        "ソースコードとメタデータを持つテキストファイル、およびコンパイル済みバイナリファイルをアーカイブしたファイル形式。拡張子は `.whl`。Python ソースコードのみのパッケージ（ピュア Python パッケージ）では、多くの場合 1 つの wheel ファイルで済む。コンパイル済みのバイナリ拡張を伴うパッケージでは、そのパッケージがサポートする Python インタープリター・オペレーティングシステム・ CPU アーキテクチャの組み合わせのそれぞれについて wheel ファイルが必要になる。\n",
        "\n",
        "配布物の作成には [build](https://build.pypa.io/en/stable/) を使用する。`build` は PyPA が開発しているが、公式の Python インストーラーに同梱されていないのでインストールする必要がある。ライセンスは MIT license。インストール方法は次のとおり。\n",
        "\n",
        "``` shell\n",
        "pip install build\n",
        "```\n",
        "\n",
        "次のコマンドを実行することで 2 つの形式の配布物を作成する:\n",
        "\n",
        "``` shell\n",
        "python -m build <source-tree-directory>\n",
        "```\n",
        "\n",
        "どちらか一方の形式だけ作成するには、オプションを付ける:\n",
        "\n",
        "``` shell\n",
        "python -m build --sdist <source-tree-directory>\n",
        "python -m build --wheel <source-tree-directory>\n",
        "```\n",
        "\n",
        "簡単な例を示す。カレントディレクトリに以下のような src-layout となるソースコードツリーがある:\n",
        "\n",
        "``` python\n",
        ".\n",
        "├── pyproject.toml\n",
        "└── src/\n",
        "       └── greeting/\n",
        "              ├── __init__.py\n",
        "              ├── __main__.py\n",
        "              └── say.py\n",
        "```\n",
        "\n",
        "`__init__.py` は空ファイルである。他のファイルについては以下の通り。\n",
        "\n",
        "`__main__.py`:\n",
        "\n",
        "``` python\n",
        "from . import say\n",
        "\n",
        "def main():\n",
        "    say.say()\n",
        "\n",
        "if __name__ == \"__main__\":\n",
        "    main()\n",
        "```\n",
        "\n",
        "`say.py`:\n",
        "\n",
        "``` python\n",
        "def say():\n",
        "    print(\"Hello\")\n",
        "```\n",
        "\n",
        "`pyproject.toml`:\n",
        "\n",
        "``` ini\n",
        "[build-system]\n",
        "requires = [\"setuptools >= 77.0.3\"]\n",
        "build-backend = \"setuptools.build_meta\"\n",
        "\n",
        "[project]\n",
        "name = \"greeting\"\n",
        "version = \"1.0.0\"\n",
        "\n",
        "[project.scripts]\n",
        "greet = \"greeting.__main__:main\"\n",
        "```\n",
        "\n",
        "今回は PyPI に登録しないので、`pyproject.toml` は最小限の設定だけとした。ただし、今回は実行形式も作成したいので `[project.scripts]` サブテーブルを記述している。\n",
        "\n",
        "カレントディレクトリに仮想環境を作成し、有効化しておく。src-layout なので、`python -m greeting` を実行しても `No module named greeting` というエラーが出る。\n",
        "\n",
        "`build` をインストールしてから、次のコマンドを実行する:\n",
        "\n",
        "``` shell\n",
        "python -m build .\n",
        "```\n",
        "\n",
        "すると、`build` はビルドバックエンドを認識して `setuptools` パッケージをインストールし、`dist` サブディレクトリを作成して、そこにパッケージングの結果を保存する。\n",
        "\n",
        "``` python\n",
        ".\n",
        "├── pyproject.toml\n",
        "├── dist/\n",
        "│     ├── greeting-1.0.0.tar.gz\n",
        "│     └── greeting-1.0.0-py3-none-any.whl\n",
        "└── src/\n",
        "       └── greeting/\n",
        "              ├── __init__.py\n",
        "              ├── __main__.py\n",
        "              └── say.py\n",
        "```\n",
        "\n",
        "`dist/greeting-1.0.0.tar.gz` が sdist 形式であり、`dist/greeting-1.0.0-py3-none-any.whl` が wheel 形式である。\n",
        "\n",
        "現在の仮想環境に自作パッケージをインストールしてみる。どちらの形式でもよいが、次のコマンドでは wheel 形式の配布物を指定している。\n",
        "\n",
        "``` shell\n",
        "pip install dist/greeting-1.0.0-py3-none-any.whl\n",
        "```\n",
        "\n",
        "インストールに成功したら、`python -m greeting` を実行すると `Hello` という表示が出る。\n",
        "\n",
        "仮想環境の `bin` サブディレクトリ（Windows では `Scripts` サブディレクトリ）に実行形式も作成されているので `greet` コマンドを実行しても `Hello` という表示が出る。"
      ],
      "metadata": {
        "id": "kcruMm75P0Aq"
      }
    },
    {
      "cell_type": "markdown",
      "source": [
        "パス設定ファイル\n",
        "----------------"
      ],
      "metadata": {
        "id": "xH1tgFdVGeK6"
      }
    },
    {
      "cell_type": "markdown",
      "source": [
        "ユーザーによってインストールされたパッケージのファイルやメタデータが保存されるディレクトリのことを **site-packages ディレクトリ**と呼ぶ。\n",
        "\n",
        "Python インタープリターを起動すると標準ライブラリの `site` モジュールが自動的にインポートされ、そのインポート時に呼び出される `site.main()` 関数によって site-packages ディレクトリが `sys.path` に追加される。Python インタープリターの `-S` オプションで `site` 自動インポートを禁止できる。\n",
        "\n",
        "モジュール変数 `site.USER_SITE` で site-packages ディレクトリを確認できる。また、モジュール変数 `site.ENABLE_USER_SITE` が `True` の場合、 site-packages ディレクトリが `sys.path` に追加されている。"
      ],
      "metadata": {
        "id": "5ACb8Y0WM8bR"
      }
    },
    {
      "cell_type": "code",
      "source": [
        "import site\n",
        "print(f\"{site.USER_SITE=}\")\n",
        "print(f\"{site.ENABLE_USER_SITE=}\")"
      ],
      "metadata": {
        "colab": {
          "base_uri": "https://localhost:8080/"
        },
        "id": "qMDGqnZ4NA4z",
        "outputId": "de3c1d18-bdd3-456f-9cb5-48c49ab596f7"
      },
      "execution_count": null,
      "outputs": [
        {
          "output_type": "stream",
          "name": "stdout",
          "text": [
            "site.USER_SITE='/root/.local/lib/python3.10/site-packages'\n",
            "site.ENABLE_USER_SITE=True\n"
          ]
        }
      ]
    },
    {
      "cell_type": "markdown",
      "source": [
        "Python 環境の site-packages ディレクトリにある拡張子 `.pth` のファイルを**パス設定ファイル**と呼ぶ。`site.main()` 関数は自動的にパス設定ファイルを読み込み、そこに書かれたディレクトリのパスをモジュール探索パス（`sys.path`）に追加する。\n",
        "\n",
        "開発中のパッケージのソースコードを編集可能モード（`pip install` の `-e` オプション）でインストールする場合、 site-packages ディレクトリにはパッケージそのものではなく、パス設定ファイルが追加され、パス設定ファイルの中に開発中のパッケージのパスが書き込まれる。`site.main()` 関数がこれを読み込んでモジュール探索パスに追加するので、開発中のソースコードがインポートされる仕組みになっている。つまり、編集可能モードでのインストールは、モジュール探索パスの追加でしかない。\n",
        "\n",
        "先の自作 `greeting` パッケージを使って編集可能モードを試してみる。パッケージをインストールした仮想環境を一旦削除し、新たに仮想環境を作り直して有効化しておく。src-layout なので、`python -m greeting` を実行しても `No module named greeting` というエラーが出る。\n",
        "\n",
        "次のコマンドでソースコードを編集可能モードでインストールする。\n",
        "\n",
        "``` shell\n",
        "pip install -e .\n",
        "```\n",
        "\n",
        "`pip install` コマンドは、ソースコードをインストールする場合は `pyproject.toml` を使用する（`pyproject.toml` がないとエラーとなる）。インストールに成功したら、`python -m greeting` を実行すると `Hello` が表示される。仮想環境の `bin` サブディレクトリ（Windows では `Scripts` サブディレクトリ）に実行形式も作成されているので `greet` コマンドを実行しても `Hello` という表示が出る。\n",
        "\n",
        "編集可能モードの効果を確かめるために、`say.py` の `say()` 関数を次のように書き換える:\n",
        "\n",
        "``` python\n",
        "def say():\n",
        "    print(\"Good morning\")\n",
        "```\n",
        "\n",
        "すると、`python -m greeting` を実行しても `greet` コマンドを実行しても `Good morning` が表示される。再インストールしなくてもソースコードの変更が反映された。これが編集可能モードの効果である。\n",
        "\n",
        "仮想環境の site-packages ディレクトリの中を調べてみると、以下のディレクトリとファイルが作成されている:\n",
        "\n",
        "  * `greeting-1.0.0.dist-info` ディレクトリ\n",
        "  * `__editable__.greeting-1.0.0.pth`\n",
        "\n",
        "`greeting-1.0.0.dist-info` ディレクトリはパッケージのメタデータを格納しているだけで、ソースコードは含まれていない。`__editable__.greeting-1.0.0.pth` はパス設定ファイルであり、中身はプロジェクトの `src` サブディレクトリのパスが書かれている。`site.main()` 関数はこのパス設定ファイルを読み込んで `src` サブディレクトリをモジュール探索パスに追加する。こうして `src` サブディレクトリ直下の `greeting` ディレクトリがパッケージとしてインポートされるので、再インストールなしにソースコードの変更が反映されるわけである。"
      ],
      "metadata": {
        "id": "t_myHHkTGfKy"
      }
    }
  ]
}