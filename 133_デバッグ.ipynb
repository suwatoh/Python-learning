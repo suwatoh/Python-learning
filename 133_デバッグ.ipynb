{
  "nbformat": 4,
  "nbformat_minor": 0,
  "metadata": {
    "colab": {
      "provenance": [],
      "toc_visible": true,
      "authorship_tag": "ABX9TyNO3ElxO+dA4AGYq4A4MQHT",
      "include_colab_link": true
    },
    "kernelspec": {
      "name": "python3",
      "display_name": "Python 3"
    },
    "language_info": {
      "name": "python"
    }
  },
  "cells": [
    {
      "cell_type": "markdown",
      "metadata": {
        "id": "view-in-github",
        "colab_type": "text"
      },
      "source": [
        "<a href=\"https://colab.research.google.com/github/suwatoh/Python-learning/blob/main/133_%E3%83%87%E3%83%90%E3%83%83%E3%82%B0.ipynb\" target=\"_parent\"><img src=\"https://colab.research.google.com/assets/colab-badge.svg\" alt=\"Open In Colab\"/></a>"
      ]
    },
    {
      "cell_type": "markdown",
      "source": [
        "デバッグ\n",
        "========"
      ],
      "metadata": {
        "id": "0kFR3pBoXbPa"
      }
    },
    {
      "cell_type": "markdown",
      "source": [
        "Python デバッガ\n",
        "---------------"
      ],
      "metadata": {
        "id": "suxlbc0SXdOH"
      }
    },
    {
      "cell_type": "markdown",
      "source": [
        "**バグ**（bug）すなわちプログラムの誤りや欠陥を特定して取り除き、動作を仕様通りのものとするための作業を**デバッグ**（debug）という。デバッグを支援するツールを**デバッガ**（debugger）と呼ぶ。\n",
        "\n",
        "標準ライブラリの `pdb` モジュールは、Python プログラム用の対話型ソースコードデバッガを提供する。ソースコードの適当な箇所（複数も可）に次の文を挿入する:\n",
        "\n",
        "``` python\n",
        "import pdb; pdb.set_trace()\n",
        "```\n",
        "\n",
        "スクリプトの実行時に、`pdb.set_trace()` 関数は Python デバッガに入る。\n",
        "\n",
        "`pdb.set_trace()` 関数を直接呼び出すのではなく、組み込み関数 `breakpoint()` を使用してもよい。\n",
        "\n",
        "``` python\n",
        "breakpoint(*args, **kws)\n",
        "```\n",
        "\n",
        "この組み込み関数は、`sys.breakpointhook()` 関数を `args` と `kws` をそのまま渡して呼び出す。\n",
        "\n",
        "`sys.breakpointhook()` 関数のデフォルトの実装は次のとおり。\n",
        "\n",
        "  * 最初に環境変数 `PYTHONBREAKPOINT` を調べる。\n",
        "  * この環境変数が `'0'` に設定されていた場合は、この関数は直ちに終了し、何もしない。\n",
        "  * この環境変数が設定されていないか、空文字列に設定されていた場合は、 `pdb.set_trace()` 関数が呼ばれる。\n",
        "  * それ以外の場合は、`PYTHONBREAKPOINT` に設定された名前の関数を `args` と `kws` をそのまま渡して呼び出す。その戻り値は `breakpoint()` 関数に返される。\n",
        "\n",
        "たとえば、`sys.breakpointhook()` をサードパーティ製の Python デバッガを起動する関数に置き換えると、`breakpoint()` の実行でサードパーティ製の Python デバッガに入ることができる。次のコードは、 [ipdb](https://pypi.org/project/ipdb/) を使用するコード例である。\n",
        "\n",
        "``` python\n",
        "import ipdb\n",
        "\n",
        "# 環境変数 PYTHONBREAKPOINT に \"ipdb.set_trace\" を設定しても同じことができる\n",
        "sys.breakpointhook = ipdb.set_trace()\n",
        "\n",
        "def foo():\n",
        "    breakpoint()\n",
        "    ...\n",
        "\n",
        "def main():\n",
        "    foo()\n",
        "\n",
        "if __name__ == \"__main__\":\n",
        "    main()\n",
        "```\n",
        "\n",
        "以降では、`pdb.set_trace()` や `breakpoint()` の挿入個所を**ブレークポイント**と呼ぶ。\n",
        "\n",
        "また、コマンドラインで\n",
        "\n",
        "``` text\n",
        "PS > python -m pdb myscript.py\n",
        "```\n",
        "\n",
        "のように実行すると、`myscript.py` が異常終了した際に自動的に Python デバッガに入る。\n",
        "\n",
        "Python デバッガでの主なコマンドは次のとおり（コマンドの括弧は省略できることを意味する）。\n",
        "\n",
        "| コマンド | 機能 |\n",
        "|:---|:---|\n",
        "| `p 変数` | 変数の値を出力する |\n",
        "| `c(ont(inue))` | 次のブレークポイントまで実行する。次のブレークポイントがなければ最後まで実行して終了する |\n",
        "| `n(ext)` | 1 行実行して次の行に進む。ただし関数の中には入らない |\n",
        "| `s(tep)` | 1 行実行して次の行に進む。関数の中にも入る |\n",
        "| `r(eturn)` | 関数の終わりまで実行する |\n",
        "| `run` | デバッグを再起動する |\n",
        "| `q(uit)` | デバッガーを終了する |\n",
        "| `h(elp) [コマンド]` | コマンドの一覧を表示する。引数としてコマンドが与えられた場合、そのコマンドのヘルプが表示される |\n",
        "\n",
        "たとえば、次のスクリプトを実行すると、`breakpoint()` 関数の呼び出し箇所で Python デバッガに入る：\n",
        "\n",
        "``` python\n",
        "def double(x):\n",
        "   breakpoint()\n",
        "   return x * 2\n",
        "val = 3\n",
        "print(f\"{val} * 2 is {double(val)}\")\n",
        "```\n",
        "\n",
        "Python デバッガに入ると、`->` で実行中の行が示され、`(Pdb) ` でコマンド入力待ちが示される。`p x` コマンドを入力すると変数 `x` の値が表示され、`c` コマンドを入力するとスクリプトが最後まで実行される。\n",
        "\n",
        "``` python\n",
        "> ...(3)double()\n",
        "-> return x * 2\n",
        "(Pdb) p x\n",
        "3\n",
        "(Pdb) c\n",
        "3 * 2 is 6\n",
        "```\n",
        "\n",
        "プログラムが異常終了して Python デバッガに入った場合、 `c` コマンドを入力するとエラー内容が表示される。\n",
        "\n",
        "デバッグ作業が終了したら、ソースコードに挿入したブレークポイントを削除する。削除し忘れると、その部分でコードの実行が停止してしまう。\n",
        "\n",
        "VSCode の Python 拡張機能に付属するデバッガーを使うなら、スクリプトに直接 `breakpoint()` を書くことなく、ブレークポイントの設置とデバッグモードへの移行が可能である。\n",
        "\n",
        "エディタ画面の左端をクリックすると、その右側の行にブレークポイントが設定される。エディタ画面右上の ▷ のメニューからデバッガーを起動できる。デバッガーを操作する 6 つのアイコンが表示され、左から、続行（`c` コマンドと同じ）、ステップオーバー（`n` コマンドと同じ）、ステップイン（`s` コマンドと同じ）、ステップアウト（`r` コマンドと同じ）、再起動（`run` コマンドと同じ）、停止（`q` コマンドと同じ）となる。操作は、あまつ楓さんの YouTube 動画で見ることができる。"
      ],
      "metadata": {
        "id": "ZmrooGkeX7HS"
      }
    },
    {
      "cell_type": "code",
      "source": [
        "from IPython.display import YouTubeVideo\n",
        "YouTubeVideo('LdwMM26B0zI?start=15', width=640, height=360)"
      ],
      "metadata": {
        "colab": {
          "base_uri": "https://localhost:8080/",
          "height": 381
        },
        "id": "mrtlC53o1twp",
        "outputId": "9fb16eb4-8c3b-4fbf-fbdc-32f1cdba3f52"
      },
      "execution_count": null,
      "outputs": [
        {
          "output_type": "execute_result",
          "data": {
            "text/plain": [
              "<IPython.lib.display.YouTubeVideo at 0x785e2e3f9630>"
            ],
            "text/html": [
              "\n",
              "        <iframe\n",
              "            width=\"640\"\n",
              "            height=\"360\"\n",
              "            src=\"https://www.youtube.com/embed/LdwMM26B0zI?start=15\"\n",
              "            frameborder=\"0\"\n",
              "            allowfullscreen\n",
              "            \n",
              "        ></iframe>\n",
              "        "
            ]
          },
          "metadata": {},
          "execution_count": 1
        }
      ]
    },
    {
      "cell_type": "markdown",
      "source": [
        "ログ出力\n",
        "--------"
      ],
      "metadata": {
        "id": "YTbVdViytbRC"
      }
    },
    {
      "cell_type": "markdown",
      "source": [
        "プログラムがエラーになった場合、エラーになった処理を特定し、エラーを再現してバグを発見する。このような作業を行うには、プログラムの処理過程を一定の形式で時系列に記録されたデータが欠かせない。このような記録を**ログ**（log）という。ログを残すことを**ロギング**（logging）とか、ログを取るとかいう。\n",
        "\n",
        "ログは、エラーを再現するのに十分な情報を残すだけでなく、検索しやすいようにメタ情報（日時や重要度など）を付けることが望ましい。これらを全て `print()` 関数だけで実現するのは容易ではない。また、ログを永続的に保存したい場合、ファイル管理も必要となる。\n",
        "\n",
        "そこで、ロギングの実装を簡単にするフレームワークを利用することになる。Python では標準のロギングフレームワークとして `logging` モジュールが標準ライブラリに含まれている。"
      ],
      "metadata": {
        "id": "vWDg_YL4tcKs"
      }
    },
    {
      "cell_type": "markdown",
      "source": [
        "### ログレベル ###"
      ],
      "metadata": {
        "id": "b7BRaccDC7s3"
      }
    },
    {
      "cell_type": "markdown",
      "source": [
        "`logging` では、ログの発生事由の重大度を表す**ログレベル**と呼ばれる定数が以下のように設定されている。\n",
        "\n",
        "| ログレベル | 値 | 意味 |\n",
        "|:---|:--:|:---|\n",
        "| `logging.CRITICAL` | 50 | プログラム自体が実行を続けられないことを表す致命的エラーの情報 |\n",
        "| `logging.ERROR` | 40 | 重大な問題により、プログラムのある機能が実行されないことの記録 |\n",
        "| `logging.WARNING` | 30 | 想定外のことが起こった、または問題が近く起こりそうなことの情報（エラーになる前の警告） |\n",
        "| `logging.INFO` | 20 | 正常動作のプロセスを示す記録 |\n",
        "| `logging.DEBUG` | 10 | おもに問題を診断するときにのみ関心があるような、詳細な情報（開発時のデバッグだけで使用するもの） |\n",
        "| `logging.NOTSET` | 0 | 変数値や詳細情報などすべての情報 |"
      ],
      "metadata": {
        "id": "hsLl9YSfC8fR"
      }
    },
    {
      "cell_type": "markdown",
      "source": [
        "### ロガー ###"
      ],
      "metadata": {
        "id": "afKd9wCSodag"
      }
    },
    {
      "cell_type": "markdown",
      "source": [
        "`logging` では、 `logging.Logger` オブジェクト（以下、ロガーと略す）がログを記録するときのインターフェースになっている。\n",
        "\n",
        "ロガーは、その `name` 属性（値は空でない文字列）によって同じプロセス上で一意に存在する。つまり、**ある名前を持つロガーはシングルトンである**。 `logging` モジュールが読み込まれた時点で、 `name` 属性が `\"root\"` となっているロガーが作成され、**ルートロガー**と呼ばれる。\n",
        "\n",
        "`logging.Logger` クラスを直接インスタンス化することは絶対にしてはならず、コードからは常に次のモジュール関数経由でロガーにアクセスしなければならない。\n",
        "\n",
        "``` python\n",
        "logging.getLogger(name=None)\n",
        "```\n",
        "\n",
        "この関数は、 `name` 引数で指定された名前を持つロガーが存在しなければ新規に作成して返し、ロガーが既存であるならばそれを返す。`name` の指定を省略するか、 `None` を指定した場合は、ルートロガーを返す。ロガーはシングルトンであるから、与えられた `name` に対して、この関数はどの呼び出しでも同じロガーを返す。したがって、ロガーをユーザー定義関数の引数に渡したり、ユーザー定義クラスのインスタンス属性として保持することは意味がないことに注意する。\n",
        "\n",
        "ロガーの名前は、その文字列にドット `.` を含めることで、階層を表す。たとえば、 `name` を `'a.b.c'` と指定すると、次のようなロガー階層を指定したことになる。\n",
        "\n",
        "``` text\n",
        "  ┌────┐\n",
        "  │ ルート │\n",
        "  └────┘\n",
        "       │\n",
        "  ┌────┐\n",
        "  │   a    │\n",
        "  └────┘\n",
        "親     │\n",
        "↑┌────┐\n",
        "  │   b    │\n",
        "↓└────┘\n",
        "子     │\n",
        "  ┌────┐\n",
        "  │   c    │←この階層を指定\n",
        "  └────┘\n",
        "```\n",
        "\n",
        "ロガー階層は木構造をなし、ルートロガーがその最上位（ルート）にある。上位のロガーを**親ロガー**と呼び、下位のロガーを**子ロガー**と呼ぶ。親ロガーより上位のロガーは**先祖ロガー**、子ロガーより下位のロガーは**子孫ロガー**と呼ぶ。\n",
        "\n",
        "ロガー階層を使用することで、必要に応じて下流のコードできめ細かい制御が可能になる。ロガー階層を決める簡潔な方法は、 Python パッケージ階層と一致させることである。これは次のように書けばよい:\n",
        "\n",
        "``` python\n",
        "import logging\n",
        "logger = logging.getLogger(__name__)\n",
        "```\n",
        "\n",
        "このような名前を持つロガーを**モジュールレベルロガー**と呼ぶ。モジュールレベルロガーなら、名前だけで、どこでイベントのログが取られたか、直感的に明らかになる。各モジュールでは、このモジュールレベルロガーを使うべきである。\n",
        "\n",
        "モジュールより粒度が小さいロガーを大量に作成すると、シングルトンであるロガーはスクリプトの実行中に存続するため、メモリが解放されることなく消費されることに注意する。"
      ],
      "metadata": {
        "id": "caUYQ_eqoflz"
      }
    },
    {
      "cell_type": "markdown",
      "source": [
        "### フォーマッター ###"
      ],
      "metadata": {
        "id": "yMfWSyzCXgHf"
      }
    },
    {
      "cell_type": "markdown",
      "source": [
        "ロガーは、ログ記録するための情報を `logging.LogRecord` クラスのインスタンスに変換する。 `logging.LogRecord` のインスタンス属性の中から必要な情報を選んで書式化する作業は、 `logging.Formatter` クラスで実装されている。コードからは `logging.Formatter` クラスのインスタンス（以下、フォーマッターと略す）に対し `logging.LogRecord` のインスタンス属性に対応する %-形式書式を含んだ書式文字列を与えることで、ログメッセージの書式を制御する。 `logging.LogRecord` のインスタンス属性と %-形式書式の対応関係は次のとおり。\n",
        "\n",
        "| 属性 | 意味 | %-形式書式 |\n",
        "|:---|:---|:---|\n",
        "| `name` | ロガーの名前（文字列） | `%(name)s` |\n",
        "| `asctime` | `logging.LogRecord` インスタンスが生成された時刻で `'2023-07-08 16:49:45,896'` 形式の文字列 | `%(asctime)s` |\n",
        "| `created` | `logging.LogRecord` インスタンスが生成された時刻で `time.time()` によって返される形式の浮動小数点数 | `%(created)f` |\n",
        "| `levelname` | ログレベルを指す文字列（`'DEBUG'`, `'INFO'`, `'WARNING'`, `'ERROR'`, `'CRITICAL'`） | `%(levelname)s` |\n",
        "| `levelno` | ログレベルを指す数値を表す文字列 | `%(levelno)s` |\n",
        "| `message` | ログメッセージ（文字列） | `%(message)s` |\n",
        "| `pathname` | ログ発生ファイルの完全なパスを表す文字列（利用できる場合のみ） | `%(pathname)s` |\n",
        "| `filename` | ログ発生ファイルの名前（`pathname` のファイル名部分） | `%(filename)s` |\n",
        "| `module` | ログ発生モジュールの名前（`filename` の名前部分） | `%(module)s` |\n",
        "| `funcName` | ログ発生関数の名前（文字列） | `%(funcName)s` |\n",
        "| `lineno` | ログ発生行番号である整数（利用できる場合のみ） | `%(lineno)d` |\n",
        "| `process` | プロセス ID （利用可能な場合のみ） | `%(process)d` |\n",
        "| `processName` | プロセス名 （利用可能な場合のみ） | `%(processName)s` |\n",
        "| `thread` | スレッド ID （利用可能な場合のみ） | `%(thread)d` |\n",
        "| `threadName` | スレッド名（利用可能な場合のみ） | `%(threadName)s` |\n",
        "| `taskName` | `asyncio.Task` 名 (利用可能な場合のみ)。Python 3.12 で追加 | `%(taskName)s` |\n",
        "| `msecs` | `logging.LogRecord` インスタンスが生成された時刻のミリ秒部分（整数） | `%(msecs)d` |\n",
        "| `relativeCreated` | `logging` モジュールが読み込まれた時刻からの経過ミリ秒（整数） | `%(relativeCreated)d` |\n",
        "\n",
        "`logging.Formatter` クラスのインスタンス化は次のとおり。。\n",
        "\n",
        "``` python\n",
        "logging.Formatter(fmt=None, datefmt=None, style='%', validate=True, *, defaults=None)\n",
        "```\n",
        "\n",
        "| 引数 | 意味 |\n",
        "|:---|:---|\n",
        "| `fmt` | メッセージに対する書式文字列。`fmt` が指定されない場合、`'%(message)s'` が使われる |\n",
        "| `datefmt` | メッセージの日付/時刻部分のための書式文字列。`time.strftime()` が受け付けるものを使う。`datefmt` が指定されない場合、<br />`'%Y-%m-%d %H:%M:%S,uuu'` が使われる |\n",
        "| `style` | プレースホルダーの形式。次のいずれかである<br /><br />・`'%'`: `'%(attrname)'` 形式（デフォルト）<br /><br />・`'{'`: `{attrname}` 形式: `str.format()` と互換となる<br /><br />・`'$'`: `${attrname}` 形式: テンプレート文字列と互換となる |\n",
        "| `validate` | `True`（デフォルト）の場合、`style` と `fmt` が不正だったりミスマッチだった場合に `ValueError` 例外を送出する |\n",
        "| `defaults` | カスタムフィールドとして使用されるデフォルトの値を辞書形式で指定する |\n",
        "\n",
        "% 形式の文字列書式化 `'%(attrname)'` 形式がデフォルトになっている。`style='{'` を指定することにより、`format()` ないし f-string で見慣れた書式を使うことはできる。\n",
        "\n",
        "次のメッセージ書式文字列は、人が読みやすい形式の時刻、メッセージの深刻度、およびメッセージの内容を、順番に出力することを指定する:\n",
        "\n",
        "``` python\n",
        "'%(asctime)s - %(levelname)s - %(message)s'\n",
        "```"
      ],
      "metadata": {
        "id": "3Eetb8yXXhDx"
      }
    },
    {
      "cell_type": "markdown",
      "source": [
        "### フィルター ###"
      ],
      "metadata": {
        "id": "zdiagQAMn05H"
      }
    },
    {
      "cell_type": "markdown",
      "source": [
        "**フィルター**は、どのログ記録を出力するかを決定する。フィルターには次の 2 種類がある。\n",
        "\n",
        "  1. `logging.Filter` オブジェクト:  \n",
        "ロガーの名前 `name` を使って `logging.Filter(name)` でインスタンス化する。ログ記録の主体が、`name` と一致する名前のロガーであるか、またはその子孫ロガーである場合にのみ、ログが出力されるようになる。たとえば、 `name` に `'A.B'` を指定してインスタンス化されたフィルターは、ロガー `'A.B'`, `'A.B.C'`, `'A.B.C.D'`, `'A.B.D'` 等によって記録されたイベントは許可するが、`'A.BB'`, `'B.A.B'` などは許可しない。 `name` に空の文字列を指定してインスタンス化された場合、すべてのイベントを通過させる。\n",
        "  2. 呼び出し可能オブジェクト:  \n",
        "フィルターとする呼び出し可能オブジェクトは 1 つの引数を取る必要があり、その引数に `logging.LogRecord` のインスタンスが渡される。`logging.LogRecord` インスタンスの `getMessage()` メソッドを呼び出すとメッセージが返されるので、そのメッセージがログとして出力すべきときは呼び出し可能オブジェクトが `True` を返すようにし、出力すべきではないときは `False` を返すようにする。"
      ],
      "metadata": {
        "id": "6GiACdjbn34X"
      }
    },
    {
      "cell_type": "markdown",
      "source": [
        "### ハンドラ ###"
      ],
      "metadata": {
        "id": "-Lh_d7Nij-dD"
      }
    },
    {
      "cell_type": "markdown",
      "source": [
        "ロガーは、ログ記録の出力処理を `logging.Handler` クラスのサブクラスのインスタンス（以下、ハンドラと略す）に委ねる。ハンドラは、デフォルトでは全てのログ記録を `'%(message)s'` で書式化して出力する。以下のメソッドで出力を設定することができる。\n",
        "\n",
        "| メソッド | 機能 |\n",
        "|:---|:---|\n",
        "| `setLevel(level)` | このハンドラで出力される最低のログレベルを `level` に設定する。デフォルトでは最低のログレベルが `NOTSET` に設定される |\n",
        "| `setFormatter(fmt)` | このハンドラのフォーマッターを `fmt` に設定する。デフォルトでは `Formatter()` が使われる |\n",
        "| `addFilter(filter)` | 指定されたフィルター `filter` をこのハンドラに追加する。このメソッドを何回も呼び出して複数の異なるフィルターを追加することも<br />できる。ハンドラは、全てのフィルターを通過したログ記録のみ出力する |\n",
        "| `removeFilter(filter)` | 指定されたフィルター `filter` をこのハンドラから除去する |\n",
        "\n",
        "`logging.Handler` クラスは抽象基底クラスなので、直接インスタンス化して使用するものではない。 `logging` モジュールは、以下の 3 つの `logging.Handler` クラスのサブクラスを提供している。\n",
        "\n",
        "  * `logging.StreamHandler`\n",
        "  * `logging.FileHandler`\n",
        "  * `logging.NullHandler`\n",
        "\n",
        "``` python\n",
        "logging.StreamHandler(stream=None)\n",
        "```\n",
        "\n",
        "ログ出力先をファイルを使用しないストリーム（ `sys.stdout`, `sys.stderr` など）とするハンドラを返す。\n",
        "\n",
        "| 引数 | 意味 |\n",
        "|:---|:---|\n",
        "| `stream` | `write()` および `flush()` メソッドをサポートするオブジェクト（つまり書き込み可能なストリーム）を指定しなければならない。`stream` を指定しなけれ<br />ば、`sys.stderr` が使われる |\n",
        "\n",
        "以下のコードは、ハンドラへのフォーマット設定とフィルター設定の例である。"
      ],
      "metadata": {
        "id": "OKKdqmHVLOiH"
      }
    },
    {
      "cell_type": "code",
      "source": [
        "import logging\n",
        "import sys\n",
        "\n",
        "fmt = \"%(asctime)s - %(name)s - %(levelname)s - %(message)s\"\n",
        "\n",
        "def nopasswordfilter(record: logging.LogRecord) -> bool:\n",
        "    log_message = record.getMessage()\n",
        "    return \"password\" not in log_message\n",
        "\n",
        "st_handler = logging.StreamHandler(sys.stdout)  # Colab で出力するため出力先を標準出力とする\n",
        "st_handler.setLevel(logging.DEBUG)\n",
        "st_handler.setFormatter(logging.Formatter(fmt))  # 書式を fmt に指定\n",
        "st_handler.addFilter(nopasswordfilter)  # \"password\" を含むメッセージをログ出力しない"
      ],
      "metadata": {
        "id": "eHKpVlkF5xgy"
      },
      "execution_count": null,
      "outputs": []
    },
    {
      "cell_type": "markdown",
      "source": [
        "``` python\n",
        "logging.FileHandler(file, mode='a', encoding=None, delay=False, errors=None)\n",
        "```\n",
        "\n",
        "ログ出力先をファイルシステム上のファイルとするハンドラを返す。\n",
        "\n",
        "| 引数 | 意味 |\n",
        "|:---|:---|\n",
        "| `file` | `open()` 関数における同名の引数と同じ役割 |\n",
        "| `mode` | `open()` 関数における同名の引数と同じ役割。デフォルトは `'a'`（追記） |\n",
        "| `encoding` | `open()` 関数における同名の引数と同じ役割（日本語を出力する場合、`encoding='utf-8'` を指定しないとエラーとなることも同様） |\n",
        "| `delay` | `True` の場合、ファイルのオープンは `emit()` メソッドの最初の呼び出しまで遅延される |\n",
        "| `errors` | `open()` 関数における同名の引数と同じ役割 |\n",
        "\n",
        "``` python\n",
        "logging.NullHandler()\n",
        "```\n",
        "\n",
        "いかなるログ出力も行わないというハンドラを返す。\n",
        "\n",
        "ロガーに対して、いかなるハンドラの設定も与えない場合、ロガーはモジュール属性 `logging.lastResort` に設定されたハンドラに接続して出力処理を委ねる。デフォルトでは、 `logging.lastResort` はレベルが `WARNING` にセットされた、メッセージを単に `sys.stderr` に出力するハンドラである。\n",
        "\n",
        "`logging` を使うライブラリを開発する場合、ハンドラーやフォーマッター、フィルターを追加してログ出力をカスタマイズするのはライブラリ開発者ではなく、アプリケーション開発者の責務であることに注意する。ライブラリを使用するアプリケーションが `logging` をまったく使わないということも許容されるのであって、この場合、ライブラリコードがログ記録を作り出すロガーのメソッドを呼び出すと、 `logging.lastResort` が発動する。すなわち、重大度 `WARNING` 以上のイベントが、`sys.stderr` に表示される。\n",
        "\n",
        "この表示を回避するには、`NullHandler` のインスタンスをライブラリの名前空間で使われるトップレベルロガーに取り付ける。 `NullHandler` 以外のハンドラを追加しないことが強く推奨されている。"
      ],
      "metadata": {
        "id": "Nhf_W8_3sHdd"
      }
    },
    {
      "cell_type": "markdown",
      "source": [
        "### 有効レベルとイベントの伝播 ###"
      ],
      "metadata": {
        "id": "B2RF0BIYH16k"
      }
    },
    {
      "cell_type": "markdown",
      "source": [
        "\n",
        "ロガーは、出力処理を委ねるハンドラを取り付けるメソッドを持つ。また、最低のログレベルとフィルターはロガーでも設定できる。次の図は、ロガーにもフィルターを設定した場合でのロガーとハンドラにおけるおおざっぱなワークフローを示す。\n",
        "\n",
        "![](http://www.plantuml.com/plantuml/png/SoWkIImgAStDuR9wtBpmSNFpuwRTZvltF6xQOSsLcQQWWIRuk7dDu-QPZvjNF-fS_hXvxUCc87SFND1UKw4a8pLFGQCojLYJIq71oYS_FIWrERyenPehDQSuLK4ZBnyaNboINy2LcfUIcGQn0s7GrCTDYu46FMxQ3-IY68VBW0AWypDBClFp59GUD_S_RjxykBdpSVDA9OLgmkv7ACVf1OWP28LudQW015PW5Il1lfa7j1gYpXeeX-m1Y1U03B0dSFcjbiiA73ORCAB60QW066a0)\n",
        "\n",
        "ロガーに複数のハンドラを取り付けることができる。また、複数のロガーを使用する場合に、それらに同じハンドラを追加して、出力処理を共有することもできる。\n",
        "\n",
        "ログレベル、ハンドラに関するロガーの属性は次のとおり。\n",
        "\n",
        "| 属性 | 意味 |\n",
        "|:---|:---|\n",
        "| `level` | このロガーのレベルしきい値。この属性を直接設定してはならない |\n",
        "| `handlers` | このロガーに直接取り付けられたハンドラーのリスト。この属性を直接設定してはならない |\n",
        "| `propagate` | イベントの伝播を制御するための真偽値 |\n",
        "\n",
        "ログレベル、ハンドラ、フィルターに関するロガーのメソッドは次のとおり。\n",
        "\n",
        "| メソッド | 機能 |\n",
        "|:---|:---|\n",
        "| `setLevel(level)` | ハンドラに委ねられる最低のログレベルを `level` に設定する。 |\n",
        "| `addHandler(hdlr)` | 指定されたハンドラ `hdlr` をこのロガーに追加する。このメソッドを何回も呼び出して複数の異なるハンドラを追加することもできる。<br />ロガーは、全てのハンドラに同じログ記録の出力処理を委ねる |\n",
        "| `removeHandler(hdlr)` | 指定されたハンドラ `hdlr` をこのロガーから取り除く |\n",
        "| `addFilter(filter)` | 指定されたフィルター `filter` をこのロガーに追加する。このメソッドを何回も呼び出して複数の異なるフィルターを追加することも<br />できる。ロガーは、全てのフィルターを通過したログ記録のみハンドラに処理を委ねる |\n",
        "| `removeFilter(filter)` | 指定されたフィルター `filter` をこのロガーから除去する |\n",
        "\n",
        "実のところ、有効レベルの概念とイベントの伝播の仕組みがあるため、上記のメソッドを全てのロガーで毎回呼び出す必要はない。\n",
        "\n",
        "ロガーには、**有効レベル**（effective level）の概念がある。ロガーにレベルが明示的に設定されていなければ、代わりに親のレベルがその有効レベルとして使われる。親のレベルが設定されなければ、その親のレベルが確かめられ、以下同様に、明示的に設定されたレベルが見つかるまで祖先が探索される。ルートロガーは、必ず明示的なレベルが設定されている（デフォルトでは `logging.WARNING`）。イベントを処理するかを決定するとき、ロガーの有効レベルを使って、イベントがロガーのハンドラに渡されるかが決められる。\n",
        "\n",
        "たとえば、最低のログレベルを `logging.DEBUG` と設定したハンドラ `st_handler` をロガーに取り付け、ロガーで最低のログレベルを指定しない場合:\n",
        "\n",
        "``` python\n",
        "logger = logging.getLogger(__name__)\n",
        "logger.addHandler(st_handler)\n",
        "```\n",
        "\n",
        "この場合、モジュールレベルロガー `logger` の有効レベルは、ルートロガーのデフォルトの `logging.WARNING` とされる結果、`logging.INFO` ログは出力されない。\n",
        "\n",
        "ロガー階層では、ロガーのログレベルとフィルターの設定を満たした場合に限り、そのロガーに記録されたイベントが親ロガーのハンドラにも渡される。これを**イベントの伝播**（event propagation）と呼ぶ。イベントの伝播は、親ロガーを経由するのではなく、親ロガーのハンドラに直接メッセージを渡して出力処理を委ねるものなので、**親ロガーのレベルとフィルターは作用しない**。\n",
        "\n",
        "イベントは親ロガーに渡された後、さらにその親にも渡される。ハンドラをロガーとその祖先ロガーに取り付けた場合、同一レコードが複数回出力される場合がある。一般的に、ハンドラを複数のロガーに取り付ける必要はない。ハンドラがないことでイベントの伝播は止まらない。しかし、この連鎖構造において、祖先ロガーの `propagate` 属性が `False` に設定されていた場合、そのロガーのハンドラがイベントを処理する最後のハンドラとなり、その時点でイベントの伝播は止まる。\n",
        "\n",
        "ロガーの `propagate` 属性の値はデフォルトで `True` に設定される。 `propagate` 属性の設定が `True` のままになっていれば、ロガー階層において最上位にある適切なロガーにハンドラを取り付けるだけで、そのハンドラは全ての子孫ロガーが記録する全てのイベントを確認することができる。一般的なシナリオでは、ハンドラをルートロガーに対してのみ取り付け、残りはイベントの伝播にすべて委ねる。こうすることで、アプリケーションが使用する全てのライブラリとアプリケーション自身のログ記録が統一的な基準で運用される。ロガーの `propagate` 属性を `False` に設定することで、伝播を抑制することもできる。\n",
        "\n",
        "ルートロガーの設定は、上記のメソッド群を呼び出すのではなく、次のモジュール関数を 1 回呼び出すだけで簡単に行うことができる。\n",
        "\n",
        "``` python\n",
        "logging.basicConfig(**kwargs)\n",
        "```\n",
        "\n",
        "この関数は、ハンドラとフォーマッターを作成し、そのハンドラのフォーマッターを設定した上で、ルートロガーにそのハンドラを取り付ける。\n",
        "\n",
        "以下のキーワード引数がサポートされる。\n",
        "\n",
        "| 引数 | 意味 |\n",
        "|:---|:---|\n",
        "| `filename` | 指定されたファイルパスで `FileHandler` オブジェクトが作成される。デフォルトでは `StreamHandler` が作成される |\n",
        "| `filemode` | `filename` が指定された場合、このモードでファイルが開かれる。デフォルトは `'a'` |\n",
        "| `encoding` | `filename` が指定された場合、このエンコーディングが使用される（Python 3.9 で追加） |\n",
        "| `errors` | `filename` が指定された場合、このエラーモードが使用される（Python 3.9 で追加） |\n",
        "| `stream` | 指定されたストリームを `StreamHandler` の初期化に使う。この引数は `filename` と同時には使えない。両方が指定されたときには `ValueError` が送<br />出される |\n",
        "| `handlers` | ルートロガーに追加される既に作られたハンドラのイテラブル。まだフォーマッターがセットされていない全てのハンドラは、この関数で作られたデフォ<br />ルトフォーマッターが割り当てられることになる。この引数は `filename` や `stream` と互換性がない。両方が存在する場合 `ValueError` が送出される |\n",
        "| `format` | 作成されるフォーマッターの書式文字列。デフォルトは `%(levelname)s:%(name)s:%(message)s` |\n",
        "| `datefmt` | 作成されるフォーマッターの日時書式 |\n",
        "| `style` | 作成されるフォーマッターのプレースホルダーの形式 |\n",
        "| `level` | ルートロガーのレベルを `level` に設定する |\n",
        "| `force` | `True` を設定する場合、ルートロガーに取り付けられたハンドラは全て取り除かれ、他の引数によって指定された設定が有効になる。デフォルトでは、こ<br />の関数はルートロガーに設定されたハンドラがあれば何もしない |\n",
        "\n",
        "`logging` を使うライブラリ `foo` による全てのロギングが、 `'foo.x'`, `'foo.x.y'` その他に該当する名前のロガーによってなされるなら、次のように `NullHandler` だけを設定する。\n",
        "\n",
        "``` python\n",
        "import logging\n",
        "logging.getLogger('foo').addHandler(logging.NullHandler())\n",
        "```"
      ],
      "metadata": {
        "id": "foD-E_TFH3B9"
      }
    },
    {
      "cell_type": "markdown",
      "source": [
        "### ログメッセージの生成 ###"
      ],
      "metadata": {
        "id": "WxVlXuxUOwty"
      }
    },
    {
      "cell_type": "markdown",
      "source": [
        "ロガーが設定されれば、以下のメソッドがログメッセージを生成し、残りの処理がハンドラに委ねられる（つまり書式化と出力処理までが行われる）。\n",
        "\n",
        "| メソッド | 機能 |\n",
        "|:---|:---|\n",
        "| `debug(msg, *args, **kwargs)`<br />`info(msg, *args, **kwargs)`<br />`warning(msg, *args, **kwargs)`<br />`error(msg, *args, **kwargs)`<br />`critical(msg, *args, **kwargs)` | メッセージ `msg` とメソッド名に対応したレベルでログ記録を作り出す。`msg` は `'%s'`, `'%d'`, `'%f'` などの % 変換指定を<br />含むことができ、それらが登場する順に、後続の位置引数に、置き換える値で評価されるオブジェクトを指定する |\n",
        "| `log(level, msg, *args, **kwargs)` | `level` レベルでログ記録を作り出す。その他の引数は `debug()` と同じように解釈される |\n",
        "| `exception(msg, *args, **kwargs)` | `error()` と同様に `logging.ERROR` レベルでログ記録を作り出すが、スタックトレースを一緒にダンプする。このメソッド<br />は例外ハンドラからだけ呼び出すようにすること |"
      ],
      "metadata": {
        "id": "6hMACyhWP0Sb"
      }
    },
    {
      "cell_type": "code",
      "source": [
        "# ロガー\n",
        "logger = logging.getLogger(\"sample\")\n",
        "\n",
        "# ルートロガーの設定\n",
        "# st_handler のレベル設定 DEBUG よりこのレベル設定 INFO が優先される\n",
        "# Colab でルートロガーが設定されているので、force 引数で True を指定する\n",
        "logging.basicConfig(level=logging.INFO, handlers=[st_handler], force=True)\n",
        "\n",
        "# ログ記録の作成\n",
        "items = [(\"John Does\", 198862), (\"Jane Smith\", 793901)]\n",
        "logger.info(\"Number of Items: %s\", len(items))\n",
        "logger.info(\"%s password = %d\", items[0][0], items[0][1])  # フィルターにより出力されない\n",
        "logger.debug(\"some debug message\")  # INFO レベルより低いメッセージは出力されない"
      ],
      "metadata": {
        "colab": {
          "base_uri": "https://localhost:8080/"
        },
        "id": "gHxQnD-eP1SG",
        "outputId": "c96058a8-723f-4873-813a-18ec89afbcff"
      },
      "execution_count": null,
      "outputs": [
        {
          "output_type": "stream",
          "name": "stdout",
          "text": [
            "2024-08-14 02:23:10,442 - sample - INFO - Number of Items: 2\n"
          ]
        }
      ]
    },
    {
      "cell_type": "markdown",
      "source": [
        "メッセージで % 変換指定を使用する代わりに f-string を使用することはやってはならない。たとえば\n",
        "\n",
        "``` python\n",
        "logger.debug(f\"Number of Items: {len(items)}\")\n",
        "```\n",
        "\n",
        "のように f-string を指定した場合、このメソッドを呼び出す際に引数が評価され、書式の評価が行われる。この評価は、実際にログが出力されるべきかどうかに関わらず行われるから、ログが出力されるべきでないときは無駄になる。`str.format()` で書式化された文字列を使用する場合も同様である。\n",
        "\n",
        "メッセージに % 変換指定を含め、位置引数を渡す場合、`debug()` などは、実際にログが出力されるまで、`msg` の書式を評価しないので、書式の評価が無駄になることがない。なお、後続の位置引数が提供されない場合はメッセージの % 変換は実行されない。\n",
        "\n",
        "`kwargs` には、以下のキーワード引数を指定できる。\n",
        "\n",
        "| キーワード引数 | 意味 |\n",
        "|:---|:---|\n",
        "| `exc_info` | `True` を指定した場合、`exception()` と同様に例外発生時のスタックトレースをダンプする |\n",
        "| `extra` | イベントで生成される `LogRecord` の `__dict__` にユーザー定義属性を加えるのに使われる辞書を指定できる。フォーマッターは `LogRecord` の<br />ユーザー定義属性も処理する |\n",
        "\n",
        "次のコードは、 `exc_info` キーワード引数の使用例である:"
      ],
      "metadata": {
        "id": "ieeGDX7LgTZY"
      }
    },
    {
      "cell_type": "code",
      "source": [
        "import logging\n",
        "\n",
        "logger = logging.getLogger(\"sample\")\n",
        "\n",
        "def foo():\n",
        "    bar()\n",
        "\n",
        "def bar():\n",
        "    logger.info(\"bar\")\n",
        "    1 / 0\n",
        "\n",
        "if __name__ == \"__main__\":\n",
        "    logging.basicConfig(level=logging.INFO, force=True)\n",
        "    try:\n",
        "        foo()\n",
        "    except:\n",
        "        logger.error(\"hmm\", exc_info=True)\n",
        "        # raise  # 実際には例外を再送出すべき"
      ],
      "metadata": {
        "colab": {
          "base_uri": "https://localhost:8080/"
        },
        "id": "UD_ngKm4QeHk",
        "outputId": "bc48c8c9-a503-4a4f-fc34-da1b8086f639"
      },
      "execution_count": null,
      "outputs": [
        {
          "output_type": "stream",
          "name": "stderr",
          "text": [
            "INFO:sample:bar\n",
            "ERROR:sample:hmm\n",
            "Traceback (most recent call last):\n",
            "  File \"<ipython-input-4-8854c162baac>\", line 15, in <cell line: 12>\n",
            "    foo()\n",
            "  File \"<ipython-input-4-8854c162baac>\", line 6, in foo\n",
            "    bar()\n",
            "  File \"<ipython-input-4-8854c162baac>\", line 10, in bar\n",
            "    1 / 0\n",
            "ZeroDivisionError: division by zero\n"
          ]
        }
      ]
    },
    {
      "cell_type": "markdown",
      "source": [
        "これは `exception()` メソッドで書き換えることができる:"
      ],
      "metadata": {
        "id": "QhLa7qqCdPS3"
      }
    },
    {
      "cell_type": "code",
      "source": [
        "if __name__ == \"__main__\":\n",
        "    logging.basicConfig(level=logging.INFO, force=True)\n",
        "    try:\n",
        "        foo()\n",
        "    except:\n",
        "        logger.exception(\"hmm\", exc_info=True)\n",
        "        # raise  # 実際には例外を再送出すべき"
      ],
      "metadata": {
        "colab": {
          "base_uri": "https://localhost:8080/"
        },
        "id": "HEH6Dne0bggO",
        "outputId": "fe03c25a-e3a1-4c89-8d9a-ab66514d4d65"
      },
      "execution_count": null,
      "outputs": [
        {
          "output_type": "stream",
          "name": "stderr",
          "text": [
            "INFO:sample:bar\n",
            "ERROR:sample:hmm\n",
            "Traceback (most recent call last):\n",
            "  File \"<ipython-input-5-18ba18d492fb>\", line 4, in <cell line: 1>\n",
            "    foo()\n",
            "  File \"<ipython-input-4-8854c162baac>\", line 6, in foo\n",
            "    bar()\n",
            "  File \"<ipython-input-4-8854c162baac>\", line 10, in bar\n",
            "    1 / 0\n",
            "ZeroDivisionError: division by zero\n"
          ]
        }
      ]
    },
    {
      "cell_type": "markdown",
      "source": [
        "次のコードは、 `extra` キーワード引数の使用例である:"
      ],
      "metadata": {
        "id": "cudq9luLWlfh"
      }
    },
    {
      "cell_type": "code",
      "source": [
        "import logging\n",
        "FORMAT = '%(asctime)s %(clientip)-15s %(user)-8s %(message)s'\n",
        "d = {'clientip': '192.168.0.1', 'user': 'fbloggs'}\n",
        "logger = logging.getLogger('tcpserver')\n",
        "logging.basicConfig(format=FORMAT, force=True)\n",
        "logger.warning('Protocol problem: %s', 'connection reset', extra=d)"
      ],
      "metadata": {
        "colab": {
          "base_uri": "https://localhost:8080/"
        },
        "id": "w2Zb-DU3WmaM",
        "outputId": "6a09aa11-777d-42ec-9204-b785ff64c34f"
      },
      "execution_count": null,
      "outputs": [
        {
          "output_type": "stream",
          "name": "stderr",
          "text": [
            "2024-08-14 02:23:10,508 192.168.0.1     fbloggs  Protocol problem: connection reset\n"
          ]
        }
      ]
    },
    {
      "cell_type": "markdown",
      "source": [
        "``` python\n",
        "logging.debug(msg, *args, **kwargs)\n",
        "logging.info(msg, *args, **kwargs)\n",
        "logging.warning(msg, *args, **kwargs)\n",
        "logging.error(msg, *args, **kwargs)\n",
        "logging.critical(msg, *args, **kwargs)\n",
        "logging.exception(msg, *args, **kwargs)\n",
        "logging.log(level, msg, *args, **kwargs)\n",
        "```\n",
        "\n",
        "これらのモジュール関数は、それぞれルートロガーの同名のメソッドを呼び出す。ルートロガーにハンドラが設定されていない場合に自動的に `basicConfig()` を呼び出す。ライブラリでこれらの関数を使用すべきではない。\n",
        "\n",
        "公式の Logging クックブックの次の章には、 `DEBUG` よりも高いレベルのメッセージはファイルに記録し、`INFO` 以上のレベルのメッセージはコンソールに出力したいという場合（また、ファイルにはタイムスタンプを記録し、コンソールには出力しないとする）のロガー設定レシピが掲載されている。\n",
        "\n",
        "  * [複数の出力先にログを出力する](https://docs.python.org/ja/3/howto/logging-cookbook.html#logging-to-multiple-destinations)"
      ],
      "metadata": {
        "id": "6lyXtjuYbXj1"
      }
    },
    {
      "cell_type": "markdown",
      "source": [
        "### ロギングの環境設定 ###"
      ],
      "metadata": {
        "id": "PMfjQyaZyP1f"
      }
    },
    {
      "cell_type": "markdown",
      "source": [
        "``` python\n",
        "logging.config.dictConfig(config)\n",
        "```\n",
        "\n",
        "このサブモジュール `logging.config` が提供する関数は、辞書 `config` からロギング環境設定を取得する。\n",
        "\n",
        "`config` は以下のキーを含む辞書である。`'version'` キーだけ必須。\n",
        "\n",
        "| キー | 値 |\n",
        "|:---|:---|\n",
        "| `'version'` | （必須）環境設定辞書の形式のバージョン。現在 `1` のみサポートされる |\n",
        "| `'formatters'` | 辞書であり、キーは個々のフォーマッターの名前、その値はフォーマッターの設定を辞書で表したもの。値に使う辞書のキーは、<br />`logging.Formatter()` の引数の名前が使える（ただし、`fmt` は `'format'` とする） |\n",
        "| `'filters'` | 辞書であり、キーは個々のフィルターの名前、その値はフィルターの設定を辞書で表したもの。値に使う辞書のキーは、<br />`logging.Filter()` の引数の名前が使える |\n",
        "| `'handlers'` | 辞書であり、キーは個々のハンドラの名前、その値はハンドラの設定を辞書で表したもの。値に使う辞書のキーは次のとおり<br /><br />・`'class'`（必須）: `'logging.'` から始めるハンドラクラスの名前<br /><br />・`'level'`（任意）: ハンドラのレベル<br /><br />・`'formatter'`（任意）: ハンドラに追加するフォーマッターの名前<br /><br />・`'filters'`（任意）: ハンドラに追加するフィルターの名前のリスト<br /><br />・その他のすべてのキー（任意）: ハンドラのコンストラクタにキーワード引数として渡される |\n",
        "| `'loggers'` | 辞書であり、キーは個々のロガーの名前、その値はロガーの設定を辞書で表したもの。値に使う辞書のキーは次のとおり<br /><br />・`'level'`（任意）: ロガーのレベル<br /><br />・`'propagate'`（任意）: ロガーの `propagate` 属性の設定。0 なら伝播させない<br /><br />・`'filters'`（任意）: ロガーに追加するフィルターの名前のリスト<br /><br />・`'handlers'`（任意）: ロガーに追加するハンドラの名前のリスト |\n",
        "| `'root'` | ルートロガーへの設定。`'propagate'` キーによる設定が適用されないことを除き、`'loggers'` と同じ |\n",
        "| `'incremental'` | `True` の場合、この環境設定が既存のロギング設定に対する増分として解釈される。具体的には、`formatters` と `filters` の<br />項目は無視され、`handlers` の項目の `level` 設定と、`loggers` と `root` の項目の `level` と `propagate` 設定のみが処理され<br />る。`False`（デフォルト）の場合、既存のロギング設定を置き換える |\n",
        "| `'disable_existing_loggers'` | `True`（デフォルト）の場合、ルートロガー以外の既存のロガーは全て無効化され、この環境設定で設定したロガーだけが有効で<br />ある。`False` の場合、既存のロガーは有効のまま残される。この値は、`incremental` が `True` なら無視される |\n",
        "\n",
        "JSON 形式 や TOML 形式などで設定ファイルを書き、そのファイルを開いて内容を変換した辞書を `logging.config.dictConfig()` に渡すようにすれば、ロギング環境設定とスクリプトのコードを分離することができ、ロギングの設定を変えやすくなる。\n",
        "\n",
        "たとえば、以下のコードでは、`'hogeLogger'` の名前でロガーの設定が書いてある JSON 形式のファイルから設定を読み込んでいる。\n",
        "\n",
        "``` python\n",
        "import logging.config\n",
        "import json\n",
        "\n",
        "with open(\"logging_config.json\") as f:\n",
        "    logging.config.dictConfig(json.load(f))\n",
        "\n",
        "logger = getLogger(\"hogeLogger\")\n",
        "```\n",
        "\n",
        "設定ファイル（.json）の例:\n",
        "\n",
        "``` json\n",
        "{\n",
        "  \"version\":1,\n",
        "  \"disable_existing_loggers\": false,\n",
        "  \"formatters\": {\n",
        "    \"simple\": {\n",
        "      \"format\": \"%(asctime)s %(name)s:%(lineno)s %(funcName)s [%(levelname)s]: %(message)s\"\n",
        "    }\n",
        "  },\n",
        "  \"filters\": {\n",
        "    \"layer-filter\": {\n",
        "      \"name\": \"hogeLogger\"\n",
        "    }\n",
        "  },\n",
        "  \"handlers\": {\n",
        "    \"consoleHandler\": {\n",
        "      \"class\": \"logging.StreamHandler\",\n",
        "      \"level\": \"DEBUG\",\n",
        "      \"formatter\": \"simple\",\n",
        "      \"stream\": \"ext://sys.stdout\"\n",
        "    },\n",
        "\n",
        "    \"fileHandler\": {\n",
        "      \"class\": \"logging.FileHandler\",\n",
        "      \"level\": \"DEBUG\",\n",
        "      \"formatter\": \"simple\",\n",
        "      \"filters\": [\"layer-filter\"],\n",
        "      \"filename\": \"app.log\",\n",
        "      \"encoding\": \"utf-8\"\n",
        "    }\n",
        "  },\n",
        "  \"loggers\": {\n",
        "    \"hogeLogger\": {\n",
        "      \"level\": \"DEBUG\",\n",
        "      \"handlers\": [\"consoleHandler\", \"fileHandler\"]\n",
        "    },\n",
        "    \"fooLogger\": {\n",
        "      \"level\": \"DEBUG\",\n",
        "      \"handlers\": [\"consoleHandler\", \"fileHandler\"]\n",
        "    }\n",
        "  },\n",
        "  \"root\": {\n",
        "    \"level\": \"ERROR\"\n",
        "  }\n",
        "}\n",
        "```"
      ],
      "metadata": {
        "id": "zcANFKgUyQlm"
      }
    },
    {
      "cell_type": "markdown",
      "source": [
        "### スレッドセーフ性 ###"
      ],
      "metadata": {
        "id": "bsqW64QzI-vK"
      }
    },
    {
      "cell_type": "markdown",
      "source": [
        "ハンドラはスレッドセーフで、複数スレッドのロギングが互いを邪魔することがない。このスレッドセーフ性は、`threading` の再入可能ロックによって達成されている。モジュールの共有データへのアクセスを直列化するためのロックが 1 つ存在し、各ハンドラでも背後にある I/O へのアクセスを直列化するためにロックを生成している。このため、各スレッドからのメッセージが区別されて安全に出力される。"
      ],
      "metadata": {
        "id": "_fcRVkjTI_jf"
      }
    },
    {
      "cell_type": "code",
      "source": [
        "import logging\n",
        "import time\n",
        "import threading\n",
        "\n",
        "# ログの設定\n",
        "logger = logging.getLogger(\"multithreaded\")\n",
        "\n",
        "def worker1():\n",
        "    logger.info(\"start\")\n",
        "    time.sleep(0.2)\n",
        "    logger.info(\"end\")\n",
        "\n",
        "def worker2():\n",
        "    logger.info(\"START\")\n",
        "    time.sleep(0.2)\n",
        "    logger.info(\"END\")\n",
        "\n",
        "def main():\n",
        "    FORMAT = \"[%(levelname)s] %(threadName)s: %(message)s\"\n",
        "    logging.basicConfig(level=logging.INFO, format=FORMAT, force=True)\n",
        "    # マルチスレッド\n",
        "    t1 = threading.Thread(target=worker1, name=\"t1\")\n",
        "    t2 = threading.Thread(target=worker2, name=\"t2\")\n",
        "    t1.start()\n",
        "    t2.start()\n",
        "    t1.join()\n",
        "    t2.join()\n",
        "\n",
        "if __name__ == \"__main__\":\n",
        "    main()"
      ],
      "metadata": {
        "colab": {
          "base_uri": "https://localhost:8080/"
        },
        "id": "eXfaXX3Pc1vb",
        "outputId": "e414a9f6-995e-42af-fccc-6d91dc4c16e2"
      },
      "execution_count": null,
      "outputs": [
        {
          "output_type": "stream",
          "name": "stderr",
          "text": [
            "[INFO] t1: start\n",
            "[INFO] t2: START\n",
            "[INFO] t1: end\n",
            "[INFO] t2: END\n"
          ]
        }
      ]
    },
    {
      "cell_type": "markdown",
      "source": [
        "追加のハンドラ\n",
        "--------------"
      ],
      "metadata": {
        "id": "-cgaeAuoYD2l"
      }
    },
    {
      "cell_type": "markdown",
      "source": [
        "`logging` のサブモジュール `logging.handlers` は、以下の `logging.Handler` のサブクラスを追加している。\n",
        "\n",
        "| ハンドラクラス | 機能 |\n",
        "|:---|:---|\n",
        "| `RotatingFileHandler` | メッセージをディスクファイルに送り、最大ログファイル数とログファイル循環をサポートする |\n",
        "| `TimedRotatingFileHandler` | メッセージをディスクファイルに送り、ログファイルを特定時間のインターバルで循環する |\n",
        "| `SocketHandler` | TCP/IP ソケットにメッセージを送る。Unix ドメインソケットもサポートされる |\n",
        "| `DatagramHandler` | UDP ソケットにメッセージを送る。Unix ドメインソケットもサポートされる |\n",
        "| `SMTPHandler` | メッセージを指示された email アドレスに送る |\n",
        "| `SysLogHandler` | メッセージを（必要ならばリモートマシンの） Unix syslog daemon に送る |\n",
        "| `NTEventLogHandler` | メッセージを Windows NT/2000/XP イベントログに送る |\n",
        "| `MemoryHandler` | メッセージを、特定の基準が満たされる度に流される、メモリ中のバッファに送る |\n",
        "| `HTTPHandler` | メッセージを、 GET または POST セマンティクスを使って、HTTP サーバに送る |\n",
        "| `WatchedFileHandler` | ロギングする先のファイルを監視する。ファイルが変更されると、そのファイルは閉じられ、ファイル名を使って再び開かれる。<br />Unix 系 OS だけでサポートされる |\n",
        "| `QueueHandler` | `queue` モジュールや `multiprocessing` モジュールなどで実装されているキューにメッセージを送る |\n",
        "\n",
        "全容は[公式ドキュメント](https://docs.python.org/ja/3/library/logging.handlers.html)を参照。"
      ],
      "metadata": {
        "id": "gduzScuKj_T2"
      }
    },
    {
      "cell_type": "markdown",
      "source": [
        "### RotatingFileHandler ###"
      ],
      "metadata": {
        "id": "2O7NLVTcY7Oz"
      }
    },
    {
      "cell_type": "markdown",
      "source": [
        "``` python\n",
        "logging.handlers.RotatingFileHandler(filename, mode='a', maxBytes=0, backupCount=0, encoding=None, delay=False, errors=None)\n",
        "```\n",
        "\n",
        "ログ出力先をファイルシステム上のファイルとし、ログファイルが指定されたサイズに達すると、ロールオーバー（ファイルが閉じられ、暗黙のうちに新たなファイルが開かれて、新しいファイルにログ出力が切り替わること）が行われるようなハンドラを返す。`logging.FileHandler()` と同様の引数に加えて、以下の引数も指定できる。\n",
        "\n",
        "| 引数 | 意味 |\n",
        "|:---|:---|\n",
        "| `maxBytes` | `maxBytes` でファイルをロールオーバーする。`maxBytes` が 0 （デフォルト）ならロールオーバーは起きない |\n",
        "| `backupCount` | `backupCount` 個までファイルの履歴を残す。たとえば、`filename` が `app.log` で、`backupCount` が 3 なら、`app.log` が満杯になると閉じられ、<br />`app.log.1` に名前が変更されるが、`app.log.1`, `app.log.2` が存在する場合、それらのファイルはそれぞれ `app.log.2`, `app.log.3` といった<br />具合に名前が変更される。ログ出力先となるファイルは常に `app.log` である。 `backupCount` が 0 （デフォルト）ならロールオーバーは起きない |"
      ],
      "metadata": {
        "id": "p9JgjgBLY8Ol"
      }
    },
    {
      "cell_type": "markdown",
      "source": [
        "### TimedRotatingFileHandler ###"
      ],
      "metadata": {
        "id": "g52AiUUjZAEO"
      }
    },
    {
      "cell_type": "markdown",
      "source": [
        "``` python\n",
        "logging.handlers.TimedRotatingFileHandler(filename, when='h', interval=1, backupCount=0, encoding=None, delay=False, utc=False, atTime=None, errors=None)\n",
        "```\n",
        "\n",
        "ログ出力先をファイルシステム上のファイルとし、指定された時間や間隔に基づいてログファイルをロールオーバーするようなハンドラを返す。古いログファイルの保存時、ファイル名に日付と時間に基づいた拡張子が付けられる。`logging.FileHandler()` と同様の引数に加えて、以下の引数も指定できる。\n",
        "\n",
        "| 引数 | 意味 |\n",
        "|:---|:---|\n",
        "| `interval` | ロールオーバーする時間または間隔 |\n",
        "| `when` | `interval` の単位を指定する。使える値は以下の通りで、大小文字の区別は行われない<br /><br />・`'S'`: 秒<br /><br />・`'M'`: 分<br /><br />・`'H'`: 時間<br /><br />・`'D'`: 日<br /><br />・`'W0'-'W6'`: 曜日（0=月曜） ※これを指定する場合 `interval` は使われない<br /><br />・`'midnight'`: `atTime` が指定されなかった場合は深夜に、そうでない場合は `atTime` の時刻にロールオーバーされる） ※これを指定する場合<br />　 `interval` は使われない |\n",
        "| `backupCount` | 保存されるファイル数。それ以上のファイルがロールオーバーされる時に作られるならば、一番古いものが削除される。0 なら古いファイルが保<br />存されない |\n",
        "| `utc` | `True` の場合、時刻は UTC になる。`False`（デフォルト）の場合、現地時間が使われる |\n",
        "| `atTime` | `when` が 'W0'-'W6' または `'midnight'` の場合、`atTime` が初期のロールオーバー時刻の算出に使用される。`atTime` を指定するなら、それは<br /> `datetime.time` インスタンスでなければならない |"
      ],
      "metadata": {
        "id": "fospj8r4ZKjP"
      }
    },
    {
      "cell_type": "markdown",
      "source": [
        "### SMTPHandler ###"
      ],
      "metadata": {
        "id": "2SAYP-l4ZOFn"
      }
    },
    {
      "cell_type": "markdown",
      "source": [
        "``` python\n",
        "logging.handlers.SMTPHandler(mailhost, fromaddr, toaddrs, subject, credentials=None, secure=None, timeout=1.0)\n",
        "```\n",
        "\n",
        "ログ出力先を特定のメールアドレスとするハンドラを返す。\n",
        "\n",
        "| 引数 | 意味 |\n",
        "|:---|:---|\n",
        "| `mailhost` | SMTP サーバーを文字列で指定する。非標準の SMTP ポートを指定するには、`(host, port)` のタプル形式を指定する |\n",
        "| `fromaddr` | 送信元メールアドレスを文字列で指定する |\n",
        "| `toaddrs` | ログを送信する先のメールアドレスのリスト（文字列からなるリスト）を指定する |\n",
        "| `subject` | メールのタイトルを文字列で指定する |\n",
        "| `credentials` | SMTP サーバーが認証を必要とする場合、`(username, password)` のタプル形式を指定できる |\n",
        "| `secure` | セキュアプロトコル（TLS）の使用をタプルで指定する |\n",
        "| `timeout` | タイムアウトを浮動小数点数で指定する。デフォルトでは 1.0 |"
      ],
      "metadata": {
        "id": "exEPyEfBZZWl"
      }
    },
    {
      "cell_type": "markdown",
      "source": [
        "### QueueHandler ###"
      ],
      "metadata": {
        "id": "62XAExHixuFB"
      }
    },
    {
      "cell_type": "markdown",
      "source": [
        "``` python\n",
        "logging.handlers.QueueHandler(queue)\n",
        "```\n",
        "\n",
        "ログ出力先をキューとするハンドラを返す。`queue` 引数には `queue` モジュールのキューまたは `multiprocessing` パッケージのキューを指定できる。キューへの書き込みは通常すぐに完了する（内部で `put_nowait()` を呼び出すので `queue.Full` 例外を捕捉する必要があるかもしれない）。このため、 `RotatingFileHandler` や `SMTPHandler` など動作が重いハンドラの代わりに使用される。\n",
        "\n",
        "キューからログメッセージを受信する機能は、**リスナー**と呼ばれ次のクラスのインスタンスがサポートする。\n",
        "\n",
        "``` python\n",
        "logging.handlers.QueueListener(queue, *handlers, respect_handler_level=False)\n",
        "```\n",
        "\n",
        "| 引数 | 意味 |\n",
        "|:---|:---|\n",
        "| `queue` | `QueueHandler` のインスタンス化の際に渡したキューを指定する |\n",
        "| `handlers` | キューに格納されたエントリーを処理するハンドラ。複数指定可 |\n",
        "| `respect_handler_level` | `True` の場合、メッセージをハンドラーに渡すか決める時に（メッセージのレベルに比べて）ハンドラーのレベルが尊重される。<br />`False`（デフォルト）の場合、全てのメッセージは常にハンドラーに渡される |\n",
        "\n",
        "`QueueListener` は、別スレッドを起動し、そのスレッドでキューから `LogRecord` を取り出し `handler` に渡して処理させる。 `QueueListener` インスタンスの主なメソッドは次のとおり。\n",
        "\n",
        "| メソッド | 機能 |\n",
        "|:---|:---|\n",
        "| `start()` | リスナーを開始する。これはキューを監視するためにバックグラウンドスレッドを開始する |\n",
        "| `stop()` | リスナーを停止する。スレッドに終了するように依頼し、終了するまで待つ。アプリケーションの終了前に必ずこのメソッドを呼ぶこと |\n",
        "\n",
        "次のコードは、この 2 つのクラスを利用する例である。"
      ],
      "metadata": {
        "id": "iH5IOYmexu-a"
      }
    },
    {
      "cell_type": "code",
      "source": [
        "import logging\n",
        "from logging.handlers import QueueHandler, QueueListener\n",
        "import queue\n",
        "que = queue.Queue()\n",
        "queue_handler = QueueHandler(que)\n",
        "handler = logging.StreamHandler()\n",
        "listener = QueueListener(que, handler)\n",
        "formatter = logging.Formatter(\"%(threadName)s: %(message)s\")\n",
        "queue_handler.setFormatter(formatter)\n",
        "logger = logging.getLogger(\"queue_test\")\n",
        "logging.basicConfig(handlers=[queue_handler], force=True)\n",
        "listener.start()\n",
        "logger.warning(\"Look out!\")\n",
        "listener.stop()"
      ],
      "metadata": {
        "colab": {
          "base_uri": "https://localhost:8080/"
        },
        "id": "VbeN0h_rua72",
        "outputId": "51368ba4-db1d-49f8-ea78-9d666bf12b45"
      },
      "execution_count": null,
      "outputs": [
        {
          "output_type": "stream",
          "name": "stderr",
          "text": [
            "MainThread: Look out!\n"
          ]
        }
      ]
    },
    {
      "cell_type": "markdown",
      "source": [
        "ログ記録はスレッドセーフであり、単一プロセスの複数のスレッドから単一ファイルへのログ記録はサポートされているが、**複数プロセスから単一ファイルへのログ記録はサポートされない**。なぜなら、複数のプロセスをまたいで単一のファイルへのアクセスを直列化する標準の方法が Python には存在しないからである。\n",
        "\n",
        "複数のプロセスから単一ファイルへログ記録しなければならないなら、`multiprocessing.Queue` と `QueueHandler` を使って、マルチプロセスアプリケーションの 1 つのプロセスに全ての `logging` イベントを送るようにする。\n",
        "\n",
        "次の例はこれを行う方法を示す。この例ではメインプロセスが他のプロセスから送られたイベントを受け取り、それを独自のロギング設定にしたがって保存する。"
      ],
      "metadata": {
        "id": "5vuqcE4VxOws"
      }
    },
    {
      "cell_type": "code",
      "source": [
        "# fmt: on\n",
        "# You'll need these imports in your own code\n",
        "import logging\n",
        "import logging.handlers\n",
        "import multiprocessing\n",
        "\n",
        "\n",
        "# サブプロセス\n",
        "def worker_process(queue):\n",
        "    # プロセスでのルートロガーの設定--QueueHandlerを使用\n",
        "    handler = logging.handlers.QueueHandler(queue)\n",
        "    logging.basicConfig(level=logging.DEBUG, format=\"\", handlers=[handler], force=True)\n",
        "    # ログメッセージの生成\n",
        "    logger = logging.getLogger(\"multiprocess_test\")\n",
        "    logger.info(\"message from %s\", logger.name)\n",
        "\n",
        "\n",
        "def main():\n",
        "    # リスナーの設定\n",
        "    handler = logging.handlers.RotatingFileHandler(\"mptest.log\", \"a\", 3000, 10)\n",
        "    formatter = logging.Formatter(\"%(asctime)s %(processName)-10s %(levelname)-8s %(message)s\")\n",
        "    handler.setFormatter(formatter)\n",
        "    queue = multiprocessing.Queue()\n",
        "    listener = logging.handlers.QueueListener(queue, handler)\n",
        "    # リスナーの開始\n",
        "    listener.start()\n",
        "\n",
        "    workers = []\n",
        "    for i in range(10):\n",
        "        worker = multiprocessing.Process(target=worker_process, name=f\"Process{i}\", args=(queue,))\n",
        "        workers.append(worker)\n",
        "        worker.start()\n",
        "    for w in workers:\n",
        "        w.join()\n",
        "\n",
        "    # リスナーの停止\n",
        "    listener.stop()\n",
        "\n",
        "    # おまけ: ログファイルを読み込んでファイルが壊れていないことを確認する\n",
        "    with open(\"mptest.log\") as f:\n",
        "        for line in f.readlines():\n",
        "            print(line.strip())\n",
        "\n",
        "\n",
        "if __name__ == \"__main__\":\n",
        "    main()\n",
        "!rm mptest.log"
      ],
      "metadata": {
        "colab": {
          "base_uri": "https://localhost:8080/"
        },
        "id": "xxcEc8cuUGj0",
        "outputId": "d3dd1792-87f9-489a-9c08-09cbf93e1631"
      },
      "execution_count": null,
      "outputs": [
        {
          "output_type": "stream",
          "name": "stdout",
          "text": [
            "2024-08-14 09:57:02,002 Process0   INFO     message from multiprocess_test\n",
            "2024-08-14 09:57:02,016 Process1   INFO     message from multiprocess_test\n",
            "2024-08-14 09:57:02,018 Process2   INFO     message from multiprocess_test\n",
            "2024-08-14 09:57:02,024 Process3   INFO     message from multiprocess_test\n",
            "2024-08-14 09:57:02,031 Process4   INFO     message from multiprocess_test\n",
            "2024-08-14 09:57:02,046 Process6   INFO     message from multiprocess_test\n",
            "2024-08-14 09:57:02,052 Process7   INFO     message from multiprocess_test\n",
            "2024-08-14 09:57:02,043 Process5   INFO     message from multiprocess_test\n",
            "2024-08-14 09:57:02,058 Process8   INFO     message from multiprocess_test\n",
            "2024-08-14 09:57:02,064 Process9   INFO     message from multiprocess_test\n"
          ]
        }
      ]
    },
    {
      "cell_type": "markdown",
      "source": [
        "asyncio のログ記録\n",
        "------------------"
      ],
      "metadata": {
        "id": "a7fLy2KWIql6"
      }
    },
    {
      "cell_type": "markdown",
      "source": [
        "`asyncio` は `logging` モジュールを利用し、全てのログ記録は `\"asyncio\"` ロガーを通じて行われる。デフォルトのログレベルは `logging.INFO` であるが、これは簡単に調節できる:\n",
        "\n",
        "``` python\n",
        "logging.getLogger(\"asyncio\").setLevel(logging.WARNING)\n",
        "```\n",
        "\n",
        "ネットワークログ記録は、イベントループをブロックすることがある。 `QueueHandler` と `QueueListener` を使用することが推奨される。\n",
        "\n",
        "`asyncio` のデバッグモードを有効化すると、`logging.DEBUG` レベルで以下のようなログが出力される。\n",
        "\n",
        "  * `await` を伴わないコルーチンがないかをチェックし、それらが記録される。\n",
        "  * I/O 多重化実装が I/O 処理を実行する時間が長すぎる場合、その実行時間が記録される。\n",
        "  * 実行時間が 100 ミリ秒を超えるコールバックが記録される。この秒数はイベントループの属性 `loop.slow_callback_duration` で設定できる。\n",
        "\n",
        "`asyncio` ロガーのログレベルが `logging.DEBUG` に設定されるようにすること。たとえば、アプリケーションの起動時に以下を実行する:\n",
        "\n",
        "``` python\n",
        "logging.basicConfig(level=logging.DEBUG)\n",
        "```\n",
        "\n",
        "`asyncio` のデバッグモードを有効化する方法はいくつかある:\n",
        "\n",
        "  * `PYTHONASYNCIODEBUG` 環境変数の値を `1` に設定する。\n",
        "  * `Python` 開発モード を使う。コマンドラインで `-X dev` フラグを指定して Python を起動する。\n",
        "  * `asyncio.run()` 実行時に `debug=True` を設定する。\n",
        "  * イベントループのメソッド `loop.set_debug()` を呼び出す。"
      ],
      "metadata": {
        "id": "ASKePaNFIrTj"
      }
    },
    {
      "cell_type": "markdown",
      "source": [
        "スタックトレースの抽出\n",
        "----------------------"
      ],
      "metadata": {
        "id": "rdhEDIo6F1qg"
      }
    },
    {
      "cell_type": "markdown",
      "source": [
        "`logger.exception()` で例外の内容をログに書き出すことができるが、連鎖した例外のトレースバックが全てダンプされる。"
      ],
      "metadata": {
        "id": "VRP1Rk5E24xa"
      }
    },
    {
      "cell_type": "code",
      "source": [
        "import logging\n",
        "import traceback\n",
        "\n",
        "logger = logging.getLogger(\"traceback1\")\n",
        "logging.basicConfig(level=logging.ERROR, force=True)\n",
        "\n",
        "try:\n",
        "    raise TypeError\n",
        "except Exception:\n",
        "    try:\n",
        "        raise ValueError\n",
        "    except Exception:\n",
        "        logger.exception(\"exceptionで出力\")  # 連鎖した例外のトレースバックを全てダンプする"
      ],
      "metadata": {
        "colab": {
          "base_uri": "https://localhost:8080/"
        },
        "id": "eY6NXVeqLXGi",
        "outputId": "26c59456-68fc-41bf-ee82-fbb200f4a79a"
      },
      "execution_count": null,
      "outputs": [
        {
          "output_type": "stream",
          "name": "stderr",
          "text": [
            "ERROR:traceback1:exceptionで出力\n",
            "Traceback (most recent call last):\n",
            "  File \"<ipython-input-8-e53b192554b3>\", line 8, in <cell line: 7>\n",
            "    raise TypeError\n",
            "TypeError\n",
            "\n",
            "During handling of the above exception, another exception occurred:\n",
            "\n",
            "Traceback (most recent call last):\n",
            "  File \"<ipython-input-8-e53b192554b3>\", line 11, in <cell line: 7>\n",
            "    raise ValueError\n",
            "ValueError\n"
          ]
        }
      ]
    },
    {
      "cell_type": "markdown",
      "source": [
        "`logger.exception()` より柔軟にスタックトレースを扱うには、標準ライブラリの `traceback` モジュールを使用する。\n",
        "\n",
        "\n",
        "``` python\n",
        "traceback.format_exc(limit=None, chain=True)\n",
        "```\n",
        "\n",
        "この関数は、発生した例外からスタックトレースを抽出し、書式を整えた文字列を返す。\n",
        "\n",
        "| 引数 | 意味 |\n",
        "|:---|:---|\n",
        "| `limit` | 指定した数までのスタックトレースを抽出する。`None`（デフォルト）の場合はすべてのスタックトレースを抽出する |\n",
        "| `chain` | `True`（デフォルト）の場合、連鎖した例外も出力する |\n",
        "\n",
        "例外の連鎖において、except 句で直接捕捉した例外のトレースバックだけをダンプしたい場合は、`format_exc()` 関数を `chain=False` と指定して呼び出す。"
      ],
      "metadata": {
        "id": "RjCGAAFHF3a3"
      }
    },
    {
      "cell_type": "code",
      "source": [
        "import logging\n",
        "import traceback\n",
        "\n",
        "logger = logging.getLogger(\"traceback2\")\n",
        "logging.basicConfig(level=logging.ERROR, force=True)\n",
        "\n",
        "try:\n",
        "    raise TypeError\n",
        "except Exception:\n",
        "    try:\n",
        "        raise ValueError\n",
        "    except Exception:\n",
        "        tb = traceback.format_exc(chain=False)\n",
        "        logger.error(\"format_excを使用\\n%s\", tb)"
      ],
      "metadata": {
        "colab": {
          "base_uri": "https://localhost:8080/"
        },
        "id": "KTpD7NUzmYnj",
        "outputId": "44d896a2-f1c6-4890-b326-f7e8ce4e6060"
      },
      "execution_count": null,
      "outputs": [
        {
          "output_type": "stream",
          "name": "stderr",
          "text": [
            "ERROR:traceback2:format_excを使用\n",
            "Traceback (most recent call last):\n",
            "  File \"<ipython-input-9-9a6589859eac>\", line 11, in <cell line: 7>\n",
            "    raise ValueError\n",
            "ValueError\n",
            "\n"
          ]
        }
      ]
    },
    {
      "cell_type": "markdown",
      "source": [
        "\n",
        "\n",
        "``` python\n",
        "traceback.print_exc(limit=None, file=None, chain=True)\n",
        "```\n",
        "\n",
        "この関数は、発生した例外からスタックトレースを抽出し、`file` に出力する。`file` は書き込み可能で開いたファイルオブジェクトでなければならない。`file` が `None`（デフォルト）の場合、 `sys.stderr` が使われる。\n",
        "\n",
        "`traceback` モジュールは例外をキャプチャするクラス `traceback.TracebackException` も提供している。このクラスは、次のクラスメソッドを使うと簡単にインスタンスを生成することができる。\n",
        "\n",
        "``` python\n",
        "traceback.TracebackException.from_exception(exc, *, limit=None, lookup_lines=True, capture_locals=False)\n",
        "```\n",
        "\n",
        "| 引数 | 意味 |\n",
        "|:---|:---|\n",
        "| `exc` | 例外オブジェクトを指定する |\n",
        "| `limit` | 指定した数までのスタックトレースをキャプチャする。`None`（デフォルト）の場合、全てのスタックトレースをキャプチャする |\n",
        "| `lookup_lines` | `True`（デフォルト）の場合、全てのスタックトレースを読み込む。`False` の場合、レンダリングされるまで読み込まれない |\n",
        "| `capture_locals` | `True` の場合、各スタックトレースのローカル変数がオブジェクト表現としてキャプチャされる |\n",
        "\n",
        "`traceback.TracebackException` の主なメソッドは次のとおり。\n",
        "\n",
        "| メソッド | 機能 | 戻り値 |\n",
        "|:---|:---|:---|\n",
        "| `format(*, chain=True)` | 例外を書式化する | 文字列のジェネレーター |\n",
        "| `print(*, file=None, chain=True)` | 例外の書式化を出力する | `None` |\n",
        "\n",
        "次のコードは `TracebackException` の使用例である。"
      ],
      "metadata": {
        "id": "heMuCXnnC1H7"
      }
    },
    {
      "cell_type": "code",
      "source": [
        "import logging\n",
        "import traceback\n",
        "import sys\n",
        "\n",
        "logger = logging.getLogger(\"TracebackException\")\n",
        "logging.basicConfig(level=logging.INFO, force=True)\n",
        "\n",
        "try:\n",
        "    raise TypeError\n",
        "except Exception:\n",
        "    try:\n",
        "        raise ValueError\n",
        "    except Exception:\n",
        "        exc_info = sys.exc_info()\n",
        "        tb = \"\".join(traceback.TracebackException.from_exception(exc_info[1]).format(chain=False))\n",
        "        logger.error(\"TracebackExceptionを使用\\n%s\", tb)"
      ],
      "metadata": {
        "colab": {
          "base_uri": "https://localhost:8080/"
        },
        "id": "Wges0VNBCSbw",
        "outputId": "26c2bf93-d803-4033-967b-d7f8bc635e5a"
      },
      "execution_count": null,
      "outputs": [
        {
          "output_type": "stream",
          "name": "stderr",
          "text": [
            "ERROR:TracebackException:TracebackExceptionを使用\n",
            "Traceback (most recent call last):\n",
            "  File \"<ipython-input-10-a48c8d50b06e>\", line 12, in <cell line: 8>\n",
            "    raise ValueError\n",
            "ValueError\n",
            "\n"
          ]
        }
      ]
    }
  ]
}