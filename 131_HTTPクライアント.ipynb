{
  "nbformat": 4,
  "nbformat_minor": 0,
  "metadata": {
    "colab": {
      "provenance": [],
      "toc_visible": true,
      "authorship_tag": "ABX9TyOa5x0G0zbFAeUF5kDSCB34",
      "include_colab_link": true
    },
    "kernelspec": {
      "name": "python3",
      "display_name": "Python 3"
    },
    "language_info": {
      "name": "python"
    }
  },
  "cells": [
    {
      "cell_type": "markdown",
      "metadata": {
        "id": "view-in-github",
        "colab_type": "text"
      },
      "source": [
        "<a href=\"https://colab.research.google.com/github/suwatoh/Python-learning/blob/main/131_HTTP%E3%82%AF%E3%83%A9%E3%82%A4%E3%82%A2%E3%83%B3%E3%83%88.ipynb\" target=\"_parent\"><img src=\"https://colab.research.google.com/assets/colab-badge.svg\" alt=\"Open In Colab\"/></a>"
      ]
    },
    {
      "cell_type": "markdown",
      "source": [
        "HTTP クライアント\n",
        "================="
      ],
      "metadata": {
        "id": "I9XFLXVgKHUG"
      }
    },
    {
      "cell_type": "markdown",
      "source": [
        "HTTP\n",
        "----"
      ],
      "metadata": {
        "id": "9_Ai6SWCBxAw"
      }
    },
    {
      "cell_type": "markdown",
      "source": [
        "**HTTP**（Hypertext Transfer Protocol）とは、 Web サーバーと Web クライアントの間でデータの送受信を行うために用いられるプロトコル（通信規約）である。 [IETF](https://ja.wikipedia.org/wiki/Internet_Engineering_Task_Force) を始めとした標準化団体により標準化されている。HTTP にはいくつかのバージョンがあり、現在は HTTP/1.1 と HTTP/2 が広く利用されている。最新バージョンは、HTTP/3。URL のスキーム `http` は、この HTTP でリソースにアクセスすることを表す。\n",
        "\n",
        "HTTP 通信は、TCP のポート番号 80 をデフォルトとして使用する。\n",
        "\n",
        "HTTP には通信の暗号化についての仕様がないため、データの伝送途上で盗み見られたり内容をすり替えられる危険がある。このため、TLS（Transport Layer Security）と呼ばれる暗号化されたデータの通信路で HTTP 通信を行う方式がとられるようになっている。TLS と組み合わせた HTTP 通信の方式は **HTTPS** と呼ばれ、ポート番号 443 を使用する。URL のスキーム `https` は、HTTPS でリソースにアクセスすることを表す。\n",
        "\n",
        "HTTP では通信を開始できるのはクライアント側のみであり、クライアントからサーバーにデータを要求し、サーバーが応答を返すのが最も典型的な HTTP のやりとりである。このクライアントからの要求を **HTTP リクエスト**と呼び、サーバーの応答を **HTTP レスポンス**と呼ぶ。HTTP 通信の基本は、HTTP リクエストと HTTP レスポンスという 1 往復のやりとりを必要に応じて繰り返す。"
      ],
      "metadata": {
        "id": "4eSjLro9BxtH"
      }
    },
    {
      "cell_type": "markdown",
      "source": [
        "HTTP メソッドと Web API\n",
        "-----------------------"
      ],
      "metadata": {
        "id": "G57eKuLjrL_9"
      }
    },
    {
      "cell_type": "markdown",
      "source": [
        "HTTP リクエストの種類は、**メソッド**として次のように整理される。\n",
        "\n",
        "| メソッド | 意味 |\n",
        "|:---|:---|\n",
        "| `GET` | リソースの取得 |\n",
        "| `POST` | データの送信（サーバー上の状態を変更したり、副作用が発生したりすることがよくある） |\n",
        "| `HEAD` | ヘッダーの取得（`GET` リクエストと同じレスポンスを、コンテンツなしで求める） |\n",
        "| `PUT` | リソースの作成・更新 |\n",
        "| `DELETE` | リソースの削除 |\n",
        "| `CONNECT` | プロキシサーバー（代理サーバー）経由での通信 |\n",
        "| `OPTIONS` | サーバーの可能な通信オプションの情報の取得 |\n",
        "| `TRACE` | サーバーまでのネットワーク経路の確認 |\n",
        "\n",
        "実際の HTTP 通信では `GET` と `POST` メソッドが大部分を占める。一方、 Web サーバーによっては、標準の HTTP メソッド以外のメソッドを受け付けるものがある。`PATCH` メソッドはそのようなメソッドの 1 つで、リソースの部分的な更新を意味する。\n",
        "\n",
        "Web サーバーによっては、URL と HTTP リクエストと HTTP レスポンスの内容や手順に関する規約が公開されている場合があり、これを **Web API** と呼ぶ。Web API を提供している Web サーバー側では、リソースごとにベースとなる URL を公開している。これを**エンドポイント**（endpoint）と呼ぶことがある。ユーザーが Web API にアクセスするときは、この URL に所定の HTTP メソッドで Web サーバーにリクエストを行う。\n",
        "\n",
        "[httpbin.org](https://httpbin.org/) は、HTTP リクエストのテストやデバッグのために設計された無料のウェブサービスで、さまざまな HTTP メソッドをテストするための Web API を公開している。エンドポイントは次のとおり。\n",
        "\n",
        "| メソッド | エンドポイント |\n",
        "|:---|:---|\n",
        "| `GET` | `'https://httpbin.org/get'` |\n",
        "| `POST` | `'https://httpbin.org/post'` |\n",
        "| `PUT` | `'https://httpbin.org/put'` |\n",
        "| `PATCH` | `'https://httpbin.org/patch'` |\n",
        "| `DELETE` | `'https://httpbin.org/delete'` |\n",
        "\n",
        "httpbin.org の Web API では、レスポンスのデータ形式が JSON 形式となる。"
      ],
      "metadata": {
        "id": "Xj_Dqxs_rOoY"
      }
    },
    {
      "cell_type": "markdown",
      "source": [
        "ステータスコード\n",
        "----------------"
      ],
      "metadata": {
        "id": "HwOoAbBg023s"
      }
    },
    {
      "cell_type": "markdown",
      "source": [
        "HTTP レスポンスの種類は、**ステータスコード**として整理される。ステータスコードは、3 桁の数字からなり、おおまかな分類が以下となる:\n",
        "\n",
        "| ステータスコード | 意味 |\n",
        "|:--:|:---|\n",
        "| 1xx | Informational: リクエストは受け取られ、処理が継続 |\n",
        "| 2xx | Success: リクエストに成功 |\n",
        "| 3xx | Redirection: リダイレクトや移行など、リクエストの完了には追加的な処理が必要 |\n",
        "| 4xx | Client Error: クライアントからのリクエストに誤りあり |\n",
        "| 5xx | Server Error: サーバー側でリクエストの処理に失敗 |\n",
        "\n",
        "ステータスコードには、ステータスコードの意味を簡潔に表現する固有の文字列が付随する。これは**リーズンフレーズ**(reason phras)と呼ばれる。代表的なものは以下のとおり:\n",
        "\n",
        "  * `200 OK`: リクエストが正常に処理できた\n",
        "  * `201 Created`: 作成した（リクエストは完了し、新たに作成されたリソースの URI が返される）\n",
        "  * `301 Moved Permanently`: 恒久的に移動した（リクエストしたリソースが恒久的に移動されているときに返される）\n",
        "  * `302 Found`: 発見した（リクエストしたリソースが一時的に移動されているときに返される）\n",
        "  * `303 See Other`: 他を参照せよ（リクエストに対するレスポンスが他の URL に存在するときに返される）\n",
        "  * `304 Not Modified`: リクエストしたリソースは更新されていない\n",
        "  * `307 Temporary Redirect`: 同じメソッドで再リクエストが必要（リクエストしたリソースが一時的に移動されているときに返される）\n",
        "  * `308 Permanent Redirect`: 同じメソッドで再リクエストが必要（リクエストしたリソースが恒久的に移動されているときに返される）\n",
        "  * `400 Bad Request`: リクエストが不正である\n",
        "  * `403 Forbidden`: リソースにアクセスすることを拒否された\n",
        "  * `404 Not Found`: リソースが見つからなかった\n",
        "  * `405 Method Not Allowed`: 許可されていないメソッドを使用しようとした\n",
        "  * `429 Too Many Requests`: リクエストが多すぎる（短時間に大量のリクエストを送信してきたため、サーバーが処理を拒否する場合）\n",
        "  * `500 Internal Server Error`: サーバー内部にエラーが発生した\n",
        "  * `501 Not Implemented`: 実装されていないメソッドを使用した\n",
        "  * `503 Service Unavailable`: サーバーが一時的に使用できない"
      ],
      "metadata": {
        "id": "mnAcAjlQ03yr"
      }
    },
    {
      "cell_type": "markdown",
      "source": [
        "HTTP メッセージ\n",
        "---------------"
      ],
      "metadata": {
        "id": "-x4sZLgNH7hi"
      }
    },
    {
      "cell_type": "markdown",
      "source": [
        "HTTP リクエストと HTTP レスポンスを行う手段は、**HTTP メッセージ**と呼ばれる。HTTP メッセージの構成は、HTTP バージョンによって微妙に異なる。 HTTP/1.1 では HTTP メッセージはテキスト形式であり、改行をもって 1 行ごとに区切られ、次のような構成となる。\n",
        "\n",
        "``` text\n",
        "  HTTP メッセージ\n",
        "┏━━━━━━━━━━━━━━━━━━━┓\n",
        "┃┌─────────────────┐┃\n",
        "┃│リクエストライン/ステータスライン │┃ ヘッダーセクション\n",
        "┃├─────────────────┤┃\n",
        "┃│ヘッダーフィールド                │┃\n",
        "┃│ヘッダーフィールド                │┃\n",
        "┃│ヘッダーフィールド                │┃\n",
        "┃└─────────────────┘┃\n",
        "┃ （空行; CR+LF）                      ┃\n",
        "┃┌─────────────────┐┃\n",
        "┃│コンテンツ                        │┃\n",
        "┃├─────────────────┤┃\n",
        "┃│トレーラーフィールド              │┃ トレーラーセクション\n",
        "┃│トレーラーフィールド              │┃\n",
        "┃│トレーラーフィールド              │┃\n",
        "┃└─────────────────┘┃\n",
        "┗━━━━━━━━━━━━━━━━━━━┛\n",
        "```\n",
        "\n",
        "ヘッダーフィールドは単にヘッダーとも呼ばれる。コンテンツはペイロード、またはメッセージボディ、あるいは単にボディとも呼ばれる。トレーラーフィールドも単にヘッダーとも呼ばれる。\n",
        "\n",
        "改行は CR+LF（`\\r\\n`）。ヘッダーセクションとコンテンツの間は、空行（つまり改行 2 つ）で区切られる。ただし、ヘッダーセクションは必須だが、コンテンツとトレーラーセクションは存在しないことがある（トレーラフィールドはほとんど使われていない）。\n",
        "\n",
        "HTTP リクエストでは、1 行目がリクエストラインであり、HTTP メソッド、サーバー上のリソースを識別するためのパス、HTTP バージョンが次のように記述される:\n",
        "\n",
        "``` text\n",
        "GET / HTTP/1.1\\r\\n\n",
        "```\n",
        "\n",
        "このリクエストラインは、HTTP メソッドが `GET` で、対象とするパスとしてルート `/` を指定している。\n",
        "\n",
        "HTTP レスポンスでは、1 行目がステータスラインであり、HTTP バージョン、ステータスコード、リーズンフレーズが次のように記述される:\n",
        "\n",
        "``` text\n",
        "HTTP/1.1 200 OK\\r\\n\n",
        "```\n",
        "\n",
        "このステータスラインは、ステータスコード/リーズンフレーズが `200 OK` であり、リクエストが正常に処理できたことを示す。\n",
        "\n",
        "HTTP メッセージの 2 行目以降では、次のように構成されるヘッダーフィールドが並ぶ。\n",
        "\n",
        "``` text\n",
        "フィールド名: 値[; パラメータ名=値[; パラメータ名=値...]][, 値[; パラメータ名=値[; パラメータ名=値...]], ...]\\r\\n\n",
        "```\n",
        "\n",
        "フィールド名は、大文字小文字を区別しない。フィールドの値は複数を受け付ける場合があり、その場合にはカンマ区切りで指定する。パラメータ（属性とも呼ばれる）を受け付ける場合があり、その場合には各値の後ろにセミコロンと空白 `'; '` で区切ってパラメータ名と値のペアを `=` を挟む形で並べる。\n",
        "\n",
        "基本的なヘッダーフィールドは、以下の通り:\n",
        "\n",
        "| フィールド名 | 値 | パラメータ | 意味 |\n",
        "|:---|:---|:---|:---|\n",
        "| `Host` | `<host>:<port>` | | 【リクエスト専用】リクエストが送信される先のサーバーのホスト名とポート番号を指定する |\n",
        "| `User-Agent` | `<product>/<version><comment>` | | 【リクエスト専用】リクエストしているアプリケーション（ユーザーエージェント）の製品情報 |\n",
        "| `Referer` | `<url>` | |【リクエスト専用】リクエスト中のページにつながるリンクがある直前のページのアドレスを<br /><br />伝える。サーバー側でユーザーの行動分析に利用される。HTTPS 通信でない場合は送信<br /><br />されない |\n",
        "| `Origin` | `null`<br /><br />`<scheme>://<hostname>`<br /><br />`<scheme>://<hostname>:<port>` | |【リクエスト専用】関連するリクエストが発生したスキーム、ホスト名、ポート番号を伝える。<br /><br />現在と同一なら `null` や省略されることもある |\n",
        "| `Accept` | `<MIME_type>/<MIME_subtype>` | `q` | 【リクエスト専用】クライアントが受け入れ可能なコンテンツの MIME タイプを指定する。サ<br /><br />ブタイプを指定しない形式 `<MIME_type>/*` や 全ての MIME タイプ `*/*` も指定可能。複<br /><br />数指定可能で、その場合 `q` に重み（優先度）を `0` から `1` までの範囲で指定できる |\n",
        "| `Accept-Language` | `<language>`<br /><br />`*` | `q` | 【リクエスト専用】クライアントが受け入れ可能な言語（`ja`, `en-US` など）を指定する。複数<br /><br />指定可能で、その場合 `q` に重み（優先度）を `0` から `1` までの範囲で指定できる |\n",
        "| `Accept-Encoding` | `gzip`<br /><br />`compress`<br /><br />`deflate`<br /><br />`br`<br /><br />`identity`<br /><br />`*` | `q` | 【リクエスト専用】クライアントが受け入れ可能なコンテンツの圧縮アルゴリズムを指定する。<br /><br />`identity` は等価関数（つまり圧縮なし）を示す。複数指定可能で、その場合 `q` に重み（優<br /><br />先度）を `0` から `1` までの範囲で指定できる |\n",
        "| `Range` | `bytes=<start>-<end>,...`<br/><br />`bytes=-<suffix-length>` | | 【リクエスト専用】リソースの一部を要求する。`bytes` で単位を、整数値 `<start>` で範囲<br /><br />の先頭を、整数値 `<end>` で範囲の末尾を示す。`<start>-` として `<end>` を省略すれば<br /><br />リソースの末尾が範囲の末尾となる。負の整数値 `-<suffix-length>` でファイルの末尾<br /><br />からの範囲を指定できる。カンマ区切りで複数の範囲を指定可能 |\n",
        "| `Accept-Ranges` | `bytes`<br /><br />`none` | | 【レスポンス専用】値が `bytes` ならサーバーがリソースの一部だけのリクエストに対応して<br /><br />いることを示す。値が `none` ならそのようなリクエストに対応していないことを示す |\n",
        "| `Server` | `<product>` | | 【レスポンス専用】レスポンスを生成したサーバーで使用されたソフトウェア |\n",
        "| `Retry-After` | `<http-date>`<br /><br />`<delay-seconds>` | | 【レスポンス専用】ステータスコード 503, 429, 301 の場合に、ユーザーエージェントがリクエ<br /><br />ストを再送する前にどれくらい待つべきかを示す。RFC-1123 形式の日時、または遅延させ<br /><br />る秒数（10 進数の整数） |\n",
        "| `Connection` | `keep-alive`<br /><br />`close` | | 値が `keep-alive` なら接続が維持されて閉じられなくなる。値が `close` なら接続が閉じ<br /><br />られる |\n",
        "\n",
        "古い HTTP/1.0 では、HTTP リクエストと HTTP レスポンスの 1 往復が終わると TCP 接続が閉じられるのがデフォルトの動作であった。複数回の往復が必要な場合に、リクエストのたびに TCP 接続を確立させるのは効率が悪いので、HTTP/1.1 ではデフォルトで接続が維持され、接続の維持を望まなければヘッダーフィールドに `'Connection: close'` を追加する仕様となっている（`'Connection: keep-alive'` はデフォルトの動作となったので明示的な指定を省略できる）。\n",
        "\n",
        "コンテンツに関する情報を与えるヘッダーフィールドは、以下の通り:\n",
        "\n",
        "| フィールド名 | 値 | パラメータ | 意味 |\n",
        "|:---|:---|:---|:---|\n",
        "| `Content-Disposition` | `inline`<br /><br />`attachment` | `filename` | 【レスポンス専用】値が `inline`（デフォルト）なら、コンテンツは Web ページとして表示される。値が<br /><br /> `attachment` なら、コンテンツはファイルとしてダウンロードされる。パラメータの `filename` に保存<br /><br />するファイル名のデフォルト値を指定できる |\n",
        "| `Content-Type` | `<media-type>` | `charset`<br /><br />`boundary` | コンテンツの MIME タイプを指定する。`charset` にコンテンツの文字エンコーディングを指定できる。<br /><br />マルチパートのコンテンツでは `boundary` が必要で、これは複数パートの境界を囲むために使用する |\n",
        "| `Content-Length` | `<length>` | | コンテンツの長さをバイト単位で示す |\n",
        "| `Transfer-Encoding` | `chunked` | | ストリームデータ等、事前にデータの長さを知ることができない場合に、`Content-Length` を省略する<br /><br />代わりに `'Transfer-Encoding: chunked'` を含めてデータがチャンクの連続で送られることを示す |\n",
        "\n",
        "`GET` リクエストは、リソースの取得専用とみなされ、コンテンツを入れないとされている（サーバーは `GET` リクエストのコンテンツを無視する）。このため、パラメータは URL のクエリ文字列で渡すのが一般的である。このことは、HTML フォームの場合でも同様とされる。\n",
        "\n",
        "例えば、いま Web ブラウザが次のような HTML フォームを含む Web ページを読み込んでいるとする:\n",
        "\n",
        "``` html\n",
        "<form method=\"GET\" action=\"article\">\n",
        "  <label>Name: <input type=\"text\" name=\"name\" /></label>\n",
        "  <label>Email: <input type=\"text\" name=\"email\" /></label>\n",
        "  <button>送信</button>\n",
        "</form>\n",
        "```\n",
        "\n",
        "Web ブラウザ上には 1 行の入力欄 2 つと送信ボタン 1 つが表示される。`form` 要素の `method` 属性が `GET` になっているので、送信ボタンを押すと、`GET` リクエストが発行される。このとき、`?name=John&email=John%40example.com` のようなクエリ文字列付きの URL でサーバーに送信され、そのメッセージにはコンテンツは含まれない（ヘッダーセクションのみ送信）。\n",
        "\n",
        "`POST` リクエストの場合は、作成したリソースや結果の情報をコンテンツに含めて送信するのが一般的である。上記の例と似た状況で、ただ HTML フォームが次のようなものであったとする:\n",
        "\n",
        "``` html\n",
        "<form method=\"POST\" action=\"article\">\n",
        "  <label>Name: <input type=\"text\" name=\"name\" /></label>\n",
        "  <label>Email: <input type=\"text\" name=\"email\" /></label>\n",
        "  <button>送信</button>\n",
        "</form>\n",
        "```\n",
        "\n",
        "Web ブラウザ上の表示は同じだが、`form` 要素の `method` 属性が `POST` になっているので、送信ボタンを押すと、`POST` リクエストが次のような構成でサーバーに送信される:\n",
        "\n",
        "``` text\n",
        "POST /article HTTP/1.1\n",
        "Host: example.com\n",
        "Content-Type: application/x-www-form-urlencoded\n",
        "Content-Length: 34\n",
        "\n",
        "name=John&email=John%40example.com\n",
        "```\n",
        "\n",
        "空行の下にコンテンツが入り、それは URL のクエリ文字列と同じ形式となる。URL エンコードもされており、そのことを示すため、ヘッダー `'Content-Type: application/x-www-form-urlencoded'` が追加される。フォームデータに適用される変換を**フォームエンコード**という。\n",
        "\n",
        "ファイルを送信する `POST` リクエストでは、コンテンツはマルチパートとなる。\n",
        "\n",
        "``` text\n",
        "POST /upload HTTP/1.1\n",
        "Host: example.com\n",
        "Content-Type: multipart/form-data; boundary=------WebKitFormBoundaryX3bY6\n",
        "Content-Length: [バイト数]\n",
        "\n",
        "------WebKitFormBoundaryX3bY6\n",
        "Content-Disposition: form-data; name=\"name\"\n",
        "\n",
        "[テキストデータの内容]\n",
        "------WebKitFormBoundaryX3bY6\n",
        "Content-Disposition: form-data; name=\"file\"; filename=\"image.jpg\"\n",
        "Content-Type: image/jpeg\n",
        "\n",
        "[バイナリデータ]\n",
        "------WebKitFormBoundaryX3bY6--\n",
        "```\n",
        "\n",
        "`Content-Length` ヘッダーが省略されて、`Transfer-Encoding: chunked` が指定された場合、コンテンツはチャンク単位で送られる。チャンクでは、最初にチャンク単位のサイズ（バイト数）を 16 進数で示し、改行してチャンクのデータを送る。データ転送が完了したら空のチャンク（サイズを `0` とし、データを空行 `'\\r\\n'`とする）を送る。\n",
        "\n",
        "``` text\n",
        "HTTP/1.1 200 OK\n",
        "Server: example\n",
        "Transfer-Encoding: chunked\n",
        "\n",
        "64\n",
        "<チャンクデータ>\n",
        "1D\n",
        "<チャンクデータ>\n",
        "0\n",
        "\n",
        "```\n",
        "\n",
        "HTTP には、**キャッシュ**という、「一度取得したリソース（HTMLや画像、CSS、JavaScriptなど）を再利用する仕組み」がある。同じリソースを再取得せずに再利用することで、通信量を減らし表示速度を向上させ、サーバーやネットワークの負荷を軽減する。\n",
        "\n",
        "HTTP キャッシュには大きく分けて 2 つの種類がある:\n",
        "\n",
        "  * **ブラウザキャッシュ（プライベートキャッシュ）**  \n",
        "ブラウザやアプリが保持するキャッシュ。一度取得したリソースをローカルストレージに保存し、次回アクセス時に利用する。\n",
        "  * **プロキシキャッシュ（共有キャッシュ）**  \n",
        "ISP や CDN、企業内ネットワークのプロキシサーバーなどで利用されるキャッシュ。複数ユーザーで共有される。\n",
        "\n",
        "さらに、サーバーへの確認の有無により、次のように分類される:\n",
        "\n",
        "  * **強いキャッシュ（Strong Caching）**  \n",
        "Web ブラウザがキャッシュを「期限切れになるまでサーバーに確認せず」利用する。\n",
        "  * **弱いキャッシュ（Validation Caching）**  \n",
        "サーバーに確認して最新かどうかをチェックし、更新されていなければキャッシュを使う。\n",
        "\n",
        "キャッシュに関するヘッダーフィールドは、以下の通り:\n",
        "\n",
        "| フィールド名 | 値 | 意味 |\n",
        "|:---|:---|:---|\n",
        "| `Last-Modified` | `<http-date>` | 【レスポンス専用】リソースの最終更新日時を RFC-1123 形式で伝える |\n",
        "| `ETag` | `<hash-value>` | 【レスポンス専用】リソースのハッシュ値を伝える |\n",
        "| `Expires` | `<http-date>` | 【レスポンス専用】RFC-1123 形式で指定された日時までクライアントにキャッシュを使わせることを伝える。<br /><br />`Last-Modified` や `ETag` と違ってクライアントの HTTP リクエストを抑制できる（強いキャッシュ）。`Expires` は<br /><br /> `Last-Modified` や `ETag` より優先される |\n",
        "| `Date` | `<http-date>` | 【レスポンス専用】レスポンス生成日時を RFC-1123 形式で伝える。キャッシュの鮮度計算に使われる |\n",
        "| `Age` | `<delta-seconds>` | 【レスポンス専用】リソースがプロキシのキャッシュに入ってからの経過時間（秒）。キャッシュサーバー（プロキシや<br /><br /> CDN など）がレスポンスを返すときに付与 |\n",
        "| `Vary` | `<header-name>, ...` | 【レスポンス専用】同じ URL でも指定されたリクエストヘッダーの値が異なる場合にレスポンスのコンテンツが変<br /><br />わることを伝える。`Accept-Language` や `Accept-Encoding` や `User-Agent` を指定すれば、キャッシュは言語、圧<br /><br />縮アルゴリズム、デバイスごとに別々のレスポンスを保存する |\n",
        "| `If-Modified-Since` | `<http-date>` | 【リクエスト専用】例えばサーバーから `'Last-Modified: Wed, 14 Oct 2020 15:00:00 GMT'` が含まれるレスポ<br /><br />ンスを受けたクライアントは、同じリソースに対してリクエストを発行するときは<br /><br /> `'If-Modified-Since: Wed, 14 Oct 2020 15:00:00 GMT'` を含める。サーバーはその日時以降にリソースの更<br /><br />新がなければ `'304 Not Modified'` を返してクライアントにキャッシュを使わせる |\n",
        "| `If-None-Match` | `<hash-value>` | 【リクエスト専用】サーバーから `'ETag: \"XXX\"'` が含まれるレスポンスを受けたクライアントは、同じリソースに対<br /><br />してリクエストを発行するときは `'If-None-Match: \"XXX\"'` を含める。サーバーはリソースのハッシュ値と送られ<br /><br />てきたハッシュ値が一致すれば `'304 Not Modified'` を返してクライアントにキャッシュを使わせる |\n",
        "| `Cache-Control` | `no-store`<br /><br />`no-cache`<br /><br />`max-age=N`<br /><br />`private` | キャッシュの有効期限や挙動を細かく指定する。`Cache-Control` は `Expires` より優先される<br /><br />【レスポンス】<br /><br />・`'Cache-Control: no-store'` を含むレスポンスを受けたクライアントは、キャッシュを利用せず、同じリソースに<br /><br />　対してリクエストを発行する時は常に `If-Modified-Since` や `If-None-Match`を含めない<br /><br />・`'Cache-Control: no-cache'` を含むレスポンスを受けたクライアントは、同じリソースに対してリクエストを発行<br /><br />　する時は `If-Modified-Since` や `If-None-Match` ヘッダーを付けて、サーバーにこれらの値を使ってキャッシュ<br /><br />　を使うかどうかを判断させることができる<br /><br />・`'Cache-Control: max-age=N'` を含むレスポンスを受けたクライアントは、`N` 秒間は HTTP リクエストを行わず、<br /><br />　キャッシュを使う<br /><br />・値に `private` を単独または上記の指定と合わせて指定した時は、キャッシュをプライベートキャッシュでのみ許<br /><br />　可し、共有キャッシュには保存しないよう要求する<br /><br />【リクエスト】<br /><br />・`'Cache-Control: no-store'` を含むリクエストを受けたサーバーは、常に最新のリソース本体を含むレスポンス<br /><br />　を返す |\n",
        "\n",
        "HTTP にはクライアントに別の URL へ再リクエストを行わせる仕組みがあり、**リダイレクト**と呼ばれる。リダイレクトは、サーバーが HTTP レスポンスで 3xx 系ステータスコードと新しい URL を示す次のヘッダーを返すことで行われる。\n",
        "\n",
        "| フィールド名 | 値 | 意味 |\n",
        "|:---|:---|:---|\n",
        "| `Location` | `<url>` | 【レスポンス専用】リダイレクト先の URL を示す |\n",
        "\n",
        "ログインを必要とする Web サイトでは、ID を使ってユーザーを特定する。この仕組みを**セッション**（session）という。\n",
        "\n",
        "HTTP はリクエストとレスポンスが一回で完結し、状態を保持しないプロトコルなので、一度の通信が終わると、サーバーは「同じ人かどうか」を覚えていない。このままではユーザーはセッションを継続できず、通信のたびにログイン処理が必要となる。そこで、サーバー・クライアント間でやり取りされる、ユーザーを識別するための小さなデータ（キーと値のペア）が利用される。これを **Cookie** という。\n",
        "\n",
        "Cookie のやりとりは以下のヘッダーフィールドで行われる。\n",
        "\n",
        "| フィールド名 | 値 | パラメータ | 意味 |\n",
        "|:---|:---|:---|:---|\n",
        "| `Set-Cookie` | `<key>=<value>` | `Expires`<br /><br />`Max-Age`<br /><br />`Domain`<br /><br />`Path`<br /><br />`Secure`<br /><br />`HttpOnly`<br /><br />`SameSite` | 【レスポンス専用】サーバーから Cookie を送信する。複数の Cookie を送信するには、複数の `Set-Cookie` ヘッ<br /><br />ダーを 1 つのレスポンスで送信する。Cookie を受け取ったクライアントは次回のリクエスト時に Cookie を送り返す<br /><br />が、パラメータでこれを制御することができる<br /><br />・`Expires`: Cookie の有効期限（日時）を RFC-1123 形式で指定する<br /><br />・`Max-Age`: Cookie の期限までの秒数を指定する。`Expires` も `Max-Age` も指定されない Cookie は Web ブラウ<br /><br />　ザの終了時に削除される<br /><br />・`Domain`: Cookie を送信するドメインの制限を指定する<br /><br />・`Path`: Cookie を送信するパスの制限を指定する<br /><br />・`Secure`: HTTPS 通信が行われる場合にのみサーバーに Cookie を送信するように指定する（`Secure` には値は<br /><br />　不要）<br /><br />・`HttpOnly`: クライアント側で JavaScript から Cookie にアクセスできないように指定する（`HttpOnly` には値は<br /><br />　不要）<br /><br />・`SameSite`: `Strict`, `Lax`, `None` のいずれかを指定。`Strict` の場合、同一サイトのリクエストに対してのみ<br /><br />　 Cookie を送信する。`Lax` の場合、元のサイトに移動する時にも Cookie を送信する。`None` の場合、そのような<br /><br />　制限はない |\n",
        "| `Cookie` | `<cookie-list>` | | 【リクエスト専用】クライアント側に保存された Cookie をサーバーに送信する。複数の Cookie を送信するには 1 つ<br /><br />の `Cookie` ヘッダーにセミコロンと空白 `'; '` で区切って並べた Cookie のリストを指定する。なお、クライアント<br /><br />が Cookie を送り返すのは任意である。例えば、ブラウザーのプライバシー設定で Cookie をブロックしている場合<br /><br />は `Cookie` ヘッダーを省略する |\n",
        "\n",
        "例えば、ユーザーのログイン時に、サーバーは認証したユーザーにセッション ID を発行して次のように `Set-Cookie` ヘッダーに含める。\n",
        "\n",
        "``` text\n",
        "Set-Cookie: sessionId=38afes7a8\n",
        "```\n",
        "\n",
        "Web ブラウザはセッション ID を保管し、次回の HTTP リクエスト時に次のように `Cookie` ヘッダーにセッション ID を含めることによって、ログインが不要となる。\n",
        "\n",
        "``` text\n",
        "Cookie: sessionId=38afes7a8\n",
        "```\n",
        "\n",
        "`curl` コマンドを `-v` オプションを付けて実行することで、実際にやり取りされる HTTP メッセージを確認することができる。例えば、`curl -v http://example.com` コマンドを実行すると、`example.com` に対して `GET` リクエストを発行し、そのレスポンスとして HTML 形式が返されることを確認できる。"
      ],
      "metadata": {
        "id": "1U3H8CrC7CMq"
      }
    },
    {
      "cell_type": "code",
      "source": [
        "!curl -v http://example.com"
      ],
      "metadata": {
        "colab": {
          "base_uri": "https://localhost:8080/"
        },
        "id": "94TyV8DszDiV",
        "outputId": "16ac6f02-9a8f-41b1-e325-3383a21e528c"
      },
      "execution_count": null,
      "outputs": [
        {
          "output_type": "stream",
          "name": "stdout",
          "text": [
            "*   Trying 23.192.228.80:80...\n",
            "* Connected to example.com (23.192.228.80) port 80 (#0)\n",
            "> GET / HTTP/1.1\r\n",
            "> Host: example.com\r\n",
            "> User-Agent: curl/7.81.0\r\n",
            "> Accept: */*\r\n",
            "> \r\n",
            "* Mark bundle as not supporting multiuse\n",
            "< HTTP/1.1 200 OK\r\n",
            "< Content-Type: text/html\r\n",
            "< ETag: \"84238dfc8092e5d9c0dac8ef93371a07:1736799080.121134\"\r\n",
            "< Last-Modified: Mon, 13 Jan 2025 20:11:20 GMT\r\n",
            "< Cache-Control: max-age=2692\r\n",
            "< Date: Thu, 10 Apr 2025 00:44:37 GMT\r\n",
            "< Content-Length: 1256\r\n",
            "< Connection: keep-alive\r\n",
            "< \r\n",
            "<!doctype html>\n",
            "<html>\n",
            "<head>\n",
            "    <title>Example Domain</title>\n",
            "\n",
            "    <meta charset=\"utf-8\" />\n",
            "    <meta http-equiv=\"Content-type\" content=\"text/html; charset=utf-8\" />\n",
            "    <meta name=\"viewport\" content=\"width=device-width, initial-scale=1\" />\n",
            "    <style type=\"text/css\">\n",
            "    body {\n",
            "        background-color: #f0f0f2;\n",
            "        margin: 0;\n",
            "        padding: 0;\n",
            "        font-family: -apple-system, system-ui, BlinkMacSystemFont, \"Segoe UI\", \"Open Sans\", \"Helvetica Neue\", Helvetica, Arial, sans-serif;\n",
            "        \n",
            "    }\n",
            "    div {\n",
            "        width: 600px;\n",
            "        margin: 5em auto;\n",
            "        padding: 2em;\n",
            "        background-color: #fdfdff;\n",
            "        border-radius: 0.5em;\n",
            "        box-shadow: 2px 3px 7px 2px rgba(0,0,0,0.02);\n",
            "    }\n",
            "    a:link, a:visited {\n",
            "        color: #38488f;\n",
            "        text-decoration: none;\n",
            "    }\n",
            "    @media (max-width: 700px) {\n",
            "        div {\n",
            "            margin: 0 auto;\n",
            "            width: auto;\n",
            "        }\n",
            "    }\n",
            "    </style>    \n",
            "</head>\n",
            "\n",
            "<body>\n",
            "<div>\n",
            "    <h1>Example Domain</h1>\n",
            "    <p>This domain is for use in illustrative examples in documents. You may use this\n",
            "    domain in literature without prior coordination or asking for permission.</p>\n",
            "    <p><a href=\"https://www.iana.org/domains/example\">More information...</a></p>\n",
            "</div>\n",
            "</body>\n",
            "</html>\n",
            "* Connection #0 to host example.com left intact\n"
          ]
        }
      ]
    },
    {
      "cell_type": "markdown",
      "source": [
        "urllib.request\n",
        "--------------"
      ],
      "metadata": {
        "id": "63FG9_WIJS1C"
      }
    },
    {
      "cell_type": "markdown",
      "source": [
        "Python では、HTTP/1.1 を使用する HTTP クライアント機能が標準ライブラリの `http.client` モジュールと `urllib.request` モジュールで提供されている。`http.client` は HTTP 接続に近い低水準のインターフェースを提供していて、`urllib.request` は `http.client` の上に構築された高水準なインターフェースを提供している。よって、通常は `urllib.request` を使う。\n",
        "\n",
        "`urllib.request.Request` クラスは、リクエストを表現する。コンストラクタは次のとおり。\n",
        "\n",
        "``` python\n",
        "urllib.request.Request(url, data=None, headers={}, origin_req_host=None, unverifiable=False, method=None)\n",
        "```\n",
        "\n",
        "| 引数 | 意味 |\n",
        "|:---|:---|\n",
        "| `url` | 適切にエンコードされた有効な URL を含む文字列を指定する。スキームについては `http`、`https` だけでなく、`ftp` と `file` にも対応している |\n",
        "| `data` | サーバーに送信する追加データを指定するオブジェクト、またはそのようなデータが不要な場合は `None` とする必要がある。サポートされているオ<br /><br />ブジェクトの型は、バイト列、ファイルオブジェクト、およびバイト列のイテラブル |\n",
        "| `headers` | ヘッダーフィールドを `{フィールド名: 値, ...}` となる辞書で指定する |\n",
        "| `method` | HTTP メソッドを示す文字列を指定する。指定された場合、その値は `method` 属性に格納される |\n",
        "\n",
        "`urllib.request.Request` の主な属性は次の通り。\n",
        "\n",
        "| 属性 | 意味 |\n",
        "|:---|:---|\n",
        "| `Request.full_url` | コンストラクタに渡されたオリジナルの URL |\n",
        "| `Request.data` | リクエストのボディ。コンストラクタの引数 `data` で指定されない場合は `None` になる |\n",
        "| `Request.headers` | リクエストのヘッダーフィールドを示す辞書。コンストラクタの引数 `headers` で指定されない場合は空の辞書になる |\n",
        "| `Request.method` | HTTP リクエストで使うメソッド |\n",
        "\n",
        "`urllib.request.Request` の主なメソッドは次の通り。\n",
        "\n",
        "| 属性 | 意味 | 戻り値 |\n",
        "|:---|:---|:---|\n",
        "| `Request.get_method()` | HTTP リクエストメソッドを示す文字列を返す。`Request.method` 属性が `None` でなければその値を返す。<br /><br />そうでない場合、`Request.data` が `None` なら `'GET'` を、そうでなければ `'POST'` を返す | `str` |\n",
        "\n",
        "``` python\n",
        "urllib.request.urlopen(url, data=None, [timeout, ]*, context=None)\n",
        "```\n",
        "\n",
        "この関数は、URL を開く。つまり、URL のホスト（Web サーバー、FTP サーバーなど）に URL のポート番号で接続して、URL のパスへリクエストを発行し、サーバーからレスポンスが返ってくるのを待つ。その HTTP リクエストは `Connection:close` ヘッダーを含む。\n",
        "\n",
        "| 引数 | 意味 |\n",
        "|:---|:---|\n",
        "| `url` | `urllib.request.Request` コンストラクタの引数 `url` に渡す文字列を指定する。または、直接 `urllib.request.Request` インスタンスを指定するこ<br /><br />ともできる |\n",
        "| `data` | `urllib.request.Request` コンストラクタの引数 `data` に渡すオブジェクトを指定する。`url` に直接 `urllib.request.Request` インスタンスを指定<br /><br />する場合は、この `data` 引数を省略する |\n",
        "| `timeout` | サーバーからレスポンスが返ってくるまで待つ最大時間を秒数で指定する |\n",
        "| `context` | キーワード専用引数。HTTPS 通信をする際に、デフォルトの高いセキュリティレベルの設定を変更するために使用される。通常、`context` を指定する<br /><br />必要はない |\n",
        "\n",
        "`urllib.request.urlopen()` 関数は、第 1 引数に URL 文字列が渡された場合、内部で `urllib.request.Request` インスタンスを生成する。その際に、関数の `url` 引数と `data` 引数の値が渡される。HTTP 接続が確立すると、`urllib.request.Request` インスタンスから HTTP リクエストメッセージが生成されて Web サーバーに送られる。このとき、HTTP メソッド、ヘッダーフィールド、メッセージボディは、それぞれインスタンスの `get_method()` メソッド、`headers` 属性、`data` 属性から取得される。\n",
        "\n",
        "`POST` リクエストでは、`Content-Type` ヘッダーフィールドが提供されていない場合、`Content-Type: application/x-www-form-urlencoded` が設定されるので、`data` は URL クエリ文字列と同じ形式でなければならない。この形式は、フォームデータを送信するときの形式である。\n",
        "\n",
        "また、`Content-Length` または `Transfer-Encoding` ヘッダーフィールドが提供されていない場合、`data` の種類に応じてこれらのヘッダーが設定される。バイト列を送信するとき `Content-Length` が使用され、ファイルやその他のイテラブルを送信するとき `'Transfer-Encoding: chunked'` が使用される。\n",
        "\n",
        "`urllib.request.urlopen()` 関数は、エラーとなったとき、次の 2 種類の例外を送出する。\n",
        "\n",
        "  * `urllib.error.URLError`: HTTP 通信に失敗したとき\n",
        "  * `urllib.error.HTTPError`: HTTP ステータスコードが 4xx または 5xx だったとき\n",
        "\n",
        "`urllib.error.HTTPError` は `urllib.error.URLError` のサブクラスであることに注意する。両方を捕捉したい場合は、`urllib.error.HTTPError` の except 節を先に書く必要がある。主な属性は次のとおり。\n",
        "\n",
        "| 属性 | 意味 |\n",
        "|:---|:---|\n",
        "| `reason` | リーズンフレーズ（文字列） |\n",
        "| `code` | （`HTTPError` のみ） HTTP ステータスコード（整数） |\n",
        "\n",
        "`urllib.request.urlopen()` 関数は、エラーとならなければ、`http.client.HTTPResponse` インスタンスを返す。`http.client.HTTPResponse` は `io.BufferedIOBase` の具象クラスとなっていて、メッセージボディの読み取りは `io.BytesIO` と同様に扱える。また、次の属性を持つ。\n",
        "\n",
        "| 属性 | 意味 |\n",
        "|:---|:---|\n",
        "| `HTTPResponse.version` | サーバーが使用した HTTP プロトコルバージョン。`10` は HTTP/1.0 を、`11` は HTTP/1.1 を表す |\n",
        "| `HTTPResponse.url` | 取得されたリソースの URL、主にリダイレクトが発生したかどうかを確認するために利用する |\n",
        "| `HTTPResponse.status` | サーバーから返されるステータスコード |\n",
        "| `HTTPResponse.reason` | サーバーから返されるリーズンフレーズ |\n",
        "\n",
        "![](https://www.plantuml.com/plantuml/png/SoWkIImgAStDuKfCJyqhKL0gBSh9oKpIAqejB4qjBj4BWj1AEAI1tFo2r3mDJRY2Z9AI0htad4mWHyyZ92GWABMu83-lE5L9mSOcCr_FgJGjBRKeDSNJtocnE5NXSUEwfwtRNsnS-BXf_UFcbO-RTjhPmKmAJqrwtBJrSVEUnyqJWAGI5owtAUZgsk5p6Kufi4xSJiQlqmxJXGfM2Y3z2e-RLu7yqxG2w9_7pHrSc0hnEXXXp1gm0NCVDsy6ChWSKlDIW3450000)\n",
        "\n",
        "`urllib.request.urlopen()` 関数を URL の文字列だけ渡して呼び出したとき、内部生成される `urllib.request.Request` インスタンスの `method` 属性は `None` となり `get_method()` メソッドは `'GET'` を返す。したがって、簡単な `GET` リクエストは、URL の文字列 `url` だけを渡して `urllib.request.urlopen(url)` と呼び出せばよい。`url` のパスがホストのファイルシステムに対応している場合、これはデータのダウンロードとなる。"
      ],
      "metadata": {
        "id": "pjN_nVaCVxdh"
      }
    },
    {
      "cell_type": "code",
      "source": [
        "import urllib.request\n",
        "\n",
        "try:\n",
        "    with urllib.request.urlopen(\"https://httpbin.org/\", timeout=10) as res:\n",
        "        body = res.read(98).decode(\"utf-8\")  # 先頭98バイトまで読み込む\n",
        "except urllib.error.HTTPError as err:\n",
        "    print(err.code, err.reason)\n",
        "except urllib.error.URLError as err:\n",
        "    print(err.reason)\n",
        "else:\n",
        "    print(body)"
      ],
      "metadata": {
        "colab": {
          "base_uri": "https://localhost:8080/"
        },
        "id": "iNfc_LY0UFVB",
        "outputId": "a217dc18-08bd-4cab-9a09-69ea3cc24429"
      },
      "execution_count": null,
      "outputs": [
        {
          "output_type": "stream",
          "name": "stdout",
          "text": [
            "<!DOCTYPE html>\n",
            "<html lang=\"en\">\n",
            "\n",
            "<head>\n",
            "    <meta charset=\"UTF-8\">\n",
            "    <title>httpbin.org</title>\n"
          ]
        }
      ]
    },
    {
      "cell_type": "markdown",
      "source": [
        "画像ファイルなどバイナリファイルをダウンロードする場合は、結果を `decode()` でデコードしない。"
      ],
      "metadata": {
        "id": "WuIQVB7DXnV_"
      }
    },
    {
      "cell_type": "code",
      "source": [
        "import urllib.request\n",
        "\n",
        "with (\n",
        "    urllib.request.urlopen(\"https://httpbin.org/image/jpeg\") as r,\n",
        "    open(\"./test.jpg\", \"wb\") as f,\n",
        "):\n",
        "    f.write(r.read())\n",
        "\n",
        "# IPython で画像を表示\n",
        "from IPython.display import Image, display_jpeg\n",
        "display_jpeg(Image('test.jpg'))"
      ],
      "metadata": {
        "id": "ad2f-N3_XoJ0",
        "colab": {
          "base_uri": "https://localhost:8080/",
          "height": 195
        },
        "outputId": "fed466d9-23fb-4ccc-e365-631403154acc"
      },
      "execution_count": null,
      "outputs": [
        {
          "output_type": "display_data",
          "data": {
            "image/jpeg": "[encoded data removed]"
          },
          "metadata": {}
        }
      ]
    },
    {
      "cell_type": "markdown",
      "source": [
        "`GET` リクエストでパラメータを渡すには、URL のクエリ文字列を使う。`urllib.parse.urlencode()` を使うと、辞書やタプルのリストから安全にクエリ文字列を組み立てることができる。\n",
        "\n",
        "次のコードは、httpbin.org が提供する Web API において、`GET` リクエストをパラメータ付きで発行する例である。リクエスト時のクエリ文字列がレスポンスボディの JSON で `args` キーに格納されて返される。"
      ],
      "metadata": {
        "id": "OXLKy0jdKJO-"
      }
    },
    {
      "cell_type": "code",
      "source": [
        "from urllib.parse import urlencode\n",
        "import urllib.request\n",
        "import json\n",
        "\n",
        "endpoint = \"https://httpbin.org/get\"\n",
        "params = {\"name\": \"Taro\", \"age\": 20}\n",
        "url = urllib.request.Request('{}?{}'.format(endpoint, urllib.parse.urlencode(params)))\n",
        "with urllib.request.urlopen(url) as res:\n",
        "    body = res.read().decode(\"utf-8\")\n",
        "\n",
        "# レスポンスをJSONとしてパース\n",
        "d = json.loads(body)\n",
        "print(d[\"args\"])"
      ],
      "metadata": {
        "colab": {
          "base_uri": "https://localhost:8080/"
        },
        "id": "-PD8_RiaXXTg",
        "outputId": "3469647e-9ab1-4cc4-dbcd-f875484de757"
      },
      "execution_count": null,
      "outputs": [
        {
          "output_type": "stream",
          "name": "stdout",
          "text": [
            "{'age': '20', 'name': 'Taro'}\n"
          ]
        }
      ]
    },
    {
      "cell_type": "markdown",
      "source": [
        "`urllib.request.urlopen()` 関数を、第 1 引数に URL の文字列、第 2 引数にパラメータとなるデータを渡して呼び出したときは、内部生成される `urllib.request.Request` インスタンスの `method` 属性は `None` となり `get_method()` メソッドは `'POST'` を返す。デフォルトでは `'Content-Type: application/x-www-form-urlencoded'` ヘッダーが設定されるので、フォームデータを送信する `POST` リクエストは、URL の文字列 `url` とパラメータ `data` を渡して `urllib.request.urlopen(url, data)` と呼び出せばよい。\n",
        "\n",
        "次のコードは、httpbin.org が提供する Web API において、`POST` リクエストを発行する例である。リクエスト時に送ったフォームデータがレスポンスボディの JSON で `form` キーに格納されて返される。"
      ],
      "metadata": {
        "id": "3Z56ZYHWZnTI"
      }
    },
    {
      "cell_type": "code",
      "source": [
        "import urllib.request\n",
        "import json\n",
        "\n",
        "# 送信するデータ\n",
        "payload = {\"name\": \"Taro\", \"age\": 20}\n",
        "\n",
        "# フォームデータに変換(バイト列)\n",
        "data = urllib.parse.urlencode(payload).encode(\"utf-8\")\n",
        "\n",
        "url = \"https://httpbin.org/post\"\n",
        "with urllib.request.urlopen(url, data) as res:\n",
        "    body = res.read().decode(\"utf-8\")\n",
        "\n",
        "# レスポンスをJSONとしてパース\n",
        "d = json.loads(body)\n",
        "print(d[\"form\"])"
      ],
      "metadata": {
        "id": "uqdmlqyvZoUN",
        "colab": {
          "base_uri": "https://localhost:8080/"
        },
        "outputId": "7b8345d6-a45f-4491-fb62-cb552b17037a"
      },
      "execution_count": null,
      "outputs": [
        {
          "output_type": "stream",
          "name": "stdout",
          "text": [
            "{'age': '20', 'name': 'Taro'}\n"
          ]
        }
      ]
    },
    {
      "cell_type": "markdown",
      "source": [
        "リクエスト時にカスタムヘッダーを設定するには、`urllib.request.Request` のコンストラクタに `headers` 引数を渡す必要がある。したがって、`urllib.request.Request` インスタンスを直接生成して `urllib.request.urlopen()` に渡すことになる。\n",
        "\n",
        "次のコードは、httpbin.org が提供する Web API において、`POST` リクエストをカスタムヘッダー付きで発行する例である。リクエスト時に送った JSON データがレスポンスボディの JSON で `data` キーに格納されて返される。"
      ],
      "metadata": {
        "id": "YKOCyeo5lef1"
      }
    },
    {
      "cell_type": "code",
      "source": [
        "import urllib.request\n",
        "import json\n",
        "\n",
        "# 送信するデータ\n",
        "payload = {\"name\": \"Taro\", \"age\": 20}\n",
        "\n",
        "# JSONに変換\n",
        "data = json.dumps(payload).encode(\"utf-8\")\n",
        "\n",
        "# カスタムヘッダー\n",
        "headers = {\"Content-Type\": \"application/json\"}\n",
        "\n",
        "# リクエスト作成\n",
        "url = \"https://httpbin.org/post\"\n",
        "req = urllib.request.Request(url, data=data, headers=headers, method=\"POST\")\n",
        "\n",
        "# リクエスト送信\n",
        "with urllib.request.urlopen(req) as res:\n",
        "    body = res.read().decode(\"utf-8\")\n",
        "\n",
        "# レスポンスをJSONとしてパース\n",
        "d = json.loads(body)\n",
        "print(d[\"data\"])"
      ],
      "metadata": {
        "colab": {
          "base_uri": "https://localhost:8080/"
        },
        "id": "t0wfmeQ_4QbY",
        "outputId": "747d5188-f4dd-4c18-9259-ab9da0f9149f"
      },
      "execution_count": null,
      "outputs": [
        {
          "output_type": "stream",
          "name": "stdout",
          "text": [
            "{\"name\": \"Taro\", \"age\": 20}\n"
          ]
        }
      ]
    },
    {
      "cell_type": "markdown",
      "source": [
        "Cookie を使ったセッション管理\n",
        "-----------------------------"
      ],
      "metadata": {
        "id": "FB8X82mLSUwn"
      }
    },
    {
      "cell_type": "markdown",
      "source": [
        "`urllib.request.urlopen()` 関数は、Cookie を扱うことができない。このため、セッション維持を可能とする処理は、自作する必要がある。\n",
        "\n",
        "`urllib.request.urlopen()` 関数は、HTTP、HTTPS といった TCP/IP アプリケーション層の処理を `urllib.request.OpenerDirector` クラスに依存している。\n",
        "\n",
        "主な属性:\n",
        "\n",
        "| 属性 | 意味 |\n",
        "|:---|:---|\n",
        "| `OpenerDirector.addheaders` | 追加のヘッダーフィールドをタプル `(header_name, header_value)` のリストで指定する |\n",
        "\n",
        "主なメソッド:\n",
        "\n",
        "| メソッド | 機能 | 戻り値 |\n",
        "|:---|:---|:---|\n",
        "| `OpenerDirector.open(url, data=None[, timeout])` | 「URL ハンドラ」を連鎖的に呼び出して URL を開く。引数、戻り値、および送出される<br /><br />例外は `urllib.request.urlopen()` 関数と同じ | `HTTPResponse` |\n",
        "\n",
        "「URL ハンドラ」は、使用されるプロトコルに対応する処理が実装されたオブジェクトである。`urllib.request.OpenerDirector` クラスは、内部で URL ハンドラをどのように連鎖させるか、またどのようにエラーをリカバリするかを管理しており、それによって `open()` メソッドのふるまいを決めている。基本的な URL ハンドラの連鎖設定を保持する `urllib.request.OpenerDirector` オブジェクトは、次の関数を使用して取得することができる。\n",
        "\n",
        "``` python\n",
        "urllib.request.build_opener([handler, ...])\n",
        "```\n",
        "\n",
        "デフォルトでこの関数が返す `urllib.request.OpenerDirector` オブジェクトは、以下の全ての URL ハンドラの連鎖設定を保持する。\n",
        "\n",
        "| URL ハンドラ | 機能 |\n",
        "|:---|:---|\n",
        "| `urllib.request.ProxyHandler(proxies=None)` | プロキシを通過してリクエストを送らせる |\n",
        "| `urllib.request.UnknownHandler` | 未知のプロトコルの URL を開く |\n",
        "| `urllib.request.HTTPHandler` | HTTP の URL を開く |\n",
        "| `urllib.request.HTTPDefaultErrorHandler` | HTTP エラーレスポンスのデフォルトハンドラー |\n",
        "| `urllib.request.HTTPRedirectHandler` | リダイレクションを扱う |\n",
        "| `urllib.request.FTPHandler` | FTP の URL を開く |\n",
        "| `urllib.request.FileHandler` | ローカルファイルを開く |\n",
        "| `urllib.request.HTTPErrorProcessor` | HTTP エラーレスポンスの処理をする |\n",
        "| `urllib.request.DataHandler` | [data URL](https://developer.mozilla.org/ja/docs/Web/URI/Reference/Schemes/data) を開く |\n",
        "| `urllib.request.HTTPSHandler(debuglevel=0, context=None, check_hostname=None)` | HTTPS で URL を開く |\n",
        "\n",
        "`urllib.request.build_opener()` 関数の呼び出しの際に URL ハンドラを渡す場合、もしそのクラスが上記に含まれるのであればデフォルトの連鎖設定にある URL ハンドラが置き換えられ、そうでなければデフォルトの連鎖設定に追加される。\n",
        "\n",
        "例えば、`urllib.request.urlopen()` 関数のコードは、`context` 引数が渡された場合の処理のみを抜粋すると、次のようになっている。\n",
        "\n",
        "``` python\n",
        "def urlopen(url, data=None, timeout=socket._GLOBAL_DEFAULT_TIMEOUT, *, context=None):\n",
        "    if context:\n",
        "        https_handler = HTTPSHandler(context=context)\n",
        "        opener = build_opener(https_handler)\n",
        "    return opener.open(url, data, timeout)\n",
        "```\n",
        "\n",
        "`context` 引数が渡された場合、URL ハンドラの連鎖設定の中で `urllib.request.HTTPSHandler` が置き換えられた `urllib.request.OpenerDirector` オブジェクトを使用することがわかる。\n",
        "\n",
        "以下の URL ハンドラは、デフォルトでは URL ハンドラの連鎖設定に含まれていない。\n",
        "\n",
        "| URL ハンドラ | 機能 |\n",
        "|:---|:---|\n",
        "| `urllib.request.HTTPCookieProcessor(cookiejar=None)` | Cookie を扱う。デフォルトでは標準的な Cookie 処理（Cookie を保持して継続的に同じセッション<br /><br />を維持する）を行う |\n",
        "\n",
        "したがって、Cookie を使用してセッション維持を可能とするには、`urllib.request.HTTPCookieProcessor` のインスタンスを、`urllib.request.build_opener()` 関数に渡せばよい（ハンドラが連鎖設定に追加され、`open()` メソッド使用時に呼び出されるようになる）。\n",
        "\n",
        "次のサイトは、Heroku が提供するシンプルな認証のテストページで、ユーザー名とパスワードが `'tomsmith'`と `'SuperSecretPassword!'` に決まっている。ログインに成功すると、ログイン後のページにリダイレクトされるため、ログインの流れ全体をテストするのに適している。\n",
        "\n",
        "  * https://the-internet.herokuapp.com/login\n",
        "\n",
        "このテストページのフォームは次のようになっている。\n",
        "\n",
        "``` html\n",
        "<form name=\"login\" id=\"login\" action=\"/authenticate\" method=\"post\" >\n",
        "   <div class=\"row\">\n",
        "    <div class=\"large-6 small-12 columns\">\n",
        "      <label for=\"username\">Username</label>\n",
        "      <input type=\"text\" name=\"username\" id=\"username\" />\n",
        "    </div>\n",
        "  </div>\n",
        "  <div class=\"row\">\n",
        "    <div class=\"large-6 small-12 columns\">\n",
        "      <label for=\"password\">Password</label>\n",
        "      <input type=\"password\" name=\"password\" id=\"password\" />\n",
        "    </div>\n",
        "  </div>\n",
        "    <button class=\"radius\" type=\"submit\"><i class=\"fa fa-2x fa-sign-in\"> Login</i></button>\n",
        "</form>\n",
        "```\n",
        "\n",
        "したがって、認証をパスするには `https://the-internet.herokuapp.com/authenticate` に対し `POST` リクエストでフォームデータを送信すればよい。コードは以下のようになる。"
      ],
      "metadata": {
        "id": "E6w-VIkvSVhF"
      }
    },
    {
      "cell_type": "code",
      "source": [
        "import urllib.request\n",
        "import urllib.parse\n",
        "import html5lib\n",
        "\n",
        "# Cookie を扱うハンドラを作成\n",
        "cookie_handler = urllib.request.HTTPCookieProcessor()\n",
        "\n",
        "# opener を構築（User-Agent も設定可能）\n",
        "opener = urllib.request.build_opener(cookie_handler)\n",
        "opener.addheaders = [('User-Agent', 'Mozilla/5.0 (compatible; Python urllib)')]\n",
        "\n",
        "# ログインデータの準備\n",
        "form_data = {\n",
        "    'username': 'tomsmith',\n",
        "    'password': 'SuperSecretPassword!'\n",
        "}\n",
        "encoded_data = urllib.parse.urlencode(form_data).encode('utf-8')\n",
        "\n",
        "# ログインリクエスト（POST）\n",
        "login_url = \"https://the-internet.herokuapp.com/authenticate\"\n",
        "login_request = urllib.request.Request(login_url, data=encoded_data, method='POST')\n",
        "login_response = opener.open(login_request)\n",
        "\n",
        "# ログイン後のページへ遷移\n",
        "assert login_response.url == \"https://the-internet.herokuapp.com/secure\"\n",
        "\n",
        "# セキュアページの内容\n",
        "secure_response = opener.open(login_response.url)\n",
        "secure_content = secure_response.read().decode('utf-8')\n",
        "\n",
        "# html5lib でセキュアページに表示されるメッセージを取得\n",
        "doc = html5lib.parse(secure_content, namespaceHTMLElements=False)\n",
        "messages = doc.find('.//h4')\n",
        "print(\"メッセージ:\", messages.text.strip())"
      ],
      "metadata": {
        "id": "lacX6RBjbF9D",
        "colab": {
          "base_uri": "https://localhost:8080/"
        },
        "outputId": "269b8bc1-110f-473e-e045-09553c2c4ad3"
      },
      "execution_count": null,
      "outputs": [
        {
          "output_type": "stream",
          "name": "stdout",
          "text": [
            "メッセージ: Welcome to the Secure Area. When you are done click logout below.\n"
          ]
        }
      ]
    }
  ]
}