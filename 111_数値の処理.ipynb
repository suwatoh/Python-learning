{
  "nbformat": 4,
  "nbformat_minor": 0,
  "metadata": {
    "colab": {
      "provenance": [],
      "toc_visible": true,
      "authorship_tag": "ABX9TyNHTvq9sMXk9H1UQHBx1fYj",
      "include_colab_link": true
    },
    "kernelspec": {
      "name": "python3",
      "display_name": "Python 3"
    },
    "language_info": {
      "name": "python"
    }
  },
  "cells": [
    {
      "cell_type": "markdown",
      "metadata": {
        "id": "view-in-github",
        "colab_type": "text"
      },
      "source": [
        "<a href=\"https://colab.research.google.com/github/suwatoh/Python-learning/blob/main/111_%E6%95%B0%E5%80%A4%E3%81%AE%E5%87%A6%E7%90%86.ipynb\" target=\"_parent\"><img src=\"https://colab.research.google.com/assets/colab-badge.svg\" alt=\"Open In Colab\"/></a>"
      ]
    },
    {
      "cell_type": "markdown",
      "source": [
        "数値の処理\n",
        "=========="
      ],
      "metadata": {
        "id": "WdoTnSlEAzUj"
      }
    },
    {
      "cell_type": "markdown",
      "source": [
        "数値型\n",
        "------"
      ],
      "metadata": {
        "id": "2AXlIvZ545Dc"
      }
    },
    {
      "cell_type": "markdown",
      "source": [
        "Python の組み込み数値型は、3 種類あり、整数（`int`）型、浮動小数点数（`float`）型、複素数（`complex`）型である。さらに、ブール（`bool`）型は整数型のサブタイプである。\n",
        "\n",
        "組み込み数値型のオブジェクトは、共通して `real` 属性、`imag` 属性、`conjugate()` メソッドを持つ。これらは、複素数の属性、メソッドに対するダックタイピングの互換性のために存在している。複素数以外のオブジェクトでは、`real` 属性と `conjugate()` メソッドは値そのものを返し、`imag` 属性は `0` や `0.0` を返す。"
      ],
      "metadata": {
        "id": "2DnRsUk3KWIP"
      }
    },
    {
      "cell_type": "markdown",
      "source": [
        "### 整数型 ###"
      ],
      "metadata": {
        "id": "KGnAQgZB_FfC"
      }
    },
    {
      "cell_type": "markdown",
      "source": [
        "組み込みの `int` 型は、Python の整数型である。公式配布の C による Python 実装（CPython）では、`int` 型は任意の長さの数を扱うために内部的には配列で数値を管理している。このデータ構造は、一般に **BigNum**（ビッグナム）または**多倍長整数**として知られている。\n",
        "\n",
        "BigNum のメリットは、メモリの許す限り任意の桁数の整数値を表現できて、桁あふれ（オーバーフロー）が起こらないことである。\n",
        "\n",
        "BigNum のデメリットは、基本的な演算（加算、減算、乗算、除算、比較など）が、CPU による直接的なサポート（直接専用回路での演算）を受けられず、桁を一つずつ処理する形となって、非常に計算コストが高くなることである。\n",
        "\n",
        "修飾のない整数表現（**整数リテラル**）は、整数を生成する。\n",
        "\n",
        "接頭辞を付けて基数を表すことができる:\n",
        "\n",
        "| 接頭辞 | 基数 | 使用可能文字 |\n",
        "|:---|:---|:---|\n",
        "| `0b` または `0B` | 2 （進数） | `0`, `1` |\n",
        "| `0o` または `0O` | 8 （進数） | `0`, `1`, `2`, `3`, `4`, `5`, `6`, `7` |\n",
        "| `0x` または `0X` | 16 （進数） | `0`, `1`, `2`, `3`, `4`, `5`, `6`, `7`, `8`, `9`, `A`, `B`, `C`, `D`, `E`, `F`（大文字小文字の区別なし） |\n",
        "\n",
        "なお、`0` でない 10 進数の先頭には `0` を付けられない（たとえば `01` は `1` とは解釈されない）。\n",
        "\n",
        "整数リテラルでは、アンダースコア `_` を使って数字をグループ化することで読みやすくできる。アンダースコアは、 2 つ以上つなげたり、数字の間以外の場所に使うことはできない。\n",
        "\n",
        "整数リテラルの例をいくつか示す:\n",
        "\n",
        "``` python\n",
        "7\n",
        "100_000_000_000\n",
        "0b100110111\n",
        "0b_1110_0101\n",
        "0o177\n",
        "0xdeadbeef\n",
        "```\n",
        "\n",
        "組み込み関数 `int()` は整数型のコンストラクタである。\n",
        "\n",
        "``` python\n",
        "int(number=0, /)\n",
        "int(string, /, base=10)\n",
        "```\n",
        "\n",
        "コンストラクタは、第 1 引数（位置専用引数）の数または文字列から生成された整数オブジェクトを返す。引数が指定されない場合は `0` を返す。\n",
        "\n",
        "第 1 引数に数値を指定する場合は、整数型への型変換となる。型変換の際に、整数に含まれない情報（小数点以下の桁）は捨てられる。第 1 引数に複素数を指定することはできない。\n",
        "\n",
        "第 1 引数に文字列を指定する場合は、第 2 引数 `base` で基数を指定できる。 `base` 引数を省略した時は基数が 10 とされる（つまり、第 1 引数は 10 進数表現として解釈される）。第 1 引数の文字列は、先頭に `+` または `-` を伴ったり（符号と数値の間に空白文字を入れてはいけない）、数値の先頭に任意の数のゼロを付けたり、前後に空白文字を付けたり、各桁を 1 つだけのアンダースコアで区切ったりしてもよい。基数を `0` に指定した場合、第 1 引数の文字列は整数リテラルと同じように解釈される。第 1 引数の文字列が有効な数値表現でない場合、`ValueError` が発生する。"
      ],
      "metadata": {
        "id": "6VDLDWui_Gn2"
      }
    },
    {
      "cell_type": "code",
      "source": [
        "assert int() == 0\n",
        "assert int(123.45) == 123  # 小数点以下切り捨て\n",
        "assert int('123') == 123\n",
        "assert int('   -12_345\\n') == -12345\n",
        "assert int('01110011', base=2) == 115\n",
        "assert int('FACE', 16) == int('0xface', 0) == 64206\n",
        "try:\n",
        "    int('Hello World')\n",
        "except Exception as e:\n",
        "    print(f\"{type(e).__name__}: {e}\")"
      ],
      "metadata": {
        "id": "NII2-wbC_JKt",
        "colab": {
          "base_uri": "https://localhost:8080/"
        },
        "outputId": "e50fa13b-874d-4a09-9823-ddb467062414"
      },
      "execution_count": null,
      "outputs": [
        {
          "output_type": "stream",
          "name": "stdout",
          "text": [
            "ValueError: invalid literal for int() with base 10: 'Hello World'\n"
          ]
        }
      ]
    },
    {
      "cell_type": "markdown",
      "source": [
        "BigNum と文字列の間の変換アルゴリズムは、基数が 2 のべき乗（2進数、8進数、16進数などの場合）でない限り、計算量が桁数 `n` に対して $O(n^2)$ となることに注意する。膨大な計算量が DoS 攻撃（Denial of Service attack; サービス拒否攻撃）に悪用される可能性があったことから、Python 3.10.7（および、同日公開されたバージョン 3.9.14, 3.8.14）以降では、<font color=\"red\">整数と文字列の変換が `sys.int_info.default_max_str_digits` 桁（デフォルトで 4300 桁）までに制限されるようになった</font>（制限違反の場合は `ValueError` を送出する）。ただし、この制限は基数が 2 のべき乗の場合には適用されない（`int(string, base)` の呼び出しで `base` が `2`、`4`、`8`、`16` または `32` の場合は制限がない）。\n",
        "\n",
        "あくまでも整数・文字列変換が制限されるだけで、`int` 型自体は 4300 桁より大きい値を保持できる。"
      ],
      "metadata": {
        "id": "DvHDqP-AdlLc"
      }
    },
    {
      "cell_type": "code",
      "source": [
        "import sys\n",
        "print(f\"{sys.int_info.default_max_str_digits=}\")\n",
        "i = int('1' * 4301, base=2)  # 2 進数としての変換はエラーにならない\n",
        "assert int('1' * 4300, base=2) < i\n",
        "try:\n",
        "    i = int('1' * 4301)\n",
        "except Exception as e:\n",
        "    print(f\"{type(e).__name__}: {e}\")"
      ],
      "metadata": {
        "colab": {
          "base_uri": "https://localhost:8080/"
        },
        "id": "M60N7jMQdnYN",
        "outputId": "520211e9-2d18-43d0-8a99-141985fef7d6"
      },
      "execution_count": null,
      "outputs": [
        {
          "output_type": "stream",
          "name": "stdout",
          "text": [
            "sys.int_info.default_max_str_digits=4300\n",
            "ValueError: Exceeds the limit (4300 digits) for integer string conversion: value has 4301 digits; use sys.set_int_max_str_digits() to increase the limit\n"
          ]
        }
      ]
    },
    {
      "cell_type": "markdown",
      "source": [
        "整数オブジェクトは以下の追加のメソッドを持つ。\n",
        "\n",
        "| メソッド | 機能 | 戻り値 |\n",
        "|:---|:---|:---|\n",
        "| `as_integer_ratio()` | 整数の値を有理数として表現する（分母が常に `1`） | `tuple` |\n",
        "| `is_integer()` | `int` では常に `True` を返す（Python 3.12 で追加） | `True` |\n",
        "\n",
        "`is_integer()` メソッドは、浮動小数点数の `is_integer()` メソッドに対するダックタイピングの互換性のために存在している。"
      ],
      "metadata": {
        "id": "tD2r1LPiaM1h"
      }
    },
    {
      "cell_type": "code",
      "source": [
        "assert (123).as_integer_ratio() == (123, 1)"
      ],
      "metadata": {
        "id": "AYCPy2braNvY"
      },
      "execution_count": null,
      "outputs": []
    },
    {
      "cell_type": "markdown",
      "source": [
        "### ブール型 ###"
      ],
      "metadata": {
        "id": "0Ctyf62AyitH"
      }
    },
    {
      "cell_type": "markdown",
      "source": [
        "ブール型（または論理型、真偽値型）のインスタンスはシングルトンの `False` と `True` の 2 つのみであり、それぞれ `0` と `1` に等価である。しかし、その等価性に頼ることは推奨されない。例えば、ブール型の値を持つ `flag` 変数に対して `1 + flag` のような書き方をしない。`int()` を使って明示的に整数型に変換する方がよい。\n",
        "\n",
        "組み込み関数 `bool()` はブール型のコンストラクタである。\n",
        "\n",
        "``` python\n",
        "bool(object=False, /)\n",
        "```\n",
        "\n",
        "コンストラクタは、引数（位置専用引数）のオブジェクトに対する真理値の判定を返す。引数が省略された場合、`False` を返す。"
      ],
      "metadata": {
        "id": "ddiw7pxZPyCE"
      }
    },
    {
      "cell_type": "code",
      "source": [
        "assert bool(0) is bool() is False == 0  # 引数なしのコンストラクタは False を返す\n",
        "assert bool(object) is True == 1"
      ],
      "metadata": {
        "id": "Yv_5GEKPPzZg"
      },
      "execution_count": null,
      "outputs": []
    },
    {
      "cell_type": "markdown",
      "source": [
        "### 浮動小数点数型 ###"
      ],
      "metadata": {
        "id": "hyOBzcvGSFao"
      }
    },
    {
      "cell_type": "markdown",
      "source": [
        "組み込みの `float` 型は、Python の浮動小数点数型（実数型）である。CPython の実装では IEEE 754 の倍精度浮動小数点数形式（C の double）とされ、固定長 64 ビットのメモリ領域に以下のビット構成が格納される（画像は [Wikimedia Commons](https://commons.wikimedia.org/wiki/File:IEEE_754_Double_Floating_Point_Format.svg) より）。\n",
        "\n",
        "  * 符号部（sign） 1 ビット\n",
        "  * 指数部（exponent） 11 ビット\n",
        "  * 仮数部（fraction） 52 ビット\n",
        "\n",
        "![](https://upload.wikimedia.org/wikipedia/commons/thumb/a/a9/IEEE_754_Double_Floating_Point_Format.svg/927px-IEEE_754_Double_Floating_Point_Format.svg.png?20080221214644)\n",
        "\n",
        "この形式で表現する値は\n",
        "\n",
        "  * (−1)<sup>符号部</sup> × 2<sup>指数部 − 1023</sup> ×（1 + 仮数部）\n",
        "\n",
        "となる。「1 + 仮数部」は数の表現（2 進表現）に使われる数字の並び（2 進仮数）を表し、「指数部 − 1023」は小数点の位置を表す。\n",
        "\n",
        "「1 + 仮数部」、は**正規化**された形式とよばれ、2 進仮数を常に「1.xxxxx」のように小数点より上の桁を 1 だけにする約束の下、その 1 を省略して仮数部 52 ビットに格納するので 1 を加えている。\n",
        "\n",
        "したがって、通常の数の精度（有効桁数）は 53 ビット相当である。「指数部 − 1023」が 53 以上のときに小数点以下は必ず 0 になる（つまり整数）。ただし、「指数部 − 1023」が 54 のとき、下位 1 ビットは必ず 0 になるから 2 の倍数しか表現されない。「指数部 − 1023」が 55 のときは、4 の倍数しか表現されない。このため、`float` 型で任意の整数を確実に表現できるのは、$\\pm 2^{53} = \\pm 9007199254740992$ での範囲に限られる。`float` 型で大きな値を計算するときは注意が必要。"
      ],
      "metadata": {
        "id": "LaqVaGE2SGLx"
      }
    },
    {
      "cell_type": "code",
      "source": [
        "assert 2.0 ** 53 == 2.0 ** 53 + 1.0  # float では 2.0 ** 53 + 1.0 を表現できず、丸めが発生"
      ],
      "metadata": {
        "id": "p5fHSpYRHdjl"
      },
      "execution_count": 1,
      "outputs": []
    },
    {
      "cell_type": "markdown",
      "source": [
        "11 ビットの最大値が 10 進整数で 2047 となるから、「指数部 − 1023」は 1024 が最大になるが、指数部の最大値は通常の数の表現には使わない約束となっている。したがって、`float` 型の最大値は $(2-2^{-52})\\times 2^{1023}\\approx 1.7976931348623157\\times 10^{308}$ である。これは `sys.float_info.max` で取得できる。"
      ],
      "metadata": {
        "id": "bPnf6X7sIG13"
      }
    },
    {
      "cell_type": "code",
      "source": [
        "import sys\n",
        "print(f\"{sys.float_info.max=}\")"
      ],
      "metadata": {
        "colab": {
          "base_uri": "https://localhost:8080/"
        },
        "id": "ufe2Q3O4bqdu",
        "outputId": "f348862f-25b7-42f6-cae5-bb460f7f6c9c"
      },
      "execution_count": 2,
      "outputs": [
        {
          "output_type": "stream",
          "name": "stdout",
          "text": [
            "sys.float_info.max=1.7976931348623157e+308\n"
          ]
        }
      ]
    },
    {
      "cell_type": "markdown",
      "source": [
        "`3.14` のような固定小数点表記と、`3.14e-10` のような指数表記（**浮動小数点数リテラル**）は、浮動小数点数を生成する。これらの表記では\n",
        "\n",
        "  * 小数点の前だけ、または小数点の後ろだけを省略した表記 `.001`, `10.` も可能である。\n",
        "  * 整数リテラルと同様に、桁のグループ化にはアンダースコア `_` がサポートされる。\n",
        "\n",
        "浮動小数点数リテラルは、常に `10` 進数で解釈される。\n",
        "\n",
        "組み込み関数 `float()` は、浮動小数点数型のコンストラクタである。\n",
        "\n",
        "``` python\n",
        "float(number=0.0, /)\n",
        "float(string, /)\n",
        "```\n",
        "\n",
        "コンストラクタは、第 1 引数（位置専用引数）の数または文字列から生成された浮動小数点数オブジェクトを返す。引数が指定されない場合は `0.0` を返す。\n",
        "\n",
        "第 1 引数に数値を指定する場合は、浮動小数点数型への型変換となる。第 1 引数に複素数を指定することはできない。浮動小数点数で扱える範囲の外にある整数から浮動小数点数への変換は `OverflowError` 例外を送出する。\n",
        "\n",
        "第 1 引数に文字列を指定して普通の浮動小数点数を得るには、その引数は 10 進文字列表現でなければならない。先頭に符号または空白を含んでいてもよいが、浮動小数点リテラルの表記規則に従う必要がある。第 1 引数の文字列が有効な数値表現でない場合、`ValueError` が発生する。"
      ],
      "metadata": {
        "id": "z-jz72V8cbar"
      }
    },
    {
      "cell_type": "code",
      "source": [
        "assert float() == 0.0\n",
        "assert float(123) == 123.0\n",
        "try:\n",
        "    float(10 ** 309)  # 引数が sys.float_info.max より大きい整数\n",
        "except Exception as e:\n",
        "    print(f\"{type(e).__name__}: {e}\")\n",
        "assert float('+1.23') == 1.23\n",
        "assert float('   -12345\\n') == -12345.0\n",
        "assert float('1e-003') == 0.001\n",
        "assert float('+1E6') == 1000000.0\n",
        "assert float('.12') == 0.12  # 整数部に 0 が補完されて変換される\n",
        "assert float('100') == 100.  # 整数の文字列も float 型の数値に変換される\n",
        "try:\n",
        "    float('Hello World')\n",
        "except Exception as e:\n",
        "    print(f\"{type(e).__name__}: {e}\")"
      ],
      "metadata": {
        "id": "XKscVINHYZrF",
        "colab": {
          "base_uri": "https://localhost:8080/"
        },
        "outputId": "59f6373c-b787-4850-e6fe-b547acfa1bd8"
      },
      "execution_count": null,
      "outputs": [
        {
          "output_type": "stream",
          "name": "stdout",
          "text": [
            "OverflowError: int too large to convert to float\n",
            "ValueError: could not convert string to float: 'Hello World'\n"
          ]
        }
      ]
    },
    {
      "cell_type": "markdown",
      "source": [
        "浮動小数点数オブジェクトは以下の追加のメソッドを持つ。\n",
        "\n",
        "| メソッド | 機能 | 戻り値 |\n",
        "|:---|:---|:---|\n",
        "| `as_integer_ratio()` | 値を有理数として表現する | `tuple` |\n",
        "| `is_integer()` | 値が有限の整数値なら `True` を、そうでなければ `False` を返す | `bool` |\n",
        "| `hex()` | 16 進文字列表現を返す。有限の浮動小数点数に対し、この表現は常に `'0x'` で始まり `'p'` と指数が続く | `str` |\n",
        "| `fromhex(s)` | クラスメソッド。`hex()` の逆の変換を行う | `float` |"
      ],
      "metadata": {
        "id": "xhwuWipb7E6o"
      }
    },
    {
      "cell_type": "code",
      "source": [
        "assert (2.75).as_integer_ratio() == (11, 4)  # 11/4\n",
        "assert (-2.0).is_integer()\n",
        "x = (2.75).hex()\n",
        "print(f\"{x=}\")\n",
        "assert float.fromhex(x) == 2.75"
      ],
      "metadata": {
        "colab": {
          "base_uri": "https://localhost:8080/"
        },
        "id": "EefgWJAH7Id1",
        "outputId": "dd6effe8-b25b-448d-c7fb-6096d063458c"
      },
      "execution_count": null,
      "outputs": [
        {
          "output_type": "stream",
          "name": "stdout",
          "text": [
            "x='0x1.6000000000000p+1'\n"
          ]
        }
      ]
    },
    {
      "cell_type": "markdown",
      "source": [
        "### 計算機イプシロン ###"
      ],
      "metadata": {
        "id": "vDPkSrmKiD9R"
      }
    },
    {
      "cell_type": "markdown",
      "source": [
        "IEEE 754 浮動小数点規格では、仮数部の精度が 1 より大きい最小の数の限界となる。この限界（つまり 1 より大きい最小の数と 1 との差）のことを**計算機イプシロン**（machine epsilon）といい、 $\\epsilon$ で表す。\n",
        "\n",
        "CPython が採用する倍精度浮動小数点数形式では、$\\epsilon=2^{{1-53}}$ となる。この数値は、`sys.float_info.epsilon` で確認できる。"
      ],
      "metadata": {
        "id": "pvTjaGFtiF5z"
      }
    },
    {
      "cell_type": "code",
      "source": [
        "import sys\n",
        "sys.float_info.epsilon"
      ],
      "metadata": {
        "colab": {
          "base_uri": "https://localhost:8080/"
        },
        "id": "scZuiT3yo3wj",
        "outputId": "894f2ede-ee53-4ba9-fef0-5cb03301450c"
      },
      "execution_count": null,
      "outputs": [
        {
          "output_type": "execute_result",
          "data": {
            "text/plain": [
              "2.220446049250313e-16"
            ]
          },
          "metadata": {},
          "execution_count": 5
        }
      ]
    },
    {
      "cell_type": "markdown",
      "source": [
        "コンピューターで扱う数値は 2 進数であり、分数が\n",
        "\n",
        "$$\n",
        "\\dfrac{a}{2^n}\n",
        "$$\n",
        "\n",
        "という形になる値でない限り、無限小数になる。2 進小数への変換に伴う誤差と計算機イプシロンの存在により、コンピューターによる小数計算の結果は、 10 進法での計算結果とは異なることが多い（公式チュートリアルのトピック「[浮動小数点演算、その問題と制限](https://docs.python.org/ja/3/tutorial/floatingpoint.html#tut-fp-issues)」参照）。"
      ],
      "metadata": {
        "id": "hr1iphxWQR29"
      }
    },
    {
      "cell_type": "code",
      "source": [
        "assert 0.1 + 0.1 + 0.1 != 0.3"
      ],
      "metadata": {
        "id": "kdXx45nUNdTN"
      },
      "execution_count": null,
      "outputs": []
    },
    {
      "cell_type": "markdown",
      "source": [
        "### 複素数型 ###"
      ],
      "metadata": {
        "id": "VCXSu8qLbP4y"
      }
    },
    {
      "cell_type": "markdown",
      "source": [
        "組み込みの `complex` 型は、Python の複素数型である。CPython で複素数は C 構造体であり、実部と虚部を 2 つの倍精度浮動小数点数形式で保持する。\n",
        "\n",
        "整数リテラルまたは浮動小数点数リテラルに `'j'` または `'J'` をつけた表現（**虚数リテラル**）は純虚数（実部が `0.0` の複素数）を生成し、それに整数や浮動小数点数を加えることにより実部と虚部を持つ複素数を得ることができる（例: `3+4j`）。\n",
        "\n",
        "組み込み関数 `complex()` は、複素数型のコンストラクタである。\n",
        "\n",
        "``` python\n",
        "complex(number=0, /)\n",
        "complex(string, /)\n",
        "complex(real=0, imag=0)\n",
        "```\n",
        "\n",
        "コンストラクタは、1 つの位置専用引数を受け取る形式であるか、または、2 つの引数 `real`（実部）と `imag`（虚部）を受け取る形式であり、それらから生成された複素数オブジェクトを返す。引数が指定されない場合は `0.0` を返す。"
      ],
      "metadata": {
        "id": "h-R-FQ2TbQt3"
      }
    },
    {
      "cell_type": "code",
      "source": [
        "assert complex() == 0\n",
        "assert complex('+1.23') == 1.23+0j\n",
        "assert complex('\\t( -1.23+4.5J )\\n') == complex(-1.23, 4.5) == -1.23+4.5j\n",
        "assert complex(imag=-4.5) == -4.5j"
      ],
      "metadata": {
        "id": "5Gg9kpmJfIsU"
      },
      "execution_count": null,
      "outputs": []
    },
    {
      "cell_type": "markdown",
      "source": [
        "複素数オブジェクトの `real` 属性、`imag` 属性、`conjugate()` メソッドは、それぞれ実部、虚部、複素共役を返す:"
      ],
      "metadata": {
        "id": "A0Q411YghKPF"
      }
    },
    {
      "cell_type": "code",
      "source": [
        "assert (1+3j).real == 1.0  # 実部\n",
        "assert (1+3j).imag == 3.0  # 虚部\n",
        "assert (1+3j).conjugate() == (1-3j)  # 複素共役"
      ],
      "metadata": {
        "id": "cAIJHhKdhLKB"
      },
      "execution_count": null,
      "outputs": []
    },
    {
      "cell_type": "markdown",
      "source": [
        "### 算術・比較演算の型規則 ###"
      ],
      "metadata": {
        "id": "LylB_PrPMl5A"
      }
    },
    {
      "cell_type": "markdown",
      "source": [
        "数値は変更不可能（イミュータブル）なオブジェクトである。数値の算術演算は、新しい数値オブジェクトを返す。戻り値の型は以下のようになる。\n",
        "\n",
        "| 演算 | `int` 同士 | `float` 同士 | `int` と `float` | `complex` 同士 | `int` / `float` と `complex` | 備考 |\n",
        "|:--:|:--:|:--:|:--:|:--:|:--:|:---|\n",
        "| `x + y` （足し算） | `int` | `float` | `float` | `complex` | `complex` | |\n",
        "| `x - y` （引き算） | `int` | `float` | `float` | `complex` | `complex` | |\n",
        "| `x * y` （掛け算） | `int` | `float` | `float` | `complex` | `complex` | |\n",
        "| `x / y` （割り算） | `float` | `float` | `float` | `complex` | `complex` | |\n",
        "| `x // y` （整数除算） | `int` | `float` | `float` | 非サポート | 非サポート | `x` と `y` の商を切り下げたもの |\n",
        "| `x % y` （剰余演算） | `int` | `float` | `float` | 非サポート | 非サポート | |\n",
        "| `x ** y` （べき乗） | `int` | `float` | `float` | `complex` | `complex` | |\n",
        "\n",
        "複素数を含まない場合を要約すると\n",
        "\n",
        "  1. 割り算（`/`）は常に浮動小数点数を返す。\n",
        "  2. 浮動小数点数を含む計算は常に浮動小数点数を返す。\n",
        "  3. 整数同士の計算は、割り算（`/`）を除き、整数を返す。"
      ],
      "metadata": {
        "id": "e-F5GY5BMm09"
      }
    },
    {
      "cell_type": "code",
      "source": [
        "print(f\"{1+0.0=}\")\n",
        "print(f\"{3.4-0.4=}\")\n",
        "print(f\"{6/2=}\")"
      ],
      "metadata": {
        "colab": {
          "base_uri": "https://localhost:8080/"
        },
        "id": "2z1YwPuNdy1d",
        "outputId": "7834e13e-2761-47f9-cb6b-ad9e35f7ae05"
      },
      "execution_count": null,
      "outputs": [
        {
          "output_type": "stream",
          "name": "stdout",
          "text": [
            "1+0.0=1.0\n",
            "3.4-0.4=3.0\n",
            "6/2=3.0\n"
          ]
        }
      ]
    },
    {
      "cell_type": "markdown",
      "source": [
        "Python で算術演算は、`*` を除いて、数と数以外の組み込み型インスタンスとの間で定義されておらず、被演算子（オペランド）に対する暗黙的な型変換も起こらない（単に `TypeError` 例外が発生する）。"
      ],
      "metadata": {
        "id": "1RUvZ48ilbei"
      }
    },
    {
      "cell_type": "code",
      "source": [
        "try:\n",
        "    1 + \"1\"\n",
        "except Exception as e:\n",
        "    print(f\"{type(e).__name__}: {e}\")"
      ],
      "metadata": {
        "colab": {
          "base_uri": "https://localhost:8080/"
        },
        "id": "MDzKzCNKlcAW",
        "outputId": "14c92a26-eb2b-4354-cc71-117bb82b8d09"
      },
      "execution_count": null,
      "outputs": [
        {
          "output_type": "stream",
          "name": "stdout",
          "text": [
            "TypeError: unsupported operand type(s) for +: 'int' and 'str'\n"
          ]
        }
      ]
    },
    {
      "cell_type": "markdown",
      "source": [
        "数値と文字列の間での `*` 演算は、文字列を数値の回数だけ繰り返して連結した新しい文字列を返す。ここでも、被演算子に対する暗黙的な型変換は起こらない。"
      ],
      "metadata": {
        "id": "jjKhyzNeGm3w"
      }
    },
    {
      "cell_type": "code",
      "source": [
        "'123' * 4, 5 * '100'"
      ],
      "metadata": {
        "colab": {
          "base_uri": "https://localhost:8080/"
        },
        "id": "Yx_6cf-7Gnob",
        "outputId": "7e504231-2654-4410-b701-5127f423b862"
      },
      "execution_count": null,
      "outputs": [
        {
          "output_type": "execute_result",
          "data": {
            "text/plain": [
              "('123123123123', '100100100100100')"
            ]
          },
          "metadata": {},
          "execution_count": 6
        }
      ]
    },
    {
      "cell_type": "markdown",
      "source": [
        "なお、Python の正符号単項演算子 `+` と負符号単項演算子 `-` は、数に対してのみ有効であり、JavaScript のような文字列から数値への変換は行われないことに注意する。"
      ],
      "metadata": {
        "id": "mj1NaEaCgfCs"
      }
    },
    {
      "cell_type": "code",
      "source": [
        "x = 1\n",
        "assert +x == 1\n",
        "assert -x == -1  # 符号反転\n",
        "try:\n",
        "    +\"1\"  # 整数 1 に変換されない（エラーとなる）\n",
        "except Exception as e:\n",
        "    print(f\"{type(e).__name__}: {e}\")"
      ],
      "metadata": {
        "colab": {
          "base_uri": "https://localhost:8080/"
        },
        "id": "2vrIMvGxgfhd",
        "outputId": "7e07a84c-b124-4bd4-aca4-08f1076e8eca"
      },
      "execution_count": null,
      "outputs": [
        {
          "output_type": "stream",
          "name": "stdout",
          "text": [
            "TypeError: bad operand type for unary +: 'str'\n"
          ]
        }
      ]
    },
    {
      "cell_type": "markdown",
      "source": [
        "整数と浮動小数点数との間では比較が可能である。一方、比較演算は、数と数以外の組み込み型インスタンスとの間で定義されておらず、被演算子に対する暗黙的な型変換も起こらない（単に `TypeError` 例外が発生する）。"
      ],
      "metadata": {
        "id": "0NxGRchXWx0B"
      }
    },
    {
      "cell_type": "code",
      "source": [
        "assert 1 == 1.0\n",
        "assert 1 < 1.01\n",
        "try:\n",
        "    1 < \"2\"\n",
        "except Exception as e:\n",
        "    print(f\"{type(e).__name__}: {e}\")"
      ],
      "metadata": {
        "id": "ykxffKYpcn-9",
        "colab": {
          "base_uri": "https://localhost:8080/"
        },
        "outputId": "c12feb91-5ffa-4fc3-e5ee-477443fecd71"
      },
      "execution_count": null,
      "outputs": [
        {
          "output_type": "stream",
          "name": "stdout",
          "text": [
            "TypeError: '<' not supported between instances of 'int' and 'str'\n"
          ]
        }
      ]
    },
    {
      "cell_type": "markdown",
      "source": [
        "### 抽象基底クラス ###"
      ],
      "metadata": {
        "id": "GB-ie0dRMU_M"
      }
    },
    {
      "cell_type": "markdown",
      "source": [
        "標準ライブラリの `numbers` は、数の抽象基底クラスの階層を定義している。\n",
        "\n",
        "| ABC | 意味 | 継承しているクラス | 受け付ける演算・関数 | 抽象メソッド・抽象プロパティ |\n",
        "|:---|:---|:---|:---|:---|\n",
        "| `Number` | 数の階層のルート | | | | |\n",
        "| `Complex` | この型のサブクラスは複素数を表す | `Number` | `+`, `-`, `*`, `/`, `**`, `complex()`, `bool()`, `abs()`, `==`, `!=` | `conjugate()`, `real`, `imag` |\n",
        "| `Real` | 実数を扱う演算を追加したもの | `Complex` | `+`, `-`, `*`, `/`, `**`, `complex()`, `bool()`, `abs()`, `==`, `!=`<br />`float()`, `round()`, `divmod()`, `//`, `%`, `<`, `<=`, `>`, `>=` | `conjugate()`, `real`, `imag` |\n",
        "| `Rational` | 有理数を扱うプロパティを加えたもの | `Real` | `Real` と同じ | `conjugate()`, `real`, `imag`,<br /> `numerator`, `denominator` |\n",
        "| `Integral` | 整数への変換を加えたもの | `Rational` |  `+`, `-`, `*`, `/`, `**`, `complex()`, `bool()`, `abs()`, `==`, `!=`<br />`int()`, `float()`, `round()`, `divmod()`, `//`, `%`, `<`, `<=`,<br /> `>`, `>=` | `conjugate()`, `real`, `imag`,<br /> `numerator`, `denominator` |\n",
        "\n",
        "引数 `x` が、種類は何であれ、数であるということだけチェックしたい場合、`isinstance(x, numbers.Number)` が使える。"
      ],
      "metadata": {
        "id": "pge7X0Pmyo1Q"
      }
    },
    {
      "cell_type": "code",
      "source": [
        "import numbers\n",
        "assert issubclass(numbers.Complex, numbers.Number)\n",
        "assert isinstance(complex(), numbers.Complex)\n",
        "assert isinstance(float(), numbers.Real)\n",
        "assert isinstance(int(), numbers.Integral)\n",
        "assert isinstance(bool(), numbers.Integral)"
      ],
      "metadata": {
        "id": "aPiyFNCxxRCC"
      },
      "execution_count": null,
      "outputs": []
    },
    {
      "cell_type": "markdown",
      "source": [
        "無限大\n",
        "------"
      ],
      "metadata": {
        "id": "jI9JJagsayS2"
      }
    },
    {
      "cell_type": "markdown",
      "source": [
        "浮動小数点数の演算が桁あふれを起こして、仮数部が 0 で、指数部が最大値になった状態は、符号が `-` でないなら**正の無限大**、符号が `-` なら**負の無限大**とされる。\n",
        "\n",
        "コンストラクタ `float()` は、引数に文字列 `'inf'` または `'infinity'` が指定されると、正の無限大を生成する。小文字と大文字の区別はなく、小文字と大文字が混ざっていても問題ない。また、文字列 `'-inf'` または `'-infinity'` が指定されると、負の無限大を生成する。小文字と大文字の区別がないことは同様。`float('-inf')` と `- float('inf')` は等価である。\n",
        "\n",
        "正の無限大も負の無限大も、浮動小数点数の特殊な値とされ、浮動小数点数オブジェクトのメソッドや、比較 `==`、`!=`、`<`、`>`、`<=`、`>=` の使用が可能である。ただし、以下のような扱いとなる。\n",
        "\n",
        "  * `as_integer_ratio()` メソッドは `OverflowError` 例外を送出する。\n",
        "  * 浮動小数点数との比較では、正の無限大はどの浮動小数点数よりも大きく、負の無限大はどの浮動小数点数よりも小さい。\n",
        "  * 整数との比較では、Python の整数表現に上限がないのであるが、正の無限大はどの整数よりも大きいとされ、負の無限大はどの整数よりも小さいとされる。また、無限大から整数への変換は `OverflowError` 例外を送出する。"
      ],
      "metadata": {
        "id": "KgjwypqhvVD3"
      }
    },
    {
      "cell_type": "code",
      "source": [
        "import sys\n",
        "\n",
        "inf = float(\"inf\")\n",
        "assert isinstance(inf, float)         # 無限大は float 型の値である\n",
        "assert inf > sys.float_info.max       # 正の無限大はどの浮動小数点数より大きい\n",
        "assert inf == sys.float_info.max * 2  # 意図的に桁あふれを起こさせる\n",
        "\n",
        "large_int = int(sys.float_info.max) * 2\n",
        "assert inf > large_int > sys.float_info.max  # 整数との比較でも、無限大は常に大きい\n",
        "try:\n",
        "    int(inf)\n",
        "except Exception as e:\n",
        "    print(f\"{type(e).__name__}: {e}\")"
      ],
      "metadata": {
        "id": "I6jxZq4fxa-L",
        "colab": {
          "base_uri": "https://localhost:8080/"
        },
        "outputId": "34dd317c-9d70-464f-b2fc-c44a547878dd"
      },
      "execution_count": null,
      "outputs": [
        {
          "output_type": "stream",
          "name": "stdout",
          "text": [
            "OverflowError: cannot convert float infinity to integer\n"
          ]
        }
      ]
    },
    {
      "cell_type": "markdown",
      "source": [
        "変数の値がひとたび正の無限大となると、その変数と、正の無限大でも負の無限大でもない値との和・差・積・商は正の無限大となる。負の無限大についても同様である。また、べき乗については、無限大の 0 乗は 1 で、1 の 無限大乗は 1 で、0 の 無限大乗は 0 で、それ以外は無限大となる。"
      ],
      "metadata": {
        "id": "4q94N5FP3k8S"
      }
    },
    {
      "cell_type": "code",
      "source": [
        "inf = float(\"inf\")\n",
        "assert inf + 1.0 == inf - 1.0 == inf * 2 == inf / 2 == inf ** 2 == 2 ** inf == inf\n",
        "assert inf ** 0 == 1 ** inf == 1"
      ],
      "metadata": {
        "id": "vSOGRQuM3lcx"
      },
      "execution_count": null,
      "outputs": []
    },
    {
      "cell_type": "markdown",
      "source": [
        "正の無限大（または負の無限大）同士の和・積・べき乗も定義され、いずれも正の無限大（または負の無限大）となる。"
      ],
      "metadata": {
        "id": "6SKEkC0J7LRn"
      }
    },
    {
      "cell_type": "code",
      "source": [
        "inf = float(\"inf\")\n",
        "assert inf + inf == inf * inf == inf ** inf == inf"
      ],
      "metadata": {
        "id": "Xwxow-CX7MgW"
      },
      "execution_count": null,
      "outputs": []
    },
    {
      "cell_type": "markdown",
      "source": [
        "標準ライブラリの `math` モジュールが提供する定数 `math.inf` は正の無限大を表す。また、`math.isinf(x)` 関数は `x` が正ないし負の無限大ならば `True` を返し、それ以外の場合に `False` を返す。"
      ],
      "metadata": {
        "id": "f-K-FCdK8_Wj"
      }
    },
    {
      "cell_type": "code",
      "source": [
        "import math\n",
        "import sys\n",
        "assert math.inf == float(\"inf\")\n",
        "assert math.isinf(sys.float_info.max * 2)"
      ],
      "metadata": {
        "id": "mKisgOG_9ANh"
      },
      "execution_count": null,
      "outputs": []
    },
    {
      "cell_type": "markdown",
      "source": [
        "非数\n",
        "----"
      ],
      "metadata": {
        "id": "G2NcYGaPAg2_"
      }
    },
    {
      "cell_type": "markdown",
      "source": [
        "**非数**は、NaN（**N**ot **a** **N**umber）と略し、主に浮動小数点演算において、不正な対象を与えられたために生じた結果を表す値またはシンボルとして使われる。IEEE 754 浮動小数点規格では、浮動小数点の指数部が最大値で、仮数部が 0 でない状態が NaN とされる。\n",
        "\n",
        "コンストラクタ `float()` は、引数に文字列 `'nan'` が指定されると、NaN を生成する。小文字と大文字の区別はなく、小文字と大文字が混ざっていても問題ない。\n",
        "\n",
        "NaN は浮動小数点数の特殊な値とされ、浮動小数点数オブジェクトのメソッドや、比較 `==`、`!=`、`<`、`>`、`<=`、`>=` の使用が可能である。ただし、以下のような扱いとなる。\n",
        "\n",
        "  * `as_integer_ratio()` メソッドは `ValueError` 例外を送出する。\n",
        "  * 比較はすべて `False` になる。NaN 同士でも同様。\n",
        "  * NaN 自体に対する真理値判定は `True`。 ※ JavaScript との違いに注意。\n",
        "  * NaN から整数への変換は `ValueError` 例外を送出する。\n",
        "\n",
        "変数の値が NaN であるかどうかを調べるには、`math.isnan()` 関数が使える。この関数の呼び出し `math.isnan(x)` は、 `x` が NaN ならば `True` を返し、それ以外の場合に `False` を返す。なお、モジュール定数 `math.nan` は NaN を表す。"
      ],
      "metadata": {
        "id": "6ncfpN15WX_Y"
      }
    },
    {
      "cell_type": "code",
      "source": [
        "import math\n",
        "nan = float(\"NaN\")\n",
        "assert isinstance(nan, float)  # NaN は float 型の値である\n",
        "assert bool(nan)\n",
        "assert not(nan < 0.0) and not(nan > 0.0) and nan != 0.0\n",
        "assert nan != nan\n",
        "assert math.isnan(nan)\n",
        "try:\n",
        "    int(nan)\n",
        "except Exception as e:\n",
        "    print(f\"{type(e).__name__}: {e}\")"
      ],
      "metadata": {
        "id": "jrD__5gsWo62",
        "colab": {
          "base_uri": "https://localhost:8080/"
        },
        "outputId": "8d88c02b-9bc4-431e-8c8b-6a36c7da39e9"
      },
      "execution_count": null,
      "outputs": [
        {
          "output_type": "stream",
          "name": "stdout",
          "text": [
            "ValueError: cannot convert float NaN to integer\n"
          ]
        }
      ]
    },
    {
      "cell_type": "markdown",
      "source": [
        "NaN を含む `+`, `-`, `*`, `/`, `**` などの演算結果はすべて NaN となる（NaN の伝搬）。また、正の無限大（または負の無限大）同士の差・商は、NaN となる。"
      ],
      "metadata": {
        "id": "eHQE4VLcAhsk"
      }
    },
    {
      "cell_type": "code",
      "source": [
        "import math\n",
        "a = math.nan - math.nan\n",
        "b = a + 1\n",
        "assert math.isnan(a)  # 無限大同士の差は NaN となる\n",
        "assert math.isnan(b)  # NaN を含む演算結果も NaN となる"
      ],
      "metadata": {
        "id": "6oAWk3dhrmyC"
      },
      "execution_count": null,
      "outputs": []
    },
    {
      "cell_type": "markdown",
      "source": [
        "数値演算\n",
        "--------"
      ],
      "metadata": {
        "id": "efVlqxwwa8LU"
      }
    },
    {
      "cell_type": "markdown",
      "source": [
        "### 組み込み関数 ###"
      ],
      "metadata": {
        "id": "nYDMTy34Gj3w"
      }
    },
    {
      "cell_type": "markdown",
      "source": [
        "以下は、数値演算を行う組み込み関数であり、引数の `x` や `y`、`z` は 浮動小数点数または整数である。\n",
        "\n",
        "| 関数 | 機能 | 戻り値 |\n",
        "|:---|:---|:--:|\n",
        "| `abs(x)` | `x` の絶対値を返す | 数値 |\n",
        "| `divmod(x, y)` | `(x // y, x % y)` という 2 要素タプルを返す | `tuple` |\n",
        "| `pow(x, y)` | `x ** y` と等価である | 数値 |\n",
        "| `pow(x, y, z)` | `x` の `y` 乗を `z` で割ったときの剰余を返す。`pow(x, y) % z` より効率よく計算される | 数値 |\n",
        "| `max(iterable, *, default, key=None)` | `iterable` の最大の要素が返される。`key` 引数は引数を 1 つ取る順序関数（`list.sort()` のもののように）<br />を指定できる。`default` 引数は `iterable` が空の場合に返すオブジェクトを指定する。`iterable` が空で<br /> `default` が与えられていない場合 `ValueError` 例外が送出される | 数値 |\n",
        "| `max(arg1, arg2, *args, key=None)` | 2 つ以上のキーワード無しの位置引数が与えられた場合、その位置引数の中で最大のものが返される。`key`<br /> は上と同じ | 数値 |\n",
        "| `min(iterable, *, default, key=None)` | `iterable` の最小の要素が返される。`default` と `key` は上と同じ | 数値 |\n",
        "| `min(arg1, arg2, *args, key=None)` | 2 つ以上のキーワード無しの位置引数が与えられた場合、その位置引数の中で最小のものが返される。`key`<br /> は上と同じ | 数値 |\n",
        "| `sum(iterable, /, start=0)` | `start` と `iterable` の総和を足した値を返す | 数値 |\n",
        "| `round(x[, n])` | 丸め処理を行う。内部的には `x.__round__(n)` を返す。`n` が省略された場合は `x.__round__(0)` を返す | 数値 |\n",
        "\n",
        "`x.__round__(n)` メソッドは、$10^{-n}$ の桁の精度に丸めた値を返す。\n",
        "\n",
        "  * 引数 `n` が `2` の場合、$10^{-2}\\;(=0.01)$ の桁の精度、すなわち小数点以下第 2 位に丸める。\n",
        "  * 引数 `n` が `1` の場合、$10^{-1}\\;(=0.1)$ の桁の精度、すなわち小数点以下第 1 位に丸める。\n",
        "  * 引数 `n` が `0` の場合は、元の値に最も近い整数を返す。\n",
        "\n",
        "丸め方は「$10^{-n}$ の倍数の中で最も近いものに丸める」というもの。たとえば、`1.234` を小数点以下第 1 位に丸める場合、`0.1` の倍数の中で `1.234` に一番近い `1.2` に丸める。`1.267` を小数点以下第 1 位に丸める場合、`0.1` の倍数の中で `1.267` に一番近い `1.3` に丸める。1 つ下の桁に対して四捨五入する処理に相当する。\n",
        "\n",
        "**「最も近いもの」が 2 つある場合は、どちらに丸めるのか予測しづらい**。一応、「偶数を選ぶ」というルールはあって、これは「偶数丸め」や「銀行家の丸め」と呼ばれる。たとえば `1.25` を小数点以下第 1 位に丸める場合、`0.1` の倍数の中では `1.2` も `1.3` も `1.25` に同等に「最も近いもの」であるが、`1.2` を選ぶ。つねに五入するのではなく、五入と五捨を偶奇性で決めてバランスをとっているのである。しかしながら、ほとんどの小数は浮動小数点数では正確に表せないため、人間が考えるルールどおりにはならない。たとえば、「偶数丸め」なら、`1.15` を小数点以下第 1 位に丸める場合に `1.2` になるはずだが、`round(1.15, 1)` は `1.1` を返す。\n",
        "\n",
        "なお、引数 `n` は負の整数とすることもできる。`n` が `-1` の場合は、1 の位で四捨五入する。`n` が `-2` の場合は、10 の位で四捨五入する。"
      ],
      "metadata": {
        "id": "RMunCXd_QYy1"
      }
    },
    {
      "cell_type": "code",
      "source": [
        "assert abs(-123) == 123\n",
        "assert abs(3+4j) == 5.0  # 複素数の絶対値: 3**2+4**2 の非負の平方根\n",
        "assert divmod(123, 45) == (2, 33)\n",
        "assert pow(2, 4) == 16\n",
        "assert pow(123, 45, 6) == 3\n",
        "assert max(24, 12, 6) == 24\n",
        "assert min(24, 12, 6) == 6\n",
        "assert sum([1, 2, 3], 100) == 106\n",
        "assert round(0.1234, 2) == 0.12\n",
        "assert round(0.1267, 2) == 0.13\n",
        "assert round(123.45, -2) == 100.0\n",
        "assert round(167.89, -2) == 200.0"
      ],
      "metadata": {
        "id": "rVYmMkLFSJry"
      },
      "execution_count": null,
      "outputs": []
    },
    {
      "cell_type": "markdown",
      "source": [
        "### 数学関数 ###"
      ],
      "metadata": {
        "id": "SEClweDLIVvm"
      }
    },
    {
      "cell_type": "markdown",
      "source": [
        "`math` モジュールは、多くの数学関数を提供している――関数の `x`, `y` 引数は浮動小数点数または整数である。\n",
        "\n",
        "**丸め**:\n",
        "\n",
        "| 関数 | 機能 | 戻り値 |\n",
        "|:---|:---|:---|\n",
        "| `math.ceil(x)` | `x` の天井（`x` 以上の最小の整数）を返す | `int` |\n",
        "| `math.floor(x)` | `x` の床（`x` 以下の最大の整数）を返す | `int` |\n",
        "| `math.trunc(x)` | `x` の小数点以下を切り捨てる | `int` |\n",
        "\n",
        "`round()`（四捨五入）、`math.ceil()`（切り上げ）、`math.floor()`（切り下げ）、`math.trunc()`（切り捨て）の違いは以下の通り。\n",
        "\n",
        "| `x` | `round()` | `math.ceil()` | `math.floor()` | `math.trunc()` |\n",
        "|:--:|:--:|:--:|:--:|:--:|\n",
        "| 3.1 | 3 | 4 | 3 | 3 |\n",
        "| 3.6 | 4 | 4 | 3 | 3 |\n",
        "| -1.1 | -1 | -1 | -2 | -1 |\n",
        "| -1.6 | -2 | -1 | -2 | -1 |\n",
        "\n",
        "浮動小数点数 `x` に対しては `int(x)` と `math.trunc(x)` は同じ値を返す――どちらも引数が `__trunc__()` を定義している場合に `x.__trunc__()` を返す。"
      ],
      "metadata": {
        "id": "mq8lrs5dcSC6"
      }
    },
    {
      "cell_type": "code",
      "source": [
        "import math\n",
        "x = 3.1\n",
        "assert round(x) == math.floor(x) == math.trunc(x) == 3\n",
        "assert math.ceil(x) == 4\n",
        "x = 3.6\n",
        "assert round(x) == math.ceil(x) == 4\n",
        "assert math.floor(x) == math.trunc(x) == 3\n",
        "x = -1.1\n",
        "assert round(x) == math.ceil(x) == math.trunc(x) == -1\n",
        "assert math.floor(x) == -2\n",
        "x = -1.6\n",
        "assert round(x) == math.floor(x) == -2\n",
        "assert math.ceil(x) == math.trunc(x) == -1"
      ],
      "metadata": {
        "id": "Ls6EKNrvc4w2"
      },
      "execution_count": null,
      "outputs": []
    },
    {
      "cell_type": "markdown",
      "source": [
        "**対数関数・指数関数**:\n",
        "\n",
        "| 関数 | 機能 | 戻り値 |\n",
        "|:---|:---|:---|\n",
        "| `math.log(x[, base])` | 引数が 1 つの場合、`x` の（e を底とする）自然対数を返す。引数が 2 つの場合、`base` を底とする `x` の対数を返す | `float` |\n",
        "| `math.log10(x)` | 10 を底とする `x` の対数（常用対数）を返す。`log(x, 10)` よりも高精度 | `float` |\n",
        "| `math.log2(x)` | 2 を底とする `x` の対数を返す。`log(x, 2)` よりも高精度 | `float` |\n",
        "| `math.pow(x, y)` | `x` の `y` 乗を返す。組み込みの `**` 演算子と違って、この関数は両方の引数を `float` 型に変換する | `float` |\n",
        "\n",
        "なお、モジュール定数 `math.e` は、ネイピア数（自然対数の底）を表す。"
      ],
      "metadata": {
        "id": "x_1x-8KbidgO"
      }
    },
    {
      "cell_type": "code",
      "source": [
        "import math\n",
        "assert math.log(math.e) == 1.0\n",
        "assert math.log(100, 10) == math.log10(100) == 2.0  # 10 ** 2.0 = 100\n",
        "assert math.pow(2, 4) == 16.0"
      ],
      "metadata": {
        "id": "Hg5dDgmWieUs"
      },
      "execution_count": null,
      "outputs": []
    },
    {
      "cell_type": "markdown",
      "source": [
        "**三角関数関連**:\n",
        "\n",
        "| 関数 | 機能 | 戻り値 |\n",
        "|:---|:---|:---|\n",
        "| `math.radians(x)` | 角 `x` を度からラジアンに変換する | `float` |\n",
        "| `math.degrees(x)` | 角 `x` をラジアンから度に変換する | `float` |\n",
        "| `math.cos(x)` | `x` ラジアンの余弦（Cosine）を返す | `float` |\n",
        "| `math.sin(x)` | `x` ラジアンの正弦（Sine）を返す | `float` |\n",
        "| `math.tan(x)` | `x` ラジアンの正接（Tangent）を返す | `float` |\n",
        "| `math.acos(x)` | `x` の逆余弦をラジアンで返す。結果は 0 と $\\pi$ の間となる | `float` |\n",
        "| `math.asin(x)` | `x` の逆正弦をラジアンで返す。結果は $-\\pi/2$ と $\\pi/2$ の間となる | `float` |\n",
        "| `math.atan(x)` | `x` の逆正接をラジアンで返す。結果は $-\\pi/2$ と $\\pi/2$ の間となる | `float` |\n",
        "\n",
        "なお、モジュール定数 `math.pi` は $\\pi$（円周率）を表す。"
      ],
      "metadata": {
        "id": "GctaPoISkeQt"
      }
    },
    {
      "cell_type": "code",
      "source": [
        "import math\n",
        "assert math.degrees(math.pi) == 180.0\n",
        "assert math.cos(math.pi) == -1.0\n",
        "assert math.sin(math.radians(90)) == 1.0\n",
        "assert round(math.tan(math.radians(45))) == 1\n",
        "assert math.acos(-1.0) == math.pi  # acos() は cos() の逆関数\n",
        "assert math.asin(1.0) == math.radians(90)  # asin() は sin() の逆関数\n",
        "assert math.atan(1.0) == math.radians(45)  # atan() は tan() の逆関数"
      ],
      "metadata": {
        "id": "fhqvkyxwkfQh"
      },
      "execution_count": null,
      "outputs": []
    },
    {
      "cell_type": "markdown",
      "source": [
        "**双曲線関数関連**:\n",
        "\n",
        "| 関数 | 機能 | 戻り値 |\n",
        "|:---|:---|:---|\n",
        "| `math.cosh(x)` | `x` の双曲線余弦を返す | `float` |\n",
        "| `math.sinh(x)` | `x` の双曲線正弦を返す | `float` |\n",
        "| `math.tanh(x)` | `x` の双曲線正接を返す | `float` |\n",
        "| `math.acosh(x)` | `x` の逆双曲線余弦を返す | `float` |\n",
        "| `math.asinh(x)` | `x` の逆双曲線正弦を返す | `float` |\n",
        "| `math.atanh(x)` | `x` の逆双曲線正接を返す | `float` |"
      ],
      "metadata": {
        "id": "tIGy-HLjlVv7"
      }
    },
    {
      "cell_type": "code",
      "source": [
        "import math\n",
        "x = 2\n",
        "y1 = math.cosh(x)\n",
        "y2 = (math.pow(math.e, x) + math.pow(math.e, -x)) / 2\n",
        "assert round(y1, 10) == round(y2, 10)\n",
        "y1 = math.sinh(x)\n",
        "y2 = (math.pow(math.e, x) - math.pow(math.e, -x)) / 2\n",
        "assert round(y1, 10) == round(y2, 10)\n",
        "y1 = math.tanh(x)\n",
        "y2 = math.sinh(x) / math.cosh(x)\n",
        "assert round(y1, 10) == round(y2, 10)"
      ],
      "metadata": {
        "id": "jxLFEUP2lWtl"
      },
      "execution_count": null,
      "outputs": []
    },
    {
      "cell_type": "markdown",
      "source": [
        "**その他**:\n",
        "\n",
        "| 関数 | 機能 | 戻り値 |\n",
        "|:---|:---|:---|\n",
        "| `math.prod(iterable, *, start=1)` | `start` と `iterable` の総乗を掛けた値を返す | 数値 |\n",
        "| `math.fabs(x)` | `x` の絶対値を返す | 数値 |\n",
        "| `math.sqrt(x)` | `x` の平方根を返す。`math.pow(x, 1/2)` と同等 | `float` |\n",
        "| `math.gcd(*integers)` | 整数引数の最大公約数を返す | `int` |\n",
        "| `math.lcm(*integers)` | 整数引数の最小公倍数を返す | `int` |"
      ],
      "metadata": {
        "id": "YazKwzvUmDE0"
      }
    },
    {
      "cell_type": "code",
      "source": [
        "import math\n",
        "assert math.prod(range(1, 6), start=10) == 1200\n",
        "assert math.fabs(-1.7) == 1.7\n",
        "assert round(math.sqrt(2), 3) == 1.414\n",
        "assert math.gcd(12, 18) == 6  # 12 = 2·3·4·6 と 18 = 2·3·6·9 の最大公約数\n",
        "assert math.lcm(12, 18) == 36  # (12, 24, 36, ...) と (18, 36, 54, ...) の最小公倍数"
      ],
      "metadata": {
        "id": "qEicUSQimFfs"
      },
      "execution_count": null,
      "outputs": []
    },
    {
      "cell_type": "markdown",
      "source": [
        "十進小数演算\n",
        "------------"
      ],
      "metadata": {
        "id": "8RygPdW91TAS"
      }
    },
    {
      "cell_type": "markdown",
      "source": [
        "### 十進数型 ###"
      ],
      "metadata": {
        "id": "bRGQOWrbsZnD"
      }
    },
    {
      "cell_type": "markdown",
      "source": [
        "利息計算、消費税計算、給与計算の端数処理のように 10 進法での小数の計算や丸めが必要な場合は、標準ライブラリの `decimal` モジュールが提供するクラス `decimal.Decimal` （十進数型）を使う。\n",
        "\n",
        "`decimal.Decimal` オブジェクトの基本的な性質は、次のとおり。\n",
        "\n",
        "  * 数値型と同じように比較や演算が行える。\n",
        "  * `str()` 関数に渡すと、与えられた数値を表す文字列が得られる。\n",
        "  * イミュータブルで、かつ、ハッシュ可能である。\n",
        "  * 有効桁数の表記が取り入れられ、末尾のゼロは有効数字を示すために残される。\n",
        "\n",
        "``` python\n",
        "decimal.Decimal(value='0', context=None)\n",
        "```\n",
        "\n",
        "`value` として 10 進小数を表現する文字列を渡してこのコンストラクタを呼び出すと、`value` の値を持つ `decimal.Decimal` のインスタンスが作成される。無限大や非数を表す文字列 `'Infinity'`, `'-Infinity'`, `'NaN'` を渡すこともできる。浮動小数点数を渡すこともできるが、そうすると浮動小数点数自体に含まれる誤差を持ち込むことになるので注意すること。"
      ],
      "metadata": {
        "id": "OES9cBMf1Qrs"
      }
    },
    {
      "cell_type": "code",
      "source": [
        "from decimal import Decimal\n",
        "from numbers import Number\n",
        "\n",
        "d = Decimal(str(0.1))\n",
        "assert isinstance(d, Number)\n",
        "print(f\"{str(d)=}\")\n",
        "assert d + d + d == Decimal(\"0.3\")  # 10進法での計算ができている\n",
        "f = Decimal(0.1)\n",
        "print(f\"{str(f)=}\")\n",
        "assert f + f + f != Decimal(\"0.3\")  # 浮動小数点数を使うと浮動小数点数に含まれる誤差による影響が出る\n",
        "\n",
        "assert Decimal(\"1.30\") + Decimal(\"1.20\") == Decimal(\"2.50\")  # 有効桁数 3 桁\n",
        "assert Decimal(\"1.30\") * Decimal(\"1.20\") == Decimal(\"1.5600\")  # 乗算では被演算子すべての桁数を使う方式をとる\n",
        "assert Decimal(\"1.30\") == Decimal(\"1.3000\")\n",
        "assert {d: \"hoge\"}[d] == \"hoge\"  # 辞書のキーに使える\n",
        "Decimal(\"Infinity\") + Decimal(\"NaN\")"
      ],
      "metadata": {
        "colab": {
          "base_uri": "https://localhost:8080/"
        },
        "id": "fQed-Tys21QA",
        "outputId": "50e40d87-10a6-4433-e2df-bc318dc5172d"
      },
      "execution_count": null,
      "outputs": [
        {
          "output_type": "stream",
          "name": "stdout",
          "text": [
            "str(d)='0.1'\n",
            "str(f)='0.1000000000000000055511151231257827021181583404541015625'\n"
          ]
        },
        {
          "output_type": "execute_result",
          "data": {
            "text/plain": [
              "Decimal('NaN')"
            ]
          },
          "metadata": {},
          "execution_count": 15
        }
      ]
    },
    {
      "cell_type": "markdown",
      "source": [
        "`decimal.Decimal` は、特別な演算を行うメソッドを持つ。\n",
        "\n",
        "| メソッド | 機能 | 戻り値 |\n",
        "|:---|:---|:---|\n",
        "| `exp(context=None)` | `value` での自然指数関数 `e ** value` の値を返す | `Decimal` |\n",
        "| `ln(context=None)` | `value` の自然対数（底 e の対数）を返す | `Decimal` |\n",
        "| `log10(context=None)` | `value` の常用対数（底 10 の対数）を返す | `Decimal` |\n",
        "| `sqrt(context=None)` | `value` の平方根を返す | `Decimal` |\n",
        "| `quantize(exp, rounding=None,`<br />` context=None)` | `value` を丸めた値を返す。`exp` で、求めたい桁数と同じ桁数の数値を `Decimal('0.1')` や `Decimal('0.01')`<br /> のように指定する。`rounding` で、丸め方法を定数で指定できる | `Decimal` |\n",
        "\n",
        "丸め方法を指定する定数は、次のとおり。\n",
        "\n",
        "| 定数 | 意味 |\n",
        "|:---|:---|\n",
        "| `decimal.ROUND_HALF_EVEN` | 近い方に、引き分けは偶数整数方向に向けて丸める（デフォルト） |\n",
        "| `decimal.ROUND_UP` | 切り上げ |\n",
        "| `decimal.ROUND_DOWN` | 切り捨て |\n",
        "| `decimal.ROUND_CEILING` | 正の無限大方向への丸め |\n",
        "| `decimal.ROUND_FLOOR`| 負の無限大方向への丸め |\n",
        "| `decimal.ROUND_HALF_UP` | 四捨五入 |\n",
        "| `decimal.ROUND_HALF_DOWN` | 五捨六入 |\n",
        "| `decimal.ROUND_05UP` | ゼロ方向に丸めた後の最後の桁が 0 または 5 ならばゼロから遠い方向に、そうでなければゼロ方向に丸める |"
      ],
      "metadata": {
        "id": "KKL4f3cUAY4L"
      }
    },
    {
      "cell_type": "code",
      "source": [
        "from decimal import *\n",
        "\n",
        "print(f\"{Decimal('2').exp()=}\")  # e^2\n",
        "print(f\"{Decimal('2').ln()=}\")  # 2の自然対数\n",
        "print(f\"{Decimal('2').log10()=}\")  # 2の常用対数\n",
        "print(f\"{Decimal('2').sqrt()=}\")  # 2の平方根\n",
        "\n",
        "exp = Decimal(\"0.1\")  # 小数点第1位\n",
        "assert Decimal(\"1.15\").quantize(exp) == Decimal(\"1.2\")  # 偶数丸め\n",
        "assert Decimal(\"1.25\").quantize(exp) == Decimal(\"1.2\")  # 偶数丸め\n",
        "assert Decimal(\"1.25\").quantize(exp, ROUND_HALF_UP) == Decimal(\"1.3\")  # 四捨五入\n",
        "assert Decimal(\"1.25\").quantize(exp, ROUND_HALF_DOWN) == Decimal(\"1.2\")  # 五捨六入\n",
        "assert Decimal(\"1.04\").quantize(exp, ROUND_UP) == Decimal(\"1.1\")  # 切り上げ\n",
        "assert Decimal(\"1.06\").quantize(exp, ROUND_DOWN) == Decimal(\"1.0\")  # 切り捨て"
      ],
      "metadata": {
        "colab": {
          "base_uri": "https://localhost:8080/"
        },
        "id": "8kjDenkSkNn4",
        "outputId": "7436510d-0b88-4f09-e2fc-d3ed67847a66"
      },
      "execution_count": null,
      "outputs": [
        {
          "output_type": "stream",
          "name": "stdout",
          "text": [
            "Decimal('2').exp()=Decimal('7.389056098930650227230427461')\n",
            "Decimal('2').ln()=Decimal('0.6931471805599453094172321215')\n",
            "Decimal('2').log10()=Decimal('0.3010299956639811952137388947')\n",
            "Decimal('2').sqrt()=Decimal('1.414213562373095048801688724')\n"
          ]
        }
      ]
    },
    {
      "cell_type": "markdown",
      "source": [
        "### 算術コンテキスト ###"
      ],
      "metadata": {
        "id": "eQlSZ58uuS_P"
      }
    },
    {
      "cell_type": "markdown",
      "source": [
        "`decimal.Decimal` のコンストラクタやメソッドの `context` オプションには、`decimal.Context` オブジェクトを指定できる。`decimal.Context` オブジェクトは、 `decimal.Decimal` の算術演算における環境設定を管理するためのオブジェクトであり、次の属性を持つ。\n",
        "\n",
        "| 属性 | 意味 |\n",
        "|:---|:---|\n",
        "| `prec` | 計算精度を表す整数。デフォルトでは 28 桁 |\n",
        "| `rounding` | 丸め方法を定数で指定する |\n",
        "| `traps` | この属性はシグナルをキーとする辞書を参照していて、値に真偽値を指定することで送出するエラーを制御できる |\n",
        "\n",
        "`context` を指定しない場合は、現在有効な `decimal.Context` オブジェクトを指定したのと同様である。`decimal` モジュールをロードすると、自動的に `decimal.Context` オブジェクトが作成されて有効になっている。`decimal.getcontext()` 関数を使うと現在有効な `decimal.Context` オブジェクトにアクセスでき、設定を変更できる。"
      ],
      "metadata": {
        "id": "xTJOTd6KKeR2"
      }
    },
    {
      "cell_type": "code",
      "source": [
        "from decimal import Decimal, getcontext\n",
        "\n",
        "x = Decimal(\"10\")\n",
        "y = Decimal(\"7\")\n",
        "print(f\"{x / y = }\")\n",
        "getcontext().prec = 3\n",
        "print(f\"{x / y = }\")\n",
        "getcontext().traps  # traps の設定を確認"
      ],
      "metadata": {
        "colab": {
          "base_uri": "https://localhost:8080/"
        },
        "id": "67xb0EJ5AZuR",
        "outputId": "af5a537d-3d39-4c82-c9fa-2da41f601490"
      },
      "execution_count": null,
      "outputs": [
        {
          "output_type": "stream",
          "name": "stdout",
          "text": [
            "x / y = Decimal('1.428571428571428571428571429')\n",
            "x / y = Decimal('1.43')\n"
          ]
        },
        {
          "output_type": "execute_result",
          "data": {
            "text/plain": [
              "{<class 'decimal.InvalidOperation'>:True, <class 'decimal.FloatOperation'>:False, <class 'decimal.DivisionByZero'>:True, <class 'decimal.Overflow'>:True, <class 'decimal.Underflow'>:False, <class 'decimal.Subnormal'>:False, <class 'decimal.Inexact'>:False, <class 'decimal.Rounded'>:False, <class 'decimal.Clamped'>:False}"
            ]
          },
          "metadata": {},
          "execution_count": 17
        }
      ]
    },
    {
      "cell_type": "markdown",
      "source": [
        "`decimal.Context` オブジェクトの `traps` 属性のキー（シグナル）に対する値が `True` になっているものは、そのシグナルを例外として送出する。`decimal.FloatOperation` シグナルを `True` に指定すると、`float` 型が混在する場面でエラーが発生するようになる。これにより、浮動小数点数に含まれる誤差が持ち込まれることを防ぐことができる。"
      ],
      "metadata": {
        "id": "zDnbJRVEoqI-"
      }
    },
    {
      "cell_type": "code",
      "source": [
        "from decimal import Decimal, getcontext, FloatOperation\n",
        "\n",
        "getcontext().traps[FloatOperation] = True\n",
        "try:\n",
        "    d = Decimal(0.1)  # float を渡すとエラーが発生する\n",
        "except FloatOperation:\n",
        "    print(\"コンストラクタでFloatOperationが発生\")\n",
        "try:\n",
        "    Decimal(\"0.3\") < 1.5  # float と比較するとエラーが発生する\n",
        "except FloatOperation:\n",
        "    print(\"比較でFloatOperationが発生\")"
      ],
      "metadata": {
        "colab": {
          "base_uri": "https://localhost:8080/"
        },
        "id": "IBzwt4GUorCt",
        "outputId": "e9dae0ab-d0da-47eb-ccad-0c6e61795e59"
      },
      "execution_count": null,
      "outputs": [
        {
          "output_type": "stream",
          "name": "stdout",
          "text": [
            "コンストラクタでFloatOperationが発生\n",
            "比較でFloatOperationが発生\n"
          ]
        }
      ]
    },
    {
      "cell_type": "markdown",
      "source": [
        "分数計算\n",
        "--------"
      ],
      "metadata": {
        "id": "ZQ9BOHBfGF7W"
      }
    },
    {
      "cell_type": "markdown",
      "source": [
        "分数（有理数）の計算が必要な場合は、標準ライブラリの `fractions` モジュールが提供するクラス `fractions.Fraction` を使う。\n",
        "\n",
        "コンストラクタ `fractions.Fraction()` の引数は、いくつかのタイプがある。"
      ],
      "metadata": {
        "id": "17qfAW4sGGn4"
      }
    },
    {
      "cell_type": "code",
      "source": [
        "from fractions import Fraction\n",
        "\n",
        "assert Fraction(10, -8) == Fraction(-5, 4)  # 分子と分母を整数で指定\n",
        "assert Fraction() == Fraction(0, 1)  # 分子のデフォルトは0、分母のデフォルトは1\n",
        "assert Fraction(Fraction(1, 7), 5) == Fraction(1, 35)  # 分子を Fraction で指定\n",
        "assert Fraction(Fraction(1, 7), Fraction(2, 3)) == Fraction(3, 14)  # 分母も Fraction で指定\n",
        "assert Fraction('-35/4') == Fraction(-35, 4)  # 文字列で指定\n",
        "assert Fraction('1.47') ==  Fraction(147, 100)\n",
        "assert Fraction(1.47) == Fraction(6620291452234629, 4503599627370496)  # 浮動小数点数で指定\n",
        "\n",
        "# 十進数型にも対応している\n",
        "from decimal import Decimal\n",
        "assert Fraction(Decimal('1.47')) ==  Fraction(147, 100)  # 十進数型で指定"
      ],
      "metadata": {
        "id": "z0o-T7JiGLH-"
      },
      "execution_count": null,
      "outputs": []
    },
    {
      "cell_type": "markdown",
      "source": [
        "`fractions.Fraction()` は `numbers.Rational` のサブクラスである。"
      ],
      "metadata": {
        "id": "L43XdIRicvLg"
      }
    },
    {
      "cell_type": "code",
      "source": [
        "from fractions import Fraction\n",
        "from numbers import Rational\n",
        "\n",
        "assert issubclass(Fraction, Rational)\n",
        "assert isinstance(Fraction(1, 2), Rational)"
      ],
      "metadata": {
        "id": "asLSHdsWcws0"
      },
      "execution_count": null,
      "outputs": []
    },
    {
      "cell_type": "markdown",
      "source": [
        "分数の計算は、算術演算子を使って `fractions.Fraction` オブジェクト同士の計算ができる。"
      ],
      "metadata": {
        "id": "g2hyCNm-Pg9s"
      }
    },
    {
      "cell_type": "code",
      "source": [
        "from fractions import Fraction\n",
        "\n",
        "assert Fraction(1, 2) + Fraction(1, 3) == Fraction(5, 6)\n",
        "assert Fraction(1, 2) - Fraction(1, 3) == Fraction(1, 6)\n",
        "assert Fraction(2, 3) * Fraction(3, 4) == Fraction(1, 2)\n",
        "assert Fraction(2, 3) / Fraction(3, 4) == Fraction(8, 9)"
      ],
      "metadata": {
        "id": "x6Ef0lpOPh6u"
      },
      "execution_count": null,
      "outputs": []
    },
    {
      "cell_type": "markdown",
      "source": [
        "比較演算子による比較も可能。"
      ],
      "metadata": {
        "id": "FVoaEUhFRB7d"
      }
    },
    {
      "cell_type": "code",
      "source": [
        "from fractions import Fraction\n",
        "assert Fraction(7, 13) > Fraction(8, 15)"
      ],
      "metadata": {
        "id": "tVNUN7CFRCl9"
      },
      "execution_count": null,
      "outputs": []
    },
    {
      "cell_type": "markdown",
      "source": [
        "文字列、浮動小数点数、整数への変換は、それぞれ `str()`, `float()`, `int()` を使う。また、`fractions.Fraction` と `float` との演算結果は自動的に `float` に変換される。"
      ],
      "metadata": {
        "id": "T1hR_6hfRUP8"
      }
    },
    {
      "cell_type": "code",
      "source": [
        "from fractions import Fraction\n",
        "\n",
        "assert str(Fraction(2, 3)) == \"2/3\"\n",
        "assert float(Fraction(2, 3)) == 0.6666666666666666\n",
        "assert int(Fraction(4, 3)) == 1  # 小数点以下切り捨て\n",
        "assert Fraction(2, 3) * 1.0 == 0.6666666666666666"
      ],
      "metadata": {
        "id": "ztqridmuTaOe"
      },
      "execution_count": null,
      "outputs": []
    },
    {
      "cell_type": "markdown",
      "source": [
        "`fractions.Fraction` のプロパティ（読み出し専用）:\n",
        "\n",
        "| プロパティ | 意味 |\n",
        "|:---|:---|\n",
        "| `numerator` | 有理数を既約分数で表したときの分子 |\n",
        "| `denominator` | 有理数を既約分数で表したときの分母 |\n",
        "\n",
        "`fractions.Fraction` のメソッド:\n",
        "\n",
        "| メソッド | 機能 | 戻り値 |\n",
        "|:---|:---|:---|\n",
        "| `limit_denominator(max_denominator=1000000)` | 分母の上限を `max_denominator` に制限した有理数近似を返す | `Fraction` |"
      ],
      "metadata": {
        "id": "cc3JFQKyU5dg"
      }
    },
    {
      "cell_type": "code",
      "source": [
        "from fractions import Fraction\n",
        "\n",
        "pi = Fraction(3.141592653589793)  # 円周率\n",
        "assert pi.limit_denominator(10) == Fraction(\"22/7\")\n",
        "assert pi.limit_denominator(1000) == Fraction(\"355/113\")\n",
        "assert Fraction(0.3333333333333333).limit_denominator() == Fraction(\"1/3\")"
      ],
      "metadata": {
        "id": "4iGY7nofV47d"
      },
      "execution_count": null,
      "outputs": []
    },
    {
      "cell_type": "markdown",
      "source": [
        "統計計算\n",
        "--------"
      ],
      "metadata": {
        "id": "sPBce0Cwq0Au"
      }
    },
    {
      "cell_type": "markdown",
      "source": [
        "**算術平均（相加平均）**:\n",
        "\n",
        "　母平均（$N$ は母集団のデータ数）\n",
        "\n",
        "$$\n",
        "\\mu = \\dfrac{x_1 + x_2 + \\cdots + x_N}{N}\n",
        "$$\n",
        "\n",
        "　標本平均（$n$ は標本のデータ数）\n",
        "\n",
        "$$\n",
        "\\overline{x} = \\dfrac{x_1 + x_2 + \\cdots + x_n}{n}\n",
        "$$\n",
        "\n",
        "　算術平均は分布の中心を測る一般的な数値である。\n",
        "\n",
        "**幾何平均（相乗平均）**:\n",
        "\n",
        "$$\n",
        "\\overline{x}_G = \\sqrt[n]{x_1 \\times x_2 \\times \\cdots \\times x_n}\n",
        "$$\n",
        "\n",
        "　幾何平均は比率や割合で変化するものに対してその平均を求めるときに使う。ただし、データに負の値を含めることはできない。\n",
        "\n",
        "**調和平均**:\n",
        "\n",
        "$$\n",
        "\\overline{x}_H = \\dfrac{n}{\\dfrac{1}{x_1} + \\dfrac{1}{x_2} + \\cdots + \\dfrac{1}{x_n}}\n",
        "$$\n",
        "\n",
        "　調和平均は速度のような比率の平均を求めるときに使う。\n",
        "\n",
        "**最頻値**:\n",
        "\n",
        "　最も多く出現している値。\n",
        "\n",
        "**n 分位数**:\n",
        "\n",
        "　データを小さい順に並び替えたときに、データの数で $n$ 等分した時の $n-1$ 個の区切り値のこと。  \n",
        "　四分位数では小さい順に**第一四分位数（25 パーセンタイル）**、**中央値（50パーセンタイル）**、**第三四分位数（75パーセンタイル）**と呼ぶ。  \n",
        "　データが偶数個の場合は、中央に最も近い 2 つの値の平均値を中央値とする。  \n",
        "　また、第三四分位数から第一四分位数を引いた値を**四分位範囲**と呼ぶ。  \n",
        "\n",
        "**母分散**:\n",
        "\n",
        "$$\n",
        "\\sigma^2 = \\dfrac{(x_1 - \\mu)^2 + (x_2 - \\mu)^2 + \\cdots + (x_N - \\mu)^2}{N}\n",
        "$$\n",
        "\n",
        "　分散は平均からの平均二乗距離である。小さいほどデータの値は平均値に集まっていることを表す。  \n",
        "　各データから平均までの距離（**偏差**と呼ばれる）をそのまま平均しても 0 になってしまうので 2 乗している。\n",
        "\n",
        "**母標準偏差**:\n",
        "\n",
        "$$\n",
        "\\sigma = \\sqrt{\\sigma^2}\n",
        "$$\n",
        "\n",
        "　標準偏差は分散の平方根であり、データが平均からどの程度離れているかを示している。\n",
        "\n",
        "**標本分散**:\n",
        "\n",
        "$$\n",
        "s^2 = \\dfrac{(x_1 - \\overline{x})^2 + (x_2 - \\overline{x})^2 + \\cdots + (x_n - \\overline{x})^2}{n - 1}\n",
        "$$\n",
        "\n",
        "　標本分散ではデータ数 $n$ ではなく $n-1$ で割る。これは、母平均と違って標本平均 $\\overline{x}$ は 標本 $x$ の取り方によって偏りが生じるため。"
      ],
      "metadata": {
        "id": "wj0eckjPq00c"
      }
    },
    {
      "cell_type": "code",
      "source": [
        "# n-1 で割る理由を知りたいなら、次の動画が参考になる\n",
        "from IPython.display import YouTubeVideo\n",
        "YouTubeVideo('Ej8TS4a00VM?si=Ldh8YXPBx7OlHGQ_', width=640, height=360)"
      ],
      "metadata": {
        "colab": {
          "base_uri": "https://localhost:8080/",
          "height": 381
        },
        "id": "p_1j-FS1zFlN",
        "outputId": "da28f496-ca7b-4fed-8431-a9e81215177a"
      },
      "execution_count": null,
      "outputs": [
        {
          "output_type": "execute_result",
          "data": {
            "text/plain": [
              "<IPython.lib.display.YouTubeVideo at 0x7a537d060eb0>"
            ],
            "text/html": [
              "\n",
              "        <iframe\n",
              "            width=\"640\"\n",
              "            height=\"360\"\n",
              "            src=\"https://www.youtube.com/embed/Ej8TS4a00VM?si=Ldh8YXPBx7OlHGQ_\"\n",
              "            frameborder=\"0\"\n",
              "            allowfullscreen\n",
              "            \n",
              "        ></iframe>\n",
              "        "
            ]
          },
          "metadata": {},
          "execution_count": 25
        }
      ]
    },
    {
      "cell_type": "markdown",
      "source": [
        "**標本標準偏差**:\n",
        "\n",
        "$$\n",
        "s = \\sqrt{s^2}\n",
        "$$\n",
        "\n",
        "標準ライブラリの `statistics` モジュールは、統計計算のための関数を提供する。以下は、その主な関数であるが、引数 `data` は、`int`, `float`, `Decimal` または `Fraction` を含むシーケンスである。`data` が空の場合、 `statistics.StatisticsError` 例外が発生する。\n",
        "\n",
        "| 関数 | 機能 | 戻り値 |\n",
        "|:---|:---|:---|\n",
        "| `statistics.mean(data)` | `data` の算術平均を返す | 数値 |\n",
        "| `statistics.fmean(data, weights=None)` | `data` を `float` に変換し、算術平均を返す。`mean()` 関数よりも高速に実行され、常に<br /> `float` を返す。`data` の各要素に重み付ける数値のリストを `weights` に指定できる | `float` |\n",
        "| `statistics.geometric_mean(data)` | `data` を `float` に変換し、幾何平均を返す | `float` |\n",
        "| `statistics.harmonic_mean(data, weights=None)` | `data` を `float` に変換し、調和平均を返す。`data` の各要素に重み付ける数値のリスト<br />を `weights` に指定できる | 数値 |\n",
        "| `statistics.median(data)` | `data` の中央値を返す | 数値 |\n",
        "| `statistics.mode(data)` | `data` の最頻値を返す | 数値 |\n",
        "| `statistics.quantiles(data, *, n=4, method='exclusive')` | `data` の `n` 分位数である `n-1` 個の数値のリストを返す | `list` |\n",
        "| `statistics.pvariance(data, mu=None)` | `data` の母分散を返す。既に `data` の平均値を計算している場合、それを第 2 引数 `mu`<br /> に渡して再計算を省略できる | `float` |\n",
        "| `statistics.pstdev(data, mu=None)` | `data` の母標準偏差を返す。第 2 引数 `mu` の意味は `pvariance()` と同じ | `float` |\n",
        "| `statistics.variance(data, xbar=None)` | `data` の標本分散を返す。既に `data` の平均値を計算している場合、それを第 2 引数<br /> `xbar` に渡して再計算を省略できる | `float` |\n",
        "| `statistics.stdev(data, xbar=None)` | `data` の標本標準偏差を返す。第 2 引数 `xbar` の意味は `variance()` と同じ | `float` |"
      ],
      "metadata": {
        "id": "Cn6i3s23z8Lo"
      }
    },
    {
      "cell_type": "code",
      "source": [
        "import math\n",
        "import statistics\n",
        "\n",
        "# 生徒10人の得点\n",
        "x = [70, 50, 80, 60, 50, 60, 70, 60, 90, 40]\n",
        "\n",
        "# 最頻値\n",
        "assert statistics.mode(x) == 60\n",
        "\n",
        "# 四分位数\n",
        "assert statistics.quantiles(x) == [50.0, 60.0, 72.5]\n",
        "\n",
        "# 中央値\n",
        "assert statistics.median(x) == 60.0\n",
        "\n",
        "# 母平均\n",
        "mu1 = statistics.fmean(x)\n",
        "mu2 = sum(x) / len(x)\n",
        "assert mu1 == mu2 == 63.0\n",
        "\n",
        "# 標本平均 -- 標本は x[2:] とした\n",
        "sample = x[2:]\n",
        "barx1 = statistics.fmean(sample)\n",
        "barx2 = sum(sample) / len(sample)\n",
        "assert barx1 == barx2 == 63.75\n",
        "\n",
        "# 母分散\n",
        "sigma_square1 = statistics.pvariance(x, mu1)\n",
        "sigma_square2 = sum([(xx - mu2) ** 2 for xx in x]) / len(x)\n",
        "assert sigma_square1 == sigma_square2 == 201.0\n",
        "\n",
        "# 母標準偏差\n",
        "assert round(statistics.pstdev(x, mu1), 1) == round(math.sqrt(sigma_square2), 1) == 14.2\n",
        "\n",
        "# 標本分散\n",
        "s_square1 = statistics.variance(sample, barx1)\n",
        "s_square2 = sum([(xx - barx2) ** 2 for xx in sample]) / (len(sample) - 1)\n",
        "assert round(s_square1, 1) == round(s_square2, 1) == 255.4\n",
        "\n",
        "# 標本標準偏差\n",
        "s1 = statistics.stdev(sample, barx1)\n",
        "s2 = math.sqrt(s_square2)\n",
        "assert round(s1, 1) == round(s2, 1) == 16.0\n",
        "\n",
        "# ある企業の年間売上高(万円)\n",
        "x = [50, 75, 60, 72]\n",
        "# 成長率\n",
        "growth_rate = [xx / x[i - 1] for i, xx in enumerate(x) if i > 0]\n",
        "assert growth_rate == [1.5, 0.8, 1.2]\n",
        "# 年平均成長率（幾何平均）\n",
        "cagr1 = statistics.geometric_mean(growth_rate)\n",
        "cagr2 = math.pow(math.prod(growth_rate), 1 / len(growth_rate))\n",
        "assert round(cagr1, 2) == round(cagr2, 2) == 1.13\n",
        "# 5年目の売上の予測は 720000 × 1.13 ≒ 813,600円\n",
        "\n",
        "# 1 km の道の行きの速度(km/h)と帰りの速度(km/h)\n",
        "x = [60, 30]\n",
        "# 往復の速度（調和平均） -- 距離は 2 km で、時間は (1/60 + 1/30) h\n",
        "y1 = statistics.harmonic_mean(x)\n",
        "y2 = len(x) / sum([1 / xx for xx in x])\n",
        "assert y1 == y2 == 40.0"
      ],
      "metadata": {
        "id": "xAS2-Um3YrNy"
      },
      "execution_count": null,
      "outputs": []
    },
    {
      "cell_type": "markdown",
      "source": [
        "擬似乱数\n",
        "--------"
      ],
      "metadata": {
        "id": "60rDaOg8Yv7f"
      }
    },
    {
      "cell_type": "markdown",
      "source": [
        "**擬似乱数**（pseudorandom numbers）とは、一見乱数のように規則性のない数の並びのように見えるが、再現性があり真の意味で乱数とは言えない数値（の列）を指す。真にランダムであるとは「計算できない」ことであるから、コンピューターが乱数を「計算する」ことは根本的に矛盾している。このため、コンピューターの「計算」によって得られる不規則的な数値は、必ず擬似乱数である。\n",
        "\n",
        "擬似乱数列を生成する関数を**擬似乱数列生成器**（pseudorandom number generator; PRNG）という。擬似乱数列生成器は、決まった数式と初期値を持ち、初期値から数式を計算して擬似乱数を生成していく。この初期値を**乱数の種**（random seed）という。乱数の種を変えることで、擬似乱数列生成器が生成する数値の列を変化させることができる。\n",
        "\n",
        "擬似乱数列生成器は、数値シミュレーションの目的で使われる。<font color=\"red\">擬似乱数は再現性があるので擬似乱数列生成器をセキュリティ目的に使用してはいけない</font>。\n",
        "\n",
        "標準ライブラリの `random` モジュールは、さまざまな擬似乱数列生成器を提供する。\n",
        "\n",
        "| 関数 | 機能 | 戻り値 |\n",
        "|:---|:---|:---|\n",
        "| `random.seed(a=None, version=2)` | 乱数の種を指定する。`a` が省略されるか `None` の場合、現在のシステム時刻が使用される。`a` が `int`<br /> の場合、それが直接使われる。`a` が文字列やバイト列の場合、デフォルト（`version=2` の場合）では、`a`<br /> が `int` に変換され、そのビットがすべて使用される。`version` は Python 3.2 以前との互換性のため<br />にあるオプションである | `None` |\n",
        "| `random.random()` | 0.0 から 1.0 までの範囲でランダムな浮動小数点数を返す | `float` |\n",
        "| `random.uniform(a, b)` | `a` と `b` の間のランダムな浮動小数点数を返す。`a <= b` の場合は `a + (b-a) * random()` と同じ。こ<br />の計算の丸め処理のために `b` が範囲に含まれない場合がある。`b < a` でもよく、この場合は 2 つの<br />変数を入れ替えた式が適用される | `float` |\n",
        "| `random.randrange(stop)`<br />`random.randrange(start, stop[, step])` | `range(start, stop, step)` の要素からランダムに選ばれた要素を返す | `int` |\n",
        "| `random.randint(a, b)` | `a <= N <= b` であるようなランダムな整数 `N` を返す。`random.randrange(a, b+1)` と同じ | `int` |\n",
        "| `random.choice(seq)` | 空でないシーケンス `seq` からランダムに要素を返す。`seq` が空のときは、`IndexError` 例外が送出さ<br />れる | `seq`<br /> の要素 |\n",
        "| `random.choices(population, weights=None,`<br />` *, cum_weights=None, k=1)` | `population` から重複ありで選んだ要素からなる大きさ `k` のリストを返す。`population` が空の場合<br /> `IndexError` 例外を送出する。`weights` シーケンスが与えられた場合、相対的な重みに基づいて要素<br />が選ばれる。`cum_weights` シーケンスが与えられた場合、累積的な重みで要素が選ばれる | `list` |\n",
        "| `random.sample(population, k,`<br />` *, counts=None)` | 母集団のシーケンス `population` から選ばれた `k` 個の要素からなるリストを返す。`population` の各<br />要素につき何個重複して選ぶことができるかを整数のリストで `counts` に指定することができる | `list` |\n",
        "| `random.shuffle(x)` | シーケンス `x` の要素の順序をシャッフルする | `None` |\n",
        "\n",
        "`random.seed()` 関数を省略した場合、Python の `random` モジュールは システムの現在時刻や OS が提供するエントロピーソース をもとに、自動的に乱数の種を設定する。つまり、実行するたびに異なる乱数が生成される。\n",
        "\n",
        "`random.seed(固定値)` を設定すると、毎回同じ乱数列が生成される。乱数の再現性が必要な場合は `random.seed()` を設定し、予測不可能な乱数が欲しい場合は省略するとよい。"
      ],
      "metadata": {
        "id": "u_JfQAo6Hhbx"
      }
    },
    {
      "cell_type": "code",
      "source": [
        "import random\n",
        "\n",
        "random.seed(\"Python\")\n",
        "r11 = random.randrange(10**6, 10**7)\n",
        "r12 = random.randrange(10**6, 10**7)\n",
        "random.seed(\"Python\")\n",
        "r21 = random.randint(10**6, 10**7 - 1)\n",
        "r22 = random.randint(10**6, 10**7 - 1)\n",
        "# 乱数の種が同じなら、同じ疑似乱数が生成されていく\n",
        "assert r11 == r21 == 7648955\n",
        "assert r12 == r22 == 3710201\n",
        "\n",
        "x = list(range(10))\n",
        "assert x == [0, 1, 2, 3, 4, 5, 6, 7, 8, 9]\n",
        "random.seed(2)  # 乱数の種を固定\n",
        "assert random.choices(x, k=4) == [9, 9, 0, 0]  # 重複あり\n",
        "assert random.sample(x, 4) == [2, 4, 8, 7]  # 重複なし\n",
        "assert random.sample(x, 4, counts=[4] * 10) == [3, 9, 0, 9]  # 各要素 4 個まで重複を許可\n",
        "random.shuffle(x)\n",
        "assert x == [0, 1, 3, 9, 4, 5, 7, 8, 6, 2]  # x 自体が変更される"
      ],
      "metadata": {
        "id": "9a-VEXz9Q061"
      },
      "execution_count": null,
      "outputs": []
    }
  ]
}