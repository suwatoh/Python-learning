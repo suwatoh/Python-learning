{
  "nbformat": 4,
  "nbformat_minor": 0,
  "metadata": {
    "colab": {
      "provenance": [],
      "authorship_tag": "ABX9TyNcTIxGWGyF0N5fsoKkdLH3",
      "include_colab_link": true
    },
    "kernelspec": {
      "name": "python3",
      "display_name": "Python 3"
    },
    "language_info": {
      "name": "python"
    }
  },
  "cells": [
    {
      "cell_type": "markdown",
      "metadata": {
        "id": "view-in-github",
        "colab_type": "text"
      },
      "source": [
        "<a href=\"https://colab.research.google.com/github/suwatoh/Python-learning/blob/main/111_%E6%95%B0%E5%80%A4%E3%81%AE%E5%87%A6%E7%90%86.ipynb\" target=\"_parent\"><img src=\"https://colab.research.google.com/assets/colab-badge.svg\" alt=\"Open In Colab\"/></a>"
      ]
    },
    {
      "cell_type": "markdown",
      "source": [
        "数値の処理\n",
        "=========="
      ],
      "metadata": {
        "id": "WdoTnSlEAzUj"
      }
    },
    {
      "cell_type": "markdown",
      "source": [
        "数値型\n",
        "------"
      ],
      "metadata": {
        "id": "2AXlIvZ545Dc"
      }
    },
    {
      "cell_type": "markdown",
      "source": [
        "### 整数型 ###"
      ],
      "metadata": {
        "id": "KGnAQgZB_FfC"
      }
    },
    {
      "cell_type": "markdown",
      "source": [
        "組み込みの `int` 型は、整数型である。公式配布の C による Python 実装（CPython）での `int` 型は、任意の長さの数をバイナリ形式で保存したもので、一般に `bignum` または多倍長整数として知られている。つまり、 CPython ではメモリの許す限り任意の桁数の整数値を表現できて、桁あふれ（オーバーフロー）が起こらない。\n",
        "\n",
        "整数リテラルでは、アンダースコア `_` を使って数字をグループ化することで読みやすくできる。アンダースコアは、 2 つ以上つなげたり、数字の間以外の場所に使うことはできない。\n",
        "\n",
        "接頭辞を付けて基数を表すことができる:\n",
        "\n",
        "| 接頭辞 | 基数 | 使用可能文字 |\n",
        "|:---|:---|:---|\n",
        "| `0b` または `0B` | 2 （進数） | `0`, `1` |\n",
        "| `0o` または `0O` | 8 （進数） | `0`, `1`, `2`, `3`, `4`, `5`, `6`, `7` |\n",
        "| `0x` または `0X` | 16 （進数） | `0`, `1`, `2`, `3`, `4`, `5`, `6`, `7`, `8`, `9`, `A`, `B`, `C`, `D`, `E`, `F`（大文字小文字の区別なし） |\n",
        "\n",
        "なお、`0` でない 10 進数の先頭には `0` を付けられない。\n",
        "\n",
        "整数リテラルの例をいくつか示す:\n",
        "\n",
        "``` python\n",
        "7\n",
        "100_000_000_000\n",
        "0b100110111\n",
        "0b_1110_0101\n",
        "0o177\n",
        "0xdeadbeef\n",
        "```\n",
        "\n",
        "コンストラクタは次のとおり。\n",
        "\n",
        "``` python\n",
        "int(number=0, /)\n",
        "int(string, /, base=10)\n",
        "```\n",
        "\n",
        "数または文字列から生成された整数オブジェクトを返す。引数が指定されない場合は `0` を返す。\n",
        "\n",
        "第 1 引数（位置専用引数）に文字列を指定する場合は、 `base` 引数を基数とした整数を返す。 `base` 引数を省略した時は 10 進数表現として解釈される。文字列は先頭に `+` または `-` を伴ったり（符号と数値の間に空白文字を入れてはいけない）、数値の先頭に任意の数のゼロを付けたり、前後に空白文字を付けたり、各桁を 1 つだけのアンダースコアで区切ったりしてもよい。\n",
        "\n",
        "基数を `0` に指定した場合、文字列は整数リテラルと同じように解釈される。"
      ],
      "metadata": {
        "id": "6VDLDWui_Gn2"
      }
    },
    {
      "cell_type": "code",
      "source": [
        "assert int() == 0\n",
        "assert int(123.45) == 123  # 小数点以下切り捨て\n",
        "assert int('123') == 123\n",
        "assert int('   -12_345\\n') == -12345\n",
        "assert int('01110011', base=2) == 115\n",
        "assert int('FACE', 16) == int('0xface', 0) == 64206"
      ],
      "metadata": {
        "id": "NII2-wbC_JKt"
      },
      "execution_count": null,
      "outputs": []
    },
    {
      "cell_type": "markdown",
      "source": [
        "なお、Python 3.10.7（および、同日公開されたバージョン 3.9.14, 3.8.14）以降では、<font color=\"red\">整数と文字列の変換が `sys.int_info.default_max_str_digits` 桁（デフォルトで 4300 桁）までに制限されるようになった</font>（制限違反の場合は `ValueError` を送出する）。ただし、この制限は基数が 2 のべき乗の場合（2進数、8進数、16進数などの場合）には適用されないので、 `int(string, base)` の呼び出しは `base` が `2`、`4`、`8`、`16` または `32` の場合は制限がない。\n",
        "\n",
        "この変更は、基数が 2 のべき乗でない限り、多倍長整数と文字列の間の変換アルゴリズムの計算量が $O(n^2)$ であるため、DoS 攻撃（Denial of Service attack; サービス拒否攻撃）に悪用される可能性があったことによる。\n",
        "\n",
        "あくまでも整数・文字列変換が制限されるだけで、`int` 型自体は 4300 桁より大きい値を保持できる。"
      ],
      "metadata": {
        "id": "DvHDqP-AdlLc"
      }
    },
    {
      "cell_type": "code",
      "source": [
        "import sys\n",
        "print(f\"{sys.int_info.default_max_str_digits=}\")\n",
        "i = int('1' * 4301, base=2)  # 2 進数としての変換はエラーにならない\n",
        "assert int('1' * 4300, base=2) < i\n",
        "try:\n",
        "    i = int('1' * 4301)\n",
        "except Exception as e:\n",
        "    print(f\"{type(e).__name__}: {e}\")\n",
        "try:\n",
        "    s = str(10**4300)  # 4301 桁の整数自体はエラーにならない（変換でエラーが発生）\n",
        "except Exception as e:\n",
        "    print(f\"{type(e).__name__}: {e}\")"
      ],
      "metadata": {
        "colab": {
          "base_uri": "https://localhost:8080/"
        },
        "id": "M60N7jMQdnYN",
        "outputId": "3e359de7-aa16-4e44-90bf-3bd2628b5451"
      },
      "execution_count": null,
      "outputs": [
        {
          "output_type": "stream",
          "name": "stdout",
          "text": [
            "sys.int_info.default_max_str_digits=4300\n",
            "ValueError: Exceeds the limit (4300) for integer string conversion: value has 4301 digits; use sys.set_int_max_str_digits() to increase the limit\n",
            "ValueError: Exceeds the limit (4300) for integer string conversion; use sys.set_int_max_str_digits() to increase the limit\n"
          ]
        }
      ]
    },
    {
      "cell_type": "markdown",
      "source": [
        "`int` 型は以下の追加のメソッドを持つ。\n",
        "\n",
        "| メソッド | 機能 | 戻り値 |\n",
        "|:---|:---|:---|\n",
        "| `as_integer_ratio()` | 整数の値を有理数として表現する（分母が常に `1`） | `tuple` |\n",
        "| `is_integer()` | 常に `True` を返す（Python 3.12 で追加）。`float.is_integer()` に対するダックタイピングの互換性のために存在している | `True` |"
      ],
      "metadata": {
        "id": "tD2r1LPiaM1h"
      }
    },
    {
      "cell_type": "code",
      "source": [
        "assert (123).as_integer_ratio() == (123, 1)"
      ],
      "metadata": {
        "id": "AYCPy2braNvY"
      },
      "execution_count": null,
      "outputs": []
    },
    {
      "cell_type": "markdown",
      "source": [
        "`bool` は `int` のサブクラスである。このクラスのインスタンスはシングルトンの `False` と `True` のみであり、それぞれ `0` と `1` に等価である。しかし、その等価性に頼ることは推奨されない。`int()` を使って明示的に整数値に変換すること。\n",
        "\n",
        "ちなみに、`bool` のコンストラクタは、引数のオブジェクトに対する真理値の判定を返す。"
      ],
      "metadata": {
        "id": "ddiw7pxZPyCE"
      }
    },
    {
      "cell_type": "code",
      "source": [
        "assert bool(0) is bool() is False == 0  # 引数なしのコンストラクタは False を返す\n",
        "assert bool(object) is True == 1"
      ],
      "metadata": {
        "id": "Yv_5GEKPPzZg"
      },
      "execution_count": null,
      "outputs": []
    },
    {
      "cell_type": "markdown",
      "source": [
        "組み込み関数 `hex()` は、引数に整数を受け付け、整数を、先頭に `'0x'` が付いた小文字の 16 進文字列に変換する。"
      ],
      "metadata": {
        "id": "I8pGavqnTYZa"
      }
    },
    {
      "cell_type": "code",
      "source": [
        "hex(255)"
      ],
      "metadata": {
        "colab": {
          "base_uri": "https://localhost:8080/",
          "height": 35
        },
        "id": "4qMPyNnwTZGx",
        "outputId": "39ee5507-5881-4e89-d5c0-f7101962e3d9"
      },
      "execution_count": null,
      "outputs": [
        {
          "output_type": "execute_result",
          "data": {
            "text/plain": [
              "'0xff'"
            ],
            "application/vnd.google.colaboratory.intrinsic+json": {
              "type": "string"
            }
          },
          "metadata": {},
          "execution_count": 1
        }
      ]
    },
    {
      "cell_type": "markdown",
      "source": [
        "### 浮動小数点数型 ###"
      ],
      "metadata": {
        "id": "hyOBzcvGSFao"
      }
    },
    {
      "cell_type": "markdown",
      "source": [
        "組み込みの `float` 型は、浮動小数点数型（実数型）である。固定長（64ビット倍精度）であり、 `- sys.float_info.max` から `sys.float_info.max` までの範囲の値を表現できる。"
      ],
      "metadata": {
        "id": "LaqVaGE2SGLx"
      }
    },
    {
      "cell_type": "code",
      "source": [
        "import sys\n",
        "print(f\"{sys.float_info.max=}\")"
      ],
      "metadata": {
        "colab": {
          "base_uri": "https://localhost:8080/"
        },
        "id": "ufe2Q3O4bqdu",
        "outputId": "91a43e7c-a31c-4c70-f6b6-2c062a6b2978"
      },
      "execution_count": null,
      "outputs": [
        {
          "output_type": "stream",
          "name": "stdout",
          "text": [
            "sys.float_info.max=1.7976931348623157e+308\n"
          ]
        }
      ]
    },
    {
      "cell_type": "markdown",
      "source": [
        "浮動小数点リテラルは、`3.14` のような固定小数点表記と、`3.14e-10` のような指数表記が可能で、常に `10` 進数で解釈される。整数リテラルと同様に、桁のグループ化にはアンダースコア `_` がサポートされている。小数点の前だけ、または小数点の後ろだけを省略した表記 `.001`, `10.` も可能である。\n",
        "\n",
        "コンストラクタは次のとおり。\n",
        "\n",
        "``` python\n",
        "float(number=0.0, /)\n",
        "float(string, /)\n",
        "```\n",
        "\n",
        "数または文字列から生成された浮動小数点数を返す。\n",
        "\n",
        "引数が文字列の場合、10進数でなければならない。先頭に符号または空白を含んでいてもよいが、無限大や非数以外の数値を取得するには、浮動小数点リテラルの表記規則に従う必要がある。"
      ],
      "metadata": {
        "id": "z-jz72V8cbar"
      }
    },
    {
      "cell_type": "code",
      "source": [
        "assert float() == 0.0\n",
        "assert float('+1.23') == 1.23\n",
        "assert float('   -12345\\n') == -12345.0\n",
        "assert float('1e-003') == 0.001\n",
        "assert float('+1E6') == 1000000.0\n",
        "assert float('.12') == 0.12  # 整数部に 0 が補完されて変換される\n",
        "assert float('100') == 100.  # 整数の文字列も float 型の数値に変換される"
      ],
      "metadata": {
        "id": "XKscVINHYZrF"
      },
      "execution_count": null,
      "outputs": []
    },
    {
      "cell_type": "markdown",
      "source": [
        "`int` 型と `float` 型との間では比較が可能である。"
      ],
      "metadata": {
        "id": "0NxGRchXWx0B"
      }
    },
    {
      "cell_type": "code",
      "source": [
        "assert 1 == 1.0\n",
        "assert 1 < 1.01"
      ],
      "metadata": {
        "id": "ykxffKYpcn-9"
      },
      "execution_count": null,
      "outputs": []
    },
    {
      "cell_type": "markdown",
      "source": [
        "`float` 型は以下の追加のメソッドを持つ。\n",
        "\n",
        "| メソッド | 機能 | 戻り値 |\n",
        "|:---|:---|:---|\n",
        "| `as_integer_ratio()` | 浮動小数点数インスタンスの値を有理数として表現する | `tuple` |\n",
        "| `is_integer()` | 浮動小数点数インスタンスが有限の整数値なら `True` を、そうでなければ `False` を返す | `bool` |\n",
        "| `hex()` | 浮動小数点数インスタンスの 16 進文字列表現を返す。有限の浮動小数点数に対し、この表現は常に `'0x'` で始まり `'p'` と指数が続く | `str` |\n",
        "| `fromhex(s)` | クラスメソッド。`hex()` の逆の変換を行う | `float` |"
      ],
      "metadata": {
        "id": "xhwuWipb7E6o"
      }
    },
    {
      "cell_type": "code",
      "source": [
        "assert (2.75).as_integer_ratio() == (11, 4)  # 11/4\n",
        "assert (-2.0).is_integer()\n",
        "x = (2.75).hex()\n",
        "print(f\"{x=}\")\n",
        "assert float.fromhex(x) == 2.75"
      ],
      "metadata": {
        "colab": {
          "base_uri": "https://localhost:8080/"
        },
        "id": "EefgWJAH7Id1",
        "outputId": "dd6effe8-b25b-448d-c7fb-6096d063458c"
      },
      "execution_count": null,
      "outputs": [
        {
          "output_type": "stream",
          "name": "stdout",
          "text": [
            "x='0x1.6000000000000p+1'\n"
          ]
        }
      ]
    },
    {
      "cell_type": "markdown",
      "source": [
        "### 算術演算の型規則 ###"
      ],
      "metadata": {
        "id": "LylB_PrPMl5A"
      }
    },
    {
      "cell_type": "markdown",
      "source": [
        "| 演算 | `int` 同士 | `float` 同士 | `int` と `float` | 備考 |\n",
        "|:--:|:--:|:--:|:--:|:---|\n",
        "| `x + y` （足し算） | `int` | `float` | `float` | |\n",
        "| `x - y` （引き算） | `int` | `float` | `float` | |\n",
        "| `x * y` （掛け算） | `int` | `float` | `float` | |\n",
        "| `x / y` （割り算） | `float` | `float` | `float` | |\n",
        "| `x // y` （整数除算） | `int` | `float` | `float` | `x` と `y` の商を切り下げたもの |\n",
        "| `x % y` （剰余演算） | `int` | `float` | `float` | |\n",
        "| `x ** y` （べき乗） | `int` | `float` | `float` | |\n",
        "\n",
        "整理すると\n",
        "\n",
        "  1. 割り算（`/`）は常に `float` 型を返す。\n",
        "  2. `float` 型を含む計算は常に `float` 型を返す。\n",
        "  3. `int` 型同士の計算は `int` 型を返すが、割り算（`/`）は除く。"
      ],
      "metadata": {
        "id": "e-F5GY5BMm09"
      }
    },
    {
      "cell_type": "markdown",
      "source": [
        "### 複素数型 ###"
      ],
      "metadata": {
        "id": "VCXSu8qLbP4y"
      }
    },
    {
      "cell_type": "markdown",
      "source": [
        "組み込みの `complex` 型は、複素数型である。複素数は浮動小数点数と虚数のペアとして表され、その範囲に対して浮動小数点数の制限を受ける。\n",
        "\n",
        "虚数リテラルは、末尾に `j` または `J` を付ける。虚数リテラルは、実部が `0.0` の複素数を生成する。 `0.0` 以外の実部を持つ複素数を作成するには、それに浮動小数点数を追加する（例: `3+4j`）。\n",
        "\n",
        "コンストラクタは次のとおり。\n",
        "\n",
        "``` python\n",
        "complex(number=0, /)\n",
        "complex(string, /)\n",
        "complex(real=0, imag=0)\n",
        "```"
      ],
      "metadata": {
        "id": "h-R-FQ2TbQt3"
      }
    },
    {
      "cell_type": "code",
      "source": [
        "assert complex() == 0\n",
        "assert complex('+1.23') == 1.23+0j\n",
        "assert complex('\\t( -1.23+4.5J )\\n') == complex(-1.23, 4.5) == -1.23+4.5j\n",
        "assert complex(imag=-4.5) == -4.5j"
      ],
      "metadata": {
        "id": "5Gg9kpmJfIsU"
      },
      "execution_count": null,
      "outputs": []
    },
    {
      "cell_type": "markdown",
      "source": [
        "複素数インスタンスは、`real` 属性、`imag` 属性、 `conjugate()` メソッドを持つ:"
      ],
      "metadata": {
        "id": "A0Q411YghKPF"
      }
    },
    {
      "cell_type": "code",
      "source": [
        "assert (1+3j).real == 1.0  # 実部\n",
        "assert (1+3j).imag == 3.0  # 虚部\n",
        "assert (1+3j).conjugate() == (1-3j)  # 複素共役"
      ],
      "metadata": {
        "id": "cAIJHhKdhLKB"
      },
      "execution_count": null,
      "outputs": []
    },
    {
      "cell_type": "markdown",
      "source": [
        "### 抽象基底クラス ###"
      ],
      "metadata": {
        "id": "GB-ie0dRMU_M"
      }
    },
    {
      "cell_type": "markdown",
      "source": [
        "標準ライブラリの `numbers` は、数の抽象基底クラスの階層を定義している。\n",
        "\n",
        "| ABC | 意味 | 継承しているクラス | 受け付ける演算・関数 | 抽象メソッド・抽象プロパティ |\n",
        "|:---|:---|:---|:---|:---|\n",
        "| `Number` | 数の階層のルート | | | | |\n",
        "| `Complex` | この型のサブクラスは複素数を表す | `Number` | `+`, `-`, `*`, `/`, `**`, `complex()`, `bool()`, `abs()`, `==`, `!=` | `conjugate()`, `real`, `imag` |\n",
        "| `Real` | 実数を扱う演算を追加したもの | `Complex` | `+`, `-`, `*`, `/`, `**`, `complex()`, `bool()`, `abs()`, `==`, `!=`<br />`float()`, `round()`, `divmod()`, `//`, `%`, `<`, `<=`, `>`, `>=` | `conjugate()`, `real`, `imag` |\n",
        "| `Rational` | 有理数を扱うプロパティを加えたもの | `Real` | `Real` と同じ | `conjugate()`, `real`, `imag`, `numerator`, `denominator` |\n",
        "| `Integral` | 整数への変換を加えたもの | `Rational` |  `+`, `-`, `*`, `/`, `**`, `complex()`, `bool()`, `abs()`, `==`, `!=`<br />`int()`, `float()`, `round()`, `divmod()`, `//`, `%`, `<`, `<=`, `>`, `>=` | `conjugate()`, `real`, `imag`, `numerator`, `denominator` |\n",
        "\n",
        "引数 `x` が、種類は何であれ、数であるということだけチェックしたい場合、`isinstance(x, numbers.Number)` が使える。"
      ],
      "metadata": {
        "id": "pge7X0Pmyo1Q"
      }
    },
    {
      "cell_type": "code",
      "source": [
        "import numbers\n",
        "assert issubclass(numbers.Complex, numbers.Number)\n",
        "assert isinstance(complex(), numbers.Complex)\n",
        "assert isinstance(float(), numbers.Real)\n",
        "assert isinstance(int(), numbers.Integral)\n",
        "assert isinstance(bool(), numbers.Integral)"
      ],
      "metadata": {
        "id": "aPiyFNCxxRCC"
      },
      "execution_count": null,
      "outputs": []
    },
    {
      "cell_type": "markdown",
      "source": [
        "計算機イプシロン\n",
        "----------------"
      ],
      "metadata": {
        "id": "vDPkSrmKiD9R"
      }
    },
    {
      "cell_type": "markdown",
      "source": [
        "IEEE 754 浮動小数点規格により、コンピューターで扱われる浮動小数点数は、`1.xxx...e指数` という形の指数表記とされ、指数を格納する指数部と、`xxx...` を格納する仮数部に分かれている。このため仮数部の精度（ビット数）は、1 より大きい最小の数の限界となる。この限界（つまり 1 より大きい最小の数と 1 との差）のことを**計算機イプシロン**（machine epsilon）といい、 $\\epsilon$ で表す。Python の `float` 型が扱う 64ビット倍精度では、$\\epsilon=2^{{1-53}}$ となる。この数値は、`sys.float_info.epsilon` で確認できる。"
      ],
      "metadata": {
        "id": "pvTjaGFtiF5z"
      }
    },
    {
      "cell_type": "code",
      "source": [
        "import sys\n",
        "sys.float_info.epsilon"
      ],
      "metadata": {
        "colab": {
          "base_uri": "https://localhost:8080/"
        },
        "id": "scZuiT3yo3wj",
        "outputId": "894f2ede-ee53-4ba9-fef0-5cb03301450c"
      },
      "execution_count": null,
      "outputs": [
        {
          "output_type": "execute_result",
          "data": {
            "text/plain": [
              "2.220446049250313e-16"
            ]
          },
          "metadata": {},
          "execution_count": 5
        }
      ]
    },
    {
      "cell_type": "markdown",
      "source": [
        "コンピューターで扱う数値は 2 進数であり、分数が\n",
        "\n",
        "$$\n",
        "\\dfrac{a}{2^n}\n",
        "$$\n",
        "\n",
        "という形になる値でない限り、無限小数になる。2 進小数への変換に伴う誤差と計算機イプシロンの存在により、コンピューターによる小数計算の結果は、 10 進法での計算結果とは異なることが多い（公式チュートリアルのトピック「[浮動小数点演算、その問題と制限](https://docs.python.org/ja/3/tutorial/floatingpoint.html#tut-fp-issues)」参照）。"
      ],
      "metadata": {
        "id": "hr1iphxWQR29"
      }
    },
    {
      "cell_type": "code",
      "source": [
        "assert 0.1 + 0.1 + 0.1 != 0.3"
      ],
      "metadata": {
        "id": "kdXx45nUNdTN"
      },
      "execution_count": null,
      "outputs": []
    },
    {
      "cell_type": "markdown",
      "source": [
        "無限大\n",
        "------"
      ],
      "metadata": {
        "id": "jI9JJagsayS2"
      }
    },
    {
      "cell_type": "markdown",
      "source": [
        "浮動小数点数の演算が桁あふれを起こして、仮数部が 0 で、指数部が最大値になった状態は、符号が `-` でないなら**（正の）無限大**、符号が `-` なら**負の無限大**とされる。\n",
        "\n",
        "コンストラクタ `float()` の引数に文字列 `'inf'` または `'infinity'` を指定すると、正の無限大を生成する。小文字と大文字の区別はなく、小文字と大文字が混ざっていても問題ない。また、文字列 `'-inf'` または `'-infinity'` を指定すると、負の無限大を生成する。小文字と大文字の区別がないことは同様。`float('-inf')` と `- float('inf')` は等価である。\n",
        "\n",
        "正の無限大も負の無限大も、浮動小数点数の特殊な値とされ、比較 `==`、`!=`、`<`、`>`、`<=`、`>=` が可能である。浮動小数点数との比較では、正の無限大はどの浮動小数点数よりも大きく、負の無限大はどの浮動小数点数よりも小さい。一方、整数との比較では、Python の整数表現に上限がないのであるが、正の無限大はどの整数よりも大きいとされ、また、負の無限大はどの整数よりも小さいとされる。\n",
        "\n",
        "無限大から整数への変換は `OverflowError` 例外を送出する。また、浮動小数点数の最大値を超える整数から浮動小数点数への変換も `OverflowError` 例外を送出する。"
      ],
      "metadata": {
        "id": "KgjwypqhvVD3"
      }
    },
    {
      "cell_type": "code",
      "source": [
        "import sys\n",
        "\n",
        "inf = float(\"inf\")\n",
        "assert str(inf) == \"inf\"\n",
        "assert isinstance(inf, float)  # 無限大は float 型の値である\n",
        "assert inf > sys.float_info.max\n",
        "assert inf == sys.float_info.max * 2  # 意図的に桁あふれを起こさせる\n",
        "\n",
        "large_int = int(sys.float_info.max) * 2\n",
        "assert inf > large_int > sys.float_info.max  # 整数との比較でも、無限大は常に大きい\n",
        "#int(inf) # OverflowError\n",
        "#float(large_int) # OverflowError"
      ],
      "metadata": {
        "id": "I6jxZq4fxa-L"
      },
      "execution_count": null,
      "outputs": []
    },
    {
      "cell_type": "markdown",
      "source": [
        "ひとたび浮動小数点数が正の無限大となると、その値と、正の無限大でも負の無限大でもない値との和・差・積・商は正の無限大となる。負の無限大についても同様である。また、べき乗については、無限大の 0 乗は 1 で、1 の 無限大乗は 1 で、0 の 無限大乗は 0 で、それ以外は無限大となる。"
      ],
      "metadata": {
        "id": "4q94N5FP3k8S"
      }
    },
    {
      "cell_type": "code",
      "source": [
        "inf = float(\"inf\")\n",
        "assert inf + 1.0 == inf - 1.0 == inf * 2 == inf / 2 == inf ** 2 == 2 ** inf == inf\n",
        "assert inf ** 0 == 1 ** inf == 1"
      ],
      "metadata": {
        "id": "vSOGRQuM3lcx"
      },
      "execution_count": null,
      "outputs": []
    },
    {
      "cell_type": "markdown",
      "source": [
        "正の無限大（または負の無限大）同士の和・積・べき乗も定義され、いずれも正の無限大（または負の無限大）となる。"
      ],
      "metadata": {
        "id": "6SKEkC0J7LRn"
      }
    },
    {
      "cell_type": "code",
      "source": [
        "inf = float(\"inf\")\n",
        "assert inf + inf == inf * inf == inf ** inf == inf"
      ],
      "metadata": {
        "id": "Xwxow-CX7MgW"
      },
      "execution_count": null,
      "outputs": []
    },
    {
      "cell_type": "markdown",
      "source": [
        "標準ライブラリの `math` モジュールが提供する定数 `math.inf` は正の無限大を表す。また、`math.isinf(x)` 関数は `x` が正ないし負の無限大ならば `True` を返し、それ以外の場合に `False` を返す。"
      ],
      "metadata": {
        "id": "f-K-FCdK8_Wj"
      }
    },
    {
      "cell_type": "code",
      "source": [
        "import math\n",
        "import sys\n",
        "assert math.inf == float(\"inf\")\n",
        "assert math.isinf(sys.float_info.max * 2)"
      ],
      "metadata": {
        "id": "mKisgOG_9ANh"
      },
      "execution_count": null,
      "outputs": []
    },
    {
      "cell_type": "markdown",
      "source": [
        "非数\n",
        "----"
      ],
      "metadata": {
        "id": "G2NcYGaPAg2_"
      }
    },
    {
      "cell_type": "markdown",
      "source": [
        "**非数**は、NaN（**N**ot **a** **N**umber）と略し、主に浮動小数点演算において、不正な対象を与えられたために生じた結果を表す値またはシンボルとして使われる。IEEE 754 浮動小数点規格では、浮動小数点の指数部が最大値で、仮数部が 0 でない状態が NaN とされる。\n",
        "\n",
        "Python では、正の無限大（または負の無限大）同士の差・商は、NaN となる。\n",
        "\n",
        "コンストラクタ `float()` の引数に文字列 `'nan'` を指定すると、NaN を生成する。小文字と大文字の区別はなく、小文字と大文字が混ざっていても問題ない。\n",
        "\n",
        "NaN は、浮動小数点数の特殊な値とされるが、いかなる数値とも比較 `==`、`<`、`>`、`<=`、`>=` が `False` となる。NaN 同士でも同様で、`float('nan') == float('nan')` の評価結果は `False` となる。一方、NaN そのものは、真偽値が要求される場面で `True` と評価される。\n",
        "\n",
        "NaN を含む `+`, `-`, `*`, `/`, `**` などの演算結果はすべて NaN となる。"
      ],
      "metadata": {
        "id": "eHQE4VLcAhsk"
      }
    },
    {
      "cell_type": "code",
      "source": [
        "nan = float(\"NaN\")\n",
        "print(f\"{nan = }\")\n",
        "inf = float('inf')\n",
        "print(f\"{inf - inf = }\")  # 無限大同士の差は NaN となる\n",
        "assert isinstance(nan, float)  # NaN は float 型の値である\n",
        "assert nan != nan\n",
        "assert bool(nan)"
      ],
      "metadata": {
        "colab": {
          "base_uri": "https://localhost:8080/"
        },
        "id": "6oAWk3dhrmyC",
        "outputId": "295f6987-f9e5-4cde-fdf6-bfe9f4880ada"
      },
      "execution_count": null,
      "outputs": [
        {
          "output_type": "stream",
          "name": "stdout",
          "text": [
            "nan = nan\n",
            "inf - inf = nan\n"
          ]
        }
      ]
    },
    {
      "cell_type": "markdown",
      "source": [
        "`math` モジュールが提供する定数 `math.nan` は NaN を表す。また、`math.isnan(x)` 関数は `x` が NaN ならば `True` を返し、それ以外の場合に `False` を返す。"
      ],
      "metadata": {
        "id": "0dx6fCFwwxeO"
      }
    },
    {
      "cell_type": "code",
      "source": [
        "import math\n",
        "assert math.isnan(math.nan + 1)  # NaN を含む演算の結果は NaN"
      ],
      "metadata": {
        "id": "1tgVflg5wyZb"
      },
      "execution_count": null,
      "outputs": []
    },
    {
      "cell_type": "markdown",
      "source": [
        "数値演算\n",
        "--------"
      ],
      "metadata": {
        "id": "efVlqxwwa8LU"
      }
    },
    {
      "cell_type": "markdown",
      "source": [
        "### 組み込み関数 ###"
      ],
      "metadata": {
        "id": "nYDMTy34Gj3w"
      }
    },
    {
      "cell_type": "markdown",
      "source": [
        "以下は、数値演算を行う組み込み関数であり、引数の `x` や `y`、`z` は 浮動小数点数または整数である。\n",
        "\n",
        "| 関数 | 機能 | 戻り値 |\n",
        "|:---|:---|:--:|\n",
        "| `abs(x)` | `x` の絶対値を返す | 数値 |\n",
        "| `divmod(x, y)` | `(x // y, x % y)` という 2 要素タプルを返す | `tuple` |\n",
        "| `pow(x, y)` | `x ** y` と等価である | 数値 |\n",
        "| `pow(x, y, z)` | `x` の `y` 乗を `z` で割ったときの剰余を返す。`pow(x, y) % z` より効率よく計算される | 数値 |\n",
        "| `max(iterable, *, default, key=None)` | `iterable` の最大の要素が返される。`key` 引数は引数を 1 つ取る順序関数（`list.sort()` のもののように）を指定できる。`default` 引数は<br /> `iterable` が空の場合に返すオブジェクトを指定する。`iterable` が空で `default` が与えられていない場合 `ValueError` 例外が送出される | 数値 |\n",
        "| `max(arg1, arg2, *args, key=None)` | 2 つ以上のキーワード無しの位置引数が与えられた場合、その位置引数の中で最大のものが返される。`key` は上と同じ | 数値 |\n",
        "| `min(iterable, *, default, key=None)` | `iterable` の最小の要素が返される。`default` と `key` は上と同じ | 数値 |\n",
        "| `min(arg1, arg2, *args, key=None)` | 2 つ以上のキーワード無しの位置引数が与えられた場合、その位置引数の中で最小のものが返される。`key` は上と同じ | 数値 |\n",
        "| `sum(iterable, /, start=0)` | `start` と `iterable` の総和を足した値を返す | 数値 |\n",
        "| `round(x[, n])` | 丸め処理を行う。具体的には `x.__round__(n)` を呼び出す。`n` が省略された場合は `x.__round__(0)` を呼び出す | 数値 |\n",
        "\n",
        "`x.__round__(n)` メソッドは、$10^{-n}$ の桁の精度に丸めた値を返す。\n",
        "\n",
        "  * 引数 `n` が `2` の場合、$10^{-2}\\;(=0.01)$ の桁の精度、すなわち小数点以下第 2 位に丸める。\n",
        "  * 引数 `n` が `1` の場合、$10^{-1}\\;(=0.1)$ の桁の精度、すなわち小数点以下第 1 位に丸める。\n",
        "  * 引数 `n` が `0` の場合は、元の値に最も近い整数を返す。\n",
        "\n",
        "丸め方は「$10^{-n}$ の倍数の中で最も近いものに丸める」というもの。たとえば、`1.234` を小数点以下第 1 位に丸める場合、`0.1` の倍数の中で `1.234` に一番近い `1.2` に丸める。`1.267` を小数点以下第 1 位に丸める場合、`0.1` の倍数の中で `1.267` に一番近い `1.3` に丸める。1 つ下の桁に対して四捨五入する処理に相当する。\n",
        "\n",
        "**「最も近いもの」が 2 つある場合は、どちらに丸めるのか予測しづらい**。一応、「偶数を選ぶ」というルールはあって、これは「偶数丸め」や「銀行家の丸め」と呼ばれる。たとえば `1.25` を小数点以下第 1 位に丸める場合、`0.1` の倍数の中では `1.2` も `1.3` も `1.25` に同等に「最も近いもの」であるが、`1.2` を選ぶ。つねに五入するのではなく、五入と五捨を偶奇性で決めてバランスをとっているのである。しかしながら、ほとんどの小数は浮動小数点数では正確に表せないため、人間が考えるルールどおりにはならない。たとえば、「偶数丸め」なら、`1.15` を小数点以下第 1 位に丸める場合に `1.2` になるはずだが、`round(1.15, 1)` は `1.1` を返す。\n",
        "\n",
        "なお、引数 `n` は負の整数とすることもできる。`n` が `-1` の場合は、1 の位で四捨五入する。`n` が `-2` の場合は、10 の位で四捨五入する。"
      ],
      "metadata": {
        "id": "RMunCXd_QYy1"
      }
    },
    {
      "cell_type": "code",
      "source": [
        "assert abs(-123) == 123\n",
        "assert abs(3+4j) == 5.0  # 複素数の絶対値: 3**2+4**2 の非負の平方根\n",
        "assert divmod(123, 45) == (2, 33)\n",
        "assert pow(2, 4) == 16\n",
        "assert pow(123, 45, 6) == 3\n",
        "assert max(24, 12, 6) == 24\n",
        "assert min(24, 12, 6) == 6\n",
        "assert sum([1, 2, 3], 100) == 106\n",
        "assert round(0.1234, 2) == 0.12\n",
        "assert round(0.1267, 2) == 0.13\n",
        "assert round(123.45, -2) == 100.0\n",
        "assert round(167.89, -2) == 200.0"
      ],
      "metadata": {
        "id": "rVYmMkLFSJry"
      },
      "execution_count": null,
      "outputs": []
    },
    {
      "cell_type": "markdown",
      "source": [
        "### 数学関数 ###"
      ],
      "metadata": {
        "id": "SEClweDLIVvm"
      }
    },
    {
      "cell_type": "markdown",
      "source": [
        "以下は、`math` モジュールが提供する数学関数であり、引数の `x` や `y` は 浮動小数点数または整数である。\n",
        "\n",
        "| 関数 | 機能 | 戻り値 |\n",
        "|:---|:---|:---|\n",
        "| `math.prod(iterable, *, start=1)` | `start` と `iterable` の総乗を掛けた値を返す | 数値 |\n",
        "| `math.ceil(x)` | `x` の天井（`x` 以上の最小の整数）を返す | `int` |\n",
        "| `math.floor(x)` | `x` の床（`x` 以下の最大の整数）を返す | `int` |\n",
        "| `math.trunc(x)` | `x` の小数点以下を切り捨てる | `int` |\n",
        "| `math.fabs(x)` | `x` の絶対値を返す | 数値 |\n",
        "| `math.gcd(*integers)` | 整数引数の最大公約数を返す | `int` |\n",
        "| `math.lcm(*integers)` | 整数引数の最小公倍数を返す | `int` |\n",
        "| `math.log(x[, base])` | 引数が 1 つの場合、`x` の（e を底とする）自然対数を返す。引数が 2 つの場合、`base` を底とする `x` の対数を返す | `float` |\n",
        "| `math.log10(x)` | 10 を底とする `x` の対数（常用対数）を返す。`log(x, 10)` よりも高精度 | `float` |\n",
        "| `math.log2(x)` | 2 を底とする `x` の対数を返す。`log(x, 2)` よりも高精度 | `float` |\n",
        "| `math.pow(x, y)` | `x` の `y` 乗を返す。組み込みの `**` 演算子と違って、この関数は両方の引数を `float` 型に変換する | `float` |\n",
        "| `math.sqrt(x)` | `x` の平方根を返す。`math.pow(x, 1/2)` と同等 | `float` |\n",
        "| `math.radians(x)` | 角 `x` を度からラジアンに変換する | `float` |\n",
        "| `math.degrees(x)` | 角 `x` をラジアンから度に変換する | `float` |\n",
        "| `math.cos(x)` | `x` ラジアンの余弦（Cosine）を返す | `float` |\n",
        "| `math.sin(x)` | `x` ラジアンの正弦（Sine）を返す | `float` |\n",
        "| `math.tan(x)` | `x` ラジアンの正接（Tangent）を返す | `float` |\n",
        "| `math.acos(x)` | `x` の逆余弦をラジアンで返す。結果は 0 と $\\pi$ の間となる | `float` |\n",
        "| `math.asin(x)` | `x` の逆正弦をラジアンで返す。結果は $-\\pi/2$ と $\\pi/2$ の間となる | `float` |\n",
        "| `math.atan(x)` | `x` の逆正接をラジアンで返す。結果は $-\\pi/2$ と $\\pi/2$ の間となる | `float` |\n",
        "| `math.cosh(x)` | `x` の双曲線余弦を返す | `float` |\n",
        "| `math.sinh(x)` | `x` の双曲線正弦を返す | `float` |\n",
        "| `math.tanh(x)` | `x` の双曲線正接を返す | `float` |\n",
        "| `math.acosh(x)` | `x` の逆双曲線余弦を返す | `float` |\n",
        "| `math.asinh(x)` | `x` の逆双曲線正弦を返す | `float` |\n",
        "| `math.atanh(x)` | `x` の逆双曲線正接を返す | `float` |\n",
        "\n",
        "なお、`math` モジュールは以下の数学定数も提供している:\n",
        "\n",
        "  * `math.e`: ネイピア数（自然対数の底）\n",
        "  * `math.pi`: $\\pi$（円周率）"
      ],
      "metadata": {
        "id": "xbVM15ChIW7B"
      }
    },
    {
      "cell_type": "code",
      "source": [
        "import math\n",
        "assert math.prod(range(1, 6), start=10) == 1200\n",
        "assert math.ceil(1.7) == 2  # 1.7 以上の最小の整数\n",
        "assert math.floor(1.7) == 1  # 1.7 以下の最大の整数\n",
        "assert math.trunc(-1.7) == math.ceil(-1.7) == -1\n",
        "assert math.fabs(-1.7) == 1.7\n",
        "assert math.gcd(12, 18) == 6  # 12 = 2·3·4·6 と 18 = 2·3·6·9 の最大公約数\n",
        "assert math.lcm(12, 18) == 36  # (12, 24, 36, ...) と (18, 36, 54, ...) の最小公倍数\n",
        "assert math.log10(100) == 2.0  # 10 ** 2.0 = 100\n",
        "assert math.pow(2, 4) == 16.0\n",
        "assert round(math.sqrt(2), 3) == 1.414\n",
        "assert math.degrees(math.pi) == 180.0\n",
        "assert math.cos(math.pi) == -1.0\n",
        "assert math.sin(math.radians(90)) == 1.0\n",
        "assert round(math.tan(math.radians(45))) == 1\n",
        "assert math.acos(-1.0) == math.pi  # acos() は cos() の逆関数\n",
        "assert math.asin(1.0) == math.radians(90)  # asin() は sin() の逆関数\n",
        "assert math.atan(1.0) == math.radians(45)  # atan() は tan() の逆関数\n",
        "x = 2\n",
        "y1 = math.cosh(x)\n",
        "y2 = (math.pow(math.e, x) + math.pow(math.e, -x)) / 2\n",
        "assert round(y1, 10) == round(y2, 10)\n",
        "y1 = math.sinh(x)\n",
        "y2 = (math.pow(math.e, x) - math.pow(math.e, -x)) / 2\n",
        "assert round(y1, 10) == round(y2, 10)\n",
        "y1 = math.tanh(x)\n",
        "y2 = math.sinh(x) / math.cosh(x)\n",
        "assert round(y1, 10) == round(y2, 10)"
      ],
      "metadata": {
        "id": "spRQLjdiWq2e"
      },
      "execution_count": null,
      "outputs": []
    },
    {
      "cell_type": "markdown",
      "source": [
        "十進小数演算\n",
        "------------"
      ],
      "metadata": {
        "id": "8RygPdW91TAS"
      }
    },
    {
      "cell_type": "markdown",
      "source": [
        "### 十進数型 ###"
      ],
      "metadata": {
        "id": "bRGQOWrbsZnD"
      }
    },
    {
      "cell_type": "markdown",
      "source": [
        "利息計算、消費税計算、給与計算の端数処理のように 10 進法での小数の計算や丸めが必要な場合は、標準ライブラリの `decimal` モジュールが提供するクラス `decimal.Decimal` （十進数型）を使う。\n",
        "\n",
        "`decimal.Decimal` オブジェクトの基本的な性質は、次のとおり。\n",
        "\n",
        "  * 数値型と同じように比較や演算が行える。\n",
        "  * `str()` 関数に渡すと、与えられた数値を表す文字列が得られる。\n",
        "  * イミュータブルで、かつ、ハッシュ可能である。\n",
        "  * 有効桁数の表記が取り入れられ、末尾のゼロは有効数字を示すために残される。\n",
        "\n",
        "``` python\n",
        "decimal.Decimal(value='0', context=None)\n",
        "```\n",
        "\n",
        "`value` として 10 進小数を表現する文字列を渡してこのコンストラクタを呼び出すと、`value` の値を持つ `decimal.Decimal` のインスタンスが作成される。無限大や非数を表す文字列 `'Infinity'`, `'-Infinity'`, `'NaN'` を渡すこともできる。浮動小数点数を渡すこともできるが、そうすると浮動小数点数自体に含まれる誤差を持ち込むことになるので注意すること。"
      ],
      "metadata": {
        "id": "OES9cBMf1Qrs"
      }
    },
    {
      "cell_type": "code",
      "source": [
        "from decimal import Decimal\n",
        "from numbers import Number\n",
        "\n",
        "d = Decimal(str(0.1))\n",
        "assert isinstance(d, Number)\n",
        "print(f\"{str(d)=}\")\n",
        "assert d + d + d == Decimal(\"0.3\")  # 10進法での計算ができている\n",
        "f = Decimal(0.1)\n",
        "print(f\"{str(f)=}\")\n",
        "assert f + f + f != Decimal(\"0.3\")  # 浮動小数点数を使うと浮動小数点数に含まれる誤差による影響が出る\n",
        "\n",
        "assert Decimal(\"1.30\") + Decimal(\"1.20\") == Decimal(\"2.50\")  # 有効桁数 3 桁\n",
        "assert Decimal(\"1.30\") * Decimal(\"1.20\") == Decimal(\"1.5600\")  # 乗算では被演算子すべての桁数を使う方式をとる\n",
        "assert Decimal(\"1.30\") == Decimal(\"1.3000\")\n",
        "assert {d: \"hoge\"}[d] == \"hoge\"  # 辞書のキーに使える\n",
        "Decimal(\"Infinity\") + Decimal(\"NaN\")"
      ],
      "metadata": {
        "colab": {
          "base_uri": "https://localhost:8080/"
        },
        "id": "fQed-Tys21QA",
        "outputId": "50e40d87-10a6-4433-e2df-bc318dc5172d"
      },
      "execution_count": null,
      "outputs": [
        {
          "output_type": "stream",
          "name": "stdout",
          "text": [
            "str(d)='0.1'\n",
            "str(f)='0.1000000000000000055511151231257827021181583404541015625'\n"
          ]
        },
        {
          "output_type": "execute_result",
          "data": {
            "text/plain": [
              "Decimal('NaN')"
            ]
          },
          "metadata": {},
          "execution_count": 15
        }
      ]
    },
    {
      "cell_type": "markdown",
      "source": [
        "`decimal.Decimal` は、特別な演算を行うメソッドを持つ。\n",
        "\n",
        "| メソッド | 機能 | 戻り値 |\n",
        "|:---|:---|:---|\n",
        "| `exp(context=None)` | `value` での自然指数関数 `e ** value` の値を返す | `Decimal` |\n",
        "| `ln(context=None)` | `value` の自然対数（底 e の対数）を返す | `Decimal` |\n",
        "| `log10(context=None)` | `value` の常用対数（底 10 の対数）を返す | `Decimal` |\n",
        "| `sqrt(context=None)` | `value` の平方根を返す | `Decimal` |\n",
        "| `quantize(exp, rounding=None,`<br />` context=None)` | `value` を丸めた値を返す。`exp` で、求めたい桁数と同じ桁数の数値を `Decimal('0.1')` や `Decimal('0.01')` のように指定する。`rounding` で、<br />丸め方法を定数で指定できる | `Decimal` |\n",
        "\n",
        "丸め方法を指定する定数は、次のとおり。\n",
        "\n",
        "| 定数 | 意味 |\n",
        "|:---|:---|\n",
        "| `decimal.ROUND_HALF_EVEN` | 近い方に、引き分けは偶数整数方向に向けて丸める（デフォルト） |\n",
        "| `decimal.ROUND_UP` | 切り上げ |\n",
        "| `decimal.ROUND_DOWN` | 切り捨て |\n",
        "| `decimal.ROUND_CEILING` | 正の無限大方向への丸め |\n",
        "| `decimal.ROUND_FLOOR`| 負の無限大方向への丸め |\n",
        "| `decimal.ROUND_HALF_UP` | 四捨五入 |\n",
        "| `decimal.ROUND_HALF_DOWN` | 五捨六入 |\n",
        "| `decimal.ROUND_05UP` | ゼロ方向に丸めた後の最後の桁が 0 または 5 ならばゼロから遠い方向に、そうでなければゼロ方向に丸める |"
      ],
      "metadata": {
        "id": "KKL4f3cUAY4L"
      }
    },
    {
      "cell_type": "code",
      "source": [
        "from decimal import *\n",
        "\n",
        "print(f\"{Decimal('2').exp()=}\")  # e^2\n",
        "print(f\"{Decimal('2').ln()=}\")  # 2の自然対数\n",
        "print(f\"{Decimal('2').log10()=}\")  # 2の常用対数\n",
        "print(f\"{Decimal('2').sqrt()=}\")  # 2の平方根\n",
        "\n",
        "exp = Decimal(\"0.1\")  # 小数点第1位\n",
        "assert Decimal(\"1.15\").quantize(exp) == Decimal(\"1.2\")  # 偶数丸め\n",
        "assert Decimal(\"1.25\").quantize(exp) == Decimal(\"1.2\")  # 偶数丸め\n",
        "assert Decimal(\"1.25\").quantize(exp, ROUND_HALF_UP) == Decimal(\"1.3\")  # 四捨五入\n",
        "assert Decimal(\"1.25\").quantize(exp, ROUND_HALF_DOWN) == Decimal(\"1.2\")  # 五捨六入\n",
        "assert Decimal(\"1.04\").quantize(exp, ROUND_UP) == Decimal(\"1.1\")  # 切り上げ\n",
        "assert Decimal(\"1.06\").quantize(exp, ROUND_DOWN) == Decimal(\"1.0\")  # 切り捨て"
      ],
      "metadata": {
        "colab": {
          "base_uri": "https://localhost:8080/"
        },
        "id": "8kjDenkSkNn4",
        "outputId": "7436510d-0b88-4f09-e2fc-d3ed67847a66"
      },
      "execution_count": null,
      "outputs": [
        {
          "output_type": "stream",
          "name": "stdout",
          "text": [
            "Decimal('2').exp()=Decimal('7.389056098930650227230427461')\n",
            "Decimal('2').ln()=Decimal('0.6931471805599453094172321215')\n",
            "Decimal('2').log10()=Decimal('0.3010299956639811952137388947')\n",
            "Decimal('2').sqrt()=Decimal('1.414213562373095048801688724')\n"
          ]
        }
      ]
    },
    {
      "cell_type": "markdown",
      "source": [
        "### 算術コンテキスト ###"
      ],
      "metadata": {
        "id": "eQlSZ58uuS_P"
      }
    },
    {
      "cell_type": "markdown",
      "source": [
        "`decimal.Decimal` のコンストラクタやメソッドの `context` オプションには、`decimal.Context` オブジェクトを指定できる。`decimal.Context` オブジェクトは、 `decimal.Decimal` の算術演算における環境設定を管理するためのオブジェクトであり、次の属性を持つ。\n",
        "\n",
        "| 属性 | 意味 |\n",
        "|:---|:---|\n",
        "| `prec` | 計算精度を表す整数。デフォルトでは 28 桁 |\n",
        "| `rounding` | 丸め方法を定数で指定する |\n",
        "| `traps` | この属性はシグナルをキーとする辞書を参照していて、値に真偽値を指定することで送出するエラーを制御できる |\n",
        "\n",
        "`context` を指定しない場合は、現在有効な `decimal.Context` オブジェクトを指定したのと同様である。`decimal` モジュールをロードすると、自動的に `decimal.Context` オブジェクトが作成されて有効になっている。`decimal.getcontext()` 関数を使うと現在有効な `decimal.Context` オブジェクトにアクセスでき、設定を変更できる。"
      ],
      "metadata": {
        "id": "xTJOTd6KKeR2"
      }
    },
    {
      "cell_type": "code",
      "source": [
        "from decimal import Decimal, getcontext\n",
        "\n",
        "x = Decimal(\"10\")\n",
        "y = Decimal(\"7\")\n",
        "print(f\"{x / y = }\")\n",
        "getcontext().prec = 3\n",
        "print(f\"{x / y = }\")\n",
        "getcontext().traps  # traps の設定を確認"
      ],
      "metadata": {
        "colab": {
          "base_uri": "https://localhost:8080/"
        },
        "id": "67xb0EJ5AZuR",
        "outputId": "af5a537d-3d39-4c82-c9fa-2da41f601490"
      },
      "execution_count": null,
      "outputs": [
        {
          "output_type": "stream",
          "name": "stdout",
          "text": [
            "x / y = Decimal('1.428571428571428571428571429')\n",
            "x / y = Decimal('1.43')\n"
          ]
        },
        {
          "output_type": "execute_result",
          "data": {
            "text/plain": [
              "{<class 'decimal.InvalidOperation'>:True, <class 'decimal.FloatOperation'>:False, <class 'decimal.DivisionByZero'>:True, <class 'decimal.Overflow'>:True, <class 'decimal.Underflow'>:False, <class 'decimal.Subnormal'>:False, <class 'decimal.Inexact'>:False, <class 'decimal.Rounded'>:False, <class 'decimal.Clamped'>:False}"
            ]
          },
          "metadata": {},
          "execution_count": 17
        }
      ]
    },
    {
      "cell_type": "markdown",
      "source": [
        "`decimal.Context` オブジェクトの `traps` 属性のキー（シグナル）に対する値が `True` になっているものは、そのシグナルを例外として送出する。`decimal.FloatOperation` シグナルを `True` に指定すると、`float` 型が混在する場面でエラーが発生するようになる。これにより、浮動小数点数に含まれる誤差が持ち込まれることを防ぐことができる。"
      ],
      "metadata": {
        "id": "zDnbJRVEoqI-"
      }
    },
    {
      "cell_type": "code",
      "source": [
        "from decimal import Decimal, getcontext, FloatOperation\n",
        "\n",
        "getcontext().traps[FloatOperation] = True\n",
        "try:\n",
        "    d = Decimal(0.1)  # float を渡すとエラーが発生する\n",
        "except FloatOperation:\n",
        "    print(\"コンストラクタでFloatOperationが発生\")\n",
        "try:\n",
        "    Decimal(\"0.3\") < 1.5  # float と比較するとエラーが発生する\n",
        "except FloatOperation:\n",
        "    print(\"比較でFloatOperationが発生\")"
      ],
      "metadata": {
        "colab": {
          "base_uri": "https://localhost:8080/"
        },
        "id": "IBzwt4GUorCt",
        "outputId": "e9dae0ab-d0da-47eb-ccad-0c6e61795e59"
      },
      "execution_count": null,
      "outputs": [
        {
          "output_type": "stream",
          "name": "stdout",
          "text": [
            "コンストラクタでFloatOperationが発生\n",
            "比較でFloatOperationが発生\n"
          ]
        }
      ]
    },
    {
      "cell_type": "markdown",
      "source": [
        "分数計算\n",
        "--------"
      ],
      "metadata": {
        "id": "ZQ9BOHBfGF7W"
      }
    },
    {
      "cell_type": "markdown",
      "source": [
        "分数（有理数）の計算が必要な場合は、標準ライブラリの `fractions` モジュールが提供するクラス `fractions.Fraction` を使う。\n",
        "\n",
        "コンストラクタ `fractions.Fraction()` の引数は、いくつかのタイプがある。"
      ],
      "metadata": {
        "id": "17qfAW4sGGn4"
      }
    },
    {
      "cell_type": "code",
      "source": [
        "from fractions import Fraction\n",
        "\n",
        "assert Fraction(10, -8) == Fraction(-5, 4)  # 分子と分母を整数で指定\n",
        "assert Fraction() == Fraction(0, 1)  # 分子のデフォルトは0、分母のデフォルトは1\n",
        "assert Fraction(Fraction(1, 7), 5) == Fraction(1, 35)  # 分子を Fraction で指定\n",
        "assert Fraction(Fraction(1, 7), Fraction(2, 3)) == Fraction(3, 14)  # 分母も Fraction で指定\n",
        "assert Fraction('-35/4') == Fraction(-35, 4)  # 文字列で指定\n",
        "assert Fraction('1.47') ==  Fraction(147, 100)\n",
        "assert Fraction(1.47) == Fraction(6620291452234629, 4503599627370496)  # 浮動小数点数で指定\n",
        "\n",
        "# 十進数型にも対応している\n",
        "from decimal import Decimal\n",
        "assert Fraction(Decimal('1.47')) ==  Fraction(147, 100)  # 十進数型で指定"
      ],
      "metadata": {
        "id": "z0o-T7JiGLH-"
      },
      "execution_count": null,
      "outputs": []
    },
    {
      "cell_type": "markdown",
      "source": [
        "`fractions.Fraction()` は `numbers.Rational` のサブクラスである。"
      ],
      "metadata": {
        "id": "L43XdIRicvLg"
      }
    },
    {
      "cell_type": "code",
      "source": [
        "from fractions import Fraction\n",
        "from numbers import Rational\n",
        "\n",
        "assert issubclass(Fraction, Rational)\n",
        "assert isinstance(Fraction(1, 2), Rational)"
      ],
      "metadata": {
        "id": "asLSHdsWcws0"
      },
      "execution_count": null,
      "outputs": []
    },
    {
      "cell_type": "markdown",
      "source": [
        "分数の計算は、算術演算子を使って `fractions.Fraction` オブジェクト同士の計算ができる。"
      ],
      "metadata": {
        "id": "g2hyCNm-Pg9s"
      }
    },
    {
      "cell_type": "code",
      "source": [
        "from fractions import Fraction\n",
        "\n",
        "assert Fraction(1, 2) + Fraction(1, 3) == Fraction(5, 6)\n",
        "assert Fraction(1, 2) - Fraction(1, 3) == Fraction(1, 6)\n",
        "assert Fraction(2, 3) * Fraction(3, 4) == Fraction(1, 2)\n",
        "assert Fraction(2, 3) / Fraction(3, 4) == Fraction(8, 9)"
      ],
      "metadata": {
        "id": "x6Ef0lpOPh6u"
      },
      "execution_count": null,
      "outputs": []
    },
    {
      "cell_type": "markdown",
      "source": [
        "比較演算子による比較も可能。"
      ],
      "metadata": {
        "id": "FVoaEUhFRB7d"
      }
    },
    {
      "cell_type": "code",
      "source": [
        "from fractions import Fraction\n",
        "assert Fraction(7, 13) > Fraction(8, 15)"
      ],
      "metadata": {
        "id": "tVNUN7CFRCl9"
      },
      "execution_count": null,
      "outputs": []
    },
    {
      "cell_type": "markdown",
      "source": [
        "文字列、浮動小数点数、整数への変換は、それぞれ `str()`, `float()`, `int()` を使う。また、`fractions.Fraction` と `float` との演算結果は自動的に `float` に変換される。"
      ],
      "metadata": {
        "id": "T1hR_6hfRUP8"
      }
    },
    {
      "cell_type": "code",
      "source": [
        "from fractions import Fraction\n",
        "\n",
        "assert str(Fraction(2, 3)) == \"2/3\"\n",
        "assert float(Fraction(2, 3)) == 0.6666666666666666\n",
        "assert int(Fraction(4, 3)) == 1  # 小数点以下切り捨て\n",
        "assert Fraction(2, 3) * 1.0 == 0.6666666666666666"
      ],
      "metadata": {
        "id": "ztqridmuTaOe"
      },
      "execution_count": null,
      "outputs": []
    },
    {
      "cell_type": "markdown",
      "source": [
        "`fractions.Fraction` のプロパティ（読み出し専用）:\n",
        "\n",
        "| プロパティ | 意味 |\n",
        "|:---|:---|\n",
        "| `numerator` | 有理数を既約分数で表したときの分子 |\n",
        "| `denominator` | 有理数を既約分数で表したときの分母 |\n",
        "\n",
        "`fractions.Fraction` のメソッド:\n",
        "\n",
        "| メソッド | 機能 | 戻り値 |\n",
        "|:---|:---|:---|\n",
        "| `limit_denominator(max_denominator=1000000)` | 分母の上限を `max_denominator` に制限した有理数近似を返す | `Fraction` |"
      ],
      "metadata": {
        "id": "cc3JFQKyU5dg"
      }
    },
    {
      "cell_type": "code",
      "source": [
        "from fractions import Fraction\n",
        "\n",
        "pi = Fraction(3.141592653589793)  # 円周率\n",
        "assert pi.limit_denominator(10) == Fraction(\"22/7\")\n",
        "assert pi.limit_denominator(1000) == Fraction(\"355/113\")\n",
        "assert Fraction(0.3333333333333333).limit_denominator() == Fraction(\"1/3\")"
      ],
      "metadata": {
        "id": "4iGY7nofV47d"
      },
      "execution_count": null,
      "outputs": []
    },
    {
      "cell_type": "markdown",
      "source": [
        "統計計算\n",
        "--------"
      ],
      "metadata": {
        "id": "sPBce0Cwq0Au"
      }
    },
    {
      "cell_type": "markdown",
      "source": [
        "**算術平均（相加平均）**:\n",
        "\n",
        "　母平均（$N$ は母集団のデータ数）\n",
        "\n",
        "$$\n",
        "\\mu = \\dfrac{x_1 + x_2 + \\cdots + x_N}{N}\n",
        "$$\n",
        "\n",
        "　標本平均（$n$ は標本のデータ数）\n",
        "\n",
        "$$\n",
        "\\overline{x} = \\dfrac{x_1 + x_2 + \\cdots + x_n}{n}\n",
        "$$\n",
        "\n",
        "　算術平均は分布の中心を測る一般的な数値である。\n",
        "\n",
        "**幾何平均（相乗平均）**:\n",
        "\n",
        "$$\n",
        "\\overline{x}_G = \\sqrt[n]{x_1 \\times x_2 \\times \\cdots \\times x_n}\n",
        "$$\n",
        "\n",
        "　幾何平均は比率や割合で変化するものに対してその平均を求めるときに使う。ただし、データに負の値を含めることはできない。\n",
        "\n",
        "**調和平均**:\n",
        "\n",
        "$$\n",
        "\\overline{x}_H = \\dfrac{n}{\\dfrac{1}{x_1} + \\dfrac{1}{x_2} + \\cdots + \\dfrac{1}{x_n}}\n",
        "$$\n",
        "\n",
        "　調和平均は速度のような比率の平均を求めるときに使う。\n",
        "\n",
        "**最頻値**:\n",
        "\n",
        "　最も多く出現している値。\n",
        "\n",
        "**n 分位数**:\n",
        "\n",
        "　データを小さい順に並び替えたときに、データの数で $n$ 等分した時の $n-1$ 個の区切り値のこと。  \n",
        "　四分位数では小さい順に**第一四分位数（25 パーセンタイル）**、**中央値（50パーセンタイル）**、**第三四分位数（75パーセンタイル）**と呼ぶ。  \n",
        "　データが偶数個の場合は、中央に最も近い 2 つの値の平均値を中央値とする。  \n",
        "　また、第三四分位数から第一四分位数を引いた値を**四分位範囲**と呼ぶ。  \n",
        "\n",
        "**母分散**:\n",
        "\n",
        "$$\n",
        "\\sigma^2 = \\dfrac{(x_1 - \\mu)^2 + (x_2 - \\mu)^2 + \\cdots + (x_N - \\mu)^2}{N}\n",
        "$$\n",
        "\n",
        "　分散は平均からの平均二乗距離である。小さいほどデータの値は平均値に集まっていることを表す。  \n",
        "　各データから平均までの距離（**偏差**と呼ばれる）をそのまま平均しても 0 になってしまうので 2 乗している。\n",
        "\n",
        "**母標準偏差**:\n",
        "\n",
        "$$\n",
        "\\sigma = \\sqrt{\\sigma^2}\n",
        "$$\n",
        "\n",
        "　標準偏差は分散の平方根であり、データが平均からどの程度離れているかを示している。\n",
        "\n",
        "**標本分散**:\n",
        "\n",
        "$$\n",
        "s^2 = \\dfrac{(x_1 - \\overline{x})^2 + (x_2 - \\overline{x})^2 + \\cdots + (x_n - \\overline{x})^2}{n - 1}\n",
        "$$\n",
        "\n",
        "　標本分散ではデータ数 $n$ ではなく $n-1$ で割る。これは、母平均と違って標本平均 $\\overline{x}$ は 標本 $x$ の取り方によって偏りが生じるため。"
      ],
      "metadata": {
        "id": "wj0eckjPq00c"
      }
    },
    {
      "cell_type": "code",
      "source": [
        "# n-1 で割る理由を知りたいなら、次の動画が参考になる\n",
        "from IPython.display import YouTubeVideo\n",
        "YouTubeVideo('Ej8TS4a00VM?si=Ldh8YXPBx7OlHGQ_', width=640, height=360)"
      ],
      "metadata": {
        "colab": {
          "base_uri": "https://localhost:8080/",
          "height": 381
        },
        "id": "p_1j-FS1zFlN",
        "outputId": "da28f496-ca7b-4fed-8431-a9e81215177a"
      },
      "execution_count": null,
      "outputs": [
        {
          "output_type": "execute_result",
          "data": {
            "text/plain": [
              "<IPython.lib.display.YouTubeVideo at 0x7a537d060eb0>"
            ],
            "text/html": [
              "\n",
              "        <iframe\n",
              "            width=\"640\"\n",
              "            height=\"360\"\n",
              "            src=\"https://www.youtube.com/embed/Ej8TS4a00VM?si=Ldh8YXPBx7OlHGQ_\"\n",
              "            frameborder=\"0\"\n",
              "            allowfullscreen\n",
              "            \n",
              "        ></iframe>\n",
              "        "
            ]
          },
          "metadata": {},
          "execution_count": 25
        }
      ]
    },
    {
      "cell_type": "markdown",
      "source": [
        "**標本標準偏差**:\n",
        "\n",
        "$$\n",
        "s = \\sqrt{s^2}\n",
        "$$\n",
        "\n",
        "標準ライブラリの `statistics` モジュールは、統計計算のための関数を提供する。以下は、その主な関数であるが、引数 `data` は、`int`, `float`, `Decimal` または `Fraction` を含むシーケンスである。`data` が空の場合、 `statistics.StatisticsError` 例外が発生する。\n",
        "\n",
        "| 関数 | 機能 | 戻り値 |\n",
        "|:---|:---|:---|\n",
        "| `statistics.mean(data)` | `data` の算術平均を返す | 数値 |\n",
        "| `statistics.fmean(data, weights=None)` | `data` を `float` に変換し、算術平均を返す。`mean()` 関数よりも高速に実行され、常に `float` を返す。`data` の各<br />要素に重み付ける数値のリストを `weights` に指定できる | `float` |\n",
        "| `statistics.geometric_mean(data)` | `data` を `float` に変換し、幾何平均を返す | `float` |\n",
        "| `statistics.harmonic_mean(data, weights=None)` | `data` を `float` に変換し、調和平均を返す。`data` の各要素に重み付ける数値のリストを `weights` に指定できる | 数値 |\n",
        "| `statistics.median(data)` | `data` の中央値を返す | 数値 |\n",
        "| `statistics.mode(data)` | `data` の最頻値を返す | 数値 |\n",
        "| `statistics.quantiles(data, *, n=4, method='exclusive')` | `data` の `n` 分位数である `n-1` 個の数値のリストを返す | `list` |\n",
        "| `statistics.pvariance(data, mu=None)` | `data` の母分散を返す。既に `data` の平均値を計算している場合、それを第 2 引数 `mu` に渡して再計算を省略で<br />きる | `float` |\n",
        "| `statistics.pstdev(data, mu=None)` | `data` の母標準偏差を返す。第 2 引数 `mu` の意味は `pvariance()` と同じ | `float` |\n",
        "| `statistics.variance(data, xbar=None)` | `data` の標本分散を返す。既に `data` の平均値を計算している場合、それを第 2 引数 `xbar` に渡して再計算を省<br />略できる | `float` |\n",
        "| `statistics.stdev(data, xbar=None)` | `data` の標本標準偏差を返す。第 2 引数 `xbar` の意味は `variance()` と同じ | `float` |"
      ],
      "metadata": {
        "id": "Cn6i3s23z8Lo"
      }
    },
    {
      "cell_type": "code",
      "source": [
        "import math\n",
        "import statistics\n",
        "\n",
        "# 生徒10人の得点\n",
        "x = [70, 50, 80, 60, 50, 60, 70, 60, 90, 40]\n",
        "\n",
        "# 最頻値\n",
        "assert statistics.mode(x) == 60\n",
        "\n",
        "# 四分位数\n",
        "assert statistics.quantiles(x) == [50.0, 60.0, 72.5]\n",
        "\n",
        "# 中央値\n",
        "assert statistics.median(x) == 60.0\n",
        "\n",
        "# 母平均\n",
        "mu1 = statistics.fmean(x)\n",
        "mu2 = sum(x) / len(x)\n",
        "assert mu1 == mu2 == 63.0\n",
        "\n",
        "# 標本平均 -- 標本は x[2:] とした\n",
        "sample = x[2:]\n",
        "barx1 = statistics.fmean(sample)\n",
        "barx2 = sum(sample) / len(sample)\n",
        "assert barx1 == barx2 == 63.75\n",
        "\n",
        "# 母分散\n",
        "sigma_square1 = statistics.pvariance(x, mu1)\n",
        "sigma_square2 = sum([(xx - mu2) ** 2 for xx in x]) / len(x)\n",
        "assert sigma_square1 == sigma_square2 == 201.0\n",
        "\n",
        "# 母標準偏差\n",
        "assert round(statistics.pstdev(x, mu1), 1) == round(math.sqrt(sigma_square2), 1) == 14.2\n",
        "\n",
        "# 標本分散\n",
        "s_square1 = statistics.variance(sample, barx1)\n",
        "s_square2 = sum([(xx - barx2) ** 2 for xx in sample]) / (len(sample) - 1)\n",
        "assert round(s_square1, 1) == round(s_square2, 1) == 255.4\n",
        "\n",
        "# 標本標準偏差\n",
        "s1 = statistics.stdev(sample, barx1)\n",
        "s2 = math.sqrt(s_square2)\n",
        "assert round(s1, 1) == round(s2, 1) == 16.0\n",
        "\n",
        "# ある企業の年間売上高(万円)\n",
        "x = [50, 75, 60, 72]\n",
        "# 成長率\n",
        "growth_rate = [xx / x[i - 1] for i, xx in enumerate(x) if i > 0]\n",
        "assert growth_rate == [1.5, 0.8, 1.2]\n",
        "# 年平均成長率（幾何平均）\n",
        "cagr1 = statistics.geometric_mean(growth_rate)\n",
        "cagr2 = math.pow(math.prod(growth_rate), 1 / len(growth_rate))\n",
        "assert round(cagr1, 2) == round(cagr2, 2) == 1.13\n",
        "# 5年目の売上の予測は 720000 × 1.13 ≒ 813,600円\n",
        "\n",
        "# 1 km の道の行きの速度(km/h)と帰りの速度(km/h)\n",
        "x = [60, 30]\n",
        "# 往復の速度（調和平均） -- 距離は 2 km で、時間は (1/60 + 1/30) h\n",
        "y1 = statistics.harmonic_mean(x)\n",
        "y2 = len(x) / sum([1 / xx for xx in x])\n",
        "assert y1 == y2 == 40.0"
      ],
      "metadata": {
        "id": "xAS2-Um3YrNy"
      },
      "execution_count": null,
      "outputs": []
    },
    {
      "cell_type": "markdown",
      "source": [
        "擬似乱数\n",
        "--------"
      ],
      "metadata": {
        "id": "60rDaOg8Yv7f"
      }
    },
    {
      "cell_type": "markdown",
      "source": [
        "**擬似乱数**（pseudorandom numbers）とは、一見乱数のように規則性のない数の並びのように見えるが、再現性があり真の意味で乱数とは言えない数値（の列）を指す。真にランダムであるとは「計算できない」ことであるから、コンピューターが乱数を「計算する」ことは根本的に矛盾している。このため、コンピューターの「計算」によって得られる不規則的な数値は、必ず擬似乱数である。\n",
        "\n",
        "擬似乱数列を生成する関数を**擬似乱数列生成器**（pseudorandom number generator; PRNG）という。擬似乱数列生成器は、決まった数式と初期値を持ち、初期値から数式を計算して擬似乱数を生成していく。この初期値を**乱数の種**（random seed）という。乱数の種を変えることで、擬似乱数列生成器が生成する数値の列を変化させることができる。\n",
        "\n",
        "擬似乱数列生成器は、数値シミュレーションの目的で使われる。<font color=\"red\">擬似乱数は再現性があるので擬似乱数列生成器をセキュリティ目的に使用してはいけない</font>。\n",
        "\n",
        "標準ライブラリの `random` モジュールは、さまざまな擬似乱数列生成器を提供する。\n",
        "\n",
        "| 関数 | 機能 | 戻り値 |\n",
        "|:---|:---|:---|\n",
        "| `random.seed(a=None, version=2)` | 乱数の種を指定する。`a` が省略されるか `None` の場合、現在のシステム時刻が使用される。`a` が `int` の場合、それが直接使われる。<br />`a` が文字列やバイト列の場合、デフォルト（`version=2` の場合）では、`a` が `int` に変換され、そのビットがすべて使用される。`version`<br /> は Python 3.2 以前との互換性のためにあるオプションである | `None` |\n",
        "| `random.random()` | 0.0 から 1.0 までの範囲でランダムな浮動小数点数を返す | `float` |\n",
        "| `random.uniform(a, b)` | `a` と `b` の間のランダムな浮動小数点数を返す。`a <= b` の場合は `a + (b-a) * random()` と同じ。この計算の丸め処理のために `b` <br />が範囲に含まれない場合がある。`b < a` でもよく、この場合は 2 つの変数を入れ替えた式が適用される | `float` |\n",
        "| `random.randrange(stop)`<br />`random.randrange(start, stop[, step])` | `range(start, stop, step)` の要素からランダムに選ばれた要素を返す | `int` |\n",
        "| `random.randint(a, b)` | `a <= N <= b` であるようなランダムな整数 `N` を返す。`random.randrange(a, b+1)` と同じ | `int` |\n",
        "| `random.choice(seq)` | 空でないシーケンス `seq` からランダムに要素を返す。`seq` が空のときは、`IndexError` 例外が送出される | `seq` の要素 |\n",
        "| `random.choices(population, weights=None,`<br />` *, cum_weights=None, k=1)` | `population` から重複ありで選んだ要素からなる大きさ `k` のリストを返す。`population` が空の場合 `IndexError` 例外を送出する。<br />`weights` シーケンスが与えられた場合、相対的な重みに基づいて要素が選ばれる。`cum_weights` シーケンスが与えられた場合、累積<br />的な重みで要素が選ばれる | `list` |\n",
        "| `random.sample(population, k,`<br />` *, counts=None)` | 母集団のシーケンス `population` から選ばれた `k` 個の要素からなるリストを返す。`population` の各要素につき何個重複して選ぶ<br />ことができるかを整数のリストで `counts` に指定することができる | `list` |\n",
        "| `random.shuffle(x)` | シーケンス `x` の要素の順序をシャッフルする | `None` |\n",
        "\n",
        "`random.seed()` 関数を省略した場合、Python の `random` モジュールは システムの現在時刻や OS が提供するエントロピーソース をもとに、自動的に乱数の種を設定する。つまり、実行するたびに異なる乱数が生成される。\n",
        "\n",
        "`random.seed(固定値)` を設定すると、毎回同じ乱数列が生成される。乱数の再現性が必要な場合は `random.seed()` を設定し、予測不可能な乱数が欲しい場合は省略するとよい。"
      ],
      "metadata": {
        "id": "u_JfQAo6Hhbx"
      }
    },
    {
      "cell_type": "code",
      "source": [
        "import random\n",
        "\n",
        "random.seed(\"Python\")\n",
        "r11 = random.randrange(10**6, 10**7)\n",
        "r12 = random.randrange(10**6, 10**7)\n",
        "random.seed(\"Python\")\n",
        "r21 = random.randint(10**6, 10**7 - 1)\n",
        "r22 = random.randint(10**6, 10**7 - 1)\n",
        "# 乱数の種が同じなら、同じ疑似乱数が生成されていく\n",
        "assert r11 == r21 == 7648955\n",
        "assert r12 == r22 == 3710201\n",
        "\n",
        "x = list(range(10))\n",
        "assert x == [0, 1, 2, 3, 4, 5, 6, 7, 8, 9]\n",
        "random.seed(2)  # 乱数の種を固定\n",
        "assert random.choices(x, k=4) == [9, 9, 0, 0]  # 重複あり\n",
        "assert random.sample(x, 4) == [2, 4, 8, 7]  # 重複なし\n",
        "assert random.sample(x, 4, counts=[4] * 10) == [3, 9, 0, 9]  # 各要素 4 個まで重複を許可\n",
        "random.shuffle(x)\n",
        "assert x == [0, 1, 3, 9, 4, 5, 7, 8, 6, 2]  # x 自体が変更される"
      ],
      "metadata": {
        "id": "9a-VEXz9Q061"
      },
      "execution_count": null,
      "outputs": []
    }
  ]
}