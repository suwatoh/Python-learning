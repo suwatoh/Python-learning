{
  "nbformat": 4,
  "nbformat_minor": 0,
  "metadata": {
    "colab": {
      "provenance": [],
      "authorship_tag": "ABX9TyOZT4gZaSCcMk5ENrr38u6W",
      "include_colab_link": true
    },
    "kernelspec": {
      "name": "python3",
      "display_name": "Python 3"
    },
    "language_info": {
      "name": "python"
    },
    "widgets": {
      "application/vnd.jupyter.widget-state+json": {
        "78ef4285f69547d296c69cebf2c5c992": {
          "model_module": "@jupyter-widgets/controls",
          "model_name": "HBoxModel",
          "model_module_version": "1.5.0",
          "state": {
            "_dom_classes": [],
            "_model_module": "@jupyter-widgets/controls",
            "_model_module_version": "1.5.0",
            "_model_name": "HBoxModel",
            "_view_count": null,
            "_view_module": "@jupyter-widgets/controls",
            "_view_module_version": "1.5.0",
            "_view_name": "HBoxView",
            "box_style": "",
            "children": [
              "IPY_MODEL_05b8bfc0f962430d85bf70bee8a6cfa0",
              "IPY_MODEL_c02a6f9bac864d3bad9b2640f04b72e0",
              "IPY_MODEL_96467c754bd54125818a356e6434e68b"
            ],
            "layout": "IPY_MODEL_32292cd3f3b64d1fa820fc87e5e1700a"
          }
        },
        "05b8bfc0f962430d85bf70bee8a6cfa0": {
          "model_module": "@jupyter-widgets/controls",
          "model_name": "HTMLModel",
          "model_module_version": "1.5.0",
          "state": {
            "_dom_classes": [],
            "_model_module": "@jupyter-widgets/controls",
            "_model_module_version": "1.5.0",
            "_model_name": "HTMLModel",
            "_view_count": null,
            "_view_module": "@jupyter-widgets/controls",
            "_view_module_version": "1.5.0",
            "_view_name": "HTMLView",
            "description": "",
            "description_tooltip": null,
            "layout": "IPY_MODEL_08531ac82d1440e6b6b21e845dda31fb",
            "placeholder": "​",
            "style": "IPY_MODEL_38a7da9d634f4ef391fb386bf38f24f5",
            "value": "100%"
          }
        },
        "c02a6f9bac864d3bad9b2640f04b72e0": {
          "model_module": "@jupyter-widgets/controls",
          "model_name": "FloatProgressModel",
          "model_module_version": "1.5.0",
          "state": {
            "_dom_classes": [],
            "_model_module": "@jupyter-widgets/controls",
            "_model_module_version": "1.5.0",
            "_model_name": "FloatProgressModel",
            "_view_count": null,
            "_view_module": "@jupyter-widgets/controls",
            "_view_module_version": "1.5.0",
            "_view_name": "ProgressView",
            "bar_style": "success",
            "description": "",
            "description_tooltip": null,
            "layout": "IPY_MODEL_f842b35d8b7f4509937f23957ec19972",
            "max": 1000,
            "min": 0,
            "orientation": "horizontal",
            "style": "IPY_MODEL_c2ac756b2abf49b185c5899142a70d95",
            "value": 1000
          }
        },
        "96467c754bd54125818a356e6434e68b": {
          "model_module": "@jupyter-widgets/controls",
          "model_name": "HTMLModel",
          "model_module_version": "1.5.0",
          "state": {
            "_dom_classes": [],
            "_model_module": "@jupyter-widgets/controls",
            "_model_module_version": "1.5.0",
            "_model_name": "HTMLModel",
            "_view_count": null,
            "_view_module": "@jupyter-widgets/controls",
            "_view_module_version": "1.5.0",
            "_view_name": "HTMLView",
            "description": "",
            "description_tooltip": null,
            "layout": "IPY_MODEL_43d14222f62c4ae289c6ed8b95bb1b3b",
            "placeholder": "​",
            "style": "IPY_MODEL_e8e9137dcbdb44cc8a69cf62801b3bea",
            "value": " 1000/1000 [00:01&lt;00:00, 896.38it/s]"
          }
        },
        "32292cd3f3b64d1fa820fc87e5e1700a": {
          "model_module": "@jupyter-widgets/base",
          "model_name": "LayoutModel",
          "model_module_version": "1.2.0",
          "state": {
            "_model_module": "@jupyter-widgets/base",
            "_model_module_version": "1.2.0",
            "_model_name": "LayoutModel",
            "_view_count": null,
            "_view_module": "@jupyter-widgets/base",
            "_view_module_version": "1.2.0",
            "_view_name": "LayoutView",
            "align_content": null,
            "align_items": null,
            "align_self": null,
            "border": null,
            "bottom": null,
            "display": null,
            "flex": null,
            "flex_flow": null,
            "grid_area": null,
            "grid_auto_columns": null,
            "grid_auto_flow": null,
            "grid_auto_rows": null,
            "grid_column": null,
            "grid_gap": null,
            "grid_row": null,
            "grid_template_areas": null,
            "grid_template_columns": null,
            "grid_template_rows": null,
            "height": null,
            "justify_content": null,
            "justify_items": null,
            "left": null,
            "margin": null,
            "max_height": null,
            "max_width": null,
            "min_height": null,
            "min_width": null,
            "object_fit": null,
            "object_position": null,
            "order": null,
            "overflow": null,
            "overflow_x": null,
            "overflow_y": null,
            "padding": null,
            "right": null,
            "top": null,
            "visibility": null,
            "width": null
          }
        },
        "08531ac82d1440e6b6b21e845dda31fb": {
          "model_module": "@jupyter-widgets/base",
          "model_name": "LayoutModel",
          "model_module_version": "1.2.0",
          "state": {
            "_model_module": "@jupyter-widgets/base",
            "_model_module_version": "1.2.0",
            "_model_name": "LayoutModel",
            "_view_count": null,
            "_view_module": "@jupyter-widgets/base",
            "_view_module_version": "1.2.0",
            "_view_name": "LayoutView",
            "align_content": null,
            "align_items": null,
            "align_self": null,
            "border": null,
            "bottom": null,
            "display": null,
            "flex": null,
            "flex_flow": null,
            "grid_area": null,
            "grid_auto_columns": null,
            "grid_auto_flow": null,
            "grid_auto_rows": null,
            "grid_column": null,
            "grid_gap": null,
            "grid_row": null,
            "grid_template_areas": null,
            "grid_template_columns": null,
            "grid_template_rows": null,
            "height": null,
            "justify_content": null,
            "justify_items": null,
            "left": null,
            "margin": null,
            "max_height": null,
            "max_width": null,
            "min_height": null,
            "min_width": null,
            "object_fit": null,
            "object_position": null,
            "order": null,
            "overflow": null,
            "overflow_x": null,
            "overflow_y": null,
            "padding": null,
            "right": null,
            "top": null,
            "visibility": null,
            "width": null
          }
        },
        "38a7da9d634f4ef391fb386bf38f24f5": {
          "model_module": "@jupyter-widgets/controls",
          "model_name": "DescriptionStyleModel",
          "model_module_version": "1.5.0",
          "state": {
            "_model_module": "@jupyter-widgets/controls",
            "_model_module_version": "1.5.0",
            "_model_name": "DescriptionStyleModel",
            "_view_count": null,
            "_view_module": "@jupyter-widgets/base",
            "_view_module_version": "1.2.0",
            "_view_name": "StyleView",
            "description_width": ""
          }
        },
        "f842b35d8b7f4509937f23957ec19972": {
          "model_module": "@jupyter-widgets/base",
          "model_name": "LayoutModel",
          "model_module_version": "1.2.0",
          "state": {
            "_model_module": "@jupyter-widgets/base",
            "_model_module_version": "1.2.0",
            "_model_name": "LayoutModel",
            "_view_count": null,
            "_view_module": "@jupyter-widgets/base",
            "_view_module_version": "1.2.0",
            "_view_name": "LayoutView",
            "align_content": null,
            "align_items": null,
            "align_self": null,
            "border": null,
            "bottom": null,
            "display": null,
            "flex": null,
            "flex_flow": null,
            "grid_area": null,
            "grid_auto_columns": null,
            "grid_auto_flow": null,
            "grid_auto_rows": null,
            "grid_column": null,
            "grid_gap": null,
            "grid_row": null,
            "grid_template_areas": null,
            "grid_template_columns": null,
            "grid_template_rows": null,
            "height": null,
            "justify_content": null,
            "justify_items": null,
            "left": null,
            "margin": null,
            "max_height": null,
            "max_width": null,
            "min_height": null,
            "min_width": null,
            "object_fit": null,
            "object_position": null,
            "order": null,
            "overflow": null,
            "overflow_x": null,
            "overflow_y": null,
            "padding": null,
            "right": null,
            "top": null,
            "visibility": null,
            "width": null
          }
        },
        "c2ac756b2abf49b185c5899142a70d95": {
          "model_module": "@jupyter-widgets/controls",
          "model_name": "ProgressStyleModel",
          "model_module_version": "1.5.0",
          "state": {
            "_model_module": "@jupyter-widgets/controls",
            "_model_module_version": "1.5.0",
            "_model_name": "ProgressStyleModel",
            "_view_count": null,
            "_view_module": "@jupyter-widgets/base",
            "_view_module_version": "1.2.0",
            "_view_name": "StyleView",
            "bar_color": null,
            "description_width": ""
          }
        },
        "43d14222f62c4ae289c6ed8b95bb1b3b": {
          "model_module": "@jupyter-widgets/base",
          "model_name": "LayoutModel",
          "model_module_version": "1.2.0",
          "state": {
            "_model_module": "@jupyter-widgets/base",
            "_model_module_version": "1.2.0",
            "_model_name": "LayoutModel",
            "_view_count": null,
            "_view_module": "@jupyter-widgets/base",
            "_view_module_version": "1.2.0",
            "_view_name": "LayoutView",
            "align_content": null,
            "align_items": null,
            "align_self": null,
            "border": null,
            "bottom": null,
            "display": null,
            "flex": null,
            "flex_flow": null,
            "grid_area": null,
            "grid_auto_columns": null,
            "grid_auto_flow": null,
            "grid_auto_rows": null,
            "grid_column": null,
            "grid_gap": null,
            "grid_row": null,
            "grid_template_areas": null,
            "grid_template_columns": null,
            "grid_template_rows": null,
            "height": null,
            "justify_content": null,
            "justify_items": null,
            "left": null,
            "margin": null,
            "max_height": null,
            "max_width": null,
            "min_height": null,
            "min_width": null,
            "object_fit": null,
            "object_position": null,
            "order": null,
            "overflow": null,
            "overflow_x": null,
            "overflow_y": null,
            "padding": null,
            "right": null,
            "top": null,
            "visibility": null,
            "width": null
          }
        },
        "e8e9137dcbdb44cc8a69cf62801b3bea": {
          "model_module": "@jupyter-widgets/controls",
          "model_name": "DescriptionStyleModel",
          "model_module_version": "1.5.0",
          "state": {
            "_model_module": "@jupyter-widgets/controls",
            "_model_module_version": "1.5.0",
            "_model_name": "DescriptionStyleModel",
            "_view_count": null,
            "_view_module": "@jupyter-widgets/base",
            "_view_module_version": "1.2.0",
            "_view_name": "StyleView",
            "description_width": ""
          }
        },
        "45f30a6e9e204f0abdc5e2d733415821": {
          "model_module": "@jupyter-widgets/controls",
          "model_name": "HBoxModel",
          "model_module_version": "1.5.0",
          "state": {
            "_dom_classes": [],
            "_model_module": "@jupyter-widgets/controls",
            "_model_module_version": "1.5.0",
            "_model_name": "HBoxModel",
            "_view_count": null,
            "_view_module": "@jupyter-widgets/controls",
            "_view_module_version": "1.5.0",
            "_view_name": "HBoxView",
            "box_style": "",
            "children": [
              "IPY_MODEL_c748a2b21aa74e179bf4bea322408d16",
              "IPY_MODEL_65b1cfb9b01a47c4b037c784c00f4bff",
              "IPY_MODEL_b579eeeee6484469960ca2cd90b30a35"
            ],
            "layout": "IPY_MODEL_4d79ffcc6afc472aaac6eabb88ad0f1d"
          }
        },
        "c748a2b21aa74e179bf4bea322408d16": {
          "model_module": "@jupyter-widgets/controls",
          "model_name": "HTMLModel",
          "model_module_version": "1.5.0",
          "state": {
            "_dom_classes": [],
            "_model_module": "@jupyter-widgets/controls",
            "_model_module_version": "1.5.0",
            "_model_name": "HTMLModel",
            "_view_count": null,
            "_view_module": "@jupyter-widgets/controls",
            "_view_module_version": "1.5.0",
            "_view_name": "HTMLView",
            "description": "",
            "description_tooltip": null,
            "layout": "IPY_MODEL_f0067c0ca6424af6b296c33c1f3f7390",
            "placeholder": "​",
            "style": "IPY_MODEL_283e92e97dce46228d6b77c6779b8da1",
            "value": "Download: 100%"
          }
        },
        "65b1cfb9b01a47c4b037c784c00f4bff": {
          "model_module": "@jupyter-widgets/controls",
          "model_name": "FloatProgressModel",
          "model_module_version": "1.5.0",
          "state": {
            "_dom_classes": [],
            "_model_module": "@jupyter-widgets/controls",
            "_model_module_version": "1.5.0",
            "_model_name": "FloatProgressModel",
            "_view_count": null,
            "_view_module": "@jupyter-widgets/controls",
            "_view_module_version": "1.5.0",
            "_view_name": "ProgressView",
            "bar_style": "success",
            "description": "",
            "description_tooltip": null,
            "layout": "IPY_MODEL_72a7d6e5a56849f68f77e710a212b061",
            "max": 1000,
            "min": 0,
            "orientation": "horizontal",
            "style": "IPY_MODEL_5de8e21edbfb4d88af41d37b474487c9",
            "value": 1000
          }
        },
        "b579eeeee6484469960ca2cd90b30a35": {
          "model_module": "@jupyter-widgets/controls",
          "model_name": "HTMLModel",
          "model_module_version": "1.5.0",
          "state": {
            "_dom_classes": [],
            "_model_module": "@jupyter-widgets/controls",
            "_model_module_version": "1.5.0",
            "_model_name": "HTMLModel",
            "_view_count": null,
            "_view_module": "@jupyter-widgets/controls",
            "_view_module_version": "1.5.0",
            "_view_name": "HTMLView",
            "description": "",
            "description_tooltip": null,
            "layout": "IPY_MODEL_621baf8e20b84291b6593d189040db4e",
            "placeholder": "​",
            "style": "IPY_MODEL_5f58354d438749ed95f7ac47ae8f3929",
            "value": " 1.00k/1.00k [00:01&lt;00:00, 893B/s, loss=1.2]"
          }
        },
        "4d79ffcc6afc472aaac6eabb88ad0f1d": {
          "model_module": "@jupyter-widgets/base",
          "model_name": "LayoutModel",
          "model_module_version": "1.2.0",
          "state": {
            "_model_module": "@jupyter-widgets/base",
            "_model_module_version": "1.2.0",
            "_model_name": "LayoutModel",
            "_view_count": null,
            "_view_module": "@jupyter-widgets/base",
            "_view_module_version": "1.2.0",
            "_view_name": "LayoutView",
            "align_content": null,
            "align_items": null,
            "align_self": null,
            "border": null,
            "bottom": null,
            "display": null,
            "flex": null,
            "flex_flow": null,
            "grid_area": null,
            "grid_auto_columns": null,
            "grid_auto_flow": null,
            "grid_auto_rows": null,
            "grid_column": null,
            "grid_gap": null,
            "grid_row": null,
            "grid_template_areas": null,
            "grid_template_columns": null,
            "grid_template_rows": null,
            "height": null,
            "justify_content": null,
            "justify_items": null,
            "left": null,
            "margin": null,
            "max_height": null,
            "max_width": null,
            "min_height": null,
            "min_width": null,
            "object_fit": null,
            "object_position": null,
            "order": null,
            "overflow": null,
            "overflow_x": null,
            "overflow_y": null,
            "padding": null,
            "right": null,
            "top": null,
            "visibility": null,
            "width": null
          }
        },
        "f0067c0ca6424af6b296c33c1f3f7390": {
          "model_module": "@jupyter-widgets/base",
          "model_name": "LayoutModel",
          "model_module_version": "1.2.0",
          "state": {
            "_model_module": "@jupyter-widgets/base",
            "_model_module_version": "1.2.0",
            "_model_name": "LayoutModel",
            "_view_count": null,
            "_view_module": "@jupyter-widgets/base",
            "_view_module_version": "1.2.0",
            "_view_name": "LayoutView",
            "align_content": null,
            "align_items": null,
            "align_self": null,
            "border": null,
            "bottom": null,
            "display": null,
            "flex": null,
            "flex_flow": null,
            "grid_area": null,
            "grid_auto_columns": null,
            "grid_auto_flow": null,
            "grid_auto_rows": null,
            "grid_column": null,
            "grid_gap": null,
            "grid_row": null,
            "grid_template_areas": null,
            "grid_template_columns": null,
            "grid_template_rows": null,
            "height": null,
            "justify_content": null,
            "justify_items": null,
            "left": null,
            "margin": null,
            "max_height": null,
            "max_width": null,
            "min_height": null,
            "min_width": null,
            "object_fit": null,
            "object_position": null,
            "order": null,
            "overflow": null,
            "overflow_x": null,
            "overflow_y": null,
            "padding": null,
            "right": null,
            "top": null,
            "visibility": null,
            "width": null
          }
        },
        "283e92e97dce46228d6b77c6779b8da1": {
          "model_module": "@jupyter-widgets/controls",
          "model_name": "DescriptionStyleModel",
          "model_module_version": "1.5.0",
          "state": {
            "_model_module": "@jupyter-widgets/controls",
            "_model_module_version": "1.5.0",
            "_model_name": "DescriptionStyleModel",
            "_view_count": null,
            "_view_module": "@jupyter-widgets/base",
            "_view_module_version": "1.2.0",
            "_view_name": "StyleView",
            "description_width": ""
          }
        },
        "72a7d6e5a56849f68f77e710a212b061": {
          "model_module": "@jupyter-widgets/base",
          "model_name": "LayoutModel",
          "model_module_version": "1.2.0",
          "state": {
            "_model_module": "@jupyter-widgets/base",
            "_model_module_version": "1.2.0",
            "_model_name": "LayoutModel",
            "_view_count": null,
            "_view_module": "@jupyter-widgets/base",
            "_view_module_version": "1.2.0",
            "_view_name": "LayoutView",
            "align_content": null,
            "align_items": null,
            "align_self": null,
            "border": null,
            "bottom": null,
            "display": null,
            "flex": null,
            "flex_flow": null,
            "grid_area": null,
            "grid_auto_columns": null,
            "grid_auto_flow": null,
            "grid_auto_rows": null,
            "grid_column": null,
            "grid_gap": null,
            "grid_row": null,
            "grid_template_areas": null,
            "grid_template_columns": null,
            "grid_template_rows": null,
            "height": null,
            "justify_content": null,
            "justify_items": null,
            "left": null,
            "margin": null,
            "max_height": null,
            "max_width": null,
            "min_height": null,
            "min_width": null,
            "object_fit": null,
            "object_position": null,
            "order": null,
            "overflow": null,
            "overflow_x": null,
            "overflow_y": null,
            "padding": null,
            "right": null,
            "top": null,
            "visibility": null,
            "width": null
          }
        },
        "5de8e21edbfb4d88af41d37b474487c9": {
          "model_module": "@jupyter-widgets/controls",
          "model_name": "ProgressStyleModel",
          "model_module_version": "1.5.0",
          "state": {
            "_model_module": "@jupyter-widgets/controls",
            "_model_module_version": "1.5.0",
            "_model_name": "ProgressStyleModel",
            "_view_count": null,
            "_view_module": "@jupyter-widgets/base",
            "_view_module_version": "1.2.0",
            "_view_name": "StyleView",
            "bar_color": null,
            "description_width": ""
          }
        },
        "621baf8e20b84291b6593d189040db4e": {
          "model_module": "@jupyter-widgets/base",
          "model_name": "LayoutModel",
          "model_module_version": "1.2.0",
          "state": {
            "_model_module": "@jupyter-widgets/base",
            "_model_module_version": "1.2.0",
            "_model_name": "LayoutModel",
            "_view_count": null,
            "_view_module": "@jupyter-widgets/base",
            "_view_module_version": "1.2.0",
            "_view_name": "LayoutView",
            "align_content": null,
            "align_items": null,
            "align_self": null,
            "border": null,
            "bottom": null,
            "display": null,
            "flex": null,
            "flex_flow": null,
            "grid_area": null,
            "grid_auto_columns": null,
            "grid_auto_flow": null,
            "grid_auto_rows": null,
            "grid_column": null,
            "grid_gap": null,
            "grid_row": null,
            "grid_template_areas": null,
            "grid_template_columns": null,
            "grid_template_rows": null,
            "height": null,
            "justify_content": null,
            "justify_items": null,
            "left": null,
            "margin": null,
            "max_height": null,
            "max_width": null,
            "min_height": null,
            "min_width": null,
            "object_fit": null,
            "object_position": null,
            "order": null,
            "overflow": null,
            "overflow_x": null,
            "overflow_y": null,
            "padding": null,
            "right": null,
            "top": null,
            "visibility": null,
            "width": null
          }
        },
        "5f58354d438749ed95f7ac47ae8f3929": {
          "model_module": "@jupyter-widgets/controls",
          "model_name": "DescriptionStyleModel",
          "model_module_version": "1.5.0",
          "state": {
            "_model_module": "@jupyter-widgets/controls",
            "_model_module_version": "1.5.0",
            "_model_name": "DescriptionStyleModel",
            "_view_count": null,
            "_view_module": "@jupyter-widgets/base",
            "_view_module_version": "1.2.0",
            "_view_name": "StyleView",
            "description_width": ""
          }
        },
        "6e3a279705b64b6bb39c547feff35af7": {
          "model_module": "@jupyter-widgets/controls",
          "model_name": "HBoxModel",
          "model_module_version": "1.5.0",
          "state": {
            "_dom_classes": [],
            "_model_module": "@jupyter-widgets/controls",
            "_model_module_version": "1.5.0",
            "_model_name": "HBoxModel",
            "_view_count": null,
            "_view_module": "@jupyter-widgets/controls",
            "_view_module_version": "1.5.0",
            "_view_name": "HBoxView",
            "box_style": "",
            "children": [
              "IPY_MODEL_d59db4124bd845d682eb97f4561e465c",
              "IPY_MODEL_bc6c1bd8364040ba849c1999260f0aec",
              "IPY_MODEL_6a40d5af391d41a7b4dae0e4e0f45dc4"
            ],
            "layout": "IPY_MODEL_4b5192ed354840b38d4cb97af1361442"
          }
        },
        "d59db4124bd845d682eb97f4561e465c": {
          "model_module": "@jupyter-widgets/controls",
          "model_name": "HTMLModel",
          "model_module_version": "1.5.0",
          "state": {
            "_dom_classes": [],
            "_model_module": "@jupyter-widgets/controls",
            "_model_module_version": "1.5.0",
            "_model_name": "HTMLModel",
            "_view_count": null,
            "_view_module": "@jupyter-widgets/controls",
            "_view_module_version": "1.5.0",
            "_view_name": "HTMLView",
            "description": "",
            "description_tooltip": null,
            "layout": "IPY_MODEL_6a2fdfa4e30a4269b339e145747f94fc",
            "placeholder": "​",
            "style": "IPY_MODEL_de17839485f5416aa658d3435e456453",
            "value": "[train] Epoch 4: 100%"
          }
        },
        "bc6c1bd8364040ba849c1999260f0aec": {
          "model_module": "@jupyter-widgets/controls",
          "model_name": "FloatProgressModel",
          "model_module_version": "1.5.0",
          "state": {
            "_dom_classes": [],
            "_model_module": "@jupyter-widgets/controls",
            "_model_module_version": "1.5.0",
            "_model_name": "FloatProgressModel",
            "_view_count": null,
            "_view_module": "@jupyter-widgets/controls",
            "_view_module_version": "1.5.0",
            "_view_name": "ProgressView",
            "bar_style": "success",
            "description": "",
            "description_tooltip": null,
            "layout": "IPY_MODEL_283ccf4e76d4452b9201caa927a37861",
            "max": 5,
            "min": 0,
            "orientation": "horizontal",
            "style": "IPY_MODEL_bac5af247297465e9ea02d145eb609d9",
            "value": 5
          }
        },
        "6a40d5af391d41a7b4dae0e4e0f45dc4": {
          "model_module": "@jupyter-widgets/controls",
          "model_name": "HTMLModel",
          "model_module_version": "1.5.0",
          "state": {
            "_dom_classes": [],
            "_model_module": "@jupyter-widgets/controls",
            "_model_module_version": "1.5.0",
            "_model_name": "HTMLModel",
            "_view_count": null,
            "_view_module": "@jupyter-widgets/controls",
            "_view_module_version": "1.5.0",
            "_view_name": "HTMLView",
            "description": "",
            "description_tooltip": null,
            "layout": "IPY_MODEL_38ffa6dbffc842e097ebe36d384d508a",
            "placeholder": "​",
            "style": "IPY_MODEL_1f3fa077ae2a4af58fba01c19187a2ee",
            "value": " 5/5 [00:05&lt;00:00,  1.00s/it, loss=0.2, acc=0.4]"
          }
        },
        "4b5192ed354840b38d4cb97af1361442": {
          "model_module": "@jupyter-widgets/base",
          "model_name": "LayoutModel",
          "model_module_version": "1.2.0",
          "state": {
            "_model_module": "@jupyter-widgets/base",
            "_model_module_version": "1.2.0",
            "_model_name": "LayoutModel",
            "_view_count": null,
            "_view_module": "@jupyter-widgets/base",
            "_view_module_version": "1.2.0",
            "_view_name": "LayoutView",
            "align_content": null,
            "align_items": null,
            "align_self": null,
            "border": null,
            "bottom": null,
            "display": null,
            "flex": null,
            "flex_flow": null,
            "grid_area": null,
            "grid_auto_columns": null,
            "grid_auto_flow": null,
            "grid_auto_rows": null,
            "grid_column": null,
            "grid_gap": null,
            "grid_row": null,
            "grid_template_areas": null,
            "grid_template_columns": null,
            "grid_template_rows": null,
            "height": null,
            "justify_content": null,
            "justify_items": null,
            "left": null,
            "margin": null,
            "max_height": null,
            "max_width": null,
            "min_height": null,
            "min_width": null,
            "object_fit": null,
            "object_position": null,
            "order": null,
            "overflow": null,
            "overflow_x": null,
            "overflow_y": null,
            "padding": null,
            "right": null,
            "top": null,
            "visibility": null,
            "width": null
          }
        },
        "6a2fdfa4e30a4269b339e145747f94fc": {
          "model_module": "@jupyter-widgets/base",
          "model_name": "LayoutModel",
          "model_module_version": "1.2.0",
          "state": {
            "_model_module": "@jupyter-widgets/base",
            "_model_module_version": "1.2.0",
            "_model_name": "LayoutModel",
            "_view_count": null,
            "_view_module": "@jupyter-widgets/base",
            "_view_module_version": "1.2.0",
            "_view_name": "LayoutView",
            "align_content": null,
            "align_items": null,
            "align_self": null,
            "border": null,
            "bottom": null,
            "display": null,
            "flex": null,
            "flex_flow": null,
            "grid_area": null,
            "grid_auto_columns": null,
            "grid_auto_flow": null,
            "grid_auto_rows": null,
            "grid_column": null,
            "grid_gap": null,
            "grid_row": null,
            "grid_template_areas": null,
            "grid_template_columns": null,
            "grid_template_rows": null,
            "height": null,
            "justify_content": null,
            "justify_items": null,
            "left": null,
            "margin": null,
            "max_height": null,
            "max_width": null,
            "min_height": null,
            "min_width": null,
            "object_fit": null,
            "object_position": null,
            "order": null,
            "overflow": null,
            "overflow_x": null,
            "overflow_y": null,
            "padding": null,
            "right": null,
            "top": null,
            "visibility": null,
            "width": null
          }
        },
        "de17839485f5416aa658d3435e456453": {
          "model_module": "@jupyter-widgets/controls",
          "model_name": "DescriptionStyleModel",
          "model_module_version": "1.5.0",
          "state": {
            "_model_module": "@jupyter-widgets/controls",
            "_model_module_version": "1.5.0",
            "_model_name": "DescriptionStyleModel",
            "_view_count": null,
            "_view_module": "@jupyter-widgets/base",
            "_view_module_version": "1.2.0",
            "_view_name": "StyleView",
            "description_width": ""
          }
        },
        "283ccf4e76d4452b9201caa927a37861": {
          "model_module": "@jupyter-widgets/base",
          "model_name": "LayoutModel",
          "model_module_version": "1.2.0",
          "state": {
            "_model_module": "@jupyter-widgets/base",
            "_model_module_version": "1.2.0",
            "_model_name": "LayoutModel",
            "_view_count": null,
            "_view_module": "@jupyter-widgets/base",
            "_view_module_version": "1.2.0",
            "_view_name": "LayoutView",
            "align_content": null,
            "align_items": null,
            "align_self": null,
            "border": null,
            "bottom": null,
            "display": null,
            "flex": null,
            "flex_flow": null,
            "grid_area": null,
            "grid_auto_columns": null,
            "grid_auto_flow": null,
            "grid_auto_rows": null,
            "grid_column": null,
            "grid_gap": null,
            "grid_row": null,
            "grid_template_areas": null,
            "grid_template_columns": null,
            "grid_template_rows": null,
            "height": null,
            "justify_content": null,
            "justify_items": null,
            "left": null,
            "margin": null,
            "max_height": null,
            "max_width": null,
            "min_height": null,
            "min_width": null,
            "object_fit": null,
            "object_position": null,
            "order": null,
            "overflow": null,
            "overflow_x": null,
            "overflow_y": null,
            "padding": null,
            "right": null,
            "top": null,
            "visibility": null,
            "width": null
          }
        },
        "bac5af247297465e9ea02d145eb609d9": {
          "model_module": "@jupyter-widgets/controls",
          "model_name": "ProgressStyleModel",
          "model_module_version": "1.5.0",
          "state": {
            "_model_module": "@jupyter-widgets/controls",
            "_model_module_version": "1.5.0",
            "_model_name": "ProgressStyleModel",
            "_view_count": null,
            "_view_module": "@jupyter-widgets/base",
            "_view_module_version": "1.2.0",
            "_view_name": "StyleView",
            "bar_color": null,
            "description_width": ""
          }
        },
        "38ffa6dbffc842e097ebe36d384d508a": {
          "model_module": "@jupyter-widgets/base",
          "model_name": "LayoutModel",
          "model_module_version": "1.2.0",
          "state": {
            "_model_module": "@jupyter-widgets/base",
            "_model_module_version": "1.2.0",
            "_model_name": "LayoutModel",
            "_view_count": null,
            "_view_module": "@jupyter-widgets/base",
            "_view_module_version": "1.2.0",
            "_view_name": "LayoutView",
            "align_content": null,
            "align_items": null,
            "align_self": null,
            "border": null,
            "bottom": null,
            "display": null,
            "flex": null,
            "flex_flow": null,
            "grid_area": null,
            "grid_auto_columns": null,
            "grid_auto_flow": null,
            "grid_auto_rows": null,
            "grid_column": null,
            "grid_gap": null,
            "grid_row": null,
            "grid_template_areas": null,
            "grid_template_columns": null,
            "grid_template_rows": null,
            "height": null,
            "justify_content": null,
            "justify_items": null,
            "left": null,
            "margin": null,
            "max_height": null,
            "max_width": null,
            "min_height": null,
            "min_width": null,
            "object_fit": null,
            "object_position": null,
            "order": null,
            "overflow": null,
            "overflow_x": null,
            "overflow_y": null,
            "padding": null,
            "right": null,
            "top": null,
            "visibility": null,
            "width": null
          }
        },
        "1f3fa077ae2a4af58fba01c19187a2ee": {
          "model_module": "@jupyter-widgets/controls",
          "model_name": "DescriptionStyleModel",
          "model_module_version": "1.5.0",
          "state": {
            "_model_module": "@jupyter-widgets/controls",
            "_model_module_version": "1.5.0",
            "_model_name": "DescriptionStyleModel",
            "_view_count": null,
            "_view_module": "@jupyter-widgets/base",
            "_view_module_version": "1.2.0",
            "_view_name": "StyleView",
            "description_width": ""
          }
        },
        "4b6f3aa5f51a4d07b31a7ec1ab0dfbb3": {
          "model_module": "@jupyter-widgets/controls",
          "model_name": "HBoxModel",
          "model_module_version": "1.5.0",
          "state": {
            "_dom_classes": [],
            "_model_module": "@jupyter-widgets/controls",
            "_model_module_version": "1.5.0",
            "_model_name": "HBoxModel",
            "_view_count": null,
            "_view_module": "@jupyter-widgets/controls",
            "_view_module_version": "1.5.0",
            "_view_name": "HBoxView",
            "box_style": "",
            "children": [
              "IPY_MODEL_4bac41de9a5647c9adbea910b69ad6e2",
              "IPY_MODEL_a2f69fd222fe4d5398785085b35bbfb3",
              "IPY_MODEL_09886c58296042fb81a794e481a41d07"
            ],
            "layout": "IPY_MODEL_ae3eb531628e4f878cfb4faf9581f4fc"
          }
        },
        "4bac41de9a5647c9adbea910b69ad6e2": {
          "model_module": "@jupyter-widgets/controls",
          "model_name": "HTMLModel",
          "model_module_version": "1.5.0",
          "state": {
            "_dom_classes": [],
            "_model_module": "@jupyter-widgets/controls",
            "_model_module_version": "1.5.0",
            "_model_name": "HTMLModel",
            "_view_count": null,
            "_view_module": "@jupyter-widgets/controls",
            "_view_module_version": "1.5.0",
            "_view_name": "HTMLView",
            "description": "",
            "description_tooltip": null,
            "layout": "IPY_MODEL_9fb0b5789b144b10b10d945400f86539",
            "placeholder": "​",
            "style": "IPY_MODEL_d6e6d8a66f5a4838b63f29bf948d535a",
            "value": "100%"
          }
        },
        "a2f69fd222fe4d5398785085b35bbfb3": {
          "model_module": "@jupyter-widgets/controls",
          "model_name": "FloatProgressModel",
          "model_module_version": "1.5.0",
          "state": {
            "_dom_classes": [],
            "_model_module": "@jupyter-widgets/controls",
            "_model_module_version": "1.5.0",
            "_model_name": "FloatProgressModel",
            "_view_count": null,
            "_view_module": "@jupyter-widgets/controls",
            "_view_module_version": "1.5.0",
            "_view_name": "ProgressView",
            "bar_style": "success",
            "description": "",
            "description_tooltip": null,
            "layout": "IPY_MODEL_f7e6d9d516c14069b37e9f44f19a2ca7",
            "max": 10,
            "min": 0,
            "orientation": "horizontal",
            "style": "IPY_MODEL_15eb038eeaaf4cdb89e36acd2674517f",
            "value": 10
          }
        },
        "09886c58296042fb81a794e481a41d07": {
          "model_module": "@jupyter-widgets/controls",
          "model_name": "HTMLModel",
          "model_module_version": "1.5.0",
          "state": {
            "_dom_classes": [],
            "_model_module": "@jupyter-widgets/controls",
            "_model_module_version": "1.5.0",
            "_model_name": "HTMLModel",
            "_view_count": null,
            "_view_module": "@jupyter-widgets/controls",
            "_view_module_version": "1.5.0",
            "_view_name": "HTMLView",
            "description": "",
            "description_tooltip": null,
            "layout": "IPY_MODEL_85cfc218fd0041ac9dd0e9580d85317d",
            "placeholder": "​",
            "style": "IPY_MODEL_cd2f9bce4d2f4a61b9e40da1e6e6881c",
            "value": " 10/10 [00:02&lt;00:00,  2.56it/s]"
          }
        },
        "ae3eb531628e4f878cfb4faf9581f4fc": {
          "model_module": "@jupyter-widgets/base",
          "model_name": "LayoutModel",
          "model_module_version": "1.2.0",
          "state": {
            "_model_module": "@jupyter-widgets/base",
            "_model_module_version": "1.2.0",
            "_model_name": "LayoutModel",
            "_view_count": null,
            "_view_module": "@jupyter-widgets/base",
            "_view_module_version": "1.2.0",
            "_view_name": "LayoutView",
            "align_content": null,
            "align_items": null,
            "align_self": null,
            "border": null,
            "bottom": null,
            "display": null,
            "flex": null,
            "flex_flow": null,
            "grid_area": null,
            "grid_auto_columns": null,
            "grid_auto_flow": null,
            "grid_auto_rows": null,
            "grid_column": null,
            "grid_gap": null,
            "grid_row": null,
            "grid_template_areas": null,
            "grid_template_columns": null,
            "grid_template_rows": null,
            "height": null,
            "justify_content": null,
            "justify_items": null,
            "left": null,
            "margin": null,
            "max_height": null,
            "max_width": null,
            "min_height": null,
            "min_width": null,
            "object_fit": null,
            "object_position": null,
            "order": null,
            "overflow": null,
            "overflow_x": null,
            "overflow_y": null,
            "padding": null,
            "right": null,
            "top": null,
            "visibility": null,
            "width": null
          }
        },
        "9fb0b5789b144b10b10d945400f86539": {
          "model_module": "@jupyter-widgets/base",
          "model_name": "LayoutModel",
          "model_module_version": "1.2.0",
          "state": {
            "_model_module": "@jupyter-widgets/base",
            "_model_module_version": "1.2.0",
            "_model_name": "LayoutModel",
            "_view_count": null,
            "_view_module": "@jupyter-widgets/base",
            "_view_module_version": "1.2.0",
            "_view_name": "LayoutView",
            "align_content": null,
            "align_items": null,
            "align_self": null,
            "border": null,
            "bottom": null,
            "display": null,
            "flex": null,
            "flex_flow": null,
            "grid_area": null,
            "grid_auto_columns": null,
            "grid_auto_flow": null,
            "grid_auto_rows": null,
            "grid_column": null,
            "grid_gap": null,
            "grid_row": null,
            "grid_template_areas": null,
            "grid_template_columns": null,
            "grid_template_rows": null,
            "height": null,
            "justify_content": null,
            "justify_items": null,
            "left": null,
            "margin": null,
            "max_height": null,
            "max_width": null,
            "min_height": null,
            "min_width": null,
            "object_fit": null,
            "object_position": null,
            "order": null,
            "overflow": null,
            "overflow_x": null,
            "overflow_y": null,
            "padding": null,
            "right": null,
            "top": null,
            "visibility": null,
            "width": null
          }
        },
        "d6e6d8a66f5a4838b63f29bf948d535a": {
          "model_module": "@jupyter-widgets/controls",
          "model_name": "DescriptionStyleModel",
          "model_module_version": "1.5.0",
          "state": {
            "_model_module": "@jupyter-widgets/controls",
            "_model_module_version": "1.5.0",
            "_model_name": "DescriptionStyleModel",
            "_view_count": null,
            "_view_module": "@jupyter-widgets/base",
            "_view_module_version": "1.2.0",
            "_view_name": "StyleView",
            "description_width": ""
          }
        },
        "f7e6d9d516c14069b37e9f44f19a2ca7": {
          "model_module": "@jupyter-widgets/base",
          "model_name": "LayoutModel",
          "model_module_version": "1.2.0",
          "state": {
            "_model_module": "@jupyter-widgets/base",
            "_model_module_version": "1.2.0",
            "_model_name": "LayoutModel",
            "_view_count": null,
            "_view_module": "@jupyter-widgets/base",
            "_view_module_version": "1.2.0",
            "_view_name": "LayoutView",
            "align_content": null,
            "align_items": null,
            "align_self": null,
            "border": null,
            "bottom": null,
            "display": null,
            "flex": null,
            "flex_flow": null,
            "grid_area": null,
            "grid_auto_columns": null,
            "grid_auto_flow": null,
            "grid_auto_rows": null,
            "grid_column": null,
            "grid_gap": null,
            "grid_row": null,
            "grid_template_areas": null,
            "grid_template_columns": null,
            "grid_template_rows": null,
            "height": null,
            "justify_content": null,
            "justify_items": null,
            "left": null,
            "margin": null,
            "max_height": null,
            "max_width": null,
            "min_height": null,
            "min_width": null,
            "object_fit": null,
            "object_position": null,
            "order": null,
            "overflow": null,
            "overflow_x": null,
            "overflow_y": null,
            "padding": null,
            "right": null,
            "top": null,
            "visibility": null,
            "width": null
          }
        },
        "15eb038eeaaf4cdb89e36acd2674517f": {
          "model_module": "@jupyter-widgets/controls",
          "model_name": "ProgressStyleModel",
          "model_module_version": "1.5.0",
          "state": {
            "_model_module": "@jupyter-widgets/controls",
            "_model_module_version": "1.5.0",
            "_model_name": "ProgressStyleModel",
            "_view_count": null,
            "_view_module": "@jupyter-widgets/base",
            "_view_module_version": "1.2.0",
            "_view_name": "StyleView",
            "bar_color": null,
            "description_width": ""
          }
        },
        "85cfc218fd0041ac9dd0e9580d85317d": {
          "model_module": "@jupyter-widgets/base",
          "model_name": "LayoutModel",
          "model_module_version": "1.2.0",
          "state": {
            "_model_module": "@jupyter-widgets/base",
            "_model_module_version": "1.2.0",
            "_model_name": "LayoutModel",
            "_view_count": null,
            "_view_module": "@jupyter-widgets/base",
            "_view_module_version": "1.2.0",
            "_view_name": "LayoutView",
            "align_content": null,
            "align_items": null,
            "align_self": null,
            "border": null,
            "bottom": null,
            "display": null,
            "flex": null,
            "flex_flow": null,
            "grid_area": null,
            "grid_auto_columns": null,
            "grid_auto_flow": null,
            "grid_auto_rows": null,
            "grid_column": null,
            "grid_gap": null,
            "grid_row": null,
            "grid_template_areas": null,
            "grid_template_columns": null,
            "grid_template_rows": null,
            "height": null,
            "justify_content": null,
            "justify_items": null,
            "left": null,
            "margin": null,
            "max_height": null,
            "max_width": null,
            "min_height": null,
            "min_width": null,
            "object_fit": null,
            "object_position": null,
            "order": null,
            "overflow": null,
            "overflow_x": null,
            "overflow_y": null,
            "padding": null,
            "right": null,
            "top": null,
            "visibility": null,
            "width": null
          }
        },
        "cd2f9bce4d2f4a61b9e40da1e6e6881c": {
          "model_module": "@jupyter-widgets/controls",
          "model_name": "DescriptionStyleModel",
          "model_module_version": "1.5.0",
          "state": {
            "_model_module": "@jupyter-widgets/controls",
            "_model_module_version": "1.5.0",
            "_model_name": "DescriptionStyleModel",
            "_view_count": null,
            "_view_module": "@jupyter-widgets/base",
            "_view_module_version": "1.2.0",
            "_view_name": "StyleView",
            "description_width": ""
          }
        }
      }
    }
  },
  "cells": [
    {
      "cell_type": "markdown",
      "metadata": {
        "id": "view-in-github",
        "colab_type": "text"
      },
      "source": [
        "<a href=\"https://colab.research.google.com/github/suwatoh/Python-learning/blob/main/128_%E3%83%97%E3%83%AD%E3%82%BB%E3%82%B9%E3%81%A8%E3%82%B9%E3%83%AC%E3%83%83%E3%83%89.ipynb\" target=\"_parent\"><img src=\"https://colab.research.google.com/assets/colab-badge.svg\" alt=\"Open In Colab\"/></a>"
      ]
    },
    {
      "cell_type": "markdown",
      "source": [
        "プロセスとスレッド\n",
        "=================="
      ],
      "metadata": {
        "id": "enRm31HrFafz"
      }
    },
    {
      "cell_type": "markdown",
      "source": [
        "並行処理と並列処理\n",
        "------------------"
      ],
      "metadata": {
        "id": "AX1zuRGc2t9f"
      }
    },
    {
      "cell_type": "markdown",
      "source": [
        "現代の CPU の内部には、独立して処理作業を行う回路のブロックが複数組み込まれており、それぞれが単体の処理装置のように振る舞う。これらを **CPU コア**と呼ぶ。CPU が複数の CPU コアを持つことを**マルチコア**（multi-core）と表現する。\n",
        "\n",
        "CPU コアに処理させる対象が複数あって、処理を「同時に」行わせたい場合、CPU コアの処理形態には次の 2 種類がある。\n",
        "\n",
        "  * **並行処理**（concurrent processing）:  \n",
        "*1 個の CPU コア* が複数の処理を切り替えながら進めること。「複数の処理を切り替え」るとは、開始した処理を中断し、別の処理を再開することをいう。\n",
        "  * **並列処理**（parallel processing）:  \n",
        "*複数の CPU コア* が割り振られた処理を同時に進めること。\n",
        "\n",
        "並行処理では、どの時間でも 1 個の CPU コアが 1 つの処理作業を行っているにすぎないが、処理の切り替えを素早く行うことによって「同時に」行っているように見せかける。これは、ワンオペレーションの飲食店で全ての作業が切り盛りされる様子に似ている（画像は[いらすとや](https://www.irasutoya.com/2018/06/blog-post_850.html)より）。\n",
        "\n",
        "<img src=\"https://blogger.googleusercontent.com/img/b/R29vZ2xl/AVvXsEh5Dn4bGYN7AWxje4ecO8Ezh6Qqdn82HjlXE2iJtVj8Sl51a6DKoUTr5YrLloo8wRlf13YuzBPRAJ_mKW2TtYhOSIrAOiNg1WTBEpbMdf5enBQuuWnu6zeoxd2qhptHd-YYtUPwB01dKIA0/s800/job_one_operation_man.png\" width=\"400\">\n",
        "\n",
        "並列処理では、複数の CPU コアを使って真の意味で「同時に」処理が進められるので、並行処理より確実に処理時間が短くなる。しかしながら、並列処理を行うには同時に行う処理の数に対して CPU コアの数が足りていることが必要であり、この条件がいつも満たされるとは限らない。"
      ],
      "metadata": {
        "id": "gw8zmv9y2uwF"
      }
    },
    {
      "cell_type": "markdown",
      "source": [
        "プロセスとスレッド\n",
        "------------------"
      ],
      "metadata": {
        "id": "FqxQre1dVtNv"
      }
    },
    {
      "cell_type": "markdown",
      "source": [
        "### プロセス ###"
      ],
      "metadata": {
        "id": "_KEypNPJVt1r"
      }
    },
    {
      "cell_type": "markdown",
      "source": [
        "**プロセス**（process）は、プログラムを実行する実体（インスタンス）である。ハードディスク上に存在するプログラムがメモリ上に展開され、CPU で実行されている状態を指す。OS は、各プロセスを識別するために**プロセス ID**（process ID; PID）と呼ばれる一意な識別子を割り当てる。Linux では `ps` コマンド、Windows では `tasklist` コマンドで現在実行中のプロセスが一覧表示される。プロセスが終了すると、OS は割り当てたメモリを解放する。"
      ],
      "metadata": {
        "id": "6lYfa1goC5hr"
      }
    },
    {
      "cell_type": "code",
      "source": [
        "!ps"
      ],
      "metadata": {
        "colab": {
          "base_uri": "https://localhost:8080/"
        },
        "id": "vvOdkw1oC6rD",
        "outputId": "2ace11ac-3afb-42e3-92f3-f557510b4619"
      },
      "execution_count": null,
      "outputs": [
        {
          "output_type": "stream",
          "name": "stdout",
          "text": [
            "    PID TTY          TIME CMD\n",
            "      1 ?        00:00:00 docker-init\n",
            "      7 ?        00:00:00 node\n",
            "     11 ?        00:00:00 oom_monitor.sh\n",
            "     13 ?        00:00:00 run.sh\n",
            "     14 ?        00:00:00 kernel_manager_\n",
            "     37 ?        00:00:00 tail\n",
            "     63 ?        00:00:06 python3 <defunct>\n",
            "     64 ?        00:00:00 colab-fileshim.\n",
            "     82 ?        00:00:03 jupyter-noteboo\n",
            "     83 ?        00:00:00 dap_multiplexer\n",
            "    599 ?        00:00:03 python3\n",
            "    626 ?        00:00:00 python3\n",
            "    654 ?        00:00:00 language_servic\n",
            "    662 ?        00:00:18 node\n",
            "    794 ?        00:00:00 sleep\n",
            "    795 ?        00:00:00 ps\n"
          ]
        }
      ]
    },
    {
      "cell_type": "markdown",
      "source": [
        "実行中のプロセスに関して、以下の Python 関数が利用できる。\n",
        "\n",
        "| 関数 | 機能 | 戻り値 |\n",
        "|:---|:---|:---|\n",
        "| `os.getpid()` | 実行中のプロセス ID を返す | `int` |\n",
        "| `os.getppid()` | 親プロセス（実行中のプロセスを生成したプロセス）のプロセス ID を返す | `int` |"
      ],
      "metadata": {
        "id": "TrXG2ByLQfgI"
      }
    },
    {
      "cell_type": "code",
      "source": [
        "import os\n",
        "os.getpid(), os.getppid()"
      ],
      "metadata": {
        "colab": {
          "base_uri": "https://localhost:8080/"
        },
        "id": "qRLbaT9vQhAF",
        "outputId": "a638f280-6e20-4d9a-f153-acc341e9f605"
      },
      "execution_count": null,
      "outputs": [
        {
          "output_type": "execute_result",
          "data": {
            "text/plain": [
              "(599, 82)"
            ]
          },
          "metadata": {},
          "execution_count": 2
        }
      ]
    },
    {
      "cell_type": "markdown",
      "source": [
        "Unix 系 OS では、実行中のプロセスに関する情報を取得・設定する以下の Python 関数が利用できる。\n",
        "\n",
        "| 関数 | 機能 | 戻り値 |\n",
        "|:---|:---|:---|\n",
        "| `os.getuid()` | 実行中のプロセスの実ユーザー ID を返す | `int` |\n",
        "| `os.geteuid()` | 実行中のプロセスの実効ユーザー ID を返す | `int` |\n",
        "| `os.getgid()` | 実行中のプロセスの実グループ ID を返す | `int` |\n",
        "| `os.getegid()` | 実行中のプロセスの実効グループ ID を返す | `int` |\n",
        "| `os.getgroups()` | 実行中のプロセスに関連付けられた従属グループ ID のリストを返す | `list` |\n",
        "| `os.getpriority(which, who)` | プログラムのスケジューリング優先度を取得する。`which` は `PRIO_PROCESS`、`PRIO_PGRP`、あるいは `PRIO_USER` のいずれかとする。`who` <br />は `which` に応じて解釈される（`PRIO_PROCESS` であればプロセス ID、`PRIO_PGRP` であればプロセスグループ ID、そして `PRIO_USER` であ<br />ればユーザー ID)。`who` が `0` の場合、実行中のプロセス、そのグループと実ユーザー ID を意味する | `list` |\n",
        "| `os.setuid(uid, /)` | 実行中のプロセスのユーザー id を設定する | `int` |\n",
        "| `os.seteuid(euid, /)` | 実行中のプロセスに実効ユーザー ID をセットする | `None` |\n",
        "| `os.setgid(gid, /)` | 実行中のプロセスにグループ ID をセットする | `None` |\n",
        "| `os.setegid(egid, /)` | 実行中のプロセスに実効グループ ID をセットする | `None` |\n",
        "| `os.setgroups(groups, /)` | 実行中のグループに関連付けられた従属グループ ID のリストを `groups` に設定する。`groups` はグループを特定する整数のリストとす<br />る。通常、この操作はスーパユーザーしか利用できない | `None` |\n",
        "| `os.setpriority(which, who, priority)` | プログラムのスケジューリング優先度を設定する。`which` と `who` は `os.getpriority()` と同じ。`priority` は `-20` から `19` の整数値で、<br />デフォルトの優先度は `0`。小さい数値ほど優先されるスケジューリングとなる | `None` |\n",
        "\n",
        "これらの関数は Windows では定義されない（呼び出すと `AttributeError` 例外が発生する）。"
      ],
      "metadata": {
        "id": "4ERA_zfzQ-jc"
      }
    },
    {
      "cell_type": "code",
      "source": [
        "import os\n",
        "os.getuid(), os.geteuid(), os.getgid(), os.getegid(), os.getgroups(), os.getpriority(os.PRIO_PROCESS, 0)"
      ],
      "metadata": {
        "colab": {
          "base_uri": "https://localhost:8080/"
        },
        "id": "VNUBcQeSRo0s",
        "outputId": "213fe3a5-6cdd-4959-8d56-afeb4a589b71"
      },
      "execution_count": null,
      "outputs": [
        {
          "output_type": "execute_result",
          "data": {
            "text/plain": [
              "(0, 0, 0, 0, [0], 0)"
            ]
          },
          "metadata": {},
          "execution_count": 3
        }
      ]
    },
    {
      "cell_type": "markdown",
      "source": [
        "メモリ上でプロセスは次のような構成となる。\n",
        "\n",
        "  * **テキストセグメント**: プログラムそのものが格納される読み出し専用の領域\n",
        "  * **データセグメント**:\n",
        "      * **静的領域**: 定数やグローバル変数を格納する領域\n",
        "      * **ヒープ領域**: オブジェクトのように、実行するまで容量が未確定で一時的に必要とするデータを格納する領域\n",
        "  * **スタックセグメント**: 関数とその中に定義された変数を下から順に格納し、上から実行され取り出されていく領域。**スタック領域**ともいう。\n",
        "\n",
        "``` text\n",
        "             メモリマップ\n",
        "0xffffffff┏━━━━━━━━┓\n",
        "          ┃                ┃\n",
        "          ┃  スタック領域  ┃ スタックセグメント\n",
        "      SP→┃                ┃\n",
        "          ┣━━━━━━━━┫\n",
        "                   ↓ 自動拡張\n",
        "\n",
        "          ┏━━━━━━━━┓\n",
        "          ┃共有ライブラリ１┃\n",
        "          ┗━━━━━━━━┛\n",
        "          ┏━━━━━━━━┓\n",
        "          ┃共有ライブラリ２┃\n",
        "          ┗━━━━━━━━┛\n",
        "\n",
        "                   ↑ 自動拡張\n",
        "          ┣━━━━━━━━┫\n",
        "          ┃                ┃\n",
        "          ┃   ヒープ領域   ┃\n",
        "          ┃                ┃ データセグメント\n",
        "          ┠────────┨\n",
        "          ┃    静的領域    ┃\n",
        "          ┣━━━━━━━━┫\n",
        "          ┃                ┃\n",
        "      PC→┃                ┃ テキストセグメント\n",
        "          ┃                ┃ （読み出し専用）\n",
        "         0┗━━━━━━━━┛\n",
        "\n",
        "```\n",
        "\n",
        "ヒープ領域が不足すると、Python は `MemoryError` 例外を送出する。スタック領域が不足すると、Python はエラー（stack overflow）を出してインタープリターの実行を中断する。\n",
        "\n",
        "共有ライブラリは、ヒープ領域とスタック領域の間にある。どの番地に割り当てられるかは、システムに依存する。\n",
        "\n",
        "また、メモリとは別に、 CPU 内にはレジスタと呼ばれる記憶装置があり、そこにはスタック領域のどこを見ているかを指す**スタックポインタ**（SP）と、プログラムのどこを実行しているかを指す**プログラムカウンタ**（PC）が置かれている。プロセスは、メモリ上の構成と SP、PC を最小セットする。このデータの最小セットを**コンテキスト**（context）と呼ぶ。"
      ],
      "metadata": {
        "id": "JuCMYgN9WAWM"
      }
    },
    {
      "cell_type": "markdown",
      "source": [
        "### マルチプロセス ###"
      ],
      "metadata": {
        "id": "WHNaZW_eaY9E"
      }
    },
    {
      "cell_type": "markdown",
      "source": [
        "同時に実行するプロセスが複数存在することを**マルチプロセス**（multiprocessing）という。マルチプロセスでも各プロセスにコンテキストが作られることに変わりはないから、各プロセスのメモリ空間は独立していてメモリ上のデータを共有することはない。\n",
        "\n",
        "1 つの CPU コアは 1 つのプロセスだけが利用できる。CPU コアが足りていれば、マルチプロセスは並列処理される。CPU コアが不足すれば、マルチプロセスは並行処理される。1 つの CPU コアで実行されるプロセスが切り替わることは**コンテキストスイッチ**（context switching）と呼ばれる。具体的には、CPU コアがあるプロセスを実行している最中に処理を中断して現在のプロセスのコンテキストを特定のメモリ領域などに保存し、別のプロセスのコンテキストを読み込んで処理を再開するということが行われる。コンテキストスイッチによるプロセスの切り替えは、人間には認識できないほどに高速に行われるため、複数のプロセスが同時に実行されているように感じられる。"
      ],
      "metadata": {
        "id": "A2K5FOgeaaCo"
      }
    },
    {
      "cell_type": "markdown",
      "source": [
        "### スレッド ###"
      ],
      "metadata": {
        "id": "ZRqVQbUbeXFl"
      }
    },
    {
      "cell_type": "markdown",
      "source": [
        "1 つのアプリケーション内で複数のプロセスを起動し並列処理を行うことも可能である。しかしながら、各プロセスは独立のメモリ空間が割り当てられるので、起動時にそれなりのオーバーヘッドが発生する。また、プロセス間でデータを交換するには特別な仕組みが必要となる。\n",
        "\n",
        "そこで、1 つのプロセス内で並列処理を行う仕組みが作られた。このとき各 CPU コアを占有する一連の処理の流れのことを**スレッド**（thread）と呼ぶ。つまり、スレッドはプロセスより細かい CPU コア利用の最小単位とされるものである。プロセス起動時には必ず 1 個のスレッドが生成されるので、1 個のプロセスには最小限 1 個のスレッドが存在する。プロセス起動時に生成されるスレッドを**メインスレッド**と呼ぶ。メインスレッドから枝分かれするスレッドが存在することを**マルチスレッド**（multithread）といい、マルチスレッドでないものは**シングルスレッド**（singlethread）という。枝分かれしたスレッドからさらに枝分かれすることもできる。\n",
        "\n",
        "``` text\n",
        "            \n",
        "  ┏━━━━━━━━━━┓     ┏━━━━━━━━━━━━━━┓\n",
        "  ┃（シングルスレッド）┃     ┃     （マルチスレッド）     ┃\n",
        "  ┃    ┌────┐    ┃     ┃        ┌────┐        ┃\n",
        "  ┃    │ 処理Ａ │    ┃     ┃        │ 処理Ａ │        ┃\n",
        "  ┃    └────┘    ┃     ┃        └────┘        ┃\n",
        "  ┃         ↓         ┃     ┃         ↙        ↘         ┃\n",
        "  ┃    ┌────┐    ┃     ┃ ┌────┐  ┌────┐ ┃\n",
        "  ┃    │ 処理Ｂ │    ┃     ┃ │ 処理Ｂ │  │ 処理Ｄ │ ┃\n",
        "  ┃    └────┘    ┃     ┃ └────┘  └────┘ ┃\n",
        "  ┃         ↓         ┃     ┃      ↓            ↓      ┃\n",
        "  ┃    ┌────┐    ┃     ┃ ┌────┐  ┌────┐ ┃\n",
        "  ┃    │ 処理Ｃ │    ┃     ┃ │ 処理Ｃ │  │ 処理Ｅ │ ┃\n",
        "  ┃    └────┘    ┃     ┃ └────┘  └────┘ ┃\n",
        "  ┗━━━━━━━━━━┛     ┗━━━━━━━━━━━━━━┛\n",
        "```\n",
        "\n",
        "スレッドは、メモリのスタック領域とスタックポインタとプログラムカウンタから構成される。ヒープ領域と静的領域は同じものをスレッド間で共有する。つまり、処理を行う関数などの流れを作成して、変数などのデータは共有するという仕組みである。スレッドの構成はプロセスの構成より小さいため、スレッド生成時に発生するオーバーヘッドはプロセス生成時のものより少ない。また、共有するデータについてはスレッド間でデータ交換を行う必要がない。\n",
        "\n",
        "スレッドは CPU コアを占有するから、並列処理が可能なスレッドの数は物理的に存在するコア数に制限されるはずである。しかしながら、この制限を緩和する技術として**同時マルチスレッディング**（Simultaneous Multi-Threading; **SMT**）が存在する。ハイパースレッディング・テクノロジー（Hyper-Threading Technology）は、インテルの SMT 実装に対する同社の登録商標である。\n",
        "\n",
        "SMT の概要は以下のとおり。物理的に存在する 1 個の CPU コアは複数の回路から構成され、それらは I/O 制御、整数演算、浮動小数点数演算などの役割を持つ。個々のスレッドは、CPU コア内の全ての回路を使うわけではないことが多い。たとえば、フィボナッチ数を調べるプログラムは整数演算ばかり行うスレッドを生成し、そのスレッドの処理中は浮動小数点数演算を行う回路が使われない。そこで、使用されない回路を他のスレッドに割り当て、2 つのスレッドが同時に実行するようにしたものが SMT である。各スレッドからは SMT は隠蔽され、2 つの CPU コアが動作しているかのように見える。このようにソフトウェア側から見える疑似的な CPU コアを**論理コア**と呼ぶ。SMT が有効な場合、1 スレッド - 1 論理コアという対応になる。\n",
        "\n",
        "`os.cpu_count()` 関数を使うと、論理コア数を取得することができる。この関数は、論理コア数を取得できなかった時 `None` を返す。標準ライブラリの `multiprocessing` パッケージが提供する同名も論理コア数を返すが、論理コア数を取得できなかった時 に` NotImplementedError` 例外を送出する。"
      ],
      "metadata": {
        "id": "nKtYfh4QeX0j"
      }
    },
    {
      "cell_type": "code",
      "source": [
        "import os, multiprocessing\n",
        "os.cpu_count(), multiprocessing.cpu_count()"
      ],
      "metadata": {
        "colab": {
          "base_uri": "https://localhost:8080/"
        },
        "id": "M4elonVsYNPB",
        "outputId": "c4bae36d-6ef5-4f00-a7ff-09eb06f63938"
      },
      "execution_count": null,
      "outputs": [
        {
          "output_type": "execute_result",
          "data": {
            "text/plain": [
              "(2, 2)"
            ]
          },
          "metadata": {},
          "execution_count": 2
        }
      ]
    },
    {
      "cell_type": "markdown",
      "source": [
        "### タスク ###"
      ],
      "metadata": {
        "id": "3aM7MBSAjMaB"
      }
    },
    {
      "cell_type": "markdown",
      "source": [
        "1 つのまとまった処理または命令を**タスク**（task）と呼ぶ。どの大きさでまとめるとタスクと言えるという定義はない。タスクは、文脈によって、スレッド内の命令の集合を指していたり、スレッドそのものを指していたり、プロセスを指していたり、プロセスの集合を指していたりする。\n",
        "\n",
        "マルチプロセスは、**マルチタスク**（multitasking）とも呼ばれる。なお、マルチタスクは日本において NEC の登録商標である。"
      ],
      "metadata": {
        "id": "3RSSTBahjNjq"
      }
    },
    {
      "cell_type": "markdown",
      "source": [
        "threading\n",
        "---------"
      ],
      "metadata": {
        "id": "z9GFqonlK6Dg"
      }
    },
    {
      "cell_type": "markdown",
      "source": [
        "プロセスとスレッドは OS によって管理される。OS のスレッド周りの API に対する標準の Python インターフェースとしては、`_thread` モジュールと `threading` モジュールがある。`_thread` は OS の API に近い低レベルのインターフェースを提供していて、`threading` は `_thread` の上に構築された高レベルなインターフェースを提供している。よって、通常は `threading` を使う。"
      ],
      "metadata": {
        "id": "FyPbAnsKZl_K"
      }
    },
    {
      "cell_type": "markdown",
      "source": [
        "### インスタンス化 ###"
      ],
      "metadata": {
        "id": "LbebtPn4ZodI"
      }
    },
    {
      "cell_type": "markdown",
      "source": [
        "`threading` モジュールは、スレッドを `threading.Thread` オブジェクトとして扱う。コンストラクタは次のとおり:\n",
        "\n",
        "``` python\n",
        "threading.Thread(group=None, target=None, name=None, args=(), kwargs={}, *, daemon=None)\n",
        "```\n",
        "\n",
        "コンストラクタは常にキーワード引数を使って呼び出さなければならない。各引数は以下のとおり:\n",
        "\n",
        "| 引数 | 意味 |\n",
        "|:---|:---|\n",
        "| `group` | `None` にする必要がある。この引数は将来 `ThreadGroup` クラスが実装されるときの拡張用に予約されている |\n",
        "| `target` | インスタンスの `run()` メソッドによって起動される呼び出し可能オブジェクトを指定する。デフォルトでは何も呼び出さないことを示す `None` になっている |\n",
        "| `name` | スレッドの名前を指定する。値はインスタンスの `name` 属性で参照できる。デフォルトでは、`Thread-N`（`N`は小さな 10 進数）、`target` 引数が指定された場合 `Thread-N (target)` という<br />形式でユニークな名前が構成される |\n",
        "| `args` | `target` を呼び出すときの引数のリストかタプルを指定する。デフォルトは `()` |\n",
        "| `kwargs` | `target` を呼び出すときのキーワード引数を辞書で指定する。デフォルトは `{}` |\n",
        "| `daemon` | このスレッドがデーモン（メインメモリ上に常駐してバックグラウンドで動作するプログラム）であるか否かを示すブール値を設定する。値はインスタンスの `daemon` 属性で参照できる。<br />`None`（デフォルト）の場合、`daemon` 属性は現在のスレッドから継承される |\n",
        "\n",
        "`threading.Thread` オブジェクトの識別には、`name` 属性（読み書き可能なプロパティ）または `ident` 属性（読み取り専用プロパティ）が使える。`ident` 属性はスレッドが開始されていなければ `None` で、開始されていれば非ゼロの整数が格納されている。\n",
        "\n",
        "`threading.Thread` オブジェクトのメソッドは次のとおり:\n",
        "\n",
        "| メソッド | 機能 | 戻り値 |\n",
        "|:---|:---|:---|\n",
        "| `start()` | スレッドを開始し、`run()` メソッドを実行する。このメソッドはオブジェクトあたり一度だけ呼び出すことができる | `None` |\n",
        "| `run()` | このスレッド内で `target` を呼び出す | `None` |\n",
        "| `join(timeout=None)` | スレッドが終了するまで待機する。`timeout` に浮動小数点数を指定した場合は、このメソッドは `timeout` 秒でタイムアウトする（次のコードに進む）。<br />現在のスレッドに対してこのメソッドを呼び出そうとすると `RuntimeError` 例外を送出する | `None` |\n",
        "| `is_alive()` | スレッドが動作中の場合に `True` を返し、そうでない場合に `False` を返す。`join()` がタイムアウトしたかどうかはこのメソッドで確認できる | `bool` |\n",
        "\n",
        "`threading` モジュールは、ロードされると暗黙のうちにメインスレッド（Python インタープリターが起動したスレッド）に対応するオブジェクトを作成する。このオブジェクトは、`threading.Thread` クラスを継承する `threading._MainThread` クラスのインスタンスであり、`name` 属性が `'MainThread'` になっている。\n",
        "\n",
        "``` python\n",
        "threading.current_thread()\n",
        "```\n",
        "\n",
        "この関数は、関数を呼び出している処理のスレッドに対応する `threading.Thread` オブジェクトを返す。関数を呼び出している処理のスレッドが `threading` モジュールで生成したものでない場合、限定的な機能しかもたないダミースレッドオブジェクトを返す。\n",
        "\n",
        "``` python\n",
        "threading.enumerate()\n",
        "```\n",
        "\n",
        "この関数は、現在、アクティブな `threading.Thread` オブジェクト全てのリストを返す。リストには、終了したスレッドとまだ開始していないスレッドは入らない。しかし、メインスレッドは、たとえ終了しても、常に結果に含まれる。\n",
        "\n",
        "次のコードは、1 秒ごとに 3 回まで `print()` 関数で出力する `run()` 関数を 2 つのスレッドで実行する。"
      ],
      "metadata": {
        "id": "z_7UBb7tK6vI"
      }
    },
    {
      "cell_type": "code",
      "source": [
        "import threading\n",
        "import time\n",
        "\n",
        "\n",
        "def run(base):\n",
        "    for i in range(3):\n",
        "        time.sleep(1.0)\n",
        "        print(\"{}: {}\".format(threading.current_thread().name, base + i))\n",
        "\n",
        "\n",
        "def main(*args):\n",
        "    print(f\"started at {time.strftime('%X')}\")\n",
        "    for t in args:\n",
        "        t.start()\n",
        "    for t in args:\n",
        "        t.join()\n",
        "    print(f\"finished at {time.strftime('%X')}\")\n",
        "\n",
        "\n",
        "if __name__ == \"__main__\":\n",
        "    t1 = threading.Thread(target=run, name=\"t1\", args=(10,))\n",
        "    t2 = threading.Thread(target=run, name=\"t2\", args=(20,))\n",
        "    main(t1, t2)"
      ],
      "metadata": {
        "id": "U-d7JS84ioGD",
        "colab": {
          "base_uri": "https://localhost:8080/"
        },
        "outputId": "536f016f-4263-46e6-fadd-32eca061515f"
      },
      "execution_count": null,
      "outputs": [
        {
          "output_type": "stream",
          "name": "stdout",
          "text": [
            "started at 02:39:45\n",
            "t1: 10\n",
            "t2: 20\n",
            "t1: 11\n",
            "t2: 21\n",
            "t1: 12\n",
            "t2: 22\n",
            "finished at 02:39:48\n"
          ]
        }
      ]
    },
    {
      "cell_type": "markdown",
      "source": [
        "`t1` と `t2` が交替で実行されていることが確認できる。2 つのスレッドを開始してから終了するまでの時間が 3 秒なので、並列処理が行われているように見える。\n",
        "\n",
        "次のコードは、リストを 20 万回 `append()` する `run()` 関数を 2 個のスレッドで実行し、その後に同関数を 1 個のスレッドで実行する。"
      ],
      "metadata": {
        "id": "Hvm8Cj0RlquW"
      }
    },
    {
      "cell_type": "code",
      "source": [
        "import threading\n",
        "import time\n",
        "\n",
        "\n",
        "def run():\n",
        "    a = []\n",
        "    for i in range(20000000):\n",
        "        a.append(0)\n",
        "\n",
        "\n",
        "def main(*args):\n",
        "    print(f\"started at {time.strftime('%X')}\")\n",
        "    for t in args:\n",
        "        t.start()\n",
        "    for t in args:\n",
        "        t.join()\n",
        "    print(f\"finished at {time.strftime('%X')}\")\n",
        "\n",
        "\n",
        "if __name__ == \"__main__\":\n",
        "    t1 = threading.Thread(target=run)\n",
        "    t2 = threading.Thread(target=run)\n",
        "    t3 = threading.Thread(target=run)\n",
        "    print(\"2スレッド-----------\")\n",
        "    main(t1, t2)\n",
        "    print(\"1スレッド-----------\")\n",
        "    main(t3)"
      ],
      "metadata": {
        "colab": {
          "base_uri": "https://localhost:8080/"
        },
        "id": "Mn-SaiYckmeE",
        "outputId": "27428e20-8430-4d1c-aa04-696ae7ad6358"
      },
      "execution_count": null,
      "outputs": [
        {
          "output_type": "stream",
          "name": "stdout",
          "text": [
            "2スレッド-----------\n",
            "started at 02:39:48\n",
            "finished at 02:39:54\n",
            "1スレッド-----------\n",
            "started at 02:39:54\n",
            "finished at 02:39:57\n"
          ]
        }
      ]
    },
    {
      "cell_type": "markdown",
      "source": [
        "1 スレッドの処理時間が 2 スレッドの処理時間の半分となっているから、2 スレッドは並列処理されていないことがわかる。2 つのコードの実行結果の違いはどのような理由によるものであろうか。"
      ],
      "metadata": {
        "id": "WxK1PZBvmnfd"
      }
    },
    {
      "cell_type": "markdown",
      "source": [
        "### GIL ###"
      ],
      "metadata": {
        "id": "t75xhOyW-rVI"
      }
    },
    {
      "cell_type": "markdown",
      "source": [
        "実は、 CPython では、マルチスレッドがあっても CPU コアを占有できるのはロックを保持する単一のスレッドに限られる。このロックを**グローバルインタープリターロック**（Global Interpreter Lock）、略して GIL（ギル）と呼ぶ。GIL の獲得と解放により、動作するスレッドが切り替わる。つまり、**CPython のマルチスレッドは完全に並行処理となる**。ただし、GIL は Python で書かれた処理についての制限であり、モジュールが利用する C などで書かれた処理は GIL の制限を受けず、並列処理が可能である。\n",
        "\n",
        "CPython に GIL が存在する理由は、C におけるデータ競合を回避するためである。C では、1 つのプロセス内の 2 つ以上のスレッドがメモリ上の同じ場所に同時にアクセスすることによってプログラムが C の規格で未定義の振る舞いをする現象があり、この現象を**データ競合**（data race）と呼ぶ。データ競合はソフトウェアセキュリティの脆弱性につながる可能性もある。データ競合を回避するには、メモリへのアクセスを制御（ロック）する必要がある。ところが、Python インタープリターの実装では、ロックが必須なメモリアクセスが多すぎて、パフォーマンスが大きく低下することがわかっている。そこで、個別のメモリアクセスを制御するのではなく、スレッドの動作全体を制御する GIL が導入された。\n",
        "\n",
        "データ競合は C に限らない現象であるが、その定義や扱いはプログラミング言語ごとに異なる。このため、GIL の存在は Python 言語の仕様として要求されていない。実際、Java による Python 実装（Jython）には GIL は存在しない。しかしながら、最も広く使用されている Python 実装は CPython なので、事実上マルチスレッド Python プログラムは並行処理と考えなければならない。\n",
        "\n",
        "シングルスレッドでは、データ競合は発生しないので、GIL の解放は起こらないようになっている。つまり、シングルスレッドの場合、スレッドは何事もなく最後まで実行される。\n",
        "\n",
        "マルチスレッドの場合、GIL の獲得と解放がおおむね以下のように行われる。\n",
        "\n",
        "  * あるスレッドが GIL を獲得すると、それだけが CPU コアを占有する。他のスレッドは（実行中であっても）休止する。\n",
        "  * GIL を保持するスレッドは、I/O 操作が発生したら、自発的に全てのスレッドに通知を行う。これを受けて、他のスレッドが GIL を獲得する。\n",
        "  * 休止中のスレッドは、タイムアウト（デフォルトで 5 ミリ秒後）になったら C のグローバル変数 `gil_drop_request` （デフォルト値は 0）を 1 に設定する。`gil_drop_request` が 1 の場合、GIL を保持するスレッドは全てのスレッドに通知を行う。これを受けて他のスレッドが GIL を獲得すると、GIL を解放したスレッドに通知し、`gil_drop_request` は 0 に戻される。\n",
        "  * スレッドの切り替え時にはコンテキストスイッチが行われるので、スレッドが GIL を解放した後、再び GIL を獲得して実行する場合、前回の続きから再開する。\n",
        "\n",
        "タイムアウト時間は Python コードで `sys.getswitchinterval()` 関数を使うと参照できる。また、`sys.setswitchinterval(interval)` によってタイムアウト時間を変更することもできる。"
      ],
      "metadata": {
        "id": "0jxM-14u-r_A"
      }
    },
    {
      "cell_type": "code",
      "source": [
        "import sys\n",
        "sys.getswitchinterval()"
      ],
      "metadata": {
        "colab": {
          "base_uri": "https://localhost:8080/"
        },
        "id": "13_emLG9ndHH",
        "outputId": "3ceffea2-42a8-418d-878c-b0cd46532493"
      },
      "execution_count": null,
      "outputs": [
        {
          "output_type": "execute_result",
          "data": {
            "text/plain": [
              "0.005"
            ]
          },
          "metadata": {},
          "execution_count": 5
        }
      ]
    },
    {
      "cell_type": "markdown",
      "source": [
        "GIL の解放には I/O 操作発生によるものとタイムアウトによるものがあるわけであるが、この違いがスレッドの処理内容によってパフォーマンスに異なる影響を与えることになる。処理内容を、I/O 操作を行うものとそれ以外のもの（論理演算や整数演算、浮動小数点数演算など）に分けて、前者を **I/O バウンド**（I/O bound）、後者を **CPU バウンド**（CPU-bound）と呼ぶ。システム時刻の問い合わせ、標準入出力やファイルの読み書き、ネットワーク通信はすべて I/O バウンドな処理であり、Python オブジェクトの操作は CPU バウンドな処理である。2 種類の処理で GIL の影響の違いは次のように整理できる。\n",
        "\n",
        "  * CPU バウンドな処理:  \n",
        "計算の途中でもタイムアウトによりスレッドが切り替わるため、余計に計算コストがかかり遅くなる。\n",
        "  * I/O バウンドな処理:  \n",
        "I/O 操作が行われるたびにスレッドが切り替わる。遅いネットワーク通信などを待たずに他の処理に移ることができるため効率がよい。\n",
        "\n",
        "先に上げた 2 つのコードのうち、1 番目のものについては、`run()` 関数内での `time.sleep()` 関数の実行と `print()` 関数の実行はともに I/O バウンドであり、I/O 操作が発生して下図のようにスレッドが切り替わるため、2 つのスレッドが交替で実行され、スリープ時間で処理時間が 2 倍になることはなかった。\n",
        "\n",
        "``` text\n",
        "           ┌─────────────────────────────────────────────────────┐\n",
        "           │      ┌───────┐                                            ┌─────┐                        │\n",
        "t1 thread: │run() │ time.sleep() │I/O 操作 ………………[スリープ]……………… │ print()  │I/O 操作   （以下省略） │\n",
        "           │      └───────┘              タイムアウト  タイムアウト    └─────┘                        │\n",
        "           └─────────────────────────────────────────────────────┘\n",
        "                                    ↓      ↑           ↓    ↑      ↓     ↑                ↓      ↑\n",
        "           ┌─────────────────────────────────────────────────────┐\n",
        "           │              ┌───────┐          タイムアウト  タイムアウト   ┌─────┐                     │\n",
        "t2 thread: │run()         │ time.sleep() │I/O 操作 …………[スリープ]………………│ print()  │I/O 操作 （以下省略）│\n",
        "           │              └───────┘                                       └─────┘                     │\n",
        "           └─────────────────────────────────────────────────────┘\n",
        "```\n",
        "\n",
        "2 番目のコードについては、`run()` 関数を実行するスレッドは CPU バウンドであり、2 スレッドの場合はタイムアウトでスレッドが切り替わる並行処理が行わる。このため、1 スレッドだけで計算する場合より処理時間が 2 倍以上長くなったのである。\n",
        "\n",
        "では、CPU バウンドなスレッドと、I/O バウンドなスレッドが同時に走っている場合はどうなるのであろうか。この場合、先に I/O バウンドなスレッドが GIL を獲得すれば、I/O 操作発生で CPU バウンドなスレッドに切り替わり、I/O の待機中に処理が終わって効率が良い。しかし、スレッドは優先度を持たないため、CPU バウンドなスレッドが先に GIL を獲得することがあり、そうなるとタイムアウトになってから I/O バウンドなスレッドに切り替わるので I/O 待ちの待機時間の分だけ実行時間が長引くことになる。このように非効率な形で GIL が獲得される現象を **Convoy Effect** という。Convoy Effect が発生することを防ぐ方法はない。\n",
        "\n",
        "なお、GIL によってマルチスレッドが完全に並行処理とされることは、スレッド数を CPU コア数以上にスケールしやすいということでもある。常に 1 個の CPU コアしか利用されないからである。とくに、I/O バウンドなスレッドの複数同時実行は、1 個の CPU コアしかなくても上記のようにあたかも並列処理が行われるようにみえる。"
      ],
      "metadata": {
        "id": "om-Wbi1fECRz"
      }
    },
    {
      "cell_type": "markdown",
      "source": [
        "### デーモンスレッド ###"
      ],
      "metadata": {
        "id": "HWv0f_dlw034"
      }
    },
    {
      "cell_type": "markdown",
      "source": [
        "コンストラクタの `daemon` 引数またはインスタンスの `daemon` プロパティを `True` に設定したスレッドはデーモンとして稼働する。デーモンスレッドは、メインスレッドを含めてデーモンでないスレッドがすべて終了すると停止する。\n",
        "\n",
        "次のコードでは、`t2` スレッドで実行される `run2()` 関数はグローバル変数 `request`に値を代入して終了する。`t1` スレッドはデーモンとして稼働し、そこで実行される `run1()` 関数は無限ループを実行する。その無限ループの中で、`request` 変数に値が代入されたらその値を出力する。\n",
        "\n",
        "``` python\n",
        "import time\n",
        "import threading\n",
        "\n",
        "request = None\n",
        "\n",
        "\n",
        "def run1():\n",
        "    global request\n",
        "    while True:\n",
        "        if request is None:\n",
        "            time.sleep(0.2)\n",
        "            print(\"{}: running...\".format(threading.current_thread().name))\n",
        "        else:\n",
        "            print(\"{}: {} is received\".format(threading.current_thread().name, request))\n",
        "            request = None\n",
        "\n",
        "\n",
        "def run2():\n",
        "    global request\n",
        "    time.sleep(0.5)\n",
        "    request = \"hoge\"\n",
        "    time.sleep(0.2)\n",
        "    print(\"{}: end\".format(threading.current_thread().name))\n",
        "\n",
        "\n",
        "def main():\n",
        "    t1 = threading.Thread(target=run1, name=\"t1\", daemon=True)\n",
        "    t2 = threading.Thread(target=run2, name=\"t2\")\n",
        "    t1.start()\n",
        "    t2.start()\n",
        "    t2.join()\n",
        "\n",
        "\n",
        "if __name__ == \"__main__\":\n",
        "    main()\n",
        "    print(\"{}: end\".format(threading.current_thread().name))\n",
        "```\n",
        "\n",
        "このコードの実行結果は以下のようになる。\n",
        "\n",
        "``` shell\n",
        "t1: running...\n",
        "t1: running...\n",
        "t1: running...\n",
        "t1: hoge is received\n",
        "t2: end\n",
        "MainThread: end\n",
        "```\n",
        "\n",
        "`run1()` 関数の無限ループは、break 文がないにもかかわらずメインスレッドの終了後に停止するため、プログラムはちゃんと終了することがわかる。なお、`main()` 関数の最後に `t1.join()` を加えると、`t1.join()` は `run1()` 関数の終了を待つのでプログラムはいつまでたっても終了しなくなることに注意する。"
      ],
      "metadata": {
        "id": "kbRxo5Q6w1oe"
      }
    },
    {
      "cell_type": "markdown",
      "source": [
        "### 競合状態 ###"
      ],
      "metadata": {
        "id": "gUMmXxB9fXJ_"
      }
    },
    {
      "cell_type": "markdown",
      "source": [
        "マルチスレッドの実行順序やタイミングによって異なる結果が生まれる状態を**競合状態**（race condition）という。競合状態とデータ競合は、似て非なる概念である。GIL の存在によって Python ではデータ競合は発生しないが、競合状態は起こり得る。\n",
        "\n",
        "たとえば、次のコードでは、`counter()` 関数を動かすスレッドを 3 つ作成している。`counter()` 関数では、引数に渡された辞書 `data` に対して `data['n']` の値（初期値 0）を 1 増加する処理を行うが、3 つのスレッドが終了した時点で `data['n']` の値は 3 になるとは限らない。"
      ],
      "metadata": {
        "id": "Ez72Znl3fX4S"
      }
    },
    {
      "cell_type": "code",
      "source": [
        "import threading\n",
        "import time\n",
        "\n",
        "\n",
        "def counter(data):\n",
        "    n = data['n']\n",
        "    time.sleep(0.2)\n",
        "    data['n'] = n + 1\n",
        "    print(f\"{threading.current_thread().name}: {data['n']=}\")\n",
        "\n",
        "\n",
        "def main():\n",
        "    data = {'n': 0}\n",
        "    threads = [threading.Thread(target=counter, name=f\"t{i}\", args=(data,)) for i in range(3)]\n",
        "    for thread in threads:\n",
        "        thread.start()\n",
        "    for thread in threads:\n",
        "        thread.join()\n",
        "    print(f\"{threading.current_thread().name}: {data['n']=}\")\n",
        "\n",
        "\n",
        "if __name__ == \"__main__\":\n",
        "    main()"
      ],
      "metadata": {
        "colab": {
          "base_uri": "https://localhost:8080/"
        },
        "id": "RnXqR80EIt_u",
        "outputId": "90aa811e-57fc-41a9-ad97-c8a76f9fbbac"
      },
      "execution_count": null,
      "outputs": [
        {
          "output_type": "stream",
          "name": "stdout",
          "text": [
            "t0: data['n']=1\n",
            "t2: data['n']=1t1: data['n']=1\n",
            "\n",
            "MainThread: data['n']=1\n"
          ]
        }
      ]
    },
    {
      "cell_type": "markdown",
      "source": [
        "最初に GIL を獲得したスレッドで `counter()` 関数内のローカル変数 `n` に `data['n']` の初期値 0 を代入し、直後に `time.sleep()` を呼び出す。この時点でスレッドが切り替わり、別のスレッドでもローカル変数 `n` に `data['n']` の初期値 0 が代入される。もし `time.sleep()` の呼び出しまでに 3 つのスレッドが 1 回ずつ実行されていれば、各スレッドでローカル変数 `n` の値は 0 になっている。この場合、その後のコンテキストスイッチにより、今度は各スレッドで `data['n']` に `0 + 1` の計算結果値が代入されることになるため、3 つのスレッドが終了した時点で `data['n']` の値は 3 になるとは限らないわけである（1 になるとも 2 になるとも限らない）。\n",
        "\n",
        "競合状態での結果は、「プログラマーがそう書いたからそう動いている」だけであり、プログラミング言語で未定義の動作が起こっているわけではない。ただ、その結果がプログラマーの意図に反するものであればバグと言える。"
      ],
      "metadata": {
        "id": "7Ey5nzADV0nK"
      }
    },
    {
      "cell_type": "markdown",
      "source": [
        "### スレッドの同期 ###"
      ],
      "metadata": {
        "id": "MkKsc1VVUbNa"
      }
    },
    {
      "cell_type": "markdown",
      "source": [
        "複数の処理について、処理の進行を待ち合わせることを**同期**（synchronous）という。同期でないものは**非同期**（asynchronous）という。マルチスレッドまたはマルチプロセスのプログラミングにおいて、異なるスレッドやプロセス間で同期を取るための制御機構を**同期プリミティブ**（synchronization primitive）という。\n",
        "\n",
        "マルチスレッドの競合状態を、複数人でオールを漕いでボートが進む状態に例えるなら、漕ぎ手がスレッド、ボートがプログラムであり、漕ぎ手のタイミングを合わせないとボートが正しい方向に進まないように、スレッド間で同期を取らないとプログラムが正しく動作しないのである（画像は[いらすとや](https://www.irasutoya.com/2012/07/blog-post_3963.html)より）。同期プリミティブは、漕ぎ手のタイミング合わせに使われる掛け声や笛に相当する。\n",
        "\n",
        "<img src=\"https://blogger.googleusercontent.com/img/b/R29vZ2xl/AVvXsEhkr3KmVJffiUV0pebpKjpZLEVi7KVbmRbH7y4BBFZHkee5Yq8TtT7kDQxdB8VnrJ6wMFOsuwB1Lm9ER2GilJ0XIb28mHwxAz3sOSJLz48r9uGwd5BjoQcUoLf3FC1sTxSQ7-uA8Knx9D8/s800/olympic21_boat_4.png\" width=\"400\">\n",
        "\n",
        "`threading` モジュールは、以下の同期プリミティブをサポートする。\n",
        "\n",
        "  * ミューテックス（ロック）\n",
        "  * セマフォ\n",
        "  * イベント（Event）\n",
        "  * コンディション（Condition）── 一般には条件変数（Condition Variables）と呼ばれる\n",
        "  * バリア（Barrier）"
      ],
      "metadata": {
        "id": "ySdWRU5JUcCw"
      }
    },
    {
      "cell_type": "markdown",
      "source": [
        "### 直列化とミューテックス ###"
      ],
      "metadata": {
        "id": "d2j7FtuLd1HY"
      }
    },
    {
      "cell_type": "markdown",
      "source": [
        "スレッドを列に並ばせるように待機させ、一つずつ順番に実行させるような同期の取り方を**逐次化**あるいは**直列化**（serialize）と呼ぶ。共有データを扱う場面での競合状態では、直列化を行わないとバグが発生する可能性がある。\n",
        "\n",
        "一方、あるスレッドが共有データなどの資源を利用している間は、他のスレッドが同じものにアクセスすることを制限もしくは禁止する仕組みのことを**排他制御**という。とくに、1 つのスレッドが資源を占有し、他のスレッドからのアクセスを禁止するという排他制御の方式は**ロック**（lock）と呼ばれる。GIL もロックの一種である。ロック方式は、代表的な排他制御なので、排他制御を意味する英語 mutual exclusion を略した形で**ミューテックス**（mutex）とも呼ばれる。ミューテックスは、直列化の手法として利用される。\n",
        "\n",
        "``` python\n",
        "threading.Lock()\n",
        "```\n",
        "\n",
        "これはロックを返す。ただし、実際には `threading.Lock` というクラスが定義されているわけではなく、これは `_thread.get_ident()` 関数の別名であることに注意すること。\n",
        "\n",
        "ロックのメソッドは次のとおり。\n",
        "\n",
        "| メソッド | 機能 | 戻り値 |\n",
        "|:---|:---|:---|\n",
        "| `acquire(blocking=True, timeout=-1)` | ロックの獲得を試み、実際に獲得すると `True` を、獲得できなかったとき `False` を返す。他のスレッドが既にロックを獲得している場合、<br />`blocking` と `timeout` の指定によってメソッドの挙動が異なる。`blocking` が `True`（デフォルト）なら、ロックが解放されるまで待機する。<br />`blocking` が `False` なら、直ちに `False` を返し待機しない。`timeout` に正の浮動小数点が設定された場合、`timeout` 秒だけ待機する。<br />`blocking` が `False` の場合に `timeout` を指定することは禁止される | `bool` |\n",
        "| `release()` | ロックを解放する。これはロックを獲得したスレッドだけでなく、任意のスレッドから呼ぶことができる | `None` |\n",
        "\n",
        "ロックはコンテキストマネージャーとして使用できる。`acquire()` メソッドは with ブロックに入るときに呼び出され、`release()` メソッドはブロックを終了するときに呼び出される。したがって、次のコード片\n",
        "\n",
        "``` python\n",
        "with some_lock:\n",
        "    # do something...\n",
        "```\n",
        "\n",
        "これは、以下と同じ。\n",
        "\n",
        "``` python\n",
        "some_lock.acquire()\n",
        "try:\n",
        "    # do something...\n",
        "finally:\n",
        "    some_lock.release()\n",
        "```\n",
        "\n",
        "次のコードは、競合状態のコード例にロックを追加したものである。"
      ],
      "metadata": {
        "id": "rFUwXmWvd19K"
      }
    },
    {
      "cell_type": "code",
      "source": [
        "import threading\n",
        "import time\n",
        "\n",
        "\n",
        "def counter(data, lock):\n",
        "    with lock:  # ロックの獲得と解放\n",
        "        n = data['n']\n",
        "        time.sleep(0.2)\n",
        "        data['n'] = n + 1\n",
        "        print(f\"{threading.current_thread().name}: {data['n']=}\")\n",
        "\n",
        "\n",
        "def main():\n",
        "    data = {'n': 0}\n",
        "    lock = threading.Lock()  # ロックを作成\n",
        "    threads = [threading.Thread(target=counter, name=f\"t{i}\", args=(data, lock)) for i in range(3)]  # ロックを渡す\n",
        "    for thread in threads:\n",
        "        thread.start()\n",
        "    for thread in threads:\n",
        "        thread.join()\n",
        "    print(f\"{threading.current_thread().name}: {data['n']=}\")\n",
        "\n",
        "\n",
        "if __name__ == \"__main__\":\n",
        "    main()"
      ],
      "metadata": {
        "colab": {
          "base_uri": "https://localhost:8080/"
        },
        "id": "gLQf4AIBtJz_",
        "outputId": "f6493bcb-6f6f-4fee-b1c9-1d34dcef61d8"
      },
      "execution_count": null,
      "outputs": [
        {
          "output_type": "stream",
          "name": "stdout",
          "text": [
            "t0: data['n']=1\n",
            "t1: data['n']=2\n",
            "t2: data['n']=3\n",
            "MainThread: data['n']=3\n"
          ]
        }
      ]
    },
    {
      "cell_type": "markdown",
      "source": [
        "`data['n']` の値は、各スレッドが動かす `counter()` 関数により確実に 1 増加され、3 つのスレッドが終了した時点で 3 になる。この実行結果から、`counter()` 関数内の with 文でロックを獲得したスレッドが with 文の本体を処理している間、スレッド切り替えが行われず、このため `data['n']` に対する操作が直列化されていることがわかる。\n",
        "\n",
        "一方、ロックの解放を待つスレッドは、待機中に別の処理ができれば効率的である。この場合、ロックの `acquire()` メソッドを引数 `blocking=False` として呼び出すと、ロックを獲得できなければ待機せず直ちに `False` を返すことを利用する。\n",
        "\n",
        "次のコードは、前のコードに以下の変更を加えたものである。\n",
        "\n",
        "  * `counter()` 関数は、無限の while ループを使って、ロックを獲得できれば `data['n']` の値を 1 増加してロック解放後にループを終了するが、ロックを獲得できない間は別の作業（時刻の表示）をする。"
      ],
      "metadata": {
        "id": "dvrH6wrBHJK0"
      }
    },
    {
      "cell_type": "code",
      "source": [
        "import threading\n",
        "import time\n",
        "\n",
        "\n",
        "def counter(data, lock):\n",
        "    while True:\n",
        "        if lock.acquire(blocking=False):\n",
        "            print(f\"{threading.current_thread().name}: ロックを獲得した\")\n",
        "            n = data['n']\n",
        "            time.sleep(0.2)\n",
        "            data['n'] = n + 1\n",
        "            print(f\"{threading.current_thread().name}: {data['n']=}\")\n",
        "            lock.release()\n",
        "            break\n",
        "        else:\n",
        "            print(f\"{threading.current_thread().name}: {time.strftime('%X')}\")\n",
        "            time.sleep(0.2)\n",
        "\n",
        "\n",
        "def main():\n",
        "    data = {'n': 0}\n",
        "    lock = threading.Lock()  # ロックを作成\n",
        "    threads = [threading.Thread(target=counter, name=f\"t{i}\", args=(data, lock)) for i in range(3)]  # ロックを渡す\n",
        "    for thread in threads:\n",
        "        thread.start()\n",
        "    for thread in threads:\n",
        "        thread.join()\n",
        "    print(f\"{threading.current_thread().name}: {data['n']=}\")\n",
        "\n",
        "\n",
        "if __name__ == \"__main__\":\n",
        "    main()"
      ],
      "metadata": {
        "colab": {
          "base_uri": "https://localhost:8080/"
        },
        "id": "IbZtzX1xWKvp",
        "outputId": "c01bae30-a87f-44ba-bb2e-a2a5addcbd4a"
      },
      "execution_count": null,
      "outputs": [
        {
          "output_type": "stream",
          "name": "stdout",
          "text": [
            "t0: ロックを獲得した\n",
            "t1: 02:39:57t2: 02:39:57\n",
            "\n",
            "t0: data['n']=1\n",
            "t2: ロックを獲得した\n",
            "t1: 02:39:58\n",
            "t2: data['n']=2\n",
            "t1: ロックを獲得した\n",
            "t1: data['n']=3\n",
            "MainThread: data['n']=3\n"
          ]
        }
      ]
    },
    {
      "cell_type": "markdown",
      "source": [
        "実行結果から、あるスレッドがロックを保持している間も、他のスレッドは待機せずに時刻表示処理を行っていることがわかる。このように、ロックの獲得で待機しないことを**ノンブロッキング**（non-blocking）であるという。"
      ],
      "metadata": {
        "id": "LtysgRVIisvq"
      }
    },
    {
      "cell_type": "markdown",
      "source": [
        "### デッドロック ###"
      ],
      "metadata": {
        "id": "ygLjYhYakGTd"
      }
    },
    {
      "cell_type": "markdown",
      "source": [
        "**デッドロック**（deadlock）とは、2 つ以上のスレッド（あるいはプロセス）が互いに待機しあってしまい、結果としてどの処理も先に進めなくなってしまうことをいう。\n",
        "\n",
        "以下のコードは、デッドロックを発生させる簡単な例である。\n",
        "\n",
        "``` python\n",
        "import time\n",
        "import threading\n",
        "\n",
        "\n",
        "def worker1(data, lock1, lock2):\n",
        "    with lock1:\n",
        "        n = data['n']\n",
        "        time.sleep(0.2)\n",
        "        with lock2:\n",
        "            m = data['m']\n",
        "            data[\"n\"] = n - m\n",
        "            print(f\"{threading.current_thread().name}: {data['n']=}\")\n",
        "\n",
        "\n",
        "def worker2(data, lock1, lock2):\n",
        "    with lock2:\n",
        "        m = data['m']\n",
        "        time.sleep(0.2)\n",
        "        with lock1:\n",
        "            n = data['n']\n",
        "            data['m'] = m + n\n",
        "            print(f\"{threading.current_thread().name}: {data['m']=}\")\n",
        "\n",
        "\n",
        "def main():\n",
        "    data = {'n': 0, 'm': 0}\n",
        "    lock1 = threading.Lock()\n",
        "    lock2 = threading.Lock()\n",
        "    threads = [\n",
        "        threading.Thread(target=worker1, name=\"t1\", args=(data, lock1, lock2)),\n",
        "        threading.Thread(target=worker2, name=\"t2\", args=(data, lock1, lock2)),\n",
        "    ]\n",
        "    for thread in threads:\n",
        "        thread.start()\n",
        "    for thread in threads:\n",
        "        thread.join()\n",
        "    print(f\"{threading.current_thread().name}: {data['n']=}\")\n",
        "\n",
        "\n",
        "if __name__ == \"__main__\":\n",
        "    main()\n",
        "```\n",
        "\n",
        "このコードでは、2 つの共有データの要素 `data['n']` と `data['m']` に対するアクセスを別々に制御するため、2 つのロック `lock1` と `lock2` を作成する。`worker1()` 関数は `lock1` を獲得した後、`lock2` を獲得しようとする。同様に、`worker2()` 関数は `lock2` を獲得した後、`lock1` を獲得しようとする。ロックの獲得が循環的になっているため、いつまでも条件を満たせず、デッドロックが発生する。\n",
        "\n",
        "この問題は、**食事する哲学者の問題**として知られる。円卓に麺と箸 1 本が交互に並べられた状況で、席に着いた哲学者はまず左側の箸を取ってから次に右側の箸を取ってよいという制約があると仮定する。全員が同時に左側の箸を取ってしまうと、右側の箸が使えず、いつまでたっても食事ができないことになる（画像は https://docs.oracle.com/cd/E19205-01/821-2500/gepdy/index.html より引用）。\n",
        "\n",
        "![](https://docs.oracle.com/cd/E19205-01/821-2500/images/figure2.gif)\n",
        "\n",
        "デッドロックを検出するには、タイムアウトを設定する。つまり、ロックの `acquire()` メソッド呼び出し時に `timeout` を設定し、メソッドの戻り値が `False` なら例外を送出する。\n",
        "\n",
        "``` python\n",
        "try:\n",
        "    acquired = lock1.acquire(timeout=3)\n",
        "    if not acquired:\n",
        "        raise TimeoutError(\"{}: Deadlock detected\".format(threading.current_thread().name))\n",
        "    # do something\n",
        "finally:\n",
        "    lock1.release()\n",
        "```\n",
        "\n",
        "ただし、ロック獲得にタイムアウトを設定する場合、同時にノンブロッキングには設定できないことに注意する。"
      ],
      "metadata": {
        "id": "QW5kpGJOkHIM"
      }
    },
    {
      "cell_type": "markdown",
      "source": [
        "### 再入可能ロック ###"
      ],
      "metadata": {
        "id": "sna8rpih-6pF"
      }
    },
    {
      "cell_type": "markdown",
      "source": [
        "デッドロックは、同じスレッドで同じロックを複数回獲得しようとする場合にも発生する。\n",
        "\n",
        "たとえば、次のコードでは `worker()` 関数が再帰関数であり、呼び出すと引数 `times` を増やしながら再帰呼び出しが行われ、`times` が 3 以上になったら終了することを意図している。\n",
        "\n",
        "``` python\n",
        "import time\n",
        "import threading\n",
        "\n",
        "\n",
        "def worker(data, times, lock):\n",
        "    print(f\"{times=}\")\n",
        "    if times >= 3:\n",
        "        return None\n",
        "    else:\n",
        "        with lock:\n",
        "            n = data['n']\n",
        "            time.sleep(0.2)\n",
        "            data['n'] = n + 1\n",
        "            worker(data, times + 1, lock)\n",
        "\n",
        "\n",
        "def main():\n",
        "    data = {'n': 0}\n",
        "    lock = threading.Lock()\n",
        "    thread = threading.Thread(target=worker, args=(data, 0, lock))\n",
        "    thread.start()\n",
        "    thread.join()\n",
        "    print(f\"{data['n']=}\")\n",
        "\n",
        "\n",
        "if __name__ == \"__main__\":\n",
        "    main()\n",
        "```\n",
        "\n",
        "ところが、このコードを実行すると、次のように出力されたまま先に進まない:\n",
        "\n",
        "``` text\n",
        "times=0\n",
        "times=1\n",
        "```\n",
        "\n",
        "1 回目の再帰呼び出しから先に進めないというデッドロックが起こる。これは、`worker()` の with 文の中でロックが解放されないまま再帰呼び出しがあり、そこでロックを獲得できず待機するからである。\n",
        "\n",
        "この場合は、次の関数により得られる**再入可能ロック**（reentrant lock）を使用すればデッドロックを回避できる:\n",
        "\n",
        "``` python\n",
        "threading.RLock()\n",
        "```\n",
        "\n",
        "通常のロックと再入可能ロックの違いは、以下の点だけである。\n",
        "\n",
        "  * いったんスレッドが再入可能ロックを獲得すると、同じスレッドはブロックされずにもう一度それを獲得できる。\n",
        "  * そのスレッドは獲得した回数だけ再入可能ロックを解放しなければならない。\n",
        "\n",
        "次のコードは、上記のコードを、再入可能ロックを使用するように変更したものである。"
      ],
      "metadata": {
        "id": "QEkZ6s-N-9M-"
      }
    },
    {
      "cell_type": "code",
      "source": [
        "import threading\n",
        "import time\n",
        "\n",
        "\n",
        "def worker(data, times, lock):\n",
        "    print(f\"{times=}\")\n",
        "    if times >= 3:\n",
        "        return None\n",
        "    else:\n",
        "        with lock:\n",
        "            n = data['n']\n",
        "            time.sleep(0.2)\n",
        "            data['n'] = n + 1\n",
        "            worker(data, times + 1, lock)\n",
        "\n",
        "\n",
        "def main():\n",
        "    data = {'n': 0}\n",
        "    lock = threading.RLock()\n",
        "    thread = threading.Thread(target=worker, args=(data, 0, lock))\n",
        "    thread.start()\n",
        "    thread.join()\n",
        "    print(f\"{data['n']=}\")\n",
        "\n",
        "\n",
        "if __name__ == \"__main__\":\n",
        "    main()"
      ],
      "metadata": {
        "colab": {
          "base_uri": "https://localhost:8080/"
        },
        "id": "29gotJ2DDdLC",
        "outputId": "2cef7433-a422-4ef0-8557-6d76090e5d65"
      },
      "execution_count": null,
      "outputs": [
        {
          "output_type": "stream",
          "name": "stdout",
          "text": [
            "times=0\n",
            "times=1\n",
            "times=2\n",
            "times=3\n",
            "data['n']=3\n"
          ]
        }
      ]
    },
    {
      "cell_type": "markdown",
      "source": [
        "### セマフォ ###"
      ],
      "metadata": {
        "id": "LGbJE-hiwObb"
      }
    },
    {
      "cell_type": "markdown",
      "source": [
        "ミューテックスより緩く、最大〇個のスレッドが共有資源にアクセスして良いとする排他制御の方式を**セマフォ**（semaphore）という。セマフォは、内部に空き数を示すカウンターを持つ。\n",
        "\n",
        "セマフォでは直列化を実現できない。セマフォは、メモリ不足の回避やサーバーの負荷分散などの理由で、同時実行数に制限が必要な場合に使用される。\n",
        "\n",
        "`threading` は、2 種類のセマフォをサポートする。1 つは通常のセマフォであり、もう 1 つは**有限セマフォ**（bounded semaphore）である。これらはそれぞれ `threading.Semaphore` クラスと `threading.BoundedSemaphore` クラスで実装される。インスタンス化は次のとおり:\n",
        "\n",
        "``` python\n",
        "threading.Semaphore(value=1)\n",
        "threading.BoundedSemaphore(value=1)\n",
        "```\n",
        "\n",
        "`value` 引数は内部カウンターの初期値である。`value` を指定しない場合、デフォルトの値は 1 になる。セマフォは、ロックと同様に `acquire()` メソッドと `release()` メソッドを持ち、コンテキストマネージャーとして使用できる。\n",
        "\n",
        "`acquire()` メソッドを呼び出すとカンターが 1 つ減少し、`release()` メソッドを呼び出すとカウンタが 1 つ増加する。カウンターが 0 の場合に `acquire()` メソッドを呼び出すと、カウンターが 1 以上になるまで待機する。この動作は、`acquire()` メソッドの引数 `blocking` と `timeout` で変更できる。\n",
        "\n",
        "`release()` メソッドは引数 `n` として整数値を渡すことができ、内部カウンターを `n` だけ増加することもできる（`n` のデフォルトの値が 1 とされる）。通常のセマフォの `release()` メソッドの場合、何度呼び出してもカウンターは増加し続け初期値を上回ることができる。これに対して、有限セマフォの `release()` メソッドの場合、カウンターが初期値を上回ると `ValueError` 例外を送出する。\n",
        "\n",
        "`acquire()` メソッドと `release()` メソッドを直接使う代わりに with 文でセマフォを使う限り、セマフォの内部カウンターが初期値を上回ることは考えにくいのであるが、カウンターの上限を確実に初期値に制限したい場合は、有限セマフォを選択するとよい。\n",
        "\n",
        "次のコードは、Web サーバーから複数のファイルをダウンロードする処理をマルチスレッド化する例である。最大同時接続数を 2 とするために有限セマフォを利用している。"
      ],
      "metadata": {
        "id": "qLIfFIqHwPR4"
      }
    },
    {
      "cell_type": "code",
      "source": [
        "import random\n",
        "import threading\n",
        "import time\n",
        "\n",
        "\n",
        "def download(url, semaphore):\n",
        "    with semaphore:\n",
        "        print(f\"{url} からのダウンロード開始\")\n",
        "        time.sleep(random.uniform(0.2, 1.0))  # ダウンロードの処理時間をシミュレート\n",
        "        print(f\"{url} からのダウンロード終了\")\n",
        "\n",
        "\n",
        "def main():\n",
        "    semaphore = threading.BoundedSemaphore(2)\n",
        "    threads = [threading.Thread(target=download, args=(f\"url{i}\", semaphore)) for i in range(5)]\n",
        "    for thread in threads:\n",
        "        thread.start()\n",
        "    for thread in threads:\n",
        "        thread.join()\n",
        "\n",
        "\n",
        "if __name__ == \"__main__\":\n",
        "    main()"
      ],
      "metadata": {
        "colab": {
          "base_uri": "https://localhost:8080/"
        },
        "id": "fRIg5LAajexO",
        "outputId": "243e3764-895d-4b23-a569-c0ba9a1b14cb"
      },
      "execution_count": null,
      "outputs": [
        {
          "output_type": "stream",
          "name": "stdout",
          "text": [
            "url0 からのダウンロード開始\n",
            "url1 からのダウンロード開始\n",
            "url1 からのダウンロード終了\n",
            "url2 からのダウンロード開始\n",
            "url2 からのダウンロード終了\n",
            "url3 からのダウンロード開始\n",
            "url0 からのダウンロード終了\n",
            "url4 からのダウンロード開始\n",
            "url4 からのダウンロード終了\n",
            "url3 からのダウンロード終了\n"
          ]
        }
      ]
    },
    {
      "cell_type": "markdown",
      "source": [
        "### イベントとスレッド間通信 ###"
      ],
      "metadata": {
        "id": "i9GDVVfxGrXi"
      }
    },
    {
      "cell_type": "markdown",
      "source": [
        "**イベント**は、特定の条件が満たされたことをスレッド間で**通知する**（notify）ために使用される。たとえば、あるタスクが完了したことを他のタスクに知らせたい場合に使用される。このようにスレッド間で通知が行われることを**スレッド間通信**と呼ぶ。\n",
        "\n",
        "イベントは内部にフラグを持ち、このフラグがセットされたりクリアされたりする。同期を取りたいスレッド間でイベントを共有し、あるスレッドにより内部フラグがセットされることで他のスレッドは通知を受ける。このようにスレッド間通信と言っても、その仕組みは単純で、各スレッドからアクセスできる変数（グローバル変数や引数など）を介して値を操作したり確認したりしているだけである。\n",
        "\n",
        "``` python\n",
        "threading.Event()\n",
        "```\n",
        "\n",
        "これは、内部フラグの値が `False` であるイベントオブジェクトを返す。イベントオブジェクトは、次のメソッドを持つ:\n",
        "\n",
        "| メソッド | 機能 | 戻り値 |\n",
        "|:---|:---|:---|\n",
        "| `set()` | 内部フラグの値を `True` にセットする | `None` |\n",
        "| `clear()` | 内部フラグの値を `False` にリセットする | `None` |\n",
        "| `wait(timeout=None)` | 内部フラグがセットされない間は待機する。内部フラグがセットされると待機を解除し、プログラムの実行を続ける。`timeout` に浮動小数点数を指定した場合は、<br />このメソッドは `timeout` 秒でタイムアウトする（プログラムの実行を続ける）。戻り値は、内部フラグがセットされたために返された場合は `True`、`timeout` が指定<br />されてタイムアウトした場合は `False` | `bool` |\n",
        "| `is_set()` | 内部フラグが `True` にセットされているとき `True` を返す | `bool` |\n",
        "\n",
        "`set()` でいったん内部フラグが `True` になると、スレッドが `wait()` を呼び出しても待機しなくなる。`clear()` で内部フラグをリセットすれば、`wait()` を呼び出したスレッドは待機するようになる。\n",
        "\n",
        "次のコードは、イベントの使用例である。`worker()` 関数が動くスレッドたちは、`wait()` を呼び出すと待機しイベントを監視する。`event_trigger()` 関数が動くスレッドが `set()` で内部フラグをセットすると、`worker()` 関数が動くスレッドたちは同時に開始される。"
      ],
      "metadata": {
        "id": "GzTtaPCfGsB4"
      }
    },
    {
      "cell_type": "code",
      "source": [
        "import threading\n",
        "import time\n",
        "\n",
        "\n",
        "def worker(event):\n",
        "    event.wait()\n",
        "    print(f\"{threading.current_thread().name}: start\")\n",
        "    time.sleep(0.2)\n",
        "    print(f\"{threading.current_thread().name}: end\")\n",
        "\n",
        "\n",
        "def event_trigger(event):\n",
        "    print(f\"{threading.current_thread().name}: start\")\n",
        "    time.sleep(0.5)\n",
        "    print(f\"{threading.current_thread().name}: end\")\n",
        "    event.set()\n",
        "\n",
        "\n",
        "def main():\n",
        "    event = threading.Event()\n",
        "    threads = [\n",
        "        threading.Thread(target=worker, name=\"t1\", args=(event,)),\n",
        "        threading.Thread(target=worker, name=\"t2\", args=(event,)),\n",
        "        threading.Thread(target=event_trigger, name=\"t3\", args=(event,)),\n",
        "    ]\n",
        "    for thread in threads:\n",
        "        thread.start()\n",
        "    for thread in threads:\n",
        "        thread.join()\n",
        "\n",
        "\n",
        "if __name__ == \"__main__\":\n",
        "    main()"
      ],
      "metadata": {
        "colab": {
          "base_uri": "https://localhost:8080/"
        },
        "id": "tdiYN6JTDyu1",
        "outputId": "c1ea04e8-86bf-4517-9903-0b747ed3e759"
      },
      "execution_count": null,
      "outputs": [
        {
          "output_type": "stream",
          "name": "stdout",
          "text": [
            "t3: start\n",
            "t3: end\n",
            "t2: start\n",
            "t1: start\n",
            "t2: end\n",
            "t1: end\n"
          ]
        }
      ]
    },
    {
      "cell_type": "markdown",
      "source": [
        "イベントは、あるスレッドの処理を完了させてから、その結果を利用して別のスレッドで処理を行いたい場合に便利である。ミューテックスではスレッドの順番を指定できないことに注意する。"
      ],
      "metadata": {
        "id": "mfqmXpj-CAmm"
      }
    },
    {
      "cell_type": "markdown",
      "source": [
        "### コンディション ###"
      ],
      "metadata": {
        "id": "Vd4PoNb0_thD"
      }
    },
    {
      "cell_type": "markdown",
      "source": [
        "**コンディション**も、イベントと同様に特定の条件が満たされたときにスレッドの実行を再開するための同期プリミティブである。イベントと同様に `wait()` を呼び出したスレッドたちが待機し、通知を受けると起こされる。イベントと違って、コンディションは内部にロックを持つ。スレッドの実行再開は、ロック方式の排他制御が行われて直列化される。\n",
        "\n",
        "``` python\n",
        "threading.Condition(lock=None)\n",
        "```\n",
        "\n",
        "これはコンディションオブジェクトを返す。デフォルトでは、内部ロックとして再入可能ロックが新たに自動的に作成される。既存のロックをコンストラクタの引数として渡すこともでき、これにより複数のコンディションで同じロックを共有できる。\n",
        "\n",
        "コンディションオブジェクトは、次のメソッドを持つ:\n",
        "\n",
        "| メソッド | 機能 | 戻り値 |\n",
        "|:---|:---|:---|\n",
        "| `acquire(*args)` | 内部ロックの `acquire()` メソッドを呼び出し、その戻り値を返す | `bool` |\n",
        "| `release()` | 内部ロックの `release()` メソッドを呼び出す | `None` |\n",
        "| `wait(timeout=None)` | 通知を受けるか、タイムアウトするまで待機する。このメソッドはいったんロックを解放し、一度スレッドが起こされると、再度ロックを獲得して処理を戻す。<br />与えられた `timeout` が過ぎていなければ返り値は `True` となる。タイムアウトした場合には `False` を返す | `bool` |\n",
        "| `notify(n=1)` | 待機中スレッドのうち `n` 個のスレッドを起こす。`n` のデフォルト値は `1` | `None` |\n",
        "| `notify_all()` | 全ての待機中スレッドを起こす | `None` |\n",
        "\n",
        "コンディションは、ロックと同様にコンテキストマネージャーとして使用できる。\n",
        "\n",
        "`acquire()` と `release()` 以外のメソッドは、呼び出し側のスレッドがロックを獲得していないときに呼び出すと `RuntimeError` が送出される。\n",
        "\n",
        "次のコードは、イベントの使用例をコンディションで書き直した例である。"
      ],
      "metadata": {
        "id": "J3fP-vC0_vUz"
      }
    },
    {
      "cell_type": "code",
      "source": [
        "import threading\n",
        "import time\n",
        "\n",
        "\n",
        "def worker(condition):\n",
        "    with condition:\n",
        "        condition.wait()\n",
        "        print(f\"{threading.current_thread().name}: start\")\n",
        "        time.sleep(0.2)\n",
        "        print(f\"{threading.current_thread().name}: end\")\n",
        "\n",
        "\n",
        "def event_trigger(condition):\n",
        "    with condition:\n",
        "        print(f\"{threading.current_thread().name}: start\")\n",
        "        time.sleep(0.5)\n",
        "        print(f\"{threading.current_thread().name}: end\")\n",
        "        condition.notify_all()\n",
        "\n",
        "\n",
        "def main():\n",
        "    condition = threading.Condition()\n",
        "    threads = [\n",
        "        threading.Thread(target=worker, name=\"t1\", args=(condition,)),\n",
        "        threading.Thread(target=worker, name=\"t2\", args=(condition,)),\n",
        "        threading.Thread(target=event_trigger, name=\"t3\", args=(condition,)),\n",
        "    ]\n",
        "    for thread in threads:\n",
        "        thread.start()\n",
        "    for thread in threads:\n",
        "        thread.join()\n",
        "\n",
        "\n",
        "if __name__ == \"__main__\":\n",
        "    main()"
      ],
      "metadata": {
        "colab": {
          "base_uri": "https://localhost:8080/"
        },
        "id": "jCAZ6fHOBsZp",
        "outputId": "aa736734-9e97-488b-ec63-53571bc99c68"
      },
      "execution_count": null,
      "outputs": [
        {
          "output_type": "stream",
          "name": "stdout",
          "text": [
            "t3: start\n",
            "t3: end\n",
            "t2: start\n",
            "t2: end\n",
            "t1: start\n",
            "t1: end\n"
          ]
        }
      ]
    },
    {
      "cell_type": "markdown",
      "source": [
        "`t1` スレッドは、`worker()` 関数内の `with condition` でロックを獲得して `wait()` を呼び出すと、いったんロックを解放して待機する。`t2` スレッドも同様である。`t3` スレッドは、`event_trigger()` 関数内の `with condition` でロックを獲得すると、ロックを保持したまま処理を完了し、最後に `notify_all()` を呼び出す。これにより `t1` スレッドが起こされると、再度ロックを獲得して続きの処理を行う。`t2` スレッドも同様である。`t1` スレッドと `t2` スレッドがロックを伴って動作するため、直列化される。\n",
        "\n",
        "コンディションは、共有データを扱う場面での競合状態で、スレッドの順序付けと直列化を併用したい場合に便利である。"
      ],
      "metadata": {
        "id": "ewOweOFtVLna"
      }
    },
    {
      "cell_type": "markdown",
      "source": [
        "### バリア ###"
      ],
      "metadata": {
        "id": "Z3SN-DkcCyjG"
      }
    },
    {
      "cell_type": "markdown",
      "source": [
        "``` python\n",
        "threading.Barrier(parties, action=None, timeout=None)\n",
        "```\n",
        "\n",
        "これはバリアオブジェクトを返す。**バリア**は、指定された数のスレッドが到達するまで待つような地点を設定する機能を提供する。\n",
        "\n",
        "具体的には、コンストラクタに渡される `parties` がスレッドの必要数であり、バリアオブジェクトの `wait()` メソッドでバリアの地点が設定される。つまり、`wait()` を呼んだ地点でスレッドが待機し、`parties` 個のスレッドが `wait()` を呼ぶと、それらは同時にすべて解放される。呼び出し可能オブジェクトが `action` としてコンストラクタに渡されていれば、スレッドが解放される時にそのうちの 1 つによって呼ばれる。\n",
        "\n",
        "実のところ、バリアは内部にコンディションを持ち、スレッドの待ち合わせと解放がコンディションを使ったスレッド間通信により実現されている。このため、必要な数のスレッドがバリアの地点に到達しないと、デッドロックが発生する。デッドロックを回避するには、タイムアウトを使用する必要がある。`wait()` は `timeout` 引数を取り、それに浮動小数点数を与えると `timeout` 秒後にタイムアウトし、バリアが破壊される。スレッドが待っている間にバリアが破壊された場合、`wait()` メソッドは `threading.BrokenBarrierError` 例外を送出する。コンストラクタの `timeout` 引数でデフォルトのタイムアウト時間を指定できる。\n",
        "\n",
        "次のコードはバリアの使用例である。"
      ],
      "metadata": {
        "id": "h78fnRMFCzbC"
      }
    },
    {
      "cell_type": "code",
      "source": [
        "import random\n",
        "import threading\n",
        "import time\n",
        "\n",
        "\n",
        "def report():\n",
        "    print(\"{}: passed through the barrier\".format(threading.current_thread().name))\n",
        "\n",
        "\n",
        "def worker(barrier):\n",
        "    time.sleep(random.uniform(0.2, 1.0))\n",
        "    print(f\"{threading.current_thread().name}: start\")\n",
        "    try:\n",
        "        barrier.wait(timeout=1.0)\n",
        "    except threading.BrokenBarrierError:\n",
        "        print(f\"{threading.current_thread().name}: TIMEOUT\")\n",
        "    else:\n",
        "        print(f\"{threading.current_thread().name}: end\")\n",
        "\n",
        "\n",
        "def main():\n",
        "    barrier = threading.Barrier(2, action=report)\n",
        "    threads = [threading.Thread(target=worker, name=f\"t{i}\", args=(barrier,)) for i in range(5)]\n",
        "    for thread in threads:\n",
        "        thread.start()\n",
        "    for thread in threads:\n",
        "        thread.join()\n",
        "\n",
        "\n",
        "if __name__ == \"__main__\":\n",
        "    main()"
      ],
      "metadata": {
        "colab": {
          "base_uri": "https://localhost:8080/"
        },
        "id": "u7WMrEU-ljl0",
        "outputId": "8313bff7-fbc0-49af-e45a-de0c64361c4b"
      },
      "execution_count": null,
      "outputs": [
        {
          "output_type": "stream",
          "name": "stdout",
          "text": [
            "t4: start\n",
            "t2: start\n",
            "t2: passed through the barrier\n",
            "t2: end\n",
            "t4: end\n",
            "t1: start\n",
            "t3: start\n",
            "t3: passed through the barrier\n",
            "t3: end\n",
            "t1: end\n",
            "t0: start\n",
            "t0: TIMEOUT\n"
          ]
        }
      ]
    },
    {
      "cell_type": "markdown",
      "source": [
        "### スレッドローカルデータ ###"
      ],
      "metadata": {
        "id": "7zpi29s_qph8"
      }
    },
    {
      "cell_type": "markdown",
      "source": [
        "`threading.local` は、**スレッドローカルデータ**と呼ばれ、スレッド間で共有するオブジェクトでありながら、属性値は共有されないという特殊なオブジェクトの型である。`threading.local` の使用では、競合状態が起こらない。\n",
        "\n",
        "スレッドローカルデータの例としては、各スレッドの動作を記録するログが挙げられる。ログには次のようなデータが記録される。\n",
        "\n",
        "  * スレッド名\n",
        "  * セッション ID\n",
        "  * リクエスト ID\n",
        "  * エラー情報\n",
        "\n",
        "これらはスレッドに固有であり、スレッドの存続期間に渡って使用されるデータであるが、スレッドの実行に必要ではないため、スレッドで実行する関数の引数として渡したり、戻り値や例外メッセージとして呼び出し元に返すのは面倒である。この場合の一般的な解決策は、スレッドローカルデータを使用することである。\n",
        "\n",
        "次のコードでは、`threading.local` を使用する例である。`local` は `threading.local` のインスタンスで、`worke` スレッドで `x` 属性が変更されるにもかかわらず、メインスレッドでは `x` 属性の変更が共有されない。"
      ],
      "metadata": {
        "id": "yqj7nAZkqqMN"
      }
    },
    {
      "cell_type": "code",
      "source": [
        "import threading\n",
        "\n",
        "local = threading.local()\n",
        "\n",
        "\n",
        "def worker():\n",
        "    local.x = 1\n",
        "    print(f\"{threading.current_thread().name}: {local.x=}\")\n",
        "\n",
        "\n",
        "def main():\n",
        "    local.x = 0\n",
        "\n",
        "    thread = threading.Thread(target=worker, name=\"worker\")\n",
        "    thread.start()\n",
        "    thread.join()\n",
        "\n",
        "    print(f\"{threading.current_thread().name}: {local.x=}\")\n",
        "\n",
        "\n",
        "if __name__ == \"__main__\":\n",
        "    main()"
      ],
      "metadata": {
        "colab": {
          "base_uri": "https://localhost:8080/"
        },
        "id": "R3rE84IX-esX",
        "outputId": "9336ea33-4729-4356-a0c1-4c813ff14591"
      },
      "execution_count": null,
      "outputs": [
        {
          "output_type": "stream",
          "name": "stdout",
          "text": [
            "worker: local.x=1\n",
            "MainThread: local.x=0\n"
          ]
        }
      ]
    },
    {
      "cell_type": "markdown",
      "source": [
        "### スレッドのカスタマイズ ###"
      ],
      "metadata": {
        "id": "qCfXViUQggNe"
      }
    },
    {
      "cell_type": "markdown",
      "source": [
        "`threading.Thread` クラスを継承して、`run()` メソッドをオーバーライドしたサブクラスを利用することができる。もとの `run()` メソッドは、インスタンス化の際に `target` が渡されていれば、それを実行するだけである。`run()` メソッドをオーバーライドすることで、スレッドの動作をカスタマイズできる。\n",
        "\n",
        "クラス継承を使用したカスタマイズの良い例が、`threading.Timer` である。`threading.Timer` は、`interval` 秒後に実行するスレッドである。次のコードは、その定義の要約である。\n",
        "\n",
        "``` python\n",
        "class Timer(Thread):\n",
        "    def __init__(self, interval, function, args=None, kwargs=None):\n",
        "        Thread.__init__(self)\n",
        "        self.interval = interval\n",
        "        self.function = function\n",
        "        self.args = args if args is not None else []\n",
        "        self.kwargs = kwargs if kwargs is not None else {}\n",
        "        self.finished = Event()\n",
        "\n",
        "    def cancel(self):\n",
        "        \"\"\"Stop the timer if it hasn't finished yet.\"\"\"\n",
        "        self.finished.set()\n",
        "\n",
        "    def run(self):\n",
        "        self.finished.wait(self.interval)\n",
        "        if not self.finished.is_set():\n",
        "            self.function(*self.args, **self.kwargs)\n",
        "        self.finished.set()\n",
        "```\n",
        "\n",
        "`threading.Timer` は、内部にイベントオブジェクト `finished` を持ち、`run()` メソッドが `wait()` でタイムアウトすると `function` を実行するようにオーバーライドされている。`interval` 秒経過する前であれば中止できる `cancel()` メソッドも定義されている。\n",
        "\n",
        "たとえば、次のコードを実行すると、30 秒後に `'hello, world'` が出力される。\n",
        "\n",
        "``` python\n",
        "def hello():\n",
        "    print(\"hello, world\")\n",
        "\n",
        "t = Timer(30.0, hello)\n",
        "t.start()\n",
        "```"
      ],
      "metadata": {
        "id": "XVeYccDNghD1"
      }
    },
    {
      "cell_type": "markdown",
      "source": [
        "queue\n",
        "-----"
      ],
      "metadata": {
        "id": "KJ4DP92nPWYj"
      }
    },
    {
      "cell_type": "markdown",
      "source": [
        "標準ライブラリの `queue` モジュールは、データ構造とコンディションを組み合わせて、スレッド間で共有するデータ構造から次々とアイテムを取り出し、アイテムに対する処理をロックを伴って行うことをサポートする。これは、複数のスレッドの間でデータを安全に交換しなければならないときのマルチスレッドプログラミングで特に有益である。\n",
        "\n",
        "内部に持つデータ構造の種類により、以下のクラスが提供される。\n",
        "\n",
        "  * `queue.Queue`: FIFO のデータ構造、すなわちキュー（`collections.deque` で実装される）\n",
        "  * `queue.LifoQueue`: LIFO のデータ構造、すなわちスタック（`collections.deque` で実装される）\n",
        "  * `queue.PriorityQueue`: 優先度付きキュー（`heapq` の関数で実装される）\n",
        "\n",
        "下 2 つのクラスは `queue.Queue` の派生クラスであり、データ構造に関する内部メソッドをオーバライドしている。3 つのクラスのコンストラクタ引数とメソッドは共通している。\n",
        "\n",
        "``` python\n",
        "queue.Queue(maxsize=0)\n",
        "```\n",
        "\n",
        "コンストラクタの引数 `maxsize` は、キューに入れられるアイテム数の上限を設定する整数。`maxsize` が 0 以下の場合は、キューの大きさは無限となる。\n",
        "\n",
        "`queue.Queue` は、キューに入れられたアイテムで処理が完了していないものを内部でカウントする。このカウントを「未完了タスクのカウント」と呼ぶ。アイテムをキューに入れるとき、「未完了タスクのカウント」はインクリメントされる。アイテムの処理が完了したら、「未完了タスクのカウント」をデクリメントできる。\n",
        "\n",
        "主なメソッドは次のとおり。\n",
        "\n",
        "| メソッド | 機能 | 戻り値 |\n",
        "|:---|:---|:---|\n",
        "| `put(item, block=True,`<br />` timeout=None)` | `item` をキューに挿入し、「未完了タスクのカウント」をインクリメントする。キューの上限が設定されていて上限に達していた場合、`block` が `True`（デフォ<br />ルト）なら挿入処理はキューのアイテムが取り出されて空きが出るまでブロックされる。ただし、`timeout` に浮動小数点数を指定していれば、空きが出な<br />いまま `timeout` 秒経過した時に `queue.Full` 例外を送出する。`block` が `False` なら直ちに `queue.Full` 例外を送出する（この場合 `timeout` は無視<br />される） | `None` |\n",
        "| `put_nowait(item)` | `put(item, block=False)` と等価 | `None` |\n",
        "| `get(block=True,`<br />` timeout=None)` | キューからロックを伴ってアイテムを取り出す。通知を受けるか、タイムアウトするまで待機する。キューが空の場合は、`block` が `True`（デフォルト）ならア<br />イテムが入るまでブロックされ、`block` が `False` なら直ちに `queue.Empty` 例外を送出する（この場合 `timeout` は無視される） | アイテム |\n",
        "| `get_nowait()` | `get(block=False)` と等価 | アイテム |\n",
        "| `empty()` | キューが空の場合は `True` を返し、そうでなければ `False` を返す | `bool` |\n",
        "| `full()` | キューが一杯の場合は `True` を返し、そうでなければ `False` を返す | `bool` |\n",
        "| `task_done()` | 内部コンディションの `notify_all()` を呼び出し、`get()` で待機中の全てのスレッドを起こす。また、「未完了タスクのカウント」をデクリメントする。この結<br />果 0 未満になった場合（つまりキューにある要素より多く呼び出された場合） `ValueError` 例外が発生する | `None` |\n",
        "| `join()` | 「未完了タスクのカウント」が 0 になるまで待機する | `None` |\n",
        "\n",
        "`join()` はキューにあるすべてのアイテムが取り出されて処理されるまで待機したい場合に使用する。この場合、アイテムの取り出しに使われた `get()` の後に必ず `task_done()` を呼び出すようにしないと、いつまでたっても「未完了タスクのカウント」が 0 にならず、`join()` で待機し続けることになるので注意。\n",
        "\n",
        "次のコードは、5 つのアイテム（`1` から `5` までの整数）の処理を 2 つのスレッドで同時に行うためにキューを使用する例である。各スレッドが動かす `worker()` 関数は、while ループにより、キューからアイテムを取り出し処理が終わっても終了せず、キューが空になるまでアイテムの処理を繰り返す。このように、ある一定数のスレッドをあらかじめ作成し、必要に応じてタスクを割り振ったり、使い回したりする仕組みを**スレッドプール**（thread pool）と呼ぶ。"
      ],
      "metadata": {
        "id": "VoYjdEbiNtE2"
      }
    },
    {
      "cell_type": "code",
      "source": [
        "import queue\n",
        "import threading\n",
        "import time\n",
        "\n",
        "\n",
        "def worker(q):\n",
        "    while not q.empty():\n",
        "        try:\n",
        "            item = q.get_nowait()\n",
        "        except queue.Empty:\n",
        "            break\n",
        "        else:\n",
        "            print(f\"{threading.current_thread().name}: Working on {item}\")\n",
        "            time.sleep(item * 0.1)\n",
        "            print(f\"{threading.current_thread().name}: Finished {item}\")\n",
        "            q.task_done()\n",
        "\n",
        "\n",
        "def main():\n",
        "    # Queue を設定\n",
        "    q = queue.Queue()\n",
        "    for i in range(1, 6):\n",
        "        q.put(i)\n",
        "\n",
        "    # スレッドプールを設定（2 つのスレッドからなる）\n",
        "    threads = []\n",
        "    for i in range(2):\n",
        "        thread = threading.Thread(target=worker, name=f\"t{i}\", args=(q,))\n",
        "        threads.append(thread)\n",
        "\n",
        "    # スレッドの開始\n",
        "    for thread in threads:\n",
        "        thread.start()\n",
        "\n",
        "    # キューが空になるまで待機\n",
        "    q.join()\n",
        "    print(\"全てのタスクが完了した\")\n",
        "\n",
        "    # 終了を待機\n",
        "    for thread in threads:\n",
        "        thread.join()\n",
        "\n",
        "\n",
        "if __name__ == \"__main__\":\n",
        "    main()"
      ],
      "metadata": {
        "colab": {
          "base_uri": "https://localhost:8080/"
        },
        "id": "344UhHMnNxDz",
        "outputId": "5ecc8031-c906-4e86-f608-24e6c14d6a60"
      },
      "execution_count": null,
      "outputs": [
        {
          "output_type": "stream",
          "name": "stdout",
          "text": [
            "t0: Working on 1\n",
            "t1: Working on 2\n",
            "t0: Finished 1\n",
            "t0: Working on 3\n",
            "t1: Finished 2\n",
            "t1: Working on 4\n",
            "t0: Finished 3\n",
            "t0: Working on 5\n",
            "t1: Finished 4\n",
            "t0: Finished 5\n",
            "全てのタスクが完了した\n"
          ]
        }
      ]
    },
    {
      "cell_type": "markdown",
      "source": [
        "`worker()` 関数では while の条件でキューが空でないことを確認しているが、`get_nowait()` でキューが空の場合の例外処理をしている。確認後にキューの状態が他のスレッドにより変更される可能性があるからである。`get_nowait()` はキューが空の場合に直ちに `queue.Empty` 例外を送出する。`queue.Empty` 例外を捕捉したら while ループを停止して関数を終了する（else 節は実行されない）。\n",
        "\n",
        "実行結果から、各タスクが処理の完了したスレッドに次々と割り振られ、各スレッドではタスク処理が直列化されることがわかる。"
      ],
      "metadata": {
        "id": "5q7WL_a0Ahyz"
      }
    },
    {
      "cell_type": "markdown",
      "source": [
        "スレッドセーフ\n",
        "--------------"
      ],
      "metadata": {
        "id": "qZ93oYUguoB_"
      }
    },
    {
      "cell_type": "markdown",
      "source": [
        "マルチスレッドでデータ競合による未定義動作を引き起こしたり、競合状態による意図しない動作を引き起こしたりせず、デッドロックなどの問題も起きないプログラムは**スレッドセーフ**（thread-safe）であるという。\n",
        "\n",
        "以下は、Python でのマルチスレッドとスレッドセーフなコーディングのためのベストプラクティスである。\n",
        "\n",
        "  * **マルチスレッドを使わない**  \n",
        "マルチスレッドはプロセス内の制御フローが難解になる。メモリ共有のため、1 つのスレッドの問題がプロセス全体に影響を与える可能性がある。同期やロックを忘れたり、デッドロックが起こるというミスを防げない。再現性の低いバグを見つける作業は難しい。CPython 特有の問題として、CPU バウンドな処理ではかえって遅くなる。マルチプロセスを使うべきである。\n",
        "  * **共有リソースを最小化する**  \n",
        "あえてマルチスレッドを選択する場合（マルチプロセスでのオーバーヘッドが許容できないなど）、共有データを使用せず、同期やロックを考えなくて済むようにすること。スレッドローカルデータを活用すること。\n",
        "  * **不変オブジェクトを利用する**  \n",
        "値オブジェクトは上記の例外である。値オブジェクトは不変だから、自然とスレッドセーフである。\n",
        "  * **ロックの範囲を最小化する**  \n",
        "どうしても共有データを使わなければならない場合、ロックを獲得している間は、できるだけ少ない操作を行い、他のスレッドが待たされる時間を短縮すること。\n",
        "  * **タイムアウトを使用する**  \n",
        "`acquire()` と `wait()` にタイムアウトを設定することで、デッドロックが発生した場合でも、スレッドが適切に解放されるようになる。"
      ],
      "metadata": {
        "id": "FZgRDVvgupFu"
      }
    },
    {
      "cell_type": "markdown",
      "source": [
        "multiprocessing\n",
        "---------------"
      ],
      "metadata": {
        "id": "aGg9NdJDPXot"
      }
    },
    {
      "cell_type": "markdown",
      "source": [
        "`multiprocessing` は、`threading` モジュールに似た API を使用してプロセスの生成をサポートするパッケージである。マルチプロセスでは GIL の影響を受けないので並列処理が行われ、CPU 資源を最大限に活用できる。"
      ],
      "metadata": {
        "id": "Fb5PYmQdCZVb"
      }
    },
    {
      "cell_type": "markdown",
      "source": [
        "### プロセス開始方式 ###"
      ],
      "metadata": {
        "id": "Bnpm1hRzkLPj"
      }
    },
    {
      "cell_type": "markdown",
      "source": [
        "現在のプロセスから新たにプロセスを開始するとき、現在のプロセスを**親プロセス**、新たなプロセスを**子プロセス**という。プロセスが新しいタスクを引き受けた時、子プロセスを作成して処理させることができる。\n",
        "\n",
        "`multiprocessing` はプロセスを開始するために以下の方法をサポートしている。\n",
        "\n",
        "  * **fork**: `fork()` というシステムコールを呼び出すことで現在のプロセスをコピーする。プロセスの開始が速いが、プロセスのメモリ空間をそのままコピーするのでメモリ消費量が多い。Unix 系 OS でのみ利用可能。\n",
        "  * **spawn**: 新たに Python インタープリターが動くプロセスを開始する。現在のモジュールは再読み込みされて変数も新たに作り直される。プロセスの開始に時間がかかるが、プログラムが動くのに必要なリソースのみ継承されるのでメモリ消費量を抑えられる。多くのプラットフォームで利用可能。\n",
        "\n",
        "デフォルトの開始方式は、Unix 系 では fork、Windows では spawn。将来的には spawn に統一される予定。現在の開始方式名は `multiprocessing.get_start_method()` 関数で確認できる。開始方式を `method` に設定するには、`multiprocessing.set_start_method(method)` を実行する。これは一度しか呼び出すことができず、その場所もメインモジュールの `if __name__ == '__main__'` 節内で保護された状態でなければならない。"
      ],
      "metadata": {
        "id": "G5N1mnIVkL-J"
      }
    },
    {
      "cell_type": "code",
      "source": [
        "import multiprocessing\n",
        "multiprocessing.get_start_method()"
      ],
      "metadata": {
        "colab": {
          "base_uri": "https://localhost:8080/",
          "height": 35
        },
        "id": "Cfx1UAr0qFlv",
        "outputId": "383f0e80-acf2-4984-9d3a-992d3df779f4"
      },
      "execution_count": null,
      "outputs": [
        {
          "output_type": "execute_result",
          "data": {
            "text/plain": [
              "'fork'"
            ],
            "application/vnd.google.colaboratory.intrinsic+json": {
              "type": "string"
            }
          },
          "metadata": {},
          "execution_count": 16
        }
      ]
    },
    {
      "cell_type": "markdown",
      "source": [
        "### インスタンス化 ###"
      ],
      "metadata": {
        "id": "7D6NKukcPzih"
      }
    },
    {
      "cell_type": "markdown",
      "source": [
        "プロセスを使って子プロセスを作成するには、`multiprocessing.Process` クラスをインスタンス化する。\n",
        "\n",
        "``` python\n",
        "multiprocessing.Process(group=None, target=None, name=None, args=(), kwargs={}, *, daemon=None)\n",
        "```\n",
        "\n",
        "`multiprocessing.Process` クラスは、`threading.Thread` クラスと同様に使うことができる。ただし、以下のメソッドが加わっている:\n",
        "\n",
        "| メソッド | 機能 | 戻り値 |\n",
        "|:---|:---|:---|\n",
        "| `terminate()` | プロセスを強制終了する。finally 句などは実行されないことに注意 | `None` |\n",
        "| `close()` | `Process` オブジェクトを閉じ、関連付けられていたすべてのリソースを開放する。中のプロセスが実行中であった場合、`ValueError` を送出する | `None` |\n",
        "\n",
        "次は、`threading.Thread` のインスタンス化のコード例を `multiprocessing.Process` クラスに書き換えただけである。"
      ],
      "metadata": {
        "id": "5KOVo-d9LTL8"
      }
    },
    {
      "cell_type": "code",
      "source": [
        "import multiprocessing\n",
        "import time\n",
        "\n",
        "\n",
        "def run():\n",
        "    a = []\n",
        "    for i in range(20000000):\n",
        "        a.append(0)\n",
        "\n",
        "\n",
        "def main(*args):\n",
        "    print(f\"started at {time.strftime('%X')}\")\n",
        "    for t in args:\n",
        "        t.start()\n",
        "    for t in args:\n",
        "        t.join()\n",
        "    print(f\"finished at {time.strftime('%X')}\")\n",
        "\n",
        "\n",
        "if __name__ == \"__main__\":\n",
        "    t1 = multiprocessing.Process(target=run)\n",
        "    t2 = multiprocessing.Process(target=run)\n",
        "    t3 = multiprocessing.Process(target=run)\n",
        "    print(\"2プロセス-----------\")\n",
        "    main(t1, t2)\n",
        "    print(\"1プロセス-----------\")\n",
        "    main(t3)"
      ],
      "metadata": {
        "colab": {
          "base_uri": "https://localhost:8080/"
        },
        "id": "eE-K5g4jLhOO",
        "outputId": "f1890167-2bce-4395-8ea2-a39741c5ce82"
      },
      "execution_count": null,
      "outputs": [
        {
          "output_type": "stream",
          "name": "stdout",
          "text": [
            "2プロセス-----------\n",
            "started at 02:40:04\n",
            "finished at 02:40:08\n",
            "1プロセス-----------\n",
            "started at 02:40:08\n",
            "finished at 02:40:10\n"
          ]
        }
      ]
    },
    {
      "cell_type": "markdown",
      "source": [
        "このコードでは、各プロセスが動かす `run()` 関数は CPU バウンドな処理を行う。手元のマシンでこのコードを実行すると、2 個の子プロセスを同時に開始する場合と 1 個の子プロセスを開始する場合で処理にかかる時間がほとんど同じであった。これにより、CPU バウンドな処理でも並列処理されていること、つまり GIL の影響を受けないことがわかる。無料版 Colab では利用できる CPU コア数（論理コア数）が 2 個であるため、Python インタープリターを起動したプロセス（**メインプロセス**という）と子プロセス 1 個しか並列処理できず、2 個の子プロセスは並行処理されることに注意する。\n",
        "\n",
        "``` python\n",
        "multiprocessing.freeze_support()\n",
        "```\n",
        "\n",
        "この関数は、`multiprocessing` を使用しているプログラムをフリーズして Windows の実行可能形式を生成するためのサポートを追加する。サードパーティ製の PyInstaller などで実行可能形式を生成する場合に必要。この関数は、メインモジュールの `if __name__ == '__main__'` の直後に呼び出す必要がある。以下に例を示す:\n",
        "\n",
        "``` python\n",
        "from multiprocessing import Process, freeze_support\n",
        "\n",
        "def f():\n",
        "    print('hello world!')\n",
        "\n",
        "if __name__ == '__main__':\n",
        "    freeze_support()\n",
        "    Process(target=f).start()\n",
        "```\n",
        "\n",
        "`freeze_support()` の呼び出しは、Unix 系 OS では効果がない。また、Windows の通常の Python インタープリターによって実行されているならば、`freeze_support()` は効果がない。\n",
        "\n",
        "``` python\n",
        "multiprocessing.current_process()\n",
        "```\n",
        "\n",
        "この関数は、現在のプロセスに対応する `Process` オブジェクトを返す。\n",
        "\n",
        "``` python\n",
        "multiprocessing.active_children()\n",
        "```\n",
        "\n",
        "この関数は、現在のすべてのアクティブな子プロセスのリストを返す。\n",
        "\n",
        "``` python\n",
        "multiprocessing.parent_process()\n",
        "```\n",
        "\n",
        "この関数は、現在のプロセスの親プロセスに対応する `Process` オブジェクトを返す。現在のプロセスがメインプロセスの場合、`None` を返す。"
      ],
      "metadata": {
        "id": "3l6HqSmgbH9C"
      }
    },
    {
      "cell_type": "code",
      "source": [
        "from multiprocessing import Process, current_process\n",
        "import time\n",
        "\n",
        "def counter(data):\n",
        "    data['n'] += 1\n",
        "    print(f\"{current_process().name}: {data['n']=}\")\n",
        "    time.sleep(0.2)\n",
        "\n",
        "def main():\n",
        "    data = {'n': 0}\n",
        "    p = Process(target=counter, name='ChildProcess', args=(data,))\n",
        "    p.start()\n",
        "    p.join()\n",
        "    print(f\"{current_process().name}: {data['n']=}\")\n",
        "\n",
        "if __name__ == \"__main__\":\n",
        "    main()"
      ],
      "metadata": {
        "colab": {
          "base_uri": "https://localhost:8080/"
        },
        "id": "kBbYJvkobKOI",
        "outputId": "bd0a8e87-b919-44d3-c098-7ee12c551d60"
      },
      "execution_count": null,
      "outputs": [
        {
          "output_type": "stream",
          "name": "stdout",
          "text": [
            "ChildProcess: data['n']=1\n",
            "MainProcess: data['n']=0\n"
          ]
        }
      ]
    },
    {
      "cell_type": "markdown",
      "source": [
        "このコードでは、子プロセスにおいて辞書 `data` の要素 `data['n']` をインクリメントしているが、その結果がメインプロセスに共有されず、メインプロセスでは `data['n']` は初期値 `0` のままである。fork では子プロセスに `data` のコピーが渡される（spawn では `data` が新たに作り直される）からである。\n",
        "\n",
        "このように、マルチプロセスでは各プロセスが独立したメモリ空間を持つため、他のプロセスの影響を受けずに動作する。これにより、子プロセスの 1 つがクラッシュしても他の子プロセスやメインプロセスは影響を受けず、プログラム全体がダウンするリスクを減らすことができる。"
      ],
      "metadata": {
        "id": "3GNoCtE2d1zq"
      }
    },
    {
      "cell_type": "markdown",
      "source": [
        "### プロセスの同期 ###"
      ],
      "metadata": {
        "id": "TodumVhn1Hw4"
      }
    },
    {
      "cell_type": "markdown",
      "source": [
        "一般的にマルチプロセスプログラムでは、メモリが共有されないため競合状態が起こらず、マルチスレッドプログラムほどには同期プリミティブを必要としないが、`multiprocessing` は `threading` モジュールと等価な同期プリミティブを備えている。\n",
        "\n",
        "  * `multiprocessing.Lock`\n",
        "  * `multiprocessing.RLock`\n",
        "  * `multiprocessing.Semaphore`\n",
        "  * `multiprocessing.BoundedSemaphore`\n",
        "  * `multiprocessing.Event`\n",
        "  * `multiprocessing.Condition`\n",
        "  * `multiprocessing.Barrier`\n",
        "\n",
        "本来互いに独立しているプロセス間でこうした同期プリミティブが使えるのは、OS の機能を介して特定の一時ファイルにアクセスすることで実現されている。このようにプロセス間でデータのやり取りをする仕組みは**プロセス間通信**（Inter-Process Communication）、略して IPC と呼ばれる。IPC は、共有メモリを利用するだけのスレッド間通信と比べると重い処理となる。\n",
        "\n",
        "次の例では、ロックを使用して、一度に 1 つのプロセスしか標準出力に書き込まないようにしている:"
      ],
      "metadata": {
        "id": "8rTkbbzp1IbN"
      }
    },
    {
      "cell_type": "code",
      "source": [
        "from multiprocessing import Process, Lock, current_process\n",
        "import time\n",
        "\n",
        "def worker(lock, i):\n",
        "    with lock:\n",
        "        print(f\"{current_process().name}: start\")\n",
        "        time.sleep(0.1)\n",
        "        print(f\"{current_process().name}: end\")\n",
        "\n",
        "if __name__ == \"__main__\":\n",
        "    lock = Lock()\n",
        "    for num in range(5):\n",
        "        Process(target=worker, name=f\"p{num}\", args=(lock, num)).start()"
      ],
      "metadata": {
        "colab": {
          "base_uri": "https://localhost:8080/"
        },
        "id": "jQiol__eEbDI",
        "outputId": "1b28bb81-d19b-4575-fb53-442c285045d3"
      },
      "execution_count": null,
      "outputs": [
        {
          "output_type": "stream",
          "name": "stdout",
          "text": [
            "p0: start\n",
            "p0: end\n",
            "p1: start\n",
            "p1: end\n",
            "p2: start\n",
            "p2: end\n",
            "p3: start\n",
            "p3: end\n"
          ]
        }
      ]
    },
    {
      "cell_type": "markdown",
      "source": [
        "ロックを使用しないで標準出力に書き込んだ場合は、各プロセスからの出力がごちゃまぜになってしまう。ただし、ロックの範囲ではマルチプロセスの性能を発揮できなくなる。"
      ],
      "metadata": {
        "id": "KVsqq4vlFXsO"
      }
    },
    {
      "cell_type": "markdown",
      "source": [
        "### パイプとキュー ###"
      ],
      "metadata": {
        "id": "9hvu0we2RINC"
      }
    },
    {
      "cell_type": "markdown",
      "source": [
        "**パイプ**（pipe）は、OS が提供する IPC の方式の 1 つであり、2 つのプロセスの入出力をつなぐ。`multiprocessing` は、パイプを利用するための関数 `Pipe` を提供している。\n",
        "\n",
        "``` python\n",
        "multiprocessing.Pipe(duplex=True)\n",
        "```\n",
        "\n",
        "パイプの両端を表すコネクションオブジェクトのペア `(conn1, conn2)` を返す。`conn1` と `conn2` は「接続」した状態となる。`duplex` が `True`（デフォルト）の場合、パイプは双方向性となる。`duplex` が `False` の場合、パイプは一方向性で、`conn1` はデータの受信専用、`conn2` はデータの送信専用になる。\n",
        "\n",
        "コネクションオブジェクトは、以下のメソッドを持つ。\n",
        "\n",
        "| メソッド | 機能 | 戻り値 |\n",
        "|:---|:---|:---|\n",
        "| `send(obj)` | 接続している相手にオブジェクトを送る。オブジェクトは `pickle` でシリアライズ可能でなければならない。極端に大きすぎるオブジェクトでは `ValueError`<br /> 例外が送出されることがある。受信専用で `send()` を呼び出すと `OSError` 例外が発生する | `None` |\n",
        "| `recv()` | 接続している相手側から送られたオブジェクトを返す。何か受け取るまで待機する。何も受け取らずに接続が相手側で閉じられた場合 `EOFError` 例外が<br />発生する。送信専用で `recv()` を呼び出すと `OSError` 例外が発生する | Unknown |\n",
        "| `send_bytes(buf,`<br />` offset=0, size=None)` | 接続している相手にバイトデータとして `buf` を送る。`offset` が指定されると `buf` のその位置からデータが読み込まれる。`size` が指定されると `buf` か<br />らその量のデータが読み込まれる。極端に大きすぎるバイトデータでは `ValueError` 例外が送出されることがある。受信専用で `send_bytes()` を呼び出す<br />と `OSError` 例外が発生する | `None` |\n",
        "| `recv_bytes([maxlength])` | 接続している相手側から送られたデータをバイト列として返す。何も受け取らずに接続が相手側で閉じられた場合 `EOFError` 例外が発生する。送信専用<br />で `recv_bytes()` を呼び出すと `OSError` 例外が発生する。`maxlength` を指定していて、かつデータが `maxlength` より長い場合、`OSError` 例外が発生する | `bytes` |\n",
        "| `close()` | 接続を閉じる | `None` |\n",
        "\n",
        "OS による本来のパイプは一方向性であり、双方向性は Python 側の拡張である。2 つのプロセスが同時に同じパイプにデータを入れたり受け取ったりすると、データが破損する可能性がある。このような危険を回避したい場合は、`Pipe(duplex=False)` として通信方向を制限するとよい。\n",
        "\n",
        "`recv()` の処理ではデシリアル化が行われる。それはデータを送ったプロセスが信頼できる場合を除いてセキュリティリスクになることに注意する。これが問題となるなら、バイト列限定となるが `send_bytes()` と `recv_bytes()` を使うとよい。\n",
        "\n",
        "`recv()` や `recv_bytes()` でデータを受け取る順番は、データを送った順番と同じ、つまり先入れ先出し（FIFO）となる。"
      ],
      "metadata": {
        "id": "vySFZO7VRJKa"
      }
    },
    {
      "cell_type": "code",
      "source": [
        "from multiprocessing import Process, Pipe\n",
        "\n",
        "def worker(conn):\n",
        "    conn.send([42, None, 'hello'])\n",
        "    conn.send_bytes(b'thank you')\n",
        "    conn.close()\n",
        "\n",
        "def  main():\n",
        "    parent_conn, child_conn = Pipe()\n",
        "    p = Process(target=worker, args=(child_conn,))\n",
        "    p.start()\n",
        "    assert parent_conn.recv() == [42, None, 'hello']\n",
        "    assert parent_conn.recv_bytes() == b'thank you'\n",
        "    p.join()\n",
        "\n",
        "if __name__ == \"__main__\":\n",
        "    main()"
      ],
      "metadata": {
        "id": "ro7OGM4fadtF"
      },
      "execution_count": null,
      "outputs": []
    },
    {
      "cell_type": "markdown",
      "source": [
        "また、 `multiprocessing` は、パイプや 2～3 個のロック/セマフォを使用して実装されたプロセス共有キュー `Queue` も提供している。この `Queue` クラスは `queue.Queue` と同様に使用できるが、`task_done()` と `join()` メソッドがないことに注意。`put()` での例外に `queue.Full`、`get()` での例外に `queue.Empty` が使用されるが、それらは `multiprocessing` の名前空間では利用できないため、これらの例外を捕捉する場合は `queue` からインポートする必要がある。"
      ],
      "metadata": {
        "id": "SutYIe2NfKAU"
      }
    },
    {
      "cell_type": "code",
      "source": [
        "from multiprocessing import Process, Queue\n",
        "import time\n",
        "\n",
        "def writer(q):\n",
        "    data = []\n",
        "    data.append([42, None, 'hello'])\n",
        "    data.append(b'thank you')\n",
        "    for msg in data:\n",
        "        q.put(msg)\n",
        "        time.sleep(0.5)\n",
        "\n",
        "def reader(q):\n",
        "    while True:\n",
        "        print(q.get())\n",
        "\n",
        "def main():\n",
        "    q = Queue()\n",
        "    pw = Process(target=writer, args=(q,))\n",
        "    pr = Process(target=reader, args=(q,))\n",
        "    pw.start()\n",
        "    pr.start()\n",
        "    # pwが完了するのを待つ（q.join()はないことに注意）\n",
        "    pw.join()\n",
        "    # prを終了（readerが無限ループなので）\n",
        "    pr.terminate()\n",
        "\n",
        "if __name__ == \"__main__\":\n",
        "    main()"
      ],
      "metadata": {
        "colab": {
          "base_uri": "https://localhost:8080/"
        },
        "id": "94XCcKF1xYSY",
        "outputId": "2b05a694-be91-4243-a685-4145cc09f6f5"
      },
      "execution_count": null,
      "outputs": [
        {
          "output_type": "stream",
          "name": "stdout",
          "text": [
            "[42, None, 'hello']\n",
            "b'thank you'\n"
          ]
        }
      ]
    },
    {
      "cell_type": "markdown",
      "source": [
        "### 共有オブジェクト ###"
      ],
      "metadata": {
        "id": "Ew43LikOiWCp"
      }
    },
    {
      "cell_type": "markdown",
      "source": [
        "実は、Unix 系 OS と Windows では、メモリ上の特定の領域を複数のプロセスからアクセス可能とする共有メモリをサポートしている。共有メモリを利用すると、データのシリアル化/デシリアル化を必要とするパイプに比べて、パフォーマンスが大幅に向上する。ただし、以下の点に注意する。\n",
        "\n",
        "  * 共有メモリを使用すると、競合状態がマルチプロセスでも発生することになる。しかも、マルチプロセスでは並列処理が行われるので、共有メモリに対する操作が不可分であること（**アトミック**ともいう）に注意がより必要である。ここにアトミックとは、「操作に途中の状態がなく、一部のみが失敗するということがない」ことである。たとえば、代入演算 `=` はアトミックであるが、`+=` のような演算は読み込みと書き込みを含むためアトミックではない。共有データに対するアトミックでない操作がロックを伴わないと、他のプロセスによる操作が割り込んで、意図しない結果になる可能性がある。\n",
        "  * 共有メモリは OS の機能なので、C のデータ型やデータ構造が利用される。\n",
        "\n",
        "`multiprocessing` は、共有メモリを使用するオブジェクト（**共有オブジェクト**と呼ぶ）をサポートする。次の 2 つの関数は、それぞれ共有メモリに割り当てられた数値と数値の配列を扱う共有オブジェクトを返す。\n",
        "\n",
        "``` python\n",
        "multiprocessing.Value(typecode_or_type, *args, lock=True)\n",
        "multiprocessing.Array(typecode_or_type, size_or_initializer, *, lock=True)\n",
        "```\n",
        "\n",
        "`typecode_or_type` に数値の C データ型を指定する。`ctypes` モジュールで使用できる型か、`array` モジュールで使用されるような 1 文字の型コードを指定できる。\n",
        "\n",
        "キーワード専用引数 `lock` が `True`（デフォルト）なら、値へ同期アクセスするために新たに `RLock` オブジェクトが作成される。\n",
        "\n",
        "`Value()` 関数が返すオブジェクトは、 `value` 属性で値を参照できる。`Array()` 関数が返すオブジェクトは、 `[]` によるインデックス参照で値を参照でき、スライスを使うこともできる。どちらのオブジェクトも、`get_lock()` メソッドで内部ロックオブジェクトにアクセスできる。\n",
        "\n",
        "`Value` と `Array` の使用例:"
      ],
      "metadata": {
        "id": "lTUaXvVj99F_"
      }
    },
    {
      "cell_type": "code",
      "source": [
        "from multiprocessing import Process, Value, Array\n",
        "\n",
        "\n",
        "def worker(n, a):\n",
        "    # アトミックではない操作はロックを必要とする\n",
        "    with n.get_lock():\n",
        "        n.value += 1\n",
        "\n",
        "        for i in range(len(a)):\n",
        "            a[i] = -a[i]\n",
        "\n",
        "\n",
        "def main():\n",
        "    num = Value(\"i\", 0)\n",
        "    arr = Array(\"d\", [0.1, 0.2, 0.3])\n",
        "\n",
        "    p = Process(target=worker, args=(num, arr))\n",
        "    p.start()\n",
        "    p.join()\n",
        "\n",
        "    print(f\"{num.value = }\")\n",
        "    print(f\"{arr[:] = }\")\n",
        "\n",
        "\n",
        "if __name__ == \"__main__\":\n",
        "    main()"
      ],
      "metadata": {
        "colab": {
          "base_uri": "https://localhost:8080/"
        },
        "id": "KNRnpdWbgR40",
        "outputId": "438a2812-44cd-4621-b1fc-bd86e72afd17"
      },
      "execution_count": null,
      "outputs": [
        {
          "output_type": "stream",
          "name": "stdout",
          "text": [
            "num.value = 1\n",
            "arr[:] = [-0.1, -0.2, -0.3]\n"
          ]
        }
      ]
    },
    {
      "cell_type": "markdown",
      "source": [
        "### マネージャー ###"
      ],
      "metadata": {
        "id": "oxx00jVO_RxQ"
      }
    },
    {
      "cell_type": "markdown",
      "source": [
        "**マネージャー**（manager）は、共有オブジェクトの高レベルな使い方をサポートする。マネージャーでは、共有オブジェクトを管理する子プロセスが使用される。このプロセスがサーバープロセスとなって、他のプロセスはサーバープロセスを通して共有オブジェクトにアクセスすることになる。これにより高レベルな使い方ができる反面、サーバープロセスを使うことによるオーバーヘッドが発生すること、IPC にパイプが使われるためデータのシリアル化/デシリアル化によるオーバーヘッドも発生することに注意する。\n",
        "\n",
        "マネージャークラスは、`multiprocessing.managers.BaseManager` クラスの派生クラスとして定義される。`BaseManager` クラスで定義されている主なメソッドは次のとおり。\n",
        "\n",
        "| メソッド | 機能 | 戻り値 |\n",
        "|:---|:---|:---|\n",
        "| `start(initializer=None, initargs=())` | サーバープロセスを開始する。`initializer` が `None` でなければ、サーバープロセスは開始時に `initializer(*initargs)` を呼び出す | `None` |\n",
        "| `shutdown()` | サーバープロセスを停止する | `None` |\n",
        "| `get_server()` | マネージャーの制御下にある実際のサーバーを表す `Server` オブジェクトを返す。`Server` オブジェクトは `serve_forever()` メソッドを<br />サポートする | `Server` |\n",
        "| `connect()` | ローカルからリモートのマネージャーオブジェクトへ接続する | `None` |\n",
        "| `register(typeid, callable=None,`<br />` proxytype=None, exposed=None,`<br />` method_to_typeid=None,`<br />` create_method=True)` | クラスメソッド。マネージャークラスで呼び出し可能オブジェクトや型を登録するために使用される | `None` |\n",
        "\n",
        "クラスメソッド `register()` は、「プロキシを返すメソッド」をマネージャークラスに登録するために使用される。**プロキシ**は、共有オブジェクトを参照するオブジェクトであり、自身は組み込み型オブジェクトなどの Python オブジェクトと同様に操作される。プロキシを使うと Python らしい書き方で共有オブジェクトを操作することができる。\n",
        "\n",
        "既に多くの「プロキシを返すメソッド」が登録済みであるマネージャークラス `multiprocessing.managers.SyncManager` が用意されている。これを使えば、プログラマーが `register()` を使ってマネージャークラスを定義する必要がない。ただし、直接インスタンス化するのではなく、次の関数の戻り値としてインスタンスを得ること。\n",
        "\n",
        "``` python\n",
        "multiprocessing.Manager()\n",
        "```\n",
        "\n",
        "「プロキシを返すメソッド」を使用する前に、`start()` メソッドでサーバープロセスを開始しておく必要がある。プロキシを使用する必要がなくなったときは、`shutdown()` でサーバープロセスを停止する。全てのマネージャーは、コンテキストマネージャーとして使用できる。`__enter__()` は `start()` メソッドを呼び出してからマネージャーオブジェクトを返す。また `__exit__()` は `shutdown()` を呼び出す。\n",
        "\n",
        "次のコード片\n",
        "\n",
        "``` python\n",
        "with Manager() as manager:\n",
        "    # do something...\n",
        "```\n",
        "\n",
        "これは、以下と同じ。\n",
        "\n",
        "``` python\n",
        "manager = Manager()\n",
        "manager.start()\n",
        "try:\n",
        "    # do something...\n",
        "finally:\n",
        "    manager.shutdown()\n",
        "```\n",
        "\n",
        "`SyncManager` は、 `dict` や `list`、`multiprocessing.managers.Namespace` などに対応するプロキシを返すメソッドが登録されている。メソッドの名前はそれぞれの型の名前と同じになっている。 `multiprocessing.managers.Namespace` は、ドット演算子 `.` を使用する属性参照で共有オブジェクトを参照するために使用される。\n",
        "\n",
        "`Manager()` の使用例:"
      ],
      "metadata": {
        "id": "gj8gCD6f_SvP"
      }
    },
    {
      "cell_type": "code",
      "source": [
        "from multiprocessing import Process, Manager\n",
        "\n",
        "\n",
        "def f(dct, lst, ns):\n",
        "    dct[1] = \"1\"\n",
        "    dct[\"2\"] = 2\n",
        "    dct[0.25] = None\n",
        "    lst.reverse()\n",
        "    ns.x = 10\n",
        "    ns.y = \"hello\"\n",
        "\n",
        "\n",
        "def main():\n",
        "    with Manager() as manager:\n",
        "        dct = manager.dict()\n",
        "        lst = manager.list(range(10))\n",
        "        ns = manager.Namespace()\n",
        "\n",
        "        p = Process(target=f, args=(dct, lst, ns))\n",
        "        p.start()\n",
        "        p.join()\n",
        "\n",
        "        print(f\"{dct=!s}\")\n",
        "        print(f\"{lst=!s}\")\n",
        "        print(f\"{ns.x=}, {ns.y=}\")\n",
        "\n",
        "\n",
        "if __name__ == \"__main__\":\n",
        "    main()"
      ],
      "metadata": {
        "colab": {
          "base_uri": "https://localhost:8080/"
        },
        "id": "EPSc9-VhkiGl",
        "outputId": "9a1a64f0-9dbd-412e-b922-2d0b8ed66e69"
      },
      "execution_count": null,
      "outputs": [
        {
          "output_type": "stream",
          "name": "stdout",
          "text": [
            "dct={1: '1', '2': 2, 0.25: None}\n",
            "lst=[9, 8, 7, 6, 5, 4, 3, 2, 1, 0]\n",
            "ns.x=10, ns.y='hello'\n"
          ]
        }
      ]
    },
    {
      "cell_type": "markdown",
      "source": [
        "`BaseManager` を継承して独自のマネージャーを作成し、それをネットワーク経由で他のコンピューター上のプロセスによって共有することもできる。以下のコード例では、ローカルマシンで実行可能とするため、アドレスを `'localhost'` としている。\n",
        "\n",
        "server.py（共有キューのためにサーバーを作成）:\n",
        "\n",
        "``` python\n",
        "from multiprocessing.managers import BaseManager\n",
        "from queue import Queue\n",
        "\n",
        "queue = Queue()\n",
        "\n",
        "class QueueManager(BaseManager):\n",
        "  pass\n",
        "\n",
        "# キューに対応するプロキシを返すメソッド get_queue を登録\n",
        "QueueManager.register('get_queue', callable=lambda: queue)\n",
        "\n",
        "# マネージャーを取得\n",
        "manager = QueueManager(address=('localhost', 50000), authkey=b'abracadabra')\n",
        "# サーバーを取得\n",
        "server = manager.get_server()\n",
        "# サーバーを起動する\n",
        "server.serve_forever()\n",
        "```\n",
        "\n",
        "client1.py（データをキューに登録）:\n",
        "\n",
        "``` python\n",
        "from multiprocessing.managers import BaseManager\n",
        "\n",
        "class QueueManager(BaseManager):\n",
        "    pass\n",
        "\n",
        "# メソッド get_queue を登録\n",
        "QueueManager.register('get_queue')\n",
        "\n",
        "# マネージャーを取得\n",
        "manager = QueueManager(address=('localhost', 50000), authkey=b'abracadabra')\n",
        "# サーバーへ接続\n",
        "manager.connect()\n",
        "queue = manager.get_queue()\n",
        "queue.put('hello')\n",
        "```\n",
        "\n",
        "client2.py（データをキューから取り出す）:\n",
        "\n",
        "``` python\n",
        "from multiprocessing.managers import BaseManager\n",
        "\n",
        "class QueueManager(BaseManager):\n",
        "    pass\n",
        "\n",
        "# メソッド get_queue を登録\n",
        "QueueManager.register('get_queue')\n",
        "\n",
        "# マネージャーを取得\n",
        "manager = QueueManager(address=('localhost', 50000), authkey=b'abracadabra')\n",
        "# サーバーへ接続\n",
        "manager.connect()\n",
        "queue = manager.get_queue()\n",
        "print(queue.get())\n",
        "```\n",
        "\n",
        "ターミナルを 3 つ起動し、まず 1 つのターミナルで `python server.py` を実行してサーバーを立ち上げ、残りのターミナルでそれぞれ `python client1.py` と `python client2.py` を実行する。`client2.py` のプロセスはキューに値がない場合は待ち状態になり、`client1.py` のプロセスで `'hello'` が put されたら、それを出力する。"
      ],
      "metadata": {
        "id": "WQiE1pd7WGnR"
      }
    },
    {
      "cell_type": "markdown",
      "source": [
        "### 共有メモリ管理 ###"
      ],
      "metadata": {
        "id": "Sf0b92I0AkMA"
      }
    },
    {
      "cell_type": "markdown",
      "source": [
        "共有オブジェクトを介して共有メモリを利用できるのであるが、直接に共有メモリそのものを管理することもできる。共有メモリを直接管理することによって、マネージャーを利用しなくても柔軟に共有メモリを利用することができる。\n",
        "\n",
        "`multiprocessing.shared_memory` モジュールは、共有メモリそのものを管理するための `SharedMemory` クラスを提供する。\n",
        "\n",
        "``` python\n",
        "multiprocessing.shared_memory.SharedMemory(name=None, create=False, size=0)\n",
        "```\n",
        "\n",
        "| 引数 | 意味 |\n",
        "|:---|:---|\n",
        "| `name` | 共有メモリの一意の名前を文字列で指定する。`None`（デフォルト）の場合、新しい名前が構成される |\n",
        "| `create` | `True` の場合、新しい共有メモリの領域を確保して、それに結び付いたインスタンスを作成する。`False`（デフォルト）の場合、既存の共有メモリに結び付いたインスタンスを作成する |\n",
        "| `size` | 新しい共有メモリの領域を確保するときに要求されるバイト数。実際に確保されるサイズはこれより大きくなることがある。既存の共有メモリを使用する場合は、`size` は無視される |\n",
        "\n",
        "コンストラクタの `name` と `create` 引数を使うことで、あるプロセスが特定の名前で共有メモリを作成し、別のプロセスが同じ名前を使用して同じ共有メモリを参照することができる。\n",
        "\n",
        "| 属性 | 意味 |\n",
        "|:---|:---|\n",
        "| `buf` | 共有メモリの内容 |\n",
        "| `name` | 読み取り専用。共有メモリの名前（文字列） |\n",
        "| `size` | 読み取り専用。実際に割り当てられた共有メモリのサイズ |\n",
        "\n",
        "`buf` のデータ構造は C の配列であり、オブジェクトの参照ではなくオブジェクトの値そのものが格納される。インデックス参照が可能で、スライスも使える。たとえば、`buf[:4]` は先頭から 4 バイトのデータを参照する。\n",
        "\n",
        "| メソッド | 機能 | 戻り値 |\n",
        "|:---|:---|:---|\n",
        "| `close()` | このインスタンスから共有メモリへのアクセスを閉じる。`close()` を呼び出しても共有メモリ領域自体は破棄されない | `None` |\n",
        "| `unlink()` | OS に共有メモリの破棄を要求する。このメソッドは全てのインスタンスのうちいずれかが 1 回だけ呼び出すこと。`unlink()` と `close()` はどちらの順序でも呼び出す<br />ことができる | `None` |\n",
        "\n",
        "共有メモリがどのプロセスでも必要なくなった場合は、適切なクリーンアップが実行されるために `unlink()` メソッドを呼び出す必要がある。OS は、共有メモリがどのプロセスからもアクセスされる可能性がないことを確認してから共有メモリを破棄する。このため、全てのインスタンスは共有メモリが不要になったら `close()` を呼び出す必要がある。\n",
        "\n",
        "`SharedMemory` の使用例:"
      ],
      "metadata": {
        "id": "xbvlDhGDz2Kn"
      }
    },
    {
      "cell_type": "code",
      "source": [
        "import array\n",
        "from multiprocessing import Process, current_process\n",
        "from multiprocessing.shared_memory import SharedMemory\n",
        "\n",
        "\n",
        "def worker(name: str):\n",
        "    # 共有メモリを構成（既存の共有メモリを使用）\n",
        "    shm = SharedMemory(name=name)\n",
        "    print(\"{}: {}, {}, {}, {}\".format(current_process().name, *shm.buf[:4]))\n",
        "    shm.buf[:6] = b\"Python\"\n",
        "\n",
        "    #  共有メモリが不要になったら閉じる\n",
        "    shm.close()\n",
        "\n",
        "\n",
        "def main():\n",
        "    # 共有メモリを構成\n",
        "    shm = SharedMemory(create=True, size=10)\n",
        "    print(f\"Size of SharedMemor: {shm.size}\")\n",
        "    shm.buf[:3] = array.array(\"B\", [11, 22, 33])\n",
        "    shm.buf[3] = 44\n",
        "    assert (shm.buf[0], shm.buf[1], shm.buf[2], shm.buf[3]) == (11, 22, 33, 44)\n",
        "\n",
        "    p = Process(target=worker, name=\"ChildProcess\", args=(shm.name,))\n",
        "    p.start()\n",
        "    p.join()\n",
        "    assert (shm.buf[0], shm.buf[1], shm.buf[2], shm.buf[3]) == (80, 121, 116, 104)\n",
        "    print(\"{}: {}\".format(current_process().name, bytes(shm.buf[:6])))\n",
        "\n",
        "    #  共有メモリが不要になったら閉じる\n",
        "    shm.close()\n",
        "\n",
        "    # 共有メモリを破棄\n",
        "    shm.unlink()\n",
        "\n",
        "\n",
        "if __name__ == \"__main__\":\n",
        "    main()"
      ],
      "metadata": {
        "colab": {
          "base_uri": "https://localhost:8080/"
        },
        "id": "_scFJd4zB7Vf",
        "outputId": "44409a29-aed6-4994-b297-30b0086bd117"
      },
      "execution_count": null,
      "outputs": [
        {
          "output_type": "stream",
          "name": "stdout",
          "text": [
            "Size of SharedMemor: 10\n",
            "ChildProcess: 11, 22, 33, 44\n",
            "MainProcess: b'Python'\n"
          ]
        }
      ]
    },
    {
      "cell_type": "markdown",
      "source": [
        "バイト単位で共有メモリを構成する場合、データサイズが 2 バイト以上のデータ型（例: `float`）を扱うことが難しい。そこで、`multiprocessing.shared_memory` モジュールは、Python の組み込みデータ型からなる固定長リストの形で共有メモリを構成するための `ShareableList` クラスを提供する。`ShareableList` は `SharedMemory` のラッパークラスになっている。\n",
        "\n",
        "``` python\n",
        "multiprocessing.shared_memory.ShareableList(sequence=None, *, name=None)\n",
        "```\n",
        "\n",
        "`sequence` で与えた順番で値が格納された共有メモリ（`name` で一意の名前を付けられる）に結び付けられたオブジェクトを作成する。格納可能な値は次の組み込みデータ型に制限される。\n",
        "\n",
        "  * `int` （ただし符号付き 64 ビット整数）\n",
        "  * `float`\n",
        "  * `bool`\n",
        "  * `str` （ただし UTF-8 エンコードしたとき 10 MB 未満のもの）\n",
        "  * `bytes` （ただし 10 MB 未満のもの）\n",
        "  * `None`\n",
        "\n",
        "既存の `ShareableList` に結び付ける場合は、`sequence` を `None` に設定したまま、`name` で共有メモリの一意の名前を指定する。\n",
        "\n",
        "| 属性 | 意味 |\n",
        "|:---|:---|\n",
        "| `shm` | 内部で作成された `SharedMemory` インスタンス。`close()` や `unlink()` を呼び出すために使われる |\n",
        "\n",
        "`ShareableList` オブジェクトは変更可能なリストのように使える（イテラブルであり、`[]` を使ったインデックス参照も可能）。しかし、全体の長さを変更することはできない（つまり、`append()`、`insert()` などを使用できない）。また、スライスによる新しい `ShareableList` インスタンスの動的な作成をサポートしていない。\n",
        "\n",
        "`str` や `bytes` の値を参照する場合、末尾の連続した `\\x00`（ヌル文字またはヌルバイト）は削除される。`str` や `bytes` の値を変更する場合、もとの値より短い値に変更するのであれば末尾が `\\x00` で埋められるが、もとの値より長い値に変更しようとすれば `ValueError` が発生する。あらかじめ必要な文字数（バイト数）を確保するために末尾に連続した `\\x00` を入れるとよい。ただし、現在、`ShareableList` のバグにより、`sequence` の末尾以外の位置に `\\x00` で埋めた `str` や `bytes` の値を指定した場合に、その値をインデックス参照すると、`\\x00` と一緒に後ろに格納された値も削除されてしまう。このため、`\\x00` で埋めた `str` や `bytes` の値は `sequence` の末尾に置くとよい。\n",
        "\n",
        "| メソッド | 機能 | 戻り値 |\n",
        "|:---|:---|:---|\n",
        "| `count(value)` | `value` の出現回数を返す | `int` |\n",
        "| `index(value)` | `value` の最初のインデックス位置を返す。値が存在しない場合は `ValueError` を発生させる | `int` |\n",
        "\n",
        "`ShareableList` の使用例:"
      ],
      "metadata": {
        "id": "HmcxAdZwQsZ9"
      }
    },
    {
      "cell_type": "code",
      "source": [
        "from multiprocessing import Process, current_process\n",
        "from multiprocessing.shared_memory import ShareableList\n",
        "\n",
        "\n",
        "def worker(name: str):\n",
        "    # 共有メモリを構成（既存の共有メモリを使用）\n",
        "    a = ShareableList(name=name)\n",
        "    print(\"{}: {}, {}, {}, {}, {}\".format(current_process().name, a[0], a[1], a[2], a[3], a[4]))\n",
        "\n",
        "    # データを変更\n",
        "    a[0] = 0\n",
        "    a[1] = 3.141592\n",
        "    a[2] = False\n",
        "    a[3] = b\"aaa\"\n",
        "    a[4] = \"Hello World\"\n",
        "\n",
        "    #  共有メモリが不要になったら閉じる\n",
        "    a.shm.close()\n",
        "\n",
        "\n",
        "def main():\n",
        "    # 共有メモリを構成\n",
        "    a = ShareableList([100, -273.154, True, b\"aaabbb\", \"Hello\\x00\\x00\\x00\\x00\\x00\\x00\"])\n",
        "    assert a.count(100) == 1\n",
        "    assert a.index(True) == 2\n",
        "\n",
        "    p = Process(target=worker, name=\"ChildProcess\", args=(a.shm.name,))\n",
        "    p.start()\n",
        "    p.join()\n",
        "    print(\"{}: {}, {}, {}, {}, {}\".format(current_process().name, a[0], a[1], a[2], a[3], a[4]))\n",
        "\n",
        "    #  共有メモリが不要になったら閉じる\n",
        "    a.shm.close()\n",
        "\n",
        "    # 共有メモリを破棄\n",
        "    a.shm.unlink()\n",
        "\n",
        "\n",
        "if __name__ == \"__main__\":\n",
        "    main()"
      ],
      "metadata": {
        "colab": {
          "base_uri": "https://localhost:8080/"
        },
        "id": "trXahe7wvrAa",
        "outputId": "995e2773-9aac-48ae-ee97-60827ca17516"
      },
      "execution_count": null,
      "outputs": [
        {
          "output_type": "stream",
          "name": "stdout",
          "text": [
            "ChildProcess: 100, -273.154, True, b'aaabbb', Hello\n",
            "MainProcess: 0, 3.141592, False, b'aaa', Hello World\n"
          ]
        }
      ]
    },
    {
      "cell_type": "markdown",
      "source": [
        "`unlink()` 忘れを回避するために、マネージャーを使うことができる。`multiprocessing.managers.SharedMemoryManager` はマネージャーで、`start()` メソッドでサーバープロセスを開始してから以下のメソッドで `SharedMemory` や `ShareableList` のインスタンスを作成することができ、また、`shutdown()` メソッドで `unlink()` を呼び出す。\n",
        "\n",
        "| メソッド | 機能 | 戻り値 |\n",
        "|:---|:---|:---|\n",
        "| `SharedMemory(size)` | `size` バイトの大きさを要求する新しい `SharedMemory` インスタンスを作成して返す | `SharedMemory` |\n",
        "| `ShareableList(sequence)` | `sequence` の値で初期化された新しい `ShareableList` インスタンスを作成して返す | `ShareableList` |\n",
        "\n",
        "`SharedMemoryManager` をコンテキストマネージャーとして with 文で使用する場合、`start()` と `shutdown()` が暗黙的に実行される。\n",
        "\n",
        "次のコードは、`ShareableList` の使用例を `SharedMemoryManager` を利用する形で書き換える例である。"
      ],
      "metadata": {
        "id": "SlT8IMi12gHq"
      }
    },
    {
      "cell_type": "code",
      "source": [
        "from multiprocessing import Process, current_process\n",
        "from multiprocessing.managers import SharedMemoryManager\n",
        "\n",
        "\n",
        "def worker(sl):\n",
        "    print(\"{}: {}, {}, {}, {}, {}\".format(current_process().name, sl[0], sl[1], sl[2], sl[3], sl[4]))\n",
        "\n",
        "    # データを変更\n",
        "    sl[0] = 0\n",
        "    sl[1] = 3.141592\n",
        "    sl[2] = False\n",
        "    sl[3] = b\"aaa\"\n",
        "    sl[4] = \"Hello World\"\n",
        "\n",
        "\n",
        "def main():\n",
        "    # 共有メモリ管理プロセスを開始\n",
        "    with SharedMemoryManager() as smm:\n",
        "        sl = smm.ShareableList([100, -273.154, True, b\"aaabbb\", \"Hello\\x00\\x00\\x00\\x00\\x00\\x00\"])\n",
        "        assert sl.count(100) == 1\n",
        "        assert sl.index(True) == 2\n",
        "\n",
        "        p = Process(target=worker, name=\"ChildProcess\", args=(sl,))\n",
        "        p.start()\n",
        "        p.join()\n",
        "        print(\"{}: {}, {}, {}, {}, {}\".format(current_process().name, sl[0], sl[1], sl[2], sl[3], sl[4]))\n",
        "\n",
        "\n",
        "if __name__ == \"__main__\":\n",
        "    main()"
      ],
      "metadata": {
        "colab": {
          "base_uri": "https://localhost:8080/"
        },
        "id": "9QkJPbX42hE6",
        "outputId": "45d66ebb-9a63-4570-f1ce-cfe6788b4007"
      },
      "execution_count": null,
      "outputs": [
        {
          "output_type": "stream",
          "name": "stdout",
          "text": [
            "ChildProcess: 100, -273.154, True, b'aaabbb', Hello\n",
            "MainProcess: 0, 3.141592, False, b'aaa', Hello World\n"
          ]
        }
      ]
    },
    {
      "cell_type": "markdown",
      "source": [
        "### プロセスプール ###"
      ],
      "metadata": {
        "id": "YyIyxbv0bI_I"
      }
    },
    {
      "cell_type": "markdown",
      "source": [
        "子プロセスの作成は重い処理となるため、少ない子プロセスを使い回す仕組み、いわれる**プロセスプール**を利用すべきである。`multiprocessing` パッケージはプロセスプールを作成するためのクラス `Pool` を提供する。\n",
        "\n",
        "``` python\n",
        "multiprocessing.Pool(processes=None, initializer=None, initargs=(), maxtasksperchild=None)\n",
        "```\n",
        "\n",
        "| 引数 | 意味 |\n",
        "|:---|:---|\n",
        "| `processes` | プールされる子プロセスの数。省略した場合、`os.cpu_count()` によって返される数が使用される |\n",
        "| `initializer`,<br /> `initargs` | `initializer` が `None` ではない場合、各子プロセスは開始時に `initializer(*initargs)` を呼び出す |\n",
        "| `maxtasksperchild` | タスクが完了したら終了してもよい子プロセスの数。省略した場合、プロセスがプールと同じ期間だけ生き続ける |\n",
        "\n",
        "`Pool` インスタンスのメソッドは次のとおり。\n",
        "\n",
        "| メソッド | 機能 | 戻り値 |\n",
        "|:---|:---|:---|\n",
        "| `apply(func, args=(), kwds={})` | プール内の 1 つの子プロセスを使って、引数 `args` とキーワード引数 `kwds` を伴って `func` を呼ぶ。このメソッドは、<br />終了するまで後続の処理をブロックする | `func` の戻り値 |\n",
        "| `apply_async(func, args=(), kwds={},`<br />` callback=None, error_callback=None)` | `apply()` の非同期版で、`multiprocessing.pool.ApplyResult` クラスのインスタンス（結果オブジェクト）を返す。`callback`<br /> と `error_callback` には 1 個の引数を受け取る呼び出し可能オブジェクトを指定できる。結果を返せるようになったと<br />きに `callback` が結果オブジェクトに対して適用される。ただし呼び出しが失敗した場合は、例外インスタンスを伴って<br /> `error_callback` が適用される | `ApplyResult` |\n",
        "| `map(func, iterable, chunksize=None)` | 組み込み関数 `map()` の並列版。ただし、`iterable` 引数は 1 つだけサポートされる（`func` の引数は 1 つだけサポート<br />されるということである）。`iterable` から `chunksize `の長さ分だけタスクが切り出されて各プロセスに割り振られる。<br />デフォルトでは、プールされるプロセス数の 4 倍で切り出される | `func` の戻り値<br />のリスト |\n",
        "| `map_async(func, iterable, chunksize=None,`<br />` callback=None, error_callback=None`) | `map()` メソッドの非同期版。`multiprocessing.pool.MapResult` クラスのインスタンス（結果オブジェクト）を返す。<br />`callback` と `error_callback` については `apply_async()` と同様 | `MapResult` |\n",
        "| `imap(func, iterable, chunksize=1)` | `map()` の遅延評価版。`func` の戻り値を yield するイテレーターを返す。`chunksize` のデフォルト値は 1 とされる | イテレーター |\n",
        "| `imap_unordered(func, iterable,`<br />` chunksize=1)` | イテレーターが返す結果の順番が任意の順番でよいと見なされることを除けば `imap()` と同じ | イテレーター |\n",
        "| `starmap(self, func, iterable,`<br />` chunksize=None)` | `iterable` の要素が引数としてアンパックされるイテレート可能オブジェクトであると期待される以外は `map()` メソッ<br />ドと同様。そのため、`iterable` が `[(1,2), (3, 4)]` なら、結果は `[func(1,2), func(3,4)]` になる | `func` の戻り値<br />のリスト |\n",
        "| `starmap_async(self, func, iterable,`<br />` chunksize=None, callback=None,`<br />` error_callback=None)` | `starmap()` メソッドの非同期版。引数と戻り値は `map_async()` と同様 | `MapResult` |\n",
        "| `close()` | これ以上プールでタスクが実行されないようにする。すべてのタスクが完了した後で子プロセスが終了する | `None` |\n",
        "| `terminate()` | 実行中の処理を完了させずに子プロセスをすぐに停止する | `None` |\n",
        "| `join()` | 子プロセスが終了するのを待つ。`join()` を使用する前に `close()` か `terminate()` を呼び出す必要がある | `None` |\n",
        "\n",
        "`Pool` オブジェクトはコンテキストマネージャーとして使用できる。`__enter__()` は `Pool` オブジェクトを返す。また `__exit__()` は `terminate()` を呼び出す。\n",
        "\n",
        "次のコードは、`apply()` メソッドの使用例である:"
      ],
      "metadata": {
        "id": "7NSPMeRrIOdE"
      }
    },
    {
      "cell_type": "code",
      "source": [
        "from multiprocessing import Pool, current_process\n",
        "from random import random\n",
        "import time\n",
        "\n",
        "def worker(x):\n",
        "    print(\"{}(x={}) working...\".format(current_process().name, x))\n",
        "    time.sleep(random())\n",
        "    return x * x\n",
        "\n",
        "def main():\n",
        "    # 同時に最大2個の子プロセス\n",
        "    with Pool(processes=2) as pool:\n",
        "        results = []\n",
        "        for i in range(10):\n",
        "            res = pool.apply(func=worker, args=(i,))\n",
        "            results.append(res)\n",
        "        print(results)\n",
        "    pool.join()\n",
        "\n",
        "if __name__ == \"__main__\":\n",
        "    main()"
      ],
      "metadata": {
        "colab": {
          "base_uri": "https://localhost:8080/"
        },
        "id": "yvy-f1IjCq9m",
        "outputId": "79fb6c82-c23c-4d3a-d222-91d52f54ba2b"
      },
      "execution_count": null,
      "outputs": [
        {
          "output_type": "stream",
          "name": "stdout",
          "text": [
            "ForkPoolWorker-20(x=0) working...\n",
            "ForkPoolWorker-21(x=1) working...\n",
            "ForkPoolWorker-20(x=2) working...\n",
            "ForkPoolWorker-21(x=3) working...\n",
            "ForkPoolWorker-20(x=4) working...\n",
            "ForkPoolWorker-21(x=5) working...\n",
            "ForkPoolWorker-20(x=6) working...\n",
            "ForkPoolWorker-21(x=7) working...\n",
            "ForkPoolWorker-20(x=8) working...\n",
            "ForkPoolWorker-21(x=9) working...\n",
            "[0, 1, 4, 9, 16, 25, 36, 49, 64, 81]\n"
          ]
        }
      ]
    },
    {
      "cell_type": "markdown",
      "source": [
        "`apply()` で指定した `worker()` 関数は `random()` 関数で処理時間が異なるようにしている。それにもかかわらず、出力結果から、2 つの子プロセスが交互に結果を返していること、つまり `apply()` が同期処理を行うことがわかる。マルチプロセスの並列処理には `apply_async()` のほうが適している。`apply()` は、処理の順序付けをしたい場合に使う。\n",
        "\n",
        "`apply_async()` で返される `ApplyResult` オブジェクトは、以下のメソッドを持つ。\n",
        "\n",
        "| メソッド | 機能 | 戻り値 |\n",
        "|:---|:---|:---|\n",
        "| `get([timeout])` | 結果を返すが、結果を受け取るまで待ち、結果を受け取ったときに返す。引数に `timeout` を指定すると、結果が `timeout` 秒以内に受け取れない場合に<br /> `multiprocessing.TimeoutError` が発生する | 呼び出しの結果 |\n",
        "| `wait([timeout])` | その結果が有効になるか timeout 秒経つまで待つ | `None` |\n",
        "| `ready()` | その呼び出しが完了しているかどうかを返す | `bool` |\n",
        "| `successful()` | その呼び出しが例外を発生させることなく完了したかどうかを返す。その結果が返せる状態でない場合 `ValueError` が発生する | `bool` |\n",
        "\n",
        "次のコードは、`apply_async()` メソッドの使用例である:"
      ],
      "metadata": {
        "id": "BaFhb_riG0Ha"
      }
    },
    {
      "cell_type": "code",
      "source": [
        "from multiprocessing import Pool, current_process\n",
        "from random import random\n",
        "import time\n",
        "\n",
        "def worker(x):\n",
        "    print(\"{}(x={}) working...\".format(current_process().name, x))\n",
        "    time.sleep(random())\n",
        "    return x * x\n",
        "\n",
        "def main():\n",
        "    # 同時に最大2個の子プロセス\n",
        "    with Pool(processes=2) as pool:\n",
        "        results = []\n",
        "        for i in range(10):\n",
        "            res = pool.apply_async(func=worker, args=(i,))\n",
        "            results.append(res)\n",
        "        # 結果の取得\n",
        "        reply = []\n",
        "        for res in results:\n",
        "            try:\n",
        "                reply.append(res.get(timeout=2.0))\n",
        "            except TimeoutError:\n",
        "                print(\"タイムアウトしました\")\n",
        "    pool.join()\n",
        "    print(reply)\n",
        "\n",
        "if __name__ == \"__main__\":\n",
        "    main()"
      ],
      "metadata": {
        "colab": {
          "base_uri": "https://localhost:8080/"
        },
        "id": "MLS6b69IXEqi",
        "outputId": "ae75ef95-d060-4baf-976f-2fdb27580ac3"
      },
      "execution_count": null,
      "outputs": [
        {
          "output_type": "stream",
          "name": "stdout",
          "text": [
            "ForkPoolWorker-22(x=0) working...ForkPoolWorker-23(x=1) working...\n",
            "\n",
            "ForkPoolWorker-22(x=2) working...\n",
            "ForkPoolWorker-23(x=3) working...\n",
            "ForkPoolWorker-23(x=4) working...\n",
            "ForkPoolWorker-22(x=5) working...\n",
            "ForkPoolWorker-22(x=6) working...\n",
            "ForkPoolWorker-22(x=7) working...\n",
            "ForkPoolWorker-23(x=8) working...\n",
            "ForkPoolWorker-22(x=9) working...\n",
            "[0, 1, 4, 9, 16, 25, 36, 49, 64, 81]\n"
          ]
        }
      ]
    },
    {
      "cell_type": "markdown",
      "source": [
        "`apply_async()` で指定したタスクは、先にタスクを完了した子プロセスに次々に割り振られていく様子がわかる。また、`ApplyResult` オブジェクトの `get()` メソッドが結果を受け取るまで待つので、順番通りに結果を取得できることもわかる。\n",
        "\n",
        "`apply()` メソッドの使用例と `apply_async()` メソッドの使用例では、子プロセスで動かす関数が 1 引数なので、for 文で繰り返している部分を、それぞれ `map()` メソッドと `map_async()` メソッドで書き換えることができる。`map_async()` で返される `MapResult` オブジェクトは、 `ApplyResult` のサブクラスで、 `get()` メソッドが結果のリストを返すようにオーバーライドされる。\n",
        "\n",
        "次のコードは、`map_async()` メソッドの使用例である:"
      ],
      "metadata": {
        "id": "uIN2htdZSJ6p"
      }
    },
    {
      "cell_type": "code",
      "source": [
        "from multiprocessing import Pool, current_process\n",
        "from random import random\n",
        "import time\n",
        "\n",
        "def worker(x):\n",
        "    print(\"{}(x={}) working...\".format(current_process().name, x))\n",
        "    time.sleep(random())\n",
        "    return x * x\n",
        "\n",
        "def main():\n",
        "    # 同時に最大2個の子プロセス\n",
        "    with Pool(processes=2) as pool:\n",
        "        results = pool.map_async(func=worker, iterable=range(10))\n",
        "        # 結果の取得\n",
        "        try:\n",
        "            reply = results.get(timeout=5.0)\n",
        "        except TimeoutError:\n",
        "            print(\"タイムアウトしました\")\n",
        "    pool.join()\n",
        "    print(reply)\n",
        "\n",
        "if __name__ == \"__main__\":\n",
        "    main()"
      ],
      "metadata": {
        "colab": {
          "base_uri": "https://localhost:8080/"
        },
        "id": "UrlLyfXPSK_R",
        "outputId": "de7e1b32-9745-49c3-8394-8023c01e6feb"
      },
      "execution_count": null,
      "outputs": [
        {
          "output_type": "stream",
          "name": "stdout",
          "text": [
            "ForkPoolWorker-24(x=0) working...\n",
            "ForkPoolWorker-25(x=2) working...\n",
            "ForkPoolWorker-24(x=1) working...\n",
            "ForkPoolWorker-25(x=3) working...\n",
            "ForkPoolWorker-24(x=4) working...\n",
            "ForkPoolWorker-24(x=5) working...\n",
            "ForkPoolWorker-25(x=6) working...\n",
            "ForkPoolWorker-25(x=7) working...\n",
            "ForkPoolWorker-24(x=8) working...\n",
            "ForkPoolWorker-24(x=9) working...\n",
            "[0, 1, 4, 9, 16, 25, 36, 49, 64, 81]\n"
          ]
        }
      ]
    },
    {
      "cell_type": "markdown",
      "source": [
        "### multiprocessing.dummy ###"
      ],
      "metadata": {
        "id": "RctIhV97YMjG"
      }
    },
    {
      "cell_type": "markdown",
      "source": [
        "`multiprocessing.dummy` サブパッケージを利用すると、 `multiprocessing` の API を利用してマルチスレッドを実現できる。\n",
        "\n",
        "実は、`multiprocessing.Pool` のサブクラスとして、スレッドプールを使用する `multiprocessing.pool.ThreadPool` クラスが定義されており、`multiprocessing.dummy.Pool()` は、この `ThreadPool` のインスタンスを返す。つまり、以下の 2 つのコードは等価である。\n",
        "\n",
        "``` python\n",
        "from multiprocessing.dummy import Pool\n",
        "pool = Pool(processes, initializer, initargs)\n",
        "```\n",
        "\n",
        "``` python\n",
        "from multiprocessing.pool import ThreadPool\n",
        "pool = ThreadPool(processes, initializer, initargs)\n",
        "```\n",
        "\n",
        "`queue.Queue` を利用して作成したスレッドプールと同じような動作を `Pool()` で実現できる。"
      ],
      "metadata": {
        "id": "bjVxTFf3YNUr"
      }
    },
    {
      "cell_type": "code",
      "source": [
        "from multiprocessing.dummy import Pool\n",
        "import threading\n",
        "import time\n",
        "\n",
        "\n",
        "def worker(item):\n",
        "    print(f\"{threading.current_thread().name}: Working on {item}\")\n",
        "    time.sleep(item * 0.1)\n",
        "    print(f\"{threading.current_thread().name}: Finished {item}\")\n",
        "\n",
        "\n",
        "def main():\n",
        "    # スレッドプールを設定（2 つのスレッドからなる）\n",
        "    with Pool(processes=2) as pool:\n",
        "        results = pool.map_async(func=worker, iterable=range(1, 6))\n",
        "        # スレッドの開始\n",
        "        results.get()\n",
        "    # 終了を待機\n",
        "    pool.join()\n",
        "    print(\"全てのタスクが完了した\")\n",
        "\n",
        "\n",
        "if __name__ == \"__main__\":\n",
        "    main()"
      ],
      "metadata": {
        "colab": {
          "base_uri": "https://localhost:8080/"
        },
        "id": "sKCg4gTMddaf",
        "outputId": "3d619023-63a6-4488-9460-6a893f0de7c7"
      },
      "execution_count": null,
      "outputs": [
        {
          "output_type": "stream",
          "name": "stdout",
          "text": [
            "Thread-29 (worker): Working on 1\n",
            "Thread-30 (worker): Working on 2\n",
            "Thread-29 (worker): Finished 1\n",
            "Thread-29 (worker): Working on 3\n",
            "Thread-30 (worker): Finished 2\n",
            "Thread-30 (worker): Working on 4\n",
            "Thread-29 (worker): Finished 3\n",
            "Thread-29 (worker): Working on 5\n",
            "Thread-30 (worker): Finished 4\n",
            "Thread-29 (worker): Finished 5\n",
            "全てのタスクが完了した\n"
          ]
        }
      ]
    },
    {
      "cell_type": "markdown",
      "source": [
        "フューチャーパターン\n",
        "--------------------"
      ],
      "metadata": {
        "id": "q5rVC8j9eRCy"
      }
    },
    {
      "cell_type": "markdown",
      "source": [
        "`Pool` の `apply_async()` や `map_async()` で作成される結果オブジェクト（`ApplyResult` インスタンスや `MapResult` インスタンス）は、作成時にはタスクの結果を保持していなくても未来にはその結果を受け取ることができるという不思議なオブジェクトである。このようなオブジェクトは、しばしば future と呼ばれ、以下のようなデザインパターンの下でそのクラスが設計される。\n",
        "\n",
        "**フューチャーパターン**（future pattern）は、プロキシパターンの一種で、並列処理のためのデザインパターンである。値を取得できる既存クラスに対して、そのラッパーであるクラス（Future クラスと呼ぶ）を使って、次のような機能を追加する。\n",
        "\n",
        "  1. 既存クラスのインスタンスから値を取得できる場合は、その値を保持する。\n",
        "  2. 既存クラスのインスタンスから値を取得できない場合は、値を取得できる状態になるまで待つ。\n",
        "\n",
        "このように、Future クラスは待機状態を持つ。待機状態により値の取得を後回しにすることができ、これにより並列処理でのやり取りをスムーズに行うことができる。\n",
        "\n",
        "たとえば、ある計算を行うクラス X があって、その計算を要求する処理（receiver）と実際の計算を行う処理（sender）の間で以下のようなやり取りをする。\n",
        "\n",
        "  * （receiver） X クラスをラップする Future クラスをインスタンス化し、それを何らかの手段を用いて sender に渡す。\n",
        "  * （sender） X オブジェクトの計算を行い、Future オブジェクトの待機状態を解除する。\n",
        "  * （receiver） Future オブジェクトを確認し、待機状態が解除されていれば Future オブジェクトから計算結果を取得できるが、待機状態である間はブロックされる。\n",
        "\n",
        "X で行う計算が時間のかかるものである場合、Future オブジェクトを使うことで並列処理が効率的に行われる。\n",
        "\n",
        "Future の機能はよく引換券に例えられる（future は現物に対する先物という意味もある）。食券を発行する食堂で考えると、料理を要求する客と、料理を提供する食堂スタッフがいて、食堂ではすぐには料理が渡されないので、客は券売機で食券を購入して待つ。配膳口に食券の番号が表示されたら、客は配膳口で料理を受け取ることができる。食券システムによって客と食堂スタッフのやり取りがスムーズになり、客は料理ができるまでのスキマ時間を有効に活用することもできる。\n",
        "\n",
        "多くのプログラミング言語では、フューチャーパターンの実装が言語の機能あるいはライブラリとして取り込まれている。"
      ],
      "metadata": {
        "id": "NyUxJqtGeR8S"
      }
    },
    {
      "cell_type": "markdown",
      "source": [
        "concurrent.futures\n",
        "------------------"
      ],
      "metadata": {
        "id": "elZCiIp-ySUp"
      }
    },
    {
      "cell_type": "markdown",
      "source": [
        "標準ライブラリの `concurrent.futures` モジュールは、`multiprocessing.Pool` や `multiprocessing.dummy.Pool` の機能限定版となるインターフェースを提供する。スレッド間通信やプロセス間通信を使って細かい制御を行う必要がない、あるいは、そのような制御を使わないという制限を課す場合には、`concurrent.futures` モジュールが適している。"
      ],
      "metadata": {
        "id": "US0DmuvUZp1r"
      }
    },
    {
      "cell_type": "markdown",
      "source": [
        "### Future ###"
      ],
      "metadata": {
        "id": "rbAA5FxgZqjA"
      }
    },
    {
      "cell_type": "markdown",
      "source": [
        "`concurrent.futures` モジュールが提供するインターフェースを使用すると、`concurrent.futures.Future` オブジェクトが作成される。これは、フューチャーパターンの Python 実装であり、タスクの未来の値を表す。`multiprocessing.pool.ApplyResult` より高機能である。モジュールの利用者がこのオブジェクトを直接作成する必要はなく、また操作するメソッドは次のメソッドに限られる。\n",
        "\n",
        "| メソッド | 機能 | 戻り値 |\n",
        "|:---|:---|:---|\n",
        "| `cancel()` | 呼び出しのキャンセルを試みる。呼び出しが現在実行中または実行が終了していてキャンセルできない場合、このメソッドは `False` を返し、そうでな<br />い場合、呼び出しはキャンセルされ、このメソッドは `True` を返す | `bool` |\n",
        "| `cancelled()` | 呼び出しが正常にキャンセルされた場合 `True` を返す | `bool` |\n",
        "| `running()` | 現在呼び出しが実行中でキャンセルできない場合 `True` を返す | `bool` |\n",
        "| `done()` | 呼び出しが正常にキャンセルされたか終了した場合 `True` を返す | `bool` |\n",
        "| `result(timeout=None)` | 呼び出しによって返された値を返す。もし呼び出しがまだ完了していなければ、このメソッドは待機する。`timeout` に浮動小数点数を指定した場合、<br />タイムアウトすると `TimeoutError` が送出される。`Future` オブジェクトが完了する前にキャンセルされた場合、`CancelledError` が送出される。呼び出<br />しが例外を送出した場合、このメソッドは同じ例外を送出する | Unknown |\n",
        "| `exception(timeout=None)` | 呼び出しによって送出された例外を返す。もし呼び出しがまだ完了されていなければ、このメソッドは待機する。`timeout` に浮動小数点数を指定し<br />た場合および `Future` オブジェクトが完了する前にキャンセルされた場合は `result()` と同様。呼び出しが例外を送出することなく完了した場合、<br />`None` を返す | `Exception`<br /> &#124; `None` |\n",
        "| `add_done_callback(fn)` | 完了時コールバックとして呼び出し可能なオブジェクト `fn` を追加する。`Future` オブジェクトがキャンセルされたか、完了した際に、`Future` オブジェ<br />クトをそのただ 1 つの引数として `fn` が呼び出される。追加された完了時コールバックは、追加された順番で、追加を行ったプロセスに属するスレッ<br />ド中で呼び出される。もし `Future` オブジェクトが既に完了しているか、キャンセル済みであれば、`fn` は即座に実行される | `None` |"
      ],
      "metadata": {
        "id": "Nl-7xp7PZsSC"
      }
    },
    {
      "cell_type": "markdown",
      "source": [
        "### Executor ###"
      ],
      "metadata": {
        "id": "5eFs9zgN2gmj"
      }
    },
    {
      "cell_type": "markdown",
      "source": [
        "`concurrent.futures.Executor` は、スレッドまたはプロセスのプールを使用して非同期に呼び出しを行うインターフェースを提供するクラスである。以下のメソッドを持つ。\n",
        "\n",
        "| メソッド | 機能 | 戻り値 |\n",
        "|:---|:---|:---|\n",
        "| `submit(fn, /, *args, **kwargs)` | 呼び出し可能オブジェクト `fn` を `fn(*args, **kwargs)` として実行するようにスケジュールし、`concurrent.futures.Future` オブジェクトを返す | `Future` |\n",
        "| `map(fn, *iterables, timeout=None,`<br />` chunksize=1)` | 組み込み関数 `map()` の非同期版。`fn` の実行結果（`Future` オブジェクトの `result()` メソッドの戻り値）を返すジェネレーターを返す。返す順<br />番は `iterables` で渡すタスクの順番となる（実行が完了した順番ではない）。`fn` 呼び出しで例外が発生した場合、その値がジェネレーターか<br />ら取得されるときにその例外が発生する。`chunksize` はプロセスプールでのみ有効で、`Pool.map()` と同じ | ｼﾞｪﾈﾚｰﾀｰ |\n",
        "| `shutdown(wait=True,`<br />` *, cancel_futures=False)` | シャットダウンする。以後 `submit()` と `map()` を呼び出すと `RuntimeError` が発生する。`cancel_futures` が `False`（デフォルト）の場合、実行を<br />開始せず保留中の `Future` オブジェクトがキャンセルされず、それらの全てが完了してリソースが解放される。`wait` が `True`（デフォルト）の場<br />合、リソース解放までメソッドは返らない | `None` |\n",
        "\n",
        "`Executor` は、コンテキストマネージャーとして使用できる。`shutdown()` は with ブロックを終了するときに呼び出される。\n",
        "\n",
        "`Executor` クラスを直接使ってはならず、サブクラスである `ThreadPoolExecutor`（マルチスレッド）か `ProcessPoolExecutor` （マルチプロセス）を介して使うこと。\n",
        "\n",
        "``` python\n",
        "concurrent.futures.ThreadPoolExecutor(max_workers=None, thread_name_prefix='', initializer=None, initargs=())\n",
        "```\n",
        "\n",
        "| 引数 | 意味 |\n",
        "|:---|:---|\n",
        "| `max_workers` | プールされるスレッドの数を指定する。`None` か指定を省略する場合のデフォルト値 `min(32, os.cpu_count() + 4)` |\n",
        "| `thread_name_prefix` | スレッド名の接頭辞を指定する |\n",
        "| `initializer` | スレッド開始時に実行する関数を指定する |\n",
        "| `initargs` | `initializer` の引数をタプルで指定する |\n",
        "\n",
        "``` python\n",
        "concurrent.futures.ProcessPoolExecutor(max_workers=None, mp_context=None, initializer=None, initargs=(), max_tasks_per_child=None)\n",
        "```\n",
        "\n",
        "| 引数 | 意味 |\n",
        "|:---|:---|\n",
        "| `max_workers` | プールされるプロセスの数を指定する。`None` か指定を省略する場合のデフォルト値はマシン上の CPU コア数になる。Windows では 61 以下に制約される |\n",
        "| `mp_context` | プロセス生成時の開始方式を指定する |\n",
        "| `initializer` | プロセス開始時に実行する関数を指定する |\n",
        "| `initargs` | `initializer` の引数をタプルで指定する |\n",
        "| `max_tasks_per_child` | Python 3.11 で追加。1 つのプロセスが実行できるタスクの最大数を指定する。この数を超えるとプロセスは終了する。`None`（デフォルト）の場合、プロセスは<br />プールと同じ期間存続する |\n",
        "\n",
        "`ProcessPoolExecutor` については、次の 3 点に注意する。\n",
        "\n",
        "  * `ProcessPoolExecutor` は、Python インタプリターの対話モードでは動作しない。\n",
        "  * `ProcessPoolExecutor` は、`multiprocessing.Queue` を利用しているため、pickle 化できるオブジェクトを利用する必要がある。pickle 化できないファイルオブジェクトやラムダ式などは、`ProcessPoolExecutor` で実行する呼び出し可能オブジェクト、その引数と戻り値として利用できない。\n",
        "  * `ProcessPoolExecutor` に渡された呼び出し可能オブジェクトから `Executor` や `Future` のメソッドを呼ぶとデッドロックに陥る。\n",
        "\n",
        "次のコードは、あえて効率の悪い素数判定アルゴリズムを用いた `is_prime()` 関数を、比較のため、シングルプロセスとマルチプロセスで動かす。マルチプロセスでは、さらに `submit()` メソッドと `map()` メソッドで動かしている。"
      ],
      "metadata": {
        "id": "Q3k8QCkT2hAU"
      }
    },
    {
      "cell_type": "code",
      "source": [
        "from concurrent.futures import ProcessPoolExecutor\n",
        "import time\n",
        "\n",
        "PRIMES = [\n",
        "    10897409,\n",
        "    20292113,\n",
        "    31518271,\n",
        "    40003027,\n",
        "]\n",
        "\n",
        "def is_prime(n: int) -> bool:\n",
        "    \"\"\"効率の悪い素数判定\"\"\"\n",
        "    if n < 2 or not isinstance(n, int):\n",
        "        raise ValueError(\"nは2以上の整数を指定してください\")\n",
        "    i = 2\n",
        "    while i < n:\n",
        "        if n % i == 0:\n",
        "            return False\n",
        "        i += 1\n",
        "    return True\n",
        "\n",
        "def main():\n",
        "    # シングルプロセスで実行\n",
        "    print(f\"single process started at {time.strftime('%X')}\")\n",
        "    for n in PRIMES:\n",
        "        if is_prime(n):\n",
        "            print(f\"{n} is prime\")\n",
        "    print(f\"single process finished at {time.strftime('%X')}\")\n",
        "\n",
        "    # マルチプロセス（submit メソッド）で実行\n",
        "    print(f\"multi process (submit) started at {time.strftime('%X')}\")\n",
        "    with ProcessPoolExecutor() as executor:\n",
        "        n_futures = []\n",
        "        for n in PRIMES:\n",
        "            n_futures.append((n, executor.submit(is_prime, n)))\n",
        "        for n, future in n_futures:\n",
        "            if future.result():\n",
        "                print(f\"{n} is prime\")\n",
        "    print(f\"multi process (submit) finished at {time.strftime('%X')}\")\n",
        "\n",
        "    # マルチプロセス（map メソッド）で実行\n",
        "    print(f\"multi process (map) started at {time.strftime('%X')}\")\n",
        "    with ProcessPoolExecutor() as executor:\n",
        "        for n, result in zip(PRIMES, executor.map(is_prime, PRIMES)):\n",
        "            if result:\n",
        "                print(f\"{n} is prime\")\n",
        "    print(f\"multi process (map) finished at {time.strftime('%X')}\")\n",
        "\n",
        "if __name__ == \"__main__\":\n",
        "    main()"
      ],
      "metadata": {
        "colab": {
          "base_uri": "https://localhost:8080/"
        },
        "id": "h7NINctuLFJQ",
        "outputId": "01868e2a-5d4a-4d3b-ef2c-ed86cea64efd"
      },
      "execution_count": null,
      "outputs": [
        {
          "output_type": "stream",
          "name": "stdout",
          "text": [
            "single process started at 02:40:22\n",
            "10897409 is prime\n",
            "20292113 is prime\n",
            "31518271 is prime\n",
            "40003027 is prime\n",
            "single process finished at 02:40:38\n",
            "multi process (submit) started at 02:40:38\n",
            "10897409 is prime\n",
            "20292113 is prime\n",
            "31518271 is prime\n",
            "40003027 is prime\n",
            "multi process (submit) finished at 02:40:51\n",
            "multi process (map) started at 02:40:51\n",
            "10897409 is prime\n",
            "20292113 is prime\n",
            "31518271 is prime\n",
            "40003027 is prime\n",
            "multi process (map) finished at 02:41:05\n"
          ]
        }
      ]
    },
    {
      "cell_type": "markdown",
      "source": [
        "`submit()` メソッドは、1 個のタスクしか実行できないので、複数のタスクを同時に実行するには for 文を使うなどの工夫が必要である。\n",
        "\n",
        "`map()` メソッドは、イテラブルが返すタスクを実行できる。`multiprocessing.Pool` の `map_async()` に似ているが、複数の iterable 引数をサポートする（実行する `fn` 関数が複数の引数をとることができる）。`map()` メソッドはジェネレーターを返すが、そのジェネレーターは `Future` オブジェクトを返すのではなく、`Future` オブジェクトの `result()` メソッドの戻り値、つまり呼び出しの結果を返すことに注意する。上記のコードでは、結果表示のために、与えたタスクとその結果の組が欲しかったので、組み込み関数 `zip()` を使っている。`zip()` 関数が問題なく使えるのは、`map()` が返すジェネレーターでは完了した順番ではなく渡したタスクの順番で結果を受け取るからである。\n",
        "\n",
        "Colab の制約により、上の実行結果にはマルチプロセスの効果が表れなかった。手元のマシンでは、上記のコードを実行した結果にマルチプロセスの効果が表れたことを確認している。\n",
        "\n",
        "上記のコードは、`ProcessPoolExecutor` を `ThreadPoolExecutor` に単純に置換するだけで、マルチスレッドで動作する。ただし、`is_prime()` 関数は CPU バウンドな処理を行うので、GIL によってマルチスレッドの効果は表れない。\n",
        "\n",
        "さて、上記のコードの `is_prime()` 関数をタプル `tuple[int, bool]` を返すように変更する。この場合、`submit()` メソッドでは、完了時コールバックを追加し、完了時コールバックの中で結果を取得して上記コードと同様の結果表示を行える。また、`map()` メソッドでは、`zip()` を使う必要はない。"
      ],
      "metadata": {
        "id": "6evBpvVU4ukm"
      }
    },
    {
      "cell_type": "code",
      "source": [
        "from concurrent.futures import Future, ProcessPoolExecutor\n",
        "import time\n",
        "\n",
        "PRIMES = [\n",
        "    10897409,\n",
        "    20292113,\n",
        "    31518271,\n",
        "    40003027,\n",
        "]\n",
        "\n",
        "def is_prime(n: int) -> tuple[int, bool]:\n",
        "    \"\"\"効率の悪い素数判定\"\"\"\n",
        "    if n < 2 or not isinstance(n, int):\n",
        "        raise ValueError(\"nは2以上の整数を指定してください\")\n",
        "    i = 2\n",
        "    while i < n:\n",
        "        if n % i == 0:\n",
        "            return n, False\n",
        "        i += 1\n",
        "    return n, True\n",
        "\n",
        "def my_callback_function(future: Future):\n",
        "    n, result = future.result()\n",
        "    if result:\n",
        "        print(f\"{n} is prime\")\n",
        "\n",
        "def main():\n",
        "    # マルチプロセス（submit メソッド）で実行\n",
        "    print(f\"multi process (submit) started at {time.strftime('%X')}\")\n",
        "    with ProcessPoolExecutor() as executor:\n",
        "        for n in PRIMES:\n",
        "            future = executor.submit(is_prime, n)\n",
        "            future.add_done_callback(my_callback_function)\n",
        "    print(f\"multi process (submit) finished at {time.strftime('%X')}\")\n",
        "\n",
        "    # マルチプロセス（map メソッド）で実行\n",
        "    print(f\"multi process (map) started at {time.strftime('%X')}\")\n",
        "    with ProcessPoolExecutor() as executor:\n",
        "        for n, result in executor.map(is_prime, PRIMES):\n",
        "            if result:\n",
        "                print(f\"{n} is prime\")\n",
        "    print(f\"multi process (map) finished at {time.strftime('%X')}\")\n",
        "\n",
        "if __name__ == \"__main__\":\n",
        "    main()"
      ],
      "metadata": {
        "colab": {
          "base_uri": "https://localhost:8080/"
        },
        "id": "H4oDiTpy6jin",
        "outputId": "85afaade-3429-4eb3-947b-8518a6b2aeb2"
      },
      "execution_count": null,
      "outputs": [
        {
          "output_type": "stream",
          "name": "stdout",
          "text": [
            "multi process (submit) started at 14:07:12\n",
            "10897409 is prime\n",
            "20292113 is prime\n",
            "31518271 is prime\n",
            "40003027 is prime\n",
            "multi process (submit) finished at 14:07:25\n",
            "multi process (map) started at 14:07:25\n",
            "10897409 is prime\n",
            "20292113 is prime\n",
            "31518271 is prime\n",
            "40003027 is prime\n",
            "multi process (map) finished at 14:07:38\n"
          ]
        }
      ]
    },
    {
      "cell_type": "markdown",
      "source": [
        "### as_completed ###"
      ],
      "metadata": {
        "id": "kofZ_7MYwa34"
      }
    },
    {
      "cell_type": "markdown",
      "source": [
        "複数のタスクを同時に実行し、完了した `Future` オブジェクトから先に効率よく結果を受け取るということは、単純な `submit()` メソッドの繰り返しや `map()` メソッドを使う限りは実現できない。この場合、次のモジュール関数を使うとよい。\n",
        "\n",
        "``` python\n",
        "concurrent.futures.as_completed(fs, timeout=None)\n",
        "```\n",
        "\n",
        "この関数は、`Future` オブジェクトのイテレーター `fs` を受け取り、新たに完了順に `Future` オブジェクトを返すジェネレーターを返す。このジェネレーターから受け取る `Future` オブジェクトでは `result()` メソッドの呼び出しから直ちに結果を得る（または例外が発生する）。なお、`fs` は、異なる `Executor` インスタンスによって作成された `Future` オブジェクトを返すものであってもよい。\n",
        "\n",
        "`timeout` 引数を指定した場合、`timeout` 秒経過してもジェネレーターが `Future` オブジェクトを返さないとき、`concurrent.futures.TimeoutError` 例外を発生させる。\n",
        "\n",
        "以下は、HTTP リクエストを伴う大量のタスクのバッチ処理を想定したコード例である。処理が I/O バウンドなので、`ThreadPoolExecutor` で並列処理を行っている。例外処理も行うようにしている。ここでは、 [httpstat.us](https://httpstat.us/) にアクセスし HTTP Status Code のレスポンスを得ているだけである。 httpstat.us は、URL に欲しいステータスコードの番号を付けてアクセスするだけで、そのステータスコードのレスポンスを返してくれるサービスを提供している。`https://httpstat.us/200` なら `200 OK` のステータスコードである。`sleep=<millisecond>` の形でクエリ文字列を追加すると、`<millisecond>` ミリ秒経過までレスポンスを遅らせることができる。"
      ],
      "metadata": {
        "id": "DDofQWIKwbgY"
      }
    },
    {
      "cell_type": "code",
      "source": [
        "from concurrent.futures import Future, ThreadPoolExecutor, TimeoutError, as_completed\n",
        "import urllib.request\n",
        "\n",
        "def my_task(millisecond: int) -> tuple[str, int]:\n",
        "    if millisecond < 0:\n",
        "        raise ValueError(f\"millisecond is {millisecond}, must be greater than or equal to 0\")\n",
        "    with urllib.request.urlopen(f\"https://httpstat.us/200?sleep={millisecond}\") as response:\n",
        "        body = response.read().decode(\"utf-8\")\n",
        "        return body, millisecond\n",
        "\n",
        "def my_add_done_callback(future: Future):\n",
        "    try:\n",
        "        result = future.result()\n",
        "    except ValueError as err:\n",
        "        print(f\"{type(err).__name__}: {err}\")\n",
        "    else:\n",
        "        print(f\"Task completed: {result}\")\n",
        "\n",
        "def main():\n",
        "    # タスクのリスト（遅延する時間（ミリ秒）を指定する）\n",
        "    tasks = [3000, 1000, 2000, 4000, 6000, -1000]\n",
        "    with ThreadPoolExecutor() as executor:\n",
        "        futures = [executor.submit(my_task, millisecond=task) for task in tasks]\n",
        "        try:\n",
        "            # タイムアウトを 6 秒に設定するので、おそらく 6000 のタスクはタイムアウトする\n",
        "            for future in as_completed(futures, timeout=6.0):\n",
        "                future.add_done_callback(my_add_done_callback)\n",
        "        except TimeoutError as err:\n",
        "            print(f\"{type(err).__name__}: {err}\")\n",
        "\n",
        "if __name__ == \"__main__\":\n",
        "    main()"
      ],
      "metadata": {
        "colab": {
          "base_uri": "https://localhost:8080/"
        },
        "id": "vy-xK51kbIJq",
        "outputId": "388be1b1-6acf-445e-a32f-46a2500d46be"
      },
      "execution_count": null,
      "outputs": [
        {
          "output_type": "stream",
          "name": "stdout",
          "text": [
            "ValueError: millisecond is -1000, must be greater than or equal to 0\n",
            "Task completed: ('200 OK', 1000)\n",
            "Task completed: ('200 OK', 2000)\n",
            "Task completed: ('200 OK', 3000)\n",
            "Task completed: ('200 OK', 4000)\n",
            "TimeoutError: 1 (of 6) futures unfinished\n"
          ]
        }
      ]
    },
    {
      "cell_type": "markdown",
      "source": [
        "呼び出しで発生した例外は、`Future` オブジェクトの `result()` メソッドで結果を取得する際に処理する。`as_completed()` 関数で発生した `concurrent.futures.TimeoutError` 例外は、関数の呼び出しを try-except 文で書いて処理する。"
      ],
      "metadata": {
        "id": "Sb1EQLxroXkx"
      }
    },
    {
      "cell_type": "markdown",
      "source": [
        "### 排他制御 ###"
      ],
      "metadata": {
        "id": "2JXN5VpZoYdV"
      }
    },
    {
      "cell_type": "markdown",
      "source": [
        "マルチスレッドでは、競合状態が発生する場合、ロックを使用する必要がある。"
      ],
      "metadata": {
        "id": "2Rs1cqONp-m-"
      }
    },
    {
      "cell_type": "code",
      "source": [
        "from concurrent.futures import ThreadPoolExecutor\n",
        "from threading import Lock, current_thread\n",
        "import time\n",
        "\n",
        "def counter(data: dict, lock: Lock):\n",
        "    with lock:  # ロックの獲得と解放\n",
        "        n = data['n']\n",
        "        time.sleep(0.2)\n",
        "        data['n'] = n + 1\n",
        "        print(f\"{current_thread().name}: {data['n']=}\")\n",
        "\n",
        "def main():\n",
        "    data = {\"n\": 0}\n",
        "    lock = Lock()  # ロックを作成\n",
        "    with ThreadPoolExecutor() as executor:\n",
        "        for _ in range(3):\n",
        "            executor.submit(counter, data, lock)\n",
        "    print(f\"{current_thread().name}: {data['n']=}\")\n",
        "\n",
        "if __name__ == \"__main__\":\n",
        "    main()"
      ],
      "metadata": {
        "colab": {
          "base_uri": "https://localhost:8080/"
        },
        "id": "E4VFcWwZuDwG",
        "outputId": "bb04f831-eeea-4e3e-fb58-4e407387a827"
      },
      "execution_count": null,
      "outputs": [
        {
          "output_type": "stream",
          "name": "stdout",
          "text": [
            "ThreadPoolExecutor-1_0: data['n']=1\n",
            "ThreadPoolExecutor-1_1: data['n']=2\n",
            "ThreadPoolExecutor-1_2: data['n']=3\n",
            "MainThread: data['n']=3\n"
          ]
        }
      ]
    },
    {
      "cell_type": "markdown",
      "source": [
        "subprocess\n",
        "----------"
      ],
      "metadata": {
        "id": "6lkjTSW3NMEu"
      }
    },
    {
      "cell_type": "markdown",
      "source": [
        "標準ライブラリの `subprocess` モジュールは、新しいプロセスの開始、入力・出力・エラーパイプの接続、リターンコードの取得を可能とする。"
      ],
      "metadata": {
        "id": "a4_Zd9KyNMnO"
      }
    },
    {
      "cell_type": "markdown",
      "source": [
        "### run ###"
      ],
      "metadata": {
        "id": "S-MARoXHNOaL"
      }
    },
    {
      "cell_type": "markdown",
      "source": [
        "``` python\n",
        "subprocess.run(args, *, **kwargs)\n",
        "```\n",
        "\n",
        "このモジュール関数は、`args`（文字列のリストまたは単一の文字列）で指定されたコマンドを実行する。コマンドの完了を待って、`subprocess.CompletedProcess` インスタンスを返す。\n",
        "\n",
        "`args` 以外の引数は、すべてキーワード専用引数となっており、主なものは次のとおり（全てのキーワード専用引数は[公式ドキュメント](https://docs.python.org/ja/3/library/subprocess.html#using-the-subprocess-module)を参照）。\n",
        "\n",
        "| kwargs | 意味 | default |\n",
        "|:---|:---|:--:|\n",
        "| `stdin` | 標準入力を指定する。以下から選ぶ<br /><br />・`None`: リダイレクトは発生しない<br /><br />・`subprocess.PIPE`: 子プロセスへの新しいパイプを作成する<br /><br />・`subprocess.DEVNULL`: `os.devnull` を使用する<br /><br />・ファイル記述子（正の整数）<br /><br />・有効なファイル記述子を持つファイルオブジェクト | `None` |\n",
        "| `stdout` | 標準出力を指定する。`stdin` と同じ項目を選べる | `None` |\n",
        "| `stderr` | 標準エラー出力を指定する。`stdout` で選べる項目に加え、`subprocess.STDOUT` も選べる。これは子プロセスからの `stderr` の内容が `stdout` と同じファイルハン<br />ドルにキャプチャされる必要があることを示す | `None` |\n",
        "| `capture_output` | `True` の場合、標準出力と標準エラー出力の内容がそれぞれ `CompletedProcess` インスタンスの `stdout` 属性と `stderr` 属性で参照できる | `False` |\n",
        "| `shell` | `args` が単一の文字列で `shell` が `True` の場合、その文字列がシェルによって実行される。`args` が単一の文字列で `shell` が `False`（デフォルト）の場合、その<br />文字列は引数を指定せずに実行される単なるプログラムの名前でなければならない | `False` |\n",
        "| `cwd` | 作業ディレクトリのパスを表す path-like オブジェクトを指定する | `None` |\n",
        "| `timeout` | `timeout` 秒経過後に処理が完了しなかった場合に `subprocess.TimeoutExpired` 例外を送出する。`timeout` が `None`（デフォルト）の場合、タイムアウトしない | `None` |\n",
        "| `check` | `True` の場合、子プロセスが非ゼロの終了コードで終了したなら、`subprocess.CalledProcessError` 例外を送出する | `False` |\n",
        "\n",
        "`subprocess.CompletedProcess` の属性:\n",
        "\n",
        "| 属性 | 意味 |\n",
        "|:---|:---|\n",
        "| `args` | プロセスを起動するときに使用された引数。1 個のリストか 1 個の文字列になる |\n",
        "| `returncode` | 子プロセスの終了コード。正常終了の場合 `0` を返す |\n",
        "| `stdout` | 子プロセスから補足された標準出力の内容（バイト列） |\n",
        "| `stderr` | 子プロセスから補足された標準エラー出力の内容（バイト列） |\n",
        "\n",
        "`subprocess.CompletedProcess` のメソッド:\n",
        "\n",
        "| メソッド | 機能 | 戻り値 |\n",
        "|:---|:---|:---|\n",
        "| `check_returncode()` | 終了コードが非ゼロの場合、`subprocess.CalledProcessError` が送出される | `None` |\n",
        "\n",
        "次は、`capture_output` 引数を設定して、標準出力と標準エラー出力を捕捉するコード例である。"
      ],
      "metadata": {
        "id": "5r3h3X9KNQn0"
      }
    },
    {
      "cell_type": "code",
      "source": [
        "import subprocess\n",
        "obj = subprocess.run([\"ls\", \"-l\"], capture_output=True)\n",
        "print(\"stdout:\\n{}\".format(obj.stdout.decode(\"utf-8\")))\n",
        "print(\"stdout:\\n{}\".format(obj.stderr.decode(\"utf-8\")))  # 捕捉した内容がない場合は None を返す"
      ],
      "metadata": {
        "colab": {
          "base_uri": "https://localhost:8080/"
        },
        "id": "OYkv-_pBZ9uN",
        "outputId": "f48a5a80-4227-412b-9fda-9cdbb6df45ca"
      },
      "execution_count": null,
      "outputs": [
        {
          "output_type": "stream",
          "name": "stdout",
          "text": [
            "stdout:\n",
            "total 4\n",
            "drwxr-xr-x 1 root root 4096 Jul  1 13:21 sample_data\n",
            "\n",
            "stdout:\n",
            "\n"
          ]
        }
      ]
    },
    {
      "cell_type": "markdown",
      "source": [
        "これは、 `stdout` 引数と `stderr` 引数に `subprocess.PIPE` を設定する次のコードと同じである。"
      ],
      "metadata": {
        "id": "gXAeKZdQaeuH"
      }
    },
    {
      "cell_type": "code",
      "source": [
        "import subprocess\n",
        "obj = subprocess.run([\"ls\", \"-l\"], stdout=subprocess.PIPE, stderr=subprocess.PIPE)\n",
        "print(\"stdout:\\n{}\".format(obj.stdout.decode(\"utf-8\")))\n",
        "print(\"stdout:\\n{}\".format(obj.stderr.decode(\"utf-8\")))  # 捕捉した内容がない場合は None を返す"
      ],
      "metadata": {
        "colab": {
          "base_uri": "https://localhost:8080/"
        },
        "id": "bDE-yj8RYR1X",
        "outputId": "5f7c7307-7edd-4e7a-d410-96827c7a996f"
      },
      "execution_count": null,
      "outputs": [
        {
          "output_type": "stream",
          "name": "stdout",
          "text": [
            "stdout:\n",
            "total 4\n",
            "drwxr-xr-x 1 root root 4096 Jul  1 13:21 sample_data\n",
            "\n",
            "stdout:\n",
            "\n"
          ]
        }
      ]
    },
    {
      "cell_type": "markdown",
      "source": [
        "次は、`check` 引数を設定して、子プロセスが正常終了しなかった場合に `subprocess.CalledProcessError` 例外を送出するコード例である。"
      ],
      "metadata": {
        "id": "j703_PDAkJF1"
      }
    },
    {
      "cell_type": "code",
      "source": [
        "import subprocess\n",
        "try:\n",
        "    # シェルでコマンド \"exit 1\" を実行する\n",
        "    obj = subprocess.run(\"exit 1\", shell=True, check=True)\n",
        "except subprocess.CalledProcessError as err:\n",
        "    print(f\"{type(err).__name__}: {err}\")"
      ],
      "metadata": {
        "colab": {
          "base_uri": "https://localhost:8080/"
        },
        "id": "e9619D3SkKEd",
        "outputId": "eaf4406e-4be9-4d03-edd1-ee690289d248"
      },
      "execution_count": null,
      "outputs": [
        {
          "output_type": "stream",
          "name": "stdout",
          "text": [
            "CalledProcessError: Command 'exit 1' returned non-zero exit status 1.\n"
          ]
        }
      ]
    },
    {
      "cell_type": "markdown",
      "source": [
        "これは、戻り値オブジェクトの `check_returncode()`メソッド を呼び出す次のコードと同じである。"
      ],
      "metadata": {
        "id": "ViQBVuolmGJd"
      }
    },
    {
      "cell_type": "code",
      "source": [
        "import subprocess\n",
        "# シェルでコマンド \"exit 1\" を実行する\n",
        "obj = subprocess.run(\"exit 1\", shell=True)\n",
        "try:\n",
        "    obj.check_returncode()\n",
        "except subprocess.CalledProcessError as err:\n",
        "    print(f\"{type(err).__name__}: {err}\")"
      ],
      "metadata": {
        "colab": {
          "base_uri": "https://localhost:8080/"
        },
        "id": "-OPjkWeNmG6Y",
        "outputId": "272e61c9-ab92-42ab-f7ea-e84469c96a36"
      },
      "execution_count": null,
      "outputs": [
        {
          "output_type": "stream",
          "name": "stdout",
          "text": [
            "CalledProcessError: Command 'exit 1' returned non-zero exit status 1.\n"
          ]
        }
      ]
    },
    {
      "cell_type": "markdown",
      "source": [
        "次は、`timeout` 引数を設定して、タイムアウトするコード例である。"
      ],
      "metadata": {
        "id": "owCiY8gpoOjj"
      }
    },
    {
      "cell_type": "code",
      "source": [
        "import subprocess\n",
        "try:\n",
        "    subprocess.run([\"sleep\", \"10\"], timeout=1.0)\n",
        "except subprocess.TimeoutExpired as err:\n",
        "    print(f\"{type(err).__name__}: {err}\")"
      ],
      "metadata": {
        "colab": {
          "base_uri": "https://localhost:8080/"
        },
        "id": "Ip4ncLAkoO_g",
        "outputId": "4b527a4a-cc45-496f-9ece-0648b230a201"
      },
      "execution_count": null,
      "outputs": [
        {
          "output_type": "stream",
          "name": "stdout",
          "text": [
            "TimeoutExpired: Command '['sleep', '10']' timed out after 0.9999655629999893 seconds\n"
          ]
        }
      ]
    },
    {
      "cell_type": "markdown",
      "source": [
        "### Popen ###"
      ],
      "metadata": {
        "id": "6CCLcFtIs7mt"
      }
    },
    {
      "cell_type": "markdown",
      "source": [
        "実のところ、`subprocess.run()` 関数は、内部的にそのキーワード引数を伴い `subprocess.Popen` インスタンス化を呼び出している。`subprocess.run()` 関数よりも高度な処理を行いたい場合は、`subprocess.Popen` クラスを直接利用する。\n",
        "\n",
        "`subprocess.Popen` は、`subprocess.CompletedProcess` と同様の属性を持ち、さらに `pid` 属性で子プロセスのプロセス ID を参照できる。\n",
        "\n",
        "`subprocess.Popen` のメソッド:\n",
        "\n",
        "| メソッド | 機能 | 戻り値 |\n",
        "|:---|:---|:---|\n",
        "| `poll()` | 子プロセスの実行が終了したら終了コードを返す。終了してないなら `None` を返す | `int` &#124; `None` |\n",
        "| `wait(timeout=None)` | 子プロセスが終了するまで待機し、終了したら終了コードを返す。`timeout` を設定した場合、プロセスが `timeout` <br />秒経過後に終了してない場合、`TimeoutExpired` 例外を送出する | `int` &#124; `None` |\n",
        "| `communicate(input=None, timeout=None)` | 子プロセスが終了するまで待機し、標準出力と標準エラー出力を読み込む | 標準出力と標準エラー<br />出力の組となるタプル |\n",
        "| `send_signal(signal)` | `signal` を子プロセスに送る | `None` |\n",
        "| `terminate()` | 子プロセスを停止する | `None` |\n",
        "| `kill()` | 子プロセスを強制終了する | `None` |\n",
        "\n",
        "シェル上で `|` を使ったパイプライン処理は、2 つの子プロセスの標準出力と標準入力をパイプでつなぐことで記述することができる。"
      ],
      "metadata": {
        "id": "7IUD5MTps8PA"
      }
    },
    {
      "cell_type": "code",
      "source": [
        "import subprocess\n",
        "# 2つの子プロセスをパイプで繋ぐ\n",
        "p1 = subprocess.Popen([\"ls\", \"-l\", \"sample_data\"], stdout=subprocess.PIPE)\n",
        "p2 = subprocess.Popen([\"grep\", \"json\"], stdin=p1.stdout, stdout=subprocess.PIPE)\n",
        "out, err = p2.communicate()  # ls -l sample_data | grep json\n",
        "print(out.decode())"
      ],
      "metadata": {
        "colab": {
          "base_uri": "https://localhost:8080/"
        },
        "id": "YVRSMOIHuREH",
        "outputId": "9e6cfa36-adb4-48f0-ad79-b7e959c03b20"
      },
      "execution_count": null,
      "outputs": [
        {
          "output_type": "stream",
          "name": "stdout",
          "text": [
            "-rwxr-xr-x 1 root root     1697 Jan  1  2000 anscombe.json\n",
            "\n"
          ]
        }
      ]
    },
    {
      "cell_type": "markdown",
      "source": [
        "tqdm\n",
        "----"
      ],
      "metadata": {
        "id": "SQ_onS-CR2I6"
      }
    },
    {
      "cell_type": "markdown",
      "source": [
        "サードパーティ製パッケージの [tqdm](https://tqdm.github.io/) は、プログレスバー（進捗状況を表現するためのバー）を表示する機能を持つ。ループの進行状況を視覚的に確認できるため、長時間実行される処理や大規模なデータ処理の際に便利である。ライセンスは MIT License と MPL v 2.0 の組み合わせ。インストール方法は次のとおり。\n",
        "\n",
        "``` shell\n",
        "pip install tqdm\n",
        "```\n",
        "\n",
        "通常は `tqdm` をインポートするが、 Colab で使う場合は `tqdm.notebook` をインポートする。\n",
        "\n",
        "基本的な使い方は、`tqdm` クラスのインスタンスを for ループと一緒に使うことである。"
      ],
      "metadata": {
        "id": "dnw_BSmGuzhy"
      }
    },
    {
      "cell_type": "code",
      "source": [
        "from time import sleep\n",
        "# from tqdm import tqdm\n",
        "from tqdm.notebook import tqdm\n",
        "\n",
        "for _ in tqdm(range(1000)):\n",
        "    sleep(0.001)"
      ],
      "metadata": {
        "colab": {
          "base_uri": "https://localhost:8080/",
          "height": 49,
          "referenced_widgets": [
            "78ef4285f69547d296c69cebf2c5c992",
            "05b8bfc0f962430d85bf70bee8a6cfa0",
            "c02a6f9bac864d3bad9b2640f04b72e0",
            "96467c754bd54125818a356e6434e68b",
            "32292cd3f3b64d1fa820fc87e5e1700a",
            "08531ac82d1440e6b6b21e845dda31fb",
            "38a7da9d634f4ef391fb386bf38f24f5",
            "f842b35d8b7f4509937f23957ec19972",
            "c2ac756b2abf49b185c5899142a70d95",
            "43d14222f62c4ae289c6ed8b95bb1b3b",
            "e8e9137dcbdb44cc8a69cf62801b3bea"
          ]
        },
        "id": "jb9L5mDXW0KO",
        "outputId": "96d37566-0a7d-4da5-a4c1-ea3a7890dc02"
      },
      "execution_count": null,
      "outputs": [
        {
          "output_type": "display_data",
          "data": {
            "text/plain": [
              "  0%|          | 0/1000 [00:00<?, ?it/s]"
            ],
            "application/vnd.jupyter.widget-view+json": {
              "version_major": 2,
              "version_minor": 0,
              "model_id": "78ef4285f69547d296c69cebf2c5c992"
            }
          },
          "metadata": {}
        }
      ]
    },
    {
      "cell_type": "markdown",
      "source": [
        "コンストラクタの第 1 引数 `iterable` にイテラブルを指定する場合、 `tqdm` インスタンスは `iterable` のアイテムを返すイテラブルとなる。\n",
        "\n",
        "進行状況メッセージは、デフォルトでは次のフォーマットが使用される。\n",
        "\n",
        "　`'{l_bar}{bar}{r_bar}'`\n",
        "\n",
        "  * `l_bar`=`'{desc}: {percentage:3.0f}%|'`\n",
        "  *  `r_bar`=`'| {n_fmt}/{total_fmt} [{elapsed}<{remaining}, ' '{rate_fmt}{postfix}]'`\n",
        "\n",
        "| プレースホルダ | 意味 |\n",
        "|:---|:---|\n",
        "| `{bar}` | プログレスバー |\n",
        "| `{desc}` | 説明文 |\n",
        "| `{percentage:3.0f}` | パーセンテージの書式指定 |\n",
        "| `{n_fmt}` | 現在処理されたアイテムの数 |\n",
        "| `{total_fmt}` | 全体のアイテムの数 |\n",
        "| `{elapsed}` | 経過時間（秒） |\n",
        "| `{remaining}` | 完了までに予想される残り時間（秒） |\n",
        "| `{rate_fmt}` | 処理速度（アイテム/秒） |\n",
        "| `{postfix}` | 追加の統計 |\n",
        "\n",
        "このうち `{desc}: ` と `{postfix}` は、デフォルトでは表示されない。\n",
        "\n",
        "コンストラクタは、進行状況メッセージをカスタマイズするための引数を多数サポートしている。その主なものは次のとおり。\n",
        "\n",
        "| 引数 | 意味 | デフォルト |\n",
        "|:---|:---|:---|\n",
        "| `desc` | `{desc}` に表示される説明文 | `None` |\n",
        "| `total` | `{total_fmt}` に表示される全体のアイテムの数。`None` の場合、`len(iterable)` が使用される。`iterable` 引数を `None`（デフォルト）とする場合は、<br />`total` を指定する必要がある。この場合、`tqdm` は整数を返すイテラブルとなる | `None` |\n",
        "| `leave` | `False` の場合、処理完了後にプログレスバーを非表示にする | `True` |\n",
        "| `file` | 進行状況メッセージを出力先を指定する。`None` の場合は、`sys.stderr` が使用される | `None` |\n",
        "| `ncols` | 進行状況メッセージ全体の幅を 0 以上の整数で指定できる。指定した場合、この幅に収まるようにプログレスバーのサイズが動的に変更される | `None` |\n",
        "| `mininterval` | 進行状況表示の最小更新間隔（秒） | `0.1` |\n",
        "| `disable` | `True` の場合、進行状況メッセージ全体を非表示にする | `False` |\n",
        "| `unit` | `{rate_fmt}` に使用されるアイテムの単位を指定する | `'it'` |\n",
        "| `unit_scale` | `True` の場合、`{n_fmt}` と `{total_fmt}` がキロ、メガなどの単位でスケールされる | `False` |\n",
        "| `bar_format` | 出力の書式設定を指定する。`bar_format` の変更はパフォーマンスに影響を与える可能性がある | `'{l_bar}{bar}{r_bar}'` |\n",
        "| `initial` | 進行状況の初期値を指定する | `0` |\n",
        "| `position` | 複数のプログレスバーを使う場合に、プログレスバーの縦位置を指定できる | `None` |\n",
        "| `postfix` | `{postfix}` に表示される追加の統計。文字列または辞書が使える | `None` |\n",
        "| `colour` | プログレスバーの色を文字列で指定する（e.g. `'green'`, `'00ff00'`） | `None` |\n",
        "\n",
        "次は、`tqdm` インスタンス化の際に引数を利用するコード例:"
      ],
      "metadata": {
        "id": "e3AEqet3R25H"
      }
    },
    {
      "cell_type": "code",
      "source": [
        "from time import sleep\n",
        "# from tqdm import tqdm\n",
        "from tqdm.notebook import tqdm\n",
        "\n",
        "for i in tqdm(range(1000), desc=\"Download\", unit=\"B\", unit_scale=True, postfix={\"loss\": 1.2}):\n",
        "    sleep(0.001)"
      ],
      "metadata": {
        "colab": {
          "base_uri": "https://localhost:8080/",
          "height": 49,
          "referenced_widgets": [
            "45f30a6e9e204f0abdc5e2d733415821",
            "c748a2b21aa74e179bf4bea322408d16",
            "65b1cfb9b01a47c4b037c784c00f4bff",
            "b579eeeee6484469960ca2cd90b30a35",
            "4d79ffcc6afc472aaac6eabb88ad0f1d",
            "f0067c0ca6424af6b296c33c1f3f7390",
            "283e92e97dce46228d6b77c6779b8da1",
            "72a7d6e5a56849f68f77e710a212b061",
            "5de8e21edbfb4d88af41d37b474487c9",
            "621baf8e20b84291b6593d189040db4e",
            "5f58354d438749ed95f7ac47ae8f3929"
          ]
        },
        "id": "oJPOfN2GV8Xj",
        "outputId": "5922fdc8-2341-4fe6-bc95-32f3eeb4ef18"
      },
      "execution_count": null,
      "outputs": [
        {
          "output_type": "display_data",
          "data": {
            "text/plain": [
              "Download:   0%|          | 0.00/1.00k [00:00<?, ?B/s, loss=1.2]"
            ],
            "application/vnd.jupyter.widget-view+json": {
              "version_major": 2,
              "version_minor": 0,
              "model_id": "45f30a6e9e204f0abdc5e2d733415821"
            }
          },
          "metadata": {}
        }
      ]
    },
    {
      "cell_type": "markdown",
      "source": [
        "`tqdm` は、以下のメソッドが使用できる。\n",
        "\n",
        "| メソッド | 機能 | 戻り値 |\n",
        "|:---|:---|:---|\n",
        "| `update(n=1)` | 進行状況表示を手動で更新する。`n` で処理したアイテム数を指定する | `True` または `None` |\n",
        "| `set_description(desc)` | `{desc}` に表示される説明文を更新する | `None` |\n",
        "| `set_postfix(**kwargs)` | `{postfix}` に表示される追加の統計を更新する | `None` |\n",
        "| `close()` | クリーンアップする。`leave` が `False` の場合は、プログレスバーを閉じる | `None` |\n",
        "\n",
        "`tqdm` はコンテキストマネージャーとして使用できる。`close()` メソッドは、 with ブロックを終了するときに呼び出される。\n",
        "\n",
        "次は、動的な説明文と追加の統計を表示するコード例:"
      ],
      "metadata": {
        "id": "CpHrvlzm3kzp"
      }
    },
    {
      "cell_type": "code",
      "source": [
        "from time import sleep\n",
        "# from tqdm import tqdm\n",
        "from tqdm.notebook import tqdm\n",
        "\n",
        "with tqdm(\"abcde\") as pbar:\n",
        "    for i, ch in enumerate(pbar):\n",
        "        pbar.set_description(\"[train] Epoch %d\" % i)\n",
        "        pbar.set_postfix(dict(loss=1 - i / 5, acc=i / 10))\n",
        "        sleep(1.0)"
      ],
      "metadata": {
        "colab": {
          "base_uri": "https://localhost:8080/",
          "height": 49,
          "referenced_widgets": [
            "6e3a279705b64b6bb39c547feff35af7",
            "d59db4124bd845d682eb97f4561e465c",
            "bc6c1bd8364040ba849c1999260f0aec",
            "6a40d5af391d41a7b4dae0e4e0f45dc4",
            "4b5192ed354840b38d4cb97af1361442",
            "6a2fdfa4e30a4269b339e145747f94fc",
            "de17839485f5416aa658d3435e456453",
            "283ccf4e76d4452b9201caa927a37861",
            "bac5af247297465e9ea02d145eb609d9",
            "38ffa6dbffc842e097ebe36d384d508a",
            "1f3fa077ae2a4af58fba01c19187a2ee"
          ]
        },
        "id": "J7nOIuu93lYQ",
        "outputId": "0e6ff451-ff6a-4b9e-f9eb-da6574d12b90"
      },
      "execution_count": null,
      "outputs": [
        {
          "output_type": "display_data",
          "data": {
            "text/plain": [
              "  0%|          | 0/5 [00:00<?, ?it/s]"
            ],
            "application/vnd.jupyter.widget-view+json": {
              "version_major": 2,
              "version_minor": 0,
              "model_id": "6e3a279705b64b6bb39c547feff35af7"
            }
          },
          "metadata": {}
        }
      ]
    },
    {
      "cell_type": "markdown",
      "source": [
        "次は、マルチプロセスで `tqdm` 使用するコード例:"
      ],
      "metadata": {
        "id": "D-qtK8nTWnFc"
      }
    },
    {
      "cell_type": "code",
      "source": [
        "from multiprocessing import Pool\n",
        "from random import random\n",
        "import time\n",
        "\n",
        "# from tqdm import tqdm\n",
        "from tqdm.notebook import tqdm\n",
        "\n",
        "\n",
        "def worker(x):\n",
        "    time.sleep(random())\n",
        "    return x * x\n",
        "\n",
        "\n",
        "def main():\n",
        "    # 同時に最大2個の子プロセス\n",
        "    with Pool(processes=2) as pool:\n",
        "        results = []\n",
        "        data = range(10)\n",
        "        for i in data:\n",
        "            res = pool.apply_async(func=worker, args=(i,))\n",
        "            results.append(res)\n",
        "        # 結果の取得\n",
        "        reply = []\n",
        "        with tqdm(total=len(data)) as t:\n",
        "            for res in results:\n",
        "                try:\n",
        "                    reply.append(res.get(timeout=2.0))\n",
        "                except TimeoutError:\n",
        "                    print(\"タイムアウトしました\")\n",
        "                else:\n",
        "                    t.update()\n",
        "    pool.join()\n",
        "    print(reply)\n",
        "\n",
        "\n",
        "if __name__ == \"__main__\":\n",
        "    main()"
      ],
      "metadata": {
        "colab": {
          "base_uri": "https://localhost:8080/",
          "height": 67,
          "referenced_widgets": [
            "4b6f3aa5f51a4d07b31a7ec1ab0dfbb3",
            "4bac41de9a5647c9adbea910b69ad6e2",
            "a2f69fd222fe4d5398785085b35bbfb3",
            "09886c58296042fb81a794e481a41d07",
            "ae3eb531628e4f878cfb4faf9581f4fc",
            "9fb0b5789b144b10b10d945400f86539",
            "d6e6d8a66f5a4838b63f29bf948d535a",
            "f7e6d9d516c14069b37e9f44f19a2ca7",
            "15eb038eeaaf4cdb89e36acd2674517f",
            "85cfc218fd0041ac9dd0e9580d85317d",
            "cd2f9bce4d2f4a61b9e40da1e6e6881c"
          ]
        },
        "id": "bMursGzSWnx6",
        "outputId": "4e1fbd8c-40e6-42b9-b33b-63cfe594f840"
      },
      "execution_count": null,
      "outputs": [
        {
          "output_type": "display_data",
          "data": {
            "text/plain": [
              "  0%|          | 0/10 [00:00<?, ?it/s]"
            ],
            "application/vnd.jupyter.widget-view+json": {
              "version_major": 2,
              "version_minor": 0,
              "model_id": "4b6f3aa5f51a4d07b31a7ec1ab0dfbb3"
            }
          },
          "metadata": {}
        },
        {
          "output_type": "stream",
          "name": "stdout",
          "text": [
            "[0, 1, 4, 9, 16, 25, 36, 49, 64, 81]\n"
          ]
        }
      ]
    }
  ]
}