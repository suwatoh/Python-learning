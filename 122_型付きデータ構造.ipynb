{
  "nbformat": 4,
  "nbformat_minor": 0,
  "metadata": {
    "colab": {
      "provenance": [],
      "toc_visible": true,
      "authorship_tag": "ABX9TyNLKV17zglgSJiiMm5D6hoc",
      "include_colab_link": true
    },
    "kernelspec": {
      "name": "python3",
      "display_name": "Python 3"
    },
    "language_info": {
      "name": "python"
    }
  },
  "cells": [
    {
      "cell_type": "markdown",
      "metadata": {
        "id": "view-in-github",
        "colab_type": "text"
      },
      "source": [
        "<a href=\"https://colab.research.google.com/github/suwatoh/Python-learning/blob/main/122_%E5%9E%8B%E4%BB%98%E3%81%8D%E3%83%87%E3%83%BC%E3%82%BF%E6%A7%8B%E9%80%A0.ipynb\" target=\"_parent\"><img src=\"https://colab.research.google.com/assets/colab-badge.svg\" alt=\"Open In Colab\"/></a>"
      ]
    },
    {
      "cell_type": "markdown",
      "source": [
        "型付きデータ構造\n",
        "================"
      ],
      "metadata": {
        "id": "dZ8XIoQZ7pcs"
      }
    },
    {
      "cell_type": "markdown",
      "source": [
        "NamedTuple\n",
        "----------"
      ],
      "metadata": {
        "id": "0mX8NKRXBnyy"
      }
    },
    {
      "cell_type": "markdown",
      "source": [
        "NamedTuple（名前付きタプル）は `tuple` のサブクラスであり、各要素にドット `.` 演算子と名前を使った方法でも参照することができるように拡張された型である。 NamedTuple の要素をフィールドと呼ぶ。\n",
        "\n",
        "NamedTuple は `tuple` のサブクラスなので、以下の `tuple` の特徴を全て持つ。\n",
        "\n",
        "  * `[]` を使った添字表記によるインデックス参照\n",
        "  * アンパックした代入\n",
        "  * イミュータブル\n",
        "  * ハッシュ可能\n",
        "  * イテラブル\n",
        "\n",
        "NamedTuple のインスタンスは、インスタンスごとの属性辞書を持たないので軽量で、普通のタプル以上のメモリを使用しない。\n",
        "\n",
        "ただし、 NamedTuple という名前のサブクラスが定義されているわけではない。 NamedTuple となる型は、組み込みクラス `type` のラッパーである `typing.NamedTuple` を継承する形で定義する。各フィールドは、型アノテーション付きのクラス変数の宣言という形で定義する。フィールドの順番は、クラス変数を定義した順番と一致する。"
      ],
      "metadata": {
        "id": "xCOxBP6jCDVP"
      }
    },
    {
      "cell_type": "code",
      "source": [
        "from typing import NamedTuple\n",
        "\n",
        "class Employee(NamedTuple):\n",
        "    name: str\n",
        "    id: int\n",
        "\n",
        "if __name__ == \"__main__\":\n",
        "    employee = Employee(\"Guido\", 3)\n",
        "    print(f\"{employee=}\")\n",
        "    assert isinstance(employee, tuple)  # tuple のサブクラスのインスタンスである\n",
        "    assert employee.id == employee[1] == 3  # 名前でもインデックスでもフィールドを参照できる\n",
        "    name, _ = employee  # アンパック\n",
        "    assert name == \"Guido\"\n",
        "    try:\n",
        "        employee.id = 30\n",
        "    except AttributeError:\n",
        "        print(\"名前付きタプルはイミュータブルである\")\n",
        "    import sys\n",
        "    print(f\"{sys.getsizeof(employee)=}\")  # 名前付きタプルのメモリ割り当ての大きさを調べる\n",
        "    print(f\"{sys.getsizeof(('Guido', 3))=}\")  # 普通のタプルのメモリ割り当ての大きさを調べる"
      ],
      "metadata": {
        "colab": {
          "base_uri": "https://localhost:8080/"
        },
        "id": "_QzQvM_wDRPX",
        "outputId": "e477257b-68a4-4b9a-91bd-23c41b877eed"
      },
      "execution_count": null,
      "outputs": [
        {
          "output_type": "stream",
          "name": "stdout",
          "text": [
            "employee=Employee(name='Guido', id=3)\n",
            "名前付きタプルはイミュータブルである\n",
            "sys.getsizeof(employee)=56\n",
            "sys.getsizeof(('Guido', 3))=56\n"
          ]
        }
      ]
    },
    {
      "cell_type": "markdown",
      "source": [
        "フィールドにデフォルト値を与えるには、クラス変数の値を定義する。ただし、デフォルト値のあるフィールドはデフォルト値のないフィールドの後でなければならない。これは、関数の定義にデフォルト値付き引数を設定する場合と同様である。"
      ],
      "metadata": {
        "id": "-xtlGUc4axQV"
      }
    },
    {
      "cell_type": "code",
      "source": [
        "from typing import NamedTuple\n",
        "\n",
        "class Employee(NamedTuple):\n",
        "    name: str\n",
        "    id: int\n",
        "    title: str = \"\"\n",
        "\n",
        "if __name__ == \"__main__\":\n",
        "    employee = Employee(\"Guido\", 3)\n",
        "    assert employee.title == \"\""
      ],
      "metadata": {
        "id": "L2K7YSSwaycE"
      },
      "execution_count": null,
      "outputs": []
    },
    {
      "cell_type": "markdown",
      "source": [
        "NamedTuple のサブクラスは docstring やメソッドも持てる。\n",
        "\n",
        "Python 3.12 からは、ジェネリック型と NamedTuple を組み合わせることもできる。\n",
        "\n",
        "``` python\n",
        "class Group[T](NamedTuple):\n",
        "    \"\"\"Represents a group.\"\"\"\n",
        "    key: T\n",
        "    group: list[T]\n",
        "```\n",
        "\n",
        "実は、 `typing.NamedTuple` の定義内では、クラスを動的に定義するために、 `type()` を直接呼び出すのではなく、 `collections.namedtuple()` を呼び出しており、この関数が `type()` を呼び出している。\n",
        "\n",
        "`collections.namedtuple()` をファクトリ関数として利用することもできある。\n",
        "\n",
        "``` python\n",
        "collections.namedtuple(typename, field_names, *, rename=False, defaults=None, module=None)\n",
        "```\n",
        "\n",
        "| 引数 | 意味 |\n",
        "|:--:|:---|\n",
        "| `typename` | 作成する NamedTuple の型名を指定する |\n",
        "| `field_names` | フィールドに付ける名前を指定する。`['x', 'y']` のような文字列のシーケンス、あるいは、`'x y'` や `'x, y'` のように空白やカンマ `,`、`/` で区<br />切った文字列とする。数字やアンダースコア `_` で始まる名前、Python の予約語を使うことはできない |\n",
        "| `rename` | 真の場合、数字やアンダースコア `_` で始まる名前や Python の予約語を使ったフィールド名を、自動的に `_0` のような位置を示す名前に置き換える |\n",
        "| `defaults` | イテラブルを指定すると、後ろのフィールドのデフォルト値を設定できる。たとえば、`field_names` が `['x', 'y', 'z']` で `defaults` が `(1, 2)` の<br />場合、 `x` は必須の引数、 `y` は `1` がデフォルト、 `z` は `2` がデフォルトとなる |\n",
        "| `module` | NamedTuple の `__module__` 属性を指定された値に設定する |\n",
        "\n",
        "`collections.namedtuple()` をファクトリ関数に使用して NamedTuple 型を作成する場合、 `typing.NamedTuple` にはないオプション指定が可能であるが、各フィールドに型アノテーションを付けることができないので静的型チェックの恩恵を受けられない。\n",
        "\n",
        "上記の `Employee` 型（デフォルト値付き）は、 `collections.namedtuple()` を使用して以下のように作成することもできる:"
      ],
      "metadata": {
        "id": "Yu1L_L37yQVG"
      }
    },
    {
      "cell_type": "code",
      "source": [
        "import collections\n",
        "Employee = collections.namedtuple('Employee', 'name, id, title', defaults=('',))\n",
        "employee = Employee(\"Guido\", 3)\n",
        "employee"
      ],
      "metadata": {
        "colab": {
          "base_uri": "https://localhost:8080/"
        },
        "id": "1CdYI2RzeGeq",
        "outputId": "0e77a42f-01a0-4797-a51f-4e3db89ac040"
      },
      "execution_count": null,
      "outputs": [
        {
          "output_type": "execute_result",
          "data": {
            "text/plain": [
              "Employee(name='Guido', id=3, title='')"
            ]
          },
          "metadata": {},
          "execution_count": 3
        }
      ]
    },
    {
      "cell_type": "markdown",
      "source": [
        "NamedTuple は `tuple` から継承したメソッドに加えて、以下に示す 2 つの属性と 3 つの追加メソッドをサポートしている。フィールド名との衝突を避けるために、属性名とメソッド名はアンダースコアで始まる。\n",
        "\n",
        "| 属性 | 意味 |\n",
        "|:---|:---|\n",
        "| `_fields` | フィールド名をリストにしたタプル |\n",
        "| `_field_defaults` | フィールド名からデフォルト値への対応を持つ辞書 |\n",
        "\n",
        "| メソッド | 機能 | 戻り値 |\n",
        "|:---|:---|:---|\n",
        "| `_make(iterable)` | 既存のシーケンスやイテラブルから新しいインスタンスを作るクラスメソッド | NamedTuple |\n",
        "| `_asdict()` | フィールド名を対応する値にマッピングする新しい辞書を返す | `dict` |\n",
        "| `_replace(**kwargs)` | 指定されたフィールドを新しい値で置き換えた、新しいインスタンスを作って返す。<br />この機能は Python 3.13 以降で `copy.replace()` 関数にもサポートされる | NamedTuple |"
      ],
      "metadata": {
        "id": "TQPskKWcuM7E"
      }
    },
    {
      "cell_type": "markdown",
      "source": [
        "TypedDict\n",
        "---------"
      ],
      "metadata": {
        "id": "AjZ9VJ24tS53"
      }
    },
    {
      "cell_type": "markdown",
      "source": [
        "`typing.TypedDict` を利用すると、`dict` 型について、キーごとに値の型を指定することができる。`dict` で型付けするよりも、より厳密に型付けできる。`typing.TypedDict` の使い方は、継承を利用して、クラス変数とその型アノテーションによってキーと値の型付けを指定する:"
      ],
      "metadata": {
        "id": "ryTC1O9ZtW5-"
      }
    },
    {
      "cell_type": "code",
      "source": [
        "from typing import TypedDict\n",
        "\n",
        "class Point2D(TypedDict):\n",
        "    x: int\n",
        "    y: int\n",
        "    label: str\n",
        "\n",
        "if __name__ == \"__main__\":\n",
        "    a: Point2D = {\"x\": 1, \"y\": 2, \"label\": \"good\"}          # OK\n",
        "    b: Point2D = {\"x\": 1, \"y\": 2}                           # キーが欠損していると、静的型チェッカーはエラーを出力する\n",
        "    c: Point2D = {\"x\": 1, \"y\": 2, \"z\": 3, \"label\": \"good\"}  # 未定義のキーがあると、静的型チェッカーはエラーを出力する\n",
        "    d: Point2D = {\"x\": 1, \"y\": 2, \"label\": [\"bad\"]}         # 値の型が違うと、静的型チェッカーはエラーを出力する"
      ],
      "metadata": {
        "id": "Ew3U6UYntajE"
      },
      "execution_count": null,
      "outputs": []
    },
    {
      "cell_type": "markdown",
      "source": [
        "`typing.TypedDict` では、クラス変数の名前がキーの名前になる。このため、キーに Python の予約語を使ったり、ハイフン `-` を含めたりすることができない（この制限は `dict()` コンストラクタをキーワード引数を指定する形で呼び出す場合と同様である）。\n",
        "\n",
        "`typing.TypedDict` の使い方にはもう 1 つの方法があり、次のようにファクトリ関数として型を定義する:"
      ],
      "metadata": {
        "id": "S60f9rL9ogXt"
      }
    },
    {
      "cell_type": "code",
      "source": [
        "from typing import TypedDict\n",
        "\n",
        "Point2D = TypedDict('Point2D', {'x': int, 'y': int, 'label': str})\n",
        "\n",
        "if __name__ == \"__main__\":\n",
        "    a: Point2D = {\"x\": 1, \"y\": 2, \"label\": \"good\"}          # OK"
      ],
      "metadata": {
        "id": "t9y52FSmohNX"
      },
      "execution_count": null,
      "outputs": []
    },
    {
      "cell_type": "markdown",
      "source": [
        "この方法では、キーに Python の予約語を使うことも、ハイフン `-` を含めたりすることも可能である。\n",
        "\n",
        "`typing.TypedDict` を使って定義されたクラスオブジェクトは呼び出し可能で、`__call__ = dict` と定義されている。このため、そのクラスを `dict` の別名のように使うことができる。"
      ],
      "metadata": {
        "id": "LrmU-vb6rmB3"
      }
    },
    {
      "cell_type": "code",
      "source": [
        "assert Point2D(x=1, y=2, label=\"first\") == dict(x=1, y=2, label=\"first\")"
      ],
      "metadata": {
        "id": "5eu0pA7If8WS"
      },
      "execution_count": null,
      "outputs": []
    },
    {
      "cell_type": "markdown",
      "source": [
        "`typing.TypedDict` を利用して指定したキーが辞書に存在しないとき、静的型チェッカーはエラーを出力する。`total=False` 引数をつけて`TypedDict` を継承すると、指定したキーが辞書に存在しないときでも、静的型チェッカーはエラーを出力しない。"
      ],
      "metadata": {
        "id": "KpfKAV_rpLt6"
      }
    },
    {
      "cell_type": "code",
      "source": [
        "from typing import TypedDict\n",
        "\n",
        "class Point2D(TypedDict, total=False):\n",
        "    x: int\n",
        "    y: int\n",
        "    label: str\n",
        "\n",
        "if __name__ == \"__main__\":\n",
        "    a: Point2D = {'x': 1, 'y': 2}  # OK\n",
        "    b: Point2D = {}                # OK"
      ],
      "metadata": {
        "id": "Kgunz0qGpPzi"
      },
      "execution_count": null,
      "outputs": []
    },
    {
      "cell_type": "markdown",
      "source": [
        "Python 3.11 からは、省略可能なオプションキーと、省略できないキーを明示的に指定することができる。"
      ],
      "metadata": {
        "id": "wISVuoOApnh4"
      }
    },
    {
      "cell_type": "code",
      "source": [
        "from typing import TypedDict, NotRequired, Required\n",
        "\n",
        "class Point2D(TypedDict):\n",
        "    x: int\n",
        "    y: int\n",
        "    label: NotRequired[str]  # 省略可\n",
        "\n",
        "class Address(TypedDict, total=False):\n",
        "    addr1: Required[str]  # 省略不可\n",
        "    addr2: str  # 省略可\n",
        "    addr3: str  # 省略可\n",
        "\n",
        "if __name__ == \"__main__\":\n",
        "    po_a: Point2D = {\"x\": 1, \"y\": 2}      # OK\n",
        "    addr_b: Address = {\"addr1\": \"東京都\"}  # OK\n",
        "    addr_c: Address = {\"addr2\": \"千代田区\", \"addr3\": \"千代田\"}  # キーが欠損していると、静的型チェッカーはエラーを出力する"
      ],
      "metadata": {
        "id": "9iz4vwn8pq-8"
      },
      "execution_count": null,
      "outputs": []
    },
    {
      "cell_type": "markdown",
      "source": [
        "Python 3.12 からは、ジェネリック型と `typing.TypedDict` を組み合わせることもできる。\n",
        "\n",
        "``` python\n",
        "class Group[T](TypedDict):\n",
        "    key: T\n",
        "    group: list[T]\n",
        "```\n",
        "\n",
        "Python 3.13 からは、読み取り専用のアイテムを指定できるようになった。\n",
        "\n",
        "``` python\n",
        "from typing import TypedDict, ReadOnly\n",
        "\n",
        "class FooDict(TypedDict):\n",
        "    x: int\n",
        "    y: ReadOnly[int]  # y は読み取り専用\n",
        "\n",
        "if __name__ == \"__main__\":\n",
        "    foo: FooDict = {\"x\": 1, \"y\": 2}\n",
        "    foo[\"x\"] = 4  # Ok\n",
        "    foo[\"y\"] = 5  # 読み取り専用アイテムの値を変更すると、静的型チェッカーはエラーを出力する\n",
        "```"
      ],
      "metadata": {
        "id": "M9A07JKnuMaB"
      }
    },
    {
      "cell_type": "markdown",
      "source": [
        "dataclass\n",
        "---------"
      ],
      "metadata": {
        "id": "evV17zx7wIdF"
      }
    },
    {
      "cell_type": "markdown",
      "source": [
        "### 概要 ###"
      ],
      "metadata": {
        "id": "JBGN0d-6VmRw"
      }
    },
    {
      "cell_type": "markdown",
      "source": [
        "標準ライブラリの `dataclasses` モジュールは、クラスデコレーター `dataclasses.dataclass` を提供する。これを利用すると、C 言語の構造体のような、複数のデータ型をまとめて取り扱うデータ構造が簡単に定義できる。このデータ構造を **dataclass（データクラス）**と呼び、格納するデータを**フィールド**（field）と呼ぶ。TypedDict でも同様のデータ構造を定義できるが、dataclass のほうが機能が豊富なので、どうしても辞書を利用したいという場合でない限り、TypedDict より dataclass を使うとよい。\n",
        "\n",
        "dataclass のフィールドは、型アノテーション付きのクラス変数宣言の形式で定義される。\n",
        "\n",
        "``` python\n",
        "from dataclasses import dataclass\n",
        "\n",
        "@dataclass\n",
        "class User:\n",
        "    name: str\n",
        "    active: bool\n",
        "```\n",
        "\n",
        "このクラス定義は、`dataclass()` デコレーターにより `__init__()` メソッドと `__repr__()` メソッド、`__eq__()` メソッド、および `__match_args__` 属性が自動的に生成される結果、次のクラス定義とほぼ同等になる（ただし `__match_args__` 属性の生成は Python 3.10 から）。\n",
        "\n",
        "``` python\n",
        "class User:\n",
        "    __match_args__ = ('name', 'active')\n",
        "\n",
        "    def __init__(self, name: str, active: bool):\n",
        "        self.name = name\n",
        "        self.active = active\n",
        "\n",
        "    def __repr__(self):\n",
        "        return f\"User(name='{self.name}', active={self.active})\"\n",
        "\n",
        "    def __eq__(self, other: object):\n",
        "        if other.__class__ is self.__class__:\n",
        "            return (self.name, self.active) == (other.name, other.active)\n",
        "        return NotImplemented\n",
        "```\n",
        "\n",
        "`tabulate` は、 dataclass インスタンスのリストにも対応しており、表形式に整形して出力する。"
      ],
      "metadata": {
        "id": "neJZz9rvwJZF"
      }
    },
    {
      "cell_type": "code",
      "source": [
        "from dataclasses import dataclass\n",
        "from tabulate import tabulate\n",
        "\n",
        "@dataclass\n",
        "class User:\n",
        "    name: str\n",
        "    active: bool\n",
        "\n",
        "print(tabulate([User(\"Alice\", True), User(\"Bob\", False)],\n",
        "               headers=[\"Name\", \"Active\"]))"
      ],
      "metadata": {
        "colab": {
          "base_uri": "https://localhost:8080/"
        },
        "id": "rOslkjxoCSSB",
        "outputId": "07380db2-ff4b-46ef-87f2-204652645f90"
      },
      "execution_count": 4,
      "outputs": [
        {
          "output_type": "stream",
          "name": "stdout",
          "text": [
            "Name    Active\n",
            "------  --------\n",
            "Alice   True\n",
            "Bob     False\n"
          ]
        }
      ]
    },
    {
      "cell_type": "markdown",
      "source": [
        "### フィールドのデフォルト値 ###"
      ],
      "metadata": {
        "id": "KKB9a1l2wPpX"
      }
    },
    {
      "cell_type": "markdown",
      "source": [
        "`__init__()` メソッドの引数として現れるフィールドの順序は、それらのフィールドがクラス定義に現れた順序になる。デフォルト値を設定したフィールドは、`__init__()` メソッドのデフォルト値付き引数となる。\n",
        "\n",
        "``` python\n",
        "@dataclass\n",
        "class User:\n",
        "    name: str\n",
        "    active: bool = False\n",
        "```\n",
        "\n",
        "このフィールド宣言に対して、`dataclass()` は次のような `__init__()` メソッドを生成する。\n",
        "\n",
        "``` python\n",
        "def __init__(self, name: str, active: bool = False):\n",
        "    self.name = name\n",
        "    self.active = active\n",
        "```\n",
        "\n",
        "デフォルト値を設定する場合は、デフォルト値を持たないフィールドよりも下に宣言する必要がある。これは、関数の定義にデフォルト値付き引数を設定する場合と同様である。\n",
        "\n",
        "デフォルト値付きフィールドは、クラス変数宣言ではなくクラス変数定義となるので、一般のクラスでのクラス変数と同様にアクセス可能である。デフォルト値付きフィールドにアクセスして値を変更しても、その dataclass の動作に影響を与えることはない。 dataclass 定義の実行と同時に `__init__()` メソッドなどが生成されるからである。デフォルト値付きフィールドへの上書きは、混乱するだけなのでしないこと。\n",
        "\n",
        "`list` や `set`、`dict` などミュータブルな型のフィールドにデフォルト値を設定する場合は、`dataclasses.field()` 関数を使用する必要がある。\n",
        "\n",
        "``` python\n",
        "dataclasses.field(*, default=MISSING, default_factory=MISSING, init=True, repr=True, hash=None, compare=True, metadata=None, kw_only=MISSING)\n",
        "```\n",
        "\n",
        "この関数は、フィールドごとに初期化の指示を与える。フィールドのデフォルト値を置く場所に、それを置き換える形でこの関数が呼び出されるため、デフォルト値を設定する場合は、`default` 引数または `default_factory` 引数の 1 つだけを渡す必要がある（両方渡すとエラーが発生する）。これらはデフォルトでモジュール定数 `dataclasses.MISSING` となっている。両方とも `dataclasses.MISSING` のままなら、`dataclasses.field()` 関数は、フィールドがクラス変数としてアクセスされないようにクラス属性からフィールドを削除する。コードで `dataclasses.MISSING` 値を直接使用してはならない。\n",
        "\n",
        "この関数の引数は、すべてキーワード専用である。\n",
        "\n",
        "| 引数 | 意味 |\n",
        "|:---|:---|\n",
        "| `default` | このフィールドのデフォルト値 |\n",
        "| `default_factory` | このフィールドにデフォルト値が必要なときに呼び出される、引数なしの呼び出し可能オブジェクト |\n",
        "| `init` | `True`（デフォルト）の場合、このフィールドは、生成された `__init__()` メソッドの引数として含まれる |\n",
        "| `repr` | `True`（デフォルト）の場合、このフィールドは、生成された `__repr__()` メソッドによって返される文字列に含まれる |\n",
        "| `hash` | `True` の場合、このフィールドは生成された `__hash__()` メソッドに含まれる。`None`（デフォルト）の場合、`compare` 引数の値を使用する。<br />通常 `hash` の値は `None` でよい |\n",
        "| `compare` | `True`（デフォルト）の場合、このフィールドは生成された等価性および比較メソッド（`__eq__()`、`__gt__()` など）に含まれる |\n",
        "| `metadata` | この引数はサードパーティの拡張メカニズムとして提供される |\n",
        "| `kw_only` | `True` の場合、このフィールドはキーワード専用としてマークされる。これは、生成された `__init__()` メソッドの引数が計算されるとき<br />に使用される。Python 3.10 で追加 |\n",
        "\n",
        "たとえば、フィールドにデフォルト値として空のリストを設定する場合は、次のようになる:"
      ],
      "metadata": {
        "id": "pKWGS9a7wStP"
      }
    },
    {
      "cell_type": "code",
      "source": [
        "from dataclasses import dataclass, field\n",
        "\n",
        "@dataclass\n",
        "class Mydataclass:\n",
        "    mylist: list[int] = field(default_factory=list)\n",
        "\n",
        "Mydataclass()"
      ],
      "metadata": {
        "colab": {
          "base_uri": "https://localhost:8080/"
        },
        "id": "SbdtQQ8HwWS4",
        "outputId": "a5d3f12d-35f2-4e69-dab0-5eead306b4d2"
      },
      "execution_count": null,
      "outputs": [
        {
          "output_type": "execute_result",
          "data": {
            "text/plain": [
              "Mydataclass(mylist=[])"
            ]
          },
          "metadata": {},
          "execution_count": 6
        }
      ]
    },
    {
      "cell_type": "markdown",
      "source": [
        "`default_factory` 引数には、引数なしで呼び出し可能なオブジェクトを指定しなければならない。たとえば、次は無名関数を使って空でない特定の要素を持つリストとしてデフォルト値を設定する:"
      ],
      "metadata": {
        "id": "P4s1PWUjwZhg"
      }
    },
    {
      "cell_type": "code",
      "source": [
        "from dataclasses import dataclass, field\n",
        "\n",
        "@dataclass\n",
        "class Mydataclass:\n",
        "    mylist: list[int] = field(default_factory=lambda: [1, 2, 3])\n",
        "\n",
        "Mydataclass()"
      ],
      "metadata": {
        "colab": {
          "base_uri": "https://localhost:8080/"
        },
        "id": "VVt8E4KUwb0W",
        "outputId": "6feeec57-e252-4321-c9d8-7fd44c751967"
      },
      "execution_count": null,
      "outputs": [
        {
          "output_type": "execute_result",
          "data": {
            "text/plain": [
              "Mydataclass(mylist=[1, 2, 3])"
            ]
          },
          "metadata": {},
          "execution_count": 7
        }
      ]
    },
    {
      "cell_type": "markdown",
      "source": [
        "このフィールドのデフォルト値は、コンストラクタを呼び出すたびに `default_factory` により生成されたオブジェクトの値となるので、その変更はインスタンスの間で共有されない。"
      ],
      "metadata": {
        "id": "puUbvYhxwe17"
      }
    },
    {
      "cell_type": "code",
      "source": [
        "m1, m2 = Mydataclass(), Mydataclass()\n",
        "m1.mylist.append(4)\n",
        "assert m1.mylist == [1, 2, 3, 4]\n",
        "assert m2.mylist == [1, 2, 3]"
      ],
      "metadata": {
        "id": "_BtC8p12rhwV"
      },
      "execution_count": null,
      "outputs": []
    },
    {
      "cell_type": "markdown",
      "source": [
        "フィールドを `repr()` の出力から削除するために `dataclasses.field()` 関数を使用することもできる。たとえば"
      ],
      "metadata": {
        "id": "7y9yPyF7dqKM"
      }
    },
    {
      "cell_type": "code",
      "source": [
        "from dataclasses import dataclass, field\n",
        "\n",
        "@dataclass\n",
        "class C:\n",
        "    x: int\n",
        "    y: int = field(repr=False)\n",
        "    z: int = field(repr=False, default=10)\n",
        "    t: int = 20\n",
        "\n",
        "c = C(1, 2)\n",
        "assert (c.x, c.y, c.z, c.t) == (1, 2, 10, 20)\n",
        "print(c)"
      ],
      "metadata": {
        "colab": {
          "base_uri": "https://localhost:8080/"
        },
        "id": "wD34FH7rdraj",
        "outputId": "e07c6d7a-f8c2-4a9e-959a-4a522bbd7ef7"
      },
      "execution_count": null,
      "outputs": [
        {
          "output_type": "stream",
          "name": "stdout",
          "text": [
            "C(x=1, t=20)\n"
          ]
        }
      ]
    },
    {
      "cell_type": "markdown",
      "source": [
        "### キーワード専用フィールド ###"
      ],
      "metadata": {
        "id": "tROM7ekPo5jz"
      }
    },
    {
      "cell_type": "markdown",
      "source": [
        "Python 3.10 からは、 `dataclasses.field()` 関数でフィールドごとにキーワード専用とマークすることができる。キーワード専用とされたフィールドは、`__init__()` メソッドでキーワード専用引数として現れる。"
      ],
      "metadata": {
        "id": "4Me-Iowko6U_"
      }
    },
    {
      "cell_type": "code",
      "source": [
        "from dataclasses import dataclass, field\n",
        "\n",
        "@dataclass\n",
        "class C:\n",
        "    x: int\n",
        "    flag: bool = field(kw_only=True, default=True)\n",
        "\n",
        "try:\n",
        "    c = C(1, False)\n",
        "except Exception as e:\n",
        "    print(f\"{type(e).__name__}: {e}\")"
      ],
      "metadata": {
        "colab": {
          "base_uri": "https://localhost:8080/"
        },
        "id": "w-e7ewCAo2rs",
        "outputId": "e12b4975-f7e5-4411-ef1b-1a973afa6915"
      },
      "execution_count": null,
      "outputs": [
        {
          "output_type": "stream",
          "name": "stdout",
          "text": [
            "TypeError: C.__init__() takes 2 positional arguments but 3 were given\n"
          ]
        }
      ]
    },
    {
      "cell_type": "markdown",
      "source": [
        "### 型アノテーションを付与しない場合 ###"
      ],
      "metadata": {
        "id": "bHHScAHEwh6S"
      }
    },
    {
      "cell_type": "markdown",
      "source": [
        "型アノテーションを付けないで定義した属性は、`__init__()` メソッドの引数に追加されず、ただのクラス変数扱いとなる。"
      ],
      "metadata": {
        "id": "byaL1nQQwkvO"
      }
    },
    {
      "cell_type": "code",
      "source": [
        "from dataclasses import dataclass\n",
        "\n",
        "@dataclass\n",
        "class User:\n",
        "    name: str\n",
        "    active: bool = False\n",
        "    group = 1  # クラス変数となる\n",
        "\n",
        "User.group = 2\n",
        "print(f\"{User('hoge').group=}\")\n",
        "\n",
        "try:\n",
        "    print(User(name=\"foo\", active=True, group=2))  # インスタンス生成時に group を指定するとエラー\n",
        "except Exception as e:\n",
        "    print(f\"{type(e).__name__}: {e}\")"
      ],
      "metadata": {
        "colab": {
          "base_uri": "https://localhost:8080/"
        },
        "id": "vYowF3GpwnHr",
        "outputId": "87083824-6e7a-4412-9b36-783c6dabe61d"
      },
      "execution_count": null,
      "outputs": [
        {
          "output_type": "stream",
          "name": "stdout",
          "text": [
            "User('hoge').group=2\n",
            "TypeError: User.__init__() got an unexpected keyword argument 'group'\n"
          ]
        }
      ]
    },
    {
      "cell_type": "markdown",
      "source": [
        "### dataclass の比較 ###"
      ],
      "metadata": {
        "id": "3MGIiMWhwoXJ"
      }
    },
    {
      "cell_type": "markdown",
      "source": [
        "自動的に生成される `__eq__()` メソッドによって、dataclass オブジェクト同士の比較 `==` は、各フィールドの値が一致するなら `True` を返し、そうでないなら `False` を返す。"
      ],
      "metadata": {
        "id": "jBQEZ5Ucwrye"
      }
    },
    {
      "cell_type": "code",
      "source": [
        "from dataclasses import dataclass\n",
        "\n",
        "@dataclass\n",
        "class User:\n",
        "    name: str\n",
        "    age: int\n",
        "    active: bool\n",
        "\n",
        "# dataclass オブジェクト同士の比較はフィールドの値をみる\n",
        "assert User(\"hoge\", 20, active=True) == User(\"hoge\", 20, active=True)\n",
        "\n",
        "# 一般のクラスの場合\n",
        "class C:\n",
        "    def __init__(self, name: str, age: int, active: bool) -> None:\n",
        "        self.name = name\n",
        "        self.age = age\n",
        "        self.active = active\n",
        "\n",
        "assert C(\"hoge\", 20, active=True) != C(\"hoge\", 20, active=True)"
      ],
      "metadata": {
        "id": "JUBitnMxwukk"
      },
      "execution_count": null,
      "outputs": []
    },
    {
      "cell_type": "markdown",
      "source": [
        "### dataclass のマッチング ###"
      ],
      "metadata": {
        "id": "GiBbJDV8Tmkz"
      }
    },
    {
      "cell_type": "markdown",
      "source": [
        "自動的に生成される `__match_args__` 属性により、match - case 文のクラスパターンで引数の名前を省略できる（つまり位置引数が使える）。以下のコードでは、各 case ブロックのクラスパターンの引数にキーワード引数を使用せず、位置引数としてキャプチャパターン `x`, `y` を使用している。"
      ],
      "metadata": {
        "id": "zOOqg4m9TnZH"
      }
    },
    {
      "cell_type": "code",
      "source": [
        "from dataclasses import dataclass\n",
        "\n",
        "@dataclass\n",
        "class Point:\n",
        "    x: float\n",
        "    y: float\n",
        "\n",
        "def f(point):\n",
        "    match point:\n",
        "        case Point(x, y) if x == y:\n",
        "            print(f\"Y=X at {x}\")\n",
        "        case Point(x, y):\n",
        "            print(\"Not on the diagonal\")\n",
        "\n",
        "if __name__ == \"__main__\":\n",
        "    f(Point(1.0, 1.0))\n",
        "    f(Point(2.0, 1.0))"
      ],
      "metadata": {
        "colab": {
          "base_uri": "https://localhost:8080/"
        },
        "id": "LRQsoJHGTpqw",
        "outputId": "1cff42b8-0565-429e-924b-112d6f93c85b"
      },
      "execution_count": null,
      "outputs": [
        {
          "output_type": "stream",
          "name": "stdout",
          "text": [
            "Y=X at 1.0\n",
            "Not on the diagonal\n"
          ]
        }
      ]
    },
    {
      "cell_type": "markdown",
      "source": [
        "### dataclass() の引数 ###"
      ],
      "metadata": {
        "id": "klWOEETAwxzv"
      }
    },
    {
      "cell_type": "markdown",
      "source": [
        "dataclass() デコレーターの引数は、すべてキーワード専用である。\n",
        "\n",
        "| 引数 | 意味 | デフォルト値  |\n",
        "|:--|:--|:-:|\n",
        "| `init` | `True` の場合、`__init__()` メソッドが生成される | `True` |\n",
        "| `repr` | `True` の場合、`__repr__()` メソッドが生成される | `True` |\n",
        "| `eq` | `True` の場合、`__eq__()` メソッドが生成される | `True` |\n",
        "| `match_args` | `True` の場合、`__match_args__` 属性が生成される（Python 3.10 で追加） | `True` |\n",
        "| `order` | `True` の場合、`__lt__()`、`__le__()`、`__gt__()`、`__ge__()` メソッドが生成される | `False` |\n",
        "| `frozen` | `True` の場合、フィールドへの代入は例外を生成する | `False` |\n",
        "| `unsafe_hash` | `False` の場合、`eq` と `frozen` が両方とも `True` なら `__hash__()` メソッドを生成する | `False` |\n",
        "| `kw_only` | `True` の場合、全てのフィールドはキーワード専用となる（Python 3.10 で追加） | `False` |\n",
        "| `slots` | `True` の場合、`__slots__` 属性を持つ新しいクラスを返す（Python 3.10 で追加） | `False` |\n",
        "\n",
        "`__init__()`、`__repr__()`、`__eq__()` メソッドを自分で定義したときは、`dataclass()` がその定義を上書きすることはない（引数 `init`、`repr`、`eq` は無視される）。\n",
        "\n",
        "デフォルトでは、`__init__()` メソッドに渡された引数のリストからタプルを生成して、`__match_args__` 属性をそのタプルで定義する。もし `match_args` が `False` だったり、すでに `__match_args__` がクラスに定義されていた場合には `__match_args__` は生成されない。\n",
        "\n",
        "もし `order` が `True` で、`eq` に `False` を指定すると、`ValueError` 例外が発生する。また `order` が `True` で、`__lt__()`、`__le__()`、`__gt__()`、`__ge__()` メソッドが既に定義されていると、`TypeError` 例外が発生する。\n",
        "\n",
        "`@dataclass(frozen=True)` とすると、デフォルトでは `__hash__()` メソッドが生成され、dataclass のインスタンスはハッシュ可能となるから、set 型の要素や dict 型のキーにできる。"
      ],
      "metadata": {
        "id": "rZZKHV6mw0r3"
      }
    },
    {
      "cell_type": "code",
      "source": [
        "from dataclasses import dataclass\n",
        "\n",
        "@dataclass(frozen=True)\n",
        "class User:\n",
        "    name: str\n",
        "    active: bool = False\n",
        "\n",
        "user = User(\"hoge\")\n",
        "try:\n",
        "    user.active = True  # フィールドへの代入時にエラーが発生\n",
        "except AttributeError as err:\n",
        "    print(f\"{type(err).__name__}: {err}\")\n",
        "\n",
        "users = {user}  # 集合の要素にできる\n",
        "users.add(User(\"hoge\"))  # フィールドの値が一致するオブジェクトは重複する要素とみなされる\n",
        "assert len(users) == 1\n",
        "\n",
        "# 辞書のキーに指定できる\n",
        "user_id = {user: 1000}"
      ],
      "metadata": {
        "colab": {
          "base_uri": "https://localhost:8080/"
        },
        "id": "9NlYmdK1w5NO",
        "outputId": "17f0979b-e67c-46be-b382-37724c9419bc"
      },
      "execution_count": null,
      "outputs": [
        {
          "output_type": "stream",
          "name": "stdout",
          "text": [
            "FrozenInstanceError: cannot assign to field 'active'\n"
          ]
        }
      ]
    },
    {
      "cell_type": "markdown",
      "source": [
        "### 初期化後の処理 ###"
      ],
      "metadata": {
        "id": "RBZ7RYnAw59_"
      }
    },
    {
      "cell_type": "markdown",
      "source": [
        "`dataclass()` デコレーターは、`__init__()` メソッドを生成するときに `__post_init__()` メソッドが既に定義されていると、`__init__()` の処理の最後に `__post_init__()` の呼び出しを追加する。これにより、`__init__()` によるフィールドの初期化を確実に済ませた後に、追加的な処理を `__post_init__()` メソッドに行わせることができる。dataclass の `__init__()` メソッドを自分で定義するよりは、`__post_init__()` メソッドを定義したほうが間違いがない。\n",
        "\n",
        "たとえば、次のコードで `__post_init__()` はフィールドの値をチェックする:"
      ],
      "metadata": {
        "id": "qLUTEpS4w8c5"
      }
    },
    {
      "cell_type": "code",
      "source": [
        "from dataclasses import dataclass\n",
        "\n",
        "@dataclass(frozen=True)\n",
        "class User:\n",
        "    name: str\n",
        "    account_number: int\n",
        "\n",
        "    def __post_init__(self):\n",
        "        if self.account_number < 0:\n",
        "            raise ValueError(\"cannot assign negative values to field 'account_number'.\")\n",
        "        if self.account_number >= 10000000:\n",
        "            raise ValueError(\"cannot assign more than 8 digits to field 'account_number'.\")\n",
        "\n",
        "try:\n",
        "    user = User(\"hoge\", 12345678) # 8桁以上の口座番号を指定するとエラー\n",
        "except ValueError as err:\n",
        "    print(f\"{type(err).__name__}: {err}\")"
      ],
      "metadata": {
        "colab": {
          "base_uri": "https://localhost:8080/"
        },
        "id": "z-QLxGDkw_jp",
        "outputId": "434be86d-c63f-48e0-e39c-07dcda1afac0"
      },
      "execution_count": null,
      "outputs": [
        {
          "output_type": "stream",
          "name": "stdout",
          "text": [
            "ValueError: cannot assign more than 8 digits to field 'account_number'.\n"
          ]
        }
      ]
    },
    {
      "cell_type": "markdown",
      "source": [
        "クラス変数宣言の型アノテーションに `dataclasses.InitVar` を指定した場合、そのクラス変数は一般的なフィールドとしては扱われず、**初期化限定変数**とされる。初期化限定変数は自動生成される `__init__()` メソッドと `__post_init__()` メソッドの引数に渡される。このため、初期化限定変数を宣言するときは、`__post_init__()` メソッドの定義に対応する引数を追加しないとエラーになる。\n",
        "\n",
        "次の例では、`account_number_limt` をデフォルト値付きの初期化限定変数とし、インスタンス生成時に口座番号の桁数制限を変更できるようにしている。"
      ],
      "metadata": {
        "id": "Az1ytI5YxExp"
      }
    },
    {
      "cell_type": "code",
      "source": [
        "from dataclasses import dataclass, InitVar\n",
        "\n",
        "@dataclass(frozen=True)\n",
        "class User:\n",
        "    name: str\n",
        "    account_number: int\n",
        "    account_number_limt: InitVar[int] = 10000000\n",
        "\n",
        "    def __post_init__(self, account_number_limt):\n",
        "        if self.account_number < 0:\n",
        "            raise ValueError(\"cannot assign negative values to field 'account_number'.\")\n",
        "        if self.account_number >= account_number_limt:\n",
        "            raise ValueError(\"cannot assign more than 8 digits to field 'account_number'.\")\n",
        "\n",
        "print(User(\"hoge\", 12345678, account_number_limt=100000000))\n",
        "assert User(\"foo\", 1234, account_number_limt=10000) == User(\"foo\", 1234, account_number_limt=9999)"
      ],
      "metadata": {
        "colab": {
          "base_uri": "https://localhost:8080/"
        },
        "id": "X5PwcTfHxFkz",
        "outputId": "40a80f5e-9efc-4de9-d810-d111dfac4dac"
      },
      "execution_count": null,
      "outputs": [
        {
          "output_type": "stream",
          "name": "stdout",
          "text": [
            "User(name='hoge', account_number=12345678)\n"
          ]
        }
      ]
    },
    {
      "cell_type": "markdown",
      "source": [
        "自動生成される `__repr__()` メソッドと `__eq__()` メソッドは初期化限定変数を無視する。このため、上記のコードにおいて初期化限定変数は `print()` の出力に現れないし、初期化限定変数の値の違いは `==` の比較で無視される。"
      ],
      "metadata": {
        "id": "GC1Lx40bxIQi"
      }
    },
    {
      "cell_type": "markdown",
      "source": [
        "### ユーティリティ関数 ###"
      ],
      "metadata": {
        "id": "quJzmQkQxOzT"
      }
    },
    {
      "cell_type": "markdown",
      "source": [
        "`dataclasses` モジュールは、dataclass のインスタンス `obj` を操作する次のような便利な関数を提供している。\n",
        "\n",
        "``` python\n",
        "dataclasses.asdict(obj, *, dict_factory=dict)\n",
        "```\n",
        "\n",
        "`obj` を（ファクトリ関数 `dict_factory` を使い）辞書に変換する。フィールドの名前と値のペアから、キーと値のペアを作る。データクラス、辞書、リスト、タプルは再帰的に処理される。その他のオブジェクトは `copy.deepcopy()` でコピーされる。\n",
        "\n",
        "``` python\n",
        "dataclasses.astuple(obj, *, tuple_factory=tuple)\n",
        "```\n",
        "\n",
        "`obj` を（ファクトリ関数 `tuple_factory` を使い）タプルに変換する。フィールドの値から、タプルの要素を作る。データクラス、辞書、リスト、タプルは再帰的に処理される。その他のオブジェクトは `copy.deepcopy()` でコピーされる。\n",
        "\n",
        "``` python\n",
        "dataclasses.replace(obj, /, **changes)\n",
        "```\n",
        "\n",
        "`obj` と同じ型のオブジェクトを新しく作成し、フィールドを `changes` にある値で置き換える。`obj` のフィールドは変更されない。"
      ],
      "metadata": {
        "id": "KsxfqYJexPol"
      }
    },
    {
      "cell_type": "code",
      "source": [
        "from dataclasses import dataclass, asdict, astuple, replace\n",
        "\n",
        "@dataclass\n",
        "class User:\n",
        "    name: str\n",
        "    id: int\n",
        "    active: bool = False\n",
        "\n",
        "user = User(\"hoge\", 100)\n",
        "assert asdict(user) == {\"name\": \"hoge\", \"id\": 100, \"active\": False}\n",
        "assert astuple(user) == (\"hoge\", 100, False)\n",
        "assert replace(user, active=True) == User(name='hoge', id=100, active=True)\n",
        "assert user.active == False  # replece() は user のフィールド自体を変更しない"
      ],
      "metadata": {
        "id": "918RgBAJxSyw"
      },
      "execution_count": null,
      "outputs": []
    },
    {
      "cell_type": "markdown",
      "source": [
        "Python 3.13 からは、dataclass が `copy.replace()` 関数をサポートする。`dataclasses.replace()` 関数を使っても、`copy.replace()` 関数を使っても同じことができる。"
      ],
      "metadata": {
        "id": "USqjRkMpyAlD"
      }
    },
    {
      "cell_type": "markdown",
      "source": [
        "### 値オブジェクト ###"
      ],
      "metadata": {
        "id": "WX9S8qFdjD9T"
      }
    },
    {
      "cell_type": "markdown",
      "source": [
        "dataclass の `frozen`、`slots` 引数と `dataclasses.replace()` 関数を組み合わせることで、次のような性質を持つオブジェクトを簡単に作成できる。\n",
        "\n",
        "  1. オブジェクト同士の比較が可能で、同じ値を持つ場合は等しい。\n",
        "  2. オブジェクトは不変である。\n",
        "  3. 値の変更は、新しいオブジェクトを生成することによって処理される。\n",
        "\n",
        "このような性質を全て持つオブジェクトを**値オブジェクト**（Value Object）と呼ぶ。実際、オブジェクト同士の比較は、dataclass で自動的に生成される `__eq__()` メソッドによって行われる。オブジェクトの不変性は、 dataclass の `frozen`、`slots` 引数を `True` に指定することで実現される。値の変更は、`dataclasses.replace()` 関数を使うようにすればよい。\n",
        "\n",
        "値オブジェクトを使うと、コードの可読性が高くなり、また、バグが混入しにくくなるなどのメリットがあるとされる。\n",
        "\n",
        "次のコードは、オンラインショップの商品に適用するクーポンを値オブジェクトとして設計している。クーポンオブジェクトのフィールドであるタイトル `title` 、割引率 `rate`、有効期限 `expiration` は変更不可であり（これは dataclass の引数 `frozen=True` の効果である）、フィールドの追加もできない（これは dataclass の引数 `slots=True` の効果である）。既存のクーポンの割引率や有効期限を変更するには、メソッドを呼び出して新たなクーポンオブジェクトを作成しなければならない。これによって、既存のクーポンの割引率や有効期限が意図せず変更されるなどのバグを回避できる。"
      ],
      "metadata": {
        "id": "TosKNyG4iebQ"
      }
    },
    {
      "cell_type": "code",
      "source": [
        "from dataclasses import dataclass, replace\n",
        "from datetime import datetime\n",
        "\n",
        "\n",
        "@dataclass(frozen=True, slots=True)\n",
        "class Coupon:\n",
        "    title: str\n",
        "    rate: float\n",
        "    expiration: datetime\n",
        "\n",
        "    def update_rate(self, new: float):\n",
        "        return replace(self, rate=new)\n",
        "\n",
        "    def update_expiration(self, new: datetime):\n",
        "        return replace(self, expiration=new)\n",
        "\n",
        "\n",
        "c1 = Coupon(\"ブラックフライデー\", 0.95, datetime(2023, 11, 27))\n",
        "c2 = c1.update_expiration(datetime(2023, 12, 1))\n",
        "assert c1 != c2 == Coupon(\"ブラックフライデー\", 0.95, datetime(2023, 12, 1))\n",
        "try:\n",
        "    c1.rate = 0.095\n",
        "except:\n",
        "    print(\"Value Object は変更不可能です\")"
      ],
      "metadata": {
        "colab": {
          "base_uri": "https://localhost:8080/"
        },
        "id": "A26oMyRFq_BB",
        "outputId": "d80ef559-67b6-4439-8aa5-2f25ab2f20d1"
      },
      "execution_count": null,
      "outputs": [
        {
          "output_type": "stream",
          "name": "stdout",
          "text": [
            "Value Object は変更不可能です\n"
          ]
        }
      ]
    },
    {
      "cell_type": "markdown",
      "source": [
        "### dataclass を継承する列挙型 ###"
      ],
      "metadata": {
        "id": "mft8mdWT9V89"
      }
    },
    {
      "cell_type": "markdown",
      "source": [
        "列挙型は dataclass をサポートする。列挙型の定義で dataclass  1 つと `enum.Enum` を多重継承する場合、メンバーはその dataclass のインスタンスとなる。ただし、メンバーの定義では dataclass の位置引数をタプルで指定する。キーワード引数を渡す方法はないので、キーワード専用フィールドを持つ dataclass には対応していない。"
      ],
      "metadata": {
        "id": "7UQ8y_C2-RXA"
      }
    },
    {
      "cell_type": "code",
      "source": [
        "from dataclasses import dataclass, field\n",
        "from enum import Enum\n",
        "\n",
        "@dataclass\n",
        "class CreatureDataMixin:\n",
        "    size: str\n",
        "    legs: int\n",
        "    tail: bool = field(repr=False, default=True)\n",
        "\n",
        "class Creature(CreatureDataMixin, Enum):\n",
        "    DOG = \"medium\", 4\n",
        "    GORILLA = \"big\", 4, False\n",
        "\n",
        "assert isinstance(Creature.DOG, Creature) and isinstance(Creature.DOG, CreatureDataMixin)\n",
        "assert Creature.DOG.size == \"medium\"  # フィールドは value 属性を経由せずにアクセスできる\n",
        "assert Creature.DOG.tail  # デフォルト値\n",
        "assert not Creature.GORILLA.tail\n",
        "Creature.GORILLA  # tail フィールドは表示されない"
      ],
      "metadata": {
        "colab": {
          "base_uri": "https://localhost:8080/"
        },
        "id": "Y7HezdtxzLth",
        "outputId": "8840aa72-fbf3-4e69-f92d-fa067f7f593e"
      },
      "execution_count": null,
      "outputs": [
        {
          "output_type": "execute_result",
          "data": {
            "text/plain": [
              "Creature(size='big', legs=4)"
            ]
          },
          "metadata": {},
          "execution_count": 19
        }
      ]
    },
    {
      "cell_type": "markdown",
      "source": [
        "### dataclass_transform ###"
      ],
      "metadata": {
        "id": "j3WysDlmhIGR"
      }
    },
    {
      "cell_type": "markdown",
      "source": [
        "次のコードの `CustomerModel` クラスは属性に対する型アノテーションを付与し dataclass に似ているが、静的型チェックツールは `CustomerModel()` の引数の型をチェックしてくれない。\n",
        "\n",
        "``` python\n",
        "class ModelBase:\n",
        "    def __init__(self, **kwargs) -> None:\n",
        "        pass\n",
        "\n",
        "class CustomerModel(ModelBase):\n",
        "    id: int\n",
        "    name: str\n",
        "\n",
        "c = CustomerModel(id=\"1\", name=\"hoge\")  # 引数 id に文字列を指定しているが、型チェックはエラーにならない\n",
        "```\n",
        "\n",
        "原因は、`CustomerModel` が `__init__()` メソッドを定義せず、基底クラス `ModelBase` から継承する `__init__()` メソッドには引数に対する型アノテーションがないからである。\n",
        "\n",
        "Python 3.11 からは、`typing.dataclass_transform()` デコレーターが使える。このデコレーターを基底クラスに付けると、対応する静的型チェックツールは派生クラスの属性に対する型アノテーションを利用するようになる。\n",
        "\n",
        "``` python\n",
        "from typing import dataclass_transform\n",
        "\n",
        "@dataclass_transform()\n",
        "class ModelBase:\n",
        "    def __init__(self, **kwargs) -> None:\n",
        "        pass\n",
        "\n",
        "class CustomerModel(ModelBase):\n",
        "    id: int\n",
        "    name: str\n",
        "\n",
        "c = CustomerModel(id=\"1\", name=\"hoge\")  # 型チェッカーは、引数 id に文字列を指定していることに対してエラーを発生する\n",
        "```\n",
        "\n",
        "`typing.dataclass_transform()` デコレーターは、実際に dataclass を生成しているわけではなく、クラスに `__dataclass_transform__` 属性を追加するだけである。型チェッカーは、`__dataclass_transform__` 属性からの情報に基づき dataclass のように型アノテーションの情報を元にした型チェックを行う。\n",
        "\n",
        "上記のコードでは、基底クラスに `typing.dataclass_transform()` を付けたが、クラスに付けるデコレーターを適当に作成し、それに `typing.dataclass_transform()` を付けることでもよい。\n",
        "\n",
        "``` python\n",
        "from typing import dataclass_transform\n",
        "\n",
        "class ModelBase:\n",
        "    def __init__(self, **kwargs) -> None:\n",
        "        pass\n",
        "\n",
        "@dataclass_transform()\n",
        "def create_model[T](cls: type[T]) -> type[T]:\n",
        "    \"\"\"CustomerModel に適用するだけのデコレーター\"\"\"\n",
        "    ...\n",
        "    return cls\n",
        "\n",
        "@create_model\n",
        "class CustomerModel(ModelBase):\n",
        "    id: int\n",
        "    name: str\n",
        "\n",
        "c = CustomerModel(id=\"1\", name=\"hoge\")  # 型チェッカーは、引数 id に文字列を指定していることに対してエラーを発生する\n",
        "```\n",
        "\n",
        "`typing.dataclass_transform()` デコレーターは、Django 内蔵の O/Rマッパーのように、サードパーティー製ライブラリが dataclass と似た構造を持つクラスを提供していて、型チェックを行いたい場合に使用されることが想定されている。"
      ],
      "metadata": {
        "id": "K6g361v5hJA0"
      }
    }
  ]
}