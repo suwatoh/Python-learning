{
  "nbformat": 4,
  "nbformat_minor": 0,
  "metadata": {
    "colab": {
      "provenance": [],
      "authorship_tag": "ABX9TyPRXr1xHwzK++nY90lR9p9G",
      "include_colab_link": true
    },
    "kernelspec": {
      "name": "python3",
      "display_name": "Python 3"
    },
    "language_info": {
      "name": "python"
    }
  },
  "cells": [
    {
      "cell_type": "markdown",
      "metadata": {
        "id": "view-in-github",
        "colab_type": "text"
      },
      "source": [
        "<a href=\"https://colab.research.google.com/github/suwatoh/Python-learning/blob/main/108_%E3%83%87%E3%82%A3%E3%82%B9%E3%82%AF%E3%83%AA%E3%83%97%E3%82%BF%E3%83%BC.ipynb\" target=\"_parent\"><img src=\"https://colab.research.google.com/assets/colab-badge.svg\" alt=\"Open In Colab\"/></a>"
      ]
    },
    {
      "cell_type": "markdown",
      "source": [
        "ディスクリプター\n",
        "================"
      ],
      "metadata": {
        "id": "1uPzmCotGCbk"
      }
    },
    {
      "cell_type": "markdown",
      "source": [
        "ディスクリプター\n",
        "----------------"
      ],
      "metadata": {
        "id": "Ts8Avo9JORyz"
      }
    },
    {
      "cell_type": "markdown",
      "source": [
        "### ディスクリプタープロトコル ###"
      ],
      "metadata": {
        "id": "P7KdfqwyUxQ6"
      }
    },
    {
      "cell_type": "markdown",
      "source": [
        "**ディスクリプター**（descriptor）とは、**ディスクリプタープロトコル**（descriptor protocol）で定義されたメソッドを持つオブジェクトのことをいう。ディスクリプタープロトコルが定めるメソッドは以下のとおり。\n",
        "\n",
        "  * `descr.__get__(self, instance, owner=None)`\n",
        "  * `descr.__set__(self, instance, value)`\n",
        "  * `descr.__delete__(self, instance)`\n",
        "\n",
        "これらのメソッドのいずれかを定義すれば、オブジェクトはディスクリプターとみなされる。\n",
        "\n",
        "`__set__()` と `__delete__()` の両方を定義するものを**データディスクリプター**、`__get__()` だけを定義するものを**非データディスクリプター**と呼ぶ。\n",
        "\n",
        "データディスクリプターのうち、`__get__()` と `__set__()` の両方を定義し、`__set__()` が呼び出されたときに `AttributeError` を送出するものを、**読み出し専用データディスクリプター**と呼ぶ。\n",
        "\n",
        "また、ディスクリプターは、次の特殊メソッドを持つことがある。\n",
        "\n",
        "  * `descr.__set_name__(self, owner, name)`\n",
        "\n",
        "あるクラスのクラス変数に `__set_name__()` メソッドを持つオブジェクトをアサインしている場合、そのクラス（**オーナークラス**と呼ぶ）の定義を実行すると、オーナークラスのクラスオブジェクトとアサインされたクラス属性の名前を伴って `__set_name__()` が自動的に呼び出される（この動作はオブジェクトがディスクリプターである場合に限らない）。\n",
        "\n",
        "次のコードでは、`MyDescriptor` のインスタンスはデータディスクリプターであり、かつ、`__set_name__()` メソッドを持ち、`A` のクラス変数 `x` にアサインしている。"
      ],
      "metadata": {
        "id": "LaML2UveOSo0"
      }
    },
    {
      "cell_type": "code",
      "source": [
        "class MyDescriptor:\n",
        "    def __get__(self, instance, owner):\n",
        "        pass\n",
        "\n",
        "    def __set__(self, instance, value):\n",
        "        pass\n",
        "\n",
        "    def __delete__(self, instance):\n",
        "        pass\n",
        "\n",
        "    def __set_name__(self, owner, name):\n",
        "        print(f\"{owner=}, {name=}\")\n",
        "\n",
        "class A:\n",
        "    x = MyDescriptor()"
      ],
      "metadata": {
        "colab": {
          "base_uri": "https://localhost:8080/"
        },
        "id": "T5GYoPr7OVY8",
        "outputId": "dab70f1d-29fa-4a97-bd63-07b56f028c08"
      },
      "execution_count": null,
      "outputs": [
        {
          "output_type": "stream",
          "name": "stdout",
          "text": [
            "owner=<class '__main__.A'>, name='x'\n"
          ]
        }
      ]
    },
    {
      "cell_type": "markdown",
      "source": [
        "`A` のクラス定義を実行すると、`x = MyDescriptor()` というアサインによって `x.__set_name__(A, 'x')` が自動的に呼び出される。`__set_name__()` は、オーナークラスとアサインされたクラス属性の名前を知る必要がある場合に便利である。\n",
        "\n",
        "このようにクラス変数にディスクリプターをアサインしている場合、Python は属性アクセスのデフォルトの振る舞いをオーバーライドし、代わりにディスクリプターメソッドを呼び出す。属性の取得・設定・削除では、デフォルトでは属性辞書の項目の取得・設定・削除が行われるが、それぞれ代わりに `__get__()` ・ `__set__()` ・ `__delete__()` の呼び出しが自動的に行われるということである。ただし、このディスクリプター呼び出しが発動する条件は複雑で、オブジェクトの種類とディスクリプターの種類に依存している。"
      ],
      "metadata": {
        "id": "OZVv9pSlU2xb"
      }
    },
    {
      "cell_type": "markdown",
      "source": [
        "### インスタンスからの呼び出し ###"
      ],
      "metadata": {
        "id": "SxCMQFW2V3cJ"
      }
    },
    {
      "cell_type": "markdown",
      "source": [
        "インスタンスの属性参照 `a.x` およびこれと等価な `getattr(a, 'x')` では、`__getattribute__(a, 'x')` というメソッド呼び出しが行われる。ユーザー定義クラスは、このメソッドを `object` から継承する。 `object.__getattribute__()` は、以下のロジックを定めている。\n",
        "\n",
        "  * まず `type(a).__dict__['x']`、さらに `type(a)` のメソッド探索順序（MRO）に従ったさらなる探索でクラス変数 `x` の値を探す。\n",
        "  * `x` の値がディスクリプターであるかどうかを確認する。\n",
        "  * そのうえで以下の優先順位を付ける。\n",
        "      1. データディスクリプター\n",
        "      2. インスタンスの属性辞書（`a.__dict__['x']` を返す）\n",
        "      3. 非データディスクリプター\n",
        "      4. クラス変数（`x` の値をそのまま返す）\n",
        "  * 上記のいずれも使用できない場合は、 `AttributeError` 例外を送出する。\n",
        "\n",
        "さらに、ドット演算子 `.` と組み込み関数 `getattr()` には、`__getattr__()` のフックが存在する。`__getattribute__()` が `AttributeError` を発出したときに `__getattr__(a, 'x')` が呼び出される。インスタンスが `__getattr__()` メソッドを持っていないときには、`AttributeError` を再送出する。\n",
        "\n",
        "上記の優先順位によって、データディスクリプターは必ずインスタンスの属性辞書をオーバーライドするのに対して、非データディスクリプターはインスタンスの属性辞書にオーバーライドされることがある。\n",
        "\n",
        "`a.x` に対してディスクリプターが使用される場合、 `desc.__get__(a, type(a))` という形式で呼び出される。\n",
        "\n",
        "以上のロジックは C で書かれているが、これと等価な Python のコードが[公式ドキュメント](https://docs.python.org/ja/3/howto/descriptor.html#invocation-from-an-instance)に載っている。"
      ],
      "metadata": {
        "id": "MdwB8zn5V4BW"
      }
    },
    {
      "cell_type": "markdown",
      "source": [
        "### クラスからの呼び出し ###"
      ],
      "metadata": {
        "id": "zT7nQxEqNaP4"
      }
    },
    {
      "cell_type": "markdown",
      "source": [
        "クラスの属性参照 `A.x` でも `__getattribute__()` メソッド呼び出しが行われるが、このメソッドは `type` から継承する。 `type.__getattribute__()` が定めるロジックは、 `object.__getattribute__()` と似ているが、インスタンスの属性辞書はクラスの MRO を通じた探索と置き換えられている。\n",
        "\n",
        "`A.x` に対してディスクリプターが使用される場合、 `desc.__get__(None, A)` という形式で呼び出される。"
      ],
      "metadata": {
        "id": "x02uZQM5NdFO"
      }
    },
    {
      "cell_type": "markdown",
      "source": [
        "### super からの呼び出し ###"
      ],
      "metadata": {
        "id": "xJvE47I1_MQz"
      }
    },
    {
      "cell_type": "markdown",
      "source": [
        "組み込み関数 `super()` を伴った属性参照では、`super()` によって返されるオブジェクトが持つ `__getattribute__()` メソッドの呼び出しが行われる。`super(A, obj).x` という属性参照は、`obj.__class__.__mro__` を探索して、 `A` の直前のクラス `B` をまず探し、 `B.__dict__['x'].__get__(obj, A)` を返す。もしディスクリプターでなければ `x` を変更せずに返す。"
      ],
      "metadata": {
        "id": "5PUmA8QV_OZ2"
      }
    },
    {
      "cell_type": "markdown",
      "source": [
        "関数とメソッド\n",
        "--------------"
      ],
      "metadata": {
        "id": "UOBorAuwHWbA"
      }
    },
    {
      "cell_type": "markdown",
      "source": [
        "実は、Python の関数は非データディスクリプターである。次は `__get__()` を直接呼び出す例である:"
      ],
      "metadata": {
        "id": "ID5Szo3aHXSC"
      }
    },
    {
      "cell_type": "code",
      "source": [
        "def f(a, b):\n",
        "    return a + b\n",
        "\n",
        "print(f\"{f = }\")\n",
        "print(f\"{f.__get__(1) = }\")\n",
        "print(f\"{f.__get__(1)(2) = }\")"
      ],
      "metadata": {
        "colab": {
          "base_uri": "https://localhost:8080/"
        },
        "id": "wgIZw4VzYu2o",
        "outputId": "a20c71ce-1194-4c2d-bd74-8b3a7fbbb84b"
      },
      "execution_count": null,
      "outputs": [
        {
          "output_type": "stream",
          "name": "stdout",
          "text": [
            "f = <function f at 0x7d64b552fa30>\n",
            "f.__get__(1) = <bound method f of 1>\n",
            "f.__get__(1)(2) = 3\n"
          ]
        }
      ]
    },
    {
      "cell_type": "markdown",
      "source": [
        "関数が非データディスクリプターであることは、関数とメソッドをシームレスに組み合わせることに利用されている。関数クラスは C で書かれた非公開のクラスであるが、そのディスクリプタープロトコルに関する実装を Python による疑似コードで表すと、次のようになる。\n",
        "\n",
        "``` python\n",
        "class Function:\n",
        "    ...\n",
        "\n",
        "    def __get__(self, obj, objtype=None):\n",
        "        \"Simulate func_descr_get() in Objects/funcobject.c\"\n",
        "        if obj is None:\n",
        "            return self\n",
        "        return MethodType(self, obj)\n",
        "```\n",
        "\n",
        "関数 `f` がオブジェクト `a` からディスクリプターとして `f.__get__(a, type(a))` のように呼び出される場合は、 `MethodType` インスタンスが返される。 `MethodType` は、ユーザー定義クラスのインスタンスメソッドの型であり、実行時に関数をメソッドに変換するために使われる。\n",
        "\n",
        "Python ではメソッドと通常の関数の違いは、オブジェクトのインスタンスが他の引数よりも前に渡されるか否かという違いでしかない。インスタンスが渡される引数は、慣習的に `self` という名前が使われる。`self` は、PEP 8 などのコーディング規約上の命名であって、予約語ではない。C++ や Java では、`this` キーワードがインスタンスを参照する特別なポインタとされ、引数に明示する必要はない。これに比べると Python の `self` はどこから来るのかわかりにくいが、`MethodType` によって追加される引数がその正体である。\n",
        "\n",
        "`MethodType` は、クラス、クラスインスタンスと任意の関数（あるいは呼び出し可能オブジェクト）を結びつける。以下の特殊属性を持つ。\n",
        "\n",
        "| 特殊属性 | 意味 |\n",
        "|:--|:----|\n",
        "| `__self__` | メソッドがバインドされているクラスインスタンス |\n",
        "| `__func__` | もとの関数オブジェクト |\n",
        "\n",
        "C による `MethodType` の実装を Python による疑似コードで表すと、次のようになる。\n",
        "\n",
        "``` python\n",
        "class MethodType:\n",
        "    \"Emulate PyMethod_Type in Objects/classobject.c\"\n",
        "\n",
        "    def __init__(self, func, obj):\n",
        "        self.__func__ = func\n",
        "        self.__self__ = obj\n",
        "\n",
        "    def __call__(self, *args, **kwargs):\n",
        "        func = self.__func__\n",
        "        obj = self.__self__\n",
        "        return func(obj, *args, **kwargs)\n",
        "```\n",
        "\n",
        "オブジェクト `a` のクラスのクラス変数 `m` に関数 `f` をアサインすると、`a.m` のような参照は、非データディスクリプター呼び出しが使用され、`MethodType` インスタンス（インスタンスメソッド）が返される。その `__func__` 属性の値は `f` であり、`__self__` 属性の値は `a` である。\n",
        "\n",
        "`a.m()` のようなインスタンスメソッドの呼び出しは、呼び出し可能オブジェクトの呼び出し形式に適用されるルールにより、実行時に `type(m).__call__(m, arg1, ...)` のように暗黙的に変換される。いま `m` はインスタンスメソッド、つまり `MethodType` のインスタンスであり、その`__call__()` の中では、もとの関数 `f` を使って `f(a, arg1, ...)` が実行され、結果が返される。こうして、第 1 引数にインスタンスが渡される。\n",
        "\n",
        "まとめると、メソッドの呼び出しは以下のように変換される。\n",
        "\n",
        "　`a.m(arg1, ...)` → `type(a).__dict__['m'].__get__(a, type(a))(arg1, ...)` → `MethodType(f, a)(arg1, ...)`  \n",
        "　 → `MethodType.__call__(MethodType(f, a), arg1, ...)` → `f(a, arg1, ...)`\n",
        "\n",
        "次のコードでは、インスタンスメソッドの呼び出しと等価な呼び出しを確認できる:"
      ],
      "metadata": {
        "id": "q7MZXQEmSnMG"
      }
    },
    {
      "cell_type": "code",
      "source": [
        "def f(self, a, b):\n",
        "    return a + b\n",
        "\n",
        "class A:\n",
        "    m = f  # def m(self, a, b): ... と直接定義するのと等価\n",
        "\n",
        "a = A()\n",
        "assert a.m(1, 2) == type(a).__dict__[\"m\"].__get__(a, type(a)).__call__(1, 2) == f(a, 1, 2)"
      ],
      "metadata": {
        "id": "7GW2Fq-PSpPS"
      },
      "execution_count": null,
      "outputs": []
    },
    {
      "cell_type": "markdown",
      "source": [
        "非データディスクリプターは、インスタンスの属性辞書にオーバーライドされることに注意する。\n",
        "\n",
        "また、`A.m()` のような呼び出しでは、`__get__()` が第 1 引数に `None` を渡されるので関数自身を返すことから、以下のように変換される。\n",
        "\n",
        "　`A.m(arg1, ...)` → `A.__dict__['m'].__get__(None, A)(arg1, ...)` → `f(arg1, ...)`\n",
        "\n",
        "**【メモ】**  \n",
        "インスタンスメソッドの呼び出しは、`.` の解決のための探索と、メソッド化のための変換が行われるので、それなりに重い処理となる。リストの生成で `append()` メソッドを使う方法がリスト内包表記を使う方法より時間がかかる原因の 1 つはこれである。同じメソッドを頻繁に呼び出す場合は、メソッド化までの処理結果を変数に保存しておき、その変数で呼び出すことにより処理時間を短縮化することができる（メモ化に似た効果がある）。次の 2 つのコードは、普通に `append()` メソッドを使用してリストの生成にかかる時間と、メソッド化までの処理結果を変数に保存してリストの生成にかかる時間を計測している。"
      ],
      "metadata": {
        "id": "YUko5FVqVbma"
      }
    },
    {
      "cell_type": "code",
      "source": [
        "%%timeit\n",
        "a = []\n",
        "for i in range(100000):\n",
        "    a.append(0)"
      ],
      "metadata": {
        "colab": {
          "base_uri": "https://localhost:8080/"
        },
        "id": "wG9xIWGktiGD",
        "outputId": "e0155bec-2e5f-4455-d77c-0e2b0fa630db"
      },
      "execution_count": null,
      "outputs": [
        {
          "output_type": "stream",
          "name": "stdout",
          "text": [
            "7.59 ms ± 2.2 ms per loop (mean ± std. dev. of 7 runs, 100 loops each)\n"
          ]
        }
      ]
    },
    {
      "cell_type": "code",
      "source": [
        "%%timeit\n",
        "a = []\n",
        "a_append = a.append\n",
        "for i in range(100000):\n",
        "    a_append(0)"
      ],
      "metadata": {
        "colab": {
          "base_uri": "https://localhost:8080/"
        },
        "id": "u4Yv3Rfptjps",
        "outputId": "848cb700-5fe7-4ddc-da97-85246f0a7bd6"
      },
      "execution_count": null,
      "outputs": [
        {
          "output_type": "stream",
          "name": "stdout",
          "text": [
            "4.85 ms ± 526 µs per loop (mean ± std. dev. of 7 runs, 100 loops each)\n"
          ]
        }
      ]
    },
    {
      "cell_type": "markdown",
      "source": [
        "メソッド化までの処理結果を変数に保存して呼び出すほうが大幅に時間短縮となることがわかる。それでも、関数呼び出しのコストがあるので、リスト内包表記よりは時間がかかる。"
      ],
      "metadata": {
        "id": "EydFKAumpH0w"
      }
    },
    {
      "cell_type": "markdown",
      "source": [
        "クラスメソッド\n",
        "--------------"
      ],
      "metadata": {
        "id": "OMB7MF31b28q"
      }
    },
    {
      "cell_type": "markdown",
      "source": [
        "C++ や Java ではクラスメソッドとスタティックメソッドは同義だが、Python ではクラスもオブジェクトであることから両者は異なる。\n",
        "\n",
        "Python において、**クラスメソッド**とは、引数リストの先頭にクラス自身を参照する引数が加えられるメソッドのことをいう。具体的には、組み込みデコレーター `classmethod()` を適用したメソッドのことをいう。ただし、`__init_subclass__()` メソッドは特別扱いされ、`classmethod()` の適用がなくても自動的にクラスメソッドとなる。\n",
        "\n",
        "PEP 8 は、クラスメソッドのはじめの引数の名前は `cls` を使うものとする。\n",
        "\n",
        "第 1 引数としてクラスを取るため、クラスメソッドは、`cls.var` のようにクラス属性を参照できるほか、`cls()` のようにインスタンスを生成して返すことができる一方、インスタンス属性を参照することはできない（`cls.var` への代入はクラス属性を変更する）。"
      ],
      "metadata": {
        "id": "G5pDUzDJB3P7"
      }
    },
    {
      "cell_type": "code",
      "source": [
        "class Book:\n",
        "    \"\"\"本のタイトルと著者を管理するクラス\"\"\"\n",
        "\n",
        "    def __init__(self, title, author):\n",
        "        self.title = title\n",
        "        self.author = author\n",
        "\n",
        "    @classmethod\n",
        "    def from_dict(cls, book_dict):\n",
        "        \"\"\"辞書からインスタンスのリストを生成する\"\"\"\n",
        "        return [cls(title, author) for title, author in book_dict.items()]\n",
        "\n",
        "    def __repr__(self):\n",
        "        return \"Book({}, {})\".format(self.title, self.author)\n",
        "\n",
        "\n",
        "if __name__ == \"__main__\":\n",
        "    book_dict = {\"Introducing Python\": \"Bill Lubanovic\", \"Effective Python\": \"Brett Slatkin\"}\n",
        "    print(Book.from_dict(book_dict))"
      ],
      "metadata": {
        "colab": {
          "base_uri": "https://localhost:8080/"
        },
        "id": "xxXR7Q3nzMBa",
        "outputId": "db92da9d-6ce8-4a93-9526-7dfc4a93b8b7"
      },
      "execution_count": null,
      "outputs": [
        {
          "output_type": "stream",
          "name": "stdout",
          "text": [
            "[Book(Introducing Python, Bill Lubanovic), Book(Effective Python, Brett Slatkin)]\n"
          ]
        }
      ]
    },
    {
      "cell_type": "markdown",
      "source": [
        "実のところ、`classmethod` は、非データディスクリプターである。そのディスクリプタープロトコルに関する実装を Python による疑似コードで表すと、次のようになる。\n",
        "\n",
        "``` python\n",
        "import functools\n",
        "\n",
        "class ClassMethod:\n",
        "    \"Emulate PyClassMethod_Type() in Objects/funcobject.c\"\n",
        "\n",
        "    def __init__(self, f):\n",
        "        self.f = f\n",
        "        functools.update_wrapper(self, f)\n",
        "\n",
        "    def __get__(self, obj, cls=None):\n",
        "        if cls is None:\n",
        "            cls = type(obj)\n",
        "        return MethodType(self.f, cls)\n",
        "```\n",
        "\n",
        "コンストラクタ引数 `f` は、デコレーターでラップされる関数であり、これはインスタンスメソッド化される前の関数である。 `__get__()` メソッドは、一般の関数クラスと違って、`obj` 引数が `None` の場合に関数自身を返すのではなく、`MethodType(f, cls)` で生成されるメソッドを返す。このため、クラスメソッドの場合、`C.f` のようなクラスからの呼び出しでは、以下のように変換される。\n",
        "\n",
        "　`C.f(arg1, ...)` → `C.__dict__['f'].__get__(None, C)(arg1, ...)` → `MethodType(f, C)(arg1, ...)`   \n",
        "　 → `MethodType.__call__(MethodType(f, C), arg1, ...)` → `f(C, arg1, ...)`\n",
        "\n",
        "こうして、第 1 引数 `cls` にクラス自身への参照が渡されるのである。\n",
        "\n",
        "一方、`c.f` のようなインスタンスからの呼び出しでは\n",
        "\n",
        "　`c.f(arg1, ...)` → `C.__dict__['f'].__get__(c, C)(arg1, ...)` → `MethodType(f, C)(arg1, ...)`  \n",
        "　 → `MethodType.__call__(MethodType(f, C), arg1, ...)` → `f(C, arg1, ...)`\n",
        "\n",
        "となって、クラスからの呼び出しと同じ結果となる。"
      ],
      "metadata": {
        "id": "5eP9pvUX3u-I"
      }
    },
    {
      "cell_type": "code",
      "source": [
        "class C:\n",
        "    @classmethod\n",
        "    def f(cls, x):\n",
        "        return cls.__name__, x\n",
        "\n",
        "assert C.f(3) == C().f(3) == ('C', 3)"
      ],
      "metadata": {
        "id": "kGLljo3X7JRv"
      },
      "execution_count": null,
      "outputs": []
    },
    {
      "cell_type": "markdown",
      "source": [
        "スタティックメソッド\n",
        "--------------------"
      ],
      "metadata": {
        "id": "k_1f2DKZb7Zt"
      }
    },
    {
      "cell_type": "markdown",
      "source": [
        "**スタティックメソッド**（または**静的メソッド**）は、インスタンス化せずに使えるメソッドであり、暗黙の第一引数を受け取らない。具体的には、組み込みデコレーター `staticmethod()` を適用したメソッドのことをいう。"
      ],
      "metadata": {
        "id": "BZApf_Qh3wkx"
      }
    },
    {
      "cell_type": "code",
      "source": [
        "class C:\n",
        "    @staticmethod\n",
        "    def f(x):\n",
        "        return x * 10\n",
        "\n",
        "assert C.f(3) == C().f(3)"
      ],
      "metadata": {
        "id": "TdSyLJgl8LX1"
      },
      "execution_count": null,
      "outputs": []
    },
    {
      "cell_type": "markdown",
      "source": [
        "`__new__()` メソッドは特別扱いされ、`staticmethod()` の適用がなくても自動的にスタティックメソッドとなる。\n",
        "\n",
        "関数とメソッドの違いは暗黙の第一引数を受け取るか否かであったから、スタティックメソッドは実質的には普通の関数と同じである。スタティックメソッドの中では、インスタンス属性もクラス属性も参照することはできない。\n",
        "\n",
        "`staticmethod` 型の Python による疑似コードで表すと、次のようになる。\n",
        "\n",
        "``` python\n",
        "import functools\n",
        "\n",
        "class StaticMethod:\n",
        "    \"Emulate PyStaticMethod_Type() in Objects/funcobject.c\"\n",
        "\n",
        "    def __init__(self, f):\n",
        "        self.f = f\n",
        "        functools.update_wrapper(self, f)\n",
        "\n",
        "    def __get__(self, obj, objtype=None):\n",
        "        return self.f\n",
        "\n",
        "    def __call__(self, *args, **kwds):\n",
        "        return self.f(*args, **kwds)\n",
        "```\n",
        "\n",
        "非データディスクリプターとしては自身を返すだけである。\n",
        "\n",
        "通常は、普通の関数として書ける処理をクラスのスタティックメソッドにするメリットはないであろう。たとえば、特定のクラスのインスタンスに対して処理を行う関数は、そのクラスにスタティックメソッドとして持たせると関連性がわかりやすいかもしれない。"
      ],
      "metadata": {
        "id": "sKG-H62GIZM3"
      }
    },
    {
      "cell_type": "markdown",
      "source": [
        "プロパティ\n",
        "----------"
      ],
      "metadata": {
        "id": "TtATx9L-b--p"
      }
    },
    {
      "cell_type": "markdown",
      "source": [
        "インスタンスのデータ属性のようにアクセスすると関数の呼び出しを引き起こすものを**プロパティ**と呼ぶ。具体的には、組み込みのデータディスクリプタークラス `property` のインスタンスである。\n",
        "\n",
        "``` python\n",
        "x = property(fget=None, fset=None, fdel=None, doc=None)\n",
        "```\n",
        "\n",
        "`fget`、`fset`、`fdel` は、ふつう、すべて同じデータ属性（本当の属性）を扱うメソッドである。これらに扱われるデータ属性をプロパティの属性値と呼ぶ。`doc` は、プロパティの docstring である。\n",
        "\n",
        "`c` がプロパティ `x` を持つクラスのインスタンスならば\n",
        "\n",
        "  * `c.x` は `fget()` を呼び出す。`fget()` はふつう属性値を返し、**ゲッター**（getter）と呼ばれる。\n",
        "  * `c.x = value` は `fset(value)` を呼び出す。`fset()` はふつう属性値を設定し、**セッター**（setter）と呼ばれる。\n",
        "  * `del c.x` は `fdel()` を呼び出す。`fdel()` はふつう属性を削除し、**デリーター**（deleter）と呼ばれる。\n",
        "\n",
        "属性アクセスについて、データディスクリプターがインスタンスの属性辞書より優先されるので、プロパティが定義されるときには、`c.x = value` は、つねに、プロパティへのアクセスとされる。"
      ],
      "metadata": {
        "id": "fuboySj86_yS"
      }
    },
    {
      "cell_type": "code",
      "source": [
        "class C:\n",
        "    def __init__(self):\n",
        "        self.__x = None  # プロパティの属性値（サブクラスで使用しないために難号化）\n",
        "\n",
        "    def getx(self):\n",
        "        return self.__x\n",
        "\n",
        "    def setx(self, value):\n",
        "        print(\"in setx\")\n",
        "        self.__x = value\n",
        "\n",
        "    def delx(self):\n",
        "        print(\"in delx\")\n",
        "        del self.__x\n",
        "\n",
        "    x = property(getx, setx, delx, \"I'm the 'x' property.\")\n",
        "\n",
        "c = C()\n",
        "assert c.x is None\n",
        "c.x = \"hoge\"\n",
        "del c.x"
      ],
      "metadata": {
        "colab": {
          "base_uri": "https://localhost:8080/"
        },
        "id": "Dm1Euxjn7Aqq",
        "outputId": "d84d34a0-fab3-4b42-9162-6a3b69dda4fa"
      },
      "execution_count": null,
      "outputs": [
        {
          "output_type": "stream",
          "name": "stdout",
          "text": [
            "in setx\n",
            "in delx\n"
          ]
        }
      ]
    },
    {
      "cell_type": "markdown",
      "source": [
        "プロパティは、属性値を取得・設定・削除する際に何らかの処理をしたいときに便利である。たとえば、属性値に特定の型を要求するとき、`fset()` の中で引数 `value` の型をチェックすることができる。また、`fset` と `fdel` を設定しないとき、プロパティは読み取り専用となる。\n",
        "\n",
        "クラス `property` の実装において、データディスクリプタープロトコルのメソッド以外のメソッドも定義されている。これを Python による疑似コードで表すと、次のようになる。\n",
        "\n",
        "``` python\n",
        "class Property:\n",
        "    \"Emulate PyProperty_Type() in Objects/descrobject.c\"\n",
        "\n",
        "    def __init__(self, fget=None, fset=None, fdel=None, doc=None):\n",
        "        self.fget = fget\n",
        "        self.fset = fset\n",
        "        self.fdel = fdel\n",
        "        if doc is None and fget is not None:\n",
        "            doc = fget.__doc__\n",
        "        self.__doc__ = doc\n",
        "        self._name = ''\n",
        "\n",
        "    def __set_name__(self, owner, name):\n",
        "        self._name = name\n",
        "\n",
        "    def __get__(self, obj, objtype=None):\n",
        "        if obj is None:\n",
        "            return self\n",
        "        if self.fget is None:\n",
        "            raise AttributeError(f\"property '{self._name}' has no getter\")\n",
        "        return self.fget(obj)\n",
        "\n",
        "    def __set__(self, obj, value):\n",
        "        if self.fset is None:\n",
        "            raise AttributeError(f\"property '{self._name}' has no setter\")\n",
        "        self.fset(obj, value)\n",
        "\n",
        "    def __delete__(self, obj):\n",
        "        if self.fdel is None:\n",
        "            raise AttributeError(f\"property '{self._name}' has no deleter\")\n",
        "        self.fdel(obj)\n",
        "\n",
        "    def getter(self, fget):\n",
        "        prop = type(self)(fget, self.fset, self.fdel, self.__doc__)\n",
        "        prop._name = self._name\n",
        "        return prop\n",
        "\n",
        "    def setter(self, fset):\n",
        "        prop = type(self)(self.fget, fset, self.fdel, self.__doc__)\n",
        "        prop._name = self._name\n",
        "        return prop\n",
        "\n",
        "    def deleter(self, fdel):\n",
        "        prop = type(self)(self.fget, self.fset, fdel, self.__doc__)\n",
        "        prop._name = self._name\n",
        "        return prop\n",
        "```\n",
        "\n",
        "`getter()`、`setter()`、`deleter()` はデコレーターであり、それぞれ独立にデータディスクリプターを生成する。それぞれがプロパティを束縛するときに、自動的に `__set_name__()` が共通のプロパティの名前を `self._name` に格納し、その値が各ディスクリプターの属性 `_name` に設定される（`AttributeError` 処理時のメッセージに利用される）。`property()` も第1引数の `fget` に関してデコレーターとなっているから、`getter()` と同等の働きをする。したがって、@ 構文を使って、次のようにプロパティを定義することができる。"
      ],
      "metadata": {
        "id": "FLfAsfzAm5NI"
      }
    },
    {
      "cell_type": "code",
      "source": [
        "class C:\n",
        "    def __init__(self):\n",
        "        self.__x = None\n",
        "\n",
        "    @property\n",
        "    def x(self):\n",
        "        \"\"\"I'm the 'x' property.\"\"\"\n",
        "        return self.__x\n",
        "\n",
        "    @x.setter\n",
        "    def x(self, value):\n",
        "        self.__x = value\n",
        "\n",
        "    @x.deleter\n",
        "    def x(self):\n",
        "        del self.__x"
      ],
      "metadata": {
        "id": "dS4a1ZwC4W94"
      },
      "execution_count": null,
      "outputs": []
    },
    {
      "cell_type": "markdown",
      "source": [
        "&#x5f;&#x5f;slots&#x5f;&#x5f;\n",
        "---------"
      ],
      "metadata": {
        "id": "N65ysM7W7Xbb"
      }
    },
    {
      "cell_type": "markdown",
      "source": [
        "クラス変数 `__slots__` に、インスタンスが用いる変数名の文字列、またはタプルかリストを代入すると、各インスタンスに対して宣言された変数に必要な記憶領域を確保し、`__dict__` と `__weakref__` が自動的に生成されなくなる。`__dict__` を使うのに比べて、メモリ消費量を節約でき、また、属性探索を高速化できる。反面、`__slots__` に列挙されていない新たな変数をインスタンスに追加することはできない。\n",
        "\n",
        "次のコードは、`sys.getsizeof()` 関数を使用して、`__slots__` を使用するクラスオブジェクトと使用しないクラスオブジェクトのメモリ消費量を比較する例である。"
      ],
      "metadata": {
        "id": "RqcxLsc8_mR9"
      }
    },
    {
      "cell_type": "code",
      "source": [
        "class C:\n",
        "    __slots__ = [\"x\", \"y\"]\n",
        "\n",
        "    def __init__(self, x):\n",
        "        self.x = x\n",
        "\n",
        "c = C(1)\n",
        "assert not hasattr(c, \"__dict__\")  # __dict__ 属性を持たない\n",
        "c.y = 2  # `__slots__` に列挙される名前は、インスタンスに属性として追加できる\n",
        "try:\n",
        "    c.name = \"hoge\"\n",
        "except AttributeError:\n",
        "    print(\"クラス変数 __slots__ に列挙されていない新たな名前の属性を追加することはできない\")\n",
        "\n",
        "# 普通のクラスとメモリ消費量を比較する\n",
        "class D:\n",
        "    def __init__(self, x):\n",
        "        self.x = x\n",
        "\n",
        "import sys\n",
        "print(f\"{sys.getsizeof(C)=}\")\n",
        "print(f\"{sys.getsizeof(D)=}\")"
      ],
      "metadata": {
        "colab": {
          "base_uri": "https://localhost:8080/"
        },
        "id": "7mcW_G2hFQZ5",
        "outputId": "63b9f257-d922-4a73-ca5e-7353e65adf0e"
      },
      "execution_count": null,
      "outputs": [
        {
          "output_type": "stream",
          "name": "stdout",
          "text": [
            "クラス変数 __slots__ に列挙されていない新たな名前の属性を追加することはできない\n",
            "sys.getsizeof(C)=904\n",
            "sys.getsizeof(D)=1072\n"
          ]
        }
      ]
    },
    {
      "cell_type": "markdown",
      "source": [
        "`__slots__` は、クラスのレベルで各変数に対するディスクリプターを使って実装されている。[公式ドキュメント](https://docs.python.org/ja/3/howto/descriptor.html#member-objects-and-slots)には、これを Python による疑似コードで表す例が掲載されている。"
      ],
      "metadata": {
        "id": "tBdOcA7KQ5HQ"
      }
    },
    {
      "cell_type": "markdown",
      "source": [
        "型変換を行うディスクリプター\n",
        "----------------------------"
      ],
      "metadata": {
        "id": "c5xArxBfcC__"
      }
    },
    {
      "cell_type": "markdown",
      "source": [
        "@tag1216 さんの [Qiita 記事](https://qiita.com/tag1216/items/5143057f2e6fe1db5abf)より、値を設定する際に指定の型に変換する非データディスクリプター `TypedField` が次のように実装される。"
      ],
      "metadata": {
        "id": "xbhG0XxbA6rb"
      }
    },
    {
      "cell_type": "code",
      "source": [
        "class TypedField:\n",
        "\n",
        "    def __init__(self, field_type):\n",
        "        self.field_type = field_type\n",
        "\n",
        "    def __set_name__(self, owner, name):\n",
        "        self._name = name\n",
        "\n",
        "    def __set__(self, obj, value):\n",
        "        if not isinstance(value, self.field_type):\n",
        "            value = self.field_type(value)\n",
        "        obj.__dict__[self._name] = value\n",
        "\n",
        "\n",
        "class MyClass:\n",
        "    str_value = TypedField(str)\n",
        "    int_value = TypedField(int)\n",
        "\n",
        "\n",
        "if __name__ == \"__main__\":\n",
        "    m = MyClass()\n",
        "    m.str_value = 123\n",
        "    m.int_value = \"123\"\n",
        "    assert isinstance(m.str_value, str)\n",
        "    assert isinstance(m.int_value, int)"
      ],
      "metadata": {
        "id": "m0QElyLGA7oc"
      },
      "execution_count": null,
      "outputs": []
    },
    {
      "cell_type": "markdown",
      "source": [
        "非データディスクリプターの優先順位がインスタンスの属性辞書より低いので、`__get__()` を実装する必要はないことに注意する（属性辞書によりアクセスされる属性の値が取得される）。なお、当然だが、型変換ができないときには `ValueError ` が発生する。\n",
        "\n",
        "プロパティを使って等価なコードを書こうとすると、属性ごとにゲッターとセッターを実装しなければならない。"
      ],
      "metadata": {
        "id": "DblS2GrEJj9r"
      }
    },
    {
      "cell_type": "code",
      "source": [
        "def convert(value, value_type):\n",
        "    if not isinstance(value, value_type):\n",
        "        value = value_type(value)\n",
        "    return value\n",
        "\n",
        "\n",
        "class MyClass:\n",
        "\n",
        "    @property\n",
        "    def str_value(self):\n",
        "        return self.__dict__['str_value']\n",
        "\n",
        "    @str_value.setter\n",
        "    def str_value(self, value):\n",
        "        value = convert(value, int)\n",
        "        self.__dict__['str_value'] = value\n",
        "\n",
        "    @property\n",
        "    def int_value(self):\n",
        "        return self.__dict__['int_value']\n",
        "\n",
        "    @int_value.setter\n",
        "    def int_value(self, value):\n",
        "        value = convert(value, int)\n",
        "        self.__dict__['int_value'] = value"
      ],
      "metadata": {
        "id": "gIanHozIJxaA"
      },
      "execution_count": null,
      "outputs": []
    },
    {
      "cell_type": "markdown",
      "source": [
        "部分適用\n",
        "--------"
      ],
      "metadata": {
        "id": "FZrvnYWTFYR1"
      }
    },
    {
      "cell_type": "markdown",
      "source": [
        "**部分適用**（partial application）とは、複数の引数をとる関数の一部の引数に実引数を適用させた形の関数を作成することをいう。部分適用により作成された関数を、元の関数の**部分適用関数**と呼ぶ。\n",
        "\n",
        "たとえば、`functools` モジュールの関数 `update_wrapper(wrapper, wrapped)` を考えると、第 2 引数に具体的な wrapped 関数 `mywrapped()` を与えた形 `update_wrapper(wrapper, mywrapped)` と等価な関数が作成されれば、その新しい関数は `wrapper` を引数に取る関数ということになる。実は、その関数こそ `functools.wraps()` デコレーターが作成する関数である。\n",
        "\n",
        "`functools` モジュールが提供する `partial` オブジェクトは、部分適用関数のように振る舞う。`wraps(wrapped)` は、`partial(update_wrapper, wrapped=wrapped)` とほぼ等価である。\n",
        "\n",
        "`functools.partial` のコンストラクタは次のとおり。\n",
        "\n",
        "``` python\n",
        "functools.partial(func, /, *args, **keywords)\n",
        "```\n",
        "\n",
        "第 1 引数 `func` として呼び出し可能オブジェクトを受け取り、第 2 引数以下に、`func` の引数に適用する実引数を受け取る。このインスタンス化は、もとの関数の位置引数・キーワード引数の一部を「凍結」した部分適用として使われ、簡素化された引数形式を持った新たな呼び出し可能オブジェクトを生成する。**位置引数は左から適用される**ことに注意する。"
      ],
      "metadata": {
        "id": "0T1IkShSFZDE"
      }
    },
    {
      "cell_type": "code",
      "source": [
        "from functools import partial\n",
        "\n",
        "def point(x, y, scale=1.0):\n",
        "    return x * scale, y * scale\n",
        "\n",
        "# point の引数 x を 0.0 に固定し、引数 scale を 10.0 に固定した呼び出し可能オブジェクトを作成\n",
        "slide = partial(point, 0.0, scale=10.0)\n",
        "assert slide(1.0) == (0.0, 10.0)\n",
        "assert slide(2.0) == (0.0, 20.0)"
      ],
      "metadata": {
        "id": "YgVX0ahZIDZw"
      },
      "execution_count": null,
      "outputs": []
    },
    {
      "cell_type": "markdown",
      "source": [
        "`functools` モジュールが提供する `partialmethod` オブジェクトは、`functools.partial` オブジェクトと似た動作をする非データディスクリプターである。コンストラクタは次のとおり。\n",
        "\n",
        "``` python\n",
        "functools.partialmethod(func, /, *args, **keywords)\n",
        "```\n",
        "\n",
        "生成される `partialmethod` オブジェクトの `__get__()` メソッドは、もとの `func` と、`args`、`keywords` から `partial` オブジェクトを生成して返す。これにより一部引数を指定したメソッドを定義することができる。"
      ],
      "metadata": {
        "id": "B6qbnYMsWuaJ"
      }
    },
    {
      "cell_type": "code",
      "source": [
        "from functools import partialmethod\n",
        "\n",
        "\n",
        "class Point:\n",
        "    def __init__(self, x, y):\n",
        "        self.x = x\n",
        "        self.y = y\n",
        "\n",
        "    def move(self, incremental, scale):\n",
        "        x = self.x + incremental\n",
        "        y = self.y + incremental\n",
        "        self.x = x * scale\n",
        "        self.y = y * scale\n",
        "\n",
        "    scale = partialmethod(move, 0.0)\n",
        "\n",
        "\n",
        "if __name__ == \"__main__\":\n",
        "    point = Point(2.0, 3.0)\n",
        "    point.scale(10.0)\n",
        "    assert point.x == 20.0\n",
        "    assert point.y == 30.0"
      ],
      "metadata": {
        "id": "PBAWEC-6WvHA"
      },
      "execution_count": null,
      "outputs": []
    }
  ]
}