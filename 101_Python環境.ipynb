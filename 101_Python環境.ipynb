{
  "nbformat": 4,
  "nbformat_minor": 0,
  "metadata": {
    "colab": {
      "provenance": [],
      "authorship_tag": "ABX9TyMpmuDsY6WpgVfIOImk0IhT",
      "include_colab_link": true
    },
    "kernelspec": {
      "name": "python3",
      "display_name": "Python 3"
    },
    "language_info": {
      "name": "python"
    }
  },
  "cells": [
    {
      "cell_type": "markdown",
      "metadata": {
        "id": "view-in-github",
        "colab_type": "text"
      },
      "source": [
        "<a href=\"https://colab.research.google.com/github/suwatoh/Python-learning/blob/main/101_Python%E7%92%B0%E5%A2%83.ipynb\" target=\"_parent\"><img src=\"https://colab.research.google.com/assets/colab-badge.svg\" alt=\"Open In Colab\"/></a>"
      ]
    },
    {
      "cell_type": "markdown",
      "source": [
        "Python環境\n",
        "=========="
      ],
      "metadata": {
        "id": "XXKbttReJUAz"
      }
    },
    {
      "cell_type": "markdown",
      "source": [
        "Windows の Python ランチャー\n",
        "----------------------------"
      ],
      "metadata": {
        "id": "0A7NO7rdQFB1"
      }
    },
    {
      "cell_type": "markdown",
      "source": [
        "公式の Windows 用 Python インストーラーは、異なるバージョンの Python をインストールできる。\n",
        "\n",
        "（デフォルトのインストール先）  \n",
        "`<システムドライブ>:\\Users\\<ユーザー名>\\AppData\\Local\\Programs\\Python\\Python3xx\\`  \n",
        "※ `xx` は Python のメジャーバージョン。たとえば、Python 3.12 なら `Python312` となる。\n",
        "\n",
        "このインストーラーは、デフォルトでは Python のランタイムに PATH を通さない。その代わりに Python ランチャー `py.exe` を同梱し、 Python 本体と同時にインストールする。`py.exe` 自体は Windows のシステムフォルダ（`C:\\Windows` など）にインストールされているので、`PATH` を通す作業は必要ない。\n",
        "\n",
        "Python ランチャーは、インストールされている Python のバージョンやランタイムを指定して実行することができる。たとえば、Python 2.x の最後のバージョンで 32 ビットランタイムを指定するなら、次のように実行する:\n",
        "\n",
        "``` shell\n",
        "py -2-32\n",
        "```\n",
        "\n",
        "バージョンやランタイムの指定はオプションであり、デフォルトでは、インストールされている最新のバージョンでアーキテクチャネイティブのランタイムが選択される。\n",
        "\n",
        "`py -X.Y` のように Python のマイナーバージョンを指定することもできる。`-V:TAG` オプションも `TAG` で指定された Python ランタイムを実行するものであり、`py -V:X.Y` は `py -X.Y` と同じである。\n",
        "\n",
        "`-0` または `--list` オプションは、利用可能な Python のリストを表示する:\n",
        "\n",
        "``` powershell\n",
        "PS > py --list\n",
        " -V:3.12 *        Python 3.12 (64-bit)\n",
        " -V:3.11          Python 3.11 (64-bit)\n",
        " -V:3.8           Python 3.8 (64-bit)\n",
        "```\n",
        "\n",
        "`-0p` または `--list-paths` オプションは、パス付きのリストを表示する:\n",
        "\n",
        "``` powershell\n",
        "PS > py --list-paths\n",
        " -V:3.12 *        C:\\Users\\John\\AppData\\Local\\Programs\\Python\\Python312\\python.exe\n",
        " -V:3.11          C:\\Users\\John\\AppData\\Local\\Programs\\Python\\Python311\\python.exe\n",
        " -V:3.8           C:\\Users\\John\\AppData\\Local\\Programs\\Python\\Python38\\python.exe\n",
        "```\n",
        "\n",
        "リストに表示される `*` はデフォルトで選択される Python ランタイムである。\n",
        "\n",
        "次のいずれか 1 つを設定すると、デフォルトで選択される Python バージョンを変更できる。\n",
        "\n",
        "  1. 実行するスクリプトの1行目をシェバン（shebang）行として `#! /usr/bin/python3.11` のように書く。\n",
        "  2. 環境変数 `PY_PYTHON` にバージョンを指定する: （一時的）`$env:PY_PYTHON=3.11` （永続化）`setx PY_PYTHON 3.11`\n",
        "  3. `$env:LocalAppData` ディレクトリに `py.ini` を作成し、次のように書いて保存する:\n",
        "\n",
        "``` ini\n",
        "[defaults]\n",
        "python=3.11\n",
        "```\n",
        "\n",
        "2 の方法か 3 の方法を取ると、`py --list` や `--list-paths` の実行結果に現れる `*` の位置が変わる。\n",
        "\n",
        "Python ランチャーに上記以外の引数やオプションを渡すと、それらは Python ランタイムに渡される。"
      ],
      "metadata": {
        "id": "wiAe3_0gQIKB"
      }
    },
    {
      "cell_type": "markdown",
      "source": [
        "Google Colaboratory\n",
        "-------------------"
      ],
      "metadata": {
        "id": "Bb5P4KT7pXQc"
      }
    },
    {
      "cell_type": "markdown",
      "source": [
        "Google Colaboratory（通称 Colab）は、Web ブラウザ上でプログラミング言語を対話的に実行できるクラウドサービスであり、[Project Jupyter](https://jupyter.org/) の製品、すなわち\n",
        "\n",
        "  * **IPython**: Python の拡張された対話型シェル。Python インタプリターの対話モードより強力な入力補完機能を備えている。\n",
        "  * **Jupyter Notebook**: かつて IPython に含まれていた Web ブラウザ上で動作する機能を他のプログラミング言語の実行環境もサポートするように拡張したもの。Python の実行環境は IPython によってサポートしている。\n",
        "  * **JupyterLab**: Jupyter Notebook の改良版。\n",
        "\n",
        "を基盤としている。Jupyter Notebook / JupyterLab はウェブアプリケーションであるため、動作にはサーバーが必要である。 [Anaconda](https://www.anaconda.com/) ディストリビューションをインストールすると、ローカルマシン上で JupyterLab が動作する環境を構築できる。\n",
        "\n",
        "Colab は Jupyter Notebook をホストするクラウドサービスであり、ローカルマシン上での環境構築作業が不要で、Google アカウントを持っていれば直ちに利用することができる。\n",
        "\n",
        "Colab（や JupyterLab）は、**ノートブック**と呼ばれる単位で実行環境を管理する。ノートブックは**セル**で構成される。セルは 2 種類あって、1 つは**コードセル**で、もう 1 つは**テキストセル**と呼ばれる。次のショートカットでセルの種類を変更することができる。\n",
        "\n",
        "| ショートカット<br />(Windows/macOS) | 内容 |\n",
        "|:---|:---|\n",
        "| <kbd>Ctrl/cmd + M M</kbd> | コードセル → テキストセル |\n",
        "| <kbd>Ctrl/cmd + M Y</kbd> | テキストセル → コードセル |\n",
        "\n",
        "コードセルでは、<kbd>Ctrl/Cmd + Enter</kbd> ショートカットでコードを実行する。テキストセルでは、<kbd>Enter</kbd> ショートカットで編集モードになる。\n",
        "\n",
        "コードセルでは、`%` で始まる特別なコマンドが利用できる。これらは**マジックコマンド**と呼ばれる。マジックコマンドは 2 種類ある:\n",
        "\n",
        "  * **ラインマジック**: コマンドの先頭に `%` が 1 つ付く。適用対象が同一行のみとなる。\n",
        "  * **セルマジック**: コマンドの先頭に `%%` が付く。適用対象が同一セル全体となる。\n",
        "\n",
        "``` shell\n",
        "%timeit -n <number> -r <repeat> <code>\n",
        "```\n",
        "\n",
        "このマジックコマンドは、1 行の `<code>` を `<number>` 回実行したときの全実行時間を、`<repeat>` 回計測し、平均と標準偏差を出力する。`-n` 引数と、 `-r` 引数は省略可能。\n",
        "\n",
        "``` shell\n",
        "%%timeit -n <number> -r <repeat>\n",
        "```\n",
        "\n",
        "このマジックコマンドは、セルの最初の行に書くと、セルのコードを `<number>` 回実行したときの全実行時間を、`<repeat>` 回計測し、平均と標準偏差を出力する。`-n` 引数や `-r` 引数は省略可能。\n",
        "\n",
        "以下の 3 つのコードセルでは、初期化されたリストをそれぞれリスト内包表記、`append()` メソッド、`*` 演算子による反復で生成し、その実行時間を計測している。`*` 演算子による反復が最も早く、[リストの内包表記](https://docs.python.org/ja/3/tutorial/datastructures.html#list-comprehensions)は `append()` メソッドより約 2 倍速いことがわかる。"
      ],
      "metadata": {
        "id": "cNEkOd_6pYjH"
      }
    },
    {
      "cell_type": "code",
      "source": [
        "%timeit a = [0 for i in range(100000)]"
      ],
      "metadata": {
        "colab": {
          "base_uri": "https://localhost:8080/"
        },
        "id": "4O5BNdRcmvxH",
        "outputId": "54ef4bfc-b407-4c93-a718-1fb8be545fbe"
      },
      "execution_count": null,
      "outputs": [
        {
          "output_type": "stream",
          "name": "stdout",
          "text": [
            "5.17 ms ± 1.52 ms per loop (mean ± std. dev. of 7 runs, 100 loops each)\n"
          ]
        }
      ]
    },
    {
      "cell_type": "code",
      "source": [
        "%%timeit\n",
        "a = []\n",
        "for i in range(100000):\n",
        "    a.append(0)"
      ],
      "metadata": {
        "colab": {
          "base_uri": "https://localhost:8080/"
        },
        "id": "YK976kP0nZ73",
        "outputId": "4aca2d52-4eaa-4a84-c8c5-b2dd1582eaf6"
      },
      "execution_count": null,
      "outputs": [
        {
          "output_type": "stream",
          "name": "stdout",
          "text": [
            "8.38 ms ± 2.32 ms per loop (mean ± std. dev. of 7 runs, 100 loops each)\n"
          ]
        }
      ]
    },
    {
      "cell_type": "code",
      "source": [
        "%timeit a = [0] * 100000"
      ],
      "metadata": {
        "colab": {
          "base_uri": "https://localhost:8080/"
        },
        "id": "PpuEHBm2np1-",
        "outputId": "404f4761-2bf4-4580-f1ad-264f1fe6af35"
      },
      "execution_count": null,
      "outputs": [
        {
          "output_type": "stream",
          "name": "stdout",
          "text": [
            "237 µs ± 4.57 µs per loop (mean ± std. dev. of 7 runs, 1000 loops each)\n"
          ]
        }
      ]
    },
    {
      "cell_type": "markdown",
      "source": [
        "``` shell\n",
        "%%!\n",
        "```\n",
        "\n",
        "このマジックコマンドは、セルの最初の行に書くと、シェルコマンドの実行を可能にする。"
      ],
      "metadata": {
        "id": "klCGVzZppvZ2"
      }
    },
    {
      "cell_type": "code",
      "source": [
        "%%!\n",
        "python -V"
      ],
      "metadata": {
        "colab": {
          "base_uri": "https://localhost:8080/"
        },
        "id": "1BbM7VWJllC7",
        "outputId": "1dc98afc-3641-4e11-ce63-dbc2cad3fcc4"
      },
      "execution_count": null,
      "outputs": [
        {
          "output_type": "execute_result",
          "data": {
            "text/plain": [
              "['Python 3.10.12']"
            ]
          },
          "metadata": {},
          "execution_count": 19
        }
      ]
    },
    {
      "cell_type": "markdown",
      "source": [
        "``` shell\n",
        "%lsmagic\n",
        "```\n",
        "\n",
        "このマジックコマンドは、利用可能なマジックコマンドの一覧を表示する。"
      ],
      "metadata": {
        "id": "6L8RGgXqqCli"
      }
    },
    {
      "cell_type": "code",
      "source": [
        "%lsmagic"
      ],
      "metadata": {
        "colab": {
          "base_uri": "https://localhost:8080/",
          "height": 243
        },
        "id": "U0f_SCsbzUU2",
        "outputId": "4731e385-ff0c-434f-b095-67148cccb703"
      },
      "execution_count": null,
      "outputs": [
        {
          "output_type": "execute_result",
          "data": {
            "text/plain": [
              "Available line magics:\n",
              "%alias  %alias_magic  %autoawait  %autocall  %automagic  %autosave  %bookmark  %cat  %cd  %clear  %colors  %conda  %config  %connect_info  %cp  %debug  %dhist  %dirs  %doctest_mode  %ed  %edit  %env  %gui  %hist  %history  %killbgscripts  %ldir  %less  %lf  %lk  %ll  %load  %load_ext  %loadpy  %logoff  %logon  %logstart  %logstate  %logstop  %ls  %lsmagic  %lx  %macro  %magic  %man  %matplotlib  %mkdir  %more  %mv  %notebook  %page  %pastebin  %pdb  %pdef  %pdoc  %pfile  %pinfo  %pinfo2  %pip  %popd  %pprint  %precision  %prun  %psearch  %psource  %pushd  %pwd  %pycat  %pylab  %qtconsole  %quickref  %recall  %rehashx  %reload_ext  %rep  %rerun  %reset  %reset_selective  %rm  %rmdir  %run  %save  %sc  %set_env  %shell  %store  %sx  %system  %tb  %tensorflow_version  %time  %timeit  %unalias  %unload_ext  %who  %who_ls  %whos  %xdel  %xmode\n",
              "\n",
              "Available cell magics:\n",
              "%%!  %%HTML  %%SVG  %%bash  %%bigquery  %%capture  %%debug  %%file  %%html  %%javascript  %%js  %%latex  %%markdown  %%perl  %%prun  %%pypy  %%python  %%python2  %%python3  %%ruby  %%script  %%sh  %%shell  %%svg  %%sx  %%system  %%time  %%timeit  %%writefile\n",
              "\n",
              "Automagic is ON, % prefix IS NOT needed for line magics."
            ],
            "application/json": {
              "line": {
                "automagic": "AutoMagics",
                "autocall": "AutoMagics",
                "alias_magic": "BasicMagics",
                "lsmagic": "BasicMagics",
                "magic": "BasicMagics",
                "page": "BasicMagics",
                "pprint": "BasicMagics",
                "colors": "BasicMagics",
                "xmode": "BasicMagics",
                "quickref": "BasicMagics",
                "doctest_mode": "BasicMagics",
                "gui": "BasicMagics",
                "precision": "BasicMagics",
                "notebook": "BasicMagics",
                "save": "CodeMagics",
                "pastebin": "CodeMagics",
                "loadpy": "CodeMagics",
                "load": "CodeMagics",
                "edit": "KernelMagics",
                "config": "ConfigMagics",
                "prun": "ExecutionMagics",
                "pdb": "ExecutionMagics",
                "debug": "ExecutionMagics",
                "tb": "ExecutionMagics",
                "run": "ExecutionMagics",
                "timeit": "ExecutionMagics",
                "time": "ExecutionMagics",
                "macro": "ExecutionMagics",
                "load_ext": "ExtensionMagics",
                "unload_ext": "ExtensionMagics",
                "reload_ext": "ExtensionMagics",
                "history": "HistoryMagics",
                "recall": "HistoryMagics",
                "rerun": "HistoryMagics",
                "logstart": "LoggingMagics",
                "logstop": "LoggingMagics",
                "logoff": "LoggingMagics",
                "logon": "LoggingMagics",
                "logstate": "LoggingMagics",
                "pinfo": "NamespaceMagics",
                "pinfo2": "NamespaceMagics",
                "pdef": "NamespaceMagics",
                "pdoc": "NamespaceMagics",
                "psource": "NamespaceMagics",
                "pfile": "NamespaceMagics",
                "psearch": "NamespaceMagics",
                "who_ls": "NamespaceMagics",
                "who": "NamespaceMagics",
                "whos": "NamespaceMagics",
                "reset": "NamespaceMagics",
                "reset_selective": "NamespaceMagics",
                "xdel": "NamespaceMagics",
                "alias": "OSMagics",
                "unalias": "OSMagics",
                "rehashx": "OSMagics",
                "pwd": "OSMagics",
                "cd": "OSMagics",
                "env": "OSMagics",
                "set_env": "OSMagics",
                "pushd": "OSMagics",
                "popd": "OSMagics",
                "dirs": "OSMagics",
                "dhist": "OSMagics",
                "sc": "OSMagics",
                "sx": "OSMagics",
                "system": "OSMagics",
                "bookmark": "OSMagics",
                "pycat": "OSMagics",
                "pip": "Other",
                "conda": "PackagingMagics",
                "matplotlib": "PylabMagics",
                "pylab": "PylabMagics",
                "killbgscripts": "ScriptMagics",
                "autoawait": "AsyncMagics",
                "ed": "Other",
                "hist": "Other",
                "rep": "Other",
                "clear": "KernelMagics",
                "less": "KernelMagics",
                "more": "KernelMagics",
                "man": "KernelMagics",
                "connect_info": "KernelMagics",
                "qtconsole": "KernelMagics",
                "autosave": "KernelMagics",
                "mkdir": "Other",
                "rmdir": "Other",
                "mv": "Other",
                "rm": "Other",
                "cp": "Other",
                "cat": "Other",
                "ls": "Other",
                "ll": "Other",
                "lf": "Other",
                "lk": "Other",
                "ldir": "Other",
                "lx": "Other",
                "store": "StoreMagics",
                "shell": "Other",
                "tensorflow_version": "Other"
              },
              "cell": {
                "js": "DisplayMagics",
                "javascript": "DisplayMagics",
                "latex": "DisplayMagics",
                "svg": "DisplayMagics",
                "html": "DisplayMagics",
                "markdown": "DisplayMagics",
                "prun": "ExecutionMagics",
                "debug": "ExecutionMagics",
                "timeit": "ExecutionMagics",
                "time": "ExecutionMagics",
                "capture": "ExecutionMagics",
                "sx": "OSMagics",
                "system": "OSMagics",
                "!": "OSMagics",
                "writefile": "OSMagics",
                "script": "ScriptMagics",
                "sh": "Other",
                "bash": "Other",
                "perl": "Other",
                "ruby": "Other",
                "python": "Other",
                "python2": "Other",
                "python3": "Other",
                "pypy": "Other",
                "SVG": "Other",
                "HTML": "Other",
                "file": "Other",
                "bigquery": "Other",
                "shell": "Other"
              }
            }
          },
          "metadata": {},
          "execution_count": 2
        }
      ]
    },
    {
      "cell_type": "markdown",
      "source": [
        "マジックコマンドの末尾に `?` を追加して実行すると、そのコマンドの docstring が表示され、末尾に `??` を追加すると、そのコマンドのソースコードが表示される。"
      ],
      "metadata": {
        "id": "oGNgyxqLiUFE"
      }
    },
    {
      "cell_type": "code",
      "source": [
        "%pwd?"
      ],
      "metadata": {
        "id": "NqUQWGNVihN5"
      },
      "execution_count": null,
      "outputs": []
    },
    {
      "cell_type": "markdown",
      "source": [
        "パッケージ管理\n",
        "--------------"
      ],
      "metadata": {
        "id": "wsem-BM8oxaV"
      }
    },
    {
      "cell_type": "markdown",
      "source": [
        "システム上の Python インストールに標準ライブラリ以外のパッケージを追加するには、システムにインストールされたパッケージ管理システム pip を使用する。\n",
        "\n",
        "公式の Windows 用 Python インストーラーは、システムに pip もインストールするが、デフォルトでは実行ファイル `pip.exe` に PATH を通さない。この場合、システムにある pip を利用するには以下のいずれかの方法による。\n",
        "\n",
        "  1. `${env:LOCALAPPDATA}\\Programs\\Python\\(Pythonバージョン)\\Scripts` を PATH に加える。\n",
        "  2. `pip.exe` を使うのではなく `py -m pip <command> [options]` の形で実行する。\n",
        "\n",
        "2 の方法による場合は、`pip <command> [options]` の形の記述は `py -m pip <command> [options]` の形に読み替えること。\n",
        "\n",
        "以下に `pip` の主要なコマンドを整理する。"
      ],
      "metadata": {
        "id": "Ds3-rlIcs9FV"
      }
    },
    {
      "cell_type": "markdown",
      "source": [
        "### list コマンド ###"
      ],
      "metadata": {
        "id": "rJuobkE4pK_I"
      }
    },
    {
      "cell_type": "markdown",
      "source": [
        "``` python\n",
        "pip list [options]\n",
        "```\n",
        "\n",
        "`list` コマンドは、インストールされているパッケージを一覧表示する。パッケージは、大文字と小文字を区別せずにアルファベット順で並べられる。\n",
        "\n",
        "``` shell\n",
        "pip list\n",
        "\n",
        "Package      Version\n",
        "------------ -------\n",
        "blinker      1.7.0\n",
        "click        8.1.7\n",
        "colorama     0.4.6\n",
        "Flask        2.3.3\n",
        "itsdangerous 2.1.2\n",
        "Jinja2       3.1.2\n",
        "MarkupSafe   2.1.3\n",
        "pip          23.3.2\n",
        "setuptools   69.0.3\n",
        "Werkzeug     3.0.1\n",
        "```\n",
        "\n",
        "上の実行結果は、`pip` と `setuptools` 以外は、`Flask` とその依存パッケージがインストールされた状態を示している。依存関係は表示されないことがわかる。\n",
        "\n",
        "主なオプションは次のとおり:\n",
        "\n",
        "| オプション | 意味 |\n",
        "|:---|:---|\n",
        "| `-o`, `--outdated` | 最新版のパッケージが存在するもののみを出力する |\n",
        "| `--not-required` | ほかのパッケージから依存されていないパッケージのみを出力する |\n",
        "\n",
        "``` shell\n",
        "pip list -o\n",
        "\n",
        "Package Version Latest Type\n",
        "------- ------- ------ -----\n",
        "Flask   2.3.3   3.0.0  wheel\n",
        "```\n",
        "\n",
        "``` shell\n",
        "pip list --not-required\n",
        "\n",
        "Package    Version\n",
        "---------- -------\n",
        "Flask      2.3.3\n",
        "pip        23.3.2\n",
        "setuptools 69.0.3\n",
        "```"
      ],
      "metadata": {
        "id": "N5jET4eDozLT"
      }
    },
    {
      "cell_type": "markdown",
      "source": [
        "### freeze コマンド ###"
      ],
      "metadata": {
        "id": "RJz9_Dputt2d"
      }
    },
    {
      "cell_type": "markdown",
      "source": [
        "``` shell\n",
        "pip freeze [options]\n",
        "```\n",
        "\n",
        "`freeze` コマンドは、インストールされているパッケージを **requirements 書式**と呼ばれる形式で一覧表示する。\n",
        "\n",
        "``` shell\n",
        "pip freeze\n",
        "\n",
        "blinker==1.7.0\n",
        "click==8.1.7\n",
        "colorama==0.4.6\n",
        "Flask==2.3.3\n",
        "itsdangerous==2.1.2\n",
        "Jinja2==3.1.2\n",
        "MarkupSafe==2.1.3\n",
        "Werkzeug==3.0.1\n",
        "```\n",
        "\n",
        "`freeze` コマンドの実行結果には、`pip` と `setuptools` は表示されない。\n",
        "\n",
        "`freeze` コマンドのオプションは省略。\n",
        "\n",
        "`freeze` コマンドは、リダイレクトにより requirements 書式を作成するために使われる。requirements 書式のファイルの名前は、`requirements.txt` とするのが慣例となっている。\n",
        "\n",
        "``` shell\n",
        "pip freeze > requirements.txt\n",
        "```"
      ],
      "metadata": {
        "id": "2lVcb7d6tuy8"
      }
    },
    {
      "cell_type": "markdown",
      "source": [
        "### show コマンド ###"
      ],
      "metadata": {
        "id": "coOFzgXByfWj"
      }
    },
    {
      "cell_type": "markdown",
      "source": [
        "``` shell\n",
        "pip show [options] <package> ...\n",
        "```\n",
        "\n",
        "`show` コマンドは、パッケージの詳細を表示する。\n",
        "\n",
        "``` shell\n",
        "pip show Flask\n",
        "\n",
        "Name: Flask\n",
        "Version: 2.3.3\n",
        "Summary: A simple framework for building complex web applications.\n",
        "Home-page:\n",
        "Author:\n",
        "Author-email:\n",
        "License:\n",
        "Location: C:\\myproject\\.venv\\Lib\\site-packages\n",
        "Requires: blinker, click, itsdangerous, Jinja2, Werkzeug\n",
        "Required-by:\n",
        "```\n",
        "\n",
        "`Requires` と `Required-by` によって依存関係を確認できる。このように、`pip` では、パッケージの依存関係は個別に `show` コマンドを使って確認することになる。\n",
        "\n",
        "`show` コマンドのオプションは省略。"
      ],
      "metadata": {
        "id": "jLbtsuUXyf6R"
      }
    },
    {
      "cell_type": "markdown",
      "source": [
        "### install コマンド ###"
      ],
      "metadata": {
        "id": "D0Gev5RGy6BZ"
      }
    },
    {
      "cell_type": "markdown",
      "source": [
        "``` shell\n",
        "pip install [options] <package> ...\n",
        "```\n",
        "\n",
        "`install` コマンドは、指定した配布パッケージと、その依存パッケージの配布物を、[Python Package Index](https://pypi.org/) （略称 PyPI）からダウンロードしてインストールする。PyPI は、Python の開発元である Python Software Foundation（PSF）が運営する、Pythonパッケージの配布サービスである\n",
        "\n",
        "``` shell\n",
        "pip install [options] <archive url/path>\n",
        "```\n",
        "\n",
        "配布パッケージを指定する代わりに直接、配布物の URL を指定すると、`install` コマンドは配布物をダウンロードしてインストールする。`file:///home/user/archive` のようにローカルに保存した配布物のパスを指定することもできる。\n",
        "\n",
        "``` shell\n",
        "pip install [options] <project> @ git+<repository URL> ...\n",
        "```\n",
        "\n",
        "配布パッケージを指定する代わりに、Github のプロジェクトと git リポジトリ URL を指定すると、`install` コマンドは、その git リポジトリをダウンロードしてインストールする。ただし、システムで `git` コマンドが利用できる必要がある。プロジェクト名と git リポジトリ URL の間に `@` を入れ、git リポジトリ URL の先頭に `git+` 接頭辞を付ける必要がある。\n",
        "\n",
        "``` shell\n",
        "pip install [options] -r <requirements file> ...\n",
        "```\n",
        "\n",
        "`-r`（または `--requirement`）オプション付きの場合、配布パッケージや配布物 URL、git リポジトリ URL などを requirements 書式のファイルにまとめて指定することができる。このオプションは複数回使用できる。\n",
        "\n",
        "``` shell\n",
        "pip install --no-index --find-links <URL/DIR> [options] <package> ...\n",
        "pip install --no-index --find-links <URL/DIR> [options] -r <requirements file> ...\n",
        "```\n",
        "\n",
        "`--no-index` オプション付きの場合、PyPI を一切参照しない。その代わりに、`--find-links`（または `-f`）オプションで指定した URL や ローカルのディレクトリを参照し、そこから指定した配布パッケージと、その依存パッケージをインストールする。`-r`（または `--requirement`）オプションと組み合わせて requirements 書式のファイルを指定することもできる。\n",
        "\n",
        "``` shell\n",
        "pip install [options] <project path>\n",
        "```\n",
        "\n",
        "`install` コマンドは、配布パッケージを指定する代わりに、ローカルのプロジェクトルートのパスを指定することで、ソースコードからパッケージをインストールする。プロジェクトのソースコードがパッケージとしてインストール可能な状態であることが必要。\n",
        "\n",
        "``` shell\n",
        "pip install -e <project path>\n",
        "```\n",
        "\n",
        "`-e`（または `--editable`）オプション付きでローカルのプロジェクトルートのパスを指定した場合、開発中のソースコードからパッケージを**編集可能モード**（editable mode）でインストールする。編集可能モードでインストールされた場合、ソースコードに変更を加えると、再インストールをしなくてもそのまま実行環境に反映される。\n",
        "\n",
        "`install` コマンドの他のオプションは次のとおり:\n",
        "\n",
        "| オプション | 意味 |\n",
        "|:---|:---|\n",
        "| `-c <file>`, `--constraint <file>` | 指定された制約ファイルを使用してバージョンを制約する。このオプションは複数回使用できる |\n",
        "| `-U`, `--upgrade` | 指定されたパッケージを利用可能な最新バージョンにアップグレードする。依存関係の処理は、使用されるアップグレ<br />ード戦略によって異なる |\n",
        "| `--upgrade-strategy <upgrade_strategy>` | アップグレード戦略（＝依存関係のアップグレードをどのように処理するか）を指定する<br /><br />・`eager`: 依存ライブラリも含めて一斉にアップグレードする<br /><br />・`only-if-needed`（デフォルト）: パッケージの依存要件に従って必要な場合にのみ依存ライブラリもアップグレードす<br />　る |\n",
        "| `--only-binary <format_control>` | `--only-binary :all:` と指定した場合、すべてのパッケージについてソースファイルをダウンロードしない。バイナリ<br />配布のないパッケージでは、このオプションを使用するとインストールに失敗する |\n",
        "| `--force-reinstall` | このオプションを指定すると、パッケージはすでにアップデートされていたとしても強制的にインストールされる |\n",
        "| `--no-deps` | 依存パッケージをインストールしない |\n",
        "| `--user` | プラットフォームの Python ユーザーインストールディレクトリにインストールする。通常は `~/.local/`、または<br /> Windows の `$env:LOCALAPPDATA\\Programs\\Python` となる |\n",
        "\n",
        "`install -U` コマンドは、パッケージをアップグレードする。アップグレードにより、ほかのパッケージとの依存関係が解消されることがある。その結果として、どのパッケージとも依存関係がなくなったパッケージがあっても自動的に削除されることはないことに注意する。\n",
        "\n",
        "`install -U` コマンドは、`pip` 自身をアップデートすることもできる:\n",
        "\n",
        "``` shell\n",
        "python -m pip install -U pip\n",
        "```\n",
        "\n",
        "`install --user` コマンドによるインストールは、管理者権限が必要でないディレクトリへのインストールが行われる。管理者権限のないユーザとして `pip` でパッケージ管理をしたい場合には、`install --user` コマンドを使用する必要がある。Python ユーザーインストールディレクトリの場所は、`site.USER_BASE` または `PYTHONUSERBASE` 環境変数を設定することでカスタマイズできる。\n",
        "\n",
        "なお、公式の Windows 用 Python インストーラーは、デフォルトで Python を管理者権限が必要でないディレクトリである `$env:LOCALAPPDATA\\Programs\\Python` 以下にインストールするので、`pip` のコマンドで管理者権限が必要とならない。"
      ],
      "metadata": {
        "id": "-4n_Uaily7Hx"
      }
    },
    {
      "cell_type": "markdown",
      "source": [
        "### download コマンド ###"
      ],
      "metadata": {
        "id": "uQYCaJcz1AXE"
      }
    },
    {
      "cell_type": "markdown",
      "source": [
        "``` shell\n",
        "pip download [options] <package> ...\n",
        "```\n",
        "\n",
        "`download` コマンドは、指定した配布パッケージと、その依存パッケージを PyPI からダウンロードするがインストールはしない。\n",
        "\n",
        "``` shell\n",
        "pip download [options] -r <requirements file>\n",
        "```\n",
        "\n",
        "`-r`（または `--requirement`）オプション付きの場合、requirements 書式のファイルから読み取ったパッケージと、その依存パッケージをダウンロードする。\n",
        "\n",
        "`download` コマンドの主なオプションは次のとおり:\n",
        "\n",
        "| オプション | 意味 |\n",
        "|:---|:---|\n",
        "| `-d <DIR>`, `--dest <DIR>` | ダウンロードしたファイルを保存するフォルダを `<DIR>` に指定する。指定しない場合は、カレントディレクトリに保存する |\n",
        "| `--only-binary <format_control>` | `--only-binary :all:` と指定した場合、すべてのパッケージについてソースファイルをダウンロードしない。バイナリ配布<br />のないパッケージでは、このオプショ<br />ンを使用するとダウンロードに失敗する |\n",
        "| `--platform <platform>` | 指定したプラットフォームと互換性のあるバイナリをダウンロードする。指定しない場合は、実行中のシステムのプラット<br />フォームと互換性のあるバイナリがダウンロードされる |\n",
        "| `--python-version <python_version>` | 指定した Python バージョンと互換性のあるバイナリをダウンロードする。指定するバージョンは `3`, `3.8`, `3.8.3` のように<br />書く。指定しない場合は、現在実行している Python インタープリターのバージョンが使われる |"
      ],
      "metadata": {
        "id": "MbhyImnE1CJU"
      }
    },
    {
      "cell_type": "markdown",
      "source": [
        "### uninstall コマンド ###"
      ],
      "metadata": {
        "id": "T8l1oE3o2Thx"
      }
    },
    {
      "cell_type": "markdown",
      "source": [
        "``` shell\n",
        "pip uninstall [options] <package> ...\n",
        "```\n",
        "\n",
        "`uninstall` コマンドは、指定したパッケージをアンインストールする。パッケージと同時にインストールした依存パッケージはアンインストールされないことに注意する。\n",
        "\n",
        "``` shell\n",
        "pip uninstall [options] -r <requirements file> ...\n",
        "```\n",
        "\n",
        "`-r`（または `--requirement`）オプション付きの場合、requirements 書式のファイルから読み取ったパッケージをアンインストールする。依存パッケージはファイルに書いてあればアンインストールされるが、そうでない場合はアンインストールされないことに注意する。\n",
        "\n",
        "`uninstall` コマンドの主なオプションは次のとおり:\n",
        "\n",
        "| オプション | 意味 |\n",
        "|:---|:---|\n",
        "|`-y`, `--yes` | このオプションを指定すると、アンインストール時の確認を表示しない |\n",
        "\n",
        "`install -U` コマンドや `uninstall` コマンドを実行した結果、どのパッケージとも依存関係がなくなったパッケージは、`list --not-required` コマンドで確認できる。その中のパッケージが不要なら手動でアンインストールする。"
      ],
      "metadata": {
        "id": "Vq6O2I9Q2UW-"
      }
    },
    {
      "cell_type": "markdown",
      "source": [
        "### check コマンド ###"
      ],
      "metadata": {
        "id": "lFid0tWJordt"
      }
    },
    {
      "cell_type": "markdown",
      "source": [
        "``` shell\n",
        "pip check\n",
        "```\n",
        "\n",
        "`check` コマンドは、インストールされたパッケージの依存関係に互換性の問題がないか確認する。\n",
        "\n",
        "互換性の問題がない場合、標準出力に「No broken requirements found.」と表示される。\n",
        "\n",
        "たとえば、インストールされた `numba` が `Numpy` のバージョン 1.21 から 1.25 までに依存しているのに、インストールされた `Numpy` のバージョンが 1.26 である場合、次のように表示される:\n",
        "\n",
        "``` shell\n",
        "numba 0.58.0 has requirement numpy<1.26,>=1.21, but you have numpy 1.26.0.\n",
        "```"
      ],
      "metadata": {
        "id": "rYy0Nlm-ourW"
      }
    },
    {
      "cell_type": "markdown",
      "source": [
        "### バージョン制約 ###"
      ],
      "metadata": {
        "id": "iS2IcGSO580-"
      }
    },
    {
      "cell_type": "markdown",
      "source": [
        "`install` コマンドおよび `download` コマンドで配布パッケージを指定するとき、バージョン制約を付けることができる。この場合、配布パッケージの名前とバージョン制約を引用符で囲む。\n",
        "\n",
        "``` shell\n",
        "pip install \"SomePackage==1.0.4\"\n",
        "```\n",
        "\n",
        "バージョン制約には、以下の**バージョン指定子**が使える。\n",
        "\n",
        "  * `~=`: 互換性があるリリース\n",
        "  * `==`: 一致するバージョン\n",
        "  * `!=`: 除外するバージョン\n",
        "  * `<=`, `>=`: 以前、または、以降となるバージョン\n",
        "  * `<`, `>`: より前、または、より後のバージョン\n",
        "\n",
        "これらをカンマ `,` で区切って組み合わせることもできる。また、`'=='` を使う場合、バージョンにワイルドカード `*` を使うと、ワイルドカードの位置に最も近いバージョンが許可される。\n",
        "\n",
        "``` shell\n",
        "pip install \"SomePackage~=1.0.4\"\n",
        "```\n",
        "\n",
        "これは、`==1.0.*` でかつ `>=1.0.4` であるバージョンを許可することを意味する。\n",
        "\n",
        "``` shell\n",
        "pip install \"SomePackage>=1,<2\"\n",
        "```\n",
        "\n",
        "これは、1.x 以降で 2.x より前のバージョンを許可することを意味する。\n",
        "\n",
        "`install -U` コマンドでバージョン制約を付ける場合、アップグレードだけでなく、ダウングレードもできる。\n",
        "\n",
        "いくつかのパッケージが依存パッケージを共有する場合、各互換要件が異なるときには、パッケージのインストール順序に注意する必要がある。たとえば、A パッケージは C パッケージのバージョン 1.1.x 以降に依存していて、B パッケージは C パッケージのバージョン 0.9.x から 1.2.x までに依存していて、C パッケージの最新バージョンは 1.3.0 であるとする。この場合、先に A パッケージをインストールすると、C パッケージのバージョン 1.3.0 をダウンロードし、次に B パッケージをインストールするときに C パッケージはインストール済みと扱われる結果、C パッケージは B パッケージと互換性のない状態となる。この場合は、先に B パッケージをインストールし、その後に A パッケージをインストールするとよい。あるいは、インストール済みの C パッケージをダウングレードする。"
      ],
      "metadata": {
        "id": "Ofx5mPZv597X"
      }
    },
    {
      "cell_type": "markdown",
      "source": [
        "### requirements 書式 ###"
      ],
      "metadata": {
        "id": "2cGM5s0ocCaR"
      }
    },
    {
      "cell_type": "markdown",
      "source": [
        "requirements 書式の基本構文は、配布パッケージの名前を 1 行ごとに 1 つ書き出す。\n",
        "\n",
        "``` text\n",
        "python-dateutil\n",
        "PyYAML\n",
        "```\n",
        "\n",
        "バージョン制約を付けることができる。バージョン制約がない場合は、パッケージの最新バージョンが指定されたものとみなされる。\n",
        "\n",
        "``` text\n",
        "Django==4.2.3\n",
        "numpy>=1.24,<2.0\n",
        "```\n",
        "\n",
        "配布パッケージの名前の代わりに\n",
        "\n",
        "  * 配布物 URL/PATH\n",
        "  * git リポジトリ URL\n",
        "\n",
        "を指定することもできる。書式は `install` コマンドと同様である。\n",
        "\n",
        "Python バージョンの条件を付けることができる。`';'` に続けて `'python_version'` と バージョン指定子を使用する。\n",
        "\n",
        "``` text\n",
        "enum34 ; python_version<\"3.4\"\n",
        "```\n",
        "\n",
        "これは、Python のバージョンが 3.4 未満の場合にのみ `enum34` をインストールすることを意味する。\n",
        "\n",
        "`'#'` で始まる行はコメントとみなされ、無視される。空行も無視される。\n",
        "\n",
        "文字エンコーディングは UTF-8 とする。ファイルの先頭に `# -*- coding: <encoding name> -*-` と書いて別の文字エンコーディングを使用することも可能である。\n",
        "\n",
        "`-r <requirements file>` の行は、他の requirements ファイルを読み込む。\n",
        "\n",
        "``` text\n",
        "-r other-requirements.txt\n",
        "```\n",
        "\n",
        "`-c <constraints file>` の行は、指定されたファイルを**制約ファイル**（constraints file）として読み込む。\n",
        "\n",
        "``` text\n",
        "-c constraints.txt\n",
        "```\n",
        "\n",
        "制約ファイルを読み込むと、そのバージョン制約が優先される。`-r <requirements file>` との違いは、制約ファイルに requirements ファイルにない配布パッケージがあってもインストールされないことである。\n",
        "\n",
        "制約ファイルは、`install` コマンドの `-c`（または `--constraint`）オプションで指定することもできる。たとえば\n",
        "\n",
        "``` shell\n",
        "pip install -r requirements.txt -c constraints.txt\n",
        "```\n",
        "\n",
        "として実行すると、`requirements.txt` と `constraints.txt` の両方にある配布パッケージについては `constraints.txt` のバージョン制約が優先される形でインストールされる。`constraints.txt` にしかない配布パッケージはインストールされない。`-c` オプションは複数回使用できる。\n",
        "\n",
        "`-c` オプションを単体で使おうとすると、エラーが発生する。\n",
        "\n",
        "``` shell\n",
        "PS> pip install -c constraints.txt\n",
        "\n",
        "ERROR: You must give at least one requirement to install (see \"pip help install\")\n",
        "```"
      ],
      "metadata": {
        "id": "VjqzmN1lcDCr"
      }
    },
    {
      "cell_type": "markdown",
      "source": [
        "仮想環境\n",
        "--------"
      ],
      "metadata": {
        "id": "jmu6QSVfY4Bq"
      }
    },
    {
      "cell_type": "markdown",
      "source": [
        "### 仮想環境の作成 ###"
      ],
      "metadata": {
        "id": "S1AcA4Ed_O4F"
      }
    },
    {
      "cell_type": "markdown",
      "source": [
        "**Python 仮想環境**（virtual environment）は、特定のバージョンの Python と、独立した Python パッケージ群をインストール可能とする仕組みである。これは環境変数を書き換えることで巧妙に実現されており、その実態は特定のバージョンの Python と幾つかの追加パッケージを含んだ Python インストールを構成するディレクトリにすぎない。このディレクトリにはシステムの Python インストールからのコピーが入るのではなくシンボリックリンクが入るので、仮想環境自体はそれほどディスク容量を必要としない。\n",
        "\n",
        "環境変数を書き換えて仮想環境を使用できるようにすることを**有効化**（**アクティベート**、activate）と呼ぶ。仮想環境を有効化すると、仮想環境に PATH が通るので、`python` や `pip` の実行にはその仮想環境にインストールされたものが使われる。\n",
        "\n",
        "Python 標準ライブラリには、仮想環境の作成・管理に使われる `venv` モジュールが含まれている。`venv` の基本的な使い方については、[公式チュートリアル](https://docs.python.org/ja/3/tutorial/venv.html)。\n",
        "\n",
        "`venv` はマンドラインインターフェースを持ち、コマンドが実行された Python のバージョンをインストールする。`--upgrade-deps` オプションを使用すると、pip を [PyPI](https://pypi.org/) での最新版に更新する（Python 3.9から）。\n",
        "\n",
        "``` shell\n",
        "python -m venv --upgrade-deps .venv\n",
        "```\n",
        "\n",
        "Python 3.8 以前なら、次のようにする。\n",
        "\n",
        "``` shell\n",
        "python -m venv .venv\n",
        ".venv/bin/pip install -U pip\n",
        "```\n",
        "\n",
        "`venv` コマンドはまた、`bin` サブディレクトリを作成し、Python バイナリやアクティベート用の bash スクリプト `activate` を置く。"
      ],
      "metadata": {
        "id": "GiIxp2VP_MmH"
      }
    },
    {
      "cell_type": "markdown",
      "source": [
        "### Windows の場合 ###"
      ],
      "metadata": {
        "id": "Gu89w-pt_Vbw"
      }
    },
    {
      "cell_type": "markdown",
      "source": [
        "Windows では Python ランチャーで Python のバージョンを選択できるので、簡単に特定の Python バージョンを仮想環境にインストールできる。実際、次のように `venv` コマンドを実行できる:\n",
        "\n",
        "``` powershell\n",
        "PS> py -3.12 -m venv --upgrade-deps .venv\n",
        "```\n",
        "\n",
        "これで Python バージョン 3.12 がインストールされる。\n",
        "\n",
        "Windows では、`venv` コマンドはシンボリックリンクを使わずファイルをコピーする。Windows ではデフォルトで一般ユーザーがシンボリックリンクを作成できず管理者権限が必要になるためである。\n",
        "\n",
        "また、Windows でこのコマンドは `bin` サブディレクトリを作成せず、代わりに `Scripts` サブディレクトリを作成し、Python バイナリやアクティベート用の PowerShell スクリプト `Activate.ps1` を置く。`Activate.ps1` を実行するには、実行ポリシーを設定しなければならない。設定アプリの「システム＞開発者向け＞PowerShell」を選択し、「署名せずに実行するローカル Powershell スクリプトを許可するように、実行ポリシーを変更します。」をオンに設定する。あるいは、この設定は次の PowerShell コマンドでもできる（管理者権限で PowerShell を起動しておくこと）:\n",
        "\n",
        "``` powershell\n",
        "PS > Set-ExecutionPolicy -ExecutionPolicy RemoteSigned -Scope CurrentUser\n",
        "```"
      ],
      "metadata": {
        "id": "aS3ybTdGuc9N"
      }
    },
    {
      "cell_type": "markdown",
      "source": [
        "### VS Code の場合 ###"
      ],
      "metadata": {
        "id": "eYAVQ1IKLf0P"
      }
    },
    {
      "cell_type": "markdown",
      "source": [
        "VS Code では、Python 拡張機能により仮想環境の作成が可能である。\n",
        "\n",
        "VS Code 上で仮想環境を新規作成するには、以下の手順による。\n",
        "\n",
        "  1. あらかじめプロジェクトルートを作成しておく。\n",
        "  2. File メニューの「Open Folder...」（フォルダーを開く）でプロジェクトルートを開いた状態（左側のエクスプローラーでプロジェクトルートがトップ項目になっている状態）にする。\n",
        "  3. プロジェクトルートに `requirements.txt` を作成する。\n",
        "  4. <kbd>Alt+X</kbd> でコマンドパレットを開き、 `Python: Create Environment` コマンドを実行する。\n",
        "\n",
        "仮想環境の作成を実行すると、`pip` のアップデートが自動で行われた上で、依存ライブラリのインストールも自動で行われる。 Windows 環境で複数のバージョンの Python をインストールしている場合、 VSCode がそれらを自動的に探索して選択肢として表示するので、指定したバージョンの Python で仮想環境を作成することができる。\n",
        "\n",
        "仮想環境が作成されると、VS Code のターミナルは自動的に仮想環境を有効化する。"
      ],
      "metadata": {
        "id": "Z6GSRhYlLg-Q"
      }
    },
    {
      "cell_type": "markdown",
      "source": [
        "### 仮想環境の運用 ###"
      ],
      "metadata": {
        "id": "u5mqlocbZFxh"
      }
    },
    {
      "cell_type": "markdown",
      "source": [
        "プロジェクトの仮想環境内の依存ライブラリを管理する場合、`requirements.txt` だけでは柔軟にバージョンを制約することができない。そこで、次の 3 つのファイルを使うようにする。\n",
        "\n",
        "  1. `requirements.txt`: プロジェクトが依存するパッケージを手動で宣言する\n",
        "  2. `requirements.lock`: 新しい仮想環境に同じバージョンをインストールために使う\n",
        "  3. `constraints.txt`: プロジェクト間で共通するバージョン制約を手動で宣言する\n",
        "\n",
        "`requirements.txt` には、プロジェクトの依存ライブラリを requirements 形式により手作業で書く。バージョン制約を付けてもよい。\n",
        "\n",
        "``` text\n",
        "# requirements.txt\n",
        "Flask\n",
        "python-dateutil~=2.7.1\n",
        "```\n",
        "\n",
        "新しい仮想環境の中で、依存ライブラリをインストールする場合は、`requirements.txt` を使う。\n",
        "\n",
        "``` shell\n",
        "PS> pip install -r requirements.txt\n",
        "```\n",
        "\n",
        "このとき、間接的に依存するパッケージもインストールされる。現在の仮想環境を簡単に再現できるようするため、`pip freeze` コマンドを使うのであるが、出力先を `requirements.lock` とする。\n",
        "\n",
        "``` shell\n",
        "PS> pip freeze > requirements.lock\n",
        "```\n",
        "\n",
        "新しい仮想環境に同じバージョンをインストールするのには、`requirements.txt` の代わりに `requirements.lock` ファイルを使う。\n",
        "\n",
        "``` shell\n",
        "PS> pip install -r requirements.lock\n",
        "```\n",
        "\n",
        "仮想環境にインストールしたライブラリを更新するときには、そのたびに `requirements.lock` も更新する必要がある。\n",
        "\n",
        "複数のプロジェクトの間に、利用するライブラリとそのバージョンを共通化させたいことがある。たとえば、すべてのプロジェクトが `eventlet` を使うわけではないが、使う場合にはバージョンを `0.17.4` で共通化させたいなら、`constraints.txt` に次のように書く。\n",
        "\n",
        "``` text\n",
        "# constraints.txt\n",
        "eventlet == 0.17.4\n",
        "```\n",
        "\n",
        "`constraints.txt` を使うときは、次のようにする。\n",
        "\n",
        "``` shell\n",
        "PS> pip install -r <プロジェクトの requirements.txt> -c <共通の constraints.txt>\n",
        "```\n",
        "\n",
        "これで、プロジェクトの `requirements.txt` に `eventlet`（や `eventlet` に依存するパッケージ）が書かれていたらそのバージョンが `0.17.4` に固定化され、書かれてなければ `eventlet` はインストールされない。\n",
        "\n",
        "仮想環境内パッケージのアップグレードやアンインストールのために `pip install -U` コマンドや `pip uninstall` コマンドを使わないほうがよい。`pip` の依存解決機能は貧弱なので、`rmdir` コマンドで仮想環境をディレクトリごと削除し、仮想環境を一から構築し直すほうが簡単である。"
      ],
      "metadata": {
        "id": "HLwzS6DrxW-6"
      }
    },
    {
      "cell_type": "markdown",
      "source": [
        "コンテナ\n",
        "--------"
      ],
      "metadata": {
        "id": "5msB6FiG8vwd"
      }
    },
    {
      "cell_type": "markdown",
      "source": [
        "### コンテナ型仮想化 ###"
      ],
      "metadata": {
        "id": "6HSAGIY3jBB0"
      }
    },
    {
      "cell_type": "markdown",
      "source": [
        "外部のアプリケーションと連携する Python プログラムを開発する場合、Python の仮想環境ではなく、マシン環境そのものを仮想化できると便利である。\n",
        "\n",
        "仮想化技術には、大きく、仮想マシンを稼働させる方法と、アプリケーション実行環境を仮想化する方法の 2 種類がある。前者は、VirtualBox などの仮想化ソフトウェアや、ハイパーバイザー（hypervisor）と呼ばれる、仮想化のための OS のようなものを使用して、ゲスト OS を動かす方法である。後者は、Linux の**コンテナ**（containers）と呼ばれる仮想化技術を使用して、アプリケーション・プロセスをシステムの他の部分から独立させることであたかも別のマシン上であるかのように動かす方法である。コンテナは、下図のように 1 つの OS で稼働するので軽量で高速に起動、停止などができる（[RedHat 公式サイトの記事](https://www.redhat.com/ja/topics/containers/whats-a-linux-container)から引用）。\n",
        "\n",
        "![](https://www.redhat.com/rhdc/managed-files/virtualization-vs-containers.png)"
      ],
      "metadata": {
        "id": "pOYkkzo1jCL-"
      }
    },
    {
      "cell_type": "markdown",
      "source": [
        "### Docker と Podman ###"
      ],
      "metadata": {
        "id": "KmjBHcHCpgjd"
      }
    },
    {
      "cell_type": "markdown",
      "source": [
        "[Docker](https://www.docker.com/ja-jp/) は、Docker イメージからコンテナを作成し稼働することができるツール（CLI およびデスクトップアプリ）である。Docker イメージは、コンテナを立ち上げるために必要な設定がまとめられたテンプレートであり、配布することも可能である。さらに Docker は、Dockerfile と呼ばれる設定ファイルから Docker イメージを構築する機能も提供している。Dockerfile はテキストファイルなので作成・配布・変更が容易である。対応する OS は Linux, macOS, Windows となっている。Docker 社が開発していて、一部の商用利用に有料サブスクリプション契約が必要である。\n",
        "\n",
        "[Podman](https://podman.io/) は、Docker と同様のツールであり、実際、Docker と互換性を持つように作られていて、コマンド引数の指定方法はすべて Docker と同じである。Docker の技術的な問題点を改善する目的で、Red Hat 社を中心に OSS として開発されている。ライセンスは Apache license 2.0。\n",
        "\n",
        "Windows 環境の場合、Docker および Podman を使うには、WSL2 が利用可能でなければならない。次の 2 項目を確認する。\n",
        "\n",
        "  1. 「Windows の機能」で「Linux 用 Windows サブシステム」および「仮想マシンプラットフォーム」が有効化されている。\n",
        "  2. 「Microsoft Store」で「Windows Subsystem for Linux」がインストールされている。\n",
        "\n",
        "Windows 環境に Podman を導入するには、公式サイトから Podman Desktop （デスクトップアプリ）と Podman CLI （コマンドライン用ツール）の両方のインストーラーをダウンロードし、実行する。Podman Desktop を起動して、Podman Machine を作成する。`podman-machine-default` という Linux ディストリビューションがインストールされる。\n",
        "\n",
        "`wsl -l -v` コマンドで、インストールされている Linux ディストリビューションが一覧表示され、`podman-machine-default` がインストールされていることがわかる。\n",
        "\n",
        "``` shell\n",
        "PS> wsl -l -v\n",
        "  NAME                      STATE           VERSION\n",
        "* podman-machine-default    Running         2\n",
        "```\n",
        "\n",
        "`podman-machine-default` が不要になって削除したい場合に、もし何らかの理由で Podman から削除できないなら、次のコマンドで Linux ディストリビューションをアンインストールする方法を使う。\n",
        "\n",
        "``` shell\n",
        "PS> wsl --unregister podman-machine-default\n",
        "```"
      ],
      "metadata": {
        "id": "oMzt5aOg8wtP"
      }
    },
    {
      "cell_type": "markdown",
      "source": [
        "### Dev Containers ###"
      ],
      "metadata": {
        "id": "1kx7V5fc-Qqf"
      }
    },
    {
      "cell_type": "markdown",
      "source": [
        "Docker や Podman を使ってコンテナを作成・稼働する場合、コマンドを何回か入力し、あるいは Dockerfile を作成するなど工数が多く、コマンドや Dockerfile の書き方を知る必要があって学習コストが高い。\n",
        "\n",
        "VS Code の Dev Containers 拡張機能を使うと、VS Code 上で対話的にコンテナを作成・稼働することができ、さらに、以下のようにローカルの環境とコンテナ内の環境がうまく連携される。\n",
        "\n",
        "  * VS Code や検証用ブラウザは普段ローカルで使うものと同じで、ターミナルを開くと Linux につながっている以外の違いはない。\n",
        "  * ワークスペースのマウント・同期が自動的に行われる。\n",
        "  * git の設定や ssh の鍵などが自動同期される。\n",
        "  * ターミナルで起動したポートが自動的にホスト側にマッピングされる。\n",
        "\n",
        "Dev Containers から Podman を利用するには、VS Code の 設定 `dev.containers.dockerPath` に Podman の実行ファイルの名前またはパスを指定する必要がある。\n",
        "\n",
        "Dev Containers の動作は、PyCon APAC 2023 の講演配信動画（13:18）で見ることができる。"
      ],
      "metadata": {
        "id": "-_X3Uxc3-R6V"
      }
    },
    {
      "cell_type": "code",
      "source": [
        "from IPython.display import YouTubeVideo\n",
        "YouTubeVideo('JF4yapRXilw?start=798', width=640, height=360)"
      ],
      "metadata": {
        "colab": {
          "base_uri": "https://localhost:8080/",
          "height": 381
        },
        "id": "1IdCK7CU17ge",
        "outputId": "d09f4273-35cf-481c-902d-bfe401aada56"
      },
      "execution_count": null,
      "outputs": [
        {
          "output_type": "execute_result",
          "data": {
            "text/plain": [
              "<IPython.lib.display.YouTubeVideo at 0x7adf7b44d9f0>"
            ],
            "text/html": [
              "\n",
              "        <iframe\n",
              "            width=\"640\"\n",
              "            height=\"360\"\n",
              "            src=\"https://www.youtube.com/embed/JF4yapRXilw?start=798\"\n",
              "            frameborder=\"0\"\n",
              "            allowfullscreen\n",
              "            \n",
              "        ></iframe>\n",
              "        "
            ]
          },
          "metadata": {},
          "execution_count": 9
        }
      ]
    },
    {
      "cell_type": "markdown",
      "source": [
        "動画のように、ウィンドウ左下ボタンを押して表示されるメニューの「Add Development Container Configuration Files ...」（開発コンテナー構成ファイルを追加...）を選択し、基礎となるイメージを選択、さらに追加の機能を選んで先に進むと、プロジェクトのルートフォルダ内に `.devcontainer` フォルダが作成され、その中の `devcontainer.json` ファイルが開いた状態になる。\n",
        "\n",
        "``` javascript\n",
        "// For format details, see https://aka.ms/devcontainer.json. For config options, see the\n",
        "// README at: https://github.com/devcontainers/templates/tree/main/src/python\n",
        "{\n",
        "\t\"name\": \"Python 3\",\n",
        "\t// Or use a Dockerfile or Docker Compose file. More info: https://containers.dev/guide/dockerfile\n",
        "\t\"image\": \"mcr.microsoft.com/devcontainers/python:1-3.11-bullseye\"\n",
        "\n",
        "\t// Features to add to the dev container. More info: https://containers.dev/features.\n",
        "\t// \"features\": {},\n",
        "\n",
        "\t// Use 'forwardPorts' to make a list of ports inside the container available locally.\n",
        "\t// \"forwardPorts\": [],\n",
        "\n",
        "\t// Use 'postCreateCommand' to run commands after the container is created.\n",
        "\t// \"postCreateCommand\": \"pip3 install --user -r requirements.txt\",\n",
        "\n",
        "\t// Configure tool-specific properties.\n",
        "\t// \"customizations\": {},\n",
        "\n",
        "\t// Uncomment to connect as root instead. More info: https://aka.ms/dev-containers-non-root.\n",
        "\t// \"remoteUser\": \"root\"\n",
        "}\n",
        "```\n",
        "\n",
        "`\"image\": ...` の行の末尾にカンマ `,` を入れ、最後の行の `\"remoteUser\": \"root\"` をコメントアウトする。\n",
        "\n",
        "``` javascript\n",
        "// For format details, see https://aka.ms/devcontainer.json. For config options, see the\n",
        "// README at: https://github.com/devcontainers/templates/tree/main/src/python\n",
        "{\n",
        "\t\"name\": \"Python 3\",\n",
        "\t// Or use a Dockerfile or Docker Compose file. More info: https://containers.dev/guide/dockerfile\n",
        "\t\"image\": \"mcr.microsoft.com/devcontainers/python:1-3.11-bullseye\",\n",
        "\n",
        "\t// Features to add to the dev container. More info: https://containers.dev/features.\n",
        "\t// \"features\": {},\n",
        "\n",
        "\t// Use 'forwardPorts' to make a list of ports inside the container available locally.\n",
        "\t// \"forwardPorts\": [],\n",
        "\n",
        "\t// Use 'postCreateCommand' to run commands after the container is created.\n",
        "\t// \"postCreateCommand\": \"pip3 install --user -r requirements.txt\",\n",
        "\n",
        "\t// Configure tool-specific properties.\n",
        "\t// \"customizations\": {},\n",
        "\n",
        "\t// Uncomment to connect as root instead. More info: https://aka.ms/dev-containers-non-root.\n",
        "\t\"remoteUser\": \"root\"\n",
        "}\n",
        "```\n",
        "\n",
        "また、コメントにあるように、`\"postCreateCommand\": ...` の行を追加すると、後ろのコマンドがコンテナ作成時の 1 回のみ実行される。プロジェクトルート内の `requirements.txt` から Python パッケージを一括してインストールすることが可能である。\n",
        "\n",
        "``` javascript\n",
        "{\n",
        "\t...\n",
        "\t\"postCreateCommand\": \"pip install -r requirements.txt\",\n",
        "\t...\n",
        "}\n",
        "```\n",
        "\n",
        "なお、`\"postStartCommand\": ...` の行を追加すると、後ろのコマンドが、コンテナが正常に開始されるたびに実行される。\n",
        "\n",
        "再び左下ボタンを押して「Reopen in Container」（コンテナーで再度開く）を選択すると、コンテナが作成され稼働する。"
      ],
      "metadata": {
        "id": "wKDjeNi6b6l_"
      }
    }
  ]
}