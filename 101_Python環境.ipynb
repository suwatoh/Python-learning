{
  "nbformat": 4,
  "nbformat_minor": 0,
  "metadata": {
    "colab": {
      "provenance": [],
      "authorship_tag": "ABX9TyP1Bsl2i6OyWhUu55lY9Jz2",
      "include_colab_link": true
    },
    "kernelspec": {
      "name": "python3",
      "display_name": "Python 3"
    },
    "language_info": {
      "name": "python"
    }
  },
  "cells": [
    {
      "cell_type": "markdown",
      "metadata": {
        "id": "view-in-github",
        "colab_type": "text"
      },
      "source": [
        "<a href=\"https://colab.research.google.com/github/suwatoh/Python-learning/blob/main/101_Python%E7%92%B0%E5%A2%83.ipynb\" target=\"_parent\"><img src=\"https://colab.research.google.com/assets/colab-badge.svg\" alt=\"Open In Colab\"/></a>"
      ]
    },
    {
      "cell_type": "markdown",
      "source": [
        "Python環境\n",
        "=========="
      ],
      "metadata": {
        "id": "XXKbttReJUAz"
      }
    },
    {
      "cell_type": "markdown",
      "source": [
        "Windows の Python ランチャー\n",
        "----------------------------"
      ],
      "metadata": {
        "id": "0A7NO7rdQFB1"
      }
    },
    {
      "cell_type": "markdown",
      "source": [
        "公式の Windows 用 Python インストーラーは、異なるバージョンの Python をインストールできる。同時にインストールされる Python ランチャー `py.exe` は、実行する Python のバージョンを切り替えることができる。`py.exe` 自体は Windows のシステムフォルダにインストールされているので、`PATH` を通す作業は必要ない。\n",
        "\n",
        "コマンドラインで、`py --list` を実行すると、インストールされた Python のバージョンが表示される：\n",
        "\n",
        "``` powershell\n",
        "PS > py --list\n",
        " -V:3.12 *        Python 3.12 (64-bit)\n",
        " -V:3.11          Python 3.11 (64-bit)\n",
        " -V:3.5           Python 3.5\n",
        "```\n",
        "\n",
        "`*` は、コマンドラインで単に `py` を実行すると起動する Python のバージョンである。デフォルトでは、インストールされている最新のバージョンが優先されるようになっている。 `py -X.Y` のようにバージョンを指定して Python を実行することもできる。次のいずれか一つを設定すると、デフォルトで実行される Python のバージョンを変更できる。\n",
        "\n",
        "  1. 実行するスクリプトの1行目をシェバン（shebang）行として `#! /usr/bin/python3.11` のように書く。\n",
        "  2. 環境変数 `PY_PYTHON` にバージョンを指定する: （一時的）`$env:PY_PYTHON=3.11` （永続化）`setx PY_PYTHON 3.11`\n",
        "  3. `$env:LocalAppData` ディレクトリに `py.ini` を作成し、次のように書いて保存する:\n",
        "\n",
        "``` ini\n",
        "[defaults]\n",
        "python=3.11\n",
        "```\n",
        "\n",
        "2 の方法か 3 の方法を取ると、`py --list` の実行結果が変わる。"
      ],
      "metadata": {
        "id": "wiAe3_0gQIKB"
      }
    },
    {
      "cell_type": "markdown",
      "source": [
        "Google Colaboratory\n",
        "-------------------"
      ],
      "metadata": {
        "id": "Bb5P4KT7pXQc"
      }
    },
    {
      "cell_type": "markdown",
      "source": [
        "Google Colaboratory（通称 Colab）は、Web ブラウザ上でプログラミング言語を対話的に実行できるクラウドサービスであり、[Project Jupyter](https://jupyter.org/) の製品を基盤としている。\n",
        "\n",
        "  * **IPython**: Python の拡張された対話型シェル。Python インタプリターの対話モードより強力な入力補完機能を備えている。\n",
        "  * **Jupyter Notebook**: かつて IPython に含まれていた Web ブラウザ上で動作する機能を他のプログラミング言語の実行環境もサポートするように拡張したもの。Python の実行環境は IPython によってサポートしている。\n",
        "  * **JupyterLab**: Jupyter Notebook の改良版。\n",
        "\n",
        "Jupyter Notebook / JupyterLab はウェブアプリケーションであるため、動作にはサーバーが必要である。 [Anaconda](https://www.anaconda.com/) ディストリビューションをインストールすると、ローカルマシン上で JupyterLab が動作する環境を構築できる。\n",
        "\n",
        "Colab は Jupyter Notebook をホストするクラウドサービスであり、ローカルマシン上での環境構築作業が不要で、Google アカウントを持っていれば直ちに利用することができる。\n",
        "\n",
        "Colab（や JupyterLab）は、**ノートブック**と呼ばれる単位で実行環境を管理する。ノートブックは**セル**で構成される。セルは 2 種類あって、1 つは**コードセル**で、もう 1 つは**テキストセル**と呼ばれる。次のショートカットでセルの種類を変更することができる。\n",
        "\n",
        "| ショートカット<br />(Windows/macOS) | 内容 |\n",
        "|:---|:---|\n",
        "| <kbd>Ctrl/cmd + M M</kbd> | コードセル → テキストセル |\n",
        "| <kbd>Ctrl/cmd + M Y</kbd> | テキストセル → コードセル |\n",
        "\n",
        "コードセルでは、<kbd>Ctrl/Cmd + Enter</kbd> ショートカットでコードを実行する。テキストセルでは、<kbd>Enter</kbd> ショートカットで編集モードになる。\n",
        "\n",
        "コードセルでは、`%` で始まる特別なコマンドが利用できる。これらはマジックコマンドと呼ばれる。マジックコマンドには 2 種類ある:\n",
        "\n",
        "  * **ラインマジック**: コマンドの先頭に `%` が 1 つ付く。適用対象が同一行のみとなる。\n",
        "  * **セルマジック**: コマンドの先頭に `%%` が付く。適用対象が同一セル全体となる。\n",
        "\n",
        "``` shell\n",
        "%timeit -n <number> -r <repeat> <code>\n",
        "```\n",
        "\n",
        "このマジックコマンドは、1 行の `<code>` を `<number>` 回実行したときの全実行時間を、`<repeat>` 回計測し、平均と標準偏差を出力する。`-n` 引数と、 `-r` 引数は省略可能。\n",
        "\n",
        "``` shell\n",
        "%%timeit -n <number> -r <repeat>\n",
        "```\n",
        "\n",
        "このマジックコマンドをセルの最初の行に書くと、セルのコードを `<number>` 回実行したときの全実行時間を、`<repeat>` 回計測し、平均と標準偏差を出力する。`-n` 引数や `-r` 引数は省略可能。\n",
        "\n",
        "以下の 3 つのセルでは、初期化されたリストをそれぞれリスト内包表記、`append()` メソッド、`*` 演算子による反復で生成し、その実行時間を計測している。`*` 演算子による反復が最も早く、[リストの内包表記](https://docs.python.org/ja/3/tutorial/datastructures.html#list-comprehensions)は `append()` メソッドより約 2 倍速いことがわかる。"
      ],
      "metadata": {
        "id": "cNEkOd_6pYjH"
      }
    },
    {
      "cell_type": "code",
      "source": [
        "%timeit a = [0 for i in range(100000)]"
      ],
      "metadata": {
        "colab": {
          "base_uri": "https://localhost:8080/"
        },
        "id": "4O5BNdRcmvxH",
        "outputId": "54ef4bfc-b407-4c93-a718-1fb8be545fbe"
      },
      "execution_count": null,
      "outputs": [
        {
          "output_type": "stream",
          "name": "stdout",
          "text": [
            "5.17 ms ± 1.52 ms per loop (mean ± std. dev. of 7 runs, 100 loops each)\n"
          ]
        }
      ]
    },
    {
      "cell_type": "code",
      "source": [
        "%%timeit\n",
        "a = []\n",
        "for i in range(100000):\n",
        "    a.append(0)"
      ],
      "metadata": {
        "colab": {
          "base_uri": "https://localhost:8080/"
        },
        "id": "YK976kP0nZ73",
        "outputId": "4aca2d52-4eaa-4a84-c8c5-b2dd1582eaf6"
      },
      "execution_count": null,
      "outputs": [
        {
          "output_type": "stream",
          "name": "stdout",
          "text": [
            "8.38 ms ± 2.32 ms per loop (mean ± std. dev. of 7 runs, 100 loops each)\n"
          ]
        }
      ]
    },
    {
      "cell_type": "code",
      "source": [
        "%timeit a = [0] * 100000"
      ],
      "metadata": {
        "colab": {
          "base_uri": "https://localhost:8080/"
        },
        "id": "PpuEHBm2np1-",
        "outputId": "404f4761-2bf4-4580-f1ad-264f1fe6af35"
      },
      "execution_count": null,
      "outputs": [
        {
          "output_type": "stream",
          "name": "stdout",
          "text": [
            "237 µs ± 4.57 µs per loop (mean ± std. dev. of 7 runs, 1000 loops each)\n"
          ]
        }
      ]
    },
    {
      "cell_type": "markdown",
      "source": [
        "``` shell\n",
        "%%!\n",
        "```\n",
        "\n",
        "このマジックコマンドをセルの最初の行に書くと、シェルコマンドの実行を可能にする。"
      ],
      "metadata": {
        "id": "klCGVzZppvZ2"
      }
    },
    {
      "cell_type": "code",
      "source": [
        "%%!\n",
        "python -V"
      ],
      "metadata": {
        "colab": {
          "base_uri": "https://localhost:8080/"
        },
        "id": "1BbM7VWJllC7",
        "outputId": "1dc98afc-3641-4e11-ce63-dbc2cad3fcc4"
      },
      "execution_count": null,
      "outputs": [
        {
          "output_type": "execute_result",
          "data": {
            "text/plain": [
              "['Python 3.10.12']"
            ]
          },
          "metadata": {},
          "execution_count": 19
        }
      ]
    },
    {
      "cell_type": "markdown",
      "source": [
        "``` shell\n",
        "%lsmagic\n",
        "```\n",
        "\n",
        "このマジックコマンドを実行すると、利用可能なマジックコマンドの一覧が表示される。"
      ],
      "metadata": {
        "id": "6L8RGgXqqCli"
      }
    },
    {
      "cell_type": "code",
      "source": [
        "%lsmagic"
      ],
      "metadata": {
        "colab": {
          "base_uri": "https://localhost:8080/",
          "height": 243
        },
        "id": "U0f_SCsbzUU2",
        "outputId": "4731e385-ff0c-434f-b095-67148cccb703"
      },
      "execution_count": null,
      "outputs": [
        {
          "output_type": "execute_result",
          "data": {
            "text/plain": [
              "Available line magics:\n",
              "%alias  %alias_magic  %autoawait  %autocall  %automagic  %autosave  %bookmark  %cat  %cd  %clear  %colors  %conda  %config  %connect_info  %cp  %debug  %dhist  %dirs  %doctest_mode  %ed  %edit  %env  %gui  %hist  %history  %killbgscripts  %ldir  %less  %lf  %lk  %ll  %load  %load_ext  %loadpy  %logoff  %logon  %logstart  %logstate  %logstop  %ls  %lsmagic  %lx  %macro  %magic  %man  %matplotlib  %mkdir  %more  %mv  %notebook  %page  %pastebin  %pdb  %pdef  %pdoc  %pfile  %pinfo  %pinfo2  %pip  %popd  %pprint  %precision  %prun  %psearch  %psource  %pushd  %pwd  %pycat  %pylab  %qtconsole  %quickref  %recall  %rehashx  %reload_ext  %rep  %rerun  %reset  %reset_selective  %rm  %rmdir  %run  %save  %sc  %set_env  %shell  %store  %sx  %system  %tb  %tensorflow_version  %time  %timeit  %unalias  %unload_ext  %who  %who_ls  %whos  %xdel  %xmode\n",
              "\n",
              "Available cell magics:\n",
              "%%!  %%HTML  %%SVG  %%bash  %%bigquery  %%capture  %%debug  %%file  %%html  %%javascript  %%js  %%latex  %%markdown  %%perl  %%prun  %%pypy  %%python  %%python2  %%python3  %%ruby  %%script  %%sh  %%shell  %%svg  %%sx  %%system  %%time  %%timeit  %%writefile\n",
              "\n",
              "Automagic is ON, % prefix IS NOT needed for line magics."
            ],
            "application/json": {
              "line": {
                "automagic": "AutoMagics",
                "autocall": "AutoMagics",
                "alias_magic": "BasicMagics",
                "lsmagic": "BasicMagics",
                "magic": "BasicMagics",
                "page": "BasicMagics",
                "pprint": "BasicMagics",
                "colors": "BasicMagics",
                "xmode": "BasicMagics",
                "quickref": "BasicMagics",
                "doctest_mode": "BasicMagics",
                "gui": "BasicMagics",
                "precision": "BasicMagics",
                "notebook": "BasicMagics",
                "save": "CodeMagics",
                "pastebin": "CodeMagics",
                "loadpy": "CodeMagics",
                "load": "CodeMagics",
                "edit": "KernelMagics",
                "config": "ConfigMagics",
                "prun": "ExecutionMagics",
                "pdb": "ExecutionMagics",
                "debug": "ExecutionMagics",
                "tb": "ExecutionMagics",
                "run": "ExecutionMagics",
                "timeit": "ExecutionMagics",
                "time": "ExecutionMagics",
                "macro": "ExecutionMagics",
                "load_ext": "ExtensionMagics",
                "unload_ext": "ExtensionMagics",
                "reload_ext": "ExtensionMagics",
                "history": "HistoryMagics",
                "recall": "HistoryMagics",
                "rerun": "HistoryMagics",
                "logstart": "LoggingMagics",
                "logstop": "LoggingMagics",
                "logoff": "LoggingMagics",
                "logon": "LoggingMagics",
                "logstate": "LoggingMagics",
                "pinfo": "NamespaceMagics",
                "pinfo2": "NamespaceMagics",
                "pdef": "NamespaceMagics",
                "pdoc": "NamespaceMagics",
                "psource": "NamespaceMagics",
                "pfile": "NamespaceMagics",
                "psearch": "NamespaceMagics",
                "who_ls": "NamespaceMagics",
                "who": "NamespaceMagics",
                "whos": "NamespaceMagics",
                "reset": "NamespaceMagics",
                "reset_selective": "NamespaceMagics",
                "xdel": "NamespaceMagics",
                "alias": "OSMagics",
                "unalias": "OSMagics",
                "rehashx": "OSMagics",
                "pwd": "OSMagics",
                "cd": "OSMagics",
                "env": "OSMagics",
                "set_env": "OSMagics",
                "pushd": "OSMagics",
                "popd": "OSMagics",
                "dirs": "OSMagics",
                "dhist": "OSMagics",
                "sc": "OSMagics",
                "sx": "OSMagics",
                "system": "OSMagics",
                "bookmark": "OSMagics",
                "pycat": "OSMagics",
                "pip": "Other",
                "conda": "PackagingMagics",
                "matplotlib": "PylabMagics",
                "pylab": "PylabMagics",
                "killbgscripts": "ScriptMagics",
                "autoawait": "AsyncMagics",
                "ed": "Other",
                "hist": "Other",
                "rep": "Other",
                "clear": "KernelMagics",
                "less": "KernelMagics",
                "more": "KernelMagics",
                "man": "KernelMagics",
                "connect_info": "KernelMagics",
                "qtconsole": "KernelMagics",
                "autosave": "KernelMagics",
                "mkdir": "Other",
                "rmdir": "Other",
                "mv": "Other",
                "rm": "Other",
                "cp": "Other",
                "cat": "Other",
                "ls": "Other",
                "ll": "Other",
                "lf": "Other",
                "lk": "Other",
                "ldir": "Other",
                "lx": "Other",
                "store": "StoreMagics",
                "shell": "Other",
                "tensorflow_version": "Other"
              },
              "cell": {
                "js": "DisplayMagics",
                "javascript": "DisplayMagics",
                "latex": "DisplayMagics",
                "svg": "DisplayMagics",
                "html": "DisplayMagics",
                "markdown": "DisplayMagics",
                "prun": "ExecutionMagics",
                "debug": "ExecutionMagics",
                "timeit": "ExecutionMagics",
                "time": "ExecutionMagics",
                "capture": "ExecutionMagics",
                "sx": "OSMagics",
                "system": "OSMagics",
                "!": "OSMagics",
                "writefile": "OSMagics",
                "script": "ScriptMagics",
                "sh": "Other",
                "bash": "Other",
                "perl": "Other",
                "ruby": "Other",
                "python": "Other",
                "python2": "Other",
                "python3": "Other",
                "pypy": "Other",
                "SVG": "Other",
                "HTML": "Other",
                "file": "Other",
                "bigquery": "Other",
                "shell": "Other"
              }
            }
          },
          "metadata": {},
          "execution_count": 2
        }
      ]
    },
    {
      "cell_type": "markdown",
      "source": [
        "マジックコマンドの末尾に `?` を追加して実行すると、そのコマンドの docstring が表示され、末尾に `??` を追加すると、そのコマンドのソースコードが表示される。"
      ],
      "metadata": {
        "id": "oGNgyxqLiUFE"
      }
    },
    {
      "cell_type": "code",
      "source": [
        "%pwd?"
      ],
      "metadata": {
        "id": "NqUQWGNVihN5"
      },
      "execution_count": null,
      "outputs": []
    },
    {
      "cell_type": "markdown",
      "source": [
        "パッケージ管理\n",
        "--------------"
      ],
      "metadata": {
        "id": "wsem-BM8oxaV"
      }
    },
    {
      "cell_type": "markdown",
      "source": [
        "公式の Windows 用 Python インストーラーは、パッケージ管理システム pip もインストールするが、デフォルトでは実行ファイル `pip.exe` に PATH が通っていない。この場合、システムにある pip を利用するには以下のいずれかの方法による。\n",
        "\n",
        "  1. `${env:LOCALAPPDATA}\\Programs\\Python\\(Pythonバージョン)\\Scripts` を PATH に加える。\n",
        "  2. `pip.exe` を使うのではなく `py -m pip <command> [options]` の形で実行する。\n",
        "\n",
        "2 の方法による場合は、`pip <command> [options]` の形の記述は `py -m pip <command> [options]` の形に読み替えること。\n",
        "\n",
        "以下に `pip` の主要なコマンドを整理する。"
      ],
      "metadata": {
        "id": "Ds3-rlIcs9FV"
      }
    },
    {
      "cell_type": "markdown",
      "source": [
        "### list コマンド ###"
      ],
      "metadata": {
        "id": "rJuobkE4pK_I"
      }
    },
    {
      "cell_type": "markdown",
      "source": [
        "``` python\n",
        "pip list [options]\n",
        "```\n",
        "\n",
        "インストールされているパッケージを一覧表示する。パッケージは、大文字と小文字を区別せずにアルファベット順で並べられる。\n",
        "\n",
        "``` shell\n",
        "pip list\n",
        "\n",
        "Package      Version\n",
        "------------ -------\n",
        "blinker      1.7.0\n",
        "click        8.1.7\n",
        "colorama     0.4.6\n",
        "Flask        2.3.3\n",
        "itsdangerous 2.1.2\n",
        "Jinja2       3.1.2\n",
        "MarkupSafe   2.1.3\n",
        "pip          23.3.2\n",
        "setuptools   69.0.3\n",
        "Werkzeug     3.0.1\n",
        "```\n",
        "\n",
        "上の実行結果は、`pip` と `setuptools` 以外は、`Flask` とその依存パッケージがインストールされた状態を示している。依存関係は表示されないことがわかる。\n",
        "\n",
        "主なオプションは次のとおり:\n",
        "\n",
        "| オプション | 意味 |\n",
        "|:---|:---|\n",
        "| `-o`, `--outdated` | 最新版のパッケージが存在するもののみを出力する |\n",
        "| `--not-required` | ほかのパッケージから依存されていないパッケージのみを出力する |\n",
        "\n",
        "``` shell\n",
        "pip list -o\n",
        "\n",
        "Package Version Latest Type\n",
        "------- ------- ------ -----\n",
        "Flask   2.3.3   3.0.0  wheel\n",
        "```\n",
        "\n",
        "``` shell\n",
        "pip list --not-required\n",
        "\n",
        "Package    Version\n",
        "---------- -------\n",
        "Flask      2.3.3\n",
        "pip        23.3.2\n",
        "setuptools 69.0.3\n",
        "```"
      ],
      "metadata": {
        "id": "N5jET4eDozLT"
      }
    },
    {
      "cell_type": "markdown",
      "source": [
        "### freeze コマンド ###"
      ],
      "metadata": {
        "id": "RJz9_Dputt2d"
      }
    },
    {
      "cell_type": "markdown",
      "source": [
        "``` shell\n",
        "pip freeze [options]\n",
        "```\n",
        "\n",
        "インストールされているパッケージを requirements 形式と呼ばれる書式で一覧表示する。\n",
        "\n",
        "``` shell\n",
        "pip freeze\n",
        "\n",
        "blinker==1.7.0\n",
        "click==8.1.7\n",
        "colorama==0.4.6\n",
        "Flask==2.3.3\n",
        "itsdangerous==2.1.2\n",
        "Jinja2==3.1.2\n",
        "MarkupSafe==2.1.3\n",
        "Werkzeug==3.0.1\n",
        "```\n",
        "\n",
        "`freeze` コマンドの実行結果には、`pip` と `setuptools` は表示されない。\n",
        "\n",
        "`freeze` コマンドのオプションは省略。\n",
        "\n",
        "`freeze` コマンドは、リダイレクトにより requirements 形式のファイルを作成するために使われる。requirements 形式のファイルの名前は、`requirements.txt` とするのが慣例となっている。\n",
        "\n",
        "``` shell\n",
        "pip freeze > requirements.txt\n",
        "```\n",
        "\n",
        "requirements 形式を手作業で作るときは、行頭が `'#'` である行がコメント行となる。"
      ],
      "metadata": {
        "id": "2lVcb7d6tuy8"
      }
    },
    {
      "cell_type": "markdown",
      "source": [
        "### show コマンド ###"
      ],
      "metadata": {
        "id": "coOFzgXByfWj"
      }
    },
    {
      "cell_type": "markdown",
      "source": [
        "``` shell\n",
        "pip show [options] <package> ...\n",
        "```\n",
        "\n",
        "パッケージの詳細を表示する。\n",
        "\n",
        "``` shell\n",
        "pip show Flask\n",
        "\n",
        "Name: Flask\n",
        "Version: 2.3.3\n",
        "Summary: A simple framework for building complex web applications.\n",
        "Home-page:\n",
        "Author:\n",
        "Author-email:\n",
        "License:\n",
        "Location: C:\\myproject\\.venv\\Lib\\site-packages\n",
        "Requires: blinker, click, itsdangerous, Jinja2, Werkzeug\n",
        "Required-by:\n",
        "```\n",
        "\n",
        "`Requires` と `Required-by` によって依存関係を確認できる。このように、`pip` では、パッケージの依存関係は個別に `show` コマンドを使って確認することになる。\n",
        "\n",
        "`show` コマンドのオプションは省略。"
      ],
      "metadata": {
        "id": "jLbtsuUXyf6R"
      }
    },
    {
      "cell_type": "markdown",
      "source": [
        "### install コマンド ###"
      ],
      "metadata": {
        "id": "D0Gev5RGy6BZ"
      }
    },
    {
      "cell_type": "markdown",
      "source": [
        "``` shell\n",
        "pip install [options] <package> ...\n",
        "```\n",
        "\n",
        "[Python Package Index（略称 PyPI）](https://pypi.org/) からパッケージやその依存パッケージをダウンロードしてインストールする。\n",
        "\n",
        "``` shell\n",
        "pip install [options] -r <requirements file> ...\n",
        "```\n",
        "\n",
        "requirements 形式のファイルから読み取ったパッケージやその依存パッケージをダウンロードしてインストールする。`-r`（または `--requirement`）オプションは requirements 形式のファイルを指定し、複数回使用できる。\n",
        "\n",
        "``` shell\n",
        "pip install --no-index --find-links=<DIR> [options] <package> ...\n",
        "pip install --no-index --find-links=<DIR> [options] -r <requirements file> ...\n",
        "```\n",
        "\n",
        "パッケージ（または requirements 形式のファイルから読み取ったパッケージ）をローカルのフォルダからインストールする。`--no-index` オプションを指定すると、PyPI を参照しない。`--find-links`（または `-f`）オプションを指定すると、指定したフォルダを参照する。\n",
        "\n",
        "``` shell\n",
        "pip install [options] git+<repository URL>\n",
        "pip install [options] git+<repository URL>@<branche>\n",
        "pip install [options] git+<repository URL>@<tag>\n",
        "pip install [options] git+<repository URL>#egg=<project>\n",
        "pip install [options] git+<repository URL>@<branche>#egg=<project>\n",
        "pip install [options] git+<repository URL>@<tag>#egg=<project>\n",
        "```\n",
        "\n",
        "GitHub の git リポジトリからパッケージをインストールする。末尾に `@` を付けて、その後にブランチやタグを指定することもできる。ただし、`git` コマンドがその環境で利用できる必要がある。\n",
        "\n",
        "URL などから pip がプロジェクト名（多くの場合パッケージ名）を特定できない場合は末尾に `#egg=<プロジェクト名>` を付ける必要がある。\n",
        "\n",
        "``` shell\n",
        "pip install [options] <project path>\n",
        "```\n",
        "\n",
        "ローカル環境のプロジェクトをパッケージとしてインストールする。プロジェクトルートのパスを指定する。プロジェクトがパッケージとしてインストール可能な状態であることが必要である。\n",
        "\n",
        "``` shell\n",
        "pip install -e <project path>\n",
        "```\n",
        "\n",
        "ローカル環境のプロジェクトにおいて開発中のパッケージを編集可能モード（editable mode）でインストールする。編集可能モードでインストールされたパッケージのコードに変更を加えると、再インストールをしなくてもそのまま実行環境に反映される。\n",
        "\n",
        "`install` コマンドの他のオプションは次のとおり:\n",
        "\n",
        "| オプション | 意味 |\n",
        "|:---|:---|\n",
        "| `-c <file>`, `--constraint <file>` | 指定された制約ファイルを使用してバージョンを制約する。このオプションは複数回使用できる |\n",
        "| `-U`, `--upgrade` | 指定されたパッケージを利用可能な最新バージョンにアップグレードする。依存関係の処理は、使用されるアップグレード戦略によって異なる |\n",
        "| `--upgrade-strategy <upgrade_strategy>` | アップグレード戦略（＝依存関係のアップグレードをどのように処理するか）を指定する<br /><br />・`eager`: 依存ライブラリも含めて一斉にアップグレードする<br /><br />・`only-if-needed`（デフォルト）: パッケージの依存要件に従って必要な場合にのみ依存ライブラリもアップグレードする |\n",
        "| `--only-binary <format_control>` | `--only-binary :all:` と指定した場合、すべてのパッケージについてソースファイルをダウンロードしない。バイナリ配布のないパッケージでは、このオ<br />プションを使用するとインストールに失敗する |\n",
        "| `--force-reinstall` | このオプションを指定すると、パッケージはすでにアップデートされていたとしても強制的にインストールされる |\n",
        "| `--no-deps` | 依存パッケージをインストールしない |\n",
        "| `--user` | プラットフォームの Python ユーザーインストールディレクトリにインストールする。通常は `~/.local/`、または Windows の `%APPDATA%\\Python` となる |\n",
        "\n",
        "`install -U` コマンドは、パッケージをアップグレードする。アップグレードにより、ほかのパッケージとの依存関係が解消されることがある。その結果として、どのパッケージとも依存関係がなくなったパッケージがあっても自動的に削除されることはないことに注意する。\n",
        "\n",
        "`install -U` コマンドは、`pip` 自身をアップデートすることもできる:\n",
        "\n",
        "``` shell\n",
        "python -m pip install -U pip\n",
        "```\n",
        "\n",
        "`install --user` コマンドによるインストールは、管理者権限が必要でないディレクトリへのインストールが行われる。管理者権限のないユーザとして `pip` でパッケージ管理をしたい場合には、`install --user` コマンドを使用する必要がある。Python ユーザーインストールディレクトリの場所は、`site.USER_BASE` または `PYTHONUSERBASE` 環境変数を設定することでカスタマイズできる。\n",
        "\n",
        "なお、公式の Windows 用 Python インストーラーは、デフォルトで Python を管理者権限が必要でないディレクトリである `%LOCALAPPDATA%\\Programs\\Python` 以下にインストールするので、`pip` のコマンドで管理者権限が必要とならない。"
      ],
      "metadata": {
        "id": "-4n_Uaily7Hx"
      }
    },
    {
      "cell_type": "markdown",
      "source": [
        "### download コマンド ###"
      ],
      "metadata": {
        "id": "uQYCaJcz1AXE"
      }
    },
    {
      "cell_type": "markdown",
      "source": [
        "``` shell\n",
        "pip download [options] <package> ...\n",
        "```\n",
        "\n",
        "PyPI からパッケージやその依存パッケージをダウンロードするがインストールはしない。\n",
        "\n",
        "``` shell\n",
        "pip download [options] -r <requirements file>\n",
        "```\n",
        "\n",
        "requirements 形式のファイルから読み取ったパッケージやその依存パッケージをダウンロードする。\n",
        "\n",
        "`download` コマンドの主なオプションは次のとおり:\n",
        "\n",
        "| オプション | 意味 |\n",
        "|:---|:---|\n",
        "| `-d <DIR>`, `--dest <DIR>` | ダウンロードしたファイルを保存するフォルダを `<DIR>` に指定する。指定しない場合は、カレントディレクトリに保存する |\n",
        "| `--only-binary <format_control>` | `--only-binary :all:` と指定した場合、すべてのパッケージについてソースファイルをダウンロードしない。バイナリ配布のないパッケージでは、このオプショ<br />ンを使用するとダウンロードに失敗する |\n",
        "| `--platform <platform>` | 指定したプラットフォームと互換性のあるバイナリをダウンロードする。指定しない場合は、実行中のシステムのプラットフォームと互換性のあるバイナリが<br />ダウンロードされる |\n",
        "| `--python-version <python_version>` | 指定した Python バージョンと互換性のあるバイナリをダウンロードする。指定するバージョンは `3`, `3.8`, `3.8.3` のように書く。指定しない場合は、現在実行<br  />している Python インタープリターのバージョンが使われる |"
      ],
      "metadata": {
        "id": "MbhyImnE1CJU"
      }
    },
    {
      "cell_type": "markdown",
      "source": [
        "### uninstall コマンド ###"
      ],
      "metadata": {
        "id": "T8l1oE3o2Thx"
      }
    },
    {
      "cell_type": "markdown",
      "source": [
        "``` shell\n",
        "pip uninstall [options] <package> ...\n",
        "```\n",
        "\n",
        "指定したパッケージをアンインストールする。パッケージと同時にインストールした依存パッケージはアンインストールされないことに注意する。\n",
        "\n",
        "``` shell\n",
        "pip uninstall [options] -r <requirements file> ...\n",
        "```\n",
        "\n",
        "requirements 形式のファイルから読み取ったパッケージをアンインストールする。依存パッケージはファイルに書いてあればアンインストールされるが、そうでない場合はアンインストールされないことに注意する。\n",
        "\n",
        "uninstall コマンドの主なオプションは次のとおり:\n",
        "\n",
        "| オプション | 意味 |\n",
        "|:---|:---|\n",
        "|`-y`, `--yes` | このオプションを指定すると、アンインストール時の確認を表示しない |\n",
        "\n",
        "`install -U` コマンドや `uninstall` コマンドを実行した結果、どのパッケージとも依存関係がなくなったパッケージは、`list --not-required` コマンドで確認できる。その中のパッケージが不要なら手動でアンインストールする。"
      ],
      "metadata": {
        "id": "Vq6O2I9Q2UW-"
      }
    },
    {
      "cell_type": "markdown",
      "source": [
        "### check コマンド ###"
      ],
      "metadata": {
        "id": "lFid0tWJordt"
      }
    },
    {
      "cell_type": "markdown",
      "source": [
        "``` shell\n",
        "pip check\n",
        "```\n",
        "\n",
        "インストールされたパッケージの依存関係に互換性の問題がないか確認する。\n",
        "\n",
        "互換性の問題がない場合、標準出力に「No broken requirements found.」と表示される。\n",
        "\n",
        "たとえば、インストールされた `numba` が `Numpy` のバージョン 1.21 から 1.25 までに依存しているのに、インストールされた `Numpy` のバージョンが 1.26 である場合、次のように表示される:\n",
        "\n",
        "``` shell\n",
        "numba 0.58.0 has requirement numpy<1.26,>=1.21, but you have numpy 1.26.0.\n",
        "```"
      ],
      "metadata": {
        "id": "rYy0Nlm-ourW"
      }
    },
    {
      "cell_type": "markdown",
      "source": [
        "### バージョン制約 ###"
      ],
      "metadata": {
        "id": "iS2IcGSO580-"
      }
    },
    {
      "cell_type": "markdown",
      "source": [
        "`install` コマンドおよび `download` コマンドでパッケージを指定するとき、バージョン制約を付けることができる。この場合、パッケージの名前とバージョン制約を引用符で囲む。\n",
        "\n",
        "``` shell\n",
        "pip install \"SomePackage==1.0.4\"\n",
        "```\n",
        "\n",
        "バージョン制約には、[PEP 440 のバージョン指定子](https://peps.python.org/pep-0440/#version-specifiers)が使える。すなわち\n",
        "\n",
        "  * `~=`: 互換性があるリリース\n",
        "  * `==`: 一致するバージョン\n",
        "  * `!=`: 除外するバージョン\n",
        "  * `<=`, `>=`: 以前、または、以降となるバージョン\n",
        "  * `<`, `>`: より前、または、より後のバージョン\n",
        "\n",
        "これらをカンマ `,` で区切って組み合わせることもできる。また、`'=='` を使う場合、バージョンにワイルドカード `*` を使うと、ワイルドカードの位置に最も近いバージョンが許可される。\n",
        "\n",
        "``` shell\n",
        "pip install \"SomePackage~=1.0.4\"\n",
        "```\n",
        "\n",
        "これは、`==1.0.*` でかつ `>=1.0.4` であるバージョンを許可することを意味する。\n",
        "\n",
        "``` shell\n",
        "pip install \"SomePackage>=1,<2\"\n",
        "```\n",
        "\n",
        "これは、1.x 以降で 2.x より前のバージョンを許可することを意味する。\n",
        "\n",
        "`install -U` コマンドでバージョン制約を付ける場合、アップグレードだけでなく、ダウングレードもできる。\n",
        "\n",
        "いくつかのパッケージが依存パッケージを共有する場合、各互換要件が異なるときには、パッケージのインストール順序に注意する必要がある。たとえば、A パッケージは C パッケージのバージョン 1.1.x 以降に依存していて、B パッケージは C パッケージのバージョン 0.9.x から 1.2.x までに依存していて、C パッケージの最新バージョンは 1.3.0 であるとする。この場合、先に A パッケージをインストールすると、C パッケージのバージョン 1.3.0 をダウンロードし、次に B パッケージをインストールするときに C パッケージはインストール済みと扱われる結果、C パッケージは B パッケージと互換性のない状態となる。この場合は、先に B パッケージをインストールし、その後に A パッケージをインストールするとよい。あるいは、インストール済みの C パッケージをダウングレードする。"
      ],
      "metadata": {
        "id": "Ofx5mPZv597X"
      }
    },
    {
      "cell_type": "markdown",
      "source": [
        "仮想環境\n",
        "--------"
      ],
      "metadata": {
        "id": "jmu6QSVfY4Bq"
      }
    },
    {
      "cell_type": "markdown",
      "source": [
        "仮想環境 `venv` の基本的な使い方については、[公式チュートリアル](https://docs.python.org/ja/3/tutorial/venv.html)。\n",
        "\n",
        "`venv` は Python 環境をコピーして仮想環境を作るのではなく、シンボリックリンクを使う。また、有効化（activate）は環境変数 `PATH` の書き換えをしているだけである。したがって、仮想環境自体はそれほどディスク容量を必要としない。"
      ],
      "metadata": {
        "id": "GiIxp2VP_MmH"
      }
    },
    {
      "cell_type": "markdown",
      "source": [
        "### --upgrade-deps オプション ###"
      ],
      "metadata": {
        "id": "S1AcA4Ed_O4F"
      }
    },
    {
      "cell_type": "markdown",
      "source": [
        "`venv` の `--upgrade-deps` オプションを使用すると、pip と setuptools を [PyPI](https://pypi.org/) での最新版に更新する（Python 3.9から）。\n",
        "\n",
        "``` shell\n",
        "python -m venv --upgrade-deps .venv\n",
        "```\n",
        "\n",
        "Python 3.8 以前なら、次のようにする。\n",
        "\n",
        "``` shell\n",
        "python -m venv .venv\n",
        ".venv/bin/pip install -U pip setuptools\n",
        "```"
      ],
      "metadata": {
        "id": "D8l_KIyb_RC2"
      }
    },
    {
      "cell_type": "markdown",
      "source": [
        "### Windows の場合 ###"
      ],
      "metadata": {
        "id": "Gu89w-pt_Vbw"
      }
    },
    {
      "cell_type": "markdown",
      "source": [
        "`py.exe` を使うと、指定したバージョンの Python で仮想環境を作成することができる。\n",
        "\n",
        "``` powershell\n",
        "PS> py -3.11 -m venv --copies --upgrade-deps .venv\n",
        "```\n",
        "\n",
        "`--copies` オプションを指定すると、シンボリックリンクを使わずファイルをコピーする。Windows では仮想環境にシンボリックリンクを使うのは推奨されない（[公式ドキュメント](https://docs.python.org/ja/3.12/library/venv.html#creating-virtual-environments)参照）。\n",
        "\n",
        "PowerShell 上で仮想環境のアクティベーション `.venv\\Scripts\\activate` を実行するには、`Activate.ps1` スクリプトが使えるように実行ポリシーを設定しなければならない。この設定は次の PowerShell コマンドでできる（管理者権限で PowerShell を起動しておくこと）:\n",
        "\n",
        "``` powershell\n",
        "PS > Set-ExecutionPolicy -ExecutionPolicy RemoteSigned -Scope CurrentUser\n",
        "```"
      ],
      "metadata": {
        "id": "aS3ybTdGuc9N"
      }
    },
    {
      "cell_type": "markdown",
      "source": [
        "### VS Code の場合 ###"
      ],
      "metadata": {
        "id": "eYAVQ1IKLf0P"
      }
    },
    {
      "cell_type": "markdown",
      "source": [
        "VS Code では、Python 拡張機能により仮想環境の作成が可能である。\n",
        "\n",
        "VS Code 上で仮想環境を作成するには、あらかじめプロジェクトルートを作成し、File メニューの「Open Folder...」（フォルダーを開く）でプロジェクトルートを開いた状態（左側のエクスプローラーでプロジェクトルートがトップ項目になっている状態）にする必要がある。左側のエクスプローラーで Python スクリプトファイルを開き、右下の Python インタープリターのバージョンをクリックすると、インタープリターの選択メニューが表示され、「Create Virtual Environment...」（仮想環境の作成）を選択する。これにより、インストールされている Python の中から指定したバージョンの Python で仮想環境を作成することができる。\n",
        "\n",
        "仮想環境が作成されると、VS Code のターミナルは自動的に仮想環境を有効化する。"
      ],
      "metadata": {
        "id": "Z6GSRhYlLg-Q"
      }
    },
    {
      "cell_type": "markdown",
      "source": [
        "### 仮想環境の運用 ###"
      ],
      "metadata": {
        "id": "u5mqlocbZFxh"
      }
    },
    {
      "cell_type": "markdown",
      "source": [
        "プロジェクトの仮想環境内の依存ライブラリを管理する場合、`requirements.txt` だけでは柔軟にバージョンを制約することができない。そこで、次の 3 つのファイルを使うようにする。\n",
        "\n",
        "  1. `requirements.txt`: プロジェクトが依存するパッケージを手動で宣言する\n",
        "  2. `requirements.lock`: 新しい仮想環境に同じバージョンをインストールために使う\n",
        "  3. `constraints.txt`: プロジェクト間で共通するバージョン制約を手動で宣言する\n",
        "\n",
        "`requirements.txt` には、プロジェクトの依存ライブラリを requirements 形式により手作業で書く。バージョン制約も可能。\n",
        "\n",
        "``` text\n",
        "# requirements.txt\n",
        "Flask\n",
        "python-dateutil~=2.7.1\n",
        "```\n",
        "\n",
        "新しい仮想環境の中で、依存ライブラリをインストールする場合は、`requirements.txt` を使う。\n",
        "\n",
        "``` shell\n",
        "PS> pip install -r requirements.txt\n",
        "```\n",
        "\n",
        "このとき、間接的に依存するパッケージもインストールされる。現在の仮想環境を簡単に再現できるようするため、`pip freeze` コマンドを使うのであるが、出力先を `requirements.lock` とする。\n",
        "\n",
        "``` shell\n",
        "PS> pip freeze > requirements.lock\n",
        "```\n",
        "\n",
        "新しい仮想環境に同じバージョンをインストールするのには、`requirements.txt` の代わりに `requirements.lock` ファイルを使う。\n",
        "\n",
        "``` shell\n",
        "PS> pip install -r requirements.lock\n",
        "```\n",
        "\n",
        "仮想環境にインストールしたライブラリを更新するときには、そのたびに `requirements.lock` も更新する必要がある。\n",
        "\n",
        "複数のプロジェクトの間に、利用するライブラリとそのバージョンを共通化させたいことがある。たとえば、すべてのプロジェクトが `eventlet` を使うわけではないが、使う場合にはバージョンを `0.17.4` で共通化させたいなら、`constraints.txt` に次のように書く。\n",
        "\n",
        "``` text\n",
        "# constraints.txt\n",
        "eventlet == 0.17.4\n",
        "```\n",
        "\n",
        "`constraints.txt` を使うときは、次のようにする。\n",
        "\n",
        "``` shell\n",
        "PS> pip install -r <プロジェクトの requirements.txt> -c <共通の constraints.txt>\n",
        "```\n",
        "\n",
        "これで、プロジェクトの `requirements.txt` に `eventlet`（や `eventlet` に依存するパッケージ）が書かれていたらそのバージョンが `0.17.4` に固定化され、書かれてなければ `eventlet` はインストールされない。\n",
        "\n",
        "なお constraints.txt を単体で使おうとすると、エラーが発生する。\n",
        "\n",
        "``` shell\n",
        "PS> pip install -c constraints.txt\n",
        "\n",
        "ERROR: You must give at least one requirement to install (see \"pip help install\")\n",
        "```\n",
        "\n",
        "仮想環境内パッケージのアップグレードやアンインストールのために `pip install -U` コマンドや `pip uninstall` コマンドを使わないほうがよい。`pip` の依存解決機能は貧弱なので、`rmdir` コマンドで仮想環境をディレクトリごと削除し、仮想環境を一から構築し直すほうが簡単である。"
      ],
      "metadata": {
        "id": "HLwzS6DrxW-6"
      }
    },
    {
      "cell_type": "markdown",
      "source": [
        "コンテナ\n",
        "--------"
      ],
      "metadata": {
        "id": "5msB6FiG8vwd"
      }
    },
    {
      "cell_type": "markdown",
      "source": [
        "### コンテナ型仮想化 ###"
      ],
      "metadata": {
        "id": "6HSAGIY3jBB0"
      }
    },
    {
      "cell_type": "markdown",
      "source": [
        "外部のアプリケーションと連携する Python プログラムを開発する場合、Python の仮想環境ではなく、マシン環境そのものを仮想化できると便利である。\n",
        "\n",
        "仮想化技術には、大きく、仮想マシンを稼働させる方法と、アプリケーション実行環境を仮想化する方法の 2 種類がある。前者は、VirtualBox などの仮想化ソフトウェアや、ハイパーバイザー（hypervisor）と呼ばれる、仮想化のための OS のようなものを使用して、ゲスト OS を動かす方法である。後者は、Linux の**コンテナ**（containers）と呼ばれる仮想化技術を使用して、アプリケーション・プロセスをシステムの他の部分から独立させることであたかも別のマシン上であるかのように動かす方法である。コンテナは、下図のように 1 つの OS で稼働するので軽量で高速に起動、停止などができる（[RedHat 公式サイトの記事](https://www.redhat.com/ja/topics/containers/whats-a-linux-container)から引用）。\n",
        "\n",
        "![](https://www.redhat.com/rhdc/managed-files/styles/wysiwyg_full_width/private/virtualization-vs-containers.png?itok=nzOffdau)"
      ],
      "metadata": {
        "id": "pOYkkzo1jCL-"
      }
    },
    {
      "cell_type": "markdown",
      "source": [
        "### Docker と Podman ###"
      ],
      "metadata": {
        "id": "KmjBHcHCpgjd"
      }
    },
    {
      "cell_type": "markdown",
      "source": [
        "[Docker](https://www.docker.com/ja-jp/) は、Docker イメージからコンテナを作成し稼働することができるツール（CLI およびデスクトップアプリ）である。Docker イメージは、コンテナを立ち上げるために必要な設定がまとめられたテンプレートであり、配布することも可能である。さらに Docker は、Dockerfile と呼ばれる設定ファイルから Docker イメージを構築する機能も提供している。Dockerfile はテキストファイルなので作成・配布・変更が容易である。対応する OS は Linux, macOS, Windows となっている。Docker 社が開発していて、一部の商用利用に有料サブスクリプション契約が必要である。\n",
        "\n",
        "[Podman](https://podman.io/) は、Docker と同様のツールであり、実際、Docker と互換性を持つように作られていて、コマンド引数の指定方法はすべて Docker と同じである。Docker の技術的な問題点を改善する目的で、Red Hat 社を中心に OSS として開発されている。ライセンスは Apache license 2.0。\n",
        "\n",
        "Windows 環境の場合、Docker および Podman を使うには、WSL2 が利用可能でなければならない。次の 2 項目を確認する。\n",
        "\n",
        "  1. 「Windows の機能」で「Linux 用 Windows サブシステム」および「仮想マシンプラットフォーム」が有効化されている。\n",
        "  2. 「Microsoft Store」で「Windows Subsystem for Linux」がインストールされている。\n",
        "\n",
        "Windows 環境に Podman を導入するには、公式サイトから Podman Desktop （デスクトップアプリ）と Podman CLI （コマンドライン用ツール）の両方のインストーラーをダウンロードし、実行する。Podman Desktop を起動して、Podman Machine を作成する。`podman-machine-default` という Linux ディストリビューションがインストールされる。\n",
        "\n",
        "`wsl -l -v` コマンドで、インストールされている Linux ディストリビューションが一覧表示され、`podman-machine-default` がインストールされていることがわかる。\n",
        "\n",
        "``` shell\n",
        "PS> wsl -l -v\n",
        "  NAME                      STATE           VERSION\n",
        "* podman-machine-default    Running         2\n",
        "```\n",
        "\n",
        "`podman-machine-default` が不要になって削除したい場合に、もし何らかの理由で Podman から削除できないなら、次のコマンドで Linux ディストリビューションをアンインストールする方法を使う。\n",
        "\n",
        "``` shell\n",
        "PS> wsl --unregister podman-machine-default\n",
        "```"
      ],
      "metadata": {
        "id": "oMzt5aOg8wtP"
      }
    },
    {
      "cell_type": "markdown",
      "source": [
        "### Dev Containers ###"
      ],
      "metadata": {
        "id": "1kx7V5fc-Qqf"
      }
    },
    {
      "cell_type": "markdown",
      "source": [
        "Docker や Podman を使ってコンテナを作成・稼働する場合、コマンドを何回か入力し、あるいは Dockerfile を作成するなど工数が多く、コマンドや Dockerfile の書き方を知る必要があって学習コストが高い。\n",
        "\n",
        "VS Code の Dev Containers 拡張機能を使うと、VS Code 上で対話的にコンテナを作成・稼働することができ、さらに、以下のようにローカルの環境とコンテナ内の環境がうまく連携される。\n",
        "\n",
        "  * VS Code や検証用ブラウザは普段ローカルで使うものと同じで、ターミナルを開くと Linux につながっている以外の違いはない。\n",
        "  * ワークスペースのマウント・同期が自動的に行われる。\n",
        "  * git の設定や ssh の鍵などが自動同期される。\n",
        "  * ターミナルで起動したポートが自動的にホスト側にマッピングされる。\n",
        "\n",
        "Dev Containers から Podman を利用するには、VS Code の 設定 `dev.containers.dockerPath` に Podman の実行ファイルの名前またはパスを指定する必要がある。\n",
        "\n",
        "Dev Containers の動作は、PyCon APAC 2023 の講演配信動画（13:18）で見ることができる。"
      ],
      "metadata": {
        "id": "-_X3Uxc3-R6V"
      }
    },
    {
      "cell_type": "code",
      "source": [
        "from IPython.display import YouTubeVideo\n",
        "YouTubeVideo('JF4yapRXilw?start=798', width=640, height=360)"
      ],
      "metadata": {
        "colab": {
          "base_uri": "https://localhost:8080/",
          "height": 381
        },
        "id": "1IdCK7CU17ge",
        "outputId": "d09f4273-35cf-481c-902d-bfe401aada56"
      },
      "execution_count": null,
      "outputs": [
        {
          "output_type": "execute_result",
          "data": {
            "text/plain": [
              "<IPython.lib.display.YouTubeVideo at 0x7adf7b44d9f0>"
            ],
            "text/html": [
              "\n",
              "        <iframe\n",
              "            width=\"640\"\n",
              "            height=\"360\"\n",
              "            src=\"https://www.youtube.com/embed/JF4yapRXilw?start=798\"\n",
              "            frameborder=\"0\"\n",
              "            allowfullscreen\n",
              "            \n",
              "        ></iframe>\n",
              "        "
            ]
          },
          "metadata": {},
          "execution_count": 9
        }
      ]
    },
    {
      "cell_type": "markdown",
      "source": [
        "動画のように、ウィンドウ左下ボタンを押して表示されるメニューの「Add Development Container Configuration Files ...」（開発コンテナー構成ファイルを追加...）を選択し、基礎となるイメージを選択、さらに追加の機能を選んで先に進むと、プロジェクトのルートフォルダ内に `.devcontainer` フォルダが作成され、その中の `devcontainer.json` ファイルが開いた状態になる。\n",
        "\n",
        "``` javascript\n",
        "// For format details, see https://aka.ms/devcontainer.json. For config options, see the\n",
        "// README at: https://github.com/devcontainers/templates/tree/main/src/python\n",
        "{\n",
        "\t\"name\": \"Python 3\",\n",
        "\t// Or use a Dockerfile or Docker Compose file. More info: https://containers.dev/guide/dockerfile\n",
        "\t\"image\": \"mcr.microsoft.com/devcontainers/python:1-3.11-bullseye\"\n",
        "\n",
        "\t// Features to add to the dev container. More info: https://containers.dev/features.\n",
        "\t// \"features\": {},\n",
        "\n",
        "\t// Use 'forwardPorts' to make a list of ports inside the container available locally.\n",
        "\t// \"forwardPorts\": [],\n",
        "\n",
        "\t// Use 'postCreateCommand' to run commands after the container is created.\n",
        "\t// \"postCreateCommand\": \"pip3 install --user -r requirements.txt\",\n",
        "\n",
        "\t// Configure tool-specific properties.\n",
        "\t// \"customizations\": {},\n",
        "\n",
        "\t// Uncomment to connect as root instead. More info: https://aka.ms/dev-containers-non-root.\n",
        "\t// \"remoteUser\": \"root\"\n",
        "}\n",
        "```\n",
        "\n",
        "`\"image\": ...` の行の末尾にカンマ `,` を入れ、最後の行の `\"remoteUser\": \"root\"` をコメントアウトする。\n",
        "\n",
        "``` javascript\n",
        "// For format details, see https://aka.ms/devcontainer.json. For config options, see the\n",
        "// README at: https://github.com/devcontainers/templates/tree/main/src/python\n",
        "{\n",
        "\t\"name\": \"Python 3\",\n",
        "\t// Or use a Dockerfile or Docker Compose file. More info: https://containers.dev/guide/dockerfile\n",
        "\t\"image\": \"mcr.microsoft.com/devcontainers/python:1-3.11-bullseye\",\n",
        "\n",
        "\t// Features to add to the dev container. More info: https://containers.dev/features.\n",
        "\t// \"features\": {},\n",
        "\n",
        "\t// Use 'forwardPorts' to make a list of ports inside the container available locally.\n",
        "\t// \"forwardPorts\": [],\n",
        "\n",
        "\t// Use 'postCreateCommand' to run commands after the container is created.\n",
        "\t// \"postCreateCommand\": \"pip3 install --user -r requirements.txt\",\n",
        "\n",
        "\t// Configure tool-specific properties.\n",
        "\t// \"customizations\": {},\n",
        "\n",
        "\t// Uncomment to connect as root instead. More info: https://aka.ms/dev-containers-non-root.\n",
        "\t\"remoteUser\": \"root\"\n",
        "}\n",
        "```\n",
        "\n",
        "また、コメントにあるように、`\"postCreateCommand\": ...` の行を追加すると、後ろのコマンドがコンテナ作成時の 1 回のみ実行される。プロジェクトルート内の `requirements.txt` から Python パッケージを一括してインストールすることが可能である。\n",
        "\n",
        "``` javascript\n",
        "{\n",
        "\t...\n",
        "\t\"postCreateCommand\": \"pip install -r requirements.txt\",\n",
        "\t...\n",
        "}\n",
        "```\n",
        "\n",
        "なお、`\"postStartCommand\": ...` の行を追加すると、後ろのコマンドが、コンテナが正常に開始されるたびに実行される。\n",
        "\n",
        "再び左下ボタンを押して「Reopen in Container」（コンテナーで再度開く）を選択すると、コンテナが作成され稼働する。"
      ],
      "metadata": {
        "id": "wKDjeNi6b6l_"
      }
    },
    {
      "cell_type": "markdown",
      "source": [
        "pyproject.toml\n",
        "--------------"
      ],
      "metadata": {
        "id": "HPln4zV6Ga-Z"
      }
    },
    {
      "cell_type": "markdown",
      "source": [
        "### TOML ###"
      ],
      "metadata": {
        "id": "XZ-wm2XOfRDY"
      }
    },
    {
      "cell_type": "markdown",
      "source": [
        "TOML はシンプルで明確な構文を採用した設定ファイルのフォーマットである。[仕様書 v1.0.0](https://toml.io/ja/v1.0.0) が公開されている。その概要は以下の通り。\n",
        "\n",
        "  * キーと値のペアから構成され、キーと値は等号 `'='` で区切られる\n",
        "  * キーと値のペアの後には改行（または EOF）が必要である\n",
        "  * 値として以下のデータ型を扱うことができる\n",
        "      * 文字列\n",
        "      * 整数\n",
        "      * 浮動小数点数\n",
        "      * ブール値\n",
        "      * オフセット付き日時\n",
        "      * ローカルの日時\n",
        "      * ローカルの日付\n",
        "      * ローカルの時刻\n",
        "      * 配列\n",
        "      * インラインテーブル\n",
        "  * キーは引用符なし、引用符付きどちらでもよいが、引用符なしの場合は ASCII 英数字、アンダースコア、およびダッシュ `[A-Za-z0-9_-]` のみを含めることができる\n",
        "  * キーはドット `'.'` を含めることでグループ化される（テーブルを定義する）\n",
        "  * テーブル（ハッシュテーブルや辞書とも呼ばれる）は、キーと値のペアの集まりであり、ヘッダーまたはドット付きキーによって定義される\n",
        "  * ヘッダーはテーブル名を囲む角括弧 `[]` が単独で配置される\n",
        "  * 次のヘッダーまたは EOF までが、そのテーブルのキーと値のペアとなる\n",
        "  * テーブルの命名規則はキーの場合と同じである\n",
        "  * 大文字と小文字は区別される\n",
        "  * UTF-8 でエンコードされている必要がある\n",
        "  * インデントは空白として扱われ、無視される\n",
        "  * `'#'` に続けて改行までがコメントとされる\n",
        "\n",
        "``` ini\n",
        "# TOML ドキュメントの例\n",
        "\n",
        "title = \"TOML Example\"          # 裸のキー\n",
        "\"character encoding\" = \"utf-8\"  # 引用符付きのキー\n",
        "\n",
        "# 一重引用符で囲まれた文字列はバックスラッシュでエスケープされない\n",
        "winpath1 = 'C:\\Users\\nodejs\\templates'\n",
        "\n",
        "# 両側を 3 つの引用符で囲んだ文字列は改行を許可され、二重引用符ならバックスラッシュで改行をエスケープできる\n",
        "description = \"\"\"Tom's Obvious, Minimal Language.\n",
        "\n",
        "TOML aims to be a minimal configuration file format \\\n",
        "that's easy to read due to obvious semantics.\"\"\"\n",
        "\n",
        "# 整数や浮動小数点数は読みやすさを高めるためにアンダースコアを使用できる\n",
        "flt_key = 224_617.445_991_228\n",
        "\n",
        "# 配列\n",
        "colors = [ \"red\", \"yellow\", \"green\" ]\n",
        "\n",
        "# 配列内の改行が可能\n",
        "hosts = [\n",
        "  \"alpha\",\n",
        "  \"omega\"\n",
        "]\n",
        "\n",
        "# インラインテーブル\n",
        "name = { first = \"Tom\", last = \"Preston-Werner\" }\n",
        "\n",
        "# 配列には異なるデータ型の値を混在させることができる\n",
        "contributors = [\n",
        "  \"Foo Bar <foo@example.com>\",\n",
        "  { name = \"Baz Qux\", email = \"bazqux@example.com\", url = \"https://example.com/bazqux\" }\n",
        "]\n",
        "\n",
        "# ドット付きでテーブルを定義する\n",
        "owner.name = \"Tom Preston-Werner\"\n",
        "owner.dob = 1979-05-27T07:32:00-08:00\n",
        "# これは以下と同じ\n",
        "#   [owner]\n",
        "#   name = \"Tom Preston-Werner\"\n",
        "#   dob = 1979-05-27T07:32:00-08:00\n",
        "\n",
        "[database]\n",
        "server = \"192.168.1.1\"\n",
        "ports = [ 8001, 8001, 8002 ]\n",
        "connection_max = 5000\n",
        "enabled = true\n",
        "\n",
        "[servers]\n",
        "\n",
        "  # タブもしくはスペースで自由にインデントできる\n",
        "  [servers.alpha]\n",
        "  ip = \"10.0.0.1\"\n",
        "  dc = \"eqdc10\"\n",
        "\n",
        "  [servers.beta]\n",
        "  ip = \"10.0.0.2\"\n",
        "  dc = \"eqdc10\"\n",
        "```"
      ],
      "metadata": {
        "id": "qAZpgB56f79X"
      }
    },
    {
      "cell_type": "markdown",
      "source": [
        "### pyproject.toml の仕様 ###"
      ],
      "metadata": {
        "id": "mPRGzKV_F25Z"
      }
    },
    {
      "cell_type": "markdown",
      "source": [
        "`pyproject.toml` は、[PEP 518](https://peps.python.org/pep-0518/) により、ビルドに関する情報や関連ツールの独自情報をプロジェクト単位で設定するために使用されることが提案された TOML ファイルである。各プロジェクトのルートに置かれる。\n",
        "\n",
        "[PEP 517](https://peps.python.org/pep-0517/)、[PEP 621](https://peps.python.org/pep-0621/)により、`pyproject.toml` の仕様が標準化されている。このファイルの中には 3 個の TOML テーブルを置くことができる。\n",
        "\n",
        "  * `[build-system]` テーブルは、プロジェクトをビルドするための設定に使われる。\n",
        "  * `[project]` テーブルは、プロジェクトの基本的なメタデータを指定するために使われる。\n",
        "  * `[tool]` テーブルは、各関連ツールに特化したサブテーブルを保持するために使われる。\n",
        "\n",
        "`[build-system]` テーブルには、以下のキーが含まれている。\n",
        "\n",
        "| キー | データ型 | 意味 |\n",
        "|:---|:---|:---|\n",
        "| `build-backend` | 文字列 | 使用するビルドバックエンド |\n",
        "| `requires`| 文字列の配列 | プロジェクトをビルドするのに必要な依存関係のリスト。`requires = [\"setuptools >= 61.0\"]` のようにバージョンを制限することができる |\n",
        "\n",
        "`[project]` テーブルは、以下のキーやサブテーブルを含めることが許されている。\n",
        "\n",
        "| フィールド名 | データ型 | 意味 |\n",
        "|:---|:---|:---|\n",
        "| `dynamic` | 文字列の配列 | 動的であるとマークされるフィールド。動的なメタデータには、値が直接書き込まれるのではなく、ビルドバックエンドに計算させるた<br />めの式が書き込まれる。どのような式を書くかは、ビルドバックエンドの説明書に従うこと |\n",
        "| `name` | 文字列 | プロジェクトの名前。このフィールドは動的であるとマークできない。使用できる文字は ASCII 英数字・アンダースコア `'_'`・ハイフン<br /> `'-'`・ピリオド `'.'` だけで、アンダースコア・ハイフン・ピリオドで始まってはいけない |\n",
        "| `version` | 文字列 | プロジェクトのバージョン。`major.minor` または `major.minor.micro` の形式とすること |\n",
        "| `description` | 文字列 | プロジェクトの概要説明 |\n",
        "| `readme` | 文字列またはテーブル | プロジェクトの完全な説明。`README.md` などのファイルのパスでもよい |\n",
        "| `requires-python` | 文字列 | プロジェクトの Python バージョン要件。値は `\">=3.8\"` のようなバージョン指定子 |\n",
        "| `license` | テーブル | ライセンスを指定するために使われるサブテーブル。`file` キーか `text` キーのいずれか 1 つだけ含む。`file` キーにはプロジェクトの<br />ライセンスが含まれるファイルへの相対パスを指定できる。`text` キーにはプロジェクトのライセンスである文字列値を指定できる |\n",
        "| `authors` | インラインテーブルの配列 | プロジェクトの作者を `name` キーと `email` キーを持つインラインテーブルの配列で指定する |\n",
        "| `maintainers` | インラインテーブルの配列 | プロジェクトのメンテナーを `name` キーと `email` キーを持つインラインテーブルの配列で指定する |\n",
        "| `keywords` | 文字列の配列 | プロジェクトのキーワード。PyPI 上の検索でキーワードが与えられた時にこのプロジェクトをサジェストするのを助ける |\n",
        "| `classifiers` | 文字列の配列 | プロジェクトに合致する PyPI 分類子 <classifier> のリスト |\n",
        "| `dependencies` | 文字列の配列またはテーブル | プロジェクトの依存関係。`pip install` と同様のバージョン制約を付けることができる |\n",
        "| `optional-dependencies` | 文字列の配列またはテーブル | プロジェクトに必須ではない依存関係。たとえば、GUI 用の依存関係や開発専用の依存関係など。サブテーブルとしたときは、その中<br />のキー `key` を指定して `pip install your-project-name[key]` を実行すると、追加の依存関係付きでインストールすることができる |\n",
        "| `urls` | テーブル | プロジェクトに関連のある URL を保持するサブテーブル。キーの名前はそのまま PyPI 上のプロジェクトページの左サイドバーに表示<br />される項目名に使われる |\n",
        "| `scripts` | テーブル | プロジェクトがコマンドもインストールされるパッケージである場合にコマンドを生成するために使われるサブテーブル。たとえば、こ<br />のテーブルに `spam-cli = \"spam:main_cli\"` があると `from spam import main_cli; main_cli()` と同等のことを行うコマンド `spam-cli`<br /> が生成される |\n",
        "| `gui-scripts` | テーブル | プロジェクトが Windows で GUI を提供するパッケージである場合に GUI を起動するコマンドを生成するために使われるサブテーブ<br />ル。使い方は `[project.scripts]` サブテーブルと同じ |\n",
        "| `entry-points` | テーブル | プロジェクトが特定のパッケージのプラグインであることを宣言するためのテーブルを保持するために使われるサブテーブル |\n",
        "\n",
        "`name` と `version` は、必ず `[project]` テーブルに含まれていなければならない。\n",
        "\n",
        "バージョン番号の流儀は、Python のバージョン番号を参考にするとよい（[公式 FAQ](https://docs.python.org/ja/3/faq/general.html#how-does-the-python-version-numbering-scheme-work) より）。\n",
        "\n",
        ">Python のバージョン番号は \"A.B.C\" または \"A.B\" が付けられます:\n",
        ">\n",
        ">  * A はメジャーバージョン番号です -- 言語に本当に大きな変更があった場合に増やされます。\n",
        ">  * B はマイナーバージョン番号です -- 驚きの少ない変更があった場合に増やされます。\n",
        ">  * C はマイクロバージョン番号です -- バグフィックスリリースごとに増やされます。\n",
        "\n",
        "次の TOML 形式は `pyproject.toml` の例である。\n",
        "\n",
        "``` ini\n",
        "[build-system]\n",
        "requires = [\"setuptools>=61.0\"]\n",
        "build-backend = \"setuptools.build_meta\"\n",
        "\n",
        "[project]\n",
        "name = \"spam-eggs\"\n",
        "version = \"2020.0.0\"\n",
        "dependencies = [\n",
        "  \"httpx\",\n",
        "  \"gidgethub[httpx]>4.0.0\",\n",
        "  \"django>2.1; os_name != 'nt'\",\n",
        "  \"django>2.0; os_name == 'nt'\",\n",
        "]\n",
        "requires-python = \">=3.8\"\n",
        "authors = [\n",
        "  {name = \"Pradyun Gedam\", email = \"pradyun@example.com\"},\n",
        "  {name = \"Tzu-Ping Chung\", email = \"tzu-ping@example.com\"},\n",
        "  {name = \"Another person\"},\n",
        "  {email = \"different.person@example.com\"},\n",
        "]\n",
        "maintainers = [\n",
        "  {name = \"Brett Cannon\", email = \"brett@example.com\"}\n",
        "]\n",
        "description = \"Lovely Spam! Wonderful Spam!\"\n",
        "readme = \"README.rst\"\n",
        "license = {file = \"LICENSE.txt\"}\n",
        "keywords = [\"egg\", \"bacon\", \"sausage\", \"tomatoes\", \"Lobster Thermidor\"]\n",
        "classifiers = [\n",
        "  \"Development Status :: 4 - Beta\",\n",
        "  \"Programming Language :: Python\"\n",
        "]\n",
        "\n",
        "dependencies = [\n",
        "  \"httpx\",\n",
        "  \"gidgethub[httpx]>4.0.0\",\n",
        "  \"django>2.1; os_name != 'nt'\",\n",
        "  \"django>2.0; os_name == 'nt'\"\n",
        "]\n",
        "\n",
        "[project.optional-dependencies]\n",
        "test = [\n",
        "  \"pytest < 5.0.0\",\n",
        "  \"pytest-cov[all]\"\n",
        "]\n",
        "\n",
        "[project.urls]\n",
        "Homepage = \"https://example.com\"\n",
        "Documentation = \"https://readthedocs.org\"\n",
        "Repository = \"https://github.com/me/spam.git\"\n",
        "\"Bug Tracker\" = \"https://github.com/me/spam/issues\"\n",
        "Changelog = \"https://github.com/me/spam/blob/master/CHANGELOG.md\"\n",
        "\n",
        "[project.scripts]\n",
        "spam-cli = \"spam:main_cli\"\n",
        "\n",
        "[project.gui-scripts]\n",
        "spam-gui = \"spam:main_gui\"\n",
        "\n",
        "[project.entry-points.\"spam.magical\"]\n",
        "tomatoes = \"spam:main_tomatoes\"\n",
        "```\n",
        "\n",
        "パッケージ管理に標準の `pip` を使う場合、`[project]` テーブルの `dependencies` フィールドに指定する依存パッケージを `requirements.txt` から手作業で取り込む必要がある。"
      ],
      "metadata": {
        "id": "uer2Ycp_Gby7"
      }
    }
  ]
}