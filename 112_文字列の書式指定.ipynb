{
  "nbformat": 4,
  "nbformat_minor": 0,
  "metadata": {
    "colab": {
      "provenance": [],
      "toc_visible": true,
      "authorship_tag": "ABX9TyPHrU2Q/vpB1R8DQeue5xwL",
      "include_colab_link": true
    },
    "kernelspec": {
      "name": "python3",
      "display_name": "Python 3"
    },
    "language_info": {
      "name": "python"
    }
  },
  "cells": [
    {
      "cell_type": "markdown",
      "metadata": {
        "id": "view-in-github",
        "colab_type": "text"
      },
      "source": [
        "<a href=\"https://colab.research.google.com/github/suwatoh/Python-learning/blob/main/112_%E6%96%87%E5%AD%97%E5%88%97%E3%81%AE%E6%9B%B8%E5%BC%8F%E6%8C%87%E5%AE%9A.ipynb\" target=\"_parent\"><img src=\"https://colab.research.google.com/assets/colab-badge.svg\" alt=\"Open In Colab\"/></a>"
      ]
    },
    {
      "cell_type": "markdown",
      "source": [
        "文字列の書式指定\n",
        "================"
      ],
      "metadata": {
        "id": "fg01vfBeNdNQ"
      }
    },
    {
      "cell_type": "markdown",
      "source": [
        "文字列リテラル\n",
        "--------------"
      ],
      "metadata": {
        "id": "41EKN4K0kBWE"
      }
    },
    {
      "cell_type": "markdown",
      "source": [
        "次の構文による**文字列リテラル**は、文字列を生成する。\n",
        "\n",
        "``` python\n",
        "[<stringprefix>]<引用符><文字列><引用符>\n",
        "```\n",
        "\n",
        "  * stringprefix （任意）  \n",
        "stringprefix と引用符の間に空白があってはならない。stringprefix は大文字小文字の区別がない。\n",
        "\n",
        "| stringprefix | 意味 |\n",
        "|:---|:---|\n",
        "| `r` | raw 文字列リテラル（raw-string） |\n",
        "| `f` | フォーマット済み文字列リテラル（f-string） |\n",
        "| `fr` または `rf` | フォーマット済みの raw 文字列リテラル |\n",
        "\n",
        "  * 引用符 （必須）  \n",
        "一重引用符・二重引用符・三重引用符（3 つの一重引用符か 3 つの二重引用符）が使える。三重引用符文字列は、複数行に分けることができる。\n",
        "  * 文字列 （必須）  \n",
        "raw 文字列リテラルでない限り、文字列中の `'\\'` と文字の組み合わせでエスケープシーケンスと解釈される:\n",
        "\n",
        "| ｴｽｹｰﾌﾟｼｰｹﾝｽ | 意味 |\n",
        "|:--:|:---|\n",
        "| `\\改行` | バックスラッシュと改行文字が無視される |\n",
        "| `\\\\` | バックスラッシュ (`\\`) |\n",
        "| `\\'` | 一重引用符 (`'`) |\n",
        "| `\\\"` | 二重引用符 (`\"`) |\n",
        "| `\\a` | ASCII 端末ベル (BEL) |\n",
        "| `\\b` | ASCII バックスペース (BS) |\n",
        "| `\\n` | 改行 (LF) |\n",
        "| `\\f` | ASCII フォームフィード (FF) |\n",
        "| `\\r` | ASCII 復帰 (CR) |\n",
        "| `\\t` | ASCII 水平タブ (TAB) |\n",
        "| `\\v` | ASCII 垂直タブ (VT) |\n",
        "| `\\ooo` | 8 進数値 ooo をコードポイントとする文字（ooo は最大で 3 桁） |\n",
        "| `\\xhh` | 2 桁の 16 進数値 hh をコードポイントとする文字 |\n",
        "| `\\uxxxx` | 4 桁の 16 進数値 xxxx をコードポイントとする文字 |\n",
        "| `\\Uxxxxxxxx` | 8 桁 の16 進数値 xxxxxxxx をコードポイントとする文字 |\n",
        "| `\\N{name}` | Unicode データベース中で name という名前の文字 |\n",
        "\n",
        "一重引用符文字列または二重引用符文字列は、単一の式の一部であり間に空白のみを含むなら、一つの文字列リテラルに暗黙に変換される。つまり、`(\"spam \" \"eggs\") == \"spam eggs\"` が成立する。このとき、一重引用符文字列と二重引用符文字列が混在していてもよい。`()` で囲むと改行を入れることもできる。"
      ],
      "metadata": {
        "id": "UxHQiTVzkCKd"
      }
    },
    {
      "cell_type": "code",
      "source": [
        "assert f'{\"文\" + \"字\" + \"列\"}' \"リテラル\" == \"文字列リテラル\"\n",
        "text = (\"Beautiful\"\n",
        "        \" is\"\n",
        "        \" better\"\n",
        "        \" than\"\n",
        "        \" ugly.\")\n",
        "assert text == \"Beautiful is better than ugly.\""
      ],
      "metadata": {
        "id": "YHUSmvlSmHn_"
      },
      "execution_count": null,
      "outputs": []
    },
    {
      "cell_type": "markdown",
      "source": [
        "文字列変換\n",
        "----------"
      ],
      "metadata": {
        "id": "iVog6Z7jsvHu"
      }
    },
    {
      "cell_type": "markdown",
      "source": [
        "組み込み関数 `str()` は文字列型のコンストラクタである。\n",
        "\n",
        "``` python\n",
        "str(object=b'', encoding='utf-8', errors='strict')\n",
        "```\n",
        "\n",
        "コンストラクタは、第 1 引数と、`encoding` か `errors` の少なくとも一方が与えられた場合、第 1 引数としてバイト列のみを受け取り、そのバイト列を文字コード形式 `encoding` に変換した文字列を返す。`encoding` のデフォルトは 'utf-8'。変換できない文字があった場合、`errors` が `'strict'`（デフォルト）なら `UnicodeError` 例外を送出し、`'ignore'` ならその文字を無視、`'replace'` なら `�`（U+FFFD）に変換する。"
      ],
      "metadata": {
        "id": "i-TPeqOlsv2H"
      }
    },
    {
      "cell_type": "code",
      "source": [
        "a = b'\\xe3\\x81\\x93\\xe3\\x82\\x93\\xe3\\x81\\xab\\xe3\\x81\\xa1\\xe3\\x81\\xaf'\n",
        "assert str(a, encoding='utf-8') == 'こんにちは'\n",
        "assert str(a, encoding='ascii', errors='ignore') == ''\n",
        "assert str(a, encoding='ascii', errors='replace') == '���������������'"
      ],
      "metadata": {
        "id": "CUpBTTEnwZQK"
      },
      "execution_count": 6,
      "outputs": []
    },
    {
      "cell_type": "markdown",
      "source": [
        "Python で指定できる文字コード形式は、公式ドキュメントの[標準エンコーディング](https://docs.python.org/ja/3/library/codecs.html#standard-encodings) と[テキストエンコーディング](https://docs.python.org/ja/3/library/codecs.html#text-encodings)を参照。以下が代表的。\n",
        "\n",
        "| 文字コード形式 | 別名 | 言語 | 注意事項 |\n",
        "|:---|:---|:---|:---|\n",
        "| `ascii` | `646`, `us-ascii` | 英語 | |\n",
        "| `utf_8` | `U8`, `UTF`, `utf8`, `cp65001` | 全ての言語 | BOM なし（Windows では UTF-8N と表記される） |\n",
        "| `utf_8_sig` | |  全ての言語 | BOM 付き（Excel が CSV 形式で使用） |\n",
        "| `latin_1` | `iso-8859-1`, `iso8859-1`,<br /> `8859`, `cp819`, `latin`,<br /> `latin1`, `L1` | 西ヨーロッパ言語 | |\n",
        "| `shift_jis` | `csshiftjis`, `shiftjis`,<br /> `sjis`, `s_jis` | 日本語 | |\n",
        "| `cp932` | `932`, `ms932`, `mskanji`,<br /> `ms-kanji` | 日本語 | Shift-JIS の拡張版で日本語版 Windows のデフォルトエンコーディング |\n",
        "| `punycode` | | 全ての言語 | 国際化ドメイン名（IDNA）で使用される Unicode 文字列を ASCII 互換のエンコーディングに変<br />換するための、Python 特有のエンコーディング方式（RFC 3492 の実装）。このエンコーディン<br />グは、インターネット上で非 ASCII 文字を含むドメイン名をサポートすることを目的としており、<br />特に多言語ウェブサイトのアドレスに利用される |\n",
        "\n",
        "文字コード形式では、大文字と小文字、アンダースコア `_` とハイフン `-` は区別されない。たとえば `'utf-8'` は `'utf_8'` と同じである。\n",
        "\n",
        "``` python\n",
        "str(object='')\n",
        "```\n",
        "\n",
        "`encoding` も `errors` も与えられない場合、 `str(object)` は表示用にきれいに整えられた `object` の文字列表現である `type(object).__str__(object)` を返す（型変換）。文字列オブジェクトに対しては文字列そのものを返し、バイト列オブジェクトに対してはリテラル表現の文字列を返す。`object` が `__str__()` メソッドを持たない場合、 `str()` は代わりに `repr(object)` の結果を返す。引数が指定されない場合は空文字列を返す。"
      ],
      "metadata": {
        "id": "IBUtlwxJ5BbC"
      }
    },
    {
      "cell_type": "code",
      "source": [
        "assert str(10) == '10'\n",
        "assert str(-1.23) == '-1.23'\n",
        "assert str(1.23+45j) == '(1.23+45j)'\n",
        "str(b'\\xe3\\x81\\x93\\xe3\\x82\\x93\\xe3\\x81\\xab\\xe3\\x81\\xa1\\xe3\\x81\\xaf')"
      ],
      "metadata": {
        "colab": {
          "base_uri": "https://localhost:8080/",
          "height": 35
        },
        "id": "MQW1MJx25CWl",
        "outputId": "9bcc7503-49d9-4f5c-c232-efafade4367f"
      },
      "execution_count": null,
      "outputs": [
        {
          "output_type": "execute_result",
          "data": {
            "text/plain": [
              "\"b'\\\\xe3\\\\x81\\\\x93\\\\xe3\\\\x82\\\\x93\\\\xe3\\\\x81\\\\xab\\\\xe3\\\\x81\\\\xa1\\\\xe3\\\\x81\\\\xaf'\""
            ],
            "application/vnd.google.colaboratory.intrinsic+json": {
              "type": "string"
            }
          },
          "metadata": {},
          "execution_count": 3
        }
      ]
    },
    {
      "cell_type": "markdown",
      "source": [
        "正の無限大を文字列に変換すると `'inf'` が得られる。負の無限大を文字列に変換すると `'-inf'` が得られる。"
      ],
      "metadata": {
        "id": "8BPfQpzHSh_Y"
      }
    },
    {
      "cell_type": "code",
      "source": [
        "import math\n",
        "assert str(float('Infinity')) == str(math.inf) == 'inf'\n",
        "assert str(-float('Infinity')) == str(-math.inf) == '-inf'"
      ],
      "metadata": {
        "id": "BflQyo7VSiw8"
      },
      "execution_count": 7,
      "outputs": []
    },
    {
      "cell_type": "markdown",
      "source": [
        "NaN を文字列に変換すると `'nan'` が得られる。"
      ],
      "metadata": {
        "id": "HBpPTn0nkPbC"
      }
    },
    {
      "cell_type": "code",
      "source": [
        "assert str(float('NaN')) == 'nan'"
      ],
      "metadata": {
        "id": "mRc4blQGkP-8"
      },
      "execution_count": 8,
      "outputs": []
    },
    {
      "cell_type": "markdown",
      "source": [
        "組み込み関数 `hex()` は、引数に整数を受け付け、整数を、先頭に `'0x'` が付いた小文字の 16 進文字列に変換する。"
      ],
      "metadata": {
        "id": "I8pGavqnTYZa"
      }
    },
    {
      "cell_type": "code",
      "source": [
        "hex(255)"
      ],
      "metadata": {
        "colab": {
          "base_uri": "https://localhost:8080/",
          "height": 35
        },
        "id": "4qMPyNnwTZGx",
        "outputId": "39ee5507-5881-4e89-d5c0-f7101962e3d9"
      },
      "execution_count": null,
      "outputs": [
        {
          "output_type": "execute_result",
          "data": {
            "text/plain": [
              "'0xff'"
            ],
            "application/vnd.google.colaboratory.intrinsic+json": {
              "type": "string"
            }
          },
          "metadata": {},
          "execution_count": 1
        }
      ]
    },
    {
      "cell_type": "markdown",
      "source": [
        "書式指定\n",
        "--------"
      ],
      "metadata": {
        "id": "15P_Yhq0Pf0i"
      }
    },
    {
      "cell_type": "markdown",
      "source": [
        "### 書式化に関するプロトコル ###"
      ],
      "metadata": {
        "id": "624iSChbWmRU"
      }
    },
    {
      "cell_type": "markdown",
      "source": [
        "f-string や `str.format()` メソッドを適用する文字列には、波括弧 `{}` で区切られた式である**置換フィールド**（replacement field）を含めることができる。その文字列は、実行時に次のように評価される。\n",
        "\n",
        "  * 置換フィールド以外は文字通り解釈される。\n",
        "  * 置換フィールドは共通の書式化に関するプロトコルに沿って評価された結果に置き換えられる。\n",
        "\n",
        "ただし、二重波括弧 `'{{'` および `'}}'` は単一の波括弧に置き換えられる。つまり、波括弧を文字として扱う必要がある場合は、二重にすることでエスケープすることができる。"
      ],
      "metadata": {
        "id": "E1JsO-yc2-0n"
      }
    },
    {
      "cell_type": "code",
      "source": [
        "x = \"hoge\"\n",
        "assert f\"{{{x}}}\" == \"{hoge}\""
      ],
      "metadata": {
        "id": "6oHE3v383BjL"
      },
      "execution_count": null,
      "outputs": []
    },
    {
      "cell_type": "markdown",
      "source": [
        "書式化に関するプロトコルは、置換フィールドのオブジェクトが次の特殊メソッドをサポートすることを要求する。\n",
        "\n",
        "  * `__format__(format_spec)`\n",
        "\n",
        "`__format__()` メソッドは、オプションを渡すことができる文字列フォーマットのための `__str__()` と考えることができる。組み込み関数 `format()` は、`format_spec` のデフォルトを空の文字列として、対象のオブジェクトの `__format__()` メソッドに全ての処理を丸投げする。実際、`format()` の実装を Python で書くと、次のようになる（PEP 3101 より）:\n",
        "\n",
        "``` python\n",
        "def format(value, format_spec=''):\n",
        "    return value.__format__(format_spec)\n",
        "```\n",
        "\n",
        "オブジェクトのクラスが `__format__()` を定義していない場合は、`object` から継承される `object.__format__()` メソッドが呼び出される。このメソッドの中からは、対象のオブジェクトの `__str__()` メソッドが呼び出される。`object.__format__()` の定義を Python で書くと、次のようになる（PEP 3101 より）:\n",
        "\n",
        "``` python\n",
        "class object:\n",
        "    def __format__(self, format_spec):\n",
        "        return format(str(self), format_spec)\n",
        "```\n",
        "\n",
        "オブジェクトのクラスが `__str__()` も定義していない場合は、`object` から継承される `object.__str__()` メソッドが呼び出される。`object.__str__()` は `__repr__()` メソッドを呼び出すだけである。\n",
        "\n",
        "置換フィールドでは、コロン `:` の後ろが `format_spec` の指定となる。置換フィールドに対して行われる操作は、実のところ、オブジェクト `value` と `format_spec` を引数として渡して `format(value, format_spec)` を呼び出しているだけである。\n",
        "\n",
        "書式化に関するプロトコルによって f-string や `str.format()` メソッドは任意の型（ユーザー定義型であっても）をサポートするようになっている。次のコードでは、`Country` クラスに `__format__()` メソッドを定義している。"
      ],
      "metadata": {
        "id": "qn-Jv_HRBmWN"
      }
    },
    {
      "cell_type": "code",
      "source": [
        "class Country:\n",
        "    def __init__(self, name, iso):\n",
        "        self.name = name\n",
        "        self.iso = iso\n",
        "\n",
        "    def __format__(self, format_spec):\n",
        "        if format_spec == \"short\":\n",
        "            return self.iso\n",
        "        return self.name\n",
        "\n",
        "\n",
        "if __name__ == \"__main__\":\n",
        "    jp = Country(\"Japan\", \"JPN\")\n",
        "    assert f\"{jp}\" == \"Japan\"\n",
        "    assert f\"{jp:short}\" == \"JPN\""
      ],
      "metadata": {
        "id": "FdnCU6MmYKzi"
      },
      "execution_count": null,
      "outputs": []
    },
    {
      "cell_type": "markdown",
      "source": [
        "### 置換フィールドの構文 ###"
      ],
      "metadata": {
        "id": "dqBN6g8Pgcmw"
      }
    },
    {
      "cell_type": "markdown",
      "source": [
        "f-string では、置換フィールド `{...}` の構文は次のようになる。\n",
        "\n",
        "``` python\n",
        "{<f_expression>[=][!<conversion>][:<format_spec>]}\n",
        "```\n",
        "\n",
        "  * f_expression （必須）  \n",
        "ラムダ式以外の式なら何でも書ける。\n",
        "  * `=` （任意）  \n",
        "f_expression の評価結果を `<f_expression>=<value>` の形式の文字列に変換する。\n",
        "  * conversion （任意）  \n",
        "指定されていた場合、f_expression の評価結果は `format()` 呼び出しの前に変換される。事実上、`__format__()` をオーバーライドする形となる。\n",
        "\n",
        "| conversion | 意味 | 備考 |\n",
        "|:--:|:---|:---|\n",
        "| `s` | `str()` を呼び出す | `=` を指定し、書式指定が存在する場合のデフォルト |\n",
        "| `r` | `repr() ` を呼び出す | `=` を指定し、書式指定が存在しない場合のデフォルト |\n",
        "| `a` | `ascii()` を呼び出す | |\n",
        "\n",
        "  * format_spec （任意）  \n",
        "書式指定。format_spec の形式・意味は、`type(value).__format__()` の実装に依存する。つまり、`value` の型ごとに format_spec の形式・意味は異なる。このため、形式上同じ format_spec であっても、型によって解釈が異なることがある。"
      ],
      "metadata": {
        "id": "ePe6k3y5PgLl"
      }
    },
    {
      "cell_type": "code",
      "source": [
        "text = \"python\"\n",
        "assert f\"{text=:0}\" == \"text=python\"  # デフォルトでは str(text) が呼び出される\n",
        "assert f\"{text=}\" == \"text='python'\"  # デフォルトでは repr(text) が呼び出される\n",
        "assert f\"{text=!r:0}\" == \"text='python'\""
      ],
      "metadata": {
        "id": "kBkGKPCJZOF2"
      },
      "execution_count": null,
      "outputs": []
    },
    {
      "cell_type": "markdown",
      "source": [
        "フォーマット済み文字列リテラルは、たとえ式を含んでいなかったとしても、docstring としては使えない。"
      ],
      "metadata": {
        "id": "86FM3De6CArK"
      }
    },
    {
      "cell_type": "code",
      "source": [
        "def foo():\n",
        "    f\"Not a docstring\"\n",
        "\n",
        "assert foo.__doc__ is None"
      ],
      "metadata": {
        "id": "SK7C5Ju1CH2V"
      },
      "execution_count": null,
      "outputs": []
    },
    {
      "cell_type": "markdown",
      "source": [
        "Python 3.12 からは、置換フィールドの構文が以下のように拡張される。\n",
        "\n",
        "  * f-string 全体の引用符と同じ文字を、式の中で使える。\n",
        "\n",
        "``` python\n",
        "f\"{f\"{f\"{\"f文字列ネストし放題！\"}\"}\"}\"\n",
        "```\n",
        "\n",
        "  * 式の中で `\\` や改行が使える。\n",
        "\n",
        "``` python\n",
        "f\"{'\\n'}\"\n",
        "f\"{\n",
        "1+1\n",
        "}\"\n",
        "```\n",
        "\n",
        "  * 式の中でコメントが使える。\n",
        "\n",
        "``` python\n",
        "f\"{\n",
        "1+1  # 1行目\n",
        "+2+2 # 2行目\n",
        "}\"\n",
        "```"
      ],
      "metadata": {
        "id": "MtOhC59H_r9V"
      }
    },
    {
      "cell_type": "markdown",
      "source": [
        "### 文字列に対する書式指定 ###"
      ],
      "metadata": {
        "id": "d9JfTNvXkCn2"
      }
    },
    {
      "cell_type": "markdown",
      "source": [
        "`str` 型オブジェクトの値に対する書式指定は次のようになる。\n",
        "\n",
        "``` python\n",
        "[[<fill>]<align>][0][<width>]\n",
        "```\n",
        "\n",
        "  * align （任意）  \n",
        "配置を指定する。配置により余った部分は fill で指定した文字で埋める。fill が指定されてなければ、空白文字で埋める。利用可能なスペースがデータを表示するために必要な幅と同じなら、align の指定は無効になる。\n",
        "\n",
        "| align | 意味 |\n",
        "|:--:|:---|\n",
        "| `<` | 左詰め（デフォルト） |\n",
        "| `>` | 右詰め |\n",
        "| `^` | 中央寄せ |\n",
        "\n",
        "  * `0` （任意）  \n",
        "配置により余った部分を `0` で埋める。\n",
        "  * width （任意）  \n",
        "非負の 10 進整数で利用可能なスペースを指定する。データを表示するために必要な幅より小さいときは無視される。\n",
        "\n",
        "`0` 埋めの場合は、fill で指定する方法と、width の前に `0` を付ける方法の二通りあることになる。"
      ],
      "metadata": {
        "id": "EA6SPsyWkDm4"
      }
    },
    {
      "cell_type": "code",
      "source": [
        "text = \"python\"\n",
        "assert f\"|{text:<10}|\" == \"|python    |\"\n",
        "assert f\"{text:0>10}\"  == f\"{text:>010}\"  == \"0000python\"\n",
        "assert f\"{text:-^10}\"  == \"--python--\""
      ],
      "metadata": {
        "id": "wsubvI1sl9Wm"
      },
      "execution_count": null,
      "outputs": []
    },
    {
      "cell_type": "markdown",
      "source": [
        "### 整数に対する書式指定 ###"
      ],
      "metadata": {
        "id": "j6FT_WBjnwgW"
      }
    },
    {
      "cell_type": "markdown",
      "source": [
        "`int` 型オブジェクトの値に対する書式指定は次のようになる。\n",
        "\n",
        "``` python\n",
        "[[<fill>]<align>][<sign>][#][0][<width>][<grouping_option>][<type>]\n",
        "```\n",
        "\n",
        "  * align （任意）  \n",
        "意味は一般の文字列の場合と同じ。デフォルトと `=` が違う。\n",
        "\n",
        "| align | 意味 |\n",
        "|:--:|:---|\n",
        "| `<` | 左詰め |\n",
        "| `>` | 右詰め（デフォルト） |\n",
        "| `^` | 中央寄せ |\n",
        "| `=` | 符号があれば、その後ろを埋める（`0=` は `0<width>` と同じ） |\n",
        "\n",
        "  * sign （任意）  \n",
        "符号の使用を強制する。実際に意味があるのは、正の数値に対して `+` を指定するときだけ。\n",
        "  * `#` （任意）  \n",
        "2 進法、8 進法、または 16 進法の出力が使用される場合、このオプションは出力される値にそれぞれ `0b`, `0o`, `0x`, `0X` 接頭辞を加える。\n",
        "  * `0` （任意）  \n",
        "align が与えられていないときに、`0<width>` は `0=` の align が与えられた場合と同じである。\n",
        "  * width （任意）  \n",
        "意味は一般の文字列の場合と同じ。符号も幅にカウントされる。\n",
        "  * grouping_option （任意）  \n",
        "千の位のセパレーター文字を付ける。`_` か `,` を指定する。\n",
        "  * type （任意）  \n",
        "整数の表現形式を指定する。\n",
        "\n",
        "| type | 意味 |\n",
        "|:--:|:---|\n",
        "| `d` | 10 進数（デフォルト） |\n",
        "| `b` | 2 進数 |\n",
        "| `o` | 8 進数 |\n",
        "| `x` | 16進数（10 進で 9 を超える数字には小文字が使われる） |\n",
        "| `X` | 16進数（10 進で 9 を超える数字には大文字が使われる） |\n",
        "| `c` | 数値に対応する Unicode 文字 |\n",
        "| `n` | 現在のロケールに従い、区切り文字を挿入することを除けば、`d` と同じ |\n",
        "| `None` | `d` と同じ |"
      ],
      "metadata": {
        "id": "HoOyjCY6nxT_"
      }
    },
    {
      "cell_type": "code",
      "source": [
        "value = 1000\n",
        "assert f\"{-value:*=10}\" == \"-*****1000\"\n",
        "assert f\"{value:+010}\" == \"+000001000\"\n",
        "assert f\"{value:,}\" == \"1,000\"\n",
        "assert f\"{value:b} {value:o} {value:x} {value:X}\" == \"1111101000 1750 3e8 3E8\"\n",
        "assert f\"{value:#b} {value:#o} {value:#x} {value:#X}\" == \"0b1111101000 0o1750 0x3e8 0X3E8\"\n",
        "assert f\"{value:c}\" == \"Ϩ\"  # コードポイント U+03E8 の文字"
      ],
      "metadata": {
        "id": "vQe0wFhavMZV"
      },
      "execution_count": null,
      "outputs": []
    },
    {
      "cell_type": "markdown",
      "source": [
        "### 浮動小数点数に対する書式指定 ###"
      ],
      "metadata": {
        "id": "WUSRs5lN951p"
      }
    },
    {
      "cell_type": "markdown",
      "source": [
        "`float` 型オブジェクトの値に対する書式指定は以下のようになる。\n",
        "\n",
        "``` python\n",
        "[[<fill>]<align>][<sign>][z][#][0][<width>][<grouping_option>][.<precision>][<type>]\n",
        "```\n",
        "\n",
        "  * align （任意）  \n",
        "意味は整数の場合と同じ。\n",
        "  * sign （任意）  \n",
        "意味は整数の場合と同じ。\n",
        "  * `z` （任意）[Python 3.11 で追加]  \n",
        "負の値を丸め処理したことによりゼロ値になったとき、符号 `-` を外す。たとえば、`-0.0` なら `0.0` とする。\n",
        "  * `#` （任意）  \n",
        "小数点文字の後に数字がない場合でも、このオプションは小数点文字を加える。\n",
        "  * `0` （任意）  \n",
        "意味は整数の場合と同じ。\n",
        "  * width （任意）  \n",
        "意味は整数の場合と同じ。符号と小数点文字も幅にカウントされる。\n",
        "  * grouping_option （任意）  \n",
        "意味は整数の場合と同じ。\n",
        "  * precision （任意）  \n",
        "固定小数点数表記をする場合に、小数点以下の桁数（精度）を非負の 10 進整数で指定する。デフォルトは小数点以下 6 桁になる。精度が不足するときは `round()` 関数と同じ丸め処理を行う。\n",
        "  * type （任意）  \n",
        "浮動小数点数の表現形式を指定する。\n",
        "\n",
        "| type | 意味 |\n",
        "|:--:|:---|\n",
        "| `e` | 指数表記。小文字の `e` を使う |\n",
        "| `E` | 指数表記。大文字の `E` を使う |\n",
        "| `f` | 固定小数点数表記 |\n",
        "| `F` | 固定小数点数表記。nan が NAN に、inf が INF に変換されることを除き `f` と同じ |\n",
        "| `g` | 汎用フォーマット。数値が大きくなったとき、`e` に切り替わる（デフォルト） |\n",
        "| `G` | 汎用フォーマット。数値が大きくなったとき、`E` に切り替わる。無限大と NaN の表示も大文字 |\n",
        "| `n` | 現在のロケールに合わせて、数値分割文字が挿入されることを除き、`g` と同じ |\n",
        "| `%` | 百分率表記 |\n",
        "| `None` | `g` と同じ |\n",
        "\n",
        "また、整数に対して、`n` と `None` を除く浮動小数点数の表現形式を指定すると、`float()` を使って浮動小数点数に変換したうえで書式変換される。"
      ],
      "metadata": {
        "id": "T11iQ1cr96Pc"
      }
    },
    {
      "cell_type": "code",
      "source": [
        "assert f\"{12.345:f}\" == \"12.345000\"\n",
        "assert f\"{-12.345:8.2f}\" == \"  -12.35\"\n",
        "assert f\"{12.345:e}\" == \"1.234500e+01\"\n",
        "assert f\"{0.0045:.2%}\" == \"0.45%\"\n",
        "assert f\"{100:f}\" == \"100.000000\""
      ],
      "metadata": {
        "id": "Z9AOR4Gd-REy"
      },
      "execution_count": null,
      "outputs": []
    },
    {
      "cell_type": "markdown",
      "source": [
        "### str.format() ###"
      ],
      "metadata": {
        "id": "IAuCVBpEB8vP"
      }
    },
    {
      "cell_type": "markdown",
      "source": [
        "`str.format(*args, **kwargs)` メソッドでは、置換フィールド内にオブジェクトを書くのではなく、引数にオブジェクトを指定する。置換フィールド内は全て文字列として扱われる。置換フィールドと引数の対応づけは、次の 3 通りある。\n",
        "\n",
        "  * 置換フィールド内に番号を書く場合: その番号と位置引数の順番で対応付けが行われる。\n",
        "  * 置換フィールド内にキーワードを書く場合: キーワード引数で対応付けが行われる。\n",
        "  * 置換フィールド内に対応付けを書かない場合: 置換フィールドが現れる順番と位置引数の順番で対応付けが行われる（0, 1, 2, ... の番号が自動的にその順で挿入される）。\n",
        "\n",
        "また、置換フィールド内で `!` の後ろに conversion を書くことができ、`:` の後ろに format_spec（書式指定）を書くことができる（`=` は書けない）。それぞれの役割は f-string と共通である。"
      ],
      "metadata": {
        "id": "ReJDt3cTB9t7"
      }
    },
    {
      "cell_type": "code",
      "source": [
        "assert \"{2}, {0:06}, {1:#o}\".format(64, 128, 256) == \"256, 000064, 0o200\"\n",
        "assert \"{a}, {b:06}, {c:#o}\".format(b=64, c=128, a=256) == \"256, 000064, 0o200\"\n",
        "assert \"{}, {:06}, {:#o}\".format(64, 128, 256) == \"64, 000128, 0o400\""
      ],
      "metadata": {
        "id": "4QrI03Bvb_YQ"
      },
      "execution_count": null,
      "outputs": []
    },
    {
      "cell_type": "markdown",
      "source": [
        "また、 `str.format()` の置換フィールドでは、番号やキーワードの後ろに添字表記 `[]` やドット `.` 属性形式を続けることができる。これらについては、それぞれ `__getitem__()` や `getattr()` を使用してインデックス参照や属性参照を行う。ただし\n",
        "\n",
        "  * リストの場合、 `[]` の中でコロン `:` を使ったスライス表記や負の整数を使ってはならない。\n",
        "  * 辞書の場合、`[]` の中でキーの指定は直接キー名を使うことに限られ、キー名を引用符（`'`, `\"`）で囲ってはならない。\n",
        "\n",
        "という制限があることに注意する。もっと自由にインデックス参照や属性参照を行いたい場合は、置換フィールド内に式が使える f-string を使う必要がある。"
      ],
      "metadata": {
        "id": "hJkKCtssWi9J"
      }
    },
    {
      "cell_type": "code",
      "source": [
        "li = [\"foo\", \"baa\", \"baz\"]\n",
        "dic = {\"Japan\": \"Tokyo\", \"USA\": \"Washington, D.C.\"}\n",
        "print(\"{0[0]} -- {1[Japan]} -- {0[1]} --- {1[USA]}\".format(li, dic))\n",
        "\n",
        "class Point:\n",
        "    def __init__(self, x, y):\n",
        "        self.x = x\n",
        "        self.y = y\n",
        "\n",
        "print(\"Point: ({p.x}, {p.y})\".format(p=Point(4, 3)))"
      ],
      "metadata": {
        "colab": {
          "base_uri": "https://localhost:8080/"
        },
        "id": "iCuNbQYFWj7I",
        "outputId": "bfcbdb01-eb73-4a64-e28d-d5e53ec9434d"
      },
      "execution_count": null,
      "outputs": [
        {
          "output_type": "stream",
          "name": "stdout",
          "text": [
            "foo -- Tokyo -- baa --- Washington, D.C.\n",
            "Point: (4, 3)\n"
          ]
        }
      ]
    },
    {
      "cell_type": "markdown",
      "source": [
        "f-string と `str.format()` メソッドのどちらが優れているとは一概には言えない。\n",
        "\n",
        "f-string のメリット:\n",
        "\n",
        "  * 直観的に文字列の書式化を規定できる。\n",
        "  * 置換フィールドと引数の対応付けに関するコーディングミスという問題を解決する。\n",
        "  * 置換フィールドに任意の式を書くことができる。\n",
        "\n",
        "f-string のデメリット:\n",
        "\n",
        "  * f-string は直ちにフォーマット済み文字列を組み立てるので、文字列の遅延評価ができない。\n",
        "  * 置換フィールドに長い式を書く場合、フォーマット済み文字列の可読性が下がる。ただし、長い式の代わりにヘルパー関数を書くという解決策はある。\n",
        "\n",
        "f-string のメリットとデメリットのそれぞれの否定が、ちょうど `str.format()` メソッドのデメリット・メリットになる。とくに、`str.format()` を使うと、文字列の遅延評価、すなわち、置換フィールドを含む文字列だけ用意して、必要になった段階でフォーマット化するということができる。実行時にフォーマット済み文字列がいつ必要になるかわからない場合は、文字列の遅延評価を行えばフォーマット化が無駄にならない。\n",
        "\n",
        "メリット・デメリットを考慮して、ケースバイケースで f-string と `str.format()` メソッドを使い分けることでよい。"
      ],
      "metadata": {
        "id": "aUVFGoylCqFN"
      }
    },
    {
      "cell_type": "markdown",
      "source": [
        "### % 形式の文字列書式化 ###"
      ],
      "metadata": {
        "id": "HQ2K_ZeEo_Md"
      }
    },
    {
      "cell_type": "markdown",
      "source": [
        "`%` 演算子を用いて文字列書式化が可能である。\n",
        "\n",
        "``` python\n",
        "format % values\n",
        "```\n",
        "\n",
        "このように書くと、文字列 `format` の中の % 変換指定が `values` の要素で置換される。これは、C の sprintf() 関数と同等で、書式化に関するプロトコルが導入される前の古い形式である。\n",
        "\n",
        "% 変換指定の構文は次のとおり。\n",
        "\n",
        "``` python\n",
        "%[(<mapkey>)][<flag>][<width>][.<precision>]<specifier>\n",
        "```\n",
        "\n",
        "マップキー（mapkey）は、丸括弧で囲った文字列からなる。マップキーを指定する場合、`values` は辞書でなければならない。マップキーを指定しない場合は、% 変換指定が 1 個なら `values` は単一のオブジェクトとし、% 変換指定が複数個なら `values` は同数の要素を持つタプルとしなければならない。\n",
        "\n",
        "オプションの変換フラグ（flag）を以下に示す:\n",
        "\n",
        "| Flag | 機能 |\n",
        "|:---|:---|\n",
        "| `'#'` | 一部の変換型に対して別の形式を使う |\n",
        "| `'0'` | 数値型に対してゼロによるパディングを行う |\n",
        "| `'-'` | 変換された値を左寄せにする（`'0'` フラグと同時に与えた場合、`'0'` フラグを上書きする） |\n",
        "| `' '` | 符号付きの変換で正の数の場合、前に 1 つスペースを空ける（そうでない場合は空文字になる） |\n",
        "| `'+'` | 変換の先頭に符号文字（`'+'` または `'-'`) を付ける（`' '` フラグを上書きする） |\n",
        "\n",
        "オプションの幅（width）を指定した場合は、その指定した幅と実際の文字列幅のうち大きいほうが採用される。\n",
        "\n",
        "オプションの精度（precision）は、ドット `'.'` とその後に続く精度（小数点以下の桁数）で与えられる。\n",
        "\n",
        "変換型（specifier）の指定は必須で、どのような型として置換するかを、以下の文字で指定する:\n",
        "\n",
        "| 変換 | 意味 |\n",
        "|:--:|:---|\n",
        "| `'d'` | 符号付き 10 進整数 |\n",
        "| `'i'` | 符号付き 10 進整数 |\n",
        "| `'o'` | 符号付き 8 進整数。変換フラグ `'#'` を使用すると接頭辞 `'0o'` が挿入される |\n",
        "| `'x'` | 符号付き 16 進整数（小文字）。変換フラグ `'#'` を使用すると接頭辞 `'0x'` が挿入される |\n",
        "| `'X'` | 符号付き 16 進整数（大文字）。変換フラグ `'#'` を使用すると接頭辞 `'0X'` が挿入される |\n",
        "| `'e'` | 指数表記の浮動小数点数（小文字） |\n",
        "| `'E'` | 指数表記の浮動小数点数（大文字） |\n",
        "| `'f'` または `'F'` | 10 進固定小数点数表記の浮動小数点数 |\n",
        "| `'c'` | 文字一文字（整数または一文字からなる文字列を受理する） |\n",
        "| `'r'` | 文字列（Python オブジェクトを `repr()` で変換する）。精度が N なら、出力は（小数点 `.` を含めて） N 文字に切り詰められる |\n",
        "| `'s'` | 文字列（Python オブジェクトを `str()` で変換する）。精度が N なら、出力は（小数点 `.` を含めて） N 文字に切り詰められる |\n",
        "| `'a'` | 文字列（Python オブジェクトを `ascii()` で変換する）。精度が N なら、出力は（小数点 `.` を含めて） N 文字に切り詰められる |\n",
        "\n",
        "また、`format` の中で文字 `'%'` を表したいときは、`'%%'` と書く。"
      ],
      "metadata": {
        "id": "vsGM-mb8pAII"
      }
    },
    {
      "cell_type": "code",
      "source": [
        "# マップキーなし\n",
        "assert \"%%%s%%\" % \"hoge\" == \"%hoge%\"\n",
        "assert \"|%-10f|%10f|% .3f|%x|%#x|\" % (1.23, 1.23, 1.23, 123, 123) == \"|1.230000  |  1.230000| 1.230|7b|0x7b|\"\n",
        "\n",
        "# マップキーあり\n",
        "assert \"%(month)02d月%(day)02d日%(one)s曜日\" % dict(month=10, day=8, one=\"日\") == \"10月08日日曜日\""
      ],
      "metadata": {
        "id": "k4jAEeHyKxle"
      },
      "execution_count": null,
      "outputs": []
    },
    {
      "cell_type": "markdown",
      "source": [
        "% 形式の文字列書式化では、オブジェクトごとに特別な書式化を定義できない。この形式は、使われる場面が減っているが、文字列の遅延評価が可能であること、および、`str.format()` メソッドより速いこと（※）から、ログ出力の書式化に使われている。\n",
        "\n",
        "※ [pythonのf-stringとformatとパーセント%の書式の速度の比較](https://qiita.com/phyblas/items/0a122fe4a18a18a83050)"
      ],
      "metadata": {
        "id": "ResuQMAkUI2F"
      }
    },
    {
      "cell_type": "markdown",
      "source": [
        "ロケール\n",
        "--------"
      ],
      "metadata": {
        "id": "V1RBRy5jWxQ1"
      }
    },
    {
      "cell_type": "markdown",
      "source": [
        "ロケールとは、国や地域の文化によって異なる言語や単位、表記などの総称である。Python では、標準ライブラリの `locale` モジュールによってロケールの機能を利用できる。`locale` は、POSIX 規格に従って、ロケールを用途別に分類し、以下のカテゴリー定数を定義している。\n",
        "\n",
        "| カテゴリー定数 | 意味 |\n",
        "|:--|:--|\n",
        "| `locale.LC_CTYPE` | 文字の分類（文字とはどんなもの？大文字小文字を区別しない？） |\n",
        "| `locale.LC_NUMERIC` | 数字の書式（小数区切り文字、千の区切り文字など） |\n",
        "| `locale.LC_TIME` | 日付と時刻の書式 |\n",
        "| `locale.LC_COLLATE` | 文字列の並び換え順 |\n",
        "| `locale.LC_MONETARY` | 通貨書式（通貨記号、千の区切り文字など） |\n",
        "\n",
        "ロケールの名前は、POSIX 規格のものが使える。POSIX 互換システムなら、コマンド `locale -a` で使用可能なロケールが出力される。多くのシステムでは、以下のものが使える（それぞれ `<言語>_<地域>.<文字コードセット>` という命名規則に従っている）。\n",
        "\n",
        "| ロケール | 説明 |\n",
        "|:--|:--|\n",
        "| `'de_DE.UTF-8'` | ドイツ語、ドイツ |\n",
        "| `'en_US.UTF-8'` | 英語、アメリカ |\n",
        "| `'es_ES.UTF-8'` | スペイン語、スペイン |\n",
        "| `'fr_FR.UTF-8'` | フランス語、フランス |\n",
        "| `'it_IT.UTF-8'` | イタリア語、イタリア |\n",
        "| `'ja_JP.UTF-8'` | 日本語、日本 |\n",
        "| `'ko_KR.UTF-8'` | 韓国語、韓国 |\n",
        "| `'pt_BR.UTF-8'` | ポルトガル語、ブラジル |\n",
        "| `'zh_CN.UTF-8'` | 中国語（簡体字）、中国 |\n",
        "| `'zh_TW.UTF-8'` | 中国語（繁体字）、台湾 |\n",
        "\n",
        "``` python\n",
        "locale.getlocale(category=LC_CTYPE)\n",
        "```\n",
        "\n",
        "この関数は、カテゴリー定数で指定する `category` に関して現在使用しているロケールを、言語コードと、エンコーディングを含むシーケンスで返す。言語コードおよびエンコーディングが決定できなかった場合は、`None` になる。\n",
        "\n",
        "``` python\n",
        "locale.setlocale(category, locale=None)\n",
        "```\n",
        "\n",
        "この関数は、カテゴリー定数で指定する `category` に関して使用するロケールを `locale` に変更する。`category` に `locale.LC_ALL` を指定すると、すべてのカテゴリーのロケールを変更する。`locale` に `'C'` を設定するとロケール機能を無効化する。`locale.setlocale()` はスレッドセーフでないのでマルチスレッドで使用する場合は注意すること。\n",
        "\n",
        "``` python\n",
        "import locale\n",
        "\n",
        "val = 12345.6\n",
        "assert locale.getlocale(locale.LC_NUMERIC) == (None, None)\n",
        "assert f\"{val:n}\" == \"12345.6\"  # デフォルトではロケール機能が無効\n",
        "\n",
        "locale.setlocale(locale.LC_ALL, \"en_US.UTF-8\")\n",
        "assert f\"{val:n}\" == \"12,345.6\"\n",
        "locale.setlocale(locale.LC_ALL, \"de_DE.UTF-8\")\n",
        "assert f\"{val:n}\" == \"12.345,6\"\n",
        "locale.setlocale(locale.LC_ALL, \"fr_FR.UTF-8\")\n",
        "print(f\"{val:n}\")  # 12 345,6 と出力（なぜか assert が通らない）\n",
        "```\n",
        "\n",
        "※ Google Colab のシステムで使えるロケールは `en_US.utf8` だけであるため、上のコードは実行時エラーとなる。"
      ],
      "metadata": {
        "id": "dQveqo_3W0Fm"
      }
    }
  ]
}